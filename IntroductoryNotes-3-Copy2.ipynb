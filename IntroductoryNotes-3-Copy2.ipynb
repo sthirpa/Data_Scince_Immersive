{
 "cells": [
  {
   "cell_type": "markdown",
   "id": "f9fb0cac-b082-4ece-82a5-762b85d99564",
   "metadata": {},
   "source": [
    "## Multilayer Multi-output Perceptrons"
   ]
  },
  {
   "cell_type": "markdown",
   "id": "7b4a0fa2-b187-4060-b849-f74450f5352c",
   "metadata": {},
   "source": [
    "* With this basic concept of perceptron, we intuitively conclude that multilayer perceptrons are just a stack of single layer perceptrons and hence the ANN."
   ]
  },
  {
   "cell_type": "markdown",
   "id": "5966858d-af6a-4210-b36e-0f9f15e9a404",
   "metadata": {},
   "source": [
    "<div>\n",
    "<img src=\"images/cv20.png\" width=\"600\"/> \n",
    "<div>\n",
    "    "
   ]
  },
  {
   "cell_type": "markdown",
   "id": "a0f45210-cbf0-4c6b-b409-81cdd99d366a",
   "metadata": {},
   "source": [
    "*Fig.9: source: [Multi-Layer Neural Networks with Sigmoid Function](https://towardsdatascience.com/multi-layer-neural-networks-with-sigmoid-function-deep-learning-for-rookies-2-bf464f09eb7f)*"
   ]
  },
  {
   "cell_type": "markdown",
   "id": "7e23130e-9882-4b28-8b74-0be3dfff7c73",
   "metadata": {},
   "source": [
    "- Now if we want to define a multi-output NN, we can simply add another perceptron to this above picture so instead of having one perceptron now we have two perceptrons and so on. Here is an example of a multi-output perceptron. Note that perceptron is stacked and there are two outputs ([source](https://vitalflux.com/how-do-we-build-deep-neural-network-using-perceptron/))."
   ]
  },
  {
   "cell_type": "markdown",
   "id": "d2233a30-9d6b-4e2f-bbe4-9446e356fd55",
   "metadata": {},
   "source": [
    "<div>\n",
    "<img src=\"images/cv21.png\" width=\"600\"/> \n",
    "<div>"
   ]
  },
  {
   "cell_type": "markdown",
   "id": "f7777f86-c1bc-41dd-958b-9df64b215d22",
   "metadata": {},
   "source": [
    "<div>\n",
    "<img src=\"images/cv22.png\" width=\"600\"/> \n",
    "<div>"
   ]
  },
  {
   "cell_type": "markdown",
   "id": "ced5f5f3-11f7-4b57-b177-f05702d1930f",
   "metadata": {},
   "source": [
    "*Fig.10 Source: [Data Analytics](https://vitalflux.com/how-do-we-build-deep-neural-network-using-perceptron/).*"
   ]
  },
  {
   "cell_type": "markdown",
   "id": "940339c1-b9ae-40ff-8210-11a7b1f655f3",
   "metadata": {},
   "source": [
    "* Activation and Loss Functions are discussed in the next subtopic."
   ]
  },
  {
   "cell_type": "markdown",
   "id": "1621bb66-e864-428b-b800-3fe100c6e353",
   "metadata": {},
   "source": [
    "# Feature Extraction"
   ]
  },
  {
   "cell_type": "markdown",
   "id": "bf9d7eda-894d-479b-b22e-f87e9e8e5589",
   "metadata": {},
   "source": [
    "The entire DL model works around the idea of extracting useful features that clearly define the objects in the image. Machine learning models are only as good as the features you provide. That means coming up with good features is an important job in building ML models."
   ]
  },
  {
   "cell_type": "markdown",
   "id": "5f9d64e3-cce4-4677-ba96-2b1fad232777",
   "metadata": {},
   "source": [
    ">`DEFINITION`: <br>\n",
    "A feature in machine learning is an individual measurable property or characteristic of an observed phenomenon. Features are the input that you feed to your ML model to output a prediction or classification. Suppose you want to predict the price of a house: your input features (properties) might include `square_foot`, `number_of_rooms`, `bathrooms`, and `so on`, and the model will output the predicted price based on the values of your features. Selecting good features that clearly distinguish your objects increases the predictive power of ML algorithms. <br> - In Computer Vision, a feature is a measurable piece of data in your image that is unique to that specific object. It may be a distinct color or a specific shape such as a line, edge, or image segment. A good feature is used to distinguish objects from one another (Mohammed)."
   ]
  },
  {
   "cell_type": "markdown",
   "id": "d5f1d8e3-3b24-45d1-bec2-c1654ee75ee8",
   "metadata": {},
   "source": [
    "**FEATURE GENERALIZABILITY**: A very important characteristic of a feature is repeatability.BUT, WHAT MAKES A GOOD FEATURE FOR OBJECT RECOGNITION? \n",
    "* Identifiable\n",
    "\n",
    "* Easily tracked and compared\n",
    "\n",
    "* Consistent across different scales, lighting conditions, and viewing angles\n",
    "\n",
    "* Still visible in noisy images or when only part of an object is visible"
   ]
  },
  {
   "cell_type": "markdown",
   "id": "419a5a37-c828-43b9-8b60-43250adb777b",
   "metadata": {},
   "source": [
    "## Extracting features\n",
    "I would like to start with an example from a book, `Deep Learning for Vision Systems`, by Mohammed. <br> \n",
    "Suppose we have a database of U.S presidents and we want to build a classification pipeline to tell us which president this image is of. So we feed this image that we can see on the left hand side (`fig.7` below) to our model and we wanted to output the probability that this image is of any of these particular presidents that this dataset consists of.\n",
    "In order to classify these images correctly though, our pipeline needs to be able to tell what is actually unique about a picture of Abraham Lincoln vs a picture of any other president like George Washington or Jefferson, or Obama."
   ]
  },
  {
   "cell_type": "markdown",
   "id": "a480caeb-db6f-45c6-85cf-408fa0273eab",
   "metadata": {},
   "source": [
    "* Remember, **Features make pictures unique**. <br>\n",
    "Let's identify high level key features in the human, auto, and house image categories: \n"
   ]
  },
  {
   "cell_type": "markdown",
   "id": "74007acb-9600-4814-aa2a-ece14f513687",
   "metadata": {},
   "source": [
    "\n",
    "<div>\n",
    "<img src=\"images/cv6.png\" width=\"600\"/>\n",
    "</div>"
   ]
  },
  {
   "cell_type": "markdown",
   "id": "e640ad0f-3a51-46b8-ab48-65e459ad0ac5",
   "metadata": {},
   "source": [
    "*Fig.12: Source from [Convolutional Neural Networks](http://introtodeeplearning.com)*"
   ]
  },
  {
   "cell_type": "markdown",
   "id": "97b3d29b-e308-41ff-b16a-53a76e31ad88",
   "metadata": {},
   "source": [
    "<div>\n",
    "<img src=\"images/cv5.png\" width=\"600\"/>\n",
    "</div>"
   ]
  },
  {
   "cell_type": "markdown",
   "id": "9c83341c-53ee-4a3d-981e-e1793f9c52d8",
   "metadata": {},
   "source": [
    "*Fig.11: Source from [Convolutional Neural Networks](http://introtodeeplearning.com)*"
   ]
  },
  {
   "cell_type": "markdown",
   "id": "5686407b-bc14-4fca-b079-6b3ede0dbbd1",
   "metadata": {},
   "source": [
    "- This way computers classify images by assigning the corresponding probabilities based on features of pictures."
   ]
  },
  {
   "cell_type": "code",
   "execution_count": null,
   "id": "3176043b-1129-485d-9ebd-4a1852c64ffd",
   "metadata": {},
   "outputs": [],
   "source": []
  }
 ],
 "metadata": {
  "kernelspec": {
   "display_name": "Python 3",
   "language": "python",
   "name": "python3"
  },
  "language_info": {
   "codemirror_mode": {
    "name": "ipython",
    "version": 3
   },
   "file_extension": ".py",
   "mimetype": "text/x-python",
   "name": "python",
   "nbconvert_exporter": "python",
   "pygments_lexer": "ipython3",
   "version": "3.8.8"
  }
 },
 "nbformat": 4,
 "nbformat_minor": 5
}
