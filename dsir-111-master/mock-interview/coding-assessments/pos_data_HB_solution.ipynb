{
 "cells": [
  {
   "cell_type": "markdown",
   "id": "c0fc4300-9d6e-4811-a622-7ebafb735dba",
   "metadata": {},
   "source": [
    "# Point of Sale"
   ]
  },
  {
   "cell_type": "code",
   "execution_count": null,
   "id": "713c121a-e063-4538-9a1a-893cf74dcc9d",
   "metadata": {},
   "outputs": [],
   "source": [
    "'''\n",
    "Level 1 - Programming\n",
    "You are a data scientist for a large retail organization. Currently your task involves mining for insights \n",
    "from Point-of_Sale systems which track item sales. \n",
    "\n",
    "You have data stored as follos in JSON files (for simplicity think that you have one file 'pos_data.json')\n",
    "\n",
    "Data Sample:\n",
    "[{'item': 'Stella Extra Strong', 'price': '$23.45'},\n",
    "{'item': 'Fosters Mild', 'price': '$12.99'},\n",
    "{'item': 'Heineken', 'price': '$29.45'},\n",
    "{'item': 'Stella Extra Strong', 'price': '$23.45'},\n",
    "{'item': 'Stella Extra Strong', 'price': '$23.45'},\n",
    "{'item': 'Fosters Mild', 'price': '$12.99'}]\n",
    "\n",
    "Your tasks are as follows.\n",
    "\n",
    "1. Write code to read in the JSON file to an appropriate python data structure (to solve Q2)\n",
    "\n",
    "2. Use base python libraries (not pandas) to get the following insights\n",
    " -> Item name with top total sales\n",
    " -> Item name with least total sales\n",
    " -> Item name with the most units sold\n",
    "Base Python libraries only (no 3rd party libraries e.g: numpy, pandas)\n",
    "'''"
   ]
  },
  {
   "cell_type": "markdown",
   "id": "49dd96cc-8285-4d1e-b31a-0b724442c831",
   "metadata": {},
   "source": [
    "# Task 1"
   ]
  },
  {
   "cell_type": "code",
   "execution_count": 1,
   "id": "e37217eb-e0d2-4524-bdc7-88eaf849098c",
   "metadata": {},
   "outputs": [
    {
     "ename": "FileNotFoundError",
     "evalue": "[Errno 2] No such file or directory: 'pos_data.json'",
     "output_type": "error",
     "traceback": [
      "\u001b[0;31m---------------------------------------------------------------------------\u001b[0m",
      "\u001b[0;31mFileNotFoundError\u001b[0m                         Traceback (most recent call last)",
      "\u001b[0;32m/var/folders/tk/_pf80lmx2y3d3h54nxcs8_j40000gn/T/ipykernel_8979/2033057379.py\u001b[0m in \u001b[0;36m<module>\u001b[0;34m\u001b[0m\n\u001b[1;32m      3\u001b[0m \u001b[0;32mimport\u001b[0m \u001b[0mjson\u001b[0m\u001b[0;34m\u001b[0m\u001b[0;34m\u001b[0m\u001b[0m\n\u001b[1;32m      4\u001b[0m \u001b[0;34m\u001b[0m\u001b[0m\n\u001b[0;32m----> 5\u001b[0;31m \u001b[0mfile\u001b[0m \u001b[0;34m=\u001b[0m \u001b[0mopen\u001b[0m\u001b[0;34m(\u001b[0m\u001b[0;34m'pos_data.json'\u001b[0m\u001b[0;34m)\u001b[0m\u001b[0;34m\u001b[0m\u001b[0;34m\u001b[0m\u001b[0m\n\u001b[0m\u001b[1;32m      6\u001b[0m \u001b[0;34m\u001b[0m\u001b[0m\n\u001b[1;32m      7\u001b[0m \u001b[0mdata\u001b[0m \u001b[0;34m=\u001b[0m \u001b[0mjson\u001b[0m\u001b[0;34m.\u001b[0m\u001b[0mload\u001b[0m\u001b[0;34m(\u001b[0m\u001b[0mfile\u001b[0m\u001b[0;34m)\u001b[0m\u001b[0;34m\u001b[0m\u001b[0;34m\u001b[0m\u001b[0m\n",
      "\u001b[0;31mFileNotFoundError\u001b[0m: [Errno 2] No such file or directory: 'pos_data.json'"
     ]
    }
   ],
   "source": [
    "# write some code to read in the .json file\n",
    "\n",
    "import json\n",
    "\n",
    "file = open('pos_data.json')\n",
    "\n",
    "data = json.load(file)\n",
    "\n",
    "file.close()"
   ]
  },
  {
   "cell_type": "code",
   "execution_count": 2,
   "id": "130af203-38e7-4975-9e96-3b2193d652cc",
   "metadata": {},
   "outputs": [
    {
     "ename": "FileNotFoundError",
     "evalue": "[Errno 2] No such file or directory: 'pos_data.json'",
     "output_type": "error",
     "traceback": [
      "\u001b[0;31m---------------------------------------------------------------------------\u001b[0m",
      "\u001b[0;31mFileNotFoundError\u001b[0m                         Traceback (most recent call last)",
      "\u001b[0;32m/var/folders/tk/_pf80lmx2y3d3h54nxcs8_j40000gn/T/ipykernel_8979/3995454135.py\u001b[0m in \u001b[0;36m<module>\u001b[0;34m\u001b[0m\n\u001b[1;32m      1\u001b[0m \u001b[0;32mimport\u001b[0m \u001b[0mjson\u001b[0m\u001b[0;34m\u001b[0m\u001b[0;34m\u001b[0m\u001b[0m\n\u001b[1;32m      2\u001b[0m \u001b[0;34m\u001b[0m\u001b[0m\n\u001b[0;32m----> 3\u001b[0;31m \u001b[0;32mwith\u001b[0m \u001b[0mopen\u001b[0m\u001b[0;34m(\u001b[0m\u001b[0;34m'pos_data.json'\u001b[0m\u001b[0;34m)\u001b[0m \u001b[0;32mas\u001b[0m \u001b[0mfile\u001b[0m\u001b[0;34m:\u001b[0m\u001b[0;34m\u001b[0m\u001b[0;34m\u001b[0m\u001b[0m\n\u001b[0m\u001b[1;32m      4\u001b[0m     \u001b[0mdata\u001b[0m \u001b[0;34m=\u001b[0m \u001b[0mjson\u001b[0m\u001b[0;34m.\u001b[0m\u001b[0mload\u001b[0m\u001b[0;34m(\u001b[0m\u001b[0mfile\u001b[0m\u001b[0;34m)\u001b[0m\u001b[0;34m\u001b[0m\u001b[0;34m\u001b[0m\u001b[0m\n",
      "\u001b[0;31mFileNotFoundError\u001b[0m: [Errno 2] No such file or directory: 'pos_data.json'"
     ]
    }
   ],
   "source": [
    "import json\n",
    "\n",
    "with open('pos_data.json') as file:\n",
    "    data = json.load(file)"
   ]
  },
  {
   "cell_type": "markdown",
   "id": "ebe0caae-7635-4e9d-a2c0-5b459ed5a7c3",
   "metadata": {},
   "source": [
    "# Task 2"
   ]
  },
  {
   "cell_type": "code",
   "execution_count": 3,
   "id": "7b52bf6c-9b86-42a0-bb47-741ae44b116d",
   "metadata": {},
   "outputs": [],
   "source": [
    "data = [{'item': 'Stella Extra Strong', 'price': '$23.45'},\n",
    "{'item': 'Fosters Mild', 'price': '$12.99'},\n",
    "{'item': 'Heineken', 'price': '$29.45'},\n",
    "{'item': 'Stella Extra Strong', 'price': '$23.45'},\n",
    "{'item': 'Stella Extra Strong', 'price': '$23.45'},\n",
    "{'item': 'Fosters Mild', 'price': '$12.99'}]"
   ]
  },
  {
   "cell_type": "code",
   "execution_count": 4,
   "id": "422bc824-3eaf-47ad-b94c-bbe1aa382e6e",
   "metadata": {},
   "outputs": [
    {
     "name": "stdout",
     "output_type": "stream",
     "text": [
      "['Stella Extra Strong', 'Fosters Mild', 'Heineken', 'Stella Extra Strong', 'Stella Extra Strong', 'Fosters Mild']\n",
      "['$23.45', '$12.99', '$29.45', '$23.45', '$23.45', '$12.99']\n"
     ]
    }
   ],
   "source": [
    "item_names = []\n",
    "item_sales = []\n",
    "\n",
    "for i in data:\n",
    "    item_names.append(i['item'])\n",
    "    item_sales.append(i['price'])\n",
    "    \n",
    "print(item_names)\n",
    "print(item_sales)"
   ]
  },
  {
   "cell_type": "code",
   "execution_count": 5,
   "id": "d4702b63-9df6-4049-8527-79c23ae91ba2",
   "metadata": {},
   "outputs": [
    {
     "data": {
      "text/plain": [
       "[23.45, 12.99, 29.45, 23.45, 23.45, 12.99]"
      ]
     },
     "execution_count": 5,
     "metadata": {},
     "output_type": "execute_result"
    }
   ],
   "source": [
    "item_sales = [float(i.replace('$', '')) for i in item_sales]\n",
    "\n",
    "item_sales"
   ]
  },
  {
   "cell_type": "code",
   "execution_count": 6,
   "id": "9ebcabf2-ab83-456b-90ee-5a158bc1a7e8",
   "metadata": {},
   "outputs": [
    {
     "name": "stdout",
     "output_type": "stream",
     "text": [
      "['Stella Extra Strong', 'Fosters Mild', 'Heineken', 'Stella Extra Strong', 'Stella Extra Strong', 'Fosters Mild']\n",
      "[23.45, 12.99, 29.45, 23.45, 23.45, 12.99]\n"
     ]
    }
   ],
   "source": [
    "print(item_names)\n",
    "print(item_sales)"
   ]
  },
  {
   "cell_type": "code",
   "execution_count": 7,
   "id": "c3344cd9-a447-4b0d-be5b-4997720fe8cb",
   "metadata": {},
   "outputs": [
    {
     "data": {
      "text/plain": [
       "[('Stella Extra Strong', 23.45),\n",
       " ('Fosters Mild', 12.99),\n",
       " ('Heineken', 29.45),\n",
       " ('Stella Extra Strong', 23.45),\n",
       " ('Stella Extra Strong', 23.45),\n",
       " ('Fosters Mild', 12.99)]"
      ]
     },
     "execution_count": 7,
     "metadata": {},
     "output_type": "execute_result"
    }
   ],
   "source": [
    "total = list(zip(item_names, item_sales))\n",
    "\n",
    "total"
   ]
  },
  {
   "cell_type": "code",
   "execution_count": 8,
   "id": "d2a9bd1c-d99e-4f39-9359-1261a84d8ce1",
   "metadata": {},
   "outputs": [
    {
     "data": {
      "text/plain": [
       "{'Fosters Mild', 'Heineken', 'Stella Extra Strong'}"
      ]
     },
     "execution_count": 8,
     "metadata": {},
     "output_type": "execute_result"
    }
   ],
   "source": [
    "items_set = set(item_names)\n",
    "\n",
    "items_set"
   ]
  },
  {
   "cell_type": "code",
   "execution_count": 9,
   "id": "90957436-d912-4b86-afc2-8fed452e5876",
   "metadata": {},
   "outputs": [],
   "source": [
    "items_dict = {}\n",
    "\n",
    "for i in items_set:\n",
    "    items_dict[i] = 0"
   ]
  },
  {
   "cell_type": "code",
   "execution_count": 10,
   "id": "89ee23d2-c5bb-4db1-bb04-7a1624a0eea3",
   "metadata": {},
   "outputs": [
    {
     "data": {
      "text/plain": [
       "{'Stella Extra Strong': 0, 'Heineken': 0, 'Fosters Mild': 0}"
      ]
     },
     "execution_count": 10,
     "metadata": {},
     "output_type": "execute_result"
    }
   ],
   "source": [
    "items_dict"
   ]
  },
  {
   "cell_type": "code",
   "execution_count": 11,
   "id": "59b956c9-6522-4751-ab63-ad6deae5a2c9",
   "metadata": {},
   "outputs": [
    {
     "data": {
      "text/plain": [
       "{'Stella Extra Strong': 70.35, 'Heineken': 29.45, 'Fosters Mild': 25.98}"
      ]
     },
     "execution_count": 11,
     "metadata": {},
     "output_type": "execute_result"
    }
   ],
   "source": [
    "for i in total:\n",
    "    if i[0] in items_dict.keys():\n",
    "        items_dict[i[0]] += i[1]\n",
    "        \n",
    "items_dict"
   ]
  },
  {
   "cell_type": "code",
   "execution_count": 12,
   "id": "4e4358ef-baf5-41bd-b2e7-b82d5e3a64d3",
   "metadata": {},
   "outputs": [
    {
     "name": "stdout",
     "output_type": "stream",
     "text": [
      "The item with the least total sales was: Fosters Mild\n",
      "The item with the most total sales was: Stella Extra Strong\n"
     ]
    }
   ],
   "source": [
    "print(f'The item with the least total sales was: {min(items_dict, key = items_dict.get)}')\n",
    "\n",
    "print(f'The item with the most total sales was: {max(items_dict, key = items_dict.get)}')"
   ]
  },
  {
   "cell_type": "code",
   "execution_count": 13,
   "id": "77c3d153-1b63-4a5e-a285-7686cc2a2baf",
   "metadata": {},
   "outputs": [
    {
     "data": {
      "text/plain": [
       "[{'item': 'Stella Extra Strong', 'price': '$23.45'},\n",
       " {'item': 'Fosters Mild', 'price': '$12.99'},\n",
       " {'item': 'Heineken', 'price': '$29.45'},\n",
       " {'item': 'Stella Extra Strong', 'price': '$23.45'},\n",
       " {'item': 'Stella Extra Strong', 'price': '$23.45'},\n",
       " {'item': 'Fosters Mild', 'price': '$12.99'}]"
      ]
     },
     "execution_count": 13,
     "metadata": {},
     "output_type": "execute_result"
    }
   ],
   "source": [
    "# part 2.3 - items with most units sold\n",
    "\n",
    "data"
   ]
  },
  {
   "cell_type": "code",
   "execution_count": 14,
   "id": "084fbc7c-b48f-4298-b05d-d91e3371ba9e",
   "metadata": {},
   "outputs": [
    {
     "data": {
      "text/plain": [
       "['Stella Extra Strong',\n",
       " 'Fosters Mild',\n",
       " 'Heineken',\n",
       " 'Stella Extra Strong',\n",
       " 'Stella Extra Strong',\n",
       " 'Fosters Mild']"
      ]
     },
     "execution_count": 14,
     "metadata": {},
     "output_type": "execute_result"
    }
   ],
   "source": [
    "from collections import Counter\n",
    "\n",
    "most_common = []\n",
    "\n",
    "for item in data:\n",
    "    most_common.append(item['item'])\n",
    "    \n",
    "most_common"
   ]
  },
  {
   "cell_type": "code",
   "execution_count": 15,
   "id": "23666a4b-579b-4505-8794-ff444a603e91",
   "metadata": {},
   "outputs": [
    {
     "data": {
      "text/plain": [
       "Counter({'Stella Extra Strong': 3, 'Fosters Mild': 2, 'Heineken': 1})"
      ]
     },
     "execution_count": 15,
     "metadata": {},
     "output_type": "execute_result"
    }
   ],
   "source": [
    "most_sales = Counter(most_common)\n",
    "\n",
    "most_sales"
   ]
  },
  {
   "cell_type": "code",
   "execution_count": 16,
   "id": "88fb1eb9-ff3c-426a-8c38-d0f9da529d31",
   "metadata": {},
   "outputs": [
    {
     "data": {
      "text/plain": [
       "[('Stella Extra Strong', 3)]"
      ]
     },
     "execution_count": 16,
     "metadata": {},
     "output_type": "execute_result"
    }
   ],
   "source": [
    "most_sales.most_common(1)"
   ]
  },
  {
   "cell_type": "code",
   "execution_count": null,
   "id": "58b8c44a-337c-4635-bb6c-90525fd15cff",
   "metadata": {},
   "outputs": [],
   "source": []
  },
  {
   "cell_type": "code",
   "execution_count": null,
   "id": "c9d8d695-7b0c-4f63-8317-27dbb663417a",
   "metadata": {},
   "outputs": [],
   "source": []
  },
  {
   "cell_type": "code",
   "execution_count": null,
   "id": "71a68c28-9e90-4529-9095-0e02272168d2",
   "metadata": {},
   "outputs": [],
   "source": []
  },
  {
   "cell_type": "code",
   "execution_count": null,
   "id": "e00e50ae-f833-40e1-93cb-15ef3c4530c2",
   "metadata": {},
   "outputs": [],
   "source": []
  },
  {
   "cell_type": "code",
   "execution_count": null,
   "id": "fae609e6-3ab4-4dcc-a5ad-78fe319935ef",
   "metadata": {},
   "outputs": [],
   "source": []
  },
  {
   "cell_type": "code",
   "execution_count": null,
   "id": "76007287-c409-4957-90ed-7c9b9897cc55",
   "metadata": {},
   "outputs": [],
   "source": []
  },
  {
   "cell_type": "code",
   "execution_count": null,
   "id": "9b6eaa54-ce06-4ff8-94ce-13162c490220",
   "metadata": {},
   "outputs": [],
   "source": []
  },
  {
   "cell_type": "code",
   "execution_count": null,
   "id": "2ee82289-0cf0-4d2e-8cea-f784e2d1d2e2",
   "metadata": {},
   "outputs": [],
   "source": []
  },
  {
   "cell_type": "markdown",
   "id": "ee035a91-40d5-488d-a91c-35d0fc7fb4df",
   "metadata": {},
   "source": [
    "## Solution"
   ]
  },
  {
   "cell_type": "code",
   "execution_count": 49,
   "id": "c4cb43c8-80e1-4dc7-9e99-be04f03e187d",
   "metadata": {},
   "outputs": [
    {
     "name": "stdout",
     "output_type": "stream",
     "text": [
      "['Stella Extra Strong', 'Fosters Mild', 'Heineken', 'Stella Extra Strong', 'Stella Extra Strong', 'Fosters Mild']\n",
      "['$23.45', '$12.99', '$29.45', '$23.45', '$23.45', '$12.99']\n"
     ]
    }
   ],
   "source": [
    "# Parts 2.1 and 2.2, get item name of top/least total sales\n",
    "\n",
    "item_names = []\n",
    "item_sales = []\n",
    "\n",
    "for i in data:\n",
    "    item_names.append(i['item'])\n",
    "    item_sales.append(i['price'])\n",
    "    \n",
    "print(item_names)\n",
    "print(item_sales)"
   ]
  },
  {
   "cell_type": "code",
   "execution_count": 50,
   "id": "2fb06e4b-1e6a-45e4-b2f5-5ad06a7b5ceb",
   "metadata": {},
   "outputs": [
    {
     "data": {
      "text/plain": [
       "[23.45, 12.99, 29.45, 23.45, 23.45, 12.99]"
      ]
     },
     "execution_count": 50,
     "metadata": {},
     "output_type": "execute_result"
    }
   ],
   "source": [
    "item_sales = [float(i.replace('$', '')) for i in item_sales]\n",
    "\n",
    "item_sales"
   ]
  },
  {
   "cell_type": "code",
   "execution_count": 51,
   "id": "6d62276a-fe94-439a-9b23-88b527c22b7a",
   "metadata": {},
   "outputs": [
    {
     "name": "stdout",
     "output_type": "stream",
     "text": [
      "['Stella Extra Strong', 'Fosters Mild', 'Heineken', 'Stella Extra Strong', 'Stella Extra Strong', 'Fosters Mild']\n",
      "[23.45, 12.99, 29.45, 23.45, 23.45, 12.99]\n"
     ]
    }
   ],
   "source": [
    "print(item_names)\n",
    "print(item_sales)"
   ]
  },
  {
   "cell_type": "code",
   "execution_count": 40,
   "id": "7677622b-5453-443c-9208-7ccdb3976ae6",
   "metadata": {},
   "outputs": [
    {
     "data": {
      "text/plain": [
       "[('Stella Extra Strong', 23.45),\n",
       " ('Fosters Mild', 12.99),\n",
       " ('Heineken', 29.45),\n",
       " ('Stella Extra Strong', 23.45),\n",
       " ('Stella Extra Strong', 23.45),\n",
       " ('Fosters Mild', 12.99)]"
      ]
     },
     "execution_count": 40,
     "metadata": {},
     "output_type": "execute_result"
    }
   ],
   "source": [
    "total = list(zip(item_names, item_sales))\n",
    "\n",
    "total"
   ]
  },
  {
   "cell_type": "code",
   "execution_count": 44,
   "id": "608acf97-b6c1-4c1c-8b95-932af85fa666",
   "metadata": {},
   "outputs": [
    {
     "data": {
      "text/plain": [
       "{'Fosters Mild', 'Heineken', 'Stella Extra Strong'}"
      ]
     },
     "execution_count": 44,
     "metadata": {},
     "output_type": "execute_result"
    }
   ],
   "source": [
    "items_set = set(item_names)\n",
    "\n",
    "items_set"
   ]
  },
  {
   "cell_type": "code",
   "execution_count": 45,
   "id": "ac65df02-f449-4195-b4de-9d6e6b67dd2a",
   "metadata": {},
   "outputs": [
    {
     "data": {
      "text/plain": [
       "{'Heineken': 0, 'Fosters Mild': 0, 'Stella Extra Strong': 0}"
      ]
     },
     "execution_count": 45,
     "metadata": {},
     "output_type": "execute_result"
    }
   ],
   "source": [
    "items_dict = {}\n",
    "\n",
    "for i in items_set:\n",
    "    items_dict[i] = 0\n",
    "    \n",
    "items_dict"
   ]
  },
  {
   "cell_type": "code",
   "execution_count": 46,
   "id": "03d222b6-186d-44e4-b518-423c3015ad59",
   "metadata": {},
   "outputs": [],
   "source": [
    "for i in total:\n",
    "    if i[0] in items_dict.keys():\n",
    "        items_dict[i[0]] += i[1]"
   ]
  },
  {
   "cell_type": "code",
   "execution_count": 47,
   "id": "e18b5ba8-6bbe-423a-a37c-261cb244a0c5",
   "metadata": {},
   "outputs": [
    {
     "data": {
      "text/plain": [
       "{'Heineken': 29.45, 'Fosters Mild': 25.98, 'Stella Extra Strong': 70.35}"
      ]
     },
     "execution_count": 47,
     "metadata": {},
     "output_type": "execute_result"
    }
   ],
   "source": [
    "items_dict"
   ]
  },
  {
   "cell_type": "code",
   "execution_count": 48,
   "id": "131c3f1f-df5f-424a-8399-093aa3e72fd0",
   "metadata": {},
   "outputs": [
    {
     "name": "stdout",
     "output_type": "stream",
     "text": [
      "The item with least total sales was: Fosters Mild\n",
      "The item with least total sales was: Stella Extra Strong\n"
     ]
    }
   ],
   "source": [
    "print(f\"The item with least total sales was: {min(items_dict, key=items_dict.get)}\")\n",
    "\n",
    "print(f\"The item with least total sales was: {max(items_dict, key=items_dict.get)}\")"
   ]
  },
  {
   "cell_type": "code",
   "execution_count": null,
   "id": "6d0200da-8382-40ff-b26c-a7451f746824",
   "metadata": {},
   "outputs": [],
   "source": [
    "print('This is part 2.3')\n",
    "\n",
    "from collections import Counter\n",
    "\n",
    "most_common = []\n",
    "\n",
    "for item in data:\n",
    "\tmost_common.append(item['item'])\n",
    "\n",
    "most_sales = Counter(most_common)\n",
    "\n",
    "for items, count in most_sales.most_common():\n",
    "\tprint(items, count)\n",
    "    \n",
    "print(most_sales.most_common(1))"
   ]
  },
  {
   "cell_type": "markdown",
   "id": "7da1260c-5de8-4900-8e6e-542fb84f5982",
   "metadata": {},
   "source": [
    "---"
   ]
  },
  {
   "cell_type": "code",
   "execution_count": 52,
   "id": "258e2997-2ae3-46c9-976a-4101f0c002b8",
   "metadata": {},
   "outputs": [
    {
     "data": {
      "text/plain": [
       "[{'item': 'Stella Extra Strong', 'price': '$23.45'},\n",
       " {'item': 'Fosters Mild', 'price': '$12.99'},\n",
       " {'item': 'Heineken', 'price': '$29.45'},\n",
       " {'item': 'Stella Extra Strong', 'price': '$23.45'},\n",
       " {'item': 'Stella Extra Strong', 'price': '$23.45'},\n",
       " {'item': 'Fosters Mild', 'price': '$12.99'}]"
      ]
     },
     "execution_count": 52,
     "metadata": {},
     "output_type": "execute_result"
    }
   ],
   "source": [
    "data"
   ]
  },
  {
   "cell_type": "code",
   "execution_count": null,
   "id": "922cbff4-410a-4a91-be28-465427632b6a",
   "metadata": {},
   "outputs": [],
   "source": []
  },
  {
   "cell_type": "code",
   "execution_count": null,
   "id": "94b8ae92-17fb-43a9-a92d-f07ca445ee6c",
   "metadata": {},
   "outputs": [],
   "source": []
  },
  {
   "cell_type": "code",
   "execution_count": null,
   "id": "4464ac01-242b-4411-a4b9-1966ba1b2399",
   "metadata": {},
   "outputs": [],
   "source": []
  },
  {
   "cell_type": "markdown",
   "id": "f3a6f2c7-b2d4-43aa-a634-5468908df1c9",
   "metadata": {},
   "source": [
    "----"
   ]
  }
 ],
 "metadata": {
  "kernelspec": {
   "display_name": "Python [conda env:dsir-111] *",
   "language": "python",
   "name": "conda-env-dsir-111-py"
  },
  "language_info": {
   "codemirror_mode": {
    "name": "ipython",
    "version": 3
   },
   "file_extension": ".py",
   "mimetype": "text/x-python",
   "name": "python",
   "nbconvert_exporter": "python",
   "pygments_lexer": "ipython3",
   "version": "3.8.12"
  }
 },
 "nbformat": 4,
 "nbformat_minor": 5
}
