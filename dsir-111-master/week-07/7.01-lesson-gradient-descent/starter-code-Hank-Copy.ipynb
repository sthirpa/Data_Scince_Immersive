{
 "cells": [
  {
   "cell_type": "markdown",
   "metadata": {},
   "source": [
    "<img src=\"http://imgur.com/1ZcRyrc.png\" style=\"float: left; margin: 20px; height: 55px\">\n",
    "\n",
    "## Gradient Descent Code-Along"
   ]
  },
  {
   "cell_type": "markdown",
   "metadata": {},
   "source": [
    "Let's walk through how gradient descent works using code."
   ]
  },
  {
   "cell_type": "code",
   "execution_count": 1,
   "metadata": {},
   "outputs": [],
   "source": [
    "import pandas as pd\n",
    "import numpy as np\n",
    "import matplotlib.pyplot as plt"
   ]
  },
  {
   "cell_type": "code",
   "execution_count": 2,
   "metadata": {},
   "outputs": [],
   "source": [
    "# The objective function\n",
    "def f(x):\n",
    "    return -np.log(x) / (1 + x)"
   ]
  },
  {
   "cell_type": "code",
   "execution_count": 3,
   "metadata": {},
   "outputs": [],
   "source": [
    "# Derivative of the objective function\n",
    "def f_deriv(x):\n",
    "    return -(1 / x + 1 - np.log(x)) / (1 + x)**2"
   ]
  },
  {
   "cell_type": "code",
   "execution_count": 4,
   "metadata": {},
   "outputs": [
    {
     "data": {
      "image/png": "[encoded data removed]",
      "text/plain": [
       "<Figure size 432x288 with 1 Axes>"
      ]
     },
     "metadata": {
      "needs_background": "light"
     },
     "output_type": "display_data"
    }
   ],
   "source": [
    "# Let's see what it looks like\n",
    "xs = np.linspace(1, 7, 100)\n",
    "plt.plot(xs, f(xs));"
   ]
  },
  {
   "cell_type": "code",
   "execution_count": 5,
   "metadata": {},
   "outputs": [
    {
     "name": "stdout",
     "output_type": "stream",
     "text": [
      "Step0: x = 1.5\n",
      "Step10: x = 2.4323456906041288\n",
      "Step20: x = 2.7673589958070934\n",
      "Step30: x = 2.967063182961276\n",
      "Step40: x = 3.103056184481621\n",
      "Step50: x = 3.201958805672409\n",
      "Step60: x = 3.2767692305757543\n",
      "Step70: x = 3.3348433295354707\n",
      "Step80: x = 3.380754470539767\n",
      "Step90: x = 3.417538030000519\n",
      "Step100: x = 3.4473073824474403\n",
      "Step110: x = 3.4715884243952937\n",
      "Step120: x = 3.4915145101602163\n",
      "Step130: x = 3.5079465447758147\n",
      "Step140: x = 3.521550387329923\n",
      "Step150: x = 3.53284864454296\n",
      "Step160: x = 3.5422564406865664\n",
      "Step170: x = 3.5501067969987012\n",
      "Step180: x = 3.5566690625713155\n",
      "Step190: x = 3.562162571787054\n",
      "Step200: x = 3.566766943792132\n",
      "Step210: x = 3.570629969420036\n",
      "Step220: x = 3.5738737318468514\n",
      "Step230: x = 3.5765994121182874\n",
      "Step240: x = 3.578891100515783\n",
      "Step250: x = 3.580818846119723\n",
      "Step260: x = 3.582441115483503\n",
      "Step270: x = 3.583806787991035\n",
      "Step280: x = 3.5849567844098855\n",
      "Step290: x = 3.5859254025607985\n"
     ]
    }
   ],
   "source": [
    "# Compute Gradient Descent by hand --> by Python :)\n",
    "\n",
    "# Initial value and learning rate\n",
    "x = 1\n",
    "\n",
    "alpha = 1\n",
    "\n",
    "# Iterate and apply gradient descent\n",
    "x_steps = [x]\n",
    "for i in range(300):\n",
    "    x =  x - alpha * f_deriv(x)# This is gradient descent\n",
    "    \n",
    "    x_steps.append(x)\n",
    "    \n",
    "    if i % 10 == 0:\n",
    "        print(f'Step{i}: x = {x}')"
   ]
  },
  {
   "cell_type": "code",
   "execution_count": 6,
   "metadata": {},
   "outputs": [
    {
     "data": {
      "image/png": "[encoded data removed]",
      "text/plain": [
       "<Figure size 432x288 with 1 Axes>"
      ]
     },
     "metadata": {
      "needs_background": "light"
     },
     "output_type": "display_data"
    }
   ],
   "source": [
    "# Plot iterations\n",
    "plt.plot(x_steps);"
   ]
  },
  {
   "cell_type": "code",
   "execution_count": 7,
   "metadata": {},
   "outputs": [
    {
     "data": {
      "image/png": "[encoded data removed]",
      "text/plain": [
       "<Figure size 432x288 with 1 Axes>"
      ]
     },
     "metadata": {
      "needs_background": "light"
     },
     "output_type": "display_data"
    }
   ],
   "source": [
    "# Plot our solution to the original function\n",
    "\n",
    "plt.plot(xs, f(xs));\n",
    "plt.scatter(x_steps[-1], f(x_steps[-1]), color = 'red');"
   ]
  },
  {
   "cell_type": "markdown",
   "metadata": {},
   "source": [
    "## Let's see if we can do OLS by Gradient Descent!"
   ]
  },
  {
   "cell_type": "code",
   "execution_count": 8,
   "metadata": {},
   "outputs": [],
   "source": [
    "# Set a random seed.\n",
    "np.random.seed(42)"
   ]
  },
  {
   "cell_type": "code",
   "execution_count": 9,
   "metadata": {},
   "outputs": [],
   "source": [
    "# Randomly generate data from a Poisson(45) distribution.\n",
    "temp = np.random.poisson(45, 100)"
   ]
  },
  {
   "cell_type": "code",
   "execution_count": 10,
   "metadata": {},
   "outputs": [
    {
     "data": {
      "text/plain": [
       "array([42, 50, 37, 47, 52, 38, 41, 44, 47, 41, 44, 38, 47, 47, 41, 49, 36,\n",
       "       40, 41, 46, 58, 47, 34, 29, 43, 52, 40, 37, 51, 49, 51, 42, 53, 42,\n",
       "       41, 50, 55, 36, 50, 51, 45, 41, 56, 43, 39, 41, 57, 48, 52, 55, 41,\n",
       "       39, 43, 36, 59, 45, 63, 45, 40, 47, 30, 56, 37, 48, 39, 42, 48, 34,\n",
       "       41, 49, 45, 48, 49, 58, 42, 40, 52, 46, 55, 42, 48, 47, 35, 46, 48,\n",
       "       49, 41, 48, 48, 34, 40, 55, 51, 46, 38, 40, 48, 56, 44, 41])"
      ]
     },
     "execution_count": 10,
     "metadata": {},
     "output_type": "execute_result"
    }
   ],
   "source": [
    "# View array.\n",
    "temp"
   ]
  },
  {
   "cell_type": "code",
   "execution_count": 11,
   "metadata": {},
   "outputs": [
    {
     "name": "stdout",
     "output_type": "stream",
     "text": [
      "45.18\n"
     ]
    }
   ],
   "source": [
    "# Calculate mean of array.\n",
    "print(np.mean(temp))"
   ]
  },
  {
   "cell_type": "markdown",
   "metadata": {},
   "source": [
    "**Ohio State Fun Facts:**\n",
    "1. Ohio Stadium can seat 104,944 people. (Source: [Wikipedia](https://en.wikipedia.org/wiki/Ohio_Stadium).)\n",
    "2. Ohio Stadium's record attendance is 110,045 people. (Source: [Wikipedia](https://en.wikipedia.org/wiki/Ohio_Stadium).)\n",
    "3. Ohio State is better than Michigan. (Source: It's just a fact.)\n",
    "4. Ohio State students enjoy soda. (Source: first-hand knowledge.)"
   ]
  },
  {
   "cell_type": "code",
   "execution_count": 12,
   "metadata": {},
   "outputs": [],
   "source": [
    "# sodas ~ N(200000 + 1000 * temp, 20000)\n",
    "sodas_sold = 200_000 + 1000 * temp + np.round(np.random.normal(0, 20_000, 100))"
   ]
  },
  {
   "cell_type": "code",
   "execution_count": 13,
   "metadata": {},
   "outputs": [
    {
     "data": {
      "text/plain": [
       "array([233070., 267128., 241282., 222085., 255464., 245706., 223323.,\n",
       "       247075., 248164., 218141., 251156., 249216., 268661., 268076.,\n",
       "       213447., 230243., 246301., 250276., 251301., 323055., 269418.,\n",
       "       269711., 253080., 242028., 236695., 267179., 224543., 232264.,\n",
       "       241293., 250637., 297293., 204655., 266725., 209746., 231561.,\n",
       "       271779., 256286., 214445., 235694., 264592., 230393., 245329.,\n",
       "       256911., 229968., 281879., 253678., 216497., 251729., 238764.,\n",
       "       272049., 225150., 236705., 253100., 253315., 234994., 238310.,\n",
       "       253501., 231933., 275309., 255100., 204782., 274357., 279443.,\n",
       "       268649., 208613., 232315., 273338., 219847., 249876., 264493.,\n",
       "       226461., 246809., 184175., 237512., 236949., 215044., 284648.,\n",
       "       217397., 246199., 244615., 276825., 218283., 258263., 246205.,\n",
       "       228370., 258242., 244981., 235996., 249396., 226294., 242270.,\n",
       "       268243., 282720., 221244., 280661., 200958., 244964., 267766.,\n",
       "       249620., 228546.])"
      ]
     },
     "execution_count": 13,
     "metadata": {},
     "output_type": "execute_result"
    }
   ],
   "source": [
    "sodas_sold"
   ]
  },
  {
   "cell_type": "markdown",
   "metadata": {},
   "source": [
    "$$ \\text{sodas_sold}_i = 200000 + 1000 * \\text{temp}_i + \\varepsilon_i $$"
   ]
  },
  {
   "cell_type": "code",
   "execution_count": 14,
   "metadata": {},
   "outputs": [],
   "source": [
    "# Create dataframe with temp and sodas_sold.\n",
    "df = pd.DataFrame({'temp': temp, 'sodas': sodas_sold})"
   ]
  },
  {
   "cell_type": "code",
   "execution_count": 15,
   "metadata": {},
   "outputs": [
    {
     "data": {
      "text/html": [
       "<div>\n",
       "<style scoped>\n",
       "    .dataframe tbody tr th:only-of-type {\n",
       "        vertical-align: middle;\n",
       "    }\n",
       "\n",
       "    .dataframe tbody tr th {\n",
       "        vertical-align: top;\n",
       "    }\n",
       "\n",
       "    .dataframe thead th {\n",
       "        text-align: right;\n",
       "    }\n",
       "</style>\n",
       "<table border=\"1\" class=\"dataframe\">\n",
       "  <thead>\n",
       "    <tr style=\"text-align: right;\">\n",
       "      <th></th>\n",
       "      <th>temp</th>\n",
       "      <th>sodas</th>\n",
       "    </tr>\n",
       "  </thead>\n",
       "  <tbody>\n",
       "    <tr>\n",
       "      <th>0</th>\n",
       "      <td>42</td>\n",
       "      <td>233070.0</td>\n",
       "    </tr>\n",
       "    <tr>\n",
       "      <th>1</th>\n",
       "      <td>50</td>\n",
       "      <td>267128.0</td>\n",
       "    </tr>\n",
       "    <tr>\n",
       "      <th>2</th>\n",
       "      <td>37</td>\n",
       "      <td>241282.0</td>\n",
       "    </tr>\n",
       "    <tr>\n",
       "      <th>3</th>\n",
       "      <td>47</td>\n",
       "      <td>222085.0</td>\n",
       "    </tr>\n",
       "    <tr>\n",
       "      <th>4</th>\n",
       "      <td>52</td>\n",
       "      <td>255464.0</td>\n",
       "    </tr>\n",
       "  </tbody>\n",
       "</table>\n",
       "</div>"
      ],
      "text/plain": [
       "   temp     sodas\n",
       "0    42  233070.0\n",
       "1    50  267128.0\n",
       "2    37  241282.0\n",
       "3    47  222085.0\n",
       "4    52  255464.0"
      ]
     },
     "execution_count": 15,
     "metadata": {},
     "output_type": "execute_result"
    }
   ],
   "source": [
    "# Check the first five rows.\n",
    "df.head()"
   ]
  },
  {
   "cell_type": "code",
   "execution_count": 16,
   "metadata": {},
   "outputs": [
    {
     "data": {
      "image/png": "[encoded data removed]",
      "text/plain": [
       "<Figure size 432x288 with 1 Axes>"
      ]
     },
     "metadata": {
      "needs_background": "light"
     },
     "output_type": "display_data"
    }
   ],
   "source": [
    "# visualize our data\n",
    "\n",
    "df.plot(kind = 'scatter', x = 'temp', y = 'sodas');"
   ]
  },
  {
   "cell_type": "markdown",
   "metadata": {},
   "source": [
    "#### Our goal is to fit a model here.\n",
    "- You and I know that our $y$-intercept $\\beta_0$ is 200,000.\n",
    "- You and I know that our slope $\\beta_1$ is 1,000.\n",
    "- However, our computer does not know that. Our computer has to estimate $\\hat{\\beta}_0$ and $\\hat{\\beta}_1$ from the data.\n",
    "    - We might say that our **machine** has to... **learn**."
   ]
  },
  {
   "cell_type": "markdown",
   "metadata": {},
   "source": [
    "#### Our workflow:\n",
    "1. Instantiate model.\n",
    "2. Select a learning rate $\\alpha$.\n",
    "3. Select a starting point $\\hat{\\beta}_{1,0}$.\n",
    "4. Calculate the gradient of the loss function.\n",
    "5. Calculate $\\hat{\\beta}_{1,i+1} = \\hat{\\beta}_{1,i} - \\alpha * \\frac{\\partial L}{\\partial \\beta_1}$.\n",
    "6. Check value of $\\left|\\hat{\\beta}_{1,i+1} - \\hat{\\beta}_{1,i}\\right|$.\n",
    "7. Repeat steps 4 through 6 until \"stopping condition\" is met."
   ]
  },
  {
   "cell_type": "markdown",
   "metadata": {},
   "source": [
    "#### Step 1. Instantiate model.\n",
    "\n",
    "Our model takes on the form:\n",
    "$$ Y = \\beta_0 + \\beta_1 X + \\varepsilon$$"
   ]
  },
  {
   "cell_type": "markdown",
   "metadata": {},
   "source": [
    "#### Step 2. Select a learning rate $\\alpha$.\n",
    "\n",
    "$$\\alpha = 0.1$$"
   ]
  },
  {
   "cell_type": "code",
   "execution_count": 17,
   "metadata": {},
   "outputs": [],
   "source": [
    "alpha = 0.1"
   ]
  },
  {
   "cell_type": "markdown",
   "metadata": {},
   "source": [
    "#### Step 3. Select a starting point.\n",
    "The zero-th iteration of $\\hat{\\beta}_1$ is going to start at, say, 20.\n",
    "$$\\hat{\\beta}_{1,0} = 20$$\n",
    "\n",
    "Two points:\n",
    "- You and I know that the true value of $\\beta_1$ is 1000. We need the computer to figure (machine to learn) that part out!\n",
    "- We're going to pretend like the computer already knows the value for $\\beta_0$. In reality, we'd have to do this for $\\beta_0$ and for $\\beta_1$ at the same time."
   ]
  },
  {
   "cell_type": "code",
   "execution_count": 18,
   "metadata": {},
   "outputs": [],
   "source": [
    "# This actually matters least\n",
    "beta_1 = 20"
   ]
  },
  {
   "cell_type": "markdown",
   "metadata": {},
   "source": [
    "#### Step 4. Calculate the gradient of the loss function with respect to parameter $\\beta_1$.\n",
    "\n",
    "The loss function, $L$, is our mean square error.\n",
    "\n",
    "$$L = \\frac{1}{n}\\sum_{i = 1} ^ n (y_i - \\hat{y}_i)^2 $$\n",
    "\n",
    "$$\\Rightarrow L = \\frac{1}{n}\\sum_{i = 1} ^ n \\left(y_i - \\left(\\hat{\\beta}_0 + \\hat{\\beta}_1x_i\\right)\\right)^2 $$\n",
    "\n",
    "The gradient of this loss function with respect to $\\beta_1$ is:\n",
    "\n",
    "$$\\frac{\\partial L}{\\partial \\beta_1} = \\frac{2}{n} \\sum_{i=1}^n -x_i\\left(y_i - \\left(\\hat{\\beta}_1x_i + \\hat{\\beta}_0\\right)\\right) $$"
   ]
  },
  {
   "cell_type": "code",
   "execution_count": 20,
   "metadata": {},
   "outputs": [],
   "source": [
    "# Calculate gradient of beta_1.\n",
    "def beta_1_gradient(x, y, beta_1, beta_0):\n",
    "    grad = -x * (y - (beta_1*x + beta_0))\n",
    "    return 2 * np.mean(grad)"
   ]
  },
  {
   "cell_type": "markdown",
   "metadata": {},
   "source": [
    "#### Step 5. Calculate $\\hat{\\beta}_{1,i+1} = \\hat{\\beta}_{1,i} - \\alpha * \\frac{\\partial L}{\\partial \\beta_1}$."
   ]
  },
  {
   "cell_type": "code",
   "execution_count": 21,
   "metadata": {},
   "outputs": [],
   "source": [
    "# Define function to calculate new value of beta_1.\n",
    "# This is my updated Beta_1 value\n",
    "\n",
    "def update_beta_1(beta_1, alpha, gradient):\n",
    "    beta_1 = beta_1 - alpha * gradient\n",
    "    return beta_1"
   ]
  },
  {
   "cell_type": "markdown",
   "metadata": {},
   "source": [
    "#### Step 6. Check value of $\\left|\\hat{\\beta}_{1,i+1} - \\hat{\\beta}_{1,i}\\right|$."
   ]
  },
  {
   "cell_type": "code",
   "execution_count": 22,
   "metadata": {},
   "outputs": [],
   "source": [
    "# Check to see if we've converged\n",
    "\n",
    "def check_update(beta_1, updated_beta_1, tolerance = 0.1):\n",
    "    return abs(beta_1 - updated_beta_1) < tolerance"
   ]
  },
  {
   "cell_type": "markdown",
   "metadata": {},
   "source": [
    "#### Step 7: Save final value of $\\hat{\\beta}_1$."
   ]
  },
  {
   "cell_type": "markdown",
   "metadata": {},
   "source": [
    "#### Putting it all together..."
   ]
  },
  {
   "cell_type": "code",
   "execution_count": 23,
   "metadata": {},
   "outputs": [],
   "source": [
    "def gradient_descent(x, y, beta_1 = 0, alpha = 0.01, max_iter = 100):\n",
    "    # Set converged = False.\n",
    "    converged = False\n",
    "    \n",
    "    # Iterate through our observations.\n",
    "    step = 0\n",
    "    while not converged:\n",
    "        \n",
    "        # Calculate gradient.\n",
    "        gradient = beta_1_gradient(x, y, beta_1=beta_1, beta_0=200_000)\n",
    "        \n",
    "        # Update beta_1.\n",
    "        beta_1_new = update_beta_1(beta_1, alpha, gradient)\n",
    "        \n",
    "        # Check for convergence.\n",
    "        converged = check_update(beta_1, beta_1_new)\n",
    "        \n",
    "        # Overwrite beta_1.\n",
    "        beta_1 = beta_1_new\n",
    "        \n",
    "        # Print out current step findings.\n",
    "        print(f'Step: {step}: b1 = {beta_1}')\n",
    "        \n",
    "        # If we've converged, let us know!\n",
    "        if converged:\n",
    "            print(f'We have finished Gradient Descent; our function has converged at step{step} 😄👌✌️!')\n",
    "        else:\n",
    "            step += 1\n",
    "            \n",
    "        # If we exceed our step limit, break!\n",
    "        if step > max_iter:\n",
    "            break\n",
    "        \n",
    "    # If we didn't converge by the end of our loop, let us know!\n",
    "    if not converged:\n",
    "        print('WE DID NOT CONVERGE 😒😒😒😭😭!!')\n",
    "    \n",
    "    # Return beta_1.\n",
    "    return beta_1"
   ]
  },
  {
   "cell_type": "code",
   "execution_count": 25,
   "metadata": {},
   "outputs": [
    {
     "name": "stdout",
     "output_type": "stream",
     "text": [
      "Step: 0: b1 = 41842.708399999996\n",
      "Step: 1: b1 = -1661468.0460644797\n",
      "Step: 2: b1 = 67692576.60561666\n",
      "Step: 3: b1 = -2756209930.2858133\n",
      "Step: 4: b1 = 112225193223.3139\n",
      "Step: 5: b1 = -4569495595262.44\n",
      "Step: 6: b1 = 186057066093669.6\n",
      "Step: 7: b1 = -7575722771506911.0\n",
      "Step: 8: b1 = 3.0846221923204365e+17\n",
      "Step: 9: b1 = -1.255971787291493e+19\n",
      "Step: 10: b1 = 5.113965445750517e+20\n",
      "Step: 11: b1 = -2.08226353847713e+22\n",
      "Step: 12: b1 = 8.478394094888103e+23\n",
      "Step: 13: b1 = -3.452164680403778e+25\n",
      "Step: 14: b1 = 1.4056247972493675e+27\n",
      "Step: 15: b1 = -5.723310599456194e+28\n",
      "Step: 16: b1 = 2.3303718234017774e+30\n",
      "Step: 17: b1 = -9.488621560781487e+31\n",
      "Step: 18: b1 = 3.8635010181465215e+33\n",
      "Step: 19: b1 = -1.5731094365607554e+35\n",
      "Step: 20: b1 = 6.405261155033158e+36\n",
      "Step: 21: b1 = -2.6080429950171617e+38\n",
      "Step: 22: b1 = 1.0619220823671272e+40\n",
      "Step: 23: b1 = -4.323849381215876e+41\n",
      "Step: 24: b1 = 1.76055040024843e+43\n",
      "Step: 25: b1 = -7.168468275699542e+44\n",
      "Step: 26: b1 = 2.918799564753135e+46\n",
      "Step: 27: b1 = -1.1884534563796625e+48\n",
      "Step: 28: b1 = 4.8390497074102e+49\n",
      "Step: 29: b1 = -1.9703255474656263e+51\n",
      "Step: 30: b1 = 8.022613938126735e+52\n",
      "Step: 31: b1 = -3.2665837624149406e+54\n",
      "Step: 32: b1 = 1.330061443710017e+56\n",
      "Step: 33: b1 = -5.415637781582951e+57\n",
      "Step: 34: b1 = 2.2050960668026945e+59\n",
      "Step: 35: b1 = -8.978533757121868e+60\n",
      "Step: 36: b1 = 3.655807546954828e+62\n",
      "Step: 37: b1 = -1.488542470508691e+64\n",
      "Step: 38: b1 = 6.060928148019644e+65\n",
      "Step: 39: b1 = -2.4678402358854554e+67\n",
      "Step: 40: b1 = 1.004835444525953e+69\n",
      "Step: 41: b1 = -4.0914085761852105e+70\n",
      "Step: 42: b1 = 1.6659070127824849e+72\n",
      "Step: 43: b1 = -6.783106902086701e+73\n",
      "Step: 44: b1 = 2.761891203536446e+75\n",
      "Step: 45: b1 = -1.1245647651263415e+77\n",
      "Step: 46: b1 = 4.578912845460226e+78\n",
      "Step: 47: b1 = -1.864405101111731e+80\n",
      "Step: 48: b1 = 7.591335538298661e+81\n",
      "Step: 49: b1 = -3.090979273800142e+83\n",
      "Step: 50: b1 = 1.2585602128717514e+85\n",
      "Step: 51: b1 = -5.12450478995417e+86\n",
      "Step: 52: b1 = 2.0865548643352203e+88\n",
      "Step: 53: b1 = -8.495867172211009e+89\n",
      "Step: 54: b1 = 3.4592792282434994e+91\n",
      "Step: 55: b1 = -1.4085216419223625e+93\n",
      "Step: 56: b1 = 5.735105739848122e+94\n",
      "Step: 57: b1 = -2.335174474305438e+96\n",
      "Step: 58: b1 = 9.508176610518933e+97\n",
      "Step: 59: b1 = -3.871463286858215e+99\n",
      "Step: 60: b1 = 1.5763514494366328e+101\n",
      "Step: 61: b1 = -6.418461723700129e+102\n",
      "Step: 62: b1 = 2.61341789696243e+104\n",
      "Step: 63: b1 = -1.064110591941987e+106\n",
      "Step: 64: b1 = 4.3327603794220283e+107\n",
      "Step: 65: b1 = -1.7641787092100254e+109\n",
      "Step: 66: b1 = 7.183241733864648e+110\n",
      "Step: 67: b1 = -2.924814903261135e+112\n",
      "Step: 68: b1 = 1.1909027337906425e+114\n",
      "Step: 69: b1 = -4.849022479230036e+115\n",
      "Step: 70: b1 = 1.9743861809130514e+117\n",
      "Step: 71: b1 = -8.039147700547292e+118\n",
      "Step: 72: b1 = 3.273315847527243e+120\n",
      "Step: 73: b1 = -1.3328025602693617e+122\n",
      "Step: 74: b1 = 5.426798840699967e+123\n",
      "Step: 75: b1 = -2.2096405375654875e+125\n",
      "Step: 76: b1 = 8.997037569616144e+126\n",
      "Step: 77: b1 = -3.663341781295744e+128\n",
      "Step: 78: b1 = 1.4916101997737503e+130\n",
      "Step: 79: b1 = -6.073419082622777e+131\n",
      "Step: 80: b1 = 2.472926194709683e+133\n",
      "Step: 81: b1 = -1.0069063045523302e+135\n",
      "Step: 82: b1 = 4.0998405383718153e+136\n",
      "Step: 83: b1 = -1.6693402716899282e+138\n",
      "Step: 84: b1 = 6.797086171045311e+139\n",
      "Step: 85: b1 = -2.767583170436862e+141\n",
      "Step: 86: b1 = 1.126882374673118e+143\n",
      "Step: 87: b1 = -4.588349502604027e+144\n",
      "Step: 88: b1 = 1.8682474436742877e+146\n",
      "Step: 89: b1 = -7.606980481357468e+147\n",
      "Step: 90: b1 = 3.0973494565552837e+149\n",
      "Step: 91: b1 = -1.261153972924528e+151\n",
      "Step: 92: b1 = 5.135065854636261e+152\n",
      "Step: 93: b1 = -2.0908550341639546e+154\n",
      "Step: 94: b1 = 8.513376259706058e+155\n",
      "Step: 95: b1 = -3.466408438417035e+157\n",
      "Step: 96: b1 = 1.4114244566871403e+159\n",
      "Step: 97: b1 = -5.746925188782163e+160\n",
      "Step: 98: b1 = 2.339987022966812e+162\n",
      "Step: 99: b1 = -9.52777196115443e+163\n",
      "Step: 100: b1 = 3.8794419649671726e+165\n",
      "WE DID NOT CONVERGE 😒😒😒😭😭!!\n"
     ]
    },
    {
     "data": {
      "text/plain": [
       "3.8794419649671726e+165"
      ]
     },
     "execution_count": 25,
     "metadata": {},
     "output_type": "execute_result"
    }
   ],
   "source": [
    "# Call gradient_descent with an initial beta_1 of 20, alpha of 0.01, and 100 iterations.\n",
    "gradient_descent(df['temp'], df['sodas'], beta_1=10, alpha=0.01, max_iter=100)"
   ]
  },
  {
   "cell_type": "markdown",
   "metadata": {},
   "source": [
    "<details><summary>What should we do?</summary>\n",
    "\n",
    "- We **should not** adjust our maximum iterations. It doesn't look like we'll converge.\n",
    "- We should adjust our alpha!\n",
    "</details>"
   ]
  },
  {
   "cell_type": "code",
   "execution_count": 26,
   "metadata": {},
   "outputs": [
    {
     "name": "stdout",
     "output_type": "stream",
     "text": [
      "Step: 0: b1 = 41435.536400000005\n",
      "Step: 1: b1 = -1644889.1423060796\n",
      "Step: 2: b1 = 67017530.06550508\n",
      "Step: 3: b1 = -2728723925.3027844\n",
      "Step: 4: b1 = 111106040061.21902\n",
      "Step: 5: b1 = -4523926812130.787\n",
      "Step: 6: b1 = 184201632837141.66\n",
      "Step: 7: b1 = -7500174724514217.0\n",
      "Step: 8: b1 = 3.0538611429303245e+17\n",
      "Step: 9: b1 = -1.2434467492892217e+19\n",
      "Step: 10: b1 = 5.06296699801591e+20\n",
      "Step: 11: b1 = -2.0614983985161335e+22\n",
      "Step: 12: b1 = 8.39384425920612e+23\n",
      "Step: 13: b1 = -3.4177383547094743e+25\n",
      "Step: 14: b1 = 1.391607361363766e+27\n",
      "Step: 15: b1 = -5.666235525412072e+28\n",
      "Step: 16: b1 = 2.3071324513530843e+30\n",
      "Step: 17: b1 = -9.393997344823376e+31\n",
      "Step: 18: b1 = 3.8249726868864247e+33\n",
      "Step: 19: b1 = -1.5574217788649202e+35\n",
      "Step: 20: b1 = 6.341385405439872e+36\n",
      "Step: 21: b1 = -2.5820345783037628e+38\n",
      "Step: 22: b1 = 1.0513321833170998e+40\n",
      "Step: 23: b1 = -4.2807302774559026e+41\n",
      "Step: 24: b1 = 1.7429935085322762e+43\n",
      "Step: 25: b1 = -7.096981528561035e+44\n",
      "Step: 26: b1 = 2.8896921629472515e+46\n",
      "Step: 27: b1 = -1.1766017373715583e+48\n",
      "Step: 28: b1 = 4.790792826090524e+49\n",
      "Step: 29: b1 = -1.950676696584932e+51\n",
      "Step: 30: b1 = 7.942609319018798e+52\n",
      "Step: 31: b1 = -3.234008121643523e+54\n",
      "Step: 32: b1 = 1.3167975549058362e+56\n",
      "Step: 33: b1 = -5.361630940261188e+57\n",
      "Step: 34: b1 = 2.1831059932080286e+59\n",
      "Step: 35: b1 = -8.888996334664998e+60\n",
      "Step: 36: b1 = 3.619350415578215e+62\n",
      "Step: 37: b1 = -1.473698147411814e+64\n",
      "Step: 38: b1 = 6.00048622077963e+65\n",
      "Step: 39: b1 = -2.4432299754872837e+67\n",
      "Step: 40: b1 = 9.948148355791077e+68\n",
      "Step: 41: b1 = -4.050607462324164e+70\n",
      "Step: 42: b1 = 1.6492939416494545e+72\n",
      "Step: 43: b1 = -6.715463128092912e+73\n",
      "Step: 44: b1 = 2.734348552791849e+75\n",
      "Step: 45: b1 = -1.1133501689373623e+77\n",
      "Step: 46: b1 = 4.533250149865636e+78\n",
      "Step: 47: b1 = -1.845812530021091e+80\n",
      "Step: 48: b1 = 7.515631794737475e+81\n",
      "Step: 49: b1 = -3.060154829126848e+83\n",
      "Step: 50: b1 = 1.2460093620852368e+85\n",
      "Step: 51: b1 = -5.0734012397897e+86\n",
      "Step: 52: b1 = 2.0657469296076513e+88\n",
      "Step: 53: b1 = -8.411143088222068e+89\n",
      "Step: 54: b1 = 3.424781953517555e+91\n",
      "Step: 55: b1 = -1.3944753175776497e+93\n",
      "Step: 56: b1 = 5.6779130400872674e+94\n",
      "Step: 57: b1 = -2.3118872083584123e+96\n",
      "Step: 58: b1 = 9.413357384017118e+97\n",
      "Step: 59: b1 = -3.83285555276502e+99\n",
      "Step: 60: b1 = 1.5606314611304388e+101\n",
      "Step: 61: b1 = -6.354454332914029e+102\n",
      "Step: 62: b1 = 2.5873558796412725e+104\n",
      "Step: 63: b1 = -1.053498868225296e+106\n",
      "Step: 64: b1 = 4.289552411730302e+107\n",
      "Step: 65: b1 = -1.7465856345890493e+109\n",
      "Step: 66: b1 = 7.111607660068924e+110\n",
      "Step: 67: b1 = -2.895647514165585e+112\n",
      "Step: 68: b1 = 1.17902658963783e+114\n",
      "Step: 69: b1 = -4.800666145560145e+115\n",
      "Step: 70: b1 = 1.9546968358200154e+117\n",
      "Step: 71: b1 = -7.958978200345076e+118\n",
      "Step: 72: b1 = 3.240673071790907e+120\n",
      "Step: 73: b1 = -1.3195113359872477e+122\n",
      "Step: 74: b1 = 5.372680696965997e+123\n",
      "Step: 75: b1 = -2.187605144745038e+125\n",
      "Step: 76: b1 = 8.907315619961259e+126\n",
      "Step: 77: b1 = -3.626809515610868e+128\n",
      "Step: 78: b1 = 1.4767352840903096e+130\n",
      "Step: 79: b1 = -6.012852590936196e+131\n",
      "Step: 80: b1 = 2.4482652151566745e+133\n",
      "Step: 81: b1 = -9.968650441857734e+134\n",
      "Step: 82: b1 = 4.058955337712099e+136\n",
      "Step: 83: b1 = -1.6526929627669106e+138\n",
      "Step: 84: b1 = 6.729302990357284e+139\n",
      "Step: 85: b1 = -2.739983757189756e+141\n",
      "Step: 86: b1 = 1.1156446663824676e+143\n",
      "Step: 87: b1 = -4.5425927010028213e+144\n",
      "Step: 88: b1 = 1.8496165552527195e+146\n",
      "Step: 89: b1 = -7.531120720353605e+147\n",
      "Step: 90: b1 = 3.066461485947819e+149\n",
      "Step: 91: b1 = -1.2485772561563451e+151\n",
      "Step: 92: b1 = 5.083856985436912e+152\n",
      "Step: 93: b1 = -2.0700042164743206e+154\n",
      "Step: 94: b1 = 8.428477568302825e+155\n",
      "Step: 95: b1 = -3.4318400684409985e+157\n",
      "Step: 96: b1 = 1.3973491843472574e+159\n",
      "Step: 97: b1 = -5.689614620890414e+160\n",
      "Step: 98: b1 = 2.316651764417191e+162\n",
      "Step: 99: b1 = -9.432757322212768e+163\n",
      "Step: 100: b1 = 3.840754664400018e+165\n",
      "WE DID NOT CONVERGE 😒😒😒😭😭!!\n"
     ]
    },
    {
     "data": {
      "text/plain": [
       "3.840754664400018e+165"
      ]
     },
     "execution_count": 26,
     "metadata": {},
     "output_type": "execute_result"
    }
   ],
   "source": [
    "# Call gradient_descent with an initial beta_1 of 20, alpha of 0.0001, and 100 iterations.\n",
    "gradient_descent(df['temp'], df['sodas'], beta_1=20, alpha=0.01, max_iter=100)"
   ]
  },
  {
   "cell_type": "code",
   "execution_count": 27,
   "metadata": {},
   "outputs": [
    {
     "name": "stdout",
     "output_type": "stream",
     "text": [
      "Step: 0: b1 = 434.155364\n",
      "Step: 1: b1 = 675.5367064893921\n",
      "Step: 2: b1 = 816.2205115697996\n",
      "Step: 3: b1 = 898.2149723172032\n",
      "Step: 4: b1 = 946.003639885691\n",
      "Step: 5: b1 = 973.8562134272975\n",
      "Step: 6: b1 = 990.089473159405\n",
      "Step: 7: b1 = 999.5506714625496\n",
      "Step: 8: b1 = 1005.0649227471749\n",
      "Step: 9: b1 = 1008.2787827948905\n",
      "Step: 10: b1 = 1010.1519104187804\n",
      "Step: 11: b1 = 1011.2436216455569\n",
      "Step: 12: b1 = 1011.8799015164366\n",
      "Step: 13: b1 = 1012.2507432410217\n",
      "Step: 14: b1 = 1012.4668801816782\n",
      "Step: 15: b1 = 1012.5928508425271\n",
      "Step: 16: b1 = 1012.6662700708484\n",
      "We have finished Gradient Descent; our function has converged at step16 😄👌✌️!\n"
     ]
    },
    {
     "data": {
      "text/plain": [
       "1012.6662700708484"
      ]
     },
     "execution_count": 27,
     "metadata": {},
     "output_type": "execute_result"
    }
   ],
   "source": [
    "# Call gradient_descent with an initial beta_1 of 20, alpha of 0.0001, and 100 iterations.\n",
    "gradient_descent(df['temp'], df['sodas'], beta_1=20, alpha=0.0001, max_iter=100)"
   ]
  },
  {
   "cell_type": "code",
   "execution_count": null,
   "metadata": {},
   "outputs": [],
   "source": []
  }
 ],
 "metadata": {
  "kernelspec": {
   "display_name": "Python 3 (ipykernel)",
   "language": "python",
   "name": "python3"
  },
  "language_info": {
   "codemirror_mode": {
    "name": "ipython",
    "version": 3
   },
   "file_extension": ".py",
   "mimetype": "text/x-python",
   "name": "python",
   "nbconvert_exporter": "python",
   "pygments_lexer": "ipython3",
   "version": "3.8.12"
  },
  "toc": {
   "base_numbering": 1,
   "nav_menu": {},
   "number_sections": true,
   "sideBar": true,
   "skip_h1_title": false,
   "title_cell": "Table of Contents",
   "title_sidebar": "Contents",
   "toc_cell": false,
   "toc_position": {},
   "toc_section_display": true,
   "toc_window_display": false
  }
 },
 "nbformat": 4,
 "nbformat_minor": 4
}
