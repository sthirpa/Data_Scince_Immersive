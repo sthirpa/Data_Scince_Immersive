{
  "cells": [
    {
      "cell_type": "markdown",
      "metadata": {
        "id": "Yh2gFdi7TmoI"
      },
      "source": [
        "<img src=\"http://imgur.com/1ZcRyrc.png\" style=\"float: left; margin: 20px; height: 55px\">\n",
        "\n",
        "## Regularization and Optimization for Neural Networks\n",
        "\n",
        "_Authors:_ Matt Brems, Tim Book, Justin Pounders with minor edits by Adi Bronshtein\n",
        "\n",
        "\n",
        "### Learning Objectives\n",
        "\n",
        "By the end of the lesson, students should be able to:\n",
        "- Explain how L1/L2, dropout, and early stopping regularization work and implement these methods in Keras\n",
        "- Implement methods for speeding up learning"
      ]
    },
    {
      "cell_type": "code",
      "execution_count": 22,
      "metadata": {
        "id": "Cf21SwHpTmoL"
      },
      "outputs": [],
      "source": [
        "import matplotlib.pyplot as plt\n",
        "from sklearn.model_selection import train_test_split\n",
        "from sklearn.preprocessing import StandardScaler\n",
        "\n",
        "from tensorflow.keras.models import Sequential\n",
        "from tensorflow.keras.layers import Dense\n",
        "\n",
        "import pandas as pd\n",
        "import numpy as np"
      ]
    },
    {
      "cell_type": "markdown",
      "metadata": {
        "id": "_ZVgpywPTmoL"
      },
      "source": [
        "## Load the data"
      ]
    },
    {
      "cell_type": "code",
      "execution_count": 23,
      "metadata": {
        "colab": {
          "base_uri": "https://localhost:8080/",
          "height": 226
        },
        "id": "CaJbFe6pTmoM",
        "outputId": "40caa4d0-3577-440e-a222-e44f2daaa9e3"
      },
      "outputs": [
        {
          "output_type": "execute_result",
          "data": {
            "text/html": [
              "<div>\n",
              "<style scoped>\n",
              "    .dataframe tbody tr th:only-of-type {\n",
              "        vertical-align: middle;\n",
              "    }\n",
              "\n",
              "    .dataframe tbody tr th {\n",
              "        vertical-align: top;\n",
              "    }\n",
              "\n",
              "    .dataframe thead th {\n",
              "        text-align: right;\n",
              "    }\n",
              "</style>\n",
              "<table border=\"1\" class=\"dataframe\">\n",
              "  <thead>\n",
              "    <tr style=\"text-align: right;\">\n",
              "      <th></th>\n",
              "      <th>state</th>\n",
              "      <th>account_length</th>\n",
              "      <th>area_code</th>\n",
              "      <th>intl_plan</th>\n",
              "      <th>vmail_plan</th>\n",
              "      <th>vmail_message</th>\n",
              "      <th>day_mins</th>\n",
              "      <th>day_calls</th>\n",
              "      <th>day_charge</th>\n",
              "      <th>eve_mins</th>\n",
              "      <th>eve_calls</th>\n",
              "      <th>eve_charge</th>\n",
              "      <th>night_mins</th>\n",
              "      <th>night_calls</th>\n",
              "      <th>night_charge</th>\n",
              "      <th>intl_mins</th>\n",
              "      <th>intl_calls</th>\n",
              "      <th>intl_charge</th>\n",
              "      <th>custserv_calls</th>\n",
              "      <th>churn</th>\n",
              "    </tr>\n",
              "  </thead>\n",
              "  <tbody>\n",
              "    <tr>\n",
              "      <th>0</th>\n",
              "      <td>KS</td>\n",
              "      <td>128</td>\n",
              "      <td>415</td>\n",
              "      <td>no</td>\n",
              "      <td>yes</td>\n",
              "      <td>25</td>\n",
              "      <td>265.1</td>\n",
              "      <td>110</td>\n",
              "      <td>45.07</td>\n",
              "      <td>197.4</td>\n",
              "      <td>99</td>\n",
              "      <td>16.78</td>\n",
              "      <td>244.7</td>\n",
              "      <td>91</td>\n",
              "      <td>11.01</td>\n",
              "      <td>10.0</td>\n",
              "      <td>3</td>\n",
              "      <td>2.70</td>\n",
              "      <td>1</td>\n",
              "      <td>False</td>\n",
              "    </tr>\n",
              "    <tr>\n",
              "      <th>1</th>\n",
              "      <td>OH</td>\n",
              "      <td>107</td>\n",
              "      <td>415</td>\n",
              "      <td>no</td>\n",
              "      <td>yes</td>\n",
              "      <td>26</td>\n",
              "      <td>161.6</td>\n",
              "      <td>123</td>\n",
              "      <td>27.47</td>\n",
              "      <td>195.5</td>\n",
              "      <td>103</td>\n",
              "      <td>16.62</td>\n",
              "      <td>254.4</td>\n",
              "      <td>103</td>\n",
              "      <td>11.45</td>\n",
              "      <td>13.7</td>\n",
              "      <td>3</td>\n",
              "      <td>3.70</td>\n",
              "      <td>1</td>\n",
              "      <td>False</td>\n",
              "    </tr>\n",
              "    <tr>\n",
              "      <th>2</th>\n",
              "      <td>NJ</td>\n",
              "      <td>137</td>\n",
              "      <td>415</td>\n",
              "      <td>no</td>\n",
              "      <td>no</td>\n",
              "      <td>0</td>\n",
              "      <td>243.4</td>\n",
              "      <td>114</td>\n",
              "      <td>41.38</td>\n",
              "      <td>121.2</td>\n",
              "      <td>110</td>\n",
              "      <td>10.30</td>\n",
              "      <td>162.6</td>\n",
              "      <td>104</td>\n",
              "      <td>7.32</td>\n",
              "      <td>12.2</td>\n",
              "      <td>5</td>\n",
              "      <td>3.29</td>\n",
              "      <td>0</td>\n",
              "      <td>False</td>\n",
              "    </tr>\n",
              "    <tr>\n",
              "      <th>3</th>\n",
              "      <td>OH</td>\n",
              "      <td>84</td>\n",
              "      <td>408</td>\n",
              "      <td>yes</td>\n",
              "      <td>no</td>\n",
              "      <td>0</td>\n",
              "      <td>299.4</td>\n",
              "      <td>71</td>\n",
              "      <td>50.90</td>\n",
              "      <td>61.9</td>\n",
              "      <td>88</td>\n",
              "      <td>5.26</td>\n",
              "      <td>196.9</td>\n",
              "      <td>89</td>\n",
              "      <td>8.86</td>\n",
              "      <td>6.6</td>\n",
              "      <td>7</td>\n",
              "      <td>1.78</td>\n",
              "      <td>2</td>\n",
              "      <td>False</td>\n",
              "    </tr>\n",
              "    <tr>\n",
              "      <th>4</th>\n",
              "      <td>OK</td>\n",
              "      <td>75</td>\n",
              "      <td>415</td>\n",
              "      <td>yes</td>\n",
              "      <td>no</td>\n",
              "      <td>0</td>\n",
              "      <td>166.7</td>\n",
              "      <td>113</td>\n",
              "      <td>28.34</td>\n",
              "      <td>148.3</td>\n",
              "      <td>122</td>\n",
              "      <td>12.61</td>\n",
              "      <td>186.9</td>\n",
              "      <td>121</td>\n",
              "      <td>8.41</td>\n",
              "      <td>10.1</td>\n",
              "      <td>3</td>\n",
              "      <td>2.73</td>\n",
              "      <td>3</td>\n",
              "      <td>False</td>\n",
              "    </tr>\n",
              "  </tbody>\n",
              "</table>\n",
              "</div>"
            ],
            "text/plain": [
              "  state  account_length  area_code  ... intl_charge custserv_calls  churn\n",
              "0    KS             128        415  ...        2.70              1  False\n",
              "1    OH             107        415  ...        3.70              1  False\n",
              "2    NJ             137        415  ...        3.29              0  False\n",
              "3    OH              84        408  ...        1.78              2  False\n",
              "4    OK              75        415  ...        2.73              3  False\n",
              "\n",
              "[5 rows x 20 columns]"
            ]
          },
          "metadata": {},
          "execution_count": 23
        }
      ],
      "source": [
        "data = pd.read_csv('https://raw.git.generalassemb.ly/DSIR-111/dsir-111/master/week-07/7.04-lesson-regularizing-NNs/data/cell_phone_churn.csv?token=AAAIYYFLRGODW3OZCFYNVWDBYJA46')\n",
        "data.head()"
      ]
    },
    {
      "cell_type": "code",
      "execution_count": 24,
      "metadata": {
        "id": "XOkM5MUWTmoM"
      },
      "outputs": [],
      "source": [
        "# Drop state and area_code column\n",
        "data.drop(columns = ['state', 'area_code'], inplace = True)\n",
        "\n",
        "# Binarize intil_plan and vmail_plan columns\n",
        "data['intl_plan'] = data['intl_plan'].map(lambda x: 1 if x=='yes' else 0)\n",
        "data['vmail_plan'] = data['vmail_plan'].map(lambda x: 1 if x=='yes' else 0)"
      ]
    },
    {
      "cell_type": "code",
      "execution_count": 25,
      "metadata": {
        "id": "E1rNXpm4TmoM"
      },
      "outputs": [],
      "source": [
        "# Split into X and y\n",
        "X = data.drop('churn', axis=1)\n",
        "y = data['churn'].astype('int')\n",
        "\n",
        "# Train/test split\n",
        "X_train, X_test, y_train, y_test = train_test_split(X, y, stratify=y, random_state=42)\n",
        "\n",
        "# Scale data\n",
        "sc = StandardScaler()\n",
        "X_train = sc.fit_transform(X_train)\n",
        "X_test = sc.transform(X_test)"
      ]
    },
    {
      "cell_type": "code",
      "source": [
        "1 - y.mean()"
      ],
      "metadata": {
        "colab": {
          "base_uri": "https://localhost:8080/"
        },
        "id": "fVwSGxw1x2Mu",
        "outputId": "027c9c4b-66ed-424f-a975-492b15af0106"
      },
      "execution_count": 26,
      "outputs": [
        {
          "output_type": "execute_result",
          "data": {
            "text/plain": [
              "0.8550855085508551"
            ]
          },
          "metadata": {},
          "execution_count": 26
        }
      ]
    },
    {
      "cell_type": "code",
      "source": [
        "y.value_counts(normalize = True)"
      ],
      "metadata": {
        "colab": {
          "base_uri": "https://localhost:8080/"
        },
        "id": "fpAOHBTwx6CE",
        "outputId": "aed928d5-c026-40ad-e472-424a96c28536"
      },
      "execution_count": 27,
      "outputs": [
        {
          "output_type": "execute_result",
          "data": {
            "text/plain": [
              "0    0.855086\n",
              "1    0.144914\n",
              "Name: churn, dtype: float64"
            ]
          },
          "metadata": {},
          "execution_count": 27
        }
      ]
    },
    {
      "cell_type": "markdown",
      "metadata": {
        "id": "Ts-Fgj6iTmoN"
      },
      "source": [
        "## Build a simple neural net to model churn\n",
        "\n",
        "Let's build this:\n",
        "\n",
        "- a dense network,\n",
        "- two hidden layers \n",
        "  - first the same size as the input\n",
        "  - second slightly smaller than input\n",
        "  - ReLU activation\n",
        "- single node output (for binary classification)"
      ]
    },
    {
      "cell_type": "markdown",
      "metadata": {
        "id": "8LqjdjIJTmoN"
      },
      "source": [
        "<details><summary>What activation function will we use for our output layer here?</summary>\n",
        "\n",
        "- Sigmoid activation, since we are doing binary classification.\n",
        "\n",
        "Fun fact: If we dropped the hidden layer, this model would just be logistic regression!  Can you prove that to yourself?\n",
        "</details>"
      ]
    },
    {
      "cell_type": "code",
      "execution_count": 28,
      "metadata": {
        "colab": {
          "base_uri": "https://localhost:8080/"
        },
        "id": "7IEvtlPgTmoO",
        "outputId": "66c578ec-2ad5-4b59-df50-89314a0d9d50"
      },
      "outputs": [
        {
          "output_type": "execute_result",
          "data": {
            "text/plain": [
              "17"
            ]
          },
          "metadata": {},
          "execution_count": 28
        }
      ],
      "source": [
        "# Insert model here...\n",
        "n_input = X_train.shape[1]\n",
        "\n",
        "n_input"
      ]
    },
    {
      "cell_type": "code",
      "source": [
        "model = Sequential()\n",
        "model.add(Dense(17, input_dim = n_input, activation= 'relu'))\n",
        "model.add(Dense(10, activation='relu'))\n",
        "model.add(Dense(1, activation = 'sigmoid'))"
      ],
      "metadata": {
        "id": "Bw0VEAJcyWsF"
      },
      "execution_count": 29,
      "outputs": []
    },
    {
      "cell_type": "code",
      "source": [
        "model.summary()"
      ],
      "metadata": {
        "colab": {
          "base_uri": "https://localhost:8080/"
        },
        "id": "qR2a4h9Qyo_4",
        "outputId": "f6d7f41d-efd5-4a77-fb94-50b1fc651948"
      },
      "execution_count": 30,
      "outputs": [
        {
          "output_type": "stream",
          "name": "stdout",
          "text": [
            "Model: \"sequential_3\"\n",
            "_________________________________________________________________\n",
            " Layer (type)                Output Shape              Param #   \n",
            "=================================================================\n",
            " dense_9 (Dense)             (None, 17)                306       \n",
            "                                                                 \n",
            " dense_10 (Dense)            (None, 10)                180       \n",
            "                                                                 \n",
            " dense_11 (Dense)            (None, 1)                 11        \n",
            "                                                                 \n",
            "=================================================================\n",
            "Total params: 497\n",
            "Trainable params: 497\n",
            "Non-trainable params: 0\n",
            "_________________________________________________________________\n"
          ]
        }
      ]
    },
    {
      "cell_type": "code",
      "execution_count": 31,
      "metadata": {
        "id": "irFR0OECTmoO"
      },
      "outputs": [],
      "source": [
        "# Compile it\n",
        "model.compile(loss = 'binary_crossentropy', optimizer='adam', metrics = ['acc']) # loss = 'bce'"
      ]
    },
    {
      "cell_type": "code",
      "execution_count": 33,
      "metadata": {
        "colab": {
          "base_uri": "https://localhost:8080/"
        },
        "id": "MZ9liKYJTmoO",
        "outputId": "101da26f-9c85-4dc8-89ab-0add08d27446"
      },
      "outputs": [
        {
          "output_type": "stream",
          "name": "stdout",
          "text": [
            "Epoch 1/100\n",
            "79/79 - 0s - loss: 0.1210 - acc: 0.9648 - val_loss: 0.2378 - val_acc: 0.9209 - 177ms/epoch - 2ms/step\n",
            "Epoch 2/100\n",
            "79/79 - 0s - loss: 0.1204 - acc: 0.9648 - val_loss: 0.2364 - val_acc: 0.9221 - 164ms/epoch - 2ms/step\n",
            "Epoch 3/100\n",
            "79/79 - 0s - loss: 0.1194 - acc: 0.9644 - val_loss: 0.2367 - val_acc: 0.9209 - 179ms/epoch - 2ms/step\n",
            "Epoch 4/100\n",
            "79/79 - 0s - loss: 0.1188 - acc: 0.9656 - val_loss: 0.2366 - val_acc: 0.9269 - 168ms/epoch - 2ms/step\n",
            "Epoch 5/100\n",
            "79/79 - 0s - loss: 0.1197 - acc: 0.9656 - val_loss: 0.2397 - val_acc: 0.9209 - 181ms/epoch - 2ms/step\n",
            "Epoch 6/100\n",
            "79/79 - 0s - loss: 0.1182 - acc: 0.9664 - val_loss: 0.2381 - val_acc: 0.9269 - 187ms/epoch - 2ms/step\n",
            "Epoch 7/100\n",
            "79/79 - 0s - loss: 0.1180 - acc: 0.9676 - val_loss: 0.2373 - val_acc: 0.9209 - 185ms/epoch - 2ms/step\n",
            "Epoch 8/100\n",
            "79/79 - 0s - loss: 0.1165 - acc: 0.9672 - val_loss: 0.2390 - val_acc: 0.9257 - 145ms/epoch - 2ms/step\n",
            "Epoch 9/100\n",
            "79/79 - 0s - loss: 0.1170 - acc: 0.9672 - val_loss: 0.2365 - val_acc: 0.9221 - 183ms/epoch - 2ms/step\n",
            "Epoch 10/100\n",
            "79/79 - 0s - loss: 0.1155 - acc: 0.9676 - val_loss: 0.2379 - val_acc: 0.9245 - 189ms/epoch - 2ms/step\n",
            "Epoch 11/100\n",
            "79/79 - 0s - loss: 0.1155 - acc: 0.9680 - val_loss: 0.2366 - val_acc: 0.9233 - 180ms/epoch - 2ms/step\n",
            "Epoch 12/100\n",
            "79/79 - 0s - loss: 0.1145 - acc: 0.9668 - val_loss: 0.2359 - val_acc: 0.9245 - 149ms/epoch - 2ms/step\n",
            "Epoch 13/100\n",
            "79/79 - 0s - loss: 0.1146 - acc: 0.9688 - val_loss: 0.2349 - val_acc: 0.9257 - 137ms/epoch - 2ms/step\n",
            "Epoch 14/100\n",
            "79/79 - 0s - loss: 0.1139 - acc: 0.9680 - val_loss: 0.2388 - val_acc: 0.9221 - 189ms/epoch - 2ms/step\n",
            "Epoch 15/100\n",
            "79/79 - 0s - loss: 0.1139 - acc: 0.9680 - val_loss: 0.2404 - val_acc: 0.9245 - 162ms/epoch - 2ms/step\n",
            "Epoch 16/100\n",
            "79/79 - 0s - loss: 0.1126 - acc: 0.9700 - val_loss: 0.2424 - val_acc: 0.9221 - 144ms/epoch - 2ms/step\n",
            "Epoch 17/100\n",
            "79/79 - 0s - loss: 0.1137 - acc: 0.9680 - val_loss: 0.2370 - val_acc: 0.9197 - 145ms/epoch - 2ms/step\n",
            "Epoch 18/100\n",
            "79/79 - 0s - loss: 0.1145 - acc: 0.9676 - val_loss: 0.2357 - val_acc: 0.9233 - 145ms/epoch - 2ms/step\n",
            "Epoch 19/100\n",
            "79/79 - 0s - loss: 0.1126 - acc: 0.9680 - val_loss: 0.2383 - val_acc: 0.9257 - 154ms/epoch - 2ms/step\n",
            "Epoch 20/100\n",
            "79/79 - 0s - loss: 0.1113 - acc: 0.9684 - val_loss: 0.2353 - val_acc: 0.9209 - 204ms/epoch - 3ms/step\n",
            "Epoch 21/100\n",
            "79/79 - 0s - loss: 0.1108 - acc: 0.9696 - val_loss: 0.2381 - val_acc: 0.9209 - 178ms/epoch - 2ms/step\n",
            "Epoch 22/100\n",
            "79/79 - 0s - loss: 0.1108 - acc: 0.9676 - val_loss: 0.2395 - val_acc: 0.9233 - 142ms/epoch - 2ms/step\n",
            "Epoch 23/100\n",
            "79/79 - 0s - loss: 0.1097 - acc: 0.9692 - val_loss: 0.2409 - val_acc: 0.9257 - 186ms/epoch - 2ms/step\n",
            "Epoch 24/100\n",
            "79/79 - 0s - loss: 0.1111 - acc: 0.9656 - val_loss: 0.2362 - val_acc: 0.9281 - 147ms/epoch - 2ms/step\n",
            "Epoch 25/100\n",
            "79/79 - 0s - loss: 0.1090 - acc: 0.9688 - val_loss: 0.2367 - val_acc: 0.9233 - 190ms/epoch - 2ms/step\n",
            "Epoch 26/100\n",
            "79/79 - 0s - loss: 0.1085 - acc: 0.9700 - val_loss: 0.2369 - val_acc: 0.9257 - 181ms/epoch - 2ms/step\n",
            "Epoch 27/100\n",
            "79/79 - 0s - loss: 0.1080 - acc: 0.9696 - val_loss: 0.2389 - val_acc: 0.9245 - 189ms/epoch - 2ms/step\n",
            "Epoch 28/100\n",
            "79/79 - 0s - loss: 0.1080 - acc: 0.9704 - val_loss: 0.2373 - val_acc: 0.9245 - 192ms/epoch - 2ms/step\n",
            "Epoch 29/100\n",
            "79/79 - 0s - loss: 0.1076 - acc: 0.9696 - val_loss: 0.2357 - val_acc: 0.9209 - 194ms/epoch - 2ms/step\n",
            "Epoch 30/100\n",
            "79/79 - 0s - loss: 0.1074 - acc: 0.9680 - val_loss: 0.2362 - val_acc: 0.9245 - 156ms/epoch - 2ms/step\n",
            "Epoch 31/100\n",
            "79/79 - 0s - loss: 0.1071 - acc: 0.9688 - val_loss: 0.2393 - val_acc: 0.9281 - 150ms/epoch - 2ms/step\n",
            "Epoch 32/100\n",
            "79/79 - 0s - loss: 0.1062 - acc: 0.9708 - val_loss: 0.2410 - val_acc: 0.9233 - 160ms/epoch - 2ms/step\n",
            "Epoch 33/100\n",
            "79/79 - 0s - loss: 0.1062 - acc: 0.9688 - val_loss: 0.2381 - val_acc: 0.9257 - 199ms/epoch - 3ms/step\n",
            "Epoch 34/100\n",
            "79/79 - 0s - loss: 0.1052 - acc: 0.9696 - val_loss: 0.2369 - val_acc: 0.9233 - 144ms/epoch - 2ms/step\n",
            "Epoch 35/100\n",
            "79/79 - 0s - loss: 0.1048 - acc: 0.9712 - val_loss: 0.2374 - val_acc: 0.9269 - 151ms/epoch - 2ms/step\n",
            "Epoch 36/100\n",
            "79/79 - 0s - loss: 0.1060 - acc: 0.9700 - val_loss: 0.2399 - val_acc: 0.9245 - 151ms/epoch - 2ms/step\n",
            "Epoch 37/100\n",
            "79/79 - 0s - loss: 0.1037 - acc: 0.9676 - val_loss: 0.2398 - val_acc: 0.9245 - 151ms/epoch - 2ms/step\n",
            "Epoch 38/100\n",
            "79/79 - 0s - loss: 0.1039 - acc: 0.9704 - val_loss: 0.2363 - val_acc: 0.9221 - 148ms/epoch - 2ms/step\n",
            "Epoch 39/100\n",
            "79/79 - 0s - loss: 0.1038 - acc: 0.9708 - val_loss: 0.2381 - val_acc: 0.9293 - 187ms/epoch - 2ms/step\n",
            "Epoch 40/100\n",
            "79/79 - 0s - loss: 0.1036 - acc: 0.9692 - val_loss: 0.2383 - val_acc: 0.9245 - 146ms/epoch - 2ms/step\n",
            "Epoch 41/100\n",
            "79/79 - 0s - loss: 0.1042 - acc: 0.9696 - val_loss: 0.2375 - val_acc: 0.9257 - 146ms/epoch - 2ms/step\n",
            "Epoch 42/100\n",
            "79/79 - 0s - loss: 0.1030 - acc: 0.9700 - val_loss: 0.2366 - val_acc: 0.9257 - 160ms/epoch - 2ms/step\n",
            "Epoch 43/100\n",
            "79/79 - 0s - loss: 0.1022 - acc: 0.9712 - val_loss: 0.2380 - val_acc: 0.9221 - 187ms/epoch - 2ms/step\n",
            "Epoch 44/100\n",
            "79/79 - 0s - loss: 0.1013 - acc: 0.9720 - val_loss: 0.2366 - val_acc: 0.9197 - 158ms/epoch - 2ms/step\n",
            "Epoch 45/100\n",
            "79/79 - 0s - loss: 0.1018 - acc: 0.9712 - val_loss: 0.2385 - val_acc: 0.9209 - 180ms/epoch - 2ms/step\n",
            "Epoch 46/100\n",
            "79/79 - 0s - loss: 0.1014 - acc: 0.9704 - val_loss: 0.2363 - val_acc: 0.9269 - 151ms/epoch - 2ms/step\n",
            "Epoch 47/100\n",
            "79/79 - 0s - loss: 0.1001 - acc: 0.9720 - val_loss: 0.2383 - val_acc: 0.9185 - 181ms/epoch - 2ms/step\n",
            "Epoch 48/100\n",
            "79/79 - 0s - loss: 0.1006 - acc: 0.9708 - val_loss: 0.2389 - val_acc: 0.9257 - 152ms/epoch - 2ms/step\n",
            "Epoch 49/100\n",
            "79/79 - 0s - loss: 0.1006 - acc: 0.9692 - val_loss: 0.2384 - val_acc: 0.9233 - 143ms/epoch - 2ms/step\n",
            "Epoch 50/100\n",
            "79/79 - 0s - loss: 0.0991 - acc: 0.9696 - val_loss: 0.2402 - val_acc: 0.9257 - 180ms/epoch - 2ms/step\n",
            "Epoch 51/100\n",
            "79/79 - 0s - loss: 0.0997 - acc: 0.9716 - val_loss: 0.2415 - val_acc: 0.9281 - 155ms/epoch - 2ms/step\n",
            "Epoch 52/100\n",
            "79/79 - 0s - loss: 0.0988 - acc: 0.9704 - val_loss: 0.2410 - val_acc: 0.9257 - 188ms/epoch - 2ms/step\n",
            "Epoch 53/100\n",
            "79/79 - 0s - loss: 0.0985 - acc: 0.9716 - val_loss: 0.2421 - val_acc: 0.9209 - 183ms/epoch - 2ms/step\n",
            "Epoch 54/100\n",
            "79/79 - 0s - loss: 0.0990 - acc: 0.9716 - val_loss: 0.2401 - val_acc: 0.9233 - 152ms/epoch - 2ms/step\n",
            "Epoch 55/100\n",
            "79/79 - 0s - loss: 0.0978 - acc: 0.9716 - val_loss: 0.2412 - val_acc: 0.9233 - 178ms/epoch - 2ms/step\n",
            "Epoch 56/100\n",
            "79/79 - 0s - loss: 0.0981 - acc: 0.9704 - val_loss: 0.2401 - val_acc: 0.9209 - 188ms/epoch - 2ms/step\n",
            "Epoch 57/100\n",
            "79/79 - 0s - loss: 0.0966 - acc: 0.9712 - val_loss: 0.2416 - val_acc: 0.9281 - 196ms/epoch - 2ms/step\n",
            "Epoch 58/100\n",
            "79/79 - 0s - loss: 0.0969 - acc: 0.9704 - val_loss: 0.2418 - val_acc: 0.9221 - 186ms/epoch - 2ms/step\n",
            "Epoch 59/100\n",
            "79/79 - 0s - loss: 0.0964 - acc: 0.9696 - val_loss: 0.2390 - val_acc: 0.9245 - 163ms/epoch - 2ms/step\n",
            "Epoch 60/100\n",
            "79/79 - 0s - loss: 0.0965 - acc: 0.9716 - val_loss: 0.2409 - val_acc: 0.9221 - 182ms/epoch - 2ms/step\n",
            "Epoch 61/100\n",
            "79/79 - 0s - loss: 0.0962 - acc: 0.9700 - val_loss: 0.2472 - val_acc: 0.9209 - 190ms/epoch - 2ms/step\n",
            "Epoch 62/100\n",
            "79/79 - 0s - loss: 0.0967 - acc: 0.9720 - val_loss: 0.2434 - val_acc: 0.9281 - 185ms/epoch - 2ms/step\n",
            "Epoch 63/100\n",
            "79/79 - 0s - loss: 0.0957 - acc: 0.9708 - val_loss: 0.2422 - val_acc: 0.9269 - 181ms/epoch - 2ms/step\n",
            "Epoch 64/100\n",
            "79/79 - 0s - loss: 0.0947 - acc: 0.9720 - val_loss: 0.2407 - val_acc: 0.9197 - 156ms/epoch - 2ms/step\n",
            "Epoch 65/100\n",
            "79/79 - 0s - loss: 0.0941 - acc: 0.9728 - val_loss: 0.2415 - val_acc: 0.9233 - 191ms/epoch - 2ms/step\n",
            "Epoch 66/100\n",
            "79/79 - 0s - loss: 0.0939 - acc: 0.9724 - val_loss: 0.2413 - val_acc: 0.9257 - 156ms/epoch - 2ms/step\n",
            "Epoch 67/100\n",
            "79/79 - 0s - loss: 0.0931 - acc: 0.9740 - val_loss: 0.2468 - val_acc: 0.9221 - 188ms/epoch - 2ms/step\n",
            "Epoch 68/100\n",
            "79/79 - 0s - loss: 0.0939 - acc: 0.9732 - val_loss: 0.2418 - val_acc: 0.9209 - 154ms/epoch - 2ms/step\n",
            "Epoch 69/100\n",
            "79/79 - 0s - loss: 0.0932 - acc: 0.9712 - val_loss: 0.2426 - val_acc: 0.9221 - 183ms/epoch - 2ms/step\n",
            "Epoch 70/100\n",
            "79/79 - 0s - loss: 0.0928 - acc: 0.9736 - val_loss: 0.2406 - val_acc: 0.9281 - 144ms/epoch - 2ms/step\n",
            "Epoch 71/100\n",
            "79/79 - 0s - loss: 0.0933 - acc: 0.9732 - val_loss: 0.2439 - val_acc: 0.9305 - 163ms/epoch - 2ms/step\n",
            "Epoch 72/100\n",
            "79/79 - 0s - loss: 0.0930 - acc: 0.9732 - val_loss: 0.2425 - val_acc: 0.9233 - 150ms/epoch - 2ms/step\n",
            "Epoch 73/100\n",
            "79/79 - 0s - loss: 0.0931 - acc: 0.9728 - val_loss: 0.2455 - val_acc: 0.9209 - 189ms/epoch - 2ms/step\n",
            "Epoch 74/100\n",
            "79/79 - 0s - loss: 0.0931 - acc: 0.9704 - val_loss: 0.2438 - val_acc: 0.9233 - 158ms/epoch - 2ms/step\n",
            "Epoch 75/100\n",
            "79/79 - 0s - loss: 0.0980 - acc: 0.9696 - val_loss: 0.2437 - val_acc: 0.9197 - 187ms/epoch - 2ms/step\n",
            "Epoch 76/100\n",
            "79/79 - 0s - loss: 0.0914 - acc: 0.9740 - val_loss: 0.2428 - val_acc: 0.9197 - 154ms/epoch - 2ms/step\n",
            "Epoch 77/100\n",
            "79/79 - 0s - loss: 0.0909 - acc: 0.9724 - val_loss: 0.2450 - val_acc: 0.9185 - 189ms/epoch - 2ms/step\n",
            "Epoch 78/100\n",
            "79/79 - 0s - loss: 0.0905 - acc: 0.9724 - val_loss: 0.2448 - val_acc: 0.9269 - 183ms/epoch - 2ms/step\n",
            "Epoch 79/100\n",
            "79/79 - 0s - loss: 0.0909 - acc: 0.9740 - val_loss: 0.2435 - val_acc: 0.9185 - 189ms/epoch - 2ms/step\n",
            "Epoch 80/100\n",
            "79/79 - 0s - loss: 0.0908 - acc: 0.9744 - val_loss: 0.2448 - val_acc: 0.9209 - 153ms/epoch - 2ms/step\n",
            "Epoch 81/100\n",
            "79/79 - 0s - loss: 0.0902 - acc: 0.9744 - val_loss: 0.2429 - val_acc: 0.9233 - 164ms/epoch - 2ms/step\n",
            "Epoch 82/100\n",
            "79/79 - 0s - loss: 0.0896 - acc: 0.9732 - val_loss: 0.2409 - val_acc: 0.9233 - 146ms/epoch - 2ms/step\n",
            "Epoch 83/100\n",
            "79/79 - 0s - loss: 0.0888 - acc: 0.9724 - val_loss: 0.2439 - val_acc: 0.9221 - 190ms/epoch - 2ms/step\n",
            "Epoch 84/100\n",
            "79/79 - 0s - loss: 0.0891 - acc: 0.9744 - val_loss: 0.2435 - val_acc: 0.9209 - 193ms/epoch - 2ms/step\n",
            "Epoch 85/100\n",
            "79/79 - 0s - loss: 0.0897 - acc: 0.9724 - val_loss: 0.2470 - val_acc: 0.9161 - 186ms/epoch - 2ms/step\n",
            "Epoch 86/100\n",
            "79/79 - 0s - loss: 0.0889 - acc: 0.9740 - val_loss: 0.2449 - val_acc: 0.9281 - 183ms/epoch - 2ms/step\n",
            "Epoch 87/100\n",
            "79/79 - 0s - loss: 0.0902 - acc: 0.9728 - val_loss: 0.2445 - val_acc: 0.9185 - 155ms/epoch - 2ms/step\n",
            "Epoch 88/100\n",
            "79/79 - 0s - loss: 0.0878 - acc: 0.9740 - val_loss: 0.2462 - val_acc: 0.9269 - 155ms/epoch - 2ms/step\n",
            "Epoch 89/100\n",
            "79/79 - 0s - loss: 0.0882 - acc: 0.9748 - val_loss: 0.2498 - val_acc: 0.9269 - 148ms/epoch - 2ms/step\n",
            "Epoch 90/100\n",
            "79/79 - 0s - loss: 0.0881 - acc: 0.9740 - val_loss: 0.2467 - val_acc: 0.9293 - 188ms/epoch - 2ms/step\n",
            "Epoch 91/100\n",
            "79/79 - 0s - loss: 0.0876 - acc: 0.9736 - val_loss: 0.2476 - val_acc: 0.9173 - 184ms/epoch - 2ms/step\n",
            "Epoch 92/100\n",
            "79/79 - 0s - loss: 0.0866 - acc: 0.9768 - val_loss: 0.2500 - val_acc: 0.9149 - 185ms/epoch - 2ms/step\n",
            "Epoch 93/100\n",
            "79/79 - 0s - loss: 0.0872 - acc: 0.9724 - val_loss: 0.2486 - val_acc: 0.9257 - 154ms/epoch - 2ms/step\n",
            "Epoch 94/100\n",
            "79/79 - 0s - loss: 0.0865 - acc: 0.9744 - val_loss: 0.2459 - val_acc: 0.9209 - 188ms/epoch - 2ms/step\n",
            "Epoch 95/100\n",
            "79/79 - 0s - loss: 0.0870 - acc: 0.9724 - val_loss: 0.2471 - val_acc: 0.9197 - 155ms/epoch - 2ms/step\n",
            "Epoch 96/100\n",
            "79/79 - 0s - loss: 0.0869 - acc: 0.9740 - val_loss: 0.2452 - val_acc: 0.9257 - 185ms/epoch - 2ms/step\n",
            "Epoch 97/100\n",
            "79/79 - 0s - loss: 0.0859 - acc: 0.9756 - val_loss: 0.2507 - val_acc: 0.9185 - 157ms/epoch - 2ms/step\n",
            "Epoch 98/100\n",
            "79/79 - 0s - loss: 0.0867 - acc: 0.9756 - val_loss: 0.2522 - val_acc: 0.9149 - 186ms/epoch - 2ms/step\n",
            "Epoch 99/100\n",
            "79/79 - 0s - loss: 0.0861 - acc: 0.9744 - val_loss: 0.2502 - val_acc: 0.9245 - 191ms/epoch - 2ms/step\n",
            "Epoch 100/100\n",
            "79/79 - 0s - loss: 0.0858 - acc: 0.9744 - val_loss: 0.2480 - val_acc: 0.9293 - 182ms/epoch - 2ms/step\n"
          ]
        }
      ],
      "source": [
        "# Fit it\n",
        "\n",
        "history = model.fit(X_train,\n",
        "                    y_train,\n",
        "                    validation_data = (X_test, y_test),\n",
        "                    epochs = 100,\n",
        "                    batch_size = None,\n",
        "                    verbose = 2\n",
        "                    )"
      ]
    },
    {
      "cell_type": "code",
      "execution_count": null,
      "metadata": {
        "id": "asQyVszxTmoP"
      },
      "outputs": [],
      "source": [
        "# Look, Ma, the machine is learning!"
      ]
    },
    {
      "cell_type": "code",
      "execution_count": 34,
      "metadata": {
        "colab": {
          "base_uri": "https://localhost:8080/",
          "height": 483
        },
        "id": "JzR4ftqSTmoP",
        "outputId": "07c3a15e-db79-420d-9b8e-977624bad17f"
      },
      "outputs": [
        {
          "output_type": "display_data",
          "data": {
            "image/png": "[encoded data removed]",
            "text/plain": [
              "<Figure size 864x576 with 1 Axes>"
            ]
          },
          "metadata": {
            "needs_background": "light"
          }
        }
      ],
      "source": [
        "# Visualize the loss\n",
        "train_loss = history.history['loss']\n",
        "test_loss = history.history['val_loss']\n",
        "\n",
        "plt.figure(figsize=(12, 8))\n",
        "plt.plot(train_loss, label='Training loss', color='navy')\n",
        "plt.plot(test_loss, label='Testing loss', color='skyblue')\n",
        "plt.legend();"
      ]
    },
    {
      "cell_type": "markdown",
      "metadata": {
        "id": "XbP1v_LhTmoP"
      },
      "source": [
        "![](assets/overkill.jpg)"
      ]
    },
    {
      "cell_type": "code",
      "source": [
        "history.history['acc'][-1], history.history['val_acc'][-1]"
      ],
      "metadata": {
        "colab": {
          "base_uri": "https://localhost:8080/"
        },
        "id": "FCqS9ICvz7mW",
        "outputId": "cbddd654-83cc-4c7c-993f-d97ec4f3114e"
      },
      "execution_count": 35,
      "outputs": [
        {
          "output_type": "execute_result",
          "data": {
            "text/plain": [
              "(0.9743897318840027, 0.9292566180229187)"
            ]
          },
          "metadata": {},
          "execution_count": 35
        }
      ]
    },
    {
      "cell_type": "code",
      "source": [
        "model.summary()"
      ],
      "metadata": {
        "colab": {
          "base_uri": "https://localhost:8080/"
        },
        "id": "8F4aUsK3z7W8",
        "outputId": "70279272-0f46-495a-9a78-5fd4cd9deca9"
      },
      "execution_count": 36,
      "outputs": [
        {
          "output_type": "stream",
          "name": "stdout",
          "text": [
            "Model: \"sequential_3\"\n",
            "_________________________________________________________________\n",
            " Layer (type)                Output Shape              Param #   \n",
            "=================================================================\n",
            " dense_9 (Dense)             (None, 17)                306       \n",
            "                                                                 \n",
            " dense_10 (Dense)            (None, 10)                180       \n",
            "                                                                 \n",
            " dense_11 (Dense)            (None, 1)                 11        \n",
            "                                                                 \n",
            "=================================================================\n",
            "Total params: 497\n",
            "Trainable params: 497\n",
            "Non-trainable params: 0\n",
            "_________________________________________________________________\n"
          ]
        }
      ]
    },
    {
      "cell_type": "markdown",
      "metadata": {
        "id": "AvVrhW9xTmoP"
      },
      "source": [
        "<a id='l1'></a>\n",
        "## Regularization Method 1: $\\mathcal{l}_1$ and $\\mathcal{l}_2$\n",
        "---\n",
        "Just as we did with linear models, we can use $\\mathcal{l}_1$ (LASSO) and $\\mathcal{l}_2$ (Ridge) regularization on our neural networks.\n",
        "\n",
        "Recall from our notation:\n",
        "\n",
        "* $J(\\theta) = L(\\mathbf{y}, \\hat{\\mathbf{y}})$ is the value of the loss function with respect to...\n",
        "* $\\theta$, the list of _all_ model coefficients (all weights and biases).\n",
        "\n",
        "We regularize our neural networks by adding a penalty term to our loss function:\n",
        "\n",
        "$$ \\text{minimize } J(\\theta) + \\lambda \\|\\theta\\|_2^2 $$\n",
        "\n",
        "This has the effect of penalizing our parameters $\\theta$ by shrinking them, hence bartering in the bias-variance tradeoff by (hopefully) reducing variance by adding bias. Although it is rarely done, **Keras actually gives us the opportunity to penalize the weights at different layers by different amounts.**\n",
        "\n",
        "## Which to pick: $\\mathcal{l}_1$ or $\\mathcal{l}_2$?\n",
        "Recall the key difference: $\\mathcal{l}_1$ penalties perform _selection_. That is, they often zero out parameters when they're small enough. While this sounds appealing, $\\mathcal{l}_2$ is used almost exclusively. It's done so often, that deep learning practitions give it a special name: **weight decay**."
      ]
    },
    {
      "cell_type": "code",
      "execution_count": 37,
      "metadata": {
        "colab": {
          "base_uri": "https://localhost:8080/"
        },
        "id": "gZogzwHdTmoP",
        "outputId": "61cf9e57-6a92-4917-b106-ef706ae79cac"
      },
      "outputs": [
        {
          "output_type": "stream",
          "name": "stdout",
          "text": [
            "Epoch 1/100\n",
            "79/79 [==============================] - 1s 5ms/step - loss: 0.7824 - acc: 0.3725 - val_loss: 0.6499 - val_acc: 0.8165\n",
            "Epoch 2/100\n",
            "79/79 [==============================] - 0s 3ms/step - loss: 0.5784 - acc: 0.8515 - val_loss: 0.5229 - val_acc: 0.8549\n",
            "Epoch 3/100\n",
            "79/79 [==============================] - 0s 3ms/step - loss: 0.4913 - acc: 0.8551 - val_loss: 0.4665 - val_acc: 0.8549\n",
            "Epoch 4/100\n",
            "79/79 [==============================] - 0s 3ms/step - loss: 0.4505 - acc: 0.8551 - val_loss: 0.4378 - val_acc: 0.8549\n",
            "Epoch 5/100\n",
            "79/79 [==============================] - 0s 3ms/step - loss: 0.4271 - acc: 0.8551 - val_loss: 0.4184 - val_acc: 0.8549\n",
            "Epoch 6/100\n",
            "79/79 [==============================] - 0s 2ms/step - loss: 0.4086 - acc: 0.8551 - val_loss: 0.4001 - val_acc: 0.8549\n",
            "Epoch 7/100\n",
            "79/79 [==============================] - 0s 2ms/step - loss: 0.3891 - acc: 0.8567 - val_loss: 0.3820 - val_acc: 0.8537\n",
            "Epoch 8/100\n",
            "79/79 [==============================] - 0s 2ms/step - loss: 0.3727 - acc: 0.8655 - val_loss: 0.3684 - val_acc: 0.8693\n",
            "Epoch 9/100\n",
            "79/79 [==============================] - 0s 3ms/step - loss: 0.3602 - acc: 0.8683 - val_loss: 0.3585 - val_acc: 0.8765\n",
            "Epoch 10/100\n",
            "79/79 [==============================] - 0s 2ms/step - loss: 0.3492 - acc: 0.8739 - val_loss: 0.3498 - val_acc: 0.8777\n",
            "Epoch 11/100\n",
            "79/79 [==============================] - 0s 2ms/step - loss: 0.3383 - acc: 0.8756 - val_loss: 0.3411 - val_acc: 0.8813\n",
            "Epoch 12/100\n",
            "79/79 [==============================] - 0s 2ms/step - loss: 0.3270 - acc: 0.8772 - val_loss: 0.3323 - val_acc: 0.8885\n",
            "Epoch 13/100\n",
            "79/79 [==============================] - 0s 3ms/step - loss: 0.3155 - acc: 0.8852 - val_loss: 0.3236 - val_acc: 0.8957\n",
            "Epoch 14/100\n",
            "79/79 [==============================] - 0s 2ms/step - loss: 0.3049 - acc: 0.8884 - val_loss: 0.3163 - val_acc: 0.8981\n",
            "Epoch 15/100\n",
            "79/79 [==============================] - 0s 3ms/step - loss: 0.2944 - acc: 0.9032 - val_loss: 0.3100 - val_acc: 0.9005\n",
            "Epoch 16/100\n",
            "79/79 [==============================] - 0s 2ms/step - loss: 0.2860 - acc: 0.9028 - val_loss: 0.3041 - val_acc: 0.9029\n",
            "Epoch 17/100\n",
            "79/79 [==============================] - 0s 2ms/step - loss: 0.2785 - acc: 0.9088 - val_loss: 0.2999 - val_acc: 0.9041\n",
            "Epoch 18/100\n",
            "79/79 [==============================] - 0s 2ms/step - loss: 0.2730 - acc: 0.9140 - val_loss: 0.2966 - val_acc: 0.9053\n",
            "Epoch 19/100\n",
            "79/79 [==============================] - 0s 3ms/step - loss: 0.2679 - acc: 0.9200 - val_loss: 0.2941 - val_acc: 0.9065\n",
            "Epoch 20/100\n",
            "79/79 [==============================] - 0s 3ms/step - loss: 0.2636 - acc: 0.9188 - val_loss: 0.2921 - val_acc: 0.9101\n",
            "Epoch 21/100\n",
            "79/79 [==============================] - 0s 2ms/step - loss: 0.2601 - acc: 0.9248 - val_loss: 0.2899 - val_acc: 0.9077\n",
            "Epoch 22/100\n",
            "79/79 [==============================] - 0s 3ms/step - loss: 0.2571 - acc: 0.9260 - val_loss: 0.2895 - val_acc: 0.9089\n",
            "Epoch 23/100\n",
            "79/79 [==============================] - 0s 2ms/step - loss: 0.2545 - acc: 0.9296 - val_loss: 0.2880 - val_acc: 0.9113\n",
            "Epoch 24/100\n",
            "79/79 [==============================] - 0s 3ms/step - loss: 0.2524 - acc: 0.9312 - val_loss: 0.2875 - val_acc: 0.9065\n",
            "Epoch 25/100\n",
            "79/79 [==============================] - 0s 2ms/step - loss: 0.2503 - acc: 0.9348 - val_loss: 0.2858 - val_acc: 0.9113\n",
            "Epoch 26/100\n",
            "79/79 [==============================] - 0s 2ms/step - loss: 0.2488 - acc: 0.9344 - val_loss: 0.2858 - val_acc: 0.9161\n",
            "Epoch 27/100\n",
            "79/79 [==============================] - 0s 3ms/step - loss: 0.2466 - acc: 0.9388 - val_loss: 0.2859 - val_acc: 0.9137\n",
            "Epoch 28/100\n",
            "79/79 [==============================] - 0s 3ms/step - loss: 0.2454 - acc: 0.9392 - val_loss: 0.2843 - val_acc: 0.9149\n",
            "Epoch 29/100\n",
            "79/79 [==============================] - 0s 2ms/step - loss: 0.2438 - acc: 0.9388 - val_loss: 0.2828 - val_acc: 0.9125\n",
            "Epoch 30/100\n",
            "79/79 [==============================] - 0s 2ms/step - loss: 0.2424 - acc: 0.9384 - val_loss: 0.2821 - val_acc: 0.9161\n",
            "Epoch 31/100\n",
            "79/79 [==============================] - 0s 3ms/step - loss: 0.2413 - acc: 0.9408 - val_loss: 0.2828 - val_acc: 0.9149\n",
            "Epoch 32/100\n",
            "79/79 [==============================] - 0s 2ms/step - loss: 0.2401 - acc: 0.9408 - val_loss: 0.2828 - val_acc: 0.9149\n",
            "Epoch 33/100\n",
            "79/79 [==============================] - 0s 3ms/step - loss: 0.2393 - acc: 0.9416 - val_loss: 0.2813 - val_acc: 0.9149\n",
            "Epoch 34/100\n",
            "79/79 [==============================] - 0s 3ms/step - loss: 0.2383 - acc: 0.9420 - val_loss: 0.2819 - val_acc: 0.9149\n",
            "Epoch 35/100\n",
            "79/79 [==============================] - 0s 3ms/step - loss: 0.2374 - acc: 0.9416 - val_loss: 0.2813 - val_acc: 0.9161\n",
            "Epoch 36/100\n",
            "79/79 [==============================] - 0s 3ms/step - loss: 0.2362 - acc: 0.9408 - val_loss: 0.2814 - val_acc: 0.9185\n",
            "Epoch 37/100\n",
            "79/79 [==============================] - 0s 3ms/step - loss: 0.2355 - acc: 0.9416 - val_loss: 0.2812 - val_acc: 0.9161\n",
            "Epoch 38/100\n",
            "79/79 [==============================] - 0s 2ms/step - loss: 0.2348 - acc: 0.9412 - val_loss: 0.2799 - val_acc: 0.9197\n",
            "Epoch 39/100\n",
            "79/79 [==============================] - 0s 3ms/step - loss: 0.2338 - acc: 0.9432 - val_loss: 0.2794 - val_acc: 0.9173\n",
            "Epoch 40/100\n",
            "79/79 [==============================] - 0s 3ms/step - loss: 0.2337 - acc: 0.9440 - val_loss: 0.2783 - val_acc: 0.9197\n",
            "Epoch 41/100\n",
            "79/79 [==============================] - 0s 3ms/step - loss: 0.2330 - acc: 0.9420 - val_loss: 0.2777 - val_acc: 0.9209\n",
            "Epoch 42/100\n",
            "79/79 [==============================] - 0s 3ms/step - loss: 0.2321 - acc: 0.9420 - val_loss: 0.2777 - val_acc: 0.9233\n",
            "Epoch 43/100\n",
            "79/79 [==============================] - 0s 2ms/step - loss: 0.2311 - acc: 0.9448 - val_loss: 0.2776 - val_acc: 0.9185\n",
            "Epoch 44/100\n",
            "79/79 [==============================] - 0s 2ms/step - loss: 0.2309 - acc: 0.9440 - val_loss: 0.2784 - val_acc: 0.9173\n",
            "Epoch 45/100\n",
            "79/79 [==============================] - 0s 3ms/step - loss: 0.2296 - acc: 0.9428 - val_loss: 0.2780 - val_acc: 0.9209\n",
            "Epoch 46/100\n",
            "79/79 [==============================] - 0s 2ms/step - loss: 0.2299 - acc: 0.9448 - val_loss: 0.2778 - val_acc: 0.9173\n",
            "Epoch 47/100\n",
            "79/79 [==============================] - 0s 3ms/step - loss: 0.2290 - acc: 0.9456 - val_loss: 0.2770 - val_acc: 0.9209\n",
            "Epoch 48/100\n",
            "79/79 [==============================] - 0s 3ms/step - loss: 0.2296 - acc: 0.9444 - val_loss: 0.2775 - val_acc: 0.9185\n",
            "Epoch 49/100\n",
            "79/79 [==============================] - 0s 2ms/step - loss: 0.2280 - acc: 0.9436 - val_loss: 0.2773 - val_acc: 0.9185\n",
            "Epoch 50/100\n",
            "79/79 [==============================] - 0s 2ms/step - loss: 0.2277 - acc: 0.9468 - val_loss: 0.2764 - val_acc: 0.9221\n",
            "Epoch 51/100\n",
            "79/79 [==============================] - 0s 3ms/step - loss: 0.2266 - acc: 0.9448 - val_loss: 0.2781 - val_acc: 0.9197\n",
            "Epoch 52/100\n",
            "79/79 [==============================] - 0s 2ms/step - loss: 0.2264 - acc: 0.9448 - val_loss: 0.2775 - val_acc: 0.9185\n",
            "Epoch 53/100\n",
            "79/79 [==============================] - 0s 2ms/step - loss: 0.2258 - acc: 0.9464 - val_loss: 0.2768 - val_acc: 0.9197\n",
            "Epoch 54/100\n",
            "79/79 [==============================] - 0s 3ms/step - loss: 0.2260 - acc: 0.9452 - val_loss: 0.2771 - val_acc: 0.9173\n",
            "Epoch 55/100\n",
            "79/79 [==============================] - 0s 3ms/step - loss: 0.2252 - acc: 0.9480 - val_loss: 0.2760 - val_acc: 0.9185\n",
            "Epoch 56/100\n",
            "79/79 [==============================] - 0s 2ms/step - loss: 0.2251 - acc: 0.9448 - val_loss: 0.2773 - val_acc: 0.9233\n",
            "Epoch 57/100\n",
            "79/79 [==============================] - 0s 2ms/step - loss: 0.2248 - acc: 0.9480 - val_loss: 0.2777 - val_acc: 0.9233\n",
            "Epoch 58/100\n",
            "79/79 [==============================] - 0s 2ms/step - loss: 0.2242 - acc: 0.9468 - val_loss: 0.2768 - val_acc: 0.9209\n",
            "Epoch 59/100\n",
            "79/79 [==============================] - 0s 3ms/step - loss: 0.2239 - acc: 0.9480 - val_loss: 0.2771 - val_acc: 0.9209\n",
            "Epoch 60/100\n",
            "79/79 [==============================] - 0s 3ms/step - loss: 0.2241 - acc: 0.9468 - val_loss: 0.2785 - val_acc: 0.9209\n",
            "Epoch 61/100\n",
            "79/79 [==============================] - 0s 3ms/step - loss: 0.2233 - acc: 0.9484 - val_loss: 0.2775 - val_acc: 0.9233\n",
            "Epoch 62/100\n",
            "79/79 [==============================] - 0s 2ms/step - loss: 0.2231 - acc: 0.9476 - val_loss: 0.2778 - val_acc: 0.9209\n",
            "Epoch 63/100\n",
            "79/79 [==============================] - 0s 2ms/step - loss: 0.2231 - acc: 0.9476 - val_loss: 0.2772 - val_acc: 0.9209\n",
            "Epoch 64/100\n",
            "79/79 [==============================] - 0s 3ms/step - loss: 0.2227 - acc: 0.9472 - val_loss: 0.2775 - val_acc: 0.9209\n",
            "Epoch 65/100\n",
            "79/79 [==============================] - 0s 3ms/step - loss: 0.2227 - acc: 0.9476 - val_loss: 0.2762 - val_acc: 0.9185\n",
            "Epoch 66/100\n",
            "79/79 [==============================] - 0s 3ms/step - loss: 0.2222 - acc: 0.9476 - val_loss: 0.2767 - val_acc: 0.9173\n",
            "Epoch 67/100\n",
            "79/79 [==============================] - 0s 2ms/step - loss: 0.2214 - acc: 0.9500 - val_loss: 0.2759 - val_acc: 0.9197\n",
            "Epoch 68/100\n",
            "79/79 [==============================] - 0s 3ms/step - loss: 0.2218 - acc: 0.9464 - val_loss: 0.2770 - val_acc: 0.9197\n",
            "Epoch 69/100\n",
            "79/79 [==============================] - 0s 3ms/step - loss: 0.2216 - acc: 0.9476 - val_loss: 0.2764 - val_acc: 0.9233\n",
            "Epoch 70/100\n",
            "79/79 [==============================] - 0s 3ms/step - loss: 0.2209 - acc: 0.9488 - val_loss: 0.2761 - val_acc: 0.9185\n",
            "Epoch 71/100\n",
            "79/79 [==============================] - 0s 3ms/step - loss: 0.2207 - acc: 0.9500 - val_loss: 0.2755 - val_acc: 0.9209\n",
            "Epoch 72/100\n",
            "79/79 [==============================] - 0s 2ms/step - loss: 0.2203 - acc: 0.9480 - val_loss: 0.2760 - val_acc: 0.9233\n",
            "Epoch 73/100\n",
            "79/79 [==============================] - 0s 2ms/step - loss: 0.2203 - acc: 0.9496 - val_loss: 0.2749 - val_acc: 0.9221\n",
            "Epoch 74/100\n",
            "79/79 [==============================] - 0s 3ms/step - loss: 0.2203 - acc: 0.9484 - val_loss: 0.2761 - val_acc: 0.9257\n",
            "Epoch 75/100\n",
            "79/79 [==============================] - 0s 2ms/step - loss: 0.2203 - acc: 0.9484 - val_loss: 0.2769 - val_acc: 0.9269\n",
            "Epoch 76/100\n",
            "79/79 [==============================] - 0s 3ms/step - loss: 0.2200 - acc: 0.9484 - val_loss: 0.2751 - val_acc: 0.9245\n",
            "Epoch 77/100\n",
            "79/79 [==============================] - 0s 3ms/step - loss: 0.2196 - acc: 0.9504 - val_loss: 0.2748 - val_acc: 0.9173\n",
            "Epoch 78/100\n",
            "79/79 [==============================] - 0s 3ms/step - loss: 0.2196 - acc: 0.9492 - val_loss: 0.2757 - val_acc: 0.9209\n",
            "Epoch 79/100\n",
            "79/79 [==============================] - 0s 3ms/step - loss: 0.2195 - acc: 0.9488 - val_loss: 0.2761 - val_acc: 0.9257\n",
            "Epoch 80/100\n",
            "79/79 [==============================] - 0s 2ms/step - loss: 0.2187 - acc: 0.9500 - val_loss: 0.2751 - val_acc: 0.9245\n",
            "Epoch 81/100\n",
            "79/79 [==============================] - 0s 2ms/step - loss: 0.2191 - acc: 0.9504 - val_loss: 0.2751 - val_acc: 0.9209\n",
            "Epoch 82/100\n",
            "79/79 [==============================] - 0s 2ms/step - loss: 0.2185 - acc: 0.9492 - val_loss: 0.2751 - val_acc: 0.9221\n",
            "Epoch 83/100\n",
            "79/79 [==============================] - 0s 3ms/step - loss: 0.2190 - acc: 0.9492 - val_loss: 0.2770 - val_acc: 0.9245\n",
            "Epoch 84/100\n",
            "79/79 [==============================] - 0s 3ms/step - loss: 0.2186 - acc: 0.9508 - val_loss: 0.2755 - val_acc: 0.9173\n",
            "Epoch 85/100\n",
            "79/79 [==============================] - 0s 2ms/step - loss: 0.2184 - acc: 0.9508 - val_loss: 0.2754 - val_acc: 0.9257\n",
            "Epoch 86/100\n",
            "79/79 [==============================] - 0s 3ms/step - loss: 0.2185 - acc: 0.9492 - val_loss: 0.2762 - val_acc: 0.9221\n",
            "Epoch 87/100\n",
            "79/79 [==============================] - 0s 2ms/step - loss: 0.2179 - acc: 0.9520 - val_loss: 0.2748 - val_acc: 0.9221\n",
            "Epoch 88/100\n",
            "79/79 [==============================] - 0s 2ms/step - loss: 0.2179 - acc: 0.9508 - val_loss: 0.2749 - val_acc: 0.9221\n",
            "Epoch 89/100\n",
            "79/79 [==============================] - 0s 3ms/step - loss: 0.2192 - acc: 0.9492 - val_loss: 0.2764 - val_acc: 0.9233\n",
            "Epoch 90/100\n",
            "79/79 [==============================] - 0s 2ms/step - loss: 0.2178 - acc: 0.9508 - val_loss: 0.2768 - val_acc: 0.9197\n",
            "Epoch 91/100\n",
            "79/79 [==============================] - 0s 3ms/step - loss: 0.2176 - acc: 0.9512 - val_loss: 0.2775 - val_acc: 0.9221\n",
            "Epoch 92/100\n",
            "79/79 [==============================] - 0s 2ms/step - loss: 0.2174 - acc: 0.9504 - val_loss: 0.2754 - val_acc: 0.9257\n",
            "Epoch 93/100\n",
            "79/79 [==============================] - 0s 2ms/step - loss: 0.2175 - acc: 0.9496 - val_loss: 0.2764 - val_acc: 0.9257\n",
            "Epoch 94/100\n",
            "79/79 [==============================] - 0s 2ms/step - loss: 0.2176 - acc: 0.9492 - val_loss: 0.2766 - val_acc: 0.9281\n",
            "Epoch 95/100\n",
            "79/79 [==============================] - 0s 2ms/step - loss: 0.2170 - acc: 0.9512 - val_loss: 0.2762 - val_acc: 0.9245\n",
            "Epoch 96/100\n",
            "79/79 [==============================] - 0s 3ms/step - loss: 0.2175 - acc: 0.9492 - val_loss: 0.2757 - val_acc: 0.9233\n",
            "Epoch 97/100\n",
            "79/79 [==============================] - 0s 3ms/step - loss: 0.2170 - acc: 0.9528 - val_loss: 0.2761 - val_acc: 0.9257\n",
            "Epoch 98/100\n",
            "79/79 [==============================] - 0s 2ms/step - loss: 0.2167 - acc: 0.9496 - val_loss: 0.2749 - val_acc: 0.9245\n",
            "Epoch 99/100\n",
            "79/79 [==============================] - 0s 2ms/step - loss: 0.2166 - acc: 0.9516 - val_loss: 0.2754 - val_acc: 0.9245\n",
            "Epoch 100/100\n",
            "79/79 [==============================] - 0s 2ms/step - loss: 0.2166 - acc: 0.9520 - val_loss: 0.2760 - val_acc: 0.9257\n"
          ]
        }
      ],
      "source": [
        "# Import regularizers\n",
        "from tensorflow.keras.regularizers import l2\n",
        "# Model\n",
        "model_l2 = Sequential()\n",
        "\n",
        "n_input = X_train.shape[1]\n",
        "\n",
        "model_l2.add(Dense(\n",
        "    17,\n",
        "    input_dim = n_input,\n",
        "    activation = 'relu',\n",
        "    kernel_regularizer = l2(0.001)\n",
        "))\n",
        "\n",
        "model_l2.add(Dense(\n",
        "    10,\n",
        "    activation = 'sigmoid',\n",
        "    kernel_regularizer = l2(0.001)\n",
        "))\n",
        "\n",
        "model_l2.add(Dense(\n",
        "    1,\n",
        "    activation = 'sigmoid',\n",
        "    kernel_regularizer = l2(0.001)\n",
        "))\n",
        "\n",
        "# Compile it\n",
        "\n",
        "model_l2.compile(\n",
        "    loss = 'bce',\n",
        "    optimizer = 'adam',\n",
        "    metrics = ['acc']\n",
        ")\n",
        "\n",
        "# Fit it\n",
        "history_l2 = model_l2.fit(\n",
        "    X_train,\n",
        "    y_train,\n",
        "    validation_data = (X_test, y_test),\n",
        "    epochs = 100,\n",
        "    batch_size = None\n",
        ")"
      ]
    },
    {
      "cell_type": "code",
      "execution_count": 38,
      "metadata": {
        "colab": {
          "base_uri": "https://localhost:8080/",
          "height": 483
        },
        "id": "1stQ7nRSTmoQ",
        "outputId": "b45ded45-705a-4d32-f9aa-81837e044cf4"
      },
      "outputs": [
        {
          "output_type": "display_data",
          "data": {
            "image/png": "[encoded data removed]",
            "text/plain": [
              "<Figure size 864x576 with 1 Axes>"
            ]
          },
          "metadata": {
            "needs_background": "light"
          }
        }
      ],
      "source": [
        "# Visualize loss\n",
        "train_loss_l2 = history_l2.history['loss']\n",
        "test_loss_l2 = history_l2.history['val_loss']\n",
        "\n",
        "plt.figure(figsize=(12, 8))\n",
        "plt.plot(train_loss, label='Training loss', color='navy')\n",
        "plt.plot(test_loss, label='Testing loss', color='skyblue')\n",
        "plt.plot(train_loss_l2, label='L2 Training loss', color='darkred')\n",
        "plt.plot(test_loss_l2, label='L2 Testing loss', color='pink')\n",
        "plt.legend();"
      ]
    },
    {
      "cell_type": "code",
      "source": [
        "history_l2.history['acc'][-1], history_l2.history['val_acc'][-1]"
      ],
      "metadata": {
        "colab": {
          "base_uri": "https://localhost:8080/"
        },
        "id": "b7t_MIoZ20Nh",
        "outputId": "74c64010-6848-4db3-a71e-e34bc3549437"
      },
      "execution_count": 39,
      "outputs": [
        {
          "output_type": "execute_result",
          "data": {
            "text/plain": [
              "(0.9519807696342468, 0.9256594777107239)"
            ]
          },
          "metadata": {},
          "execution_count": 39
        }
      ]
    },
    {
      "cell_type": "markdown",
      "metadata": {
        "id": "xBoh-QHOTmoQ"
      },
      "source": [
        "## Keras Resources\n",
        "- [Keras Regularization Documentation](https://keras.io/regularizers/)\n",
        "- [Kernel vs. Activity Regularizers](https://github.com/keras-team/keras/issues/3236)\n",
        "\n",
        "## Tensorflow Resources\n",
        "- [Implementation in Tensorflow](https://www.tensorflow.org/versions/r0.12/api_docs/python/contrib.layers/regularizers)\n",
        "- [Example in Tensorflow](http://www.ritchieng.com/machine-learning/deep-learning/tensorflow/regularization/)"
      ]
    },
    {
      "cell_type": "markdown",
      "metadata": {
        "id": "ZTzYZ_URTmoQ"
      },
      "source": [
        "<a id='dropout'></a>\n",
        "## Regularization Method 2: Dropout\n",
        "---\n",
        "There's another method of regularizing our terms that is specifically designed for neural networks, called **dropout regularization.**"
      ]
    },
    {
      "cell_type": "markdown",
      "metadata": {
        "id": "4K2bDhlhTmoQ"
      },
      "source": [
        "Let's say we've constructed a neural network. We've decided on the number of layers we want and the number of nodes in each layer. (We might say that we've decided on the **topology** or **structure** of our network.)\n",
        "\n",
        "![](./assets/original_nn.jpeg)\n",
        "\n",
        "However, a densely connected network like this will almost certainly overfit. Our network is learning a parameter for every single connection.\n",
        "\n",
        "> In the above example, we have 55 parameters being learned - and this is a very simple network, all things considered.\n",
        "\n",
        "> We can overcome this by using **dropout regularization**. \n",
        "\n",
        "In dropout regularization, we randomly **drop** units (nodes) in our neural network ***during our training phase only***. We assign a probability of each node disappearing. Then, we essentially perform a coinflip for every node to turn that node \"on\" or \"off.\"\n",
        "\n",
        "Let's go through an example to illustrate this: For simplicity, we'll say we've assigned a 0.5 probability of keeping to every node in the network above. Then, for every node, we flip a coin, and if the coin lands on heads, the node remains, if it lands on tails, the node disappears. After we've done this for every node, we're left with a new network that looks something like this:\n",
        "\n",
        "![](./assets/after_dropout.jpeg)\n",
        "\n",
        "<!--\n",
        "Image sources: https://pgaleone.eu/deep-learning/regularization/2017/01/10/anaysis-of-dropout/\n",
        "Also, it seems, this site: http://cs231n.github.io/neural-networks-2/\n",
        "-->\n",
        "\n",
        "Let's explicitly lay out the general workflow you would follow:\n",
        "\n",
        "1. Specify the topology of your neural network.\n",
        "2. Initialize your weights and biases.\n",
        "3. Specify the \"keeping probabilities\" for every node. (Generally, we'll assign the same probability to all nodes in each layer and usually the same probability to all hidden layers.)\n",
        "4. Perform a \"coin flip\" for each node and drop out the chosen nodes.\n",
        "5. Run through one epoch of training.\n",
        "6. Repeat steps 4 and 5 for each epoch of training."
      ]
    },
    {
      "cell_type": "markdown",
      "metadata": {
        "id": "KyxHj7o1TmoQ"
      },
      "source": [
        "![](https://cdn.analyticsvidhya.com/wp-content/uploads/2018/04/1IrdJ5PghD9YoOyVAQ73MJw.gif)"
      ]
    },
    {
      "cell_type": "markdown",
      "metadata": {
        "id": "oPMK0cg0TmoR"
      },
      "source": [
        "<details><summary>If I drop out a node during one of my epochs, does it disappear from my final network?</summary>\n",
        "\n",
        "- No!\n",
        "</details>"
      ]
    },
    {
      "cell_type": "markdown",
      "metadata": {
        "id": "rRGcTmjzTmoR"
      },
      "source": [
        "#### So, what does this do?\n",
        "<!-- <br/> -->\n",
        "The intuition behind dropout is that, since each node has a probability of disappearing at any time, the neural network is disincentivized from allocating too much power to any one weight. It has a similar effect as imposing an L2 penalty: the magnitude of our weights shrinks."
      ]
    },
    {
      "cell_type": "markdown",
      "metadata": {
        "id": "Bqw59nHuTmoR"
      },
      "source": [
        "<details><summary>What might be some potential problems with doing this?</summary>\n",
        "\n",
        "- expected values of nodes changes\n",
        "- induces bias\n",
        "</details>"
      ]
    },
    {
      "cell_type": "markdown",
      "metadata": {
        "id": "XVObjRrPTmoR"
      },
      "source": [
        "So we've now run through every epoch of our training phase and we're ready to apply our neural network to our validation or testing data.\n",
        "\n",
        "<details><summary>Are we going to apply dropout to this data as well?</summary>\n",
        "\n",
        "- No!\n",
        "</details>"
      ]
    },
    {
      "cell_type": "markdown",
      "metadata": {
        "id": "IKvuTr2pTmoR"
      },
      "source": [
        "#### Best practices:\n",
        "\n",
        "- Don't set any keeping probabilities for layers you where you don't want to drop any nodes.\n",
        "\n",
        "<details><summary>What might be examples of these layers?</summary>\n",
        "\n",
        "- Input layers\n",
        "- Output layers\n",
        "</details>"
      ]
    },
    {
      "cell_type": "markdown",
      "metadata": {
        "id": "gDMYXncgTmoR"
      },
      "source": [
        "- You'll generally want to specify a single keeping probability and all the layers on which you want to apply dropout, instead of specifying different keeping probabilities for each layer."
      ]
    },
    {
      "cell_type": "code",
      "execution_count": 40,
      "metadata": {
        "colab": {
          "base_uri": "https://localhost:8080/"
        },
        "id": "4rqK_qnzTmoR",
        "outputId": "70365dea-8118-4742-bfcc-08aa4ac51a24"
      },
      "outputs": [
        {
          "output_type": "stream",
          "name": "stdout",
          "text": [
            "Epoch 1/100\n",
            "79/79 [==============================] - 1s 4ms/step - loss: 0.5392 - acc: 0.7315 - val_loss: 0.4143 - val_acc: 0.8501\n",
            "Epoch 2/100\n",
            "79/79 [==============================] - 0s 3ms/step - loss: 0.4378 - acc: 0.8383 - val_loss: 0.3750 - val_acc: 0.8597\n",
            "Epoch 3/100\n",
            "79/79 [==============================] - 0s 3ms/step - loss: 0.4048 - acc: 0.8527 - val_loss: 0.3576 - val_acc: 0.8621\n",
            "Epoch 4/100\n",
            "79/79 [==============================] - 0s 3ms/step - loss: 0.3937 - acc: 0.8543 - val_loss: 0.3500 - val_acc: 0.8621\n",
            "Epoch 5/100\n",
            "79/79 [==============================] - 0s 3ms/step - loss: 0.3757 - acc: 0.8575 - val_loss: 0.3436 - val_acc: 0.8609\n",
            "Epoch 6/100\n",
            "79/79 [==============================] - 0s 2ms/step - loss: 0.3687 - acc: 0.8511 - val_loss: 0.3371 - val_acc: 0.8609\n",
            "Epoch 7/100\n",
            "79/79 [==============================] - 0s 2ms/step - loss: 0.3537 - acc: 0.8571 - val_loss: 0.3318 - val_acc: 0.8621\n",
            "Epoch 8/100\n",
            "79/79 [==============================] - 0s 2ms/step - loss: 0.3431 - acc: 0.8619 - val_loss: 0.3291 - val_acc: 0.8621\n",
            "Epoch 9/100\n",
            "79/79 [==============================] - 0s 2ms/step - loss: 0.3441 - acc: 0.8631 - val_loss: 0.3254 - val_acc: 0.8693\n",
            "Epoch 10/100\n",
            "79/79 [==============================] - 0s 3ms/step - loss: 0.3353 - acc: 0.8619 - val_loss: 0.3218 - val_acc: 0.8705\n",
            "Epoch 11/100\n",
            "79/79 [==============================] - 0s 2ms/step - loss: 0.3296 - acc: 0.8631 - val_loss: 0.3184 - val_acc: 0.8717\n",
            "Epoch 12/100\n",
            "79/79 [==============================] - 0s 3ms/step - loss: 0.3306 - acc: 0.8739 - val_loss: 0.3158 - val_acc: 0.8753\n",
            "Epoch 13/100\n",
            "79/79 [==============================] - 0s 2ms/step - loss: 0.3229 - acc: 0.8707 - val_loss: 0.3115 - val_acc: 0.8765\n",
            "Epoch 14/100\n",
            "79/79 [==============================] - 0s 3ms/step - loss: 0.3200 - acc: 0.8679 - val_loss: 0.3075 - val_acc: 0.8777\n",
            "Epoch 15/100\n",
            "79/79 [==============================] - 0s 2ms/step - loss: 0.3188 - acc: 0.8731 - val_loss: 0.3058 - val_acc: 0.8789\n",
            "Epoch 16/100\n",
            "79/79 [==============================] - 0s 2ms/step - loss: 0.3214 - acc: 0.8772 - val_loss: 0.3021 - val_acc: 0.8801\n",
            "Epoch 17/100\n",
            "79/79 [==============================] - 0s 2ms/step - loss: 0.3102 - acc: 0.8780 - val_loss: 0.2997 - val_acc: 0.8849\n",
            "Epoch 18/100\n",
            "79/79 [==============================] - 0s 3ms/step - loss: 0.3041 - acc: 0.8768 - val_loss: 0.2978 - val_acc: 0.8861\n",
            "Epoch 19/100\n",
            "79/79 [==============================] - 0s 3ms/step - loss: 0.3036 - acc: 0.8764 - val_loss: 0.2941 - val_acc: 0.8897\n",
            "Epoch 20/100\n",
            "79/79 [==============================] - 0s 3ms/step - loss: 0.3045 - acc: 0.8772 - val_loss: 0.2940 - val_acc: 0.8921\n",
            "Epoch 21/100\n",
            "79/79 [==============================] - 0s 3ms/step - loss: 0.2974 - acc: 0.8856 - val_loss: 0.2915 - val_acc: 0.8921\n",
            "Epoch 22/100\n",
            "79/79 [==============================] - 0s 3ms/step - loss: 0.2915 - acc: 0.8892 - val_loss: 0.2897 - val_acc: 0.8933\n",
            "Epoch 23/100\n",
            "79/79 [==============================] - 0s 2ms/step - loss: 0.2895 - acc: 0.8856 - val_loss: 0.2861 - val_acc: 0.8933\n",
            "Epoch 24/100\n",
            "79/79 [==============================] - 0s 3ms/step - loss: 0.2825 - acc: 0.8956 - val_loss: 0.2834 - val_acc: 0.8969\n",
            "Epoch 25/100\n",
            "79/79 [==============================] - 0s 3ms/step - loss: 0.2854 - acc: 0.8952 - val_loss: 0.2798 - val_acc: 0.8957\n",
            "Epoch 26/100\n",
            "79/79 [==============================] - 0s 3ms/step - loss: 0.2779 - acc: 0.8972 - val_loss: 0.2770 - val_acc: 0.8921\n",
            "Epoch 27/100\n",
            "79/79 [==============================] - 0s 2ms/step - loss: 0.2751 - acc: 0.9044 - val_loss: 0.2721 - val_acc: 0.8957\n",
            "Epoch 28/100\n",
            "79/79 [==============================] - 0s 3ms/step - loss: 0.2661 - acc: 0.8952 - val_loss: 0.2698 - val_acc: 0.8957\n",
            "Epoch 29/100\n",
            "79/79 [==============================] - 0s 3ms/step - loss: 0.2653 - acc: 0.9036 - val_loss: 0.2696 - val_acc: 0.8993\n",
            "Epoch 30/100\n",
            "79/79 [==============================] - 0s 3ms/step - loss: 0.2644 - acc: 0.9012 - val_loss: 0.2627 - val_acc: 0.8993\n",
            "Epoch 31/100\n",
            "79/79 [==============================] - 0s 3ms/step - loss: 0.2635 - acc: 0.9004 - val_loss: 0.2598 - val_acc: 0.9005\n",
            "Epoch 32/100\n",
            "79/79 [==============================] - 0s 3ms/step - loss: 0.2514 - acc: 0.9092 - val_loss: 0.2576 - val_acc: 0.9065\n",
            "Epoch 33/100\n",
            "79/79 [==============================] - 0s 3ms/step - loss: 0.2685 - acc: 0.9032 - val_loss: 0.2576 - val_acc: 0.9017\n",
            "Epoch 34/100\n",
            "79/79 [==============================] - 0s 3ms/step - loss: 0.2566 - acc: 0.9056 - val_loss: 0.2559 - val_acc: 0.9053\n",
            "Epoch 35/100\n",
            "79/79 [==============================] - 0s 3ms/step - loss: 0.2516 - acc: 0.9040 - val_loss: 0.2559 - val_acc: 0.9077\n",
            "Epoch 36/100\n",
            "79/79 [==============================] - 0s 2ms/step - loss: 0.2491 - acc: 0.9156 - val_loss: 0.2536 - val_acc: 0.9101\n",
            "Epoch 37/100\n",
            "79/79 [==============================] - 0s 3ms/step - loss: 0.2420 - acc: 0.9180 - val_loss: 0.2543 - val_acc: 0.9053\n",
            "Epoch 38/100\n",
            "79/79 [==============================] - 0s 3ms/step - loss: 0.2366 - acc: 0.9188 - val_loss: 0.2512 - val_acc: 0.9077\n",
            "Epoch 39/100\n",
            "79/79 [==============================] - 0s 3ms/step - loss: 0.2578 - acc: 0.9052 - val_loss: 0.2503 - val_acc: 0.9089\n",
            "Epoch 40/100\n",
            "79/79 [==============================] - 0s 2ms/step - loss: 0.2432 - acc: 0.9152 - val_loss: 0.2512 - val_acc: 0.9041\n",
            "Epoch 41/100\n",
            "79/79 [==============================] - 0s 2ms/step - loss: 0.2505 - acc: 0.9132 - val_loss: 0.2510 - val_acc: 0.9053\n",
            "Epoch 42/100\n",
            "79/79 [==============================] - 0s 3ms/step - loss: 0.2540 - acc: 0.9112 - val_loss: 0.2501 - val_acc: 0.9077\n",
            "Epoch 43/100\n",
            "79/79 [==============================] - 0s 2ms/step - loss: 0.2396 - acc: 0.9176 - val_loss: 0.2492 - val_acc: 0.9125\n",
            "Epoch 44/100\n",
            "79/79 [==============================] - 0s 2ms/step - loss: 0.2421 - acc: 0.9140 - val_loss: 0.2476 - val_acc: 0.9149\n",
            "Epoch 45/100\n",
            "79/79 [==============================] - 0s 3ms/step - loss: 0.2390 - acc: 0.9152 - val_loss: 0.2479 - val_acc: 0.9137\n",
            "Epoch 46/100\n",
            "79/79 [==============================] - 0s 3ms/step - loss: 0.2450 - acc: 0.9156 - val_loss: 0.2468 - val_acc: 0.9125\n",
            "Epoch 47/100\n",
            "79/79 [==============================] - 0s 3ms/step - loss: 0.2268 - acc: 0.9196 - val_loss: 0.2448 - val_acc: 0.9113\n",
            "Epoch 48/100\n",
            "79/79 [==============================] - 0s 3ms/step - loss: 0.2447 - acc: 0.9176 - val_loss: 0.2467 - val_acc: 0.9101\n",
            "Epoch 49/100\n",
            "79/79 [==============================] - 0s 2ms/step - loss: 0.2386 - acc: 0.9120 - val_loss: 0.2441 - val_acc: 0.9161\n",
            "Epoch 50/100\n",
            "79/79 [==============================] - 0s 3ms/step - loss: 0.2448 - acc: 0.9112 - val_loss: 0.2447 - val_acc: 0.9125\n",
            "Epoch 51/100\n",
            "79/79 [==============================] - 0s 3ms/step - loss: 0.2295 - acc: 0.9236 - val_loss: 0.2435 - val_acc: 0.9161\n",
            "Epoch 52/100\n",
            "79/79 [==============================] - 0s 2ms/step - loss: 0.2369 - acc: 0.9168 - val_loss: 0.2427 - val_acc: 0.9125\n",
            "Epoch 53/100\n",
            "79/79 [==============================] - 0s 3ms/step - loss: 0.2417 - acc: 0.9156 - val_loss: 0.2430 - val_acc: 0.9137\n",
            "Epoch 54/100\n",
            "79/79 [==============================] - 0s 3ms/step - loss: 0.2240 - acc: 0.9228 - val_loss: 0.2416 - val_acc: 0.9149\n",
            "Epoch 55/100\n",
            "79/79 [==============================] - 0s 3ms/step - loss: 0.2301 - acc: 0.9220 - val_loss: 0.2396 - val_acc: 0.9209\n",
            "Epoch 56/100\n",
            "79/79 [==============================] - 0s 3ms/step - loss: 0.2390 - acc: 0.9172 - val_loss: 0.2402 - val_acc: 0.9185\n",
            "Epoch 57/100\n",
            "79/79 [==============================] - 0s 3ms/step - loss: 0.2346 - acc: 0.9172 - val_loss: 0.2397 - val_acc: 0.9149\n",
            "Epoch 58/100\n",
            "79/79 [==============================] - 0s 3ms/step - loss: 0.2277 - acc: 0.9192 - val_loss: 0.2403 - val_acc: 0.9161\n",
            "Epoch 59/100\n",
            "79/79 [==============================] - 0s 2ms/step - loss: 0.2311 - acc: 0.9224 - val_loss: 0.2384 - val_acc: 0.9209\n",
            "Epoch 60/100\n",
            "79/79 [==============================] - 0s 3ms/step - loss: 0.2218 - acc: 0.9272 - val_loss: 0.2406 - val_acc: 0.9125\n",
            "Epoch 61/100\n",
            "79/79 [==============================] - 0s 2ms/step - loss: 0.2185 - acc: 0.9232 - val_loss: 0.2375 - val_acc: 0.9173\n",
            "Epoch 62/100\n",
            "79/79 [==============================] - 0s 2ms/step - loss: 0.2203 - acc: 0.9248 - val_loss: 0.2389 - val_acc: 0.9149\n",
            "Epoch 63/100\n",
            "79/79 [==============================] - 0s 2ms/step - loss: 0.2409 - acc: 0.9180 - val_loss: 0.2372 - val_acc: 0.9173\n",
            "Epoch 64/100\n",
            "79/79 [==============================] - 0s 3ms/step - loss: 0.2277 - acc: 0.9244 - val_loss: 0.2367 - val_acc: 0.9161\n",
            "Epoch 65/100\n",
            "79/79 [==============================] - 0s 2ms/step - loss: 0.2249 - acc: 0.9184 - val_loss: 0.2379 - val_acc: 0.9149\n",
            "Epoch 66/100\n",
            "79/79 [==============================] - 0s 3ms/step - loss: 0.2269 - acc: 0.9248 - val_loss: 0.2358 - val_acc: 0.9149\n",
            "Epoch 67/100\n",
            "79/79 [==============================] - 0s 3ms/step - loss: 0.2239 - acc: 0.9284 - val_loss: 0.2380 - val_acc: 0.9137\n",
            "Epoch 68/100\n",
            "79/79 [==============================] - 0s 2ms/step - loss: 0.2221 - acc: 0.9248 - val_loss: 0.2365 - val_acc: 0.9161\n",
            "Epoch 69/100\n",
            "79/79 [==============================] - 0s 2ms/step - loss: 0.2231 - acc: 0.9240 - val_loss: 0.2354 - val_acc: 0.9161\n",
            "Epoch 70/100\n",
            "79/79 [==============================] - 0s 2ms/step - loss: 0.2252 - acc: 0.9220 - val_loss: 0.2350 - val_acc: 0.9161\n",
            "Epoch 71/100\n",
            "79/79 [==============================] - 0s 3ms/step - loss: 0.2215 - acc: 0.9224 - val_loss: 0.2350 - val_acc: 0.9149\n",
            "Epoch 72/100\n",
            "79/79 [==============================] - 0s 2ms/step - loss: 0.2113 - acc: 0.9308 - val_loss: 0.2373 - val_acc: 0.9161\n",
            "Epoch 73/100\n",
            "79/79 [==============================] - 0s 3ms/step - loss: 0.2181 - acc: 0.9256 - val_loss: 0.2365 - val_acc: 0.9149\n",
            "Epoch 74/100\n",
            "79/79 [==============================] - 0s 3ms/step - loss: 0.2156 - acc: 0.9272 - val_loss: 0.2370 - val_acc: 0.9161\n",
            "Epoch 75/100\n",
            "79/79 [==============================] - 0s 3ms/step - loss: 0.2159 - acc: 0.9268 - val_loss: 0.2338 - val_acc: 0.9185\n",
            "Epoch 76/100\n",
            "79/79 [==============================] - 0s 3ms/step - loss: 0.2213 - acc: 0.9248 - val_loss: 0.2325 - val_acc: 0.9185\n",
            "Epoch 77/100\n",
            "79/79 [==============================] - 0s 3ms/step - loss: 0.2116 - acc: 0.9284 - val_loss: 0.2335 - val_acc: 0.9173\n",
            "Epoch 78/100\n",
            "79/79 [==============================] - 0s 3ms/step - loss: 0.2119 - acc: 0.9288 - val_loss: 0.2334 - val_acc: 0.9197\n",
            "Epoch 79/100\n",
            "79/79 [==============================] - 0s 3ms/step - loss: 0.2135 - acc: 0.9252 - val_loss: 0.2328 - val_acc: 0.9197\n",
            "Epoch 80/100\n",
            "79/79 [==============================] - 0s 3ms/step - loss: 0.2163 - acc: 0.9256 - val_loss: 0.2301 - val_acc: 0.9173\n",
            "Epoch 81/100\n",
            "79/79 [==============================] - 0s 3ms/step - loss: 0.2099 - acc: 0.9356 - val_loss: 0.2318 - val_acc: 0.9197\n",
            "Epoch 82/100\n",
            "79/79 [==============================] - 0s 2ms/step - loss: 0.2013 - acc: 0.9344 - val_loss: 0.2299 - val_acc: 0.9197\n",
            "Epoch 83/100\n",
            "79/79 [==============================] - 0s 2ms/step - loss: 0.2052 - acc: 0.9316 - val_loss: 0.2300 - val_acc: 0.9149\n",
            "Epoch 84/100\n",
            "79/79 [==============================] - 0s 2ms/step - loss: 0.2079 - acc: 0.9312 - val_loss: 0.2331 - val_acc: 0.9125\n",
            "Epoch 85/100\n",
            "79/79 [==============================] - 0s 3ms/step - loss: 0.2158 - acc: 0.9304 - val_loss: 0.2312 - val_acc: 0.9149\n",
            "Epoch 86/100\n",
            "79/79 [==============================] - 0s 3ms/step - loss: 0.2008 - acc: 0.9352 - val_loss: 0.2324 - val_acc: 0.9173\n",
            "Epoch 87/100\n",
            "79/79 [==============================] - 0s 2ms/step - loss: 0.2077 - acc: 0.9276 - val_loss: 0.2304 - val_acc: 0.9185\n",
            "Epoch 88/100\n",
            "79/79 [==============================] - 0s 3ms/step - loss: 0.2008 - acc: 0.9360 - val_loss: 0.2308 - val_acc: 0.9185\n",
            "Epoch 89/100\n",
            "79/79 [==============================] - 0s 2ms/step - loss: 0.2022 - acc: 0.9348 - val_loss: 0.2297 - val_acc: 0.9185\n",
            "Epoch 90/100\n",
            "79/79 [==============================] - 0s 2ms/step - loss: 0.2101 - acc: 0.9332 - val_loss: 0.2288 - val_acc: 0.9209\n",
            "Epoch 91/100\n",
            "79/79 [==============================] - 0s 2ms/step - loss: 0.2066 - acc: 0.9308 - val_loss: 0.2262 - val_acc: 0.9245\n",
            "Epoch 92/100\n",
            "79/79 [==============================] - 0s 2ms/step - loss: 0.2035 - acc: 0.9328 - val_loss: 0.2257 - val_acc: 0.9233\n",
            "Epoch 93/100\n",
            "79/79 [==============================] - 0s 2ms/step - loss: 0.2104 - acc: 0.9296 - val_loss: 0.2277 - val_acc: 0.9173\n",
            "Epoch 94/100\n",
            "79/79 [==============================] - 0s 2ms/step - loss: 0.1973 - acc: 0.9372 - val_loss: 0.2277 - val_acc: 0.9149\n",
            "Epoch 95/100\n",
            "79/79 [==============================] - 0s 3ms/step - loss: 0.2049 - acc: 0.9308 - val_loss: 0.2255 - val_acc: 0.9209\n",
            "Epoch 96/100\n",
            "79/79 [==============================] - 0s 3ms/step - loss: 0.1963 - acc: 0.9364 - val_loss: 0.2261 - val_acc: 0.9173\n",
            "Epoch 97/100\n",
            "79/79 [==============================] - 0s 3ms/step - loss: 0.1908 - acc: 0.9376 - val_loss: 0.2261 - val_acc: 0.9185\n",
            "Epoch 98/100\n",
            "79/79 [==============================] - 0s 3ms/step - loss: 0.1969 - acc: 0.9372 - val_loss: 0.2277 - val_acc: 0.9185\n",
            "Epoch 99/100\n",
            "79/79 [==============================] - 0s 3ms/step - loss: 0.1973 - acc: 0.9324 - val_loss: 0.2254 - val_acc: 0.9221\n",
            "Epoch 100/100\n",
            "79/79 [==============================] - 0s 2ms/step - loss: 0.2000 - acc: 0.9300 - val_loss: 0.2257 - val_acc: 0.9185\n"
          ]
        }
      ],
      "source": [
        "# Build a model using Dropout\n",
        "from tensorflow.keras.layers import Dropout\n",
        "\n",
        "model_dropout = Sequential()\n",
        "\n",
        "n_input = X_train.shape[1]\n",
        "\n",
        "n_hidden = n_input\n",
        "\n",
        "model_dropout.add(Dense(n_hidden, input_dim = n_input, activation='relu'))\n",
        "model_dropout.add(Dropout(0.2)) # Refers to nodes in the first hidden layer\n",
        "model_dropout.add(Dense(10, activation = 'relu'))\n",
        "model_dropout.add(Dropout(0.2))\n",
        "model_dropout.add(Dense(1, activation = 'sigmoid'))\n",
        "\n",
        "model_dropout.compile(loss = 'bce', optimizer = 'adam', metrics = ['acc'])\n",
        "\n",
        "history_dropout = model_dropout.fit(\n",
        "    X_train,\n",
        "    y_train,\n",
        "    validation_data = (X_test, y_test),\n",
        "    epochs = 100,\n",
        "    batch_size = None\n",
        ")"
      ]
    },
    {
      "cell_type": "code",
      "execution_count": 41,
      "metadata": {
        "colab": {
          "base_uri": "https://localhost:8080/",
          "height": 483
        },
        "id": "R7L9JJQeTmoR",
        "outputId": "45230c3c-e4d5-413a-e2e7-9acf3b1fa9c9"
      },
      "outputs": [
        {
          "output_type": "display_data",
          "data": {
            "image/png": "[encoded data removed]",
            "text/plain": [
              "<Figure size 864x576 with 1 Axes>"
            ]
          },
          "metadata": {
            "needs_background": "light"
          }
        }
      ],
      "source": [
        "# Visualize loss\n",
        "train_loss_dropout = history_dropout.history['loss']\n",
        "test_loss_dropout = history_dropout.history['val_loss']\n",
        "\n",
        "plt.figure(figsize=(12, 8))\n",
        "plt.plot(train_loss, label='Training loss', color='navy')\n",
        "plt.plot(test_loss, label='Testing loss', color='skyblue')\n",
        "plt.plot(train_loss_dropout, label='Dropout Training loss', color='darkgreen')\n",
        "plt.plot(test_loss_dropout, label='Dropout Testing loss', color='lightgreen')\n",
        "plt.legend();"
      ]
    },
    {
      "cell_type": "code",
      "source": [
        "history_dropout.history['acc'][-1], history_dropout.history['val_acc'][-1]"
      ],
      "metadata": {
        "colab": {
          "base_uri": "https://localhost:8080/"
        },
        "id": "S6657YKT6OnI",
        "outputId": "5e90a9fc-b3f5-4f5e-c071-755aa85d8107"
      },
      "execution_count": 42,
      "outputs": [
        {
          "output_type": "execute_result",
          "data": {
            "text/plain": [
              "(0.9299719929695129, 0.918465256690979)"
            ]
          },
          "metadata": {},
          "execution_count": 42
        }
      ]
    },
    {
      "cell_type": "markdown",
      "metadata": {
        "id": "Yq30HixlTmoR"
      },
      "source": [
        "## Keras Resources\n",
        "- [Keras Dropout Documentation](https://keras.io/layers/core/#dropout)\n",
        "\n",
        "## Tensorflow Resources\n",
        "- [Tensorflow documentation](https://www.tensorflow.org/api_docs/python/tf/nn/dropout)\n",
        "- [List of examples in Tensorflow](https://programtalk.com/python-examples/tensorflow.nn.dropout/)"
      ]
    },
    {
      "cell_type": "markdown",
      "metadata": {
        "id": "mikZiMK5TmoR"
      },
      "source": [
        "### Deep Learning week is also Memes week!\n",
        "![](./assets/thanos-dropout.png)"
      ]
    },
    {
      "cell_type": "markdown",
      "metadata": {
        "id": "PEAwrNtFTmoR"
      },
      "source": [
        "<a id='stopping'></a>\n",
        "## Regularization Method 3: Early Stopping\n",
        "---\n",
        "The third method of regularization that we'll discuss today is called early stopping.\n",
        "</br>\n",
        "If we run though all our epochs of training and plot both our training and validation error, we'll typically see something like this:\n",
        "\n",
        "![](./assets/train-val-error-reduced.png)\n",
        "*source*: [Prechelt, 1997](http://page.mi.fu-berlin.de/prechelt/Biblio/stop_tricks1997.pdf)"
      ]
    },
    {
      "cell_type": "markdown",
      "metadata": {
        "id": "vk6gIdQPTmoS"
      },
      "source": [
        "<details><summary>What is happening in this plot?</summary>\n",
        "\n",
        "- The Validation error begins to increase after a certain number of epochs!\n",
        "</details>"
      ]
    },
    {
      "cell_type": "markdown",
      "metadata": {
        "id": "g8pGr_0TTmoS"
      },
      "source": [
        "Early stopping does exactly what its name implies: it stop the training process early. Instead of continuing training through every epoch, once the validation error begins to increase, our algorithm stops because it has (in theory) found the minimum for the validation loss.\n",
        "\n",
        "This might seem like a simple and robust solution to overfitting, but it can run into problems.\n",
        "\n",
        "![](./assets/validation-error-real.png)\n",
        "\n",
        "There is debate over how often this problem occurs. You can generally plot both the training and validation loss, see if you're getting multiple optima. If you are, there are multiple suggested techniques to combat this problem in the [paper reference above](http://page.mi.fu-berlin.de/prechelt/Biblio/stop_tricks1997.pdf)."
      ]
    },
    {
      "cell_type": "code",
      "execution_count": 44,
      "metadata": {
        "colab": {
          "base_uri": "https://localhost:8080/"
        },
        "id": "sqdZ93TbTmoS",
        "outputId": "a15fa482-526d-42be-e5a5-1a01c9406537"
      },
      "outputs": [
        {
          "output_type": "stream",
          "name": "stdout",
          "text": [
            "Epoch 1/100\n",
            "79/79 [==============================] - 1s 4ms/step - loss: 0.5202 - acc: 0.8175 - val_loss: 0.4239 - val_acc: 0.8549\n",
            "Epoch 2/100\n",
            "79/79 [==============================] - 0s 3ms/step - loss: 0.4089 - acc: 0.8551 - val_loss: 0.3771 - val_acc: 0.8549\n",
            "Epoch 3/100\n",
            "79/79 [==============================] - 0s 3ms/step - loss: 0.3687 - acc: 0.8599 - val_loss: 0.3517 - val_acc: 0.8741\n",
            "Epoch 4/100\n",
            "79/79 [==============================] - 0s 3ms/step - loss: 0.3439 - acc: 0.8667 - val_loss: 0.3373 - val_acc: 0.8741\n",
            "Epoch 5/100\n",
            "79/79 [==============================] - 0s 3ms/step - loss: 0.3284 - acc: 0.8715 - val_loss: 0.3284 - val_acc: 0.8741\n",
            "Epoch 6/100\n",
            "79/79 [==============================] - 0s 2ms/step - loss: 0.3166 - acc: 0.8747 - val_loss: 0.3211 - val_acc: 0.8801\n",
            "Epoch 7/100\n",
            "79/79 [==============================] - 0s 3ms/step - loss: 0.3070 - acc: 0.8776 - val_loss: 0.3162 - val_acc: 0.8825\n",
            "Epoch 8/100\n",
            "79/79 [==============================] - 0s 2ms/step - loss: 0.2973 - acc: 0.8776 - val_loss: 0.3088 - val_acc: 0.8849\n",
            "Epoch 9/100\n",
            "79/79 [==============================] - 0s 2ms/step - loss: 0.2854 - acc: 0.8840 - val_loss: 0.3004 - val_acc: 0.8921\n",
            "Epoch 10/100\n",
            "79/79 [==============================] - 0s 3ms/step - loss: 0.2728 - acc: 0.8900 - val_loss: 0.2926 - val_acc: 0.8885\n",
            "Epoch 11/100\n",
            "79/79 [==============================] - 0s 2ms/step - loss: 0.2610 - acc: 0.9004 - val_loss: 0.2847 - val_acc: 0.8921\n",
            "Epoch 12/100\n",
            "79/79 [==============================] - 0s 3ms/step - loss: 0.2490 - acc: 0.9036 - val_loss: 0.2786 - val_acc: 0.8921\n",
            "Epoch 13/100\n",
            "79/79 [==============================] - 0s 3ms/step - loss: 0.2381 - acc: 0.9124 - val_loss: 0.2770 - val_acc: 0.8981\n",
            "Epoch 14/100\n",
            "79/79 [==============================] - 0s 3ms/step - loss: 0.2301 - acc: 0.9172 - val_loss: 0.2707 - val_acc: 0.8969\n",
            "Epoch 15/100\n",
            "79/79 [==============================] - 0s 2ms/step - loss: 0.2223 - acc: 0.9228 - val_loss: 0.2701 - val_acc: 0.8957\n",
            "Epoch 16/100\n",
            "79/79 [==============================] - 0s 2ms/step - loss: 0.2177 - acc: 0.9272 - val_loss: 0.2676 - val_acc: 0.8969\n",
            "Epoch 17/100\n",
            "79/79 [==============================] - 0s 2ms/step - loss: 0.2126 - acc: 0.9264 - val_loss: 0.2656 - val_acc: 0.8993\n",
            "Epoch 18/100\n",
            "79/79 [==============================] - 0s 3ms/step - loss: 0.2096 - acc: 0.9308 - val_loss: 0.2651 - val_acc: 0.8993\n",
            "Epoch 19/100\n",
            "79/79 [==============================] - 0s 3ms/step - loss: 0.2060 - acc: 0.9320 - val_loss: 0.2657 - val_acc: 0.8981\n",
            "Epoch 20/100\n",
            "79/79 [==============================] - 0s 2ms/step - loss: 0.2037 - acc: 0.9328 - val_loss: 0.2677 - val_acc: 0.9005\n",
            "Epoch 21/100\n",
            "79/79 [==============================] - 0s 3ms/step - loss: 0.2004 - acc: 0.9336 - val_loss: 0.2655 - val_acc: 0.8981\n",
            "Epoch 22/100\n",
            "79/79 [==============================] - 0s 2ms/step - loss: 0.1985 - acc: 0.9360 - val_loss: 0.2642 - val_acc: 0.9017\n",
            "Epoch 23/100\n",
            "79/79 [==============================] - 0s 3ms/step - loss: 0.1955 - acc: 0.9372 - val_loss: 0.2650 - val_acc: 0.9005\n",
            "Epoch 24/100\n",
            "79/79 [==============================] - 0s 2ms/step - loss: 0.1949 - acc: 0.9388 - val_loss: 0.2662 - val_acc: 0.8981\n",
            "Epoch 25/100\n",
            "79/79 [==============================] - 0s 3ms/step - loss: 0.1916 - acc: 0.9404 - val_loss: 0.2642 - val_acc: 0.9017\n",
            "Epoch 26/100\n",
            "79/79 [==============================] - 0s 2ms/step - loss: 0.1900 - acc: 0.9412 - val_loss: 0.2650 - val_acc: 0.9005\n",
            "Epoch 27/100\n",
            "79/79 [==============================] - 0s 3ms/step - loss: 0.1880 - acc: 0.9408 - val_loss: 0.2661 - val_acc: 0.9017\n",
            "Epoch 28/100\n",
            "79/79 [==============================] - 0s 3ms/step - loss: 0.1859 - acc: 0.9420 - val_loss: 0.2664 - val_acc: 0.9029\n",
            "Epoch 29/100\n",
            "79/79 [==============================] - 0s 2ms/step - loss: 0.1845 - acc: 0.9416 - val_loss: 0.2642 - val_acc: 0.8981\n",
            "Epoch 30/100\n",
            "79/79 [==============================] - 0s 3ms/step - loss: 0.1828 - acc: 0.9436 - val_loss: 0.2621 - val_acc: 0.9041\n",
            "Epoch 31/100\n",
            "79/79 [==============================] - 0s 3ms/step - loss: 0.1811 - acc: 0.9452 - val_loss: 0.2628 - val_acc: 0.9029\n",
            "Epoch 32/100\n",
            "79/79 [==============================] - 0s 3ms/step - loss: 0.1801 - acc: 0.9444 - val_loss: 0.2632 - val_acc: 0.9029\n",
            "Epoch 33/100\n",
            "79/79 [==============================] - 0s 3ms/step - loss: 0.1782 - acc: 0.9456 - val_loss: 0.2607 - val_acc: 0.9053\n",
            "Epoch 34/100\n",
            "79/79 [==============================] - 0s 3ms/step - loss: 0.1771 - acc: 0.9452 - val_loss: 0.2631 - val_acc: 0.9065\n",
            "Epoch 35/100\n",
            "79/79 [==============================] - 0s 2ms/step - loss: 0.1750 - acc: 0.9440 - val_loss: 0.2618 - val_acc: 0.9053\n",
            "Epoch 36/100\n",
            "79/79 [==============================] - 0s 3ms/step - loss: 0.1741 - acc: 0.9460 - val_loss: 0.2612 - val_acc: 0.9053\n",
            "Epoch 37/100\n",
            "79/79 [==============================] - 0s 2ms/step - loss: 0.1729 - acc: 0.9472 - val_loss: 0.2641 - val_acc: 0.9065\n",
            "Epoch 38/100\n",
            "79/79 [==============================] - 0s 2ms/step - loss: 0.1720 - acc: 0.9464 - val_loss: 0.2597 - val_acc: 0.9053\n",
            "Epoch 39/100\n",
            "79/79 [==============================] - 0s 2ms/step - loss: 0.1701 - acc: 0.9484 - val_loss: 0.2590 - val_acc: 0.9065\n",
            "Epoch 40/100\n",
            "79/79 [==============================] - 0s 3ms/step - loss: 0.1694 - acc: 0.9472 - val_loss: 0.2605 - val_acc: 0.9089\n",
            "Epoch 41/100\n",
            "79/79 [==============================] - 0s 2ms/step - loss: 0.1675 - acc: 0.9480 - val_loss: 0.2611 - val_acc: 0.9089\n",
            "Epoch 42/100\n",
            "79/79 [==============================] - 0s 2ms/step - loss: 0.1670 - acc: 0.9480 - val_loss: 0.2629 - val_acc: 0.9101\n",
            "Epoch 43/100\n",
            "79/79 [==============================] - 0s 2ms/step - loss: 0.1659 - acc: 0.9480 - val_loss: 0.2647 - val_acc: 0.9029\n",
            "Epoch 44/100\n",
            "79/79 [==============================] - 0s 2ms/step - loss: 0.1647 - acc: 0.9508 - val_loss: 0.2613 - val_acc: 0.9089\n",
            "Epoch 00044: early stopping\n"
          ]
        }
      ],
      "source": [
        "# Build model using early stopping\n",
        "from tensorflow.keras.callbacks import EarlyStopping\n",
        "\n",
        "model_es = Sequential()\n",
        "\n",
        "n_input = X_train.shape[1]\n",
        "\n",
        "model_es.add(Dense(17, input_dim = n_input, activation= 'relu'))\n",
        "model_es.add(Dense(10, activation='relu'))\n",
        "model_es.add(Dense(1, activation='sigmoid'))\n",
        "\n",
        "model_es.compile(loss = 'bce', optimizer='adam', metrics = ['acc'])\n",
        "\n",
        "early_stop = EarlyStopping(monitor = 'val_loss', min_delta=0, patience = 5, verbose = 1, mode = 'auto')\n",
        "\n",
        "history_es = model_es.fit(\n",
        "    X_train,\n",
        "    y_train,\n",
        "    validation_data = (X_test, y_test),\n",
        "    epochs = 100,\n",
        "    batch_size = None,\n",
        "    callbacks = [early_stop]\n",
        ")"
      ]
    },
    {
      "cell_type": "code",
      "execution_count": 45,
      "metadata": {
        "colab": {
          "base_uri": "https://localhost:8080/",
          "height": 483
        },
        "id": "FOZibmKGTmoS",
        "outputId": "7f4385df-4b2e-4c9a-bea5-2224f1b845d0"
      },
      "outputs": [
        {
          "output_type": "display_data",
          "data": {
            "image/png": "[encoded data removed]",
            "text/plain": [
              "<Figure size 864x576 with 1 Axes>"
            ]
          },
          "metadata": {
            "needs_background": "light"
          }
        }
      ],
      "source": [
        "# Visualize loss\n",
        "train_loss_es = history_es.history['loss']\n",
        "test_loss_es = history_es.history['val_loss']\n",
        "\n",
        "plt.figure(figsize=(12, 8))\n",
        "plt.plot(train_loss, label='Training loss', color='navy')\n",
        "plt.plot(test_loss, label='Testing loss', color='skyblue')\n",
        "plt.plot(train_loss_es, label='ES Training loss', color='violet')\n",
        "plt.plot(test_loss_es, label='ES Testing loss', color='lavender')\n",
        "plt.legend();"
      ]
    },
    {
      "cell_type": "code",
      "source": [
        "history_es.history['acc'][-1], history_es.history['val_acc'][-1]"
      ],
      "metadata": {
        "colab": {
          "base_uri": "https://localhost:8080/"
        },
        "id": "-7sDD-CsCwRl",
        "outputId": "397f1b8f-6da1-482d-bc03-d1f41bf643de"
      },
      "execution_count": 46,
      "outputs": [
        {
          "output_type": "execute_result",
          "data": {
            "text/plain": [
              "(0.9507803320884705, 0.9088729023933411)"
            ]
          },
          "metadata": {},
          "execution_count": 46
        }
      ]
    },
    {
      "cell_type": "code",
      "source": [
        "type(train_loss)"
      ],
      "metadata": {
        "colab": {
          "base_uri": "https://localhost:8080/"
        },
        "id": "uNJ4gpB2FKAn",
        "outputId": "a9d3d848-41c6-49e9-b49d-547bd6b98412"
      },
      "execution_count": 47,
      "outputs": [
        {
          "output_type": "execute_result",
          "data": {
            "text/plain": [
              "list"
            ]
          },
          "metadata": {},
          "execution_count": 47
        }
      ]
    },
    {
      "cell_type": "code",
      "source": [
        "history_es"
      ],
      "metadata": {
        "colab": {
          "base_uri": "https://localhost:8080/"
        },
        "id": "UvfNj3KGFMGw",
        "outputId": "3de77bc5-0275-4c6a-bea4-0c19c3514a2f"
      },
      "execution_count": 50,
      "outputs": [
        {
          "output_type": "execute_result",
          "data": {
            "text/plain": [
              "<keras.callbacks.History at 0x7f70289f9410>"
            ]
          },
          "metadata": {},
          "execution_count": 50
        }
      ]
    },
    {
      "cell_type": "markdown",
      "metadata": {
        "id": "ZOKlI69JTmoS"
      },
      "source": [
        "## Keras Resources\n",
        "- [Keras EarlyStopping Documentation](https://keras.io/callbacks/#earlystopping)\n",
        "- [Keras EarlyStopping Example](http://parneetk.github.io/blog/neural-networks-in-keras/)\n",
        "\n",
        "## Tensorflow Resources\n",
        "- [Tensorflow.Keras.callbacks.EarlyStopping Documentation](https://www.tensorflow.org/api_docs/python/tf/keras/callbacks/EarlyStopping)"
      ]
    },
    {
      "cell_type": "markdown",
      "metadata": {
        "id": "rS8NFo_OTmoS"
      },
      "source": [
        "<a id='conclusion'></a>\n",
        "# Conclusion\n",
        "\n",
        "Today, we learned about three different methods of regularizing our neural networks: `L2` regularization, dropout, and early stopping.\n",
        "\n",
        "## Machine Learning Workflow\n",
        "\n",
        "As promised, managing bias and variance takes a lot of our attention. If our bias or variance are high, it's likely that our model isn't performing as well as it could.\n",
        "\n",
        "A workflow for how you should address this (in the context of neural networks and beyond) is as follows:\n",
        "\n",
        "- Do we have high bias? (i.e. are we performing poorly on our training set?)\n",
        "    - If so:\n",
        "        - let's build a more complex model / bigger network!\n",
        "        - let's consider a new architecture for our neural network!\n",
        "        - let's train longer!\n",
        "- Do we have high variance? (i.e. are we performing poorly on our test/holdout set?)\n",
        "    - If so:\n",
        "        - let's gather more data!\n",
        "            - Usually very difficult, but we should use \"data augmentation\" if we can!\n",
        "        - let's build a simpler model / smaller network!\n",
        "        - let's consider a new architecture for our neural network!\n",
        "        - let's regularize!\n",
        "    - Once we're satisfied, return to the bias question and repeat.\n",
        "    \n",
        "**Note:** Before deep learning, most tools for handling high bias or high variance adversely affected the other. However, depending on the amount of data we have and how complex our network is, it's often the case that we can drastically reduce variance with out affecting bias.\n",
        "\n",
        "<a id='references'></a>\n",
        "## References and Resources:\n",
        "\n",
        "- [DeepLearning.ai](https://www.deeplearning.ai/), Andrew Ng's Coursera course on Deep Learning\n",
        "  - The videos from this course are on a [YouTube Channel](https://www.youtube.com/channel/UCcIXc5mJsHVYTZR1maL5l9w/featured)   \n",
        "<br>\n",
        "- [Deep Learning Book](http://www.deeplearningbook.org/), textbook written by Ian Goodfellow, creator of Generative Adversarial Networks (GANs)"
      ]
    }
  ],
  "metadata": {
    "kernelspec": {
      "display_name": "Python 3 (ipykernel)",
      "language": "python",
      "name": "python3"
    },
    "language_info": {
      "codemirror_mode": {
        "name": "ipython",
        "version": 3
      },
      "file_extension": ".py",
      "mimetype": "text/x-python",
      "name": "python",
      "nbconvert_exporter": "python",
      "pygments_lexer": "ipython3",
      "version": "3.8.2"
    },
    "varInspector": {
      "cols": {
        "lenName": 16,
        "lenType": 16,
        "lenVar": 40
      },
      "kernels_config": {
        "python": {
          "delete_cmd_postfix": "",
          "delete_cmd_prefix": "del ",
          "library": "var_list.py",
          "varRefreshCmd": "print(var_dic_list())"
        },
        "r": {
          "delete_cmd_postfix": ") ",
          "delete_cmd_prefix": "rm(",
          "library": "var_list.r",
          "varRefreshCmd": "cat(var_dic_list()) "
        }
      },
      "types_to_exclude": [
        "module",
        "function",
        "builtin_function_or_method",
        "instance",
        "_Feature"
      ],
      "window_display": false
    },
    "colab": {
      "name": "starter-code-nn-reg-Hank-copy.ipynb",
      "provenance": []
    }
  },
  "nbformat": 4,
  "nbformat_minor": 0
}