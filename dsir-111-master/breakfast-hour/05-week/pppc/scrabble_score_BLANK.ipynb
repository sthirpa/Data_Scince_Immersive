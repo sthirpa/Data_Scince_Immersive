{
 "cells": [
  {
   "cell_type": "markdown",
   "id": "74a23578-fd97-4347-820a-4e0e0a138648",
   "metadata": {},
   "source": [
    "# Scrabble Score\n",
    "From the Codecademy Python track.\n",
    "\n",
    "Scrabble is a game where players get points by spelling words. \n",
    "Words are scored by adding together the point values of each individual letter. \n",
    "Leave out the double and triple letter and word scores for now.\n",
    "\n",
    "A dictionary containing all of the letters in the alphabet \n",
    "with their corresponding Scrabble point values is provided.\n",
    "\n",
    "For example: the word \"Helix\" would score 15 points \n",
    "due to the sum of the letters: 4 + 1 + 1 + 1 + 8.\n",
    "\n",
    "Write a function called scrabble_score() that takes a word (as a string) as input \n",
    "and returns the equivalent scrabble score for that word.\n",
    "\n",
    "Assume your input is only one word containing only letters.\n",
    "Your function should work even if the letters you get are uppercase, lowercase, or a mix.\n",
    "Assume that you're only given non-empty strings.\n",
    "\n",
    "`scrabble_score(\"orange\") == 7`\n",
    "\n",
    "\n",
    "`scrabble_score(\"NINJA\") == 12`\n",
    "\n",
    "\n",
    "`scrabble_score(\"Write\") == 8`\n",
    "\n"
   ]
  },
  {
   "cell_type": "code",
   "execution_count": null,
   "id": "5648fd56-15c0-4db2-ad00-88f84299d7a6",
   "metadata": {},
   "outputs": [],
   "source": [
    "# scrabble score dictionary\n",
    "score = {\"a\": 1, \"c\": 3, \"b\": 3, \"e\": 1, \"d\": 2, \"g\": 2, \n",
    "         \"f\": 4, \"i\": 1, \"h\": 4, \"k\": 5, \"j\": 8, \"m\": 3, \n",
    "         \"l\": 1, \"o\": 1, \"n\": 1, \"q\": 10, \"p\": 3, \"s\": 1, \n",
    "         \"r\": 1, \"u\": 1, \"t\": 1, \"w\": 4, \"v\": 4, \"y\": 4, \n",
    "         \"x\": 8, \"z\": 10}"
   ]
  },
  {
   "cell_type": "code",
   "execution_count": null,
   "id": "f2508d37-81c7-40ce-bf88-bbadf3996768",
   "metadata": {},
   "outputs": [],
   "source": [
    "def scrabble_score(word):\n",
    "    # Replace the line below with all your code. Remember to return the requested data.\n",
    "    pass"
   ]
  },
  {
   "cell_type": "code",
   "execution_count": null,
   "id": "3e11668f-d4fb-4872-b967-84026edf349c",
   "metadata": {},
   "outputs": [],
   "source": [
    "assert(scrabble_score(\"orange\") == 7)\n",
    "assert(scrabble_score(\"NINJA\") == 12)\n",
    "assert(scrabble_score(\"Write\") == 8)"
   ]
  }
 ],
 "metadata": {
  "kernelspec": {
   "display_name": "Python 3 (ipykernel)",
   "language": "python",
   "name": "python3"
  },
  "language_info": {
   "codemirror_mode": {
    "name": "ipython",
    "version": 3
   },
   "file_extension": ".py",
   "mimetype": "text/x-python",
   "name": "python",
   "nbconvert_exporter": "python",
   "pygments_lexer": "ipython3",
   "version": "3.8.12"
  }
 },
 "nbformat": 4,
 "nbformat_minor": 5
}
