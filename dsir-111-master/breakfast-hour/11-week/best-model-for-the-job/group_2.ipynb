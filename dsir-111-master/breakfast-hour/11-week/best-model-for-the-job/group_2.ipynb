{
 "cells": [
  {
   "cell_type": "markdown",
   "metadata": {},
   "source": [
    "# Picking the Right Model for the Job\n",
    "\n",
    "*Author: Gwen Rathgeber*\n",
    "\n",
    "In this exercise, you will be presented with a business problem and asked to propose three models you feel would be well-suited to the task, and defend your answers. "
   ]
  },
  {
   "cell_type": "markdown",
   "metadata": {},
   "source": [
    " ### Problem Statement\n",
    " Your team works at a FinTech business which is experimenting with incorporating NLP into its performance projections of other companies. The CIO has asked your team to see if it is possible to predict the gross revenue of a company in a given year using the non-numeric information in their previous year's 10-K (Annual Report). Achieving the most accurate possible predictions is your only objective.\n",
    " \n",
    " What three models would you recommend to perform a supervised regression task on this data, which consists of 10 years of gross revenue figures and the raw text of the corresponding 10-K reports with all numbers removed for roughly 5000 companies?"
   ]
  },
  {
   "cell_type": "markdown",
   "metadata": {},
   "source": []
  },
  {
   "cell_type": "markdown",
   "metadata": {},
   "source": [
    "Please describe the strengths and weaknesses of each model with regard to this problem:"
   ]
  },
  {
   "cell_type": "markdown",
   "metadata": {},
   "source": []
  },
  {
   "cell_type": "markdown",
   "metadata": {},
   "source": [
    "If you have additional insights you feel would be important to highlight before initiating the project, elaborate here:"
   ]
  },
  {
   "cell_type": "markdown",
   "metadata": {},
   "source": []
  },
  {
   "cell_type": "markdown",
   "metadata": {},
   "source": [
    "### Problem Statement\n",
    "Your team works at a video game developer. Their leading title, an MMORPG, has been plagued by bot accounts which are used to harvest resources en masse to be transferred to real players, leading to destabilization of the player-to-player markets. The player experience team would like you to develop a model which predicts whether an account is being controlled by a human or a program based on timestamped logs of their interactions with the world. Because the market instability associated with these accounts is causing major player disatisfaction and churn, they don't care how you arrive at your predictions as long as they are highly accurate.\n",
    "\n",
    "What three models would you recommend to perform binary classification on this data, which consists of 1,000 game interaction records with timestamps for 2,000 known bots and 40,000 real players?"
   ]
  },
  {
   "cell_type": "markdown",
   "metadata": {},
   "source": []
  },
  {
   "cell_type": "markdown",
   "metadata": {},
   "source": [
    "Please describe the strengths and weaknesses of each model with regard to this problem:"
   ]
  },
  {
   "cell_type": "markdown",
   "metadata": {},
   "source": []
  },
  {
   "cell_type": "markdown",
   "metadata": {},
   "source": [
    "If you have additional insights you feel would be important to highlight before initiating the project, elaborate here:"
   ]
  },
  {
   "cell_type": "markdown",
   "metadata": {},
   "source": []
  }
 ],
 "metadata": {
  "kernelspec": {
   "display_name": "Python 3 (ipykernel)",
   "language": "python",
   "name": "python3"
  },
  "language_info": {
   "codemirror_mode": {
    "name": "ipython",
    "version": 3
   },
   "file_extension": ".py",
   "mimetype": "text/x-python",
   "name": "python",
   "nbconvert_exporter": "python",
   "pygments_lexer": "ipython3",
   "version": "3.8.12"
  }
 },
 "nbformat": 4,
 "nbformat_minor": 4
}
