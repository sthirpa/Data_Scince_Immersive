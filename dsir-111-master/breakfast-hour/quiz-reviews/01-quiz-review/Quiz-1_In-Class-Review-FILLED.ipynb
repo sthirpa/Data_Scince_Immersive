{
 "cells": [
  {
   "cell_type": "markdown",
   "metadata": {},
   "source": [
    "<img src=\"http://imgur.com/1ZcRyrc.png\" style=\"float: left; margin: 15px; height: 80px\">\n",
    "\n",
    "# Quiz 1 In-Class Review\n",
    "\n",
    "_**Author:** Boom D., Noelle B., Noah C., Kelly S._\n",
    "\n",
    "---"
   ]
  },
  {
   "cell_type": "markdown",
   "metadata": {},
   "source": [
    "### Python Basics"
   ]
  },
  {
   "cell_type": "markdown",
   "metadata": {},
   "source": [
    "**Q1.** Without running the following block of code, predict what the output will be. If there is an error in the code or the code does not produce any output, explain what is causing that to happen.\n",
    "```python\n",
    "for n,m in enumerate([3,1,4]):\n",
    "    m = n**2 + 2*n + 1\n",
    "    n = n**m + 42\n",
    "    n = 5\n",
    "    m = n**2\n",
    "print(m % n)```"
   ]
  },
  {
   "cell_type": "markdown",
   "metadata": {},
   "source": [
    "_Answer:_ `0` because `n = 5` and `m = 25`"
   ]
  },
  {
   "cell_type": "markdown",
   "metadata": {},
   "source": [
    "**Q2.** Without running the following block of code, predict what the output will be. If there is an error in the code or the code does not produce any output, explain what is causing that to happen.\n",
    "```python\n",
    "for i in range(2,4):\n",
    "    for j in range(3):\n",
    "        print(i**j)```"
   ]
  },
  {
   "cell_type": "markdown",
   "metadata": {},
   "source": [
    "`range(2,4)` --> [2, 3]\n",
    "\n",
    "`range(3)` = `range(0,3)` --> [0, 1, 2]\n",
    "\n",
    "**Answer:**\n",
    "1\n",
    "\n",
    "2\n",
    "\n",
    "4\n",
    "\n",
    "1\n",
    "\n",
    "3\n",
    "\n",
    "9"
   ]
  },
  {
   "cell_type": "markdown",
   "metadata": {},
   "source": [
    "**Q3.** Without running the following block of code, predict what the output will be. If there is an error in the code or the code does not produce any output, explain what is causing that to happen.\n",
    "```python\n",
    "x = 3\n",
    "while x >= 5:\n",
    "    x = x + 1\n",
    "    print(x)```"
   ]
  },
  {
   "cell_type": "markdown",
   "metadata": {},
   "source": [
    "No output!!! Because while condition is never met"
   ]
  },
  {
   "cell_type": "markdown",
   "metadata": {},
   "source": [
    "**Q4.** Without running the following block of code, identify the error(s) if there are any:\n",
    "```python\n",
    "num_list = [-1, 2, -3, 4, -5, 6, -7, 8, -9, 10]\n",
    "grand_sum = 0\n",
    "neg_sum = 0\n",
    "for k in num_list:\n",
    "grand_sum = grand_sum + k\n",
    "    if k < 0\n",
    "        neg_sum += k\n",
    "return(grand_sum,neg_sum)\n",
    "```"
   ]
  },
  {
   "cell_type": "markdown",
   "metadata": {},
   "source": [
    "**1.**  the `grand_sum = grand_sum + k` needs an indent!!\n",
    "\n",
    "**2.** There needs to be a colon in `if k < 0:`\n",
    "\n",
    "**3.** `return` should not be there! Only exists in functions. Can use `print` if you wanted to see those values"
   ]
  },
  {
   "cell_type": "code",
   "execution_count": 1,
   "metadata": {},
   "outputs": [
    {
     "name": "stdout",
     "output_type": "stream",
     "text": [
      "5 -25\n"
     ]
    }
   ],
   "source": [
    "num_list = [-1, 2, -3, 4, -5, 6, -7, 8, -9, 10]\n",
    "grand_sum = 0\n",
    "neg_sum = 0\n",
    "for k in num_list:\n",
    "    grand_sum = grand_sum + k\n",
    "    if k < 0:\n",
    "        neg_sum += k\n",
    "print(grand_sum, neg_sum)"
   ]
  },
  {
   "cell_type": "markdown",
   "metadata": {},
   "source": [
    "**Q5.** Construct a function `xs_counter` that takes in a single string and returns the number of times the letters \"x\" or \"s\" (including their capitalized versions) show up in the string. For example, `xs_count('Super excessive')` should return `4`. You can safely assume that the user will always input a string so no need to take care of cases when there would be an input error."
   ]
  },
  {
   "cell_type": "code",
   "execution_count": 2,
   "metadata": {},
   "outputs": [],
   "source": [
    "string = 'Super excessive'\n",
    "\n",
    "def xs_counter(string):\n",
    "    # Instantiating a counter that will track how many x's/s's there are\n",
    "    counter = 0\n",
    "    \n",
    "    # Create my checklist\n",
    "    check_list = ['x', 's']\n",
    "    \n",
    "    # iterating through my string\n",
    "    for letter in string:\n",
    "        \n",
    "        # Check if that letter is part of my check list\n",
    "        if letter.lower() in check_list:\n",
    "            counter += 1\n",
    "        \n",
    "    return(counter)"
   ]
  },
  {
   "cell_type": "code",
   "execution_count": 3,
   "metadata": {},
   "outputs": [
    {
     "data": {
      "text/plain": [
       "4"
      ]
     },
     "execution_count": 3,
     "metadata": {},
     "output_type": "execute_result"
    }
   ],
   "source": [
    "xs_counter('Super excessive')"
   ]
  },
  {
   "cell_type": "markdown",
   "metadata": {},
   "source": [
    "**Q6. (tougher)** Construct a function `case_alternater` that converts the first, third, fifth, ... letter to lower case, but every second, fourth, sixth, ... letter to upper case. For example `case_alternater('Bronshtein')` would return `bRoNsHtEiN`. (Hint: Remember to think about what number Python starts counting from when it comes to indexing/positions!)"
   ]
  },
  {
   "cell_type": "code",
   "execution_count": 4,
   "metadata": {},
   "outputs": [
    {
     "data": {
      "text/plain": [
       "'bRoNsHtEiN'"
      ]
     },
     "execution_count": 4,
     "metadata": {},
     "output_type": "execute_result"
    }
   ],
   "source": [
    "def case_alternator(text):\n",
    "    n_string = ''\n",
    "    for i, v in enumerate(text):\n",
    "        if i % 2 == 1:\n",
    "            n_string += v.upper()\n",
    "        else:\n",
    "            n_string += v.lower()\n",
    "    return n_string\n",
    "\n",
    "case_alternator('Bronshtein')"
   ]
  },
  {
   "cell_type": "markdown",
   "metadata": {},
   "source": [
    "### Comprehensions"
   ]
  },
  {
   "cell_type": "markdown",
   "metadata": {},
   "source": [
    "**Q7.** Suppose `num_list` is a list of integers. We want to get the remainders when each number in `num_list` is divided by 3. Write code that does this using list comprehension."
   ]
  },
  {
   "cell_type": "code",
   "execution_count": 5,
   "metadata": {},
   "outputs": [],
   "source": [
    "num_list = [1,9,5,3,4,6]"
   ]
  },
  {
   "cell_type": "code",
   "execution_count": 6,
   "metadata": {},
   "outputs": [
    {
     "data": {
      "text/plain": [
       "[1, 0, 2, 0, 1, 0]"
      ]
     },
     "execution_count": 6,
     "metadata": {},
     "output_type": "execute_result"
    }
   ],
   "source": [
    "output_list = []\n",
    "\n",
    "for num in num_list:\n",
    "    remainder = num % 3\n",
    "    output_list.append(remainder)\n",
    "\n",
    "output_list"
   ]
  },
  {
   "cell_type": "code",
   "execution_count": 7,
   "metadata": {},
   "outputs": [
    {
     "data": {
      "text/plain": [
       "[1, 0, 2, 0, 1, 0]"
      ]
     },
     "execution_count": 7,
     "metadata": {},
     "output_type": "execute_result"
    }
   ],
   "source": [
    "[num % 3 for num in num_list]"
   ]
  },
  {
   "cell_type": "markdown",
   "metadata": {},
   "source": [
    "**Q8.** Suppose we have a list: `['Adi', 'Noah', 'Patrick', 'Kelly']`. <br> We want to create the following dictionary: `{0: 'Adi', 1: 'Noah', 2: 'Patrick', 3: 'Kelly'}` where the keys are the index numbers of each element of the list and the values are the actual elements from the list. Write code that does this using dictionary comprehension."
   ]
  },
  {
   "cell_type": "code",
   "execution_count": 8,
   "metadata": {},
   "outputs": [],
   "source": [
    "name_list = ['Adi', 'Noah', 'Patrick', 'Kelly']"
   ]
  },
  {
   "cell_type": "code",
   "execution_count": 9,
   "metadata": {},
   "outputs": [
    {
     "data": {
      "text/plain": [
       "{0: 'Adi', 1: 'Noah', 2: 'Patrick', 3: 'Kelly'}"
      ]
     },
     "execution_count": 9,
     "metadata": {},
     "output_type": "execute_result"
    }
   ],
   "source": [
    "# Cleanest using enumerate\n",
    "{index:name for index,name in enumerate(name_list)}\n",
    "\n",
    "# Alternative using range()\n",
    "{index:name_list[index] for index in range(len(name_list))}"
   ]
  },
  {
   "cell_type": "markdown",
   "metadata": {},
   "source": [
    "### Probability"
   ]
  },
  {
   "cell_type": "markdown",
   "metadata": {},
   "source": [
    "**Q9.** Suppose I want to estimate the probability of the following event: if I roll 3 dice and add their values, I get a 3 or a 18. Write a script that estimates this probability by simulating this experiment 100,000 times."
   ]
  },
  {
   "cell_type": "code",
   "execution_count": 10,
   "metadata": {},
   "outputs": [
    {
     "name": "stdout",
     "output_type": "stream",
     "text": [
      "0.00937\n"
     ]
    }
   ],
   "source": [
    "# Import package\n",
    "import numpy as np\n",
    "\n",
    "# Setting a seed so that (for teaching purposes) we get the same result\n",
    "np.random.seed(42)\n",
    "\n",
    "# Instantiate a counter because I need to keep updating it each time I get\n",
    "# a sum of 3 or 18\n",
    "counter = 0\n",
    "\n",
    "# Running the experiment 100,000 times\n",
    "for experiment in range(100_000):\n",
    "    \n",
    "    # This is what happens in 1 experiment!!!\n",
    "    \n",
    "    # I'm rolling 3 dice, and summing up their result\n",
    "    dice_sum = sum(np.random.randint(low = 1, high = 7, size = 3))\n",
    "    \n",
    "    # Check if the sum is 3 or 18\n",
    "    if dice_sum in [3,18]:\n",
    "        # If yes, then update counter\n",
    "        counter += 1   # counter = counter + 1\n",
    "\n",
    "# Computer probability!\n",
    "prob = counter/100_000\n",
    "print(prob)\n"
   ]
  },
  {
   "cell_type": "markdown",
   "metadata": {},
   "source": [
    "**Q10.** Suppose I want to estimate the probability of the following event: if I roll 2 dice and multiply their values, I get a number less than 5 or greater than 21. Write a script that estimates this probability by simulating this experiment 100,000 times."
   ]
  },
  {
   "cell_type": "code",
   "execution_count": 11,
   "metadata": {},
   "outputs": [
    {
     "name": "stdout",
     "output_type": "stream",
     "text": [
      "0.38845\n"
     ]
    }
   ],
   "source": [
    "# Import package\n",
    "import numpy as np\n",
    "\n",
    "# Setting a seed so that (for teaching purposes) we get the same result\n",
    "np.random.seed(42)\n",
    "\n",
    "# Instantiate a counter because I need to keep updating it each time I get\n",
    "# a sum of 3 or 18\n",
    "counter = 0\n",
    "\n",
    "# Running the experiment 100,000 times\n",
    "for experiment in range(100_000):\n",
    "    \n",
    "    # This is what happens in 1 experiment!!!\n",
    "    \n",
    "    # I'm rolling 2 dice, and multtheir result\n",
    "    dice_prod = np.random.randint(low = 1, high = 7) * np.random.randint(low = 1, high = 7)\n",
    "    \n",
    "    # Check if dice prod is < 5 OR if it is > 21\n",
    "    if (dice_prod < 5) or (dice_prod > 21):\n",
    "        # If yes, then update counter\n",
    "        counter += 1   # counter = counter + 1\n",
    "\n",
    "# Computer probability!\n",
    "prob = counter/100_000\n",
    "print(prob)\n"
   ]
  },
  {
   "cell_type": "markdown",
   "metadata": {},
   "source": [
    "### Discrete and Continuous Distributions"
   ]
  },
  {
   "cell_type": "markdown",
   "metadata": {},
   "source": [
    "**Q11.** Let $N$ be a random variable for the number of cells of bacteria in a petri dish after 24 hours. Is $N$ discrete or continuous?"
   ]
  },
  {
   "cell_type": "raw",
   "metadata": {},
   "source": [
    "Discrete"
   ]
  },
  {
   "cell_type": "markdown",
   "metadata": {},
   "source": [
    "**Q12.** Let $T$ be a random variable for the amount of time until the next bus arrives. Is $T$ discrete or continuous?"
   ]
  },
  {
   "cell_type": "raw",
   "metadata": {},
   "source": [
    "Cont"
   ]
  },
  {
   "cell_type": "markdown",
   "metadata": {},
   "source": [
    "**Q13.** Let $P$ be a random variable for the value rolled on a 120-sided die. Is $P$ discrete or continuous?"
   ]
  },
  {
   "cell_type": "raw",
   "metadata": {},
   "source": [
    "Discrete"
   ]
  },
  {
   "cell_type": "markdown",
   "metadata": {},
   "source": [
    "**Q14.** Based on a historical sample of 730 days, the Shake Shack in Madison Square Park averages 125 visitors per day. Let $V$ be the number of visitors we are predicting to show up tomorrow. Which of the following is the most reasonable distribution to model $V$?\n",
    "\n",
    "(A) The Binomial Distribution <br>\n",
    "(B) The Continuous Uniform Distribution <br>\n",
    "(C) The Discrete Uniform Distribution <br>\n",
    "(D) The Exponential Distribution <br>\n",
    "(E) The Normal Distribution <br>\n",
    "(F) The Poisson Distribution <br>"
   ]
  },
  {
   "cell_type": "raw",
   "metadata": {},
   "source": [
    "F"
   ]
  },
  {
   "cell_type": "markdown",
   "metadata": {},
   "source": [
    "**Q15.** Noah is notorious for having zero athletic talent, but tries his luck at basketball anyway. His past records show that he manages to successfully land a shot 1% of the time. Kelly challenges Noah to try shooting 10 times. Let $X$ be the number of shots Noah will successfully land in this game. Which of the following is the most reasonable distribution to model $X$?\n",
    "\n",
    "(A) The Binomial Distribution <br>\n",
    "(B) The Continuous Uniform Distribution <br>\n",
    "(C) The Discrete Uniform Distribution <br>\n",
    "(D) The Exponential Distribution <br>\n",
    "(E) The Normal Distribution <br>\n",
    "(F) The Poisson Distribution <br>"
   ]
  },
  {
   "cell_type": "raw",
   "metadata": {},
   "source": [
    "A"
   ]
  }
 ],
 "metadata": {
  "kernelspec": {
   "display_name": "Python 3 (ipykernel)",
   "language": "python",
   "name": "python3"
  },
  "language_info": {
   "codemirror_mode": {
    "name": "ipython",
    "version": 3
   },
   "file_extension": ".py",
   "mimetype": "text/x-python",
   "name": "python",
   "nbconvert_exporter": "python",
   "pygments_lexer": "ipython3",
   "version": "3.8.12"
  }
 },
 "nbformat": 4,
 "nbformat_minor": 4
}
