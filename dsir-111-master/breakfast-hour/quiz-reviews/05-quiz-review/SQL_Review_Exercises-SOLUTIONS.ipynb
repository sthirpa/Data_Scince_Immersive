{
 "cells": [
  {
   "cell_type": "markdown",
   "metadata": {},
   "source": [
    "<img src=\"http://imgur.com/1ZcRyrc.png\" style=\"float: left; margin: 20px; height: 55px\">\n",
    "\n",
    "# SQL Exercises\n",
    "_**Author**: Boom D. (DSI-NYC) & Noah C. (DSIR-1019)_ \n",
    "***"
   ]
  },
  {
   "cell_type": "markdown",
   "metadata": {},
   "source": [
    "## Conceptual Interview Questions"
   ]
  },
  {
   "cell_type": "markdown",
   "metadata": {},
   "source": [
    "**1. Explain the difference between INNER JOIN, LEFT JOIN, and RIGHT JOIN**\n",
    "\n",
    "- **INNER JOIN** takes all rows that exist in both tables (the intersection) based on the joined column key.\n",
    "- **LEFT JOIN** takes all rows from the LEFT table so the number of rows must be equal to the left table's. So this includes the intersection, but also any unique records to the left table. If you have selected some columns from the RIGHT table, but there are no related records in the left table, these records will show NULL values.\n",
    "- **RIGHT JOIN** is like the above but gets all records in the RIGHT table.\n",
    "\n",
    "There are some other JOIN types if you're interested. Here's a nice infographic:\n",
    "<img src = \"http://www.postgresqltutorial.com/wp-content/uploads/2018/12/PostgreSQL-Joins.png\" style=\"float: left; margin: 20px; height: 300px\">"
   ]
  },
  {
   "cell_type": "markdown",
   "metadata": {},
   "source": [
    "**2. Explain the difference between GROUP BY, WHERE, and HAVING**\n",
    "- `GROUP BY` is used in conjunction with aggregate functions (e.g. SUM(), COUNT(), etc.) to specify \n",
    "- `WHERE` is used as a filter on fields (e.g. date, name, etc.)\n",
    "- `HAVING` is used as a filter on aggregate functions (e.g. SUM(), COUNT(), etc.)\n",
    "\n",
    "Examples here: https://www.geeksforgeeks.org/sql-group-by/"
   ]
  },
  {
   "cell_type": "markdown",
   "metadata": {},
   "source": [
    "## `WHERE` Review Exercises"
   ]
  },
  {
   "cell_type": "markdown",
   "metadata": {},
   "source": [
    "**3. Countries** <br>\n",
    "_(Source: https://www.codewars.com/kata/on-the-canadian-border-sql-for-beginners-number-2/sql)_\n",
    "\n",
    "Select names, and countries of origin of all the travelers, excluding anyone from Canada, Mexico, or The US."
   ]
  },
  {
   "cell_type": "markdown",
   "metadata": {},
   "source": [
    "_Answer:_\n",
    "```MySQL\n",
    "SELECT name,country\n",
    "FROM travelers\n",
    "WHERE country NOT IN ('Canada','Mexico','USA')\n",
    "```"
   ]
  },
  {
   "cell_type": "markdown",
   "metadata": {},
   "source": [
    "**4. Harry Potter** <br>\n",
    "_(Source:https://www.codewars.com/kata/sql-with-harry-potter-sorting-hat-comparators/sql)_\n",
    "\n",
    "There is truly no magic in the world; the Hogwarts Sorting Hat is SQL-based, its decision-making powers are common operators and prospectIve students are merely data - names, and two columns of qualities.\n",
    "\n",
    "`students` schema\n",
    "- id\n",
    "- name\n",
    "- quality1\n",
    "- quality2\n",
    "\n",
    "Note that:\n",
    "- Slytherin are being quite strict this year and will only take students who are evil AND cunning.\n",
    "- Gryffindor will take students who are brave but only if their second quality is NOT evil.\n",
    "- Ravenclaw accepts students who are studious OR intelligent.\n",
    "- Hufflepuff will simply take those who have the quality hufflepuff.\n",
    "\n",
    "_(Don't worry, for simplicity's sake 'brave' and 'studious' will only appear in quality1, and 'cunning' and 'intelligent' will only appear in quality2.)_\n",
    "\n",
    "Return the id, name, quality1 and quality2 of all the students who'll be accepted, ordered by ascending id."
   ]
  },
  {
   "cell_type": "markdown",
   "metadata": {},
   "source": [
    "_Answer:_\n",
    "\n",
    "```MySQL\n",
    "SELECT s.id, s.name, s.quality1, s.quality2\n",
    "from students as s\n",
    "WHERE (s.quality1 = 'evil' AND s.quality2 = 'cunning') -- Slytherin\n",
    "      OR (s.quality1 = 'brave' AND s.quality2 != 'evil') -- Gryfindor\n",
    "      OR (s.quality1 = 'studious' OR s.quality2 = 'intelligent') -- Ravenclaw\n",
    "      OR (s.quality1 = 'hufflepuff' OR s.quality2 = 'hufflepuff') -- Hufflepuff\n",
    "ORDER BY s.id ASC\n",
    "```"
   ]
  },
  {
   "cell_type": "markdown",
   "metadata": {},
   "source": [
    "## SQL with the Noble Houses of Westeros"
   ]
  },
  {
   "cell_type": "markdown",
   "metadata": {},
   "source": [
    "For all of the following questions, refer to the datasets found in the `got_data` folder."
   ]
  },
  {
   "cell_type": "code",
   "execution_count": 2,
   "metadata": {},
   "outputs": [],
   "source": [
    "import pandas as pd\n",
    "from pandasql import sqldf"
   ]
  },
  {
   "cell_type": "code",
   "execution_count": 3,
   "metadata": {},
   "outputs": [],
   "source": [
    "bannermen = pd.read_csv('got_data/bannermen.csv')\n",
    "houses = pd.read_csv('got_data/houses.csv')\n",
    "people = pd.read_csv('got_data/people.csv')"
   ]
  },
  {
   "cell_type": "markdown",
   "metadata": {},
   "source": [
    "**5. Targaryens are very fond of the prefix \"Ae-\" in their names.**\n",
    "\n",
    "Write a SQL query that returns the first name and houses of all characters whose first name begins with the prefix \"Ae-\""
   ]
  },
  {
   "cell_type": "code",
   "execution_count": 8,
   "metadata": {},
   "outputs": [
    {
     "data": {
      "text/html": [
       "<div>\n",
       "<style scoped>\n",
       "    .dataframe tbody tr th:only-of-type {\n",
       "        vertical-align: middle;\n",
       "    }\n",
       "\n",
       "    .dataframe tbody tr th {\n",
       "        vertical-align: top;\n",
       "    }\n",
       "\n",
       "    .dataframe thead th {\n",
       "        text-align: right;\n",
       "    }\n",
       "</style>\n",
       "<table border=\"1\" class=\"dataframe\">\n",
       "  <thead>\n",
       "    <tr style=\"text-align: right;\">\n",
       "      <th></th>\n",
       "      <th>first_name</th>\n",
       "      <th>house</th>\n",
       "    </tr>\n",
       "  </thead>\n",
       "  <tbody>\n",
       "    <tr>\n",
       "      <th>0</th>\n",
       "      <td>aegon</td>\n",
       "      <td>targaryen</td>\n",
       "    </tr>\n",
       "    <tr>\n",
       "      <th>1</th>\n",
       "      <td>aerys</td>\n",
       "      <td>targaryen</td>\n",
       "    </tr>\n",
       "  </tbody>\n",
       "</table>\n",
       "</div>"
      ],
      "text/plain": [
       "  first_name      house\n",
       "0      aegon  targaryen\n",
       "1      aerys  targaryen"
      ]
     },
     "execution_count": 8,
     "metadata": {},
     "output_type": "execute_result"
    }
   ],
   "source": [
    "sql = \"\"\"\n",
    "SELECT c.first_name, c.house\n",
    "FROM people AS c\n",
    "WHERE c.first_name LIKE 'Ae%'\n",
    "\"\"\"\n",
    "\n",
    "df = sqldf(sql)\n",
    "df.head()"
   ]
  },
  {
   "cell_type": "markdown",
   "metadata": {},
   "source": [
    "_Answer:_\n",
    "```SQL\n",
    "SELECT c.first_name, c.house\n",
    "FROM people AS c\n",
    "WHERE c.first_name ILIKE 'Ae%'  -- can use ILIKE instead of LIKE to ignore case sensitivity\n",
    "```"
   ]
  },
  {
   "cell_type": "markdown",
   "metadata": {},
   "source": [
    "**6. As the Ironborn say in Pyke, \"what is dead may never die\".**\n",
    "\n",
    "Write a SQL query that returns the first name, nickname, and living status of all members of the ruling family of Pyke."
   ]
  },
  {
   "cell_type": "markdown",
   "metadata": {},
   "source": [
    "_Answer:_\n",
    "```MySQL\n",
    "SELECT c.first_name, c.nickname, c.alive\n",
    "FROM people AS c\n",
    "    INNER JOIN houses AS h ON c.house = h.name\n",
    "WHERE h.domain = 'pyke'\n",
    "```"
   ]
  },
  {
   "cell_type": "code",
   "execution_count": 9,
   "metadata": {},
   "outputs": [
    {
     "data": {
      "text/html": [
       "<div>\n",
       "<style scoped>\n",
       "    .dataframe tbody tr th:only-of-type {\n",
       "        vertical-align: middle;\n",
       "    }\n",
       "\n",
       "    .dataframe tbody tr th {\n",
       "        vertical-align: top;\n",
       "    }\n",
       "\n",
       "    .dataframe thead th {\n",
       "        text-align: right;\n",
       "    }\n",
       "</style>\n",
       "<table border=\"1\" class=\"dataframe\">\n",
       "  <thead>\n",
       "    <tr style=\"text-align: right;\">\n",
       "      <th></th>\n",
       "      <th>first_name</th>\n",
       "      <th>nickname</th>\n",
       "      <th>alive</th>\n",
       "    </tr>\n",
       "  </thead>\n",
       "  <tbody>\n",
       "    <tr>\n",
       "      <th>0</th>\n",
       "      <td>theon</td>\n",
       "      <td>reek</td>\n",
       "      <td>0</td>\n",
       "    </tr>\n",
       "    <tr>\n",
       "      <th>1</th>\n",
       "      <td>yara</td>\n",
       "      <td>None</td>\n",
       "      <td>1</td>\n",
       "    </tr>\n",
       "  </tbody>\n",
       "</table>\n",
       "</div>"
      ],
      "text/plain": [
       "  first_name nickname  alive\n",
       "0      theon     reek      0\n",
       "1       yara     None      1"
      ]
     },
     "execution_count": 9,
     "metadata": {},
     "output_type": "execute_result"
    }
   ],
   "source": [
    "sql = \"\"\"\n",
    "SELECT c.first_name, c.nickname, c.alive\n",
    "FROM people AS c\n",
    "    INNER JOIN houses AS h ON c.house = h.name\n",
    "WHERE h.domain = 'pyke'\n",
    "\"\"\"\n",
    "\n",
    "df = sqldf(sql)\n",
    "df.head()"
   ]
  },
  {
   "cell_type": "markdown",
   "metadata": {},
   "source": [
    "**7. Queen Cersei demands to know who the vassal houses (bannermen) of Houses Targaryen, Tully, Tyrell, Baratheon are.**\n",
    "\n",
    "Write a SQL query that displays the `name` of the bannermen (as \"vassal house\") of Houses Targarygen, Tully, Tyrell, and Baratheon, along with the `size` of their armies. This should be ordered by the 4 leader houses."
   ]
  },
  {
   "cell_type": "markdown",
   "metadata": {},
   "source": [
    "_Answer:_\n",
    "```MySQL\n",
    "SELECT  h.name AS \"leader house\",\n",
    "\t\tb.name AS \"vassal house\",\n",
    "        b.size\n",
    "FROM bannermen AS b\n",
    "    INNER JOIN houses AS h ON b.leader_house_id = h.id\n",
    "WHERE h.name IN ('targaryen', 'tully', 'tyrell', 'baratheon')\n",
    "ORDER BY    \"leader house\" ASC,\n",
    "            b.size DESC,        -- optional\n",
    "            \"vassal house\" ASC  -- optional\n",
    "```"
   ]
  },
  {
   "cell_type": "code",
   "execution_count": 10,
   "metadata": {},
   "outputs": [
    {
     "data": {
      "text/html": [
       "<div>\n",
       "<style scoped>\n",
       "    .dataframe tbody tr th:only-of-type {\n",
       "        vertical-align: middle;\n",
       "    }\n",
       "\n",
       "    .dataframe tbody tr th {\n",
       "        vertical-align: top;\n",
       "    }\n",
       "\n",
       "    .dataframe thead th {\n",
       "        text-align: right;\n",
       "    }\n",
       "</style>\n",
       "<table border=\"1\" class=\"dataframe\">\n",
       "  <thead>\n",
       "    <tr style=\"text-align: right;\">\n",
       "      <th></th>\n",
       "      <th>leader house</th>\n",
       "      <th>vassal house</th>\n",
       "      <th>size</th>\n",
       "    </tr>\n",
       "  </thead>\n",
       "  <tbody>\n",
       "    <tr>\n",
       "      <th>0</th>\n",
       "      <td>baratheon</td>\n",
       "      <td>selmy</td>\n",
       "      <td>40</td>\n",
       "    </tr>\n",
       "    <tr>\n",
       "      <th>1</th>\n",
       "      <td>baratheon</td>\n",
       "      <td>tarth</td>\n",
       "      <td>20</td>\n",
       "    </tr>\n",
       "    <tr>\n",
       "      <th>2</th>\n",
       "      <td>tully</td>\n",
       "      <td>blackwood</td>\n",
       "      <td>25</td>\n",
       "    </tr>\n",
       "    <tr>\n",
       "      <th>3</th>\n",
       "      <td>tully</td>\n",
       "      <td>whent</td>\n",
       "      <td>25</td>\n",
       "    </tr>\n",
       "    <tr>\n",
       "      <th>4</th>\n",
       "      <td>tyrell</td>\n",
       "      <td>hightower</td>\n",
       "      <td>25</td>\n",
       "    </tr>\n",
       "  </tbody>\n",
       "</table>\n",
       "</div>"
      ],
      "text/plain": [
       "  leader house vassal house  size\n",
       "0    baratheon        selmy    40\n",
       "1    baratheon        tarth    20\n",
       "2        tully    blackwood    25\n",
       "3        tully        whent    25\n",
       "4       tyrell    hightower    25"
      ]
     },
     "execution_count": 10,
     "metadata": {},
     "output_type": "execute_result"
    }
   ],
   "source": [
    "sql = \"\"\"\n",
    "SELECT  h.name AS \"leader house\",\n",
    "        b.name AS \"vassal house\",\n",
    "        b.size\n",
    "FROM bannermen AS b\n",
    "    INNER JOIN houses AS h ON b.leader_house_id = h.id\n",
    "WHERE h.name IN ('targaryen', 'tully', 'tyrell', 'baratheon')\n",
    "ORDER BY    \"leader house\" ASC,\n",
    "            b.size DESC,        -- optional\n",
    "            \"vassal house\" ASC  -- optional\n",
    "\"\"\"\n",
    "\n",
    "df = sqldf(sql)\n",
    "df.head()"
   ]
  },
  {
   "cell_type": "markdown",
   "metadata": {},
   "source": [
    "**8. Eddard is helping Robert gather up their troops. A leader house's force is equal to the sum of the sizes of all bannermen houses who have sworn fealty to them.**\n",
    "\n",
    "However, due to a certain erm...head injury... Eddard seems to have forgotten which noble houses have sworn fealty to his and Robert's houses. Eddard's son Brandon uses his Greensight to travel to the future and reaches out to you for help.\n",
    "\n",
    "(a) **_Easier Version:_** Write a SQL query that returns the value of the force of Eddard's house."
   ]
  },
  {
   "cell_type": "markdown",
   "metadata": {},
   "source": [
    "_Answer:_ 140, which we'll get from the following query\n",
    "\n",
    "```MySQL\n",
    "SELECT SUM(b.size)\n",
    "FROM bannermen AS b\n",
    "    INNER JOIN houses AS h ON b.leader_house_id = h.id\n",
    "    INNER JOIN people AS c ON h.name = c.house\n",
    "WHERE c.first_name = 'eddard'\n",
    "```"
   ]
  },
  {
   "cell_type": "code",
   "execution_count": 11,
   "metadata": {},
   "outputs": [
    {
     "data": {
      "text/html": [
       "<div>\n",
       "<style scoped>\n",
       "    .dataframe tbody tr th:only-of-type {\n",
       "        vertical-align: middle;\n",
       "    }\n",
       "\n",
       "    .dataframe tbody tr th {\n",
       "        vertical-align: top;\n",
       "    }\n",
       "\n",
       "    .dataframe thead th {\n",
       "        text-align: right;\n",
       "    }\n",
       "</style>\n",
       "<table border=\"1\" class=\"dataframe\">\n",
       "  <thead>\n",
       "    <tr style=\"text-align: right;\">\n",
       "      <th></th>\n",
       "      <th>SUM(b.size)</th>\n",
       "    </tr>\n",
       "  </thead>\n",
       "  <tbody>\n",
       "    <tr>\n",
       "      <th>0</th>\n",
       "      <td>140</td>\n",
       "    </tr>\n",
       "  </tbody>\n",
       "</table>\n",
       "</div>"
      ],
      "text/plain": [
       "   SUM(b.size)\n",
       "0          140"
      ]
     },
     "execution_count": 11,
     "metadata": {},
     "output_type": "execute_result"
    }
   ],
   "source": [
    "sql = \"\"\"\n",
    "SELECT SUM(b.size)\n",
    "FROM bannermen AS b\n",
    "    INNER JOIN houses AS h ON b.leader_house_id = h.id\n",
    "    INNER JOIN people AS c ON h.name = c.house\n",
    "WHERE c.first_name = 'eddard'\n",
    "\"\"\"\n",
    "\n",
    "df = sqldf(sql)\n",
    "df.head()"
   ]
  },
  {
   "cell_type": "markdown",
   "metadata": {},
   "source": [
    "(b) _**Harder Version:**_ Write a SQL query that returns the value of the force (call it \"force\") for each of Eddard's and Robert's houses (call it \"leader_house\")."
   ]
  },
  {
   "cell_type": "markdown",
   "metadata": {},
   "source": [
    "```MySQL\n",
    "SELECT h.name AS \"leader_house\",\n",
    "       SUM(b.size) AS \"force\"\n",
    "FROM houses AS h\n",
    "    INNER JOIN bannermen AS b ON h.id = b.leader_house_id\n",
    "    INNER JOIN people AS c ON h.name = c.house\n",
    "WHERE c.first_name IN ('eddard', 'robert')\n",
    "GROUP BY leader_house\n",
    "```"
   ]
  },
  {
   "cell_type": "code",
   "execution_count": 12,
   "metadata": {},
   "outputs": [
    {
     "data": {
      "text/html": [
       "<div>\n",
       "<style scoped>\n",
       "    .dataframe tbody tr th:only-of-type {\n",
       "        vertical-align: middle;\n",
       "    }\n",
       "\n",
       "    .dataframe tbody tr th {\n",
       "        vertical-align: top;\n",
       "    }\n",
       "\n",
       "    .dataframe thead th {\n",
       "        text-align: right;\n",
       "    }\n",
       "</style>\n",
       "<table border=\"1\" class=\"dataframe\">\n",
       "  <thead>\n",
       "    <tr style=\"text-align: right;\">\n",
       "      <th></th>\n",
       "      <th>leader_house</th>\n",
       "      <th>force</th>\n",
       "    </tr>\n",
       "  </thead>\n",
       "  <tbody>\n",
       "    <tr>\n",
       "      <th>0</th>\n",
       "      <td>baratheon</td>\n",
       "      <td>60</td>\n",
       "    </tr>\n",
       "    <tr>\n",
       "      <th>1</th>\n",
       "      <td>stark</td>\n",
       "      <td>140</td>\n",
       "    </tr>\n",
       "  </tbody>\n",
       "</table>\n",
       "</div>"
      ],
      "text/plain": [
       "  leader_house  force\n",
       "0    baratheon     60\n",
       "1        stark    140"
      ]
     },
     "execution_count": 12,
     "metadata": {},
     "output_type": "execute_result"
    }
   ],
   "source": [
    "sql = \"\"\"\n",
    "SELECT h.name AS \"leader_house\",\n",
    "       SUM(b.size) AS \"force\"\n",
    "FROM houses AS h\n",
    "    INNER JOIN bannermen AS b ON h.id = b.leader_house_id\n",
    "    INNER JOIN people AS c ON h.name = c.house\n",
    "WHERE c.first_name IN ('eddard', 'robert')\n",
    "GROUP BY leader_house\n",
    "\"\"\"\n",
    "\n",
    "df = sqldf(sql)\n",
    "df.head()"
   ]
  },
  {
   "cell_type": "markdown",
   "metadata": {},
   "source": [
    "## Harder CodeWars Questions on `JOIN`, `GROUP BY`, `SUM`, etc."
   ]
  },
  {
   "cell_type": "markdown",
   "metadata": {},
   "source": [
    "**9. Pokemon:** <br>\n",
    "_(Source: https://www.codewars.com/kata/sql-with-pokemon-damage-multipliers/)_\n",
    "\n",
    "You have arrived at the Celadon Gym to battle Erika for the Rainbow Badge. She will be using Grass-type Pokemon. Any fire pokemon you have will be strong against grass, but your water types will be weakened. The multipliers table within your Pokedex will take care of that.\n",
    "\n",
    "`pokemon` schema:\n",
    "- id\n",
    "- pokemon_name\n",
    "- element_id\n",
    "- str\n",
    "\n",
    "`multipliers` schema:\n",
    "- id\n",
    "- element\n",
    "- multiplier\n",
    "\n",
    "Using the above tables, return the pokemon_name, modifiedStrength and element of the Pokemon whose strength, after taking these changes into account, is greater than or equal to 40, ordered from strongest to weakest."
   ]
  },
  {
   "cell_type": "markdown",
   "metadata": {},
   "source": [
    "_Answer:_ \n",
    "```MySQL\n",
    "SELECT pkmn.pokemon_name,\n",
    "       pkmn.str*mult.multiplier as modifiedStrength,\n",
    "       mult.element\n",
    "FROM pokemon as pkmn \n",
    "    INNER JOIN multipliers as mult ON pkmn.element_id = mult.id\n",
    "WHERE pkmn.str*mult.multiplier >= 40\n",
    "ORDER BY modifiedStrength DESC  \n",
    "```"
   ]
  },
  {
   "cell_type": "markdown",
   "metadata": {},
   "source": [
    "**10. Street Fighter** <br>\n",
    "(_Source: https://www.codewars.com/kata/sql-with-street-fighter-total-wins/_)\n",
    "\n",
    "Each row of the table fighters records, alongside the fighter's name, whether they won (1) or lost (0), as well as the type of move that ended the bout.\n",
    "\n",
    "`fighters` schema:\n",
    "- id\n",
    "- name\n",
    "- won\n",
    "- lost\n",
    "- move_id\n",
    "- winning_moves\n",
    "\n",
    "`move` schema:\n",
    "- id\n",
    "- move\n",
    "\n",
    "However, due to new health and safety regulations, all ki blasts have been outlawed as a potential fire hazard. Any bout that ended with Hadoken, Shouoken or Kikoken should not be counted in the total wins and losses.\n",
    "\n",
    "_YOUR TASK:_\n",
    "- Return name, won, and lost columns displaying the name, total number of wins and total number of losses. Group by the fighter's name.\n",
    "- Do not count any wins or losses where the winning move was Hadoken, Shouoken or Kikoken.\n",
    "- Order from most-wins to least\n",
    "- Return the top 6. Don't worry about ties."
   ]
  },
  {
   "cell_type": "markdown",
   "metadata": {},
   "source": [
    "_Answer:_\n",
    "    \n",
    "```MySQL\n",
    "SELECT  f.name,\n",
    "        sum(f.won) as won,\n",
    "        sum(f.lost) as lost\n",
    "FROM fighters f\n",
    "    INNER JOIN winning_moves m ON f.move_id = m.id\n",
    "WHERE m.move NOT IN ('Hadoken', 'Shouoken', 'Kikoken')\n",
    "GROUP BY f.name\n",
    "ORDER BY won DESC\n",
    "LIMIT 6\n",
    "```"
   ]
  }
 ],
 "metadata": {
  "kernelspec": {
   "display_name": "Python 3",
   "language": "python",
   "name": "python3"
  },
  "language_info": {
   "codemirror_mode": {
    "name": "ipython",
    "version": 3
   },
   "file_extension": ".py",
   "mimetype": "text/x-python",
   "name": "python",
   "nbconvert_exporter": "python",
   "pygments_lexer": "ipython3",
   "version": "3.8.5"
  }
 },
 "nbformat": 4,
 "nbformat_minor": 4
}
