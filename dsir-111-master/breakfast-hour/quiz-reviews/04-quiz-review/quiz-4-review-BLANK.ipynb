{
 "cells": [
  {
   "cell_type": "markdown",
   "metadata": {},
   "source": [
    "<img src=\"http://imgur.com/1ZcRyrc.png\" style=\"float: left; margin: 15px; height: 80px\">\n",
    "\n",
    "# Week 7 Quiz Review - Python Challenges\n",
    "\n",
    " _**Compiled by:** Kelly S. (DSIR) & Noah C. (DSIR)_\n",
    "\n",
    "---"
   ]
  },
  {
   "cell_type": "markdown",
   "metadata": {},
   "source": [
    "### Problem 1\n",
    "\n",
    "Write a function called int_frequency() that takes a list of positive integers as\n",
    "an argument and returns the integer that appears the most frequently in the list.\n",
    "If there are multiple integers that share the same high frequency, return any one\n",
    "of the integers. If the list is empty, return None.\n",
    "```\n",
    "int_frequency([])\n",
    "\n",
    "int_frequency([3, 3, 4, 4, 5, 5]) in [3, 4, 5] --> True\n",
    "\n",
    "int_frequency([1, 1, 3, 2, 1, 4, 3, 5]) --> 1\n",
    "```"
   ]
  },
  {
   "cell_type": "code",
   "execution_count": null,
   "metadata": {},
   "outputs": [],
   "source": [
    "def int_frequency(intlist):\n"
   ]
  },
  {
   "cell_type": "code",
   "execution_count": null,
   "metadata": {},
   "outputs": [],
   "source": [
    "int_frequency([])"
   ]
  },
  {
   "cell_type": "code",
   "execution_count": null,
   "metadata": {},
   "outputs": [],
   "source": [
    "int_frequency([3, 3, 4, 4, 5, 5]) in [3, 4, 5]"
   ]
  },
  {
   "cell_type": "code",
   "execution_count": null,
   "metadata": {},
   "outputs": [],
   "source": [
    "int_frequency([3, 2, 1, 4, 3, 1, 5, 1])"
   ]
  },
  {
   "cell_type": "code",
   "execution_count": null,
   "metadata": {},
   "outputs": [],
   "source": []
  },
  {
   "cell_type": "markdown",
   "metadata": {},
   "source": [
    "### Problem 2\n",
    "\n",
    "Write a function called common_chars() that takes in two lowercase strings,\n",
    "text1 and text2, as arguments. Return a list of the common characters\n",
    "contained in the two strings.\n",
    "```\n",
    "common_chars(\"donuts\", \"tundra\") --> ['d', 'n', 'u', 't']\n",
    "\n",
    "common_chars(\"peaches\", \"door\") --> []\n",
    "```"
   ]
  },
  {
   "cell_type": "code",
   "execution_count": null,
   "metadata": {},
   "outputs": [],
   "source": [
    "def common_chars(text1, text2):\n"
   ]
  },
  {
   "cell_type": "code",
   "execution_count": null,
   "metadata": {},
   "outputs": [],
   "source": [
    "common_chars(\"donuts\", \"tundra\")"
   ]
  },
  {
   "cell_type": "code",
   "execution_count": null,
   "metadata": {},
   "outputs": [],
   "source": [
    "common_chars(\"peaches\", \"door\")"
   ]
  },
  {
   "cell_type": "code",
   "execution_count": null,
   "metadata": {},
   "outputs": [],
   "source": [
    "common_chars(\"oregano\", \"peppermint\")"
   ]
  },
  {
   "cell_type": "markdown",
   "metadata": {},
   "source": [
    "### Problem 3\n",
    "Question from the Euler Project: https://projecteuler.net/problem=5\n",
    "\n",
    "2520 is the smallest number that can be divided by each of the numbers from 1 to 10 without any remainder.\n",
    "\n",
    "Define a function that takes in a number, n, and returns the smallest positive number that is evenly divisible by all of the numbers from 1 to n.\n",
    "\n",
    "You may define more than one function to solve this problem.\n",
    "```\n",
    "get_smallest_multiple(10) --> 2520\n",
    "\n",
    "get_smallest_multiple(20) --> 232792560\n",
    "\n",
    "get_smallest_multiple(1) --> 1\n",
    "\n",
    "get_smallest_multiple(0) --> 'Please input a positive number'\n",
    "```"
   ]
  },
  {
   "cell_type": "code",
   "execution_count": null,
   "metadata": {},
   "outputs": [],
   "source": [
    "def get_smallest_multiple(n):\n",
    "    "
   ]
  },
  {
   "cell_type": "code",
   "execution_count": null,
   "metadata": {},
   "outputs": [],
   "source": [
    "get_smallest_multiple(10)"
   ]
  },
  {
   "cell_type": "code",
   "execution_count": null,
   "metadata": {},
   "outputs": [],
   "source": [
    "get_smallest_multiple(20)"
   ]
  },
  {
   "cell_type": "code",
   "execution_count": null,
   "metadata": {},
   "outputs": [],
   "source": [
    "get_smallest_multiple(1)"
   ]
  },
  {
   "cell_type": "code",
   "execution_count": null,
   "metadata": {},
   "outputs": [],
   "source": [
    "get_smallest_multiple(0)"
   ]
  },
  {
   "cell_type": "markdown",
   "metadata": {},
   "source": [
    "### Problem 4\n",
    "Suppose you're given a portion of a phone number. Each digit corresponds to letters (as shown below). Using python, write a function to take in a phone number (as an integer) and return all possible combinations of letters the given number could represent. You can import any standard Python modules that might be useful.\n",
    "\n",
    "Telephone digits, for reference:\n",
    "```\n",
    "    1: nothing\n",
    "    2: a, b, c\n",
    "    3: d, e, f\n",
    "    4: g, h, i\n",
    "    5: j, k, l\n",
    "    6: m, n, o\n",
    "    7: p, q, r, s\n",
    "    8: t, u, v\n",
    "    9: w, x, y, z\n",
    "    0: nothing\n",
    "```\n",
    "\n",
    "Test Cases:\n",
    "```\n",
    "phone_digits(24)\n",
    "\n",
    "        [['a', 'g'],\n",
    "        ['a', 'h'],\n",
    "        ['a', 'i'],\n",
    "        ['b', 'g'],\n",
    "        ['b', 'h'],\n",
    "        ['b', 'i'],\n",
    "        ['c', 'g'],\n",
    "        ['c', 'h'],\n",
    "        ['c', 'i']]\n",
    "\n",
    "phone_digits(1)\n",
    "\n",
    "        [] or [[]]\n",
    "\n",
    "phone_digits(7)\n",
    "\n",
    "        [['p'], ['q'], ['r'], ['s']]\n",
    "```"
   ]
  },
  {
   "cell_type": "code",
   "execution_count": null,
   "metadata": {},
   "outputs": [],
   "source": [
    "digit_char_map = {\n",
    "    1: [],\n",
    "    2: ['a', 'b', 'c'],\n",
    "    3: ['d', 'e', 'f'],\n",
    "    4: ['g', 'h', 'i'],\n",
    "    5: ['j', 'k', 'l'],\n",
    "    6: ['m', 'n', 'o'],\n",
    "    7: ['p', 'q', 'r', 's'],\n",
    "    8: ['t', 'u', 'v'],\n",
    "    9: ['w', 'x', 'y', 'z'],\n",
    "    0: []\n",
    "}\n"
   ]
  },
  {
   "cell_type": "code",
   "execution_count": null,
   "metadata": {},
   "outputs": [],
   "source": [
    "def phone_digits(phone_number):\n",
    "    "
   ]
  },
  {
   "cell_type": "markdown",
   "metadata": {},
   "source": [
    "### Problem 5\n",
    "\n",
    "Your task is to construct a building which will be a pile of $n$ cubes. The cube at the bottom will have a volume of $n^3$, the cube above will have volume of $(n-1)^3$ and so on until the top which will have a volume of $1^3$.\n",
    "\n",
    "You are given the total volume $m$ of the building. Being given $m$ can you find the number $n$ of cubes you will have to build?\n",
    "\n",
    "The parameter of the function `findNb` will be an integer $m$ and you have to return the integer $n$ such as $n^3 + (n-1)^3 + ... + 1^3 = m$ if such a `n` exists or -1 if there is no such `n`."
   ]
  },
  {
   "cell_type": "markdown",
   "metadata": {},
   "source": [
    "```\n",
    "findNb(36) --> 3\n",
    "findNb(1071225) --> 45\n",
    "findNb(91716553919377) --> -1\n",
    "```"
   ]
  },
  {
   "cell_type": "code",
   "execution_count": null,
   "metadata": {},
   "outputs": [],
   "source": [
    "def findNb(m):"
   ]
  },
  {
   "cell_type": "code",
   "execution_count": null,
   "metadata": {},
   "outputs": [],
   "source": [
    "findNb(36)"
   ]
  },
  {
   "cell_type": "code",
   "execution_count": null,
   "metadata": {},
   "outputs": [],
   "source": [
    "findNb(1071225)"
   ]
  },
  {
   "cell_type": "code",
   "execution_count": null,
   "metadata": {},
   "outputs": [],
   "source": [
    "findNb(91716553919377)"
   ]
  }
 ],
 "metadata": {
  "kernelspec": {
   "display_name": "Python [conda env:dsi]",
   "language": "python",
   "name": "conda-env-dsi-py"
  },
  "language_info": {
   "codemirror_mode": {
    "name": "ipython",
    "version": 3
   },
   "file_extension": ".py",
   "mimetype": "text/x-python",
   "name": "python",
   "nbconvert_exporter": "python",
   "pygments_lexer": "ipython3",
   "version": "3.7.3"
  }
 },
 "nbformat": 4,
 "nbformat_minor": 4
}
