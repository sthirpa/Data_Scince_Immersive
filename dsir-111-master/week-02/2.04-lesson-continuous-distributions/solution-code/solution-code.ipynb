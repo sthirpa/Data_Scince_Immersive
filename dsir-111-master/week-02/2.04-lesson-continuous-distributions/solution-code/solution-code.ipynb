{
 "cells": [
  {
   "cell_type": "markdown",
   "metadata": {},
   "source": [
    "<img src=\"https://ga-dash.s3.amazonaws.com/production/assets/logo-9f88ae6c9c3871690e33280fcf557f33.png\" style=\"float: left; margin: 15px;\">\n",
    "\n",
    "## Continuous Probability Distributions"
   ]
  },
  {
   "cell_type": "markdown",
   "metadata": {},
   "source": [
    "## LEARNING OBJECTIVES\n",
    "By the end of this lesson, students should be able to:\n",
    "- Give examples of the following distributions: Continuous Uniform, Exponential, Normal, Beta.\n",
    "- Describe why the Normal distribution is seen everywhere.\n",
    "- State the Central Limit Theorem."
   ]
  },
  {
   "cell_type": "markdown",
   "metadata": {},
   "source": [
    "## Recap\n"
   ]
  },
  {
   "cell_type": "markdown",
   "metadata": {},
   "source": [
    "**Check**: What is a distribution?\n",
    "<details><summary>Answer</summary>\n",
    "\n",
    "- A distribution is the set of all values of a variable and how frequently we observe each value.\n",
    "</details>"
   ]
  },
  {
   "cell_type": "markdown",
   "metadata": {},
   "source": [
    "**Check**: What is the difference between a continuous random variable and discrete random variable?\n",
    "<details><summary>Answer</summary>\n",
    "    \n",
    "- A continuous random variable takes on an uncountably infinite number of values. \n",
    "- A discrete random variable takes on a countable number of values.\n",
    "</details>"
   ]
  },
  {
   "cell_type": "markdown",
   "metadata": {},
   "source": [
    "**(BONUS) Check**: Describe these distributions:\n",
    "- Discrete Uniform\n",
    "- Bernoulli\n",
    "- Binomial\n",
    "- Poisson\n",
    "\n",
    "<details><summary>Answer</summary>\n",
    "\n",
    "- A discrete uniform distribution takes on a range of values that are all equally likely. \n",
    "    -  Example: the value from rolling one die.\n",
    "- A Bernoulli distribution has two outcomes, usually called \"success\" and \"failure.\" The only parameter is the probability of success $p$.\n",
    "    - Example: the number of heads flipped when flipping one coin.\n",
    "- A Binomial distribution counts the number of successes we observe in a fixed number of $n$ independent Bernoulli trials. \n",
    "    - Example: the number of heads flipped when flipping fifty coins.\n",
    "- A Poisson distribution counts the number of successes we observe in a fixed ~amount of time~ **_INTERVAL_**.\n",
    "    - Example: the number of cars that enter a toll road in an hour.\n",
    "    - Example: the number of people in a U.S. household.\n",
    "</details>"
   ]
  },
  {
   "cell_type": "markdown",
   "metadata": {},
   "source": [
    "![](images/box-quote.jpg)"
   ]
  },
  {
   "cell_type": "markdown",
   "metadata": {},
   "source": [
    "Earlier, we spoke about the **discrete uniform** distribution, where each outcome is equally likely.\n",
    "\n",
    "This is the **probability mass function** of a discrete uniform.\n",
    "- Remember that a probability mass function shows us the probability that our random variable takes on a specific value.\n",
    "\n",
    "<img src=\"./images/discrete_uniform_pmf.png\" alt=\"discrete uniform pmf\" width=\"700\"/>\n",
    "\n",
    "This is the **cumulative distribution function** of a discrete uniform.\n",
    "- Remember that a cumulative distribution function shows us the probability that our random variable takes on any value less than or equal to a specific value.\n",
    "\n",
    "<img src=\"./images/discrete_uniform_cdf.png\" alt=\"discrete uniform cdf\" width=\"700\"/>\n",
    "\n",
    "$$\n",
    "\\begin{eqnarray*}\n",
    "\\text{probability mass function}: P(X = x) \\\\\n",
    "\\text{cumulative distribution function}: P(X \\le x)\n",
    "\\end{eqnarray*}\n",
    "$$\n",
    "\n",
    "---\n",
    "\n",
    "# Continuous Distributions!\n",
    "\n",
    "One small notation difference: when dealing with continuous distributions, we use **probability density functions**, not probability mass functions.\n",
    "- This has to do with how probability is defined.\n",
    "\n",
    "## The Continuous Uniform distribution\n",
    "\n",
    "When dealing with an uncountably infinite range of outcomes, we might use a **continuous uniform** instead of a discrete uniform distribution.\n",
    "\n",
    "Parameters of the distribution:\n",
    "\n",
    "- $a$, the minimum value of the distribution.\n",
    "- $b$, the maximum value of the distribution.\n",
    "\n",
    "#### Continuous Uniform pdf\n",
    "\n",
    "The Continuous Uniform pdf is defined as:\n",
    "\n",
    "$$ f(x) = \\frac{1}{b-a} $$\n",
    "\n",
    "One of the most common examples of this is where we want to randomly sample a number between 0 and 1.\n",
    "- This is incredibly valuable if we want to model some complex process through random simulations."
   ]
  },
  {
   "cell_type": "markdown",
   "metadata": {},
   "source": [
    "**Check:**\n",
    "<details><summary> Since we know what a discrete uniform pmf looks like, what do you expect the shape of a continuous uniform pdf to look like?</summary>\n",
    "    \n",
    "- [Head to this site!](http://students.brown.edu/seeing-theory/probability-distributions/index.html#section2)\n",
    "</details>"
   ]
  },
  {
   "cell_type": "code",
   "execution_count": 6,
   "metadata": {},
   "outputs": [],
   "source": [
    "import numpy as np\n",
    "from scipy import stats as stats\n",
    "\n",
    "from matplotlib import pyplot as plt\n",
    "import seaborn as sns\n",
    "plt.style.use(\"fivethirtyeight\")\n",
    "\n",
    "%matplotlib inline"
   ]
  },
  {
   "cell_type": "code",
   "execution_count": null,
   "metadata": {},
   "outputs": [],
   "source": [
    "# linspace example\n",
    "low = -1\n",
    "high = 2\n",
    "np.linspace(low, high, 10)"
   ]
  },
  {
   "cell_type": "code",
   "execution_count": null,
   "metadata": {},
   "outputs": [],
   "source": [
    "# np.linspace practice\n",
    "# Make an array of 100 numbers from -10 to 10\n",
    "np.linspace(-10, 10, 100)"
   ]
  },
  {
   "cell_type": "code",
   "execution_count": null,
   "metadata": {},
   "outputs": [],
   "source": [
    "# Make an array of 10000 numbers from 1998 to 2021\n",
    "np.linspace(1998, 2021, 10000)"
   ]
  },
  {
   "cell_type": "code",
   "execution_count": 4,
   "metadata": {},
   "outputs": [],
   "source": [
    "# A 'helper function' to plot a random variable's pdf or cdf\n",
    "# from lower bound `lower` to upper bound `upper`\n",
    "\n",
    "def plot_distribution(rv, lower, upper, kind = \"pdf\"):\n",
    "  # Make an array of 1000 points from lower to upper\n",
    "  xs = np.linspace(lower, upper, 1000)\n",
    "\n",
    "  # Make our canvas\n",
    "  plt.figure(figsize=(10, 5))\n",
    "  \n",
    "  # Plot our probabilities\n",
    "  if kind == \"pdf\":\n",
    "    # plot pdf\n",
    "    plt.plot(xs, rv.pdf(xs), linewidth=3, color=\"navy\", label=\"pdf\")\n",
    "  elif kind == \"cdf\":\n",
    "    #plot cdf\n",
    "    plt.plot(xs, rv.cdf(xs), linewidth=3, color='orange', label=\"cdf\")\n",
    "  "
   ]
  },
  {
   "cell_type": "markdown",
   "metadata": {},
   "source": [
    "#### Uniform pdf\n",
    "\n",
    "Let  $X \\sim \\text{Uniform}(2, 6)$"
   ]
  },
  {
   "cell_type": "code",
   "execution_count": 54,
   "metadata": {},
   "outputs": [
    {
     "data": {
      "image/png": "[encoded data removed]",
      "text/plain": [
       "<Figure size 720x360 with 1 Axes>"
      ]
     },
     "metadata": {
      "needs_background": "light"
     },
     "output_type": "display_data"
    }
   ],
   "source": [
    "# Scipy's uniform distribution has weird parameters\n",
    "\n",
    "# Our params - reasonable\n",
    "a = 2\n",
    "b = 6\n",
    "\n",
    "# Their params - strange\n",
    "loc = a # Start of the interval\n",
    "scale = b-a # Length of the interval\n",
    "\n",
    "# Make our uniform random variable\n",
    "unif = stats.uniform(loc, scale)\n",
    "\n",
    "# Plot its pdf\n",
    "plot_distribution(unif, a-1, b+1, \"pdf\")"
   ]
  },
  {
   "cell_type": "markdown",
   "metadata": {},
   "source": [
    "#### Uniform cdf"
   ]
  },
  {
   "cell_type": "code",
   "execution_count": 9,
   "metadata": {},
   "outputs": [
    {
     "data": {
      "image/png": "[encoded data removed]",
      "text/plain": [
       "<Figure size 720x360 with 1 Axes>"
      ]
     },
     "metadata": {
      "needs_background": "light"
     },
     "output_type": "display_data"
    }
   ],
   "source": [
    "# and its cdf\n",
    "plot_distribution(unif, a-1, b+1, \"cdf\")"
   ]
  },
  {
   "cell_type": "markdown",
   "metadata": {},
   "source": [
    "#### Practice Problems with CDFs\n",
    "\n",
    "Suppose you generated a random number X between 0 and 1 with uniform probability."
   ]
  },
  {
   "cell_type": "code",
   "execution_count": 132,
   "metadata": {},
   "outputs": [],
   "source": [
    "# Make a uniform random variable\n",
    "a = 0\n",
    "b = 1\n",
    "loc = a\n",
    "scale = b-a\n",
    "unif = stats.uniform(loc, scale)"
   ]
  },
  {
   "cell_type": "code",
   "execution_count": 132,
   "metadata": {},
   "outputs": [],
   "source": [
    "# What is P( 0.1 <= X <= 0.9)?\n",
    "unif.cdf(0.9) - unif.cdf(0.1) # Upper minus lower\n",
    "\n",
    "# Mathematical explanation\n",
    "# P( X <= 0.9 ) = P( X < 0.1 ) + P( 0.1 <= X <= 0.9 )\n",
    "#\n",
    "# P( X <= 0.9 ) - P( X <= 0.1 ) = P( 0.1 <= X <= 0.9 )"
   ]
  },
  {
   "cell_type": "code",
   "execution_count": 132,
   "metadata": {},
   "outputs": [
    {
     "data": {
      "text/plain": [
       "0.8"
      ]
     },
     "execution_count": 132,
     "metadata": {},
     "output_type": "execute_result"
    }
   ],
   "source": [
    "# What is P( 0.25 <= X <= 0.75 )\n",
    "unif.cdf(0.75) - unif.cdf(0.25)"
   ]
  },
  {
   "cell_type": "code",
   "execution_count": 136,
   "metadata": {},
   "outputs": [],
   "source": [
    "# What is P( X > 0.75 )?\n",
    "\n",
    "1 - unif.cdf(0.75)\n",
    "\n",
    "# Mathematical explanation\n",
    "# P( X <= 0.75 ) + P( X > 0.75 ) = 1\n",
    "#\n",
    "# P( X > 0.75 ) = 1 - P( X <= 0.75 )"
   ]
  },
  {
   "cell_type": "code",
   "execution_count": 136,
   "metadata": {},
   "outputs": [
    {
     "data": {
      "text/plain": [
       "0.25"
      ]
     },
     "execution_count": 136,
     "metadata": {},
     "output_type": "execute_result"
    }
   ],
   "source": [
    "# What is P( X > 0.6 )?\n",
    "1 - unif.cdf(0.6)"
   ]
  },
  {
   "cell_type": "markdown",
   "metadata": {},
   "source": [
    "## The Exponential distribution\n",
    "\n",
    "When do we use the Exponential distribution?\n",
    "- We commonly use the Exponential distribution when we are interested in modeling the **amount of time until a success occurs**.\n",
    "\n",
    "Since time is continuous, the exponential distribution is a continuous distribution.\n",
    "\n",
    "Parameters of the distribution:\n",
    "\n",
    "- $\\beta$, the average time to an event."
   ]
  },
  {
   "cell_type": "markdown",
   "metadata": {},
   "source": [
    "<details><summary>Based on historical data, we see an average of 10 buses per hour. From this, how long do you think it will take on average for a new bus to arrive?</summary>\n",
    "\n",
    "- 6 minutes.\n",
    "\n",
    "$$\n",
    "\\begin{eqnarray*}\n",
    "\\frac{\\text{10 buses}}{\\text{1 hour}} = \\frac{\\text{10 buses}}{\\text{60 minutes}} = \\frac{\\text{1 bus}}{\\text{6 minutes}}\n",
    "\\end{eqnarray*}\n",
    "$$\n",
    "</details>"
   ]
  },
  {
   "cell_type": "markdown",
   "metadata": {},
   "source": [
    "#### Exponential pdf\n",
    "\n",
    "Let $X \\sim \\text{Exp}(\\beta)$.\n",
    "\n",
    "The exponential pdf is defined as:\n",
    "\n",
    "$$ f(x) = \\frac{1}{\\beta}  e^{-x/\\beta} $$\n",
    "\n",
    "In this case, $x$ is the time elapsed."
   ]
  },
  {
   "cell_type": "code",
   "execution_count": 61,
   "metadata": {},
   "outputs": [
    {
     "data": {
      "image/png": "[encoded data removed]",
      "text/plain": [
       "<Figure size 1008x360 with 1 Axes>"
      ]
     },
     "metadata": {},
     "output_type": "display_data"
    }
   ],
   "source": [
    "# Thanks to scipy, we can have a sort of random variable object\n",
    "exp = stats.expon(scale=6)\n",
    "plot_distribution(exp, 0, 60, 'pdf')"
   ]
  },
  {
   "cell_type": "code",
   "execution_count": 53,
   "metadata": {},
   "outputs": [
    {
     "data": {
      "text/plain": [
       "6.0"
      ]
     },
     "execution_count": 53,
     "metadata": {},
     "output_type": "execute_result"
    }
   ],
   "source": [
    "# They have lots of interesting methods\n",
    "# https://en.wikipedia.org/wiki/Expected_value\n",
    "exp.mean()"
   ]
  },
  {
   "cell_type": "code",
   "execution_count": 228,
   "metadata": {},
   "outputs": [
    {
     "data": {
      "text/plain": [
       "36.0"
      ]
     },
     "execution_count": 228,
     "metadata": {},
     "output_type": "execute_result"
    }
   ],
   "source": [
    "# https://en.wikipedia.org/wiki/Variance\n",
    "exp.var()"
   ]
  },
  {
   "cell_type": "markdown",
   "metadata": {},
   "source": [
    "It's generally easier to use the cumulative distribution function to find specific probabilities. (e.g. \"What is the probability that the next bus takes at least 5 but less than 10 minutes to show up?\")"
   ]
  },
  {
   "cell_type": "markdown",
   "metadata": {},
   "source": [
    "#### Exponential cdf\n",
    "\n",
    "Let $X \\sim \\text{Exp}(\\beta)$.\n",
    "\n",
    "The cumulative density function is:\n",
    "\n",
    "$$ F(x) = P(X \\le x) = 1 -  e^{-x/\\beta} $$\n",
    "\n",
    "With the same example, our cumulative distribution function looks like:"
   ]
  },
  {
   "cell_type": "code",
   "execution_count": 53,
   "metadata": {
    "scrolled": true
   },
   "outputs": [
    {
     "data": {
      "image/png": "[encoded data removed]",
      "text/plain": [
       "<Figure size 720x360 with 1 Axes>"
      ]
     },
     "metadata": {
      "needs_background": "light"
     },
     "output_type": "display_data"
    }
   ],
   "source": [
    "exp = stats.expon(scale = 6)\n",
    "plot_distribution(exp, 0, 60, 'cdf')"
   ]
  },
  {
   "cell_type": "code",
   "execution_count": 64,
   "metadata": {},
   "outputs": [
    {
     "data": {
      "text/plain": [
       "0.8111243971624382"
      ]
     },
     "execution_count": 64,
     "metadata": {},
     "output_type": "execute_result"
    }
   ],
   "source": [
    "# What is the probability that our next bus shows\n",
    "# up in 10 minutes or less?\n",
    "exp.cdf(10)"
   ]
  },
  {
   "cell_type": "code",
   "execution_count": 65,
   "metadata": {},
   "outputs": [
    {
     "data": {
      "text/plain": [
       "0.18887560283756177"
      ]
     },
     "execution_count": 65,
     "metadata": {},
     "output_type": "execute_result"
    }
   ],
   "source": [
    "# What is the probability that our next bus takes\n",
    "# more than 10 minutes to show up?\n",
    "1 - exp.cdf(10)"
   ]
  },
  {
   "cell_type": "code",
   "execution_count": 66,
   "metadata": {},
   "outputs": [
    {
     "data": {
      "text/plain": [
       "0.24572260566951643"
      ]
     },
     "execution_count": 66,
     "metadata": {},
     "output_type": "execute_result"
    }
   ],
   "source": [
    "# What is the probability that our next bus shows\n",
    "# up in more than 5 minutes but less than 10 minutes?\n",
    "exp.cdf(10) - exp.cdf(5)"
   ]
  },
  {
   "cell_type": "markdown",
   "metadata": {},
   "source": [
    "#### Sampling\n",
    "\n",
    "We will often want to get a set of values that are drawn according to a certain distribution, especially when we're trying to simulate a random process or estimate the probability of an event empirically.\n",
    "\n",
    "Every SciPy distribution comes equipped with an `.rvs()` method that will generate samples from that distribution."
   ]
  },
  {
   "cell_type": "code",
   "execution_count": 11,
   "metadata": {},
   "outputs": [
    {
     "data": {
      "text/plain": [
       "array([12.24503012,  9.20396544,  3.51805367])"
      ]
     },
     "execution_count": 11,
     "metadata": {},
     "output_type": "execute_result"
    }
   ],
   "source": [
    "# Example with uniform distribution\n",
    "\n",
    "# X ~ Uniform(1, 20)\n",
    "a = 1\n",
    "b = 20\n",
    "\n",
    "# Get scipy distribution\n",
    "loc = a\n",
    "scale = b-a\n",
    "distr = stats.uniform(loc, scale)\n",
    "\n",
    "# Generate samples\n",
    "n_samples = 3\n",
    "samples = distr.rvs(n_samples)\n",
    "samples"
   ]
  },
  {
   "cell_type": "markdown",
   "metadata": {},
   "source": [
    "#### Histograms\n",
    "\n",
    "Histograms are useful to visualize the distribution of your data (i.e., the frequencies of values in your dataset).\n",
    "\n",
    "Because our variables here are continuous, we might not ever see a repeat of any particular value.  Histograms solve this issue by _binning_ values into certain buckets / intervals, then counting how many points fall into each bucket.\n",
    "\n",
    "We will use pyplot's `.hist()` function, using the `bins` parameter to control how coarsely or finely the values are grouped: `plt.hist(data, bins=5)`"
   ]
  },
  {
   "cell_type": "code",
   "execution_count": 12,
   "metadata": {},
   "outputs": [
    {
     "data": {
      "image/png": "[encoded data removed]",
      "text/plain": [
       "<Figure size 720x216 with 3 Axes>"
      ]
     },
     "metadata": {
      "needs_background": "light"
     },
     "output_type": "display_data"
    }
   ],
   "source": [
    "# Make a distribution\n",
    "a = 1\n",
    "b = 20\n",
    "\n",
    "loc = a\n",
    "scale = b-a\n",
    "distr = stats.uniform(loc, scale)\n",
    "\n",
    "# Generate samples\n",
    "n_samples = 500\n",
    "samples = distr.rvs(n_samples, random_state=42)\n",
    "\n",
    "# Plot histograms\n",
    "# Number of bins can radically change the visual\n",
    "fig, axes = plt.subplots(ncols = 3, figsize=(10, 3))\n",
    "bins = [3, 10, 20]\n",
    "for bin_, ax in zip(bins,axes):\n",
    "  ax.hist(samples, bin_)\n",
    "  ax.set_title(f\"Bins={bin_}\")\n",
    "plt.show()"
   ]
  },
  {
   "cell_type": "code",
   "execution_count": 83,
   "metadata": {},
   "outputs": [
    {
     "data": {
      "image/png": "[encoded data removed]",
      "text/plain": [
       "<Figure size 720x288 with 1 Axes>"
      ]
     },
     "metadata": {},
     "output_type": "display_data"
    }
   ],
   "source": [
    "# (THREAD) Sample 10,000 Exp(10) random variables and plot the most beautiful histogram you can.\n",
    "X = stats.expon(scale=10)\n",
    "xs = X.rvs(100000)\n",
    "plt.figure(figsize=(10, 4))\n",
    "plt.hist(xs, bins=100, color=\"navy\")\n",
    "plt.xlim(0, 80);"
   ]
  },
  {
   "cell_type": "markdown",
   "metadata": {},
   "source": [
    "## The Gamma distribution\n",
    "The exponential distribution is actually a _special case_ of the Gamma distribution. That is, if you have $\\alpha$ exponential distributions with the same $\\beta$, their sum is $\\text{Gamma}(\\alpha, \\beta)$.\n",
    "\n",
    "$$ f(x) = \\frac{1}{\\Gamma(\\alpha)\\beta^\\alpha} x^{\\alpha - 1} e^{-x/\\beta} $$\n",
    "\n",
    "The cdf has no closed form.\n",
    "\n",
    "#### Example:\n",
    "Suppose a lightbulb lasts on average 12 months. Once it dies, you replace it with a lightbulb of the same brand. How long will it take to go through 5 lightbulbs? You might model this with $\\text{Gamma}(5, 12)$."
   ]
  },
  {
   "cell_type": "code",
   "execution_count": 28,
   "metadata": {},
   "outputs": [
    {
     "data": {
      "text/plain": [
       "0.9473469826562889"
      ]
     },
     "execution_count": 28,
     "metadata": {},
     "output_type": "execute_result"
    }
   ],
   "source": [
    "# Number of items / observations\n",
    "a = 5\n",
    "# Average lifespan / time to observation\n",
    "scale = 12\n",
    "gamma = stats.gamma(a=a, scale=scale)\n",
    "\n",
    "# Probability that you go through 5 lightbulbs in less than t months\n",
    "t = 24\n",
    "gamma.cdf(t)\n",
    "\n",
    "# Probability that you go through 5 lightbulbs in longer than t months\n",
    "1 - gamma.cdf(t)"
   ]
  },
  {
   "cell_type": "markdown",
   "metadata": {},
   "source": [
    "## Using Data\n",
    "Why do we study distributions like this? If we can safely **_assume_** data follow a certain distribution, we can use their distributional properties (pdf, cdf, mean, variance, etc). To make real-world statements about them.\n",
    "\n",
    "For example, let's say the following matrix is output from a software that measures employee efficiency when completing a task. Each column represents the time (in minutes) it took to produce one widget. Each employee produced five widgets, one after the other. For simplicity's sake, assume each employee is at the same skill level, and they do not experience fatigue."
   ]
  },
  {
   "cell_type": "code",
   "execution_count": 14,
   "metadata": {},
   "outputs": [],
   "source": [
    "times = np.load(\"../data/efficiency.npy\")"
   ]
  },
  {
   "cell_type": "code",
   "execution_count": 15,
   "metadata": {},
   "outputs": [
    {
     "data": {
      "text/plain": [
       "array([[ 0.13,  3.95,  5.89,  0.75,  6.51],\n",
       "       [ 1.67, 11.86,  4.03,  8.73,  1.59],\n",
       "       [ 1.85,  0.53,  1.64,  3.71, 13.87],\n",
       "       [ 2.98,  1.12,  3.08,  3.87,  7.66],\n",
       "       [ 0.37, 11.61,  6.27, 14.64,  0.82],\n",
       "       [ 7.77, 15.11, 11.63,  0.66,  3.45],\n",
       "       [ 1.54,  3.8 ,  6.94,  9.06,  2.75],\n",
       "       [ 0.88,  4.05,  0.5 ,  0.69,  4.33],\n",
       "       [ 4.11, 11.71,  1.92,  0.58,  7.74],\n",
       "       [ 9.21,  0.98,  0.73,  7.52,  2.9 ],\n",
       "       [ 4.75,  1.79, 11.45,  5.57,  0.17],\n",
       "       [ 1.77,  0.97,  5.98, 12.69,  9.44],\n",
       "       [ 4.05,  0.46,  0.68,  0.51,  1.9 ],\n",
       "       [ 0.81, 11.35,  4.7 ,  4.36, 17.56],\n",
       "       [ 5.9 ,  5.57,  5.95,  2.35, 15.97],\n",
       "       [ 4.35,  3.55,  7.77,  0.19,  4.07],\n",
       "       [ 4.95, 13.62,  3.33, 17.01, 13.45],\n",
       "       [ 4.44, 18.61,  2.77,  0.99, 29.02],\n",
       "       [ 0.77,  1.58,  1.16, 15.63, 14.7 ],\n",
       "       [ 2.44, 17.42,  3.72,  3.69, 12.47],\n",
       "       [ 0.04,  1.96, 20.99,  2.64,  2.68],\n",
       "       [ 5.72, 10.11,  3.46,  1.87,  3.19],\n",
       "       [ 2.68,  6.34,  1.45,  2.93,  5.64],\n",
       "       [ 2.38,  2.2 ,  3.24,  1.06, 14.12],\n",
       "       [ 1.39,  8.44,  5.49,  2.86,  1.3 ],\n",
       "       [ 5.03,  7.39,  0.58,  4.64,  3.5 ],\n",
       "       [ 2.83,  2.72,  3.68, 12.35,  1.13],\n",
       "       [10.76,  8.73,  9.58, 11.06,  3.91],\n",
       "       [ 0.32, 11.89,  2.65,  0.44,  3.25],\n",
       "       [ 2.65,  4.39,  0.16,  0.93,  3.89]])"
      ]
     },
     "execution_count": 15,
     "metadata": {},
     "output_type": "execute_result"
    }
   ],
   "source": [
    "times"
   ]
  },
  {
   "cell_type": "code",
   "execution_count": 16,
   "metadata": {},
   "outputs": [
    {
     "data": {
      "text/plain": [
       "(30, 5)"
      ]
     },
     "execution_count": 16,
     "metadata": {},
     "output_type": "execute_result"
    }
   ],
   "source": [
    "# times is 2-dimensional (rows and columns)\n",
    "times.shape"
   ]
  },
  {
   "cell_type": "code",
   "execution_count": 17,
   "metadata": {},
   "outputs": [
    {
     "data": {
      "text/plain": [
       "array([ 0.13,  3.95,  5.89,  0.75,  6.51,  1.67, 11.86,  4.03,  8.73,\n",
       "        1.59,  1.85,  0.53,  1.64,  3.71, 13.87,  2.98,  1.12,  3.08,\n",
       "        3.87,  7.66,  0.37, 11.61,  6.27, 14.64,  0.82,  7.77, 15.11,\n",
       "       11.63,  0.66,  3.45,  1.54,  3.8 ,  6.94,  9.06,  2.75,  0.88,\n",
       "        4.05,  0.5 ,  0.69,  4.33,  4.11, 11.71,  1.92,  0.58,  7.74,\n",
       "        9.21,  0.98,  0.73,  7.52,  2.9 ,  4.75,  1.79, 11.45,  5.57,\n",
       "        0.17,  1.77,  0.97,  5.98, 12.69,  9.44,  4.05,  0.46,  0.68,\n",
       "        0.51,  1.9 ,  0.81, 11.35,  4.7 ,  4.36, 17.56,  5.9 ,  5.57,\n",
       "        5.95,  2.35, 15.97,  4.35,  3.55,  7.77,  0.19,  4.07,  4.95,\n",
       "       13.62,  3.33, 17.01, 13.45,  4.44, 18.61,  2.77,  0.99, 29.02,\n",
       "        0.77,  1.58,  1.16, 15.63, 14.7 ,  2.44, 17.42,  3.72,  3.69,\n",
       "       12.47,  0.04,  1.96, 20.99,  2.64,  2.68,  5.72, 10.11,  3.46,\n",
       "        1.87,  3.19,  2.68,  6.34,  1.45,  2.93,  5.64,  2.38,  2.2 ,\n",
       "        3.24,  1.06, 14.12,  1.39,  8.44,  5.49,  2.86,  1.3 ,  5.03,\n",
       "        7.39,  0.58,  4.64,  3.5 ,  2.83,  2.72,  3.68, 12.35,  1.13,\n",
       "       10.76,  8.73,  9.58, 11.06,  3.91,  0.32, 11.89,  2.65,  0.44,\n",
       "        3.25,  2.65,  4.39,  0.16,  0.93,  3.89])"
      ]
     },
     "execution_count": 17,
     "metadata": {},
     "output_type": "execute_result"
    }
   ],
   "source": [
    "# Flatten to put every value on the same axis\n",
    "# Option A\n",
    "times.reshape(-1)"
   ]
  },
  {
   "cell_type": "code",
   "execution_count": 18,
   "metadata": {},
   "outputs": [
    {
     "data": {
      "text/plain": [
       "array([ 0.13,  3.95,  5.89,  0.75,  6.51,  1.67, 11.86,  4.03,  8.73,\n",
       "        1.59,  1.85,  0.53,  1.64,  3.71, 13.87,  2.98,  1.12,  3.08,\n",
       "        3.87,  7.66,  0.37, 11.61,  6.27, 14.64,  0.82,  7.77, 15.11,\n",
       "       11.63,  0.66,  3.45,  1.54,  3.8 ,  6.94,  9.06,  2.75,  0.88,\n",
       "        4.05,  0.5 ,  0.69,  4.33,  4.11, 11.71,  1.92,  0.58,  7.74,\n",
       "        9.21,  0.98,  0.73,  7.52,  2.9 ,  4.75,  1.79, 11.45,  5.57,\n",
       "        0.17,  1.77,  0.97,  5.98, 12.69,  9.44,  4.05,  0.46,  0.68,\n",
       "        0.51,  1.9 ,  0.81, 11.35,  4.7 ,  4.36, 17.56,  5.9 ,  5.57,\n",
       "        5.95,  2.35, 15.97,  4.35,  3.55,  7.77,  0.19,  4.07,  4.95,\n",
       "       13.62,  3.33, 17.01, 13.45,  4.44, 18.61,  2.77,  0.99, 29.02,\n",
       "        0.77,  1.58,  1.16, 15.63, 14.7 ,  2.44, 17.42,  3.72,  3.69,\n",
       "       12.47,  0.04,  1.96, 20.99,  2.64,  2.68,  5.72, 10.11,  3.46,\n",
       "        1.87,  3.19,  2.68,  6.34,  1.45,  2.93,  5.64,  2.38,  2.2 ,\n",
       "        3.24,  1.06, 14.12,  1.39,  8.44,  5.49,  2.86,  1.3 ,  5.03,\n",
       "        7.39,  0.58,  4.64,  3.5 ,  2.83,  2.72,  3.68, 12.35,  1.13,\n",
       "       10.76,  8.73,  9.58, 11.06,  3.91,  0.32, 11.89,  2.65,  0.44,\n",
       "        3.25,  2.65,  4.39,  0.16,  0.93,  3.89])"
      ]
     },
     "execution_count": 18,
     "metadata": {},
     "output_type": "execute_result"
    }
   ],
   "source": [
    "# Option B\n",
    "times.flatten()"
   ]
  },
  {
   "cell_type": "code",
   "execution_count": 19,
   "metadata": {},
   "outputs": [
    {
     "data": {
      "text/plain": [
       "array([ 0.13,  3.95,  5.89,  0.75,  6.51,  1.67, 11.86,  4.03,  8.73,\n",
       "        1.59,  1.85,  0.53,  1.64,  3.71, 13.87,  2.98,  1.12,  3.08,\n",
       "        3.87,  7.66,  0.37, 11.61,  6.27, 14.64,  0.82,  7.77, 15.11,\n",
       "       11.63,  0.66,  3.45,  1.54,  3.8 ,  6.94,  9.06,  2.75,  0.88,\n",
       "        4.05,  0.5 ,  0.69,  4.33,  4.11, 11.71,  1.92,  0.58,  7.74,\n",
       "        9.21,  0.98,  0.73,  7.52,  2.9 ,  4.75,  1.79, 11.45,  5.57,\n",
       "        0.17,  1.77,  0.97,  5.98, 12.69,  9.44,  4.05,  0.46,  0.68,\n",
       "        0.51,  1.9 ,  0.81, 11.35,  4.7 ,  4.36, 17.56,  5.9 ,  5.57,\n",
       "        5.95,  2.35, 15.97,  4.35,  3.55,  7.77,  0.19,  4.07,  4.95,\n",
       "       13.62,  3.33, 17.01, 13.45,  4.44, 18.61,  2.77,  0.99, 29.02,\n",
       "        0.77,  1.58,  1.16, 15.63, 14.7 ,  2.44, 17.42,  3.72,  3.69,\n",
       "       12.47,  0.04,  1.96, 20.99,  2.64,  2.68,  5.72, 10.11,  3.46,\n",
       "        1.87,  3.19,  2.68,  6.34,  1.45,  2.93,  5.64,  2.38,  2.2 ,\n",
       "        3.24,  1.06, 14.12,  1.39,  8.44,  5.49,  2.86,  1.3 ,  5.03,\n",
       "        7.39,  0.58,  4.64,  3.5 ,  2.83,  2.72,  3.68, 12.35,  1.13,\n",
       "       10.76,  8.73,  9.58, 11.06,  3.91,  0.32, 11.89,  2.65,  0.44,\n",
       "        3.25,  2.65,  4.39,  0.16,  0.93,  3.89])"
      ]
     },
     "execution_count": 19,
     "metadata": {},
     "output_type": "execute_result"
    }
   ],
   "source": [
    "# Option C\n",
    "times.ravel()"
   ]
  },
  {
   "cell_type": "code",
   "execution_count": 216,
   "metadata": {},
   "outputs": [
    {
     "data": {
      "image/png": "[encoded data removed]",
      "text/plain": [
       "<Figure size 432x288 with 1 Axes>"
      ]
     },
     "metadata": {},
     "output_type": "display_data"
    }
   ],
   "source": [
    "# Q1: What distribution might the time it takes to complete one widget follow?\n",
    "# A: Exponential, but it helps to look at the hist too!\n",
    "plt.hist(times.reshape(-1), bins=20);"
   ]
  },
  {
   "cell_type": "code",
   "execution_count": 52,
   "metadata": {},
   "outputs": [
    {
     "data": {
      "image/png": "[encoded data removed]",
      "text/plain": [
       "<Figure size 720x360 with 1 Axes>"
      ]
     },
     "metadata": {
      "needs_background": "light"
     },
     "output_type": "display_data"
    }
   ],
   "source": [
    "# And the corresponding exponential distribution\n",
    "plot_distribution(stats.expon(scale=times.mean()),\n",
    "  lower=0, upper=60, kind='pdf')"
   ]
  },
  {
   "cell_type": "code",
   "execution_count": 193,
   "metadata": {},
   "outputs": [
    {
     "data": {
      "text/plain": [
       "5.404866666666666"
      ]
     },
     "execution_count": 193,
     "metadata": {},
     "output_type": "execute_result"
    }
   ],
   "source": [
    "# Q2: What value for the parameter might we estimate for this?\n",
    "np.mean(times)"
   ]
  },
  {
   "cell_type": "code",
   "execution_count": 196,
   "metadata": {},
   "outputs": [
    {
     "data": {
      "text/plain": [
       "0.1572081741841448"
      ]
     },
     "execution_count": 196,
     "metadata": {},
     "output_type": "execute_result"
    }
   ],
   "source": [
    "# Q3: What's the probability it takes longer than 10 minutes to complete a widget?\n",
    "1 - stats.gamma(a=1, scale=np.mean(times)).cdf(10)"
   ]
  },
  {
   "cell_type": "code",
   "execution_count": 211,
   "metadata": {},
   "outputs": [
    {
     "data": {
      "text/plain": [
       "0.0824360706706464"
      ]
     },
     "execution_count": 211,
     "metadata": {},
     "output_type": "execute_result"
    }
   ],
   "source": [
    "# Q4: What's the probability it takes longer than 45 minutes to complete 5 widgets?\n",
    "1 - stats.gamma(a=5, scale=np.mean(times)).cdf(45)"
   ]
  },
  {
   "cell_type": "markdown",
   "metadata": {},
   "source": [
    "<a id='normal'></a>\n",
    "\n",
    "## The Normal distribution\n",
    "\n",
    "The Normal distribution is the most well known and most important distribution. **Many** real-world processes can be modeled using a Normal distribution.\n",
    "\n",
    "Parameters of the Normal distribution:\n",
    "\n",
    "- $\\mu$ is the mean.\n",
    "- $\\sigma$ is the standard deviation of the distribution.\n",
    "\n",
    "#### Normal pdf\n",
    "\n",
    "Let $X \\sim N(\\mu, \\sigma)$. The probability density function of the Normal distribution is given by\n",
    "\n",
    "### $$ f(x) = \\frac{1}{\\sqrt{2\\pi\\sigma^2} } \\; e^{ -\\frac{(x-\\mu)^2}{2\\sigma^2} } $$"
   ]
  },
  {
   "cell_type": "markdown",
   "metadata": {},
   "source": [
    "Let's say the average purchase from our website is \\\\$25 with a standard deviation of \\\\$5."
   ]
  },
  {
   "cell_type": "code",
   "execution_count": 87,
   "metadata": {},
   "outputs": [
    {
     "name": "stdout",
     "output_type": "stream",
     "text": [
      "25.0\n",
      "5.0\n"
     ]
    }
   ],
   "source": [
    "Y = stats.norm(25, 5)\n",
    "print(Y.mean())\n",
    "print(Y.std())"
   ]
  },
  {
   "cell_type": "code",
   "execution_count": 91,
   "metadata": {},
   "outputs": [
    {
     "data": {
      "image/png": "[encoded data removed]",
      "text/plain": [
       "<Figure size 1008x360 with 1 Axes>"
      ]
     },
     "metadata": {},
     "output_type": "display_data"
    }
   ],
   "source": [
    "Y = stats.norm(25, 5)\n",
    "plot_distn(Y, 0, 50)"
   ]
  },
  {
   "cell_type": "markdown",
   "metadata": {},
   "source": [
    "#### Normal cdf\n",
    "\n",
    "[The Normal cumulative distribution function has to be approximated.](https://en.wikipedia.org/wiki/Normal_distribution#Definition) If you want, see the Wikipedia page for the details on how it is calculated. \n",
    "\n",
    "We can plot it here, however, using SciPy."
   ]
  },
  {
   "cell_type": "code",
   "execution_count": 93,
   "metadata": {},
   "outputs": [
    {
     "data": {
      "image/png": "[encoded data removed]",
      "text/plain": [
       "<Figure size 1008x360 with 1 Axes>"
      ]
     },
     "metadata": {},
     "output_type": "display_data"
    }
   ],
   "source": [
    "# cdfs all follow the same pattern, and so aren't *too* interesting.\n",
    "plot_distn(Y, 0, 50, kind=\"cdf\")"
   ]
  },
  {
   "cell_type": "code",
   "execution_count": 74,
   "metadata": {},
   "outputs": [
    {
     "data": {
      "text/plain": [
       "2.866515719235352e-07"
      ]
     },
     "execution_count": 74,
     "metadata": {},
     "output_type": "execute_result"
    }
   ],
   "source": [
    "# What is the prob that someone is going to spend more than $50 on our website\n",
    "1 - Y.cdf(50)"
   ]
  },
  {
   "cell_type": "code",
   "execution_count": 75,
   "metadata": {},
   "outputs": [
    {
     "data": {
      "text/plain": [
       "0.15865525393145707"
      ]
     },
     "execution_count": 75,
     "metadata": {},
     "output_type": "execute_result"
    }
   ],
   "source": [
    "# What is the prob that someone is goign to spend more than $30 on our website\n",
    "1 - Y.cdf(30)"
   ]
  },
  {
   "cell_type": "markdown",
   "metadata": {},
   "source": [
    "## The Standard Normal distribution\n",
    "An important building block in the world of statistics is the **standard normal distribution**. This is the $N(0, 1)$ distribution, and is traditionally abbreviated with a $Z$. Specifically, if $X \\sim N(\\mu, \\sigma)$, then\n",
    "\n",
    "$$ Z = \\frac{X - \\mu}{\\sigma} \\sim N(0, 1) $$"
   ]
  },
  {
   "cell_type": "code",
   "execution_count": 49,
   "metadata": {},
   "outputs": [
    {
     "data": {
      "image/png": "[encoded data removed]",
      "text/plain": [
       "<Figure size 720x360 with 1 Axes>"
      ]
     },
     "metadata": {
      "needs_background": "light"
     },
     "output_type": "display_data"
    }
   ],
   "source": [
    "# Make a normal distribution\n",
    "mean = 12\n",
    "std = 5\n",
    "\n",
    "norm = stats.norm(mean, std)\n",
    "\n",
    "plot_distribution(norm, -8, 33, 'pdf')"
   ]
  },
  {
   "cell_type": "code",
   "execution_count": 50,
   "metadata": {},
   "outputs": [
    {
     "data": {
      "image/png": "[encoded data removed]",
      "text/plain": [
       "<Figure size 432x288 with 1 Axes>"
      ]
     },
     "metadata": {
      "needs_background": "light"
     },
     "output_type": "display_data"
    }
   ],
   "source": [
    "# Standardize sample values and plot distribution\n",
    "samples = norm.rvs(10000)\n",
    "samples = (samples - mean)/std\n",
    "plt.hist(samples, bins=100);"
   ]
  },
  {
   "cell_type": "markdown",
   "metadata": {},
   "source": [
    "### Interview Question\n",
    "\n",
    "Your company maintains a piece of chat software. An engineer mentions that there were ten support calls yesterday. The engineer wants to use a Normal distribution to predict the number of calls they can expect in a given day so they can figure out how many call technicians are needed."
   ]
  },
  {
   "cell_type": "markdown",
   "metadata": {},
   "source": [
    "<details><summary>What are some of the downsides to using a Normal distribution to predict the maximum number of calls in a day?</summary>\n",
    "\n",
    "_(Answers may vary! This is not a complete list of all possible answers!)_\n",
    "- The number of calls you can expect in a day is a discrete variable, but the Normal distribution is continuous.\n",
    "- The number of calls in a day can't be negative, but the Normal distribution will include negative values!\n",
    "- The Normal distribution is symmetric, but if we plotted the number of calls each day, there's a good chance it won't be symmetric.\n",
    "</details>"
   ]
  },
  {
   "cell_type": "markdown",
   "metadata": {},
   "source": [
    "## The Beta Distrubtion\n",
    "Another distribution that we'll see more later in the class is the beta distribtion. This distribution is special because it can only take on values between 0 and 1. This makes it especially useful for modeling probabilities for Bayesian statistics. It's pretty wild, you can check out beta's [wiki page](https://en.wikipedia.org/wiki/Beta_distribution) for more details.\n",
    "\n",
    "If we let $X \\sim \\text{Beta}(\\alpha, \\beta)$, then\n",
    "\n",
    "$$ f(x) = \\frac{\\Gamma(\\alpha + \\beta)}{\\Gamma(\\alpha)\\Gamma(\\beta)} x^{\\alpha - 1}(1 - x)^{\\beta - 1} $$\n",
    "\n",
    "Note that if $\\alpha = \\beta = 1$, then the $\\text{Beta}(1, 1)$ distribution is exactly the same as the $U(0, 1)$ distribution!"
   ]
  },
  {
   "cell_type": "code",
   "execution_count": 214,
   "metadata": {},
   "outputs": [],
   "source": [
    "# Let's make a beta random variable and check it out.\n",
    "X = stats.beta(1, 1)\n",
    "\n",
    "plot_distribution(X, 0, 1)"
   ]
  },
  {
   "cell_type": "code",
   "execution_count": 187,
   "metadata": {},
   "outputs": [
    {
     "data": {
      "image/png": "[encoded data removed]",
      "text/plain": [
       "<Figure size 720x360 with 1 Axes>"
      ]
     },
     "metadata": {
      "needs_background": "light"
     },
     "output_type": "display_data"
    }
   ],
   "source": [
    "# and another\n",
    "X = stats.beta(10, 5)\n",
    "plot_distribution(X, 0, 1)"
   ]
  },
  {
   "cell_type": "code",
   "execution_count": 189,
   "metadata": {},
   "outputs": [
    {
     "data": {
      "image/png": "[encoded data removed]",
      "text/plain": [
       "<Figure size 720x360 with 1 Axes>"
      ]
     },
     "metadata": {
      "needs_background": "light"
     },
     "output_type": "display_data"
    }
   ],
   "source": [
    "# and another\n",
    "X = stats.beta(0.7, 0.01)\n",
    "plot_distribution(X, 0, 1)"
   ]
  },
  {
   "cell_type": "markdown",
   "metadata": {},
   "source": [
    "### (BONUS) Summary Statistics\n",
    "\n",
    "For these \"named\" distributions (distributions that have names), they have been studied well enough that we know some nice properties. \n",
    "\n",
    "For example:\n",
    "- The mean of the Continuous Uniform distribution is exactly $\\frac{b+a}{2}$.\n",
    "- The mean of the Exponential distribution is exactly $\\beta$.\n",
    "- The mean of the Normal distribution is exactly $\\mu$.\n",
    "- The mean of the Binomial distribution is exactly $np$.\n",
    "- The mean of the Poisson distribution is exactly $\\lambda$.\n",
    "\n",
    "The mean (or expected value) of a random variable $X$ is often denoted with an $E$. That is, if $X$ has a mean $\\mu$, then $E[X] = \\mu$. This notation will pop up as you study outside resources. Working with random variables often involves knowledge of **calculus**."
   ]
  },
  {
   "cell_type": "markdown",
   "metadata": {},
   "source": [
    "## Moving from Distributions to Data\n",
    "\n",
    "It's sometimes nice to use pdfs and cdfs. They can help us answer many problems, like we've seen earlier."
   ]
  },
  {
   "cell_type": "markdown",
   "metadata": {},
   "source": [
    "<details><summary>However, in the real world, we might not have access to the pdf or the cdf. Why is that?</summary>\n",
    "    \n",
    "- We have to believe that our population perfectly follows a specific probability distribution. It's probably not often the case that our data does this.\n",
    "- However, there's a really special and important result in statistics that connects data with a common probability distribution that we rely on a lot.\n",
    "</details>"
   ]
  },
  {
   "cell_type": "code",
   "execution_count": 30,
   "metadata": {},
   "outputs": [],
   "source": [
    "data = np.load(\"../data/strange-data.npy\")"
   ]
  },
  {
   "cell_type": "code",
   "execution_count": 31,
   "metadata": {},
   "outputs": [
    {
     "data": {
      "image/png": "[encoded data removed]",
      "text/plain": [
       "<Figure size 432x288 with 1 Axes>"
      ]
     },
     "metadata": {
      "needs_background": "light"
     },
     "output_type": "display_data"
    }
   ],
   "source": [
    "# Look at the distribution of the data\n",
    "plt.hist(data, bins=100);"
   ]
  },
  {
   "cell_type": "code",
   "execution_count": 35,
   "metadata": {},
   "outputs": [
    {
     "data": {
      "image/png": "[encoded data removed]",
      "text/plain": [
       "<Figure size 432x288 with 1 Axes>"
      ]
     },
     "metadata": {
      "needs_background": "light"
     },
     "output_type": "display_data"
    }
   ],
   "source": [
    "# Generate random samples from the data\n",
    "sample_size = 100\n",
    "n_samples = 100000\n",
    "samples = [np.random.choice(data, sample_size) for _ in range(n_samples)]\n",
    "\n",
    "# Calculate the means of those samples\n",
    "means = [np.mean(sample) for sample in samples]\n",
    "\n",
    "# Look at the distribution of the means\n",
    "\n",
    "# xbars = [np.mean(np.random.choice(data, size=100)) for _ in range(100000)]\n",
    "plt.hist(means, bins=100);"
   ]
  },
  {
   "cell_type": "markdown",
   "metadata": {},
   "source": [
    "### **This is the Central Limit Theorem at play!**"
   ]
  },
  {
   "cell_type": "markdown",
   "metadata": {},
   "source": [
    "## Central Limit Theorem\n",
    "\n",
    "The CLT is one of the most misunderstood theorems in all of statistics. In essence, it states:\n",
    "\n",
    "Suppose you have a random variable $X$ that follows any (reasonable) distribution. Suppose you randomly sample from this distribution and compute its mean and write it down. Now do this many, many more times. **The distribution of these means will follow a normal distribution in the long run.**\n",
    "\n",
    "Stated in pure math, if $X$ is a random variable with mean $\\mu$ and standard deviation $\\sigma$, then if each sample is taken to be of size $n$, and we let the number of these separate samples go to infinity,\n",
    "\n",
    "$$ \\frac{\\bar{X} - \\mu}{\\sigma/\\sqrt{n}} \\longrightarrow N(0, 1) $$\n",
    "\n",
    "**Because we often deal with averages (or sums) of things, the Central Limit Theorem causes the normal distribution to appear all over the place.** This is amazing! Normality is the most common assumption we'll make about the distribution of our data or our errors. We also rely heavily on the CLT when conducting hypothesis tests.\n",
    "\n",
    "### Visualizing the Central Limit Theorem\n",
    "Check out a fantastic resource [here](https://seeing-theory.brown.edu/probability-distributions/index.html#section3).\n",
    "\n",
    "### Common Misunderstanding of the CLT\n",
    "\n",
    "Many beginners will quote the CLT as saying \"as long as we connect enough data, our data will look normal!\" **THIS IS EXTREMELY FALSE AND I NEVER WANNA HEAR IT AGAIN!!!** In fact, this is the definition of a distribution! If we collect more and more data from a source, that distribution will converge to its true distribution."
   ]
  },
  {
   "cell_type": "markdown",
   "metadata": {},
   "source": [
    "## LEARNING OBJECTIVES\n",
    "By the end of this lesson, students should be able to:\n",
    "- Give examples of several continuous distributions: uniform, exponential, gamma, normal, standard normal, and beta.\n",
    "- Understand how and why we can use distributional assumptions in our work.\n",
    "- Describe why the normal distribution is seen everywhere.\n",
    "- State the Central Limit Theorem."
   ]
  },
  {
   "cell_type": "markdown",
   "metadata": {},
   "source": [
    "<details><summary>What is the Continuous Uniform distribution?</summary>\n",
    "\n",
    "- The Continuous Uniform distribution is a distribution that takes on an uncountable number of values with equal probability.\n",
    "- An example of the Continuous Uniform might be to randomly generate a number between 0 and 1.\n",
    "</details>"
   ]
  },
  {
   "cell_type": "markdown",
   "metadata": {},
   "source": [
    "<details><summary>What is the Exponential distribution?</summary>\n",
    "\n",
    "- Just like the Poisson distribution is the Binomial distribution taken to the limit, the Exponential distribution is the Geometric distribution taken to the limit. The Exponential distribution models the amount of time until an event occurs. Examples of the Exponential distribution might be:\n",
    "    - The amount of time until a bus arrives at the stop.\n",
    "    - The amount of time until a light bulb stops working.\n",
    "    - The amount of time until a new visitor comes to my website.\n",
    "</details>"
   ]
  },
  {
   "cell_type": "markdown",
   "metadata": {},
   "source": [
    "<details><summary>What is the Normal distribution?</summary>\n",
    "\n",
    "- The Normal distribution is the most widely-known distribution. It is symmetric, bell-shaped, and is parameterized by its mean and variance/standard deviation. Examples of the Normal distribution might be:\n",
    "    - The intelligence quotient (IQ) of individuals.\n",
    "    - The average values of 1,000 dice rolls.\n",
    "</details>"
   ]
  },
  {
   "cell_type": "markdown",
   "metadata": {},
   "source": [
    "<details><summary>Why is the Normal distribution seen everywhere?</summary>\n",
    "\n",
    "- The Normal distribution naturally models a lot of real-world phenomena. However, the Normal distribution also models the average of **any** random variables, as long as there's enough. We often count or average things, so this will pop up frequently. In addition, some distributions naturally are means/sums of other random variables (Poisson, Binomial, and lots of others we haven't officially discussed) so we can use the Normal distribution in lots of cases!\n",
    "</details>"
   ]
  },
  {
   "cell_type": "markdown",
   "metadata": {},
   "source": [
    "<details><summary>State the Central Limit Theorem.</summary>\n",
    "\n",
    "- The Central Limit Theorem states that, as $N \\rightarrow \\infty$ (where $N$ is the number of independent samples), the sampling distribution of $\\bar{X}$ will approach a Normal distribution with mean $\\mu$ and standard deviation $\\frac{\\sigma}{\\sqrt{n}}$.\n",
    "</details>"
   ]
  },
  {
   "cell_type": "markdown",
   "metadata": {},
   "source": [
    "### Resources\n",
    "- The [Kolmogorov-Smirnov test](https://docs.scipy.org/doc/scipy-0.14.0/reference/generated/scipy.stats.kstest.html) is a way for us to estimate whether two samples come from the same distribution or whether one sample comes from a particular distribution. (This will make more sense after you've covered hypothesis testing in inference.)"
   ]
  }
 ],
 "metadata": {
  "kernelspec": {
   "display_name": "Python 3 (ipykernel)",
   "language": "python",
   "name": "python3"
  },
  "language_info": {
   "codemirror_mode": {
    "name": "ipython",
    "version": 3
   },
   "file_extension": ".py",
   "mimetype": "text/x-python",
   "name": "python",
   "nbconvert_exporter": "python",
   "pygments_lexer": "ipython3",
   "version": "3.8.12"
  }
 },
 "nbformat": 4,
 "nbformat_minor": 4
}
