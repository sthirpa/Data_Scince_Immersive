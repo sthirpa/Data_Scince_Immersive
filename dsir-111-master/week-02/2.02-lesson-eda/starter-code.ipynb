{
 "cells": [
  {
   "cell_type": "markdown",
   "metadata": {},
   "source": [
    "<img src=\"http://imgur.com/1ZcRyrc.png\" style=\"float: left; margin: 20px; height: 55px\">\n",
    "\n",
    "# EDA Walkthrough\n",
    "\n",
    "_Authors: Kiefer Katovich (SF), David Yerrington (SF), Riley Dallas (AUS), Adi Bronshtein (Live Online)_\n",
    "\n",
    "---\n",
    "\n",
    "The dataset for today's lesson (`Heart.csv`) comes from the book, [An Introduction to Statistical Learning (ISLR)](http://faculty.marshall.usc.edu/gareth-james/ISL/). It's comprised of diagnostic measurements for 303 patients to determine whether or not they have heart disease (the `AHD` column).\n",
    "\n",
    "Though in many if not most cases the EDA procedure will be considerably more involved, this should give you an idea of the basic workflow a data scientist would use when working with a new dataset."
   ]
  },
  {
   "cell_type": "markdown",
   "metadata": {},
   "source": [
    "By now we know that data cleaning and data exploration are a very important part of any Data Scientist job. Some estimations put it at 80% of the time Data Scientist spends on a project. The other 20\\%? Well...   \n",
    "![](./imgs/clean_data_borat.png)"
   ]
  },
  {
   "cell_type": "markdown",
   "metadata": {},
   "source": [
    "### Learning Objectives\n",
    "\n",
    "- Quickly describe a dataset, including data types, missing values and basic descriptive statistics\n",
    "- Rename columns (series) in a DataFrame\n",
    "- Visualize data distributions with box plots\n",
    "- Calculate and visualize correlation"
   ]
  },
  {
   "cell_type": "markdown",
   "metadata": {},
   "source": [
    "**The Data Science Workflow**\n",
    "![](./imgs/data-science-workflow.png)"
   ]
  },
  {
   "cell_type": "code",
   "execution_count": null,
   "metadata": {},
   "outputs": [],
   "source": [
    "import numpy as np\n",
    "import seaborn as sns\n",
    "import matplotlib.pyplot as plt\n",
    "import pandas as pd\n",
    "\n",
    "%matplotlib inline"
   ]
  },
  {
   "cell_type": "markdown",
   "metadata": {},
   "source": [
    "## Load the data\n",
    "\n",
    "---\n",
    "\n",
    "Import the CSV into a pandas DataFrame."
   ]
  },
  {
   "cell_type": "code",
   "execution_count": null,
   "metadata": {},
   "outputs": [],
   "source": [
    "file_path = './datasets/Heart.csv'"
   ]
  },
  {
   "cell_type": "code",
   "execution_count": null,
   "metadata": {},
   "outputs": [],
   "source": []
  },
  {
   "cell_type": "markdown",
   "metadata": {},
   "source": [
    "## Describe the basic format of the data and the columns\n",
    "\n",
    "---\n",
    "\n",
    "Use the `.head()` method (and optionally pass in an integer for the number of rows you want to see) to get a glimpse of your dataset. This is a good initial step to get a feel for what is in the CSV and what problems may be present.\n",
    "\n",
    "The `.dtypes` attribute tells you the data type for each of your columns."
   ]
  },
  {
   "cell_type": "code",
   "execution_count": null,
   "metadata": {},
   "outputs": [],
   "source": [
    "# Print out the first 8 rows:\n"
   ]
  },
  {
   "cell_type": "code",
   "execution_count": null,
   "metadata": {},
   "outputs": [],
   "source": [
    "# Look at the dtypes of the columns:\n"
   ]
  },
  {
   "cell_type": "markdown",
   "metadata": {},
   "source": [
    "## Drop unwanted columns\n",
    "\n",
    "---\n",
    "\n",
    "It looks like `Unnamed: 0` is an index. This is redundant, since `pandas` automatically creates an index for us (the bold numbers to the left of the DataFrame).\n",
    "\n",
    "The `.drop()` method can be used to get rid of a column like so:\n",
    "\n",
    "```python\n",
    "df.drop(columns=['list', 'columns', 'to', 'drop'], inplace=True)\n",
    "```\n",
    "\n",
    "The `inplace=True` parameter makes our change permanent."
   ]
  },
  {
   "cell_type": "code",
   "execution_count": null,
   "metadata": {},
   "outputs": [],
   "source": [
    "# print out the index object and the first 20 items in the DataFrame's index \n",
    "# to see that we have these row numbers already:\n"
   ]
  },
  {
   "cell_type": "code",
   "execution_count": null,
   "metadata": {},
   "outputs": [],
   "source": [
    "# Remove the unneccesary column:\n"
   ]
  },
  {
   "cell_type": "markdown",
   "metadata": {},
   "source": [
    "## Clean corrupted column\n",
    "\n",
    "---\n",
    "\n",
    "From the previous step, we noticed the `Age` column was interpreted as a string, even though the values are integers.\n",
    "\n",
    "It is pretty common to have numeric columns represented as strings in your data if some of the observations are corrupted. It is important to always check the data types of your columns.\n",
    "\n",
    "![](./imgs/data-cleaning.jpg)\n"
   ]
  },
  {
   "cell_type": "markdown",
   "metadata": {},
   "source": [
    "**What is causing the `Age` column to be encoded as a string?**"
   ]
  },
  {
   "cell_type": "code",
   "execution_count": null,
   "metadata": {},
   "outputs": [],
   "source": []
  },
  {
   "cell_type": "markdown",
   "metadata": {},
   "source": [
    "In the cell below, replace all \"?\" cells with `np.nan`."
   ]
  },
  {
   "cell_type": "code",
   "execution_count": null,
   "metadata": {},
   "outputs": [],
   "source": []
  },
  {
   "cell_type": "markdown",
   "metadata": {},
   "source": [
    "## Determine how many observations are missing\n",
    "\n",
    "---\n",
    "\n",
    "Having replaced the question marks with `np.nan` values, we know that there are some missing observations for the `Age` column. \n",
    "\n",
    "When we start to build models with data, null values in observations are (almost) never allowed. It is important to always see how many observations are missing for each column.\n",
    "\n",
    "We can count the null values for each column like so:\n",
    "\n",
    "```python\n",
    "df.isnull().sum()\n",
    "```\n",
    "\n",
    "The `.isnull()` method will convert the columns to `True` and `False` values.\n",
    "\n",
    "The `.sum()` method will then sum these boolean columns, and the total number of null values per column will be returned."
   ]
  },
  {
   "cell_type": "code",
   "execution_count": null,
   "metadata": {},
   "outputs": [],
   "source": []
  },
  {
   "cell_type": "markdown",
   "metadata": {},
   "source": [
    "The .mean() method will then average these boolean columns, and the proportion (or percentage) of null values per column will be returned."
   ]
  },
  {
   "cell_type": "code",
   "execution_count": null,
   "metadata": {},
   "outputs": [],
   "source": []
  },
  {
   "cell_type": "markdown",
   "metadata": {},
   "source": [
    "**Drop the null values.** \n",
    "\n",
    "In this case, lets keep it simple and just drop the rows from the dataset that contain null values. If a column has a ton of null values it often makes more sense to drop the column entirely instead of the rows with null values.\n",
    "\n",
    "The `.dropna()` function will drop any rows that have _**ANY**_ null values for you.  Use this carefully as you could drop many more rows than expected."
   ]
  },
  {
   "cell_type": "code",
   "execution_count": null,
   "metadata": {},
   "outputs": [],
   "source": []
  },
  {
   "cell_type": "code",
   "execution_count": null,
   "metadata": {},
   "outputs": [],
   "source": []
  },
  {
   "cell_type": "markdown",
   "metadata": {},
   "source": [
    "## Make the column names more descriptive\n",
    "---\n",
    "\n",
    "One minor annoyance is that our column names are not at all intuitive. \n",
    "\n",
    "Let's rename them! \n",
    "\n",
    "There are two popular methods to renaming columns.\n",
    "\n",
    "1. Using a _dictionary substitution_, which is very useful if you only want to rename a few columns. \n",
    "2. Using a _list replacement_, which is quicker than writing out a dictionary, but requires a full list of names.\n",
    "\n",
    "We'll explore both options in the cells below."
   ]
  },
  {
   "cell_type": "code",
   "execution_count": null,
   "metadata": {},
   "outputs": [],
   "source": [
    "# Dictionary Method\n",
    "new_columns_dict = {\n",
    "    'Age': 'age',\n",
    "    'Sex': 'sex_male',\n",
    "    'ChestPain': 'chest_pain',\n",
    "    'RestBP': 'resting_blood_pressure',\n",
    "    'Chol': 'cholesterol',\n",
    "    'Fbs': 'fasting_blood_sugar',\n",
    "    'RestECG': 'resting_ecg',\n",
    "    'MaxHR': 'max_heart_rate',\n",
    "    'ExAng': 'exercise_induced_angina',\n",
    "    'Oldpeak': 'old_peak',\n",
    "    'Slope': 'slope',\n",
    "    'Ca': 'ca',\n",
    "    'Thal': 'thallium_stress_test',\n",
    "    'AHD': 'has_heart_disease',\n",
    "}"
   ]
  },
  {
   "cell_type": "code",
   "execution_count": null,
   "metadata": {},
   "outputs": [],
   "source": [
    "# List Replacement Method\n",
    "new_columns_list = [\n",
    "    'age',\n",
    "    'sex_male',\n",
    "    'chest_pain',\n",
    "    'resting_blood_pressure',\n",
    "    'cholesterol',\n",
    "    'fasting_blood_sugar',\n",
    "    'resting_ecg',\n",
    "    'max_heart_rate',\n",
    "    'exercise_induced_angina',\n",
    "    'old_peak',\n",
    "    'slope',\n",
    "    'ca',\n",
    "    'thallium_stress_test',\n",
    "    'has_heart_disease',\n",
    "]\n",
    "\n",
    "# df.columns = new_columns_list"
   ]
  },
  {
   "cell_type": "markdown",
   "metadata": {},
   "source": [
    "## Describe the summary statistics for the columns\n",
    "---\n",
    "\n",
    "<img src=\"https://snag.gy/07JFa5.jpg\" width=\"350\">\n",
    "\n",
    "---\n",
    "\n",
    "![](./imgs/sad-panda.png)\n",
    "\n",
    "---\n",
    "The `.describe()` function gives summary statistics for each of your columns. What are some, if any, oddities you notice about the columns based on this output?"
   ]
  },
  {
   "cell_type": "code",
   "execution_count": null,
   "metadata": {},
   "outputs": [],
   "source": []
  },
  {
   "cell_type": "markdown",
   "metadata": {},
   "source": [
    "You can also use `.groupby()` + `.describe()` for cohort analysis"
   ]
  },
  {
   "cell_type": "code",
   "execution_count": null,
   "metadata": {},
   "outputs": [],
   "source": []
  },
  {
   "cell_type": "markdown",
   "metadata": {},
   "source": [
    "## Plot variables with potential outliers using boxplots.\n",
    "\n",
    "---\n",
    "\n",
    "Here we will use the seaborn package to plot boxplots of the variables we have identified as potentially having outliers.\n",
    "\n",
    "Some notes on seaborn's boxplot keyword argument options:\n",
    "\n",
    "    orient: can be 'v' or 'h' for vertical and horizontal, respectively\n",
    "    fliersize: the size of the outlier points (pixels I think)\n",
    "    linewidth: the width of line outlining the boxplot\n",
    "    notch: show the confidence interval for the median (calculated by seaborn/plt.boxplot)\n",
    "    saturation: saturate the colors to an extent\n",
    "\n",
    "There are more keyword arguments available but those are most relevant for now.\n",
    "\n",
    "_If you want to check out more, place your cursor in the `boxplot` argument bracket and press `shift+tab` (Press four times repeatedly to bring up detailed documentation)._  \n",
    "\n",
    "**How to read a box plot**:\n",
    "![](./imgs/boxplot.png)    "
   ]
  },
  {
   "cell_type": "code",
   "execution_count": null,
   "metadata": {},
   "outputs": [],
   "source": [
    "# age\n"
   ]
  },
  {
   "cell_type": "code",
   "execution_count": null,
   "metadata": {},
   "outputs": [],
   "source": [
    "# max heart rate\n"
   ]
  },
  {
   "cell_type": "markdown",
   "metadata": {},
   "source": [
    "## Correlation matrices\n",
    "\n",
    "---\n",
    "\n",
    "A great way to easily get a feel for linear relationships between your variables is with a correlation matrix.\n",
    "\n",
    "Below is the formula for the correlation between two variables $X$ and $Y$:"
   ]
  },
  {
   "cell_type": "markdown",
   "metadata": {},
   "source": [
    "#### Correlation\n",
    "\n",
    "$$ \\text{pearson correlation}\\;r = cor(X, Y) =\\frac{cov(X, Y)}{std(X)std(Y)}$$"
   ]
  },
  {
   "cell_type": "markdown",
   "metadata": {},
   "source": [
    "![](./imgs/correlation_examples.png)"
   ]
  },
  {
   "cell_type": "markdown",
   "metadata": {},
   "source": [
    "#### The correlation matrix\n",
    "\n",
    "We can see the correlation between all the numeric variables in our dataset by using the `.corr()` method.\n",
    "\n",
    "It's useful to get a feel for which columns are correlated. The `.corr() method` can help you decide what is worth investigating further (though with a lot of variables, the matrix can be a bit overwhelming...)"
   ]
  },
  {
   "cell_type": "code",
   "execution_count": null,
   "metadata": {},
   "outputs": [],
   "source": [
    "# A:\n"
   ]
  },
  {
   "cell_type": "markdown",
   "metadata": {},
   "source": [
    "It can be difficult to spot any outliers simply by staring at our correlation matrix. To help get around this issue, let's use Seaborn's `.heatmap()` to give our correlation matrix some color."
   ]
  },
  {
   "cell_type": "code",
   "execution_count": null,
   "metadata": {},
   "outputs": [],
   "source": [
    "# A:\n"
   ]
  },
  {
   "cell_type": "markdown",
   "metadata": {},
   "source": [
    "**What have we done today?**\n",
    "1. Described a dataset, including data types, missing values (and handled those missing values!) and basic descriptive statistics\n",
    "1. \"Cleaned\" the dataset - dropped unwanted columns, renamed columns (series) in a DataFrame (to make them more descriptive), fix corrupted columns \n",
    "1. Visualized data distributions with box plots\n",
    "1. Calculated and visualized correlation"
   ]
  },
  {
   "cell_type": "code",
   "execution_count": null,
   "metadata": {},
   "outputs": [],
   "source": []
  }
 ],
 "metadata": {
  "kernelspec": {
   "display_name": "Python 3",
   "language": "python",
   "name": "python3"
  },
  "language_info": {
   "codemirror_mode": {
    "name": "ipython",
    "version": 3
   },
   "file_extension": ".py",
   "mimetype": "text/x-python",
   "name": "python",
   "nbconvert_exporter": "python",
   "pygments_lexer": "ipython3",
   "version": "3.8.5"
  }
 },
 "nbformat": 4,
 "nbformat_minor": 4
}
