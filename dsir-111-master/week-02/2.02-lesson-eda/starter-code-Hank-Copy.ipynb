{
 "cells": [
  {
   "cell_type": "markdown",
   "metadata": {},
   "source": [
    "<img src=\"http://imgur.com/1ZcRyrc.png\" style=\"float: left; margin: 20px; height: 55px\">\n",
    "\n",
    "# EDA Walkthrough\n",
    "\n",
    "_Authors: Kiefer Katovich (SF), David Yerrington (SF), Riley Dallas (AUS), Adi Bronshtein (Live Online)_\n",
    "\n",
    "---\n",
    "\n",
    "The dataset for today's lesson (`Heart.csv`) comes from the book, [An Introduction to Statistical Learning (ISLR)](https://web.stanford.edu/~hastie/ISLR2/ISLRv2_website.pdf). It's comprised of diagnostic measurements for 303 patients to determine whether or not they have heart disease (the `AHD` column).\n",
    "\n",
    "Though in many if not most cases the EDA procedure will be considerably more involved, this should give you an idea of the basic workflow a data scientist would use when working with a new dataset."
   ]
  },
  {
   "cell_type": "markdown",
   "metadata": {},
   "source": [
    "By now we know that data cleaning and data exploration are a very important part of any Data Scientist job. Some estimations put it at 80% of the time Data Scientist spends on a project. The other 20\\%? Well...   \n",
    "![](./imgs/clean_data_borat.png)"
   ]
  },
  {
   "cell_type": "markdown",
   "metadata": {},
   "source": [
    "### Learning Objectives\n",
    "\n",
    "- Quickly describe a dataset, including data types, missing values and basic descriptive statistics\n",
    "- Rename columns (series) in a DataFrame\n",
    "- Visualize data distributions with box plots\n",
    "- Calculate and visualize correlation"
   ]
  },
  {
   "cell_type": "markdown",
   "metadata": {},
   "source": [
    "**The Data Science Workflow**\n",
    "![](./imgs/data-science-workflow.png)"
   ]
  },
  {
   "cell_type": "code",
   "execution_count": 1,
   "metadata": {},
   "outputs": [],
   "source": [
    "import numpy as np\n",
    "import seaborn as sns\n",
    "import matplotlib.pyplot as plt\n",
    "import pandas as pd\n",
    "\n",
    "%matplotlib inline"
   ]
  },
  {
   "cell_type": "markdown",
   "metadata": {},
   "source": [
    "## Load the data\n",
    "\n",
    "---\n",
    "\n",
    "Import the CSV into a pandas DataFrame."
   ]
  },
  {
   "cell_type": "code",
   "execution_count": 2,
   "metadata": {},
   "outputs": [],
   "source": [
    "file_path = './datasets/Heart.csv'"
   ]
  },
  {
   "cell_type": "code",
   "execution_count": 3,
   "metadata": {},
   "outputs": [],
   "source": [
    "df = pd.read_csv(file_path)"
   ]
  },
  {
   "cell_type": "markdown",
   "metadata": {},
   "source": [
    "## Describe the basic format of the data and the columns\n",
    "\n",
    "---\n",
    "\n",
    "Use the `.head()` method (and optionally pass in an integer for the number of rows you want to see) to get a glimpse of your dataset. This is a good initial step to get a feel for what is in the CSV and what problems may be present.\n",
    "\n",
    "The `.dtypes` attribute tells you the data type for each of your columns."
   ]
  },
  {
   "cell_type": "code",
   "execution_count": 4,
   "metadata": {},
   "outputs": [
    {
     "data": {
      "text/html": [
       "<div>\n",
       "<style scoped>\n",
       "    .dataframe tbody tr th:only-of-type {\n",
       "        vertical-align: middle;\n",
       "    }\n",
       "\n",
       "    .dataframe tbody tr th {\n",
       "        vertical-align: top;\n",
       "    }\n",
       "\n",
       "    .dataframe thead th {\n",
       "        text-align: right;\n",
       "    }\n",
       "</style>\n",
       "<table border=\"1\" class=\"dataframe\">\n",
       "  <thead>\n",
       "    <tr style=\"text-align: right;\">\n",
       "      <th></th>\n",
       "      <th>Unnamed: 0</th>\n",
       "      <th>Age</th>\n",
       "      <th>Sex</th>\n",
       "      <th>ChestPain</th>\n",
       "      <th>RestBP</th>\n",
       "      <th>Chol</th>\n",
       "      <th>Fbs</th>\n",
       "      <th>RestECG</th>\n",
       "      <th>MaxHR</th>\n",
       "      <th>ExAng</th>\n",
       "      <th>Oldpeak</th>\n",
       "      <th>Slope</th>\n",
       "      <th>Ca</th>\n",
       "      <th>Thal</th>\n",
       "      <th>AHD</th>\n",
       "    </tr>\n",
       "  </thead>\n",
       "  <tbody>\n",
       "    <tr>\n",
       "      <th>0</th>\n",
       "      <td>1</td>\n",
       "      <td>63</td>\n",
       "      <td>1</td>\n",
       "      <td>typical</td>\n",
       "      <td>145</td>\n",
       "      <td>233</td>\n",
       "      <td>1</td>\n",
       "      <td>2</td>\n",
       "      <td>150</td>\n",
       "      <td>0</td>\n",
       "      <td>2.3</td>\n",
       "      <td>3</td>\n",
       "      <td>0.0</td>\n",
       "      <td>fixed</td>\n",
       "      <td>0</td>\n",
       "    </tr>\n",
       "    <tr>\n",
       "      <th>1</th>\n",
       "      <td>2</td>\n",
       "      <td>67</td>\n",
       "      <td>1</td>\n",
       "      <td>asymptomatic</td>\n",
       "      <td>160</td>\n",
       "      <td>286</td>\n",
       "      <td>0</td>\n",
       "      <td>2</td>\n",
       "      <td>108</td>\n",
       "      <td>1</td>\n",
       "      <td>1.5</td>\n",
       "      <td>2</td>\n",
       "      <td>3.0</td>\n",
       "      <td>normal</td>\n",
       "      <td>1</td>\n",
       "    </tr>\n",
       "    <tr>\n",
       "      <th>2</th>\n",
       "      <td>3</td>\n",
       "      <td>67</td>\n",
       "      <td>1</td>\n",
       "      <td>asymptomatic</td>\n",
       "      <td>120</td>\n",
       "      <td>229</td>\n",
       "      <td>0</td>\n",
       "      <td>2</td>\n",
       "      <td>129</td>\n",
       "      <td>1</td>\n",
       "      <td>2.6</td>\n",
       "      <td>2</td>\n",
       "      <td>2.0</td>\n",
       "      <td>reversable</td>\n",
       "      <td>1</td>\n",
       "    </tr>\n",
       "    <tr>\n",
       "      <th>3</th>\n",
       "      <td>4</td>\n",
       "      <td>37</td>\n",
       "      <td>1</td>\n",
       "      <td>nonanginal</td>\n",
       "      <td>130</td>\n",
       "      <td>250</td>\n",
       "      <td>0</td>\n",
       "      <td>0</td>\n",
       "      <td>187</td>\n",
       "      <td>0</td>\n",
       "      <td>3.5</td>\n",
       "      <td>3</td>\n",
       "      <td>0.0</td>\n",
       "      <td>normal</td>\n",
       "      <td>0</td>\n",
       "    </tr>\n",
       "    <tr>\n",
       "      <th>4</th>\n",
       "      <td>5</td>\n",
       "      <td>41</td>\n",
       "      <td>0</td>\n",
       "      <td>nontypical</td>\n",
       "      <td>130</td>\n",
       "      <td>204</td>\n",
       "      <td>0</td>\n",
       "      <td>2</td>\n",
       "      <td>172</td>\n",
       "      <td>0</td>\n",
       "      <td>1.4</td>\n",
       "      <td>1</td>\n",
       "      <td>0.0</td>\n",
       "      <td>normal</td>\n",
       "      <td>0</td>\n",
       "    </tr>\n",
       "    <tr>\n",
       "      <th>5</th>\n",
       "      <td>6</td>\n",
       "      <td>56</td>\n",
       "      <td>1</td>\n",
       "      <td>nontypical</td>\n",
       "      <td>120</td>\n",
       "      <td>236</td>\n",
       "      <td>0</td>\n",
       "      <td>0</td>\n",
       "      <td>178</td>\n",
       "      <td>0</td>\n",
       "      <td>0.8</td>\n",
       "      <td>1</td>\n",
       "      <td>0.0</td>\n",
       "      <td>normal</td>\n",
       "      <td>0</td>\n",
       "    </tr>\n",
       "    <tr>\n",
       "      <th>6</th>\n",
       "      <td>7</td>\n",
       "      <td>62</td>\n",
       "      <td>0</td>\n",
       "      <td>asymptomatic</td>\n",
       "      <td>140</td>\n",
       "      <td>268</td>\n",
       "      <td>0</td>\n",
       "      <td>2</td>\n",
       "      <td>160</td>\n",
       "      <td>0</td>\n",
       "      <td>3.6</td>\n",
       "      <td>3</td>\n",
       "      <td>2.0</td>\n",
       "      <td>normal</td>\n",
       "      <td>1</td>\n",
       "    </tr>\n",
       "    <tr>\n",
       "      <th>7</th>\n",
       "      <td>8</td>\n",
       "      <td>57</td>\n",
       "      <td>0</td>\n",
       "      <td>asymptomatic</td>\n",
       "      <td>120</td>\n",
       "      <td>354</td>\n",
       "      <td>0</td>\n",
       "      <td>0</td>\n",
       "      <td>163</td>\n",
       "      <td>1</td>\n",
       "      <td>0.6</td>\n",
       "      <td>1</td>\n",
       "      <td>0.0</td>\n",
       "      <td>normal</td>\n",
       "      <td>0</td>\n",
       "    </tr>\n",
       "  </tbody>\n",
       "</table>\n",
       "</div>"
      ],
      "text/plain": [
       "   Unnamed: 0 Age  Sex     ChestPain  RestBP  Chol  Fbs  RestECG  MaxHR  \\\n",
       "0           1  63    1       typical     145   233    1        2    150   \n",
       "1           2  67    1  asymptomatic     160   286    0        2    108   \n",
       "2           3  67    1  asymptomatic     120   229    0        2    129   \n",
       "3           4  37    1    nonanginal     130   250    0        0    187   \n",
       "4           5  41    0    nontypical     130   204    0        2    172   \n",
       "5           6  56    1    nontypical     120   236    0        0    178   \n",
       "6           7  62    0  asymptomatic     140   268    0        2    160   \n",
       "7           8  57    0  asymptomatic     120   354    0        0    163   \n",
       "\n",
       "   ExAng  Oldpeak  Slope   Ca        Thal  AHD  \n",
       "0      0      2.3      3  0.0       fixed    0  \n",
       "1      1      1.5      2  3.0      normal    1  \n",
       "2      1      2.6      2  2.0  reversable    1  \n",
       "3      0      3.5      3  0.0      normal    0  \n",
       "4      0      1.4      1  0.0      normal    0  \n",
       "5      0      0.8      1  0.0      normal    0  \n",
       "6      0      3.6      3  2.0      normal    1  \n",
       "7      1      0.6      1  0.0      normal    0  "
      ]
     },
     "execution_count": 4,
     "metadata": {},
     "output_type": "execute_result"
    }
   ],
   "source": [
    "# Print out the first 8 rows:\n",
    "df.head(8)"
   ]
  },
  {
   "cell_type": "code",
   "execution_count": 5,
   "metadata": {},
   "outputs": [
    {
     "data": {
      "text/plain": [
       "Unnamed: 0      int64\n",
       "Age            object\n",
       "Sex             int64\n",
       "ChestPain      object\n",
       "RestBP          int64\n",
       "Chol            int64\n",
       "Fbs             int64\n",
       "RestECG         int64\n",
       "MaxHR           int64\n",
       "ExAng           int64\n",
       "Oldpeak       float64\n",
       "Slope           int64\n",
       "Ca            float64\n",
       "Thal           object\n",
       "AHD             int64\n",
       "dtype: object"
      ]
     },
     "execution_count": 5,
     "metadata": {},
     "output_type": "execute_result"
    }
   ],
   "source": [
    "# Look at the dtypes of the columns:\n",
    "df.dtypes"
   ]
  },
  {
   "cell_type": "markdown",
   "metadata": {},
   "source": [
    "## Drop unwanted columns\n",
    "\n",
    "---\n",
    "\n",
    "It looks like `Unnamed: 0` is an index. This is redundant, since `pandas` automatically creates an index for us (the bold numbers to the left of the DataFrame).\n",
    "\n",
    "The `.drop()` method can be used to get rid of a column like so:\n",
    "\n",
    "```python\n",
    "df.drop(columns=['list', 'columns', 'to', 'drop'], inplace=True)\n",
    "```\n",
    "\n",
    "The `inplace=True` parameter makes our change permanent."
   ]
  },
  {
   "cell_type": "code",
   "execution_count": 6,
   "metadata": {},
   "outputs": [
    {
     "data": {
      "text/plain": [
       "0      1\n",
       "1      2\n",
       "2      3\n",
       "3      4\n",
       "4      5\n",
       "5      6\n",
       "6      7\n",
       "7      8\n",
       "8      9\n",
       "9     10\n",
       "10    11\n",
       "11    12\n",
       "12    13\n",
       "13    14\n",
       "14    15\n",
       "15    16\n",
       "16    17\n",
       "17    18\n",
       "18    19\n",
       "19    20\n",
       "Name: Unnamed: 0, dtype: int64"
      ]
     },
     "execution_count": 6,
     "metadata": {},
     "output_type": "execute_result"
    }
   ],
   "source": [
    "# print out the index object and the first 20 items in the DataFrame's index \n",
    "# to see that we have these row numbers already:\n",
    "df['Unnamed: 0'][:20]"
   ]
  },
  {
   "cell_type": "code",
   "execution_count": 7,
   "metadata": {},
   "outputs": [
    {
     "data": {
      "text/html": [
       "<div>\n",
       "<style scoped>\n",
       "    .dataframe tbody tr th:only-of-type {\n",
       "        vertical-align: middle;\n",
       "    }\n",
       "\n",
       "    .dataframe tbody tr th {\n",
       "        vertical-align: top;\n",
       "    }\n",
       "\n",
       "    .dataframe thead th {\n",
       "        text-align: right;\n",
       "    }\n",
       "</style>\n",
       "<table border=\"1\" class=\"dataframe\">\n",
       "  <thead>\n",
       "    <tr style=\"text-align: right;\">\n",
       "      <th></th>\n",
       "      <th>Age</th>\n",
       "      <th>Sex</th>\n",
       "      <th>ChestPain</th>\n",
       "      <th>RestBP</th>\n",
       "      <th>Chol</th>\n",
       "      <th>Fbs</th>\n",
       "      <th>RestECG</th>\n",
       "      <th>MaxHR</th>\n",
       "      <th>ExAng</th>\n",
       "      <th>Oldpeak</th>\n",
       "      <th>Slope</th>\n",
       "      <th>Ca</th>\n",
       "      <th>Thal</th>\n",
       "      <th>AHD</th>\n",
       "    </tr>\n",
       "  </thead>\n",
       "  <tbody>\n",
       "    <tr>\n",
       "      <th>0</th>\n",
       "      <td>63</td>\n",
       "      <td>1</td>\n",
       "      <td>typical</td>\n",
       "      <td>145</td>\n",
       "      <td>233</td>\n",
       "      <td>1</td>\n",
       "      <td>2</td>\n",
       "      <td>150</td>\n",
       "      <td>0</td>\n",
       "      <td>2.3</td>\n",
       "      <td>3</td>\n",
       "      <td>0.0</td>\n",
       "      <td>fixed</td>\n",
       "      <td>0</td>\n",
       "    </tr>\n",
       "    <tr>\n",
       "      <th>1</th>\n",
       "      <td>67</td>\n",
       "      <td>1</td>\n",
       "      <td>asymptomatic</td>\n",
       "      <td>160</td>\n",
       "      <td>286</td>\n",
       "      <td>0</td>\n",
       "      <td>2</td>\n",
       "      <td>108</td>\n",
       "      <td>1</td>\n",
       "      <td>1.5</td>\n",
       "      <td>2</td>\n",
       "      <td>3.0</td>\n",
       "      <td>normal</td>\n",
       "      <td>1</td>\n",
       "    </tr>\n",
       "    <tr>\n",
       "      <th>2</th>\n",
       "      <td>67</td>\n",
       "      <td>1</td>\n",
       "      <td>asymptomatic</td>\n",
       "      <td>120</td>\n",
       "      <td>229</td>\n",
       "      <td>0</td>\n",
       "      <td>2</td>\n",
       "      <td>129</td>\n",
       "      <td>1</td>\n",
       "      <td>2.6</td>\n",
       "      <td>2</td>\n",
       "      <td>2.0</td>\n",
       "      <td>reversable</td>\n",
       "      <td>1</td>\n",
       "    </tr>\n",
       "    <tr>\n",
       "      <th>3</th>\n",
       "      <td>37</td>\n",
       "      <td>1</td>\n",
       "      <td>nonanginal</td>\n",
       "      <td>130</td>\n",
       "      <td>250</td>\n",
       "      <td>0</td>\n",
       "      <td>0</td>\n",
       "      <td>187</td>\n",
       "      <td>0</td>\n",
       "      <td>3.5</td>\n",
       "      <td>3</td>\n",
       "      <td>0.0</td>\n",
       "      <td>normal</td>\n",
       "      <td>0</td>\n",
       "    </tr>\n",
       "    <tr>\n",
       "      <th>4</th>\n",
       "      <td>41</td>\n",
       "      <td>0</td>\n",
       "      <td>nontypical</td>\n",
       "      <td>130</td>\n",
       "      <td>204</td>\n",
       "      <td>0</td>\n",
       "      <td>2</td>\n",
       "      <td>172</td>\n",
       "      <td>0</td>\n",
       "      <td>1.4</td>\n",
       "      <td>1</td>\n",
       "      <td>0.0</td>\n",
       "      <td>normal</td>\n",
       "      <td>0</td>\n",
       "    </tr>\n",
       "  </tbody>\n",
       "</table>\n",
       "</div>"
      ],
      "text/plain": [
       "  Age  Sex     ChestPain  RestBP  Chol  Fbs  RestECG  MaxHR  ExAng  Oldpeak  \\\n",
       "0  63    1       typical     145   233    1        2    150      0      2.3   \n",
       "1  67    1  asymptomatic     160   286    0        2    108      1      1.5   \n",
       "2  67    1  asymptomatic     120   229    0        2    129      1      2.6   \n",
       "3  37    1    nonanginal     130   250    0        0    187      0      3.5   \n",
       "4  41    0    nontypical     130   204    0        2    172      0      1.4   \n",
       "\n",
       "   Slope   Ca        Thal  AHD  \n",
       "0      3  0.0       fixed    0  \n",
       "1      2  3.0      normal    1  \n",
       "2      2  2.0  reversable    1  \n",
       "3      3  0.0      normal    0  \n",
       "4      1  0.0      normal    0  "
      ]
     },
     "execution_count": 7,
     "metadata": {},
     "output_type": "execute_result"
    }
   ],
   "source": [
    "# Remove the unneccesary column:\n",
    "df.drop(columns = ['Unnamed: 0'], inplace = True)\n",
    "\n",
    "df.head()"
   ]
  },
  {
   "cell_type": "code",
   "execution_count": 8,
   "metadata": {},
   "outputs": [
    {
     "data": {
      "text/plain": [
       "58    17\n",
       "57    17\n",
       "54    16\n",
       "59    13\n",
       "60    12\n",
       "51    12\n",
       "52    12\n",
       "56    11\n",
       "44    11\n",
       "64    10\n",
       "41    10\n",
       "62     9\n",
       "?      9\n",
       "67     9\n",
       "53     8\n",
       "45     8\n",
       "65     8\n",
       "55     8\n",
       "61     8\n",
       "63     8\n",
       "43     8\n",
       "42     8\n",
       "66     7\n",
       "48     7\n",
       "46     7\n",
       "47     5\n",
       "50     5\n",
       "49     5\n",
       "39     4\n",
       "35     4\n",
       "68     4\n",
       "70     4\n",
       "69     3\n",
       "71     3\n",
       "40     3\n",
       "37     2\n",
       "38     2\n",
       "34     2\n",
       "29     1\n",
       "77     1\n",
       "74     1\n",
       "76     1\n",
       "Name: Age, dtype: int64"
      ]
     },
     "execution_count": 8,
     "metadata": {},
     "output_type": "execute_result"
    }
   ],
   "source": [
    "df['Age'].value_counts()"
   ]
  },
  {
   "cell_type": "markdown",
   "metadata": {},
   "source": [
    "## Clean corrupted column\n",
    "\n",
    "---\n",
    "\n",
    "From the previous step, we noticed the `Age` column was interpreted as a string, even though the values are integers.\n",
    "\n",
    "It is pretty common to have numeric columns represented as strings in your data if some of the observations are corrupted. It is important to always check the data types of your columns.\n",
    "\n",
    "![](./imgs/data-cleaning.jpg)\n"
   ]
  },
  {
   "cell_type": "markdown",
   "metadata": {},
   "source": [
    "**What is causing the `Age` column to be encoded as a string?**"
   ]
  },
  {
   "cell_type": "code",
   "execution_count": 9,
   "metadata": {},
   "outputs": [
    {
     "data": {
      "text/plain": [
       "198     ?\n",
       "274     ?\n",
       "26      ?\n",
       "121     ?\n",
       "207     ?\n",
       "       ..\n",
       "117    35\n",
       "283    35\n",
       "225    34\n",
       "101    34\n",
       "132    29\n",
       "Name: Age, Length: 303, dtype: object"
      ]
     },
     "execution_count": 9,
     "metadata": {},
     "output_type": "execute_result"
    }
   ],
   "source": [
    "df.Age.sort_values(ascending=False)"
   ]
  },
  {
   "cell_type": "markdown",
   "metadata": {},
   "source": [
    "In the cell below, replace all \"?\" cells with `np.nan`."
   ]
  },
  {
   "cell_type": "code",
   "execution_count": 10,
   "metadata": {},
   "outputs": [
    {
     "data": {
      "text/plain": [
       "Age          float64\n",
       "Sex            int64\n",
       "ChestPain     object\n",
       "RestBP         int64\n",
       "Chol           int64\n",
       "Fbs            int64\n",
       "RestECG        int64\n",
       "MaxHR          int64\n",
       "ExAng          int64\n",
       "Oldpeak      float64\n",
       "Slope          int64\n",
       "Ca           float64\n",
       "Thal          object\n",
       "AHD            int64\n",
       "dtype: object"
      ]
     },
     "execution_count": 10,
     "metadata": {},
     "output_type": "execute_result"
    }
   ],
   "source": [
    "df.Age = df.Age.map(lambda age: np.nan if age == '?' else int(age))\n",
    "\n",
    "df.dtypes"
   ]
  },
  {
   "cell_type": "code",
   "execution_count": 11,
   "metadata": {},
   "outputs": [
    {
     "data": {
      "text/plain": [
       "float"
      ]
     },
     "execution_count": 11,
     "metadata": {},
     "output_type": "execute_result"
    }
   ],
   "source": [
    "type(np.nan)"
   ]
  },
  {
   "cell_type": "markdown",
   "metadata": {},
   "source": [
    "## Determine how many observations are missing\n",
    "\n",
    "---\n",
    "\n",
    "Having replaced the question marks with `np.nan` values, we know that there are some missing observations for the `Age` column. \n",
    "\n",
    "When we start to build models with data, null values in observations are (almost) never allowed. It is important to always see how many observations are missing for each column.\n",
    "\n",
    "We can count the null values for each column like so:\n",
    "\n",
    "```python\n",
    "df.isnull().sum()\n",
    "```\n",
    "\n",
    "The `.isnull()` method will convert the columns to `True` and `False` values.\n",
    "\n",
    "The `.sum()` method will then sum these boolean columns, and the total number of null values per column will be returned."
   ]
  },
  {
   "cell_type": "code",
   "execution_count": 12,
   "metadata": {},
   "outputs": [
    {
     "data": {
      "text/plain": [
       "Age          9\n",
       "Sex          0\n",
       "ChestPain    0\n",
       "RestBP       0\n",
       "Chol         0\n",
       "Fbs          0\n",
       "RestECG      0\n",
       "MaxHR        0\n",
       "ExAng        0\n",
       "Oldpeak      0\n",
       "Slope        0\n",
       "Ca           4\n",
       "Thal         2\n",
       "AHD          0\n",
       "dtype: int64"
      ]
     },
     "execution_count": 12,
     "metadata": {},
     "output_type": "execute_result"
    }
   ],
   "source": [
    "df.isnull().sum()"
   ]
  },
  {
   "cell_type": "markdown",
   "metadata": {},
   "source": [
    "The .mean() method will then average these boolean columns, and the proportion (or percentage) of null values per column will be returned."
   ]
  },
  {
   "cell_type": "code",
   "execution_count": 13,
   "metadata": {},
   "outputs": [
    {
     "data": {
      "text/plain": [
       "Age          0.029703\n",
       "Sex          0.000000\n",
       "ChestPain    0.000000\n",
       "RestBP       0.000000\n",
       "Chol         0.000000\n",
       "Fbs          0.000000\n",
       "RestECG      0.000000\n",
       "MaxHR        0.000000\n",
       "ExAng        0.000000\n",
       "Oldpeak      0.000000\n",
       "Slope        0.000000\n",
       "Ca           0.013201\n",
       "Thal         0.006601\n",
       "AHD          0.000000\n",
       "dtype: float64"
      ]
     },
     "execution_count": 13,
     "metadata": {},
     "output_type": "execute_result"
    }
   ],
   "source": [
    "df.isnull().mean()"
   ]
  },
  {
   "cell_type": "markdown",
   "metadata": {},
   "source": [
    "**Drop the null values.** \n",
    "\n",
    "In this case, lets keep it simple and just drop the rows from the dataset that contain null values. If a column has a ton of null values it often makes more sense to drop the column entirely instead of the rows with null values.\n",
    "\n",
    "The `.dropna()` function will drop any rows that have _**ANY**_ null values for you.  Use this carefully as you could drop many more rows than expected."
   ]
  },
  {
   "cell_type": "code",
   "execution_count": 14,
   "metadata": {},
   "outputs": [
    {
     "data": {
      "text/html": [
       "<div>\n",
       "<style scoped>\n",
       "    .dataframe tbody tr th:only-of-type {\n",
       "        vertical-align: middle;\n",
       "    }\n",
       "\n",
       "    .dataframe tbody tr th {\n",
       "        vertical-align: top;\n",
       "    }\n",
       "\n",
       "    .dataframe thead th {\n",
       "        text-align: right;\n",
       "    }\n",
       "</style>\n",
       "<table border=\"1\" class=\"dataframe\">\n",
       "  <thead>\n",
       "    <tr style=\"text-align: right;\">\n",
       "      <th></th>\n",
       "      <th>Age</th>\n",
       "      <th>Sex</th>\n",
       "      <th>ChestPain</th>\n",
       "      <th>RestBP</th>\n",
       "      <th>Chol</th>\n",
       "      <th>Fbs</th>\n",
       "      <th>RestECG</th>\n",
       "      <th>MaxHR</th>\n",
       "      <th>ExAng</th>\n",
       "      <th>Oldpeak</th>\n",
       "      <th>Slope</th>\n",
       "      <th>Ca</th>\n",
       "      <th>Thal</th>\n",
       "      <th>AHD</th>\n",
       "    </tr>\n",
       "  </thead>\n",
       "  <tbody>\n",
       "    <tr>\n",
       "      <th>0</th>\n",
       "      <td>63.0</td>\n",
       "      <td>1</td>\n",
       "      <td>typical</td>\n",
       "      <td>145</td>\n",
       "      <td>233</td>\n",
       "      <td>1</td>\n",
       "      <td>2</td>\n",
       "      <td>150</td>\n",
       "      <td>0</td>\n",
       "      <td>2.3</td>\n",
       "      <td>3</td>\n",
       "      <td>0.0</td>\n",
       "      <td>fixed</td>\n",
       "      <td>0</td>\n",
       "    </tr>\n",
       "    <tr>\n",
       "      <th>1</th>\n",
       "      <td>67.0</td>\n",
       "      <td>1</td>\n",
       "      <td>asymptomatic</td>\n",
       "      <td>160</td>\n",
       "      <td>286</td>\n",
       "      <td>0</td>\n",
       "      <td>2</td>\n",
       "      <td>108</td>\n",
       "      <td>1</td>\n",
       "      <td>1.5</td>\n",
       "      <td>2</td>\n",
       "      <td>3.0</td>\n",
       "      <td>normal</td>\n",
       "      <td>1</td>\n",
       "    </tr>\n",
       "    <tr>\n",
       "      <th>2</th>\n",
       "      <td>67.0</td>\n",
       "      <td>1</td>\n",
       "      <td>asymptomatic</td>\n",
       "      <td>120</td>\n",
       "      <td>229</td>\n",
       "      <td>0</td>\n",
       "      <td>2</td>\n",
       "      <td>129</td>\n",
       "      <td>1</td>\n",
       "      <td>2.6</td>\n",
       "      <td>2</td>\n",
       "      <td>2.0</td>\n",
       "      <td>reversable</td>\n",
       "      <td>1</td>\n",
       "    </tr>\n",
       "    <tr>\n",
       "      <th>3</th>\n",
       "      <td>37.0</td>\n",
       "      <td>1</td>\n",
       "      <td>nonanginal</td>\n",
       "      <td>130</td>\n",
       "      <td>250</td>\n",
       "      <td>0</td>\n",
       "      <td>0</td>\n",
       "      <td>187</td>\n",
       "      <td>0</td>\n",
       "      <td>3.5</td>\n",
       "      <td>3</td>\n",
       "      <td>0.0</td>\n",
       "      <td>normal</td>\n",
       "      <td>0</td>\n",
       "    </tr>\n",
       "    <tr>\n",
       "      <th>4</th>\n",
       "      <td>41.0</td>\n",
       "      <td>0</td>\n",
       "      <td>nontypical</td>\n",
       "      <td>130</td>\n",
       "      <td>204</td>\n",
       "      <td>0</td>\n",
       "      <td>2</td>\n",
       "      <td>172</td>\n",
       "      <td>0</td>\n",
       "      <td>1.4</td>\n",
       "      <td>1</td>\n",
       "      <td>0.0</td>\n",
       "      <td>normal</td>\n",
       "      <td>0</td>\n",
       "    </tr>\n",
       "  </tbody>\n",
       "</table>\n",
       "</div>"
      ],
      "text/plain": [
       "    Age  Sex     ChestPain  RestBP  Chol  Fbs  RestECG  MaxHR  ExAng  Oldpeak  \\\n",
       "0  63.0    1       typical     145   233    1        2    150      0      2.3   \n",
       "1  67.0    1  asymptomatic     160   286    0        2    108      1      1.5   \n",
       "2  67.0    1  asymptomatic     120   229    0        2    129      1      2.6   \n",
       "3  37.0    1    nonanginal     130   250    0        0    187      0      3.5   \n",
       "4  41.0    0    nontypical     130   204    0        2    172      0      1.4   \n",
       "\n",
       "   Slope   Ca        Thal  AHD  \n",
       "0      3  0.0       fixed    0  \n",
       "1      2  3.0      normal    1  \n",
       "2      2  2.0  reversable    1  \n",
       "3      3  0.0      normal    0  \n",
       "4      1  0.0      normal    0  "
      ]
     },
     "execution_count": 14,
     "metadata": {},
     "output_type": "execute_result"
    }
   ],
   "source": [
    "# Returns a copy of the data frame (sans the missing values)\n",
    "\n",
    "df.dropna().head()"
   ]
  },
  {
   "cell_type": "code",
   "execution_count": 15,
   "metadata": {},
   "outputs": [
    {
     "data": {
      "text/plain": [
       "(303, 14)"
      ]
     },
     "execution_count": 15,
     "metadata": {},
     "output_type": "execute_result"
    }
   ],
   "source": [
    "df.shape"
   ]
  },
  {
   "cell_type": "code",
   "execution_count": 16,
   "metadata": {},
   "outputs": [],
   "source": [
    "df.dropna(inplace = True)"
   ]
  },
  {
   "cell_type": "code",
   "execution_count": 17,
   "metadata": {},
   "outputs": [
    {
     "data": {
      "text/plain": [
       "(288, 14)"
      ]
     },
     "execution_count": 17,
     "metadata": {},
     "output_type": "execute_result"
    }
   ],
   "source": [
    "df.shape"
   ]
  },
  {
   "cell_type": "markdown",
   "metadata": {},
   "source": [
    "## Make the column names more descriptive\n",
    "---\n",
    "\n",
    "One minor annoyance is that our column names are not at all intuitive. \n",
    "\n",
    "Let's rename them! \n",
    "\n",
    "There are two popular methods to renaming columns.\n",
    "\n",
    "1. Using a _dictionary substitution_, which is very useful if you only want to rename a few columns. \n",
    "2. Using a _list replacement_, which is quicker than writing out a dictionary, but requires a full list of names.\n",
    "\n",
    "We'll explore both options in the cells below."
   ]
  },
  {
   "cell_type": "code",
   "execution_count": 18,
   "metadata": {},
   "outputs": [],
   "source": [
    "# Dictionary Method\n",
    "new_columns_dict = {\n",
    "    'Age': 'age',\n",
    "    'Sex': 'sex_male',\n",
    "    'ChestPain': 'chest_pain',\n",
    "    'RestBP': 'resting_blood_pressure',\n",
    "    'Chol': 'cholesterol',\n",
    "    'Fbs': 'fasting_blood_sugar',\n",
    "    'RestECG': 'resting_ecg',\n",
    "    'MaxHR': 'max_heart_rate',\n",
    "    'ExAng': 'exercise_induced_angina',\n",
    "    'Oldpeak': 'old_peak',\n",
    "    'Slope': 'slope',\n",
    "    'Ca': 'ca',\n",
    "    'Thal': 'thallium_stress_test',\n",
    "    'AHD': 'has_heart_disease',\n",
    "}"
   ]
  },
  {
   "cell_type": "code",
   "execution_count": 19,
   "metadata": {},
   "outputs": [],
   "source": [
    "df.rename(columns = new_columns_dict, inplace = True)"
   ]
  },
  {
   "cell_type": "code",
   "execution_count": 20,
   "metadata": {},
   "outputs": [
    {
     "data": {
      "text/html": [
       "<div>\n",
       "<style scoped>\n",
       "    .dataframe tbody tr th:only-of-type {\n",
       "        vertical-align: middle;\n",
       "    }\n",
       "\n",
       "    .dataframe tbody tr th {\n",
       "        vertical-align: top;\n",
       "    }\n",
       "\n",
       "    .dataframe thead th {\n",
       "        text-align: right;\n",
       "    }\n",
       "</style>\n",
       "<table border=\"1\" class=\"dataframe\">\n",
       "  <thead>\n",
       "    <tr style=\"text-align: right;\">\n",
       "      <th></th>\n",
       "      <th>age</th>\n",
       "      <th>sex_male</th>\n",
       "      <th>chest_pain</th>\n",
       "      <th>resting_blood_pressure</th>\n",
       "      <th>cholesterol</th>\n",
       "      <th>fasting_blood_sugar</th>\n",
       "      <th>resting_ecg</th>\n",
       "      <th>max_heart_rate</th>\n",
       "      <th>exercise_induced_angina</th>\n",
       "      <th>old_peak</th>\n",
       "      <th>slope</th>\n",
       "      <th>ca</th>\n",
       "      <th>thallium_stress_test</th>\n",
       "      <th>has_heart_disease</th>\n",
       "    </tr>\n",
       "  </thead>\n",
       "  <tbody>\n",
       "    <tr>\n",
       "      <th>0</th>\n",
       "      <td>63.0</td>\n",
       "      <td>1</td>\n",
       "      <td>typical</td>\n",
       "      <td>145</td>\n",
       "      <td>233</td>\n",
       "      <td>1</td>\n",
       "      <td>2</td>\n",
       "      <td>150</td>\n",
       "      <td>0</td>\n",
       "      <td>2.3</td>\n",
       "      <td>3</td>\n",
       "      <td>0.0</td>\n",
       "      <td>fixed</td>\n",
       "      <td>0</td>\n",
       "    </tr>\n",
       "    <tr>\n",
       "      <th>1</th>\n",
       "      <td>67.0</td>\n",
       "      <td>1</td>\n",
       "      <td>asymptomatic</td>\n",
       "      <td>160</td>\n",
       "      <td>286</td>\n",
       "      <td>0</td>\n",
       "      <td>2</td>\n",
       "      <td>108</td>\n",
       "      <td>1</td>\n",
       "      <td>1.5</td>\n",
       "      <td>2</td>\n",
       "      <td>3.0</td>\n",
       "      <td>normal</td>\n",
       "      <td>1</td>\n",
       "    </tr>\n",
       "    <tr>\n",
       "      <th>2</th>\n",
       "      <td>67.0</td>\n",
       "      <td>1</td>\n",
       "      <td>asymptomatic</td>\n",
       "      <td>120</td>\n",
       "      <td>229</td>\n",
       "      <td>0</td>\n",
       "      <td>2</td>\n",
       "      <td>129</td>\n",
       "      <td>1</td>\n",
       "      <td>2.6</td>\n",
       "      <td>2</td>\n",
       "      <td>2.0</td>\n",
       "      <td>reversable</td>\n",
       "      <td>1</td>\n",
       "    </tr>\n",
       "    <tr>\n",
       "      <th>3</th>\n",
       "      <td>37.0</td>\n",
       "      <td>1</td>\n",
       "      <td>nonanginal</td>\n",
       "      <td>130</td>\n",
       "      <td>250</td>\n",
       "      <td>0</td>\n",
       "      <td>0</td>\n",
       "      <td>187</td>\n",
       "      <td>0</td>\n",
       "      <td>3.5</td>\n",
       "      <td>3</td>\n",
       "      <td>0.0</td>\n",
       "      <td>normal</td>\n",
       "      <td>0</td>\n",
       "    </tr>\n",
       "    <tr>\n",
       "      <th>4</th>\n",
       "      <td>41.0</td>\n",
       "      <td>0</td>\n",
       "      <td>nontypical</td>\n",
       "      <td>130</td>\n",
       "      <td>204</td>\n",
       "      <td>0</td>\n",
       "      <td>2</td>\n",
       "      <td>172</td>\n",
       "      <td>0</td>\n",
       "      <td>1.4</td>\n",
       "      <td>1</td>\n",
       "      <td>0.0</td>\n",
       "      <td>normal</td>\n",
       "      <td>0</td>\n",
       "    </tr>\n",
       "  </tbody>\n",
       "</table>\n",
       "</div>"
      ],
      "text/plain": [
       "    age  sex_male    chest_pain  resting_blood_pressure  cholesterol  \\\n",
       "0  63.0         1       typical                     145          233   \n",
       "1  67.0         1  asymptomatic                     160          286   \n",
       "2  67.0         1  asymptomatic                     120          229   \n",
       "3  37.0         1    nonanginal                     130          250   \n",
       "4  41.0         0    nontypical                     130          204   \n",
       "\n",
       "   fasting_blood_sugar  resting_ecg  max_heart_rate  exercise_induced_angina  \\\n",
       "0                    1            2             150                        0   \n",
       "1                    0            2             108                        1   \n",
       "2                    0            2             129                        1   \n",
       "3                    0            0             187                        0   \n",
       "4                    0            2             172                        0   \n",
       "\n",
       "   old_peak  slope   ca thallium_stress_test  has_heart_disease  \n",
       "0       2.3      3  0.0                fixed                  0  \n",
       "1       1.5      2  3.0               normal                  1  \n",
       "2       2.6      2  2.0           reversable                  1  \n",
       "3       3.5      3  0.0               normal                  0  \n",
       "4       1.4      1  0.0               normal                  0  "
      ]
     },
     "execution_count": 20,
     "metadata": {},
     "output_type": "execute_result"
    }
   ],
   "source": [
    "df.head()"
   ]
  },
  {
   "cell_type": "code",
   "execution_count": null,
   "metadata": {},
   "outputs": [],
   "source": [
    "# List Replacement Method\n",
    "new_columns_list = [\n",
    "    'age',\n",
    "    'sex_male',\n",
    "    'chest_pain',\n",
    "    'resting_blood_pressure',\n",
    "    'cholesterol',\n",
    "    'fasting_blood_sugar',\n",
    "    'resting_ecg',\n",
    "    'max_heart_rate',\n",
    "    'exercise_induced_angina',\n",
    "    'old_peak',\n",
    "    'slope',\n",
    "    'ca',\n",
    "    'thallium_stress_test',\n",
    "    'has_heart_disease',\n",
    "]\n",
    "\n",
    "# df.columns = new_columns_list"
   ]
  },
  {
   "cell_type": "markdown",
   "metadata": {},
   "source": [
    "## Describe the summary statistics for the columns\n",
    "---\n",
    "\n",
    "<img src=\"https://snag.gy/07JFa5.jpg\" width=\"350\">\n",
    "\n",
    "---\n",
    "\n",
    "![](./imgs/sad-panda.png)\n",
    "\n",
    "---\n",
    "The `.describe()` function gives summary statistics for each of your columns. What are some, if any, oddities you notice about the columns based on this output?"
   ]
  },
  {
   "cell_type": "code",
   "execution_count": 21,
   "metadata": {},
   "outputs": [
    {
     "data": {
      "text/html": [
       "<div>\n",
       "<style scoped>\n",
       "    .dataframe tbody tr th:only-of-type {\n",
       "        vertical-align: middle;\n",
       "    }\n",
       "\n",
       "    .dataframe tbody tr th {\n",
       "        vertical-align: top;\n",
       "    }\n",
       "\n",
       "    .dataframe thead th {\n",
       "        text-align: right;\n",
       "    }\n",
       "</style>\n",
       "<table border=\"1\" class=\"dataframe\">\n",
       "  <thead>\n",
       "    <tr style=\"text-align: right;\">\n",
       "      <th></th>\n",
       "      <th>age</th>\n",
       "      <th>sex_male</th>\n",
       "      <th>resting_blood_pressure</th>\n",
       "      <th>cholesterol</th>\n",
       "      <th>fasting_blood_sugar</th>\n",
       "      <th>resting_ecg</th>\n",
       "      <th>max_heart_rate</th>\n",
       "      <th>exercise_induced_angina</th>\n",
       "      <th>old_peak</th>\n",
       "      <th>slope</th>\n",
       "      <th>ca</th>\n",
       "      <th>has_heart_disease</th>\n",
       "    </tr>\n",
       "  </thead>\n",
       "  <tbody>\n",
       "    <tr>\n",
       "      <th>count</th>\n",
       "      <td>288.000000</td>\n",
       "      <td>288.000000</td>\n",
       "      <td>288.000000</td>\n",
       "      <td>288.000000</td>\n",
       "      <td>288.000000</td>\n",
       "      <td>288.00000</td>\n",
       "      <td>288.000000</td>\n",
       "      <td>288.000000</td>\n",
       "      <td>288.000000</td>\n",
       "      <td>288.000000</td>\n",
       "      <td>288.000000</td>\n",
       "      <td>288.000000</td>\n",
       "    </tr>\n",
       "    <tr>\n",
       "      <th>mean</th>\n",
       "      <td>54.461806</td>\n",
       "      <td>0.677083</td>\n",
       "      <td>131.760417</td>\n",
       "      <td>247.163194</td>\n",
       "      <td>0.145833</td>\n",
       "      <td>1.00000</td>\n",
       "      <td>149.576389</td>\n",
       "      <td>0.329861</td>\n",
       "      <td>1.051042</td>\n",
       "      <td>1.607639</td>\n",
       "      <td>0.656250</td>\n",
       "      <td>0.458333</td>\n",
       "    </tr>\n",
       "    <tr>\n",
       "      <th>std</th>\n",
       "      <td>9.138039</td>\n",
       "      <td>0.468405</td>\n",
       "      <td>17.924393</td>\n",
       "      <td>51.425510</td>\n",
       "      <td>0.353553</td>\n",
       "      <td>0.99476</td>\n",
       "      <td>23.152601</td>\n",
       "      <td>0.470981</td>\n",
       "      <td>1.163528</td>\n",
       "      <td>0.620956</td>\n",
       "      <td>0.916304</td>\n",
       "      <td>0.499128</td>\n",
       "    </tr>\n",
       "    <tr>\n",
       "      <th>min</th>\n",
       "      <td>29.000000</td>\n",
       "      <td>0.000000</td>\n",
       "      <td>94.000000</td>\n",
       "      <td>126.000000</td>\n",
       "      <td>0.000000</td>\n",
       "      <td>0.00000</td>\n",
       "      <td>71.000000</td>\n",
       "      <td>0.000000</td>\n",
       "      <td>0.000000</td>\n",
       "      <td>1.000000</td>\n",
       "      <td>0.000000</td>\n",
       "      <td>0.000000</td>\n",
       "    </tr>\n",
       "    <tr>\n",
       "      <th>25%</th>\n",
       "      <td>47.000000</td>\n",
       "      <td>0.000000</td>\n",
       "      <td>120.000000</td>\n",
       "      <td>211.750000</td>\n",
       "      <td>0.000000</td>\n",
       "      <td>0.00000</td>\n",
       "      <td>133.000000</td>\n",
       "      <td>0.000000</td>\n",
       "      <td>0.000000</td>\n",
       "      <td>1.000000</td>\n",
       "      <td>0.000000</td>\n",
       "      <td>0.000000</td>\n",
       "    </tr>\n",
       "    <tr>\n",
       "      <th>50%</th>\n",
       "      <td>56.000000</td>\n",
       "      <td>1.000000</td>\n",
       "      <td>130.000000</td>\n",
       "      <td>243.000000</td>\n",
       "      <td>0.000000</td>\n",
       "      <td>1.00000</td>\n",
       "      <td>152.500000</td>\n",
       "      <td>0.000000</td>\n",
       "      <td>0.800000</td>\n",
       "      <td>2.000000</td>\n",
       "      <td>0.000000</td>\n",
       "      <td>0.000000</td>\n",
       "    </tr>\n",
       "    <tr>\n",
       "      <th>75%</th>\n",
       "      <td>61.000000</td>\n",
       "      <td>1.000000</td>\n",
       "      <td>140.000000</td>\n",
       "      <td>276.250000</td>\n",
       "      <td>0.000000</td>\n",
       "      <td>2.00000</td>\n",
       "      <td>166.000000</td>\n",
       "      <td>1.000000</td>\n",
       "      <td>1.600000</td>\n",
       "      <td>2.000000</td>\n",
       "      <td>1.000000</td>\n",
       "      <td>1.000000</td>\n",
       "    </tr>\n",
       "    <tr>\n",
       "      <th>max</th>\n",
       "      <td>77.000000</td>\n",
       "      <td>1.000000</td>\n",
       "      <td>200.000000</td>\n",
       "      <td>564.000000</td>\n",
       "      <td>1.000000</td>\n",
       "      <td>2.00000</td>\n",
       "      <td>202.000000</td>\n",
       "      <td>1.000000</td>\n",
       "      <td>6.200000</td>\n",
       "      <td>3.000000</td>\n",
       "      <td>3.000000</td>\n",
       "      <td>1.000000</td>\n",
       "    </tr>\n",
       "  </tbody>\n",
       "</table>\n",
       "</div>"
      ],
      "text/plain": [
       "              age    sex_male  resting_blood_pressure  cholesterol  \\\n",
       "count  288.000000  288.000000              288.000000   288.000000   \n",
       "mean    54.461806    0.677083              131.760417   247.163194   \n",
       "std      9.138039    0.468405               17.924393    51.425510   \n",
       "min     29.000000    0.000000               94.000000   126.000000   \n",
       "25%     47.000000    0.000000              120.000000   211.750000   \n",
       "50%     56.000000    1.000000              130.000000   243.000000   \n",
       "75%     61.000000    1.000000              140.000000   276.250000   \n",
       "max     77.000000    1.000000              200.000000   564.000000   \n",
       "\n",
       "       fasting_blood_sugar  resting_ecg  max_heart_rate  \\\n",
       "count           288.000000    288.00000      288.000000   \n",
       "mean              0.145833      1.00000      149.576389   \n",
       "std               0.353553      0.99476       23.152601   \n",
       "min               0.000000      0.00000       71.000000   \n",
       "25%               0.000000      0.00000      133.000000   \n",
       "50%               0.000000      1.00000      152.500000   \n",
       "75%               0.000000      2.00000      166.000000   \n",
       "max               1.000000      2.00000      202.000000   \n",
       "\n",
       "       exercise_induced_angina    old_peak       slope          ca  \\\n",
       "count               288.000000  288.000000  288.000000  288.000000   \n",
       "mean                  0.329861    1.051042    1.607639    0.656250   \n",
       "std                   0.470981    1.163528    0.620956    0.916304   \n",
       "min                   0.000000    0.000000    1.000000    0.000000   \n",
       "25%                   0.000000    0.000000    1.000000    0.000000   \n",
       "50%                   0.000000    0.800000    2.000000    0.000000   \n",
       "75%                   1.000000    1.600000    2.000000    1.000000   \n",
       "max                   1.000000    6.200000    3.000000    3.000000   \n",
       "\n",
       "       has_heart_disease  \n",
       "count         288.000000  \n",
       "mean            0.458333  \n",
       "std             0.499128  \n",
       "min             0.000000  \n",
       "25%             0.000000  \n",
       "50%             0.000000  \n",
       "75%             1.000000  \n",
       "max             1.000000  "
      ]
     },
     "execution_count": 21,
     "metadata": {},
     "output_type": "execute_result"
    }
   ],
   "source": [
    "df.describe()"
   ]
  },
  {
   "cell_type": "markdown",
   "metadata": {},
   "source": [
    "You can also use `.groupby()` + `.describe()` for cohort analysis"
   ]
  },
  {
   "cell_type": "code",
   "execution_count": 22,
   "metadata": {},
   "outputs": [
    {
     "data": {
      "text/html": [
       "<div>\n",
       "<style scoped>\n",
       "    .dataframe tbody tr th:only-of-type {\n",
       "        vertical-align: middle;\n",
       "    }\n",
       "\n",
       "    .dataframe tbody tr th {\n",
       "        vertical-align: top;\n",
       "    }\n",
       "\n",
       "    .dataframe thead th {\n",
       "        text-align: right;\n",
       "    }\n",
       "</style>\n",
       "<table border=\"1\" class=\"dataframe\">\n",
       "  <thead>\n",
       "    <tr style=\"text-align: right;\">\n",
       "      <th></th>\n",
       "      <th>age</th>\n",
       "      <th>sex_male</th>\n",
       "      <th>resting_blood_pressure</th>\n",
       "      <th>cholesterol</th>\n",
       "      <th>fasting_blood_sugar</th>\n",
       "      <th>resting_ecg</th>\n",
       "      <th>max_heart_rate</th>\n",
       "      <th>exercise_induced_angina</th>\n",
       "      <th>old_peak</th>\n",
       "      <th>slope</th>\n",
       "      <th>ca</th>\n",
       "    </tr>\n",
       "    <tr>\n",
       "      <th>has_heart_disease</th>\n",
       "      <th></th>\n",
       "      <th></th>\n",
       "      <th></th>\n",
       "      <th></th>\n",
       "      <th></th>\n",
       "      <th></th>\n",
       "      <th></th>\n",
       "      <th></th>\n",
       "      <th></th>\n",
       "      <th></th>\n",
       "      <th></th>\n",
       "    </tr>\n",
       "  </thead>\n",
       "  <tbody>\n",
       "    <tr>\n",
       "      <th>0</th>\n",
       "      <td>52.506410</td>\n",
       "      <td>0.557692</td>\n",
       "      <td>129.294872</td>\n",
       "      <td>243.179487</td>\n",
       "      <td>0.141026</td>\n",
       "      <td>0.852564</td>\n",
       "      <td>158.673077</td>\n",
       "      <td>0.147436</td>\n",
       "      <td>0.595513</td>\n",
       "      <td>1.416667</td>\n",
       "      <td>0.262821</td>\n",
       "    </tr>\n",
       "    <tr>\n",
       "      <th>1</th>\n",
       "      <td>56.772727</td>\n",
       "      <td>0.818182</td>\n",
       "      <td>134.674242</td>\n",
       "      <td>251.871212</td>\n",
       "      <td>0.151515</td>\n",
       "      <td>1.174242</td>\n",
       "      <td>138.825758</td>\n",
       "      <td>0.545455</td>\n",
       "      <td>1.589394</td>\n",
       "      <td>1.833333</td>\n",
       "      <td>1.121212</td>\n",
       "    </tr>\n",
       "  </tbody>\n",
       "</table>\n",
       "</div>"
      ],
      "text/plain": [
       "                         age  sex_male  resting_blood_pressure  cholesterol  \\\n",
       "has_heart_disease                                                             \n",
       "0                  52.506410  0.557692              129.294872   243.179487   \n",
       "1                  56.772727  0.818182              134.674242   251.871212   \n",
       "\n",
       "                   fasting_blood_sugar  resting_ecg  max_heart_rate  \\\n",
       "has_heart_disease                                                     \n",
       "0                             0.141026     0.852564      158.673077   \n",
       "1                             0.151515     1.174242      138.825758   \n",
       "\n",
       "                   exercise_induced_angina  old_peak     slope        ca  \n",
       "has_heart_disease                                                         \n",
       "0                                 0.147436  0.595513  1.416667  0.262821  \n",
       "1                                 0.545455  1.589394  1.833333  1.121212  "
      ]
     },
     "execution_count": 22,
     "metadata": {},
     "output_type": "execute_result"
    }
   ],
   "source": [
    "df.groupby('has_heart_disease').mean()"
   ]
  },
  {
   "cell_type": "code",
   "execution_count": 23,
   "metadata": {},
   "outputs": [
    {
     "data": {
      "text/html": [
       "<div>\n",
       "<style scoped>\n",
       "    .dataframe tbody tr th:only-of-type {\n",
       "        vertical-align: middle;\n",
       "    }\n",
       "\n",
       "    .dataframe tbody tr th {\n",
       "        vertical-align: top;\n",
       "    }\n",
       "\n",
       "    .dataframe thead th {\n",
       "        text-align: right;\n",
       "    }\n",
       "</style>\n",
       "<table border=\"1\" class=\"dataframe\">\n",
       "  <thead>\n",
       "    <tr style=\"text-align: right;\">\n",
       "      <th>has_heart_disease</th>\n",
       "      <th>0</th>\n",
       "      <th>1</th>\n",
       "    </tr>\n",
       "  </thead>\n",
       "  <tbody>\n",
       "    <tr>\n",
       "      <th>age</th>\n",
       "      <td>52.506410</td>\n",
       "      <td>56.772727</td>\n",
       "    </tr>\n",
       "    <tr>\n",
       "      <th>sex_male</th>\n",
       "      <td>0.557692</td>\n",
       "      <td>0.818182</td>\n",
       "    </tr>\n",
       "    <tr>\n",
       "      <th>resting_blood_pressure</th>\n",
       "      <td>129.294872</td>\n",
       "      <td>134.674242</td>\n",
       "    </tr>\n",
       "    <tr>\n",
       "      <th>cholesterol</th>\n",
       "      <td>243.179487</td>\n",
       "      <td>251.871212</td>\n",
       "    </tr>\n",
       "    <tr>\n",
       "      <th>fasting_blood_sugar</th>\n",
       "      <td>0.141026</td>\n",
       "      <td>0.151515</td>\n",
       "    </tr>\n",
       "    <tr>\n",
       "      <th>resting_ecg</th>\n",
       "      <td>0.852564</td>\n",
       "      <td>1.174242</td>\n",
       "    </tr>\n",
       "    <tr>\n",
       "      <th>max_heart_rate</th>\n",
       "      <td>158.673077</td>\n",
       "      <td>138.825758</td>\n",
       "    </tr>\n",
       "    <tr>\n",
       "      <th>exercise_induced_angina</th>\n",
       "      <td>0.147436</td>\n",
       "      <td>0.545455</td>\n",
       "    </tr>\n",
       "    <tr>\n",
       "      <th>old_peak</th>\n",
       "      <td>0.595513</td>\n",
       "      <td>1.589394</td>\n",
       "    </tr>\n",
       "    <tr>\n",
       "      <th>slope</th>\n",
       "      <td>1.416667</td>\n",
       "      <td>1.833333</td>\n",
       "    </tr>\n",
       "    <tr>\n",
       "      <th>ca</th>\n",
       "      <td>0.262821</td>\n",
       "      <td>1.121212</td>\n",
       "    </tr>\n",
       "  </tbody>\n",
       "</table>\n",
       "</div>"
      ],
      "text/plain": [
       "has_heart_disease                 0           1\n",
       "age                       52.506410   56.772727\n",
       "sex_male                   0.557692    0.818182\n",
       "resting_blood_pressure   129.294872  134.674242\n",
       "cholesterol              243.179487  251.871212\n",
       "fasting_blood_sugar        0.141026    0.151515\n",
       "resting_ecg                0.852564    1.174242\n",
       "max_heart_rate           158.673077  138.825758\n",
       "exercise_induced_angina    0.147436    0.545455\n",
       "old_peak                   0.595513    1.589394\n",
       "slope                      1.416667    1.833333\n",
       "ca                         0.262821    1.121212"
      ]
     },
     "execution_count": 23,
     "metadata": {},
     "output_type": "execute_result"
    }
   ],
   "source": [
    "# Group by has heart disease and get summary stats, then transpose\n",
    "df.groupby('has_heart_disease').mean().T"
   ]
  },
  {
   "cell_type": "markdown",
   "metadata": {},
   "source": [
    "## Plot variables with potential outliers using boxplots.\n",
    "\n",
    "---\n",
    "\n",
    "Here we will use the seaborn package to plot boxplots of the variables we have identified as potentially having outliers.\n",
    "\n",
    "Some notes on seaborn's boxplot keyword argument options:\n",
    "\n",
    "    orient: can be 'v' or 'h' for vertical and horizontal, respectively\n",
    "    fliersize: the size of the outlier points (pixels I think)\n",
    "    linewidth: the width of line outlining the boxplot\n",
    "    notch: show the confidence interval for the median (calculated by seaborn/plt.boxplot)\n",
    "    saturation: saturate the colors to an extent\n",
    "\n",
    "There are more keyword arguments available but those are most relevant for now.\n",
    "\n",
    "_If you want to check out more, place your cursor in the `boxplot` argument bracket and press `shift+tab` (Press four times repeatedly to bring up detailed documentation)._  \n",
    "\n",
    "**How to read a box plot**:\n",
    "![](./imgs/boxplot.png)    "
   ]
  },
  {
   "cell_type": "code",
   "execution_count": 25,
   "metadata": {},
   "outputs": [
    {
     "name": "stderr",
     "output_type": "stream",
     "text": [
      "/Users/henrybutler/opt/anaconda3/lib/python3.8/site-packages/seaborn/_decorators.py:36: FutureWarning: Pass the following variable as a keyword arg: x. From version 0.12, the only valid positional argument will be `data`, and passing other arguments without an explicit keyword will result in an error or misinterpretation.\n",
      "  warnings.warn(\n"
     ]
    },
    {
     "data": {
      "image/png": "[encoded data removed]",
      "text/plain": [
       "<Figure size 432x288 with 1 Axes>"
      ]
     },
     "metadata": {
      "needs_background": "light"
     },
     "output_type": "display_data"
    }
   ],
   "source": [
    "# age\n",
    "sns.boxplot(df['age']);"
   ]
  },
  {
   "cell_type": "code",
   "execution_count": 26,
   "metadata": {},
   "outputs": [
    {
     "data": {
      "image/png": "[encoded data removed]",
      "text/plain": [
       "<Figure size 432x288 with 1 Axes>"
      ]
     },
     "metadata": {
      "needs_background": "light"
     },
     "output_type": "display_data"
    }
   ],
   "source": [
    "# filter warnings if desired\n",
    "\n",
    "import warnings\n",
    "\n",
    "warnings.filterwarnings('ignore')\n",
    "\n",
    "# age\n",
    "\n",
    "sns.boxplot(df.age);"
   ]
  },
  {
   "cell_type": "code",
   "execution_count": 27,
   "metadata": {},
   "outputs": [
    {
     "data": {
      "image/png": "[encoded data removed]",
      "text/plain": [
       "<Figure size 432x288 with 1 Axes>"
      ]
     },
     "metadata": {
      "needs_background": "light"
     },
     "output_type": "display_data"
    }
   ],
   "source": [
    "# max heart rate\n",
    "sns.boxplot(df.max_heart_rate);"
   ]
  },
  {
   "cell_type": "code",
   "execution_count": 29,
   "metadata": {},
   "outputs": [
    {
     "data": {
      "text/plain": [
       "Index(['age', 'sex_male', 'chest_pain', 'resting_blood_pressure',\n",
       "       'cholesterol', 'fasting_blood_sugar', 'resting_ecg', 'max_heart_rate',\n",
       "       'exercise_induced_angina', 'old_peak', 'slope', 'ca',\n",
       "       'thallium_stress_test', 'has_heart_disease'],\n",
       "      dtype='object')"
      ]
     },
     "execution_count": 29,
     "metadata": {},
     "output_type": "execute_result"
    }
   ],
   "source": [
    "df.columns"
   ]
  },
  {
   "cell_type": "markdown",
   "metadata": {},
   "source": [
    "## Correlation matrices\n",
    "\n",
    "---\n",
    "\n",
    "A great way to easily get a feel for linear relationships between your variables is with a correlation matrix.\n",
    "\n",
    "Below is the formula for the correlation between two variables $X$ and $Y$:"
   ]
  },
  {
   "cell_type": "markdown",
   "metadata": {},
   "source": [
    "#### Correlation\n",
    "\n",
    "$$ \\text{pearson correlation}\\;r = cor(X, Y) =\\frac{cov(X, Y)}{std(X)std(Y)}$$"
   ]
  },
  {
   "cell_type": "markdown",
   "metadata": {},
   "source": [
    "![](./imgs/correlation_examples.png)"
   ]
  },
  {
   "cell_type": "markdown",
   "metadata": {},
   "source": [
    "#### The correlation matrix\n",
    "\n",
    "We can see the correlation between all the numeric variables in our dataset by using the `.corr()` method.\n",
    "\n",
    "It's useful to get a feel for which columns are correlated. The `.corr() method` can help you decide what is worth investigating further (though with a lot of variables, the matrix can be a bit overwhelming...)"
   ]
  },
  {
   "cell_type": "code",
   "execution_count": 30,
   "metadata": {},
   "outputs": [
    {
     "data": {
      "text/html": [
       "<div>\n",
       "<style scoped>\n",
       "    .dataframe tbody tr th:only-of-type {\n",
       "        vertical-align: middle;\n",
       "    }\n",
       "\n",
       "    .dataframe tbody tr th {\n",
       "        vertical-align: top;\n",
       "    }\n",
       "\n",
       "    .dataframe thead th {\n",
       "        text-align: right;\n",
       "    }\n",
       "</style>\n",
       "<table border=\"1\" class=\"dataframe\">\n",
       "  <thead>\n",
       "    <tr style=\"text-align: right;\">\n",
       "      <th></th>\n",
       "      <th>age</th>\n",
       "      <th>sex_male</th>\n",
       "      <th>resting_blood_pressure</th>\n",
       "      <th>cholesterol</th>\n",
       "      <th>fasting_blood_sugar</th>\n",
       "      <th>resting_ecg</th>\n",
       "      <th>max_heart_rate</th>\n",
       "      <th>exercise_induced_angina</th>\n",
       "      <th>old_peak</th>\n",
       "      <th>slope</th>\n",
       "      <th>ca</th>\n",
       "      <th>has_heart_disease</th>\n",
       "    </tr>\n",
       "  </thead>\n",
       "  <tbody>\n",
       "    <tr>\n",
       "      <th>age</th>\n",
       "      <td>1.000000</td>\n",
       "      <td>-0.094471</td>\n",
       "      <td>0.291517</td>\n",
       "      <td>0.200144</td>\n",
       "      <td>0.130069</td>\n",
       "      <td>0.150640</td>\n",
       "      <td>-0.399860</td>\n",
       "      <td>0.105350</td>\n",
       "      <td>0.193581</td>\n",
       "      <td>0.161608</td>\n",
       "      <td>0.358584</td>\n",
       "      <td>0.233030</td>\n",
       "    </tr>\n",
       "    <tr>\n",
       "      <th>sex_male</th>\n",
       "      <td>-0.094471</td>\n",
       "      <td>1.000000</td>\n",
       "      <td>-0.067347</td>\n",
       "      <td>-0.173120</td>\n",
       "      <td>0.032875</td>\n",
       "      <td>0.029912</td>\n",
       "      <td>-0.049927</td>\n",
       "      <td>0.137046</td>\n",
       "      <td>0.119853</td>\n",
       "      <td>0.030073</td>\n",
       "      <td>0.089553</td>\n",
       "      <td>0.277575</td>\n",
       "    </tr>\n",
       "    <tr>\n",
       "      <th>resting_blood_pressure</th>\n",
       "      <td>0.291517</td>\n",
       "      <td>-0.067347</td>\n",
       "      <td>1.000000</td>\n",
       "      <td>0.129044</td>\n",
       "      <td>0.184773</td>\n",
       "      <td>0.139721</td>\n",
       "      <td>-0.043997</td>\n",
       "      <td>0.061811</td>\n",
       "      <td>0.182143</td>\n",
       "      <td>0.111736</td>\n",
       "      <td>0.094889</td>\n",
       "      <td>0.149796</td>\n",
       "    </tr>\n",
       "    <tr>\n",
       "      <th>cholesterol</th>\n",
       "      <td>0.200144</td>\n",
       "      <td>-0.173120</td>\n",
       "      <td>0.129044</td>\n",
       "      <td>1.000000</td>\n",
       "      <td>0.022258</td>\n",
       "      <td>0.170143</td>\n",
       "      <td>-0.012242</td>\n",
       "      <td>0.075597</td>\n",
       "      <td>0.016893</td>\n",
       "      <td>-0.013046</td>\n",
       "      <td>0.109374</td>\n",
       "      <td>0.084361</td>\n",
       "    </tr>\n",
       "    <tr>\n",
       "      <th>fasting_blood_sugar</th>\n",
       "      <td>0.130069</td>\n",
       "      <td>0.032875</td>\n",
       "      <td>0.184773</td>\n",
       "      <td>0.022258</td>\n",
       "      <td>1.000000</td>\n",
       "      <td>0.059442</td>\n",
       "      <td>-0.003494</td>\n",
       "      <td>0.003052</td>\n",
       "      <td>0.019111</td>\n",
       "      <td>0.055218</td>\n",
       "      <td>0.176791</td>\n",
       "      <td>0.014809</td>\n",
       "    </tr>\n",
       "    <tr>\n",
       "      <th>resting_ecg</th>\n",
       "      <td>0.150640</td>\n",
       "      <td>0.029912</td>\n",
       "      <td>0.139721</td>\n",
       "      <td>0.170143</td>\n",
       "      <td>0.059442</td>\n",
       "      <td>1.000000</td>\n",
       "      <td>-0.058548</td>\n",
       "      <td>0.066933</td>\n",
       "      <td>0.104160</td>\n",
       "      <td>0.124097</td>\n",
       "      <td>0.133791</td>\n",
       "      <td>0.161405</td>\n",
       "    </tr>\n",
       "    <tr>\n",
       "      <th>max_heart_rate</th>\n",
       "      <td>-0.399860</td>\n",
       "      <td>-0.049927</td>\n",
       "      <td>-0.043997</td>\n",
       "      <td>-0.012242</td>\n",
       "      <td>-0.003494</td>\n",
       "      <td>-0.058548</td>\n",
       "      <td>1.000000</td>\n",
       "      <td>-0.377610</td>\n",
       "      <td>-0.351614</td>\n",
       "      <td>-0.385075</td>\n",
       "      <td>-0.277720</td>\n",
       "      <td>-0.427872</td>\n",
       "    </tr>\n",
       "    <tr>\n",
       "      <th>exercise_induced_angina</th>\n",
       "      <td>0.105350</td>\n",
       "      <td>0.137046</td>\n",
       "      <td>0.061811</td>\n",
       "      <td>0.075597</td>\n",
       "      <td>0.003052</td>\n",
       "      <td>0.066933</td>\n",
       "      <td>-0.377610</td>\n",
       "      <td>1.000000</td>\n",
       "      <td>0.294712</td>\n",
       "      <td>0.241546</td>\n",
       "      <td>0.158700</td>\n",
       "      <td>0.421805</td>\n",
       "    </tr>\n",
       "    <tr>\n",
       "      <th>old_peak</th>\n",
       "      <td>0.193581</td>\n",
       "      <td>0.119853</td>\n",
       "      <td>0.182143</td>\n",
       "      <td>0.016893</td>\n",
       "      <td>0.019111</td>\n",
       "      <td>0.104160</td>\n",
       "      <td>-0.351614</td>\n",
       "      <td>0.294712</td>\n",
       "      <td>1.000000</td>\n",
       "      <td>0.577109</td>\n",
       "      <td>0.272410</td>\n",
       "      <td>0.426353</td>\n",
       "    </tr>\n",
       "    <tr>\n",
       "      <th>slope</th>\n",
       "      <td>0.161608</td>\n",
       "      <td>0.030073</td>\n",
       "      <td>0.111736</td>\n",
       "      <td>-0.013046</td>\n",
       "      <td>0.055218</td>\n",
       "      <td>0.124097</td>\n",
       "      <td>-0.385075</td>\n",
       "      <td>0.241546</td>\n",
       "      <td>0.577109</td>\n",
       "      <td>1.000000</td>\n",
       "      <td>0.098937</td>\n",
       "      <td>0.334919</td>\n",
       "    </tr>\n",
       "    <tr>\n",
       "      <th>ca</th>\n",
       "      <td>0.358584</td>\n",
       "      <td>0.089553</td>\n",
       "      <td>0.094889</td>\n",
       "      <td>0.109374</td>\n",
       "      <td>0.176791</td>\n",
       "      <td>0.133791</td>\n",
       "      <td>-0.277720</td>\n",
       "      <td>0.158700</td>\n",
       "      <td>0.272410</td>\n",
       "      <td>0.098937</td>\n",
       "      <td>1.000000</td>\n",
       "      <td>0.467582</td>\n",
       "    </tr>\n",
       "    <tr>\n",
       "      <th>has_heart_disease</th>\n",
       "      <td>0.233030</td>\n",
       "      <td>0.277575</td>\n",
       "      <td>0.149796</td>\n",
       "      <td>0.084361</td>\n",
       "      <td>0.014809</td>\n",
       "      <td>0.161405</td>\n",
       "      <td>-0.427872</td>\n",
       "      <td>0.421805</td>\n",
       "      <td>0.426353</td>\n",
       "      <td>0.334919</td>\n",
       "      <td>0.467582</td>\n",
       "      <td>1.000000</td>\n",
       "    </tr>\n",
       "  </tbody>\n",
       "</table>\n",
       "</div>"
      ],
      "text/plain": [
       "                              age  sex_male  resting_blood_pressure  \\\n",
       "age                      1.000000 -0.094471                0.291517   \n",
       "sex_male                -0.094471  1.000000               -0.067347   \n",
       "resting_blood_pressure   0.291517 -0.067347                1.000000   \n",
       "cholesterol              0.200144 -0.173120                0.129044   \n",
       "fasting_blood_sugar      0.130069  0.032875                0.184773   \n",
       "resting_ecg              0.150640  0.029912                0.139721   \n",
       "max_heart_rate          -0.399860 -0.049927               -0.043997   \n",
       "exercise_induced_angina  0.105350  0.137046                0.061811   \n",
       "old_peak                 0.193581  0.119853                0.182143   \n",
       "slope                    0.161608  0.030073                0.111736   \n",
       "ca                       0.358584  0.089553                0.094889   \n",
       "has_heart_disease        0.233030  0.277575                0.149796   \n",
       "\n",
       "                         cholesterol  fasting_blood_sugar  resting_ecg  \\\n",
       "age                         0.200144             0.130069     0.150640   \n",
       "sex_male                   -0.173120             0.032875     0.029912   \n",
       "resting_blood_pressure      0.129044             0.184773     0.139721   \n",
       "cholesterol                 1.000000             0.022258     0.170143   \n",
       "fasting_blood_sugar         0.022258             1.000000     0.059442   \n",
       "resting_ecg                 0.170143             0.059442     1.000000   \n",
       "max_heart_rate             -0.012242            -0.003494    -0.058548   \n",
       "exercise_induced_angina     0.075597             0.003052     0.066933   \n",
       "old_peak                    0.016893             0.019111     0.104160   \n",
       "slope                      -0.013046             0.055218     0.124097   \n",
       "ca                          0.109374             0.176791     0.133791   \n",
       "has_heart_disease           0.084361             0.014809     0.161405   \n",
       "\n",
       "                         max_heart_rate  exercise_induced_angina  old_peak  \\\n",
       "age                           -0.399860                 0.105350  0.193581   \n",
       "sex_male                      -0.049927                 0.137046  0.119853   \n",
       "resting_blood_pressure        -0.043997                 0.061811  0.182143   \n",
       "cholesterol                   -0.012242                 0.075597  0.016893   \n",
       "fasting_blood_sugar           -0.003494                 0.003052  0.019111   \n",
       "resting_ecg                   -0.058548                 0.066933  0.104160   \n",
       "max_heart_rate                 1.000000                -0.377610 -0.351614   \n",
       "exercise_induced_angina       -0.377610                 1.000000  0.294712   \n",
       "old_peak                      -0.351614                 0.294712  1.000000   \n",
       "slope                         -0.385075                 0.241546  0.577109   \n",
       "ca                            -0.277720                 0.158700  0.272410   \n",
       "has_heart_disease             -0.427872                 0.421805  0.426353   \n",
       "\n",
       "                            slope        ca  has_heart_disease  \n",
       "age                      0.161608  0.358584           0.233030  \n",
       "sex_male                 0.030073  0.089553           0.277575  \n",
       "resting_blood_pressure   0.111736  0.094889           0.149796  \n",
       "cholesterol             -0.013046  0.109374           0.084361  \n",
       "fasting_blood_sugar      0.055218  0.176791           0.014809  \n",
       "resting_ecg              0.124097  0.133791           0.161405  \n",
       "max_heart_rate          -0.385075 -0.277720          -0.427872  \n",
       "exercise_induced_angina  0.241546  0.158700           0.421805  \n",
       "old_peak                 0.577109  0.272410           0.426353  \n",
       "slope                    1.000000  0.098937           0.334919  \n",
       "ca                       0.098937  1.000000           0.467582  \n",
       "has_heart_disease        0.334919  0.467582           1.000000  "
      ]
     },
     "execution_count": 30,
     "metadata": {},
     "output_type": "execute_result"
    }
   ],
   "source": [
    "# A:\n",
    "df.corr()"
   ]
  },
  {
   "cell_type": "markdown",
   "metadata": {},
   "source": [
    "It can be difficult to spot any outliers simply by staring at our correlation matrix. To help get around this issue, let's use Seaborn's `.heatmap()` to give our correlation matrix some color."
   ]
  },
  {
   "cell_type": "code",
   "execution_count": 31,
   "metadata": {},
   "outputs": [
    {
     "data": {
      "image/png": "[encoded data removed]",
      "text/plain": [
       "<Figure size 864x864 with 2 Axes>"
      ]
     },
     "metadata": {
      "needs_background": "light"
     },
     "output_type": "display_data"
    }
   ],
   "source": [
    "# A:\n",
    "plt.figure(figsize = (12, 12))\n",
    "sns.heatmap(df.corr(), annot = True);b"
   ]
  },
  {
   "cell_type": "markdown",
   "metadata": {},
   "source": [
    "Type in some observations or key insights."
   ]
  },
  {
   "cell_type": "code",
   "execution_count": 33,
   "metadata": {},
   "outputs": [
    {
     "data": {
      "image/png": "[encoded data removed]",
      "text/plain": [
       "<Figure size 720x576 with 2 Axes>"
      ]
     },
     "metadata": {
      "needs_background": "light"
     },
     "output_type": "display_data"
    }
   ],
   "source": [
    "plt.figure(figsize = (10, 8))\n",
    "sns.heatmap(df.corr(),\n",
    "           cmap = 'winter', \n",
    "           annot = True,\n",
    "           vmin = -1,\n",
    "           vmax = 1);"
   ]
  },
  {
   "cell_type": "code",
   "execution_count": 34,
   "metadata": {},
   "outputs": [
    {
     "data": {
      "image/png": "[encoded data removed]",
      "text/plain": [
       "<Figure size 720x576 with 2 Axes>"
      ]
     },
     "metadata": {
      "needs_background": "light"
     },
     "output_type": "display_data"
    }
   ],
   "source": [
    "# Just with 'has_heart_disease'\n",
    "plt.figure(figsize = (10, 8))\n",
    "sns.heatmap(df.corr()[['has_heart_disease']],\n",
    "           cmap = 'winter',\n",
    "           annot = True,\n",
    "           vmin = -1,\n",
    "           vmax = 1);"
   ]
  },
  {
   "cell_type": "code",
   "execution_count": 35,
   "metadata": {},
   "outputs": [
    {
     "data": {
      "image/png": "[encoded data removed]",
      "text/plain": [
       "<Figure size 432x288 with 2 Axes>"
      ]
     },
     "metadata": {
      "needs_background": "light"
     },
     "output_type": "display_data"
    }
   ],
   "source": [
    "corr = df.corr()[['has_heart_disease']].sort_values(by = 'has_heart_disease')\n",
    "\n",
    "sns.heatmap(corr,\n",
    "           cmap = 'winter',\n",
    "           annot = True,\n",
    "           vmin = -1,\n",
    "           vmax = 1);"
   ]
  },
  {
   "cell_type": "markdown",
   "metadata": {},
   "source": [
    "**What have we done today?**\n",
    "1. Described a dataset, including data types, missing values (and handled those missing values!) and basic descriptive statistics\n",
    "1. \"Cleaned\" the dataset - dropped unwanted columns, renamed columns (series) in a DataFrame (to make them more descriptive), fix corrupted columns \n",
    "1. Visualized data distributions with box plots\n",
    "1. Calculated and visualized correlation"
   ]
  },
  {
   "cell_type": "code",
   "execution_count": null,
   "metadata": {},
   "outputs": [],
   "source": []
  }
 ],
 "metadata": {
  "kernelspec": {
   "display_name": "Python 3",
   "language": "python",
   "name": "python3"
  },
  "language_info": {
   "codemirror_mode": {
    "name": "ipython",
    "version": 3
   },
   "file_extension": ".py",
   "mimetype": "text/x-python",
   "name": "python",
   "nbconvert_exporter": "python",
   "pygments_lexer": "ipython3",
   "version": "3.8.5"
  }
 },
 "nbformat": 4,
 "nbformat_minor": 4
}
