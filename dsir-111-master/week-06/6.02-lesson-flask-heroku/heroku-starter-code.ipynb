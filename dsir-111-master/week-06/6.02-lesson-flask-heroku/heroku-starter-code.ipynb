{
 "cells": [
  {
   "cell_type": "markdown",
   "metadata": {},
   "source": [
    "<img src=\"http://imgur.com/1ZcRyrc.png\" style=\"float: left; margin: 20px; height: 55px\">\n",
    "\n",
    "## Deploying a Flask app on Heroku\n",
    "\n",
    "_Author: Mahdi S. (DSI-NYC)_\n",
    "\n",
    "---"
   ]
  },
  {
   "cell_type": "markdown",
   "metadata": {},
   "source": [
    "## Contents\n",
    "1. [Lesson Objectives](#Lesson-Objectives)\n",
    "1. [Lesson](#Lesson)\n",
    "1. [Code Along](#Code-Along)\n",
    "1. [Recap](#Recap)\n",
    "1. [Resources](#Resources)"
   ]
  },
  {
   "cell_type": "markdown",
   "metadata": {},
   "source": [
    "## Lesson Objectives\n",
    "- Students will be able to push changes to Heroku's Git through the Heroku CLI\n",
    "- Students will be able to deploy a Flask app to be hosted by Heroku's platform"
   ]
  },
  {
   "cell_type": "markdown",
   "metadata": {},
   "source": [
    "## Lesson"
   ]
  },
  {
   "cell_type": "markdown",
   "metadata": {},
   "source": [
    "### What is Heroku?\n",
    "\n",
    "Heroku is a _cloud platform as a service_ supporting several programming languages (Ruby, Java, Node.js, Scala, Clojure, Python, PHP, and Go).\n",
    "\n",
    "<img src=\"assets/herokunutshell.png\" width=\"400px\">\n",
    "\n",
    "There are a few options for how to use the service, but we just need a basic \"dyno\", which is effectively a server with a backend. This allows us to respond to user form input and serve dynamically rendered HTML websites.\n",
    "- GitHub offers web hosting, too, but only with _static_ websites, meaning no dynamic websites!"
   ]
  },
  {
   "cell_type": "markdown",
   "metadata": {},
   "source": [
    "### Do I need to pay for this service?\n",
    "\n",
    "We'll be using the bare minimum single \"dyno\", which is free. However the more users access your application, the more work Heroku has to do to serve your content, so there is a limit.\n",
    "- <img src=\"assets/hours.JPG\" width=\"400px\">\n",
    "- Additionally, if the \"dyno\" becomes inactive for 5 minutes (as in no one is accessing the application), the application will go to sleep. The next time a user tries to access the application, Heroku will spin up a new instance, which can take some time (30+ seconds).\n",
    "\n",
    "If you're interested in Heroku's paid service, check out their [pricing plans](https://www.heroku.com/pricing).\n",
    "<img src=\"assets/prices.JPG\" width=\"500px\">\n"
   ]
  },
  {
   "cell_type": "markdown",
   "metadata": {},
   "source": [
    "## Code Along\n",
    "\n",
    "### 1) Create an account with Heroku\n",
    "Before we begin, you'll need an account with Heroku. \n",
    "- If you already have an account, then log in at https://id.heroku.com/login\n",
    "- If you need to create and account, do so at https://signup.heroku.com/"
   ]
  },
  {
   "cell_type": "markdown",
   "metadata": {},
   "source": [
    "### 2) [Download and install the Heroku CLI](https://devcenter.heroku.com/articles/heroku-cli#download-and-install)\n",
    "\n",
    "There are 2 main ways of having Heroku host applications:\n",
    "1. Through the public GitHub. \n",
    "2. _Through the Heroku Command Line Interface (CLI)._ We'll be using the Heroku CLI.\n",
    "    - __You'll need to [download and install the Heroku CLI](https://devcenter.heroku.com/articles/heroku-cli#download-and-install)__"
   ]
  },
  {
   "cell_type": "markdown",
   "metadata": {},
   "source": [
    "### 3) Create a remote app\n",
    "\n",
    "1. On the Heroku website, log in and navigate to the \"Dashboard\".\n",
    "2. Create a \"New App\"\n",
    "    - <img src=\"assets/create_new_app.JPG\" width=\"300px\">\n",
    "3. Give the app a name (\"flask-example\" will be the name used throughout this notebook)\n",
    "    - <img src=\"assets/create_app_2.JPG\" width=\"400px\">"
   ]
  },
  {
   "cell_type": "markdown",
   "metadata": {},
   "source": [
    "### 4) Prepare the local app repo\n",
    "Within this repo is a folder named \"flask_app\", which is the same working Flask app we went through during the Flask lesson.\n",
    "\n",
    "We'll need to relocate this `flask_app` folder somewhere else, since we'll be initializing it as a Git repository, but cannot have a Git repo within another Git repo (i.e. the repo this notebook is currently in)."
   ]
  },
  {
   "cell_type": "markdown",
   "metadata": {},
   "source": [
    "#### 4a) Move `flask_app` folder outside of this repo\n",
    "1. Open a terminal and navigate into this lessons's repo (the repo this notebook is currently in). \n",
    "2. Use the command `mv flask_app ..` to mv the `flask_app` folder outside of this lesson's repo."
   ]
  },
  {
   "cell_type": "markdown",
   "metadata": {},
   "source": [
    "#### 4b) Verify the app is working\n",
    "1. Navigate into the `flask_app` folder using `cd ../flask_app`\n",
    "2. Execute the `app.py` file using `python app.py` (Windows users may need to use `python3 app.py`).\n",
    "    - <img src=\"assets/run_flask_app.JPG\" width=\"500px\">\n",
    "3. Visit the localhost url and test if the \"/form\" route is working along with the \"/submit\"\n",
    "    - <img src=\"assets/form.JPG\" width=\"200px\">\n",
    "    - <img src=\"assets/submit.JPG\" width=\"400px\">\n",
    "4. __Stop the terminal from hosting the app__ but pressing \"CTRL+C\" twice very quickly."
   ]
  },
  {
   "cell_type": "markdown",
   "metadata": {},
   "source": [
    "#### 4c) Create the `requirements.txt` and `Procfile` files\n",
    "1. While still being within the `flask_app` folder in a terminal, create a file named \"requirements.txt\" using the command `touch requirements.txt`\n",
    "2. Add the following dependencies as plain text in the `requirements.txt` file for our app.\n",
    "    - ```\n",
    "    gunicorn\n",
    "    Flask==1.1.2\n",
    "    pandas==1.0.5\n",
    "    scikit-learn==0.22.1\n",
    "    ```\n",
    "    - <img src=\"assets/reqs.png\" width=\"300px\">\n",
    "    - _NOTE: `gunicorn` is a dependency Heroku will need to launch the app on their end, so we need to add it manually._"
   ]
  },
  {
   "cell_type": "markdown",
   "metadata": {},
   "source": [
    "3. At the top level of the `flask_app` folder, create a file named \"Procfile\" (the capitalization matters) using the command `touch Procfile`\n",
    "4. Open this file in your text editor and add the following line: `web: gunicorn app:app`\n",
    "    - <img src=\"assets/procfile_2.png\" width=\"400px\">"
   ]
  },
  {
   "cell_type": "markdown",
   "metadata": {},
   "source": [
    "### 5) Commit and push local app to remote app \n",
    "Our app is almost ready to be hosted!\n",
    "\n",
    "We now need to follow some standard Git workflow with some special heroku magic sprinkled in.\n",
    "\n",
    "1. Open another (additional) terminal and use `heroku login`.\n",
    "    - <img src=\"assets/heroku_cli_login.png\" width=\"400px\">\n",
    "2. You will then be directed to log into your Heroku account through the browser.\n",
    "    - Once you're logged in, the terminal will \"hang\", keeping the connection open.\n",
    "    - __DO NOT CLOSE THIS TERMINAL__ until we're done\n",
    "3. In the previous terminal (the one in the `flask_app` folder):\n",
    "    - `git init`\n",
    "    - Connect the local app to the remote app via the command `heroku git:remote -a NAME-OF-APP`, where `NAME-OF-APP` is the name you gave your application in step #3. \n",
    "    - <img src=\"assets/git_init_2.png\" width=\"400px\">\n",
    "    - `git add .`\n",
    "    - `git commit -m \"first commit\"`\n",
    "\n",
    "5. Finally, push your app to Heroku using the command `git push heroku master` (See [these instructions to switch from the word \"master\" to \"main\"](https://help.heroku.com/O0EXQZTA/how-do-i-switch-branches-from-master-to-main), in which case the command would be `git push heroku main`)\n",
    "    - _NOTE: this may take a few minutes as the app is \"built\" by installing & importing the packages and setting the server up_\n",
    "    - <img src=\"assets/push_1.jpg\" width=\"400px\">\n",
    "    - _OPTIONAL_ - In case you want to scale up and pay $$$, you can set the number of heroku \"dynos\" (instances) to use with `heroku ps:scale web=1`.\n",
    "\n",
    "\n",
    "\n"
   ]
  },
  {
   "cell_type": "markdown",
   "metadata": {},
   "source": [
    "### 6) Test your online application!\n",
    "\n",
    "1. The command `heroku open` will open the browser to your hosted app. You can also directly open the app from the Heroku Dashboard\n",
    "2. Verify the \"/form\" and \"/submit\" route are working\n",
    "3. _Congratulations!_ Your application is accessible to the world!\n",
    "\n",
    "\n",
    "_NOTE: the pickled model file will likely become outdated over time (since it is dependent on sklearn to work). Therefore some regular maintainance may be required._"
   ]
  },
  {
   "cell_type": "markdown",
   "metadata": {},
   "source": [
    "## Recap\n",
    "- You should be able to push changes to Heroku's Git through the Heroku CLI\n",
    "- You should be able to deploy a Flask app to be hosted by Heroku's platform"
   ]
  },
  {
   "cell_type": "markdown",
   "metadata": {},
   "source": [
    "## Resources\n",
    "- [Heroku Sign Up](https://signup.heroku.com/)\n",
    "- [Heroku CLI download](https://devcenter.heroku.com/articles/heroku-cli#download-and-install)\n",
    "- [Switching git branch naming convention from \"master\" to \"main\"](https://help.heroku.com/O0EXQZTA/how-do-i-switch-branches-from-master-to-main)"
   ]
  }
 ],
 "metadata": {
  "kernelspec": {
   "display_name": "Python 3",
   "language": "python",
   "name": "python3"
  },
  "language_info": {
   "codemirror_mode": {
    "name": "ipython",
    "version": 3
   },
   "file_extension": ".py",
   "mimetype": "text/x-python",
   "name": "python",
   "nbconvert_exporter": "python",
   "pygments_lexer": "ipython3",
   "version": "3.7.9"
  }
 },
 "nbformat": 4,
 "nbformat_minor": 4
}
