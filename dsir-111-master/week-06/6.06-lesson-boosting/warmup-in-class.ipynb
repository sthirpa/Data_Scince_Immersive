{
 "cells": [
  {
   "cell_type": "markdown",
   "id": "clinical-shield",
   "metadata": {},
   "source": [
    "# Warm-up: NLP and pipelines\n",
    "\n",
    "Below is code to import the Jane Austen & Edgar Allan Poe dataset.\n",
    "\n",
    "As a warm-up, try evaluating the performance of a random forest classifier and an extra trees classifier on this dataset. You'll need to import all the libraries you need, and definitely train-test split!\n",
    "\n",
    "You're not required to turn anything in, and you're not required to gridsearch for optimal hyperparameters - but, if you're able to finish quickly, try gridsearching!"
   ]
  },
  {
   "cell_type": "code",
   "execution_count": 6,
   "id": "superb-check",
   "metadata": {},
   "outputs": [
    {
     "data": {
      "text/plain": [
       "(0.7238447319778188, 0.7147926369483256)"
      ]
     },
     "execution_count": 6,
     "metadata": {},
     "output_type": "execute_result"
    }
   ],
   "source": [
    "import pandas as pd\n",
    "\n",
    "from sklearn.ensemble import RandomForestClassifier\n",
    "from sklearn.feature_extraction.text import CountVectorizer\n",
    "from sklearn.model_selection import train_test_split\n",
    "from sklearn.pipeline import Pipeline\n",
    "\n",
    "df = pd.read_csv('/Users/dsi/datasets/austen_poe.csv').dropna()\n",
    "\n",
    "X = df['text']\n",
    "y = df['author']\n",
    "\n",
    "X_train, X_test, y_train, y_test = train_test_split(X, y,\n",
    "                                                random_state=42,\n",
    "                                                stratify=y)\n",
    "\n",
    "pipe = Pipeline([\n",
    "    ('cv', CountVectorizer(min_df=2)),\n",
    "    ('rfc', RandomForestClassifier(max_depth=10))\n",
    "])\n",
    "\n",
    "pipe.fit(X_train, y_train)\n",
    "pipe.score(X_train, y_train), pipe.score(X_test, y_test)"
   ]
  }
 ],
 "metadata": {
  "kernelspec": {
   "display_name": "Python 3 (ipykernel)",
   "language": "python",
   "name": "python3"
  },
  "language_info": {
   "codemirror_mode": {
    "name": "ipython",
    "version": 3
   },
   "file_extension": ".py",
   "mimetype": "text/x-python",
   "name": "python",
   "nbconvert_exporter": "python",
   "pygments_lexer": "ipython3",
   "version": "3.8.12"
  }
 },
 "nbformat": 4,
 "nbformat_minor": 5
}
