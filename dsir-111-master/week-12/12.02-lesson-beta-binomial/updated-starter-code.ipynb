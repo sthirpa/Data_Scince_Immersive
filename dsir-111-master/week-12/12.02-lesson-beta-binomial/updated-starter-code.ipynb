{
 "cells": [
  {
   "cell_type": "markdown",
   "metadata": {},
   "source": [
    "<img src=\"http://imgur.com/1ZcRyrc.png\" style=\"float: left; margin: 20px; height: 55px\">\n",
    "\n",
    "# Conjugacy, Beta-Binomial Model, Maximum Likelihood\n",
    "\n",
    "_Authors: Kiefer Katovich (SF), Riley Dallas (Austin)_ \n",
    "\n",
    "---\n",
    "\n",
    "### Learning Objectives\n",
    "- Understand the Beta Distribution\n",
    "- Describe the concept of \"conjugacy\" and \"conjugate priors\" in Bayesian statistics\n",
    "- Set up an example of the Beta-Binomial model using election data\n",
    "- Calculate the Maximum Likelihood Estimate\n",
    "- Use the Beta-Binomial model to build our example in a Bayesian framework"
   ]
  },
  {
   "cell_type": "code",
   "execution_count": 1,
   "metadata": {},
   "outputs": [],
   "source": [
    "import matplotlib.pyplot as plt\n",
    "import numpy as np\n",
    "import pandas as pd\n",
    "import seaborn as sns\n",
    "import scipy.stats as stats"
   ]
  },
  {
   "cell_type": "markdown",
   "metadata": {},
   "source": [
    "## 2020 Presidential Election\n",
    "---\n",
    "\n",
    "For today's lecture, we're going to focus on the 2020 presidential race. [FiveThirtyEight](https://projects.fivethirtyeight.com/2020-election-forecast/) currently gives Biden a 77% chance of winning the election. \n",
    "\n",
    "Our goal today is to use Bayesian inference to see if we can come to a similar conclusion."
   ]
  },
  {
   "cell_type": "markdown",
   "metadata": {},
   "source": [
    "## Our objective\n",
    "---\n",
    "\n",
    "We have two questions we're trying to answer today. The first one is:\n",
    "\n",
    "**What is the PERCENTAGE OF VOTES we think Biden will likely get?**\n",
    "\n",
    "In Bayesian statistics, this is called parameter estimation. Our parameter in this case is the percentage of votes (denoted $p$). \n",
    "\n",
    "We'll use the Bayesian approach to learn more about $p$:\n",
    "\n",
    "1. Establish a prior belief about $p$ as a distribution: $f(p)$\n",
    "2. Use recent polling data to create our Binomial likelihood: $f(n,k|p)$\n",
    "    - n is the total survey responses\n",
    "    - and k is the number of responses in favor of our candidate\n",
    "3. Use that data to update our belief about $p$ as a posterior distribution: $f(p|n,k)$\n",
    "\n",
    "Mathematically, our objective can be summarized using a variant of Bayes' rule:\n",
    "\n",
    "### $$f(p|n,k) \\propto f(n,k|p) * f(p)$$\n",
    "\n",
    "Once we have our posterior distribution, we can answer our second question:\n",
    "\n",
    "**What is the PROBABILITY that Biden wins?**"
   ]
  },
  {
   "cell_type": "markdown",
   "metadata": {},
   "source": [
    "## Step 1: Establish our prior\n",
    "---\n",
    "\n",
    "The first step in Bayesian inference is to create a prior distribution that represents our belief about $p$. Remember, $p$ represents the percentage of votes Biden is likely to win in the election. \n",
    "\n",
    "## The Beta distribution\n",
    "---\n",
    "\n",
    "The Beta distribution works perfectly for our prior because it **represents _a distribution of values between 0 and 1_**. \n",
    "\n",
    "The beta distribution is parameterized by two values, $\\alpha$ and $\\beta$.\n",
    "\n",
    "###  $ Beta(\\alpha, \\beta) =\n",
    "\\begin{cases}\n",
    "\\alpha &= \\text{number of successes + 1} \\\\\n",
    "\\beta &= \\text{number of failures + 1}\n",
    "\\end{cases} $\n",
    "\n",
    "The mean of the Beta distribution is defined as:\n",
    "\n",
    "### $\\mu = \\dfrac{\\alpha}{\\alpha + \\beta}$\n",
    "\n",
    "Since most presential elections are close to 50/50, we'll need to create a prior distribution with a mean of .5, which means $\\alpha$ and $\\beta$ need to be the same value. \n",
    "\n",
    "Let's experiment with some candidate parameters.\n",
    "\n",
    "\n",
    "```python\n",
    "alpha_prior = 1\n",
    "beta_prior = 1\n",
    "\n",
    "alpha_prior = 10\n",
    "beta_prior = 10\n",
    "\n",
    "alpha_prior = 100\n",
    "beta_prior = 100\n",
    "\n",
    "alpha_prior = 1000\n",
    "beta_prior = 1000\n",
    "```"
   ]
  },
  {
   "cell_type": "code",
   "execution_count": 2,
   "metadata": {},
   "outputs": [],
   "source": [
    "# Create our prior"
   ]
  },
  {
   "cell_type": "code",
   "execution_count": 3,
   "metadata": {},
   "outputs": [],
   "source": [
    "# Mean of the prior dist'n"
   ]
  },
  {
   "cell_type": "code",
   "execution_count": 4,
   "metadata": {},
   "outputs": [],
   "source": [
    "# Std of the prior dist'n"
   ]
  },
  {
   "cell_type": "markdown",
   "metadata": {},
   "source": [
    "## Plot the beta prior\n",
    "---\n",
    "\n",
    "In the cell below, let's plot our beta distribution. Use `numpy.linspace` to create a list of probabilities for plotting the x axis."
   ]
  },
  {
   "cell_type": "code",
   "execution_count": 5,
   "metadata": {},
   "outputs": [],
   "source": [
    "# Create list of percentages for plotting x-axes"
   ]
  },
  {
   "cell_type": "code",
   "execution_count": 6,
   "metadata": {
    "scrolled": true
   },
   "outputs": [],
   "source": [
    "# Plot prior dist'n"
   ]
  },
  {
   "cell_type": "code",
   "execution_count": null,
   "metadata": {},
   "outputs": [],
   "source": []
  },
  {
   "cell_type": "markdown",
   "metadata": {},
   "source": [
    "**[Thread] 50/50 is pretty naive. What are some other ways we could have established our prior?**"
   ]
  },
  {
   "cell_type": "markdown",
   "metadata": {},
   "source": [
    "## Step 2: Gather polling data\n",
    "---\n",
    "\n",
    "Now we need to update our beliefs with some data. [FiveThirtyEight](https://projects.fivethirtyeight.com/polls/president-general/national/) is an excellent resource for political polling information. \n",
    "\n",
    "Let's use the results from the 4 most recent polls:\n",
    "\n",
    "<div style=\"float: left\">\n",
    "\n",
    "| Date            | Poll                         | Total  | % Biden | % Trump | Total Biden | Total Trump |\n",
    "|-----------------|------------------------------|--------|---------|---------|-------------|-------------|\n",
    "| AUG 14-16, 2020 | Morning Consult              | 11,809 |     51% |     43% |        6023 |        5078 |\n",
    "| AUG 14-16, 2020 | Léger                        |  1,001 |     51% |     35% |         511 |         351 |\n",
    "| AUG 14-15, 2020 | YouGov                       |  1,027 |     50% |     41% |         514 |         422 |\n",
    "| AUG 14-15, 2020 | YouGov                       |  1,158 |     49% |     38% |         568 |         441 |\n",
    "</div>"
   ]
  },
  {
   "cell_type": "markdown",
   "metadata": {},
   "source": [
    "This gives us the following totals:\n",
    "\n",
    "```python\n",
    "n_biden = 7_616 # number of successes\n",
    "n_surveys = 14_995 # number of trials\n",
    "```"
   ]
  },
  {
   "cell_type": "code",
   "execution_count": null,
   "metadata": {},
   "outputs": [],
   "source": []
  },
  {
   "cell_type": "markdown",
   "metadata": {},
   "source": [
    "<a id='pmf'></a>\n",
    "## Review: the Binomial distribution probability mass function\n",
    "---\n",
    "\n",
    "Recall that the number of \"success\" trials in $n$ trials is modeled with the Binomial distribution. The binomial distribution has the probability mass function:\n",
    "\n",
    "### $$ P(k, n \\;|\\; p) = \\binom{n}{k} p^k (1 - p)^{(n-k)} $$\n",
    "\n",
    "Where $k$ is the number of successes,\n",
    "\n",
    "$n$ is the number of total trials,\n",
    "\n",
    "and $p$ is the probability of success for each trial.\n",
    "\n",
    "**We can calculate the probability mass function for a given $n$ and $p$:**"
   ]
  },
  {
   "cell_type": "code",
   "execution_count": 7,
   "metadata": {},
   "outputs": [
    {
     "data": {
      "text/plain": [
       "<BarContainer object of 51 artists>"
      ]
     },
     "execution_count": 7,
     "metadata": {},
     "output_type": "execute_result"
    },
    {
     "data": {
      "image/png": "[encoded data removed]",
      "text/plain": [
       "<Figure size 432x288 with 1 Axes>"
      ]
     },
     "metadata": {
      "needs_background": "light"
     },
     "output_type": "display_data"
    }
   ],
   "source": [
    "# Coin flips\n",
    "p_heads = .25 # unfair coin\n",
    "n_flips = 50\n",
    "\n",
    "coin_distn = stats.binom(n_flips, p_heads)\n",
    "possible_heads = list(range(51)) # our random variable\n",
    "plt.bar(possible_heads, coin_distn.pmf(possible_heads))"
   ]
  },
  {
   "cell_type": "code",
   "execution_count": 8,
   "metadata": {},
   "outputs": [
    {
     "data": {
      "text/plain": [
       "<BarContainer object of 7 artists>"
      ]
     },
     "execution_count": 8,
     "metadata": {},
     "output_type": "execute_result"
    },
    {
     "data": {
      "image/png": "[encoded data removed]",
      "text/plain": [
       "<Figure size 432x288 with 1 Axes>"
      ]
     },
     "metadata": {
      "needs_background": "light"
     },
     "output_type": "display_data"
    }
   ],
   "source": [
    "# Siblings\n",
    "p_daughter = .5\n",
    "n_kids = 6\n",
    "daughter_distn = stats.binom(n_kids, p_daughter)\n",
    "\n",
    "possible_daughters = list(range(7))\n",
    "plt.bar(possible_daughters, daughter_distn.pmf(possible_daughters))"
   ]
  },
  {
   "cell_type": "code",
   "execution_count": 9,
   "metadata": {},
   "outputs": [],
   "source": [
    "# Polling numbers, likelihood fn"
   ]
  },
  {
   "cell_type": "markdown",
   "metadata": {},
   "source": [
    "<a id='likelihood'></a>\n",
    "## The Binomial likelihood\n",
    "---\n",
    "\n",
    "The likelihood represents the probability of observing $k$ successes out of $n$ trials _given a probability of success $p$._\n",
    "\n",
    "This $p$ can be fixed, say at $p = 0.3$, in which case we would evaluate the likelihood at exactly that point. We could also represent $p$ as a distribution over the range of possible $p$ values. Evaluating the likelihood at all of our different \"hypotheses\" about what $p$ could be. "
   ]
  },
  {
   "cell_type": "code",
   "execution_count": 10,
   "metadata": {},
   "outputs": [],
   "source": [
    "# Plot binom likelihood for our data"
   ]
  },
  {
   "cell_type": "markdown",
   "metadata": {},
   "source": [
    "<a id='mle'></a>\n",
    "## The \"Maximum Likelihood Estimate\" for $p$\n",
    "---\n",
    "\n",
    "If we were to _just_ focus on the likelihood part of Bayes Theorem, we could ask \"what is the value of the parameter $p$ that maximizes the value of the likelihood function?\" This is precisely what we do in Frequentist statistics to find our point estimate of a parameter. \n",
    "\n",
    "Remember that Frequentists have no interest in the prior or posterior beliefs about the probability of the parameter's value. Frequentists state that there is no probability associated with a parameter. \n",
    "\n",
    "Because we only take a sample of people, we may by chance measure a percentage of votes for our candidate that deviates from that true probability to some degree. Remember: in Frequentist statistics, it is the data that has a probability rather than the parameter!\n",
    "\n",
    "**For the Binomial distribution, we can easily calculate the value for $p$ that makes our observed data the most likely: it is going to be the fraction of survey responses in favor of our candidate, divided by the total responses.**"
   ]
  },
  {
   "cell_type": "code",
   "execution_count": 11,
   "metadata": {},
   "outputs": [],
   "source": [
    "# mle"
   ]
  },
  {
   "cell_type": "markdown",
   "metadata": {},
   "source": [
    "<a id='beta-conjugate'></a>\n",
    "## Putting it all together: the Beta as a \"conjugate prior\" to the Binomial likelihood\n",
    "---\n",
    "\n",
    "Let's recap what we've done up to this point:\n",
    "1. We're trying to understand $p$: The proportion of votes our candidate will win\n",
    "2. We created a beta distribution $f(p)$ to represent our prior beliefs about $p$\n",
    "3. We've gathered survey data, and calculated the value for $p$ that maximizes the likelihood of the surveys we've observed.\n",
    "\n",
    "Like our prior, our posterior distribution $f(p|n,k)$ will be a beta distribution as well. Because our likelihood function is binomial, creating the parameters $\\alpha_{posterior}$ and $\\beta_{posterior}$ for our beta distribution is a matter of simple addition:\n",
    "\n",
    "### $$ \\begin{aligned}\n",
    "\\alpha_{posterior} &= k + \\alpha_{prior} \\\\\n",
    "\\beta_{posterior} &= n - k + \\beta_{prior}\n",
    "\\end{aligned} $$\n"
   ]
  },
  {
   "cell_type": "code",
   "execution_count": 12,
   "metadata": {},
   "outputs": [],
   "source": [
    "# Create alpha and beta posteriors"
   ]
  },
  {
   "cell_type": "code",
   "execution_count": 13,
   "metadata": {},
   "outputs": [],
   "source": [
    "# Posterior dist'n"
   ]
  },
  {
   "cell_type": "markdown",
   "metadata": {},
   "source": [
    "## Conjugacy\n",
    "---\n",
    "\n",
    "Our prior and likelihood play nicely together because of one word: conjugacy. **Conjugacy** and \"conjugate priors\" are important concepts in Bayesian statistics. \n",
    "\n",
    "> The essential idea is that the *posterior* distribution is guaranteed to have the same mathematical form as the *prior* distribution when the prior distribution is a conjugate prior to the likelihood function.\n",
    "\n",
    "There are [many conjugate priors and posteriors](https://en.wikipedia.org/wiki/Conjugate_prior#Table_of_conjugate_distributions). They are extremely useful because they make the prior-posterior update algebraically solvable. When there is no conjugate prior, sampling techniques such as Markov Chain Monte Carlo are often necessary.\n",
    "\n",
    "This lecture covers the most classic conjugate prior scenario: the Beta-Binomial model. Binomial models are appropriate for binary events. The prior distribution on the probability of a binary event is a Beta distribution. As it turns out, the Beta distribution is conjugate to the Binomial likelihood and we are guaranteed to get out a posterior distribution that is also a Beta distribution."
   ]
  },
  {
   "cell_type": "code",
   "execution_count": 14,
   "metadata": {},
   "outputs": [],
   "source": [
    "# Plot posterior distribution"
   ]
  },
  {
   "cell_type": "markdown",
   "metadata": {},
   "source": [
    "## What is the PROBABILITY that Biden wins?\n",
    "---\n",
    "\n",
    "Recall that $p$ is the **percentage of votes** we think Biden will receive. Now that we have a posterior distribution, we can answer our second question:\n",
    "\n",
    "**What is the PROBABILITY that Biden wins?**\n",
    "\n",
    "Note that FiveThirtyEight answered this question by running 40,000 simulations. We can do the same!"
   ]
  },
  {
   "cell_type": "code",
   "execution_count": 15,
   "metadata": {},
   "outputs": [],
   "source": [
    "# Create simulations"
   ]
  },
  {
   "cell_type": "markdown",
   "metadata": {},
   "source": [
    "## Conclusion\n",
    "---\n",
    "\n",
    "Our results are vastly different than FiveThirtyEight's (73%). \n",
    "\n",
    "What might explain the disparity?"
   ]
  },
  {
   "cell_type": "code",
   "execution_count": null,
   "metadata": {},
   "outputs": [],
   "source": []
  }
 ],
 "metadata": {
  "kernelspec": {
   "display_name": "Python [conda env:root] *",
   "language": "python",
   "name": "conda-root-py"
  },
  "language_info": {
   "codemirror_mode": {
    "name": "ipython",
    "version": 3
   },
   "file_extension": ".py",
   "mimetype": "text/x-python",
   "name": "python",
   "nbconvert_exporter": "python",
   "pygments_lexer": "ipython3",
   "version": "3.8.8"
  }
 },
 "nbformat": 4,
 "nbformat_minor": 4
}
