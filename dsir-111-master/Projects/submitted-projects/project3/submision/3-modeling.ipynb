{
 "cells": [
  {
   "cell_type": "markdown",
   "id": "52847e15-cf1c-4027-9126-482d3f58943c",
   "metadata": {},
   "source": [
    "## Part 3: Modeling and Model Selection"
   ]
  },
  {
   "cell_type": "markdown",
   "id": "4a18fba7-7eaf-439e-81dd-ac82f030d607",
   "metadata": {},
   "source": [
    "I am trying to compare the <mark>*Random Forest, Logistic Regression, Support Vector Machine, and Multinomial Naive Bayes*</mark> models and will select the one with best accuracy score."
   ]
  },
  {
   "cell_type": "code",
   "execution_count": 1,
   "id": "84a05e61-291e-484b-9992-cfb38aeef524",
   "metadata": {},
   "outputs": [],
   "source": [
    "import numpy as np\n",
    "import pandas as pd\n",
    "import matplotlib.pyplot as plt\n",
    "from sklearn.feature_extraction.text import CountVectorizer, TfidfVectorizer\n",
    "from sklearn.pipeline import Pipeline\n",
    "from sklearn.linear_model import LogisticRegression\n",
    "from sklearn.naive_bayes import MultinomialNB\n",
    "from sklearn.model_selection import train_test_split, GridSearchCV\n",
    "from sklearn.ensemble import BaggingClassifier, ExtraTreesClassifier, RandomForestClassifier, GradientBoostingClassifier, AdaBoostClassifier\n",
    "from sklearn import metrics\n",
    "from sklearn.metrics import confusion_matrix, plot_confusion_matrix, plot_roc_curve, roc_auc_score, recall_score, precision_score, f1_score\n",
    "from sklearn.svm import SVC\n"
   ]
  },
  {
   "cell_type": "code",
   "execution_count": 2,
   "id": "0c24dadc-5a6b-4794-a77f-572fafdedad3",
   "metadata": {},
   "outputs": [
    {
     "data": {
      "text/html": [
       "<div>\n",
       "<style scoped>\n",
       "    .dataframe tbody tr th:only-of-type {\n",
       "        vertical-align: middle;\n",
       "    }\n",
       "\n",
       "    .dataframe tbody tr th {\n",
       "        vertical-align: top;\n",
       "    }\n",
       "\n",
       "    .dataframe thead th {\n",
       "        text-align: right;\n",
       "    }\n",
       "</style>\n",
       "<table border=\"1\" class=\"dataframe\">\n",
       "  <thead>\n",
       "    <tr style=\"text-align: right;\">\n",
       "      <th></th>\n",
       "      <th>body</th>\n",
       "      <th>length</th>\n",
       "      <th>word_count</th>\n",
       "      <th>target</th>\n",
       "    </tr>\n",
       "  </thead>\n",
       "  <tbody>\n",
       "    <tr>\n",
       "      <th>0</th>\n",
       "      <td>typically hosting centralized service and mere...</td>\n",
       "      <td>186</td>\n",
       "      <td>30</td>\n",
       "      <td>1</td>\n",
       "    </tr>\n",
       "    <tr>\n",
       "      <th>1</th>\n",
       "      <td>yup feast for</td>\n",
       "      <td>25</td>\n",
       "      <td>6</td>\n",
       "      <td>1</td>\n",
       "    </tr>\n",
       "    <tr>\n",
       "      <th>2</th>\n",
       "      <td>4000 you kidding right the floor bored ape lik...</td>\n",
       "      <td>68</td>\n",
       "      <td>13</td>\n",
       "      <td>1</td>\n",
       "    </tr>\n",
       "    <tr>\n",
       "      <th>3</th>\n",
       "      <td>prognosis negative someone dropped fucking jun...</td>\n",
       "      <td>72</td>\n",
       "      <td>11</td>\n",
       "      <td>1</td>\n",
       "    </tr>\n",
       "    <tr>\n",
       "      <th>4</th>\n",
       "      <td>nano but for monkey</td>\n",
       "      <td>22</td>\n",
       "      <td>4</td>\n",
       "      <td>1</td>\n",
       "    </tr>\n",
       "  </tbody>\n",
       "</table>\n",
       "</div>"
      ],
      "text/plain": [
       "                                                body  length  word_count  \\\n",
       "0  typically hosting centralized service and mere...     186          30   \n",
       "1                                     yup feast for       25           6   \n",
       "2  4000 you kidding right the floor bored ape lik...      68          13   \n",
       "3  prognosis negative someone dropped fucking jun...      72          11   \n",
       "4                               nano but for monkey       22           4   \n",
       "\n",
       "   target  \n",
       "0       1  \n",
       "1       1  \n",
       "2       1  \n",
       "3       1  \n",
       "4       1  "
      ]
     },
     "execution_count": 2,
     "metadata": {},
     "output_type": "execute_result"
    }
   ],
   "source": [
    "# import cleaned comments data from csv\n",
    "df = pd.read_csv('comments_clean.csv')\n",
    "df.head()"
   ]
  },
  {
   "cell_type": "code",
   "execution_count": 3,
   "id": "2bb27bc2-983e-4522-b28b-0ae0e216fdcd",
   "metadata": {},
   "outputs": [
    {
     "name": "stdout",
     "output_type": "stream",
     "text": [
      "<class 'pandas.core.frame.DataFrame'>\n",
      "RangeIndex: 3232 entries, 0 to 3231\n",
      "Data columns (total 4 columns):\n",
      " #   Column      Non-Null Count  Dtype \n",
      "---  ------      --------------  ----- \n",
      " 0   body        3232 non-null   object\n",
      " 1   length      3232 non-null   int64 \n",
      " 2   word_count  3232 non-null   int64 \n",
      " 3   target      3232 non-null   int64 \n",
      "dtypes: int64(3), object(1)\n",
      "memory usage: 101.1+ KB\n"
     ]
    }
   ],
   "source": [
    "df.info()"
   ]
  },
  {
   "cell_type": "markdown",
   "id": "ce0d492d-cbfd-4a0d-a3e2-1ee82c66df07",
   "metadata": {},
   "source": [
    "### set up X and y, train/test split"
   ]
  },
  {
   "cell_type": "code",
   "execution_count": 4,
   "id": "17c49ffb-a92b-4fc2-a857-f978a04d4715",
   "metadata": {},
   "outputs": [
    {
     "data": {
      "text/plain": [
       "1    0.541151\n",
       "0    0.458849\n",
       "Name: target, dtype: float64"
      ]
     },
     "execution_count": 4,
     "metadata": {},
     "output_type": "execute_result"
    }
   ],
   "source": [
    "X = df['body']\n",
    "y = df['target']\n",
    "\n",
    "y.value_counts(normalize=True) # baseline accuracy\n",
    "\n"
   ]
  },
  {
   "cell_type": "code",
   "execution_count": 5,
   "id": "8bcda7bb-e045-4dbb-a9f6-8caa3d1b890f",
   "metadata": {},
   "outputs": [],
   "source": [
    "# train/test split\n",
    "# stratify y just in case, even though the classes are balanced\n",
    "# test_size : default = 0.25\n",
    "# shuffle: default = True\n",
    "\n",
    "X_train, X_test, y_train, y_test = train_test_split(X, \n",
    "                                                    y, \n",
    "                                                    stratify=y, #to keep the same balance of y in the test and train data\n",
    "                                                    random_state=42)"
   ]
  },
  {
   "cell_type": "code",
   "execution_count": 6,
   "id": "9cb77c74-a195-4743-b9c9-466fa3016961",
   "metadata": {},
   "outputs": [
    {
     "data": {
      "text/plain": [
       "(2424,)"
      ]
     },
     "execution_count": 6,
     "metadata": {},
     "output_type": "execute_result"
    }
   ],
   "source": [
    "X_train.shape"
   ]
  },
  {
   "cell_type": "code",
   "execution_count": 7,
   "id": "5c2ce213-15b0-4e83-9334-6da5b27e3acf",
   "metadata": {},
   "outputs": [
    {
     "data": {
      "text/plain": [
       "(808,)"
      ]
     },
     "execution_count": 7,
     "metadata": {},
     "output_type": "execute_result"
    }
   ],
   "source": [
    "X_test.shape"
   ]
  },
  {
   "cell_type": "code",
   "execution_count": 8,
   "id": "e23d0618-fb70-4e64-9843-7989bf178059",
   "metadata": {},
   "outputs": [
    {
     "data": {
      "text/plain": [
       "(2424,)"
      ]
     },
     "execution_count": 8,
     "metadata": {},
     "output_type": "execute_result"
    }
   ],
   "source": [
    "y_train.shape"
   ]
  },
  {
   "cell_type": "code",
   "execution_count": 9,
   "id": "94f7784c-ca2d-4027-bfcd-666b82bd58c4",
   "metadata": {},
   "outputs": [
    {
     "data": {
      "text/plain": [
       "(808,)"
      ]
     },
     "execution_count": 9,
     "metadata": {},
     "output_type": "execute_result"
    }
   ],
   "source": [
    "y_test.shape"
   ]
  },
  {
   "cell_type": "markdown",
   "id": "bc84b11e-6974-456a-bbf2-12287a99718c",
   "metadata": {},
   "source": [
    "## Model x1-1: CountVectorizer & Logistic Regression"
   ]
  },
  {
   "cell_type": "code",
   "execution_count": 10,
   "id": "2b7b680f-bed8-437a-9dd1-7a3f83cd9c70",
   "metadata": {},
   "outputs": [],
   "source": [
    "# set a pipeline up with two stages:\n",
    "# 1. CountVectorizer (transformer)\n",
    "# 2. LogisticRegression (estimator)\n",
    "\n",
    "pipe1_1 = Pipeline([\n",
    "    ('cvec', CountVectorizer()),\n",
    "    ('lr', LogisticRegression())\n",
    "])"
   ]
  },
  {
   "cell_type": "code",
   "execution_count": 11,
   "id": "61e2aa8f-353f-436e-a7f8-6f18a251e581",
   "metadata": {},
   "outputs": [
    {
     "data": {
      "text/plain": [
       "(0.9575082508250825, 0.7388613861386139)"
      ]
     },
     "execution_count": 11,
     "metadata": {},
     "output_type": "execute_result"
    }
   ],
   "source": [
    "pipe1_1.fit(X_train, y_train)\n",
    "pipe1_1.score(X_train, y_train), pipe1_1.score(X_test, y_test)"
   ]
  },
  {
   "cell_type": "code",
   "execution_count": 12,
   "id": "ecf8efb1-93c9-427e-be30-682ae9298cd3",
   "metadata": {},
   "outputs": [
    {
     "name": "stdout",
     "output_type": "stream",
     "text": [
      "Fitting 5 folds for each of 48 candidates, totalling 240 fits\n"
     ]
    },
    {
     "data": {
      "text/plain": [
       "GridSearchCV(cv=5,\n",
       "             estimator=Pipeline(steps=[('cvec', CountVectorizer()),\n",
       "                                       ('lr', LogisticRegression())]),\n",
       "             n_jobs=-1,\n",
       "             param_grid={'cvec__max_df': [0.9, 0.95],\n",
       "                         'cvec__max_features': [5000, 10000, 15000],\n",
       "                         'cvec__min_df': [2, 3],\n",
       "                         'cvec__ngram_range': [(1, 1), (1, 2)],\n",
       "                         'cvec__stop_words': [None, 'english']},\n",
       "             verbose=1)"
      ]
     },
     "execution_count": 12,
     "metadata": {},
     "output_type": "execute_result"
    }
   ],
   "source": [
    "pipe1_cv = Pipeline([\n",
    "    ('cvec', CountVectorizer()),\n",
    "    ('lr', LogisticRegression())\n",
    "])\n",
    "\n",
    "pipe1_cv.fit(X_train, y_train)\n",
    "pipe1_cv.score(X_train, y_train), pipe1_cv.score(X_test, y_test)\n",
    "\n",
    "# Search over the following values of hyperparameters:\n",
    "pipe_x1_params = {\n",
    "    'cvec__max_features' : [5_000, 10_000, 15_000],# Maximum number of features fit: 5000, 10,000, 15,000\n",
    "    'cvec__min_df' : [2,3], # Minimum number of documents needed to include token: 2, 3\n",
    "    'cvec__max_df': [0.9, 0.95], # Maximum number of documents needed to include token: 90%, 95%\n",
    "    'cvec__ngram_range' : [(1,1), (1,2)], # Check (individual tokens) and also check (individual tokens and 2-grams)\n",
    "    'cvec__stop_words':[None, 'english']\n",
    "}\n",
    "\n",
    "# Instantiate GridSearchCV\n",
    "pipe1_gs = GridSearchCV(pipe1_cv,\n",
    "                    pipe_x1_params,\n",
    "                    cv =5,\n",
    "                    verbose = 1,\n",
    "                    n_jobs = -1)\n",
    "\n",
    "# Fit GridSearch to training data\n",
    "pipe1_gs.fit(X_train, y_train)"
   ]
  },
  {
   "cell_type": "code",
   "execution_count": 13,
   "id": "aded9052-b206-4617-af6d-bb0fe76b53c6",
   "metadata": {},
   "outputs": [
    {
     "name": "stdout",
     "output_type": "stream",
     "text": [
      "{'cvec__max_df': 0.9, 'cvec__max_features': 5000, 'cvec__min_df': 2, 'cvec__ngram_range': (1, 2), 'cvec__stop_words': 'english'}\n",
      "Cross Val: 0.6976152338757775\n",
      "Training Accuracy: 0.9302805280528053\n",
      "Testing Accuracy: 0.7339108910891089\n",
      "Precision: 0.73125\n",
      "F1 score: 0.7655398037077425\n",
      "Recall: 0.8032036613272311\n"
     ]
    }
   ],
   "source": [
    "print(pipe1_gs.best_params_)\n",
    "print(f'Cross Val: {pipe1_gs.best_score_}')\n",
    "print(f'Training Accuracy: {pipe1_gs.score(X_train, y_train)}')\n",
    "print(f'Testing Accuracy: {pipe1_gs.score(X_test, y_test)}')\n",
    "\n",
    "pipe1_gs_pred = pipe1_gs.predict(X_test)\n",
    "\n",
    "print(f'Precision: {precision_score(y_test, pipe1_gs_pred)}')\n",
    "print(f'F1 score: {f1_score(y_test,pipe1_gs_pred)}')\n",
    "print(f'Recall: {recall_score(y_test, pipe1_gs_pred)}')"
   ]
  },
  {
   "cell_type": "markdown",
   "id": "48621287-9a9d-449c-a44d-017e3891415c",
   "metadata": {},
   "source": [
    "## Model x1-2: TF - IDF Vectorizer & Logistic Regression"
   ]
  },
  {
   "cell_type": "code",
   "execution_count": 14,
   "id": "957c04e0-660e-4ebf-bcbd-7b59e611f38d",
   "metadata": {},
   "outputs": [
    {
     "name": "stdout",
     "output_type": "stream",
     "text": [
      "Fitting 5 folds for each of 48 candidates, totalling 240 fits\n",
      "{'tf__max_df': 0.75, 'tf__max_features': 5000, 'tf__min_df': 2, 'tf__ngram_range': (1, 2), 'tf__stop_words': 'english'}\n",
      "Cross Val: 0.703801652892562\n",
      "Training Accuracy: 0.8993399339933993\n",
      "Testing Accuracy: 0.75\n",
      "Precision: 0.7373737373737373\n",
      "F1 score: 0.7832618025751074\n",
      "Recall: 0.8352402745995423\n"
     ]
    }
   ],
   "source": [
    "pipe1_tfdf = Pipeline([\n",
    "                ('tf', TfidfVectorizer()),\n",
    "                ('lr', LogisticRegression())\n",
    "])\n",
    "\n",
    "pipe1_tfdf.fit(X_train, y_train)\n",
    "pipe1_tfdf.score(X_train, y_train), pipe1_tfdf.score(X_test, y_test)\n",
    "\n",
    "\n",
    "pipe_x12_params = {\n",
    "                'tf__max_features' : [5000,10_000,15_000],\n",
    "                'tf__min_df': [2, 3],\n",
    "                'tf__max_df': [0.75,0.9],\n",
    "                'tf__ngram_range':[(1, 1), (1, 2)],\n",
    "                'tf__stop_words':['english',None]\n",
    "                \n",
    "}\n",
    "\n",
    "pipe12_gs = GridSearchCV(pipe1_tfdf,\n",
    "                    pipe_x12_params,\n",
    "                    cv =5,\n",
    "                    verbose = 1,\n",
    "                    n_jobs = -1)\n",
    "pipe12_gs.fit(X_train, y_train)\n",
    "\n",
    "print(pipe12_gs.best_params_)\n",
    "print(f'Cross Val: {pipe12_gs.best_score_}')\n",
    "print(f'Training Accuracy: {pipe12_gs.score(X_train, y_train)}')\n",
    "print(f'Testing Accuracy: {pipe12_gs.score(X_test, y_test)}')\n",
    "\n",
    "pipe12_gs_pred = pipe12_gs.predict(X_test)\n",
    "\n",
    "print(f'Precision: {precision_score(y_test, pipe12_gs_pred)}')\n",
    "print(f'F1 score: {f1_score(y_test,pipe12_gs_pred)}')\n",
    "print(f'Recall: {recall_score(y_test, pipe12_gs_pred)}')"
   ]
  },
  {
   "cell_type": "markdown",
   "id": "9d67cd4d-299a-470b-a784-6e554cfc1f19",
   "metadata": {},
   "source": [
    "## Model x2-1: CountVectorizer & Random Forest Classifier"
   ]
  },
  {
   "cell_type": "code",
   "execution_count": 15,
   "id": "36da269f-9447-4f32-9f8b-ed02da95bb46",
   "metadata": {},
   "outputs": [
    {
     "name": "stdout",
     "output_type": "stream",
     "text": [
      "Fitting 5 folds for each of 48 candidates, totalling 240 fits\n",
      "{'cvec__max_df': 0.9, 'cvec__max_features': 15000, 'cvec__min_df': 2, 'cvec__ngram_range': (1, 2), 'cvec__stop_words': 'english'}\n",
      "Cross Val: 0.6773826361080344\n",
      "Training Accuracy: 0.9764851485148515\n",
      "Testing Accuracy: 0.7165841584158416\n",
      "Precision: 0.7241379310344828\n",
      "F1 score: 0.7458379578246392\n",
      "Recall: 0.7688787185354691\n"
     ]
    }
   ],
   "source": [
    "pipe2_cvc = Pipeline([\n",
    "                ('cvec', CountVectorizer()),\n",
    "                ('rf', RandomForestClassifier())\n",
    "])\n",
    "pipe2_cvc.fit(X_train, y_train)\n",
    "pipe2_cvc.score(X_train, y_train), pipe2_cvc.score(X_test, y_test)\n",
    "\n",
    "\n",
    "pipe_x21_params = {\n",
    "                'cvec__max_features' : [5000,10_000,15_000],\n",
    "                'cvec__min_df': [2, 3],\n",
    "                'cvec__max_df': [0.75,0.9],\n",
    "                'cvec__ngram_range':[(1, 1), (1, 2)],\n",
    "                'cvec__stop_words':['english',None]\n",
    "                \n",
    "}\n",
    "\n",
    "pipe21_gs = GridSearchCV(pipe2_cvc,\n",
    "                    pipe_x21_params,\n",
    "                    cv =5,\n",
    "                    verbose = 1,\n",
    "                    n_jobs = -1)\n",
    "pipe21_gs.fit(X_train, y_train)\n",
    "\n",
    "print(pipe21_gs.best_params_)\n",
    "print(f'Cross Val: {pipe21_gs.best_score_}')\n",
    "print(f'Training Accuracy: {pipe21_gs.score(X_train, y_train)}')\n",
    "print(f'Testing Accuracy: {pipe21_gs.score(X_test, y_test)}')\n",
    "\n",
    "pipe21_gs_pred = pipe21_gs.predict(X_test)\n",
    "\n",
    "print(f'Precision: {precision_score(y_test, pipe21_gs_pred)}')\n",
    "print(f'F1 score: {f1_score(y_test,pipe21_gs_pred)}')\n",
    "print(f'Recall: {recall_score(y_test, pipe21_gs_pred)}')"
   ]
  },
  {
   "cell_type": "code",
   "execution_count": 16,
   "id": "7ae289b3-efb3-41d4-ab17-03c54719be2e",
   "metadata": {},
   "outputs": [],
   "source": [
    "# y_pred = gs3.predict(X_test)\n",
    "# cm_def = np.array([['True Negative', 'False Positive'],\n",
    "#                 ['False Negative', 'True Positive']])\n",
    "# cm_def = pd.DataFrame(cm_def,columns = ['pred neg', 'pred pos'], index = ['actual neg','actual pos'])\n",
    "# cm = confusion_matrix(y_test, y_pred)\n",
    "# cm_df = pd.DataFrame(cm, columns = ['pred neg', 'pred pos'], index = ['actual neg','actual pos'])\n",
    "# display(cm_def)\n",
    "# display(cm_df)"
   ]
  },
  {
   "cell_type": "markdown",
   "id": "1e202875-31d9-46e1-bdeb-12184d29615e",
   "metadata": {},
   "source": [
    "## Model x2-2: TFIDF and Random Forest Classifer"
   ]
  },
  {
   "cell_type": "code",
   "execution_count": 17,
   "id": "0832065c-b3de-4fce-84a1-3e64da2588b6",
   "metadata": {},
   "outputs": [
    {
     "name": "stdout",
     "output_type": "stream",
     "text": [
      "Fitting 5 folds for each of 48 candidates, totalling 240 fits\n",
      "{'tf__max_df': 0.75, 'tf__max_features': 10000, 'tf__min_df': 2, 'tf__ngram_range': (1, 2), 'tf__stop_words': 'english'}\n",
      "Cross Val: 0.6835843912413735\n",
      "Training Accuracy: 0.976897689768977\n",
      "Testing Accuracy: 0.7227722772277227\n",
      "Precision: 0.7177914110429447\n",
      "F1 score: 0.758099352051836\n",
      "Recall: 0.8032036613272311\n"
     ]
    }
   ],
   "source": [
    "pipe2_tfrf = Pipeline([\n",
    "                ('tf', TfidfVectorizer()),\n",
    "                ('rf', RandomForestClassifier())\n",
    "])\n",
    "\n",
    "pipe2_tfrf.fit(X_train, y_train)\n",
    "pipe2_tfrf.score(X_train, y_train), pipe2_tfrf.score(X_test, y_test)\n",
    "\n",
    "\n",
    "pipe_x22_params = {\n",
    "                'tf__max_features' : [5000,10_000,15_000],\n",
    "                'tf__min_df': [2, 3],\n",
    "                'tf__max_df': [0.75,0.9],\n",
    "                'tf__ngram_range':[(1, 1), (1, 2)],\n",
    "                'tf__stop_words':['english',None]\n",
    "                \n",
    "}\n",
    "\n",
    "pipe22_gs = GridSearchCV(pipe2_tfrf,\n",
    "                    pipe_x22_params,\n",
    "                    cv =5,\n",
    "                    verbose = 1,\n",
    "                    n_jobs = -1)\n",
    "pipe22_gs.fit(X_train, y_train)\n",
    "\n",
    "print(pipe22_gs.best_params_)\n",
    "print(f'Cross Val: {pipe22_gs.best_score_}')\n",
    "print(f'Training Accuracy: {pipe22_gs.score(X_train, y_train)}')\n",
    "print(f'Testing Accuracy: {pipe22_gs.score(X_test, y_test)}')\n",
    "\n",
    "pipe22_gs_pred = pipe22_gs.predict(X_test)\n",
    "\n",
    "print(f'Precision: {precision_score(y_test, pipe22_gs_pred)}')\n",
    "print(f'F1 score: {f1_score(y_test,pipe22_gs_pred)}')\n",
    "print(f'Recall: {recall_score(y_test,pipe22_gs_pred)}')"
   ]
  },
  {
   "cell_type": "markdown",
   "id": "77cf28f8-55e2-41e6-96b6-81d9d8067f2c",
   "metadata": {},
   "source": [
    "## Model 3: TFIDF and Support Vector Machine Classifier"
   ]
  },
  {
   "cell_type": "code",
   "execution_count": 18,
   "id": "94d03650-4e04-49b2-8e96-f5395a4d3131",
   "metadata": {},
   "outputs": [
    {
     "name": "stdout",
     "output_type": "stream",
     "text": [
      "Fitting 5 folds for each of 48 candidates, totalling 240 fits\n",
      "{'tf__max_df': 0.75, 'tf__max_features': 5000, 'tf__min_df': 2, 'tf__ngram_range': (1, 2), 'tf__stop_words': 'english'}\n",
      "Cross Val: 0.7046229871347023\n",
      "Training Accuracy: 0.9661716171617162\n",
      "Testing Accuracy: 0.7351485148514851\n",
      "Precision: 0.7337526205450734\n",
      "F1 score: 0.7658643326039387\n",
      "Recall: 0.8009153318077803\n"
     ]
    }
   ],
   "source": [
    "pipe3_tfsv = Pipeline([\n",
    "                ('tf', TfidfVectorizer()),\n",
    "                ('svc', SVC())\n",
    "])\n",
    "\n",
    "pipe3_tfsv.fit(X_train, y_train)\n",
    "pipe3_tfsv.score(X_train, y_train), pipe3_tfsv.score(X_test, y_test)\n",
    "\n",
    "\n",
    "pipe_x31_params = {\n",
    "                'tf__max_features' : [5000,10_000,15_000],\n",
    "                'tf__min_df': [2, 3],\n",
    "                'tf__max_df': [0.75,0.9],\n",
    "                'tf__ngram_range':[(1, 1), (1, 2)],\n",
    "                'tf__stop_words':['english',None]\n",
    "                \n",
    "}\n",
    "\n",
    "pipe3_gs = GridSearchCV(pipe3_tfsv,\n",
    "                    pipe_x31_params,\n",
    "                    cv =5,\n",
    "                    verbose = 1,\n",
    "                    n_jobs = -1)\n",
    "pipe3_gs.fit(X_train, y_train)\n",
    "\n",
    "print(pipe3_gs.best_params_)\n",
    "print(f'Cross Val: {pipe3_gs.best_score_}')\n",
    "print(f'Training Accuracy: {pipe3_gs.score(X_train, y_train)}')\n",
    "print(f'Testing Accuracy: {pipe3_gs.score(X_test, y_test)}')\n",
    "\n",
    "pipe3_gs_pred = pipe3_gs.predict(X_test)\n",
    "\n",
    "print(f'Precision: {precision_score(y_test, pipe3_gs_pred)}')\n",
    "print(f'F1 score: {f1_score(y_test,pipe3_gs_pred)}')\n",
    "print(f'Recall: {recall_score(y_test,pipe3_gs_pred)}')"
   ]
  },
  {
   "cell_type": "code",
   "execution_count": 19,
   "id": "41a238dd-6182-47e7-b94d-8bf608bf6554",
   "metadata": {},
   "outputs": [],
   "source": [
    "# y_pred = gs5.predict(X_test)\n",
    "# cm_def = np.array([['True Negative', 'False Positive'],\n",
    "#                 ['False Negative', 'True Positive']])\n",
    "# cm_def = pd.DataFrame(cm_def,columns = ['pred neg', 'pred pos'], index = ['actual neg','actual pos'])\n",
    "# cm = confusion_matrix(y_test, y_pred)\n",
    "# cm_df = pd.DataFrame(cm, columns = ['pred neg', 'pred pos'], index = ['actual neg','actual pos'])\n",
    "# display(cm_def)\n",
    "# display(cm_df)"
   ]
  },
  {
   "cell_type": "markdown",
   "id": "aa7bec04-5372-4d0e-8003-732c37142751",
   "metadata": {},
   "source": [
    "## Model 4: CountVectorizer & Multinomial Naive Bayes"
   ]
  },
  {
   "cell_type": "code",
   "execution_count": 20,
   "id": "7d8f05b8-f68b-4686-8bcd-b4a3becc6d4f",
   "metadata": {},
   "outputs": [
    {
     "name": "stdout",
     "output_type": "stream",
     "text": [
      "Fitting 5 folds for each of 48 candidates, totalling 240 fits\n",
      "{'cvec__max_df': 0.75, 'cvec__max_features': 5000, 'cvec__min_df': 2, 'cvec__ngram_range': (1, 1), 'cvec__stop_words': 'english'}\n",
      "Cross Val: 0.7169992331941722\n",
      "Training Accuracy: 0.8457095709570958\n",
      "Testing Accuracy: 0.7079207920792079\n",
      "Precision: 0.7218543046357616\n",
      "F1 score: 0.7348314606741574\n",
      "Recall: 0.7482837528604119\n"
     ]
    }
   ],
   "source": [
    "pipe4_cvnb = Pipeline([\n",
    "                    ('cvec', CountVectorizer()),\n",
    "                    ('nb', MultinomialNB())\n",
    "])\n",
    "\n",
    "pipe4_cvnb.fit(X_train, y_train)\n",
    "pipe4_cvnb.score(X_train, y_train), pipe4_cvnb.score(X_test, y_test)\n",
    "\n",
    "\n",
    "pipe4_params = {\n",
    "                'cvec__max_features' : [5000,10_000,15_000],\n",
    "                'cvec__min_df': [2, 3],\n",
    "                'cvec__max_df': [0.75,0.9],\n",
    "                'cvec__ngram_range':[(1, 1), (1, 2)],\n",
    "                'cvec__stop_words':['english',None]\n",
    "                \n",
    "}\n",
    "\n",
    "pipe4_gs = GridSearchCV(pipe4_cvnb,\n",
    "                    pipe4_params,\n",
    "                    cv =5,\n",
    "                    verbose = 1,\n",
    "                    n_jobs = -1)\n",
    "pipe4_gs.fit(X_train, y_train)\n",
    "\n",
    "print(pipe4_gs.best_params_)\n",
    "print(f'Cross Val: {pipe4_gs.best_score_}')\n",
    "print(f'Training Accuracy: {pipe4_gs.score(X_train, y_train)}')\n",
    "print(f'Testing Accuracy: {pipe4_gs.score(X_test, y_test)}')\n",
    "\n",
    "pipe4_gs_pred = pipe4_gs.predict(X_test)\n",
    "\n",
    "print(f'Precision: {precision_score(y_test, pipe4_gs_pred)}')\n",
    "print(f'F1 score: {f1_score(y_test,pipe4_gs_pred)}')\n",
    "print(f'Recall: {recall_score(y_test,pipe4_gs_pred)}')"
   ]
  },
  {
   "cell_type": "markdown",
   "id": "c36c5d81-0ca9-4913-a11e-724200a0cfd4",
   "metadata": {},
   "source": [
    "## model Selection\n",
    "\n",
    "### Putting all my models together:\n",
    "* \"F1 is defined as the harmonic mean of a  model's precision and recall.\""
   ]
  },
  {
   "cell_type": "markdown",
   "id": "22546267-f72b-4888-a934-e456700da364",
   "metadata": {},
   "source": [
    "|Model classifier| Training Accuracy Score| Testing Accuracy Score| Cross_val|Precision|Recall|F1|\n",
    "|--|--|--|--|--|--|--|\n",
    "|CountVectorizer & Logistic Regression|0.9303|0.7339|0.6976|0.7313|0.8032|0.7655|\n",
    "|TF - IDF Vectorizer & Logistic Regression|<mark>0.8993</mark>|<mark>0.7500</mark>|<mark>0.7038</mark>|<mark>0.7373</mark>|<mark>0.8352</mark>|<mark>0.7833</mark>|\n",
    "|CountVectorizer & Random Forest Classifier|0.9769|0.7042|0.6749|0.7200|0.7483|0.7306|\n",
    "|TFIDF and Random Forest Classifer|0.9765|0.7154|0.6865|0.7066|0.7986|0.7548|\n",
    "|TFIDF and Support Vector Machine Classifier|0.9662|0.7352|0.7046|0.7338|0.8009|0.7659|\n",
    "|CountVectorizer & Multinomial Naive Bayes|<mark>0.8457</mark>|<mark>0.7079</mark>|<mark>0.7170</mark>|<mark>0.7219</mark>|<mark>0.7483</mark>|<mark>0.7348</mark>|"
   ]
  },
  {
   "cell_type": "markdown",
   "id": "4aef1285-3aed-4622-9c09-7b462fb1aa60",
   "metadata": {},
   "source": [
    "Although the MultinomialNB looks less overfitting, I am choosing TF - IDF Vectorizer & Logistic Regression since it has better accuracy based on my [reference](https://datascience.stackexchange.com/questions/53256/how-to-know-if-a-model-is-overfitting-or-underfitting-by-looking-at-graph):\n",
    "  > Overfitting is easy to diagnose with the accuracy visualizations you have available. If \"Accuracy\" (measured against the training set) is very good and \"Validation Accuracy\" (measured against a validation set) is not as good, then your model is overfitting."
   ]
  },
  {
   "cell_type": "markdown",
   "id": "6ad9024e-6a9e-4922-9689-41004a66793d",
   "metadata": {},
   "source": [
    "### The Model TF - IDF Vectorizer & Logistic Regression is the best model to be selected for this project"
   ]
  },
  {
   "cell_type": "markdown",
   "id": "1acd3f20-2a1b-4dc7-bd38-06f4bec9a5a3",
   "metadata": {},
   "source": [
    "So, putting everything altogether:"
   ]
  },
  {
   "cell_type": "code",
   "execution_count": 21,
   "id": "96e47b5e-6417-4686-9261-42bb18a0fbe1",
   "metadata": {},
   "outputs": [],
   "source": [
    "pipe12_gs_pred = pipe12_gs.predict(X_test)\n"
   ]
  },
  {
   "cell_type": "code",
   "execution_count": 22,
   "id": "b6debf10-d560-46a6-95a4-27a6c1b815b4",
   "metadata": {},
   "outputs": [],
   "source": [
    "model = pipe12_gs.best_estimator_"
   ]
  },
  {
   "cell_type": "code",
   "execution_count": 23,
   "id": "56070d23-e3f0-4270-9c5c-b4d6a6f3a2c8",
   "metadata": {},
   "outputs": [
    {
     "data": {
      "image/png": "[encoded data removed]",
      "text/plain": [
       "<Figure size 432x288 with 2 Axes>"
      ]
     },
     "metadata": {
      "needs_background": "light"
     },
     "output_type": "display_data"
    }
   ],
   "source": [
    "tn, fp, fn, tp = confusion_matrix(y_test, pipe12_gs_pred).ravel()\n",
    "plot_confusion_matrix(model,X_test,y_test, \n",
    "                      display_labels=['CryptoCurrency', 'StockMarket'],\n",
    "                     cmap='PuRd');\n",
    "plt.title('Confusion Matrix for my Model',size=10);\n",
    "plt.tight_layout();\n",
    "#plt.savefig('./imgs/cm_4best_model.png');"
   ]
  },
  {
   "cell_type": "code",
   "execution_count": 24,
   "id": "627581d6-d2a2-470f-a658-43b530d76830",
   "metadata": {},
   "outputs": [
    {
     "data": {
      "text/html": [
       "<div>\n",
       "<style scoped>\n",
       "    .dataframe tbody tr th:only-of-type {\n",
       "        vertical-align: middle;\n",
       "    }\n",
       "\n",
       "    .dataframe tbody tr th {\n",
       "        vertical-align: top;\n",
       "    }\n",
       "\n",
       "    .dataframe thead th {\n",
       "        text-align: right;\n",
       "    }\n",
       "</style>\n",
       "<table border=\"1\" class=\"dataframe\">\n",
       "  <thead>\n",
       "    <tr style=\"text-align: right;\">\n",
       "      <th></th>\n",
       "      <th>pred neg</th>\n",
       "      <th>pred pos</th>\n",
       "    </tr>\n",
       "  </thead>\n",
       "  <tbody>\n",
       "    <tr>\n",
       "      <th>actual neg</th>\n",
       "      <td>True Negative</td>\n",
       "      <td>False Positive</td>\n",
       "    </tr>\n",
       "    <tr>\n",
       "      <th>actual pos</th>\n",
       "      <td>False Negative</td>\n",
       "      <td>True Positive</td>\n",
       "    </tr>\n",
       "  </tbody>\n",
       "</table>\n",
       "</div>"
      ],
      "text/plain": [
       "                  pred neg        pred pos\n",
       "actual neg   True Negative  False Positive\n",
       "actual pos  False Negative   True Positive"
      ]
     },
     "metadata": {},
     "output_type": "display_data"
    },
    {
     "data": {
      "text/html": [
       "<div>\n",
       "<style scoped>\n",
       "    .dataframe tbody tr th:only-of-type {\n",
       "        vertical-align: middle;\n",
       "    }\n",
       "\n",
       "    .dataframe tbody tr th {\n",
       "        vertical-align: top;\n",
       "    }\n",
       "\n",
       "    .dataframe thead th {\n",
       "        text-align: right;\n",
       "    }\n",
       "</style>\n",
       "<table border=\"1\" class=\"dataframe\">\n",
       "  <thead>\n",
       "    <tr style=\"text-align: right;\">\n",
       "      <th></th>\n",
       "      <th>pred neg</th>\n",
       "      <th>pred pos</th>\n",
       "    </tr>\n",
       "  </thead>\n",
       "  <tbody>\n",
       "    <tr>\n",
       "      <th>actual neg</th>\n",
       "      <td>241</td>\n",
       "      <td>130</td>\n",
       "    </tr>\n",
       "    <tr>\n",
       "      <th>actual pos</th>\n",
       "      <td>72</td>\n",
       "      <td>365</td>\n",
       "    </tr>\n",
       "  </tbody>\n",
       "</table>\n",
       "</div>"
      ],
      "text/plain": [
       "            pred neg  pred pos\n",
       "actual neg       241       130\n",
       "actual pos        72       365"
      ]
     },
     "metadata": {},
     "output_type": "display_data"
    }
   ],
   "source": [
    "cm_def = np.array([['True Negative', 'False Positive'],\n",
    "                ['False Negative', 'True Positive']])\n",
    "cm_def = pd.DataFrame(cm_def,columns = ['pred neg', 'pred pos'], index = ['actual neg','actual pos'])\n",
    "cm = confusion_matrix(y_test, pipe12_gs_pred)\n",
    "cm_df = pd.DataFrame(cm, columns = ['pred neg', 'pred pos'], index = ['actual neg','actual pos'])\n",
    "display(cm_def)\n",
    "display(cm_df)"
   ]
  },
  {
   "cell_type": "code",
   "execution_count": 25,
   "id": "61023947-3d36-45de-81e0-b7181881ada5",
   "metadata": {},
   "outputs": [
    {
     "name": "stdout",
     "output_type": "stream",
     "text": [
      "Specificity: 0.6495956873315364\n",
      "Precision: 0.7373737373737373\n",
      "Sensitivty: 0.8352402745995423\n",
      "Accuracy: 0.75\n"
     ]
    }
   ],
   "source": [
    "# Get predictions mannually\n",
    "\n",
    "# Save confusion matrix values\n",
    "tn, fp, fn, tp = confusion_matrix(y_test, pipe12_gs_pred).ravel()\n",
    "\n",
    "# Calculate the specificity and precision\n",
    "\n",
    "spec = tn / (tn + fp)\n",
    "prec = tp / (tp + fp)\n",
    "acc = (tp + tn)/(tp + tn + fp + fn)\n",
    "sens = tp/(tp+fn)\n",
    "\n",
    "print('Specificity:', spec)\n",
    "print('Precision:', prec)\n",
    "print('Sensitivty:', sens)\n",
    "print('Accuracy:', acc)"
   ]
  },
  {
   "cell_type": "markdown",
   "id": "9b5661da-b755-43ff-ae14-3351fc953e6d",
   "metadata": {},
   "source": [
    "Specificity: spec = tn / (tn + fp) = 0.6496\n",
    "\n",
    "⇢ the model predicted approximately 65% of the posts belong to the stock market subreddit\n",
    "\n",
    "⇢ Type I Error ( or FP)  = 1- spec = 0.35\n",
    "\n",
    "* the model incorrectly predicted 35% of the post as cryptocurrency subreddit\n",
    "\n",
    "Sensitivity: sens = tp/(tp+fn) = 0.8352\n",
    "\n",
    "⇢ the model correctly predicted 83.52% of the posts belong to the cryptocurrency subreddit\n",
    "\n",
    "⇢ Type II Error ( or FN)  = 1- sens = 0.1693\n",
    "\n",
    "* the model incorrectly predicted 16.48% of the post as StockMarket subreddit\n",
    "\n",
    "Accuracy: acc = (tp + tn)/(tp + tn + fp + fn) = 0.75\n",
    "\n",
    "⇢ the model predicted 75% of the posts correct\n",
    "i.e., misclassification = 1 - acc = 0.25"
   ]
  },
  {
   "cell_type": "code",
   "execution_count": 26,
   "id": "2c2fcfdf-3577-475c-8764-4d4d8faaf775",
   "metadata": {},
   "outputs": [
    {
     "data": {
      "image/png": "[encoded data removed]",
      "text/plain": [
       "<Figure size 432x288 with 1 Axes>"
      ]
     },
     "metadata": {
      "needs_background": "light"
     },
     "output_type": "display_data"
    }
   ],
   "source": [
    "# ROC curve\n",
    "plot_roc_curve(pipe12_gs, X_test, y_test)\n",
    "\n",
    "# add worst case scenario line\n",
    "plt.plot([0, 1], [0, 1], label=\"baseline\", linestyle=\"--\")\n",
    "\n",
    "# add a legend\n",
    "plt.legend();"
   ]
  },
  {
   "cell_type": "markdown",
   "id": "3582ff7b-7239-4ef2-b46a-1afef89f4de7",
   "metadata": {},
   "source": [
    "I  want see the blue curve to be as close as possible to a square corner, thus making the area under the curve as close to 1 as possible, but it’s far but not bad.\n",
    "\n",
    "False positive rate = type I error \n",
    "\n",
    "1 − specificity\n",
    "\n",
    "= FP / (FP + TN\n",
    "            \n",
    "\n",
    "\n"
   ]
  },
  {
   "cell_type": "markdown",
   "id": "495b0560-68ed-4095-88f4-147ea3583efa",
   "metadata": {},
   "source": [
    "False  negative rate = type II error\n",
    "\n",
    "   = 1 − sensitivity\n",
    "   \n",
    "   = FN / (TP + FN)\n",
    "\n",
    "The ROC curve is a plot of the True Positive Rate (sensitivity) vs. the False Positive Rate (1 - specificity) for all possible decision thresholds.\u000b",
    "\n",
    "\n",
    "* ROC is a plot of signal (True Positive Rate) against noise (False Positive Rate). ... The model performance is determined by looking at the area under the ROC curve (or AUC).\n"
   ]
  },
  {
   "cell_type": "markdown",
   "id": "2f68ef1f-b2a9-4ee0-8bc3-85835bc92f9e",
   "metadata": {},
   "source": [
    "### Conclusions and Recommendations"
   ]
  },
  {
   "cell_type": "markdown",
   "id": "92942aa5-15ed-42ee-90fc-b472d97c100d",
   "metadata": {},
   "source": [
    "\n",
    "* My Best scoring model: Logistic regression, Train / test score: 0.9089/0.7438\n",
    "* Potential improvements: collect more training data, do more data cleaning and preprocessing (remove more stop words i.e., numbers, stem/lemmatize i.e. -ing verbs), more intensive gridsearching to optimize models, try more models (boosting, SVM) \n",
    "\n",
    "**>> Steps Forward**:\n",
    "\n",
    "Getting real-time data using webscraping of the subreddits, make fresh predictions and make Sentiment Analysis.\n"
   ]
  },
  {
   "cell_type": "markdown",
   "id": "987030f6-ccfd-4203-a28e-b3cbfc6c690c",
   "metadata": {},
   "source": [
    "References:\n",
    "\n",
    "* [Is your model overfitting? Or maybe underfitting? An example using a neural network](https://towardsdatascience.com/is-your-model-overfitting-or-maybe-underfitting-an-example-using-a-neural-network-in-python-4faf155398d2)\n",
    "* [How to Identify Overfitting Machine Learning Models in Scikit-Learn](https://machinelearningmastery.com/overfitting-machine-learning-models/)"
   ]
  },
  {
   "cell_type": "code",
   "execution_count": null,
   "id": "6b85bf76-83dc-4532-8a61-8e4ad0c873d2",
   "metadata": {},
   "outputs": [],
   "source": []
  }
 ],
 "metadata": {
  "kernelspec": {
   "display_name": "Python 3",
   "language": "python",
   "name": "python3"
  },
  "language_info": {
   "codemirror_mode": {
    "name": "ipython",
    "version": 3
   },
   "file_extension": ".py",
   "mimetype": "text/x-python",
   "name": "python",
   "nbconvert_exporter": "python",
   "pygments_lexer": "ipython3",
   "version": "3.8.8"
  }
 },
 "nbformat": 4,
 "nbformat_minor": 5
}
