{
 "cells": [
  {
   "cell_type": "markdown",
   "id": "c2a2235a-b7b1-458d-b593-2dd5b6065ecf",
   "metadata": {},
   "source": [
    "## Project 3: Using APIs and NLP for Prediction of Subreddit posts: r/CryptoCurrency and r/StockMarket\n",
    "\n",
    "### Part 1. \n",
    "\n"
   ]
  },
  {
   "cell_type": "markdown",
   "id": "fef08e90-715c-4870-a27a-4fe2adb8a323",
   "metadata": {},
   "source": [
    "Brief Background about Themes in the project:\n",
    "\n",
    "What does **REDDIT** and **SUBREDDIT** MEAN?\n",
    "\n",
    "Reddit is a large community made up of thousands of smaller communities. These smaller, sub-communities within Reddit are also known as \"subreddits\" and are created and moderated by redditors like you.\n",
    "\n",
    "A subreddit is a specific online community, and the posts associated with it, on the social media website Reddit. Subreddits are dedicated to a particular topic that people write about, and they’re denoted by /r/, followed by the subreddit’s name, e.g., /r/gaming ([source](https://www.dictionary.com/e/slang/subreddit/)).\n",
    "\n",
    "This project is based on two subreddits: CryptoCurrency and StockMarket.\n",
    "\n",
    "What is cryptocurrency?\n",
    "\n",
    "Cryptocurrency, sometimes called crypto-currency or crypto, is any form of currency that exists digitally or virtually and uses cryptography to secure transactions. Cryptocurrencies don't have a central issuing or regulating authority, instead using a decentralized system to record transactions and issue new units.\n",
    "\n",
    "Cryptocurrencies run on a distributed public ledger called blockchain, a record of all transactions updated and held by currency holders. There are thousands of cryptocurrencies. Some of the best known include: Bitcoin, Ethereum, Litecoin etc ([source](https://www.kaspersky.com/resource-center/definitions/what-is-cryptocurrency)).\n",
    "\n",
    "What is Stock Market?\n",
    "\n",
    "At the most basic level, a stock is simply a share of ownership in a company or corporation. There are two types of stock: private and public. The New York Stock Exchange (NYSE) and Nasdaq are the world's biggest stock exchanges. Exchanges are the places and systems were stocks are traded ([source](https://www.quickenloans.com/blog/stock-market-101-stock-market-work)).\n",
    "\n",
    "This project has three jupyter notbooks:\n",
    "\n",
    "1. [Data Collection](https://git.generalassemb.ly/sileshith/dsir-111/blob/master/projects/project-03/submission/1-data-collection.ipynb)\n",
    "2. [Data Cleaning and EDA](https://git.generalassemb.ly/sileshith/dsir-111/blob/master/projects/project-03/submission/2-data-cleaning.ipynb)\n",
    "3. [Modeling and Evaluation](https://git.generalassemb.ly/sileshith/dsir-111/blob/master/projects/project-03/submission/3-modeling.ipynb)\n",
    "\n",
    "Performance metrics: accuracy and precision"
   ]
  },
  {
   "cell_type": "markdown",
   "id": "5ecc60b2-bbb8-4c2b-919c-c19d47b96ea6",
   "metadata": {},
   "source": [
    "I chose my two topics among the common 'topics to talk about' in our saily life: stock market and crypto currency trsding/investment. Thus, the subreddits I chose are:\n",
    "\n",
    "*  https://www.reddit.com/r/CryptoCurrency/\n",
    "\n",
    "*  https://www.reddit.com/r/StockMarket/\n",
    "\n",
    "These 2 subreddits have more than <mark>**6 million members**</mark> (4M+ Crypto and 2M+ stock), and for the sake of this project, I will be focusing on accurately classifying posts that belong to the CryptoCurrency subreddit group. Therefore, from a data science perspective the optimization parameter for my model is going to be accuracy."
   ]
  },
  {
   "cell_type": "markdown",
   "id": "3b4974cf-ef2c-4528-b50d-d9500a6a933f",
   "metadata": {},
   "source": [
    "**Problem Statement**\n",
    "\n",
    "With stock and cypto investors in mind, I am using Reddit's API for collecting posts from two subreddits, r/CryptoCurrency and r/StockMarket, and use NLP to train a classifier on which subreddit a given post came from."
   ]
  },
  {
   "cell_type": "markdown",
   "id": "a6327a2b-1239-41f8-bd78-9c8e4bb517a8",
   "metadata": {},
   "source": [
    "**Performance metrics**: accuracy and precision\n",
    "\n",
    "Overview of technical analysis:\n",
    "\n",
    "**Data collection method**: Data Scraping using Reddit API through **pushshift.io** (resources below). I collected 4000 posts, 2000 CryptoCurrency posts, 2063 StockMarket posts, from 30 days\n",
    "\n",
    "Exploratory Data Analysis\n",
    "\n",
    "**Vectorizers used**: CountVectorizer, TfidfVectorizer to create the sparse matrix of features count/frequency respectively, to feed it to the classification model; tokenizer is included in these vectorizers.\n",
    "\n",
    "**Models used/tested**: Random Forest, Logistic Regression, Support Vector Machine, and Multinomial Naive Bayes.\n",
    "\n",
    "**Modeling tools used**: Pipelines, and GridSearch.\n",
    "\n",
    "**Evaluation methods**: accuracy score, cross-validation, precision from classification report, confusion matrix to see False Positives and False Negative, ROC curve to visualize model performance.\n",
    "\n"
   ]
  },
  {
   "cell_type": "markdown",
   "id": "b64dc3b0-9531-4c28-97ad-1016c1d6d602",
   "metadata": {},
   "source": [
    "### Data Collection"
   ]
  },
  {
   "cell_type": "code",
   "execution_count": null,
   "id": "f814e433-3528-4142-bd12-d7858e163e21",
   "metadata": {},
   "outputs": [],
   "source": []
  },
  {
   "cell_type": "code",
   "execution_count": 1,
   "id": "5bcf36d9-1af3-46eb-9799-ce4ed6ec64c9",
   "metadata": {},
   "outputs": [],
   "source": [
    "# importing modules\n",
    "import numpy as np\n",
    "import pandas as pd\n",
    "import requests\n",
    "import time\n",
    "import datetime as dt\n",
    "import json"
   ]
  },
  {
   "cell_type": "markdown",
   "id": "86ff3c7d-d106-43f3-91bb-1da51d0a467f",
   "metadata": {},
   "source": [
    "### Pushshift search function\n"
   ]
  },
  {
   "cell_type": "code",
   "execution_count": 2,
   "id": "5446a048-5427-4d72-b606-73c4cea84d8c",
   "metadata": {},
   "outputs": [],
   "source": [
    "\n",
    "def pushshift(subreddit, post_type='submission', loops=1, size=500, skip=30):\n",
    "# subreddit: str, name of subreddit to search for\n",
    "# post_type: {'submission', 'comment'}, type of post to search for\n",
    "# loops: int, number of times to request posts\n",
    "# size: int, number of posts per request (max 500 per pushshift api guide)\n",
    "# skip: int, number of days back to search in each loop \n",
    "        # increase if too many duplicate posts are returned, decrease if you want to skip fewer posts\n",
    "\n",
    "    # data fields to return for submissions\n",
    "    subfields = ['author', 'author_fullname', 'created_utc', 'id', 'num_comments', 'permalink', \n",
    "                 'score', 'selftext', 'subreddit', 'title', 'url', 'is_self']    \n",
    "    # data fields to return for comments\n",
    "    comfields = ['author', 'author_fullname', 'body', 'created_utc', 'id', 'parent_id', \n",
    "                'permalink', 'score', 'subreddit']\n",
    "    # instantiate list for posts data\n",
    "    list_posts = [] \n",
    "    url_stem = \"https://api.pushshift.io/reddit/search/{}/?subreddit={}&size={}\".format(post_type, subreddit, size)\n",
    "    # skip a minimum of 1 day\n",
    "    after = 1    \n",
    "\n",
    "    # check before requesting data\n",
    "    if post_type not in ['submission', 'comment']:\n",
    "        print(\"post_type must be 'submission' or 'comment'\")\n",
    "        return None\n",
    "    \n",
    "    for i in range(loops):\n",
    "        # add parameters to url to skip posts (after could be used to match up to post at end of previous loop if skip = 0)\n",
    "        url = '{}&after={}d'.format(url_stem, skip * i + after) \n",
    "        # monitor status as loops run\n",
    "        print(i, url)\n",
    "        # get data\n",
    "        res = requests.get(url)\n",
    "        # add dictionaries for posts to list_posts\n",
    "        list_posts.extend(res.json()['data']) \n",
    "        # be polite\n",
    "        time.sleep(1) \n",
    "\n",
    "    # turn list_posts (a list of dictionaries where each dictionary contains data on one post) into a dataframe\n",
    "    df_posts = pd.DataFrame.from_dict(list_posts) \n",
    "\n",
    "    # filter fields for submissions or comments\n",
    "    if post_type == 'submission':\n",
    "        df_posts = df_posts[subfields]\n",
    "    elif post_type == 'comment':\n",
    "        df_posts = df_posts[comfields]  \n",
    "#     else:\n",
    "#         print(\"post_type must be 'submission' or 'comment'\")\n",
    "#         return None\n",
    "\n",
    "    # drop any duplicates\n",
    "    df_posts.drop_duplicates(inplace=True)\n",
    "    # add a field identifying submissions or comments\n",
    "    df_posts['post_type'] = post_type\n",
    "    \n",
    "    return df_posts\n",
    "\n",
    "#this code is adopted from:  https://github.com/scolnik/dsi-project-03-reddit\n",
    "\n"
   ]
  },
  {
   "cell_type": "markdown",
   "id": "9c98a6cf-2fe2-4eb5-a096-91f71d0b6e8d",
   "metadata": {},
   "source": [
    "**Get Reddit posts and save to csv's**\n"
   ]
  },
  {
   "cell_type": "code",
   "execution_count": 3,
   "id": "cb50472f-8ba9-4a7c-a7f5-5ce76907c000",
   "metadata": {},
   "outputs": [
    {
     "name": "stdout",
     "output_type": "stream",
     "text": [
      "0 https://api.pushshift.io/reddit/search/submission/?subreddit=cryptocurrency&size=500&after=1d\n",
      "1 https://api.pushshift.io/reddit/search/submission/?subreddit=cryptocurrency&size=500&after=2d\n",
      "2 https://api.pushshift.io/reddit/search/submission/?subreddit=cryptocurrency&size=500&after=3d\n",
      "3 https://api.pushshift.io/reddit/search/submission/?subreddit=cryptocurrency&size=500&after=4d\n",
      "4 https://api.pushshift.io/reddit/search/submission/?subreddit=cryptocurrency&size=500&after=5d\n",
      "5 https://api.pushshift.io/reddit/search/submission/?subreddit=cryptocurrency&size=500&after=6d\n",
      "6 https://api.pushshift.io/reddit/search/submission/?subreddit=cryptocurrency&size=500&after=7d\n",
      "7 https://api.pushshift.io/reddit/search/submission/?subreddit=cryptocurrency&size=500&after=8d\n",
      "8 https://api.pushshift.io/reddit/search/submission/?subreddit=cryptocurrency&size=500&after=9d\n",
      "9 https://api.pushshift.io/reddit/search/submission/?subreddit=cryptocurrency&size=500&after=10d\n",
      "10 https://api.pushshift.io/reddit/search/submission/?subreddit=cryptocurrency&size=500&after=11d\n",
      "11 https://api.pushshift.io/reddit/search/submission/?subreddit=cryptocurrency&size=500&after=12d\n",
      "12 https://api.pushshift.io/reddit/search/submission/?subreddit=cryptocurrency&size=500&after=13d\n",
      "13 https://api.pushshift.io/reddit/search/submission/?subreddit=cryptocurrency&size=500&after=14d\n",
      "14 https://api.pushshift.io/reddit/search/submission/?subreddit=cryptocurrency&size=500&after=15d\n",
      "15 https://api.pushshift.io/reddit/search/submission/?subreddit=cryptocurrency&size=500&after=16d\n",
      "16 https://api.pushshift.io/reddit/search/submission/?subreddit=cryptocurrency&size=500&after=17d\n",
      "17 https://api.pushshift.io/reddit/search/submission/?subreddit=cryptocurrency&size=500&after=18d\n",
      "18 https://api.pushshift.io/reddit/search/submission/?subreddit=cryptocurrency&size=500&after=19d\n",
      "19 https://api.pushshift.io/reddit/search/submission/?subreddit=cryptocurrency&size=500&after=20d\n",
      "Cryptocurrency size:  (2000, 13)\n"
     ]
    }
   ],
   "source": [
    "crypto_subs = pushshift('cryptocurrency', post_type='submission', loops=20, skip=1)\n",
    "print('Cryptocurrency size: ', crypto_subs.shape)\n",
    "crypto_subs.to_csv('crypto_subs_pushshift.csv')"
   ]
  },
  {
   "cell_type": "code",
   "execution_count": 4,
   "id": "bd43a2d4-4d0c-446f-925f-f5290e60b5f6",
   "metadata": {},
   "outputs": [
    {
     "name": "stdout",
     "output_type": "stream",
     "text": [
      "0 https://api.pushshift.io/reddit/search/submission/?subreddit=StockMarket&size=500&after=1d\n",
      "1 https://api.pushshift.io/reddit/search/submission/?subreddit=StockMarket&size=500&after=31d\n",
      "2 https://api.pushshift.io/reddit/search/submission/?subreddit=StockMarket&size=500&after=61d\n",
      "3 https://api.pushshift.io/reddit/search/submission/?subreddit=StockMarket&size=500&after=91d\n",
      "4 https://api.pushshift.io/reddit/search/submission/?subreddit=StockMarket&size=500&after=121d\n",
      "5 https://api.pushshift.io/reddit/search/submission/?subreddit=StockMarket&size=500&after=151d\n",
      "6 https://api.pushshift.io/reddit/search/submission/?subreddit=StockMarket&size=500&after=181d\n",
      "7 https://api.pushshift.io/reddit/search/submission/?subreddit=StockMarket&size=500&after=211d\n",
      "8 https://api.pushshift.io/reddit/search/submission/?subreddit=StockMarket&size=500&after=241d\n",
      "9 https://api.pushshift.io/reddit/search/submission/?subreddit=StockMarket&size=500&after=271d\n",
      "10 https://api.pushshift.io/reddit/search/submission/?subreddit=StockMarket&size=500&after=301d\n",
      "11 https://api.pushshift.io/reddit/search/submission/?subreddit=StockMarket&size=500&after=331d\n",
      "12 https://api.pushshift.io/reddit/search/submission/?subreddit=StockMarket&size=500&after=361d\n",
      "13 https://api.pushshift.io/reddit/search/submission/?subreddit=StockMarket&size=500&after=391d\n",
      "14 https://api.pushshift.io/reddit/search/submission/?subreddit=StockMarket&size=500&after=421d\n",
      "15 https://api.pushshift.io/reddit/search/submission/?subreddit=StockMarket&size=500&after=451d\n",
      "16 https://api.pushshift.io/reddit/search/submission/?subreddit=StockMarket&size=500&after=481d\n",
      "17 https://api.pushshift.io/reddit/search/submission/?subreddit=StockMarket&size=500&after=511d\n",
      "18 https://api.pushshift.io/reddit/search/submission/?subreddit=StockMarket&size=500&after=541d\n",
      "19 https://api.pushshift.io/reddit/search/submission/?subreddit=StockMarket&size=500&after=571d\n",
      "20 https://api.pushshift.io/reddit/search/submission/?subreddit=StockMarket&size=500&after=601d\n",
      "StockMarket size:  (2060, 13)\n"
     ]
    }
   ],
   "source": [
    "StockMarket_subs = pushshift('StockMarket', post_type='submission', loops=21, skip=30)\n",
    "print('StockMarket size: ', StockMarket_subs.shape)\n",
    "StockMarket_subs.to_csv('StockMarket_subs_pushshift.csv')"
   ]
  },
  {
   "cell_type": "code",
   "execution_count": 5,
   "id": "65d6255a-1ea5-455c-b259-e838fdc5fcee",
   "metadata": {},
   "outputs": [
    {
     "name": "stdout",
     "output_type": "stream",
     "text": [
      "0 https://api.pushshift.io/reddit/search/comment/?subreddit=cryptocurrency&size=500&after=1d\n",
      "1 https://api.pushshift.io/reddit/search/comment/?subreddit=cryptocurrency&size=500&after=2d\n",
      "2 https://api.pushshift.io/reddit/search/comment/?subreddit=cryptocurrency&size=500&after=3d\n",
      "3 https://api.pushshift.io/reddit/search/comment/?subreddit=cryptocurrency&size=500&after=4d\n",
      "4 https://api.pushshift.io/reddit/search/comment/?subreddit=cryptocurrency&size=500&after=5d\n",
      "5 https://api.pushshift.io/reddit/search/comment/?subreddit=cryptocurrency&size=500&after=6d\n",
      "6 https://api.pushshift.io/reddit/search/comment/?subreddit=cryptocurrency&size=500&after=7d\n",
      "7 https://api.pushshift.io/reddit/search/comment/?subreddit=cryptocurrency&size=500&after=8d\n",
      "8 https://api.pushshift.io/reddit/search/comment/?subreddit=cryptocurrency&size=500&after=9d\n",
      "9 https://api.pushshift.io/reddit/search/comment/?subreddit=cryptocurrency&size=500&after=10d\n",
      "10 https://api.pushshift.io/reddit/search/comment/?subreddit=cryptocurrency&size=500&after=11d\n",
      "11 https://api.pushshift.io/reddit/search/comment/?subreddit=cryptocurrency&size=500&after=12d\n",
      "12 https://api.pushshift.io/reddit/search/comment/?subreddit=cryptocurrency&size=500&after=13d\n",
      "13 https://api.pushshift.io/reddit/search/comment/?subreddit=cryptocurrency&size=500&after=14d\n",
      "14 https://api.pushshift.io/reddit/search/comment/?subreddit=cryptocurrency&size=500&after=15d\n",
      "15 https://api.pushshift.io/reddit/search/comment/?subreddit=cryptocurrency&size=500&after=16d\n",
      "16 https://api.pushshift.io/reddit/search/comment/?subreddit=cryptocurrency&size=500&after=17d\n",
      "17 https://api.pushshift.io/reddit/search/comment/?subreddit=cryptocurrency&size=500&after=18d\n",
      "18 https://api.pushshift.io/reddit/search/comment/?subreddit=cryptocurrency&size=500&after=19d\n",
      "19 https://api.pushshift.io/reddit/search/comment/?subreddit=cryptocurrency&size=500&after=20d\n",
      "Crypto comments size:  (2000, 10)\n"
     ]
    }
   ],
   "source": [
    "# comments about crypto\n",
    "crypto_commnts = pushshift('cryptocurrency', post_type='comment', loops=20, skip=1)\n",
    "print('Crypto comments size: ', crypto_commnts.shape)\n",
    "crypto_commnts.to_csv('crypto_commnts_pushshift.csv')"
   ]
  },
  {
   "cell_type": "code",
   "execution_count": 6,
   "id": "f0caa7b7-ce30-4acd-9ff5-4a6ef6f45fe0",
   "metadata": {},
   "outputs": [
    {
     "name": "stdout",
     "output_type": "stream",
     "text": [
      "0 https://api.pushshift.io/reddit/search/comment/?subreddit=StockMarket&size=500&after=1d\n",
      "1 https://api.pushshift.io/reddit/search/comment/?subreddit=StockMarket&size=500&after=2d\n",
      "2 https://api.pushshift.io/reddit/search/comment/?subreddit=StockMarket&size=500&after=3d\n",
      "3 https://api.pushshift.io/reddit/search/comment/?subreddit=StockMarket&size=500&after=4d\n",
      "4 https://api.pushshift.io/reddit/search/comment/?subreddit=StockMarket&size=500&after=5d\n",
      "5 https://api.pushshift.io/reddit/search/comment/?subreddit=StockMarket&size=500&after=6d\n",
      "6 https://api.pushshift.io/reddit/search/comment/?subreddit=StockMarket&size=500&after=7d\n",
      "7 https://api.pushshift.io/reddit/search/comment/?subreddit=StockMarket&size=500&after=8d\n",
      "8 https://api.pushshift.io/reddit/search/comment/?subreddit=StockMarket&size=500&after=9d\n",
      "9 https://api.pushshift.io/reddit/search/comment/?subreddit=StockMarket&size=500&after=10d\n",
      "10 https://api.pushshift.io/reddit/search/comment/?subreddit=StockMarket&size=500&after=11d\n",
      "11 https://api.pushshift.io/reddit/search/comment/?subreddit=StockMarket&size=500&after=12d\n",
      "12 https://api.pushshift.io/reddit/search/comment/?subreddit=StockMarket&size=500&after=13d\n",
      "13 https://api.pushshift.io/reddit/search/comment/?subreddit=StockMarket&size=500&after=14d\n",
      "14 https://api.pushshift.io/reddit/search/comment/?subreddit=StockMarket&size=500&after=15d\n",
      "15 https://api.pushshift.io/reddit/search/comment/?subreddit=StockMarket&size=500&after=16d\n",
      "16 https://api.pushshift.io/reddit/search/comment/?subreddit=StockMarket&size=500&after=17d\n",
      "17 https://api.pushshift.io/reddit/search/comment/?subreddit=StockMarket&size=500&after=18d\n",
      "18 https://api.pushshift.io/reddit/search/comment/?subreddit=StockMarket&size=500&after=19d\n",
      "19 https://api.pushshift.io/reddit/search/comment/?subreddit=StockMarket&size=500&after=20d\n",
      "StockMarket comment size:  (1999, 10)\n"
     ]
    }
   ],
   "source": [
    "# comments about books\n",
    "StockMarket_commnts = pushshift('StockMarket', post_type='comment', loops=20, skip=1)\n",
    "print('StockMarket comment size: ', StockMarket_commnts.shape)\n",
    "StockMarket_commnts.to_csv('StockMarket_commnts_pushshift.csv')"
   ]
  },
  {
   "cell_type": "markdown",
   "id": "914170d3-9632-484c-895a-047291b286eb",
   "metadata": {},
   "source": [
    "#### Create csv for analysis of comment body text only"
   ]
  },
  {
   "cell_type": "code",
   "execution_count": 7,
   "id": "7422f531-9944-4b5a-889a-2c1643e913db",
   "metadata": {},
   "outputs": [],
   "source": [
    "df = pd.concat([crypto_commnts[['body', 'subreddit']], StockMarket_commnts[['body', 'subreddit']]], ignore_index=True)\n",
    "df.to_csv('comments.csv', index=False)"
   ]
  },
  {
   "cell_type": "code",
   "execution_count": null,
   "id": "d2bab2c1-3b2f-4e88-af8f-157e7e92b3df",
   "metadata": {},
   "outputs": [],
   "source": []
  }
 ],
 "metadata": {
  "kernelspec": {
   "display_name": "Python 3",
   "language": "python",
   "name": "python3"
  },
  "language_info": {
   "codemirror_mode": {
    "name": "ipython",
    "version": 3
   },
   "file_extension": ".py",
   "mimetype": "text/x-python",
   "name": "python",
   "nbconvert_exporter": "python",
   "pygments_lexer": "ipython3",
   "version": "3.8.8"
  }
 },
 "nbformat": 4,
 "nbformat_minor": 5
}
