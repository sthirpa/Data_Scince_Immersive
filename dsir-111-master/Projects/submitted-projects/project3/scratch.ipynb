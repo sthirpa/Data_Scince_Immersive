{
 "cells": [
  {
   "cell_type": "markdown",
   "id": "1c3c3c65-dbc9-478d-971e-20963c9c1972",
   "metadata": {},
   "source": [
    "## Imports, and Primary Set-Up"
   ]
  },
  {
   "cell_type": "code",
   "execution_count": 1,
   "id": "7debe9dd-3041-4d15-b47f-0ff6b3e44c6a",
   "metadata": {},
   "outputs": [],
   "source": [
    "import requests\n",
    "import json\n",
    "import pandas as pd\n",
    "from time import sleep\n",
    "\n",
    "from sklearn.feature_extraction.text import CountVectorizer, TfidfVectorizer, ENGLISH_STOP_WORDS\n",
    "from sklearn.linear_model import LogisticRegression\n",
    "from sklearn.naive_bayes import MultinomialNB\n",
    "from sklearn.model_selection import GridSearchCV\n",
    "from sklearn.pipeline import Pipeline\n",
    "from sklearn.model_selection import train_test_split, cross_val_score\n",
    "from sklearn.metrics import confusion_matrix, classification_report, accuracy_score\n",
    "from sklearn.ensemble import RandomForestClassifier"
   ]
  },
  {
   "cell_type": "markdown",
   "id": "df7acec8-055e-47ce-95c7-7f728ee3737d",
   "metadata": {},
   "source": [
    "## Testing out the links:"
   ]
  },
  {
   "cell_type": "code",
   "execution_count": 2,
   "id": "db702820-242f-46f5-b28d-3ff3c7df3ef2",
   "metadata": {},
   "outputs": [],
   "source": [
    "crypto = 'https://api.pushshift.io/reddit/search/submission/?subreddit=CryptoCurrency&size=100'\n",
    "stock = 'https://api.pushshift.io/reddit/search/submission/?subreddit=StockMarket&size=100'\n",
    "\n",
    "res_crypto = requests.get(crypto)\n",
    "sleep(1)\n",
    "res_stock = requests.get(stock)"
   ]
  },
  {
   "cell_type": "code",
   "execution_count": 3,
   "id": "46c88e68-5c4a-4f42-b096-cc9f84532cb3",
   "metadata": {},
   "outputs": [
    {
     "name": "stdout",
     "output_type": "stream",
     "text": [
      "200\n",
      "200\n"
     ]
    }
   ],
   "source": [
    "# making sure both urls are fine\n",
    "print(res_crypto.status_code)\n",
    "print(res_stock.status_code)"
   ]
  },
  {
   "cell_type": "code",
   "execution_count": 4,
   "id": "c0e73e6b-46ca-4275-8fa8-6f046738bb41",
   "metadata": {},
   "outputs": [],
   "source": [
    "# getting the dictionaries\n",
    "crypto_dict = res_crypto.json()\n",
    "stock_dict = res_stock.json()"
   ]
  },
  {
   "cell_type": "code",
   "execution_count": 5,
   "id": "40a9e3d7-494c-408d-a0b2-4631d4352a37",
   "metadata": {},
   "outputs": [
    {
     "name": "stdout",
     "output_type": "stream",
     "text": [
      "dict_keys(['data'])\n",
      "dict_keys(['data'])\n"
     ]
    }
   ],
   "source": [
    "# examining the dictionaries:\n",
    "print(crypto_dict.keys())\n",
    "print(stock_dict.keys())"
   ]
  },
  {
   "cell_type": "code",
   "execution_count": 6,
   "id": "91c53892-62da-4259-a370-7772843b82f1",
   "metadata": {},
   "outputs": [
    {
     "data": {
      "text/plain": [
       "100"
      ]
     },
     "execution_count": 6,
     "metadata": {},
     "output_type": "execute_result"
    }
   ],
   "source": [
    "## Exploring the dictionaries: \n",
    "crypto_dict['data'][0]\n",
    "crypto_dict['data'][0].keys()\n",
    "len(crypto_dict['data'])"
   ]
  },
  {
   "cell_type": "code",
   "execution_count": 7,
   "id": "1cfcea88-00a5-44e6-b914-ce4b52b4371b",
   "metadata": {},
   "outputs": [
    {
     "data": {
      "text/plain": [
       "''"
      ]
     },
     "execution_count": 7,
     "metadata": {},
     "output_type": "execute_result"
    }
   ],
   "source": [
    "crypto_dict['data'][5]['selftext']\n"
   ]
  },
  {
   "cell_type": "code",
   "execution_count": 17,
   "id": "9cce4bb4-1df1-4250-9b4f-e27c184e70df",
   "metadata": {},
   "outputs": [
    {
     "data": {
      "text/plain": [
       "''"
      ]
     },
     "execution_count": 17,
     "metadata": {},
     "output_type": "execute_result"
    }
   ],
   "source": [
    "stock_dict['data'][5]['selftext']"
   ]
  },
  {
   "cell_type": "markdown",
   "id": "8660c88d-eb2b-4a5d-b40b-4bab1fbda9de",
   "metadata": {},
   "source": [
    "## Features and Target Variables\n",
    "\n",
    "Posts (data) are in crypto_dict['data'][i]['selftext], and target variable (class) is crypto_dict['data'][i]['subreddit']"
   ]
  },
  {
   "cell_type": "code",
   "execution_count": 8,
   "id": "c2a3a070-704e-47e6-af30-cd8187454b0c",
   "metadata": {},
   "outputs": [],
   "source": [
    "crypto_data = []\n",
    "crypto_target = []\n",
    "for i,_ in enumerate(crypto_dict['data']):\n",
    "    if crypto_dict['data'][i]['selftext'] !='':\n",
    "        crypto_data.append(crypto_dict['data'][i]['selftext'])\n",
    "        crypto_target.append(crypto_dict['data'][i]['subreddit'])\n",
    "crypto = pd.DataFrame(zip(crypto_data, crypto_target), columns = ['post', 'topic'])"
   ]
  },
  {
   "cell_type": "code",
   "execution_count": 10,
   "id": "e7ce3dd2-ba88-4350-9c43-28b312692954",
   "metadata": {},
   "outputs": [],
   "source": [
    "stock_data = []\n",
    "stock_target = []\n",
    "for i,_ in enumerate(stock_dict['data']):\n",
    "    if stock_dict['data'][i]['selftext']!='':\n",
    "        stock_data.append(stock_dict['data'][i]['selftext'])\n",
    "        stock_target.append(stock_dict['data'][i]['subreddit'])\n",
    "stock = pd.DataFrame(zip(stock_data, stock_target), columns = ['post','topic'])"
   ]
  },
  {
   "cell_type": "code",
   "execution_count": 11,
   "id": "16c77017-45fd-47e7-886e-190f63525691",
   "metadata": {},
   "outputs": [
    {
     "data": {
      "text/plain": [
       "(112, 2)"
      ]
     },
     "execution_count": 11,
     "metadata": {},
     "output_type": "execute_result"
    }
   ],
   "source": [
    "#merging the two dataframes together: \n",
    "df = pd.concat([crypto, stock], axis = 0, sort = False)\n",
    "df.shape"
   ]
  },
  {
   "cell_type": "code",
   "execution_count": 12,
   "id": "8db8327f-fe90-47fa-8b15-761786aaebae",
   "metadata": {},
   "outputs": [],
   "source": [
    "# more cleaning, dropping rows with '[removed]' posts \n",
    "removed_posts_indices = df.loc[df['post']=='[removed]', :].index\n",
    "df.drop(removed_posts_indices, inplace = True)"
   ]
  },
  {
   "cell_type": "markdown",
   "id": "0dad20d2-633e-42fd-a426-f50090309eba",
   "metadata": {},
   "source": [
    "### Collecting a 100 posts from 60 days ago till now, in reverse order:"
   ]
  },
  {
   "cell_type": "code",
   "execution_count": 13,
   "id": "109b4e67-2c13-4374-a523-6f6bf041e27c",
   "metadata": {},
   "outputs": [],
   "source": [
    "base_url_cook = 'https://api.pushshift.io/reddit/search/submission/?subreddit=CryptoCurrency&size=100&before={}d'\n",
    "urls_cook = [base_url_cook.format(i) for i in range(60,-1,-1)] # generate the urls\n",
    "# the first -1 is the stopping point, coz range is exclusive to the endpoint. \n",
    "# the second -1 is to go in reverse on the range.\n",
    "base_url_nut = 'https://api.pushshift.io/reddit/search/submission/?subreddit=StockMarket&size=100&before={}d'\n",
    "urls_nut = [base_url_nut.format(i) for i in range(60,-1,-1)]"
   ]
  },
  {
   "cell_type": "code",
   "execution_count": 14,
   "id": "2b55bef0-0cb0-4abc-b770-3fc84a76c0be",
   "metadata": {},
   "outputs": [],
   "source": [
    "pages_crypto = []\n",
    "for u in urls_cook:\n",
    "    sleep(1)\n",
    "    pages_crypto.append(requests.get(u).json()['data'])"
   ]
  },
  {
   "cell_type": "code",
   "execution_count": 15,
   "id": "f37460b0-8deb-464e-acfb-c43f549cb41c",
   "metadata": {},
   "outputs": [],
   "source": [
    "pages_stock = []\n",
    "for u in urls_nut:\n",
    "    sleep(1)\n",
    "    pages_stock.append(requests.get(u).json()['data'])"
   ]
  },
  {
   "cell_type": "code",
   "execution_count": 18,
   "id": "0b9abdf0-b5ff-4946-9298-201eaaf28598",
   "metadata": {},
   "outputs": [
    {
     "ename": "KeyError",
     "evalue": "'selftext'",
     "output_type": "error",
     "traceback": [
      "\u001b[0;31m---------------------------------------------------------------------------\u001b[0m",
      "\u001b[0;31mKeyError\u001b[0m                                  Traceback (most recent call last)",
      "\u001b[0;32m<ipython-input-18-a6e36f0d09f3>\u001b[0m in \u001b[0;36m<module>\u001b[0;34m\u001b[0m\n\u001b[1;32m      6\u001b[0m \u001b[0;32mfor\u001b[0m \u001b[0mp\u001b[0m \u001b[0;32min\u001b[0m \u001b[0mpages_crypto\u001b[0m\u001b[0;34m:\u001b[0m\u001b[0;34m\u001b[0m\u001b[0;34m\u001b[0m\u001b[0m\n\u001b[1;32m      7\u001b[0m     \u001b[0;32mfor\u001b[0m \u001b[0mpost\u001b[0m \u001b[0;32min\u001b[0m \u001b[0mp\u001b[0m\u001b[0;34m:\u001b[0m\u001b[0;34m\u001b[0m\u001b[0;34m\u001b[0m\u001b[0m\n\u001b[0;32m----> 8\u001b[0;31m         \u001b[0;32mif\u001b[0m \u001b[0mpost\u001b[0m\u001b[0;34m[\u001b[0m\u001b[0;34m'selftext'\u001b[0m\u001b[0;34m]\u001b[0m\u001b[0;34m!=\u001b[0m\u001b[0;34m''\u001b[0m\u001b[0;34m:\u001b[0m\u001b[0;34m\u001b[0m\u001b[0;34m\u001b[0m\u001b[0m\n\u001b[0m\u001b[1;32m      9\u001b[0m             \u001b[0mcrypto_data\u001b[0m\u001b[0;34m.\u001b[0m\u001b[0mappend\u001b[0m\u001b[0;34m(\u001b[0m\u001b[0mpost\u001b[0m\u001b[0;34m[\u001b[0m\u001b[0;34m'selftext'\u001b[0m\u001b[0;34m]\u001b[0m\u001b[0;34m)\u001b[0m\u001b[0;34m\u001b[0m\u001b[0;34m\u001b[0m\u001b[0m\n\u001b[1;32m     10\u001b[0m             \u001b[0mcrypto_target\u001b[0m\u001b[0;34m.\u001b[0m\u001b[0mappend\u001b[0m\u001b[0;34m(\u001b[0m\u001b[0mpost\u001b[0m\u001b[0;34m[\u001b[0m\u001b[0;34m'subreddit'\u001b[0m\u001b[0;34m]\u001b[0m\u001b[0;34m)\u001b[0m\u001b[0;34m\u001b[0m\u001b[0;34m\u001b[0m\u001b[0m\n",
      "\u001b[0;31mKeyError\u001b[0m: 'selftext'"
     ]
    }
   ],
   "source": [
    "crypto_data = []\n",
    "stock_data = []\n",
    "crypto_target = []\n",
    "stock_target = []\n",
    "\n",
    "for p in pages_crypto: \n",
    "    for post in p:\n",
    "        if post['selftext']!='':\n",
    "            crypto_data.append(post['selftext'])\n",
    "            crypto_target.append(post['subreddit'])"
   ]
  },
  {
   "cell_type": "code",
   "execution_count": 19,
   "id": "b0f23bbb-d1fc-4b00-a58f-55df967f8859",
   "metadata": {},
   "outputs": [],
   "source": [
    "for p in pages_stock:\n",
    "    count2 = 0\n",
    "    for post in p:\n",
    "        try: #because one post doesn't have a 'selftext'. nut_data stops at 116. therefore I need try/except\n",
    "            if post['selftext']!='':\n",
    "                stock_data.append(post['selftext'])\n",
    "                stock_target.append(post['subreddit'])\n",
    "        except: \n",
    "            stock_data.append('[removed]') # i want to add what I want to drop later on. some posts have '[removed]' in them\n",
    "            stock_target.append('nutrition')"
   ]
  },
  {
   "cell_type": "code",
   "execution_count": null,
   "id": "a9d61c27-c92a-466e-a780-c2d94202e5eb",
   "metadata": {},
   "outputs": [],
   "source": []
  }
 ],
 "metadata": {
  "kernelspec": {
   "display_name": "Python 3",
   "language": "python",
   "name": "python3"
  },
  "language_info": {
   "codemirror_mode": {
    "name": "ipython",
    "version": 3
   },
   "file_extension": ".py",
   "mimetype": "text/x-python",
   "name": "python",
   "nbconvert_exporter": "python",
   "pygments_lexer": "ipython3",
   "version": "3.8.8"
  }
 },
 "nbformat": 4,
 "nbformat_minor": 5
}
