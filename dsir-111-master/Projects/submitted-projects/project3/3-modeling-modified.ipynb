{
 "cells": [
  {
   "cell_type": "markdown",
   "id": "52847e15-cf1c-4027-9126-482d3f58943c",
   "metadata": {},
   "source": [
    "## Part 3: Modeling and Model Selection"
   ]
  },
  {
   "cell_type": "markdown",
   "id": "4a18fba7-7eaf-439e-81dd-ac82f030d607",
   "metadata": {},
   "source": [
    "I am trying to compare the <mark>*Random Forest, Logistic Regression, Support Vector Machine, and Multinomial Naive Bayes*</mark> models and will select the one with best accuracy score."
   ]
  },
  {
   "cell_type": "code",
   "execution_count": 1,
   "id": "84a05e61-291e-484b-9992-cfb38aeef524",
   "metadata": {},
   "outputs": [],
   "source": [
    "import numpy as np\n",
    "import pandas as pd\n",
    "import matplotlib.pyplot as plt\n",
    "from sklearn.feature_extraction.text import CountVectorizer, TfidfVectorizer\n",
    "from sklearn.pipeline import Pipeline\n",
    "from sklearn.linear_model import LogisticRegression\n",
    "from sklearn.naive_bayes import MultinomialNB\n",
    "from sklearn.model_selection import train_test_split, GridSearchCV\n",
    "from sklearn.ensemble import BaggingClassifier, ExtraTreesClassifier, RandomForestClassifier, GradientBoostingClassifier, AdaBoostClassifier\n",
    "from sklearn import metrics\n",
    "from sklearn.metrics import confusion_matrix, plot_confusion_matrix, plot_roc_curve, roc_auc_score, recall_score, precision_score, f1_score\n",
    "from sklearn.svm import SVC\n"
   ]
  },
  {
   "cell_type": "code",
   "execution_count": 2,
   "id": "0c24dadc-5a6b-4794-a77f-572fafdedad3",
   "metadata": {},
   "outputs": [
    {
     "data": {
      "text/html": [
       "<div>\n",
       "<style scoped>\n",
       "    .dataframe tbody tr th:only-of-type {\n",
       "        vertical-align: middle;\n",
       "    }\n",
       "\n",
       "    .dataframe tbody tr th {\n",
       "        vertical-align: top;\n",
       "    }\n",
       "\n",
       "    .dataframe thead th {\n",
       "        text-align: right;\n",
       "    }\n",
       "</style>\n",
       "<table border=\"1\" class=\"dataframe\">\n",
       "  <thead>\n",
       "    <tr style=\"text-align: right;\">\n",
       "      <th></th>\n",
       "      <th>body</th>\n",
       "      <th>length</th>\n",
       "      <th>word_count</th>\n",
       "      <th>target</th>\n",
       "    </tr>\n",
       "  </thead>\n",
       "  <tbody>\n",
       "    <tr>\n",
       "      <th>0</th>\n",
       "      <td>typically hosting centralized service and mere...</td>\n",
       "      <td>186</td>\n",
       "      <td>30</td>\n",
       "      <td>1</td>\n",
       "    </tr>\n",
       "    <tr>\n",
       "      <th>1</th>\n",
       "      <td>yup feast for</td>\n",
       "      <td>25</td>\n",
       "      <td>6</td>\n",
       "      <td>1</td>\n",
       "    </tr>\n",
       "    <tr>\n",
       "      <th>2</th>\n",
       "      <td>4000 you kidding right the floor bored ape lik...</td>\n",
       "      <td>68</td>\n",
       "      <td>13</td>\n",
       "      <td>1</td>\n",
       "    </tr>\n",
       "    <tr>\n",
       "      <th>3</th>\n",
       "      <td>prognosis negative someone dropped fucking jun...</td>\n",
       "      <td>72</td>\n",
       "      <td>11</td>\n",
       "      <td>1</td>\n",
       "    </tr>\n",
       "    <tr>\n",
       "      <th>4</th>\n",
       "      <td>nano but for monkey</td>\n",
       "      <td>22</td>\n",
       "      <td>4</td>\n",
       "      <td>1</td>\n",
       "    </tr>\n",
       "  </tbody>\n",
       "</table>\n",
       "</div>"
      ],
      "text/plain": [
       "                                                body  length  word_count  \\\n",
       "0  typically hosting centralized service and mere...     186          30   \n",
       "1                                     yup feast for       25           6   \n",
       "2  4000 you kidding right the floor bored ape lik...      68          13   \n",
       "3  prognosis negative someone dropped fucking jun...      72          11   \n",
       "4                               nano but for monkey       22           4   \n",
       "\n",
       "   target  \n",
       "0       1  \n",
       "1       1  \n",
       "2       1  \n",
       "3       1  \n",
       "4       1  "
      ]
     },
     "execution_count": 2,
     "metadata": {},
     "output_type": "execute_result"
    }
   ],
   "source": [
    "# import cleaned comments data from csv\n",
    "df = pd.read_csv('./submision/comments_clean.csv')\n",
    "df.head()"
   ]
  },
  {
   "cell_type": "code",
   "execution_count": 3,
   "id": "2bb27bc2-983e-4522-b28b-0ae0e216fdcd",
   "metadata": {},
   "outputs": [
    {
     "name": "stdout",
     "output_type": "stream",
     "text": [
      "<class 'pandas.core.frame.DataFrame'>\n",
      "RangeIndex: 3232 entries, 0 to 3231\n",
      "Data columns (total 4 columns):\n",
      " #   Column      Non-Null Count  Dtype \n",
      "---  ------      --------------  ----- \n",
      " 0   body        3232 non-null   object\n",
      " 1   length      3232 non-null   int64 \n",
      " 2   word_count  3232 non-null   int64 \n",
      " 3   target      3232 non-null   int64 \n",
      "dtypes: int64(3), object(1)\n",
      "memory usage: 101.1+ KB\n"
     ]
    }
   ],
   "source": [
    "df.info()"
   ]
  },
  {
   "cell_type": "markdown",
   "id": "ce0d492d-cbfd-4a0d-a3e2-1ee82c66df07",
   "metadata": {},
   "source": [
    "### set up X and y, train/test split"
   ]
  },
  {
   "cell_type": "code",
   "execution_count": 4,
   "id": "17c49ffb-a92b-4fc2-a857-f978a04d4715",
   "metadata": {},
   "outputs": [
    {
     "data": {
      "text/plain": [
       "1    0.541151\n",
       "0    0.458849\n",
       "Name: target, dtype: float64"
      ]
     },
     "execution_count": 4,
     "metadata": {},
     "output_type": "execute_result"
    }
   ],
   "source": [
    "X = df['body']\n",
    "y = df['target']\n",
    "\n",
    "y.value_counts(normalize=True) # baseline accuracy\n",
    "\n"
   ]
  },
  {
   "cell_type": "code",
   "execution_count": 5,
   "id": "8bcda7bb-e045-4dbb-a9f6-8caa3d1b890f",
   "metadata": {},
   "outputs": [],
   "source": [
    "# train/test split\n",
    "# stratify y just in case, even though the classes are balanced\n",
    "# test_size : default = 0.25\n",
    "# shuffle: default = True\n",
    "\n",
    "X_train, X_test, y_train, y_test = train_test_split(X, \n",
    "                                                    y, \n",
    "                                                    stratify=y, #to keep the same balance of y in the test and train data\n",
    "                                                    random_state=42)"
   ]
  },
  {
   "cell_type": "code",
   "execution_count": 6,
   "id": "9cb77c74-a195-4743-b9c9-466fa3016961",
   "metadata": {},
   "outputs": [
    {
     "data": {
      "text/plain": [
       "(2424,)"
      ]
     },
     "execution_count": 6,
     "metadata": {},
     "output_type": "execute_result"
    }
   ],
   "source": [
    "X_train.shape"
   ]
  },
  {
   "cell_type": "code",
   "execution_count": 7,
   "id": "5c2ce213-15b0-4e83-9334-6da5b27e3acf",
   "metadata": {},
   "outputs": [
    {
     "data": {
      "text/plain": [
       "(808,)"
      ]
     },
     "execution_count": 7,
     "metadata": {},
     "output_type": "execute_result"
    }
   ],
   "source": [
    "X_test.shape"
   ]
  },
  {
   "cell_type": "code",
   "execution_count": 8,
   "id": "e23d0618-fb70-4e64-9843-7989bf178059",
   "metadata": {},
   "outputs": [
    {
     "data": {
      "text/plain": [
       "(2424,)"
      ]
     },
     "execution_count": 8,
     "metadata": {},
     "output_type": "execute_result"
    }
   ],
   "source": [
    "y_train.shape"
   ]
  },
  {
   "cell_type": "code",
   "execution_count": 9,
   "id": "94f7784c-ca2d-4027-bfcd-666b82bd58c4",
   "metadata": {},
   "outputs": [
    {
     "data": {
      "text/plain": [
       "(808,)"
      ]
     },
     "execution_count": 9,
     "metadata": {},
     "output_type": "execute_result"
    }
   ],
   "source": [
    "y_test.shape"
   ]
  },
  {
   "cell_type": "markdown",
   "id": "bc84b11e-6974-456a-bbf2-12287a99718c",
   "metadata": {},
   "source": [
    "## Model x1-1: CountVectorizer & Logistic Regression"
   ]
  },
  {
   "cell_type": "code",
   "execution_count": 10,
   "id": "018e1fa1-9615-48fc-9879-2260e60f0dff",
   "metadata": {},
   "outputs": [],
   "source": [
    "# set a pipeline up with two stages:\n",
    "# 1. CountVectorizer (transformer)\n",
    "# 2. LogisticRegression (estimator)\n",
    "\n",
    "pipe = Pipeline([\n",
    "    ('cvec', CountVectorizer()),\n",
    "    ('lr', LogisticRegression())\n",
    "])\n",
    "\n",
    "# Search over the following values of hyperparameters:\n",
    "# Maximum number of features fit: 5000, 10,000, 15,000\n",
    "# Minimum number of documents needed to include token: 2, 3\n",
    "# Maximum number of documents needed to include token: 90%, 95%\n",
    "# Check (individual tokens) and also check (individual tokens and 2-grams).\n",
    "\n",
    "pipe_params = {\n",
    "    'cvec__max_features' : [5_000, 10_000, 15_000],\n",
    "    'cvec__min_df' : [2,3],\n",
    "    'cvec__max_df': [0.9, 0.95],\n",
    "    'cvec__ngram_range' : [(1,1), (1,2)]\n",
    "}\n",
    "\n",
    "# Instantiate GridSearchCV.\n",
    "\n",
    "gs1 = GridSearchCV(pipe, # what object are we optimizing?\n",
    "                  param_grid = pipe_params, # what parameters values are we searching?\n",
    "                  cv=5) # 5-fold cross-validation."
   ]
  },
  {
   "cell_type": "code",
   "execution_count": 11,
   "id": "8c851a11-096e-4ff7-a880-871fa51f289f",
   "metadata": {},
   "outputs": [
    {
     "data": {
      "text/plain": [
       "GridSearchCV(cv=5,\n",
       "             estimator=Pipeline(steps=[('cvec', CountVectorizer()),\n",
       "                                       ('lr', LogisticRegression())]),\n",
       "             param_grid={'cvec__max_df': [0.9, 0.95],\n",
       "                         'cvec__max_features': [5000, 10000, 15000],\n",
       "                         'cvec__min_df': [2, 3],\n",
       "                         'cvec__ngram_range': [(1, 1), (1, 2)]})"
      ]
     },
     "execution_count": 11,
     "metadata": {},
     "output_type": "execute_result"
    }
   ],
   "source": [
    "# Fit GridSearch to training data.\n",
    "gs1.fit(X_train,y_train)"
   ]
  },
  {
   "cell_type": "code",
   "execution_count": 12,
   "id": "88210186-b797-416a-93b5-1b3a44f8b87b",
   "metadata": {},
   "outputs": [
    {
     "data": {
      "text/plain": [
       "0.681104200391923"
      ]
     },
     "execution_count": 12,
     "metadata": {},
     "output_type": "execute_result"
    }
   ],
   "source": [
    "# What's the best score?\n",
    "gs1.best_score_"
   ]
  },
  {
   "cell_type": "code",
   "execution_count": 13,
   "id": "f323ca03-2184-4029-ad6e-2daecdfb9858",
   "metadata": {},
   "outputs": [
    {
     "data": {
      "text/plain": [
       "{'cvec__max_df': 0.9,\n",
       " 'cvec__max_features': 5000,\n",
       " 'cvec__min_df': 2,\n",
       " 'cvec__ngram_range': (1, 1)}"
      ]
     },
     "execution_count": 13,
     "metadata": {},
     "output_type": "execute_result"
    }
   ],
   "source": [
    "gs1.best_params_"
   ]
  },
  {
   "cell_type": "code",
   "execution_count": 14,
   "id": "dc2f711d-537f-41c2-8e0b-6299dd8eeebf",
   "metadata": {},
   "outputs": [
    {
     "name": "stdout",
     "output_type": "stream",
     "text": [
      "Train score is 0.9240924092409241\n",
      "Test score is 0.7351485148514851\n"
     ]
    }
   ],
   "source": [
    "# Save best model as gs_model.\n",
    "\n",
    "gs_model = gs1.best_estimator_\n",
    "# Score model on training set.\n",
    "print(f'Train score is {gs_model.score(X_train, y_train)}')\n",
    "# Score model on testing set.\n",
    "print(f'Test score is {gs_model.score(X_test, y_test)}')"
   ]
  },
  {
   "cell_type": "code",
   "execution_count": 15,
   "id": "1767df3b-06c6-481e-9581-82ff317c932a",
   "metadata": {},
   "outputs": [
    {
     "name": "stdout",
     "output_type": "stream",
     "text": [
      "Accuracy:(0.9240924092409241, 0.7351485148514851), Recall:0.8123569794050344, Precision:0.728952772073922, F1:0.7683982683982684\n"
     ]
    }
   ],
   "source": [
    "gs1_preds = gs1.predict(X_test)\n",
    "print(f'Accuracy:{gs1.score(X_train,y_train), gs1.score(X_test,y_test)}, Recall:{recall_score(y_test,gs1_preds)}, Precision:{precision_score(y_test,gs1_preds)}, F1:{f1_score(y_test,gs1_preds)}')\n"
   ]
  },
  {
   "cell_type": "markdown",
   "id": "48621287-9a9d-449c-a44d-017e3891415c",
   "metadata": {},
   "source": [
    "## Model x1-2: TF - IDF Vectorizer & Logistic Regression"
   ]
  },
  {
   "cell_type": "code",
   "execution_count": 16,
   "id": "075c2a0c-f91f-4c6a-a9f2-d50e75e62861",
   "metadata": {},
   "outputs": [],
   "source": [
    "pipe2 = Pipeline([\n",
    "                ('tf', TfidfVectorizer()),\n",
    "                ('lr', LogisticRegression())\n",
    "])\n",
    "\n",
    "params2 = {\n",
    "                'tf__max_features' : [5000,10_000,15_000],\n",
    "                'tf__ngram_range' : [(1,1), (1,2)]\n",
    "}\n",
    "\n",
    "gs2 = GridSearchCV(pipe2, param_grid = params2, cv = 5)"
   ]
  },
  {
   "cell_type": "code",
   "execution_count": 17,
   "id": "40f8f52d-5f89-4f73-a049-ed32f3f4a022",
   "metadata": {},
   "outputs": [
    {
     "data": {
      "text/plain": [
       "GridSearchCV(cv=5,\n",
       "             estimator=Pipeline(steps=[('tf', TfidfVectorizer()),\n",
       "                                       ('lr', LogisticRegression())]),\n",
       "             param_grid={'tf__max_features': [5000, 10000, 15000],\n",
       "                         'tf__ngram_range': [(1, 1), (1, 2)]})"
      ]
     },
     "execution_count": 17,
     "metadata": {},
     "output_type": "execute_result"
    }
   ],
   "source": [
    "gs2.fit(X_train, y_train)"
   ]
  },
  {
   "cell_type": "code",
   "execution_count": 18,
   "id": "902a3c80-1e39-4d19-b5cc-5956e0a838ad",
   "metadata": {},
   "outputs": [
    {
     "data": {
      "text/plain": [
       "0.7112217772855074"
      ]
     },
     "execution_count": 18,
     "metadata": {},
     "output_type": "execute_result"
    }
   ],
   "source": [
    "# What's the best score?\n",
    "gs2.best_score_"
   ]
  },
  {
   "cell_type": "code",
   "execution_count": 19,
   "id": "46e8c5c6-5510-4afb-87db-25fe5887fc48",
   "metadata": {},
   "outputs": [
    {
     "data": {
      "text/plain": [
       "{'tf__max_features': 5000, 'tf__ngram_range': (1, 1)}"
      ]
     },
     "execution_count": 19,
     "metadata": {},
     "output_type": "execute_result"
    }
   ],
   "source": [
    "gs2.best_params_"
   ]
  },
  {
   "cell_type": "code",
   "execution_count": 20,
   "id": "28a3d6d7-6492-4c57-8bfe-1f724121d343",
   "metadata": {},
   "outputs": [],
   "source": [
    "# Save best model as gs_model.\n",
    "\n",
    "gs_model = gs2.best_estimator_"
   ]
  },
  {
   "cell_type": "code",
   "execution_count": 21,
   "id": "7dad7f7b-043e-41c0-a26e-af6adb76ade1",
   "metadata": {},
   "outputs": [
    {
     "name": "stdout",
     "output_type": "stream",
     "text": [
      "Accuracy:(0.9088283828382838, 0.7438118811881188), Recall:0.8306636155606407, Precision:0.7318548387096774, F1:0.7781350482315113\n"
     ]
    }
   ],
   "source": [
    "gs2_preds = gs2.predict(X_test)\n",
    "print(f'Accuracy:{gs2.score(X_train,y_train), gs2.score(X_test,y_test)}, Recall:{recall_score(y_test,gs2_preds)}, Precision:{precision_score(y_test,gs2_preds)}, F1:{f1_score(y_test,gs2_preds)}')\n"
   ]
  },
  {
   "cell_type": "code",
   "execution_count": 22,
   "id": "9d68691d-12b6-4dfd-a44b-fccde15b7749",
   "metadata": {},
   "outputs": [
    {
     "name": "stdout",
     "output_type": "stream",
     "text": [
      "Train score is 0.9088283828382838\n",
      "Test score is 0.7438118811881188\n"
     ]
    }
   ],
   "source": [
    "# Score model on training set.\n",
    "print(f'Train score is {gs_model.score(X_train, y_train)}')\n",
    "# Score model on testing set.\n",
    "print(f'Test score is {gs_model.score(X_test, y_test)}')"
   ]
  },
  {
   "cell_type": "code",
   "execution_count": 23,
   "id": "fe835dcf-7733-4c44-991f-7a66106ca077",
   "metadata": {},
   "outputs": [
    {
     "data": {
      "text/html": [
       "<div>\n",
       "<style scoped>\n",
       "    .dataframe tbody tr th:only-of-type {\n",
       "        vertical-align: middle;\n",
       "    }\n",
       "\n",
       "    .dataframe tbody tr th {\n",
       "        vertical-align: top;\n",
       "    }\n",
       "\n",
       "    .dataframe thead th {\n",
       "        text-align: right;\n",
       "    }\n",
       "</style>\n",
       "<table border=\"1\" class=\"dataframe\">\n",
       "  <thead>\n",
       "    <tr style=\"text-align: right;\">\n",
       "      <th></th>\n",
       "      <th>pred neg</th>\n",
       "      <th>pred pos</th>\n",
       "    </tr>\n",
       "  </thead>\n",
       "  <tbody>\n",
       "    <tr>\n",
       "      <th>actual neg</th>\n",
       "      <td>True Negative</td>\n",
       "      <td>False Positive</td>\n",
       "    </tr>\n",
       "    <tr>\n",
       "      <th>actual pos</th>\n",
       "      <td>False Negative</td>\n",
       "      <td>True Positive</td>\n",
       "    </tr>\n",
       "  </tbody>\n",
       "</table>\n",
       "</div>"
      ],
      "text/plain": [
       "                  pred neg        pred pos\n",
       "actual neg   True Negative  False Positive\n",
       "actual pos  False Negative   True Positive"
      ]
     },
     "metadata": {},
     "output_type": "display_data"
    },
    {
     "data": {
      "text/html": [
       "<div>\n",
       "<style scoped>\n",
       "    .dataframe tbody tr th:only-of-type {\n",
       "        vertical-align: middle;\n",
       "    }\n",
       "\n",
       "    .dataframe tbody tr th {\n",
       "        vertical-align: top;\n",
       "    }\n",
       "\n",
       "    .dataframe thead th {\n",
       "        text-align: right;\n",
       "    }\n",
       "</style>\n",
       "<table border=\"1\" class=\"dataframe\">\n",
       "  <thead>\n",
       "    <tr style=\"text-align: right;\">\n",
       "      <th></th>\n",
       "      <th>pred neg</th>\n",
       "      <th>pred pos</th>\n",
       "    </tr>\n",
       "  </thead>\n",
       "  <tbody>\n",
       "    <tr>\n",
       "      <th>actual neg</th>\n",
       "      <td>238</td>\n",
       "      <td>133</td>\n",
       "    </tr>\n",
       "    <tr>\n",
       "      <th>actual pos</th>\n",
       "      <td>74</td>\n",
       "      <td>363</td>\n",
       "    </tr>\n",
       "  </tbody>\n",
       "</table>\n",
       "</div>"
      ],
      "text/plain": [
       "            pred neg  pred pos\n",
       "actual neg       238       133\n",
       "actual pos        74       363"
      ]
     },
     "metadata": {},
     "output_type": "display_data"
    }
   ],
   "source": [
    "y_pred = gs2.predict(X_test)\n",
    "cm_def = np.array([['True Negative', 'False Positive'],\n",
    "                ['False Negative', 'True Positive']])\n",
    "cm_def = pd.DataFrame(cm_def,columns = ['pred neg', 'pred pos'], index = ['actual neg','actual pos'])\n",
    "cm = confusion_matrix(y_test, y_pred)\n",
    "cm_df = pd.DataFrame(cm, columns = ['pred neg', 'pred pos'], index = ['actual neg','actual pos'])\n",
    "display(cm_def)\n",
    "display(cm_df)"
   ]
  },
  {
   "cell_type": "markdown",
   "id": "9d67cd4d-299a-470b-a784-6e554cfc1f19",
   "metadata": {},
   "source": [
    "## Model x2-1: CountVectorizer & Random Forest Classifier"
   ]
  },
  {
   "cell_type": "code",
   "execution_count": 24,
   "id": "1a0034af-eba2-4095-b452-96aca36bd131",
   "metadata": {},
   "outputs": [],
   "source": [
    "pipe = Pipeline([\n",
    "                ('cvec', CountVectorizer()),\n",
    "                ('rf', RandomForestClassifier())\n",
    "])\n",
    "\n",
    "pipe_params = {\n",
    "     'cvec__max_features' : [5_000, 10_000, 15_000],\n",
    "    'cvec__min_df' : [2,3],\n",
    "    'cvec__max_df': [0.9, 0.95],\n",
    "    'cvec__ngram_range' : [(1,1), (1,2)]\n",
    "}\n",
    "\n",
    "\n",
    "gs3 = GridSearchCV(pipe, param_grid = pipe_params, cv = 5)"
   ]
  },
  {
   "cell_type": "code",
   "execution_count": 25,
   "id": "824faf21-f215-4946-98aa-b2b9c9171d01",
   "metadata": {},
   "outputs": [
    {
     "data": {
      "text/plain": [
       "GridSearchCV(cv=5,\n",
       "             estimator=Pipeline(steps=[('cvec', CountVectorizer()),\n",
       "                                       ('rf', RandomForestClassifier())]),\n",
       "             param_grid={'cvec__max_df': [0.9, 0.95],\n",
       "                         'cvec__max_features': [5000, 10000, 15000],\n",
       "                         'cvec__min_df': [2, 3],\n",
       "                         'cvec__ngram_range': [(1, 1), (1, 2)]})"
      ]
     },
     "execution_count": 25,
     "metadata": {},
     "output_type": "execute_result"
    }
   ],
   "source": [
    "# Fit GridSearch to training data.\n",
    "gs3.fit(X_train,y_train)"
   ]
  },
  {
   "cell_type": "code",
   "execution_count": 26,
   "id": "5f38c4e7-b2d4-432e-b34b-e8fe65d14242",
   "metadata": {},
   "outputs": [
    {
     "data": {
      "text/plain": [
       "0.6670784697963704"
      ]
     },
     "execution_count": 26,
     "metadata": {},
     "output_type": "execute_result"
    }
   ],
   "source": [
    "# What's the best score?\n",
    "gs3.best_score_"
   ]
  },
  {
   "cell_type": "code",
   "execution_count": 27,
   "id": "a22ba86b-76ad-452f-8d44-d55b14494b73",
   "metadata": {},
   "outputs": [
    {
     "data": {
      "text/plain": [
       "{'cvec__max_df': 0.9,\n",
       " 'cvec__max_features': 15000,\n",
       " 'cvec__min_df': 2,\n",
       " 'cvec__ngram_range': (1, 2)}"
      ]
     },
     "execution_count": 27,
     "metadata": {},
     "output_type": "execute_result"
    }
   ],
   "source": [
    "gs3.best_params_"
   ]
  },
  {
   "cell_type": "code",
   "execution_count": 28,
   "id": "7be15cd8-94f2-410b-b187-f1c9e17f6126",
   "metadata": {},
   "outputs": [
    {
     "name": "stdout",
     "output_type": "stream",
     "text": [
      "{'cvec__max_df': 0.9, 'cvec__max_features': 15000, 'cvec__min_df': 2, 'cvec__ngram_range': (1, 2)}\n",
      "Train Accuracy: 0.99\n",
      "Test Accuracy: 0.7\n"
     ]
    }
   ],
   "source": [
    "print(gs3.best_params_)\n",
    "gs_model = gs3.best_estimator_\n",
    "\n",
    "gs_train_accuracy = round(gs_model.score(X_train, y_train),2)\n",
    "print(f'Train Accuracy: {gs_train_accuracy}')\n",
    "\n",
    "gs_test_accuracy = round(gs_model.score(X_test, y_test),2)\n",
    "print(f'Test Accuracy: {gs_test_accuracy}')"
   ]
  },
  {
   "cell_type": "code",
   "execution_count": 29,
   "id": "96defda0-6532-40e6-ac0b-27967371ebf2",
   "metadata": {},
   "outputs": [
    {
     "name": "stdout",
     "output_type": "stream",
     "text": [
      "Accuracy:(0.9863861386138614, 0.6955445544554455), Recall:0.8237986270022883, Precision:0.6805293005671077, F1:0.7453416149068324\n"
     ]
    }
   ],
   "source": [
    "gs3_preds = gs3.predict(X_test)\n",
    "print(f'Accuracy:{gs3.score(X_train,y_train), gs3.score(X_test,y_test)}, Recall:{recall_score(y_test,gs3_preds)}, Precision:{precision_score(y_test,gs3_preds)}, F1:{f1_score(y_test,gs3_preds)}')\n"
   ]
  },
  {
   "cell_type": "code",
   "execution_count": 30,
   "id": "7ae289b3-efb3-41d4-ab17-03c54719be2e",
   "metadata": {},
   "outputs": [
    {
     "data": {
      "text/html": [
       "<div>\n",
       "<style scoped>\n",
       "    .dataframe tbody tr th:only-of-type {\n",
       "        vertical-align: middle;\n",
       "    }\n",
       "\n",
       "    .dataframe tbody tr th {\n",
       "        vertical-align: top;\n",
       "    }\n",
       "\n",
       "    .dataframe thead th {\n",
       "        text-align: right;\n",
       "    }\n",
       "</style>\n",
       "<table border=\"1\" class=\"dataframe\">\n",
       "  <thead>\n",
       "    <tr style=\"text-align: right;\">\n",
       "      <th></th>\n",
       "      <th>pred neg</th>\n",
       "      <th>pred pos</th>\n",
       "    </tr>\n",
       "  </thead>\n",
       "  <tbody>\n",
       "    <tr>\n",
       "      <th>actual neg</th>\n",
       "      <td>True Negative</td>\n",
       "      <td>False Positive</td>\n",
       "    </tr>\n",
       "    <tr>\n",
       "      <th>actual pos</th>\n",
       "      <td>False Negative</td>\n",
       "      <td>True Positive</td>\n",
       "    </tr>\n",
       "  </tbody>\n",
       "</table>\n",
       "</div>"
      ],
      "text/plain": [
       "                  pred neg        pred pos\n",
       "actual neg   True Negative  False Positive\n",
       "actual pos  False Negative   True Positive"
      ]
     },
     "metadata": {},
     "output_type": "display_data"
    },
    {
     "data": {
      "text/html": [
       "<div>\n",
       "<style scoped>\n",
       "    .dataframe tbody tr th:only-of-type {\n",
       "        vertical-align: middle;\n",
       "    }\n",
       "\n",
       "    .dataframe tbody tr th {\n",
       "        vertical-align: top;\n",
       "    }\n",
       "\n",
       "    .dataframe thead th {\n",
       "        text-align: right;\n",
       "    }\n",
       "</style>\n",
       "<table border=\"1\" class=\"dataframe\">\n",
       "  <thead>\n",
       "    <tr style=\"text-align: right;\">\n",
       "      <th></th>\n",
       "      <th>pred neg</th>\n",
       "      <th>pred pos</th>\n",
       "    </tr>\n",
       "  </thead>\n",
       "  <tbody>\n",
       "    <tr>\n",
       "      <th>actual neg</th>\n",
       "      <td>202</td>\n",
       "      <td>169</td>\n",
       "    </tr>\n",
       "    <tr>\n",
       "      <th>actual pos</th>\n",
       "      <td>77</td>\n",
       "      <td>360</td>\n",
       "    </tr>\n",
       "  </tbody>\n",
       "</table>\n",
       "</div>"
      ],
      "text/plain": [
       "            pred neg  pred pos\n",
       "actual neg       202       169\n",
       "actual pos        77       360"
      ]
     },
     "metadata": {},
     "output_type": "display_data"
    }
   ],
   "source": [
    "y_pred = gs3.predict(X_test)\n",
    "cm_def = np.array([['True Negative', 'False Positive'],\n",
    "                ['False Negative', 'True Positive']])\n",
    "cm_def = pd.DataFrame(cm_def,columns = ['pred neg', 'pred pos'], index = ['actual neg','actual pos'])\n",
    "cm = confusion_matrix(y_test, y_pred)\n",
    "cm_df = pd.DataFrame(cm, columns = ['pred neg', 'pred pos'], index = ['actual neg','actual pos'])\n",
    "display(cm_def)\n",
    "display(cm_df)"
   ]
  },
  {
   "cell_type": "markdown",
   "id": "1e202875-31d9-46e1-bdeb-12184d29615e",
   "metadata": {},
   "source": [
    "## Model x2-2: TFIDF and Random Forest Classifer"
   ]
  },
  {
   "cell_type": "code",
   "execution_count": 31,
   "id": "115c4952-7d5d-40a4-82d0-fd5a1b0ecf62",
   "metadata": {},
   "outputs": [],
   "source": [
    "pipe = Pipeline([\n",
    "                ('tf', TfidfVectorizer()),\n",
    "                ('rf', RandomForestClassifier())\n",
    "])\n",
    "\n",
    "params = {\n",
    "                'tf__max_features' : [5000,10_000,15_000],\n",
    "                'tf__ngram_range' : [(1,1), (1,2)]\n",
    "}\n",
    "\n",
    "\n",
    "gs4 = GridSearchCV(pipe, param_grid = params, cv = 5)"
   ]
  },
  {
   "cell_type": "code",
   "execution_count": 32,
   "id": "b96d5ddf-0bcd-450c-812d-5320be5cffe1",
   "metadata": {},
   "outputs": [
    {
     "data": {
      "text/plain": [
       "GridSearchCV(cv=5,\n",
       "             estimator=Pipeline(steps=[('tf', TfidfVectorizer()),\n",
       "                                       ('rf', RandomForestClassifier())]),\n",
       "             param_grid={'tf__max_features': [5000, 10000, 15000],\n",
       "                         'tf__ngram_range': [(1, 1), (1, 2)]})"
      ]
     },
     "execution_count": 32,
     "metadata": {},
     "output_type": "execute_result"
    }
   ],
   "source": [
    "gs4.fit(X_train, y_train)"
   ]
  },
  {
   "cell_type": "code",
   "execution_count": 33,
   "id": "deb4d067-f188-448e-84ce-792a184946e0",
   "metadata": {},
   "outputs": [
    {
     "name": "stdout",
     "output_type": "stream",
     "text": [
      "{'tf__max_features': 5000, 'tf__ngram_range': (1, 1)}\n",
      "Train Accuracy: 1.0\n",
      "Test Accuracy: 0.67\n"
     ]
    }
   ],
   "source": [
    "print(gs4.best_params_)\n",
    "gs_model = gs4.best_estimator_\n",
    "\n",
    "gs_train_accuracy = round(gs_model.score(X_train, y_train),2)\n",
    "print(f'Train Accuracy: {gs_train_accuracy}')\n",
    "\n",
    "gs_test_accuracy = round(gs_model.score(X_test, y_test),2)\n",
    "print(f'Test Accuracy: {gs_test_accuracy}')"
   ]
  },
  {
   "cell_type": "code",
   "execution_count": 34,
   "id": "6f44a36a-c2ae-4918-9f32-00da07469488",
   "metadata": {},
   "outputs": [
    {
     "name": "stdout",
     "output_type": "stream",
     "text": [
      "Accuracy:(0.995049504950495, 0.6720297029702971), Recall:0.7276887871853547, Precision:0.6853448275862069, F1:0.7058823529411764\n"
     ]
    }
   ],
   "source": [
    "gs4_preds = gs4.predict(X_test)\n",
    "print(f'Accuracy:{gs4.score(X_train,y_train), gs4.score(X_test,y_test)}, Recall:{recall_score(y_test,gs4_preds)}, Precision:{precision_score(y_test,gs4_preds)}, F1:{f1_score(y_test,gs4_preds)}')\n"
   ]
  },
  {
   "cell_type": "code",
   "execution_count": 35,
   "id": "b782d510-06dd-4814-ba57-d6b5079bb0fb",
   "metadata": {},
   "outputs": [
    {
     "data": {
      "text/html": [
       "<div>\n",
       "<style scoped>\n",
       "    .dataframe tbody tr th:only-of-type {\n",
       "        vertical-align: middle;\n",
       "    }\n",
       "\n",
       "    .dataframe tbody tr th {\n",
       "        vertical-align: top;\n",
       "    }\n",
       "\n",
       "    .dataframe thead th {\n",
       "        text-align: right;\n",
       "    }\n",
       "</style>\n",
       "<table border=\"1\" class=\"dataframe\">\n",
       "  <thead>\n",
       "    <tr style=\"text-align: right;\">\n",
       "      <th></th>\n",
       "      <th>pred neg</th>\n",
       "      <th>pred pos</th>\n",
       "    </tr>\n",
       "  </thead>\n",
       "  <tbody>\n",
       "    <tr>\n",
       "      <th>actual neg</th>\n",
       "      <td>True Negative</td>\n",
       "      <td>False Positive</td>\n",
       "    </tr>\n",
       "    <tr>\n",
       "      <th>actual pos</th>\n",
       "      <td>False Negative</td>\n",
       "      <td>True Positive</td>\n",
       "    </tr>\n",
       "  </tbody>\n",
       "</table>\n",
       "</div>"
      ],
      "text/plain": [
       "                  pred neg        pred pos\n",
       "actual neg   True Negative  False Positive\n",
       "actual pos  False Negative   True Positive"
      ]
     },
     "metadata": {},
     "output_type": "display_data"
    },
    {
     "data": {
      "text/html": [
       "<div>\n",
       "<style scoped>\n",
       "    .dataframe tbody tr th:only-of-type {\n",
       "        vertical-align: middle;\n",
       "    }\n",
       "\n",
       "    .dataframe tbody tr th {\n",
       "        vertical-align: top;\n",
       "    }\n",
       "\n",
       "    .dataframe thead th {\n",
       "        text-align: right;\n",
       "    }\n",
       "</style>\n",
       "<table border=\"1\" class=\"dataframe\">\n",
       "  <thead>\n",
       "    <tr style=\"text-align: right;\">\n",
       "      <th></th>\n",
       "      <th>pred neg</th>\n",
       "      <th>pred pos</th>\n",
       "    </tr>\n",
       "  </thead>\n",
       "  <tbody>\n",
       "    <tr>\n",
       "      <th>actual neg</th>\n",
       "      <td>202</td>\n",
       "      <td>169</td>\n",
       "    </tr>\n",
       "    <tr>\n",
       "      <th>actual pos</th>\n",
       "      <td>77</td>\n",
       "      <td>360</td>\n",
       "    </tr>\n",
       "  </tbody>\n",
       "</table>\n",
       "</div>"
      ],
      "text/plain": [
       "            pred neg  pred pos\n",
       "actual neg       202       169\n",
       "actual pos        77       360"
      ]
     },
     "metadata": {},
     "output_type": "display_data"
    }
   ],
   "source": [
    "##### y_pred = gs4.predict(X_test)\n",
    "cm_def = np.array([['True Negative', 'False Positive'],\n",
    "                ['False Negative', 'True Positive']])\n",
    "cm_def = pd.DataFrame(cm_def,columns = ['pred neg', 'pred pos'], index = ['actual neg','actual pos'])\n",
    "cm = confusion_matrix(y_test, y_pred)\n",
    "cm_df = pd.DataFrame(cm, columns = ['pred neg', 'pred pos'], index = ['actual neg','actual pos'])\n",
    "display(cm_def)\n",
    "display(cm_df)"
   ]
  },
  {
   "cell_type": "markdown",
   "id": "41ec153d-da69-4b81-a2cc-acd337c75d48",
   "metadata": {},
   "source": []
  },
  {
   "cell_type": "markdown",
   "id": "77cf28f8-55e2-41e6-96b6-81d9d8067f2c",
   "metadata": {},
   "source": [
    "## Model 3: TFIDF and Support Vector Machine Classifier"
   ]
  },
  {
   "cell_type": "code",
   "execution_count": 36,
   "id": "5d860420-58fe-4924-a3e5-8979269a4f0c",
   "metadata": {},
   "outputs": [],
   "source": [
    "pipe = Pipeline([\n",
    "                ('tf', TfidfVectorizer()),\n",
    "                ('svc', SVC())\n",
    "])\n",
    "\n",
    "params = {\n",
    "                'tf__max_features' : [5000,10_000,15_000],\n",
    "                'tf__ngram_range' : [(1,1), (1,2)]\n",
    "}\n",
    "\n",
    "\n",
    "gs5 = GridSearchCV(pipe, param_grid = params, cv = 5)"
   ]
  },
  {
   "cell_type": "code",
   "execution_count": 37,
   "id": "6b575795-e974-48b5-bbe1-105134a08899",
   "metadata": {},
   "outputs": [
    {
     "data": {
      "text/plain": [
       "GridSearchCV(cv=5,\n",
       "             estimator=Pipeline(steps=[('tf', TfidfVectorizer()),\n",
       "                                       ('svc', SVC())]),\n",
       "             param_grid={'tf__max_features': [5000, 10000, 15000],\n",
       "                         'tf__ngram_range': [(1, 1), (1, 2)]})"
      ]
     },
     "execution_count": 37,
     "metadata": {},
     "output_type": "execute_result"
    }
   ],
   "source": [
    "gs5.fit(X_train, y_train)"
   ]
  },
  {
   "cell_type": "code",
   "execution_count": 38,
   "id": "2862351f-c313-492a-95af-9533c9d703df",
   "metadata": {},
   "outputs": [
    {
     "name": "stdout",
     "output_type": "stream",
     "text": [
      "{'tf__max_features': 5000, 'tf__ngram_range': (1, 1)}\n",
      "Train Accuracy: 0.98\n",
      "Test Accuracy: 0.74\n"
     ]
    }
   ],
   "source": [
    "print(gs5.best_params_)\n",
    "gs_model = gs5.best_estimator_\n",
    "\n",
    "gs_train_accuracy = round(gs_model.score(X_train, y_train),2)\n",
    "print(f'Train Accuracy: {gs_train_accuracy}')\n",
    "\n",
    "gs_test_accuracy = round(gs_model.score(X_test, y_test),2)\n",
    "print(f'Test Accuracy: {gs_test_accuracy}')"
   ]
  },
  {
   "cell_type": "code",
   "execution_count": 39,
   "id": "d3a4a13d-7da4-4a8d-a2da-27a5c358b31e",
   "metadata": {},
   "outputs": [
    {
     "name": "stdout",
     "output_type": "stream",
     "text": [
      "Accuracy:(0.9847359735973598, 0.7413366336633663), Recall:0.8100686498855835, Precision:0.7375, F1:0.7720828789531079\n"
     ]
    }
   ],
   "source": [
    "gs5_preds = gs5.predict(X_test)\n",
    "print(f'Accuracy:{gs5.score(X_train,y_train), gs5.score(X_test,y_test)}, Recall:{recall_score(y_test,gs5_preds)}, Precision:{precision_score(y_test,gs5_preds)}, F1:{f1_score(y_test,gs5_preds)}')\n"
   ]
  },
  {
   "cell_type": "code",
   "execution_count": 40,
   "id": "41a238dd-6182-47e7-b94d-8bf608bf6554",
   "metadata": {},
   "outputs": [
    {
     "data": {
      "text/html": [
       "<div>\n",
       "<style scoped>\n",
       "    .dataframe tbody tr th:only-of-type {\n",
       "        vertical-align: middle;\n",
       "    }\n",
       "\n",
       "    .dataframe tbody tr th {\n",
       "        vertical-align: top;\n",
       "    }\n",
       "\n",
       "    .dataframe thead th {\n",
       "        text-align: right;\n",
       "    }\n",
       "</style>\n",
       "<table border=\"1\" class=\"dataframe\">\n",
       "  <thead>\n",
       "    <tr style=\"text-align: right;\">\n",
       "      <th></th>\n",
       "      <th>pred neg</th>\n",
       "      <th>pred pos</th>\n",
       "    </tr>\n",
       "  </thead>\n",
       "  <tbody>\n",
       "    <tr>\n",
       "      <th>actual neg</th>\n",
       "      <td>True Negative</td>\n",
       "      <td>False Positive</td>\n",
       "    </tr>\n",
       "    <tr>\n",
       "      <th>actual pos</th>\n",
       "      <td>False Negative</td>\n",
       "      <td>True Positive</td>\n",
       "    </tr>\n",
       "  </tbody>\n",
       "</table>\n",
       "</div>"
      ],
      "text/plain": [
       "                  pred neg        pred pos\n",
       "actual neg   True Negative  False Positive\n",
       "actual pos  False Negative   True Positive"
      ]
     },
     "metadata": {},
     "output_type": "display_data"
    },
    {
     "data": {
      "text/html": [
       "<div>\n",
       "<style scoped>\n",
       "    .dataframe tbody tr th:only-of-type {\n",
       "        vertical-align: middle;\n",
       "    }\n",
       "\n",
       "    .dataframe tbody tr th {\n",
       "        vertical-align: top;\n",
       "    }\n",
       "\n",
       "    .dataframe thead th {\n",
       "        text-align: right;\n",
       "    }\n",
       "</style>\n",
       "<table border=\"1\" class=\"dataframe\">\n",
       "  <thead>\n",
       "    <tr style=\"text-align: right;\">\n",
       "      <th></th>\n",
       "      <th>pred neg</th>\n",
       "      <th>pred pos</th>\n",
       "    </tr>\n",
       "  </thead>\n",
       "  <tbody>\n",
       "    <tr>\n",
       "      <th>actual neg</th>\n",
       "      <td>245</td>\n",
       "      <td>126</td>\n",
       "    </tr>\n",
       "    <tr>\n",
       "      <th>actual pos</th>\n",
       "      <td>83</td>\n",
       "      <td>354</td>\n",
       "    </tr>\n",
       "  </tbody>\n",
       "</table>\n",
       "</div>"
      ],
      "text/plain": [
       "            pred neg  pred pos\n",
       "actual neg       245       126\n",
       "actual pos        83       354"
      ]
     },
     "metadata": {},
     "output_type": "display_data"
    }
   ],
   "source": [
    "y_pred = gs5.predict(X_test)\n",
    "cm_def = np.array([['True Negative', 'False Positive'],\n",
    "                ['False Negative', 'True Positive']])\n",
    "cm_def = pd.DataFrame(cm_def,columns = ['pred neg', 'pred pos'], index = ['actual neg','actual pos'])\n",
    "cm = confusion_matrix(y_test, y_pred)\n",
    "cm_df = pd.DataFrame(cm, columns = ['pred neg', 'pred pos'], index = ['actual neg','actual pos'])\n",
    "display(cm_def)\n",
    "display(cm_df)"
   ]
  },
  {
   "cell_type": "markdown",
   "id": "aa7bec04-5372-4d0e-8003-732c37142751",
   "metadata": {},
   "source": [
    "## Model 4: CountVectorizer & Multinomial Naive Bayes"
   ]
  },
  {
   "cell_type": "code",
   "execution_count": 41,
   "id": "019799a5-475d-452b-8d9b-4842b0d7e222",
   "metadata": {},
   "outputs": [],
   "source": [
    "# set a pipeline up with two stages:\n",
    "# 1. CountVectorizer (transformer)\n",
    "# 2. Naive Bayes (estimator)\n",
    "\n",
    "pipe = Pipeline([\n",
    "    ('cvec', CountVectorizer()),\n",
    "    ('nb', MultinomialNB())\n",
    "])\n",
    "\n",
    "# Search over the following values of hyperparameters:\n",
    "# Maximum number of features fit: 5000, 10,000, 15,000\n",
    "# Minimum number of documents needed to include token: 2, 3\n",
    "# Maximum number of documents needed to include token: 90%, 95%\n",
    "# Check (individual tokens) and also check (individual tokens and 2-grams).\n",
    "\n",
    "pipe_params = {\n",
    "    'cvec__max_features' : [5_000, 10_000, 15_000],\n",
    "    'cvec__min_df' : [2,3],\n",
    "    'cvec__max_df': [0.9, 0.95],\n",
    "    'cvec__ngram_range' : [(1,1), (1,2)]\n",
    "}\n",
    "\n",
    "# Instantiate GridSearchCV.\n",
    "\n",
    "gs6 = GridSearchCV(pipe, # what object are we optimizing?\n",
    "                  param_grid = pipe_params, # what parameters values are we searching?\n",
    "                  cv=5) # 5-fold cross-validation."
   ]
  },
  {
   "cell_type": "code",
   "execution_count": 42,
   "id": "6f0ddaa2-61ae-4286-b30c-ba67a1c20c5b",
   "metadata": {},
   "outputs": [
    {
     "data": {
      "text/plain": [
       "GridSearchCV(cv=5,\n",
       "             estimator=Pipeline(steps=[('cvec', CountVectorizer()),\n",
       "                                       ('nb', MultinomialNB())]),\n",
       "             param_grid={'cvec__max_df': [0.9, 0.95],\n",
       "                         'cvec__max_features': [5000, 10000, 15000],\n",
       "                         'cvec__min_df': [2, 3],\n",
       "                         'cvec__ngram_range': [(1, 1), (1, 2)]})"
      ]
     },
     "execution_count": 42,
     "metadata": {},
     "output_type": "execute_result"
    }
   ],
   "source": [
    "# Fit GridSearch to training data.\n",
    "gs6.fit(X_train,y_train)"
   ]
  },
  {
   "cell_type": "code",
   "execution_count": 43,
   "id": "6e8a28fe-9807-40cb-8cf0-0754c1755cb0",
   "metadata": {},
   "outputs": [
    {
     "data": {
      "text/plain": [
       "{'cvec__max_df': 0.9,\n",
       " 'cvec__max_features': 5000,\n",
       " 'cvec__min_df': 2,\n",
       " 'cvec__ngram_range': (1, 1)}"
      ]
     },
     "execution_count": 43,
     "metadata": {},
     "output_type": "execute_result"
    }
   ],
   "source": [
    "# What are the best hyperparameters?\n",
    "gs6.best_params_"
   ]
  },
  {
   "cell_type": "code",
   "execution_count": 44,
   "id": "60409426-542d-4c10-9782-fb146a524a07",
   "metadata": {},
   "outputs": [
    {
     "data": {
      "text/plain": [
       "0.7149390815370197"
      ]
     },
     "execution_count": 44,
     "metadata": {},
     "output_type": "execute_result"
    }
   ],
   "source": [
    "# What's the best score?\n",
    "gs6.best_score_"
   ]
  },
  {
   "cell_type": "code",
   "execution_count": 45,
   "id": "4997d8ea-c54e-4ad7-9e27-2902abbdd6d2",
   "metadata": {},
   "outputs": [
    {
     "data": {
      "text/plain": [
       "0.8502475247524752"
      ]
     },
     "execution_count": 45,
     "metadata": {},
     "output_type": "execute_result"
    }
   ],
   "source": [
    "# Score model on training set.\n",
    "gs6.score(X_train, y_train)"
   ]
  },
  {
   "cell_type": "code",
   "execution_count": 46,
   "id": "00179de1-6cbb-415e-8517-4049a0e0d484",
   "metadata": {},
   "outputs": [
    {
     "data": {
      "text/plain": [
       "0.7227722772277227"
      ]
     },
     "execution_count": 46,
     "metadata": {},
     "output_type": "execute_result"
    }
   ],
   "source": [
    "# Score model on testing set.\n",
    "gs6.score(X_test, y_test)"
   ]
  },
  {
   "cell_type": "markdown",
   "id": "54755dca-98b2-4839-a994-dc41dcd66f93",
   "metadata": {},
   "source": [
    "**misclassification = 1 - accuracy**"
   ]
  },
  {
   "cell_type": "code",
   "execution_count": 47,
   "id": "60b880f0-02e7-4916-bb60-2cc367c30926",
   "metadata": {},
   "outputs": [
    {
     "data": {
      "text/plain": [
       "0.14975247524752477"
      ]
     },
     "execution_count": 47,
     "metadata": {},
     "output_type": "execute_result"
    }
   ],
   "source": [
    "# training data missclassification\n",
    "1- gs6.score(X_train, y_train)"
   ]
  },
  {
   "cell_type": "code",
   "execution_count": 48,
   "id": "ad10ed87-fb6f-4ac4-b287-41faa3e50f58",
   "metadata": {},
   "outputs": [
    {
     "data": {
      "text/plain": [
       "0.27722772277227725"
      ]
     },
     "execution_count": 48,
     "metadata": {},
     "output_type": "execute_result"
    }
   ],
   "source": [
    "# testing data missclassification\n",
    "1- gs6.score(X_test, y_test)"
   ]
  },
  {
   "cell_type": "code",
   "execution_count": 49,
   "id": "361c32ac-be8e-4c50-95d3-b47b02a691f5",
   "metadata": {},
   "outputs": [
    {
     "name": "stdout",
     "output_type": "stream",
     "text": [
      "Accuracy:(0.8502475247524752, 0.7227722772277227), Recall:0.7688787185354691, Precision:0.7320261437908496, F1:0.7500000000000001\n"
     ]
    }
   ],
   "source": [
    "gs6_preds = gs6.predict(X_test)\n",
    "print(f'Accuracy:{gs6.score(X_train,y_train), gs6.score(X_test,y_test)}, Recall:{recall_score(y_test,gs6_preds)}, Precision:{precision_score(y_test,gs6_preds)}, F1:{f1_score(y_test,gs6_preds)}')\n"
   ]
  },
  {
   "cell_type": "code",
   "execution_count": 50,
   "id": "5a0bf72f-dc24-4f83-83b7-8f0baeefca2d",
   "metadata": {},
   "outputs": [
    {
     "name": "stdout",
     "output_type": "stream",
     "text": [
      "Train score is 0.8502475247524752\n",
      "Test score is 0.7227722772277227\n"
     ]
    }
   ],
   "source": [
    "# Score model on training set.\n",
    "print(f'Train score is {gs6.score(X_train, y_train)}')\n",
    "# Score model on testing set.\n",
    "print(f'Test score is {gs6.score(X_test, y_test)}')"
   ]
  },
  {
   "cell_type": "markdown",
   "id": "1864162e-aeaf-417f-aa15-48b895942895",
   "metadata": {},
   "source": [
    "* So, accuracy may is not the best scorew"
   ]
  },
  {
   "cell_type": "code",
   "execution_count": 51,
   "id": "f9779165-c84f-43d4-a919-bdde11019246",
   "metadata": {},
   "outputs": [
    {
     "data": {
      "text/html": [
       "<div>\n",
       "<style scoped>\n",
       "    .dataframe tbody tr th:only-of-type {\n",
       "        vertical-align: middle;\n",
       "    }\n",
       "\n",
       "    .dataframe tbody tr th {\n",
       "        vertical-align: top;\n",
       "    }\n",
       "\n",
       "    .dataframe thead th {\n",
       "        text-align: right;\n",
       "    }\n",
       "</style>\n",
       "<table border=\"1\" class=\"dataframe\">\n",
       "  <thead>\n",
       "    <tr style=\"text-align: right;\">\n",
       "      <th></th>\n",
       "      <th>pred neg</th>\n",
       "      <th>pred pos</th>\n",
       "    </tr>\n",
       "  </thead>\n",
       "  <tbody>\n",
       "    <tr>\n",
       "      <th>actual neg</th>\n",
       "      <td>True Negative</td>\n",
       "      <td>False Positive</td>\n",
       "    </tr>\n",
       "    <tr>\n",
       "      <th>actual pos</th>\n",
       "      <td>False Negative</td>\n",
       "      <td>True Positive</td>\n",
       "    </tr>\n",
       "  </tbody>\n",
       "</table>\n",
       "</div>"
      ],
      "text/plain": [
       "                  pred neg        pred pos\n",
       "actual neg   True Negative  False Positive\n",
       "actual pos  False Negative   True Positive"
      ]
     },
     "metadata": {},
     "output_type": "display_data"
    },
    {
     "data": {
      "text/html": [
       "<div>\n",
       "<style scoped>\n",
       "    .dataframe tbody tr th:only-of-type {\n",
       "        vertical-align: middle;\n",
       "    }\n",
       "\n",
       "    .dataframe tbody tr th {\n",
       "        vertical-align: top;\n",
       "    }\n",
       "\n",
       "    .dataframe thead th {\n",
       "        text-align: right;\n",
       "    }\n",
       "</style>\n",
       "<table border=\"1\" class=\"dataframe\">\n",
       "  <thead>\n",
       "    <tr style=\"text-align: right;\">\n",
       "      <th></th>\n",
       "      <th>pred neg</th>\n",
       "      <th>pred pos</th>\n",
       "    </tr>\n",
       "  </thead>\n",
       "  <tbody>\n",
       "    <tr>\n",
       "      <th>actual neg</th>\n",
       "      <td>248</td>\n",
       "      <td>123</td>\n",
       "    </tr>\n",
       "    <tr>\n",
       "      <th>actual pos</th>\n",
       "      <td>101</td>\n",
       "      <td>336</td>\n",
       "    </tr>\n",
       "  </tbody>\n",
       "</table>\n",
       "</div>"
      ],
      "text/plain": [
       "            pred neg  pred pos\n",
       "actual neg       248       123\n",
       "actual pos       101       336"
      ]
     },
     "metadata": {},
     "output_type": "display_data"
    }
   ],
   "source": [
    "y_pred = gs6.predict(X_test)\n",
    "cm_def = np.array([['True Negative', 'False Positive'],\n",
    "                ['False Negative', 'True Positive']])\n",
    "cm_def = pd.DataFrame(cm_def,columns = ['pred neg', 'pred pos'], index = ['actual neg','actual pos'])\n",
    "cm = confusion_matrix(y_test, y_pred)\n",
    "cm_df = pd.DataFrame(cm, columns = ['pred neg', 'pred pos'], index = ['actual neg','actual pos'])\n",
    "display(cm_def)\n",
    "display(cm_df)"
   ]
  },
  {
   "cell_type": "code",
   "execution_count": 52,
   "id": "636560f5-e55d-4552-9255-43303c94e90d",
   "metadata": {},
   "outputs": [
    {
     "name": "stdout",
     "output_type": "stream",
     "text": [
      "Specificity: 0.6684636118598383\n",
      "Precision: 0.7320261437908496\n"
     ]
    }
   ],
   "source": [
    "# Get predictions\n",
    "preds_tvec = gs6.predict(X_test)\n",
    "\n",
    "# Save confusion matrix values\n",
    "tn, fp, fn, tp = confusion_matrix(y_test, preds_tvec).ravel()\n",
    "\n",
    "# Calculate the specificity and precision\n",
    "\n",
    "spec = tn / (tn + fp)\n",
    "prec = tp / (tp + fp)\n",
    "\n",
    "print('Specificity:', spec)\n",
    "print('Precision:', prec)"
   ]
  },
  {
   "cell_type": "markdown",
   "id": "c36c5d81-0ca9-4913-a11e-724200a0cfd4",
   "metadata": {},
   "source": [
    "## model Selection\n",
    "\n",
    "### Putting all my models together:"
   ]
  },
  {
   "cell_type": "markdown",
   "id": "22546267-f72b-4888-a934-e456700da364",
   "metadata": {},
   "source": [
    "|Model classifier| Training Score| Testing Score| Recall|Precision|F1|\n",
    "|--|--|--|--|--|--|\n",
    "|CountVectorizer & Logistic Regression|0.924|0.735|0.8124|0.7290|0.7684|\n",
    "|TF - IDF Vectorizer & Logistic Regression|<mark>0.9088</mark>|<mark>0.744</mark>|<mark>0.8304</mark>|<mark>0.7319</mark>|<mark>0.7781</mark>|\n",
    "|CountVectorizer & Random Forest Classifier|0.9864|0.6956|0.8238|0.6805|0.7453|\n",
    "|TFIDF and Random Forest Classifer|0.9951|0.6720|0.7277|0.6854|0.7059|\n",
    "|TFIDF and Support Vector Machine Classifier|0.9847|0.7413|0.8101|0.7375|0.7721|\n",
    "|CountVectorizer & Multinomial Naive Bayes|<mark>0.8502</mark>|<mark>0.7228</mark>|<mark>0.7689</mark>|<mark>0.7320</mark>|<mark>0.7500</mark>|"
   ]
  },
  {
   "cell_type": "markdown",
   "id": "4aef1285-3aed-4622-9c09-7b462fb1aa60",
   "metadata": {},
   "source": [
    "Although the MultinomialNB looks less overfitting, I am choosing TF - IDF Vectorizer & Logistic Regression since it has better accuracy based on my [reference](https://datascience.stackexchange.com/questions/53256/how-to-know-if-a-model-is-overfitting-or-underfitting-by-looking-at-graph):\n",
    "  > Overfitting is easy to diagnose with the accuracy visualizations you have available. If \"Accuracy\" (measured against the training set) is very good and \"Validation Accuracy\" (measured against a validation set) is not as good, then your model is overfitting."
   ]
  },
  {
   "cell_type": "markdown",
   "id": "6ad9024e-6a9e-4922-9689-41004a66793d",
   "metadata": {},
   "source": [
    "### The Model TF - IDF Vectorizer & Logistic Regression is the best model to be selected for this project"
   ]
  },
  {
   "cell_type": "markdown",
   "id": "1acd3f20-2a1b-4dc7-bd38-06f4bec9a5a3",
   "metadata": {},
   "source": [
    "So, putting everything altogether:"
   ]
  },
  {
   "cell_type": "code",
   "execution_count": 53,
   "id": "753a50d5-62ee-471a-a7fa-55634816ad62",
   "metadata": {},
   "outputs": [],
   "source": [
    "# copying my previous work\n",
    "\n",
    "gs_model = gs2.best_estimator_"
   ]
  },
  {
   "cell_type": "code",
   "execution_count": 54,
   "id": "80b7ceec-b41a-48ab-8c46-14b3d253660e",
   "metadata": {},
   "outputs": [
    {
     "name": "stdout",
     "output_type": "stream",
     "text": [
      "Accuracy:(0.9088283828382838, 0.7438118811881188), Recall:0.8306636155606407, Precision:0.7318548387096774, F1:0.7781350482315113\n"
     ]
    }
   ],
   "source": [
    "gs2_preds = gs2.predict(X_test)\n",
    "print(f'Accuracy:{gs2.score(X_train,y_train), gs2.score(X_test,y_test)}, Recall:{recall_score(y_test,gs2_preds)}, Precision:{precision_score(y_test,gs2_preds)}, F1:{f1_score(y_test,gs2_preds)}')\n"
   ]
  },
  {
   "cell_type": "code",
   "execution_count": 55,
   "id": "e1e951ab-ecb3-4fa7-872e-3baca30afd46",
   "metadata": {},
   "outputs": [
    {
     "data": {
      "image/png": "[encoded data removed]",
      "text/plain": [
       "<Figure size 432x288 with 2 Axes>"
      ]
     },
     "metadata": {
      "needs_background": "light"
     },
     "output_type": "display_data"
    }
   ],
   "source": [
    "tn, fp, fn, tp = confusion_matrix(y_test, gs2_preds).ravel()\n",
    "plot_confusion_matrix(gs_model,X_test,y_test, \n",
    "                      display_labels=['CryptoCurrency', 'StockMarket'],\n",
    "                     cmap='PuRd');\n",
    "plt.title('LogsticRegression Confusion Matrix',size=20);\n",
    "plt.tight_layout();\n",
    "#plt.savefig('./imgs/cm_4best_model.png');"
   ]
  },
  {
   "cell_type": "code",
   "execution_count": 56,
   "id": "8b5de5cc-5ce8-4692-b121-b2dc8337d9bf",
   "metadata": {},
   "outputs": [
    {
     "name": "stdout",
     "output_type": "stream",
     "text": [
      "Train score is 0.9088283828382838\n",
      "Test score is 0.7438118811881188\n"
     ]
    }
   ],
   "source": [
    "\n",
    "# Score model on training set.\n",
    "print(f'Train score is {gs_model.score(X_train, y_train)}')\n",
    "# Score model on testing set.\n",
    "print(f'Test score is {gs_model.score(X_test, y_test)}')\n",
    "\n"
   ]
  },
  {
   "cell_type": "code",
   "execution_count": 57,
   "id": "627581d6-d2a2-470f-a658-43b530d76830",
   "metadata": {},
   "outputs": [
    {
     "data": {
      "text/html": [
       "<div>\n",
       "<style scoped>\n",
       "    .dataframe tbody tr th:only-of-type {\n",
       "        vertical-align: middle;\n",
       "    }\n",
       "\n",
       "    .dataframe tbody tr th {\n",
       "        vertical-align: top;\n",
       "    }\n",
       "\n",
       "    .dataframe thead th {\n",
       "        text-align: right;\n",
       "    }\n",
       "</style>\n",
       "<table border=\"1\" class=\"dataframe\">\n",
       "  <thead>\n",
       "    <tr style=\"text-align: right;\">\n",
       "      <th></th>\n",
       "      <th>pred neg</th>\n",
       "      <th>pred pos</th>\n",
       "    </tr>\n",
       "  </thead>\n",
       "  <tbody>\n",
       "    <tr>\n",
       "      <th>actual neg</th>\n",
       "      <td>True Negative</td>\n",
       "      <td>False Positive</td>\n",
       "    </tr>\n",
       "    <tr>\n",
       "      <th>actual pos</th>\n",
       "      <td>False Negative</td>\n",
       "      <td>True Positive</td>\n",
       "    </tr>\n",
       "  </tbody>\n",
       "</table>\n",
       "</div>"
      ],
      "text/plain": [
       "                  pred neg        pred pos\n",
       "actual neg   True Negative  False Positive\n",
       "actual pos  False Negative   True Positive"
      ]
     },
     "metadata": {},
     "output_type": "display_data"
    },
    {
     "data": {
      "text/html": [
       "<div>\n",
       "<style scoped>\n",
       "    .dataframe tbody tr th:only-of-type {\n",
       "        vertical-align: middle;\n",
       "    }\n",
       "\n",
       "    .dataframe tbody tr th {\n",
       "        vertical-align: top;\n",
       "    }\n",
       "\n",
       "    .dataframe thead th {\n",
       "        text-align: right;\n",
       "    }\n",
       "</style>\n",
       "<table border=\"1\" class=\"dataframe\">\n",
       "  <thead>\n",
       "    <tr style=\"text-align: right;\">\n",
       "      <th></th>\n",
       "      <th>pred neg</th>\n",
       "      <th>pred pos</th>\n",
       "    </tr>\n",
       "  </thead>\n",
       "  <tbody>\n",
       "    <tr>\n",
       "      <th>actual neg</th>\n",
       "      <td>238</td>\n",
       "      <td>133</td>\n",
       "    </tr>\n",
       "    <tr>\n",
       "      <th>actual pos</th>\n",
       "      <td>74</td>\n",
       "      <td>363</td>\n",
       "    </tr>\n",
       "  </tbody>\n",
       "</table>\n",
       "</div>"
      ],
      "text/plain": [
       "            pred neg  pred pos\n",
       "actual neg       238       133\n",
       "actual pos        74       363"
      ]
     },
     "metadata": {},
     "output_type": "display_data"
    }
   ],
   "source": [
    "y_pred = gs2.predict(X_test)\n",
    "cm_def = np.array([['True Negative', 'False Positive'],\n",
    "                ['False Negative', 'True Positive']])\n",
    "cm_def = pd.DataFrame(cm_def,columns = ['pred neg', 'pred pos'], index = ['actual neg','actual pos'])\n",
    "cm = confusion_matrix(y_test, y_pred)\n",
    "cm_df = pd.DataFrame(cm, columns = ['pred neg', 'pred pos'], index = ['actual neg','actual pos'])\n",
    "display(cm_def)\n",
    "display(cm_df)"
   ]
  },
  {
   "cell_type": "code",
   "execution_count": 58,
   "id": "61023947-3d36-45de-81e0-b7181881ada5",
   "metadata": {},
   "outputs": [
    {
     "name": "stdout",
     "output_type": "stream",
     "text": [
      "Specificity: 0.6415094339622641\n",
      "Precision: 0.7318548387096774\n",
      "Sensitivty: 0.8306636155606407\n",
      "Accuracy: 0.7438118811881188\n"
     ]
    }
   ],
   "source": [
    "# Get predictions\n",
    "preds = gs2.predict(X_test)\n",
    "\n",
    "# Save confusion matrix values\n",
    "tn, fp, fn, tp = confusion_matrix(y_test, preds).ravel()\n",
    "\n",
    "# Calculate the specificity and precision\n",
    "\n",
    "spec = tn / (tn + fp)\n",
    "prec = tp / (tp + fp)\n",
    "acc = (tp + tn)/(tp + tn + fp + fn)\n",
    "sens = tp/(tp+fn)\n",
    "\n",
    "print('Specificity:', spec)\n",
    "print('Precision:', prec)\n",
    "print('Sensitivty:', sens)\n",
    "print('Accuracy:', acc)"
   ]
  },
  {
   "cell_type": "markdown",
   "id": "29c4645f-05c3-49ea-b0f7-0c78920a0baa",
   "metadata": {},
   "source": [
    "With my crypto as actual positive, and stock as negative, my confusion matrix looks like:\n",
    "    \n",
    "||Predicted Negative|Predicted Positive|   \n",
    "|---|---|---|\n",
    "|Actual Negative|TN|<mark>FP</mark>|\n",
    "|Actual Positive|<mark>FN</mark>|TP|\n",
    "\n",
    "\n",
    "||Predicted Negative|Predicted Positive|   \n",
    "|---|---|---|\n",
    "|Stock|TN|<mark>133</mark>|\n",
    "|Crypto|<mark>74</mark>|TP|"
   ]
  },
  {
   "cell_type": "markdown",
   "id": "9b5661da-b755-43ff-ae14-3351fc953e6d",
   "metadata": {},
   "source": [
    "Specificity: spec = tn / (tn + fp) = 0.6415\n",
    "\n",
    "⇢ the model predicted 64.15% of the posts belong to the stock market subreddit\n",
    "\n",
    "⇢ Type I Error ( or FP)  = 1- spec = 0.3585 \n",
    "\n",
    "* the model incorrectly predicted 35.85% of the post as cryptocurrency subreddit\n",
    "\n",
    "Sensitivity: sens = tp/(tp+fn) = 0.8307\n",
    "\n",
    "⇢ the model correctly predicted 83.07% of the posts belong to the cryptocurrency subreddit\n",
    "\n",
    "⇢ Type II Error ( or FN)  = 1- sens = 0.1693\n",
    "\n",
    "* the model incorrectly predicted 16.93% of the post as StockMarket subreddit\n",
    "\n",
    "Accuracy: acc = (tp + tn)/(tp + tn + fp + fn) = 0.7438\n",
    "\n",
    "⇢ the model predicted 74.38% of the posts correct\n"
   ]
  },
  {
   "cell_type": "code",
   "execution_count": 59,
   "id": "2c2fcfdf-3577-475c-8764-4d4d8faaf775",
   "metadata": {},
   "outputs": [
    {
     "data": {
      "image/png": "[encoded data removed]",
      "text/plain": [
       "<Figure size 432x288 with 1 Axes>"
      ]
     },
     "metadata": {
      "needs_background": "light"
     },
     "output_type": "display_data"
    }
   ],
   "source": [
    "\n",
    "pipe2 = Pipeline([\n",
    "                ('tf', TfidfVectorizer()),\n",
    "                ('lr', LogisticRegression())\n",
    "])\n",
    "\n",
    "params2 = {\n",
    "                'tf__max_features' : [5000,10_000,15_000],\n",
    "                'tf__ngram_range' : [(1,1), (1,2)]\n",
    "}\n",
    "\n",
    "gs2 = GridSearchCV(pipe2, param_grid = params2, cv = 5)\n",
    "\n",
    "gs2.fit(X_train, y_train)\n",
    "\n",
    "# ROC curve\n",
    "plot_roc_curve(gs2, X_test, y_test)\n",
    "\n",
    "# add worst case scenario line\n",
    "plt.plot([0, 1], [0, 1], label=\"baseline\", linestyle=\"--\")\n",
    "\n",
    "# add a legend\n",
    "plt.legend();"
   ]
  },
  {
   "cell_type": "markdown",
   "id": "3582ff7b-7239-4ef2-b46a-1afef89f4de7",
   "metadata": {},
   "source": [
    "I  want see the blue curve to be as close as possible to a square corner, thus making the area under the curve as close to 1 as possible, but it’s far but not bad.\n",
    "\n",
    "False positive rate = type I error \n",
    "\n",
    "1 − specificity\n",
    "\n",
    "= FP / (FP + TN\n",
    "            \n",
    "\n",
    "\n"
   ]
  },
  {
   "cell_type": "markdown",
   "id": "495b0560-68ed-4095-88f4-147ea3583efa",
   "metadata": {},
   "source": [
    "False  negative rate = type II error\n",
    "\n",
    "   = 1 − sensitivity\n",
    "   \n",
    "   = FN / (TP + FN)\n",
    "\n",
    "The ROC curve is a plot of the True Positive Rate (sensitivity) vs. the False Positive Rate (1 - specificity) for all possible decision thresholds.\u000b",
    "\n",
    "\n",
    "* ROC is a plot of signal (True Positive Rate) against noise (False Positive Rate). ... The model performance is determined by looking at the area under the ROC curve (or AUC).\n"
   ]
  },
  {
   "cell_type": "markdown",
   "id": "2f68ef1f-b2a9-4ee0-8bc3-85835bc92f9e",
   "metadata": {},
   "source": [
    "### Conclusions and Recommendations"
   ]
  },
  {
   "cell_type": "markdown",
   "id": "92942aa5-15ed-42ee-90fc-b472d97c100d",
   "metadata": {},
   "source": [
    "\n",
    "* My Best scoring model: Logistic regression, Train / test score: 0.9089/0.7438\n",
    "* Potential improvements: collect more training data, do more data cleaning and preprocessing (remove more stop words i.e., numbers, stem/lemmatize i.e. -ing verbs), more intensive gridsearching to optimize models, try more models (boosting, SVM) \n",
    "\n",
    "**>> Steps Forward**:\n",
    "\n",
    "Getting real-time data using webscraping of the subreddits, make fresh predictions and make Sentiment Analysis.\n"
   ]
  },
  {
   "cell_type": "markdown",
   "id": "987030f6-ccfd-4203-a28e-b3cbfc6c690c",
   "metadata": {},
   "source": [
    "References:\n",
    "\n",
    "* [Is your model overfitting? Or maybe underfitting? An example using a neural network](https://towardsdatascience.com/is-your-model-overfitting-or-maybe-underfitting-an-example-using-a-neural-network-in-python-4faf155398d2)\n",
    "* [How to Identify Overfitting Machine Learning Models in Scikit-Learn](https://machinelearningmastery.com/overfitting-machine-learning-models/)"
   ]
  },
  {
   "cell_type": "markdown",
   "id": "15031bf7-a631-4b43-b5b4-d3e3bd4b2617",
   "metadata": {},
   "source": [
    "Matrix color names:\n",
    "\n",
    "\n",
    "supported values are:\n",
    "\n"
   ]
  },
  {
   "cell_type": "code",
   "execution_count": 60,
   "id": "0d4e5ae7-f8e9-41f9-b64e-24f3911af21d",
   "metadata": {},
   "outputs": [],
   "source": [
    "colors = ['Accent', 'Accent_r', 'Blues', 'Blues_r', 'BrBG', 'BrBG_r', 'BuGn', 'BuGn_r', 'BuPu', 'BuPu_r', 'CMRmap', 'CMRmap_r', 'Dark2', 'Dark2_r', 'GnBu', 'GnBu_r', 'Greens', 'Greens_r', 'Greys', 'Greys_r', 'OrRd', 'OrRd_r', 'Oranges', 'Oranges_r', 'PRGn', 'PRGn_r', 'Paired', 'Paired_r', 'Pastel1', 'Pastel1_r', 'Pastel2', 'Pastel2_r', 'PiYG', 'PiYG_r', 'PuBu', 'PuBuGn', 'PuBuGn_r', 'PuBu_r', 'PuOr', 'PuOr_r', 'PuRd', 'PuRd_r', 'Purples', 'Purples_r', 'RdBu', 'RdBu_r', 'RdGy', 'RdGy_r', 'RdPu', 'RdPu_r', 'RdYlBu', 'RdYlBu_r', 'RdYlGn', 'RdYlGn_r', 'Reds', 'Reds_r', 'Set1', 'Set1_r', 'Set2', 'Set2_r', 'Set3', 'Set3_r', 'Spectral', 'Spectral_r', 'Wistia', 'Wistia_r', 'YlGn', 'YlGnBu', 'YlGnBu_r', 'YlGn_r', 'YlOrBr', 'YlOrBr_r', 'YlOrRd', 'YlOrRd_r', 'afmhot', 'afmhot_r', 'autumn', 'autumn_r', 'binary', 'binary_r', 'bone', 'bone_r', 'brg', 'brg_r', 'bwr', 'bwr_r', 'cividis', 'cividis_r', 'cool', 'cool_r', 'coolwarm', 'coolwarm_r', 'copper', 'copper_r', 'cubehelix', 'cubehelix_r', 'flag', 'flag_r', 'gist_earth', 'gist_earth_r', 'gist_gray', 'gist_gray_r', 'gist_heat', 'gist_heat_r', 'gist_ncar', 'gist_ncar_r', 'gist_rainbow', 'gist_rainbow_r', 'gist_stern', 'gist_stern_r', 'gist_yarg', 'gist_yarg_r', 'gnuplot', 'gnuplot2', 'gnuplot2_r', 'gnuplot_r', 'gray', 'gray_r', 'hot', 'hot_r', 'hsv', 'hsv_r', 'inferno', 'inferno_r', 'jet', 'jet_r', 'magma', 'magma_r', 'nipy_spectral', 'nipy_spectral_r', 'ocean', 'ocean_r', 'pink', 'pink_r', 'plasma', 'plasma_r', 'prism', 'prism_r', 'rainbow', 'rainbow_r', 'seismic', 'seismic_r', 'spring', 'spring_r', 'summer', 'summer_r', 'tab10', 'tab10_r', 'tab20', 'tab20_r', 'tab20b', 'tab20b_r', 'tab20c', 'tab20c_r', 'terrain', 'terrain_r', 'turbo', 'turbo_r', 'twilight', 'twilight_r', 'twilight_shifted', 'twilight_shifted_r', 'viridis', 'viridis_r', 'winter', 'winter_r']"
   ]
  },
  {
   "cell_type": "code",
   "execution_count": 61,
   "id": "643a6509-3d26-4412-86fd-19c0c36349ac",
   "metadata": {},
   "outputs": [
    {
     "data": {
      "text/plain": [
       "['Accent',\n",
       " 'Accent_r',\n",
       " 'Blues',\n",
       " 'Blues_r',\n",
       " 'BrBG',\n",
       " 'BrBG_r',\n",
       " 'BuGn',\n",
       " 'BuGn_r',\n",
       " 'BuPu',\n",
       " 'BuPu_r',\n",
       " 'CMRmap',\n",
       " 'CMRmap_r',\n",
       " 'Dark2',\n",
       " 'Dark2_r',\n",
       " 'GnBu',\n",
       " 'GnBu_r',\n",
       " 'Greens',\n",
       " 'Greens_r',\n",
       " 'Greys',\n",
       " 'Greys_r',\n",
       " 'OrRd',\n",
       " 'OrRd_r',\n",
       " 'Oranges',\n",
       " 'Oranges_r',\n",
       " 'PRGn',\n",
       " 'PRGn_r',\n",
       " 'Paired',\n",
       " 'Paired_r',\n",
       " 'Pastel1',\n",
       " 'Pastel1_r',\n",
       " 'Pastel2',\n",
       " 'Pastel2_r',\n",
       " 'PiYG',\n",
       " 'PiYG_r',\n",
       " 'PuBu',\n",
       " 'PuBuGn',\n",
       " 'PuBuGn_r',\n",
       " 'PuBu_r',\n",
       " 'PuOr',\n",
       " 'PuOr_r',\n",
       " 'PuRd',\n",
       " 'PuRd_r',\n",
       " 'Purples',\n",
       " 'Purples_r',\n",
       " 'RdBu',\n",
       " 'RdBu_r',\n",
       " 'RdGy',\n",
       " 'RdGy_r',\n",
       " 'RdPu',\n",
       " 'RdPu_r',\n",
       " 'RdYlBu',\n",
       " 'RdYlBu_r',\n",
       " 'RdYlGn',\n",
       " 'RdYlGn_r',\n",
       " 'Reds',\n",
       " 'Reds_r',\n",
       " 'Set1',\n",
       " 'Set1_r',\n",
       " 'Set2',\n",
       " 'Set2_r',\n",
       " 'Set3',\n",
       " 'Set3_r',\n",
       " 'Spectral',\n",
       " 'Spectral_r',\n",
       " 'Wistia',\n",
       " 'Wistia_r',\n",
       " 'YlGn',\n",
       " 'YlGnBu',\n",
       " 'YlGnBu_r',\n",
       " 'YlGn_r',\n",
       " 'YlOrBr',\n",
       " 'YlOrBr_r',\n",
       " 'YlOrRd',\n",
       " 'YlOrRd_r',\n",
       " 'afmhot',\n",
       " 'afmhot_r',\n",
       " 'autumn',\n",
       " 'autumn_r',\n",
       " 'binary',\n",
       " 'binary_r',\n",
       " 'bone',\n",
       " 'bone_r',\n",
       " 'brg',\n",
       " 'brg_r',\n",
       " 'bwr',\n",
       " 'bwr_r',\n",
       " 'cividis',\n",
       " 'cividis_r',\n",
       " 'cool',\n",
       " 'cool_r',\n",
       " 'coolwarm',\n",
       " 'coolwarm_r',\n",
       " 'copper',\n",
       " 'copper_r',\n",
       " 'cubehelix',\n",
       " 'cubehelix_r',\n",
       " 'flag',\n",
       " 'flag_r',\n",
       " 'gist_earth',\n",
       " 'gist_earth_r',\n",
       " 'gist_gray',\n",
       " 'gist_gray_r',\n",
       " 'gist_heat',\n",
       " 'gist_heat_r',\n",
       " 'gist_ncar',\n",
       " 'gist_ncar_r',\n",
       " 'gist_rainbow',\n",
       " 'gist_rainbow_r',\n",
       " 'gist_stern',\n",
       " 'gist_stern_r',\n",
       " 'gist_yarg',\n",
       " 'gist_yarg_r',\n",
       " 'gnuplot',\n",
       " 'gnuplot2',\n",
       " 'gnuplot2_r',\n",
       " 'gnuplot_r',\n",
       " 'gray',\n",
       " 'gray_r',\n",
       " 'hot',\n",
       " 'hot_r',\n",
       " 'hsv',\n",
       " 'hsv_r',\n",
       " 'inferno',\n",
       " 'inferno_r',\n",
       " 'jet',\n",
       " 'jet_r',\n",
       " 'magma',\n",
       " 'magma_r',\n",
       " 'nipy_spectral',\n",
       " 'nipy_spectral_r',\n",
       " 'ocean',\n",
       " 'ocean_r',\n",
       " 'pink',\n",
       " 'pink_r',\n",
       " 'plasma',\n",
       " 'plasma_r',\n",
       " 'prism',\n",
       " 'prism_r',\n",
       " 'rainbow',\n",
       " 'rainbow_r',\n",
       " 'seismic',\n",
       " 'seismic_r',\n",
       " 'spring',\n",
       " 'spring_r',\n",
       " 'summer',\n",
       " 'summer_r',\n",
       " 'tab10',\n",
       " 'tab10_r',\n",
       " 'tab20',\n",
       " 'tab20_r',\n",
       " 'tab20b',\n",
       " 'tab20b_r',\n",
       " 'tab20c',\n",
       " 'tab20c_r',\n",
       " 'terrain',\n",
       " 'terrain_r',\n",
       " 'turbo',\n",
       " 'turbo_r',\n",
       " 'twilight',\n",
       " 'twilight_r',\n",
       " 'twilight_shifted',\n",
       " 'twilight_shifted_r',\n",
       " 'viridis',\n",
       " 'viridis_r',\n",
       " 'winter',\n",
       " 'winter_r']"
      ]
     },
     "execution_count": 61,
     "metadata": {},
     "output_type": "execute_result"
    }
   ],
   "source": [
    "colors"
   ]
  },
  {
   "cell_type": "code",
   "execution_count": null,
   "id": "f1d18c11-bf29-4b67-8f86-dd02e32627c5",
   "metadata": {},
   "outputs": [],
   "source": []
  }
 ],
 "metadata": {
  "kernelspec": {
   "display_name": "Python 3",
   "language": "python",
   "name": "python3"
  },
  "language_info": {
   "codemirror_mode": {
    "name": "ipython",
    "version": 3
   },
   "file_extension": ".py",
   "mimetype": "text/x-python",
   "name": "python",
   "nbconvert_exporter": "python",
   "pygments_lexer": "ipython3",
   "version": "3.8.8"
  }
 },
 "nbformat": 4,
 "nbformat_minor": 5
}
