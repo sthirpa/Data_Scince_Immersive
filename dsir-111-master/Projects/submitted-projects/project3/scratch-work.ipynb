{
 "cells": [
  {
   "cell_type": "code",
   "execution_count": 1,
   "id": "96b09e29-9bae-4800-baed-f880043712bb",
   "metadata": {},
   "outputs": [],
   "source": [
    "import numpy as np\n",
    "import pandas as pd\n",
    "import matplotlib.pyplot as plt\n",
    "from sklearn.feature_extraction.text import CountVectorizer, TfidfVectorizer\n",
    "from sklearn.pipeline import Pipeline\n",
    "from sklearn.linear_model import LogisticRegression\n",
    "from sklearn.naive_bayes import MultinomialNB\n",
    "from sklearn.model_selection import train_test_split, GridSearchCV\n",
    "from sklearn.ensemble import BaggingClassifier, ExtraTreesClassifier, RandomForestClassifier, GradientBoostingClassifier, AdaBoostClassifier\n",
    "from sklearn import metrics\n",
    "from sklearn.metrics import confusion_matrix, plot_confusion_matrix\n",
    "from sklearn.svm import SVC\n",
    "\n",
    "\n",
    "#from textblob import TextBlob, Word"
   ]
  },
  {
   "cell_type": "code",
   "execution_count": 2,
   "id": "c905113c-165f-4662-8709-d4dd63b17d6c",
   "metadata": {},
   "outputs": [
    {
     "data": {
      "text/html": [
       "<div>\n",
       "<style scoped>\n",
       "    .dataframe tbody tr th:only-of-type {\n",
       "        vertical-align: middle;\n",
       "    }\n",
       "\n",
       "    .dataframe tbody tr th {\n",
       "        vertical-align: top;\n",
       "    }\n",
       "\n",
       "    .dataframe thead th {\n",
       "        text-align: right;\n",
       "    }\n",
       "</style>\n",
       "<table border=\"1\" class=\"dataframe\">\n",
       "  <thead>\n",
       "    <tr style=\"text-align: right;\">\n",
       "      <th></th>\n",
       "      <th>body</th>\n",
       "      <th>length</th>\n",
       "      <th>word_count</th>\n",
       "      <th>target</th>\n",
       "    </tr>\n",
       "  </thead>\n",
       "  <tbody>\n",
       "    <tr>\n",
       "      <th>0</th>\n",
       "      <td>typically hosting centralized service and mere...</td>\n",
       "      <td>186</td>\n",
       "      <td>30</td>\n",
       "      <td>1</td>\n",
       "    </tr>\n",
       "    <tr>\n",
       "      <th>1</th>\n",
       "      <td>yup feast for</td>\n",
       "      <td>25</td>\n",
       "      <td>6</td>\n",
       "      <td>1</td>\n",
       "    </tr>\n",
       "    <tr>\n",
       "      <th>2</th>\n",
       "      <td>4000 you kidding right the floor bored ape lik...</td>\n",
       "      <td>68</td>\n",
       "      <td>13</td>\n",
       "      <td>1</td>\n",
       "    </tr>\n",
       "    <tr>\n",
       "      <th>3</th>\n",
       "      <td>prognosis negative someone dropped fucking jun...</td>\n",
       "      <td>72</td>\n",
       "      <td>11</td>\n",
       "      <td>1</td>\n",
       "    </tr>\n",
       "    <tr>\n",
       "      <th>4</th>\n",
       "      <td>nano but for monkey</td>\n",
       "      <td>22</td>\n",
       "      <td>4</td>\n",
       "      <td>1</td>\n",
       "    </tr>\n",
       "  </tbody>\n",
       "</table>\n",
       "</div>"
      ],
      "text/plain": [
       "                                                body  length  word_count  \\\n",
       "0  typically hosting centralized service and mere...     186          30   \n",
       "1                                     yup feast for       25           6   \n",
       "2  4000 you kidding right the floor bored ape lik...      68          13   \n",
       "3  prognosis negative someone dropped fucking jun...      72          11   \n",
       "4                               nano but for monkey       22           4   \n",
       "\n",
       "   target  \n",
       "0       1  \n",
       "1       1  \n",
       "2       1  \n",
       "3       1  \n",
       "4       1  "
      ]
     },
     "execution_count": 2,
     "metadata": {},
     "output_type": "execute_result"
    }
   ],
   "source": [
    "# import cleaned comments data from csv\n",
    "df = pd.read_csv('comments_clean.csv')\n",
    "df.head()"
   ]
  },
  {
   "cell_type": "code",
   "execution_count": 3,
   "id": "1f32c3ee-d193-408e-8e3e-b9058382eda0",
   "metadata": {},
   "outputs": [
    {
     "name": "stdout",
     "output_type": "stream",
     "text": [
      "<class 'pandas.core.frame.DataFrame'>\n",
      "RangeIndex: 3232 entries, 0 to 3231\n",
      "Data columns (total 4 columns):\n",
      " #   Column      Non-Null Count  Dtype \n",
      "---  ------      --------------  ----- \n",
      " 0   body        3232 non-null   object\n",
      " 1   length      3232 non-null   int64 \n",
      " 2   word_count  3232 non-null   int64 \n",
      " 3   target      3232 non-null   int64 \n",
      "dtypes: int64(3), object(1)\n",
      "memory usage: 101.1+ KB\n"
     ]
    }
   ],
   "source": [
    "df.info()"
   ]
  },
  {
   "cell_type": "code",
   "execution_count": 4,
   "id": "ccea5a81-49e4-41d2-a558-cbb2cae3d958",
   "metadata": {},
   "outputs": [
    {
     "data": {
      "text/plain": [
       "body          0\n",
       "length        0\n",
       "word_count    0\n",
       "target        0\n",
       "dtype: int64"
      ]
     },
     "execution_count": 4,
     "metadata": {},
     "output_type": "execute_result"
    }
   ],
   "source": [
    "df.isna().sum()"
   ]
  },
  {
   "cell_type": "code",
   "execution_count": null,
   "id": "7edd2859-25ac-4f5f-9ee2-484275b8c1b2",
   "metadata": {},
   "outputs": [],
   "source": []
  },
  {
   "cell_type": "code",
   "execution_count": null,
   "id": "ea21c8e0-964b-42ea-8644-a18220e17b0f",
   "metadata": {},
   "outputs": [],
   "source": []
  },
  {
   "cell_type": "code",
   "execution_count": null,
   "id": "1c051557-1ba9-49ab-b3bc-4aac693c15c8",
   "metadata": {},
   "outputs": [],
   "source": []
  },
  {
   "cell_type": "markdown",
   "id": "77750d0c-49a2-4029-b394-ac8d1baf0de9",
   "metadata": {},
   "source": [
    "## set up X and y, train/test split"
   ]
  },
  {
   "cell_type": "code",
   "execution_count": 5,
   "id": "01ca7bc8-3c1d-4da4-be8b-69e439c50f88",
   "metadata": {},
   "outputs": [
    {
     "data": {
      "text/plain": [
       "1    0.541151\n",
       "0    0.458849\n",
       "Name: target, dtype: float64"
      ]
     },
     "execution_count": 5,
     "metadata": {},
     "output_type": "execute_result"
    }
   ],
   "source": [
    "X = df['body']\n",
    "y = df['target']\n",
    "\n",
    "y.value_counts(normalize=True) # baseline accuracy\n",
    "\n"
   ]
  },
  {
   "cell_type": "code",
   "execution_count": 6,
   "id": "fd14a871-19ae-4bbf-9e27-24a31dc12aab",
   "metadata": {},
   "outputs": [],
   "source": [
    "# train/test split\n",
    "# stratify y just in case, even though the classes are balanced\n",
    "# test_size : default = 0.25\n",
    "# shuffle: default = True\n",
    "\n",
    "X_train, X_test, y_train, y_test = train_test_split(X, \n",
    "                                                    y, \n",
    "                                                    stratify=y, #to keep the same balance of y in the test and train data\n",
    "                                                    random_state=42)"
   ]
  },
  {
   "cell_type": "code",
   "execution_count": 7,
   "id": "1af9733e-c265-4749-85e3-191723a41971",
   "metadata": {},
   "outputs": [
    {
     "data": {
      "text/plain": [
       "504297"
      ]
     },
     "execution_count": 7,
     "metadata": {},
     "output_type": "execute_result"
    }
   ],
   "source": [
    "import sys\n",
    "sys.getsizeof(X_train)  # size of X_train"
   ]
  },
  {
   "cell_type": "code",
   "execution_count": 8,
   "id": "8d4b9086-2fc3-4377-a773-89e7dc369f78",
   "metadata": {},
   "outputs": [
    {
     "data": {
      "text/plain": [
       "(2424,)"
      ]
     },
     "execution_count": 8,
     "metadata": {},
     "output_type": "execute_result"
    }
   ],
   "source": [
    "X_train.shape"
   ]
  },
  {
   "cell_type": "code",
   "execution_count": 9,
   "id": "ed24d074-a764-46c1-9038-8cdf0bb768ad",
   "metadata": {},
   "outputs": [
    {
     "data": {
      "text/plain": [
       "(808,)"
      ]
     },
     "execution_count": 9,
     "metadata": {},
     "output_type": "execute_result"
    }
   ],
   "source": [
    "X_test.shape"
   ]
  },
  {
   "cell_type": "code",
   "execution_count": 10,
   "id": "442ca5da-2506-4eec-a50c-ad3f44b8ef06",
   "metadata": {},
   "outputs": [
    {
     "data": {
      "text/plain": [
       "(2424,)"
      ]
     },
     "execution_count": 10,
     "metadata": {},
     "output_type": "execute_result"
    }
   ],
   "source": [
    "y_train.shape"
   ]
  },
  {
   "cell_type": "code",
   "execution_count": 11,
   "id": "c502dc57-2359-4337-b525-96334975237d",
   "metadata": {},
   "outputs": [
    {
     "data": {
      "text/plain": [
       "(808,)"
      ]
     },
     "execution_count": 11,
     "metadata": {},
     "output_type": "execute_result"
    }
   ],
   "source": [
    "y_test.shape"
   ]
  },
  {
   "cell_type": "markdown",
   "id": "904ca9e9-d289-4911-bfb0-c3a5a7b7bfa6",
   "metadata": {},
   "source": [
    "## Model 1: TFIDF and Random Forest Classifer"
   ]
  },
  {
   "cell_type": "code",
   "execution_count": 12,
   "id": "05e66919-5be0-42df-9923-0455a2527497",
   "metadata": {},
   "outputs": [],
   "source": [
    "pipe = Pipeline([\n",
    "                ('tf', TfidfVectorizer()),\n",
    "                ('rf', RandomForestClassifier())\n",
    "])\n",
    "\n",
    "params = {\n",
    "                'tf__max_features' : [5000,10_000,15_000],\n",
    "                'tf__ngram_range' : [(1,1), (1,2)]\n",
    "}\n",
    "\n",
    "\n",
    "gs = GridSearchCV(pipe, param_grid = params, cv = 5)"
   ]
  },
  {
   "cell_type": "code",
   "execution_count": 13,
   "id": "2cb710aa-0095-4ee8-8e22-67e4869b373d",
   "metadata": {},
   "outputs": [
    {
     "data": {
      "text/plain": [
       "GridSearchCV(cv=5,\n",
       "             estimator=Pipeline(steps=[('tf', TfidfVectorizer()),\n",
       "                                       ('rf', RandomForestClassifier())]),\n",
       "             param_grid={'tf__max_features': [5000, 10000, 15000],\n",
       "                         'tf__ngram_range': [(1, 1), (1, 2)]})"
      ]
     },
     "execution_count": 13,
     "metadata": {},
     "output_type": "execute_result"
    }
   ],
   "source": [
    "gs.fit(X_train, y_train)"
   ]
  },
  {
   "cell_type": "code",
   "execution_count": 14,
   "id": "45fd6049-121b-437a-aade-5ca865cb37ee",
   "metadata": {},
   "outputs": [
    {
     "name": "stdout",
     "output_type": "stream",
     "text": [
      "{'tf__max_features': 10000, 'tf__ngram_range': (1, 2)}\n",
      "Train Accuracy: 0.99\n",
      "Test Accuracy: 0.7\n"
     ]
    }
   ],
   "source": [
    "print(gs.best_params_)\n",
    "gs_model = gs.best_estimator_\n",
    "\n",
    "gs_train_accuracy = round(gs_model.score(X_train, y_train),2)\n",
    "print(f'Train Accuracy: {gs_train_accuracy}')\n",
    "\n",
    "gs_test_accuracy = round(gs_model.score(X_test, y_test),2)\n",
    "print(f'Test Accuracy: {gs_test_accuracy}')"
   ]
  },
  {
   "cell_type": "code",
   "execution_count": 15,
   "id": "c8a410bd-1e3f-4023-8ad5-2a3e5bdc3b26",
   "metadata": {},
   "outputs": [
    {
     "data": {
      "text/html": [
       "<div>\n",
       "<style scoped>\n",
       "    .dataframe tbody tr th:only-of-type {\n",
       "        vertical-align: middle;\n",
       "    }\n",
       "\n",
       "    .dataframe tbody tr th {\n",
       "        vertical-align: top;\n",
       "    }\n",
       "\n",
       "    .dataframe thead th {\n",
       "        text-align: right;\n",
       "    }\n",
       "</style>\n",
       "<table border=\"1\" class=\"dataframe\">\n",
       "  <thead>\n",
       "    <tr style=\"text-align: right;\">\n",
       "      <th></th>\n",
       "      <th>pred neg</th>\n",
       "      <th>pred pos</th>\n",
       "    </tr>\n",
       "  </thead>\n",
       "  <tbody>\n",
       "    <tr>\n",
       "      <th>actual neg</th>\n",
       "      <td>True Negative</td>\n",
       "      <td>False Positive</td>\n",
       "    </tr>\n",
       "    <tr>\n",
       "      <th>actual pos</th>\n",
       "      <td>False Negative</td>\n",
       "      <td>True Positive</td>\n",
       "    </tr>\n",
       "  </tbody>\n",
       "</table>\n",
       "</div>"
      ],
      "text/plain": [
       "                  pred neg        pred pos\n",
       "actual neg   True Negative  False Positive\n",
       "actual pos  False Negative   True Positive"
      ]
     },
     "metadata": {},
     "output_type": "display_data"
    },
    {
     "data": {
      "text/html": [
       "<div>\n",
       "<style scoped>\n",
       "    .dataframe tbody tr th:only-of-type {\n",
       "        vertical-align: middle;\n",
       "    }\n",
       "\n",
       "    .dataframe tbody tr th {\n",
       "        vertical-align: top;\n",
       "    }\n",
       "\n",
       "    .dataframe thead th {\n",
       "        text-align: right;\n",
       "    }\n",
       "</style>\n",
       "<table border=\"1\" class=\"dataframe\">\n",
       "  <thead>\n",
       "    <tr style=\"text-align: right;\">\n",
       "      <th></th>\n",
       "      <th>pred neg</th>\n",
       "      <th>pred pos</th>\n",
       "    </tr>\n",
       "  </thead>\n",
       "  <tbody>\n",
       "    <tr>\n",
       "      <th>actual neg</th>\n",
       "      <td>224</td>\n",
       "      <td>147</td>\n",
       "    </tr>\n",
       "    <tr>\n",
       "      <th>actual pos</th>\n",
       "      <td>97</td>\n",
       "      <td>340</td>\n",
       "    </tr>\n",
       "  </tbody>\n",
       "</table>\n",
       "</div>"
      ],
      "text/plain": [
       "            pred neg  pred pos\n",
       "actual neg       224       147\n",
       "actual pos        97       340"
      ]
     },
     "metadata": {},
     "output_type": "display_data"
    }
   ],
   "source": [
    "y_pred = gs.predict(X_test)\n",
    "cm_def = np.array([['True Negative', 'False Positive'],\n",
    "                ['False Negative', 'True Positive']])\n",
    "cm_def = pd.DataFrame(cm_def,columns = ['pred neg', 'pred pos'], index = ['actual neg','actual pos'])\n",
    "cm = confusion_matrix(y_test, y_pred)\n",
    "cm_df = pd.DataFrame(cm, columns = ['pred neg', 'pred pos'], index = ['actual neg','actual pos'])\n",
    "display(cm_def)\n",
    "display(cm_df)"
   ]
  },
  {
   "cell_type": "markdown",
   "id": "e1750089-e989-4977-9d47-3cea5d79dca6",
   "metadata": {},
   "source": [
    "## Model 2: TFIDF and Extra Trees Classifer"
   ]
  },
  {
   "cell_type": "code",
   "execution_count": 16,
   "id": "b7f236fd-4db7-4d4e-881a-f686d400ab7f",
   "metadata": {},
   "outputs": [],
   "source": [
    "pipe = Pipeline([\n",
    "                ('tf', TfidfVectorizer()),\n",
    "                ('et', ExtraTreesClassifier())\n",
    "])\n",
    "\n",
    "params = {\n",
    "                'tf__max_features' : [5000,10_000,15_000],\n",
    "                'tf__ngram_range' : [(1,1), (1,2)]\n",
    "}\n",
    "\n",
    "\n",
    "gs = GridSearchCV(pipe, param_grid = params, cv = 5)"
   ]
  },
  {
   "cell_type": "code",
   "execution_count": 17,
   "id": "677c4a59-3fb6-47fd-b3ac-533f1d7cd8b9",
   "metadata": {},
   "outputs": [
    {
     "data": {
      "text/plain": [
       "GridSearchCV(cv=5,\n",
       "             estimator=Pipeline(steps=[('tf', TfidfVectorizer()),\n",
       "                                       ('et', ExtraTreesClassifier())]),\n",
       "             param_grid={'tf__max_features': [5000, 10000, 15000],\n",
       "                         'tf__ngram_range': [(1, 1), (1, 2)]})"
      ]
     },
     "execution_count": 17,
     "metadata": {},
     "output_type": "execute_result"
    }
   ],
   "source": [
    "gs.fit(X_train, y_train)\n"
   ]
  },
  {
   "cell_type": "code",
   "execution_count": 18,
   "id": "159fb8be-e00c-4df7-87df-91407d8d2537",
   "metadata": {},
   "outputs": [
    {
     "name": "stdout",
     "output_type": "stream",
     "text": [
      "{'tf__max_features': 5000, 'tf__ngram_range': (1, 1)}\n",
      "Train Accuracy: 1.0\n",
      "Test Accuracy: 0.71\n"
     ]
    }
   ],
   "source": [
    "print(gs.best_params_)\n",
    "gs_model = gs.best_estimator_\n",
    "\n",
    "gs_train_accuracy = round(gs_model.score(X_train, y_train),2)\n",
    "print(f'Train Accuracy: {gs_train_accuracy}')\n",
    "\n",
    "gs_test_accuracy = round(gs_model.score(X_test, y_test),2)\n",
    "print(f'Test Accuracy: {gs_test_accuracy}')"
   ]
  },
  {
   "cell_type": "code",
   "execution_count": 19,
   "id": "ea732c16-66fb-42be-a83c-cedfed131387",
   "metadata": {},
   "outputs": [
    {
     "data": {
      "text/html": [
       "<div>\n",
       "<style scoped>\n",
       "    .dataframe tbody tr th:only-of-type {\n",
       "        vertical-align: middle;\n",
       "    }\n",
       "\n",
       "    .dataframe tbody tr th {\n",
       "        vertical-align: top;\n",
       "    }\n",
       "\n",
       "    .dataframe thead th {\n",
       "        text-align: right;\n",
       "    }\n",
       "</style>\n",
       "<table border=\"1\" class=\"dataframe\">\n",
       "  <thead>\n",
       "    <tr style=\"text-align: right;\">\n",
       "      <th></th>\n",
       "      <th>pred neg</th>\n",
       "      <th>pred pos</th>\n",
       "    </tr>\n",
       "  </thead>\n",
       "  <tbody>\n",
       "    <tr>\n",
       "      <th>actual neg</th>\n",
       "      <td>True Negative</td>\n",
       "      <td>False Positive</td>\n",
       "    </tr>\n",
       "    <tr>\n",
       "      <th>actual pos</th>\n",
       "      <td>False Negative</td>\n",
       "      <td>True Positive</td>\n",
       "    </tr>\n",
       "  </tbody>\n",
       "</table>\n",
       "</div>"
      ],
      "text/plain": [
       "                  pred neg        pred pos\n",
       "actual neg   True Negative  False Positive\n",
       "actual pos  False Negative   True Positive"
      ]
     },
     "metadata": {},
     "output_type": "display_data"
    },
    {
     "data": {
      "text/html": [
       "<div>\n",
       "<style scoped>\n",
       "    .dataframe tbody tr th:only-of-type {\n",
       "        vertical-align: middle;\n",
       "    }\n",
       "\n",
       "    .dataframe tbody tr th {\n",
       "        vertical-align: top;\n",
       "    }\n",
       "\n",
       "    .dataframe thead th {\n",
       "        text-align: right;\n",
       "    }\n",
       "</style>\n",
       "<table border=\"1\" class=\"dataframe\">\n",
       "  <thead>\n",
       "    <tr style=\"text-align: right;\">\n",
       "      <th></th>\n",
       "      <th>pred neg</th>\n",
       "      <th>pred pos</th>\n",
       "    </tr>\n",
       "  </thead>\n",
       "  <tbody>\n",
       "    <tr>\n",
       "      <th>actual neg</th>\n",
       "      <td>245</td>\n",
       "      <td>126</td>\n",
       "    </tr>\n",
       "    <tr>\n",
       "      <th>actual pos</th>\n",
       "      <td>107</td>\n",
       "      <td>330</td>\n",
       "    </tr>\n",
       "  </tbody>\n",
       "</table>\n",
       "</div>"
      ],
      "text/plain": [
       "            pred neg  pred pos\n",
       "actual neg       245       126\n",
       "actual pos       107       330"
      ]
     },
     "metadata": {},
     "output_type": "display_data"
    }
   ],
   "source": [
    "y_pred = gs.predict(X_test)\n",
    "cm_def = np.array([['True Negative', 'False Positive'],\n",
    "                ['False Negative', 'True Positive']])\n",
    "cm_def = pd.DataFrame(cm_def,columns = ['pred neg', 'pred pos'], index = ['actual neg','actual pos'])\n",
    "cm = confusion_matrix(y_test, y_pred)\n",
    "cm_df = pd.DataFrame(cm, columns = ['pred neg', 'pred pos'], index = ['actual neg','actual pos'])\n",
    "display(cm_def)\n",
    "display(cm_df)"
   ]
  },
  {
   "cell_type": "markdown",
   "id": "45e26d94-d1e6-4f60-a18e-7ab160581c66",
   "metadata": {},
   "source": [
    "## Model 3: TFIDF and Support Vector Machine Classifier"
   ]
  },
  {
   "cell_type": "code",
   "execution_count": 20,
   "id": "d10bbe72-9f61-4dd7-9c82-6b3da0bb208b",
   "metadata": {},
   "outputs": [],
   "source": [
    "pipe = Pipeline([\n",
    "                ('tf', TfidfVectorizer()),\n",
    "                ('svc', SVC())\n",
    "])\n",
    "\n",
    "params = {\n",
    "                'tf__max_features' : [5000,10_000,15_000],\n",
    "                'tf__ngram_range' : [(1,1), (1,2)]\n",
    "}\n",
    "\n",
    "\n",
    "gs = GridSearchCV(pipe, param_grid = params, cv = 5)"
   ]
  },
  {
   "cell_type": "code",
   "execution_count": 21,
   "id": "6d2da236-b875-4425-9634-8cd9b442b258",
   "metadata": {},
   "outputs": [
    {
     "data": {
      "text/plain": [
       "GridSearchCV(cv=5,\n",
       "             estimator=Pipeline(steps=[('tf', TfidfVectorizer()),\n",
       "                                       ('svc', SVC())]),\n",
       "             param_grid={'tf__max_features': [5000, 10000, 15000],\n",
       "                         'tf__ngram_range': [(1, 1), (1, 2)]})"
      ]
     },
     "execution_count": 21,
     "metadata": {},
     "output_type": "execute_result"
    }
   ],
   "source": [
    "gs.fit(X_train, y_train)"
   ]
  },
  {
   "cell_type": "code",
   "execution_count": 22,
   "id": "47ecc626-e6af-4816-9ea2-740f4c8538f8",
   "metadata": {},
   "outputs": [
    {
     "name": "stdout",
     "output_type": "stream",
     "text": [
      "{'tf__max_features': 5000, 'tf__ngram_range': (1, 1)}\n",
      "Train Accuracy: 0.98\n",
      "Test Accuracy: 0.74\n"
     ]
    }
   ],
   "source": [
    "print(gs.best_params_)\n",
    "gs_model = gs.best_estimator_\n",
    "\n",
    "gs_train_accuracy = round(gs_model.score(X_train, y_train),2)\n",
    "print(f'Train Accuracy: {gs_train_accuracy}')\n",
    "\n",
    "gs_test_accuracy = round(gs_model.score(X_test, y_test),2)\n",
    "print(f'Test Accuracy: {gs_test_accuracy}')"
   ]
  },
  {
   "cell_type": "code",
   "execution_count": 23,
   "id": "0cc66ff2-f21e-47ad-a29a-b8486a7d66db",
   "metadata": {},
   "outputs": [
    {
     "data": {
      "text/html": [
       "<div>\n",
       "<style scoped>\n",
       "    .dataframe tbody tr th:only-of-type {\n",
       "        vertical-align: middle;\n",
       "    }\n",
       "\n",
       "    .dataframe tbody tr th {\n",
       "        vertical-align: top;\n",
       "    }\n",
       "\n",
       "    .dataframe thead th {\n",
       "        text-align: right;\n",
       "    }\n",
       "</style>\n",
       "<table border=\"1\" class=\"dataframe\">\n",
       "  <thead>\n",
       "    <tr style=\"text-align: right;\">\n",
       "      <th></th>\n",
       "      <th>pred neg</th>\n",
       "      <th>pred pos</th>\n",
       "    </tr>\n",
       "  </thead>\n",
       "  <tbody>\n",
       "    <tr>\n",
       "      <th>actual neg</th>\n",
       "      <td>True Negative</td>\n",
       "      <td>False Positive</td>\n",
       "    </tr>\n",
       "    <tr>\n",
       "      <th>actual pos</th>\n",
       "      <td>False Negative</td>\n",
       "      <td>True Positive</td>\n",
       "    </tr>\n",
       "  </tbody>\n",
       "</table>\n",
       "</div>"
      ],
      "text/plain": [
       "                  pred neg        pred pos\n",
       "actual neg   True Negative  False Positive\n",
       "actual pos  False Negative   True Positive"
      ]
     },
     "metadata": {},
     "output_type": "display_data"
    },
    {
     "data": {
      "text/html": [
       "<div>\n",
       "<style scoped>\n",
       "    .dataframe tbody tr th:only-of-type {\n",
       "        vertical-align: middle;\n",
       "    }\n",
       "\n",
       "    .dataframe tbody tr th {\n",
       "        vertical-align: top;\n",
       "    }\n",
       "\n",
       "    .dataframe thead th {\n",
       "        text-align: right;\n",
       "    }\n",
       "</style>\n",
       "<table border=\"1\" class=\"dataframe\">\n",
       "  <thead>\n",
       "    <tr style=\"text-align: right;\">\n",
       "      <th></th>\n",
       "      <th>pred neg</th>\n",
       "      <th>pred pos</th>\n",
       "    </tr>\n",
       "  </thead>\n",
       "  <tbody>\n",
       "    <tr>\n",
       "      <th>actual neg</th>\n",
       "      <td>245</td>\n",
       "      <td>126</td>\n",
       "    </tr>\n",
       "    <tr>\n",
       "      <th>actual pos</th>\n",
       "      <td>83</td>\n",
       "      <td>354</td>\n",
       "    </tr>\n",
       "  </tbody>\n",
       "</table>\n",
       "</div>"
      ],
      "text/plain": [
       "            pred neg  pred pos\n",
       "actual neg       245       126\n",
       "actual pos        83       354"
      ]
     },
     "metadata": {},
     "output_type": "display_data"
    }
   ],
   "source": [
    "y_pred = gs.predict(X_test)\n",
    "cm_def = np.array([['True Negative', 'False Positive'],\n",
    "                ['False Negative', 'True Positive']])\n",
    "cm_def = pd.DataFrame(cm_def,columns = ['pred neg', 'pred pos'], index = ['actual neg','actual pos'])\n",
    "cm = confusion_matrix(y_test, y_pred)\n",
    "cm_df = pd.DataFrame(cm, columns = ['pred neg', 'pred pos'], index = ['actual neg','actual pos'])\n",
    "display(cm_def)\n",
    "display(cm_df)"
   ]
  },
  {
   "cell_type": "markdown",
   "id": "d3b25376-5190-407e-8ece-19dac64a3e56",
   "metadata": {},
   "source": [
    "## Model 4: TFIDF and ADA Boost Classifier"
   ]
  },
  {
   "cell_type": "code",
   "execution_count": 24,
   "id": "312421ae-ac08-42b0-92cb-ece0ba686f7a",
   "metadata": {},
   "outputs": [],
   "source": [
    "pipe = Pipeline([\n",
    "                ('tf', TfidfVectorizer()),\n",
    "                ('ada', AdaBoostClassifier())\n",
    "])\n",
    "\n",
    "params = {\n",
    "                'tf__max_features' : [5000,10_000,15_000],\n",
    "                'tf__ngram_range' : [(1,1), (1,2)]\n",
    "}\n",
    "\n",
    "\n",
    "gs = GridSearchCV(pipe, param_grid = params, cv = 5)"
   ]
  },
  {
   "cell_type": "code",
   "execution_count": 25,
   "id": "6e48f68d-bcb0-4806-ab79-300a54617ed0",
   "metadata": {},
   "outputs": [
    {
     "data": {
      "text/plain": [
       "GridSearchCV(cv=5,\n",
       "             estimator=Pipeline(steps=[('tf', TfidfVectorizer()),\n",
       "                                       ('ada', AdaBoostClassifier())]),\n",
       "             param_grid={'tf__max_features': [5000, 10000, 15000],\n",
       "                         'tf__ngram_range': [(1, 1), (1, 2)]})"
      ]
     },
     "execution_count": 25,
     "metadata": {},
     "output_type": "execute_result"
    }
   ],
   "source": [
    "gs.fit(X_train, y_train)\n"
   ]
  },
  {
   "cell_type": "code",
   "execution_count": 26,
   "id": "862f1eda-e199-4a8f-9f2c-60d9796c0d77",
   "metadata": {},
   "outputs": [
    {
     "name": "stdout",
     "output_type": "stream",
     "text": [
      "{'tf__max_features': 5000, 'tf__ngram_range': (1, 1)}\n",
      "Train Accuracy: 0.71\n",
      "Test Accuracy: 0.64\n"
     ]
    }
   ],
   "source": [
    "print(gs.best_params_)\n",
    "gs_model = gs.best_estimator_\n",
    "\n",
    "gs_train_accuracy = round(gs_model.score(X_train, y_train),2)\n",
    "print(f'Train Accuracy: {gs_train_accuracy}')\n",
    "\n",
    "gs_test_accuracy = round(gs_model.score(X_test, y_test),2)\n",
    "print(f'Test Accuracy: {gs_test_accuracy}')"
   ]
  },
  {
   "cell_type": "code",
   "execution_count": 27,
   "id": "bb5ddbdc-ad6c-4cb0-8bf5-054276690607",
   "metadata": {},
   "outputs": [
    {
     "data": {
      "text/html": [
       "<div>\n",
       "<style scoped>\n",
       "    .dataframe tbody tr th:only-of-type {\n",
       "        vertical-align: middle;\n",
       "    }\n",
       "\n",
       "    .dataframe tbody tr th {\n",
       "        vertical-align: top;\n",
       "    }\n",
       "\n",
       "    .dataframe thead th {\n",
       "        text-align: right;\n",
       "    }\n",
       "</style>\n",
       "<table border=\"1\" class=\"dataframe\">\n",
       "  <thead>\n",
       "    <tr style=\"text-align: right;\">\n",
       "      <th></th>\n",
       "      <th>pred neg</th>\n",
       "      <th>pred pos</th>\n",
       "    </tr>\n",
       "  </thead>\n",
       "  <tbody>\n",
       "    <tr>\n",
       "      <th>actual neg</th>\n",
       "      <td>True Negative</td>\n",
       "      <td>False Positive</td>\n",
       "    </tr>\n",
       "    <tr>\n",
       "      <th>actual pos</th>\n",
       "      <td>False Negative</td>\n",
       "      <td>True Positive</td>\n",
       "    </tr>\n",
       "  </tbody>\n",
       "</table>\n",
       "</div>"
      ],
      "text/plain": [
       "                  pred neg        pred pos\n",
       "actual neg   True Negative  False Positive\n",
       "actual pos  False Negative   True Positive"
      ]
     },
     "metadata": {},
     "output_type": "display_data"
    },
    {
     "data": {
      "text/html": [
       "<div>\n",
       "<style scoped>\n",
       "    .dataframe tbody tr th:only-of-type {\n",
       "        vertical-align: middle;\n",
       "    }\n",
       "\n",
       "    .dataframe tbody tr th {\n",
       "        vertical-align: top;\n",
       "    }\n",
       "\n",
       "    .dataframe thead th {\n",
       "        text-align: right;\n",
       "    }\n",
       "</style>\n",
       "<table border=\"1\" class=\"dataframe\">\n",
       "  <thead>\n",
       "    <tr style=\"text-align: right;\">\n",
       "      <th></th>\n",
       "      <th>pred neg</th>\n",
       "      <th>pred pos</th>\n",
       "    </tr>\n",
       "  </thead>\n",
       "  <tbody>\n",
       "    <tr>\n",
       "      <th>actual neg</th>\n",
       "      <td>142</td>\n",
       "      <td>229</td>\n",
       "    </tr>\n",
       "    <tr>\n",
       "      <th>actual pos</th>\n",
       "      <td>63</td>\n",
       "      <td>374</td>\n",
       "    </tr>\n",
       "  </tbody>\n",
       "</table>\n",
       "</div>"
      ],
      "text/plain": [
       "            pred neg  pred pos\n",
       "actual neg       142       229\n",
       "actual pos        63       374"
      ]
     },
     "metadata": {},
     "output_type": "display_data"
    }
   ],
   "source": [
    "y_pred = gs.predict(X_test)\n",
    "cm_def = np.array([['True Negative', 'False Positive'],\n",
    "                ['False Negative', 'True Positive']])\n",
    "cm_def = pd.DataFrame(cm_def,columns = ['pred neg', 'pred pos'], index = ['actual neg','actual pos'])\n",
    "cm = confusion_matrix(y_test, y_pred)\n",
    "cm_df = pd.DataFrame(cm, columns = ['pred neg', 'pred pos'], index = ['actual neg','actual pos'])\n",
    "display(cm_def)\n",
    "display(cm_df)"
   ]
  },
  {
   "cell_type": "markdown",
   "id": "0d062ccc-16fd-4c98-9e20-fba5c01260af",
   "metadata": {},
   "source": [
    "## Model 5: TFIDF and Gradient Boost Classifier"
   ]
  },
  {
   "cell_type": "code",
   "execution_count": 28,
   "id": "b4df3976-2256-4227-b448-6d7b2aec5e91",
   "metadata": {},
   "outputs": [],
   "source": [
    "pipe = Pipeline([\n",
    "                ('tf', TfidfVectorizer()),\n",
    "                ('gr', GradientBoostingClassifier())\n",
    "])\n",
    "\n",
    "params = {\n",
    "                'tf__max_features' : [5000,10_000,15_000],\n",
    "                'tf__ngram_range' : [(1,1), (1,2)]\n",
    "}\n",
    "\n",
    "\n",
    "gs = GridSearchCV(pipe, param_grid = params, cv = 5)"
   ]
  },
  {
   "cell_type": "code",
   "execution_count": 29,
   "id": "4bed6fe4-96bb-4c85-b169-ac539497b9de",
   "metadata": {},
   "outputs": [
    {
     "data": {
      "text/plain": [
       "GridSearchCV(cv=5,\n",
       "             estimator=Pipeline(steps=[('tf', TfidfVectorizer()),\n",
       "                                       ('gr', GradientBoostingClassifier())]),\n",
       "             param_grid={'tf__max_features': [5000, 10000, 15000],\n",
       "                         'tf__ngram_range': [(1, 1), (1, 2)]})"
      ]
     },
     "execution_count": 29,
     "metadata": {},
     "output_type": "execute_result"
    }
   ],
   "source": [
    "gs.fit(X_train, y_train)"
   ]
  },
  {
   "cell_type": "code",
   "execution_count": 30,
   "id": "58e145ee-e080-490b-a9cc-4596faabda04",
   "metadata": {},
   "outputs": [
    {
     "name": "stdout",
     "output_type": "stream",
     "text": [
      "{'tf__max_features': 10000, 'tf__ngram_range': (1, 2)}\n",
      "Train Accuracy: 0.78\n",
      "Test Accuracy: 0.66\n"
     ]
    }
   ],
   "source": [
    "print(gs.best_params_)\n",
    "gs_model = gs.best_estimator_\n",
    "\n",
    "gs_train_accuracy = round(gs_model.score(X_train, y_train),2)\n",
    "print(f'Train Accuracy: {gs_train_accuracy}')\n",
    "\n",
    "gs_test_accuracy = round(gs_model.score(X_test, y_test),2)\n",
    "print(f'Test Accuracy: {gs_test_accuracy}')"
   ]
  },
  {
   "cell_type": "code",
   "execution_count": 31,
   "id": "e486844d-041f-44f9-aeae-0d7e7984f309",
   "metadata": {},
   "outputs": [
    {
     "data": {
      "text/html": [
       "<div>\n",
       "<style scoped>\n",
       "    .dataframe tbody tr th:only-of-type {\n",
       "        vertical-align: middle;\n",
       "    }\n",
       "\n",
       "    .dataframe tbody tr th {\n",
       "        vertical-align: top;\n",
       "    }\n",
       "\n",
       "    .dataframe thead th {\n",
       "        text-align: right;\n",
       "    }\n",
       "</style>\n",
       "<table border=\"1\" class=\"dataframe\">\n",
       "  <thead>\n",
       "    <tr style=\"text-align: right;\">\n",
       "      <th></th>\n",
       "      <th>pred neg</th>\n",
       "      <th>pred pos</th>\n",
       "    </tr>\n",
       "  </thead>\n",
       "  <tbody>\n",
       "    <tr>\n",
       "      <th>actual neg</th>\n",
       "      <td>True Negative</td>\n",
       "      <td>False Positive</td>\n",
       "    </tr>\n",
       "    <tr>\n",
       "      <th>actual pos</th>\n",
       "      <td>False Negative</td>\n",
       "      <td>True Positive</td>\n",
       "    </tr>\n",
       "  </tbody>\n",
       "</table>\n",
       "</div>"
      ],
      "text/plain": [
       "                  pred neg        pred pos\n",
       "actual neg   True Negative  False Positive\n",
       "actual pos  False Negative   True Positive"
      ]
     },
     "metadata": {},
     "output_type": "display_data"
    },
    {
     "data": {
      "text/html": [
       "<div>\n",
       "<style scoped>\n",
       "    .dataframe tbody tr th:only-of-type {\n",
       "        vertical-align: middle;\n",
       "    }\n",
       "\n",
       "    .dataframe tbody tr th {\n",
       "        vertical-align: top;\n",
       "    }\n",
       "\n",
       "    .dataframe thead th {\n",
       "        text-align: right;\n",
       "    }\n",
       "</style>\n",
       "<table border=\"1\" class=\"dataframe\">\n",
       "  <thead>\n",
       "    <tr style=\"text-align: right;\">\n",
       "      <th></th>\n",
       "      <th>pred neg</th>\n",
       "      <th>pred pos</th>\n",
       "    </tr>\n",
       "  </thead>\n",
       "  <tbody>\n",
       "    <tr>\n",
       "      <th>actual neg</th>\n",
       "      <td>155</td>\n",
       "      <td>216</td>\n",
       "    </tr>\n",
       "    <tr>\n",
       "      <th>actual pos</th>\n",
       "      <td>62</td>\n",
       "      <td>375</td>\n",
       "    </tr>\n",
       "  </tbody>\n",
       "</table>\n",
       "</div>"
      ],
      "text/plain": [
       "            pred neg  pred pos\n",
       "actual neg       155       216\n",
       "actual pos        62       375"
      ]
     },
     "metadata": {},
     "output_type": "display_data"
    }
   ],
   "source": [
    "y_pred = gs.predict(X_test)\n",
    "cm_def = np.array([['True Negative', 'False Positive'],\n",
    "                ['False Negative', 'True Positive']])\n",
    "cm_def = pd.DataFrame(cm_def,columns = ['pred neg', 'pred pos'], index = ['actual neg','actual pos'])\n",
    "cm = confusion_matrix(y_test, y_pred)\n",
    "cm_df = pd.DataFrame(cm, columns = ['pred neg', 'pred pos'], index = ['actual neg','actual pos'])\n",
    "display(cm_def)\n",
    "display(cm_df)"
   ]
  },
  {
   "cell_type": "code",
   "execution_count": null,
   "id": "a5f4cdfe-932c-4021-aa90-251e4091928d",
   "metadata": {},
   "outputs": [],
   "source": []
  },
  {
   "cell_type": "code",
   "execution_count": null,
   "id": "e457e970-54e6-46e5-b302-3283cd242609",
   "metadata": {},
   "outputs": [],
   "source": []
  },
  {
   "cell_type": "code",
   "execution_count": null,
   "id": "eb36efc9-12d9-4d76-9328-abf08aeb1be0",
   "metadata": {},
   "outputs": [],
   "source": []
  },
  {
   "cell_type": "code",
   "execution_count": null,
   "id": "6c61350d-0079-4844-9cdb-24c6d27520ef",
   "metadata": {},
   "outputs": [],
   "source": []
  },
  {
   "cell_type": "code",
   "execution_count": null,
   "id": "a32cd9d2-4610-42b2-8d4f-698a84d849f5",
   "metadata": {},
   "outputs": [],
   "source": []
  },
  {
   "cell_type": "code",
   "execution_count": null,
   "id": "75f4b8e4-a01d-4303-9801-6cbbcb236d7f",
   "metadata": {},
   "outputs": [],
   "source": []
  },
  {
   "cell_type": "markdown",
   "id": "8b0ee6ef-630b-46b6-a440-b2b9a186faae",
   "metadata": {},
   "source": [
    "---\n",
    "\n",
    "\n",
    "---\n",
    "\n"
   ]
  },
  {
   "cell_type": "code",
   "execution_count": 32,
   "id": "11661f36-53f4-475c-9304-7297eb652b2e",
   "metadata": {},
   "outputs": [],
   "source": [
    "# Instantiate a CountVectorizer.\n",
    "cvec = CountVectorizer()"
   ]
  },
  {
   "cell_type": "code",
   "execution_count": 33,
   "id": "62b7a298-b770-45b1-9c43-de4825d291d7",
   "metadata": {},
   "outputs": [
    {
     "data": {
      "text/plain": [
       "CountVectorizer()"
      ]
     },
     "execution_count": 33,
     "metadata": {},
     "output_type": "execute_result"
    }
   ],
   "source": [
    "# Fit the vectorizer on our corpus.\n",
    "cvec.fit(X_train)"
   ]
  },
  {
   "cell_type": "code",
   "execution_count": 34,
   "id": "7aa0b545-d91a-49b0-890b-7eaf7262efe9",
   "metadata": {},
   "outputs": [],
   "source": [
    "# Transform the corpus.\n",
    "X_train_cvec = cvec.transform(X_train)"
   ]
  },
  {
   "cell_type": "code",
   "execution_count": 35,
   "id": "ab59997e-adbf-436b-b253-95f0449adcba",
   "metadata": {},
   "outputs": [],
   "source": [
    "# Transform the test.\n",
    "X_test_cvec = cvec.transform(X_test)"
   ]
  },
  {
   "cell_type": "code",
   "execution_count": 36,
   "id": "cd17e5f8-36e3-4910-b0a6-acb5928dd947",
   "metadata": {},
   "outputs": [
    {
     "data": {
      "text/html": [
       "<div>\n",
       "<style scoped>\n",
       "    .dataframe tbody tr th:only-of-type {\n",
       "        vertical-align: middle;\n",
       "    }\n",
       "\n",
       "    .dataframe tbody tr th {\n",
       "        vertical-align: top;\n",
       "    }\n",
       "\n",
       "    .dataframe thead th {\n",
       "        text-align: right;\n",
       "    }\n",
       "</style>\n",
       "<table border=\"1\" class=\"dataframe\">\n",
       "  <thead>\n",
       "    <tr style=\"text-align: right;\">\n",
       "      <th></th>\n",
       "      <th>000</th>\n",
       "      <th>000rmb</th>\n",
       "      <th>000x</th>\n",
       "      <th>06b</th>\n",
       "      <th>0aremindme</th>\n",
       "      <th>0x1ed3cc3490efd36e78f301523ccd169330520d3f</th>\n",
       "      <th>100</th>\n",
       "      <th>1000</th>\n",
       "      <th>10000</th>\n",
       "      <th>10000x</th>\n",
       "      <th>...</th>\n",
       "      <th>zero</th>\n",
       "      <th>zillow</th>\n",
       "      <th>zkevm</th>\n",
       "      <th>zkrollup</th>\n",
       "      <th>zkrollups</th>\n",
       "      <th>zoey</th>\n",
       "      <th>zombie</th>\n",
       "      <th>zoom</th>\n",
       "      <th>zoomed</th>\n",
       "      <th>zuma</th>\n",
       "    </tr>\n",
       "  </thead>\n",
       "  <tbody>\n",
       "    <tr>\n",
       "      <th>0</th>\n",
       "      <td>0</td>\n",
       "      <td>0</td>\n",
       "      <td>0</td>\n",
       "      <td>0</td>\n",
       "      <td>0</td>\n",
       "      <td>0</td>\n",
       "      <td>0</td>\n",
       "      <td>0</td>\n",
       "      <td>0</td>\n",
       "      <td>0</td>\n",
       "      <td>...</td>\n",
       "      <td>0</td>\n",
       "      <td>0</td>\n",
       "      <td>0</td>\n",
       "      <td>0</td>\n",
       "      <td>0</td>\n",
       "      <td>0</td>\n",
       "      <td>0</td>\n",
       "      <td>0</td>\n",
       "      <td>0</td>\n",
       "      <td>0</td>\n",
       "    </tr>\n",
       "    <tr>\n",
       "      <th>1</th>\n",
       "      <td>0</td>\n",
       "      <td>0</td>\n",
       "      <td>0</td>\n",
       "      <td>0</td>\n",
       "      <td>0</td>\n",
       "      <td>0</td>\n",
       "      <td>0</td>\n",
       "      <td>0</td>\n",
       "      <td>0</td>\n",
       "      <td>0</td>\n",
       "      <td>...</td>\n",
       "      <td>0</td>\n",
       "      <td>0</td>\n",
       "      <td>0</td>\n",
       "      <td>0</td>\n",
       "      <td>0</td>\n",
       "      <td>0</td>\n",
       "      <td>0</td>\n",
       "      <td>0</td>\n",
       "      <td>0</td>\n",
       "      <td>0</td>\n",
       "    </tr>\n",
       "    <tr>\n",
       "      <th>2</th>\n",
       "      <td>0</td>\n",
       "      <td>0</td>\n",
       "      <td>0</td>\n",
       "      <td>0</td>\n",
       "      <td>0</td>\n",
       "      <td>0</td>\n",
       "      <td>0</td>\n",
       "      <td>0</td>\n",
       "      <td>0</td>\n",
       "      <td>0</td>\n",
       "      <td>...</td>\n",
       "      <td>0</td>\n",
       "      <td>0</td>\n",
       "      <td>0</td>\n",
       "      <td>0</td>\n",
       "      <td>0</td>\n",
       "      <td>0</td>\n",
       "      <td>0</td>\n",
       "      <td>0</td>\n",
       "      <td>0</td>\n",
       "      <td>0</td>\n",
       "    </tr>\n",
       "    <tr>\n",
       "      <th>3</th>\n",
       "      <td>0</td>\n",
       "      <td>0</td>\n",
       "      <td>0</td>\n",
       "      <td>0</td>\n",
       "      <td>0</td>\n",
       "      <td>0</td>\n",
       "      <td>0</td>\n",
       "      <td>0</td>\n",
       "      <td>0</td>\n",
       "      <td>0</td>\n",
       "      <td>...</td>\n",
       "      <td>0</td>\n",
       "      <td>0</td>\n",
       "      <td>0</td>\n",
       "      <td>0</td>\n",
       "      <td>0</td>\n",
       "      <td>0</td>\n",
       "      <td>0</td>\n",
       "      <td>0</td>\n",
       "      <td>0</td>\n",
       "      <td>0</td>\n",
       "    </tr>\n",
       "    <tr>\n",
       "      <th>4</th>\n",
       "      <td>0</td>\n",
       "      <td>0</td>\n",
       "      <td>0</td>\n",
       "      <td>0</td>\n",
       "      <td>0</td>\n",
       "      <td>0</td>\n",
       "      <td>0</td>\n",
       "      <td>0</td>\n",
       "      <td>0</td>\n",
       "      <td>0</td>\n",
       "      <td>...</td>\n",
       "      <td>0</td>\n",
       "      <td>0</td>\n",
       "      <td>0</td>\n",
       "      <td>0</td>\n",
       "      <td>0</td>\n",
       "      <td>0</td>\n",
       "      <td>0</td>\n",
       "      <td>0</td>\n",
       "      <td>0</td>\n",
       "      <td>0</td>\n",
       "    </tr>\n",
       "  </tbody>\n",
       "</table>\n",
       "<p>5 rows × 6075 columns</p>\n",
       "</div>"
      ],
      "text/plain": [
       "   000  000rmb  000x  06b  0aremindme  \\\n",
       "0    0       0     0    0           0   \n",
       "1    0       0     0    0           0   \n",
       "2    0       0     0    0           0   \n",
       "3    0       0     0    0           0   \n",
       "4    0       0     0    0           0   \n",
       "\n",
       "   0x1ed3cc3490efd36e78f301523ccd169330520d3f  100  1000  10000  10000x  ...  \\\n",
       "0                                           0    0     0      0       0  ...   \n",
       "1                                           0    0     0      0       0  ...   \n",
       "2                                           0    0     0      0       0  ...   \n",
       "3                                           0    0     0      0       0  ...   \n",
       "4                                           0    0     0      0       0  ...   \n",
       "\n",
       "   zero  zillow  zkevm  zkrollup  zkrollups  zoey  zombie  zoom  zoomed  zuma  \n",
       "0     0       0      0         0          0     0       0     0       0     0  \n",
       "1     0       0      0         0          0     0       0     0       0     0  \n",
       "2     0       0      0         0          0     0       0     0       0     0  \n",
       "3     0       0      0         0          0     0       0     0       0     0  \n",
       "4     0       0      0         0          0     0       0     0       0     0  \n",
       "\n",
       "[5 rows x 6075 columns]"
      ]
     },
     "execution_count": 36,
     "metadata": {},
     "output_type": "execute_result"
    }
   ],
   "source": [
    "# Convert X_train into a DataFrame.\n",
    "\n",
    "X_train_df = pd.DataFrame(X_train_cvec.toarray(),\n",
    "                          columns=cvec.get_feature_names())\n",
    "X_train_df.head()"
   ]
  },
  {
   "cell_type": "markdown",
   "id": "c7d97912-172d-4261-a183-e33f8bed7cf8",
   "metadata": {},
   "source": [
    "### Model 1: CountVectorizer & Logistic Regression"
   ]
  },
  {
   "cell_type": "code",
   "execution_count": 37,
   "id": "c4613138-98d3-442f-ad1a-b8ddb1833d8d",
   "metadata": {},
   "outputs": [],
   "source": [
    "# set a pipeline up with two stages:\n",
    "# 1. CountVectorizer (transformer)\n",
    "# 2. LogisticRegression (estimator)\n",
    "\n",
    "pipe = Pipeline([\n",
    "    ('cvec', CountVectorizer()),\n",
    "    ('lr', LogisticRegression())\n",
    "])\n",
    "\n",
    "# Search over the following values of hyperparameters:\n",
    "# Maximum number of features fit: 5000, 10,000, 15,000\n",
    "# Minimum number of documents needed to include token: 2, 3\n",
    "# Maximum number of documents needed to include token: 90%, 95%\n",
    "# Check (individual tokens) and also check (individual tokens and 2-grams).\n",
    "\n",
    "pipe_params = {\n",
    "    'cvec__max_features' : [5_000, 10_000, 15_000],\n",
    "    'cvec__min_df' : [2,3],\n",
    "    'cvec__max_df': [0.9, 0.95],\n",
    "    'cvec__ngram_range' : [(1,1), (1,2)]\n",
    "}\n",
    "\n",
    "# Instantiate GridSearchCV.\n",
    "\n",
    "gs = GridSearchCV(pipe, # what object are we optimizing?\n",
    "                  param_grid = pipe_params, # what parameters values are we searching?\n",
    "                  cv=5) # 5-fold cross-validation."
   ]
  },
  {
   "cell_type": "code",
   "execution_count": 38,
   "id": "97d41087-e175-4a3f-9722-687ce30e84e9",
   "metadata": {},
   "outputs": [
    {
     "data": {
      "text/plain": [
       "GridSearchCV(cv=5,\n",
       "             estimator=Pipeline(steps=[('cvec', CountVectorizer()),\n",
       "                                       ('lr', LogisticRegression())]),\n",
       "             param_grid={'cvec__max_df': [0.9, 0.95],\n",
       "                         'cvec__max_features': [5000, 10000, 15000],\n",
       "                         'cvec__min_df': [2, 3],\n",
       "                         'cvec__ngram_range': [(1, 1), (1, 2)]})"
      ]
     },
     "execution_count": 38,
     "metadata": {},
     "output_type": "execute_result"
    }
   ],
   "source": [
    "# Fit GridSearch to training data.\n",
    "gs.fit(X_train,y_train)"
   ]
  },
  {
   "cell_type": "code",
   "execution_count": 39,
   "id": "18eccc37-b8c9-4693-97d5-a697f1fc3cc2",
   "metadata": {},
   "outputs": [
    {
     "data": {
      "text/plain": [
       "0.681104200391923"
      ]
     },
     "execution_count": 39,
     "metadata": {},
     "output_type": "execute_result"
    }
   ],
   "source": [
    "# What's the best score?\n",
    "gs.best_score_"
   ]
  },
  {
   "cell_type": "code",
   "execution_count": 40,
   "id": "47592191-9d81-4bc1-934e-4cad32376bc5",
   "metadata": {},
   "outputs": [
    {
     "data": {
      "text/plain": [
       "{'cvec__max_df': 0.9,\n",
       " 'cvec__max_features': 5000,\n",
       " 'cvec__min_df': 2,\n",
       " 'cvec__ngram_range': (1, 1)}"
      ]
     },
     "execution_count": 40,
     "metadata": {},
     "output_type": "execute_result"
    }
   ],
   "source": [
    "gs.best_params_"
   ]
  },
  {
   "cell_type": "code",
   "execution_count": 41,
   "id": "7d95a69b-8297-40d2-aca2-7a0cf067ffdd",
   "metadata": {},
   "outputs": [],
   "source": [
    "# Save best model as gs_model.\n",
    "\n",
    "gs_model = gs.best_estimator_"
   ]
  },
  {
   "cell_type": "code",
   "execution_count": 42,
   "id": "d7d9107d-0fca-4693-a48f-c4091d00204d",
   "metadata": {},
   "outputs": [
    {
     "name": "stdout",
     "output_type": "stream",
     "text": [
      "Train score is 0.9240924092409241\n"
     ]
    }
   ],
   "source": [
    "# Score model on training set.\n",
    "print(f'Train score is {gs_model.score(X_train, y_train)}')"
   ]
  },
  {
   "cell_type": "code",
   "execution_count": 43,
   "id": "02a97dca-96e1-4def-8b52-433955de5155",
   "metadata": {},
   "outputs": [
    {
     "name": "stdout",
     "output_type": "stream",
     "text": [
      "Test score is 0.7351485148514851\n"
     ]
    }
   ],
   "source": [
    "# Score model on testing set.\n",
    "print(f'Test score is {gs_model.score(X_test, y_test)}')"
   ]
  },
  {
   "cell_type": "code",
   "execution_count": 44,
   "id": "7d733d4f-a89f-4136-8f90-110845d4f566",
   "metadata": {},
   "outputs": [
    {
     "data": {
      "image/png": "[encoded data removed]",
      "text/plain": [
       "<Figure size 1440x720 with 1 Axes>"
      ]
     },
     "metadata": {
      "needs_background": "light"
     },
     "output_type": "display_data"
    }
   ],
   "source": [
    "beta = gs.best_estimator_.named_steps['lr'].coef_\n",
    "\n",
    "vocab = gs.best_estimator_.named_steps['cvec'].get_feature_names()\n",
    "\n",
    "beta_df = pd.DataFrame( {'top_words': vocab, 'Beta' :beta[0]})\n",
    "beta_df['log_odds'] = beta_df['Beta'].map(lambda x: np.exp(x))\n",
    "beta_df = beta_df.set_index('top_words')\n",
    "beta_df = beta_df.sort_values('log_odds',ascending = False)\n",
    "\n",
    "weights = beta_df['log_odds'].head(20).sort_values()\n",
    "labels = weights.index\n",
    "\n",
    "plt.figure(figsize=(20,10))\n",
    "plt.barh(labels, weights)\n",
    "plt.yticks(fontsize=20)\n",
    "plt.xticks(fontsize=20)\n",
    "plt.xlabel('Log Odds', fontsize=30)\n",
    "plt.title(f'Top 20 Words - Tales from CryptoCurrency', fontsize=42)\n",
    "plt.tight_layout()"
   ]
  },
  {
   "cell_type": "code",
   "execution_count": 45,
   "id": "a79cabce-d5df-4979-a298-94b021315f2a",
   "metadata": {},
   "outputs": [
    {
     "data": {
      "image/png": "[encoded data removed]",
      "text/plain": [
       "<Figure size 1440x720 with 1 Axes>"
      ]
     },
     "metadata": {
      "needs_background": "light"
     },
     "output_type": "display_data"
    }
   ],
   "source": [
    "weights = beta_df['log_odds'].tail(20).sort_values()\n",
    "labels = weights.index\n",
    "\n",
    "plt.figure(figsize=(20,10))\n",
    "plt.barh(labels, weights)\n",
    "plt.yticks(fontsize=20)\n",
    "plt.xticks(fontsize=20)\n",
    "plt.xlabel('Log Odds', fontsize=30)\n",
    "plt.title(f'Top 20 Words - Tales from stock market', fontsize=42)\n",
    "plt.tight_layout()"
   ]
  },
  {
   "cell_type": "code",
   "execution_count": 46,
   "id": "6336c32e-6486-4ee8-bd6b-b14fd09e382f",
   "metadata": {},
   "outputs": [
    {
     "data": {
      "text/html": [
       "<div>\n",
       "<style scoped>\n",
       "    .dataframe tbody tr th:only-of-type {\n",
       "        vertical-align: middle;\n",
       "    }\n",
       "\n",
       "    .dataframe tbody tr th {\n",
       "        vertical-align: top;\n",
       "    }\n",
       "\n",
       "    .dataframe thead th {\n",
       "        text-align: right;\n",
       "    }\n",
       "</style>\n",
       "<table border=\"1\" class=\"dataframe\">\n",
       "  <thead>\n",
       "    <tr style=\"text-align: right;\">\n",
       "      <th></th>\n",
       "      <th>pred neg</th>\n",
       "      <th>pred pos</th>\n",
       "    </tr>\n",
       "  </thead>\n",
       "  <tbody>\n",
       "    <tr>\n",
       "      <th>actual neg</th>\n",
       "      <td>True Negative</td>\n",
       "      <td>False Positive</td>\n",
       "    </tr>\n",
       "    <tr>\n",
       "      <th>actual pos</th>\n",
       "      <td>False Negative</td>\n",
       "      <td>True Positive</td>\n",
       "    </tr>\n",
       "  </tbody>\n",
       "</table>\n",
       "</div>"
      ],
      "text/plain": [
       "                  pred neg        pred pos\n",
       "actual neg   True Negative  False Positive\n",
       "actual pos  False Negative   True Positive"
      ]
     },
     "metadata": {},
     "output_type": "display_data"
    },
    {
     "data": {
      "text/html": [
       "<div>\n",
       "<style scoped>\n",
       "    .dataframe tbody tr th:only-of-type {\n",
       "        vertical-align: middle;\n",
       "    }\n",
       "\n",
       "    .dataframe tbody tr th {\n",
       "        vertical-align: top;\n",
       "    }\n",
       "\n",
       "    .dataframe thead th {\n",
       "        text-align: right;\n",
       "    }\n",
       "</style>\n",
       "<table border=\"1\" class=\"dataframe\">\n",
       "  <thead>\n",
       "    <tr style=\"text-align: right;\">\n",
       "      <th></th>\n",
       "      <th>pred neg</th>\n",
       "      <th>pred pos</th>\n",
       "    </tr>\n",
       "  </thead>\n",
       "  <tbody>\n",
       "    <tr>\n",
       "      <th>actual neg</th>\n",
       "      <td>239</td>\n",
       "      <td>132</td>\n",
       "    </tr>\n",
       "    <tr>\n",
       "      <th>actual pos</th>\n",
       "      <td>82</td>\n",
       "      <td>355</td>\n",
       "    </tr>\n",
       "  </tbody>\n",
       "</table>\n",
       "</div>"
      ],
      "text/plain": [
       "            pred neg  pred pos\n",
       "actual neg       239       132\n",
       "actual pos        82       355"
      ]
     },
     "metadata": {},
     "output_type": "display_data"
    }
   ],
   "source": [
    "#creating a confusion matrix\n",
    "\n",
    "y_pred = gs.predict(X_test)\n",
    "cm_def = np.array([['True Negative', 'False Positive'],\n",
    "                ['False Negative', 'True Positive']])\n",
    "cm_def = pd.DataFrame(cm_def,columns = ['pred neg', 'pred pos'], index = ['actual neg','actual pos'])\n",
    "cm = confusion_matrix(y_test, y_pred)\n",
    "cm_df = pd.DataFrame(cm, columns = ['pred neg', 'pred pos'], index = ['actual neg','actual pos'])\n",
    "display(cm_def)\n",
    "display(cm_df)"
   ]
  },
  {
   "cell_type": "markdown",
   "id": "162e2d40-d24b-48f5-b98f-3c13d0d8ef86",
   "metadata": {},
   "source": [
    "### Model 2: CountVectorizer & Naive Bayes"
   ]
  },
  {
   "cell_type": "code",
   "execution_count": 47,
   "id": "d8255814-56e5-4406-bd95-34d16d24c8f2",
   "metadata": {},
   "outputs": [],
   "source": [
    "# set a pipeline up with two stages:\n",
    "# 1. CountVectorizer (transformer)\n",
    "# 2. Naive Bayes (estimator)\n",
    "\n",
    "pipe = Pipeline([\n",
    "    ('cvec', CountVectorizer()),\n",
    "    ('nb', MultinomialNB())\n",
    "])\n",
    "\n",
    "# Search over the following values of hyperparameters:\n",
    "# Maximum number of features fit: 5000, 10,000, 15,000\n",
    "# Minimum number of documents needed to include token: 2, 3\n",
    "# Maximum number of documents needed to include token: 90%, 95%\n",
    "# Check (individual tokens) and also check (individual tokens and 2-grams).\n",
    "\n",
    "pipe_params = {\n",
    "    'cvec__max_features' : [5_000, 10_000, 15_000],\n",
    "    'cvec__min_df' : [2,3],\n",
    "    'cvec__max_df': [0.9, 0.95],\n",
    "    'cvec__ngram_range' : [(1,1), (1,2)]\n",
    "}\n",
    "\n",
    "# Instantiate GridSearchCV.\n",
    "\n",
    "gs = GridSearchCV(pipe, # what object are we optimizing?\n",
    "                  param_grid = pipe_params, # what parameters values are we searching?\n",
    "                  cv=5) # 5-fold cross-validation."
   ]
  },
  {
   "cell_type": "code",
   "execution_count": 48,
   "id": "8538f663-402a-4693-8228-b86f54672871",
   "metadata": {},
   "outputs": [
    {
     "data": {
      "text/plain": [
       "GridSearchCV(cv=5,\n",
       "             estimator=Pipeline(steps=[('cvec', CountVectorizer()),\n",
       "                                       ('nb', MultinomialNB())]),\n",
       "             param_grid={'cvec__max_df': [0.9, 0.95],\n",
       "                         'cvec__max_features': [5000, 10000, 15000],\n",
       "                         'cvec__min_df': [2, 3],\n",
       "                         'cvec__ngram_range': [(1, 1), (1, 2)]})"
      ]
     },
     "execution_count": 48,
     "metadata": {},
     "output_type": "execute_result"
    }
   ],
   "source": [
    "# Fit GridSearch to training data.\n",
    "gs.fit(X_train,y_train)"
   ]
  },
  {
   "cell_type": "code",
   "execution_count": 49,
   "id": "b09da5bf-85de-4454-8cbc-6c24aa0baade",
   "metadata": {},
   "outputs": [
    {
     "data": {
      "text/plain": [
       "0.7149390815370197"
      ]
     },
     "execution_count": 49,
     "metadata": {},
     "output_type": "execute_result"
    }
   ],
   "source": [
    "# What's the best score?\n",
    "gs.best_score_"
   ]
  },
  {
   "cell_type": "code",
   "execution_count": 50,
   "id": "bd24af9e-9fbc-4815-a68f-f2cee658144d",
   "metadata": {},
   "outputs": [
    {
     "data": {
      "text/plain": [
       "{'cvec__max_df': 0.9,\n",
       " 'cvec__max_features': 5000,\n",
       " 'cvec__min_df': 2,\n",
       " 'cvec__ngram_range': (1, 1)}"
      ]
     },
     "execution_count": 50,
     "metadata": {},
     "output_type": "execute_result"
    }
   ],
   "source": [
    "gs.best_params_"
   ]
  },
  {
   "cell_type": "code",
   "execution_count": 51,
   "id": "cbecac48-db77-4cbe-9e18-629c5cccc741",
   "metadata": {},
   "outputs": [],
   "source": [
    "# Save best model as gs_model.\n",
    "\n",
    "gs_model = gs.best_estimator_"
   ]
  },
  {
   "cell_type": "code",
   "execution_count": 52,
   "id": "de91da1a-30e2-4e46-a189-18de20834921",
   "metadata": {},
   "outputs": [
    {
     "name": "stdout",
     "output_type": "stream",
     "text": [
      "Train score is 0.8502475247524752\n",
      "Test score is 0.7227722772277227\n"
     ]
    }
   ],
   "source": [
    "# Score model on training set.\n",
    "print(f'Train score is {gs_model.score(X_train, y_train)}')\n",
    "# Score model on testing set.\n",
    "print(f'Test score is {gs_model.score(X_test, y_test)}')"
   ]
  },
  {
   "cell_type": "code",
   "execution_count": 53,
   "id": "0f05ceb9-1bc9-4771-bf14-c0a6dc949dc3",
   "metadata": {},
   "outputs": [
    {
     "data": {
      "text/html": [
       "<div>\n",
       "<style scoped>\n",
       "    .dataframe tbody tr th:only-of-type {\n",
       "        vertical-align: middle;\n",
       "    }\n",
       "\n",
       "    .dataframe tbody tr th {\n",
       "        vertical-align: top;\n",
       "    }\n",
       "\n",
       "    .dataframe thead th {\n",
       "        text-align: right;\n",
       "    }\n",
       "</style>\n",
       "<table border=\"1\" class=\"dataframe\">\n",
       "  <thead>\n",
       "    <tr style=\"text-align: right;\">\n",
       "      <th></th>\n",
       "      <th>pred neg</th>\n",
       "      <th>pred pos</th>\n",
       "    </tr>\n",
       "  </thead>\n",
       "  <tbody>\n",
       "    <tr>\n",
       "      <th>actual neg</th>\n",
       "      <td>True Negative</td>\n",
       "      <td>False Positive</td>\n",
       "    </tr>\n",
       "    <tr>\n",
       "      <th>actual pos</th>\n",
       "      <td>False Negative</td>\n",
       "      <td>True Positive</td>\n",
       "    </tr>\n",
       "  </tbody>\n",
       "</table>\n",
       "</div>"
      ],
      "text/plain": [
       "                  pred neg        pred pos\n",
       "actual neg   True Negative  False Positive\n",
       "actual pos  False Negative   True Positive"
      ]
     },
     "metadata": {},
     "output_type": "display_data"
    },
    {
     "data": {
      "text/html": [
       "<div>\n",
       "<style scoped>\n",
       "    .dataframe tbody tr th:only-of-type {\n",
       "        vertical-align: middle;\n",
       "    }\n",
       "\n",
       "    .dataframe tbody tr th {\n",
       "        vertical-align: top;\n",
       "    }\n",
       "\n",
       "    .dataframe thead th {\n",
       "        text-align: right;\n",
       "    }\n",
       "</style>\n",
       "<table border=\"1\" class=\"dataframe\">\n",
       "  <thead>\n",
       "    <tr style=\"text-align: right;\">\n",
       "      <th></th>\n",
       "      <th>pred neg</th>\n",
       "      <th>pred pos</th>\n",
       "    </tr>\n",
       "  </thead>\n",
       "  <tbody>\n",
       "    <tr>\n",
       "      <th>actual neg</th>\n",
       "      <td>248</td>\n",
       "      <td>123</td>\n",
       "    </tr>\n",
       "    <tr>\n",
       "      <th>actual pos</th>\n",
       "      <td>101</td>\n",
       "      <td>336</td>\n",
       "    </tr>\n",
       "  </tbody>\n",
       "</table>\n",
       "</div>"
      ],
      "text/plain": [
       "            pred neg  pred pos\n",
       "actual neg       248       123\n",
       "actual pos       101       336"
      ]
     },
     "metadata": {},
     "output_type": "display_data"
    }
   ],
   "source": [
    "y_pred = gs.predict(X_test)\n",
    "cm_def = np.array([['True Negative', 'False Positive'],\n",
    "                ['False Negative', 'True Positive']])\n",
    "cm_def = pd.DataFrame(cm_def,columns = ['pred neg', 'pred pos'], index = ['actual neg','actual pos'])\n",
    "cm = confusion_matrix(y_test, y_pred)\n",
    "cm_df = pd.DataFrame(cm, columns = ['pred neg', 'pred pos'], index = ['actual neg','actual pos'])\n",
    "display(cm_def)\n",
    "display(cm_df)"
   ]
  },
  {
   "cell_type": "code",
   "execution_count": 54,
   "id": "d8fabbed-7283-4b32-9bab-bc2607e31a3a",
   "metadata": {},
   "outputs": [
    {
     "name": "stderr",
     "output_type": "stream",
     "text": [
      "/Users/sileshihirpa/opt/anaconda3/lib/python3.8/site-packages/sklearn/utils/deprecation.py:101: FutureWarning: Attribute coef_ was deprecated in version 0.24 and will be removed in 1.1 (renaming of 0.26).\n",
      "  warnings.warn(msg, category=FutureWarning)\n"
     ]
    },
    {
     "data": {
      "image/png": "[encoded data removed]",
      "text/plain": [
       "<Figure size 1440x720 with 1 Axes>"
      ]
     },
     "metadata": {
      "needs_background": "light"
     },
     "output_type": "display_data"
    }
   ],
   "source": [
    "vocab = gs.best_estimator_.named_steps['cvec'].get_feature_names()\n",
    "\n",
    "coef = list(gs.best_estimator_.named_steps['nb'].coef_[0])\n",
    "\n",
    "feature_df = pd.DataFrame( {'top_words': vocab, 'importance': coef })\n",
    "\n",
    "feature_df = feature_df.set_index('top_words')\n",
    "feature_df = feature_df.sort_values('importance',ascending = False)\n",
    "\n",
    "weights = feature_df['importance'].head(20).sort_values()\n",
    "labels = weights.index\n",
    "\n",
    "plt.figure(figsize=(20,10))\n",
    "plt.barh(labels, weights)\n",
    "plt.yticks(fontsize=20)\n",
    "plt.xticks(fontsize=20)\n",
    "plt.xlabel('Feature Weights', fontsize=30)\n",
    "plt.title(f'Top 20 Words - Tales from crypto', fontsize=42)\n",
    "plt.tight_layout()"
   ]
  },
  {
   "cell_type": "code",
   "execution_count": 55,
   "id": "ddaa6b75-5000-4033-adbb-e465abee1b3b",
   "metadata": {},
   "outputs": [
    {
     "data": {
      "image/png": "[encoded data removed]",
      "text/plain": [
       "<Figure size 1440x720 with 1 Axes>"
      ]
     },
     "metadata": {
      "needs_background": "light"
     },
     "output_type": "display_data"
    }
   ],
   "source": [
    "weights = feature_df['importance'].tail(20).sort_values()\n",
    "labels = weights.index\n",
    "\n",
    "plt.figure(figsize=(20,10))\n",
    "plt.barh(labels, weights)\n",
    "plt.yticks(fontsize=20)\n",
    "plt.xticks(fontsize=20)\n",
    "plt.xlabel('Feature Weights', fontsize=30)\n",
    "plt.title(f'Top 20 Words - Tales from stock', fontsize=42)\n",
    "plt.tight_layout()"
   ]
  },
  {
   "cell_type": "markdown",
   "id": "009f4f6f-a8f5-42fe-b316-05456e52c03a",
   "metadata": {},
   "source": [
    "## Model 3: TF - IDF Vectorizer & Logistic Regression"
   ]
  },
  {
   "cell_type": "code",
   "execution_count": 56,
   "id": "a80f312b-6827-432c-bec1-464597ded63b",
   "metadata": {},
   "outputs": [],
   "source": [
    "pipe2 = Pipeline([\n",
    "                ('tf', TfidfVectorizer()),\n",
    "                ('lr', LogisticRegression())\n",
    "])\n",
    "\n",
    "params2 = {\n",
    "                'tf__max_features' : [5000,10_000,15_000],\n",
    "                'tf__ngram_range' : [(1,1), (1,2)]\n",
    "}\n",
    "\n",
    "gs2 = GridSearchCV(pipe2, param_grid = params2, cv = 5)"
   ]
  },
  {
   "cell_type": "code",
   "execution_count": 57,
   "id": "34f80357-987f-4da1-a74f-f2b9e010634d",
   "metadata": {},
   "outputs": [
    {
     "data": {
      "text/plain": [
       "GridSearchCV(cv=5,\n",
       "             estimator=Pipeline(steps=[('tf', TfidfVectorizer()),\n",
       "                                       ('lr', LogisticRegression())]),\n",
       "             param_grid={'tf__max_features': [5000, 10000, 15000],\n",
       "                         'tf__ngram_range': [(1, 1), (1, 2)]})"
      ]
     },
     "execution_count": 57,
     "metadata": {},
     "output_type": "execute_result"
    }
   ],
   "source": [
    "gs2.fit(X_train, y_train)"
   ]
  },
  {
   "cell_type": "code",
   "execution_count": 58,
   "id": "dcacf13a-15ed-4236-9337-20207067d12f",
   "metadata": {},
   "outputs": [
    {
     "data": {
      "text/plain": [
       "0.7112217772855074"
      ]
     },
     "execution_count": 58,
     "metadata": {},
     "output_type": "execute_result"
    }
   ],
   "source": [
    "# What's the best score?\n",
    "gs2.best_score_"
   ]
  },
  {
   "cell_type": "code",
   "execution_count": 59,
   "id": "3d243f62-0cc5-413f-9c58-0c9ada2527c8",
   "metadata": {},
   "outputs": [
    {
     "data": {
      "text/plain": [
       "{'tf__max_features': 5000, 'tf__ngram_range': (1, 1)}"
      ]
     },
     "execution_count": 59,
     "metadata": {},
     "output_type": "execute_result"
    }
   ],
   "source": [
    "gs2.best_params_"
   ]
  },
  {
   "cell_type": "code",
   "execution_count": 60,
   "id": "b394c157-884a-4cb4-bfd0-23fe2bef208d",
   "metadata": {},
   "outputs": [],
   "source": [
    "# Save best model as gs_model.\n",
    "\n",
    "gs_model = gs2.best_estimator_"
   ]
  },
  {
   "cell_type": "code",
   "execution_count": 61,
   "id": "9b5b4503-67d0-4972-9366-2bbe3b80f3b8",
   "metadata": {},
   "outputs": [
    {
     "name": "stdout",
     "output_type": "stream",
     "text": [
      "Train score is 0.9088283828382838\n",
      "Test score is 0.7438118811881188\n"
     ]
    }
   ],
   "source": [
    "# Score model on training set.\n",
    "print(f'Train score is {gs_model.score(X_train, y_train)}')\n",
    "# Score model on testing set.\n",
    "print(f'Test score is {gs_model.score(X_test, y_test)}')"
   ]
  },
  {
   "cell_type": "code",
   "execution_count": 62,
   "id": "3c25d95d-af80-47b4-a47c-0c6cc7dcb911",
   "metadata": {},
   "outputs": [
    {
     "data": {
      "text/html": [
       "<div>\n",
       "<style scoped>\n",
       "    .dataframe tbody tr th:only-of-type {\n",
       "        vertical-align: middle;\n",
       "    }\n",
       "\n",
       "    .dataframe tbody tr th {\n",
       "        vertical-align: top;\n",
       "    }\n",
       "\n",
       "    .dataframe thead th {\n",
       "        text-align: right;\n",
       "    }\n",
       "</style>\n",
       "<table border=\"1\" class=\"dataframe\">\n",
       "  <thead>\n",
       "    <tr style=\"text-align: right;\">\n",
       "      <th></th>\n",
       "      <th>pred neg</th>\n",
       "      <th>pred pos</th>\n",
       "    </tr>\n",
       "  </thead>\n",
       "  <tbody>\n",
       "    <tr>\n",
       "      <th>actual neg</th>\n",
       "      <td>True Negative</td>\n",
       "      <td>False Positive</td>\n",
       "    </tr>\n",
       "    <tr>\n",
       "      <th>actual pos</th>\n",
       "      <td>False Negative</td>\n",
       "      <td>True Positive</td>\n",
       "    </tr>\n",
       "  </tbody>\n",
       "</table>\n",
       "</div>"
      ],
      "text/plain": [
       "                  pred neg        pred pos\n",
       "actual neg   True Negative  False Positive\n",
       "actual pos  False Negative   True Positive"
      ]
     },
     "metadata": {},
     "output_type": "display_data"
    },
    {
     "data": {
      "text/html": [
       "<div>\n",
       "<style scoped>\n",
       "    .dataframe tbody tr th:only-of-type {\n",
       "        vertical-align: middle;\n",
       "    }\n",
       "\n",
       "    .dataframe tbody tr th {\n",
       "        vertical-align: top;\n",
       "    }\n",
       "\n",
       "    .dataframe thead th {\n",
       "        text-align: right;\n",
       "    }\n",
       "</style>\n",
       "<table border=\"1\" class=\"dataframe\">\n",
       "  <thead>\n",
       "    <tr style=\"text-align: right;\">\n",
       "      <th></th>\n",
       "      <th>pred neg</th>\n",
       "      <th>pred pos</th>\n",
       "    </tr>\n",
       "  </thead>\n",
       "  <tbody>\n",
       "    <tr>\n",
       "      <th>actual neg</th>\n",
       "      <td>238</td>\n",
       "      <td>133</td>\n",
       "    </tr>\n",
       "    <tr>\n",
       "      <th>actual pos</th>\n",
       "      <td>74</td>\n",
       "      <td>363</td>\n",
       "    </tr>\n",
       "  </tbody>\n",
       "</table>\n",
       "</div>"
      ],
      "text/plain": [
       "            pred neg  pred pos\n",
       "actual neg       238       133\n",
       "actual pos        74       363"
      ]
     },
     "metadata": {},
     "output_type": "display_data"
    }
   ],
   "source": [
    "y_pred = gs2.predict(X_test)\n",
    "cm_def = np.array([['True Negative', 'False Positive'],\n",
    "                ['False Negative', 'True Positive']])\n",
    "cm_def = pd.DataFrame(cm_def,columns = ['pred neg', 'pred pos'], index = ['actual neg','actual pos'])\n",
    "cm = confusion_matrix(y_test, y_pred)\n",
    "cm_df = pd.DataFrame(cm, columns = ['pred neg', 'pred pos'], index = ['actual neg','actual pos'])\n",
    "display(cm_def)\n",
    "display(cm_df)"
   ]
  },
  {
   "cell_type": "code",
   "execution_count": 63,
   "id": "f0251626-b2da-422f-bba8-7d7ba3c14c05",
   "metadata": {},
   "outputs": [
    {
     "data": {
      "image/png": "[encoded data removed]",
      "text/plain": [
       "<Figure size 1440x720 with 1 Axes>"
      ]
     },
     "metadata": {
      "needs_background": "light"
     },
     "output_type": "display_data"
    }
   ],
   "source": [
    "beta = gs2.best_estimator_.named_steps['lr'].coef_\n",
    "\n",
    "vocab = gs2.best_estimator_.named_steps['tf'].get_feature_names()\n",
    "\n",
    "beta_df = pd.DataFrame( {'top_words': vocab, 'Beta' :beta[0]})\n",
    "beta_df['log_odds'] = beta_df['Beta'].map(lambda x: np.exp(x))\n",
    "beta_df = beta_df.set_index('top_words')\n",
    "beta_df = beta_df.sort_values('log_odds',ascending = False)\n",
    "\n",
    "weights = beta_df['log_odds'].head(20).sort_values()\n",
    "labels = weights.index\n",
    "\n",
    "plt.figure(figsize=(20,10))\n",
    "plt.barh(labels, weights)\n",
    "plt.yticks(fontsize=20)\n",
    "plt.xticks(fontsize=20)\n",
    "plt.xlabel('Log Odds', fontsize=30)\n",
    "plt.title(f'Top 20 Words - Tales from Crypto', fontsize=42)\n",
    "plt.tight_layout()"
   ]
  },
  {
   "cell_type": "code",
   "execution_count": 64,
   "id": "c0570ab1-eaa0-4521-a020-35ff6aba0902",
   "metadata": {},
   "outputs": [
    {
     "data": {
      "image/png": "[encoded data removed]",
      "text/plain": [
       "<Figure size 1440x720 with 1 Axes>"
      ]
     },
     "metadata": {
      "needs_background": "light"
     },
     "output_type": "display_data"
    }
   ],
   "source": [
    "weights = beta_df['log_odds'].tail(20).sort_values()\n",
    "labels = weights.index\n",
    "\n",
    "plt.figure(figsize=(20,10))\n",
    "plt.barh(labels, weights)\n",
    "plt.yticks(fontsize=20)\n",
    "plt.xticks(fontsize=20)\n",
    "plt.xlabel('Log Odds', fontsize=30)\n",
    "plt.title(f'Top 20 Words- Tales from stock', fontsize=42)\n",
    "plt.tight_layout()"
   ]
  },
  {
   "cell_type": "markdown",
   "id": "f83bea08-029e-42f1-b6c0-f33eb3af0018",
   "metadata": {},
   "source": [
    "## Model 4: TF - IDF Vectorizer & Multinomial Naive Bayes"
   ]
  },
  {
   "cell_type": "code",
   "execution_count": 65,
   "id": "1cb4c666-cb19-4790-8217-b2ae6c9452eb",
   "metadata": {},
   "outputs": [],
   "source": [
    "pipe2 = Pipeline([\n",
    "                ('tf', TfidfVectorizer()),\n",
    "                ('nb', MultinomialNB())\n",
    "])\n",
    "\n",
    "params2 = {\n",
    "                'tf__max_features' : [5000,10_000,15_000],\n",
    "                'tf__ngram_range' : [(1,1), (1,2)]\n",
    "}\n",
    "\n",
    "gs2 = GridSearchCV(pipe2, param_grid = params2, cv = 5)"
   ]
  },
  {
   "cell_type": "code",
   "execution_count": 66,
   "id": "0d01ff47-872a-47be-94cb-89e227af8a86",
   "metadata": {},
   "outputs": [
    {
     "data": {
      "text/plain": [
       "GridSearchCV(cv=5,\n",
       "             estimator=Pipeline(steps=[('tf', TfidfVectorizer()),\n",
       "                                       ('nb', MultinomialNB())]),\n",
       "             param_grid={'tf__max_features': [5000, 10000, 15000],\n",
       "                         'tf__ngram_range': [(1, 1), (1, 2)]})"
      ]
     },
     "execution_count": 66,
     "metadata": {},
     "output_type": "execute_result"
    }
   ],
   "source": [
    "gs2.fit(X_train, y_train)"
   ]
  },
  {
   "cell_type": "code",
   "execution_count": 67,
   "id": "6a52a38b-8ec8-4db8-9415-1a65c996dd38",
   "metadata": {},
   "outputs": [
    {
     "data": {
      "text/plain": [
       "{'tf__max_features': 5000, 'tf__ngram_range': (1, 1)}"
      ]
     },
     "execution_count": 67,
     "metadata": {},
     "output_type": "execute_result"
    }
   ],
   "source": [
    "gs2.best_params_"
   ]
  },
  {
   "cell_type": "code",
   "execution_count": 68,
   "id": "5a1eb493-b2fc-4662-82df-f953286ac403",
   "metadata": {},
   "outputs": [
    {
     "name": "stdout",
     "output_type": "stream",
     "text": [
      "Train Accuracy: 0.92\n"
     ]
    }
   ],
   "source": [
    "gs_train_accuracy = round(gs2.score(X_train, y_train),2)\n",
    "print(f'Train Accuracy: {gs_train_accuracy}')"
   ]
  },
  {
   "cell_type": "code",
   "execution_count": 69,
   "id": "429ee78d-6041-4412-a1cd-0c48b0db73c7",
   "metadata": {},
   "outputs": [
    {
     "name": "stdout",
     "output_type": "stream",
     "text": [
      "Test Accuracy: 0.73\n"
     ]
    }
   ],
   "source": [
    "gs_test_accuracy = round(gs2.score(X_test, y_test),2)\n",
    "print(f'Test Accuracy: {gs_test_accuracy}')"
   ]
  },
  {
   "cell_type": "code",
   "execution_count": 70,
   "id": "635cca4a-7974-4931-80f2-cc0c36e53847",
   "metadata": {},
   "outputs": [
    {
     "name": "stderr",
     "output_type": "stream",
     "text": [
      "/Users/sileshihirpa/opt/anaconda3/lib/python3.8/site-packages/sklearn/utils/deprecation.py:101: FutureWarning: Attribute coef_ was deprecated in version 0.24 and will be removed in 1.1 (renaming of 0.26).\n",
      "  warnings.warn(msg, category=FutureWarning)\n"
     ]
    },
    {
     "data": {
      "image/png": "[encoded data removed]",
      "text/plain": [
       "<Figure size 1440x720 with 1 Axes>"
      ]
     },
     "metadata": {
      "needs_background": "light"
     },
     "output_type": "display_data"
    }
   ],
   "source": [
    "vocab = gs2.best_estimator_.named_steps['tf'].get_feature_names()\n",
    "\n",
    "coef = list(gs2.best_estimator_.named_steps['nb'].coef_[0])\n",
    "\n",
    "feature_df = pd.DataFrame( {'top_words': vocab, 'importance': coef })\n",
    "\n",
    "feature_df = feature_df.set_index('top_words')\n",
    "feature_df = feature_df.sort_values('importance',ascending = False)\n",
    "\n",
    "weights = feature_df['importance'].head(20).sort_values()\n",
    "labels = weights.index\n",
    "\n",
    "plt.figure(figsize=(20,10))\n",
    "plt.barh(labels, weights)\n",
    "plt.yticks(fontsize=20)\n",
    "plt.xticks(fontsize=20)\n",
    "plt.xlabel('Feature Weights', fontsize=30)\n",
    "plt.title(f'Top 20 Words - Tales from Crypto', fontsize=42)\n",
    "plt.tight_layout()"
   ]
  },
  {
   "cell_type": "code",
   "execution_count": 71,
   "id": "a63796e8-8fa9-472f-b736-937bcf27f75d",
   "metadata": {},
   "outputs": [
    {
     "data": {
      "image/png": "[encoded data removed]",
      "text/plain": [
       "<Figure size 1440x720 with 1 Axes>"
      ]
     },
     "metadata": {
      "needs_background": "light"
     },
     "output_type": "display_data"
    }
   ],
   "source": [
    "weights = feature_df['importance'].tail(20).sort_values()\n",
    "labels = weights.index\n",
    "\n",
    "plt.figure(figsize=(20,10))\n",
    "plt.barh(labels, weights)\n",
    "plt.yticks(fontsize=20)\n",
    "plt.xticks(fontsize=20)\n",
    "plt.xlabel('Feature Weights', fontsize=30)\n",
    "plt.title(f'Top 20 Words - Tales from Stock', fontsize=42)\n",
    "plt.tight_layout()"
   ]
  },
  {
   "cell_type": "code",
   "execution_count": 72,
   "id": "100282ef-ad69-42f7-bc46-79f13f5a5448",
   "metadata": {},
   "outputs": [],
   "source": [
    "y_pred_2 = gs2.predict(X_test)"
   ]
  },
  {
   "cell_type": "code",
   "execution_count": 73,
   "id": "d61199b5-8d91-4427-bd0a-6161cdb2c82b",
   "metadata": {},
   "outputs": [],
   "source": [
    "cm = confusion_matrix(y_test, y_pred_2)\n",
    "cm_df = pd.DataFrame(cm, columns = ['pred neg', 'pred pos'], index = ['actual neg','actual pos'])"
   ]
  },
  {
   "cell_type": "code",
   "execution_count": 74,
   "id": "6c9317b8-446f-4475-9d92-cdfbf5aa27fc",
   "metadata": {},
   "outputs": [
    {
     "data": {
      "text/html": [
       "<div>\n",
       "<style scoped>\n",
       "    .dataframe tbody tr th:only-of-type {\n",
       "        vertical-align: middle;\n",
       "    }\n",
       "\n",
       "    .dataframe tbody tr th {\n",
       "        vertical-align: top;\n",
       "    }\n",
       "\n",
       "    .dataframe thead th {\n",
       "        text-align: right;\n",
       "    }\n",
       "</style>\n",
       "<table border=\"1\" class=\"dataframe\">\n",
       "  <thead>\n",
       "    <tr style=\"text-align: right;\">\n",
       "      <th></th>\n",
       "      <th>pred neg</th>\n",
       "      <th>pred pos</th>\n",
       "    </tr>\n",
       "  </thead>\n",
       "  <tbody>\n",
       "    <tr>\n",
       "      <th>actual neg</th>\n",
       "      <td>True Negative</td>\n",
       "      <td>False Positive</td>\n",
       "    </tr>\n",
       "    <tr>\n",
       "      <th>actual pos</th>\n",
       "      <td>False Negative</td>\n",
       "      <td>True Positive</td>\n",
       "    </tr>\n",
       "  </tbody>\n",
       "</table>\n",
       "</div>"
      ],
      "text/plain": [
       "                  pred neg        pred pos\n",
       "actual neg   True Negative  False Positive\n",
       "actual pos  False Negative   True Positive"
      ]
     },
     "metadata": {},
     "output_type": "display_data"
    },
    {
     "data": {
      "text/html": [
       "<div>\n",
       "<style scoped>\n",
       "    .dataframe tbody tr th:only-of-type {\n",
       "        vertical-align: middle;\n",
       "    }\n",
       "\n",
       "    .dataframe tbody tr th {\n",
       "        vertical-align: top;\n",
       "    }\n",
       "\n",
       "    .dataframe thead th {\n",
       "        text-align: right;\n",
       "    }\n",
       "</style>\n",
       "<table border=\"1\" class=\"dataframe\">\n",
       "  <thead>\n",
       "    <tr style=\"text-align: right;\">\n",
       "      <th></th>\n",
       "      <th>pred neg</th>\n",
       "      <th>pred pos</th>\n",
       "    </tr>\n",
       "  </thead>\n",
       "  <tbody>\n",
       "    <tr>\n",
       "      <th>actual neg</th>\n",
       "      <td>217</td>\n",
       "      <td>154</td>\n",
       "    </tr>\n",
       "    <tr>\n",
       "      <th>actual pos</th>\n",
       "      <td>68</td>\n",
       "      <td>369</td>\n",
       "    </tr>\n",
       "  </tbody>\n",
       "</table>\n",
       "</div>"
      ],
      "text/plain": [
       "            pred neg  pred pos\n",
       "actual neg       217       154\n",
       "actual pos        68       369"
      ]
     },
     "metadata": {},
     "output_type": "display_data"
    }
   ],
   "source": [
    "display(cm_def)\n",
    "display(cm_df)"
   ]
  },
  {
   "cell_type": "code",
   "execution_count": null,
   "id": "cfb0f927-6761-49f6-a1d4-ae44b597cf11",
   "metadata": {},
   "outputs": [],
   "source": []
  },
  {
   "cell_type": "code",
   "execution_count": null,
   "id": "c03e8419-4a15-4e43-9051-13dab2927e88",
   "metadata": {},
   "outputs": [],
   "source": []
  },
  {
   "cell_type": "markdown",
   "id": "b8f25028-227b-4873-97d9-467ac568eab0",
   "metadata": {},
   "source": [
    "\n",
    "---\n",
    "\n",
    "\n",
    "---"
   ]
  },
  {
   "cell_type": "code",
   "execution_count": 75,
   "id": "29a69832-9057-42af-9696-b33a68768f3f",
   "metadata": {},
   "outputs": [
    {
     "data": {
      "image/png": "[encoded data removed]",
      "text/plain": [
       "<Figure size 432x288 with 1 Axes>"
      ]
     },
     "metadata": {
      "needs_background": "light"
     },
     "output_type": "display_data"
    }
   ],
   "source": [
    "X.str.split(\" \").str.len().hist();"
   ]
  },
  {
   "cell_type": "code",
   "execution_count": 76,
   "id": "89d0a4ba-d5fb-4f9d-aa15-4b6d62bbf580",
   "metadata": {},
   "outputs": [
    {
     "data": {
      "text/plain": [
       "['case',\n",
       " 'cash',\n",
       " 'cashapp',\n",
       " 'cashback',\n",
       " 'cashed',\n",
       " 'cashing',\n",
       " 'cashless',\n",
       " 'casino',\n",
       " 'casuals',\n",
       " 'cat']"
      ]
     },
     "execution_count": 76,
     "metadata": {},
     "output_type": "execute_result"
    }
   ],
   "source": [
    "cvec.get_feature_names()[1000:1010]"
   ]
  },
  {
   "cell_type": "code",
   "execution_count": 77,
   "id": "32db32e4-af0a-48e2-b4c1-fa9d29a3c3ef",
   "metadata": {},
   "outputs": [
    {
     "data": {
      "text/plain": [
       "(2424,)"
      ]
     },
     "execution_count": 77,
     "metadata": {},
     "output_type": "execute_result"
    }
   ],
   "source": [
    "X_train.shape"
   ]
  },
  {
   "cell_type": "code",
   "execution_count": 78,
   "id": "5f547402-6e85-4262-a9cc-f0a3ee83e171",
   "metadata": {},
   "outputs": [],
   "source": [
    "# Transform test\n",
    "X_test = cvec.transform(X_test)"
   ]
  },
  {
   "cell_type": "code",
   "execution_count": 79,
   "id": "a0c39b52-5446-4954-9b10-aff63d1308be",
   "metadata": {},
   "outputs": [
    {
     "data": {
      "image/png": "[encoded data removed]",
      "text/plain": [
       "<Figure size 432x288 with 1 Axes>"
      ]
     },
     "metadata": {
      "needs_background": "light"
     },
     "output_type": "display_data"
    }
   ],
   "source": [
    "X.str.split(\" \").str.len().hist();"
   ]
  },
  {
   "cell_type": "code",
   "execution_count": 80,
   "id": "6036e2ba-3a78-4844-bef4-23c26ceef371",
   "metadata": {},
   "outputs": [],
   "source": [
    "#X_train.todense()"
   ]
  },
  {
   "cell_type": "markdown",
   "id": "1b3e90d8-8429-45a4-b799-70c9fc5decc6",
   "metadata": {},
   "source": [
    "### edit stop words"
   ]
  },
  {
   "cell_type": "code",
   "execution_count": 81,
   "id": "31262d36-a3bd-471d-86aa-90b67efcad04",
   "metadata": {},
   "outputs": [],
   "source": [
    "# # Convert X_train into a DataFrame.\n",
    "# X_train_df = pd.DataFrame(X_train.todense(), columns = cvec.get_feature_names())\n",
    "\n",
    "# # plot top occuring words\n",
    "# X_train_df.sum().sort_values(ascending=False).head(10).plot(kind = 'barh');"
   ]
  },
  {
   "cell_type": "markdown",
   "id": "222df843-0546-4213-b409-3ad6005c3aaf",
   "metadata": {},
   "source": [
    "* All the top 10 words are stop words"
   ]
  },
  {
   "cell_type": "code",
   "execution_count": 82,
   "id": "fd43d1f3-0f67-404e-923c-df7c1e74e9db",
   "metadata": {},
   "outputs": [
    {
     "name": "stdout",
     "output_type": "stream",
     "text": [
      "frozenset({'found', 'many', 'though', 'something', 'back', 'so', 'fire', 'off', 'ourselves', 'thereupon', 'six', 'why', 'or', 'therein', 'was', 'their', 'along', 'hereby', 'who', 'whereby', 'further', 'neither', 'somewhere', 'fill', 'describe', 'each', 'on', 'cry', 'be', 'where', 'from', 'inc', 'those', 'mostly', 'forty', 'nothing', 'hundred', 'enough', 'once', 'next', 'everyone', 'side', 'wherein', 'you', 'two', 'before', 'three', 'hence', 'either', 'above', 'for', 'part', 'himself', 'what', 'after', 'others', 'up', 'twelve', 'almost', 'somehow', 'anyway', 'not', 'system', 'fifty', 'beside', 'together', 'yours', 'within', 'hereafter', 'anyone', 'anything', 'me', 'until', 'already', 'anywhere', 'he', 'still', 'even', 'due', 'against', 'and', 'thereafter', 'had', 'eight', 'themselves', 'across', 'his', 'throughout', 'formerly', 'amongst', 'around', 'become', 'indeed', 'made', 'thin', 'alone', 'into', 'could', 'least', 'behind', 'find', 'more', 'per', 'there', 'also', 'some', 'without', 'therefore', 'name', 'upon', 'thru', 'through', 'thick', 'do', 'this', 'someone', 'one', 'besides', 'wherever', 'being', 'noone', 'seems', 'out', 'ie', 'else', 'must', 'get', 'well', 'please', 'fifteen', 'see', 'i', 'elsewhere', 'interest', 'several', 'again', 'with', 'them', 'move', 'sincere', 'whence', 'ever', 'about', 'twenty', 'always', 'whatever', 'whenever', 'if', 'whole', 'to', 'becoming', 'as', 'its', 'put', 'becomes', 'former', 'during', 'sometime', 'we', 'take', 'over', 'whereas', 'whereafter', 'whom', 'than', 'cannot', 'mill', 'first', 'how', 'anyhow', 'which', 'often', 'keep', 'whose', 'towards', 'us', 'moreover', 'go', 'third', 'him', 'itself', 'are', 'front', 'nobody', 'same', 'can', 'otherwise', 'other', 'although', 'ltd', 'bill', 'both', 'yet', 'amoungst', 'rather', 'when', 'below', 'only', 'such', 'call', 'none', 'detail', 'latterly', 'thus', 'seem', 'should', 'under', 'less', 'herself', 'might', 'any', 'meanwhile', 'most', 'among', 'her', 'except', 'every', 'while', 'co', 'perhaps', 'hereupon', 'thence', 'show', 'toward', 'thereby', 'herein', 'namely', 'done', 'eleven', 'afterwards', 'de', 'un', 'my', 'now', 'hers', 'no', 'four', 'everywhere', 'seemed', 'never', 'ours', 'whereupon', 'give', 'hasnt', 'myself', 'your', 'have', 'too', 'everything', 'yourselves', 'they', 'nevertheless', 'another', 'our', 'am', 'nor', 'by', 'sometimes', 'via', 'all', 'here', 'own', 'has', 'onto', 'couldnt', 'last', 'full', 'nowhere', 'is', 'etc', 'eg', 'at', 'whither', 'since', 'these', 'down', 'empty', 'top', 'ten', 'a', 'much', 'very', 'five', 'yourself', 'but', 'between', 'would', 'became', 'an', 'con', 'will', 'bottom', 'nine', 'been', 'mine', 'few', 'seeming', 'may', 'that', 'latter', 'beyond', 'amount', 'of', 'whoever', 'beforehand', 'in', 'because', 'the', 'serious', 'whether', 're', 'were', 'however', 'she', 'sixty', 'it', 'then', 'cant'})\n"
     ]
    }
   ],
   "source": [
    "# Let's look at sklearn's stopwords.\n",
    "print(CountVectorizer(stop_words = 'english').get_stop_words())"
   ]
  },
  {
   "cell_type": "code",
   "execution_count": 83,
   "id": "efebaf60-7d55-4734-bfc7-915b29e2e4fc",
   "metadata": {},
   "outputs": [],
   "source": [
    "from sklearn.feature_extraction import text\n",
    "\n",
    "text.ENGLISH_STOP_WORDS\n",
    "\n",
    "add_stop_words = ['did', 'www', 'https', 'reddit', 'com', 'removed', 'don', 'doesn', 'getting', 'going', 'got', 'deleted', 'isn', 'removed']\n",
    "\n",
    "stop_words = text.ENGLISH_STOP_WORDS.union(add_stop_words)"
   ]
  },
  {
   "cell_type": "code",
   "execution_count": 84,
   "id": "6ca8c624-d6eb-4258-a466-9fdc69b71585",
   "metadata": {},
   "outputs": [],
   "source": [
    "#stop_words"
   ]
  },
  {
   "cell_type": "code",
   "execution_count": 85,
   "id": "4f64fdd8-1878-4437-abc7-92462c48c2cf",
   "metadata": {},
   "outputs": [],
   "source": [
    "# Redefine training and testing sets.\n",
    "X_train, X_test, y_train, y_test = train_test_split(X,\n",
    "                                                    y,\n",
    "                                                    test_size=0.33,\n",
    "                                                    stratify=y,\n",
    "                                                    random_state=42)"
   ]
  },
  {
   "cell_type": "code",
   "execution_count": 86,
   "id": "b42e7469-4e73-4cbb-b52f-ef83d95e1c1b",
   "metadata": {},
   "outputs": [
    {
     "data": {
      "text/plain": [
       "1    0.541339\n",
       "0    0.458661\n",
       "Name: target, dtype: float64"
      ]
     },
     "execution_count": 86,
     "metadata": {},
     "output_type": "execute_result"
    }
   ],
   "source": [
    "# baseline accuracy double-checking\n",
    "y_train.value_counts(normalize = True)"
   ]
  },
  {
   "cell_type": "markdown",
   "id": "5431f3bc-ed6b-4f2b-ac44-e73dd4462f1d",
   "metadata": {},
   "source": [
    "- Majority (54%) of the document from the subreddit is about cryptocurrency"
   ]
  },
  {
   "cell_type": "markdown",
   "id": "8ceea027-1774-4fab-b240-7f03e37050aa",
   "metadata": {},
   "source": [
    "### explore feature importances and effect of stop words, n-grams"
   ]
  },
  {
   "cell_type": "code",
   "execution_count": 87,
   "id": "dacabb4d-d57a-4203-9bbf-b3f726d181d6",
   "metadata": {},
   "outputs": [],
   "source": [
    "# using standard stop words = \"english\"\n",
    "\n",
    "cvec = CountVectorizer(analyzer = \"word\",                        \n",
    "                         tokenizer = None, \n",
    "                         preprocessor = None,\n",
    "                         stop_words = \"english\", \n",
    "                         max_features = 10000)\n",
    "lr = LogisticRegression()\n",
    "\n",
    "pipe = Pipeline([\n",
    "    ('cvec', cvec),\n",
    "    ('lr', lr)\n",
    "])"
   ]
  },
  {
   "cell_type": "code",
   "execution_count": 88,
   "id": "9e7e86cf-ffd7-4a56-982e-256984822dd0",
   "metadata": {},
   "outputs": [
    {
     "name": "stdout",
     "output_type": "stream",
     "text": [
      "train score: 0.9551963048498845\n",
      "test score: 0.7197750702905342\n"
     ]
    }
   ],
   "source": [
    "# baseline Logistic model\n",
    "\n",
    "pipe.fit(X_train, y_train)\n",
    "print('train score:', pipe.score(X_train, y_train))\n",
    "print('test score:', pipe.score(X_test, y_test))"
   ]
  },
  {
   "cell_type": "code",
   "execution_count": 89,
   "id": "90c3cfb8-111b-4cbc-a6a0-2af912a6efb4",
   "metadata": {},
   "outputs": [],
   "source": [
    "from sklearn.model_selection import train_test_split, cross_val_score\n",
    "\n"
   ]
  },
  {
   "cell_type": "code",
   "execution_count": 90,
   "id": "cc62b7f7-a540-41d4-b1bb-3cbf4ffad319",
   "metadata": {},
   "outputs": [
    {
     "data": {
      "text/plain": [
       "array([0.71191136, 0.70637119, 0.69486824])"
      ]
     },
     "execution_count": 90,
     "metadata": {},
     "output_type": "execute_result"
    }
   ],
   "source": [
    "cross_val_score(pipe, X_train, y_train, cv=3)"
   ]
  },
  {
   "cell_type": "code",
   "execution_count": 91,
   "id": "1fe4f2d0-12ac-4b1b-9cca-2c27f10f3bb9",
   "metadata": {},
   "outputs": [
    {
     "data": {
      "text/plain": [
       "0.7043835956780043"
      ]
     },
     "execution_count": 91,
     "metadata": {},
     "output_type": "execute_result"
    }
   ],
   "source": [
    "# Estimate how your model will perform on unseen data\n",
    "cross_val_score(pipe, X_train, y_train, cv=3).mean() "
   ]
  },
  {
   "cell_type": "code",
   "execution_count": 92,
   "id": "beb43f4f-dfb7-435f-8fb2-33a7f36758ef",
   "metadata": {},
   "outputs": [
    {
     "data": {
      "text/plain": [
       "0.9551963048498845"
      ]
     },
     "execution_count": 92,
     "metadata": {},
     "output_type": "execute_result"
    }
   ],
   "source": [
    "# Training score\n",
    "pipe.score(X_train, y_train)"
   ]
  },
  {
   "cell_type": "code",
   "execution_count": 93,
   "id": "b712130a-1c6f-4835-9cec-05885034eca7",
   "metadata": {},
   "outputs": [
    {
     "data": {
      "text/plain": [
       "0.7197750702905342"
      ]
     },
     "execution_count": 93,
     "metadata": {},
     "output_type": "execute_result"
    }
   ],
   "source": [
    "\n",
    "# Test score\n",
    "pipe.score(X_test, y_test)"
   ]
  },
  {
   "cell_type": "code",
   "execution_count": 94,
   "id": "3ee66136-e050-44bf-865f-34e2d498a49b",
   "metadata": {},
   "outputs": [],
   "source": [
    "# Search over the following values of hyperparameters:\n",
    "# Maximum number of features fit: 2000, 3000, 4000, 5000\n",
    "# Minimum number of documents needed to include token: 2, 3\n",
    "# Maximum number of documents needed to include token: 90%, 95%\n",
    "# Check (individual tokens) and also check (individual tokens and 2-grams).\n",
    "pipe_params = {\n",
    "    'cvec__max_features': [2000, 3000, 4000, 5000],\n",
    "    'cvec__min_df': [2, 3],\n",
    "    'cvec__max_df': [0.9, 0.95],\n",
    "    'cvec__ngram_range':[(1, 1), (1, 2)]\n",
    "}"
   ]
  },
  {
   "cell_type": "code",
   "execution_count": 95,
   "id": "2fb05fc4-f66a-4cd4-8af9-1dcf662a61da",
   "metadata": {},
   "outputs": [],
   "source": [
    "# Instantiate GridSearchCV.\n",
    "\n",
    "gs = GridSearchCV(pipe, # what object are we optimizing?\n",
    "                 param_grid = pipe_params, # what parameters values are we searching?\n",
    "                 cv = 5, # 5-fold cross-validation.\n",
    "                 n_jobs = -1)"
   ]
  },
  {
   "cell_type": "code",
   "execution_count": 96,
   "id": "c603902e-c947-4571-bdc0-4742510be984",
   "metadata": {},
   "outputs": [
    {
     "data": {
      "text/plain": [
       "GridSearchCV(cv=5,\n",
       "             estimator=Pipeline(steps=[('cvec',\n",
       "                                        CountVectorizer(max_features=10000,\n",
       "                                                        stop_words='english')),\n",
       "                                       ('lr', LogisticRegression())]),\n",
       "             n_jobs=-1,\n",
       "             param_grid={'cvec__max_df': [0.9, 0.95],\n",
       "                         'cvec__max_features': [2000, 3000, 4000, 5000],\n",
       "                         'cvec__min_df': [2, 3],\n",
       "                         'cvec__ngram_range': [(1, 1), (1, 2)]})"
      ]
     },
     "execution_count": 96,
     "metadata": {},
     "output_type": "execute_result"
    }
   ],
   "source": [
    "# Fit GridSearch to training data.\n",
    "gs.fit(X_train, y_train)"
   ]
  },
  {
   "cell_type": "code",
   "execution_count": 97,
   "id": "051154a2-3ce0-456e-a29e-46526f95166c",
   "metadata": {},
   "outputs": [
    {
     "name": "stdout",
     "output_type": "stream",
     "text": [
      "0.7071593533487297\n"
     ]
    }
   ],
   "source": [
    "# What's the best score?\n",
    "print(gs.best_score_)"
   ]
  },
  {
   "cell_type": "markdown",
   "id": "31edf539-c05b-44f7-9b9b-1b2033bc5211",
   "metadata": {},
   "source": [
    "=> Accuracy of .707"
   ]
  },
  {
   "cell_type": "code",
   "execution_count": 98,
   "id": "5c641ef4-1719-4c73-aa5e-80aa32fdb810",
   "metadata": {},
   "outputs": [
    {
     "data": {
      "text/plain": [
       "{'cvec__max_df': 0.9,\n",
       " 'cvec__max_features': 3000,\n",
       " 'cvec__min_df': 2,\n",
       " 'cvec__ngram_range': (1, 2)}"
      ]
     },
     "execution_count": 98,
     "metadata": {},
     "output_type": "execute_result"
    }
   ],
   "source": [
    "# What are the best hyperparameters?\n",
    "gs.best_params_"
   ]
  },
  {
   "cell_type": "code",
   "execution_count": 99,
   "id": "38870a51-58ea-4d72-bc4e-5da4f2e4958d",
   "metadata": {},
   "outputs": [
    {
     "data": {
      "text/plain": [
       "0.9270207852193996"
      ]
     },
     "execution_count": 99,
     "metadata": {},
     "output_type": "execute_result"
    }
   ],
   "source": [
    "# Score model on training set.\n",
    "gs.score(X_train, y_train)"
   ]
  },
  {
   "cell_type": "markdown",
   "id": "dc5c2782-e2f3-43b0-88da-8ee7a611e22e",
   "metadata": {},
   "source": [
    "- very solid model, then :)"
   ]
  },
  {
   "cell_type": "code",
   "execution_count": 100,
   "id": "bc1dea08-6561-4ed6-919d-8c86bd3a44a3",
   "metadata": {},
   "outputs": [
    {
     "data": {
      "text/plain": [
       "0.7328959700093721"
      ]
     },
     "execution_count": 100,
     "metadata": {},
     "output_type": "execute_result"
    }
   ],
   "source": [
    "# Score model on testing set.\n",
    "gs.score(X_test, y_test)"
   ]
  },
  {
   "cell_type": "markdown",
   "id": "f9eff17e-dca6-45ca-b99b-4a7e138b853f",
   "metadata": {},
   "source": [
    "- misclassification = 1 - accuracy\n",
    "\n",
    "=> on the training set;\n",
    "\n",
    "missclassification = 1 - 0.9254166666666667, say mtr, and on testing set,\n",
    "\n",
    "\n",
    "missclassification = 1-0.7066779374471682, say mtt. \n",
    "\n"
   ]
  },
  {
   "cell_type": "code",
   "execution_count": 101,
   "id": "91a3694e-fc62-48b9-9278-cc84edb284c1",
   "metadata": {},
   "outputs": [
    {
     "data": {
      "text/plain": [
       "0.07458333333333333"
      ]
     },
     "execution_count": 101,
     "metadata": {},
     "output_type": "execute_result"
    }
   ],
   "source": [
    "mtr = 1 - 0.9254166666666667\n",
    "mtr"
   ]
  },
  {
   "cell_type": "code",
   "execution_count": 102,
   "id": "06900a51-c468-4c69-b054-69fdc42b4670",
   "metadata": {},
   "outputs": [
    {
     "data": {
      "text/plain": [
       "0.2933220625528318"
      ]
     },
     "execution_count": 102,
     "metadata": {},
     "output_type": "execute_result"
    }
   ],
   "source": [
    "mtt = 1-0.7066779374471682\n",
    "mtt"
   ]
  },
  {
   "cell_type": "markdown",
   "id": "74f9043d-b49b-46d1-9440-ddc03de39ce2",
   "metadata": {},
   "source": [
    "* misclassification on testing data is 29.33% whereas on training it's only 7.46%"
   ]
  },
  {
   "cell_type": "markdown",
   "id": "eadb58b0-8173-48b0-bd0a-8485300aefe8",
   "metadata": {},
   "source": [
    "So, accuracy may not be the best score.\n",
    "\n",
    "so, we gonna evaluate specificity and precision. Go all the way down."
   ]
  },
  {
   "cell_type": "markdown",
   "id": "97d3f311-ec59-4d3a-9da4-7a95230d4d42",
   "metadata": {},
   "source": [
    "------\n",
    "\n",
    "---\n",
    "\n"
   ]
  },
  {
   "cell_type": "code",
   "execution_count": 103,
   "id": "7b9db823-7c82-42eb-ad13-cc36e0b433a7",
   "metadata": {},
   "outputs": [
    {
     "data": {
      "text/html": [
       "<div>\n",
       "<style scoped>\n",
       "    .dataframe tbody tr th:only-of-type {\n",
       "        vertical-align: middle;\n",
       "    }\n",
       "\n",
       "    .dataframe tbody tr th {\n",
       "        vertical-align: top;\n",
       "    }\n",
       "\n",
       "    .dataframe thead th {\n",
       "        text-align: right;\n",
       "    }\n",
       "</style>\n",
       "<table border=\"1\" class=\"dataframe\">\n",
       "  <thead>\n",
       "    <tr style=\"text-align: right;\">\n",
       "      <th></th>\n",
       "      <th>coef_</th>\n",
       "      <th>abs_coef</th>\n",
       "    </tr>\n",
       "  </thead>\n",
       "  <tbody>\n",
       "    <tr>\n",
       "      <th>crypto</th>\n",
       "      <td>2.107617</td>\n",
       "      <td>2.107617</td>\n",
       "    </tr>\n",
       "    <tr>\n",
       "      <th>coin</th>\n",
       "      <td>1.990010</td>\n",
       "      <td>1.990010</td>\n",
       "    </tr>\n",
       "    <tr>\n",
       "      <th>stock</th>\n",
       "      <td>-1.958336</td>\n",
       "      <td>1.958336</td>\n",
       "    </tr>\n",
       "    <tr>\n",
       "      <th>moon</th>\n",
       "      <td>1.927906</td>\n",
       "      <td>1.927906</td>\n",
       "    </tr>\n",
       "    <tr>\n",
       "      <th>eth</th>\n",
       "      <td>1.759028</td>\n",
       "      <td>1.759028</td>\n",
       "    </tr>\n",
       "    <tr>\n",
       "      <th>btc</th>\n",
       "      <td>1.737258</td>\n",
       "      <td>1.737258</td>\n",
       "    </tr>\n",
       "    <tr>\n",
       "      <th>ada</th>\n",
       "      <td>1.588372</td>\n",
       "      <td>1.588372</td>\n",
       "    </tr>\n",
       "    <tr>\n",
       "      <th>cro</th>\n",
       "      <td>1.526815</td>\n",
       "      <td>1.526815</td>\n",
       "    </tr>\n",
       "    <tr>\n",
       "      <th>vaccine</th>\n",
       "      <td>-1.491925</td>\n",
       "      <td>1.491925</td>\n",
       "    </tr>\n",
       "    <tr>\n",
       "      <th>dip</th>\n",
       "      <td>1.410695</td>\n",
       "      <td>1.410695</td>\n",
       "    </tr>\n",
       "    <tr>\n",
       "      <th>venmo</th>\n",
       "      <td>-1.334236</td>\n",
       "      <td>1.334236</td>\n",
       "    </tr>\n",
       "    <tr>\n",
       "      <th>bitcoin</th>\n",
       "      <td>1.283202</td>\n",
       "      <td>1.283202</td>\n",
       "    </tr>\n",
       "    <tr>\n",
       "      <th>stupid</th>\n",
       "      <td>-1.228271</td>\n",
       "      <td>1.228271</td>\n",
       "    </tr>\n",
       "    <tr>\n",
       "      <th>trade</th>\n",
       "      <td>-1.227543</td>\n",
       "      <td>1.227543</td>\n",
       "    </tr>\n",
       "    <tr>\n",
       "      <th>hodl</th>\n",
       "      <td>1.204116</td>\n",
       "      <td>1.204116</td>\n",
       "    </tr>\n",
       "    <tr>\n",
       "      <th>share</th>\n",
       "      <td>-1.201292</td>\n",
       "      <td>1.201292</td>\n",
       "    </tr>\n",
       "    <tr>\n",
       "      <th>tesla</th>\n",
       "      <td>-1.196552</td>\n",
       "      <td>1.196552</td>\n",
       "    </tr>\n",
       "    <tr>\n",
       "      <th>seen</th>\n",
       "      <td>1.143475</td>\n",
       "      <td>1.143475</td>\n",
       "    </tr>\n",
       "    <tr>\n",
       "      <th>biden</th>\n",
       "      <td>-1.137565</td>\n",
       "      <td>1.137565</td>\n",
       "    </tr>\n",
       "    <tr>\n",
       "      <th>understand</th>\n",
       "      <td>1.130819</td>\n",
       "      <td>1.130819</td>\n",
       "    </tr>\n",
       "    <tr>\n",
       "      <th>investor</th>\n",
       "      <td>-1.123068</td>\n",
       "      <td>1.123068</td>\n",
       "    </tr>\n",
       "    <tr>\n",
       "      <th>lrc</th>\n",
       "      <td>1.106575</td>\n",
       "      <td>1.106575</td>\n",
       "    </tr>\n",
       "    <tr>\n",
       "      <th>usdc</th>\n",
       "      <td>1.093105</td>\n",
       "      <td>1.093105</td>\n",
       "    </tr>\n",
       "    <tr>\n",
       "      <th>wallet</th>\n",
       "      <td>1.080303</td>\n",
       "      <td>1.080303</td>\n",
       "    </tr>\n",
       "    <tr>\n",
       "      <th>amp</th>\n",
       "      <td>1.056502</td>\n",
       "      <td>1.056502</td>\n",
       "    </tr>\n",
       "    <tr>\n",
       "      <th>exchange</th>\n",
       "      <td>1.047739</td>\n",
       "      <td>1.047739</td>\n",
       "    </tr>\n",
       "    <tr>\n",
       "      <th>bull</th>\n",
       "      <td>1.047636</td>\n",
       "      <td>1.047636</td>\n",
       "    </tr>\n",
       "    <tr>\n",
       "      <th>win</th>\n",
       "      <td>1.042503</td>\n",
       "      <td>1.042503</td>\n",
       "    </tr>\n",
       "    <tr>\n",
       "      <th>position</th>\n",
       "      <td>-1.032487</td>\n",
       "      <td>1.032487</td>\n",
       "    </tr>\n",
       "    <tr>\n",
       "      <th>happy</th>\n",
       "      <td>1.013826</td>\n",
       "      <td>1.013826</td>\n",
       "    </tr>\n",
       "  </tbody>\n",
       "</table>\n",
       "</div>"
      ],
      "text/plain": [
       "               coef_  abs_coef\n",
       "crypto      2.107617  2.107617\n",
       "coin        1.990010  1.990010\n",
       "stock      -1.958336  1.958336\n",
       "moon        1.927906  1.927906\n",
       "eth         1.759028  1.759028\n",
       "btc         1.737258  1.737258\n",
       "ada         1.588372  1.588372\n",
       "cro         1.526815  1.526815\n",
       "vaccine    -1.491925  1.491925\n",
       "dip         1.410695  1.410695\n",
       "venmo      -1.334236  1.334236\n",
       "bitcoin     1.283202  1.283202\n",
       "stupid     -1.228271  1.228271\n",
       "trade      -1.227543  1.227543\n",
       "hodl        1.204116  1.204116\n",
       "share      -1.201292  1.201292\n",
       "tesla      -1.196552  1.196552\n",
       "seen        1.143475  1.143475\n",
       "biden      -1.137565  1.137565\n",
       "understand  1.130819  1.130819\n",
       "investor   -1.123068  1.123068\n",
       "lrc         1.106575  1.106575\n",
       "usdc        1.093105  1.093105\n",
       "wallet      1.080303  1.080303\n",
       "amp         1.056502  1.056502\n",
       "exchange    1.047739  1.047739\n",
       "bull        1.047636  1.047636\n",
       "win         1.042503  1.042503\n",
       "position   -1.032487  1.032487\n",
       "happy       1.013826  1.013826"
      ]
     },
     "execution_count": 103,
     "metadata": {},
     "output_type": "execute_result"
    }
   ],
   "source": [
    "lr_feat00 = pd.DataFrame(data=lr.coef_.T, index=cvec.get_feature_names())\n",
    "lr_feat00.columns = ['coef_']\n",
    "lr_feat00['abs_coef'] = np.abs(lr_feat00['coef_'])\n",
    "lr_feat00.sort_values(by='abs_coef', ascending=False).head(30)"
   ]
  },
  {
   "cell_type": "code",
   "execution_count": 104,
   "id": "acdea25c-3287-4a10-9340-e16fda35c452",
   "metadata": {},
   "outputs": [],
   "source": [
    "# using additional stop words\n",
    "\n",
    "cvec = CountVectorizer(analyzer = \"word\",                        \n",
    "                         tokenizer = None, \n",
    "                         preprocessor = None,\n",
    "                         stop_words = stop_words, \n",
    "                         max_features = 10000)\n",
    "lr = LogisticRegression()\n",
    "\n",
    "pipe = Pipeline([\n",
    "    ('cvec', cvec),\n",
    "    ('lr', lr)\n",
    "])"
   ]
  },
  {
   "cell_type": "code",
   "execution_count": 105,
   "id": "1c6da756-79b9-43ac-b5e1-adcf8103a904",
   "metadata": {},
   "outputs": [
    {
     "name": "stdout",
     "output_type": "stream",
     "text": [
      "train score: 0.9556581986143187\n",
      "test score: 0.7235238987816307\n"
     ]
    }
   ],
   "source": [
    "# baseline Logistic model\n",
    "\n",
    "pipe.fit(X_train, y_train)\n",
    "print('train score:', pipe.score(X_train, y_train))\n",
    "print('test score:', pipe.score(X_test, y_test))"
   ]
  },
  {
   "cell_type": "code",
   "execution_count": 106,
   "id": "4ed1d7a0-6d01-4dec-9e09-02ac862ebf03",
   "metadata": {},
   "outputs": [
    {
     "data": {
      "text/html": [
       "<div>\n",
       "<style scoped>\n",
       "    .dataframe tbody tr th:only-of-type {\n",
       "        vertical-align: middle;\n",
       "    }\n",
       "\n",
       "    .dataframe tbody tr th {\n",
       "        vertical-align: top;\n",
       "    }\n",
       "\n",
       "    .dataframe thead th {\n",
       "        text-align: right;\n",
       "    }\n",
       "</style>\n",
       "<table border=\"1\" class=\"dataframe\">\n",
       "  <thead>\n",
       "    <tr style=\"text-align: right;\">\n",
       "      <th></th>\n",
       "      <th>coef_</th>\n",
       "    </tr>\n",
       "  </thead>\n",
       "  <tbody>\n",
       "    <tr>\n",
       "      <th>crypto</th>\n",
       "      <td>2.099024</td>\n",
       "    </tr>\n",
       "    <tr>\n",
       "      <th>coin</th>\n",
       "      <td>1.971163</td>\n",
       "    </tr>\n",
       "    <tr>\n",
       "      <th>moon</th>\n",
       "      <td>1.925185</td>\n",
       "    </tr>\n",
       "    <tr>\n",
       "      <th>eth</th>\n",
       "      <td>1.770181</td>\n",
       "    </tr>\n",
       "    <tr>\n",
       "      <th>btc</th>\n",
       "      <td>1.741445</td>\n",
       "    </tr>\n",
       "    <tr>\n",
       "      <th>ada</th>\n",
       "      <td>1.586577</td>\n",
       "    </tr>\n",
       "    <tr>\n",
       "      <th>cro</th>\n",
       "      <td>1.537964</td>\n",
       "    </tr>\n",
       "    <tr>\n",
       "      <th>dip</th>\n",
       "      <td>1.439132</td>\n",
       "    </tr>\n",
       "    <tr>\n",
       "      <th>bitcoin</th>\n",
       "      <td>1.282066</td>\n",
       "    </tr>\n",
       "    <tr>\n",
       "      <th>hodl</th>\n",
       "      <td>1.229309</td>\n",
       "    </tr>\n",
       "    <tr>\n",
       "      <th>seen</th>\n",
       "      <td>1.163812</td>\n",
       "    </tr>\n",
       "    <tr>\n",
       "      <th>lrc</th>\n",
       "      <td>1.139388</td>\n",
       "    </tr>\n",
       "    <tr>\n",
       "      <th>usdc</th>\n",
       "      <td>1.095161</td>\n",
       "    </tr>\n",
       "    <tr>\n",
       "      <th>exchange</th>\n",
       "      <td>1.073926</td>\n",
       "    </tr>\n",
       "    <tr>\n",
       "      <th>wallet</th>\n",
       "      <td>1.063181</td>\n",
       "    </tr>\n",
       "    <tr>\n",
       "      <th>bull</th>\n",
       "      <td>1.032697</td>\n",
       "    </tr>\n",
       "    <tr>\n",
       "      <th>amp</th>\n",
       "      <td>1.021153</td>\n",
       "    </tr>\n",
       "    <tr>\n",
       "      <th>happy</th>\n",
       "      <td>1.008028</td>\n",
       "    </tr>\n",
       "    <tr>\n",
       "      <th>understand</th>\n",
       "      <td>1.007006</td>\n",
       "    </tr>\n",
       "    <tr>\n",
       "      <th>win</th>\n",
       "      <td>1.002673</td>\n",
       "    </tr>\n",
       "    <tr>\n",
       "      <th>dot</th>\n",
       "      <td>0.980428</td>\n",
       "    </tr>\n",
       "    <tr>\n",
       "      <th>token</th>\n",
       "      <td>0.977255</td>\n",
       "    </tr>\n",
       "    <tr>\n",
       "      <th>luna</th>\n",
       "      <td>0.955026</td>\n",
       "    </tr>\n",
       "    <tr>\n",
       "      <th>limit</th>\n",
       "      <td>0.946565</td>\n",
       "    </tr>\n",
       "    <tr>\n",
       "      <th>dca</th>\n",
       "      <td>0.932606</td>\n",
       "    </tr>\n",
       "    <tr>\n",
       "      <th>yup</th>\n",
       "      <td>0.932348</td>\n",
       "    </tr>\n",
       "    <tr>\n",
       "      <th>earn</th>\n",
       "      <td>0.928490</td>\n",
       "    </tr>\n",
       "    <tr>\n",
       "      <th>life</th>\n",
       "      <td>0.928123</td>\n",
       "    </tr>\n",
       "    <tr>\n",
       "      <th>mistake</th>\n",
       "      <td>0.908698</td>\n",
       "    </tr>\n",
       "    <tr>\n",
       "      <th>stake</th>\n",
       "      <td>0.898358</td>\n",
       "    </tr>\n",
       "  </tbody>\n",
       "</table>\n",
       "</div>"
      ],
      "text/plain": [
       "               coef_\n",
       "crypto      2.099024\n",
       "coin        1.971163\n",
       "moon        1.925185\n",
       "eth         1.770181\n",
       "btc         1.741445\n",
       "ada         1.586577\n",
       "cro         1.537964\n",
       "dip         1.439132\n",
       "bitcoin     1.282066\n",
       "hodl        1.229309\n",
       "seen        1.163812\n",
       "lrc         1.139388\n",
       "usdc        1.095161\n",
       "exchange    1.073926\n",
       "wallet      1.063181\n",
       "bull        1.032697\n",
       "amp         1.021153\n",
       "happy       1.008028\n",
       "understand  1.007006\n",
       "win         1.002673\n",
       "dot         0.980428\n",
       "token       0.977255\n",
       "luna        0.955026\n",
       "limit       0.946565\n",
       "dca         0.932606\n",
       "yup         0.932348\n",
       "earn        0.928490\n",
       "life        0.928123\n",
       "mistake     0.908698\n",
       "stake       0.898358"
      ]
     },
     "execution_count": 106,
     "metadata": {},
     "output_type": "execute_result"
    }
   ],
   "source": [
    "lr_feat01 = pd.DataFrame(data=lr.coef_.T, index=cvec.get_feature_names())\n",
    "lr_feat01.columns = ['coef_']\n",
    "lr_feat01.sort_values(by='coef_', ascending=False).head(30)"
   ]
  },
  {
   "cell_type": "code",
   "execution_count": 107,
   "id": "77523b1f-367f-4a45-97e3-9dfe498d91c5",
   "metadata": {},
   "outputs": [],
   "source": [
    "# Random forest model"
   ]
  },
  {
   "cell_type": "code",
   "execution_count": 108,
   "id": "f3baae5e-ddc0-4e2f-b2c1-cdc6a0ab10db",
   "metadata": {},
   "outputs": [
    {
     "name": "stdout",
     "output_type": "stream",
     "text": [
      "train score: 0.9916859122401848\n",
      "test score: 0.7029053420805998\n"
     ]
    }
   ],
   "source": [
    "# using standard stop words = \"english\"\n",
    "\n",
    "cvec = CountVectorizer(analyzer = \"word\",                        \n",
    "                         tokenizer = None, \n",
    "                         preprocessor = None,\n",
    "                         stop_words = \"english\", \n",
    "                         max_features = 10000)\n",
    "rf = RandomForestClassifier(random_state = 42)\n",
    "\n",
    "pipe = Pipeline([\n",
    "    ('cvec', cvec),\n",
    "    ('rf', rf)\n",
    "])\n",
    "\n",
    "pipe.fit(X_train, y_train)\n",
    "print('train score:', pipe.score(X_train, y_train))\n",
    "print('test score:', pipe.score(X_test, y_test))"
   ]
  },
  {
   "cell_type": "code",
   "execution_count": 109,
   "id": "125c4885-6210-4087-a2dd-fe727fac7e21",
   "metadata": {},
   "outputs": [],
   "source": [
    "rf_feat = cvec.get_feature_names()\n",
    "rf_feat_imp = rf.feature_importances_\n",
    "\n",
    "df_rf_feat00 = pd.DataFrame(data=rf_feat_imp, index=rf_feat)"
   ]
  },
  {
   "cell_type": "code",
   "execution_count": 110,
   "id": "280cbfa1-c013-490c-89a2-1858ccd3d2fd",
   "metadata": {},
   "outputs": [
    {
     "data": {
      "text/html": [
       "<div>\n",
       "<style scoped>\n",
       "    .dataframe tbody tr th:only-of-type {\n",
       "        vertical-align: middle;\n",
       "    }\n",
       "\n",
       "    .dataframe tbody tr th {\n",
       "        vertical-align: top;\n",
       "    }\n",
       "\n",
       "    .dataframe thead th {\n",
       "        text-align: right;\n",
       "    }\n",
       "</style>\n",
       "<table border=\"1\" class=\"dataframe\">\n",
       "  <thead>\n",
       "    <tr style=\"text-align: right;\">\n",
       "      <th></th>\n",
       "      <th>0</th>\n",
       "    </tr>\n",
       "  </thead>\n",
       "  <tbody>\n",
       "    <tr>\n",
       "      <th>stock</th>\n",
       "      <td>0.018600</td>\n",
       "    </tr>\n",
       "    <tr>\n",
       "      <th>crypto</th>\n",
       "      <td>0.016149</td>\n",
       "    </tr>\n",
       "    <tr>\n",
       "      <th>coin</th>\n",
       "      <td>0.011184</td>\n",
       "    </tr>\n",
       "    <tr>\n",
       "      <th>btc</th>\n",
       "      <td>0.007780</td>\n",
       "    </tr>\n",
       "    <tr>\n",
       "      <th>moon</th>\n",
       "      <td>0.007344</td>\n",
       "    </tr>\n",
       "    <tr>\n",
       "      <th>vaccine</th>\n",
       "      <td>0.006878</td>\n",
       "    </tr>\n",
       "    <tr>\n",
       "      <th>eth</th>\n",
       "      <td>0.006794</td>\n",
       "    </tr>\n",
       "    <tr>\n",
       "      <th>covid</th>\n",
       "      <td>0.005870</td>\n",
       "    </tr>\n",
       "    <tr>\n",
       "      <th>market</th>\n",
       "      <td>0.005344</td>\n",
       "    </tr>\n",
       "    <tr>\n",
       "      <th>year</th>\n",
       "      <td>0.004451</td>\n",
       "    </tr>\n",
       "    <tr>\n",
       "      <th>buy</th>\n",
       "      <td>0.004295</td>\n",
       "    </tr>\n",
       "    <tr>\n",
       "      <th>share</th>\n",
       "      <td>0.004231</td>\n",
       "    </tr>\n",
       "    <tr>\n",
       "      <th>trade</th>\n",
       "      <td>0.004086</td>\n",
       "    </tr>\n",
       "    <tr>\n",
       "      <th>bitcoin</th>\n",
       "      <td>0.004013</td>\n",
       "    </tr>\n",
       "    <tr>\n",
       "      <th>don</th>\n",
       "      <td>0.003976</td>\n",
       "    </tr>\n",
       "    <tr>\n",
       "      <th>look</th>\n",
       "      <td>0.003967</td>\n",
       "    </tr>\n",
       "    <tr>\n",
       "      <th>ada</th>\n",
       "      <td>0.003669</td>\n",
       "    </tr>\n",
       "    <tr>\n",
       "      <th>just</th>\n",
       "      <td>0.003510</td>\n",
       "    </tr>\n",
       "    <tr>\n",
       "      <th>company</th>\n",
       "      <td>0.003504</td>\n",
       "    </tr>\n",
       "    <tr>\n",
       "      <th>like</th>\n",
       "      <td>0.003466</td>\n",
       "    </tr>\n",
       "    <tr>\n",
       "      <th>stupid</th>\n",
       "      <td>0.003445</td>\n",
       "    </tr>\n",
       "    <tr>\n",
       "      <th>cro</th>\n",
       "      <td>0.003408</td>\n",
       "    </tr>\n",
       "    <tr>\n",
       "      <th>dip</th>\n",
       "      <td>0.003301</td>\n",
       "    </tr>\n",
       "    <tr>\n",
       "      <th>lol</th>\n",
       "      <td>0.003221</td>\n",
       "    </tr>\n",
       "    <tr>\n",
       "      <th>position</th>\n",
       "      <td>0.003078</td>\n",
       "    </tr>\n",
       "    <tr>\n",
       "      <th>good</th>\n",
       "      <td>0.003061</td>\n",
       "    </tr>\n",
       "    <tr>\n",
       "      <th>week</th>\n",
       "      <td>0.003054</td>\n",
       "    </tr>\n",
       "    <tr>\n",
       "      <th>time</th>\n",
       "      <td>0.002996</td>\n",
       "    </tr>\n",
       "    <tr>\n",
       "      <th>wa</th>\n",
       "      <td>0.002969</td>\n",
       "    </tr>\n",
       "    <tr>\n",
       "      <th>tesla</th>\n",
       "      <td>0.002918</td>\n",
       "    </tr>\n",
       "  </tbody>\n",
       "</table>\n",
       "</div>"
      ],
      "text/plain": [
       "                 0\n",
       "stock     0.018600\n",
       "crypto    0.016149\n",
       "coin      0.011184\n",
       "btc       0.007780\n",
       "moon      0.007344\n",
       "vaccine   0.006878\n",
       "eth       0.006794\n",
       "covid     0.005870\n",
       "market    0.005344\n",
       "year      0.004451\n",
       "buy       0.004295\n",
       "share     0.004231\n",
       "trade     0.004086\n",
       "bitcoin   0.004013\n",
       "don       0.003976\n",
       "look      0.003967\n",
       "ada       0.003669\n",
       "just      0.003510\n",
       "company   0.003504\n",
       "like      0.003466\n",
       "stupid    0.003445\n",
       "cro       0.003408\n",
       "dip       0.003301\n",
       "lol       0.003221\n",
       "position  0.003078\n",
       "good      0.003061\n",
       "week      0.003054\n",
       "time      0.002996\n",
       "wa        0.002969\n",
       "tesla     0.002918"
      ]
     },
     "execution_count": 110,
     "metadata": {},
     "output_type": "execute_result"
    }
   ],
   "source": [
    "df_rf_feat00.sort_values(by=0, ascending=False).head(30)"
   ]
  },
  {
   "cell_type": "code",
   "execution_count": 111,
   "id": "e7d8307b-04ea-4dee-928c-5a87cbdd7c9f",
   "metadata": {},
   "outputs": [
    {
     "data": {
      "text/html": [
       "<div>\n",
       "<style scoped>\n",
       "    .dataframe tbody tr th:only-of-type {\n",
       "        vertical-align: middle;\n",
       "    }\n",
       "\n",
       "    .dataframe tbody tr th {\n",
       "        vertical-align: top;\n",
       "    }\n",
       "\n",
       "    .dataframe thead th {\n",
       "        text-align: right;\n",
       "    }\n",
       "</style>\n",
       "<table border=\"1\" class=\"dataframe\">\n",
       "  <thead>\n",
       "    <tr style=\"text-align: right;\">\n",
       "      <th></th>\n",
       "      <th>0</th>\n",
       "    </tr>\n",
       "  </thead>\n",
       "  <tbody>\n",
       "    <tr>\n",
       "      <th>c19</th>\n",
       "      <td>0.0</td>\n",
       "    </tr>\n",
       "    <tr>\n",
       "      <th>intercom</th>\n",
       "      <td>0.0</td>\n",
       "    </tr>\n",
       "    <tr>\n",
       "      <th>cam</th>\n",
       "      <td>0.0</td>\n",
       "    </tr>\n",
       "    <tr>\n",
       "      <th>inherit</th>\n",
       "      <td>0.0</td>\n",
       "    </tr>\n",
       "    <tr>\n",
       "      <th>sickness</th>\n",
       "      <td>0.0</td>\n",
       "    </tr>\n",
       "    <tr>\n",
       "      <th>innovate</th>\n",
       "      <td>0.0</td>\n",
       "    </tr>\n",
       "    <tr>\n",
       "      <th>signed</th>\n",
       "      <td>0.0</td>\n",
       "    </tr>\n",
       "    <tr>\n",
       "      <th>contrasted</th>\n",
       "      <td>0.0</td>\n",
       "    </tr>\n",
       "    <tr>\n",
       "      <th>signaling</th>\n",
       "      <td>0.0</td>\n",
       "    </tr>\n",
       "    <tr>\n",
       "      <th>insight</th>\n",
       "      <td>0.0</td>\n",
       "    </tr>\n",
       "    <tr>\n",
       "      <th>inspired</th>\n",
       "      <td>0.0</td>\n",
       "    </tr>\n",
       "    <tr>\n",
       "      <th>installs</th>\n",
       "      <td>0.0</td>\n",
       "    </tr>\n",
       "    <tr>\n",
       "      <th>institutional</th>\n",
       "      <td>0.0</td>\n",
       "    </tr>\n",
       "    <tr>\n",
       "      <th>shuffled</th>\n",
       "      <td>0.0</td>\n",
       "    </tr>\n",
       "    <tr>\n",
       "      <th>shuck</th>\n",
       "      <td>0.0</td>\n",
       "    </tr>\n",
       "    <tr>\n",
       "      <th>shrooms</th>\n",
       "      <td>0.0</td>\n",
       "    </tr>\n",
       "    <tr>\n",
       "      <th>shrink</th>\n",
       "      <td>0.0</td>\n",
       "    </tr>\n",
       "    <tr>\n",
       "      <th>shrimpy</th>\n",
       "      <td>0.0</td>\n",
       "    </tr>\n",
       "    <tr>\n",
       "      <th>camera</th>\n",
       "      <td>0.0</td>\n",
       "    </tr>\n",
       "    <tr>\n",
       "      <th>cousin</th>\n",
       "      <td>0.0</td>\n",
       "    </tr>\n",
       "  </tbody>\n",
       "</table>\n",
       "</div>"
      ],
      "text/plain": [
       "                 0\n",
       "c19            0.0\n",
       "intercom       0.0\n",
       "cam            0.0\n",
       "inherit        0.0\n",
       "sickness       0.0\n",
       "innovate       0.0\n",
       "signed         0.0\n",
       "contrasted     0.0\n",
       "signaling      0.0\n",
       "insight        0.0\n",
       "inspired       0.0\n",
       "installs       0.0\n",
       "institutional  0.0\n",
       "shuffled       0.0\n",
       "shuck          0.0\n",
       "shrooms        0.0\n",
       "shrink         0.0\n",
       "shrimpy        0.0\n",
       "camera         0.0\n",
       "cousin         0.0"
      ]
     },
     "execution_count": 111,
     "metadata": {},
     "output_type": "execute_result"
    }
   ],
   "source": [
    "df_rf_feat00.sort_values(by=0, ascending=False).tail(20)"
   ]
  },
  {
   "cell_type": "code",
   "execution_count": 112,
   "id": "a5243e2e-f573-4da9-ae14-573594f74382",
   "metadata": {},
   "outputs": [
    {
     "name": "stdout",
     "output_type": "stream",
     "text": [
      "train score: 0.9903002309468822\n",
      "test score: 0.711340206185567\n"
     ]
    }
   ],
   "source": [
    "# using additional stop words\n",
    "\n",
    "cvec = CountVectorizer(analyzer = \"word\",                        \n",
    "                         tokenizer = None, \n",
    "                         preprocessor = None,\n",
    "                         stop_words = stop_words, \n",
    "                         max_features = 10000)\n",
    "rf = RandomForestClassifier(random_state = 42)\n",
    "\n",
    "pipe = Pipeline([\n",
    "    ('cvec', cvec),\n",
    "    ('rf', rf)\n",
    "])\n",
    "\n",
    "pipe.fit(X_train, y_train)\n",
    "print('train score:', pipe.score(X_train, y_train))\n",
    "print('test score:', pipe.score(X_test, y_test))"
   ]
  },
  {
   "cell_type": "code",
   "execution_count": 113,
   "id": "37de9f8e-1fa3-4b24-9306-45b13a894925",
   "metadata": {},
   "outputs": [],
   "source": [
    "rf_feat = cvec.get_feature_names()\n",
    "rf_feat_imp = rf.feature_importances_\n",
    "\n",
    "df_rf_feat01 = pd.DataFrame(data=rf_feat_imp, index=rf_feat)\n",
    "\n",
    "df_rf_feat01.columns = ['feature_importances_']"
   ]
  },
  {
   "cell_type": "code",
   "execution_count": 114,
   "id": "887ae0cb-f0cb-4b8d-ada4-58353ebe4b06",
   "metadata": {},
   "outputs": [
    {
     "data": {
      "text/html": [
       "<div>\n",
       "<style scoped>\n",
       "    .dataframe tbody tr th:only-of-type {\n",
       "        vertical-align: middle;\n",
       "    }\n",
       "\n",
       "    .dataframe tbody tr th {\n",
       "        vertical-align: top;\n",
       "    }\n",
       "\n",
       "    .dataframe thead th {\n",
       "        text-align: right;\n",
       "    }\n",
       "</style>\n",
       "<table border=\"1\" class=\"dataframe\">\n",
       "  <thead>\n",
       "    <tr style=\"text-align: right;\">\n",
       "      <th></th>\n",
       "      <th>feature_importances_</th>\n",
       "    </tr>\n",
       "  </thead>\n",
       "  <tbody>\n",
       "    <tr>\n",
       "      <th>stock</th>\n",
       "      <td>0.020172</td>\n",
       "    </tr>\n",
       "    <tr>\n",
       "      <th>crypto</th>\n",
       "      <td>0.018810</td>\n",
       "    </tr>\n",
       "    <tr>\n",
       "      <th>coin</th>\n",
       "      <td>0.011784</td>\n",
       "    </tr>\n",
       "    <tr>\n",
       "      <th>moon</th>\n",
       "      <td>0.007937</td>\n",
       "    </tr>\n",
       "    <tr>\n",
       "      <th>vaccine</th>\n",
       "      <td>0.007835</td>\n",
       "    </tr>\n",
       "    <tr>\n",
       "      <th>btc</th>\n",
       "      <td>0.007282</td>\n",
       "    </tr>\n",
       "    <tr>\n",
       "      <th>covid</th>\n",
       "      <td>0.007156</td>\n",
       "    </tr>\n",
       "    <tr>\n",
       "      <th>eth</th>\n",
       "      <td>0.006260</td>\n",
       "    </tr>\n",
       "    <tr>\n",
       "      <th>market</th>\n",
       "      <td>0.004892</td>\n",
       "    </tr>\n",
       "    <tr>\n",
       "      <th>trade</th>\n",
       "      <td>0.004745</td>\n",
       "    </tr>\n",
       "    <tr>\n",
       "      <th>year</th>\n",
       "      <td>0.004637</td>\n",
       "    </tr>\n",
       "    <tr>\n",
       "      <th>buy</th>\n",
       "      <td>0.004286</td>\n",
       "    </tr>\n",
       "    <tr>\n",
       "      <th>bitcoin</th>\n",
       "      <td>0.004213</td>\n",
       "    </tr>\n",
       "    <tr>\n",
       "      <th>cro</th>\n",
       "      <td>0.004084</td>\n",
       "    </tr>\n",
       "    <tr>\n",
       "      <th>ada</th>\n",
       "      <td>0.003923</td>\n",
       "    </tr>\n",
       "    <tr>\n",
       "      <th>dip</th>\n",
       "      <td>0.003598</td>\n",
       "    </tr>\n",
       "    <tr>\n",
       "      <th>just</th>\n",
       "      <td>0.003533</td>\n",
       "    </tr>\n",
       "    <tr>\n",
       "      <th>exchange</th>\n",
       "      <td>0.003529</td>\n",
       "    </tr>\n",
       "    <tr>\n",
       "      <th>look</th>\n",
       "      <td>0.003460</td>\n",
       "    </tr>\n",
       "    <tr>\n",
       "      <th>like</th>\n",
       "      <td>0.003371</td>\n",
       "    </tr>\n",
       "    <tr>\n",
       "      <th>share</th>\n",
       "      <td>0.003306</td>\n",
       "    </tr>\n",
       "    <tr>\n",
       "      <th>stupid</th>\n",
       "      <td>0.003230</td>\n",
       "    </tr>\n",
       "    <tr>\n",
       "      <th>week</th>\n",
       "      <td>0.003220</td>\n",
       "    </tr>\n",
       "    <tr>\n",
       "      <th>wa</th>\n",
       "      <td>0.003163</td>\n",
       "    </tr>\n",
       "    <tr>\n",
       "      <th>company</th>\n",
       "      <td>0.003122</td>\n",
       "    </tr>\n",
       "    <tr>\n",
       "      <th>tesla</th>\n",
       "      <td>0.002997</td>\n",
       "    </tr>\n",
       "    <tr>\n",
       "      <th>good</th>\n",
       "      <td>0.002965</td>\n",
       "    </tr>\n",
       "    <tr>\n",
       "      <th>time</th>\n",
       "      <td>0.002921</td>\n",
       "    </tr>\n",
       "    <tr>\n",
       "      <th>lol</th>\n",
       "      <td>0.002868</td>\n",
       "    </tr>\n",
       "    <tr>\n",
       "      <th>position</th>\n",
       "      <td>0.002626</td>\n",
       "    </tr>\n",
       "  </tbody>\n",
       "</table>\n",
       "</div>"
      ],
      "text/plain": [
       "          feature_importances_\n",
       "stock                 0.020172\n",
       "crypto                0.018810\n",
       "coin                  0.011784\n",
       "moon                  0.007937\n",
       "vaccine               0.007835\n",
       "btc                   0.007282\n",
       "covid                 0.007156\n",
       "eth                   0.006260\n",
       "market                0.004892\n",
       "trade                 0.004745\n",
       "year                  0.004637\n",
       "buy                   0.004286\n",
       "bitcoin               0.004213\n",
       "cro                   0.004084\n",
       "ada                   0.003923\n",
       "dip                   0.003598\n",
       "just                  0.003533\n",
       "exchange              0.003529\n",
       "look                  0.003460\n",
       "like                  0.003371\n",
       "share                 0.003306\n",
       "stupid                0.003230\n",
       "week                  0.003220\n",
       "wa                    0.003163\n",
       "company               0.003122\n",
       "tesla                 0.002997\n",
       "good                  0.002965\n",
       "time                  0.002921\n",
       "lol                   0.002868\n",
       "position              0.002626"
      ]
     },
     "execution_count": 114,
     "metadata": {},
     "output_type": "execute_result"
    }
   ],
   "source": [
    "df_rf_feat01.sort_values(by='feature_importances_', ascending=False).head(30)"
   ]
  },
  {
   "cell_type": "code",
   "execution_count": 115,
   "id": "8b8fc054-eedc-4807-944f-931980280506",
   "metadata": {},
   "outputs": [
    {
     "data": {
      "text/html": [
       "<div>\n",
       "<style scoped>\n",
       "    .dataframe tbody tr th:only-of-type {\n",
       "        vertical-align: middle;\n",
       "    }\n",
       "\n",
       "    .dataframe tbody tr th {\n",
       "        vertical-align: top;\n",
       "    }\n",
       "\n",
       "    .dataframe thead th {\n",
       "        text-align: right;\n",
       "    }\n",
       "</style>\n",
       "<table border=\"1\" class=\"dataframe\">\n",
       "  <thead>\n",
       "    <tr style=\"text-align: right;\">\n",
       "      <th></th>\n",
       "      <th>feature_importances_</th>\n",
       "    </tr>\n",
       "  </thead>\n",
       "  <tbody>\n",
       "    <tr>\n",
       "      <th>absence</th>\n",
       "      <td>0.0</td>\n",
       "    </tr>\n",
       "    <tr>\n",
       "      <th>drilling</th>\n",
       "      <td>0.0</td>\n",
       "    </tr>\n",
       "    <tr>\n",
       "      <th>avg</th>\n",
       "      <td>0.0</td>\n",
       "    </tr>\n",
       "    <tr>\n",
       "      <th>litigation</th>\n",
       "      <td>0.0</td>\n",
       "    </tr>\n",
       "    <tr>\n",
       "      <th>proposed</th>\n",
       "      <td>0.0</td>\n",
       "    </tr>\n",
       "    <tr>\n",
       "      <th>sushi</th>\n",
       "      <td>0.0</td>\n",
       "    </tr>\n",
       "    <tr>\n",
       "      <th>lightning</th>\n",
       "      <td>0.0</td>\n",
       "    </tr>\n",
       "    <tr>\n",
       "      <th>deposit</th>\n",
       "      <td>0.0</td>\n",
       "    </tr>\n",
       "    <tr>\n",
       "      <th>liquidation</th>\n",
       "      <td>0.0</td>\n",
       "    </tr>\n",
       "    <tr>\n",
       "      <th>ability</th>\n",
       "      <td>0.0</td>\n",
       "    </tr>\n",
       "    <tr>\n",
       "      <th>architecture</th>\n",
       "      <td>0.0</td>\n",
       "    </tr>\n",
       "    <tr>\n",
       "      <th>sway</th>\n",
       "      <td>0.0</td>\n",
       "    </tr>\n",
       "    <tr>\n",
       "      <th>scrutiny</th>\n",
       "      <td>0.0</td>\n",
       "    </tr>\n",
       "    <tr>\n",
       "      <th>lipstick</th>\n",
       "      <td>0.0</td>\n",
       "    </tr>\n",
       "    <tr>\n",
       "      <th>capitalization</th>\n",
       "      <td>0.0</td>\n",
       "    </tr>\n",
       "    <tr>\n",
       "      <th>capitalized</th>\n",
       "      <td>0.0</td>\n",
       "    </tr>\n",
       "    <tr>\n",
       "      <th>discus</th>\n",
       "      <td>0.0</td>\n",
       "    </tr>\n",
       "    <tr>\n",
       "      <th>limitation</th>\n",
       "      <td>0.0</td>\n",
       "    </tr>\n",
       "    <tr>\n",
       "      <th>protection</th>\n",
       "      <td>0.0</td>\n",
       "    </tr>\n",
       "    <tr>\n",
       "      <th>creator</th>\n",
       "      <td>0.0</td>\n",
       "    </tr>\n",
       "  </tbody>\n",
       "</table>\n",
       "</div>"
      ],
      "text/plain": [
       "                feature_importances_\n",
       "absence                          0.0\n",
       "drilling                         0.0\n",
       "avg                              0.0\n",
       "litigation                       0.0\n",
       "proposed                         0.0\n",
       "sushi                            0.0\n",
       "lightning                        0.0\n",
       "deposit                          0.0\n",
       "liquidation                      0.0\n",
       "ability                          0.0\n",
       "architecture                     0.0\n",
       "sway                             0.0\n",
       "scrutiny                         0.0\n",
       "lipstick                         0.0\n",
       "capitalization                   0.0\n",
       "capitalized                      0.0\n",
       "discus                           0.0\n",
       "limitation                       0.0\n",
       "protection                       0.0\n",
       "creator                          0.0"
      ]
     },
     "execution_count": 115,
     "metadata": {},
     "output_type": "execute_result"
    }
   ],
   "source": [
    "df_rf_feat01.sort_values(by='feature_importances_', ascending=False).tail(20)"
   ]
  },
  {
   "cell_type": "markdown",
   "id": "722bf15b-109b-4505-befc-4280bd6a2a67",
   "metadata": {},
   "source": [
    "## n-grams"
   ]
  },
  {
   "cell_type": "code",
   "execution_count": 116,
   "id": "dfb37ceb-c075-40c8-869e-275dd7326031",
   "metadata": {},
   "outputs": [
    {
     "name": "stdout",
     "output_type": "stream",
     "text": [
      "train score: 0.9464203233256351\n",
      "test score: 0.7188378631677601\n"
     ]
    }
   ],
   "source": [
    "# CountVectorizer & Logistic regression using additional stop words and 1 - 3 n-grams\n",
    "\n",
    "cvec = CountVectorizer(analyzer = \"word\", \n",
    "                       tokenizer = None, \n",
    "                       preprocessor = None,\n",
    "                       stop_words = stop_words, \n",
    "                       max_features = 10000, \n",
    "                       ngram_range = (1, 3)\n",
    "                      )\n",
    "\n",
    "lr = LogisticRegression()\n",
    "\n",
    "pipe = Pipeline([\n",
    "    ('cvec', cvec),\n",
    "    ('lr', lr)\n",
    "])\n",
    "\n",
    "pipe.fit(X_train, y_train)\n",
    "print('train score:', pipe.score(X_train, y_train))\n",
    "print('test score:', pipe.score(X_test, y_test))"
   ]
  },
  {
   "cell_type": "code",
   "execution_count": 117,
   "id": "59ec61b4-d2db-4efe-894b-c2e8a71a8082",
   "metadata": {},
   "outputs": [
    {
     "data": {
      "text/html": [
       "<div>\n",
       "<style scoped>\n",
       "    .dataframe tbody tr th:only-of-type {\n",
       "        vertical-align: middle;\n",
       "    }\n",
       "\n",
       "    .dataframe tbody tr th {\n",
       "        vertical-align: top;\n",
       "    }\n",
       "\n",
       "    .dataframe thead th {\n",
       "        text-align: right;\n",
       "    }\n",
       "</style>\n",
       "<table border=\"1\" class=\"dataframe\">\n",
       "  <thead>\n",
       "    <tr style=\"text-align: right;\">\n",
       "      <th></th>\n",
       "      <th>coef_</th>\n",
       "      <th>abs_coef</th>\n",
       "    </tr>\n",
       "  </thead>\n",
       "  <tbody>\n",
       "    <tr>\n",
       "      <th>crypto</th>\n",
       "      <td>2.070159</td>\n",
       "      <td>2.070159</td>\n",
       "    </tr>\n",
       "    <tr>\n",
       "      <th>stock</th>\n",
       "      <td>-1.881382</td>\n",
       "      <td>1.881382</td>\n",
       "    </tr>\n",
       "    <tr>\n",
       "      <th>coin</th>\n",
       "      <td>1.861472</td>\n",
       "      <td>1.861472</td>\n",
       "    </tr>\n",
       "    <tr>\n",
       "      <th>moon</th>\n",
       "      <td>1.839987</td>\n",
       "      <td>1.839987</td>\n",
       "    </tr>\n",
       "    <tr>\n",
       "      <th>eth</th>\n",
       "      <td>1.726386</td>\n",
       "      <td>1.726386</td>\n",
       "    </tr>\n",
       "    <tr>\n",
       "      <th>btc</th>\n",
       "      <td>1.663653</td>\n",
       "      <td>1.663653</td>\n",
       "    </tr>\n",
       "    <tr>\n",
       "      <th>ada</th>\n",
       "      <td>1.539839</td>\n",
       "      <td>1.539839</td>\n",
       "    </tr>\n",
       "    <tr>\n",
       "      <th>cro</th>\n",
       "      <td>1.503034</td>\n",
       "      <td>1.503034</td>\n",
       "    </tr>\n",
       "    <tr>\n",
       "      <th>vaccine</th>\n",
       "      <td>-1.355576</td>\n",
       "      <td>1.355576</td>\n",
       "    </tr>\n",
       "    <tr>\n",
       "      <th>dip</th>\n",
       "      <td>1.336287</td>\n",
       "      <td>1.336287</td>\n",
       "    </tr>\n",
       "    <tr>\n",
       "      <th>trade</th>\n",
       "      <td>-1.199054</td>\n",
       "      <td>1.199054</td>\n",
       "    </tr>\n",
       "    <tr>\n",
       "      <th>bitcoin</th>\n",
       "      <td>1.196014</td>\n",
       "      <td>1.196014</td>\n",
       "    </tr>\n",
       "    <tr>\n",
       "      <th>share</th>\n",
       "      <td>-1.185241</td>\n",
       "      <td>1.185241</td>\n",
       "    </tr>\n",
       "    <tr>\n",
       "      <th>stupid</th>\n",
       "      <td>-1.182271</td>\n",
       "      <td>1.182271</td>\n",
       "    </tr>\n",
       "    <tr>\n",
       "      <th>tesla</th>\n",
       "      <td>-1.153784</td>\n",
       "      <td>1.153784</td>\n",
       "    </tr>\n",
       "    <tr>\n",
       "      <th>seen</th>\n",
       "      <td>1.140041</td>\n",
       "      <td>1.140041</td>\n",
       "    </tr>\n",
       "    <tr>\n",
       "      <th>hodl</th>\n",
       "      <td>1.128201</td>\n",
       "      <td>1.128201</td>\n",
       "    </tr>\n",
       "    <tr>\n",
       "      <th>venmo</th>\n",
       "      <td>-1.126729</td>\n",
       "      <td>1.126729</td>\n",
       "    </tr>\n",
       "    <tr>\n",
       "      <th>exchange</th>\n",
       "      <td>1.117862</td>\n",
       "      <td>1.117862</td>\n",
       "    </tr>\n",
       "    <tr>\n",
       "      <th>investor</th>\n",
       "      <td>-1.089252</td>\n",
       "      <td>1.089252</td>\n",
       "    </tr>\n",
       "    <tr>\n",
       "      <th>make money</th>\n",
       "      <td>-1.073930</td>\n",
       "      <td>1.073930</td>\n",
       "    </tr>\n",
       "    <tr>\n",
       "      <th>usdc</th>\n",
       "      <td>1.070352</td>\n",
       "      <td>1.070352</td>\n",
       "    </tr>\n",
       "    <tr>\n",
       "      <th>lrc</th>\n",
       "      <td>1.003840</td>\n",
       "      <td>1.003840</td>\n",
       "    </tr>\n",
       "    <tr>\n",
       "      <th>bull</th>\n",
       "      <td>0.998517</td>\n",
       "      <td>0.998517</td>\n",
       "    </tr>\n",
       "    <tr>\n",
       "      <th>amp</th>\n",
       "      <td>0.998148</td>\n",
       "      <td>0.998148</td>\n",
       "    </tr>\n",
       "    <tr>\n",
       "      <th>covid</th>\n",
       "      <td>-0.996094</td>\n",
       "      <td>0.996094</td>\n",
       "    </tr>\n",
       "    <tr>\n",
       "      <th>biden</th>\n",
       "      <td>-0.988211</td>\n",
       "      <td>0.988211</td>\n",
       "    </tr>\n",
       "    <tr>\n",
       "      <th>dot</th>\n",
       "      <td>0.984969</td>\n",
       "      <td>0.984969</td>\n",
       "    </tr>\n",
       "    <tr>\n",
       "      <th>win</th>\n",
       "      <td>0.977873</td>\n",
       "      <td>0.977873</td>\n",
       "    </tr>\n",
       "    <tr>\n",
       "      <th>position</th>\n",
       "      <td>-0.955480</td>\n",
       "      <td>0.955480</td>\n",
       "    </tr>\n",
       "    <tr>\n",
       "      <th>option</th>\n",
       "      <td>-0.951868</td>\n",
       "      <td>0.951868</td>\n",
       "    </tr>\n",
       "    <tr>\n",
       "      <th>vix</th>\n",
       "      <td>-0.948074</td>\n",
       "      <td>0.948074</td>\n",
       "    </tr>\n",
       "    <tr>\n",
       "      <th>wallet</th>\n",
       "      <td>0.939876</td>\n",
       "      <td>0.939876</td>\n",
       "    </tr>\n",
       "    <tr>\n",
       "      <th>life</th>\n",
       "      <td>0.935287</td>\n",
       "      <td>0.935287</td>\n",
       "    </tr>\n",
       "    <tr>\n",
       "      <th>maybe</th>\n",
       "      <td>-0.922402</td>\n",
       "      <td>0.922402</td>\n",
       "    </tr>\n",
       "    <tr>\n",
       "      <th>hoping</th>\n",
       "      <td>-0.919223</td>\n",
       "      <td>0.919223</td>\n",
       "    </tr>\n",
       "    <tr>\n",
       "      <th>look like</th>\n",
       "      <td>-0.918919</td>\n",
       "      <td>0.918919</td>\n",
       "    </tr>\n",
       "    <tr>\n",
       "      <th>amc</th>\n",
       "      <td>-0.913654</td>\n",
       "      <td>0.913654</td>\n",
       "    </tr>\n",
       "    <tr>\n",
       "      <th>amd</th>\n",
       "      <td>-0.911742</td>\n",
       "      <td>0.911742</td>\n",
       "    </tr>\n",
       "    <tr>\n",
       "      <th>week</th>\n",
       "      <td>-0.906782</td>\n",
       "      <td>0.906782</td>\n",
       "    </tr>\n",
       "    <tr>\n",
       "      <th>etf</th>\n",
       "      <td>-0.904410</td>\n",
       "      <td>0.904410</td>\n",
       "    </tr>\n",
       "    <tr>\n",
       "      <th>covered</th>\n",
       "      <td>-0.902118</td>\n",
       "      <td>0.902118</td>\n",
       "    </tr>\n",
       "    <tr>\n",
       "      <th>happy</th>\n",
       "      <td>0.895660</td>\n",
       "      <td>0.895660</td>\n",
       "    </tr>\n",
       "    <tr>\n",
       "      <th>great</th>\n",
       "      <td>0.893600</td>\n",
       "      <td>0.893600</td>\n",
       "    </tr>\n",
       "    <tr>\n",
       "      <th>definitely</th>\n",
       "      <td>0.892143</td>\n",
       "      <td>0.892143</td>\n",
       "    </tr>\n",
       "    <tr>\n",
       "      <th>luna</th>\n",
       "      <td>0.888323</td>\n",
       "      <td>0.888323</td>\n",
       "    </tr>\n",
       "    <tr>\n",
       "      <th>dca</th>\n",
       "      <td>0.886466</td>\n",
       "      <td>0.886466</td>\n",
       "    </tr>\n",
       "    <tr>\n",
       "      <th>time buy</th>\n",
       "      <td>-0.881026</td>\n",
       "      <td>0.881026</td>\n",
       "    </tr>\n",
       "    <tr>\n",
       "      <th>understand</th>\n",
       "      <td>0.878155</td>\n",
       "      <td>0.878155</td>\n",
       "    </tr>\n",
       "    <tr>\n",
       "      <th>business</th>\n",
       "      <td>-0.873707</td>\n",
       "      <td>0.873707</td>\n",
       "    </tr>\n",
       "  </tbody>\n",
       "</table>\n",
       "</div>"
      ],
      "text/plain": [
       "               coef_  abs_coef\n",
       "crypto      2.070159  2.070159\n",
       "stock      -1.881382  1.881382\n",
       "coin        1.861472  1.861472\n",
       "moon        1.839987  1.839987\n",
       "eth         1.726386  1.726386\n",
       "btc         1.663653  1.663653\n",
       "ada         1.539839  1.539839\n",
       "cro         1.503034  1.503034\n",
       "vaccine    -1.355576  1.355576\n",
       "dip         1.336287  1.336287\n",
       "trade      -1.199054  1.199054\n",
       "bitcoin     1.196014  1.196014\n",
       "share      -1.185241  1.185241\n",
       "stupid     -1.182271  1.182271\n",
       "tesla      -1.153784  1.153784\n",
       "seen        1.140041  1.140041\n",
       "hodl        1.128201  1.128201\n",
       "venmo      -1.126729  1.126729\n",
       "exchange    1.117862  1.117862\n",
       "investor   -1.089252  1.089252\n",
       "make money -1.073930  1.073930\n",
       "usdc        1.070352  1.070352\n",
       "lrc         1.003840  1.003840\n",
       "bull        0.998517  0.998517\n",
       "amp         0.998148  0.998148\n",
       "covid      -0.996094  0.996094\n",
       "biden      -0.988211  0.988211\n",
       "dot         0.984969  0.984969\n",
       "win         0.977873  0.977873\n",
       "position   -0.955480  0.955480\n",
       "option     -0.951868  0.951868\n",
       "vix        -0.948074  0.948074\n",
       "wallet      0.939876  0.939876\n",
       "life        0.935287  0.935287\n",
       "maybe      -0.922402  0.922402\n",
       "hoping     -0.919223  0.919223\n",
       "look like  -0.918919  0.918919\n",
       "amc        -0.913654  0.913654\n",
       "amd        -0.911742  0.911742\n",
       "week       -0.906782  0.906782\n",
       "etf        -0.904410  0.904410\n",
       "covered    -0.902118  0.902118\n",
       "happy       0.895660  0.895660\n",
       "great       0.893600  0.893600\n",
       "definitely  0.892143  0.892143\n",
       "luna        0.888323  0.888323\n",
       "dca         0.886466  0.886466\n",
       "time buy   -0.881026  0.881026\n",
       "understand  0.878155  0.878155\n",
       "business   -0.873707  0.873707"
      ]
     },
     "execution_count": 117,
     "metadata": {},
     "output_type": "execute_result"
    }
   ],
   "source": [
    "lr_feat03 = pd.DataFrame(data=lr.coef_.T, index=cvec.get_feature_names())\n",
    "lr_feat03.columns = ['coef_']\n",
    "lr_feat03['abs_coef'] = np.abs(lr_feat03['coef_'])\n",
    "lr_feat03.sort_values(by='abs_coef', ascending=False).head(50)"
   ]
  },
  {
   "cell_type": "code",
   "execution_count": 118,
   "id": "0ac5ef7d-6283-4411-85f8-a5455c67ea62",
   "metadata": {},
   "outputs": [
    {
     "data": {
      "text/html": [
       "<div>\n",
       "<style scoped>\n",
       "    .dataframe tbody tr th:only-of-type {\n",
       "        vertical-align: middle;\n",
       "    }\n",
       "\n",
       "    .dataframe tbody tr th {\n",
       "        vertical-align: top;\n",
       "    }\n",
       "\n",
       "    .dataframe thead th {\n",
       "        text-align: right;\n",
       "    }\n",
       "</style>\n",
       "<table border=\"1\" class=\"dataframe\">\n",
       "  <thead>\n",
       "    <tr style=\"text-align: right;\">\n",
       "      <th></th>\n",
       "      <th>coef_</th>\n",
       "      <th>abs_coef</th>\n",
       "    </tr>\n",
       "  </thead>\n",
       "  <tbody>\n",
       "    <tr>\n",
       "      <th>microsoft think long</th>\n",
       "      <td>-1.267770e-05</td>\n",
       "      <td>1.267770e-05</td>\n",
       "    </tr>\n",
       "    <tr>\n",
       "      <th>microsoft think</th>\n",
       "      <td>-1.267770e-05</td>\n",
       "      <td>1.267770e-05</td>\n",
       "    </tr>\n",
       "    <tr>\n",
       "      <th>remember investing</th>\n",
       "      <td>-1.267770e-05</td>\n",
       "      <td>1.267770e-05</td>\n",
       "    </tr>\n",
       "    <tr>\n",
       "      <th>remember investing small</th>\n",
       "      <td>-1.267770e-05</td>\n",
       "      <td>1.267770e-05</td>\n",
       "    </tr>\n",
       "    <tr>\n",
       "      <th>overpriced expect correction</th>\n",
       "      <td>-1.267770e-05</td>\n",
       "      <td>1.267770e-05</td>\n",
       "    </tr>\n",
       "    <tr>\n",
       "      <th>make decent return</th>\n",
       "      <td>-1.267770e-05</td>\n",
       "      <td>1.267770e-05</td>\n",
       "    </tr>\n",
       "    <tr>\n",
       "      <th>return day</th>\n",
       "      <td>-1.267770e-05</td>\n",
       "      <td>1.267770e-05</td>\n",
       "    </tr>\n",
       "    <tr>\n",
       "      <th>overpriced expect</th>\n",
       "      <td>-1.267770e-05</td>\n",
       "      <td>1.267770e-05</td>\n",
       "    </tr>\n",
       "    <tr>\n",
       "      <th>man crapping started</th>\n",
       "      <td>-1.267770e-05</td>\n",
       "      <td>1.267770e-05</td>\n",
       "    </tr>\n",
       "    <tr>\n",
       "      <th>make sense technically</th>\n",
       "      <td>-1.267770e-05</td>\n",
       "      <td>1.267770e-05</td>\n",
       "    </tr>\n",
       "    <tr>\n",
       "      <th>man crapping</th>\n",
       "      <td>-1.267770e-05</td>\n",
       "      <td>1.267770e-05</td>\n",
       "    </tr>\n",
       "    <tr>\n",
       "      <th>multiple account flagged</th>\n",
       "      <td>-1.267770e-05</td>\n",
       "      <td>1.267770e-05</td>\n",
       "    </tr>\n",
       "    <tr>\n",
       "      <th>multiple account</th>\n",
       "      <td>-1.267770e-05</td>\n",
       "      <td>1.267770e-05</td>\n",
       "    </tr>\n",
       "    <tr>\n",
       "      <th>price increase</th>\n",
       "      <td>9.219533e-06</td>\n",
       "      <td>9.219533e-06</td>\n",
       "    </tr>\n",
       "    <tr>\n",
       "      <th>market structure follow</th>\n",
       "      <td>-9.078045e-06</td>\n",
       "      <td>9.078045e-06</td>\n",
       "    </tr>\n",
       "    <tr>\n",
       "      <th>market different nowadays</th>\n",
       "      <td>-9.078045e-06</td>\n",
       "      <td>9.078045e-06</td>\n",
       "    </tr>\n",
       "    <tr>\n",
       "      <th>market different</th>\n",
       "      <td>-9.078045e-06</td>\n",
       "      <td>9.078045e-06</td>\n",
       "    </tr>\n",
       "    <tr>\n",
       "      <th>market depends investor</th>\n",
       "      <td>-9.078045e-06</td>\n",
       "      <td>9.078045e-06</td>\n",
       "    </tr>\n",
       "    <tr>\n",
       "      <th>market depends</th>\n",
       "      <td>-9.078045e-06</td>\n",
       "      <td>9.078045e-06</td>\n",
       "    </tr>\n",
       "    <tr>\n",
       "      <th>past new market</th>\n",
       "      <td>-9.078045e-06</td>\n",
       "      <td>9.078045e-06</td>\n",
       "    </tr>\n",
       "    <tr>\n",
       "      <th>market structure</th>\n",
       "      <td>-9.078045e-06</td>\n",
       "      <td>9.078045e-06</td>\n",
       "    </tr>\n",
       "    <tr>\n",
       "      <th>prescribed great investor</th>\n",
       "      <td>-9.078045e-06</td>\n",
       "      <td>9.078045e-06</td>\n",
       "    </tr>\n",
       "    <tr>\n",
       "      <th>past new</th>\n",
       "      <td>-9.078045e-06</td>\n",
       "      <td>9.078045e-06</td>\n",
       "    </tr>\n",
       "    <tr>\n",
       "      <th>men past</th>\n",
       "      <td>-9.078045e-06</td>\n",
       "      <td>9.078045e-06</td>\n",
       "    </tr>\n",
       "    <tr>\n",
       "      <th>read trying offer</th>\n",
       "      <td>-9.078045e-06</td>\n",
       "      <td>9.078045e-06</td>\n",
       "    </tr>\n",
       "    <tr>\n",
       "      <th>read trying</th>\n",
       "      <td>-9.078045e-06</td>\n",
       "      <td>9.078045e-06</td>\n",
       "    </tr>\n",
       "    <tr>\n",
       "      <th>prescribed</th>\n",
       "      <td>-9.078045e-06</td>\n",
       "      <td>9.078045e-06</td>\n",
       "    </tr>\n",
       "    <tr>\n",
       "      <th>prescribed great</th>\n",
       "      <td>-9.078045e-06</td>\n",
       "      <td>9.078045e-06</td>\n",
       "    </tr>\n",
       "    <tr>\n",
       "      <th>men past new</th>\n",
       "      <td>-9.078045e-06</td>\n",
       "      <td>9.078045e-06</td>\n",
       "    </tr>\n",
       "    <tr>\n",
       "      <th>million people</th>\n",
       "      <td>3.342476e-07</td>\n",
       "      <td>3.342476e-07</td>\n",
       "    </tr>\n",
       "  </tbody>\n",
       "</table>\n",
       "</div>"
      ],
      "text/plain": [
       "                                     coef_      abs_coef\n",
       "microsoft think long         -1.267770e-05  1.267770e-05\n",
       "microsoft think              -1.267770e-05  1.267770e-05\n",
       "remember investing           -1.267770e-05  1.267770e-05\n",
       "remember investing small     -1.267770e-05  1.267770e-05\n",
       "overpriced expect correction -1.267770e-05  1.267770e-05\n",
       "make decent return           -1.267770e-05  1.267770e-05\n",
       "return day                   -1.267770e-05  1.267770e-05\n",
       "overpriced expect            -1.267770e-05  1.267770e-05\n",
       "man crapping started         -1.267770e-05  1.267770e-05\n",
       "make sense technically       -1.267770e-05  1.267770e-05\n",
       "man crapping                 -1.267770e-05  1.267770e-05\n",
       "multiple account flagged     -1.267770e-05  1.267770e-05\n",
       "multiple account             -1.267770e-05  1.267770e-05\n",
       "price increase                9.219533e-06  9.219533e-06\n",
       "market structure follow      -9.078045e-06  9.078045e-06\n",
       "market different nowadays    -9.078045e-06  9.078045e-06\n",
       "market different             -9.078045e-06  9.078045e-06\n",
       "market depends investor      -9.078045e-06  9.078045e-06\n",
       "market depends               -9.078045e-06  9.078045e-06\n",
       "past new market              -9.078045e-06  9.078045e-06\n",
       "market structure             -9.078045e-06  9.078045e-06\n",
       "prescribed great investor    -9.078045e-06  9.078045e-06\n",
       "past new                     -9.078045e-06  9.078045e-06\n",
       "men past                     -9.078045e-06  9.078045e-06\n",
       "read trying offer            -9.078045e-06  9.078045e-06\n",
       "read trying                  -9.078045e-06  9.078045e-06\n",
       "prescribed                   -9.078045e-06  9.078045e-06\n",
       "prescribed great             -9.078045e-06  9.078045e-06\n",
       "men past new                 -9.078045e-06  9.078045e-06\n",
       "million people                3.342476e-07  3.342476e-07"
      ]
     },
     "execution_count": 118,
     "metadata": {},
     "output_type": "execute_result"
    }
   ],
   "source": [
    "lr_feat03.sort_values(by='abs_coef', ascending=False).tail(30)"
   ]
  },
  {
   "cell_type": "code",
   "execution_count": 119,
   "id": "43233b38-f87b-468c-a117-4ab247287443",
   "metadata": {},
   "outputs": [
    {
     "name": "stdout",
     "output_type": "stream",
     "text": [
      "train score: 0.9321016166281755\n",
      "test score: 0.7272727272727273\n"
     ]
    }
   ],
   "source": [
    "# tf-idf & Logistic regression using additional stop words and 1 - 3 n-grams\n",
    "\n",
    "tf = TfidfVectorizer(analyzer = \"word\", \n",
    "                     stop_words = stop_words, \n",
    "                     max_features = 10000, \n",
    "                     ngram_range = (1, 3))\n",
    "\n",
    "lr = LogisticRegression()\n",
    "\n",
    "pipe = Pipeline([\n",
    "    ('tf', tf),\n",
    "    ('lr', lr)\n",
    "])\n",
    "\n",
    "pipe.fit(X_train, y_train)\n",
    "print('train score:', pipe.score(X_train, y_train))\n",
    "print('test score:', pipe.score(X_test, y_test))"
   ]
  },
  {
   "cell_type": "code",
   "execution_count": null,
   "id": "7057add7-1cae-4ded-9428-c665fd229613",
   "metadata": {},
   "outputs": [],
   "source": []
  },
  {
   "cell_type": "code",
   "execution_count": 120,
   "id": "69c452d9-7345-42f1-82ba-9612c5aa874e",
   "metadata": {},
   "outputs": [
    {
     "data": {
      "text/html": [
       "<div>\n",
       "<style scoped>\n",
       "    .dataframe tbody tr th:only-of-type {\n",
       "        vertical-align: middle;\n",
       "    }\n",
       "\n",
       "    .dataframe tbody tr th {\n",
       "        vertical-align: top;\n",
       "    }\n",
       "\n",
       "    .dataframe thead th {\n",
       "        text-align: right;\n",
       "    }\n",
       "</style>\n",
       "<table border=\"1\" class=\"dataframe\">\n",
       "  <thead>\n",
       "    <tr style=\"text-align: right;\">\n",
       "      <th></th>\n",
       "      <th>coef_</th>\n",
       "      <th>abs_coef</th>\n",
       "    </tr>\n",
       "  </thead>\n",
       "  <tbody>\n",
       "    <tr>\n",
       "      <th>crypto</th>\n",
       "      <td>3.386391</td>\n",
       "      <td>3.386391</td>\n",
       "    </tr>\n",
       "    <tr>\n",
       "      <th>stock</th>\n",
       "      <td>-3.196134</td>\n",
       "      <td>3.196134</td>\n",
       "    </tr>\n",
       "    <tr>\n",
       "      <th>coin</th>\n",
       "      <td>2.271453</td>\n",
       "      <td>2.271453</td>\n",
       "    </tr>\n",
       "    <tr>\n",
       "      <th>moon</th>\n",
       "      <td>2.142370</td>\n",
       "      <td>2.142370</td>\n",
       "    </tr>\n",
       "    <tr>\n",
       "      <th>btc</th>\n",
       "      <td>2.094718</td>\n",
       "      <td>2.094718</td>\n",
       "    </tr>\n",
       "    <tr>\n",
       "      <th>eth</th>\n",
       "      <td>2.067259</td>\n",
       "      <td>2.067259</td>\n",
       "    </tr>\n",
       "    <tr>\n",
       "      <th>vaccine</th>\n",
       "      <td>-1.884849</td>\n",
       "      <td>1.884849</td>\n",
       "    </tr>\n",
       "    <tr>\n",
       "      <th>ada</th>\n",
       "      <td>1.601872</td>\n",
       "      <td>1.601872</td>\n",
       "    </tr>\n",
       "    <tr>\n",
       "      <th>dip</th>\n",
       "      <td>1.587393</td>\n",
       "      <td>1.587393</td>\n",
       "    </tr>\n",
       "    <tr>\n",
       "      <th>cro</th>\n",
       "      <td>1.579008</td>\n",
       "      <td>1.579008</td>\n",
       "    </tr>\n",
       "    <tr>\n",
       "      <th>covid</th>\n",
       "      <td>-1.577013</td>\n",
       "      <td>1.577013</td>\n",
       "    </tr>\n",
       "    <tr>\n",
       "      <th>market</th>\n",
       "      <td>-1.537311</td>\n",
       "      <td>1.537311</td>\n",
       "    </tr>\n",
       "    <tr>\n",
       "      <th>bitcoin</th>\n",
       "      <td>1.536710</td>\n",
       "      <td>1.536710</td>\n",
       "    </tr>\n",
       "    <tr>\n",
       "      <th>share</th>\n",
       "      <td>-1.499123</td>\n",
       "      <td>1.499123</td>\n",
       "    </tr>\n",
       "    <tr>\n",
       "      <th>exchange</th>\n",
       "      <td>1.417228</td>\n",
       "      <td>1.417228</td>\n",
       "    </tr>\n",
       "    <tr>\n",
       "      <th>trade</th>\n",
       "      <td>-1.330731</td>\n",
       "      <td>1.330731</td>\n",
       "    </tr>\n",
       "    <tr>\n",
       "      <th>tesla</th>\n",
       "      <td>-1.283182</td>\n",
       "      <td>1.283182</td>\n",
       "    </tr>\n",
       "    <tr>\n",
       "      <th>wallet</th>\n",
       "      <td>1.279009</td>\n",
       "      <td>1.279009</td>\n",
       "    </tr>\n",
       "    <tr>\n",
       "      <th>investor</th>\n",
       "      <td>-1.234059</td>\n",
       "      <td>1.234059</td>\n",
       "    </tr>\n",
       "    <tr>\n",
       "      <th>stupid</th>\n",
       "      <td>-1.221250</td>\n",
       "      <td>1.221250</td>\n",
       "    </tr>\n",
       "    <tr>\n",
       "      <th>look</th>\n",
       "      <td>-1.183966</td>\n",
       "      <td>1.183966</td>\n",
       "    </tr>\n",
       "    <tr>\n",
       "      <th>week</th>\n",
       "      <td>-1.159843</td>\n",
       "      <td>1.159843</td>\n",
       "    </tr>\n",
       "    <tr>\n",
       "      <th>usdc</th>\n",
       "      <td>1.102113</td>\n",
       "      <td>1.102113</td>\n",
       "    </tr>\n",
       "    <tr>\n",
       "      <th>hodl</th>\n",
       "      <td>1.094098</td>\n",
       "      <td>1.094098</td>\n",
       "    </tr>\n",
       "    <tr>\n",
       "      <th>year</th>\n",
       "      <td>-1.086254</td>\n",
       "      <td>1.086254</td>\n",
       "    </tr>\n",
       "    <tr>\n",
       "      <th>trading</th>\n",
       "      <td>-1.084518</td>\n",
       "      <td>1.084518</td>\n",
       "    </tr>\n",
       "    <tr>\n",
       "      <th>position</th>\n",
       "      <td>-1.047454</td>\n",
       "      <td>1.047454</td>\n",
       "    </tr>\n",
       "    <tr>\n",
       "      <th>stop</th>\n",
       "      <td>-1.037118</td>\n",
       "      <td>1.037118</td>\n",
       "    </tr>\n",
       "    <tr>\n",
       "      <th>great</th>\n",
       "      <td>0.987736</td>\n",
       "      <td>0.987736</td>\n",
       "    </tr>\n",
       "    <tr>\n",
       "      <th>maybe</th>\n",
       "      <td>-0.987421</td>\n",
       "      <td>0.987421</td>\n",
       "    </tr>\n",
       "    <tr>\n",
       "      <th>amp</th>\n",
       "      <td>0.977693</td>\n",
       "      <td>0.977693</td>\n",
       "    </tr>\n",
       "    <tr>\n",
       "      <th>bad</th>\n",
       "      <td>-0.974839</td>\n",
       "      <td>0.974839</td>\n",
       "    </tr>\n",
       "    <tr>\n",
       "      <th>dot</th>\n",
       "      <td>0.955752</td>\n",
       "      <td>0.955752</td>\n",
       "    </tr>\n",
       "    <tr>\n",
       "      <th>tech</th>\n",
       "      <td>-0.952495</td>\n",
       "      <td>0.952495</td>\n",
       "    </tr>\n",
       "    <tr>\n",
       "      <th>tomorrow</th>\n",
       "      <td>-0.950404</td>\n",
       "      <td>0.950404</td>\n",
       "    </tr>\n",
       "    <tr>\n",
       "      <th>dca</th>\n",
       "      <td>0.946358</td>\n",
       "      <td>0.946358</td>\n",
       "    </tr>\n",
       "    <tr>\n",
       "      <th>feel</th>\n",
       "      <td>0.941022</td>\n",
       "      <td>0.941022</td>\n",
       "    </tr>\n",
       "    <tr>\n",
       "      <th>life</th>\n",
       "      <td>0.939887</td>\n",
       "      <td>0.939887</td>\n",
       "    </tr>\n",
       "    <tr>\n",
       "      <th>definitely</th>\n",
       "      <td>0.937204</td>\n",
       "      <td>0.937204</td>\n",
       "    </tr>\n",
       "    <tr>\n",
       "      <th>doubt</th>\n",
       "      <td>-0.936407</td>\n",
       "      <td>0.936407</td>\n",
       "    </tr>\n",
       "    <tr>\n",
       "      <th>company</th>\n",
       "      <td>-0.932553</td>\n",
       "      <td>0.932553</td>\n",
       "    </tr>\n",
       "    <tr>\n",
       "      <th>seen</th>\n",
       "      <td>0.916332</td>\n",
       "      <td>0.916332</td>\n",
       "    </tr>\n",
       "    <tr>\n",
       "      <th>stake</th>\n",
       "      <td>0.915619</td>\n",
       "      <td>0.915619</td>\n",
       "    </tr>\n",
       "    <tr>\n",
       "      <th>project</th>\n",
       "      <td>0.889284</td>\n",
       "      <td>0.889284</td>\n",
       "    </tr>\n",
       "    <tr>\n",
       "      <th>vix</th>\n",
       "      <td>-0.882623</td>\n",
       "      <td>0.882623</td>\n",
       "    </tr>\n",
       "    <tr>\n",
       "      <th>option</th>\n",
       "      <td>-0.881710</td>\n",
       "      <td>0.881710</td>\n",
       "    </tr>\n",
       "    <tr>\n",
       "      <th>hoping</th>\n",
       "      <td>-0.880057</td>\n",
       "      <td>0.880057</td>\n",
       "    </tr>\n",
       "    <tr>\n",
       "      <th>algo</th>\n",
       "      <td>0.871939</td>\n",
       "      <td>0.871939</td>\n",
       "    </tr>\n",
       "    <tr>\n",
       "      <th>win</th>\n",
       "      <td>0.869752</td>\n",
       "      <td>0.869752</td>\n",
       "    </tr>\n",
       "    <tr>\n",
       "      <th>amc</th>\n",
       "      <td>-0.862119</td>\n",
       "      <td>0.862119</td>\n",
       "    </tr>\n",
       "  </tbody>\n",
       "</table>\n",
       "</div>"
      ],
      "text/plain": [
       "               coef_  abs_coef\n",
       "crypto      3.386391  3.386391\n",
       "stock      -3.196134  3.196134\n",
       "coin        2.271453  2.271453\n",
       "moon        2.142370  2.142370\n",
       "btc         2.094718  2.094718\n",
       "eth         2.067259  2.067259\n",
       "vaccine    -1.884849  1.884849\n",
       "ada         1.601872  1.601872\n",
       "dip         1.587393  1.587393\n",
       "cro         1.579008  1.579008\n",
       "covid      -1.577013  1.577013\n",
       "market     -1.537311  1.537311\n",
       "bitcoin     1.536710  1.536710\n",
       "share      -1.499123  1.499123\n",
       "exchange    1.417228  1.417228\n",
       "trade      -1.330731  1.330731\n",
       "tesla      -1.283182  1.283182\n",
       "wallet      1.279009  1.279009\n",
       "investor   -1.234059  1.234059\n",
       "stupid     -1.221250  1.221250\n",
       "look       -1.183966  1.183966\n",
       "week       -1.159843  1.159843\n",
       "usdc        1.102113  1.102113\n",
       "hodl        1.094098  1.094098\n",
       "year       -1.086254  1.086254\n",
       "trading    -1.084518  1.084518\n",
       "position   -1.047454  1.047454\n",
       "stop       -1.037118  1.037118\n",
       "great       0.987736  0.987736\n",
       "maybe      -0.987421  0.987421\n",
       "amp         0.977693  0.977693\n",
       "bad        -0.974839  0.974839\n",
       "dot         0.955752  0.955752\n",
       "tech       -0.952495  0.952495\n",
       "tomorrow   -0.950404  0.950404\n",
       "dca         0.946358  0.946358\n",
       "feel        0.941022  0.941022\n",
       "life        0.939887  0.939887\n",
       "definitely  0.937204  0.937204\n",
       "doubt      -0.936407  0.936407\n",
       "company    -0.932553  0.932553\n",
       "seen        0.916332  0.916332\n",
       "stake       0.915619  0.915619\n",
       "project     0.889284  0.889284\n",
       "vix        -0.882623  0.882623\n",
       "option     -0.881710  0.881710\n",
       "hoping     -0.880057  0.880057\n",
       "algo        0.871939  0.871939\n",
       "win         0.869752  0.869752\n",
       "amc        -0.862119  0.862119"
      ]
     },
     "execution_count": 120,
     "metadata": {},
     "output_type": "execute_result"
    }
   ],
   "source": [
    "lr_tf_feat01 = pd.DataFrame(data=lr.coef_.T, index=cvec.get_feature_names())\n",
    "lr_tf_feat01.columns = ['coef_']\n",
    "lr_tf_feat01['abs_coef'] = np.abs(lr_tf_feat01['coef_'])\n",
    "lr_tf_feat01.sort_values(by='abs_coef', ascending=False).head(50)"
   ]
  },
  {
   "cell_type": "code",
   "execution_count": 121,
   "id": "39fe9e01-3d9b-45f2-9bd2-fef211f4d9c6",
   "metadata": {},
   "outputs": [
    {
     "data": {
      "text/html": [
       "<div>\n",
       "<style scoped>\n",
       "    .dataframe tbody tr th:only-of-type {\n",
       "        vertical-align: middle;\n",
       "    }\n",
       "\n",
       "    .dataframe tbody tr th {\n",
       "        vertical-align: top;\n",
       "    }\n",
       "\n",
       "    .dataframe thead th {\n",
       "        text-align: right;\n",
       "    }\n",
       "</style>\n",
       "<table border=\"1\" class=\"dataframe\">\n",
       "  <thead>\n",
       "    <tr style=\"text-align: right;\">\n",
       "      <th></th>\n",
       "      <th>coef_</th>\n",
       "      <th>abs_coef</th>\n",
       "    </tr>\n",
       "  </thead>\n",
       "  <tbody>\n",
       "    <tr>\n",
       "      <th>date</th>\n",
       "      <td>0.002603</td>\n",
       "      <td>0.002603</td>\n",
       "    </tr>\n",
       "    <tr>\n",
       "      <th>pattern</th>\n",
       "      <td>0.002486</td>\n",
       "      <td>0.002486</td>\n",
       "    </tr>\n",
       "    <tr>\n",
       "      <th>release</th>\n",
       "      <td>0.002289</td>\n",
       "      <td>0.002289</td>\n",
       "    </tr>\n",
       "    <tr>\n",
       "      <th>past year</th>\n",
       "      <td>-0.001988</td>\n",
       "      <td>0.001988</td>\n",
       "    </tr>\n",
       "    <tr>\n",
       "      <th>utm</th>\n",
       "      <td>-0.001972</td>\n",
       "      <td>0.001972</td>\n",
       "    </tr>\n",
       "    <tr>\n",
       "      <th>apputm</th>\n",
       "      <td>-0.001972</td>\n",
       "      <td>0.001972</td>\n",
       "    </tr>\n",
       "    <tr>\n",
       "      <th>simply</th>\n",
       "      <td>-0.001965</td>\n",
       "      <td>0.001965</td>\n",
       "    </tr>\n",
       "    <tr>\n",
       "      <th>overall</th>\n",
       "      <td>0.001920</td>\n",
       "      <td>0.001920</td>\n",
       "    </tr>\n",
       "    <tr>\n",
       "      <th>winter</th>\n",
       "      <td>0.001917</td>\n",
       "      <td>0.001917</td>\n",
       "    </tr>\n",
       "    <tr>\n",
       "      <th>aid</th>\n",
       "      <td>-0.001867</td>\n",
       "      <td>0.001867</td>\n",
       "    </tr>\n",
       "    <tr>\n",
       "      <th>managed</th>\n",
       "      <td>0.001816</td>\n",
       "      <td>0.001816</td>\n",
       "    </tr>\n",
       "    <tr>\n",
       "      <th>didn think</th>\n",
       "      <td>-0.001612</td>\n",
       "      <td>0.001612</td>\n",
       "    </tr>\n",
       "    <tr>\n",
       "      <th>habit</th>\n",
       "      <td>-0.001561</td>\n",
       "      <td>0.001561</td>\n",
       "    </tr>\n",
       "    <tr>\n",
       "      <th>opposite</th>\n",
       "      <td>0.001548</td>\n",
       "      <td>0.001548</td>\n",
       "    </tr>\n",
       "    <tr>\n",
       "      <th>occur</th>\n",
       "      <td>-0.001383</td>\n",
       "      <td>0.001383</td>\n",
       "    </tr>\n",
       "    <tr>\n",
       "      <th>later</th>\n",
       "      <td>0.001039</td>\n",
       "      <td>0.001039</td>\n",
       "    </tr>\n",
       "    <tr>\n",
       "      <th>better return</th>\n",
       "      <td>-0.000836</td>\n",
       "      <td>0.000836</td>\n",
       "    </tr>\n",
       "    <tr>\n",
       "      <th>holiday</th>\n",
       "      <td>0.000752</td>\n",
       "      <td>0.000752</td>\n",
       "    </tr>\n",
       "    <tr>\n",
       "      <th>pharma company</th>\n",
       "      <td>0.000697</td>\n",
       "      <td>0.000697</td>\n",
       "    </tr>\n",
       "    <tr>\n",
       "      <th>activity</th>\n",
       "      <td>0.000685</td>\n",
       "      <td>0.000685</td>\n",
       "    </tr>\n",
       "    <tr>\n",
       "      <th>10k</th>\n",
       "      <td>-0.000592</td>\n",
       "      <td>0.000592</td>\n",
       "    </tr>\n",
       "    <tr>\n",
       "      <th>wonder</th>\n",
       "      <td>-0.000467</td>\n",
       "      <td>0.000467</td>\n",
       "    </tr>\n",
       "    <tr>\n",
       "      <th>listed</th>\n",
       "      <td>0.000392</td>\n",
       "      <td>0.000392</td>\n",
       "    </tr>\n",
       "    <tr>\n",
       "      <th>audited</th>\n",
       "      <td>0.000392</td>\n",
       "      <td>0.000392</td>\n",
       "    </tr>\n",
       "    <tr>\n",
       "      <th>okay</th>\n",
       "      <td>-0.000362</td>\n",
       "      <td>0.000362</td>\n",
       "    </tr>\n",
       "    <tr>\n",
       "      <th>month sell</th>\n",
       "      <td>-0.000317</td>\n",
       "      <td>0.000317</td>\n",
       "    </tr>\n",
       "    <tr>\n",
       "      <th>hood</th>\n",
       "      <td>0.000155</td>\n",
       "      <td>0.000155</td>\n",
       "    </tr>\n",
       "    <tr>\n",
       "      <th>youtube channel</th>\n",
       "      <td>-0.000123</td>\n",
       "      <td>0.000123</td>\n",
       "    </tr>\n",
       "    <tr>\n",
       "      <th>stuck</th>\n",
       "      <td>-0.000057</td>\n",
       "      <td>0.000057</td>\n",
       "    </tr>\n",
       "    <tr>\n",
       "      <th>break</th>\n",
       "      <td>0.000032</td>\n",
       "      <td>0.000032</td>\n",
       "    </tr>\n",
       "  </tbody>\n",
       "</table>\n",
       "</div>"
      ],
      "text/plain": [
       "                    coef_  abs_coef\n",
       "date             0.002603  0.002603\n",
       "pattern          0.002486  0.002486\n",
       "release          0.002289  0.002289\n",
       "past year       -0.001988  0.001988\n",
       "utm             -0.001972  0.001972\n",
       "apputm          -0.001972  0.001972\n",
       "simply          -0.001965  0.001965\n",
       "overall          0.001920  0.001920\n",
       "winter           0.001917  0.001917\n",
       "aid             -0.001867  0.001867\n",
       "managed          0.001816  0.001816\n",
       "didn think      -0.001612  0.001612\n",
       "habit           -0.001561  0.001561\n",
       "opposite         0.001548  0.001548\n",
       "occur           -0.001383  0.001383\n",
       "later            0.001039  0.001039\n",
       "better return   -0.000836  0.000836\n",
       "holiday          0.000752  0.000752\n",
       "pharma company   0.000697  0.000697\n",
       "activity         0.000685  0.000685\n",
       "10k             -0.000592  0.000592\n",
       "wonder          -0.000467  0.000467\n",
       "listed           0.000392  0.000392\n",
       "audited          0.000392  0.000392\n",
       "okay            -0.000362  0.000362\n",
       "month sell      -0.000317  0.000317\n",
       "hood             0.000155  0.000155\n",
       "youtube channel -0.000123  0.000123\n",
       "stuck           -0.000057  0.000057\n",
       "break            0.000032  0.000032"
      ]
     },
     "execution_count": 121,
     "metadata": {},
     "output_type": "execute_result"
    }
   ],
   "source": [
    "lr_tf_feat01.sort_values(by='abs_coef', ascending=False).tail(30)"
   ]
  },
  {
   "cell_type": "code",
   "execution_count": 122,
   "id": "859a0d60-8497-4651-96c5-70cf3b0bff7f",
   "metadata": {},
   "outputs": [
    {
     "name": "stdout",
     "output_type": "stream",
     "text": [
      "train score: 0.9782909930715935\n",
      "test score: 0.6982193064667291\n"
     ]
    }
   ],
   "source": [
    "# CountVectorizer & Random forest using additional stop words and 1 - 3 n-grams\n",
    "\n",
    "cvec = CountVectorizer(analyzer = \"word\", \n",
    "                       tokenizer = None, \n",
    "                       preprocessor = None,\n",
    "                       stop_words = stop_words, \n",
    "                       max_features = 10000, \n",
    "                       ngram_range = (1, 3)\n",
    "                      )\n",
    "rf = RandomForestClassifier(random_state = 42)\n",
    "\n",
    "pipe = Pipeline([\n",
    "    ('cvec', cvec),\n",
    "    ('rf', rf)\n",
    "])\n",
    "\n",
    "pipe.fit(X_train, y_train)\n",
    "print('train score:', pipe.score(X_train, y_train))\n",
    "print('test score:', pipe.score(X_test, y_test))"
   ]
  },
  {
   "cell_type": "code",
   "execution_count": 123,
   "id": "a2e3e86f-6603-419b-8bc7-69b4036b11ad",
   "metadata": {},
   "outputs": [],
   "source": [
    "rf_feat = cvec.get_feature_names()\n",
    "rf_feat_imp = rf.feature_importances_\n",
    "\n",
    "df_rf_feat02 = pd.DataFrame(data=rf_feat_imp, index=rf_feat)\n",
    "\n",
    "df_rf_feat02.columns = ['feature_importances_']"
   ]
  },
  {
   "cell_type": "code",
   "execution_count": 124,
   "id": "ac35c7eb-0976-401f-9134-8e79697128b5",
   "metadata": {},
   "outputs": [
    {
     "data": {
      "text/html": [
       "<div>\n",
       "<style scoped>\n",
       "    .dataframe tbody tr th:only-of-type {\n",
       "        vertical-align: middle;\n",
       "    }\n",
       "\n",
       "    .dataframe tbody tr th {\n",
       "        vertical-align: top;\n",
       "    }\n",
       "\n",
       "    .dataframe thead th {\n",
       "        text-align: right;\n",
       "    }\n",
       "</style>\n",
       "<table border=\"1\" class=\"dataframe\">\n",
       "  <thead>\n",
       "    <tr style=\"text-align: right;\">\n",
       "      <th></th>\n",
       "      <th>feature_importances_</th>\n",
       "    </tr>\n",
       "  </thead>\n",
       "  <tbody>\n",
       "    <tr>\n",
       "      <th>stock</th>\n",
       "      <td>0.019251</td>\n",
       "    </tr>\n",
       "    <tr>\n",
       "      <th>crypto</th>\n",
       "      <td>0.015070</td>\n",
       "    </tr>\n",
       "    <tr>\n",
       "      <th>coin</th>\n",
       "      <td>0.010046</td>\n",
       "    </tr>\n",
       "    <tr>\n",
       "      <th>moon</th>\n",
       "      <td>0.008067</td>\n",
       "    </tr>\n",
       "    <tr>\n",
       "      <th>btc</th>\n",
       "      <td>0.007908</td>\n",
       "    </tr>\n",
       "    <tr>\n",
       "      <th>vaccine</th>\n",
       "      <td>0.007093</td>\n",
       "    </tr>\n",
       "    <tr>\n",
       "      <th>eth</th>\n",
       "      <td>0.006425</td>\n",
       "    </tr>\n",
       "    <tr>\n",
       "      <th>covid</th>\n",
       "      <td>0.005358</td>\n",
       "    </tr>\n",
       "    <tr>\n",
       "      <th>market</th>\n",
       "      <td>0.004406</td>\n",
       "    </tr>\n",
       "    <tr>\n",
       "      <th>trade</th>\n",
       "      <td>0.004305</td>\n",
       "    </tr>\n",
       "    <tr>\n",
       "      <th>share</th>\n",
       "      <td>0.004046</td>\n",
       "    </tr>\n",
       "    <tr>\n",
       "      <th>bitcoin</th>\n",
       "      <td>0.003945</td>\n",
       "    </tr>\n",
       "    <tr>\n",
       "      <th>ada</th>\n",
       "      <td>0.003910</td>\n",
       "    </tr>\n",
       "    <tr>\n",
       "      <th>cro</th>\n",
       "      <td>0.003740</td>\n",
       "    </tr>\n",
       "    <tr>\n",
       "      <th>stupid</th>\n",
       "      <td>0.003416</td>\n",
       "    </tr>\n",
       "    <tr>\n",
       "      <th>exchange</th>\n",
       "      <td>0.003303</td>\n",
       "    </tr>\n",
       "    <tr>\n",
       "      <th>wa</th>\n",
       "      <td>0.003227</td>\n",
       "    </tr>\n",
       "    <tr>\n",
       "      <th>just</th>\n",
       "      <td>0.003221</td>\n",
       "    </tr>\n",
       "    <tr>\n",
       "      <th>dip</th>\n",
       "      <td>0.003170</td>\n",
       "    </tr>\n",
       "    <tr>\n",
       "      <th>year</th>\n",
       "      <td>0.003169</td>\n",
       "    </tr>\n",
       "    <tr>\n",
       "      <th>tesla</th>\n",
       "      <td>0.003139</td>\n",
       "    </tr>\n",
       "    <tr>\n",
       "      <th>company</th>\n",
       "      <td>0.003069</td>\n",
       "    </tr>\n",
       "    <tr>\n",
       "      <th>like</th>\n",
       "      <td>0.002991</td>\n",
       "    </tr>\n",
       "    <tr>\n",
       "      <th>stop</th>\n",
       "      <td>0.002871</td>\n",
       "    </tr>\n",
       "    <tr>\n",
       "      <th>buy</th>\n",
       "      <td>0.002847</td>\n",
       "    </tr>\n",
       "    <tr>\n",
       "      <th>wallet</th>\n",
       "      <td>0.002714</td>\n",
       "    </tr>\n",
       "    <tr>\n",
       "      <th>tomorrow</th>\n",
       "      <td>0.002618</td>\n",
       "    </tr>\n",
       "    <tr>\n",
       "      <th>position</th>\n",
       "      <td>0.002609</td>\n",
       "    </tr>\n",
       "    <tr>\n",
       "      <th>look</th>\n",
       "      <td>0.002605</td>\n",
       "    </tr>\n",
       "    <tr>\n",
       "      <th>data</th>\n",
       "      <td>0.002511</td>\n",
       "    </tr>\n",
       "    <tr>\n",
       "      <th>biden</th>\n",
       "      <td>0.002396</td>\n",
       "    </tr>\n",
       "    <tr>\n",
       "      <th>lol</th>\n",
       "      <td>0.002327</td>\n",
       "    </tr>\n",
       "    <tr>\n",
       "      <th>good</th>\n",
       "      <td>0.002313</td>\n",
       "    </tr>\n",
       "    <tr>\n",
       "      <th>investor</th>\n",
       "      <td>0.002306</td>\n",
       "    </tr>\n",
       "    <tr>\n",
       "      <th>time</th>\n",
       "      <td>0.002299</td>\n",
       "    </tr>\n",
       "    <tr>\n",
       "      <th>rate</th>\n",
       "      <td>0.002290</td>\n",
       "    </tr>\n",
       "    <tr>\n",
       "      <th>know</th>\n",
       "      <td>0.002223</td>\n",
       "    </tr>\n",
       "    <tr>\n",
       "      <th>come</th>\n",
       "      <td>0.002201</td>\n",
       "    </tr>\n",
       "    <tr>\n",
       "      <th>amc</th>\n",
       "      <td>0.002194</td>\n",
       "    </tr>\n",
       "    <tr>\n",
       "      <th>sell</th>\n",
       "      <td>0.002094</td>\n",
       "    </tr>\n",
       "    <tr>\n",
       "      <th>trading</th>\n",
       "      <td>0.002090</td>\n",
       "    </tr>\n",
       "    <tr>\n",
       "      <th>day</th>\n",
       "      <td>0.002010</td>\n",
       "    </tr>\n",
       "    <tr>\n",
       "      <th>think</th>\n",
       "      <td>0.002006</td>\n",
       "    </tr>\n",
       "    <tr>\n",
       "      <th>margin</th>\n",
       "      <td>0.001999</td>\n",
       "    </tr>\n",
       "    <tr>\n",
       "      <th>week</th>\n",
       "      <td>0.001998</td>\n",
       "    </tr>\n",
       "    <tr>\n",
       "      <th>tech</th>\n",
       "      <td>0.001977</td>\n",
       "    </tr>\n",
       "    <tr>\n",
       "      <th>usdc</th>\n",
       "      <td>0.001970</td>\n",
       "    </tr>\n",
       "    <tr>\n",
       "      <th>look like</th>\n",
       "      <td>0.001968</td>\n",
       "    </tr>\n",
       "    <tr>\n",
       "      <th>option</th>\n",
       "      <td>0.001955</td>\n",
       "    </tr>\n",
       "    <tr>\n",
       "      <th>make</th>\n",
       "      <td>0.001933</td>\n",
       "    </tr>\n",
       "  </tbody>\n",
       "</table>\n",
       "</div>"
      ],
      "text/plain": [
       "           feature_importances_\n",
       "stock                  0.019251\n",
       "crypto                 0.015070\n",
       "coin                   0.010046\n",
       "moon                   0.008067\n",
       "btc                    0.007908\n",
       "vaccine                0.007093\n",
       "eth                    0.006425\n",
       "covid                  0.005358\n",
       "market                 0.004406\n",
       "trade                  0.004305\n",
       "share                  0.004046\n",
       "bitcoin                0.003945\n",
       "ada                    0.003910\n",
       "cro                    0.003740\n",
       "stupid                 0.003416\n",
       "exchange               0.003303\n",
       "wa                     0.003227\n",
       "just                   0.003221\n",
       "dip                    0.003170\n",
       "year                   0.003169\n",
       "tesla                  0.003139\n",
       "company                0.003069\n",
       "like                   0.002991\n",
       "stop                   0.002871\n",
       "buy                    0.002847\n",
       "wallet                 0.002714\n",
       "tomorrow               0.002618\n",
       "position               0.002609\n",
       "look                   0.002605\n",
       "data                   0.002511\n",
       "biden                  0.002396\n",
       "lol                    0.002327\n",
       "good                   0.002313\n",
       "investor               0.002306\n",
       "time                   0.002299\n",
       "rate                   0.002290\n",
       "know                   0.002223\n",
       "come                   0.002201\n",
       "amc                    0.002194\n",
       "sell                   0.002094\n",
       "trading                0.002090\n",
       "day                    0.002010\n",
       "think                  0.002006\n",
       "margin                 0.001999\n",
       "week                   0.001998\n",
       "tech                   0.001977\n",
       "usdc                   0.001970\n",
       "look like              0.001968\n",
       "option                 0.001955\n",
       "make                   0.001933"
      ]
     },
     "execution_count": 124,
     "metadata": {},
     "output_type": "execute_result"
    }
   ],
   "source": [
    "df_rf_feat02.sort_values(by='feature_importances_', ascending=False).head(50)"
   ]
  },
  {
   "cell_type": "code",
   "execution_count": 125,
   "id": "4c8cc454-809e-48fb-a51c-0ae1be44bc88",
   "metadata": {},
   "outputs": [
    {
     "data": {
      "text/html": [
       "<div>\n",
       "<style scoped>\n",
       "    .dataframe tbody tr th:only-of-type {\n",
       "        vertical-align: middle;\n",
       "    }\n",
       "\n",
       "    .dataframe tbody tr th {\n",
       "        vertical-align: top;\n",
       "    }\n",
       "\n",
       "    .dataframe thead th {\n",
       "        text-align: right;\n",
       "    }\n",
       "</style>\n",
       "<table border=\"1\" class=\"dataframe\">\n",
       "  <thead>\n",
       "    <tr style=\"text-align: right;\">\n",
       "      <th></th>\n",
       "      <th>feature_importances_</th>\n",
       "    </tr>\n",
       "  </thead>\n",
       "  <tbody>\n",
       "    <tr>\n",
       "      <th>possible liquidity tether</th>\n",
       "      <td>0.0</td>\n",
       "    </tr>\n",
       "    <tr>\n",
       "      <th>possible outcome</th>\n",
       "      <td>0.0</td>\n",
       "    </tr>\n",
       "    <tr>\n",
       "      <th>possible tough</th>\n",
       "      <td>0.0</td>\n",
       "    </tr>\n",
       "    <tr>\n",
       "      <th>possible yes yes</th>\n",
       "      <td>0.0</td>\n",
       "    </tr>\n",
       "    <tr>\n",
       "      <th>post ha link</th>\n",
       "      <td>0.0</td>\n",
       "    </tr>\n",
       "    <tr>\n",
       "      <th>collapsed</th>\n",
       "      <td>0.0</td>\n",
       "    </tr>\n",
       "    <tr>\n",
       "      <th>possibly 100</th>\n",
       "      <td>0.0</td>\n",
       "    </tr>\n",
       "    <tr>\n",
       "      <th>possibly bigger</th>\n",
       "      <td>0.0</td>\n",
       "    </tr>\n",
       "    <tr>\n",
       "      <th>possibly bigger ev</th>\n",
       "      <td>0.0</td>\n",
       "    </tr>\n",
       "    <tr>\n",
       "      <th>possibly create</th>\n",
       "      <td>0.0</td>\n",
       "    </tr>\n",
       "    <tr>\n",
       "      <th>possibly invading</th>\n",
       "      <td>0.0</td>\n",
       "    </tr>\n",
       "    <tr>\n",
       "      <th>possibly invading ukraine</th>\n",
       "      <td>0.0</td>\n",
       "    </tr>\n",
       "    <tr>\n",
       "      <th>possibly reminds</th>\n",
       "      <td>0.0</td>\n",
       "    </tr>\n",
       "    <tr>\n",
       "      <th>possibly reminds adsk</th>\n",
       "      <td>0.0</td>\n",
       "    </tr>\n",
       "    <tr>\n",
       "      <th>post covid</th>\n",
       "      <td>0.0</td>\n",
       "    </tr>\n",
       "    <tr>\n",
       "      <th>post covid demand</th>\n",
       "      <td>0.0</td>\n",
       "    </tr>\n",
       "    <tr>\n",
       "      <th>post difficult</th>\n",
       "      <td>0.0</td>\n",
       "    </tr>\n",
       "    <tr>\n",
       "      <th>post feed</th>\n",
       "      <td>0.0</td>\n",
       "    </tr>\n",
       "    <tr>\n",
       "      <th>post ha</th>\n",
       "      <td>0.0</td>\n",
       "    </tr>\n",
       "    <tr>\n",
       "      <th>patience</th>\n",
       "      <td>0.0</td>\n",
       "    </tr>\n",
       "  </tbody>\n",
       "</table>\n",
       "</div>"
      ],
      "text/plain": [
       "                           feature_importances_\n",
       "possible liquidity tether                   0.0\n",
       "possible outcome                            0.0\n",
       "possible tough                              0.0\n",
       "possible yes yes                            0.0\n",
       "post ha link                                0.0\n",
       "collapsed                                   0.0\n",
       "possibly 100                                0.0\n",
       "possibly bigger                             0.0\n",
       "possibly bigger ev                          0.0\n",
       "possibly create                             0.0\n",
       "possibly invading                           0.0\n",
       "possibly invading ukraine                   0.0\n",
       "possibly reminds                            0.0\n",
       "possibly reminds adsk                       0.0\n",
       "post covid                                  0.0\n",
       "post covid demand                           0.0\n",
       "post difficult                              0.0\n",
       "post feed                                   0.0\n",
       "post ha                                     0.0\n",
       "patience                                    0.0"
      ]
     },
     "execution_count": 125,
     "metadata": {},
     "output_type": "execute_result"
    }
   ],
   "source": [
    "df_rf_feat02.sort_values(by='feature_importances_', ascending=False).tail(20)"
   ]
  },
  {
   "cell_type": "markdown",
   "id": "298330fc-4386-47f5-84e0-9457f203979f",
   "metadata": {},
   "source": [
    "## CountVectorizer vs Tf-idf"
   ]
  },
  {
   "cell_type": "code",
   "execution_count": 126,
   "id": "1011d68a-9da6-46b8-9f7b-f50620b741e8",
   "metadata": {},
   "outputs": [],
   "source": [
    "# tfidf using \"english\" stop words, 1-grams\n",
    "\n",
    "tf = TfidfVectorizer(analyzer = \"word\", \n",
    "                     stop_words = \"english\", \n",
    "                     max_features = 10000, \n",
    "                     ngram_range = (1, 1))\n",
    "\n",
    "lr = LogisticRegression()\n",
    "\n",
    "pipe = Pipeline([\n",
    "    ('tf', tf),\n",
    "    ('lr', lr)\n",
    "])"
   ]
  },
  {
   "cell_type": "code",
   "execution_count": 127,
   "id": "da542776-3641-464f-a6d7-03e5b628f560",
   "metadata": {},
   "outputs": [
    {
     "name": "stdout",
     "output_type": "stream",
     "text": [
      "train score: 0.9311778290993071\n",
      "test score: 0.7300843486410497\n"
     ]
    }
   ],
   "source": [
    "# baseline Logistic model\n",
    "\n",
    "pipe.fit(X_train, y_train)\n",
    "print('train score:', pipe.score(X_train, y_train))\n",
    "print('test score:', pipe.score(X_test, y_test))"
   ]
  },
  {
   "cell_type": "code",
   "execution_count": 128,
   "id": "9e8c101f-1e26-4de1-b0b0-2b59a222ba57",
   "metadata": {},
   "outputs": [
    {
     "ename": "NameError",
     "evalue": "name 'lr_tf_feat00' is not defined",
     "output_type": "error",
     "traceback": [
      "\u001b[0;31m---------------------------------------------------------------------------\u001b[0m",
      "\u001b[0;31mNameError\u001b[0m                                 Traceback (most recent call last)",
      "\u001b[0;32m<ipython-input-128-be6de25c164b>\u001b[0m in \u001b[0;36m<module>\u001b[0;34m\u001b[0m\n\u001b[0;32m----> 1\u001b[0;31m \u001b[0mlr_tf_feat00\u001b[0m\u001b[0;34m.\u001b[0m\u001b[0msort_values\u001b[0m\u001b[0;34m(\u001b[0m\u001b[0mby\u001b[0m\u001b[0;34m=\u001b[0m\u001b[0;34m'abs_coef'\u001b[0m\u001b[0;34m,\u001b[0m \u001b[0mascending\u001b[0m\u001b[0;34m=\u001b[0m\u001b[0;32mFalse\u001b[0m\u001b[0;34m)\u001b[0m\u001b[0;34m.\u001b[0m\u001b[0mtail\u001b[0m\u001b[0;34m(\u001b[0m\u001b[0;36m10\u001b[0m\u001b[0;34m)\u001b[0m\u001b[0;34m\u001b[0m\u001b[0;34m\u001b[0m\u001b[0m\n\u001b[0m",
      "\u001b[0;31mNameError\u001b[0m: name 'lr_tf_feat00' is not defined"
     ]
    }
   ],
   "source": [
    "lr_tf_feat00.sort_values(by='abs_coef', ascending=False).tail(10)"
   ]
  },
  {
   "cell_type": "code",
   "execution_count": null,
   "id": "9378dccf-a4a6-4c16-b6cc-5232bd873320",
   "metadata": {},
   "outputs": [],
   "source": []
  },
  {
   "cell_type": "code",
   "execution_count": null,
   "id": "a5bee3e1-2a8f-4301-8476-84f99827d80d",
   "metadata": {},
   "outputs": [],
   "source": [
    "# using additional stop words\n",
    "\n",
    "tf = TfidfVectorizer(analyzer = \"word\", \n",
    "                     stop_words = stop_words, \n",
    "                     max_features = 10000, \n",
    "                     ngram_range = (1, 1))\n",
    "\n",
    "lr = LogisticRegression()\n",
    "\n",
    "pipe = Pipeline([\n",
    "    ('tf', tf),\n",
    "    ('lr', lr)\n",
    "])"
   ]
  },
  {
   "cell_type": "code",
   "execution_count": null,
   "id": "fb8bbc1e-2afa-468d-8e38-4080e67a25c0",
   "metadata": {},
   "outputs": [],
   "source": [
    "# baseline Logistic model\n",
    "\n",
    "pipe.fit(X_train, y_train)\n",
    "print('train score:', pipe.score(X_train, y_train))\n",
    "print('test score:', pipe.score(X_test, y_test))"
   ]
  },
  {
   "cell_type": "code",
   "execution_count": null,
   "id": "e4a66937-841c-4e70-a0b8-c7a740508240",
   "metadata": {},
   "outputs": [],
   "source": [
    "lr_tf_feat01 = pd.DataFrame(data=lr.coef_.T, index=cvec.get_feature_names())\n",
    "lr_tf_feat01.columns = ['coef_']\n",
    "lr_feat00['abs_coef'] = np.abs(lr_feat00['coef_'])\n",
    "lr_tf_feat01.sort_values(by='coef_', ascending=False).head(10)"
   ]
  },
  {
   "cell_type": "code",
   "execution_count": null,
   "id": "ad38fe5a-c356-4089-a986-2cdb463ad559",
   "metadata": {},
   "outputs": [],
   "source": [
    "lr_tf_feat01.sort_values(by='coef_', ascending=False).tail(10)"
   ]
  },
  {
   "cell_type": "code",
   "execution_count": null,
   "id": "b8995e50-0f8e-4ee5-835e-f718a80089d9",
   "metadata": {},
   "outputs": [],
   "source": []
  },
  {
   "cell_type": "markdown",
   "id": "7d36ad2b-af6c-46e3-ac5f-13becea031fb",
   "metadata": {},
   "source": [
    "## Logistic regression model\n",
    "\n",
    "#### baseline"
   ]
  },
  {
   "cell_type": "code",
   "execution_count": null,
   "id": "1f62b466-3435-4155-88a9-6ac4fc5405f4",
   "metadata": {},
   "outputs": [],
   "source": [
    "# set up pipeline\n",
    "\n",
    "# initialize\n",
    "cvec = CountVectorizer(stop_words = stop_words)\n",
    "lr = LogisticRegression()\n",
    "\n",
    "pipe = Pipeline([\n",
    "    ('cvec', cvec),\n",
    "    ('lr', lr)\n",
    "])"
   ]
  },
  {
   "cell_type": "code",
   "execution_count": null,
   "id": "f9a9f52d-4852-4ef0-8cdb-5f8eb490be8e",
   "metadata": {},
   "outputs": [],
   "source": [
    "# baseline Logistic model\n",
    "\n",
    "pipe.fit(X_train, y_train)\n",
    "print('train score:', pipe.score(X_train, y_train))\n",
    "print('test score:', pipe.score(X_test, y_test))\n"
   ]
  },
  {
   "cell_type": "markdown",
   "id": "5cd2d823-8310-4dab-bb51-13e58b6a1cc4",
   "metadata": {},
   "source": [
    "## gridsearch"
   ]
  },
  {
   "cell_type": "code",
   "execution_count": null,
   "id": "990c6859-9e1f-4e85-a99a-499923f14d6a",
   "metadata": {},
   "outputs": [],
   "source": [
    "#%%time\n",
    "\n",
    "# gridsearchCV tests cross-validation for the parameters\n",
    "# pipe\n",
    "\n",
    "params = {\n",
    "#     'cvec__stop_words': [stop_words], \n",
    "    'cvec__max_features': [5000, 10000, 20000], \n",
    "#     'cvec__ngram_range': [(1, 1), (1, 2)], \n",
    "    'lr__penalty': ['l1', 'l2'], \n",
    "    'lr__C': np.logspace(-10, 0, 10)\n",
    "}\n",
    "gs = GridSearchCV(pipe, param_grid=params, cv=3, verbose=1)\n",
    "gs.fit(X_train, y_train)"
   ]
  },
  {
   "cell_type": "code",
   "execution_count": null,
   "id": "6f249193-3c28-4823-b0a7-efe7dbb17834",
   "metadata": {},
   "outputs": [],
   "source": [
    "print('gs.best_score_', gs.best_score_)\n",
    "print('gs.best_params_', gs.best_params_)\n",
    "print('gs.score(X_test, y_test)', gs.score(X_test, y_test))"
   ]
  },
  {
   "cell_type": "markdown",
   "id": "cbbcbf19-b17f-4734-b988-55778879f3aa",
   "metadata": {},
   "source": [
    "## Random forest model\n",
    "#### baseline"
   ]
  },
  {
   "cell_type": "code",
   "execution_count": null,
   "id": "6429bdd2-5fc8-44aa-b3f3-177f1ea5e1bf",
   "metadata": {},
   "outputs": [],
   "source": [
    "# set up pipeline\n",
    "\n",
    "# initialize\n",
    "cvec = CountVectorizer(analyzer = \"word\",                        \n",
    "                         tokenizer = None, \n",
    "                         preprocessor = None,\n",
    "                         stop_words = stop_words, \n",
    "                         max_features = 10000)\n",
    "rf = RandomForestClassifier(random_state = 42)\n",
    "\n",
    "pipe = Pipeline([\n",
    "    ('cvec', cvec),\n",
    "    ('rf', rf)\n",
    "])"
   ]
  },
  {
   "cell_type": "code",
   "execution_count": null,
   "id": "0046e456-b4a9-4262-aa9a-b6a260652378",
   "metadata": {},
   "outputs": [],
   "source": [
    "# baseline Random forest\n",
    "\n",
    "pipe.fit(X_train, y_train)\n",
    "print('train score:', pipe.score(X_train, y_train))\n",
    "print('test score:', pipe.score(X_test, y_test))"
   ]
  },
  {
   "cell_type": "markdown",
   "id": "755803c4-c950-4fca-87c4-e0a23461444c",
   "metadata": {},
   "source": [
    "### gridsearch"
   ]
  },
  {
   "cell_type": "code",
   "execution_count": null,
   "id": "b96ff198-3d92-4850-81ba-9751ff8c044b",
   "metadata": {},
   "outputs": [],
   "source": [
    "# gridsearchCV tests cross-validation for the parameters\n",
    "# pipe\n",
    "\n",
    "params = {\n",
    "#     'cvec__stop_words': [None, 'english'], \n",
    "    'cvec__max_features': [5000, 10000, 20000], \n",
    "    'cvec__ngram_range': [(1, 1), (1, 2)], \n",
    "    'rf__n_estimators': [10, 20, 30],\n",
    "    'rf__max_depth': [None, 10, 20]\n",
    "}\n",
    "\n",
    "gs = GridSearchCV(pipe, param_grid=params, cv=3, verbose=1)\n",
    "gs.fit(X_train, y_train)"
   ]
  },
  {
   "cell_type": "code",
   "execution_count": null,
   "id": "98e1aff8-785c-477f-9ce0-b2ffb588de72",
   "metadata": {},
   "outputs": [],
   "source": [
    "print('gs.best_score_', gs.best_score_)\n",
    "print('gs.best_params_', gs.best_params_)\n",
    "print('gs.score(X_test, y_test)', gs.score(X_test, y_test))"
   ]
  },
  {
   "cell_type": "markdown",
   "id": "d676459a-2531-4cd8-8098-2c7048301c83",
   "metadata": {},
   "source": [
    "## Sentiment Analysis"
   ]
  },
  {
   "cell_type": "code",
   "execution_count": null,
   "id": "5e6b763f-7ae0-4243-b142-9d798cb80fee",
   "metadata": {},
   "outputs": [],
   "source": [
    "# Define a function that accepts text and returns the polarity.\n",
    "def detect_sentiment(text):\n",
    "    return TextBlob(text).sentiment.polarity"
   ]
  },
  {
   "cell_type": "code",
   "execution_count": null,
   "id": "cb739f36-f8fe-4b48-a392-a3c3f83345bf",
   "metadata": {},
   "outputs": [],
   "source": [
    "# Create a new DataFrame column for sentiment \n",
    "df['sentiment'] = df.body.apply(detect_sentiment)"
   ]
  },
  {
   "cell_type": "markdown",
   "id": "ecc01c37-59eb-4890-8779-7144c4ff2302",
   "metadata": {},
   "source": [
    "---\n",
    "\n",
    "----"
   ]
  },
  {
   "cell_type": "code",
   "execution_count": null,
   "id": "a78940fc-1a98-43ca-8329-72596369abc8",
   "metadata": {},
   "outputs": [],
   "source": [
    "# Get predictions\n",
    "preds = gs.predict(X_test)\n",
    "\n",
    "# Save confusion matrix values\n",
    "tn, fp, fn, tp = confusion_matrix(y_test, preds).ravel()"
   ]
  },
  {
   "cell_type": "code",
   "execution_count": null,
   "id": "5c70c2a9-c46f-486d-8fe8-f06f37823093",
   "metadata": {},
   "outputs": [],
   "source": [
    "# View confusion matrix\n",
    "plot_confusion_matrix(gs, X_test, y_test, cmap = 'Blues', values_format = 'd');"
   ]
  },
  {
   "cell_type": "code",
   "execution_count": null,
   "id": "b1e717be-8be7-42b4-8534-72ec792d2a75",
   "metadata": {},
   "outputs": [],
   "source": [
    "print(tn, fp, fn, tp)"
   ]
  },
  {
   "cell_type": "code",
   "execution_count": null,
   "id": "7d7bd821-862a-460a-874c-a7c408e0b3fe",
   "metadata": {},
   "outputs": [],
   "source": [
    " # Calculate the specificity (TRUE NEG RATE)\n",
    "spec = tn / (tn + fp)\n",
    "\n",
    "print('Specificity:', spec)"
   ]
  },
  {
   "cell_type": "code",
   "execution_count": null,
   "id": "1e7fcbc1-2884-4ff5-8f57-4261e9d0be77",
   "metadata": {},
   "outputs": [],
   "source": [
    "# Calculate precision\n",
    "\n",
    "precision = tp / (tp + fp)\n",
    "\n",
    "print('Precision: ', precision)"
   ]
  },
  {
   "cell_type": "markdown",
   "id": "63819f47-2e08-4070-85f1-4bd11ae837f0",
   "metadata": {},
   "source": [
    "## Term Frequency-Inverse Document Frequency (TF-IDF) Vectorizer\n",
    "\n",
    "\n",
    "#### Term Frequency-Inverse Document Frequency (TF-IDF) Vectorizer\n"
   ]
  },
  {
   "cell_type": "code",
   "execution_count": null,
   "id": "93a7ff37-c500-4ab9-8971-010e604891e9",
   "metadata": {},
   "outputs": [],
   "source": [
    "# Instantiate the transformer.\n",
    "tvec = TfidfVectorizer()"
   ]
  },
  {
   "cell_type": "code",
   "execution_count": null,
   "id": "39abf8b6-7ef4-448f-b051-e8415ed63a8b",
   "metadata": {},
   "outputs": [],
   "source": [
    "#Let's visualize the top words.\n",
    "# convert training data to dataframe\n",
    "X_train_df = pd.DataFrame(tvec.fit_transform(X_train).todense(),\n",
    "                         columns = tvec.get_feature_names())\n",
    "\n",
    "# plot top occuring words\n",
    "X_train_df.sum().sort_values(ascending = False).head(10).plot(kind = 'barh');"
   ]
  },
  {
   "cell_type": "markdown",
   "id": "44397fa4-8581-44db-a1bf-71ecc73c8c92",
   "metadata": {},
   "source": [
    "## Modeling Using the TfidfVectorizer"
   ]
  },
  {
   "cell_type": "code",
   "execution_count": null,
   "id": "a130a878-c7de-4960-bff9-26c19941cb1d",
   "metadata": {},
   "outputs": [],
   "source": [
    "# Let's set a pipeline up with two stages:\n",
    "# 1. tf-idf vectorizer (transformer)\n",
    "# 2. Multinomial Naive Bayes (estimator)\n",
    "\n",
    "pipe_tvec = Pipeline([\n",
    "    ('tvec', TfidfVectorizer()),\n",
    "    ('nb', MultinomialNB())\n",
    "])"
   ]
  },
  {
   "cell_type": "code",
   "execution_count": null,
   "id": "16b873e0-1ac4-41ce-98f1-295314804ba8",
   "metadata": {},
   "outputs": [],
   "source": [
    "# Search over the following values of hyperparameters:\n",
    "# Maximum number of features fit: 2000, 3000, 4000, 5000\n",
    "# No stop words and english stop words\n",
    "# Check (individual tokens) and also check (individual tokens and 2-grams).\n",
    "\n",
    "pipe_tvec_params = {\n",
    "    'tvec__max_features': [2000, 3000, 4000, 5000],\n",
    "    'tvec__stop_words': [None, 'english'],\n",
    "    'tvec__ngram_range': [(1, 1), (1, 2)]\n",
    "}"
   ]
  },
  {
   "cell_type": "code",
   "execution_count": null,
   "id": "934e539c-0af8-43a1-87d7-112b0a656870",
   "metadata": {},
   "outputs": [],
   "source": [
    "# Instantiate GridSearchCV.\n",
    "\n",
    "gs_tvec = GridSearchCV(pipe_tvec, # What are we optimizing?\n",
    "                      param_grid = pipe_tvec_params, # What parameter values are we searching?\n",
    "                      cv = 5, #5-fold cross-validation\n",
    "                      n_jobs = -1)\n"
   ]
  },
  {
   "cell_type": "code",
   "execution_count": null,
   "id": "13b252ee-17c1-4fba-b25a-c22688e54e2f",
   "metadata": {},
   "outputs": [],
   "source": [
    "# Fit GridSearch to training data.\n",
    "gs_tvec.fit(X_train, y_train)"
   ]
  },
  {
   "cell_type": "code",
   "execution_count": null,
   "id": "2e9aacea-ca59-4795-af77-403c1a554018",
   "metadata": {},
   "outputs": [],
   "source": [
    "# Best parameters\n",
    "gs_tvec.best_params_"
   ]
  },
  {
   "cell_type": "code",
   "execution_count": null,
   "id": "bef2e3bc-4ef1-48fd-ab53-60587ee5d134",
   "metadata": {},
   "outputs": [],
   "source": [
    "# Score model on training set.\n",
    "gs_tvec.score(X_train, y_train)"
   ]
  },
  {
   "cell_type": "code",
   "execution_count": null,
   "id": "e9b353c8-425e-4139-8c70-d4439754a7e7",
   "metadata": {},
   "outputs": [],
   "source": [
    "# Score model on testing set.\n",
    "gs_tvec.score(X_test, y_test)"
   ]
  },
  {
   "cell_type": "code",
   "execution_count": null,
   "id": "e5e59600-0afd-468c-aefb-ae3c477e3756",
   "metadata": {},
   "outputs": [],
   "source": [
    "# Get predictions\n",
    "preds_tvec = gs_tvec.predict(X_test)\n",
    "\n",
    "# Save confusion matrix values\n",
    "tn, fp, fn, tp = confusion_matrix(y_test, preds_tvec).ravel()\n",
    "\n",
    "# Calculate the specificity and precision\n",
    "\n",
    "spec = tn / (tn + fp)\n",
    "prec = tp / (tp + fp)\n",
    "\n",
    "print('Specificity:', spec)\n",
    "print('Precision:', prec)"
   ]
  },
  {
   "cell_type": "code",
   "execution_count": null,
   "id": "b61c49cd-ee9a-4fa1-998d-c57dd7e39b17",
   "metadata": {},
   "outputs": [],
   "source": [
    "# visualize confusion matrix\n",
    "\n",
    "plot_confusion_matrix(gs_tvec, X_test, y_test, cmap = 'Blues', values_format = 'd');"
   ]
  },
  {
   "cell_type": "code",
   "execution_count": null,
   "id": "bb7938b0-625f-4b43-b989-c6c381c59f7b",
   "metadata": {},
   "outputs": [],
   "source": []
  }
 ],
 "metadata": {
  "kernelspec": {
   "display_name": "Python 3",
   "language": "python",
   "name": "python3"
  },
  "language_info": {
   "codemirror_mode": {
    "name": "ipython",
    "version": 3
   },
   "file_extension": ".py",
   "mimetype": "text/x-python",
   "name": "python",
   "nbconvert_exporter": "python",
   "pygments_lexer": "ipython3",
   "version": "3.8.8"
  }
 },
 "nbformat": 4,
 "nbformat_minor": 5
}
