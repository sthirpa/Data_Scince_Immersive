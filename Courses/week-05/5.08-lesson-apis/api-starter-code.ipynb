{
 "cells": [
  {
   "cell_type": "markdown",
   "metadata": {},
   "source": [
    "<img src=\"http://imgur.com/1ZcRyrc.png\" style=\"float: left; margin: 20px; height: 55px\">\n",
    "\n",
    "# Introduction to APIs"
   ]
  },
  {
   "cell_type": "markdown",
   "metadata": {},
   "source": [
    "## The `requests` Library\n",
    "The `requests` library is a library for submitting HTTP requests from Python. Despite its frequent use, it's not included in the Python standard library. You'll need to `pip install requests` yourself.\n",
    "![](imgs/pokeapi.png)"
   ]
  },
  {
   "cell_type": "code",
   "execution_count": 2,
   "metadata": {},
   "outputs": [],
   "source": [
    "import requests\n",
    "import pandas as pd\n",
    "import matplotlib.pyplot as plt"
   ]
  },
  {
   "cell_type": "code",
   "execution_count": 7,
   "metadata": {},
   "outputs": [],
   "source": [
    "# Create url for API call.\n"
   ]
  },
  {
   "cell_type": "code",
   "execution_count": 28,
   "metadata": {},
   "outputs": [],
   "source": [
    "# Make request\n"
   ]
  },
  {
   "cell_type": "code",
   "execution_count": 29,
   "metadata": {},
   "outputs": [
    {
     "data": {
      "text/plain": [
       "200"
      ]
     },
     "execution_count": 29,
     "metadata": {},
     "output_type": "execute_result"
    }
   ],
   "source": [
    "# Request response code\n"
   ]
  },
  {
   "cell_type": "code",
   "execution_count": 30,
   "metadata": {},
   "outputs": [
    {
     "data": {
      "text/plain": [
       "'{\"abilities\":[{\"ability\":{\"name\":\"blaze\",\"url\":\"https://pokeapi.co/api/v2/ability/66/\"},\"is_hidden\":false,\"slot\":1},{\"ability\":{\"name\":\"solar-power\",\"url\":\"https://pokeapi.co/api/v2/ability/94/\"},\"is_hidden\":true,\"slot\":3}],\"base_experience\":240,\"forms\":[{\"name\":\"charizard\",\"url\":\"https://pokeapi.co/api/v2/pokemon-form/6/\"}],\"game_indices\":[{\"game_index\":180,\"version\":{\"name\":\"red\",\"url\":\"https://pokeapi.co/api/v2/version/1/\"}},{\"game_index\":180,\"version\":{\"name\":\"blue\",\"url\":\"https://pokeapi.co'"
      ]
     },
     "execution_count": 30,
     "metadata": {},
     "output_type": "execute_result"
    }
   ],
   "source": [
    "# Text of request\n"
   ]
  },
  {
   "cell_type": "code",
   "execution_count": 31,
   "metadata": {},
   "outputs": [],
   "source": [
    "# Bring in the JSON!\n"
   ]
  },
  {
   "cell_type": "code",
   "execution_count": 32,
   "metadata": {},
   "outputs": [
    {
     "data": {
      "text/plain": [
       "dict_keys(['abilities', 'base_experience', 'forms', 'game_indices', 'height', 'held_items', 'id', 'is_default', 'location_area_encounters', 'moves', 'name', 'order', 'species', 'sprites', 'stats', 'types', 'weight'])"
      ]
     },
     "execution_count": 32,
     "metadata": {},
     "output_type": "execute_result"
    }
   ],
   "source": [
    "# Since we've converted the JSON -> dict, we know how to work with this!\n"
   ]
  },
  {
   "cell_type": "code",
   "execution_count": 18,
   "metadata": {},
   "outputs": [],
   "source": [
    "# we can get the values too (uncomment to run)\n"
   ]
  },
  {
   "cell_type": "code",
   "execution_count": 19,
   "metadata": {},
   "outputs": [
    {
     "name": "stdout",
     "output_type": "stream",
     "text": [
      "17\n",
      "905\n"
     ]
    }
   ],
   "source": [
    "# Height, Weight\n"
   ]
  },
  {
   "cell_type": "code",
   "execution_count": 21,
   "metadata": {},
   "outputs": [
    {
     "data": {
      "text/plain": [
       "'https://raw.githubusercontent.com/PokeAPI/sprites/master/sprites/pokemon/back/6.png'"
      ]
     },
     "execution_count": 21,
     "metadata": {},
     "output_type": "execute_result"
    }
   ],
   "source": [
    "# Sprites?\n",
    "# I'm using one key for the sake of screen \"real estate\""
   ]
  },
  {
   "cell_type": "code",
   "execution_count": 23,
   "metadata": {},
   "outputs": [
    {
     "data": {
      "text/plain": [
       "{'move': {'name': 'mega-punch', 'url': 'https://pokeapi.co/api/v2/move/5/'},\n",
       " 'version_group_details': [{'level_learned_at': 0,\n",
       "   'move_learn_method': {'name': 'machine',\n",
       "    'url': 'https://pokeapi.co/api/v2/move-learn-method/4/'},\n",
       "   'version_group': {'name': 'red-blue',\n",
       "    'url': 'https://pokeapi.co/api/v2/version-group/1/'}},\n",
       "  {'level_learned_at': 0,\n",
       "   'move_learn_method': {'name': 'machine',\n",
       "    'url': 'https://pokeapi.co/api/v2/move-learn-method/4/'},\n",
       "   'version_group': {'name': 'yellow',\n",
       "    'url': 'https://pokeapi.co/api/v2/version-group/2/'}},\n",
       "  {'level_learned_at': 0,\n",
       "   'move_learn_method': {'name': 'tutor',\n",
       "    'url': 'https://pokeapi.co/api/v2/move-learn-method/3/'},\n",
       "   'version_group': {'name': 'emerald',\n",
       "    'url': 'https://pokeapi.co/api/v2/version-group/6/'}},\n",
       "  {'level_learned_at': 0,\n",
       "   'move_learn_method': {'name': 'tutor',\n",
       "    'url': 'https://pokeapi.co/api/v2/move-learn-method/3/'},\n",
       "   'version_group': {'name': 'firered-leafgreen',\n",
       "    'url': 'https://pokeapi.co/api/v2/version-group/7/'}}]}"
      ]
     },
     "execution_count": 23,
     "metadata": {},
     "output_type": "execute_result"
    }
   ],
   "source": [
    "# What moves can Charizard learn?\n"
   ]
  },
  {
   "cell_type": "code",
   "execution_count": 35,
   "metadata": {},
   "outputs": [],
   "source": [
    "# Whoa! Let's build a function to extract a pokemon's possible moves\n"
   ]
  },
  {
   "cell_type": "code",
   "execution_count": 45,
   "metadata": {},
   "outputs": [],
   "source": [
    "base_url = \"https://pokeapi.co/api/v2/pokemon/\"\n",
    "\n",
    "# Build a function that would get us a pokemnon JSON\n"
   ]
  },
  {
   "cell_type": "code",
   "execution_count": 43,
   "metadata": {},
   "outputs": [
    {
     "data": {
      "text/plain": [
       "dict_keys(['abilities', 'base_experience', 'forms', 'game_indices', 'height', 'held_items', 'id', 'is_default', 'location_area_encounters', 'moves', 'name', 'order', 'species', 'sprites', 'stats', 'types', 'weight'])"
      ]
     },
     "execution_count": 43,
     "metadata": {},
     "output_type": "execute_result"
    }
   ],
   "source": [
    "# Use the function to get the JSON \n"
   ]
  },
  {
   "cell_type": "code",
   "execution_count": 44,
   "metadata": {},
   "outputs": [],
   "source": [
    "# Incorporate both function together\n"
   ]
  },
  {
   "cell_type": "markdown",
   "metadata": {},
   "source": [
    "## Ok, let's try a more complicated API - for stocks!\n",
    "![](imgs/alpha-vantage.png)\n",
    "If you haven't already - grab your free API key for Alpha Vantage [here](https://www.alphavantage.co). It takes five seconds.\n",
    "\n",
    "**(THREAD): Why do you think companies would require the use of an API key?**\n",
    "\n",
    "Alpha Vantage has documentation [here](https://www.alphavantage.co/documentation/)."
   ]
  },
  {
   "cell_type": "code",
   "execution_count": 49,
   "metadata": {},
   "outputs": [],
   "source": [
    "key = \"D8ASYC8PY2K0OEFJ\""
   ]
  },
  {
   "cell_type": "code",
   "execution_count": 54,
   "metadata": {},
   "outputs": [],
   "source": [
    "# Most APIs have a single base URL from which API calls are made.\n",
    "# If you look closely at the examples, this is Alpha Vantage's.\n",
    "base_url = \"https://www.alphavantage.co/query\""
   ]
  },
  {
   "cell_type": "code",
   "execution_count": null,
   "metadata": {},
   "outputs": [],
   "source": [
    "# This is the example url/request\n",
    "\"https://www.alphavantage.co/query?function=TIME_SERIES_INTRADAY&symbol=IBM&interval=5min&apikey=demo\""
   ]
  },
  {
   "cell_type": "code",
   "execution_count": 51,
   "metadata": {},
   "outputs": [
    {
     "data": {
      "text/plain": [
       "200"
      ]
     },
     "execution_count": 51,
     "metadata": {},
     "output_type": "execute_result"
    }
   ],
   "source": [
    "# AV API Demo URL\n",
    "demo = requests.get(\"https://www.alphavantage.co/query?function=TIME_SERIES_INTRADAY&symbol=IBM&interval=5min&apikey=demo\")\n",
    "demo.status_code"
   ]
  },
  {
   "cell_type": "code",
   "execution_count": 53,
   "metadata": {},
   "outputs": [
    {
     "data": {
      "text/plain": [
       "{'1. Information': 'Intraday (5min) open, high, low, close prices and volume',\n",
       " '2. Symbol': 'IBM',\n",
       " '3. Last Refreshed': '2020-11-18 20:00:00',\n",
       " '4. Interval': '5min',\n",
       " '5. Output Size': 'Compact',\n",
       " '6. Time Zone': 'US/Eastern'}"
      ]
     },
     "execution_count": 53,
     "metadata": {},
     "output_type": "execute_result"
    }
   ],
   "source": [
    "demo.json()['Meta Data']"
   ]
  },
  {
   "cell_type": "code",
   "execution_count": 65,
   "metadata": {},
   "outputs": [
    {
     "data": {
      "text/plain": [
       "200"
      ]
     },
     "execution_count": 65,
     "metadata": {},
     "output_type": "execute_result"
    }
   ],
   "source": [
    "# Let's build out this request.\n",
    "# This is a very common format for pure API requests to come in\n"
   ]
  },
  {
   "cell_type": "code",
   "execution_count": 67,
   "metadata": {},
   "outputs": [],
   "source": [
    "# Let's grab that data!\n"
   ]
  },
  {
   "cell_type": "code",
   "execution_count": 69,
   "metadata": {},
   "outputs": [
    {
     "data": {
      "text/plain": [
       "{'1. Information': 'Intraday (5min) open, high, low, close prices and volume',\n",
       " '2. Symbol': 'ADI',\n",
       " '3. Last Refreshed': '2020-11-18 18:35:00',\n",
       " '4. Interval': '5min',\n",
       " '5. Output Size': 'Compact',\n",
       " '6. Time Zone': 'US/Eastern'}"
      ]
     },
     "execution_count": 69,
     "metadata": {},
     "output_type": "execute_result"
    }
   ],
   "source": [
    "# Well, this looks like a familiar format...\n",
    "json['Meta Data']"
   ]
  },
  {
   "cell_type": "code",
   "execution_count": 74,
   "metadata": {},
   "outputs": [
    {
     "data": {
      "text/plain": [
       "{'1. open': '133.2000',\n",
       " '2. high': '133.2000',\n",
       " '3. low': '133.2000',\n",
       " '4. close': '133.2000',\n",
       " '5. volume': '256'}"
      ]
     },
     "execution_count": 74,
     "metadata": {},
     "output_type": "execute_result"
    }
   ],
   "source": [
    "json['Time Series (5min)']['2020-11-18 18:35:00']"
   ]
  },
  {
   "cell_type": "code",
   "execution_count": 79,
   "metadata": {},
   "outputs": [
    {
     "data": {
      "text/html": [
       "<div>\n",
       "<style scoped>\n",
       "    .dataframe tbody tr th:only-of-type {\n",
       "        vertical-align: middle;\n",
       "    }\n",
       "\n",
       "    .dataframe tbody tr th {\n",
       "        vertical-align: top;\n",
       "    }\n",
       "\n",
       "    .dataframe thead th {\n",
       "        text-align: right;\n",
       "    }\n",
       "</style>\n",
       "<table border=\"1\" class=\"dataframe\">\n",
       "  <thead>\n",
       "    <tr style=\"text-align: right;\">\n",
       "      <th></th>\n",
       "      <th>1. open</th>\n",
       "      <th>2. high</th>\n",
       "      <th>3. low</th>\n",
       "      <th>4. close</th>\n",
       "      <th>5. volume</th>\n",
       "    </tr>\n",
       "  </thead>\n",
       "  <tbody>\n",
       "    <tr>\n",
       "      <th>2020-11-18 18:35:00</th>\n",
       "      <td>133.2000</td>\n",
       "      <td>133.2000</td>\n",
       "      <td>133.2000</td>\n",
       "      <td>133.2000</td>\n",
       "      <td>256</td>\n",
       "    </tr>\n",
       "    <tr>\n",
       "      <th>2020-11-18 16:05:00</th>\n",
       "      <td>133.2300</td>\n",
       "      <td>133.2300</td>\n",
       "      <td>133.2300</td>\n",
       "      <td>133.2300</td>\n",
       "      <td>29443</td>\n",
       "    </tr>\n",
       "    <tr>\n",
       "      <th>2020-11-18 16:00:00</th>\n",
       "      <td>133.3500</td>\n",
       "      <td>133.6000</td>\n",
       "      <td>133.1900</td>\n",
       "      <td>133.2400</td>\n",
       "      <td>143097</td>\n",
       "    </tr>\n",
       "    <tr>\n",
       "      <th>2020-11-18 15:55:00</th>\n",
       "      <td>133.5200</td>\n",
       "      <td>133.6300</td>\n",
       "      <td>133.3300</td>\n",
       "      <td>133.3400</td>\n",
       "      <td>97197</td>\n",
       "    </tr>\n",
       "    <tr>\n",
       "      <th>2020-11-18 15:50:00</th>\n",
       "      <td>133.1500</td>\n",
       "      <td>133.7299</td>\n",
       "      <td>133.1000</td>\n",
       "      <td>133.5300</td>\n",
       "      <td>69832</td>\n",
       "    </tr>\n",
       "  </tbody>\n",
       "</table>\n",
       "</div>"
      ],
      "text/plain": [
       "                      1. open   2. high    3. low  4. close 5. volume\n",
       "2020-11-18 18:35:00  133.2000  133.2000  133.2000  133.2000       256\n",
       "2020-11-18 16:05:00  133.2300  133.2300  133.2300  133.2300     29443\n",
       "2020-11-18 16:00:00  133.3500  133.6000  133.1900  133.2400    143097\n",
       "2020-11-18 15:55:00  133.5200  133.6300  133.3300  133.3400     97197\n",
       "2020-11-18 15:50:00  133.1500  133.7299  133.1000  133.5300     69832"
      ]
     },
     "execution_count": 79,
     "metadata": {},
     "output_type": "execute_result"
    }
   ],
   "source": [
    "# Turn it into a data frame!\n"
   ]
  },
  {
   "cell_type": "code",
   "execution_count": 80,
   "metadata": {},
   "outputs": [
    {
     "data": {
      "text/html": [
       "<div>\n",
       "<style scoped>\n",
       "    .dataframe tbody tr th:only-of-type {\n",
       "        vertical-align: middle;\n",
       "    }\n",
       "\n",
       "    .dataframe tbody tr th {\n",
       "        vertical-align: top;\n",
       "    }\n",
       "\n",
       "    .dataframe thead th {\n",
       "        text-align: right;\n",
       "    }\n",
       "</style>\n",
       "<table border=\"1\" class=\"dataframe\">\n",
       "  <thead>\n",
       "    <tr style=\"text-align: right;\">\n",
       "      <th></th>\n",
       "      <th>1. open</th>\n",
       "      <th>2. high</th>\n",
       "      <th>3. low</th>\n",
       "      <th>4. close</th>\n",
       "      <th>5. volume</th>\n",
       "    </tr>\n",
       "  </thead>\n",
       "  <tbody>\n",
       "    <tr>\n",
       "      <th>2020-11-18 18:35:00</th>\n",
       "      <td>133.2000</td>\n",
       "      <td>133.2000</td>\n",
       "      <td>133.2000</td>\n",
       "      <td>133.2000</td>\n",
       "      <td>256</td>\n",
       "    </tr>\n",
       "    <tr>\n",
       "      <th>2020-11-18 16:05:00</th>\n",
       "      <td>133.2300</td>\n",
       "      <td>133.2300</td>\n",
       "      <td>133.2300</td>\n",
       "      <td>133.2300</td>\n",
       "      <td>29443</td>\n",
       "    </tr>\n",
       "    <tr>\n",
       "      <th>2020-11-18 16:00:00</th>\n",
       "      <td>133.3500</td>\n",
       "      <td>133.6000</td>\n",
       "      <td>133.1900</td>\n",
       "      <td>133.2400</td>\n",
       "      <td>143097</td>\n",
       "    </tr>\n",
       "    <tr>\n",
       "      <th>2020-11-18 15:55:00</th>\n",
       "      <td>133.5200</td>\n",
       "      <td>133.6300</td>\n",
       "      <td>133.3300</td>\n",
       "      <td>133.3400</td>\n",
       "      <td>97197</td>\n",
       "    </tr>\n",
       "    <tr>\n",
       "      <th>2020-11-18 15:50:00</th>\n",
       "      <td>133.1500</td>\n",
       "      <td>133.7299</td>\n",
       "      <td>133.1000</td>\n",
       "      <td>133.5300</td>\n",
       "      <td>69832</td>\n",
       "    </tr>\n",
       "  </tbody>\n",
       "</table>\n",
       "</div>"
      ],
      "text/plain": [
       "                      1. open   2. high    3. low  4. close 5. volume\n",
       "2020-11-18 18:35:00  133.2000  133.2000  133.2000  133.2000       256\n",
       "2020-11-18 16:05:00  133.2300  133.2300  133.2300  133.2300     29443\n",
       "2020-11-18 16:00:00  133.3500  133.6000  133.1900  133.2400    143097\n",
       "2020-11-18 15:55:00  133.5200  133.6300  133.3300  133.3400     97197\n",
       "2020-11-18 15:50:00  133.1500  133.7299  133.1000  133.5300     69832"
      ]
     },
     "execution_count": 80,
     "metadata": {},
     "output_type": "execute_result"
    }
   ],
   "source": []
  },
  {
   "cell_type": "code",
   "execution_count": 82,
   "metadata": {
    "scrolled": true
   },
   "outputs": [
    {
     "data": {
      "text/plain": [
       "DatetimeIndex(['2020-11-18 18:35:00', '2020-11-18 16:05:00',\n",
       "               '2020-11-18 16:00:00', '2020-11-18 15:55:00',\n",
       "               '2020-11-18 15:50:00'],\n",
       "              dtype='datetime64[ns]', freq=None)"
      ]
     },
     "execution_count": 82,
     "metadata": {},
     "output_type": "execute_result"
    }
   ],
   "source": []
  },
  {
   "cell_type": "code",
   "execution_count": 83,
   "metadata": {},
   "outputs": [
    {
     "data": {
      "image/png": "[encoded data removed]",
      "text/plain": [
       "<Figure size 432x288 with 1 Axes>"
      ]
     },
     "metadata": {
      "needs_background": "light"
     },
     "output_type": "display_data"
    }
   ],
   "source": [
    "# Plot the closing price\n"
   ]
  },
  {
   "cell_type": "code",
   "execution_count": 84,
   "metadata": {},
   "outputs": [
    {
     "data": {
      "text/plain": [
       "200"
      ]
     },
     "execution_count": 84,
     "metadata": {},
     "output_type": "execute_result"
    }
   ],
   "source": [
    "# Let's build out this request again - daily stock prices this time\n",
    "# This is a very common format for pure API requests to come in\n"
   ]
  },
  {
   "cell_type": "code",
   "execution_count": 87,
   "metadata": {},
   "outputs": [
    {
     "data": {
      "text/html": [
       "<div>\n",
       "<style scoped>\n",
       "    .dataframe tbody tr th:only-of-type {\n",
       "        vertical-align: middle;\n",
       "    }\n",
       "\n",
       "    .dataframe tbody tr th {\n",
       "        vertical-align: top;\n",
       "    }\n",
       "\n",
       "    .dataframe thead th {\n",
       "        text-align: right;\n",
       "    }\n",
       "</style>\n",
       "<table border=\"1\" class=\"dataframe\">\n",
       "  <thead>\n",
       "    <tr style=\"text-align: right;\">\n",
       "      <th></th>\n",
       "      <th>1. open</th>\n",
       "      <th>2. high</th>\n",
       "      <th>3. low</th>\n",
       "      <th>4. close</th>\n",
       "      <th>5. volume</th>\n",
       "    </tr>\n",
       "  </thead>\n",
       "  <tbody>\n",
       "    <tr>\n",
       "      <th>2020-11-18</th>\n",
       "      <td>448.3500</td>\n",
       "      <td>496.0000</td>\n",
       "      <td>443.5001</td>\n",
       "      <td>486.6400</td>\n",
       "      <td>78044024</td>\n",
       "    </tr>\n",
       "    <tr>\n",
       "      <th>2020-11-17</th>\n",
       "      <td>460.1700</td>\n",
       "      <td>462.0000</td>\n",
       "      <td>433.0100</td>\n",
       "      <td>441.6100</td>\n",
       "      <td>61188281</td>\n",
       "    </tr>\n",
       "    <tr>\n",
       "      <th>2020-11-16</th>\n",
       "      <td>408.9300</td>\n",
       "      <td>412.4500</td>\n",
       "      <td>404.0868</td>\n",
       "      <td>408.0900</td>\n",
       "      <td>26838635</td>\n",
       "    </tr>\n",
       "    <tr>\n",
       "      <th>2020-11-13</th>\n",
       "      <td>410.8500</td>\n",
       "      <td>412.5319</td>\n",
       "      <td>401.6600</td>\n",
       "      <td>408.5000</td>\n",
       "      <td>19830351</td>\n",
       "    </tr>\n",
       "    <tr>\n",
       "      <th>2020-11-12</th>\n",
       "      <td>415.0500</td>\n",
       "      <td>423.0000</td>\n",
       "      <td>409.5200</td>\n",
       "      <td>411.7600</td>\n",
       "      <td>19940500</td>\n",
       "    </tr>\n",
       "  </tbody>\n",
       "</table>\n",
       "</div>"
      ],
      "text/plain": [
       "             1. open   2. high    3. low  4. close 5. volume\n",
       "2020-11-18  448.3500  496.0000  443.5001  486.6400  78044024\n",
       "2020-11-17  460.1700  462.0000  433.0100  441.6100  61188281\n",
       "2020-11-16  408.9300  412.4500  404.0868  408.0900  26838635\n",
       "2020-11-13  410.8500  412.5319  401.6600  408.5000  19830351\n",
       "2020-11-12  415.0500  423.0000  409.5200  411.7600  19940500"
      ]
     },
     "execution_count": 87,
     "metadata": {},
     "output_type": "execute_result"
    }
   ],
   "source": []
  },
  {
   "cell_type": "code",
   "execution_count": 89,
   "metadata": {},
   "outputs": [
    {
     "data": {
      "image/png": "[encoded data removed]",
      "text/plain": [
       "<Figure size 432x288 with 1 Axes>"
      ]
     },
     "metadata": {
      "needs_background": "light"
     },
     "output_type": "display_data"
    }
   ],
   "source": [
    "# Plot the closing price of Tesla\n"
   ]
  },
  {
   "cell_type": "markdown",
   "metadata": {},
   "source": [
    "### Challenge\n",
    "Write your own function that inputs a ticker symbol and outputs the above."
   ]
  },
  {
   "cell_type": "code",
   "execution_count": 92,
   "metadata": {},
   "outputs": [],
   "source": [
    "def get_stock_data(ticker):\n"
   ]
  },
  {
   "cell_type": "code",
   "execution_count": 93,
   "metadata": {},
   "outputs": [
    {
     "data": {
      "text/html": [
       "<div>\n",
       "<style scoped>\n",
       "    .dataframe tbody tr th:only-of-type {\n",
       "        vertical-align: middle;\n",
       "    }\n",
       "\n",
       "    .dataframe tbody tr th {\n",
       "        vertical-align: top;\n",
       "    }\n",
       "\n",
       "    .dataframe thead th {\n",
       "        text-align: right;\n",
       "    }\n",
       "</style>\n",
       "<table border=\"1\" class=\"dataframe\">\n",
       "  <thead>\n",
       "    <tr style=\"text-align: right;\">\n",
       "      <th></th>\n",
       "      <th>1. open</th>\n",
       "      <th>2. high</th>\n",
       "      <th>3. low</th>\n",
       "      <th>4. close</th>\n",
       "      <th>5. volume</th>\n",
       "    </tr>\n",
       "  </thead>\n",
       "  <tbody>\n",
       "    <tr>\n",
       "      <th>2020-11-18</th>\n",
       "      <td>132.0000</td>\n",
       "      <td>137.0100</td>\n",
       "      <td>132.0000</td>\n",
       "      <td>134.0100</td>\n",
       "      <td>7279939</td>\n",
       "    </tr>\n",
       "    <tr>\n",
       "      <th>2020-11-17</th>\n",
       "      <td>126.6166</td>\n",
       "      <td>129.9700</td>\n",
       "      <td>126.1574</td>\n",
       "      <td>129.9000</td>\n",
       "      <td>2845617</td>\n",
       "    </tr>\n",
       "    <tr>\n",
       "      <th>2020-11-16</th>\n",
       "      <td>126.3000</td>\n",
       "      <td>127.9500</td>\n",
       "      <td>121.5300</td>\n",
       "      <td>127.1500</td>\n",
       "      <td>5256742</td>\n",
       "    </tr>\n",
       "    <tr>\n",
       "      <th>2020-11-13</th>\n",
       "      <td>130.2900</td>\n",
       "      <td>130.4190</td>\n",
       "      <td>123.2501</td>\n",
       "      <td>124.7400</td>\n",
       "      <td>5342966</td>\n",
       "    </tr>\n",
       "    <tr>\n",
       "      <th>2020-11-12</th>\n",
       "      <td>129.4700</td>\n",
       "      <td>132.4170</td>\n",
       "      <td>126.8800</td>\n",
       "      <td>128.9000</td>\n",
       "      <td>6389754</td>\n",
       "    </tr>\n",
       "  </tbody>\n",
       "</table>\n",
       "</div>"
      ],
      "text/plain": [
       "             1. open   2. high    3. low  4. close 5. volume\n",
       "2020-11-18  132.0000  137.0100  132.0000  134.0100   7279939\n",
       "2020-11-17  126.6166  129.9700  126.1574  129.9000   2845617\n",
       "2020-11-16  126.3000  127.9500  121.5300  127.1500   5256742\n",
       "2020-11-13  130.2900  130.4190  123.2501  124.7400   5342966\n",
       "2020-11-12  129.4700  132.4170  126.8800  128.9000   6389754"
      ]
     },
     "execution_count": 93,
     "metadata": {},
     "output_type": "execute_result"
    }
   ],
   "source": [
    "beyond = get_stock_data(\"BYND\")\n",
    "beyond.head()"
   ]
  },
  {
   "cell_type": "markdown",
   "metadata": {},
   "source": [
    "### Did this feel like a lot of work? You're not alone.\n",
    "For web APIs such as these, open sourcerers (ordinary programmers like you and me!) like to build language-specific **API wrappers** to easier call the API. Interestingly, based on our very vague definition of APIs, API wrappers are also themselves APIs!\n",
    "\n",
    "Alpha Vantage has a Python API wrapper made by user `RomelTorres` [here](https://github.com/RomelTorres/alpha_vantage)!\n",
    "\n",
    "![](imgs/opensource.jpg)"
   ]
  },
  {
   "cell_type": "markdown",
   "metadata": {},
   "source": [
    "## You want data? You got data.\n",
    "\n",
    "### Key Takeaway #1: Your favorite thing has a free API\n",
    "* **Stock prices**: [Alpha Vantage](https://github.com/RomelTorres/alpha_vantage)\n",
    "* **Cryptocurrency prices**: [ccxt](https://github.com/ccxt/ccxt) provides a unified API for several cryptocurrency markets. You can even buy and sell crypto from within Python!\n",
    "* **Weather**: [OpenWeather](https://openweathermap.org/api)\n",
    "\n",
    "### Key Takeaway #2: Your favorite website has a free API\n",
    "Below is a brief list of websites that have a free API. Note that \"free\" here means \"zero-cost\", not \"permissive and easy to use.\" APIs can be abused. Not all Twitter bots are friendly like [Every Sheriff Bot](https://twitter.com/EverySheriff).\n",
    "* Twitter\n",
    "* Reddit\n",
    "* Yelp\n",
    "* Twitch\n",
    "* Facebook/Instagram\n",
    "* GitHub (yes, even GitHub!)\n",
    "* Most Google services\n",
    "* Spotify\n",
    "* Slack (no, you can't have a key.)"
   ]
  },
  {
   "cell_type": "markdown",
   "metadata": {},
   "source": [
    "## Conclusion & Summary\n",
    "Today, we\n",
    "* Learned how HTTP works and\n",
    "* How we can make HTTP requests from the Python (and also the CL a little)\n",
    "* How to read API documentation and get the data we want from the internet"
   ]
  },
  {
   "cell_type": "code",
   "execution_count": null,
   "metadata": {},
   "outputs": [],
   "source": []
  }
 ],
 "metadata": {
  "kernelspec": {
   "display_name": "Python 3",
   "language": "python",
   "name": "python3"
  },
  "language_info": {
   "codemirror_mode": {
    "name": "ipython",
    "version": 3
   },
   "file_extension": ".py",
   "mimetype": "text/x-python",
   "name": "python",
   "nbconvert_exporter": "python",
   "pygments_lexer": "ipython3",
   "version": "3.8.5"
  }
 },
 "nbformat": 4,
 "nbformat_minor": 4
}
