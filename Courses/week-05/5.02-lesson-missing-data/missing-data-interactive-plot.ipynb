{
 "cells": [
  {
   "cell_type": "markdown",
   "metadata": {},
   "source": [
    "<img src=\"http://imgur.com/1ZcRyrc.png\" style=\"float: left; margin: 20px; height: 55px\">\n",
    "\n",
    "# Missing Data Interactive Plot\n",
    "\n",
    "_Author: Matt Brems_\n",
    "\n",
    "---"
   ]
  },
  {
   "cell_type": "code",
   "execution_count": 1,
   "metadata": {},
   "outputs": [],
   "source": [
    "# Imports\n",
    "import numpy as np\n",
    "import pandas as pd\n",
    "import matplotlib.pyplot as plt\n",
    "from sklearn.linear_model import LinearRegression\n",
    "\n",
    "# To allow interactive plot.\n",
    "import ipywidgets\n",
    "from IPython.display import display"
   ]
  },
  {
   "cell_type": "code",
   "execution_count": 2,
   "metadata": {},
   "outputs": [],
   "source": [
    "# Generate data and store in a dataframe.\n",
    "\n",
    "np.random.seed(42)\n",
    "\n",
    "age = np.random.uniform(20, 60, size = 100)\n",
    "income = 15000 + 750 * age + np.random.normal(0, 20000, size = 100)\n",
    "income = [i if i >= 0 else 0 for i in income]\n",
    "\n",
    "df = pd.DataFrame({'income':income,\n",
    "                   'age': age})"
   ]
  },
  {
   "cell_type": "code",
   "execution_count": 3,
   "metadata": {},
   "outputs": [],
   "source": [
    "# Create function to model missingness according to certain patterns.\n",
    "\n",
    "def create_missing(missing_type, df, missing_column = 'income', depends_on = 'age', p_missing = 0.01, random_state = 42):\n",
    "    \"\"\"\n",
    "    Creates missingness indicator column, where data are MCAR (missing completely at random), MAR (missing at random), or NMAR (not missing at random).\n",
    "    \n",
    "    User must specify:\n",
    "        missing type = the type of missingness ('mcar', 'mar', or 'nmar')\n",
    "        df = the pandas DataFrame the user wants to read in for analysis\n",
    "        missing_column = the name of the column in df that is missing\n",
    "        depends_on = the name of the column in df which affects the missingness\n",
    "        p_missing = the proportion of observations that are missing\n",
    "        \n",
    "    Function returns:\n",
    "        mcar_column = a column that indicates whether data are missing, assuming MCAR\n",
    "        mar_column = a column that indicates whether data are missing, assuming MAR\n",
    "        nmar_column = a column that indicates whether data are missing, assuming NMAR\n",
    "    \"\"\"\n",
    "    np.random.seed(random_state)\n",
    "    \n",
    "    # MCAR:\n",
    "    if missing_type == 'mcar':\n",
    "        mcar_indices = [df.sample(n = 1).index[0] for i in range(round(p_missing * df.shape[0]))]\n",
    "\n",
    "        while len(set(mcar_indices)) < round(p_missing * df.shape[0]):\n",
    "            mcar_indices.append(df.sample(n = 1).index[0])\n",
    "\n",
    "        mcar_column = [1 if i in mcar_indices else 0 for i in range(df.shape[0])]\n",
    "\n",
    "        return mcar_column\n",
    "    \n",
    "    # MAR:\n",
    "    elif missing_type == 'mar':\n",
    "        mar_indices = [df.sample(n = 1, weights = df[depends_on] ** -1).index[0] for i in range(round(p_missing * df.shape[0]))]\n",
    "\n",
    "        while len(set(mar_indices)) < round(p_missing * df.shape[0]):\n",
    "            mar_indices.append(df.sample(n = 1, weights = df[depends_on] ** -1).index[0])\n",
    "\n",
    "        mar_column = [1 if i in mar_indices else 0 for i in range(df.shape[0])]\n",
    "\n",
    "        return mar_column\n",
    "    \n",
    "    # NMAR:\n",
    "    else:\n",
    "        nmar_indices = [df.sample(n = 1, weights = df[missing_column] ** -1).index[0] for i in range(round(p_missing * df.shape[0]))]\n",
    "\n",
    "        while len(set(nmar_indices)) < round(p_missing * df.shape[0]):\n",
    "            nmar_indices.append(df.sample(n = 1, weights = df[missing_column] ** -1).index[0])\n",
    "\n",
    "        nmar_column = [1 if i in nmar_indices else 0 for i in range(df.shape[0])]\n",
    "\n",
    "        return nmar_column"
   ]
  },
  {
   "cell_type": "code",
   "execution_count": 4,
   "metadata": {},
   "outputs": [],
   "source": [
    "def generate_scatterplot(p_missing, missing_type, missing_column = 'income', depends_on = 'age'):\n",
    "    # Generate one plot.\n",
    "    fig, ax = plt.subplots(nrows = 1, ncols = 1, figsize = (16,9))\n",
    "\n",
    "    # Set labels and axes.\n",
    "    ax.set_xlabel(\"Age\", position = (0,0), ha = 'left', fontsize = 25, color = 'grey', alpha = 0.85)\n",
    "    ax.set_ylabel(\"Income\", position = (0,1), ha = 'right', va = 'top', fontsize = 25, rotation = 0, color = 'grey', alpha = 0.85)\n",
    "    \n",
    "    ax.set_ylim([-1000, 100000])\n",
    "    \n",
    "    # Generate data with proportion p missing.\n",
    "    df['missingness'] = create_missing(missing_type, df, missing_column = missing_column, depends_on = depends_on, p_missing = p_missing)\n",
    "    \n",
    "    # Generate scatterplot.\n",
    "    ax.scatter(df['age'][df['missingness'] == 0], df['income'][df['missingness'] == 0], s = 35, color = '#185fad', alpha = 0.75, label = 'Observed')\n",
    "    ax.scatter(df['age'][df['missingness'] == 1], df['income'][df['missingness'] == 1], s = 35, color = 'grey', alpha = 0.25, label = '')\n",
    "    \n",
    "    # Generate lines of best fit based on observed and missing values.\n",
    "    x = np.linspace(20, 60)\n",
    "    ax.plot(x, 15000 + 750 * x, c = 'orange', alpha = 0.7, label = '\"True\" Line', lw = 3)\n",
    "    model = LinearRegression().fit(df[['age']][df['missingness'] == 0], df['income'][df['missingness'] == 0])\n",
    "    ax.plot(x, model.intercept_ + model.coef_ * x, c = '#185fad', alpha = 0.7, label='Observed Line', lw = 3)\n",
    "\n",
    "    # Generate title and legend.\n",
    "    ax.set_title(f'Type of Missing Data: {missing_type} \\nProportion Missing: {p_missing}', position = (0,1), ha = 'left', fontsize = 25)\n",
    "    ax.legend(prop={'size': 20}, loc = 2)\n",
    "    \n",
    "    ax.set_xticks([])\n",
    "    ax.set_yticks([])\n",
    "    plt.show();"
   ]
  },
  {
   "cell_type": "code",
   "execution_count": 5,
   "metadata": {
    "scrolled": false
   },
   "outputs": [
    {
     "data": {
      "application/vnd.jupyter.widget-view+json": {
       "model_id": "b657e6647a8b4238b4106d6e98b24372",
       "version_major": 2,
       "version_minor": 0
      },
      "text/plain": [
       "interactive(children=(FloatSlider(value=0.0, description='p_missing', max=0.99, step=0.05), Dropdown(descripti…"
      ]
     },
     "metadata": {},
     "output_type": "display_data"
    }
   ],
   "source": [
    "def plot_interact(p_missing = 0, missing_type = 'mcar'):\n",
    "    generate_scatterplot(p_missing, missing_type, missing_column = 'income', depends_on = 'age')\n",
    "    \n",
    "ipywidgets.interact(plot_interact, p_missing = (0, 0.99, 0.05), missing_type = ['mcar','mar','nmar']);"
   ]
  },
  {
   "cell_type": "code",
   "execution_count": null,
   "metadata": {},
   "outputs": [],
   "source": []
  }
 ],
 "metadata": {
  "kernelspec": {
   "display_name": "Python 3",
   "language": "python",
   "name": "python3"
  },
  "language_info": {
   "codemirror_mode": {
    "name": "ipython",
    "version": 3
   },
   "file_extension": ".py",
   "mimetype": "text/x-python",
   "name": "python",
   "nbconvert_exporter": "python",
   "pygments_lexer": "ipython3",
   "version": "3.8.5"
  }
 },
 "nbformat": 4,
 "nbformat_minor": 2
}
