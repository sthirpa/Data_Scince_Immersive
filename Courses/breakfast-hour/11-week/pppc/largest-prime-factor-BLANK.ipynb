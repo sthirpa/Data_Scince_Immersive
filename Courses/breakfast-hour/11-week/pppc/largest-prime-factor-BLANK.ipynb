{
 "cells": [
  {
   "cell_type": "markdown",
   "id": "db9ed4c0-25ec-4315-bcb5-7e886e582d37",
   "metadata": {},
   "source": [
    "Solution from: https://www.w3resource.com/python-exercises/challenges/1/python-challenges-1-exercise-35.php\n",
    "Question from the Euler Project: https://projecteuler.net/problem=3\n",
    "\n",
    "The prime factors of 13195 are 5, 7, 13 and 29.\n",
    "\n",
    "Define a function that takes in a number, n, and returns the largest prime factor. A prime number is a positive integer divisible only by 1 and itself.\n",
    "Challenge: Optimize your code so you can find the largest prime factor of 600851475143!\n",
    "\n",
    "`largest_prime_factor(13195) = 29`\n",
    "\n",
    "`largest_prime_factor(330) = 11`\n",
    "\n",
    "`largest_prime_factor(1) = 'Please input a number greater than 1'`\n",
    "\n",
    "`largest_prime_factor(2) = 2`"
   ]
  },
  {
   "cell_type": "code",
   "execution_count": null,
   "id": "012e189e-0b2b-4df3-b315-b74da5be5e85",
   "metadata": {},
   "outputs": [],
   "source": [
    "def largest_prime_factor(n):\n",
    "    pass"
   ]
  },
  {
   "cell_type": "code",
   "execution_count": null,
   "id": "a22e5441-5e26-4fce-9b83-2614ed8b901b",
   "metadata": {},
   "outputs": [],
   "source": [
    "assert(largest_prime_factor(13195) == 29)"
   ]
  }
 ],
 "metadata": {
  "kernelspec": {
   "display_name": "Python [conda env:dsi-111]",
   "language": "python",
   "name": "conda-env-dsi-111-py"
  },
  "language_info": {
   "codemirror_mode": {
    "name": "ipython",
    "version": 3
   },
   "file_extension": ".py",
   "mimetype": "text/x-python",
   "name": "python",
   "nbconvert_exporter": "python",
   "pygments_lexer": "ipython3",
   "version": "3.8.12"
  }
 },
 "nbformat": 4,
 "nbformat_minor": 5
}
