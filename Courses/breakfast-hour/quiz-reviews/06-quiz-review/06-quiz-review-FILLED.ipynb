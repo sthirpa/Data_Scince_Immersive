{
 "cells": [
  {
   "cell_type": "markdown",
   "id": "b0f01471-5f74-43f2-91c6-6a8dbd48effe",
   "metadata": {},
   "source": [
    "# Numbers as Strings"
   ]
  },
  {
   "cell_type": "code",
   "execution_count": 1,
   "id": "6ffc7a1e-5811-43df-8899-16ec2e8d88b9",
   "metadata": {},
   "outputs": [],
   "source": [
    "number_string = '123456789'"
   ]
  },
  {
   "cell_type": "markdown",
   "id": "04f01ca2-a32c-4a28-b334-d48a48e33a3a",
   "metadata": {},
   "source": [
    "#### Return the number 5"
   ]
  },
  {
   "cell_type": "code",
   "execution_count": 2,
   "id": "bbbdf38c-faf9-4226-9bef-4ce34318e085",
   "metadata": {},
   "outputs": [
    {
     "data": {
      "text/plain": [
       "5"
      ]
     },
     "execution_count": 2,
     "metadata": {},
     "output_type": "execute_result"
    }
   ],
   "source": [
    "int(number_string[4])"
   ]
  },
  {
   "cell_type": "markdown",
   "id": "96e7e057-4549-406b-91b7-3cfafd02501d",
   "metadata": {},
   "source": [
    "#### Return the number 456"
   ]
  },
  {
   "cell_type": "code",
   "execution_count": 3,
   "id": "d6395154-8548-4632-8232-831523c86b38",
   "metadata": {},
   "outputs": [
    {
     "data": {
      "text/plain": [
       "456"
      ]
     },
     "execution_count": 3,
     "metadata": {},
     "output_type": "execute_result"
    }
   ],
   "source": [
    "int(number_string[3:6])"
   ]
  },
  {
   "cell_type": "markdown",
   "id": "aa7e151c-b55e-434f-8e3d-d582bb04fee8",
   "metadata": {},
   "source": [
    "#### Return the number 159"
   ]
  },
  {
   "cell_type": "code",
   "execution_count": 4,
   "id": "662de123-c5ad-449e-9a5b-896f9e76a93c",
   "metadata": {},
   "outputs": [
    {
     "data": {
      "text/plain": [
       "159"
      ]
     },
     "execution_count": 4,
     "metadata": {},
     "output_type": "execute_result"
    }
   ],
   "source": [
    "int(number_string[0] + number_string[4] + number_string[-1])"
   ]
  },
  {
   "cell_type": "markdown",
   "id": "3702dbd8-585a-43cd-aaf0-68b327860e17",
   "metadata": {},
   "source": [
    "#### What is the sum of the first and last character of the string?"
   ]
  },
  {
   "cell_type": "code",
   "execution_count": 5,
   "id": "c2647c6e-7d3b-4006-ba58-203995d5fe6a",
   "metadata": {},
   "outputs": [
    {
     "data": {
      "text/plain": [
       "10"
      ]
     },
     "execution_count": 5,
     "metadata": {},
     "output_type": "execute_result"
    }
   ],
   "source": [
    "# Using the sum method\n",
    "sum([int(number_string[0]), int(number_string[-1])])"
   ]
  },
  {
   "cell_type": "code",
   "execution_count": 6,
   "id": "dcd92bad-cf29-479e-8e3e-d7fd29f20a5b",
   "metadata": {},
   "outputs": [
    {
     "data": {
      "text/plain": [
       "10"
      ]
     },
     "execution_count": 6,
     "metadata": {},
     "output_type": "execute_result"
    }
   ],
   "source": [
    "# Adding the numbers individually\n",
    "int(number_string[0]) + int(number_string[-1])"
   ]
  },
  {
   "cell_type": "markdown",
   "id": "ff897a03-08c5-404c-b242-fe49b636bb86",
   "metadata": {},
   "source": [
    "#### What is the sum of the whole string?"
   ]
  },
  {
   "cell_type": "code",
   "execution_count": 7,
   "id": "f48f2ba5-53af-4304-93fc-783994161b37",
   "metadata": {},
   "outputs": [
    {
     "data": {
      "text/plain": [
       "45"
      ]
     },
     "execution_count": 7,
     "metadata": {},
     "output_type": "execute_result"
    }
   ],
   "source": [
    "# Using for loop\n",
    "number_list = []\n",
    "for number in number_string:\n",
    "    number_list.append(int(number))\n",
    "    \n",
    "sum(number_list)"
   ]
  },
  {
   "cell_type": "code",
   "execution_count": 8,
   "id": "40458484-ced3-4e5f-9684-880e342454d1",
   "metadata": {},
   "outputs": [
    {
     "data": {
      "text/plain": [
       "45"
      ]
     },
     "execution_count": 8,
     "metadata": {},
     "output_type": "execute_result"
    }
   ],
   "source": [
    "# Using list comprehension\n",
    "sum([int(n) for n in number_string])"
   ]
  },
  {
   "cell_type": "markdown",
   "id": "2179085e-31e1-4f95-a9cf-fde91524a780",
   "metadata": {},
   "source": [
    "#### What is the product of the whole string?"
   ]
  },
  {
   "cell_type": "code",
   "execution_count": 9,
   "id": "1ae87254-7866-479c-b16c-bd9b63fa9342",
   "metadata": {},
   "outputs": [
    {
     "data": {
      "text/plain": [
       "362880"
      ]
     },
     "execution_count": 9,
     "metadata": {},
     "output_type": "execute_result"
    }
   ],
   "source": [
    "#Using numpy\n",
    "import numpy\n",
    "\n",
    "number_list = []\n",
    "for number in number_string:\n",
    "    number_list.append(int(number))\n",
    "    \n",
    "numpy.prod(number_list)"
   ]
  },
  {
   "cell_type": "code",
   "execution_count": 10,
   "id": "f0792206-ee18-4d64-a52a-f2bfd1468c29",
   "metadata": {},
   "outputs": [
    {
     "data": {
      "text/plain": [
       "362880"
      ]
     },
     "execution_count": 10,
     "metadata": {},
     "output_type": "execute_result"
    }
   ],
   "source": [
    "# Iterating through the list\n",
    "product = 1\n",
    "for number in number_string:\n",
    "    product *= int(number)\n",
    "\n",
    "product"
   ]
  },
  {
   "cell_type": "markdown",
   "id": "22e8128b-e5da-42d1-83a4-b4f0ac9b8f01",
   "metadata": {},
   "source": [
    "# Enumerate Method\n",
    "\n",
    "https://docs.python.org/3/library/functions.html#enumerate\n",
    "\n",
    "https://realpython.com/python-enumerate/"
   ]
  },
  {
   "cell_type": "code",
   "execution_count": 11,
   "id": "99035567-222a-4706-9be8-d1a5d943454e",
   "metadata": {},
   "outputs": [],
   "source": [
    "donut_list = ['chocolate frosted', 'maple bar', 'old fashioned', 'glazed twist', 'cinnamon twist', 'cruller', 'jelly', 'strawberry frosted', 'bear claw', 'hole']"
   ]
  },
  {
   "cell_type": "code",
   "execution_count": 12,
   "id": "469db219-6809-42a1-9a8b-352444f79d7f",
   "metadata": {},
   "outputs": [
    {
     "name": "stdout",
     "output_type": "stream",
     "text": [
      "0\n",
      "chocolate frosted\n",
      "\n",
      "1\n",
      "maple bar\n",
      "\n",
      "2\n",
      "old fashioned\n",
      "\n",
      "3\n",
      "glazed twist\n",
      "\n",
      "4\n",
      "cinnamon twist\n",
      "\n",
      "5\n",
      "cruller\n",
      "\n",
      "6\n",
      "jelly\n",
      "\n",
      "7\n",
      "strawberry frosted\n",
      "\n",
      "8\n",
      "bear claw\n",
      "\n",
      "9\n",
      "hole\n",
      "\n"
     ]
    }
   ],
   "source": [
    "for i, donut in enumerate(donut_list):\n",
    "    print(i)\n",
    "    print(donut)\n",
    "    print()"
   ]
  },
  {
   "cell_type": "markdown",
   "id": "6c9e9a60-dcd2-4abb-a4e2-128718e2817c",
   "metadata": {},
   "source": [
    "### Given the range of a number write a function that will return how many digits it take to find X odd numbers. If there are fewer than X odd numbers rerturn \"Fewer than X\"\n",
    "\n",
    "For example if given the number 100 and 5  how many numbers do you count through before you reach five odd numbers\n",
    "\n",
    "**1**, 2, **3**, 4, **5**, 6, **7**, 8, **9**\n",
    "\n",
    "You would go through 9 numbers"
   ]
  },
  {
   "cell_type": "code",
   "execution_count": 13,
   "id": "dab65d04-bcaf-4765-801c-d7d3bcf6a891",
   "metadata": {},
   "outputs": [],
   "source": [
    "def odd_counter(number):\n",
    "    pass"
   ]
  },
  {
   "cell_type": "code",
   "execution_count": 14,
   "id": "5090f620-e407-4762-9180-a219107fa508",
   "metadata": {},
   "outputs": [],
   "source": [
    "def odd_counter(number, odd):\n",
    "    count = 0\n",
    "    for i in range(number):\n",
    "        if i % 2 == 1:\n",
    "            count += 1\n",
    "        if count == odd:\n",
    "            return i\n",
    "    if count < odd:\n",
    "        return f\"Fewer than {odd}\""
   ]
  },
  {
   "cell_type": "code",
   "execution_count": 15,
   "id": "80aa9ab3-c16f-40a9-8776-d4bc90582d72",
   "metadata": {},
   "outputs": [],
   "source": [
    "assert(odd_counter(10, 5) == 9)"
   ]
  },
  {
   "cell_type": "code",
   "execution_count": 16,
   "id": "a3e04896-ce3e-40c6-99fa-ebc5d234ad8d",
   "metadata": {},
   "outputs": [],
   "source": [
    "assert(odd_counter(30, 20) == \"Fewer than 20\")"
   ]
  },
  {
   "cell_type": "code",
   "execution_count": 17,
   "id": "9b103f51-edf7-4e8c-b33f-7f9858411fc9",
   "metadata": {},
   "outputs": [],
   "source": [
    "assert(odd_counter(100, 30) == 59)"
   ]
  }
 ],
 "metadata": {
  "kernelspec": {
   "display_name": "Python 3 (ipykernel)",
   "language": "python",
   "name": "python3"
  },
  "language_info": {
   "codemirror_mode": {
    "name": "ipython",
    "version": 3
   },
   "file_extension": ".py",
   "mimetype": "text/x-python",
   "name": "python",
   "nbconvert_exporter": "python",
   "pygments_lexer": "ipython3",
   "version": "3.8.12"
  }
 },
 "nbformat": 4,
 "nbformat_minor": 5
}
