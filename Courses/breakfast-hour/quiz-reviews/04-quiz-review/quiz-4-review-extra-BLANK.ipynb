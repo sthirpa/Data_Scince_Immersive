{
 "cells": [
  {
   "cell_type": "markdown",
   "metadata": {},
   "source": [
    "### Level 1 - String Reverser\n",
    "\n",
    "From Code Wars https://www.codewars.com/kata/5168bb5dfe9a00b126000018\n",
    "\n",
    "Complete the solution so that it reverses the string passed into it.\n",
    "\n",
    "```\n",
    "'world'  =>  'dlrow'\n",
    "```"
   ]
  },
  {
   "cell_type": "code",
   "execution_count": null,
   "metadata": {},
   "outputs": [],
   "source": [
    "def reverser(string):\n",
    "    pass"
   ]
  },
  {
   "cell_type": "code",
   "execution_count": null,
   "metadata": {},
   "outputs": [],
   "source": [
    "assert(reverser('world') == 'dlrow')"
   ]
  },
  {
   "cell_type": "code",
   "execution_count": null,
   "metadata": {},
   "outputs": [],
   "source": [
    "assert(reverser('Ahoy Matey!') == '!yetaM yohA')"
   ]
  },
  {
   "cell_type": "markdown",
   "metadata": {},
   "source": [
    "---"
   ]
  },
  {
   "cell_type": "markdown",
   "metadata": {},
   "source": [
    "### Level 2 - Factorial Calculator\n",
    "\n",
    "From Code Wars https://www.codewars.com/kata/54f0d5447872e8ce9f00013d\n",
    "\n",
    "The factorial of a number, n!, is defined for whole numbers as the product of all integers from 1 to n.\n",
    "\n",
    "For example, 5! is 5 * 4 * 3 * 2 * 1 = 120\n",
    "\n",
    "Most factorial implementations use a recursive function to determine the value of factorial(n). However, this blows up the stack for large values of n - most systems cannot handle stack depths much greater than 2000 levels.\n",
    "\n",
    "Write an implementation to calculate the factorial of arbitrarily large numbers, without recursion.\n",
    "Rules\n",
    "\n",
    "    n < 0 should return nil/ None\n",
    "    n = 0 should return 1\n",
    "    n > 0 should return n!\n"
   ]
  },
  {
   "cell_type": "code",
   "execution_count": null,
   "metadata": {},
   "outputs": [],
   "source": [
    "def factorial(n):\n",
    "    pass"
   ]
  },
  {
   "cell_type": "code",
   "execution_count": null,
   "metadata": {},
   "outputs": [],
   "source": [
    "assert(factorial(5) == 120)"
   ]
  },
  {
   "cell_type": "code",
   "execution_count": null,
   "metadata": {},
   "outputs": [],
   "source": [
    "assert(factorial(-1) == None)"
   ]
  },
  {
   "cell_type": "code",
   "execution_count": null,
   "metadata": {},
   "outputs": [],
   "source": [
    "assert(factorial(0) == 1)"
   ]
  },
  {
   "cell_type": "markdown",
   "metadata": {},
   "source": [
    "---"
   ]
  },
  {
   "cell_type": "markdown",
   "metadata": {},
   "source": [
    "### 3 - Simple Pig Latin\n",
    "\n",
    "From Code Wars https://www.codewars.com/kata/520b9d2ad5c005041100000f\n",
    "\n",
    "Move the first letter of each word to the end of it, then add \"ay\" to the end of the word. Leave punctuation marks untouched. For this exercise all punctuation will be spaced from a word.\n",
    "Examples\n",
    "\n",
    "```\n",
    "pig_it('Pig latin is cool') # igPay atinlay siay oolcay\n",
    "pig_it('Hello world !')     # elloHay orldway !\n",
    "```\n",
    "\n",
    "Check out ```.isalpha()``` for some ideas on how to check for punctuation https://docs.python.org/3/library/stdtypes.html"
   ]
  },
  {
   "cell_type": "code",
   "execution_count": null,
   "metadata": {},
   "outputs": [],
   "source": [
    "def pig_latinizer(string):\n",
    "    pass"
   ]
  },
  {
   "cell_type": "code",
   "execution_count": null,
   "metadata": {},
   "outputs": [],
   "source": [
    "assert(pig_latinizer('Donuts are great !') == 'onutsDay reaay reatgay !')"
   ]
  },
  {
   "cell_type": "code",
   "execution_count": null,
   "metadata": {},
   "outputs": [],
   "source": [
    "assert(pig_latinizer('tacocat is a palindrome of tacocat') == 'acocattay siay aay alindromepay foay acocattay')"
   ]
  }
 ],
 "metadata": {
  "kernelspec": {
   "display_name": "Python 3",
   "language": "python",
   "name": "python3"
  },
  "language_info": {
   "codemirror_mode": {
    "name": "ipython",
    "version": 3
   },
   "file_extension": ".py",
   "mimetype": "text/x-python",
   "name": "python",
   "nbconvert_exporter": "python",
   "pygments_lexer": "ipython3",
   "version": "3.8.5"
  }
 },
 "nbformat": 4,
 "nbformat_minor": 4
}
