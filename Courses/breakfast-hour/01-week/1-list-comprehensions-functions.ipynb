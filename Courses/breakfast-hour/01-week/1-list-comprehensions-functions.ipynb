{
 "cells": [
  {
   "cell_type": "markdown",
   "metadata": {},
   "source": [
    "# Day 4: Python Review - List Comprehensions & Functions\n",
    "_Authors: Kelly Slatery, Sara Soueidan_"
   ]
  },
  {
   "cell_type": "markdown",
   "metadata": {},
   "source": [
    "## Warm-Ups (in Slack)"
   ]
  },
  {
   "cell_type": "markdown",
   "metadata": {},
   "source": [
    "#### 1. Why are functions useful?"
   ]
  },
  {
   "cell_type": "markdown",
   "metadata": {},
   "source": [
    "_**Answer:**_ "
   ]
  },
  {
   "cell_type": "markdown",
   "metadata": {},
   "source": [
    "#### 2. In relation to functions, what is the difference between a parameter and an argument?"
   ]
  },
  {
   "cell_type": "markdown",
   "metadata": {},
   "source": [
    "**_Answer:_**  \n"
   ]
  },
  {
   "cell_type": "markdown",
   "metadata": {},
   "source": [
    "#### 3. Write a for loop or list comprehension that returns a list of only names that start with \"M\". \n",
    "_Hint: your code should ignore the letter case (case-agnostic)_\n",
    "\n",
    "* `class_roster = ['Will', 'Young', 'billy', 'mike', 'Bree', 'manny', 'Max']` → `['mike', 'manny', 'Max']`"
   ]
  },
  {
   "cell_type": "code",
   "execution_count": null,
   "metadata": {},
   "outputs": [],
   "source": [
    "# Answer\n",
    "class_roster = ['Will', 'Young', 'billy', 'mike', 'Bree', 'manny', 'Max']\n",
    "m_names = []\n",
    "for person in class_roster:\n",
    "    # Your code here\n",
    "    \n",
    "m_names"
   ]
  },
  {
   "cell_type": "markdown",
   "metadata": {},
   "source": [
    "## Slides"
   ]
  },
  {
   "cell_type": "markdown",
   "metadata": {},
   "source": [
    "[Loops & Comprehensions Review]()"
   ]
  },
  {
   "cell_type": "markdown",
   "metadata": {},
   "source": [
    "## Breakout Room Exercises"
   ]
  },
  {
   "cell_type": "markdown",
   "metadata": {},
   "source": [
    "**Functions**"
   ]
  },
  {
   "cell_type": "markdown",
   "metadata": {},
   "source": [
    "Create a function that takes a list of non-negative integers and strings and returns a new list with the strings filtered out.\n",
    "  * `[1,2,'a','b']` → `[1,2]`\n",
    "  * `[1,'a','b',0,15])` → `[1,0,15]`\n",
    "  * `[1,2,'aasf','1','123',123]` → `[1,2,123]`"
   ]
  },
  {
   "cell_type": "code",
   "execution_count": null,
   "metadata": {},
   "outputs": [],
   "source": [
    "# Test lists\n",
    "test_list1 = [1,2,'a','b']\n",
    "test_list2 = [1, 2, 'a', 'b', 1.5, 3.0]\n",
    "test_list3 = [1,2,'a','3','five',6,8,10]"
   ]
  },
  {
   "cell_type": "code",
   "execution_count": null,
   "metadata": {},
   "outputs": [],
   "source": [
    "# Answer\n"
   ]
  },
  {
   "cell_type": "code",
   "execution_count": null,
   "metadata": {},
   "outputs": [],
   "source": [
    "print(filter_list(test_list1))\n",
    "print(filter_list(test_list2))\n",
    "print(filter_list(test_list3))"
   ]
  },
  {
   "cell_type": "markdown",
   "metadata": {},
   "source": [
    "**For Loops**"
   ]
  },
  {
   "cell_type": "markdown",
   "metadata": {},
   "source": [
    "Given this list of numbers write a for loop that returns the list of numbers rounded to the neareset integer (0.5 and above rounds up).\n",
    "* `[1.618, 2.3, 3.14159, 24.5, 87, 100.25]` → `[2, 2, 3, 25, 87, 100]`"
   ]
  },
  {
   "cell_type": "code",
   "execution_count": null,
   "metadata": {},
   "outputs": [],
   "source": [
    "# Test floats list\n",
    "test_floats = [1.618, 2.3, 3.14159, 24.5, 87, 100.25]"
   ]
  },
  {
   "cell_type": "code",
   "execution_count": null,
   "metadata": {},
   "outputs": [],
   "source": [
    "# Answer\n"
   ]
  },
  {
   "cell_type": "markdown",
   "metadata": {},
   "source": [
    "**List Comprehensions**"
   ]
  },
  {
   "cell_type": "markdown",
   "metadata": {},
   "source": [
    "Given a list of words, return a list of the length of each word.\n",
    "\n",
    "  * `[Apple, Cow, Hat, Snake, Trombone]` → `[5, 3, 3, 5, 8]`"
   ]
  },
  {
   "cell_type": "code",
   "execution_count": null,
   "metadata": {},
   "outputs": [],
   "source": [
    "# Test words list\n",
    "test_words = ['Apple', 'Cow', 'Hat', 'Snake', 'Trombone']"
   ]
  },
  {
   "cell_type": "code",
   "execution_count": null,
   "metadata": {},
   "outputs": [],
   "source": [
    "# Answer\n"
   ]
  },
  {
   "cell_type": "markdown",
   "metadata": {},
   "source": [
    "**Dictionary Comphrensions**"
   ]
  },
  {
   "cell_type": "markdown",
   "metadata": {},
   "source": [
    "Given a range of numbers, build a dictionary of all the even numbers and their squares in the range.\n",
    "\n",
    "   * `range(11)` → `{0: 0, 2: 4, 4: 16, 6: 36, 8: 64, 10: 100}`"
   ]
  },
  {
   "cell_type": "code",
   "execution_count": null,
   "metadata": {},
   "outputs": [],
   "source": [
    "# Use any range of numbers as your test range"
   ]
  },
  {
   "cell_type": "code",
   "execution_count": null,
   "metadata": {},
   "outputs": [],
   "source": [
    "# Answer\n"
   ]
  },
  {
   "cell_type": "markdown",
   "metadata": {},
   "source": [
    "## Extra Challenge Problem!!"
   ]
  },
  {
   "cell_type": "markdown",
   "metadata": {},
   "source": [
    "#### Write a dictionary comprehension that would swap all keys and values of your dictionary called *new_dict*."
   ]
  },
  {
   "cell_type": "code",
   "execution_count": null,
   "metadata": {},
   "outputs": [],
   "source": [
    "# Answer\n",
    "new_dict = {1:'a', 2:'b', 3:'c'}\n"
   ]
  },
  {
   "cell_type": "markdown",
   "metadata": {},
   "source": [
    "#### _Thought question:_ When would this not work?"
   ]
  },
  {
   "cell_type": "markdown",
   "metadata": {},
   "source": [
    "**_Answer:_** "
   ]
  },
  {
   "cell_type": "code",
   "execution_count": null,
   "metadata": {},
   "outputs": [],
   "source": []
  }
 ],
 "metadata": {
  "kernelspec": {
   "display_name": "Python 3",
   "language": "python",
   "name": "python3"
  },
  "language_info": {
   "codemirror_mode": {
    "name": "ipython",
    "version": 3
   },
   "file_extension": ".py",
   "mimetype": "text/x-python",
   "name": "python",
   "nbconvert_exporter": "python",
   "pygments_lexer": "ipython3",
   "version": "3.7.9"
  }
 },
 "nbformat": 4,
 "nbformat_minor": 4
}
