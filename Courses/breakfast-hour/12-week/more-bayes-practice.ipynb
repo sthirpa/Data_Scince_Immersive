{
 "cells": [
  {
   "cell_type": "markdown",
   "metadata": {},
   "source": [
    "<img src=\"http://imgur.com/1ZcRyrc.png\" style=\"float: left; margin: 20px; height: 55px\">\n",
    "\n",
    "# Intro to Bayes Theorem Practice\n",
    "_**Author**: Boom D. (DSI-NYC)_ \n",
    "***"
   ]
  },
  {
   "cell_type": "markdown",
   "metadata": {},
   "source": [
    "#### 1. Using your favorite example, explain what is Bayes Theorem?"
   ]
  },
  {
   "cell_type": "code",
   "execution_count": null,
   "metadata": {},
   "outputs": [],
   "source": []
  },
  {
   "cell_type": "markdown",
   "metadata": {},
   "source": [
    "#### 2. Liver Disease\n",
    "\n",
    "You're a data scientist for NYU Langone. You're interested in finding out a patient's probability of having liver disease if they are an alcoholic.\n",
    "\n",
    "Based on past data, 10% of patients entering the clinic have liver disease. Approximately 5% of the clinic's patients are alcoholics. Among those patients diagnosed with liver disease, 7% are alcoholics.\n",
    "\n",
    "(a) If the patient is an alcoholic, what are their chances of having liver disease? <br>\n",
    "(b) What piece is the prior probability? <br>\n",
    "(c) What piece is the likelihood? <br>\n",
    "(d) What piece is the marginal probability? <br>\n",
    "(e) What piece is the posterior probability? <br>"
   ]
  },
  {
   "cell_type": "code",
   "execution_count": null,
   "metadata": {},
   "outputs": [],
   "source": []
  },
  {
   "cell_type": "markdown",
   "metadata": {},
   "source": [
    "#### 3. Genetic Defects\n",
    "\n",
    "Suppose 1% of people have a certain genetic defect. 90% of tests for the gene actually detect the defect (true positives). 9.6% of the tests are false positives (false positive rate).\n",
    "\n",
    "If a person gets a positive test result, what is the probability that they actually have the genetic defect?"
   ]
  },
  {
   "cell_type": "code",
   "execution_count": null,
   "metadata": {},
   "outputs": [],
   "source": []
  },
  {
   "cell_type": "markdown",
   "metadata": {},
   "source": [
    "#### 4. Facebook Data Scientist Interview Question _(Challenge)_\n",
    "\n",
    "You're about to get on a plane to Seattle. You want to know  if you should bring an umbrella. You call 3 random friends of yours who live there and ask each independently if it's raining. Each of your friends has a $\\frac{2}{3}$ chance of telling you the truth and a $\\frac{1}{3}$ chance of messing with you by lying. All 3 friends tell you that \"Yes\" it is raining. Based on historical evidence, there is a 25% chance it is raining in any given time in Seattle. \n",
    "\n",
    "What is the probability that it's actually raining in Seattle right now (given that all 3 of your friends tell you 3 Yeses)?\n",
    "\n",
    "_You may assume that your friends are not colluding - some of them may be telling the truth, some of them could be lying, or all of them could be telling the truth, or all of them could be lying, etc._"
   ]
  },
  {
   "cell_type": "code",
   "execution_count": null,
   "metadata": {},
   "outputs": [],
   "source": []
  },
  {
   "cell_type": "markdown",
   "metadata": {},
   "source": [
    "_Source:_ Many of these problems are from [this website](https://www.statisticshowto.datasciencecentral.com/bayes-theorem-problems/) or GlassDoor"
   ]
  }
 ],
 "metadata": {
  "kernelspec": {
   "display_name": "Python 3",
   "language": "python",
   "name": "python3"
  },
  "language_info": {
   "codemirror_mode": {
    "name": "ipython",
    "version": 3
   },
   "file_extension": ".py",
   "mimetype": "text/x-python",
   "name": "python",
   "nbconvert_exporter": "python",
   "pygments_lexer": "ipython3",
   "version": "3.7.9"
  }
 },
 "nbformat": 4,
 "nbformat_minor": 4
}
