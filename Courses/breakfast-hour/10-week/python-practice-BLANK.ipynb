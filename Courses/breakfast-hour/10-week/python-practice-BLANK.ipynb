{
 "cells": [
  {
   "cell_type": "markdown",
   "metadata": {},
   "source": [
    "### Level 1"
   ]
  },
  {
   "cell_type": "markdown",
   "metadata": {},
   "source": [
    "From Codewars\n",
    "https://www.codewars.com/kata/55a2d7ebe362935a210000b2"
   ]
  },
  {
   "cell_type": "markdown",
   "metadata": {},
   "source": [
    "Given an array of integers your solution should find the smallest integer.\n",
    "\n",
    "For example:\n",
    "\n",
    "    Given [34, 15, 88, 2] your solution will return 2\n",
    "    Given [34, -345, -1, 100] your solution will return -345\n",
    "\n",
    "You can assume, for the purpose of this kata, that the supplied array will not be empty.\n"
   ]
  },
  {
   "cell_type": "code",
   "execution_count": null,
   "metadata": {},
   "outputs": [],
   "source": [
    "# For testing\n",
    "array1 = [78, 23, 232, 12, 4, 101]\n",
    "array2 = [78, 56, -2, 12, 8, -33]"
   ]
  },
  {
   "cell_type": "code",
   "execution_count": 1,
   "metadata": {},
   "outputs": [],
   "source": [
    "def find_smallest_int(arr):\n",
    "    pass"
   ]
  },
  {
   "cell_type": "code",
   "execution_count": 6,
   "metadata": {},
   "outputs": [],
   "source": [
    "assert(find_smallest_int([78, 56, 232, 12, 11, 43]) == 11)"
   ]
  },
  {
   "cell_type": "code",
   "execution_count": 7,
   "metadata": {},
   "outputs": [],
   "source": [
    "assert(find_smallest_int([78, 56, -2, 12, 8, -33]) == -33)"
   ]
  },
  {
   "cell_type": "code",
   "execution_count": 8,
   "metadata": {},
   "outputs": [],
   "source": [
    "assert(find_smallest_int([0, 1-2**64, 2**64]) == 1-2**64)"
   ]
  },
  {
   "cell_type": "markdown",
   "metadata": {},
   "source": [
    "---"
   ]
  },
  {
   "cell_type": "markdown",
   "metadata": {},
   "source": [
    "### Level 1 - Difference of Volumes of Cuboids\n",
    "\n",
    "From Codewars\n",
    "https://www.codewars.com/kata/58cb43f4256836ed95000f97/train/python\n",
    "\n",
    "In this simple exercise, you will create a program that will take two lists of integers, a and b. Each list will consist of 3 positive integers above 0, representing the dimensions of cuboids a and b. You must find the difference of the cuboids' volumes regardless of which is bigger.\n",
    "\n",
    "For example, if the parameters passed are ([2, 2, 3], [5, 4, 1]), the volume of a is 12 and the volume of b is 20. Therefore, the function should return 8.\n",
    "\n",
    "Your function will be tested with pre-made examples as well as random ones.\n",
    "\n",
    "**HARD MODE: Do it in one line**"
   ]
  },
  {
   "cell_type": "code",
   "execution_count": null,
   "metadata": {},
   "outputs": [],
   "source": [
    "# For testing\n",
    "a = [3, 7, 6]\n",
    "b = [5, 8, 2]"
   ]
  },
  {
   "cell_type": "code",
   "execution_count": 9,
   "metadata": {},
   "outputs": [],
   "source": [
    "# Method 1\n",
    "def find_difference(a, b):\n",
    "    pass"
   ]
  },
  {
   "cell_type": "code",
   "execution_count": 10,
   "metadata": {},
   "outputs": [],
   "source": [
    "assert(find_difference([3, 2, 5], [1, 4, 4]) == 14)"
   ]
  },
  {
   "cell_type": "code",
   "execution_count": 11,
   "metadata": {},
   "outputs": [],
   "source": [
    "assert(find_difference([9, 7, 2], [5, 2, 2]) == 106)"
   ]
  },
  {
   "cell_type": "markdown",
   "metadata": {},
   "source": [
    "---"
   ]
  },
  {
   "cell_type": "markdown",
   "metadata": {},
   "source": [
    "### Level 2 - Find the Stray Number\n",
    "\n",
    "From Codewars https://www.codewars.com/kata/57f609022f4d534f05000024\n",
    "\n",
    "You are given an odd-length array of integers, in which all of them are the same, except for one single number.\n",
    "\n",
    "Complete the method which accepts such an array, and returns that single different number.\n",
    "\n",
    "The input array will always be valid! (odd-length >= 3)"
   ]
  },
  {
   "cell_type": "code",
   "execution_count": 18,
   "metadata": {},
   "outputs": [],
   "source": [
    "# For testing\n",
    "list1 = [1, 1, 3, 5, 5]\n",
    "list2 = [21, 21, 56, 56, 21, 4]"
   ]
  },
  {
   "cell_type": "code",
   "execution_count": 12,
   "metadata": {},
   "outputs": [],
   "source": [
    "def stray(arr):\n",
    "    pass"
   ]
  },
  {
   "cell_type": "code",
   "execution_count": 16,
   "metadata": {},
   "outputs": [],
   "source": [
    "assert(stray([1, 1, 1, 1, 1, 1, 2]) == 2)"
   ]
  },
  {
   "cell_type": "code",
   "execution_count": 17,
   "metadata": {},
   "outputs": [],
   "source": [
    "assert(stray([2, 3, 2, 2, 2]) == 3)"
   ]
  },
  {
   "cell_type": "markdown",
   "metadata": {},
   "source": [
    "---"
   ]
  },
  {
   "cell_type": "markdown",
   "metadata": {},
   "source": [
    "### Level 3 - Dictionary Merge\n",
    "\n",
    "From Codewars https://www.codewars.com/kata/5ae840b8783bb4ef79000094\n",
    "\n",
    "Your task is to implement a function that takes one or more dictionaries and combines them in one result dictionary.\n",
    "\n",
    "The keys in the given dictionaries can overlap. In that case you should combine all source values in an array. Duplicate values should be preserved.\n",
    "\n",
    "Here is an example:\n",
    "```\n",
    "source1 = {\"A\": 1, \"B\": 2} \n",
    "source2 = {\"A\": 3}\n",
    "\n",
    "result = merge(source1, source2);\n",
    "// result should have this content: {\"A\": [1, 3]}, \"B\": [2]}\n",
    "```\n",
    "You can assume that only valid dictionaries are passed to your function. The number of given dictionaries might be large. So take care about performance.\n"
   ]
  },
  {
   "cell_type": "code",
   "execution_count": null,
   "metadata": {},
   "outputs": [],
   "source": [
    "# For Testing\n",
    "dict1 = [{\"A\": 1, \"B\": 2, \"C\": 3}, {\"A\":2}]"
   ]
  },
  {
   "cell_type": "code",
   "execution_count": 32,
   "metadata": {},
   "outputs": [],
   "source": [
    "def merge(dicts):\n",
    "    pass"
   ]
  },
  {
   "cell_type": "code",
   "execution_count": 33,
   "metadata": {},
   "outputs": [],
   "source": [
    "assert(merge([{},{},{}]) == {})"
   ]
  },
  {
   "cell_type": "code",
   "execution_count": 34,
   "metadata": {},
   "outputs": [],
   "source": [
    "assert(merge([{\"A\": 1, \"B\": 2, \"C\": 3}, {\"A\": 4, \"D\": 5}]) == {\"A\": [1, 4], \"B\": [2], \"C\": [3], \"D\": [5]})"
   ]
  }
 ],
 "metadata": {
  "kernelspec": {
   "display_name": "Python 3",
   "language": "python",
   "name": "python3"
  },
  "language_info": {
   "codemirror_mode": {
    "name": "ipython",
    "version": 3
   },
   "file_extension": ".py",
   "mimetype": "text/x-python",
   "name": "python",
   "nbconvert_exporter": "python",
   "pygments_lexer": "ipython3",
   "version": "3.8.5"
  }
 },
 "nbformat": 4,
 "nbformat_minor": 4
}
