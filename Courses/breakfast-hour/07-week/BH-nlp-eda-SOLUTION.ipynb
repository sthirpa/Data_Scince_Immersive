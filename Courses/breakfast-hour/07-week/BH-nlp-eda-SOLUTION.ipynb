{
 "cells": [
  {
   "cell_type": "markdown",
   "id": "766c4bae-bba5-49fb-9752-5a87106e089d",
   "metadata": {},
   "source": [
    "## Imports"
   ]
  },
  {
   "cell_type": "code",
   "execution_count": 1,
   "id": "c8d8bbc0",
   "metadata": {},
   "outputs": [],
   "source": [
    "# Imports\n",
    "import pandas as pd\n",
    "import matplotlib.pyplot as plt\n",
    "import seaborn as sns\n",
    "\n",
    "from sklearn.feature_extraction.text import CountVectorizer"
   ]
  },
  {
   "cell_type": "markdown",
   "id": "4190c2fd-9d45-46ff-ab36-fb41799b53fc",
   "metadata": {},
   "source": [
    "## Read in the data"
   ]
  },
  {
   "cell_type": "code",
   "execution_count": 2,
   "id": "0ef86902",
   "metadata": {},
   "outputs": [
    {
     "data": {
      "text/html": [
       "<div>\n",
       "<style scoped>\n",
       "    .dataframe tbody tr th:only-of-type {\n",
       "        vertical-align: middle;\n",
       "    }\n",
       "\n",
       "    .dataframe tbody tr th {\n",
       "        vertical-align: top;\n",
       "    }\n",
       "\n",
       "    .dataframe thead th {\n",
       "        text-align: right;\n",
       "    }\n",
       "</style>\n",
       "<table border=\"1\" class=\"dataframe\">\n",
       "  <thead>\n",
       "    <tr style=\"text-align: right;\">\n",
       "      <th></th>\n",
       "      <th>text</th>\n",
       "      <th>author</th>\n",
       "    </tr>\n",
       "  </thead>\n",
       "  <tbody>\n",
       "    <tr>\n",
       "      <th>0</th>\n",
       "      <td>SENSE AND SENSIBILITY</td>\n",
       "      <td>Jane Austen</td>\n",
       "    </tr>\n",
       "    <tr>\n",
       "      <th>1</th>\n",
       "      <td>by Jane Austen</td>\n",
       "      <td>Jane Austen</td>\n",
       "    </tr>\n",
       "    <tr>\n",
       "      <th>2</th>\n",
       "      <td>(1811)</td>\n",
       "      <td>Jane Austen</td>\n",
       "    </tr>\n",
       "    <tr>\n",
       "      <th>3</th>\n",
       "      <td>NaN</td>\n",
       "      <td>Jane Austen</td>\n",
       "    </tr>\n",
       "    <tr>\n",
       "      <th>4</th>\n",
       "      <td>CHAPTER 1</td>\n",
       "      <td>Jane Austen</td>\n",
       "    </tr>\n",
       "  </tbody>\n",
       "</table>\n",
       "</div>"
      ],
      "text/plain": [
       "                     text       author\n",
       "0   SENSE AND SENSIBILITY  Jane Austen\n",
       "1          by Jane Austen  Jane Austen\n",
       "2                  (1811)  Jane Austen\n",
       "3                     NaN  Jane Austen\n",
       "4               CHAPTER 1  Jane Austen"
      ]
     },
     "execution_count": 2,
     "metadata": {},
     "output_type": "execute_result"
    }
   ],
   "source": [
    "df = pd.read_csv('data/austen_poe.csv')\n",
    "df.head()"
   ]
  },
  {
   "cell_type": "code",
   "execution_count": 3,
   "id": "6f9e3f2c",
   "metadata": {},
   "outputs": [
    {
     "data": {
      "text/plain": [
       "(19042, 2)"
      ]
     },
     "execution_count": 3,
     "metadata": {},
     "output_type": "execute_result"
    }
   ],
   "source": [
    "df.shape"
   ]
  },
  {
   "cell_type": "code",
   "execution_count": 4,
   "id": "514673f1",
   "metadata": {},
   "outputs": [
    {
     "data": {
      "text/plain": [
       "text      1008\n",
       "author       0\n",
       "dtype: int64"
      ]
     },
     "execution_count": 4,
     "metadata": {},
     "output_type": "execute_result"
    }
   ],
   "source": [
    "df.isna().sum()"
   ]
  },
  {
   "cell_type": "code",
   "execution_count": 5,
   "id": "dc31448f",
   "metadata": {},
   "outputs": [
    {
     "data": {
      "text/plain": [
       "text      0\n",
       "author    0\n",
       "dtype: int64"
      ]
     },
     "execution_count": 5,
     "metadata": {},
     "output_type": "execute_result"
    }
   ],
   "source": [
    "df.dropna(inplace=True)\n",
    "df.isna().sum()"
   ]
  },
  {
   "cell_type": "markdown",
   "id": "7af4e2fe-ebbf-4ac1-8b9e-3e7213fb66be",
   "metadata": {},
   "source": [
    "## Create a column with the length of each text"
   ]
  },
  {
   "cell_type": "code",
   "execution_count": 6,
   "id": "3ea1157c",
   "metadata": {},
   "outputs": [
    {
     "data": {
      "text/plain": [
       "' SENSE AND SENSIBILITY'"
      ]
     },
     "execution_count": 6,
     "metadata": {},
     "output_type": "execute_result"
    }
   ],
   "source": [
    "df['text'][0]"
   ]
  },
  {
   "cell_type": "code",
   "execution_count": 7,
   "id": "d1151cd3",
   "metadata": {},
   "outputs": [
    {
     "data": {
      "text/plain": [
       "22"
      ]
     },
     "execution_count": 7,
     "metadata": {},
     "output_type": "execute_result"
    }
   ],
   "source": [
    "len(df['text'][0])"
   ]
  },
  {
   "cell_type": "code",
   "execution_count": 8,
   "id": "854226e6",
   "metadata": {},
   "outputs": [
    {
     "data": {
      "text/html": [
       "<div>\n",
       "<style scoped>\n",
       "    .dataframe tbody tr th:only-of-type {\n",
       "        vertical-align: middle;\n",
       "    }\n",
       "\n",
       "    .dataframe tbody tr th {\n",
       "        vertical-align: top;\n",
       "    }\n",
       "\n",
       "    .dataframe thead th {\n",
       "        text-align: right;\n",
       "    }\n",
       "</style>\n",
       "<table border=\"1\" class=\"dataframe\">\n",
       "  <thead>\n",
       "    <tr style=\"text-align: right;\">\n",
       "      <th></th>\n",
       "      <th>text</th>\n",
       "      <th>author</th>\n",
       "      <th>length</th>\n",
       "    </tr>\n",
       "  </thead>\n",
       "  <tbody>\n",
       "    <tr>\n",
       "      <th>0</th>\n",
       "      <td>SENSE AND SENSIBILITY</td>\n",
       "      <td>Jane Austen</td>\n",
       "      <td>22</td>\n",
       "    </tr>\n",
       "    <tr>\n",
       "      <th>1</th>\n",
       "      <td>by Jane Austen</td>\n",
       "      <td>Jane Austen</td>\n",
       "      <td>14</td>\n",
       "    </tr>\n",
       "    <tr>\n",
       "      <th>2</th>\n",
       "      <td>(1811)</td>\n",
       "      <td>Jane Austen</td>\n",
       "      <td>6</td>\n",
       "    </tr>\n",
       "    <tr>\n",
       "      <th>4</th>\n",
       "      <td>CHAPTER 1</td>\n",
       "      <td>Jane Austen</td>\n",
       "      <td>10</td>\n",
       "    </tr>\n",
       "    <tr>\n",
       "      <th>5</th>\n",
       "      <td>The family of Dashwood had long been settled ...</td>\n",
       "      <td>Jane Austen</td>\n",
       "      <td>1201</td>\n",
       "    </tr>\n",
       "  </tbody>\n",
       "</table>\n",
       "</div>"
      ],
      "text/plain": [
       "                                                text       author  length\n",
       "0                              SENSE AND SENSIBILITY  Jane Austen      22\n",
       "1                                     by Jane Austen  Jane Austen      14\n",
       "2                                             (1811)  Jane Austen       6\n",
       "4                                          CHAPTER 1  Jane Austen      10\n",
       "5   The family of Dashwood had long been settled ...  Jane Austen    1201"
      ]
     },
     "execution_count": 8,
     "metadata": {},
     "output_type": "execute_result"
    }
   ],
   "source": [
    "df['length'] = df['text'].apply(len)\n",
    "df.head()"
   ]
  },
  {
   "cell_type": "markdown",
   "id": "339fccff-b7f9-4a94-ab3c-1937ecd30de8",
   "metadata": {},
   "source": [
    "## Create a column with word_count of each text"
   ]
  },
  {
   "cell_type": "code",
   "execution_count": 42,
   "id": "18cae11b-7704-42b7-a2cc-58f23863beb3",
   "metadata": {},
   "outputs": [
    {
     "data": {
      "text/plain": [
       "['SENSE', 'AND', 'SENSIBILITY']"
      ]
     },
     "execution_count": 42,
     "metadata": {},
     "output_type": "execute_result"
    }
   ],
   "source": [
    "df['text'][0].split()"
   ]
  },
  {
   "cell_type": "code",
   "execution_count": 9,
   "id": "d22d5256",
   "metadata": {},
   "outputs": [],
   "source": [
    "df['word_count'] = df['text'].apply(lambda x: len(x.split()))"
   ]
  },
  {
   "cell_type": "code",
   "execution_count": 10,
   "id": "2bc05ea6",
   "metadata": {},
   "outputs": [
    {
     "data": {
      "text/html": [
       "<div>\n",
       "<style scoped>\n",
       "    .dataframe tbody tr th:only-of-type {\n",
       "        vertical-align: middle;\n",
       "    }\n",
       "\n",
       "    .dataframe tbody tr th {\n",
       "        vertical-align: top;\n",
       "    }\n",
       "\n",
       "    .dataframe thead th {\n",
       "        text-align: right;\n",
       "    }\n",
       "</style>\n",
       "<table border=\"1\" class=\"dataframe\">\n",
       "  <thead>\n",
       "    <tr style=\"text-align: right;\">\n",
       "      <th></th>\n",
       "      <th>text</th>\n",
       "      <th>author</th>\n",
       "      <th>length</th>\n",
       "      <th>word_count</th>\n",
       "    </tr>\n",
       "  </thead>\n",
       "  <tbody>\n",
       "    <tr>\n",
       "      <th>0</th>\n",
       "      <td>SENSE AND SENSIBILITY</td>\n",
       "      <td>Jane Austen</td>\n",
       "      <td>22</td>\n",
       "      <td>3</td>\n",
       "    </tr>\n",
       "    <tr>\n",
       "      <th>1</th>\n",
       "      <td>by Jane Austen</td>\n",
       "      <td>Jane Austen</td>\n",
       "      <td>14</td>\n",
       "      <td>3</td>\n",
       "    </tr>\n",
       "    <tr>\n",
       "      <th>2</th>\n",
       "      <td>(1811)</td>\n",
       "      <td>Jane Austen</td>\n",
       "      <td>6</td>\n",
       "      <td>1</td>\n",
       "    </tr>\n",
       "    <tr>\n",
       "      <th>4</th>\n",
       "      <td>CHAPTER 1</td>\n",
       "      <td>Jane Austen</td>\n",
       "      <td>10</td>\n",
       "      <td>2</td>\n",
       "    </tr>\n",
       "    <tr>\n",
       "      <th>5</th>\n",
       "      <td>The family of Dashwood had long been settled ...</td>\n",
       "      <td>Jane Austen</td>\n",
       "      <td>1201</td>\n",
       "      <td>209</td>\n",
       "    </tr>\n",
       "  </tbody>\n",
       "</table>\n",
       "</div>"
      ],
      "text/plain": [
       "                                                text       author  length  \\\n",
       "0                              SENSE AND SENSIBILITY  Jane Austen      22   \n",
       "1                                     by Jane Austen  Jane Austen      14   \n",
       "2                                             (1811)  Jane Austen       6   \n",
       "4                                          CHAPTER 1  Jane Austen      10   \n",
       "5   The family of Dashwood had long been settled ...  Jane Austen    1201   \n",
       "\n",
       "   word_count  \n",
       "0           3  \n",
       "1           3  \n",
       "2           1  \n",
       "4           2  \n",
       "5         209  "
      ]
     },
     "execution_count": 10,
     "metadata": {},
     "output_type": "execute_result"
    }
   ],
   "source": [
    "df.head()"
   ]
  },
  {
   "cell_type": "markdown",
   "id": "88a2c8b6-ef55-4e53-a4a9-6a90d11eddba",
   "metadata": {},
   "source": [
    "## Describe the data"
   ]
  },
  {
   "cell_type": "code",
   "execution_count": 11,
   "id": "1c6bc485",
   "metadata": {},
   "outputs": [
    {
     "data": {
      "text/html": [
       "<div>\n",
       "<style scoped>\n",
       "    .dataframe tbody tr th:only-of-type {\n",
       "        vertical-align: middle;\n",
       "    }\n",
       "\n",
       "    .dataframe tbody tr th {\n",
       "        vertical-align: top;\n",
       "    }\n",
       "\n",
       "    .dataframe thead th {\n",
       "        text-align: right;\n",
       "    }\n",
       "</style>\n",
       "<table border=\"1\" class=\"dataframe\">\n",
       "  <thead>\n",
       "    <tr style=\"text-align: right;\">\n",
       "      <th></th>\n",
       "      <th>length</th>\n",
       "      <th>word_count</th>\n",
       "    </tr>\n",
       "  </thead>\n",
       "  <tbody>\n",
       "    <tr>\n",
       "      <th>count</th>\n",
       "      <td>18034.000000</td>\n",
       "      <td>18034.000000</td>\n",
       "    </tr>\n",
       "    <tr>\n",
       "      <th>mean</th>\n",
       "      <td>419.562271</td>\n",
       "      <td>73.568482</td>\n",
       "    </tr>\n",
       "    <tr>\n",
       "      <th>std</th>\n",
       "      <td>528.100856</td>\n",
       "      <td>92.984526</td>\n",
       "    </tr>\n",
       "    <tr>\n",
       "      <th>min</th>\n",
       "      <td>1.000000</td>\n",
       "      <td>0.000000</td>\n",
       "    </tr>\n",
       "    <tr>\n",
       "      <th>25%</th>\n",
       "      <td>86.000000</td>\n",
       "      <td>15.000000</td>\n",
       "    </tr>\n",
       "    <tr>\n",
       "      <th>50%</th>\n",
       "      <td>245.000000</td>\n",
       "      <td>44.000000</td>\n",
       "    </tr>\n",
       "    <tr>\n",
       "      <th>75%</th>\n",
       "      <td>560.000000</td>\n",
       "      <td>98.000000</td>\n",
       "    </tr>\n",
       "    <tr>\n",
       "      <th>max</th>\n",
       "      <td>14695.000000</td>\n",
       "      <td>2614.000000</td>\n",
       "    </tr>\n",
       "  </tbody>\n",
       "</table>\n",
       "</div>"
      ],
      "text/plain": [
       "             length    word_count\n",
       "count  18034.000000  18034.000000\n",
       "mean     419.562271     73.568482\n",
       "std      528.100856     92.984526\n",
       "min        1.000000      0.000000\n",
       "25%       86.000000     15.000000\n",
       "50%      245.000000     44.000000\n",
       "75%      560.000000     98.000000\n",
       "max    14695.000000   2614.000000"
      ]
     },
     "execution_count": 11,
     "metadata": {},
     "output_type": "execute_result"
    }
   ],
   "source": [
    "df.describe()"
   ]
  },
  {
   "cell_type": "markdown",
   "id": "b72ad5b1-2688-4a58-9816-4b4cf0e02853",
   "metadata": {},
   "source": [
    "## Create a dataframe for each author"
   ]
  },
  {
   "cell_type": "code",
   "execution_count": 12,
   "id": "445c3319",
   "metadata": {},
   "outputs": [
    {
     "data": {
      "text/plain": [
       "array(['Jane Austen', 'Edgar Allan Poe'], dtype=object)"
      ]
     },
     "execution_count": 12,
     "metadata": {},
     "output_type": "execute_result"
    }
   ],
   "source": [
    "df.author.unique()"
   ]
  },
  {
   "cell_type": "code",
   "execution_count": 13,
   "id": "2ce39ee2",
   "metadata": {},
   "outputs": [],
   "source": [
    "eap = df[df['author'] == 'Edgar Allan Poe']\n",
    "ja = df[df['author'] == 'Jane Austen']"
   ]
  },
  {
   "cell_type": "markdown",
   "id": "baab87ba-2638-45c6-b46c-36a4f5a733f7",
   "metadata": {},
   "source": [
    "## Plot the word counts of one author"
   ]
  },
  {
   "cell_type": "code",
   "execution_count": 32,
   "id": "6dd5cb81",
   "metadata": {},
   "outputs": [
    {
     "data": {
      "image/png": "[encoded data removed]",
      "text/plain": [
       "<Figure size 1152x432 with 2 Axes>"
      ]
     },
     "metadata": {
      "needs_background": "light"
     },
     "output_type": "display_data"
    }
   ],
   "source": [
    "fig, ax = plt.subplots(1, 2, figsize=(16,6))\n",
    "sns.histplot(ja['length'], ax=ax[0])\n",
    "sns.histplot(ja['word_count'], ax=ax[1])\n",
    "ax[0].set(xlabel=\"Length\", ylabel='Count', title='Length Histogram')\n",
    "ax[1].set(xlabel=\"Word Count\", ylabel='Count', title='Word Count Histogram')\n",
    "\n",
    "fig.suptitle('Character & Word Count Distribution', fontsize=20);"
   ]
  },
  {
   "cell_type": "markdown",
   "id": "0278fb10-e752-4fe6-afe5-08e9b0fb769c",
   "metadata": {},
   "source": [
    "## Vectorize the data"
   ]
  },
  {
   "cell_type": "code",
   "execution_count": 29,
   "id": "f54173b2-c96c-489e-a6c7-7076be8b450e",
   "metadata": {},
   "outputs": [
    {
     "data": {
      "text/html": [
       "<div>\n",
       "<style scoped>\n",
       "    .dataframe tbody tr th:only-of-type {\n",
       "        vertical-align: middle;\n",
       "    }\n",
       "\n",
       "    .dataframe tbody tr th {\n",
       "        vertical-align: top;\n",
       "    }\n",
       "\n",
       "    .dataframe thead th {\n",
       "        text-align: right;\n",
       "    }\n",
       "</style>\n",
       "<table border=\"1\" class=\"dataframe\">\n",
       "  <thead>\n",
       "    <tr style=\"text-align: right;\">\n",
       "      <th></th>\n",
       "      <th>00</th>\n",
       "      <th>000</th>\n",
       "      <th>0000258</th>\n",
       "      <th>000157</th>\n",
       "      <th>000th</th>\n",
       "      <th>02</th>\n",
       "      <th>05484</th>\n",
       "      <th>06</th>\n",
       "      <th>071</th>\n",
       "      <th>080</th>\n",
       "      <th>...</th>\n",
       "      <th>ærostation</th>\n",
       "      <th>æschylus</th>\n",
       "      <th>æstheticus</th>\n",
       "      <th>æthera</th>\n",
       "      <th>ætna</th>\n",
       "      <th>émeutes</th>\n",
       "      <th>érigé</th>\n",
       "      <th>être</th>\n",
       "      <th>μελλοντα</th>\n",
       "      <th>ταυτα</th>\n",
       "    </tr>\n",
       "  </thead>\n",
       "  <tbody>\n",
       "    <tr>\n",
       "      <th>0</th>\n",
       "      <td>0</td>\n",
       "      <td>0</td>\n",
       "      <td>0</td>\n",
       "      <td>0</td>\n",
       "      <td>0</td>\n",
       "      <td>0</td>\n",
       "      <td>0</td>\n",
       "      <td>0</td>\n",
       "      <td>0</td>\n",
       "      <td>0</td>\n",
       "      <td>...</td>\n",
       "      <td>0</td>\n",
       "      <td>0</td>\n",
       "      <td>0</td>\n",
       "      <td>0</td>\n",
       "      <td>0</td>\n",
       "      <td>0</td>\n",
       "      <td>0</td>\n",
       "      <td>0</td>\n",
       "      <td>0</td>\n",
       "      <td>0</td>\n",
       "    </tr>\n",
       "    <tr>\n",
       "      <th>1</th>\n",
       "      <td>0</td>\n",
       "      <td>0</td>\n",
       "      <td>0</td>\n",
       "      <td>0</td>\n",
       "      <td>0</td>\n",
       "      <td>0</td>\n",
       "      <td>0</td>\n",
       "      <td>0</td>\n",
       "      <td>0</td>\n",
       "      <td>0</td>\n",
       "      <td>...</td>\n",
       "      <td>0</td>\n",
       "      <td>0</td>\n",
       "      <td>0</td>\n",
       "      <td>0</td>\n",
       "      <td>0</td>\n",
       "      <td>0</td>\n",
       "      <td>0</td>\n",
       "      <td>0</td>\n",
       "      <td>0</td>\n",
       "      <td>0</td>\n",
       "    </tr>\n",
       "    <tr>\n",
       "      <th>2</th>\n",
       "      <td>0</td>\n",
       "      <td>0</td>\n",
       "      <td>0</td>\n",
       "      <td>0</td>\n",
       "      <td>0</td>\n",
       "      <td>0</td>\n",
       "      <td>0</td>\n",
       "      <td>0</td>\n",
       "      <td>0</td>\n",
       "      <td>0</td>\n",
       "      <td>...</td>\n",
       "      <td>0</td>\n",
       "      <td>0</td>\n",
       "      <td>0</td>\n",
       "      <td>0</td>\n",
       "      <td>0</td>\n",
       "      <td>0</td>\n",
       "      <td>0</td>\n",
       "      <td>0</td>\n",
       "      <td>0</td>\n",
       "      <td>0</td>\n",
       "    </tr>\n",
       "    <tr>\n",
       "      <th>3</th>\n",
       "      <td>0</td>\n",
       "      <td>0</td>\n",
       "      <td>0</td>\n",
       "      <td>0</td>\n",
       "      <td>0</td>\n",
       "      <td>0</td>\n",
       "      <td>0</td>\n",
       "      <td>0</td>\n",
       "      <td>0</td>\n",
       "      <td>0</td>\n",
       "      <td>...</td>\n",
       "      <td>0</td>\n",
       "      <td>0</td>\n",
       "      <td>0</td>\n",
       "      <td>0</td>\n",
       "      <td>0</td>\n",
       "      <td>0</td>\n",
       "      <td>0</td>\n",
       "      <td>0</td>\n",
       "      <td>0</td>\n",
       "      <td>0</td>\n",
       "    </tr>\n",
       "    <tr>\n",
       "      <th>4</th>\n",
       "      <td>0</td>\n",
       "      <td>0</td>\n",
       "      <td>0</td>\n",
       "      <td>0</td>\n",
       "      <td>0</td>\n",
       "      <td>0</td>\n",
       "      <td>0</td>\n",
       "      <td>0</td>\n",
       "      <td>0</td>\n",
       "      <td>0</td>\n",
       "      <td>...</td>\n",
       "      <td>0</td>\n",
       "      <td>0</td>\n",
       "      <td>0</td>\n",
       "      <td>0</td>\n",
       "      <td>0</td>\n",
       "      <td>0</td>\n",
       "      <td>0</td>\n",
       "      <td>0</td>\n",
       "      <td>0</td>\n",
       "      <td>0</td>\n",
       "    </tr>\n",
       "  </tbody>\n",
       "</table>\n",
       "<p>5 rows × 25065 columns</p>\n",
       "</div>"
      ],
      "text/plain": [
       "   00  000  0000258  000157  000th  02  05484  06  071  080  ...  ærostation  \\\n",
       "0   0    0        0       0      0   0      0   0    0    0  ...           0   \n",
       "1   0    0        0       0      0   0      0   0    0    0  ...           0   \n",
       "2   0    0        0       0      0   0      0   0    0    0  ...           0   \n",
       "3   0    0        0       0      0   0      0   0    0    0  ...           0   \n",
       "4   0    0        0       0      0   0      0   0    0    0  ...           0   \n",
       "\n",
       "   æschylus  æstheticus  æthera  ætna  émeutes  érigé  être  μελλοντα  ταυτα  \n",
       "0         0           0       0     0        0      0     0         0      0  \n",
       "1         0           0       0     0        0      0     0         0      0  \n",
       "2         0           0       0     0        0      0     0         0      0  \n",
       "3         0           0       0     0        0      0     0         0      0  \n",
       "4         0           0       0     0        0      0     0         0      0  \n",
       "\n",
       "[5 rows x 25065 columns]"
      ]
     },
     "execution_count": 29,
     "metadata": {},
     "output_type": "execute_result"
    }
   ],
   "source": [
    "cv = CountVectorizer()\n",
    "eap_vect = cv.fit_transform(eap['text'])\n",
    "eap_vect_df = pd.DataFrame(eap_vect.todense(), columns=cv.get_feature_names_out())\n",
    "eap_vect_df.head()"
   ]
  },
  {
   "cell_type": "code",
   "execution_count": 30,
   "id": "5c1489d9-60b3-4e7b-8c98-22501e5fe2ae",
   "metadata": {},
   "outputs": [
    {
     "data": {
      "text/html": [
       "<div>\n",
       "<style scoped>\n",
       "    .dataframe tbody tr th:only-of-type {\n",
       "        vertical-align: middle;\n",
       "    }\n",
       "\n",
       "    .dataframe tbody tr th {\n",
       "        vertical-align: top;\n",
       "    }\n",
       "\n",
       "    .dataframe thead th {\n",
       "        text-align: right;\n",
       "    }\n",
       "</style>\n",
       "<table border=\"1\" class=\"dataframe\">\n",
       "  <thead>\n",
       "    <tr style=\"text-align: right;\">\n",
       "      <th></th>\n",
       "      <th>000</th>\n",
       "      <th>10</th>\n",
       "      <th>10th</th>\n",
       "      <th>11</th>\n",
       "      <th>11th</th>\n",
       "      <th>12</th>\n",
       "      <th>12th</th>\n",
       "      <th>13</th>\n",
       "      <th>1399</th>\n",
       "      <th>13th</th>\n",
       "      <th>...</th>\n",
       "      <th>yourselves</th>\n",
       "      <th>youth</th>\n",
       "      <th>youthful</th>\n",
       "      <th>youths</th>\n",
       "      <th>yrs</th>\n",
       "      <th>zeal</th>\n",
       "      <th>zealous</th>\n",
       "      <th>zealously</th>\n",
       "      <th>zephyr</th>\n",
       "      <th>zigzags</th>\n",
       "    </tr>\n",
       "  </thead>\n",
       "  <tbody>\n",
       "    <tr>\n",
       "      <th>0</th>\n",
       "      <td>0</td>\n",
       "      <td>0</td>\n",
       "      <td>0</td>\n",
       "      <td>0</td>\n",
       "      <td>0</td>\n",
       "      <td>0</td>\n",
       "      <td>0</td>\n",
       "      <td>0</td>\n",
       "      <td>0</td>\n",
       "      <td>0</td>\n",
       "      <td>...</td>\n",
       "      <td>0</td>\n",
       "      <td>0</td>\n",
       "      <td>0</td>\n",
       "      <td>0</td>\n",
       "      <td>0</td>\n",
       "      <td>0</td>\n",
       "      <td>0</td>\n",
       "      <td>0</td>\n",
       "      <td>0</td>\n",
       "      <td>0</td>\n",
       "    </tr>\n",
       "    <tr>\n",
       "      <th>1</th>\n",
       "      <td>0</td>\n",
       "      <td>0</td>\n",
       "      <td>0</td>\n",
       "      <td>0</td>\n",
       "      <td>0</td>\n",
       "      <td>0</td>\n",
       "      <td>0</td>\n",
       "      <td>0</td>\n",
       "      <td>0</td>\n",
       "      <td>0</td>\n",
       "      <td>...</td>\n",
       "      <td>0</td>\n",
       "      <td>0</td>\n",
       "      <td>0</td>\n",
       "      <td>0</td>\n",
       "      <td>0</td>\n",
       "      <td>0</td>\n",
       "      <td>0</td>\n",
       "      <td>0</td>\n",
       "      <td>0</td>\n",
       "      <td>0</td>\n",
       "    </tr>\n",
       "    <tr>\n",
       "      <th>2</th>\n",
       "      <td>0</td>\n",
       "      <td>0</td>\n",
       "      <td>0</td>\n",
       "      <td>0</td>\n",
       "      <td>0</td>\n",
       "      <td>0</td>\n",
       "      <td>0</td>\n",
       "      <td>0</td>\n",
       "      <td>0</td>\n",
       "      <td>0</td>\n",
       "      <td>...</td>\n",
       "      <td>0</td>\n",
       "      <td>0</td>\n",
       "      <td>0</td>\n",
       "      <td>0</td>\n",
       "      <td>0</td>\n",
       "      <td>0</td>\n",
       "      <td>0</td>\n",
       "      <td>0</td>\n",
       "      <td>0</td>\n",
       "      <td>0</td>\n",
       "    </tr>\n",
       "    <tr>\n",
       "      <th>3</th>\n",
       "      <td>0</td>\n",
       "      <td>0</td>\n",
       "      <td>0</td>\n",
       "      <td>0</td>\n",
       "      <td>0</td>\n",
       "      <td>0</td>\n",
       "      <td>0</td>\n",
       "      <td>0</td>\n",
       "      <td>0</td>\n",
       "      <td>0</td>\n",
       "      <td>...</td>\n",
       "      <td>0</td>\n",
       "      <td>0</td>\n",
       "      <td>0</td>\n",
       "      <td>0</td>\n",
       "      <td>0</td>\n",
       "      <td>0</td>\n",
       "      <td>0</td>\n",
       "      <td>0</td>\n",
       "      <td>0</td>\n",
       "      <td>0</td>\n",
       "    </tr>\n",
       "    <tr>\n",
       "      <th>4</th>\n",
       "      <td>0</td>\n",
       "      <td>0</td>\n",
       "      <td>0</td>\n",
       "      <td>0</td>\n",
       "      <td>0</td>\n",
       "      <td>0</td>\n",
       "      <td>0</td>\n",
       "      <td>0</td>\n",
       "      <td>0</td>\n",
       "      <td>0</td>\n",
       "      <td>...</td>\n",
       "      <td>0</td>\n",
       "      <td>0</td>\n",
       "      <td>0</td>\n",
       "      <td>0</td>\n",
       "      <td>0</td>\n",
       "      <td>0</td>\n",
       "      <td>0</td>\n",
       "      <td>0</td>\n",
       "      <td>0</td>\n",
       "      <td>0</td>\n",
       "    </tr>\n",
       "  </tbody>\n",
       "</table>\n",
       "<p>5 rows × 14955 columns</p>\n",
       "</div>"
      ],
      "text/plain": [
       "   000  10  10th  11  11th  12  12th  13  1399  13th  ...  yourselves  youth  \\\n",
       "0    0   0     0   0     0   0     0   0     0     0  ...           0      0   \n",
       "1    0   0     0   0     0   0     0   0     0     0  ...           0      0   \n",
       "2    0   0     0   0     0   0     0   0     0     0  ...           0      0   \n",
       "3    0   0     0   0     0   0     0   0     0     0  ...           0      0   \n",
       "4    0   0     0   0     0   0     0   0     0     0  ...           0      0   \n",
       "\n",
       "   youthful  youths  yrs  zeal  zealous  zealously  zephyr  zigzags  \n",
       "0         0       0    0     0        0          0       0        0  \n",
       "1         0       0    0     0        0          0       0        0  \n",
       "2         0       0    0     0        0          0       0        0  \n",
       "3         0       0    0     0        0          0       0        0  \n",
       "4         0       0    0     0        0          0       0        0  \n",
       "\n",
       "[5 rows x 14955 columns]"
      ]
     },
     "execution_count": 30,
     "metadata": {},
     "output_type": "execute_result"
    }
   ],
   "source": [
    "ja_vect = cv.fit_transform(ja['text'])\n",
    "ja_vect_df = pd.DataFrame(ja_vect.todense(), columns=cv.get_feature_names_out())\n",
    "ja_vect_df.head()"
   ]
  },
  {
   "cell_type": "markdown",
   "id": "b1e6ba44-666f-4c87-b25c-c23afefbf888",
   "metadata": {},
   "source": [
    "## Plot the Most Frequently Occurring Words by Author"
   ]
  },
  {
   "cell_type": "code",
   "execution_count": 31,
   "id": "6bbf6b39",
   "metadata": {},
   "outputs": [
    {
     "data": {
      "image/png": "[encoded data removed]",
      "text/plain": [
       "<Figure size 1152x432 with 2 Axes>"
      ]
     },
     "metadata": {
      "needs_background": "light"
     },
     "output_type": "display_data"
    }
   ],
   "source": [
    "fig, ax = plt.subplots(1, 2, figsize=(16,6))\n",
    "ja_vect_df.sum().sort_values(ascending=False).head(10).plot(kind='barh', ax=ax[0], fontsize=14)\n",
    "eap_vect_df.sum().sort_values(ascending=False).head(10).plot(kind='barh', ax=ax[1], fontsize=14)\n",
    "\n",
    "ax[0].set_title('Jane Austen', fontsize=18)\n",
    "ax[1].set_title('Edgar Allan Poe', fontsize=18)\n",
    "ax[0].invert_yaxis()\n",
    "ax[1].invert_yaxis()\n",
    "\n",
    "fig.suptitle('Top 10 Words', fontsize=24)\n",
    "fig.text(0.5, 0.04, 'Number of Occurances', \n",
    "         ha='center', fontsize=18);"
   ]
  },
  {
   "cell_type": "markdown",
   "id": "2bee8514-ba02-44b1-acf2-cd657529db12",
   "metadata": {},
   "source": [
    "## Vectorize and plot again but using 'english' stopwords"
   ]
  },
  {
   "cell_type": "code",
   "execution_count": 35,
   "id": "dc682d58",
   "metadata": {},
   "outputs": [],
   "source": [
    "cv = CountVectorizer(stop_words='english')\n",
    "eap_vect = cv.fit_transform(eap['text'])\n",
    "eap_vect_df = pd.DataFrame(eap_vect.todense(), columns=cv.get_feature_names_out())\n",
    "\n",
    "ja_vect = cv.fit_transform(ja['text'])\n",
    "ja_vect_df = pd.DataFrame(ja_vect.todense(), columns=cv.get_feature_names_out())"
   ]
  },
  {
   "cell_type": "code",
   "execution_count": 37,
   "id": "eedcaaf4",
   "metadata": {},
   "outputs": [
    {
     "data": {
      "image/png": "[encoded data removed]",
      "text/plain": [
       "<Figure size 1152x432 with 2 Axes>"
      ]
     },
     "metadata": {
      "needs_background": "light"
     },
     "output_type": "display_data"
    }
   ],
   "source": [
    "fig, ax = plt.subplots(1, 2, figsize=(16,6))\n",
    "ja_vect_df.sum().sort_values(ascending=False).head(10).plot(kind='barh', ax=ax[0], fontsize=14)\n",
    "eap_vect_df.sum().sort_values(ascending=False).head(10).plot(kind='barh', ax=ax[1], fontsize=14)\n",
    "\n",
    "ax[0].set_title('Jane Austen', fontsize=18)\n",
    "ax[1].set_title('Edgar Allan Poe', fontsize=18)\n",
    "ax[0].invert_yaxis()\n",
    "ax[1].invert_yaxis()\n",
    "\n",
    "fig.suptitle('Top 10 Words', fontsize=24)\n",
    "fig.text(0.5, 0.04, 'Number of Occurances', \n",
    "         ha='center', fontsize=18);"
   ]
  },
  {
   "cell_type": "markdown",
   "id": "a465fa71-dee7-477c-9976-f9e4ba2d84e5",
   "metadata": {},
   "source": [
    "## Vectorize and plot again but using 'english' stopwords and bigrams"
   ]
  },
  {
   "cell_type": "code",
   "execution_count": 40,
   "id": "594b1d99",
   "metadata": {},
   "outputs": [],
   "source": [
    "cv = CountVectorizer(stop_words='english', ngram_range=(2,2))\n",
    "eap_vect = cv.fit_transform(eap['text'])\n",
    "eap_vect_df = pd.DataFrame(eap_vect.todense(), columns=cv.get_feature_names())\n",
    "\n",
    "ja_vect = cv.fit_transform(ja['text'])\n",
    "ja_vect_df = pd.DataFrame(ja_vect.todense(), columns=cv.get_feature_names())"
   ]
  },
  {
   "cell_type": "code",
   "execution_count": 41,
   "id": "b5ab71d4",
   "metadata": {},
   "outputs": [
    {
     "data": {
      "image/png": "[encoded data removed]",
      "text/plain": [
       "<Figure size 1152x432 with 2 Axes>"
      ]
     },
     "metadata": {
      "needs_background": "light"
     },
     "output_type": "display_data"
    }
   ],
   "source": [
    "fig, ax = plt.subplots(1, 2, figsize=(16,6))\n",
    "ja_vect_df.sum().sort_values(ascending=False).head(10).plot(kind='barh', ax=ax[0], fontsize=14)\n",
    "eap_vect_df.sum().sort_values(ascending=False).head(10).plot(kind='barh', ax=ax[1], fontsize=14)\n",
    "\n",
    "ax[0].set_title('Jane Austen', fontsize=18)\n",
    "ax[1].set_title('Edgar Allan Poe', fontsize=18)\n",
    "ax[0].invert_yaxis()\n",
    "ax[1].invert_yaxis()\n",
    "\n",
    "fig.suptitle('Top 10 Words', fontsize=24)\n",
    "fig.text(0.5, 0.04, 'Number of Occurances', \n",
    "         ha='center', fontsize=18);"
   ]
  }
 ],
 "metadata": {
  "kernelspec": {
   "display_name": "Python 3 (ipykernel)",
   "language": "python",
   "name": "python3"
  },
  "language_info": {
   "codemirror_mode": {
    "name": "ipython",
    "version": 3
   },
   "file_extension": ".py",
   "mimetype": "text/x-python",
   "name": "python",
   "nbconvert_exporter": "python",
   "pygments_lexer": "ipython3",
   "version": "3.8.12"
  }
 },
 "nbformat": 4,
 "nbformat_minor": 5
}
