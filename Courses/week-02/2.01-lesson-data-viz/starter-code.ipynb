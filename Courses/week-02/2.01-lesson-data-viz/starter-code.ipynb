{
 "cells": [
  {
   "cell_type": "markdown",
   "metadata": {},
   "source": [
    "# Principles of Data Visualization"
   ]
  },
  {
   "cell_type": "code",
   "execution_count": null,
   "metadata": {
    "scrolled": true,
    "tags": []
   },
   "outputs": [],
   "source": [
    "# !pip install seaborn numpy pandas bokeh matplotlib --upgrade\n",
    "# !conda update -y seaborn numpy pandas bokeh matplotlib"
   ]
  },
  {
   "cell_type": "markdown",
   "metadata": {},
   "source": [
    "### Packages Today\n",
    "- [NumPy](http://www.numpy.org/): Numerical Python - scalars, vectors, matrices, etc. and tools for manipulating them.\n",
    "- [Pandas](https://pandas.pydata.org/): Python Data Analysis Library - storing/\"munging\" (cleaning/transforming) data.\n",
    "- [Matplotlib](https://matplotlib.org/): Python plotting library - this is (unsurprisingly) what we'll use to plot things!\n",
    "- [Bokeh](https://bokeh.pydata.org/en/latest/): Interactive Visualization Library - this is (also unsurprisingly) what we'll use to generate interactive visualizations!\n",
    "- [Seaborn](https://seaborn.pydata.org/): Statistical Visualization Library - this is commonly used for more complicated visuals (we'll ignore most of these because they're often less accessible to stakeholders)."
   ]
  },
  {
   "cell_type": "markdown",
   "metadata": {},
   "source": [
    "<details><summary>Let's get started with a question: what is the point of creating a visualization for data?</summary>\n",
    "    \n",
    "- \"Use a picture. It's worth a thousand words.\" - Tess Flanders, 1911\n",
    "- We generally use visualizations in order to efficiently and/or effectively communicate information.\n",
    "</details>"
   ]
  },
  {
   "cell_type": "markdown",
   "metadata": {},
   "source": [
    "<details><summary>We often generate data visualizations for exploratory analysis or explanatory analysis. What is the difference?</summary>\n",
    "    \n",
    "- Exploratory analysis is when we are exploring our data, like identifying patterns or discovering outliers.\n",
    "- Explanatory analysis is when we are communicating (explaining) our results to a client, boss, stakeholder, etc.\n",
    "</details>\n",
    "\n",
    "Today, we will focus on **explanatory analysis**. Many of these tools will be transferable to exploratory analysis.\n",
    "\n",
    "### LEARNING OBJECTIVES \n",
    "1. Identify what type of visualization may be appropriate for a given scenario.\n",
    "2. Generate text, bar graphs, histograms, tables, heatmaps, scatterplots, and line plots in `matplotlib`.\n",
    "3. Critique data visualizations and implement changes in `matplotlib`.\n",
    "\n",
    "## Agenda\n",
    "- What is the point of visualization?\n",
    "- Identifying pros and cons of visuals.\n",
    "- Choosing a good visual.\n",
    "- Turning a good visual into a great visual.\n",
    "- Presenting complex visualizations.\n",
    "\n",
    "Along the way, we'll be implementing each step together and cover best practices!"
   ]
  },
  {
   "cell_type": "code",
   "execution_count": null,
   "metadata": {},
   "outputs": [],
   "source": [
    "# Importing NumPy and Pandas.\n",
    "import numpy as np\n",
    "import pandas as pd\n",
    "\n",
    "# Importing matplotlib.pyplot - the specific plotting API \n",
    "# https://matplotlib.org/api/pyplot_api.html\n",
    "import matplotlib.pyplot as plt\n",
    "\n",
    "# Import Seaborn.\n",
    "import seaborn as sns"
   ]
  },
  {
   "cell_type": "code",
   "execution_count": null,
   "metadata": {},
   "outputs": [],
   "source": [
    "# Read in stock data.\n",
    "stocks = pd.read_csv('./data/stocks_data.csv')\n",
    "\n",
    "# Convert stock date to datetime.\n",
    "stocks['date'] = pd.to_datetime(stocks['date'])\n",
    "\n",
    "# Convert the weekday to a (ordinal) categorical type\n",
    "stocks['weekday'] = pd.Categorical(\n",
    "    stocks['weekday'],\n",
    "    categories=['Monday','Tuesday','Wednesday','Thursday','Friday'],\n",
    "    ordered=True\n",
    ")"
   ]
  },
  {
   "cell_type": "code",
   "execution_count": null,
   "metadata": {},
   "outputs": [],
   "source": [
    "# Check out the first five rows of the stocks data.\n",
    "\n",
    "stocks.head()"
   ]
  },
  {
   "cell_type": "code",
   "execution_count": null,
   "metadata": {},
   "outputs": [],
   "source": [
    "# Display the different weekdays and how frequently we observe each of them.\n",
    "\n",
    "stocks['weekday'].value_counts()"
   ]
  },
  {
   "cell_type": "code",
   "execution_count": null,
   "metadata": {},
   "outputs": [],
   "source": [
    "# Display the different stock tickers and how frequently we observe each of them.\n",
    "\n",
    "stocks['ticker'].value_counts()"
   ]
  },
  {
   "cell_type": "markdown",
   "metadata": {},
   "source": [
    "## Pros and Cons of Visuals\n",
    "\n",
    "There are many ways to visualize the same data. [This FlowingData post](https://flowingdata.com/2017/01/24/one-dataset-visualized-25-ways/) by Nathan Lau shows the same data visualized 25 different ways. Two of the 25 examples are shown below.\n",
    "\n",
    "<img src=\"./images/country-v-average.png\" alt=\"drawing\" width=\"800\"/>\n",
    "\n",
    "<img src=\"./images/country-over-time.png\" alt=\"drawing\" width=\"900\"/>\n",
    "\n",
    "- If we Google \"data visualization tools,\" we will quickly get overwhelmed with all of the data visualization libraries that are out there. (Tableau, R/Python, Images in Google Sheets, D3.js, Microsoft Paint...)\n",
    "- If we Google \"good data visualizations,\" we'll see lots of amazing images/videos/dashboards/apps with really high production values, but we recognize that we won't be able to easily replicate these.\n",
    "- If we head to [viz.wtf](http://viz.wtf), we can see lots of images that show us what **not** to do... but not what **to** do!"
   ]
  },
  {
   "cell_type": "markdown",
   "metadata": {},
   "source": [
    "### If-This-Then-That Rules\n",
    "\n",
    "I'm not a visual designer. Instead, I like things that are rule-oriented. I want to attempt to break \"picking a good visualization\" down into a set of \"if-this-then-that\" rules. \n",
    "- **This won't be a perfect, \"one-size-fits-all\" set of rules.**\n",
    "- There will be situations in which you want to \"break\" these rules. If you have the time, the energy, and/or the creativity... then break them!\n",
    "- Hopefully this is a \"one-size-fits-_most_\" set of rules.\n",
    "\n",
    "### Qualitative vs. Quantitative Variables\n",
    "- Quantitative variables (commonly called numerical variables) are variables that are measured on a numeric scale.\n",
    "    - Stock price at closing bell.\n",
    "    - Volume of stocks traded.\n",
    "- Qualitative variables (commonly called categorical variables) are variables that are not measured on a numeric scale.\n",
    "    - Days of the week.\n",
    "    - Stock ticker."
   ]
  },
  {
   "cell_type": "markdown",
   "metadata": {},
   "source": [
    "### If you are reporting one or two numbers, then:\n",
    "- simply state the numbers, or\n",
    "- compare numbers using a bar chart."
   ]
  },
  {
   "cell_type": "markdown",
   "metadata": {},
   "source": [
    "**Example 1**: Suppose we wanted to quantify the performance of the AAPL stock over time."
   ]
  },
  {
   "cell_type": "code",
   "execution_count": null,
   "metadata": {},
   "outputs": [],
   "source": [
    "# AAPL Closing Stock Price on January 2, 1998. \n",
    "print(stocks[(stocks['date'] == '1998-01-02') & (stocks['ticker'] == 'AAPL')]['close'])\n",
    "\n",
    "# AAPL Closing Stock Price on August 9, 2013.\n",
    "print(stocks[(stocks['date'] == '2013-08-09') & (stocks['ticker'] == 'AAPL')]['close'])"
   ]
  },
  {
   "cell_type": "code",
   "execution_count": null,
   "metadata": {},
   "outputs": [],
   "source": [
    "# Percent change formula: 100 * (value_2 - value_1) / |value_1|\n",
    "\n",
    "pct_change = 100 * (454.37 - 3.95) / 3.95"
   ]
  },
  {
   "cell_type": "code",
   "execution_count": null,
   "metadata": {},
   "outputs": [],
   "source": [
    "# Set size of figure: eight by five.\n",
    "plt.figure(figsize=(8, 5))\n",
    "\n",
    "# Create text:\n",
    "plt.text(x = 0.5,                              # at horizontal = 0.5\n",
    "         y = 0.9,                              # at vertical = 0.9\n",
    "         s = 'Apple\\'s stock price increased', # content of text (string)\n",
    "         ha = 'center',                        # center-aligned horizontally\n",
    "         va = 'center',                        # center-aligned vertically\n",
    "         size = 35,                            # font size = 35\n",
    "         alpha = 0.6)                          # alpha = 0.6 --> 60% opaque; 40% clear\n",
    "\n",
    "\n",
    "# Create text:\n",
    "# at (horizontal = 0.5, vertical = 0.55)\n",
    "# stating the percent change (s means string)\n",
    "# center-aligned\n",
    "# font size 125\n",
    "# alpha = 1 --> totally opaque\n",
    "\n",
    "plt.text(x = 0.5,\n",
    "         y = 0.55,\n",
    "         s = str(round(pct_change)) + '%',\n",
    "         ha = 'center',\n",
    "         va = 'center',\n",
    "         size = 125,\n",
    "         alpha = 1)\n",
    "\n",
    "# Create text:\n",
    "# at (horizontal = 0.5, vertical = 0.25)\n",
    "# stating \"between January 1998 and August 2013\"\n",
    "# with a line break in between \"1998\" and \"and\"\n",
    "# center-aligned\n",
    "# font size 35\n",
    "# alpha = 0.6 --> 40% clear; 60% opaque\n",
    "plt.text(x = 0.5,\n",
    "         y = 0.2,\n",
    "         s = 'between January 1998\\nand August 2013.',\n",
    "         ha = 'center',\n",
    "         va = 'center',\n",
    "         size = 35,\n",
    "         alpha = 0.6)\n",
    "\n",
    "# No axes.\n",
    "plt.axis('off');"
   ]
  },
  {
   "cell_type": "markdown",
   "metadata": {},
   "source": [
    "It is often a bad idea to simply report one number. By giving only one number, we can often be misleading. Let's avoid this!\n",
    "- I got a 74% on my last exam.\n",
    "    - I got a 74% on my last exam. The class average was a 56%.\n",
    "- There were 62,984,828 votes cast for Trump in the 2016 Presidential election.\n",
    "    - There were 65,853,514 votes cast for Clinton and 62,984,828 votes cast for Trump in the 2016 Presidential election.\n",
    "- Our company earned 5MM (five million) dollars last year.\n",
    "    - Our company earned 5MM last year. This is our highest yet; our company had an average of 2MM in revenue over all previous years.\n",
    "\n",
    "\n",
    "- ***My \"best practice\" recommendation***: Rather than reporting one number, provide context by comparing multiple numbers.\n",
    "\n",
    "---\n",
    "\n",
    "**Example 2**: Suppose we wanted to compare AAPL performance to Dow growth."
   ]
  },
  {
   "cell_type": "code",
   "execution_count": null,
   "metadata": {},
   "outputs": [],
   "source": [
    "# DOW Closing Stock Price on January 2, 1998.\n",
    "print(stocks[(stocks['date'] == min(stocks['date'])) & (stocks['ticker'] == 'DOW')]['close'])\n",
    "\n",
    "# DOW Closing Stock Price on August 9, 2013.\n",
    "print(stocks[(stocks['date'] == max(stocks['date'])) & (stocks['ticker'] == 'DOW')]['close'])"
   ]
  },
  {
   "cell_type": "code",
   "execution_count": null,
   "metadata": {},
   "outputs": [],
   "source": [
    "aapl_pct_change = 100 * (454.37 - 3.95) / 3.95\n",
    "dow_pct_change = 100 * (38.08 - 19.0287) / 19.0287"
   ]
  },
  {
   "cell_type": "code",
   "execution_count": null,
   "metadata": {},
   "outputs": [],
   "source": [
    "# Set size of figure: eight by five.\n",
    "plt.figure(figsize=(8, 5))\n",
    "\n",
    "# Create text:\n",
    "# at (horizontal = 0.5, vertical = 0.6)\n",
    "# stating the percent change (s means string)\n",
    "# center-aligned\n",
    "# font size 150\n",
    "# alpha = 1 --> totally opaque\n",
    "\n",
    "plt.text(x = 0.5,\n",
    "         y = 0.6,\n",
    "         s = str(round(aapl_pct_change)) + '%',\n",
    "         ha = 'center',\n",
    "         va = 'center',\n",
    "         size = 150,\n",
    "         alpha = 1)\n",
    "\n",
    "# Create text:\n",
    "# at (horizontal = 0.5, vertical = 0.25)\n",
    "# stating \"growth in Apple's stock price, compared to 100% increase in the Dow.\"\n",
    "# with a line break in between \"price\" and \"compared\"\n",
    "# center-aligned\n",
    "# font size 32\n",
    "# alpha = 0.5 --> 50% clear; 50% opaque\n",
    "plt.text(x = 0.5,\n",
    "         y = 0.25,\n",
    "         s = 'growth in Apple\\'s stock price, \\ncompared to ' + str(round(dow_pct_change)) + '% increase in the Dow.',\n",
    "         ha = 'center',\n",
    "         va = 'center',\n",
    "         size = 32,\n",
    "         alpha = 0.5)\n",
    "\n",
    "# No axes.\n",
    "plt.axis('off');"
   ]
  },
  {
   "cell_type": "markdown",
   "metadata": {},
   "source": [
    "Identifying the right combination of `figsize`, `x`, `y`, `size`, line breaks (`\\n`) in `s`, and so on will mostly be done through guess-and-check. \n",
    "- ***My \"best practice\" recommendation***: copy what exists now to your next use, then tweak as needed!"
   ]
  },
  {
   "cell_type": "markdown",
   "metadata": {},
   "source": [
    "**Practice 3**: Report that `GOOG` (Google) grew from 100.76 in August 2004 to 890.31 in August 2013. (I've given you the `goog_pct_change` below.) Be sure to compare it to another number!"
   ]
  },
  {
   "cell_type": "code",
   "execution_count": null,
   "metadata": {},
   "outputs": [],
   "source": [
    "goog_pct_change = 100 * (890.31 - 100.76) / (100.76)"
   ]
  },
  {
   "cell_type": "code",
   "execution_count": null,
   "metadata": {
    "tags": []
   },
   "outputs": [],
   "source": [
    "# Set size of figure: ten by seven.\n",
    "plt.figure(figsize=(10, 7))\n",
    "\n",
    "# Create text:\n",
    "# at (horizontal = 0.5, vertical = 0.55)\n",
    "# stating the percent change (s means string)\n",
    "# center-aligned\n",
    "# font size 225\n",
    "# alpha = 0.9\n",
    "\n",
    "plt.text(x = 0.5,\n",
    "         y = 0.55,\n",
    "         s = str(round(goog_pct_change)) + '% growth',\n",
    "         ha = 'center',\n",
    "         va = 'center',\n",
    "         size = 225,\n",
    "         alpha = 0.9)\n",
    "\n",
    "# Create text:\n",
    "# at (horizontal = 0.5, vertical = 0.15)\n",
    "# stating \"in Google's stock price, compared to 100% increase in the Dow.\"\n",
    "# center-aligned\n",
    "# font size 45\n",
    "# alpha = 0.5\n",
    "plt.text(x = 0.5,\n",
    "         y = 0.15,\n",
    "         s = 'in Google\\'s stock price, compared to ' + str(round(dow_pct_change)) + '% increase in the Dow.',\n",
    "         ha = 'center',\n",
    "         va = 'center',\n",
    "         size = 45,\n",
    "         alpha = 0.5)\n",
    "\n",
    "# No axes.\n",
    "plt.axis('off');"
   ]
  },
  {
   "cell_type": "markdown",
   "metadata": {},
   "source": [
    "As Einstein said, \"Everything should be as simple as it can be, but not simpler.\" This is pretty simple. If it works... use it!\n",
    "- It's not lost in a table.\n",
    "- It's very clearly calling out what we want to emphasize.\n",
    "- Understanding `x`, `y`, `fontsize`, etc. will be helpful later if we want to annotate a plot with text.\n",
    "\n",
    "![](./images/wordart.png)\n",
    "\n",
    "But I also understand that we could have done the above with Microsoft WordArt... so let's do something a bit more sophisticated.\n",
    "\n",
    "---"
   ]
  },
  {
   "cell_type": "markdown",
   "metadata": {},
   "source": [
    "**Example 4**: Suppose we wanted to compare AAPL performance to Dow growth using a bar chart."
   ]
  },
  {
   "cell_type": "code",
   "execution_count": null,
   "metadata": {
    "tags": []
   },
   "outputs": [],
   "source": [
    "# Set size of figure: eight by five.\n",
    "plt.figure(figsize=(8, 5))\n",
    "\n",
    "# Create a bar chart.\n",
    "# plt.bar() will create a vertical bar chart.\n",
    "plt.bar(['AAPL', 'DOW'], # We have to specify our X labels/location.\n",
    "        [aapl_pct_change, dow_pct_change]) # We have to specify the Y height.\n",
    "\n",
    "# Add a title and show the plot.\n",
    "plt.title('Percent Growth from January 1998 to August 2013');"
   ]
  },
  {
   "cell_type": "markdown",
   "metadata": {},
   "source": [
    "**If you are reporting one or two numbers**, then:\n",
    "- simply state the numbers, or\n",
    "- compare numbers using a bar chart.\n",
    "\n",
    "What you choose to do depends on the time and energy you have.\n",
    "\n",
    "Remember that it is usually a bad idea to just report one number!\n",
    "\n",
    "---\n",
    "\n",
    "#### Commonly, we want to visualize *distributions*.\n",
    "- The **distribution** of a variable is 1) the set of all values of that variable and 2) how frequently we observe each value.\n",
    "\n",
    "<img src=\"./images/household_income.png\" alt=\"drawing\" width=\"525\"/>\n",
    "\n",
    "- This is a visual representation of all of our data. We can then use this to answer lots of other questions.\n",
    "    - What is the likeliest income for someone to have?\n",
    "    - What is the range of incomes?\n",
    "    - How likely is it that someone has an income above 50,000 dollars? Between 100,000 and 150,000 dollars?\n",
    "\n",
    "### If your goal is to visualize the distribution of one variable, then:\n",
    "- if that variable is qualitative: **use a bar chart**.\n",
    "- if that variable is quantitative: **use a histogram**."
   ]
  },
  {
   "cell_type": "markdown",
   "metadata": {},
   "source": [
    "**Example 5**: Suppose we wanted to visualize the distribution of stock values. (That is, how many values did we observe for each ticker?)"
   ]
  },
  {
   "cell_type": "code",
   "execution_count": null,
   "metadata": {},
   "outputs": [],
   "source": [
    "stocks['ticker'].value_counts()"
   ]
  },
  {
   "cell_type": "markdown",
   "metadata": {},
   "source": [
    "### Pandas vs. Matplotlib Plotting\n",
    "\n",
    "- When creating a plot, you can either use a matplotlib/seaborn function or the `plot` method of a pandas series or DataFrame (which itself will call the correct matplotlib function)."
   ]
  },
  {
   "cell_type": "code",
   "execution_count": null,
   "metadata": {},
   "outputs": [],
   "source": [
    "# Using the matplotlib bar function and methods\n",
    "\n",
    "# Set the figure size\n",
    "plt.figure(figsize=(8, 5))\n",
    "\n",
    "# Make the plot\n",
    "plt.bar(stocks['ticker'].value_counts().index,\n",
    "        stocks['ticker'].value_counts())\n",
    "\n",
    "# Add a title\n",
    "plt.title('Number of Closing Stock Prices Stored')\n",
    "\n",
    "# Add an x-axis label\n",
    "plt.xlabel('Ticker');"
   ]
  },
  {
   "cell_type": "code",
   "execution_count": null,
   "metadata": {},
   "outputs": [],
   "source": [
    "# Using the pandas plot method\n",
    "# Create a bar chart.\n",
    "# plot() can create lots of different kinds of plots.\n",
    "# We have to tell it the 'kind' of plot to make; the default is a line plot.\n",
    "(\n",
    "    stocks['ticker']\n",
    "    .value_counts()\n",
    "    .plot(\n",
    "        kind = 'bar', # Set the kind of plot\n",
    "        title = 'Number of Closing Stock Prices Stored', # Add a title\n",
    "        xlabel = 'Ticker', # Add x-axis label\n",
    "        rot=0, # Set the rotation of the tick labels\n",
    "        figsize = (8,5) # Set the fig size\n",
    "        )\n",
    ");"
   ]
  },
  {
   "cell_type": "markdown",
   "metadata": {},
   "source": [
    "### Matplotlib Figures and Axes Objects\n",
    "\n",
    "- You can think of the _Figure_ as the canvas that the plot(s) is being drawn in.\n",
    "- An _axes_ object contains an individual plot. \n",
    "- When you use a matplotlib function to create/modify a plot, it's going to refer to the most recently created plot in that cell.\n",
    "- This is often fine, but it can be a bit ambiguous at times, so it can sometimes be easier to store your plots as axes objects.\n",
    "- You can then call various methods on this object to modify the plot."
   ]
  },
  {
   "cell_type": "code",
   "execution_count": null,
   "metadata": {},
   "outputs": [],
   "source": [
    "ax = (\n",
    "    stocks['ticker']\n",
    "    .value_counts()\n",
    "    .plot(\n",
    "        kind = 'bar', # Set the kind of plot\n",
    "        title = 'Number of Closing Stock Prices Stored', # Add a title\n",
    "        xlabel = 'Ticker', # Add x-axis label\n",
    "        rot=0, # Set the rotation of the tick labels\n",
    "        figsize = (8,5) # Set the fig size\n",
    "        )\n",
    ")\n",
    "\n",
    "# What kind of object is this?\n",
    "print(type(ax))\n",
    "# Call the set method to change the plot\n",
    "ax.set(xlabel='Stock Name', ylabel='Number of Closing Prices');\n",
    "# ax.set_xlabel()\n",
    "# ax.set_title()"
   ]
  },
  {
   "cell_type": "markdown",
   "metadata": {},
   "source": [
    "- There is also an `ax` parameter that you can pass to the pandas plot method to tell it to create the plot in a pre-existing axes object. \n",
    "- This can be useful when you have multiple axes objects (plots) in the same figure and you want to modify them individually.\n",
    "- We'll see this a bit more later, but you can create a figure with multiple plots using the `plt.subplots` function."
   ]
  },
  {
   "cell_type": "code",
   "execution_count": null,
   "metadata": {},
   "outputs": [],
   "source": [
    "# Create figure and axes array\n",
    "fig, axs = plt.subplots(\n",
    "    nrows= 2, # 2 rows of plots\n",
    "    ncols = 2, # 2 columns of plots\n",
    "    figsize=(12,8), # set figure size\n",
    "    tight_layout=True # this makes the spacing between the plots a little better\n",
    ")\n",
    "\n",
    "# Show axes array\n",
    "print(axs)\n",
    "\n",
    "(\n",
    "    stocks['ticker']\n",
    "    .value_counts()\n",
    "    .plot(\n",
    "        kind = 'bar', # Set the kind of plot\n",
    "        title = 'Number of Closing Stock Prices Stored', # Add a title\n",
    "        xlabel = 'Ticker', # Add x-axis label\n",
    "        rot=0, # Set the rotation of the tick labels\n",
    "        ax = axs[0,0] # Place the plot in the first row and first column of the axes array\n",
    "        )\n",
    ")\n",
    "\n",
    "# Add a figure title\n",
    "fig.suptitle('Figure Title', fontsize=20);"
   ]
  },
  {
   "cell_type": "markdown",
   "metadata": {},
   "source": [
    "**Example 6**: Suppose we wanted to visualize the distribution of stock values but write out the name instead of using the stock ticker."
   ]
  },
  {
   "cell_type": "code",
   "execution_count": null,
   "metadata": {},
   "outputs": [],
   "source": [
    "stocks.ticker.value_counts()"
   ]
  },
  {
   "cell_type": "code",
   "execution_count": null,
   "metadata": {},
   "outputs": [],
   "source": [
    "# Create a bar chart.\n",
    "# Vertical bar charts are the default.\n",
    "\n",
    "ax = (\n",
    "    stocks['ticker']\n",
    "    .value_counts()\n",
    "    .plot(\n",
    "        kind = 'bar', \n",
    "        title = 'Number of Closing Stock Prices Stored',\n",
    "        xlabel = 'Ticker', \n",
    "        rot=0,\n",
    "        figsize = (8,5)\n",
    "        )\n",
    ")\n",
    "\n",
    "# Change the xtick labels\n",
    "ax.set(xticklabels = ['Apple', 'Dow', 'Intel\\nCorp.', 'Nike', 'Starbucks', 'Yahoo', 'Google', 'Nasdaq\\nInc.']);"
   ]
  },
  {
   "cell_type": "markdown",
   "metadata": {},
   "source": [
    "You could accomlish the same thing by altering the pandas Series _before_ plotting."
   ]
  },
  {
   "cell_type": "code",
   "execution_count": null,
   "metadata": {},
   "outputs": [],
   "source": [
    "# change the index of the value_counts series before plotting\n",
    "ax = (\n",
    "    stocks['ticker']\n",
    "    .value_counts()\n",
    "    .set_axis(['Apple', 'Dow', 'Intel\\nCorp.', 'Nike', 'Starbucks', 'Yahoo', 'Google', 'Nasdaq\\nInc.'])\n",
    "    .plot(\n",
    "        kind = 'bar', \n",
    "        title = 'Number of Closing Stock Prices Stored',\n",
    "        xlabel = 'Ticker',\n",
    "        rot=0,\n",
    "        figsize = (8,5)\n",
    "        )\n",
    ")"
   ]
  },
  {
   "cell_type": "markdown",
   "metadata": {},
   "source": [
    "**Example 7**: Suppose we wanted to visualize the distribution of stock values but write out the name instead of using the stock ticker as a **horizontal bar chart**."
   ]
  },
  {
   "cell_type": "code",
   "execution_count": null,
   "metadata": {},
   "outputs": [],
   "source": [
    "# 'barh' will create a horizontal bar chart. (Note the 'h' at the end of bar!)\n",
    "ax = (\n",
    "    stocks['ticker']\n",
    "    .value_counts()\n",
    "    .plot(\n",
    "        kind = 'barh', \n",
    "        title = 'Number of Closing Stock Prices Stored',\n",
    "        xlabel = 'Ticker', \n",
    "        figsize = (8,5)\n",
    "        )\n",
    ")\n",
    "\n",
    "# now we're changing the y-axis tick labels\n",
    "ax.set(yticklabels = ['Apple', 'Dow', 'Intel\\nCorp.', 'Nike', 'Starbucks', 'Yahoo', 'Google', 'Nasdaq\\nInc.']);"
   ]
  },
  {
   "cell_type": "markdown",
   "metadata": {},
   "source": [
    "**Example 8**: Suppose we wanted to visualize the distribution of closing stock prices for `SBUX`."
   ]
  },
  {
   "cell_type": "code",
   "execution_count": null,
   "metadata": {},
   "outputs": [],
   "source": [
    "ax = (\n",
    "    stocks\n",
    "    .loc[stocks['ticker'] == 'SBUX', 'close']        \n",
    "    .plot(\n",
    "        kind='hist',\n",
    "        title='Closing Stock Prices for SBUX',\n",
    "        )\n",
    ")\n",
    "\n",
    "ax.set(xlabel = 'Price (USD)');"
   ]
  },
  {
   "cell_type": "code",
   "execution_count": null,
   "metadata": {},
   "outputs": [],
   "source": [
    "# for histograms, there is actually a 'hist' method you can use directly\n",
    "\n",
    "ax = (\n",
    "    stocks\n",
    "    .loc[stocks['ticker'] == 'SBUX', 'close']     \n",
    "    .hist()\n",
    ")\n",
    "\n",
    "ax.set(\n",
    "    title = 'Closing Stock Prices for SBUX',\n",
    "    xlabel = 'Price (USD)',\n",
    "    ylabel = 'Frequency'\n",
    ");"
   ]
  },
  {
   "cell_type": "code",
   "execution_count": null,
   "metadata": {},
   "outputs": [],
   "source": [
    "stocks.loc[stocks['ticker'] == 'SBUX', 'close'].describe()"
   ]
  },
  {
   "cell_type": "markdown",
   "metadata": {},
   "source": [
    "- Note that histograms are easier to produce. When dealing with qualitative variables, we need to tell our bar chart what the X values are. When dealing with quantitative variables, the histogram can infer what it is!\n",
    "- However, also note that histograms can vary wildly based on how many bins (\"categories\") there are."
   ]
  },
  {
   "cell_type": "code",
   "execution_count": null,
   "metadata": {},
   "outputs": [],
   "source": [
    "ax = (\n",
    "    stocks\n",
    "    .loc[stocks['ticker'] == 'SBUX', 'close']        \n",
    "    .plot(\n",
    "        kind='hist',\n",
    "        title='Closing Stock Prices for SBUX (5 bins)',\n",
    "        bins = 5\n",
    "        )\n",
    ")\n",
    "\n",
    "ax.set(xlabel = 'Price (USD)');"
   ]
  },
  {
   "cell_type": "code",
   "execution_count": null,
   "metadata": {},
   "outputs": [],
   "source": [
    "ax = (\n",
    "    stocks\n",
    "    .loc[stocks['ticker'] == 'SBUX', 'close']        \n",
    "    .plot(\n",
    "        kind='hist',\n",
    "        title='Closing Stock Prices for SBUX (25 bins)',\n",
    "        bins = 25\n",
    "        )\n",
    ")\n",
    "\n",
    "ax.set(xlabel = 'Price (USD)');"
   ]
  },
  {
   "cell_type": "code",
   "execution_count": null,
   "metadata": {},
   "outputs": [],
   "source": [
    "ax = (\n",
    "    stocks\n",
    "    .loc[stocks['ticker'] == 'SBUX', 'close']        \n",
    "    .plot(\n",
    "        kind='hist',\n",
    "        title='Closing Stock Prices for SBUX (100 bins)',\n",
    "        bins = 100\n",
    "        )\n",
    ")\n",
    "\n",
    "ax.set(xlabel = 'Price (USD)');"
   ]
  },
  {
   "cell_type": "markdown",
   "metadata": {},
   "source": [
    "There is no best number of bins and any guidelines about number of bins will usually depend on the shape of the data. There are a number of predefined strategies you can use as well (see the `bins` parameter [here](https://numpy.org/doc/stable/reference/generated/numpy.histogram_bin_edges.html)).\n",
    "- ***My \"best practice\" recommendation***: Add a kernel density estimate (`kde`) that will attempt to estimate what the true probability density function (pdf) will look like. This can be done (easily) in `seaborn`, a Python visualization library built on top of `matplotlib`."
   ]
  },
  {
   "cell_type": "code",
   "execution_count": null,
   "metadata": {},
   "outputs": [],
   "source": [
    "ax = sns.displot(\n",
    "    stocks.loc[stocks['ticker'] == 'SBUX', 'close'],\n",
    "    bins=10,\n",
    "    kde = True\n",
    ")"
   ]
  },
  {
   "cell_type": "code",
   "execution_count": null,
   "metadata": {},
   "outputs": [],
   "source": [
    "ax = sns.displot(\n",
    "    stocks.loc[stocks['ticker'] == 'SBUX', 'close'],\n",
    "    bins=100,\n",
    "    kde = True\n",
    ")"
   ]
  },
  {
   "cell_type": "markdown",
   "metadata": {},
   "source": [
    "- ***My \"best practice\" recommendation***: Note that a kernel density estimate might be confusing to some stakeholders (clients, boss, etc.). Consider using `kde = True` only for exploratory visualization.\n",
    "    \n",
    "---\n",
    "\n",
    "**Practice 9**: Visualize the distribution of `GOOG` closing prices. Generate it with a kernel density estimate and tweak the number of bins to get as close to the kde as possible, then generate your plot in a way you'd likely present it to a stakeholder."
   ]
  },
  {
   "cell_type": "code",
   "execution_count": null,
   "metadata": {},
   "outputs": [],
   "source": []
  },
  {
   "cell_type": "code",
   "execution_count": null,
   "metadata": {},
   "outputs": [],
   "source": []
  },
  {
   "cell_type": "markdown",
   "metadata": {},
   "source": [
    "**If your goal is to visualize the distribution of one variable**, then:\n",
    "- if that variable is qualitative: use a bar chart.\n",
    "- if that variable is quantitative: use a histogram.\n",
    "\n",
    "Remember that if you are visualizing with a histogram, then your number of bins might substantially affect how your distribution looks, especially for small sample sizes. Consider using a kernel density estimate to help you visualize a smooth distribution of your data during your **exploratory** phase, but you *may* want to exclude the kde for your **explanatory** (reporting) phase.\n",
    "\n",
    "---\n",
    "\n",
    "#### Commonly, we want to visualize *relationships*.\n",
    "- The **relationship** between two variables allows us to understand if and how one variable changes when another changes.\n",
    "\n",
    "![](./images/scatter.jpeg)\n",
    "\n",
    "- This is a visual representation of all of our data. We can use this to answer lots of other questions.\n",
    "    - Does there appear to be any association between ice cream and murders?\n",
    "    - As ice cream consumption increases, how does the number of murders change?\n",
    "    - **Note: We cannot say anything about causality here!**\n",
    "\n",
    "### If your goal is to visualize the relationship between two variables, then:\n",
    "- if you are comparing two qualitative variables, **use a table or a heatmap**.\n",
    "    - Note: When comparing two qualitative variables, we're usually looking at counts, averages, or some other summary by each of the two categorical variables... so in many cases it's _technically_ three variables.\n",
    "- if you are comparing time and another quantitative variable, **use a lineplot**.\n",
    "- if you are comparing two (non-time) quantitative variables, **use a scatterplot**.\n",
    "- if you are comparing a qualitative variable and a quantitative variable, **use stacked histograms**."
   ]
  },
  {
   "cell_type": "markdown",
   "metadata": {},
   "source": [
    "**Example 10**: Suppose we wanted to examine how stock volume changes over days of week and by stock ticker."
   ]
  },
  {
   "cell_type": "code",
   "execution_count": null,
   "metadata": {},
   "outputs": [],
   "source": [
    "# Generate a PivotTable examining the average volume.\n",
    "\n",
    "df = pd.pivot_table(stocks,\n",
    "               values = 'volume',    # the variable we want to measure\n",
    "               index = 'ticker',    # the rows of our PivotTable - here, it's the stock tickers\n",
    "               columns = 'weekday', # the columns of our PivotTable - here, it's the days of the week\n",
    "               aggfunc = np.mean)   # the function we use to aggregate - here, it's numpy.mean()"
   ]
  },
  {
   "cell_type": "code",
   "execution_count": null,
   "metadata": {},
   "outputs": [],
   "source": [
    "df"
   ]
  },
  {
   "cell_type": "code",
   "execution_count": null,
   "metadata": {},
   "outputs": [],
   "source": [
    "plt.figure(figsize=(16,9))\n",
    "table = plt.table(\n",
    "    cellText=df.round(1).values,\n",
    "    rowLabels=df.index,\n",
    "    colLabels=df.columns,\n",
    "    loc='center'\n",
    ")\n",
    "\n",
    "table.set_fontsize(24)\n",
    "table.scale(1,3)\n",
    "plt.axis('off');"
   ]
  },
  {
   "cell_type": "code",
   "execution_count": null,
   "metadata": {},
   "outputs": [],
   "source": [
    "# convert the values to be in millions\n",
    "\n",
    "plt.figure(figsize=(16,9))\n",
    "table = plt.table(\n",
    "    cellText=(df / 1_000_000).round(1).values,\n",
    "    rowLabels=df.index,\n",
    "    colLabels=df.columns,\n",
    "    loc='center'\n",
    ")\n",
    "\n",
    "table.set_fontsize(24)\n",
    "table.scale(1,3)\n",
    "plt.axis('off');"
   ]
  },
  {
   "cell_type": "code",
   "execution_count": null,
   "metadata": {},
   "outputs": [],
   "source": [
    "# This code is generated with adaptations from \n",
    "# https://matplotlib.org/gallery/images_contours_and_fields/image_annotated_heatmap.html\n",
    "\n",
    "fig, ax = plt.subplots(figsize=(20, 20))\n",
    "\n",
    "# Create heatmap.\n",
    "table = ax.imshow(\n",
    "    X=(df / 1_000_000).round(1).values,\n",
    "    cmap = 'Greens'\n",
    ")\n",
    "\n",
    "ax.set_xticks(np.arange(len(df.columns)))\n",
    "ax.set_yticks(np.arange(len(df.index)))\n",
    "\n",
    "ax.set_xticklabels(df.columns)\n",
    "ax.set_yticklabels(df.index)\n",
    "\n",
    "plt.xticks(fontsize=20)\n",
    "plt.yticks(fontsize=20)\n",
    "\n",
    "plt.title(\"Stock Volume by Stock Ticker & Day of Week\", fontsize = 30)\n",
    "\n",
    "for i in range(len(df.columns)):\n",
    "    for j in range(len(df.index)):\n",
    "        text = ax.text(i,\n",
    "                       j,\n",
    "                       round(df.loc[df.index[j], df.columns[i]]/1_000_000,1),\n",
    "                       ha=\"center\",\n",
    "                       va=\"center\",\n",
    "                       color='k',\n",
    "                       fontsize = 30);"
   ]
  },
  {
   "cell_type": "markdown",
   "metadata": {},
   "source": [
    "A more commonly seen implementation of a heatmap uses the [Seaborn library](https://seaborn.pydata.org)."
   ]
  },
  {
   "cell_type": "code",
   "execution_count": null,
   "metadata": {},
   "outputs": [],
   "source": [
    "stocks.head()"
   ]
  },
  {
   "cell_type": "code",
   "execution_count": null,
   "metadata": {},
   "outputs": [],
   "source": [
    "# calculate the Pearson correlation coefficients\n",
    "corr = stocks.corr()\n",
    "corr"
   ]
  },
  {
   "cell_type": "code",
   "execution_count": null,
   "metadata": {},
   "outputs": [],
   "source": [
    "# This code is taken with minor modifications from https://seaborn.pydata.org/generated/seaborn.heatmap.html\n",
    "\n",
    "# Establish size of figure.\n",
    "plt.figure(figsize=(16,9))\n",
    "\n",
    "# Set up mask to be \"True\" in the upper triangle.\n",
    "mask = np.zeros_like(corr)\n",
    "mask[np.triu_indices_from(mask)] = True\n",
    "\n",
    "# Plot our correlation heatmap, while masking the upper triangle to be white.\n",
    "ax = sns.heatmap(\n",
    "    corr, # the data to be plotted\n",
    "    mask=mask, # mask the upper half\n",
    "    square=True, # makes the figure square\n",
    "    annot=True, # adds the correltation values to the plot\n",
    "    vmin=-1, # sets the min value of the color map range to -1\n",
    "    vmax=1, # sets the max value of the color map range to 1\n",
    "    center=0, # set the center of the range at 0\n",
    "    linewidths=.5 # adds some extra space between the \"cells\"\n",
    ")"
   ]
  },
  {
   "cell_type": "markdown",
   "metadata": {},
   "source": [
    "**Example 11**: Suppose we wanted to examine how stock volume changes over time for GOOG."
   ]
  },
  {
   "cell_type": "code",
   "execution_count": null,
   "metadata": {},
   "outputs": [],
   "source": [
    "# Create line plot of GOOG volume over time.\n",
    "ax = (\n",
    "    stocks\n",
    "    .loc[stocks['ticker'] == 'GOOG']\n",
    "    .plot(\n",
    "        x = 'date', # select column to use for x\n",
    "        y = 'volume', # select column(s) to use for y\n",
    "        figsize = (16, 9),\n",
    "        ylabel = 'Volume',\n",
    "        legend = False # hides the legend\n",
    "    )\n",
    ")"
   ]
  },
  {
   "cell_type": "markdown",
   "metadata": {},
   "source": [
    "**Example 12**: Suppose we wanted to examine how stock volume changes over time for GOOG *and* for NKE."
   ]
  },
  {
   "cell_type": "code",
   "execution_count": null,
   "metadata": {},
   "outputs": [],
   "source": [
    "# Create the line plot for GOOG first\n",
    "ax = (\n",
    "    stocks\n",
    "    .loc[stocks['ticker'] == 'GOOG']\n",
    "    .plot(\n",
    "        x = 'date', # select column to use for x\n",
    "        y = 'volume', # select column(s) to use for y\n",
    "        figsize = (16, 9),\n",
    "        ylabel = 'Volume',\n",
    "        label = 'GOOG' # label the line as 'GOOG'\n",
    "    )\n",
    ")\n",
    "\n",
    "# create the second plot for NKE *on the same axes*\n",
    "(\n",
    "    stocks\n",
    "    .loc[stocks['ticker'] == 'NKE']\n",
    "    .plot(\n",
    "        x = 'date', # select column to use for x\n",
    "        y = 'volume', # select column(s) to use for y\n",
    "        ax = ax, # specify the axes to plot on\n",
    "        label = 'NKE' # set label for the line\n",
    "    )\n",
    ");"
   ]
  },
  {
   "cell_type": "markdown",
   "metadata": {},
   "source": [
    " - You could also create the above figure with a single plot and a pivot table.\n",
    " - Sometimes it's just as easy/easier to manipulate the pandas objects that go into the plot as it is to edit the plot itself."
   ]
  },
  {
   "cell_type": "code",
   "execution_count": null,
   "metadata": {},
   "outputs": [],
   "source": [
    "stocks.pivot_table(\n",
    "    values='volume',\n",
    "    index='date',\n",
    "    columns='ticker'\n",
    ").head()"
   ]
  },
  {
   "cell_type": "code",
   "execution_count": null,
   "metadata": {},
   "outputs": [],
   "source": [
    "ax = (\n",
    "    stocks\n",
    "    .pivot_table(\n",
    "        values='volume',\n",
    "        index='date',\n",
    "        columns='ticker'\n",
    "        )\n",
    "    .plot(\n",
    "        # if you don't specify an 'x' value, it will use the index values instead\n",
    "        y = ['GOOG', 'NKE'], # specify the columns to plot\n",
    "        ylabel = 'Volume',\n",
    "        figsize = (16, 9)    \n",
    "        )\n",
    ")"
   ]
  },
  {
   "cell_type": "markdown",
   "metadata": {},
   "source": [
    "**Example 13**: Suppose we wanted to examine how the stock volume changed from the first day of trading in 2012 to the first day of trading in 2013 for all stock tickers.\n",
    "- A **slopegraph** is what Cole Nussbaumer Knaflic refers to as a line graph with two points on the x-axis."
   ]
  },
  {
   "cell_type": "code",
   "execution_count": null,
   "metadata": {},
   "outputs": [],
   "source": [
    "ax = (\n",
    "    stocks\n",
    "    .pivot_table(\n",
    "        values='volume',\n",
    "        index='date',\n",
    "        columns='ticker'\n",
    "        )\n",
    "    .loc[['2012-01-03', '2013-01-02']] # select the relevant dates\n",
    "    .plot(\n",
    "        figsize=(16, 9),\n",
    "        ylabel = 'Volume',\n",
    "        marker='o' # mark each point with a circle\n",
    "        )\n",
    ")\n",
    "\n",
    "ax.legend(bbox_to_anchor=(1, 1)); # move the legend outside of the plot"
   ]
  },
  {
   "cell_type": "markdown",
   "metadata": {},
   "source": [
    "**Example 14**: Suppose we wanted to visualize how strongly correlated high daily prices and daily trading volumes are."
   ]
  },
  {
   "cell_type": "code",
   "execution_count": null,
   "metadata": {},
   "outputs": [],
   "source": [
    "ax = stocks.plot(\n",
    "    kind='scatter', # specify scatter plot\n",
    "    x='high',\n",
    "    y='volume',\n",
    "    title=\"High Daily Prices versus Daily Trading Volume\",\n",
    "    alpha=0.2, # set the opacity of the points (0 is completely transparent and 1 is opaque)\n",
    "    figsize=(16,9)\n",
    ")\n",
    "\n",
    "ax.set_xlabel(\"High Daily Price\", fontsize=20) # set the axes labels with a fontsize\n",
    "ax.set_ylabel(\"Daily Trading Volume\", fontsize = 20);"
   ]
  },
  {
   "cell_type": "markdown",
   "metadata": {},
   "source": [
    "## Adding Color to Your Plots\n",
    "- Can use one of the named colors [here](https://matplotlib.org/stable/gallery/color/named_colors.html).\n",
    "- Can use a hex RGB color string, for example from [here](https://www.w3schools.com/colors/colors_picker.asp).\n",
    "- An RGB tuple. \n",
    "- Other methods that you can read about [here](https://matplotlib.org/stable/tutorials/colors/colors.html)."
   ]
  },
  {
   "cell_type": "code",
   "execution_count": null,
   "metadata": {},
   "outputs": [],
   "source": [
    "ax = stocks.plot(\n",
    "    kind='scatter', # specify scatter plot\n",
    "    x='high',\n",
    "    y='volume',\n",
    "    title=\"High Daily Prices versus Daily Trading Volume\",\n",
    "    c='darkorange', # set the color of the points\n",
    "    alpha=0.2, # set the opacity of the points (0 is completely transparent and 1 is opaque)\n",
    "    figsize=(16,9)\n",
    ")\n",
    "\n",
    "ax.set_xlabel(\"High Daily Price\", fontsize=20) # set the axes labels with a fontsize\n",
    "ax.set_ylabel(\"Daily Trading Volume\", fontsize = 20);"
   ]
  },
  {
   "cell_type": "markdown",
   "metadata": {},
   "source": [
    "**Example 15**: Suppose we want to color the points on our scatter plot by a third numerical column.\n",
    "- By setting the `c` parameter to a column name, you can also create a color gradient based on those values.\n",
    "- The `cmap` parameter controls what gradient is used. You can read more about matplotlib color maps [here](https://matplotlib.org/stable/tutorials/colors/colormaps.html)."
   ]
  },
  {
   "cell_type": "code",
   "execution_count": null,
   "metadata": {},
   "outputs": [],
   "source": [
    "ax = stocks.plot(\n",
    "    kind='scatter', # specify scatter plot\n",
    "    x='high',\n",
    "    y='volume',\n",
    "    title=\"High Daily Prices versus Daily Trading Volume\",\n",
    "    c='close', # color the points by the price at close\n",
    "    cmap='plasma', # choose a colormap\n",
    "    alpha=0.2, # set the opacity of the points (0 is completely transparent and 1 is opaque)\n",
    "    figsize=(16,9)\n",
    ")\n",
    "\n",
    "ax.set_xlabel(\"High Daily Price\", fontsize=20) # set the axes labels with a fontsize\n",
    "ax.set_ylabel(\"Daily Trading Volume\", fontsize = 20);"
   ]
  },
  {
   "cell_type": "markdown",
   "metadata": {},
   "source": [
    "**Example 16**: If you want to color by a _categorical_ column, it's generally easier to use Seaborn."
   ]
  },
  {
   "cell_type": "code",
   "execution_count": null,
   "metadata": {},
   "outputs": [],
   "source": [
    "plt.figure(figsize=(16,9))\n",
    "\n",
    "ax = sns.scatterplot(\n",
    "    data=stocks[stocks['ticker'].isin(['AAPL','GOOG'])], # specify dataframe\n",
    "    x='high',\n",
    "    y='volume',\n",
    "    hue='ticker', # column to color by\n",
    "    alpha=0.1\n",
    ")"
   ]
  },
  {
   "cell_type": "markdown",
   "metadata": {},
   "source": [
    "**Example 17**: You can quickly* generate a grid of scatter plots for all of your numerical features using Seaborn.\n",
    "- *Depending on how many features you have and how many observations, this can sometimes take a long time to generate."
   ]
  },
  {
   "cell_type": "code",
   "execution_count": null,
   "metadata": {},
   "outputs": [],
   "source": [
    "axs = sns.pairplot(stocks, height=3)"
   ]
  },
  {
   "cell_type": "markdown",
   "metadata": {},
   "source": [
    "**Example 18**: Suppose you want to visualize the distribution of low prices for `GOOG`, `SBUX`, and `AAPL`."
   ]
  },
  {
   "cell_type": "code",
   "execution_count": null,
   "metadata": {},
   "outputs": [],
   "source": [
    "# Create figure and axes array with 3 rows and 1 column\n",
    "fig, axs = plt.subplots(3, 1, figsize = (16,9), tight_layout=True, sharex=True)\n",
    "\n",
    "# Use a for loop to iterate over each ticker\n",
    "for i, ticker in enumerate(['GOOG', 'SBUX', 'AAPL']):\n",
    "    (\n",
    "        stocks\n",
    "        .loc[stocks['ticker'] == ticker, 'low'] \n",
    "        .plot(\n",
    "            ax=axs[i], # tell it which plot to go in\n",
    "            kind='hist',\n",
    "            title=f'{ticker} Low Prices',\n",
    "        )\n",
    "    )\n",
    "    \n",
    "axs[2].set_xlabel('Price');"
   ]
  },
  {
   "cell_type": "markdown",
   "metadata": {},
   "source": [
    "Or, you can use the `hist` method, which can basically do the same thing."
   ]
  },
  {
   "cell_type": "code",
   "execution_count": null,
   "metadata": {},
   "outputs": [],
   "source": [
    "axs = (\n",
    "    stocks\n",
    "    .loc[stocks['ticker'].isin(['GOOG', 'SBUX', 'AAPL'])]\n",
    "    .hist(\n",
    "        column='low',\n",
    "        by='ticker',\n",
    "        layout=(3,1),\n",
    "        figsize=(16, 9),\n",
    "        sharex=True\n",
    "    )\n",
    ")\n",
    "\n",
    "axs[2].set_xlabel('Price');"
   ]
  },
  {
   "cell_type": "markdown",
   "metadata": {},
   "source": [
    "**Example 19**: Suppose you want to visualize the distribution of low prices for `GOOG`, `SBUX`, and `AAPL` but want to explicitly show the differences in means between the groups."
   ]
  },
  {
   "cell_type": "code",
   "execution_count": null,
   "metadata": {},
   "outputs": [],
   "source": [
    "axs = (\n",
    "    stocks\n",
    "    .loc[stocks['ticker'].isin(['GOOG', 'SBUX', 'AAPL'])]\n",
    "    .hist(\n",
    "        column='low',\n",
    "        by='ticker',\n",
    "        layout=(3,1),\n",
    "        figsize=(16, 9),\n",
    "        sharex=True\n",
    "    )\n",
    ")\n",
    "\n",
    "axs[2].set_xlabel('Price');\n",
    "\n",
    "means = stocks.groupby('ticker')['low'].mean()\n",
    "\n",
    "for i, name in enumerate(['AAPL', 'GOOG', 'SBUX']):\n",
    "    y_min, y_max = axs[i].get_ylim()\n",
    "    axs[i].vlines(x=means[name], ymin=y_min, ymax=y_max, colors='r')"
   ]
  },
  {
   "cell_type": "markdown",
   "metadata": {},
   "source": [
    "### Grouped/Stacked Bar Charts\n",
    "\n",
    "**Example 20**: Suppose you want to calculate the mean value of a numerical feature based on one or two groupings of categorical features.\n",
    "- You can often use `groupby` on a categorical feature and calculate some stat of a numerical feature to create a bar chart."
   ]
  },
  {
   "cell_type": "code",
   "execution_count": null,
   "metadata": {},
   "outputs": [],
   "source": [
    "ax = (\n",
    "    stocks\n",
    "    .groupby('weekday')\n",
    "    ['volume']\n",
    "    .mean()\n",
    "    .plot(\n",
    "        kind='barh',\n",
    "        figsize=(8,5)\n",
    "    )\n",
    ")\n",
    "\n",
    "ax.set_xlabel('Mean Volume');"
   ]
  },
  {
   "cell_type": "markdown",
   "metadata": {},
   "source": [
    "**Example 21**: Grouping on _two_ categorical features is useful for creating grouped or stacked bar charts."
   ]
  },
  {
   "cell_type": "code",
   "execution_count": null,
   "metadata": {},
   "outputs": [],
   "source": [
    "# create figure with 2 rows and 1 column\n",
    "fig, axs = plt.subplots(2, 1, figsize=(16, 9), sharex=True)\n",
    "\n",
    "# plot a grouped bar chart\n",
    "(\n",
    "    stocks\n",
    "    .groupby(['weekday', 'ticker'])\n",
    "    ['volume']\n",
    "    .mean()\n",
    "    .unstack() # transposes the innermost index into columns\n",
    "    .plot(\n",
    "        kind='bar',\n",
    "        figsize=(16,9),\n",
    "        ylabel='Volume',\n",
    "        ax=axs[0]\n",
    "    )\n",
    ")\n",
    "\n",
    "(\n",
    "    stocks\n",
    "    .groupby(['weekday', 'ticker'])\n",
    "    ['volume']\n",
    "    .mean()\n",
    "    .unstack() # transposes the innermost index into columns\n",
    "    .plot(\n",
    "        kind='bar',\n",
    "        figsize=(16,9),\n",
    "        ylabel='Volume',\n",
    "        stacked=True, # Use a stacked bar chart,\n",
    "        rot=0, # set the rotation of the xtick labels\n",
    "        ax=axs[1],\n",
    "        legend=False # hide the legend \n",
    "    )\n",
    ");"
   ]
  },
  {
   "cell_type": "markdown",
   "metadata": {},
   "source": [
    "Some people will use stacked bar charts to visualize the distribution of variables broken out into categories. I generally prefer to not do this, but they can sometimes be useful if you want to compare the fraction of the total amount for different groups.\n",
    "- ***My \"best practice\" recommendation***: Stay away from stacked bar charts; there are usually better ways to communicate what you want to communicate."
   ]
  },
  {
   "cell_type": "markdown",
   "metadata": {},
   "source": [
    "### If-This-Then-That Rules\n",
    "- If I am stating one or two numbers, then:\n",
    "    - **simply report the numbers**.\n",
    "    - compare numbers using a **bar chart**.\n",
    "- If I am visualizing the distribution of one variable, then:\n",
    "    - If that variable is qualitative: **use a bar chart**.\n",
    "    - If that variable is quantitative: **use a histogram**.\n",
    "- If I am visualizing the relationship between two variables, then:\n",
    "    - If both variables are qualitative, then: \n",
    "        - If there are at most three categories for both variable, then **use a table**.\n",
    "        - If there are more than three categories in either variable, then **use a heatmap**.\n",
    "    - If both variables are quantitative, then:\n",
    "        - If one variable is time, then **use a line plot**.\n",
    "        - Otherwise, **use a scatterplot**.\n",
    "    - If one variable is quantitative and another is qualitative then:\n",
    "        - **Use a bunch of histograms**.\n",
    "        - Use `groupby` with bar charts.\n",
    "        - Use box plots (more on this later).\n",
    "        - Stacked bar charts, if you choose to do so."
   ]
  },
  {
   "cell_type": "markdown",
   "metadata": {},
   "source": [
    "## Interview Question\n",
    "\n",
    "\n",
    "<details><summary>You are analyzing attrition (employees leaving a company). You have a dataset of all employees, with specific features on their role (department, position, salary, etc.) and whether or not they left the company. Your analysis should indicate how many individuals left the organization and identify any trends associated with attrition (ex. concentration, etc.) What visualizations would you build to communicate your findings to the client? (Answers can - and should - vary!)\n",
    "</summary>\n",
    "    \n",
    "- Since \"left company\" is a categorical variable, we could generate a heatmap comparing these values with other categorical variables like department, position, etc.\n",
    "- We could generate stacked histograms comparing \"left company\" for quantitative variables. For example, visualize salary for those who stayed versus those who left.\n",
    "</details>"
   ]
  },
  {
   "cell_type": "markdown",
   "metadata": {},
   "source": [
    "# Intermediate: Improving the basic visualization.\n",
    "\n",
    "If you're familiar with before/after images, they're a convenient way for us to see how drastically things have changed.\n",
    "\n",
    "<img src=\"./images/santorini_before.jpg\" alt=\"drawing\" width=\"750\"/>\n",
    "\n",
    "<img src=\"./images/santorini_after.jpg\" alt=\"drawing\" width=\"750\"/>\n",
    "\n",
    "- Images pulled from [this site](https://photographyconcentrate.com/15-snazzy-lightroom-and-afters/); recommendation by Shannon Bingham, DSI-US-6.\n",
    "\n",
    "What we've done so far is to create the \"before\" image. We've identified a ***good*** tool for the job. Now let's make it a ***great*** tool.\n",
    "\n",
    "Before getting into a specific list of things to consider, let's head to this blog post about \"[Unmaking Graphs](https://towardsdatascience.com/unmaking-graphs-f584625c5bfd).\""
   ]
  },
  {
   "cell_type": "markdown",
   "metadata": {},
   "source": [
    "**Example 22**: Suppose we wanted to visualize two stock prices over time. It would be helpful to be able to compare these stock prices to one another as well.\n",
    "\n",
    "<details><summary>What type of chart would we likely want to create?</summary>\n",
    "\n",
    "- If we are visualizing the relationship between two variables:\n",
    "    - If both variables are quantitative:\n",
    "        - If one quantitative variable is time:\n",
    "            - If we are visualizing over more than two time points:\n",
    "                - Let's do a line graph!\n",
    "</details>"
   ]
  },
  {
   "cell_type": "code",
   "execution_count": null,
   "metadata": {},
   "outputs": [],
   "source": [
    "import matplotlib.dates as dates\n",
    "import datetime"
   ]
  },
  {
   "cell_type": "code",
   "execution_count": null,
   "metadata": {},
   "outputs": [],
   "source": [
    "# Create 2 plots in a 2x1 grid\n",
    "fig, axs = plt.subplots(2, 1, figsize=(15,15), tight_layout=True)\n",
    "\n",
    "# Set the figure title\n",
    "fig.suptitle(\"AAPL and SBUX rates over time\")\n",
    "\n",
    "# Plot AAPl in the top plot\n",
    "stocks[stocks['ticker']=='AAPL'].plot(\n",
    "    x='date',\n",
    "    y='close',\n",
    "    ax=axs[0],\n",
    "    label='AAPL',\n",
    "    color='green',\n",
    "    xlabel='Time',\n",
    "    ylabel='Price in Dollars'\n",
    ")\n",
    "\n",
    "# Plot SBUX in the bottom plot\n",
    "stocks[stocks['ticker']=='SBUX'].plot(\n",
    "    x='date',\n",
    "    y='close',\n",
    "    ax=axs[1],\n",
    "    label='SBUX',\n",
    "    color='red',\n",
    "    xlabel='Time',\n",
    "    ylabel='Price in Dollars'\n",
    ")\n",
    "\n",
    "for ax in axs:\n",
    "    # Add a grid to each plot\n",
    "    ax.grid(linewidth=3, linestyle='-.', c='black')\n",
    "    \n",
    "    # Set tick mark positions on x-axis\n",
    "    ax.set_xticks(\n",
    "        dates.drange(\n",
    "            dstart=datetime.datetime(1997, 1, 1),\n",
    "            dend=datetime.datetime(2014, 12, 31),\n",
    "            delta=datetime.timedelta(weeks=26)\n",
    "        )\n",
    "    )\n",
    "    \n",
    "    # Set labels of xticks and rotate them\n",
    "    ax.set_xticklabels(\n",
    "        dates.num2date(\n",
    "            dates.drange(\n",
    "                dstart=datetime.datetime(1997, 1, 1),\n",
    "                dend=datetime.datetime(2014, 12, 31),\n",
    "                delta=datetime.timedelta(weeks=26)\n",
    "            )\n",
    "        ),\n",
    "        rotation=45\n",
    "    )\n",
    "    \n",
    "    # Move the legend\n",
    "    ax.legend(loc='upper left');"
   ]
  },
  {
   "cell_type": "markdown",
   "metadata": {},
   "source": [
    "<details><summary>Let's critique this. What do you like about these plots? What do you dislike?</summary>\n",
    "\n",
    "- The y-axes are different, so it's hard to directly compare the two together. This could be done more efficiently in one plot.\n",
    "- Red and green together is a bad idea due to colorblindness (a pretty prevalent condition). Let's pick better colors! Blue and orange are good choices for two contrasting colors.\n",
    "- The grid is really \"loud\" and pulls attention from the series we want to study. Can we make it subtler in color and pattern or get rid of it completely?\n",
    "- The x-axis has way too much information. At minimum, we can get rid of the 00:00:00+00:00 because this isn't providing any additional information. However, we can probably get rid of the days/months and make the tick marks less frequent. (We know how years are ordered, so we could just have 1998, 2003, 2008, and 2013 if we wanted!)\n",
    "- Rotating the tick labels makes it tough for us to read the labels. Let's un-rotate them.\n",
    "- We probably don't need the x-axis label. If we see the values 1998, 2003, 2008, and 2013, we can reasonably assume that this means years or time. Since the label isn't giving us any additional information, let's get rid of it!\n",
    "- The title is hard to view. Let's make it larger.\n",
    "- We can increase the size of our legend.\n",
    "- This is a non-exhaustive list!\n",
    "</details>"
   ]
  },
  {
   "cell_type": "code",
   "execution_count": null,
   "metadata": {},
   "outputs": [],
   "source": [
    "# Get relevant data in a pivot table for single plot\n",
    "\n",
    "ax = (\n",
    "    stocks\n",
    "    .pivot_table(\n",
    "        values='close',\n",
    "        index='date',\n",
    "        columns='ticker'\n",
    "    )\n",
    "    [['AAPL', 'SBUX']]\n",
    "    .plot(\n",
    "        figsize=(16,9),\n",
    "        rot=0,\n",
    "        fontsize=20,\n",
    "    )\n",
    ")\n",
    "\n",
    "# Add the grid\n",
    "ax.grid(linewidth=0.5, alpha=0.1, c='black')\n",
    "\n",
    "# Move the legend and change the font size\n",
    "ax.legend(loc='upper left', fontsize=20)\n",
    "\n",
    "# Add a title\n",
    "ax.set_title(\"Apple's stock price has beaten Starbucks' since 2005.\", fontsize=30)\n",
    "\n",
    "# Remove the xlabel\n",
    "ax.set_xlabel(None)\n",
    "\n",
    "# This just centers the xtick labels on the ticks\n",
    "for label in ax.xaxis.get_majorticklabels():\n",
    "    label.set_horizontalalignment('center')"
   ]
  },
  {
   "cell_type": "code",
   "execution_count": null,
   "metadata": {},
   "outputs": [],
   "source": [
    "# Get relevant data in a pivot table for single plot\n",
    "\n",
    "ax = (\n",
    "    stocks\n",
    "    .pivot_table(\n",
    "        values='close',\n",
    "        index='date',\n",
    "        columns='ticker'\n",
    "    )\n",
    "    [['AAPL', 'SBUX']]\n",
    "    .plot(\n",
    "        figsize=(16,9),\n",
    "        rot=0,\n",
    "        fontsize=20,\n",
    "    )\n",
    ")\n",
    "\n",
    "# Add the grid\n",
    "ax.grid(linewidth=0.5, alpha=0.1, c='black')\n",
    "\n",
    "# Move the legend and change the font size\n",
    "ax.legend(loc='upper left', fontsize=20)\n",
    "\n",
    "# Add a title\n",
    "ax.set_title(\"Apple's stock price has beaten Starbucks' since 2005.\", fontsize=30)\n",
    "\n",
    "# Remove the xlabel\n",
    "ax.set_xlabel(None)\n",
    "\n",
    "# This just centers the xtick labels on the ticks\n",
    "for label in ax.xaxis.get_majorticklabels():\n",
    "    label.set_horizontalalignment('center')\n",
    "    \n",
    "# Add vertical line (vlines) to specifically identify the point of interest.\n",
    "ax.vlines(x=datetime.datetime(2005, 1, 1), ymin=0, ymax=ax.get_ylim()[1], color='r');"
   ]
  },
  {
   "cell_type": "markdown",
   "metadata": {},
   "source": [
    "## Saving Your Plots\n",
    "**Example 23**: You've put lots of effort into making your plot just right, but now you need to save it so you can show someone else!"
   ]
  },
  {
   "cell_type": "code",
   "execution_count": null,
   "metadata": {},
   "outputs": [],
   "source": [
    "# Get relevant data in a pivot table for single plot\n",
    "\n",
    "ax = (\n",
    "    stocks\n",
    "    .pivot_table(\n",
    "        values='close',\n",
    "        index='date',\n",
    "        columns='ticker'\n",
    "    )\n",
    "    [['AAPL', 'SBUX']]\n",
    "    .plot(\n",
    "        figsize=(16,9),\n",
    "        rot=0,\n",
    "        fontsize=20,\n",
    "    )\n",
    ")\n",
    "\n",
    "# Add the grid\n",
    "ax.grid(linewidth=0.5, alpha=0.1, c='black')\n",
    "\n",
    "# Move the legend and change the font size\n",
    "ax.legend(loc='upper left', fontsize=20)\n",
    "\n",
    "# Add a title\n",
    "ax.set_title(\"Apple's stock price has beaten Starbucks' since 2005.\", fontsize=30)\n",
    "\n",
    "# Remove the xlabel\n",
    "ax.set_xlabel(None)\n",
    "\n",
    "# This just centers the xtick labels on the ticks\n",
    "for label in ax.xaxis.get_majorticklabels():\n",
    "    label.set_horizontalalignment('center')\n",
    "    \n",
    "# Add vertical line (vlines) to specifically identify the point of interest.\n",
    "ax.vlines(x=datetime.datetime(2005, 1, 1), ymin=0, ymax=ax.get_ylim()[1], color='r')\n",
    "\n",
    "# Save the figure to a file\n",
    "ax.get_figure().savefig('fig_exmple.jpg', bbox_inches='tight')"
   ]
  },
  {
   "cell_type": "markdown",
   "metadata": {},
   "source": [
    "## When de-cluttering, here is an incomplete list of things to consider doing:\n",
    "### Chart Types\n",
    "##### Take away pie charts. (Use a bar chart instead!)\n",
    "    \n",
    "![](./images/pie_chart.png)\n",
    "    \n",
    "##### Take away 3D charts (especially pie charts)!\n",
    "    \n",
    "![](./images/3d_pie_chart.jpg)\n",
    "![](./images/3d_column_chart.jpg)\n",
    "\n",
    "##### Take away secondary y-axes.\n",
    "    \n",
    "![](./images/secondary_y_axis.png)\n",
    "\n",
    "### Use color effectively.\n",
    "    - Avoid red/green.\n",
    "    - Use a gradient.\n",
    "    \n",
    "![](./images/color-bar-chart.png)\n",
    "\n",
    "    - Remove background color.\n",
    "    - Color should emphasize.\n",
    "    - There are ways to emphasize other than color! (Size, a label, proximity, etc.) If you are concerned that your image is too \"cluttered,\" then consider toning down your use of color.\n",
    "    \n",
    "### Axes\n",
    "    - Don't rotate labels.\n",
    "    - Consider rotating your chart if your axis labels are too large.\n",
    "    - Move borders to light grey.\n",
    "    - Remove grid.\n",
    "    \n",
    "### Other\n",
    "    - Place legend properly (if needed).\n",
    "    - If lots of small categories/extreme values, consider collapsing/truncating them.\n",
    "    - Order categories in sensical order. If a logical/sensical order does not exist, then from largest value to smallest value."
   ]
  },
  {
   "cell_type": "markdown",
   "metadata": {},
   "source": [
    "---\n",
    "## Crafting the experience:\n",
    "    - Use smart chart title.    \n",
    "    - Align along vertical axis.\n",
    "    - Use bold to emphasize text. (But don't bold everything! Recommendations include to bold at most 10% of your text.)\n",
    "    - If there is a lot going on, then walk people through it slowly.\n",
    "\n",
    "<img src=\"./images/investment_1.png\" width=\"500\">\n",
    "\n",
    "<img src=\"./images/investment_2.png\" width=\"500\">"
   ]
  },
  {
   "cell_type": "markdown",
   "metadata": {},
   "source": [
    "# Bonus: Adding interactivity to visualizations with `bokeh`.\n",
    "\n",
    "The [Bokeh](https://bokeh.pydata.org/en/latest/) library is a wonderful library that enables us to create interactive visualizations. The library is built in Python, but is built on top of Javascript.\n",
    "- This means that we get to work in Python, but our Python code will get the benefits of what Javascript can do!\n",
    "\n",
    "If you want to generate your own interactive visuals, I encourage you to check out the [Bokeh gallery](https://bokeh.pydata.org/en/latest/docs/gallery.html), then edit from there."
   ]
  },
  {
   "cell_type": "code",
   "execution_count": null,
   "metadata": {},
   "outputs": [],
   "source": [
    "# This example is pulled directly from https://bokeh.pydata.org/en/latest/docs/gallery/range_tool.html\n",
    "# with minor edits being made, mostly to add comments.\n",
    "\n",
    "from bokeh.io import show, output_notebook\n",
    "from bokeh.layouts import column\n",
    "from bokeh.models import ColumnDataSource, RangeTool\n",
    "from bokeh.plotting import figure\n",
    "\n",
    "#from bokeh.sampledata.stocks import AAPL\n",
    "\n",
    "# Put AAPL stock into a NumPy array.\n",
    "dates = np.array(stocks[stocks['ticker'] == 'AAPL']['date'], dtype=np.datetime64)\n",
    "\n",
    "# Specify the data.\n",
    "source = ColumnDataSource(data=dict(date=dates, close=stocks[stocks['ticker'] == 'AAPL']['close']))\n",
    "\n",
    "# Generate the top plot.\n",
    "p = figure(plot_height=300,          # What is the height of the top plot? \n",
    "           plot_width=800,           # What is the width of the top plot? \n",
    "           tools=\"xpan\",             # No tools.\n",
    "           toolbar_location=None,    # No toolbar.\n",
    "           x_axis_type=\"datetime\",   # X-axis has a specific type: datetime. Ensures dates appear properly.\n",
    "           x_axis_location=\"above\",  # Y-axis needs no specific formatting/typing.\n",
    "           background_fill_color=\"#efefef\",     # Specify background color.\n",
    "           x_range=(dates[1500], dates[2500]))  # Specify starting x-range for top plot. (1,500th through 2,500th value.)\n",
    "\n",
    "# Specify the line being generated (similar to plt.plot()).\n",
    "p.line('date', 'close', source=source)\n",
    "\n",
    "# Setting label on the y-axis (vertical axis).\n",
    "p.yaxis.axis_label = 'Price'\n",
    "\n",
    "# Generate the bottom plot.\n",
    "select = figure(title=\"Drag the middle and edges of the selection box to change the range above\", # Title of the plot.\n",
    "                plot_height=130,     # What is the height of the bottom plot? \n",
    "                plot_width=800,      # What is the width of the bottom plot? \n",
    "                y_range=p.y_range,   # Make sure that the y-axes have the same height for both top and bottom plots.\n",
    "                x_axis_type=\"datetime\",          # X-axis has a specific type: datetime. Ensures dates appear properly.\n",
    "                y_axis_type=None,                # Y-axis needs no specific formatting/typing.\n",
    "                tools=\"\",                        # No tools. (For now; one will be added later.)\n",
    "                toolbar_location=None,           # No toolbar.\n",
    "                background_fill_color=\"#efefef\") # Specify background color.\n",
    "\n",
    "# Set up the \"range tool\" in the bottom plot.\n",
    "range_rool = RangeTool(x_range=p.x_range) # Make sure the x-axes have the same width for the top and bottom plots.\n",
    "range_rool.overlay.fill_color = \"navy\"    # Color the \"range tool\" box navy.\n",
    "range_rool.overlay.fill_alpha = 0.2       # Make the \"range tool\" box 80% transparent.\n",
    "\n",
    "# Specify the line being generated (similar to plt.plot()).\n",
    "select.line('date', 'close', source=source)\n",
    "\n",
    "# No grid.\n",
    "select.ygrid.grid_line_color = None\n",
    "\n",
    "# Add the range_rool tool to the select plot.\n",
    "select.add_tools(range_rool)\n",
    "select.toolbar.active_multi = range_rool\n",
    "\n",
    "# Make our results show up in our Jupyter notebook.\n",
    "output_notebook()\n",
    "\n",
    "# If you want the results to show up in a .html file,\n",
    "# run \"from bokeh.io import output_file\"\n",
    "# then run \"output_file('./filename.html')\"\n",
    "\n",
    "# Display these in a column with our plot (p) above the select tool in one column.\n",
    "show(column(p, select));"
   ]
  },
  {
   "cell_type": "markdown",
   "metadata": {},
   "source": [
    "<details><summary>What is a situation in which this visual would work well?</summary>\n",
    "- When you're measuring something over a long period of time and want to be able to view the whole thing and also more granularly see individual shifts.\n",
    "</details>"
   ]
  },
  {
   "cell_type": "markdown",
   "metadata": {},
   "source": [
    "Interactivity is something that you will generally consider using in the following cases:\n",
    "1. When you want to visualize more than 3-4 variables at the same time.\n",
    "    - Example [here](https://gapminder.org/tools/#$chart-type=bubbles).\n",
    "2. When you want your visual to show macro (large) trends but also allow your user to get additional detail on the micro level if desired.\n",
    "    - Example [here](http://www.nytimes.com/interactive/2012/10/15/us/politics/swing-history.html?_r=2&).\n",
    "\n",
    "## Plotly\n",
    "[Plotly](https://plotly.com/python/) is another popular visualization library that allows you to incorporate interactivity."
   ]
  },
  {
   "cell_type": "code",
   "execution_count": null,
   "metadata": {},
   "outputs": [],
   "source": [
    "import plotly.express as px\n",
    "\n",
    "px.scatter(\n",
    "    stocks[stocks['ticker'].isin(['AAPL','GOOG'])],\n",
    "    x='high',\n",
    "    y='volume',\n",
    "    color='ticker'\n",
    ")"
   ]
  },
  {
   "cell_type": "code",
   "execution_count": null,
   "metadata": {},
   "outputs": [],
   "source": []
  }
 ],
 "metadata": {
  "kernelspec": {
   "display_name": "Python [conda env:dsi]",
   "language": "python",
   "name": "conda-env-dsi-py"
  },
  "language_info": {
   "codemirror_mode": {
    "name": "ipython",
    "version": 3
   },
   "file_extension": ".py",
   "mimetype": "text/x-python",
   "name": "python",
   "nbconvert_exporter": "python",
   "pygments_lexer": "ipython3",
   "version": "3.8.8"
  }
 },
 "nbformat": 4,
 "nbformat_minor": 4
}
