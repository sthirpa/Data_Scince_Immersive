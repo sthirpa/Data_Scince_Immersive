{
 "cells": [
  {
   "cell_type": "markdown",
   "metadata": {},
   "source": [
    "<img src=\"http://imgur.com/1ZcRyrc.png\" style=\"float: left; margin: 20px; height: 55px\" />\n",
    "\n",
    "# Quiz 1 - Solutions\n",
    "**Version 2 (retake)**\n",
    "\n",
    "This notebook contains 5 coding challenges. You are to download this repository and fill in the quiz with your answers, taking special care to follow the directions _exactly_. In many questions, we ask that you name variables in a specific way. Make sure to do this, as we use it for grading.\n",
    "\n",
    "To **submit** your quiz, add the quiz folder to your Submissions repo and turn it in via [Google Classroom](https://classroom.google.com/).\n",
    "\n",
    "### Quiz Information:\n",
    "- This is an \"open book\" quiz - you may use any resources! This includes (but is not limited to) Jupyter notebooks, Google, StackOverflow, and your notes. **ANY RESOURCE YOU USE MUST BE CITED** (comment your code with links, which lesson you got the inspiration from, etc.) and failure to cite resources you use will be considered plagiarism. \n",
    "- You may NOT work with anyone else on this quiz (your classmates, your instructor, etc.).\n",
    "- You will have **45 minutes** to take this quiz and submit it!"
   ]
  },
  {
   "cell_type": "markdown",
   "metadata": {},
   "source": [
    "## Problem 1: List Comprehension\n",
    "\n",
    "Here is some (simplified) sample data taken from the [SEC](https://www.sec.gov/files/company_tickers.json) website:\n",
    "```python\n",
    "sample = [\n",
    "    {\"cik_str\":1750,\"ticker\":\"AIR\",\"title\":\"AAR CORP\"},\n",
    "    {\"cik_str\":1800,\"ticker\":\"ABT\",\"title\":\"ABBOTT LABORATORIES\"},\n",
    "    {\"cik_str\":1961,\"ticker\":\"WDDD\",\"title\":\"WORLDS INC\"},\n",
    "    {\"cik_str\":2034,\"ticker\":\"ACET\",\"title\":\"ACETO CORP\"},\n",
    "    {\"cik_str\":2098,\"ticker\":\"ACU\",\"title\":\"ACME UNITED CORP\"},\n",
    "    {\"cik_str\":2178,\"ticker\":\"AE\",\"title\":\"ADAMS RESOURCES & ENERGY, INC.\"},\n",
    "    {\"cik_str\":2186,\"ticker\":\"BKTI\",\"title\":\"BK Technologies Corp\"},\n",
    "    {\"cik_str\":2488,\"ticker\":\"AMD\",\"title\":\"ADVANCED MICRO DEVICES INC\"},\n",
    "    {\"cik_str\":2809,\"ticker\":\"AEM\",\"title\":\"AGNICO EAGLE MINES LTD\"},\n",
    "    {\"cik_str\":2969,\"ticker\":\"APD\",\"title\":\"AIR PRODUCTS & CHEMICALS INC /DE/\"},\n",
    "    {\"cik_str\":3116,\"ticker\":\"AKRX\",\"title\":\"AKORN INC\"},\n",
    "    {\"cik_str\":3116,\"ticker\":\"AKRXQ\",\"title\":\"AKORN INC\"},\n",
    "    {\"cik_str\":3153,\"ticker\":\"ALP-PQ\",\"title\":\"ALABAMA POWER CO\"},\n",
    "    {\"cik_str\":3153,\"ticker\":\"ALPVN\",\"title\":\"ALABAMA POWER CO\"},\n",
    "    {\"cik_str\":3153,\"ticker\":\"APRCP\",\"title\":\"ALABAMA POWER CO\"},\n",
    "    {\"cik_str\":3153,\"ticker\":\"APRDM\",\"title\":\"ALABAMA POWER CO\"}\n",
    "]\n",
    "```\n",
    "Use list comprehension to create a list of all the `\"ticker\"`s. Your result should look like this:\n",
    "```python\n",
    "['AIR', 'ABT', 'WDDD', 'ACET', 'ACU', 'AE', 'BKTI', 'AMD', 'AEM', 'APD', 'AKRX', 'AKRXQ', 'ALP-PQ', 'ALPVN', 'APRCP', 'APRDM']\n",
    "```"
   ]
  },
  {
   "cell_type": "markdown",
   "metadata": {},
   "source": [
    "### Rubric (4pts total):\n",
    "\n",
    "* +1: Used list comprehension instead of a `for` loop\n",
    "* +2 : Substantial progress towards correct answer (partial credit to grader's discretion)\n",
    "* +1 : Answer is correct"
   ]
  },
  {
   "cell_type": "code",
   "execution_count": 2,
   "metadata": {},
   "outputs": [
    {
     "data": {
      "text/plain": [
       "['AIR',\n",
       " 'ABT',\n",
       " 'WDDD',\n",
       " 'ACET',\n",
       " 'ACU',\n",
       " 'AE',\n",
       " 'BKTI',\n",
       " 'AMD',\n",
       " 'AEM',\n",
       " 'APD',\n",
       " 'AKRX',\n",
       " 'AKRXQ',\n",
       " 'ALP-PQ',\n",
       " 'ALPVN',\n",
       " 'APRCP',\n",
       " 'APRDM']"
      ]
     },
     "execution_count": 2,
     "metadata": {},
     "output_type": "execute_result"
    }
   ],
   "source": [
    "sample = [\n",
    "    {\"cik_str\":1750,\"ticker\":\"AIR\",\"title\":\"AAR CORP\"},\n",
    "    {\"cik_str\":1800,\"ticker\":\"ABT\",\"title\":\"ABBOTT LABORATORIES\"},\n",
    "    {\"cik_str\":1961,\"ticker\":\"WDDD\",\"title\":\"WORLDS INC\"},\n",
    "    {\"cik_str\":2034,\"ticker\":\"ACET\",\"title\":\"ACETO CORP\"},\n",
    "    {\"cik_str\":2098,\"ticker\":\"ACU\",\"title\":\"ACME UNITED CORP\"},\n",
    "    {\"cik_str\":2178,\"ticker\":\"AE\",\"title\":\"ADAMS RESOURCES & ENERGY, INC.\"},\n",
    "    {\"cik_str\":2186,\"ticker\":\"BKTI\",\"title\":\"BK Technologies Corp\"},\n",
    "    {\"cik_str\":2488,\"ticker\":\"AMD\",\"title\":\"ADVANCED MICRO DEVICES INC\"},\n",
    "    {\"cik_str\":2809,\"ticker\":\"AEM\",\"title\":\"AGNICO EAGLE MINES LTD\"},\n",
    "    {\"cik_str\":2969,\"ticker\":\"APD\",\"title\":\"AIR PRODUCTS & CHEMICALS INC /DE/\"},\n",
    "    {\"cik_str\":3116,\"ticker\":\"AKRX\",\"title\":\"AKORN INC\"},\n",
    "    {\"cik_str\":3116,\"ticker\":\"AKRXQ\",\"title\":\"AKORN INC\"},\n",
    "    {\"cik_str\":3153,\"ticker\":\"ALP-PQ\",\"title\":\"ALABAMA POWER CO\"},\n",
    "    {\"cik_str\":3153,\"ticker\":\"ALPVN\",\"title\":\"ALABAMA POWER CO\"},\n",
    "    {\"cik_str\":3153,\"ticker\":\"APRCP\",\"title\":\"ALABAMA POWER CO\"},\n",
    "    {\"cik_str\":3153,\"ticker\":\"APRDM\",\"title\":\"ALABAMA POWER CO\"}\n",
    "]\n",
    "[s['ticker'] for s in sample]"
   ]
  },
  {
   "cell_type": "markdown",
   "metadata": {},
   "source": [
    "## Problem 2: Functions\n",
    "\n",
    "Write a function called `vowel_counter` that counts the vowels in a sentence (a, e, i, o, u) and returns the total number of vowels. For example, inputting the sentence \"The quick brown fox jumped over the lazy dog\" should return 12. Make sure your solution is case insensitive."
   ]
  },
  {
   "cell_type": "markdown",
   "metadata": {},
   "source": [
    "### Rubric (4pts total):\n",
    "\n",
    "* +1 : Correct structure of function (def, params, return instead of print)\n",
    "* +2 : Substantial progress towards correct answer (partial credit to grader's discretion)\n",
    "* +1 : Answer is correct"
   ]
  },
  {
   "cell_type": "code",
   "execution_count": 5,
   "metadata": {},
   "outputs": [],
   "source": [
    "def vowel_counter(sentence):\n",
    "    return sum([1 for l in sentence if l.lower() in 'aeiou'])"
   ]
  },
  {
   "cell_type": "code",
   "execution_count": 6,
   "metadata": {},
   "outputs": [
    {
     "data": {
      "text/plain": [
       "12"
      ]
     },
     "execution_count": 6,
     "metadata": {},
     "output_type": "execute_result"
    }
   ],
   "source": [
    "vowel_counter('The quick brown fox jumped over the lazy dog.')"
   ]
  },
  {
   "cell_type": "markdown",
   "metadata": {},
   "source": [
    "## Problem 3: Probability\n",
    "\n",
    "Assume you are flipping three un-fair, two-sided coins. Write a function called `prob_heads` that takes in three parameters: the probability of flipping heads for each coin and **returns the probability that all three coins will land on tails.** To check your answer, the following probabilities should return 4.8%:\n",
    "- Coin 1: $P(H) = 0.7$\n",
    "- Coin 2: $P(H) = 0.2$\n",
    "- Coin 3: $P(H) = 0.8$\n",
    "\n",
    "Your answer can be returned as a decimal (0.048) or as a probability (4.8%). Points will not be deducted for differences in rounding, as long as the rounding is correct."
   ]
  },
  {
   "cell_type": "markdown",
   "metadata": {},
   "source": [
    "### Rubric (4pts total):\n",
    "\n",
    "* +1 : Correct structure of function and return (def, params, return instead of print)\n",
    "* +2 : Substantial progress made towards correct answer (partial credit to grader's discretion)\n",
    "* -1 : The probabilities of heads are hard coded in the function rather than using a parameter\n",
    "* +1 : Answer is correct"
   ]
  },
  {
   "cell_type": "code",
   "execution_count": 3,
   "metadata": {},
   "outputs": [
    {
     "data": {
      "text/plain": [
       "0.048"
      ]
     },
     "execution_count": 3,
     "metadata": {},
     "output_type": "execute_result"
    }
   ],
   "source": [
    "def prob_heads(heads_1, heads_2, heads_3):\n",
    "    tails_1 = 1 - heads_1\n",
    "    tails_2 = 1 - heads_2\n",
    "    tails_3 = 1 - heads_3\n",
    "    return tails_1 * tails_2 * tails_3\n",
    "\n",
    "prob_heads(.7, .2, .8)"
   ]
  },
  {
   "cell_type": "markdown",
   "metadata": {},
   "source": [
    "## Problem 4: Debugging\n",
    "\n",
    "The function `divisible` takes in a number and returns whether 100 is evenly divisible by the number. There are **_four_** errors in the cell below. Find them. Fix them.\n",
    "\n",
    "```python\n",
    "# Contains errors!\n",
    "def divisible(num):\n",
    "    if to_compare % num = 0:\n",
    "        output = 'Yes'\n",
    "    else\n",
    "        output = 'No\n",
    "    to_compare = 100\n",
    "    return output\n",
    "```"
   ]
  },
  {
   "cell_type": "markdown",
   "metadata": {},
   "source": [
    "### Rubric (4pts total):\n",
    "\n",
    "* +1 : For adding another equal sign\n",
    "* +1 : For adding the colon after else\n",
    "* +1 : For adding the closing apostrophe\n",
    "* +1 : For moving the variable definition to the correct line"
   ]
  },
  {
   "cell_type": "code",
   "execution_count": 6,
   "metadata": {},
   "outputs": [
    {
     "ename": "SyntaxError",
     "evalue": "invalid syntax (<ipython-input-6-d3347706e3f6>, line 2)",
     "output_type": "error",
     "traceback": [
      "\u001b[0;36m  File \u001b[0;32m\"<ipython-input-6-d3347706e3f6>\"\u001b[0;36m, line \u001b[0;32m2\u001b[0m\n\u001b[0;31m    if to_compare % num = 0:\u001b[0m\n\u001b[0m                        ^\u001b[0m\n\u001b[0;31mSyntaxError\u001b[0m\u001b[0;31m:\u001b[0m invalid syntax\n"
     ]
    }
   ],
   "source": [
    "# Contains errors!\n",
    "def divisible(num):\n",
    "    if to_compare % num = 0:\n",
    "        output = 'Yes'\n",
    "    else\n",
    "        output = 'No\n",
    "    to_compare = 100\n",
    "    return output\n",
    "\n",
    "divisible(5)"
   ]
  },
  {
   "cell_type": "code",
   "execution_count": 8,
   "metadata": {},
   "outputs": [
    {
     "data": {
      "text/plain": [
       "'Yes'"
      ]
     },
     "execution_count": 8,
     "metadata": {},
     "output_type": "execute_result"
    }
   ],
   "source": [
    "# Fixed\n",
    "def divisible(num):\n",
    "    to_compare = 100\n",
    "    if to_compare % num == 0:\n",
    "        output = 'Yes'\n",
    "    else:\n",
    "        output = 'No'\n",
    "    return output\n",
    "\n",
    "divisible(5)"
   ]
  },
  {
   "cell_type": "markdown",
   "metadata": {},
   "source": [
    "## Problem 5: Math Problem!\n",
    "Let $a$ be the sum of the squares of the odd numbers between 1 and 100. That is:\n",
    "\n",
    "$$a = 1^2 + 3^2 + 5^2 + \\cdots + 99^2$$\n",
    "\n",
    "Let $b$ be the sum of the _cubes_ of the even numbers between 1 and 100. That is:\n",
    "\n",
    "$$b = 2^3 + 4^3 + 6^3 + \\cdots + 100^3$$\n",
    "\n",
    "What is $a + b$?"
   ]
  },
  {
   "cell_type": "markdown",
   "metadata": {},
   "source": [
    "### Rubric for method 1 (4pts total):\n",
    "* +1 : For showing the correct logic of creating an accumulator and iterating\n",
    "* +1 : Summing a and b throughout loop at correct times\n",
    "* +1 : Substantial progress toward correct answer\n",
    "* +1 : Correct answer of 13,171,650\n",
    "\n",
    "### Rubric for method 2 (4pts total):\n",
    "* +2 : Working towards correct comprehensions for `a` and `b`\n",
    "* +2 : Correct answer of 13,171,650"
   ]
  },
  {
   "cell_type": "code",
   "execution_count": 17,
   "metadata": {},
   "outputs": [
    {
     "data": {
      "text/plain": [
       "13171650"
      ]
     },
     "execution_count": 17,
     "metadata": {},
     "output_type": "execute_result"
    }
   ],
   "source": [
    "# Solution method 1\n",
    "a = b = 0\n",
    "for i in range(1, 101):\n",
    "    if i % 2 == 1:\n",
    "        a += i**2\n",
    "    elif i % 2 == 0:\n",
    "        b += i**3\n",
    "\n",
    "a + b"
   ]
  },
  {
   "cell_type": "code",
   "execution_count": 18,
   "metadata": {},
   "outputs": [
    {
     "data": {
      "text/plain": [
       "13171650"
      ]
     },
     "execution_count": 18,
     "metadata": {},
     "output_type": "execute_result"
    }
   ],
   "source": [
    "# Solution method 2\n",
    "a = sum(i**2 for i in range(1, 101, 2))\n",
    "b = sum(i**3 for i in range(2, 101, 2))\n",
    "a + b"
   ]
  },
  {
   "cell_type": "code",
   "execution_count": null,
   "metadata": {},
   "outputs": [],
   "source": []
  }
 ],
 "metadata": {
  "kernelspec": {
   "display_name": "Python 3",
   "language": "python",
   "name": "python3"
  },
  "language_info": {
   "codemirror_mode": {
    "name": "ipython",
    "version": 3
   },
   "file_extension": ".py",
   "mimetype": "text/x-python",
   "name": "python",
   "nbconvert_exporter": "python",
   "pygments_lexer": "ipython3",
   "version": "3.7.9"
  }
 },
 "nbformat": 4,
 "nbformat_minor": 4
}
