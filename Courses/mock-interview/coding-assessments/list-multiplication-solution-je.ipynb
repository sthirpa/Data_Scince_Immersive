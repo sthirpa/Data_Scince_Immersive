{
 "cells": [
  {
   "cell_type": "code",
   "execution_count": 1,
   "id": "000c7038-40e9-4af9-a574-1bef724bcb0e",
   "metadata": {},
   "outputs": [],
   "source": [
    "'''\n",
    "Given a list of integers, write a function that returns a list of the product of the remaining integers in the list for each integer.\n",
    "Eg. Input = [2, 3, 4, 5]\n",
    "Output = [60, 40, 30, 24]\n",
    "''';"
   ]
  },
  {
   "cell_type": "code",
   "execution_count": 2,
   "id": "9036f723-e4a5-47e5-882b-a1856dd95acb",
   "metadata": {},
   "outputs": [],
   "source": [
    "input_list = [2, 3, 4, 5]"
   ]
  },
  {
   "cell_type": "code",
   "execution_count": 3,
   "id": "0c1dd53e-b6b2-4466-be67-fd7d37f33c95",
   "metadata": {},
   "outputs": [],
   "source": [
    "# Creating a helper function\n",
    "def multiplier(arr):\n",
    "    total = 1\n",
    "    for n in arr:\n",
    "        total *= n\n",
    "    return total"
   ]
  },
  {
   "cell_type": "code",
   "execution_count": 4,
   "id": "dd7c1810-a4c1-4f99-9816-2e7e298fe432",
   "metadata": {},
   "outputs": [
    {
     "data": {
      "text/plain": [
       "[60, 40, 30, 24]"
      ]
     },
     "execution_count": 4,
     "metadata": {},
     "output_type": "execute_result"
    }
   ],
   "source": [
    "output= []\n",
    "\n",
    "for index in range(len(input_list)):\n",
    "    temp_list = input_list.copy()\n",
    "    temp_list.pop(index)\n",
    "    output.append(multiplier(temp_list))\n",
    "    \n",
    "output"
   ]
  }
 ],
 "metadata": {
  "kernelspec": {
   "display_name": "Python 3 (ipykernel)",
   "language": "python",
   "name": "python3"
  },
  "language_info": {
   "codemirror_mode": {
    "name": "ipython",
    "version": 3
   },
   "file_extension": ".py",
   "mimetype": "text/x-python",
   "name": "python",
   "nbconvert_exporter": "python",
   "pygments_lexer": "ipython3",
   "version": "3.8.12"
  }
 },
 "nbformat": 4,
 "nbformat_minor": 5
}
