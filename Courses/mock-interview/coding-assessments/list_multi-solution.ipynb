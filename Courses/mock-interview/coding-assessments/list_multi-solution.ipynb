{
 "cells": [
  {
   "cell_type": "markdown",
   "id": "c4bab60d-dfd5-43b6-9877-996a5b315ad5",
   "metadata": {},
   "source": [
    "# List Multiplication"
   ]
  },
  {
   "cell_type": "code",
   "execution_count": 10,
   "id": "d8a85bd5-e103-4797-bacf-99430935688b",
   "metadata": {},
   "outputs": [
    {
     "data": {
      "text/plain": [
       "'\\nGiven a list of integers, write a function that returns a list of the product of the remaining integers in the list for each integer.\\nEg. \\n\\nInput = [2, 3, 4, 5]\\n\\nOutput = [60, 40, 30, 24]\\n'"
      ]
     },
     "execution_count": 10,
     "metadata": {},
     "output_type": "execute_result"
    }
   ],
   "source": [
    "'''\n",
    "Given a list of integers, write a function that returns a list of the product of the remaining integers in the list for each integer.\n",
    "\n",
    "Only Base Python, no 3rd Party libraries\n",
    "\n",
    "Eg. \n",
    "\n",
    "Input = [2, 3, 4, 5]\n",
    "\n",
    "Output = [60, 40, 30, 24]\n",
    "'''"
   ]
  },
  {
   "cell_type": "code",
   "execution_count": 11,
   "id": "f966dee4-5a32-44e1-b37c-fd2f80f1f93b",
   "metadata": {},
   "outputs": [],
   "source": [
    "data = [2, 3, 4, 5]"
   ]
  },
  {
   "cell_type": "code",
   "execution_count": 22,
   "id": "0e738d5f-0b98-4521-92df-ebec81850403",
   "metadata": {},
   "outputs": [],
   "source": [
    "def prod_of_remaining(nums):\n",
    "    new_list = []\n",
    "    \n",
    "    total = 1\n",
    "    for i in nums:\n",
    "        total *= i\n",
    "        \n",
    "    for j in nums:\n",
    "        new_list.append(int(total / j))\n",
    "        \n",
    "    return new_list"
   ]
  },
  {
   "cell_type": "code",
   "execution_count": 23,
   "id": "46c6251b-f63b-4e70-a206-f38fb070af8d",
   "metadata": {},
   "outputs": [],
   "source": [
    "assert prod_of_remaining(data) == [60, 40, 30, 24]\n",
    "assert prod_of_remaining([2, 2, 2, 2]) == [8, 8, 8, 8]"
   ]
  },
  {
   "cell_type": "code",
   "execution_count": 19,
   "id": "93e90312-2f08-4656-bc6d-bc0de2f7cd73",
   "metadata": {},
   "outputs": [
    {
     "data": {
      "text/plain": [
       "[60, 40, 30, 24]"
      ]
     },
     "execution_count": 19,
     "metadata": {},
     "output_type": "execute_result"
    }
   ],
   "source": [
    "# Jake's Solution\n",
    "\n",
    "input_list = [2, 3, 4, 5]\n",
    "\n",
    "def multiplier(arr):\n",
    "    total = 1\n",
    "    for n in arr:\n",
    "        total *= n\n",
    "    return total\n",
    "\n",
    "output= []\n",
    "\n",
    "for index in range(len(input_list)):\n",
    "    temp_list = input_list.copy()\n",
    "    temp_list.pop(index)\n",
    "    output.append(multiplier(temp_list))\n",
    "    \n",
    "output"
   ]
  },
  {
   "cell_type": "code",
   "execution_count": 15,
   "id": "3e4cd656-71f3-42d5-b347-fd6137368203",
   "metadata": {},
   "outputs": [],
   "source": [
    "# Annie's Code\n",
    "def product_remain(numbers):\n",
    "    mylist = []\n",
    "    for i in range(len(numbers)):\n",
    "        product = 1\n",
    "        for j in range(len(numbers)):\n",
    "            if j != i:\n",
    "                product *= numbers[j]\n",
    "        mylist.append(product)\n",
    "    return mylist\n",
    "\n",
    "assert product_remain(data) == [60, 40, 30, 24]\n",
    "assert product_remain([2, 2, 2, 2]) == [8, 8, 8, 8]"
   ]
  },
  {
   "cell_type": "code",
   "execution_count": 16,
   "id": "aad6ea9e-e24c-42b5-9dd8-01a5d2414d1e",
   "metadata": {},
   "outputs": [],
   "source": [
    "# Sileshi's code\n",
    "\n",
    "def lst_multplier(arr): \n",
    "    new_lst=[]\n",
    "    for i in range(len(arr)): \n",
    "        sum=1\n",
    "        for j in range(len(arr)):\n",
    "            if(i==j):\n",
    "                continue\n",
    "            else:\n",
    "                sum *= arr[j]\n",
    "        new_lst.append(sum)\n",
    "    return new_lst\n",
    "\n",
    "assert lst_multplier(data) == [60, 40, 30, 24]\n",
    "assert lst_multplier([2, 2, 2, 2]) == [8, 8, 8, 8]"
   ]
  },
  {
   "cell_type": "code",
   "execution_count": 18,
   "id": "88ad09ea-3cd1-443f-b575-12d725bbf85d",
   "metadata": {},
   "outputs": [],
   "source": [
    "def product_of_remaining_integers(int_list):\n",
    "    # Empty list as placeholder. Products will be added here.\n",
    "    output_list = []\n",
    "    # Iterate through the items in the integer list provided.\n",
    "    for i in range(len(int_list)):\n",
    "        # Starting off with 1. Will brute force iteration and product will be multipled to here.\n",
    "        product = 1\n",
    "        # Iterating through the same list, with a different variable to vary the indexing. \n",
    "        for j in range(len(int_list)):\n",
    "            # if i and j pick up the same indexed number in the list, we are not doing anything here. \n",
    "            if (i == j):\n",
    "                pass\n",
    "            else:\n",
    "                product *= int_list[j]\n",
    "        output_list.append(product)\n",
    "    return output_list\n",
    "\n",
    "assert product_of_remaining_integers(data) == [60, 40, 30, 24]\n",
    "assert product_of_remaining_integers([2, 2, 2, 2]) == [8, 8, 8, 8]"
   ]
  },
  {
   "cell_type": "code",
   "execution_count": null,
   "id": "5c2f6ac5-668a-4362-97d5-e9734ba072a6",
   "metadata": {},
   "outputs": [],
   "source": []
  }
 ],
 "metadata": {
  "kernelspec": {
   "display_name": "Python [conda env:dsir-111] *",
   "language": "python",
   "name": "conda-env-dsir-111-py"
  },
  "language_info": {
   "codemirror_mode": {
    "name": "ipython",
    "version": 3
   },
   "file_extension": ".py",
   "mimetype": "text/x-python",
   "name": "python",
   "nbconvert_exporter": "python",
   "pygments_lexer": "ipython3",
   "version": "3.8.12"
  }
 },
 "nbformat": 4,
 "nbformat_minor": 5
}
