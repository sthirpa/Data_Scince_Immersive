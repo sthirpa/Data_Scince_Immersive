{
 "cells": [
  {
   "cell_type": "code",
   "execution_count": null,
   "id": "55a52b15-050d-404b-ab67-0be58323edc7",
   "metadata": {},
   "outputs": [],
   "source": [
    "'''\n",
    "Level 1 - Programming\n",
    "You are a data scientist for a large retail organization. Currently your task involves mining for insights from Point-of_Sale systems which track item sales. You have data stored\n",
    "as follos in JSON files (for simplicity think that you have one file 'pos_data.json')\n",
    "Data Sample:\n",
    "[{'item': 'Stella Extra Strong', 'price': '$23.45'},\n",
    "{'item': 'Fosters Mild', 'price': '$12.99'},\n",
    "{'item': 'Heineken', 'price': '$29.45'},\n",
    "{'item': 'Stella Extra Strong', 'price': '$23.45'},\n",
    "{'item': 'Stella Extra Strong', 'price': '$23.45'},\n",
    "{'item': 'Fosters Mild', 'price': '$12.99'}]\n",
    "Your tasks are as follows.\n",
    "1. Write code to read in the JSON file to an appropriate python data structure (to solve Q2)\n",
    "2. Use base python libraries (not pandas) to get the following insights\n",
    " -> Item name with top total sales\n",
    " -> Item name with least total sales\n",
    " -> Item name with the most units sold\n",
    "Base Python libraries only (no 3rd party libraries e.g: numpy, pandas)\n",
    "'''"
   ]
  },
  {
   "cell_type": "code",
   "execution_count": null,
   "id": "96c6e3f3-12ad-4aaf-8696-6ace2bc50db4",
   "metadata": {},
   "outputs": [],
   "source": [
    "# Opening json file\n",
    "# https://www.geeksforgeeks.org/read-json-file-using-python/\n",
    "import json\n",
    "f = open('file_path.json')\n",
    "sales = json.load(f)"
   ]
  },
  {
   "cell_type": "code",
   "execution_count": 1,
   "id": "d0878310-11e9-4015-9f52-7befd6846063",
   "metadata": {},
   "outputs": [],
   "source": [
    "# Creating dummy data file\n",
    "sales = [{'item': 'Stella Extra Strong', 'price': '$23.45'},\n",
    "{'item': 'Fosters Mild', 'price': '$12.99'},\n",
    "{'item': 'Heineken', 'price': '$29.45'},\n",
    "{'item': 'Stella Extra Strong', 'price': '$23.45'},\n",
    "{'item': 'Stella Extra Strong', 'price': '$23.45'},\n",
    "{'item': 'Fosters Mild', 'price': '$12.99'}]"
   ]
  },
  {
   "cell_type": "code",
   "execution_count": 2,
   "id": "79ec5918-8e5e-486f-a73a-93f7db97d034",
   "metadata": {},
   "outputs": [],
   "source": [
    "# Removing the $\n",
    "for item in sales:\n",
    "    item['price'] = float(item['price'].replace(\"$\",''))"
   ]
  },
  {
   "cell_type": "code",
   "execution_count": 3,
   "id": "153a08cd-3967-4d44-8e54-57555d31e2ef",
   "metadata": {},
   "outputs": [
    {
     "data": {
      "text/plain": [
       "['Stella Extra Strong',\n",
       " 'Fosters Mild',\n",
       " 'Heineken',\n",
       " 'Stella Extra Strong',\n",
       " 'Stella Extra Strong',\n",
       " 'Fosters Mild']"
      ]
     },
     "execution_count": 3,
     "metadata": {},
     "output_type": "execute_result"
    }
   ],
   "source": [
    "# Creating a list of all items\n",
    "items_list = []\n",
    "for item in sales:\n",
    "    items_list.append(item['item'])\n",
    "    \n",
    "items_list"
   ]
  },
  {
   "cell_type": "code",
   "execution_count": 4,
   "id": "64d7a3f1-ef1e-4086-8b46-1b31bdb12ea7",
   "metadata": {},
   "outputs": [
    {
     "data": {
      "text/plain": [
       "{'Fosters Mild', 'Heineken', 'Stella Extra Strong'}"
      ]
     },
     "execution_count": 4,
     "metadata": {},
     "output_type": "execute_result"
    }
   ],
   "source": [
    "# Creating a set for all items\n",
    "items_set = set(items_list)\n",
    "\n",
    "items_set"
   ]
  },
  {
   "cell_type": "code",
   "execution_count": 5,
   "id": "c1bfac64-56d3-4fab-90d7-ee60a2716483",
   "metadata": {},
   "outputs": [
    {
     "data": {
      "text/plain": [
       "{'Fosters Mild': [], 'Heineken': [], 'Stella Extra Strong': []}"
      ]
     },
     "execution_count": 5,
     "metadata": {},
     "output_type": "execute_result"
    }
   ],
   "source": [
    "# Converting the set to be a dictionary to recod the number of sales\n",
    "items_dict = {}\n",
    "for item in items_set:\n",
    "    items_dict[item] = []\n",
    "    \n",
    "items_dict"
   ]
  },
  {
   "cell_type": "code",
   "execution_count": 6,
   "id": "8bde49f1-3317-4336-af95-061fd50590d5",
   "metadata": {},
   "outputs": [
    {
     "data": {
      "text/plain": [
       "{'Fosters Mild': [12.99, 12.99],\n",
       " 'Heineken': [29.45],\n",
       " 'Stella Extra Strong': [23.45, 23.45, 23.45]}"
      ]
     },
     "execution_count": 6,
     "metadata": {},
     "output_type": "execute_result"
    }
   ],
   "source": [
    "# Adding each sale to each item in the dictionary\n",
    "for row in sales:\n",
    "    for item in items_dict.keys():\n",
    "        if row['item'] == item:\n",
    "            items_dict[item].append(row['price'])\n",
    "            \n",
    "items_dict"
   ]
  },
  {
   "cell_type": "code",
   "execution_count": 7,
   "id": "d627fba6-598d-48ef-a585-dd3ef678600e",
   "metadata": {},
   "outputs": [
    {
     "name": "stdout",
     "output_type": "stream",
     "text": [
      "Stella Extra Strong 70.35\n"
     ]
    }
   ],
   "source": [
    "# Item name with top total sales\n",
    "top_total_sales = 0\n",
    "top_total_seller = ''\n",
    "for item, sales in items_dict.items():\n",
    "    if sum(sales) > top_total_sales:\n",
    "        top_total_sales = sum(sales)\n",
    "        top_total_seller = item\n",
    "        \n",
    "print(top_total_seller, top_total_sales)"
   ]
  },
  {
   "cell_type": "code",
   "execution_count": 8,
   "id": "ca350851-45b8-4878-8b3d-ce288fa53c99",
   "metadata": {},
   "outputs": [
    {
     "name": "stdout",
     "output_type": "stream",
     "text": [
      "Fosters Mild 25.98\n"
     ]
    }
   ],
   "source": [
    "# Item name with least total sales\n",
    "least_total_sales = 10**1000\n",
    "least_total_seller = ''\n",
    "for item, sales in items_dict.items():\n",
    "    if sum(sales) < least_total_sales:\n",
    "        least_total_sales = sum(sales)\n",
    "        least_total_seller = item\n",
    "        \n",
    "print(least_total_seller, least_total_sales)"
   ]
  },
  {
   "cell_type": "code",
   "execution_count": 9,
   "id": "5770224a-a5c2-4148-af43-bd588772b182",
   "metadata": {},
   "outputs": [
    {
     "name": "stdout",
     "output_type": "stream",
     "text": [
      "Stella Extra Strong 3\n"
     ]
    }
   ],
   "source": [
    "# Item name with the most units sold\n",
    "top_total_units = 0\n",
    "top_total_units_seller = ''\n",
    "for item, sales in items_dict.items():\n",
    "    if len(sales) > top_total_units:\n",
    "        top_total_units = len(sales)\n",
    "        top_total_units_seller = item\n",
    "        \n",
    "print(top_total_units_seller, top_total_units)"
   ]
  },
  {
   "cell_type": "code",
   "execution_count": null,
   "id": "e83f5be2-1d9b-43ed-b2ef-630d057e6882",
   "metadata": {},
   "outputs": [],
   "source": []
  }
 ],
 "metadata": {
  "kernelspec": {
   "display_name": "Python [conda env:dsi-111]",
   "language": "python",
   "name": "conda-env-dsi-111-py"
  },
  "language_info": {
   "codemirror_mode": {
    "name": "ipython",
    "version": 3
   },
   "file_extension": ".py",
   "mimetype": "text/x-python",
   "name": "python",
   "nbconvert_exporter": "python",
   "pygments_lexer": "ipython3",
   "version": "3.8.12"
  }
 },
 "nbformat": 4,
 "nbformat_minor": 5
}
