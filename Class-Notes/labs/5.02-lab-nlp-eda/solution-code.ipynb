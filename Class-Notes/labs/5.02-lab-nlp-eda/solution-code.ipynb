{
 "cells": [
  {
   "cell_type": "markdown",
   "metadata": {},
   "source": [
    "# Exploratory Data Analysis on a Natural Language Processing Task\n",
    "> Authors: Caroline Schmitt, Matt Brems\n",
    "\n",
    "---\n",
    "\n",
    "Exploratory data analysis (EDA) is a crucial part of any data science project. EDA helps us discover interesting relationships in the data, detect outliers and errors, examine our own assumptions about the data, and prepare for modeling. During EDA we might discover that we need to clean our data more conscientiously, or that we have more missing data than we realized, or that there aren't many patterns in the data (indicating that modeling may be challenging.)\n",
    "\n",
    "In this lab you'll bring in a natural language dataset and perform EDA. The dataset contains Facebook statuses taken from between 2009 and 2011 as well as personality test results associated with the users whose Facebook statuses are included.\n",
    "\n",
    "This dataset uses results from the Big Five Personality Test, also referred to as the five-factor model, which measures a person's score on five dimensions of personality:\n",
    "- **O**penness\n",
    "- **C**onscientiousness\n",
    "- **E**xtroversion\n",
    "- **A**greeableness\n",
    "- **N**euroticism\n",
    "\n",
    "Notoriously, the political consulting group Cambridge Analytica claims to have predicted the personalities of Facebook users by using those users' data, with the goal of targeting them with political ads that would be particularly persuasive given their personality type. Cambridge Analytica claims to have considered 32 unique 'groups' in the following fashion:\n",
    "- For each of the five OCEAN qualities, a user is categorized as either 'yes' or 'no'.\n",
    "- This makes for 32 different potential combinations of qualities. ($2^5 = 32$).\n",
    "\n",
    "Cambridge Analytica's methodology was then, roughly, the following:\n",
    "- Gather a large amount of data from Facebook.\n",
    "- Use this data to predict an individual's Big Five personality \"grouping.\"\n",
    "- Design political advertisements that would be particularly effective to that particular \"grouping.\" (For example, are certain advertisements particularly effective toward people with specific personality traits?)\n",
    "\n",
    "In this lab you will perform EDA to examine many relationships in the data.\n",
    "\n",
    "Exploratory data analysis can be a non-linear process, and you're encouraged to explore questions that occur to you as you work through the notebook.\n",
    "\n",
    "> **Content note**: This dataset contains real Facebook statuses scraped from 2009 to 2011, and some of the statuses contain language that is not safe for work, crude, or offensive. The full dataset is available as `mypersonality.csv`, and a sanitized version containing only statuses that passed an automated profanity check is available as `mypersonality_noprofanity.csv`. Please do not hesitate to use `mypersonality_noprofanity.csv` if you would prefer to. Please note that the automated profanity check is not foolproof. If you have any concerns about working with this dataset, please get in touch with your instructional team.\n",
    "\n",
    "---\n",
    "\n",
    "### External resources\n",
    "\n",
    "These resources are not required reading but may be of use or interest.\n",
    "\n",
    "- [Python Graph Gallery](https://python-graph-gallery.com/)\n",
    "- [Wikipedia page](https://en.wikipedia.org/wiki/Big_Five_personality_traits) on the Big Five test\n",
    "- [A short (3-4 pages) academic paper](./celli-al_wcpr13.pdf) using the `MyPersonality` dataset to model personality\n",
    "\n",
    "---\n",
    "\n",
    "## Load packages"
   ]
  },
  {
   "cell_type": "code",
   "execution_count": 1,
   "metadata": {},
   "outputs": [],
   "source": [
    "import matplotlib.pyplot as plt\n",
    "import pandas as pd\n",
    "import seaborn as sns\n",
    "\n",
    "from sklearn.feature_extraction.text import CountVectorizer\n",
    "\n",
    "# this setting widens how many characters pandas will display in a column:\n",
    "pd.options.display.max_colwidth = 350"
   ]
  },
  {
   "cell_type": "markdown",
   "metadata": {},
   "source": [
    "---\n",
    "\n",
    "## Import data\n",
    "\n",
    "This code is provided for you. Some columns with network and score-related data are dropped.\n",
    "\n",
    "The remaining columns will be `#AUTHID`, `STATUS`, `cEXT`, `cNEU`, `cAGR`, `cCON`, `cOPN`, and `DATE`:\n",
    "\n",
    "| Variable name | Description                                                                      |\n",
    "|---------------|----------------------------------------------------------------------------------|\n",
    "| `#AUTHID`     | Author ID code, unique per user                                                  |\n",
    "| `STATUS`      | Text of a Facebook status                                                        |\n",
    "| `cEXT`        | Author extroversion category, `y` for above median and `n` for below median      |\n",
    "| `cNEU`        | Author neuroticism category, `y` for above median and `n` for below median       |\n",
    "| `cAGR`        | Author agreeableness category, `y` for above median and `n` for below median     |\n",
    "| `cCON`        | Author conscientiousness category, `y` for above median and `n` for below median |\n",
    "| `cOPN`        | Author openness category, `y` for above median and `n` for below median          |\n",
    "| `DATE`        | Time stamp of original Facebook status                                           |\n"
   ]
  },
  {
   "cell_type": "code",
   "execution_count": 2,
   "metadata": {},
   "outputs": [
    {
     "data": {
      "text/html": [
       "<div>\n",
       "<style scoped>\n",
       "    .dataframe tbody tr th:only-of-type {\n",
       "        vertical-align: middle;\n",
       "    }\n",
       "\n",
       "    .dataframe tbody tr th {\n",
       "        vertical-align: top;\n",
       "    }\n",
       "\n",
       "    .dataframe thead th {\n",
       "        text-align: right;\n",
       "    }\n",
       "</style>\n",
       "<table border=\"1\" class=\"dataframe\">\n",
       "  <thead>\n",
       "    <tr style=\"text-align: right;\">\n",
       "      <th></th>\n",
       "      <th>#AUTHID</th>\n",
       "      <th>STATUS</th>\n",
       "      <th>cEXT</th>\n",
       "      <th>cNEU</th>\n",
       "      <th>cAGR</th>\n",
       "      <th>cCON</th>\n",
       "      <th>cOPN</th>\n",
       "      <th>DATE</th>\n",
       "    </tr>\n",
       "  </thead>\n",
       "  <tbody>\n",
       "    <tr>\n",
       "      <th>0</th>\n",
       "      <td>b7b7764cfa1c523e4e93ab2a79a946c4</td>\n",
       "      <td>likes the sound of thunder.</td>\n",
       "      <td>n</td>\n",
       "      <td>y</td>\n",
       "      <td>n</td>\n",
       "      <td>n</td>\n",
       "      <td>y</td>\n",
       "      <td>06/19/09 03:21 PM</td>\n",
       "    </tr>\n",
       "    <tr>\n",
       "      <th>1</th>\n",
       "      <td>b7b7764cfa1c523e4e93ab2a79a946c4</td>\n",
       "      <td>is so sleepy it's not even funny that's she can't get to sleep.</td>\n",
       "      <td>n</td>\n",
       "      <td>y</td>\n",
       "      <td>n</td>\n",
       "      <td>n</td>\n",
       "      <td>y</td>\n",
       "      <td>07/02/09 08:41 AM</td>\n",
       "    </tr>\n",
       "    <tr>\n",
       "      <th>2</th>\n",
       "      <td>b7b7764cfa1c523e4e93ab2a79a946c4</td>\n",
       "      <td>is sore and wants the knot of muscles at the base of her neck to stop hurting. On the other hand, YAY I'M IN ILLINOIS! &lt;3</td>\n",
       "      <td>n</td>\n",
       "      <td>y</td>\n",
       "      <td>n</td>\n",
       "      <td>n</td>\n",
       "      <td>y</td>\n",
       "      <td>06/15/09 01:15 PM</td>\n",
       "    </tr>\n",
       "  </tbody>\n",
       "</table>\n",
       "</div>"
      ],
      "text/plain": [
       "                            #AUTHID  \\\n",
       "0  b7b7764cfa1c523e4e93ab2a79a946c4   \n",
       "1  b7b7764cfa1c523e4e93ab2a79a946c4   \n",
       "2  b7b7764cfa1c523e4e93ab2a79a946c4   \n",
       "\n",
       "                                                                                                                      STATUS  \\\n",
       "0                                                                                                likes the sound of thunder.   \n",
       "1                                                            is so sleepy it's not even funny that's she can't get to sleep.   \n",
       "2  is sore and wants the knot of muscles at the base of her neck to stop hurting. On the other hand, YAY I'M IN ILLINOIS! <3   \n",
       "\n",
       "  cEXT cNEU cAGR cCON cOPN               DATE  \n",
       "0    n    y    n    n    y  06/19/09 03:21 PM  \n",
       "1    n    y    n    n    y  07/02/09 08:41 AM  \n",
       "2    n    y    n    n    y  06/15/09 01:15 PM  "
      ]
     },
     "execution_count": 2,
     "metadata": {},
     "output_type": "execute_result"
    }
   ],
   "source": [
    "df = pd.read_csv('data/mypersonality.csv')\n",
    "# df = pd.read_csv('data/mypersonality_noprofanity.csv') # comment out above & uncomment this to use mypersonality_noprofanity.csv\n",
    "\n",
    "dropcols = [\n",
    "    # these are network-related columns:\n",
    "    'NETWORKSIZE', 'BETWEENNESS', 'NBETWEENNESS', 'DENSITY',\n",
    "    'BROKERAGE', 'NBROKERAGE', 'TRANSITIVITY',\n",
    "    # these are score-related columns;\n",
    "    # we will use the catgories instead:\n",
    "    'sEXT', 'sNEU', 'sAGR', 'sCON', 'sOPN'\n",
    "]\n",
    "\n",
    "df.drop(columns=dropcols, inplace=True)\n",
    "df.head(3)"
   ]
  },
  {
   "cell_type": "markdown",
   "metadata": {},
   "source": [
    "## Data cleaning\n",
    "\n",
    "It's often more convenient to work with integers than strings. Convert the personality columns to 0 and 1, with 0 meaning 'below the median' and 1 meaning 'above the median.'"
   ]
  },
  {
   "cell_type": "code",
   "execution_count": 3,
   "metadata": {},
   "outputs": [],
   "source": [
    "# answers will vary - many ways to set this up:"
   ]
  },
  {
   "cell_type": "code",
   "execution_count": 4,
   "metadata": {},
   "outputs": [
    {
     "data": {
      "text/html": [
       "<div>\n",
       "<style scoped>\n",
       "    .dataframe tbody tr th:only-of-type {\n",
       "        vertical-align: middle;\n",
       "    }\n",
       "\n",
       "    .dataframe tbody tr th {\n",
       "        vertical-align: top;\n",
       "    }\n",
       "\n",
       "    .dataframe thead th {\n",
       "        text-align: right;\n",
       "    }\n",
       "</style>\n",
       "<table border=\"1\" class=\"dataframe\">\n",
       "  <thead>\n",
       "    <tr style=\"text-align: right;\">\n",
       "      <th></th>\n",
       "      <th>#AUTHID</th>\n",
       "      <th>STATUS</th>\n",
       "      <th>cEXT</th>\n",
       "      <th>cNEU</th>\n",
       "      <th>cAGR</th>\n",
       "      <th>cCON</th>\n",
       "      <th>cOPN</th>\n",
       "      <th>DATE</th>\n",
       "    </tr>\n",
       "  </thead>\n",
       "  <tbody>\n",
       "    <tr>\n",
       "      <th>0</th>\n",
       "      <td>b7b7764cfa1c523e4e93ab2a79a946c4</td>\n",
       "      <td>likes the sound of thunder.</td>\n",
       "      <td>0</td>\n",
       "      <td>1</td>\n",
       "      <td>0</td>\n",
       "      <td>0</td>\n",
       "      <td>1</td>\n",
       "      <td>06/19/09 03:21 PM</td>\n",
       "    </tr>\n",
       "    <tr>\n",
       "      <th>1</th>\n",
       "      <td>b7b7764cfa1c523e4e93ab2a79a946c4</td>\n",
       "      <td>is so sleepy it's not even funny that's she can't get to sleep.</td>\n",
       "      <td>0</td>\n",
       "      <td>1</td>\n",
       "      <td>0</td>\n",
       "      <td>0</td>\n",
       "      <td>1</td>\n",
       "      <td>07/02/09 08:41 AM</td>\n",
       "    </tr>\n",
       "    <tr>\n",
       "      <th>2</th>\n",
       "      <td>b7b7764cfa1c523e4e93ab2a79a946c4</td>\n",
       "      <td>is sore and wants the knot of muscles at the base of her neck to stop hurting. On the other hand, YAY I'M IN ILLINOIS! &lt;3</td>\n",
       "      <td>0</td>\n",
       "      <td>1</td>\n",
       "      <td>0</td>\n",
       "      <td>0</td>\n",
       "      <td>1</td>\n",
       "      <td>06/15/09 01:15 PM</td>\n",
       "    </tr>\n",
       "  </tbody>\n",
       "</table>\n",
       "</div>"
      ],
      "text/plain": [
       "                            #AUTHID  \\\n",
       "0  b7b7764cfa1c523e4e93ab2a79a946c4   \n",
       "1  b7b7764cfa1c523e4e93ab2a79a946c4   \n",
       "2  b7b7764cfa1c523e4e93ab2a79a946c4   \n",
       "\n",
       "                                                                                                                      STATUS  \\\n",
       "0                                                                                                likes the sound of thunder.   \n",
       "1                                                            is so sleepy it's not even funny that's she can't get to sleep.   \n",
       "2  is sore and wants the knot of muscles at the base of her neck to stop hurting. On the other hand, YAY I'M IN ILLINOIS! <3   \n",
       "\n",
       "   cEXT  cNEU  cAGR  cCON  cOPN               DATE  \n",
       "0     0     1     0     0     1  06/19/09 03:21 PM  \n",
       "1     0     1     0     0     1  07/02/09 08:41 AM  \n",
       "2     0     1     0     0     1  06/15/09 01:15 PM  "
      ]
     },
     "execution_count": 4,
     "metadata": {},
     "output_type": "execute_result"
    }
   ],
   "source": [
    "convert_cats = {\n",
    "    'n': 0,\n",
    "    'y': 1\n",
    "}\n",
    "\n",
    "personality_cols = [col for col in df.columns if col.startswith('c')]\n",
    "\n",
    "for col in personality_cols:\n",
    "    df[col] = df[col].map(convert_cats)\n",
    "\n",
    "df.head(3)"
   ]
  },
  {
   "cell_type": "markdown",
   "metadata": {},
   "source": [
    "-----\n",
    "\n",
    "## A first look at the dataset\n",
    "\n",
    "In this section, check:\n",
    "\n",
    "- How many observations are there in the dataset?\n",
    "- How many unique `#AUTHID` codes are there?\n",
    "- How many `y` and `n` values are in each of the personality category columns?"
   ]
  },
  {
   "cell_type": "code",
   "execution_count": 5,
   "metadata": {},
   "outputs": [
    {
     "data": {
      "text/plain": [
       "(9916, 8)"
      ]
     },
     "execution_count": 5,
     "metadata": {},
     "output_type": "execute_result"
    }
   ],
   "source": [
    "df.shape"
   ]
  },
  {
   "cell_type": "code",
   "execution_count": 6,
   "metadata": {},
   "outputs": [
    {
     "data": {
      "text/plain": [
       "250"
      ]
     },
     "execution_count": 6,
     "metadata": {},
     "output_type": "execute_result"
    }
   ],
   "source": [
    "len(set(df['#AUTHID']))"
   ]
  },
  {
   "cell_type": "code",
   "execution_count": 7,
   "metadata": {},
   "outputs": [
    {
     "name": "stdout",
     "output_type": "stream",
     "text": [
      "0    5707\n",
      "1    4209\n",
      "Name: cEXT, dtype: int64\n",
      "\n",
      "0    6199\n",
      "1    3717\n",
      "Name: cNEU, dtype: int64\n",
      "\n",
      "1    5267\n",
      "0    4649\n",
      "Name: cAGR, dtype: int64\n",
      "\n",
      "0    5360\n",
      "1    4556\n",
      "Name: cCON, dtype: int64\n",
      "\n",
      "1    7369\n",
      "0    2547\n",
      "Name: cOPN, dtype: int64\n",
      "\n"
     ]
    }
   ],
   "source": [
    "for col in ['cEXT', 'cNEU', 'cAGR', 'cCON', 'cOPN']:\n",
    "    print(df[col].value_counts())\n",
    "    print()"
   ]
  },
  {
   "cell_type": "code",
   "execution_count": 8,
   "metadata": {},
   "outputs": [],
   "source": [
    "# cols_to_plot = ['cEXT', 'cNEU', 'cAGR', 'cCON', 'cOPN']\n",
    "\n",
    "# for col in cols_to_plot:\n",
    "#     df[col].value_counts().plot(kind='bar')\n",
    "#     plt.title(f'Plot of {col} counts')\n",
    "#     plt.show()"
   ]
  },
  {
   "cell_type": "markdown",
   "metadata": {},
   "source": [
    "\n",
    "---\n",
    "\n",
    "## EDA on Statuses\n",
    "\n",
    "Before we even vectorize the text, we might look at the lengths and word counts in each Facebook status. Some personality types might be more long-winded than others!\n",
    "\n",
    "### Create a new column called `status_char_length` that contains the character length of each status\n",
    "\n",
    "> Note: You can do this in one line with `map`."
   ]
  },
  {
   "cell_type": "code",
   "execution_count": 9,
   "metadata": {},
   "outputs": [],
   "source": [
    "df['status_char_length'] = df['STATUS'].map(len)"
   ]
  },
  {
   "cell_type": "markdown",
   "metadata": {},
   "source": [
    "### Create a new column called `status_word_count` that contains the number of words in each status\n",
    "\n",
    "> Note: You can evaluate this based off of how many strings are separated by whitespaces; you're not required to check that each set of characters set apart by whitespaces is a word in the dictionary."
   ]
  },
  {
   "cell_type": "code",
   "execution_count": 10,
   "metadata": {},
   "outputs": [],
   "source": [
    "df['status_word_count'] = df['STATUS'].map(lambda x: len(x.split()))"
   ]
  },
  {
   "cell_type": "markdown",
   "metadata": {},
   "source": [
    "---\n",
    "\n",
    "## Longest and shortest statuses\n",
    "\n",
    "Looking at individual observations can help us get a sense of what the dataset contains.\n",
    "\n",
    "### Show the five longest and five shortest statuses based off of `status_word_count`"
   ]
  },
  {
   "cell_type": "code",
   "execution_count": 11,
   "metadata": {},
   "outputs": [
    {
     "data": {
      "text/html": [
       "<div>\n",
       "<style scoped>\n",
       "    .dataframe tbody tr th:only-of-type {\n",
       "        vertical-align: middle;\n",
       "    }\n",
       "\n",
       "    .dataframe tbody tr th {\n",
       "        vertical-align: top;\n",
       "    }\n",
       "\n",
       "    .dataframe thead th {\n",
       "        text-align: right;\n",
       "    }\n",
       "</style>\n",
       "<table border=\"1\" class=\"dataframe\">\n",
       "  <thead>\n",
       "    <tr style=\"text-align: right;\">\n",
       "      <th></th>\n",
       "      <th>STATUS</th>\n",
       "    </tr>\n",
       "  </thead>\n",
       "  <tbody>\n",
       "    <tr>\n",
       "      <th>8178</th>\n",
       "      <td>157</td>\n",
       "    </tr>\n",
       "    <tr>\n",
       "      <th>4170</th>\n",
       "      <td>wed,.</td>\n",
       "    </tr>\n",
       "    <tr>\n",
       "      <th>2016</th>\n",
       "      <td>HOUSE!</td>\n",
       "    </tr>\n",
       "    <tr>\n",
       "      <th>956</th>\n",
       "      <td>Err:509</td>\n",
       "    </tr>\n",
       "    <tr>\n",
       "      <th>4177</th>\n",
       "      <td>confused</td>\n",
       "    </tr>\n",
       "  </tbody>\n",
       "</table>\n",
       "</div>"
      ],
      "text/plain": [
       "        STATUS\n",
       "8178       157\n",
       "4170     wed,.\n",
       "2016    HOUSE!\n",
       "956    Err:509\n",
       "4177  confused"
      ]
     },
     "execution_count": 11,
     "metadata": {},
     "output_type": "execute_result"
    }
   ],
   "source": [
    "df.sort_values(by='status_word_count', ascending=True)[['STATUS']].head()"
   ]
  },
  {
   "cell_type": "code",
   "execution_count": 12,
   "metadata": {},
   "outputs": [
    {
     "data": {
      "text/html": [
       "<div>\n",
       "<style scoped>\n",
       "    .dataframe tbody tr th:only-of-type {\n",
       "        vertical-align: middle;\n",
       "    }\n",
       "\n",
       "    .dataframe tbody tr th {\n",
       "        vertical-align: top;\n",
       "    }\n",
       "\n",
       "    .dataframe thead th {\n",
       "        text-align: right;\n",
       "    }\n",
       "</style>\n",
       "<table border=\"1\" class=\"dataframe\">\n",
       "  <thead>\n",
       "    <tr style=\"text-align: right;\">\n",
       "      <th></th>\n",
       "      <th>STATUS</th>\n",
       "    </tr>\n",
       "  </thead>\n",
       "  <tbody>\n",
       "    <tr>\n",
       "      <th>496</th>\n",
       "      <td>Exact words when renewing DL: Me: Oh no, you can't take my license, It's my 25th b-day. How am I going to get into the bar? DMV: We gonna give you a new one over there Me: But, it won't have my picture and stuff on it.  Dmv:  Hold up, we can take a picture of your picture and put it on a license i think. (yelling at co-worker to see if this can...</td>\n",
       "    </tr>\n",
       "    <tr>\n",
       "      <th>6989</th>\n",
       "      <td>If I wear makeup, I'm fake. If I like to get dressed up, I'm a Tart. If I say what i think, I'm a bitch. If I cry sometimes, I'm a drama queen. If I have guy friends, I'm a slut. If I stand up for myself, I'm mouthy. Seems like you can't do anything now a days without being labeled.. So what, go ahead and label me, see if i give a shit. Repost ...</td>\n",
       "    </tr>\n",
       "    <tr>\n",
       "      <th>5208</th>\n",
       "      <td>can't believe it. I got the new Wii Fit Plus game, it has a lot of fun new games and features. However, after not using the wii fit for a few months we decided to do the fitness test stuff again. Me(since last time): +2.9 lbs, still a healthy weight and BMI, wii age 54. *PROPNAME*: -8.6lbs, reccommends a healthy weight of gaining 6lbs, wii age ...</td>\n",
       "    </tr>\n",
       "    <tr>\n",
       "      <th>7976</th>\n",
       "      <td>\"I said he's a fairy I do suppose//flyin thru the air in pantyhose//he may be very sexy or even cute//but he looks like a sucka in a blue and red suit//I said you need a man who's got finesse//&amp; his whole name across his chest//he may be able to fly all thru the night//but can he rock a party til the early light//he can't satisfy you with his l...</td>\n",
       "    </tr>\n",
       "    <tr>\n",
       "      <th>5680</th>\n",
       "      <td>I always make it a rule to let the other fellow fire first.  If a man wants to fight, I argue the question with him and try to show him how foolish it would be.  If he can't be dissuaded, why then the fun begins but I always let him have first crack.  Then when I fire, you see, I have the verdict of self-defence on my side.  I know that he is p...</td>\n",
       "    </tr>\n",
       "  </tbody>\n",
       "</table>\n",
       "</div>"
      ],
      "text/plain": [
       "                                                                                                                                                                                                                                                                                                                                                             STATUS\n",
       "496   Exact words when renewing DL: Me: Oh no, you can't take my license, It's my 25th b-day. How am I going to get into the bar? DMV: We gonna give you a new one over there Me: But, it won't have my picture and stuff on it.  Dmv:  Hold up, we can take a picture of your picture and put it on a license i think. (yelling at co-worker to see if this can...\n",
       "6989  If I wear makeup, I'm fake. If I like to get dressed up, I'm a Tart. If I say what i think, I'm a bitch. If I cry sometimes, I'm a drama queen. If I have guy friends, I'm a slut. If I stand up for myself, I'm mouthy. Seems like you can't do anything now a days without being labeled.. So what, go ahead and label me, see if i give a shit. Repost ...\n",
       "5208  can't believe it. I got the new Wii Fit Plus game, it has a lot of fun new games and features. However, after not using the wii fit for a few months we decided to do the fitness test stuff again. Me(since last time): +2.9 lbs, still a healthy weight and BMI, wii age 54. *PROPNAME*: -8.6lbs, reccommends a healthy weight of gaining 6lbs, wii age ...\n",
       "7976  \"I said he's a fairy I do suppose//flyin thru the air in pantyhose//he may be very sexy or even cute//but he looks like a sucka in a blue and red suit//I said you need a man who's got finesse//& his whole name across his chest//he may be able to fly all thru the night//but can he rock a party til the early light//he can't satisfy you with his l...\n",
       "5680  I always make it a rule to let the other fellow fire first.  If a man wants to fight, I argue the question with him and try to show him how foolish it would be.  If he can't be dissuaded, why then the fun begins but I always let him have first crack.  Then when I fire, you see, I have the verdict of self-defence on my side.  I know that he is p..."
      ]
     },
     "execution_count": 12,
     "metadata": {},
     "output_type": "execute_result"
    }
   ],
   "source": [
    "df.sort_values(by='status_word_count', ascending=False)[['STATUS']].head()"
   ]
  },
  {
   "cell_type": "markdown",
   "metadata": {},
   "source": [
    "---\n",
    "\n",
    "## Investigating distribution of post lengths\n",
    "\n",
    "We've now seen some of the shortest and longest posts in the dataset. But how common are short posts, and how common are long posts? \n",
    "\n",
    "Use visuals to show the distributions of post lengths.\n",
    "\n",
    "> Note: There are multiple different types of visualizations you could use for this, and you could investigate this by looking at `status_word_count`, `status_char_length`, or both."
   ]
  },
  {
   "cell_type": "code",
   "execution_count": 13,
   "metadata": {},
   "outputs": [
    {
     "data": {
      "text/plain": [
       "<AxesSubplot:xlabel='status_word_count'>"
      ]
     },
     "execution_count": 13,
     "metadata": {},
     "output_type": "execute_result"
    },
    {
     "data": {
      "image/png": "[encoded data removed]",
      "text/plain": [
       "<Figure size 432x288 with 1 Axes>"
      ]
     },
     "metadata": {
      "needs_background": "light"
     },
     "output_type": "display_data"
    }
   ],
   "source": [
    "sns.distplot(df['status_word_count'], kde=False)"
   ]
  },
  {
   "cell_type": "code",
   "execution_count": 14,
   "metadata": {},
   "outputs": [
    {
     "data": {
      "text/plain": [
       "<AxesSubplot:xlabel='status_char_length'>"
      ]
     },
     "execution_count": 14,
     "metadata": {},
     "output_type": "execute_result"
    },
    {
     "data": {
      "image/png": "[encoded data removed]",
      "text/plain": [
       "<Figure size 432x288 with 1 Axes>"
      ]
     },
     "metadata": {
      "needs_background": "light"
     },
     "output_type": "display_data"
    }
   ],
   "source": [
    "sns.distplot(df['status_char_length'], kde=False)"
   ]
  },
  {
   "cell_type": "markdown",
   "metadata": {},
   "source": [
    "---\n",
    "\n",
    "## Exploring personality categories and individual users\n",
    "\n",
    "Because we have many posts per user for most users, doing EDA on the personality score columns might be misleading. If we have 2,000 Facebook statuses from one very high-conscientiousness user, a bar chart of how many `'cCON'` statuses are associated with `1` might be misleading. We'll have to be careful about labeling and titling any visualizations we make off of the dataset.\n",
    "\n",
    "This dataset has redacted original poster names, but each user is given an `#AUTHID`. How many unique users are there? Do we have the same number of posts per user, or do we have some more posts by some users than others?"
   ]
  },
  {
   "cell_type": "code",
   "execution_count": 15,
   "metadata": {},
   "outputs": [
    {
     "data": {
      "text/plain": [
       "e6cdef6f475cce3023c5b715f8c9f110    223\n",
       "6f2bebc01062eb8334dccba3e048fdb5    219\n",
       "527ed53d2ba3a3bc417b8402d5b2f556    194\n",
       "d7e500ad854a1b6ced39e53a525b8a6d    184\n",
       "0737e4e4980f56c9fb1cb5743001c917    172\n",
       "                                   ... \n",
       "22d1f7b24168528163c515b1c96a879c      1\n",
       "5532642937eb3497a43e15dbb23a9d2d      1\n",
       "19c6d69f9f5acc1a43d6ac498085e69f      1\n",
       "c255a1cb2939ce6b4719a8a0cc085624      1\n",
       "f6cb2eff458f065858363e86515beaab      1\n",
       "Name: #AUTHID, Length: 250, dtype: int64"
      ]
     },
     "execution_count": 15,
     "metadata": {},
     "output_type": "execute_result"
    }
   ],
   "source": [
    "df['#AUTHID'].value_counts()"
   ]
  },
  {
   "cell_type": "code",
   "execution_count": 16,
   "metadata": {},
   "outputs": [
    {
     "data": {
      "text/plain": [
       "0.100040338846309"
      ]
     },
     "execution_count": 16,
     "metadata": {},
     "output_type": "execute_result"
    }
   ],
   "source": [
    "(223 + 219 + 194 + 184 + 172)/9916"
   ]
  },
  {
   "cell_type": "markdown",
   "metadata": {},
   "source": [
    "---\n",
    "\n",
    "### Create a new dataframe called `unique_users` that only contains the `#AUTHID` and personality category columns\n",
    "\n",
    "If you do this correctly, it should have 250 rows and 6 columns.\n",
    "\n",
    "(Hint: You can use the pandas [drop_duplicates()](https://pandas.pydata.org/pandas-docs/stable/reference/api/pandas.DataFrame.drop_duplicates.html) method to make this easier. The only column you want to consider when deciding if a user is duplicated is the `#AUTHID` column.)"
   ]
  },
  {
   "cell_type": "code",
   "execution_count": 17,
   "metadata": {},
   "outputs": [],
   "source": [
    "personality_cols = [col for col in df.columns if col.startswith('c')]"
   ]
  },
  {
   "cell_type": "code",
   "execution_count": 18,
   "metadata": {},
   "outputs": [],
   "source": [
    "unique_users = df.drop_duplicates(subset=['#AUTHID'])[['#AUTHID'] + personality_cols]"
   ]
  },
  {
   "cell_type": "code",
   "execution_count": 19,
   "metadata": {},
   "outputs": [
    {
     "data": {
      "text/html": [
       "<div>\n",
       "<style scoped>\n",
       "    .dataframe tbody tr th:only-of-type {\n",
       "        vertical-align: middle;\n",
       "    }\n",
       "\n",
       "    .dataframe tbody tr th {\n",
       "        vertical-align: top;\n",
       "    }\n",
       "\n",
       "    .dataframe thead th {\n",
       "        text-align: right;\n",
       "    }\n",
       "</style>\n",
       "<table border=\"1\" class=\"dataframe\">\n",
       "  <thead>\n",
       "    <tr style=\"text-align: right;\">\n",
       "      <th></th>\n",
       "      <th>#AUTHID</th>\n",
       "      <th>cEXT</th>\n",
       "      <th>cNEU</th>\n",
       "      <th>cAGR</th>\n",
       "      <th>cCON</th>\n",
       "      <th>cOPN</th>\n",
       "    </tr>\n",
       "  </thead>\n",
       "  <tbody>\n",
       "    <tr>\n",
       "      <th>0</th>\n",
       "      <td>b7b7764cfa1c523e4e93ab2a79a946c4</td>\n",
       "      <td>0</td>\n",
       "      <td>1</td>\n",
       "      <td>0</td>\n",
       "      <td>0</td>\n",
       "      <td>1</td>\n",
       "    </tr>\n",
       "    <tr>\n",
       "      <th>102</th>\n",
       "      <td>318bf822d4f2bd3920367560218619c0</td>\n",
       "      <td>1</td>\n",
       "      <td>1</td>\n",
       "      <td>0</td>\n",
       "      <td>1</td>\n",
       "      <td>0</td>\n",
       "    </tr>\n",
       "    <tr>\n",
       "      <th>171</th>\n",
       "      <td>ecbddbfe00e0f83cfdb802a7186061c7</td>\n",
       "      <td>1</td>\n",
       "      <td>0</td>\n",
       "      <td>1</td>\n",
       "      <td>0</td>\n",
       "      <td>1</td>\n",
       "    </tr>\n",
       "  </tbody>\n",
       "</table>\n",
       "</div>"
      ],
      "text/plain": [
       "                              #AUTHID  cEXT  cNEU  cAGR  cCON  cOPN\n",
       "0    b7b7764cfa1c523e4e93ab2a79a946c4     0     1     0     0     1\n",
       "102  318bf822d4f2bd3920367560218619c0     1     1     0     1     0\n",
       "171  ecbddbfe00e0f83cfdb802a7186061c7     1     0     1     0     1"
      ]
     },
     "execution_count": 19,
     "metadata": {},
     "output_type": "execute_result"
    }
   ],
   "source": [
    "unique_users.head(3)"
   ]
  },
  {
   "cell_type": "markdown",
   "metadata": {},
   "source": [
    "### Using `unique_users`, investigate personality\n",
    "\n",
    "For this section, perform EDA on just the unique users. Create 2-3 tables or visuals to investigate.\n",
    "\n",
    "Here are some prompts to get you started:\n",
    "\n",
    "- What proportion of above-median openness users also exhibit above-median extroversion vs. below-median extroversion? What about other pairs of personality traits?\n",
    "- Do any two personality traits appear to be correlated?\n",
    "- Are about equal numbers of users above median conscientiousness and below median conscientiousness, or is there an imbalanced split? What about the other personality traits?\n",
    "- Are any users below-median across all five personality traits? How many?\n",
    "- Are any users above-median all five personality traits? How many?\n",
    "\n",
    "For each dataframe or plot you end up with, remember to provide interpretation in markdown as well."
   ]
  },
  {
   "cell_type": "code",
   "execution_count": 20,
   "metadata": {},
   "outputs": [],
   "source": [
    "# answers here will vary - invite students to share what they found when reviewing.\n",
    "\n",
    "# due to the inherent nature of personality research, especially algorithmically identifying\n",
    "# personality traits, don't expect students to find anything earth-shattering. there's no\n",
    "# smoking gun or obvious relationship that they should find. be encouraging if students\n",
    "# are hesitant to share their 'negative' results (i.e. \"this plot doesn't really show anything,\n",
    "# but...\") -- sometimes there are not compelling relationships in the data!"
   ]
  },
  {
   "cell_type": "code",
   "execution_count": 21,
   "metadata": {},
   "outputs": [
    {
     "data": {
      "text/html": [
       "<div>\n",
       "<style scoped>\n",
       "    .dataframe tbody tr th:only-of-type {\n",
       "        vertical-align: middle;\n",
       "    }\n",
       "\n",
       "    .dataframe tbody tr th {\n",
       "        vertical-align: top;\n",
       "    }\n",
       "\n",
       "    .dataframe thead th {\n",
       "        text-align: right;\n",
       "    }\n",
       "</style>\n",
       "<table border=\"1\" class=\"dataframe\">\n",
       "  <thead>\n",
       "    <tr style=\"text-align: right;\">\n",
       "      <th></th>\n",
       "      <th>cEXT</th>\n",
       "      <th>cNEU</th>\n",
       "      <th>cAGR</th>\n",
       "      <th>cCON</th>\n",
       "      <th>cOPN</th>\n",
       "    </tr>\n",
       "  </thead>\n",
       "  <tbody>\n",
       "    <tr>\n",
       "      <th>count</th>\n",
       "      <td>250.000000</td>\n",
       "      <td>250.000000</td>\n",
       "      <td>250.000000</td>\n",
       "      <td>250.000000</td>\n",
       "      <td>250.000000</td>\n",
       "    </tr>\n",
       "    <tr>\n",
       "      <th>mean</th>\n",
       "      <td>0.384000</td>\n",
       "      <td>0.396000</td>\n",
       "      <td>0.536000</td>\n",
       "      <td>0.520000</td>\n",
       "      <td>0.704000</td>\n",
       "    </tr>\n",
       "    <tr>\n",
       "      <th>std</th>\n",
       "      <td>0.487334</td>\n",
       "      <td>0.490045</td>\n",
       "      <td>0.499703</td>\n",
       "      <td>0.500602</td>\n",
       "      <td>0.457407</td>\n",
       "    </tr>\n",
       "    <tr>\n",
       "      <th>min</th>\n",
       "      <td>0.000000</td>\n",
       "      <td>0.000000</td>\n",
       "      <td>0.000000</td>\n",
       "      <td>0.000000</td>\n",
       "      <td>0.000000</td>\n",
       "    </tr>\n",
       "    <tr>\n",
       "      <th>25%</th>\n",
       "      <td>0.000000</td>\n",
       "      <td>0.000000</td>\n",
       "      <td>0.000000</td>\n",
       "      <td>0.000000</td>\n",
       "      <td>0.000000</td>\n",
       "    </tr>\n",
       "    <tr>\n",
       "      <th>50%</th>\n",
       "      <td>0.000000</td>\n",
       "      <td>0.000000</td>\n",
       "      <td>1.000000</td>\n",
       "      <td>1.000000</td>\n",
       "      <td>1.000000</td>\n",
       "    </tr>\n",
       "    <tr>\n",
       "      <th>75%</th>\n",
       "      <td>1.000000</td>\n",
       "      <td>1.000000</td>\n",
       "      <td>1.000000</td>\n",
       "      <td>1.000000</td>\n",
       "      <td>1.000000</td>\n",
       "    </tr>\n",
       "    <tr>\n",
       "      <th>max</th>\n",
       "      <td>1.000000</td>\n",
       "      <td>1.000000</td>\n",
       "      <td>1.000000</td>\n",
       "      <td>1.000000</td>\n",
       "      <td>1.000000</td>\n",
       "    </tr>\n",
       "  </tbody>\n",
       "</table>\n",
       "</div>"
      ],
      "text/plain": [
       "             cEXT        cNEU        cAGR        cCON        cOPN\n",
       "count  250.000000  250.000000  250.000000  250.000000  250.000000\n",
       "mean     0.384000    0.396000    0.536000    0.520000    0.704000\n",
       "std      0.487334    0.490045    0.499703    0.500602    0.457407\n",
       "min      0.000000    0.000000    0.000000    0.000000    0.000000\n",
       "25%      0.000000    0.000000    0.000000    0.000000    0.000000\n",
       "50%      0.000000    0.000000    1.000000    1.000000    1.000000\n",
       "75%      1.000000    1.000000    1.000000    1.000000    1.000000\n",
       "max      1.000000    1.000000    1.000000    1.000000    1.000000"
      ]
     },
     "execution_count": 21,
     "metadata": {},
     "output_type": "execute_result"
    }
   ],
   "source": [
    "unique_users.describe()"
   ]
  },
  {
   "cell_type": "code",
   "execution_count": 22,
   "metadata": {},
   "outputs": [
    {
     "data": {
      "text/html": [
       "<div>\n",
       "<style scoped>\n",
       "    .dataframe tbody tr th:only-of-type {\n",
       "        vertical-align: middle;\n",
       "    }\n",
       "\n",
       "    .dataframe tbody tr th {\n",
       "        vertical-align: top;\n",
       "    }\n",
       "\n",
       "    .dataframe thead th {\n",
       "        text-align: right;\n",
       "    }\n",
       "</style>\n",
       "<table border=\"1\" class=\"dataframe\">\n",
       "  <thead>\n",
       "    <tr style=\"text-align: right;\">\n",
       "      <th></th>\n",
       "      <th>cEXT</th>\n",
       "      <th>cNEU</th>\n",
       "      <th>cAGR</th>\n",
       "      <th>cCON</th>\n",
       "    </tr>\n",
       "    <tr>\n",
       "      <th>cOPN</th>\n",
       "      <th></th>\n",
       "      <th></th>\n",
       "      <th></th>\n",
       "      <th></th>\n",
       "    </tr>\n",
       "  </thead>\n",
       "  <tbody>\n",
       "    <tr>\n",
       "      <th>0</th>\n",
       "      <td>0.324324</td>\n",
       "      <td>0.418919</td>\n",
       "      <td>0.378378</td>\n",
       "      <td>0.513514</td>\n",
       "    </tr>\n",
       "    <tr>\n",
       "      <th>1</th>\n",
       "      <td>0.409091</td>\n",
       "      <td>0.386364</td>\n",
       "      <td>0.602273</td>\n",
       "      <td>0.522727</td>\n",
       "    </tr>\n",
       "  </tbody>\n",
       "</table>\n",
       "</div>"
      ],
      "text/plain": [
       "          cEXT      cNEU      cAGR      cCON\n",
       "cOPN                                        \n",
       "0     0.324324  0.418919  0.378378  0.513514\n",
       "1     0.409091  0.386364  0.602273  0.522727"
      ]
     },
     "execution_count": 22,
     "metadata": {},
     "output_type": "execute_result"
    }
   ],
   "source": [
    "unique_users.groupby('cOPN').mean()"
   ]
  },
  {
   "cell_type": "code",
   "execution_count": 23,
   "metadata": {},
   "outputs": [
    {
     "data": {
      "text/plain": [
       "Text(0.5, 1.0, 'High and low personality traits based on high and low openness')"
      ]
     },
     "execution_count": 23,
     "metadata": {},
     "output_type": "execute_result"
    },
    {
     "data": {
      "image/png": "[encoded data removed]",
      "text/plain": [
       "<Figure size 432x288 with 1 Axes>"
      ]
     },
     "metadata": {
      "needs_background": "light"
     },
     "output_type": "display_data"
    }
   ],
   "source": [
    "unique_users.groupby('cOPN').mean().plot(kind='barh')\n",
    "plt.title('High and low personality traits based on high and low openness')"
   ]
  },
  {
   "cell_type": "code",
   "execution_count": 24,
   "metadata": {},
   "outputs": [
    {
     "data": {
      "text/html": [
       "<div>\n",
       "<style scoped>\n",
       "    .dataframe tbody tr th:only-of-type {\n",
       "        vertical-align: middle;\n",
       "    }\n",
       "\n",
       "    .dataframe tbody tr th {\n",
       "        vertical-align: top;\n",
       "    }\n",
       "\n",
       "    .dataframe thead th {\n",
       "        text-align: right;\n",
       "    }\n",
       "</style>\n",
       "<table border=\"1\" class=\"dataframe\">\n",
       "  <thead>\n",
       "    <tr style=\"text-align: right;\">\n",
       "      <th></th>\n",
       "      <th>cEXT</th>\n",
       "      <th>cNEU</th>\n",
       "      <th>cAGR</th>\n",
       "      <th>cCON</th>\n",
       "      <th>cOPN</th>\n",
       "    </tr>\n",
       "  </thead>\n",
       "  <tbody>\n",
       "    <tr>\n",
       "      <th>cEXT</th>\n",
       "      <td>1.000000</td>\n",
       "      <td>-0.269335</td>\n",
       "      <td>0.091429</td>\n",
       "      <td>0.182399</td>\n",
       "      <td>0.079561</td>\n",
       "    </tr>\n",
       "    <tr>\n",
       "      <th>cNEU</th>\n",
       "      <td>-0.269335</td>\n",
       "      <td>1.000000</td>\n",
       "      <td>-0.312656</td>\n",
       "      <td>-0.237050</td>\n",
       "      <td>-0.030387</td>\n",
       "    </tr>\n",
       "    <tr>\n",
       "      <th>cAGR</th>\n",
       "      <td>0.091429</td>\n",
       "      <td>-0.312656</td>\n",
       "      <td>1.000000</td>\n",
       "      <td>0.085410</td>\n",
       "      <td>0.204943</td>\n",
       "    </tr>\n",
       "    <tr>\n",
       "      <th>cCON</th>\n",
       "      <td>0.182399</td>\n",
       "      <td>-0.237050</td>\n",
       "      <td>0.085410</td>\n",
       "      <td>1.000000</td>\n",
       "      <td>0.008419</td>\n",
       "    </tr>\n",
       "    <tr>\n",
       "      <th>cOPN</th>\n",
       "      <td>0.079561</td>\n",
       "      <td>-0.030387</td>\n",
       "      <td>0.204943</td>\n",
       "      <td>0.008419</td>\n",
       "      <td>1.000000</td>\n",
       "    </tr>\n",
       "  </tbody>\n",
       "</table>\n",
       "</div>"
      ],
      "text/plain": [
       "          cEXT      cNEU      cAGR      cCON      cOPN\n",
       "cEXT  1.000000 -0.269335  0.091429  0.182399  0.079561\n",
       "cNEU -0.269335  1.000000 -0.312656 -0.237050 -0.030387\n",
       "cAGR  0.091429 -0.312656  1.000000  0.085410  0.204943\n",
       "cCON  0.182399 -0.237050  0.085410  1.000000  0.008419\n",
       "cOPN  0.079561 -0.030387  0.204943  0.008419  1.000000"
      ]
     },
     "execution_count": 24,
     "metadata": {},
     "output_type": "execute_result"
    }
   ],
   "source": [
    "unique_users.corr()"
   ]
  },
  {
   "cell_type": "code",
   "execution_count": 25,
   "metadata": {},
   "outputs": [
    {
     "data": {
      "text/plain": [
       "1    176\n",
       "0     74\n",
       "Name: cOPN, dtype: int64"
      ]
     },
     "execution_count": 25,
     "metadata": {},
     "output_type": "execute_result"
    }
   ],
   "source": [
    "unique_users['cOPN'].value_counts()"
   ]
  },
  {
   "cell_type": "code",
   "execution_count": 26,
   "metadata": {},
   "outputs": [
    {
     "data": {
      "text/plain": [
       "1    134\n",
       "0    116\n",
       "Name: cAGR, dtype: int64"
      ]
     },
     "execution_count": 26,
     "metadata": {},
     "output_type": "execute_result"
    }
   ],
   "source": [
    "unique_users['cAGR'].value_counts()"
   ]
  },
  {
   "cell_type": "markdown",
   "metadata": {},
   "source": [
    "## Plots vs. Tables\n",
    "\n",
    "(Short answer.) Consider what different information is easily conveyed by the plots of scores, versus the table with summary statistics. Explain when you might present a distribution versus when you might present a table of summary statistics. You can provide your answer using sentences or bullet points."
   ]
  },
  {
   "cell_type": "code",
   "execution_count": null,
   "metadata": {},
   "outputs": [],
   "source": []
  },
  {
   "cell_type": "markdown",
   "metadata": {},
   "source": [
    "---\n",
    "\n",
    "## Exploring status length and word count based on personality\n",
    "\n",
    "### Using `groupby()`, find the mean status length and status word count for posts by users in the above-median and below-median categories of each of the personality traits\n",
    "\n",
    "> Note: Using `groupby()` five separate times is the easiest way to do this."
   ]
  },
  {
   "cell_type": "code",
   "execution_count": 27,
   "metadata": {},
   "outputs": [
    {
     "data": {
      "text/html": [
       "<div>\n",
       "<style scoped>\n",
       "    .dataframe tbody tr th:only-of-type {\n",
       "        vertical-align: middle;\n",
       "    }\n",
       "\n",
       "    .dataframe tbody tr th {\n",
       "        vertical-align: top;\n",
       "    }\n",
       "\n",
       "    .dataframe thead th {\n",
       "        text-align: right;\n",
       "    }\n",
       "</style>\n",
       "<table border=\"1\" class=\"dataframe\">\n",
       "  <thead>\n",
       "    <tr style=\"text-align: right;\">\n",
       "      <th></th>\n",
       "      <th>status_char_length</th>\n",
       "      <th>status_word_count</th>\n",
       "    </tr>\n",
       "    <tr>\n",
       "      <th>cOPN</th>\n",
       "      <th></th>\n",
       "      <th></th>\n",
       "    </tr>\n",
       "  </thead>\n",
       "  <tbody>\n",
       "    <tr>\n",
       "      <th>0</th>\n",
       "      <td>85.686298</td>\n",
       "      <td>15.450726</td>\n",
       "    </tr>\n",
       "    <tr>\n",
       "      <th>1</th>\n",
       "      <td>78.905143</td>\n",
       "      <td>14.205184</td>\n",
       "    </tr>\n",
       "  </tbody>\n",
       "</table>\n",
       "</div>"
      ],
      "text/plain": [
       "      status_char_length  status_word_count\n",
       "cOPN                                       \n",
       "0              85.686298          15.450726\n",
       "1              78.905143          14.205184"
      ]
     },
     "execution_count": 27,
     "metadata": {},
     "output_type": "execute_result"
    }
   ],
   "source": [
    "df.groupby(['cOPN']).mean()[['status_char_length', 'status_word_count']]"
   ]
  },
  {
   "cell_type": "code",
   "execution_count": 28,
   "metadata": {},
   "outputs": [
    {
     "data": {
      "text/html": [
       "<div>\n",
       "<style scoped>\n",
       "    .dataframe tbody tr th:only-of-type {\n",
       "        vertical-align: middle;\n",
       "    }\n",
       "\n",
       "    .dataframe tbody tr th {\n",
       "        vertical-align: top;\n",
       "    }\n",
       "\n",
       "    .dataframe thead th {\n",
       "        text-align: right;\n",
       "    }\n",
       "</style>\n",
       "<table border=\"1\" class=\"dataframe\">\n",
       "  <thead>\n",
       "    <tr style=\"text-align: right;\">\n",
       "      <th></th>\n",
       "      <th>status_char_length</th>\n",
       "      <th>status_word_count</th>\n",
       "    </tr>\n",
       "    <tr>\n",
       "      <th>cCON</th>\n",
       "      <th></th>\n",
       "      <th></th>\n",
       "    </tr>\n",
       "  </thead>\n",
       "  <tbody>\n",
       "    <tr>\n",
       "      <th>0</th>\n",
       "      <td>81.920149</td>\n",
       "      <td>14.709515</td>\n",
       "    </tr>\n",
       "    <tr>\n",
       "      <th>1</th>\n",
       "      <td>79.149034</td>\n",
       "      <td>14.308165</td>\n",
       "    </tr>\n",
       "  </tbody>\n",
       "</table>\n",
       "</div>"
      ],
      "text/plain": [
       "      status_char_length  status_word_count\n",
       "cCON                                       \n",
       "0              81.920149          14.709515\n",
       "1              79.149034          14.308165"
      ]
     },
     "execution_count": 28,
     "metadata": {},
     "output_type": "execute_result"
    }
   ],
   "source": [
    "df.groupby(['cCON']).mean()[['status_char_length', 'status_word_count']]"
   ]
  },
  {
   "cell_type": "code",
   "execution_count": 29,
   "metadata": {},
   "outputs": [
    {
     "data": {
      "text/html": [
       "<div>\n",
       "<style scoped>\n",
       "    .dataframe tbody tr th:only-of-type {\n",
       "        vertical-align: middle;\n",
       "    }\n",
       "\n",
       "    .dataframe tbody tr th {\n",
       "        vertical-align: top;\n",
       "    }\n",
       "\n",
       "    .dataframe thead th {\n",
       "        text-align: right;\n",
       "    }\n",
       "</style>\n",
       "<table border=\"1\" class=\"dataframe\">\n",
       "  <thead>\n",
       "    <tr style=\"text-align: right;\">\n",
       "      <th></th>\n",
       "      <th>status_char_length</th>\n",
       "      <th>status_word_count</th>\n",
       "    </tr>\n",
       "    <tr>\n",
       "      <th>cEXT</th>\n",
       "      <th></th>\n",
       "      <th></th>\n",
       "    </tr>\n",
       "  </thead>\n",
       "  <tbody>\n",
       "    <tr>\n",
       "      <th>0</th>\n",
       "      <td>79.866655</td>\n",
       "      <td>14.394428</td>\n",
       "    </tr>\n",
       "    <tr>\n",
       "      <th>1</th>\n",
       "      <td>81.704918</td>\n",
       "      <td>14.702305</td>\n",
       "    </tr>\n",
       "  </tbody>\n",
       "</table>\n",
       "</div>"
      ],
      "text/plain": [
       "      status_char_length  status_word_count\n",
       "cEXT                                       \n",
       "0              79.866655          14.394428\n",
       "1              81.704918          14.702305"
      ]
     },
     "execution_count": 29,
     "metadata": {},
     "output_type": "execute_result"
    }
   ],
   "source": [
    "df.groupby(['cEXT']).mean()[['status_char_length', 'status_word_count']]"
   ]
  },
  {
   "cell_type": "code",
   "execution_count": 30,
   "metadata": {},
   "outputs": [
    {
     "data": {
      "text/html": [
       "<div>\n",
       "<style scoped>\n",
       "    .dataframe tbody tr th:only-of-type {\n",
       "        vertical-align: middle;\n",
       "    }\n",
       "\n",
       "    .dataframe tbody tr th {\n",
       "        vertical-align: top;\n",
       "    }\n",
       "\n",
       "    .dataframe thead th {\n",
       "        text-align: right;\n",
       "    }\n",
       "</style>\n",
       "<table border=\"1\" class=\"dataframe\">\n",
       "  <thead>\n",
       "    <tr style=\"text-align: right;\">\n",
       "      <th></th>\n",
       "      <th>status_char_length</th>\n",
       "      <th>status_word_count</th>\n",
       "    </tr>\n",
       "    <tr>\n",
       "      <th>cAGR</th>\n",
       "      <th></th>\n",
       "      <th></th>\n",
       "    </tr>\n",
       "  </thead>\n",
       "  <tbody>\n",
       "    <tr>\n",
       "      <th>0</th>\n",
       "      <td>80.976769</td>\n",
       "      <td>14.616692</td>\n",
       "    </tr>\n",
       "    <tr>\n",
       "      <th>1</th>\n",
       "      <td>80.355800</td>\n",
       "      <td>14.444276</td>\n",
       "    </tr>\n",
       "  </tbody>\n",
       "</table>\n",
       "</div>"
      ],
      "text/plain": [
       "      status_char_length  status_word_count\n",
       "cAGR                                       \n",
       "0              80.976769          14.616692\n",
       "1              80.355800          14.444276"
      ]
     },
     "execution_count": 30,
     "metadata": {},
     "output_type": "execute_result"
    }
   ],
   "source": [
    "df.groupby(['cAGR']).mean()[['status_char_length', 'status_word_count']]"
   ]
  },
  {
   "cell_type": "code",
   "execution_count": 31,
   "metadata": {},
   "outputs": [
    {
     "data": {
      "text/html": [
       "<div>\n",
       "<style scoped>\n",
       "    .dataframe tbody tr th:only-of-type {\n",
       "        vertical-align: middle;\n",
       "    }\n",
       "\n",
       "    .dataframe tbody tr th {\n",
       "        vertical-align: top;\n",
       "    }\n",
       "\n",
       "    .dataframe thead th {\n",
       "        text-align: right;\n",
       "    }\n",
       "</style>\n",
       "<table border=\"1\" class=\"dataframe\">\n",
       "  <thead>\n",
       "    <tr style=\"text-align: right;\">\n",
       "      <th></th>\n",
       "      <th>status_char_length</th>\n",
       "      <th>status_word_count</th>\n",
       "    </tr>\n",
       "    <tr>\n",
       "      <th>cNEU</th>\n",
       "      <th></th>\n",
       "      <th></th>\n",
       "    </tr>\n",
       "  </thead>\n",
       "  <tbody>\n",
       "    <tr>\n",
       "      <th>0</th>\n",
       "      <td>80.852396</td>\n",
       "      <td>14.548314</td>\n",
       "    </tr>\n",
       "    <tr>\n",
       "      <th>1</th>\n",
       "      <td>80.304278</td>\n",
       "      <td>14.486414</td>\n",
       "    </tr>\n",
       "  </tbody>\n",
       "</table>\n",
       "</div>"
      ],
      "text/plain": [
       "      status_char_length  status_word_count\n",
       "cNEU                                       \n",
       "0              80.852396          14.548314\n",
       "1              80.304278          14.486414"
      ]
     },
     "execution_count": 31,
     "metadata": {},
     "output_type": "execute_result"
    }
   ],
   "source": [
    "df.groupby(['cNEU']).mean()[['status_char_length', 'status_word_count']]"
   ]
  },
  {
   "cell_type": "markdown",
   "metadata": {},
   "source": [
    "### Distribution of post length for above- and below-median personality traits\n",
    "\n",
    "Choose one of the personality category columns (i.e. `cOPN`, `cCON`, `cEXT`, `cAGR`, or `cNEU`.) Visualize the distribution of status word counts of posts for users who are both above-median and below-median on that trait.\n",
    "\n",
    "> Note: This can be done several ways -- using seaborn or matplotlib, and as overlapping histograms or as side-by-side or stacked histograms."
   ]
  },
  {
   "cell_type": "code",
   "execution_count": 32,
   "metadata": {},
   "outputs": [
    {
     "data": {
      "image/png": "[encoded data removed]",
      "text/plain": [
       "<Figure size 432x288 with 1 Axes>"
      ]
     },
     "metadata": {
      "needs_background": "light"
     },
     "output_type": "display_data"
    }
   ],
   "source": [
    "sns.distplot(df[df['cEXT'] == 1]['status_word_count'], kde=False, label='High cEXT')\n",
    "sns.distplot(df[df['cEXT'] == 0]['status_word_count'], kde=False, label='Low cEXT')\n",
    "plt.legend();"
   ]
  },
  {
   "cell_type": "code",
   "execution_count": 33,
   "metadata": {},
   "outputs": [
    {
     "data": {
      "text/plain": [
       "<matplotlib.legend.Legend at 0x124a98ac0>"
      ]
     },
     "execution_count": 33,
     "metadata": {},
     "output_type": "execute_result"
    },
    {
     "data": {
      "image/png": "[encoded data removed]",
      "text/plain": [
       "<Figure size 432x288 with 1 Axes>"
      ]
     },
     "metadata": {
      "needs_background": "light"
     },
     "output_type": "display_data"
    }
   ],
   "source": [
    "plt.hist(df[df['cAGR'] == 1]['status_word_count'], label='high cAGR', alpha=.5)\n",
    "plt.hist(df[df['cAGR'] == 0]['status_word_count'], label='low cAGR', alpha=.5)\n",
    "plt.legend()"
   ]
  },
  {
   "cell_type": "markdown",
   "metadata": {},
   "source": [
    "---\n",
    "\n",
    "## EDA on Word Counts\n",
    "\n",
    "### Vectorize the text\n",
    "\n",
    "In order to perform EDA on word count data, we'll need to count-vectorize.\n",
    "\n",
    "Create a dataframe that contains the count-vectorized text for each Facebook status in the dataset.\n",
    "\n",
    "To do this, you might follow these steps:\n",
    "- Instantiate a `CountVectorizer` object\n",
    "- Fit the count vectorizer on the Facebook statuses\n",
    "- Store the transformed data\n",
    "- Convert to a dataframe and store\n",
    "    - Don't forget that the transformed data will need to be 'densified'. The `toarray()` or `todense()` methods will allow this.\n",
    "    - Don't forget that the `get_feature_names()` method on a fitted `CountVectorizer` object will bring you back the words learned from the dataset, which you can set as the `columns` argument when creating the dataframe.\n",
    "    \n",
    "It's up to you whether or not to keep stopwords in the dataset."
   ]
  },
  {
   "cell_type": "code",
   "execution_count": 34,
   "metadata": {},
   "outputs": [],
   "source": [
    "cv = CountVectorizer(stop_words='english', min_df=3)\n",
    "cv.fit(df['STATUS'])\n",
    "\n",
    "status_cv = cv.transform(df['STATUS'])\n",
    "status_df = pd.DataFrame(status_cv.todense(), columns=cv.get_feature_names())"
   ]
  },
  {
   "cell_type": "code",
   "execution_count": null,
   "metadata": {},
   "outputs": [],
   "source": []
  },
  {
   "cell_type": "code",
   "execution_count": null,
   "metadata": {},
   "outputs": [],
   "source": []
  },
  {
   "cell_type": "markdown",
   "metadata": {},
   "source": [
    "### Show the 15 most common words"
   ]
  },
  {
   "cell_type": "code",
   "execution_count": 35,
   "metadata": {},
   "outputs": [
    {
     "data": {
      "text/plain": [
       "propname    1309\n",
       "just         717\n",
       "day          534\n",
       "like         506\n",
       "time         424\n",
       "going        414\n",
       "today        402\n",
       "new          386\n",
       "work         369\n",
       "good         354\n",
       "got          314\n",
       "night        312\n",
       "love         292\n",
       "tomorrow     277\n",
       "know         276\n",
       "dtype: int64"
      ]
     },
     "execution_count": 35,
     "metadata": {},
     "output_type": "execute_result"
    }
   ],
   "source": [
    "status_df.sum().sort_values(ascending=False).head(15)"
   ]
  },
  {
   "cell_type": "markdown",
   "metadata": {},
   "source": [
    "### Show the 15 frequency of the most common words as a bar chart"
   ]
  },
  {
   "cell_type": "code",
   "execution_count": 36,
   "metadata": {},
   "outputs": [
    {
     "data": {
      "text/plain": [
       "<AxesSubplot:>"
      ]
     },
     "execution_count": 36,
     "metadata": {},
     "output_type": "execute_result"
    },
    {
     "data": {
      "image/png": "[encoded data removed]",
      "text/plain": [
       "<Figure size 432x288 with 1 Axes>"
      ]
     },
     "metadata": {
      "needs_background": "light"
     },
     "output_type": "display_data"
    }
   ],
   "source": [
    "status_df.sum().sort_values(ascending=False).head(15).plot(kind='barh')"
   ]
  },
  {
   "cell_type": "markdown",
   "metadata": {},
   "source": [
    "### Investigating `propname`\n",
    "\n",
    "The word `propname` shows up frequently in this dataset. Show 10 statuses in the dataset that contain `propname`:"
   ]
  },
  {
   "cell_type": "code",
   "execution_count": 37,
   "metadata": {},
   "outputs": [
    {
     "data": {
      "text/plain": [
       "['saw a nun zombie, and liked it. Also, *PROPNAME* + Tentacle!Man + Psychic Powers = GREAT Party.',\n",
       " 'is tired. *PROPNAME*, let me go to sleep pl0x.',\n",
       " 'has a fair idea of how to manage the 2.5 kids cliche... She just needs a very strong gentleman named *PROPNAME* and thriteen wet napkins.',\n",
       " 'has a serious crush on *PROPNAME*. <3',\n",
       " 'Mondays are the new thursdays- anthony bourdain + *PROPNAME*  = forgetting your financial troubles',\n",
       " \"is *PROPNAME*'s bestbian\",\n",
       " 'is in love with *PROPNAME*.',\n",
       " 'is in love. With *PROPNAME*.',\n",
       " \"Ten Movies to Watch Right Now (and some you can Instant Netflix) 1. La Vie En Rose 2. Shrink (if you love LA) 3. Paris Je'taime (if you love Paris) 3. Clay Pidgeons (*PROPNAME* is priceless) 4. Quills 5. Away We Go 6. Sunshine Cleaning 7. A League of Their Own 8. Smart People (I Heart *PROPNAME*'s Page and SJP) 9. Frost//Nixon 10. Doubt\",\n",
       " 'ATTENTION EVERYONE!!! Vote for the short \"AFTER HOURS\" to support *PROPNAME* - our local Michigan talent and a wonderful person. Repost please!!! http:////www.thirteen.org//sites//reel13//category//vote//']"
      ]
     },
     "execution_count": 37,
     "metadata": {},
     "output_type": "execute_result"
    }
   ],
   "source": [
    "[status for status in df['STATUS'] if 'propname' in status.lower()][:10]"
   ]
  },
  {
   "cell_type": "markdown",
   "metadata": {},
   "source": [
    "#### Provide a short explanation of what you believe `propname` to be:\n",
    "\n",
    "> Note: The attached PDF also contains an explanation."
   ]
  },
  {
   "cell_type": "code",
   "execution_count": null,
   "metadata": {},
   "outputs": [],
   "source": []
  },
  {
   "cell_type": "markdown",
   "metadata": {},
   "source": [
    "-----\n",
    "\n",
    "## Most common words based on personality category\n",
    "\n",
    "In order to do more targeted EDA, we'll need to be able to reference not only the dataframe of vectorized statuses, but also the personality scores from the original dataframe.\n",
    "\n",
    "### Create a new dataframe with the vectorized text _and_ the personality category columns\n",
    "\n",
    "> Note: One way to do this is by using [`pd.concat`](https://pandas.pydata.org/pandas-docs/stable/reference/api/pandas.concat.html)."
   ]
  },
  {
   "cell_type": "code",
   "execution_count": 38,
   "metadata": {},
   "outputs": [],
   "source": [
    "text_and_scores = pd.concat([status_df, df[personality_cols]], axis=1)"
   ]
  },
  {
   "cell_type": "markdown",
   "metadata": {},
   "source": [
    "### Show the 25 most common words for statuses from high-cAGR users"
   ]
  },
  {
   "cell_type": "code",
   "execution_count": 39,
   "metadata": {},
   "outputs": [
    {
     "data": {
      "text/plain": [
       "propname    699\n",
       "just        402\n",
       "day         297\n",
       "like        280\n",
       "time        221\n",
       "today       219\n",
       "work        206\n",
       "good        201\n",
       "going       200\n",
       "new         194\n",
       "love        172\n",
       "happy       165\n",
       "night       161\n",
       "know        157\n",
       "got         157\n",
       "people      156\n",
       "tomorrow    153\n",
       "life        140\n",
       "home        131\n",
       "tonight     129\n",
       "really      127\n",
       "don         119\n",
       "want        108\n",
       "weekend     105\n",
       "ll          103\n",
       "dtype: int64"
      ]
     },
     "execution_count": 39,
     "metadata": {},
     "output_type": "execute_result"
    }
   ],
   "source": [
    "text_and_scores[text_and_scores['cAGR'] == 1].drop(columns=personality_cols).sum().sort_values(ascending=False).head(25)"
   ]
  },
  {
   "cell_type": "markdown",
   "metadata": {},
   "source": [
    "### Show the 25 most common words for statuses from low-cAGR users"
   ]
  },
  {
   "cell_type": "code",
   "execution_count": 40,
   "metadata": {},
   "outputs": [
    {
     "data": {
      "text/plain": [
       "propname    610\n",
       "just        315\n",
       "day         237\n",
       "like        226\n",
       "going       214\n",
       "time        203\n",
       "new         192\n",
       "today       183\n",
       "work        163\n",
       "got         157\n",
       "good        153\n",
       "night       151\n",
       "home        136\n",
       "don         134\n",
       "tonight     127\n",
       "tomorrow    124\n",
       "life        120\n",
       "love        120\n",
       "really      119\n",
       "know        119\n",
       "people      112\n",
       "think       110\n",
       "want        109\n",
       "happy       107\n",
       "week         98\n",
       "dtype: int64"
      ]
     },
     "execution_count": 40,
     "metadata": {},
     "output_type": "execute_result"
    }
   ],
   "source": [
    "text_and_scores[text_and_scores['cAGR'] == 0].drop(columns=personality_cols).sum().sort_values(ascending=False).head(25)"
   ]
  },
  {
   "cell_type": "markdown",
   "metadata": {},
   "source": [
    "-----\n",
    "\n",
    "### (BONUS) Most common bigrams:\n",
    "\n",
    "This is a bonus section and not required.\n",
    "\n",
    "Find the 10 most common bigrams in the dataset.\n",
    "\n",
    "> Note: The easiest way to do this involves instantiating a new `CountVectorizer`."
   ]
  },
  {
   "cell_type": "code",
   "execution_count": 41,
   "metadata": {},
   "outputs": [
    {
     "data": {
      "text/plain": [
       "propname propname    147\n",
       "just got              55\n",
       "new year              53\n",
       "http www              46\n",
       "merry christmas       44\n",
       "looking forward       43\n",
       "feel like             39\n",
       "happy new             32\n",
       "don know              31\n",
       "birthday wishes       29\n",
       "feels like            28\n",
       "copy paste            25\n",
       "don want              23\n",
       "gainesville film      23\n",
       "examiner com          23\n",
       "dtype: int64"
      ]
     },
     "execution_count": 41,
     "metadata": {},
     "output_type": "execute_result"
    }
   ],
   "source": [
    "cv_bigrams = CountVectorizer(ngram_range=(2, 2), stop_words='english')\n",
    "cv_bigrams.fit(df['STATUS'])\n",
    "\n",
    "bigrams_cv = cv_bigrams.transform(df['STATUS'])\n",
    "bigrams_df = pd.DataFrame(bigrams_cv.todense(), columns=cv_bigrams.get_feature_names())\n",
    "\n",
    "bigrams_df.sum().sort_values(ascending=False).head(15)"
   ]
  },
  {
   "cell_type": "markdown",
   "metadata": {},
   "source": [
    "### (BONUS) Most common trigrams:\n",
    "\n",
    "This is a bonus section and not required.\n",
    "\n",
    "Find the 10 most common trigrams in the dataset.\n",
    "\n",
    "> Note: The easiest way to do this involves instantiating a new `CountVectorizer`."
   ]
  },
  {
   "cell_type": "code",
   "execution_count": 42,
   "metadata": {},
   "outputs": [
    {
     "data": {
      "text/plain": [
       "propname propname propname    54\n",
       "gainesville film industry     23\n",
       "www examiner com              23\n",
       "http www examiner             23\n",
       "24676 gainesville film        23\n",
       "film industry examiner        23\n",
       "happy new year                21\n",
       "examiner com examiner         20\n",
       "com examiner 24676            20\n",
       "examiner 24676 gainesville    20\n",
       "downtown comedy club          16\n",
       "ha ha ha                      12\n",
       "thanks birthday wishes        11\n",
       "work 30 close                 10\n",
       "copy paste status             10\n",
       "dtype: int64"
      ]
     },
     "execution_count": 42,
     "metadata": {},
     "output_type": "execute_result"
    }
   ],
   "source": [
    "cv_trigrams = CountVectorizer(ngram_range=(3, 3), stop_words='english')\n",
    "cv_trigrams.fit(df['STATUS'])\n",
    "\n",
    "trigrams_cv = cv_trigrams.transform(df['STATUS'])\n",
    "trigrams_df = pd.DataFrame(trigrams_cv.todense(), columns=cv_trigrams.get_feature_names())\n",
    "\n",
    "trigrams_df.sum().sort_values(ascending=False).head(15)"
   ]
  },
  {
   "cell_type": "markdown",
   "metadata": {},
   "source": [
    "---\n",
    "\n",
    "## Choose your own adventure\n",
    "\n",
    "By now you've looked at a lot of visualizations and frequency counts.\n",
    "\n",
    "Come up with 2-3 questions about the data, and try to answer them using descriptive statistics (like counts, averages, etc.) or visualizations.\n",
    "\n",
    "Some questions you might explore:\n",
    "\n",
    "- Have numbers been redacted, or are phone numbers, house numbers, or zip codes anywhere in the dataset?\n",
    "- `PROPNAME` has been used to redact personal names. Given that this data was scraped between 2009 and 2011, investigate if any public figures or famous people show up in the dataset, or their names have been redacted as well.\n",
    "- Is count of uppercase letters vs. lowercase letters per status related to any personality category or personality score?\n",
    "- Is _average_ word count per status related to any personality category or personality metric?\n",
    "- Is punctuation use related to personality?\n",
    "\n",
    "Or, of course, come up with your own questions to investigate.\n",
    "\n",
    "The focus here is on \"explore\" -- you might not find anything of particular interest, but don't let that discourage you."
   ]
  },
  {
   "cell_type": "code",
   "execution_count": null,
   "metadata": {},
   "outputs": [],
   "source": []
  }
 ],
 "metadata": {
  "kernelspec": {
   "display_name": "Python 3",
   "language": "python",
   "name": "python3"
  },
  "language_info": {
   "codemirror_mode": {
    "name": "ipython",
    "version": 3
   },
   "file_extension": ".py",
   "mimetype": "text/x-python",
   "name": "python",
   "nbconvert_exporter": "python",
   "pygments_lexer": "ipython3",
   "version": "3.8.3-final"
  }
 },
 "nbformat": 4,
 "nbformat_minor": 4
}
