{
 "cells": [
  {
   "cell_type": "markdown",
   "metadata": {},
   "source": [
    "<img src=\"http://imgur.com/1ZcRyrc.png\" style=\"float: left; margin: 20px; height: 55px\" />\n",
    "\n",
    "# Numpy Ladder Challenge - Notebook 3\n",
    "\n",
    "_Author:_ Tim Book"
   ]
  },
  {
   "cell_type": "markdown",
   "metadata": {},
   "source": [
    "# Climb the Ladder!\n",
    "Our class moves quickly! Sometimes, it feels like we make leaps in logic that are a bit too big. In this ladder challenge, we'll learn some core math concepts, some linear algebra, and the `numpy` library. Problems in this notebook start out easy and progressively get harder, so that the next rung of the Python ladder is always within reach.\n",
    "\n",
    "Additionally, since not all of the topics discussed in this ladder challenge are explicitly taught in our course, these problems come with many more hints, tips, suggestions, and even sometimes a mini-lesson. You are encouraged to Google frequently throughout the lesson. In many ways, this ladder is meant to be a challenge as well as educational in its own right.\n",
    "\n",
    "**Remember our one rule: NO LOOPS! None of the exercises in this notebook require a loop. If you use a loop to solve any of these problems, you are solving the problem incorrectly.**"
   ]
  },
  {
   "cell_type": "markdown",
   "metadata": {},
   "source": [
    "0) Import numpy in the usual way"
   ]
  },
  {
   "cell_type": "code",
   "execution_count": 1,
   "metadata": {},
   "outputs": [],
   "source": [
    "import numpy as np"
   ]
  },
  {
   "cell_type": "markdown",
   "metadata": {},
   "source": [
    "# Section V: All the Matrix Algebra in the World\n",
    "This final section is going to be a little bit different. We are aware than many students come to DSI from a wide variety of backgrounds, and many students have very little experience with linear algebra. However, data science is an intensely mathematical subject, and most of that math is linear algebra.\n",
    "\n",
    "This section is going to teach you some of the linear algebra topics we need while also giving you hands-on examples of how it might be carried out in raw `numpy`."
   ]
  },
  {
   "cell_type": "markdown",
   "metadata": {},
   "source": [
    "## Part 1: Vector Norms\n",
    "While vectors are often drawn as arrows, really they are simply points on a coordinate plane. They can be denoted many ways using mathematical notation, but which you use depends on what field of study you are in, or whichever is most convenient to your situation. That is, the following are all the same vector:\n",
    "\n",
    "$$\n",
    "\\mathbf{v} = (3, 4) = \n",
    "\\begin{bmatrix}\n",
    "3 \\\\ 4\n",
    "\\end{bmatrix} =\n",
    "\\begin{bmatrix}\n",
    "3 & 4\n",
    "\\end{bmatrix}\n",
    "$$\n",
    "\n",
    "Where the middle one (the \"column vector\") is often the most convenient when doing matrix algebra, so that is what we will use.\n",
    "\n",
    "The **norm** of a vector is the distance from that vector to the **origin** (that is, $(0, 0)$). It is denoted and computed as follows:\n",
    "\n",
    "$$\n",
    "\\|\\mathbf{v}\\| =\n",
    "    \\sqrt{\\mathbf{v}^T\\mathbf{v}} =\n",
    "    \\sqrt{\\mathbf{v} \\cdot \\mathbf{v}} =\n",
    "    \\sqrt{\\sum v_i^2}\n",
    "$$\n",
    "\n",
    "For the next few problems, we'll use the following vectors:"
   ]
  },
  {
   "cell_type": "code",
   "execution_count": 2,
   "metadata": {},
   "outputs": [],
   "source": [
    "v = np.load(\"data/v.npy\")\n",
    "w = np.load(\"data/w.npy\")"
   ]
  },
  {
   "cell_type": "markdown",
   "metadata": {},
   "source": [
    "68) Compute the vector norm of the vector $\\mathbf{v}$ using the matrix algebra we've learned so far in `numpy`."
   ]
  },
  {
   "cell_type": "code",
   "execution_count": 3,
   "metadata": {},
   "outputs": [
    {
     "data": {
      "text/plain": [
       "32.429124701516265"
      ]
     },
     "execution_count": 3,
     "metadata": {},
     "output_type": "execute_result"
    }
   ],
   "source": [
    "np.sqrt(v.T @ v)"
   ]
  },
  {
   "cell_type": "markdown",
   "metadata": {},
   "source": [
    "69) Compute the vector norm of the vector $\\mathbf{v}$ using a built-in `numpy` function.\n",
    "\n",
    "* _Hint:_ `np.linalg.something()`"
   ]
  },
  {
   "cell_type": "code",
   "execution_count": 4,
   "metadata": {},
   "outputs": [
    {
     "data": {
      "text/plain": [
       "32.429124701516265"
      ]
     },
     "execution_count": 4,
     "metadata": {},
     "output_type": "execute_result"
    }
   ],
   "source": [
    "np.linalg.norm(v)"
   ]
  },
  {
   "cell_type": "markdown",
   "metadata": {},
   "source": [
    "**The distance between two vectors** is given by the norm of their difference. That is,\n",
    "\n",
    "$$d(\\mathbf{v}, \\mathbf{w}) = \\|\\mathbf{v} - \\mathbf{w}\\|$$"
   ]
  },
  {
   "cell_type": "markdown",
   "metadata": {},
   "source": [
    "70) Compute the distance between $\\mathbf{v}$ and $\\mathbf{w}$"
   ]
  },
  {
   "cell_type": "code",
   "execution_count": 5,
   "metadata": {},
   "outputs": [
    {
     "data": {
      "text/plain": [
       "45.6414871816229"
      ]
     },
     "execution_count": 5,
     "metadata": {},
     "output_type": "execute_result"
    }
   ],
   "source": [
    "np.linalg.norm(v - w)"
   ]
  },
  {
   "cell_type": "markdown",
   "metadata": {},
   "source": [
    "There are actually many kinds of distances. The one I've shown you so far is the most common, and it goes by many names, usually **Euclidean distance** or **$\\mathcal{l}_2$ distance**. There is also an **$\\mathcal{l}_1$ distance**, sometimes called **Taxi cab distance** or **Manhattan distance**:\n",
    "\n",
    "$$\\|\\mathbf{v}\\|_1 = \\sum |v_i|$$\n",
    "\n",
    "Can you figure out why it gets these names?\n",
    "\n",
    "71) Compute the Manhattan distance between $\\mathbf{v}$ and $\\mathbf{w}$.\n",
    "\n",
    "* _Hint:_ You can actually use the same function from numbers 69 and 70!"
   ]
  },
  {
   "cell_type": "code",
   "execution_count": 6,
   "metadata": {},
   "outputs": [
    {
     "data": {
      "text/plain": [
       "1146.0421250060474"
      ]
     },
     "execution_count": 6,
     "metadata": {},
     "output_type": "execute_result"
    }
   ],
   "source": [
    "np.linalg.norm(v - w, ord=1)"
   ]
  },
  {
   "cell_type": "markdown",
   "metadata": {},
   "source": [
    "## Part 2: Linear Regression\n",
    "The first type of machine learning model (aka \"statistical model\") we'll learn in our course is the **ordinary least squares linear regression model** (usually just **linear regression** or **OLS** for short).\n",
    "\n",
    "In linear regression, we believe that our (quantitative) $y$ variable depends on some linear relationship of our $x$ variables. That is, if we have 3 $x$s, for observation $i$,\n",
    "\n",
    "$$y_i = \\beta_0 + \\beta_1x_{1i} + \\beta_2x_{2i} + \\beta_3x_{3i}$$\n",
    "\n",
    "We often like to incorporate _all_ of our data into this equation by writing this formula in matrix notation, which is actually much more concise:\n",
    "\n",
    "$$\\mathbf{y} = \\mathbf{X}\\beta$$\n",
    "\n",
    "Where\n",
    "\n",
    "$$\n",
    "\\begin{align}\n",
    "\\mathbf{y} = \n",
    "\\begin{bmatrix}\n",
    "y_1 \\\\ y_2 \\\\ \\vdots \\\\ y_n\n",
    "\\end{bmatrix}\n",
    "& \\text{, }\n",
    "\\mathbf{\\beta} = \n",
    "\\begin{bmatrix}\n",
    "\\beta_0 \\\\ \\beta_1 \\\\ \\vdots \\\\ \\beta_p\n",
    "\\end{bmatrix}\n",
    "\\end{align}\n",
    "$$\n",
    "\n",
    "and the **data matrix** (or **design matrix**) is:\n",
    "\n",
    "$$\n",
    "\\mathbf{X} =\n",
    "\\begin{bmatrix}\n",
    "1 & x_{11} & x_{12} & \\cdots & x_{1p} \\\\\n",
    "1 & x_{21} & x_{22} & \\cdots & x_{2p} \\\\\n",
    "\\vdots & \\vdots & \\vdots & \\ddots & \\vdots \\\\\n",
    "1 & x_{n1} & x_{n2} & \\cdots & x_{np} \\\\\n",
    "\\end{bmatrix}\n",
    "$$"
   ]
  },
  {
   "cell_type": "markdown",
   "metadata": {},
   "source": [
    "72) Using a paper and pencil, multiply out $\\mathbf{y} = \\mathbf{X}\\beta$ as denoted above. Verify to yourself that this makes sense, and that it matches the first equation above (for $p = 3$). Really, take the time to do this! Being comfortable with equations like these is an import concept in our course."
   ]
  },
  {
   "cell_type": "markdown",
   "metadata": {},
   "source": [
    "73) We load some data below. However, it doesn't include that column of ones that corresponds to the $y$-intercept ($\\beta_0$). Create a matrix $\\mathbf{X}$ by adding the column of ones.\n",
    "\n",
    "* _Hint:_ Use `np.hstack()`"
   ]
  },
  {
   "cell_type": "code",
   "execution_count": 7,
   "metadata": {},
   "outputs": [],
   "source": [
    "X = np.load(\"data/X.npy\")\n",
    "y = np.load(\"data/y.npy\")"
   ]
  },
  {
   "cell_type": "code",
   "execution_count": 8,
   "metadata": {},
   "outputs": [],
   "source": [
    "intercept = np.ones((X.shape[0], 1))\n",
    "X = np.hstack((intercept, X))"
   ]
  },
  {
   "cell_type": "markdown",
   "metadata": {},
   "source": [
    "74) What are the dimensions of $\\mathbf{X}$? How many observations are in this data set, and how many variables? What should be the size of $\\beta$?"
   ]
  },
  {
   "cell_type": "code",
   "execution_count": 9,
   "metadata": {},
   "outputs": [
    {
     "data": {
      "text/plain": [
       "(1000, 8)"
      ]
     },
     "execution_count": 9,
     "metadata": {},
     "output_type": "execute_result"
    }
   ],
   "source": [
    "# There are 1,000 observations and 7 different variables. This means that\n",
    "# beta will have 8 total elements, including the intercept term.\n",
    "X.shape"
   ]
  },
  {
   "cell_type": "markdown",
   "metadata": {},
   "source": [
    "The goal of OLS is to estimate $\\beta$. When we estimate a value, we like to put a \"hat\" on it. The estimate of $\\beta$ is then $\\hat{\\beta}$, and our predictions for our observations are $\\hat{\\mathbf{y}}$. OLS is one of the rare opportunities where we can computer $\\hat{\\beta}$ directly. It has the following formula:\n",
    "\n",
    "$$\\hat{\\beta} = (\\mathbf{X}^T\\mathbf{X})^{-1}\\mathbf{X}^T\\mathbf{y}$$\n",
    "\n",
    "75) Compute $\\hat{\\beta}$. Save it as `beta_hat`."
   ]
  },
  {
   "cell_type": "code",
   "execution_count": 10,
   "metadata": {},
   "outputs": [
    {
     "data": {
      "text/plain": [
       "array([ 9.21338758, -0.04410451, -1.89056824, -3.28185065,  6.5987268 ,\n",
       "       -9.38381361,  5.91130679,  1.25934086])"
      ]
     },
     "execution_count": 10,
     "metadata": {},
     "output_type": "execute_result"
    }
   ],
   "source": [
    "beta_hat = np.linalg.inv(X.T @ X) @ X.T @ y\n",
    "beta_hat"
   ]
  },
  {
   "cell_type": "markdown",
   "metadata": {},
   "source": [
    "76) Compute our predictions. That is, $\\mathbf{\\hat{y}} = \\mathbf{X}\\hat{\\beta}$. Save this as `y_hat`."
   ]
  },
  {
   "cell_type": "code",
   "execution_count": 11,
   "metadata": {},
   "outputs": [],
   "source": [
    "y_hat = X @ beta_hat"
   ]
  },
  {
   "cell_type": "markdown",
   "metadata": {},
   "source": [
    "A variant on OLS is called **ridge regression**, where, for some number $\\lambda$, we instead compute\n",
    "\n",
    "$$\\hat{\\beta}^\\text{ridge} = (\\mathbf{X}^T\\mathbf{X} + \\lambda I)^{-1}\\mathbf{X}^Ty$$\n",
    "\n",
    "where $I$ is the approprate identity matrix.\n",
    "\n",
    "77) Compute $\\hat{\\beta}^\\text{ridge}$ for $\\lambda = 50$. Call this `beta_hat_ridge`."
   ]
  },
  {
   "cell_type": "code",
   "execution_count": 12,
   "metadata": {},
   "outputs": [],
   "source": [
    "beta_hat_ridge = np.linalg.inv(X.T @ X + 50*np.eye(X.shape[1])) @ X.T @ y"
   ]
  },
  {
   "cell_type": "markdown",
   "metadata": {},
   "source": [
    "78) Compute the predictions for this model, $\\hat{\\mathbf{y}}^\\text{ridge}$. Call this `y_hat_ridge`."
   ]
  },
  {
   "cell_type": "code",
   "execution_count": 13,
   "metadata": {},
   "outputs": [],
   "source": [
    "y_hat_ridge = X @ beta_hat_ridge"
   ]
  },
  {
   "cell_type": "markdown",
   "metadata": {},
   "source": [
    "79) Compute $\\|\\hat{\\beta}\\|$ and $\\|\\hat{\\beta}^\\text{ridge}\\|$. Which is smaller?"
   ]
  },
  {
   "cell_type": "code",
   "execution_count": 14,
   "metadata": {},
   "outputs": [
    {
     "name": "stdout",
     "output_type": "stream",
     "text": [
      "16.35120449444889\n",
      "15.521684840371748\n"
     ]
    }
   ],
   "source": [
    "print(np.linalg.norm(beta_hat))\n",
    "print(np.linalg.norm(beta_hat_ridge))"
   ]
  },
  {
   "cell_type": "markdown",
   "metadata": {},
   "source": [
    "## Part 3: MSE\n",
    "\n",
    "Computing $\\hat{\\beta}$ involves minimizing the MSE. We can now also write the MSE in terms of matrix algebra:\n",
    "\n",
    "$$\n",
    "\\begin{align}\n",
    "MSE &= \\frac{1}{n} \\sum (y_i - \\hat{y}_i)^2 \\\\\n",
    "    &= \\frac{1}{n} (\\mathbf{y} - \\hat{\\mathbf{y}})^T(\\mathbf{y} - \\hat{\\mathbf{y}}) \\\\\n",
    "    &= \\frac{1}{n} \\|\\mathbf{y} - \\hat{\\mathbf{y}}\\|^2\n",
    "\\end{align}\n",
    "$$"
   ]
  },
  {
   "cell_type": "markdown",
   "metadata": {},
   "source": [
    "80) Take a paper and pencil and verify that all three of these things are equivalent."
   ]
  },
  {
   "cell_type": "markdown",
   "metadata": {},
   "source": [
    "81) Compute the $MSE$ using the first equation. (You already did this in an earlier exercise)."
   ]
  },
  {
   "cell_type": "code",
   "execution_count": 15,
   "metadata": {},
   "outputs": [
    {
     "data": {
      "text/plain": [
       "392.62066523979547"
      ]
     },
     "execution_count": 15,
     "metadata": {},
     "output_type": "execute_result"
    }
   ],
   "source": [
    "np.mean((y - y_hat)**2)"
   ]
  },
  {
   "cell_type": "markdown",
   "metadata": {},
   "source": [
    "82) Compute the $MSE$ using the second equation. That is, using matrix multiplication."
   ]
  },
  {
   "cell_type": "code",
   "execution_count": 16,
   "metadata": {},
   "outputs": [
    {
     "data": {
      "text/plain": [
       "392.6206652397955"
      ]
     },
     "execution_count": 16,
     "metadata": {},
     "output_type": "execute_result"
    }
   ],
   "source": [
    "(y - y_hat).T @ (y - y_hat) / len(y)"
   ]
  },
  {
   "cell_type": "markdown",
   "metadata": {},
   "source": [
    "83) Compute the $MSE$ using the third equation. That is, using `np.linalg.norm()`."
   ]
  },
  {
   "cell_type": "code",
   "execution_count": 17,
   "metadata": {},
   "outputs": [
    {
     "data": {
      "text/plain": [
       "392.6206652397956"
      ]
     },
     "execution_count": 17,
     "metadata": {},
     "output_type": "execute_result"
    }
   ],
   "source": [
    "np.linalg.norm(y - y_hat)**2 / len(y)"
   ]
  },
  {
   "cell_type": "markdown",
   "metadata": {},
   "source": [
    "84) Write a function that takes in `y` and `y_hat` and computes the $MSE$."
   ]
  },
  {
   "cell_type": "code",
   "execution_count": 18,
   "metadata": {},
   "outputs": [],
   "source": [
    "def mse(y, y_hat):\n",
    "    return np.linalg.norm(y - y_hat)**2 / len(y)"
   ]
  },
  {
   "cell_type": "markdown",
   "metadata": {},
   "source": [
    "85) Compute the $MSE$ for both the OLS and ridge regression predictions in the previous part. Which model has a higher MSE?"
   ]
  },
  {
   "cell_type": "code",
   "execution_count": 19,
   "metadata": {},
   "outputs": [
    {
     "data": {
      "text/plain": [
       "392.6206652397956"
      ]
     },
     "execution_count": 19,
     "metadata": {},
     "output_type": "execute_result"
    }
   ],
   "source": [
    "mse(y, y_hat)"
   ]
  },
  {
   "cell_type": "code",
   "execution_count": 20,
   "metadata": {},
   "outputs": [
    {
     "data": {
      "text/plain": [
       "393.26432569852085"
      ]
     },
     "execution_count": 20,
     "metadata": {},
     "output_type": "execute_result"
    }
   ],
   "source": [
    "mse(y, y_hat_ridge)"
   ]
  },
  {
   "cell_type": "markdown",
   "metadata": {},
   "source": [
    "## Part 4: Singular Value Decomposition\n",
    "There are many kinds of **matrix decomposition**. Matrix decomposition involves taking a matrix, and breaking it into the product of other matrices that are easier to work with. Any real-valued matrix $M$ can be broken up into its **singular value decomposition**:\n",
    "\n",
    "$$M = USV^T$$\n",
    "\n",
    "where:\n",
    "\n",
    "* $U$ and $V$ are **orthonormal matrices** (more on this soon). The columns of $U$ and $V$ are referred to as the **left** and **right singular vectors**, respectively.\n",
    "* $S$ is a **diagonal matrix**, where the elements of the diagonal are the **singular values** in descending order.\n",
    "\n",
    "That is, $S$ looks like:\n",
    "\n",
    "$$\n",
    "S = \n",
    "\\begin{bmatrix}\n",
    "\\sigma_1 & 0 & 0 & \\cdots & 0 \\\\\n",
    "0 & \\sigma_2 & 0 & \\cdots & 0 \\\\\n",
    "0 & 0 & \\sigma_3 & \\cdots & 0 \\\\\n",
    "\\vdots & \\vdots & \\vdots & \\ddots & \\vdots \\\\\n",
    "0 & 0 & 0 & \\cdots & \\sigma_m\n",
    "\\end{bmatrix}\n",
    "$$\n",
    "\n",
    "There are _**A LOT**_ of confusing definitions here, so let's dive into them individually."
   ]
  },
  {
   "cell_type": "markdown",
   "metadata": {},
   "source": [
    "Below, we read in a matrix of pixel values that make up a pleasant image. We can use `plt.imshow()` to plot a matrix visually."
   ]
  },
  {
   "cell_type": "code",
   "execution_count": 21,
   "metadata": {},
   "outputs": [
    {
     "name": "stdout",
     "output_type": "stream",
     "text": [
      "(540, 540)\n"
     ]
    }
   ],
   "source": [
    "import matplotlib.pyplot as plt\n",
    "doge = np.load(\"data/doge.npy\")[:, 200:740]\n",
    "print(doge.shape)\n",
    "plt.imshow(doge, cmap=\"gray\");"
   ]
  },
  {
   "cell_type": "markdown",
   "metadata": {},
   "source": [
    "86) Use the `np.linalg.svd()` function to decompose our `doge` matrix. Please skim the documentation of this function! Note that it returns $V^T$, and not $V$. It also returns a vector of the singular values, not the full $S$ matrix."
   ]
  },
  {
   "cell_type": "code",
   "execution_count": 22,
   "metadata": {},
   "outputs": [],
   "source": [
    "u, s, vt = np.linalg.svd(doge)"
   ]
  },
  {
   "cell_type": "markdown",
   "metadata": {},
   "source": [
    "The **singular values** are non-negative numbers in descending order. An easy way to think about them is that they represent how much _information_ we can represent in our matrix using a linear transformation. In the special case of a square matrix $M$, the singular values are also **eigenvalues**. (Similarly, the left singular vectors are the corresponding **eigenvectors**).\n",
    "\n",
    "We recognize this still probably doesn't make a whole lot of sense. By the end of this exercise, we can interpret them visually, and hopefully that will clear things up.\n",
    "\n",
    "87) Use our vector of singular values to make an `smat` matrix corresponding to $S$ as shown above.\n",
    "\n",
    "* _Hint:_ Use `np.diag()`."
   ]
  },
  {
   "cell_type": "code",
   "execution_count": 23,
   "metadata": {},
   "outputs": [],
   "source": [
    "smat = np.diag(s)"
   ]
  },
  {
   "cell_type": "markdown",
   "metadata": {},
   "source": [
    "The matrices $U$ and $V$ are **orthonormal**. This means they have the following properties:\n",
    "\n",
    "$$UU^T = UU^{-1} = I$$\n",
    "$$VV^T = VV^{-1} = I$$\n",
    "\n",
    "88) Verify the above using Python. Note that you might get precision errors (that is, `2.77e-17` instead of `0`)."
   ]
  },
  {
   "cell_type": "code",
   "execution_count": 24,
   "metadata": {},
   "outputs": [
    {
     "name": "stdout",
     "output_type": "stream",
     "text": [
      "[[ 1. -0. -0.  0. -0.]\n",
      " [-0.  1. -0.  0. -0.]\n",
      " [-0. -0.  1. -0. -0.]\n",
      " [ 0.  0. -0.  1. -0.]\n",
      " [-0. -0. -0. -0.  1.]]\n",
      "[[ 1.  0. -0.  0.  0.]\n",
      " [-0.  1. -0. -0.  0.]\n",
      " [-0.  0.  1. -0.  0.]\n",
      " [-0.  0.  0.  1. -0.]\n",
      " [ 0. -0.  0.  0.  1.]]\n"
     ]
    }
   ],
   "source": [
    "print(np.round((u @ u.T)[:5, :5]))\n",
    "print(np.round((u @ np.linalg.inv(u))[:5, :5]))"
   ]
  },
  {
   "cell_type": "code",
   "execution_count": 25,
   "metadata": {},
   "outputs": [
    {
     "name": "stdout",
     "output_type": "stream",
     "text": [
      "[[ 1.  0. -0. -0.  0.]\n",
      " [ 0.  1. -0. -0.  0.]\n",
      " [-0. -0.  1. -0.  0.]\n",
      " [-0. -0. -0.  1.  0.]\n",
      " [ 0.  0.  0.  0.  1.]]\n",
      "[[ 1. -0.  0.  0. -0.]\n",
      " [-0.  1. -0.  0. -0.]\n",
      " [ 0. -0.  1.  0.  0.]\n",
      " [-0.  0. -0.  1. -0.]\n",
      " [ 0.  0.  0. -0.  1.]]\n"
     ]
    }
   ],
   "source": [
    "print(np.round((vt @ vt.T)[:5, :5]))\n",
    "print(np.round((vt @ np.linalg.inv(vt))[:5, :5]))"
   ]
  },
  {
   "cell_type": "markdown",
   "metadata": {},
   "source": [
    "Why do we do this at all?! For SVD, we seek to _approximate_ large, complex matrices. To see what we mean, let's see what happens when we remove singular values from our matrix.\n",
    "\n",
    "89) Create a new matrix, $\\tilde{S}$, that is the same as $S$, but with _all but the first 20_ singular values turned into zeros. You may call this variable `smat2`."
   ]
  },
  {
   "cell_type": "code",
   "execution_count": 26,
   "metadata": {},
   "outputs": [],
   "source": [
    "smat2 = smat.copy()\n",
    "smat2[:, 20:] = 0"
   ]
  },
  {
   "cell_type": "markdown",
   "metadata": {},
   "source": [
    "90) Let's approximate our original `doge` matrix. That is, recombine our decomposed matrix, but this time having removed most of our singular values:\n",
    "\n",
    "$$M = U\\tilde{S}V^T$$\n",
    "\n",
    "You can call the result `doge_approx`."
   ]
  },
  {
   "cell_type": "code",
   "execution_count": 27,
   "metadata": {},
   "outputs": [],
   "source": [
    "doge_approx = u @ smat2 @ vt"
   ]
  },
  {
   "cell_type": "markdown",
   "metadata": {},
   "source": [
    "91) Visualize `doge_approx` using `plt.imshow()`. How has the image changed?"
   ]
  },
  {
   "cell_type": "code",
   "execution_count": 28,
   "metadata": {},
   "outputs": [
    {
     "data": {
      "image/png": "[encoded data removed]",
      "text/plain": [
       "<Figure size 432x288 with 1 Axes>"
      ]
     },
     "metadata": {
      "needs_background": "light"
     },
     "output_type": "display_data"
    }
   ],
   "source": [
    "plt.imshow(doge_approx, cmap=\"gray\");"
   ]
  },
  {
   "cell_type": "markdown",
   "metadata": {},
   "source": [
    "92) Try this again with values besides 20. Can you still tell what the original image was with only 10 singular values?"
   ]
  },
  {
   "cell_type": "code",
   "execution_count": 29,
   "metadata": {},
   "outputs": [
    {
     "data": {
      "image/png": "[encoded data removed]",
      "text/plain": [
       "<Figure size 432x288 with 1 Axes>"
      ]
     },
     "metadata": {
      "needs_background": "light"
     },
     "output_type": "display_data"
    }
   ],
   "source": [
    "smat3 = smat.copy()\n",
    "smat3[:, 10:] = 0\n",
    "doge_approx3 = u @ smat3 @ vt\n",
    "plt.imshow(doge_approx3, cmap=\"gray\"); # Wow! Much pixel!"
   ]
  },
  {
   "cell_type": "markdown",
   "metadata": {},
   "source": [
    "### Still... so what?\n",
    "SVD is at the heart of one of our most confusing topics - **principal component analysis**. PCA involves carrying out SVD on our data matrix in order to **reduce its dimensionality**. That is, can we still have all the information we need in a data set while having fewer variables?"
   ]
  }
 ],
 "metadata": {
  "kernelspec": {
   "display_name": "Python 3",
   "language": "python",
   "name": "python3"
  },
  "language_info": {
   "codemirror_mode": {
    "name": "ipython",
    "version": 3
   },
   "file_extension": ".py",
   "mimetype": "text/x-python",
   "name": "python",
   "nbconvert_exporter": "python",
   "pygments_lexer": "ipython3",
   "version": "3.6.9"
  }
 },
 "nbformat": 4,
 "nbformat_minor": 2
}
