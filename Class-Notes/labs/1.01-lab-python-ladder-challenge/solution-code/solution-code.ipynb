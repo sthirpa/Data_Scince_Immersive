{
 "cells": [
  {
   "cell_type": "markdown",
   "metadata": {},
   "source": [
    "<img src=\"http://imgur.com/1ZcRyrc.png\" style=\"float: left; margin: 20px; height: 55px\" />\n",
    "\n",
    "# Python Ladder Challenges\n",
    "\n",
    "_Author:_ Tim Book"
   ]
  },
  {
   "cell_type": "markdown",
   "metadata": {},
   "source": [
    "# Climb the Ladder!\n",
    "Our class moves quickly! Sometimes, it feels like we make leaps in logic that are a bit too big. Learn Python _slowly_, by doing many, many examples. Problems in this notebook start out easy and progressively get harder, so that the next rung of the Python ladder is always within reach."
   ]
  },
  {
   "cell_type": "markdown",
   "metadata": {},
   "source": [
    "# Section I: Numbers, variables, and math."
   ]
  },
  {
   "cell_type": "markdown",
   "metadata": {},
   "source": [
    "1) What is 123456789 times 987654321?"
   ]
  },
  {
   "cell_type": "code",
   "execution_count": 1,
   "metadata": {},
   "outputs": [
    {
     "data": {
      "text/plain": [
       "121932631112635269"
      ]
     },
     "execution_count": 1,
     "metadata": {},
     "output_type": "execute_result"
    }
   ],
   "source": [
    "123456789 * 987654321"
   ]
  },
  {
   "cell_type": "markdown",
   "metadata": {},
   "source": [
    "2) Create a variable called `mass` that is equal to 100."
   ]
  },
  {
   "cell_type": "code",
   "execution_count": 2,
   "metadata": {},
   "outputs": [],
   "source": [
    "mass = 100"
   ]
  },
  {
   "cell_type": "markdown",
   "metadata": {},
   "source": [
    "3) Create a variable called `velocity` that is equal to 5."
   ]
  },
  {
   "cell_type": "code",
   "execution_count": 3,
   "metadata": {},
   "outputs": [],
   "source": [
    "velocity = 5"
   ]
  },
  {
   "cell_type": "markdown",
   "metadata": {},
   "source": [
    "4) In physics, the momentum an object is exerting is equal to its mass times its velocity. That is, $p = mv$. Use the variables you defined above to compute this object's momentum."
   ]
  },
  {
   "cell_type": "code",
   "execution_count": 4,
   "metadata": {},
   "outputs": [],
   "source": [
    "# In Python, it is best practice is to put spaces around outermost operators such as = and *\n",
    "p = mass * velocity"
   ]
  },
  {
   "cell_type": "markdown",
   "metadata": {},
   "source": [
    "5) The kinetic energy of an object is half its mass times the square of its velocity. That is, $K = \\frac{1}{2}mv^2$. Compute the kinetic energy for this object using the variables you've already created. "
   ]
  },
  {
   "cell_type": "code",
   "execution_count": 5,
   "metadata": {},
   "outputs": [],
   "source": [
    "# 1. In coding, it is preferred to write 0.5 instead of 1/2. (For example, 1/2 evaluates to 0 in Python 2!)\n",
    "# 2. To avoid mistakes when translating math formulas, use the same variable names -- even if they are only one letter.\n",
    "# 3. In Python, capitalized variable names typically indicate constants (i.e. their value is never changed after initialization).\n",
    "K = 0.5 * mass * velocity * velocity"
   ]
  },
  {
   "cell_type": "markdown",
   "metadata": {},
   "source": [
    "### How much icing do you need?\n",
    "In the next few exercises, our goal will be to figure out how much icing we will need to perfectly cover a giant doughnut. The doughnut features a hole (unfortunately no jelly filling), and a few large sprinkles. We only need to find the area of the red region in this shape.\n",
    "\n",
    "![](../imgs/donut.png)"
   ]
  },
  {
   "cell_type": "markdown",
   "metadata": {},
   "source": [
    "6) Create a variable called `pi` that is equal to 3.141"
   ]
  },
  {
   "cell_type": "code",
   "execution_count": 6,
   "metadata": {},
   "outputs": [],
   "source": [
    "pi = 3.141   # Never do this in practice -- instead, import math and use math.pi here!"
   ]
  },
  {
   "cell_type": "markdown",
   "metadata": {},
   "source": [
    "7) The radius of the largest circle is 13.425. The radius of the smaller circle is 4.792. The sprinkles are right triangles with side length 3.28. Create the variables `R`, `r`, and `s` that represent these values."
   ]
  },
  {
   "cell_type": "code",
   "execution_count": 7,
   "metadata": {},
   "outputs": [],
   "source": [
    "# Again, to avoid translation mistakes we are following the math notation \n",
    "#    rather than Python convention (i.e. upper-case variables are constants)\n",
    "R = 13.425\n",
    "r = 4.792\n",
    "s = 3.28"
   ]
  },
  {
   "cell_type": "markdown",
   "metadata": {},
   "source": [
    "8) Find the area of the larger circle (the whole doughnut, including the hole). Call this variable `area_big_circle`.\n",
    "\n",
    "* _Hint:_ The area of a circle with radius $r$ is $A = \\pi r^2$."
   ]
  },
  {
   "cell_type": "code",
   "execution_count": 8,
   "metadata": {},
   "outputs": [],
   "source": [
    "# uppercase R is the big circle\n",
    "# - Especially for short variable names, it is preferred to use R * R instead of R**2.\n",
    "#     (Not everyone knows the order of operations for **)\n",
    "area_big_circle = pi * R * R"
   ]
  },
  {
   "cell_type": "markdown",
   "metadata": {},
   "source": [
    "9) Find the area of the smaller circle (the hole). Call this variable `area_small_circle`."
   ]
  },
  {
   "cell_type": "code",
   "execution_count": 9,
   "metadata": {},
   "outputs": [],
   "source": [
    "# lowercase r is the small circle\n",
    "area_small_circle = pi * r * r"
   ]
  },
  {
   "cell_type": "markdown",
   "metadata": {},
   "source": [
    "10) Find the area of one triangle (a sprinkle), where each sprinkle has a base and height of length `s`. Call this variable `area_sprinkle`.\n",
    "\n",
    "* _Hint:_ The area of a triangle with base $b$ and height $h$ is $A = \\frac{1}{2}bh$."
   ]
  },
  {
   "cell_type": "code",
   "execution_count": 10,
   "metadata": {},
   "outputs": [],
   "source": [
    "area_sprinkle = 0.5 * s * s"
   ]
  },
  {
   "cell_type": "markdown",
   "metadata": {},
   "source": [
    "11) Using the three values you calculated above, find the area of the shaded region (i.e., how much icing will you need?). Save the result in a variable called `area_donut`."
   ]
  },
  {
   "cell_type": "code",
   "execution_count": 11,
   "metadata": {},
   "outputs": [],
   "source": [
    "# It is best practice to avoid constants such as 6 in your code.\n",
    "# - Why? In this case, it is not obvious what 6 means or why it is in the formula.\n",
    "# - To make it clear what 6 means, we put it in a variable called `NUM_SPRINKLES`.\n",
    "# - In Python, constants are by convention uppercased.\n",
    "NUM_SPRINKLES = 6\n",
    "area_donut = area_big_circle - area_small_circle - NUM_SPRINKLES * area_sprinkle"
   ]
  },
  {
   "cell_type": "code",
   "execution_count": null,
   "metadata": {},
   "outputs": [],
   "source": []
  },
  {
   "cell_type": "markdown",
   "metadata": {},
   "source": [
    "# Part II: Strings"
   ]
  },
  {
   "cell_type": "markdown",
   "metadata": {},
   "source": [
    "12) Create a variable called `name` that is equal to your name."
   ]
  },
  {
   "cell_type": "code",
   "execution_count": 12,
   "metadata": {},
   "outputs": [],
   "source": [
    "name = 'Dan'"
   ]
  },
  {
   "cell_type": "markdown",
   "metadata": {},
   "source": [
    "13) By adding strings together, introduce yourself in a string. For example `\"Hello, my name is Tim!\"`. You may use f-strings if you know what they are and prefer to use them."
   ]
  },
  {
   "cell_type": "code",
   "execution_count": 13,
   "metadata": {},
   "outputs": [
    {
     "data": {
      "text/plain": [
       "'Hello, my name is Dan!'"
      ]
     },
     "execution_count": 13,
     "metadata": {},
     "output_type": "execute_result"
    }
   ],
   "source": [
    "# Method One: Addition\n",
    "'Hello, my name is ' + name + '!'"
   ]
  },
  {
   "cell_type": "code",
   "execution_count": 14,
   "metadata": {},
   "outputs": [
    {
     "data": {
      "text/plain": [
       "'Hello, my name is Dan!'"
      ]
     },
     "execution_count": 14,
     "metadata": {},
     "output_type": "execute_result"
    }
   ],
   "source": [
    "# Method Two: f-string (preferred) -- f-string stands for \"formatted string\"\n",
    "f'Hello, my name is {name}!'"
   ]
  },
  {
   "cell_type": "markdown",
   "metadata": {},
   "source": [
    "14) Define the string `fact` to be `\"Python programming is fun.\"`"
   ]
  },
  {
   "cell_type": "code",
   "execution_count": 15,
   "metadata": {},
   "outputs": [],
   "source": [
    "fact = 'Python programming is fun.'"
   ]
  },
  {
   "cell_type": "markdown",
   "metadata": {},
   "source": [
    "15) Index `fact` in order to get the \"o\" in \"Python\"."
   ]
  },
  {
   "cell_type": "code",
   "execution_count": 16,
   "metadata": {},
   "outputs": [
    {
     "data": {
      "text/plain": [
       "'o'"
      ]
     },
     "execution_count": 16,
     "metadata": {},
     "output_type": "execute_result"
    }
   ],
   "source": [
    "# index: 01234              <- o is index 4 -- the first index is always 0!\n",
    "#        Python programming ...\n",
    "fact[4]"
   ]
  },
  {
   "cell_type": "markdown",
   "metadata": {},
   "source": [
    "16) Index `fact` in order to get the \"u\" in \"fun\" using a negative index."
   ]
  },
  {
   "cell_type": "code",
   "execution_count": 17,
   "metadata": {},
   "outputs": [
    {
     "data": {
      "text/plain": [
       "'u'"
      ]
     },
     "execution_count": 17,
     "metadata": {},
     "output_type": "execute_result"
    }
   ],
   "source": [
    "# index: -4 -3 -2  -1   <- `.` is the index -1, so `u` is index -3\n",
    "#         f  u  n   .\n",
    "fact[-3]"
   ]
  },
  {
   "cell_type": "markdown",
   "metadata": {},
   "source": [
    "17) Slice `fact` in order to get the word \"programming\"."
   ]
  },
  {
   "cell_type": "code",
   "execution_count": 18,
   "metadata": {},
   "outputs": [
    {
     "data": {
      "text/plain": [
       "'programming'"
      ]
     },
     "execution_count": 18,
     "metadata": {},
     "output_type": "execute_result"
    }
   ],
   "source": [
    "# index: 0123456 789012345678 9012345  <- Sometimes it's useful to write the ones digits of the index out first!\n",
    "#        Python  programming  is fun.\n",
    "fact[7:18]   # Starts at index 7, goes up to but not including index 18"
   ]
  },
  {
   "cell_type": "markdown",
   "metadata": {},
   "source": [
    "18) Uppercase `fact`."
   ]
  },
  {
   "cell_type": "code",
   "execution_count": 19,
   "metadata": {},
   "outputs": [
    {
     "data": {
      "text/plain": [
       "'PYTHON PROGRAMMING IS FUN.'"
      ]
     },
     "execution_count": 19,
     "metadata": {},
     "output_type": "execute_result"
    }
   ],
   "source": [
    "# After you type `.`, press <Tab> to see what methods are available.\n",
    "# - To view what parameters a method takes, press <Shift>+<Tab> when your cursor is inside the parentheses.\n",
    "fact.upper()"
   ]
  },
  {
   "cell_type": "markdown",
   "metadata": {},
   "source": [
    "19) Replace the period at the end of `fact` with an exclamation point."
   ]
  },
  {
   "cell_type": "code",
   "execution_count": 20,
   "metadata": {},
   "outputs": [
    {
     "data": {
      "text/plain": [
       "'Python programming is fun!'"
      ]
     },
     "execution_count": 20,
     "metadata": {},
     "output_type": "execute_result"
    }
   ],
   "source": [
    "# Method One: This removes the final letter and adds on a !\n",
    "fact[:-1] + '!'"
   ]
  },
  {
   "cell_type": "code",
   "execution_count": 21,
   "metadata": {},
   "outputs": [
    {
     "data": {
      "text/plain": [
       "'Python programming is fun!'"
      ]
     },
     "execution_count": 21,
     "metadata": {},
     "output_type": "execute_result"
    }
   ],
   "source": [
    "# Method Two: Note this replaces *all* periods with exclamation points by default\n",
    "fact.replace('.', '!')"
   ]
  },
  {
   "cell_type": "markdown",
   "metadata": {},
   "source": [
    "20) Use `.split()` to get the second word of this string. Was this easier than one of the problems above?"
   ]
  },
  {
   "cell_type": "code",
   "execution_count": 22,
   "metadata": {},
   "outputs": [
    {
     "data": {
      "text/plain": [
       "'programming'"
      ]
     },
     "execution_count": 22,
     "metadata": {},
     "output_type": "execute_result"
    }
   ],
   "source": [
    "# By default, `.split()` splits on whitespace, i.e. spaces/tabs/newlines/etc\n",
    "# - Confused how this works? Read it left to right: \n",
    "#    + First, `fact.split()` evaluates to a list of words -- ['Python', 'programming', 'is', 'fun.']\n",
    "#    + Then, <list of words>[1] evaluates to the second word in the list (since the first word is index 0).\n",
    "fact.split()[1]"
   ]
  },
  {
   "cell_type": "markdown",
   "metadata": {},
   "source": [
    "21) Reverse `fact`."
   ]
  },
  {
   "cell_type": "code",
   "execution_count": 23,
   "metadata": {},
   "outputs": [
    {
     "data": {
      "text/plain": [
       "'.nuf si gnimmargorp nohtyP'"
      ]
     },
     "execution_count": 23,
     "metadata": {},
     "output_type": "execute_result"
    }
   ],
   "source": [
    "# Method One\n",
    "fact[::-1]"
   ]
  },
  {
   "cell_type": "code",
   "execution_count": 24,
   "metadata": {},
   "outputs": [
    {
     "data": {
      "text/plain": [
       "'.nuf si gnimmargorp nohtyP'"
      ]
     },
     "execution_count": 24,
     "metadata": {},
     "output_type": "execute_result"
    }
   ],
   "source": [
    "# Method Two\n",
    "''.join(reversed(fact))"
   ]
  },
  {
   "cell_type": "markdown",
   "metadata": {},
   "source": [
    "22) Does `fact` contain the letter `y`? To find this answer, use the `in` keyword."
   ]
  },
  {
   "cell_type": "code",
   "execution_count": 25,
   "metadata": {},
   "outputs": [
    {
     "data": {
      "text/plain": [
       "True"
      ]
     },
     "execution_count": 25,
     "metadata": {},
     "output_type": "execute_result"
    }
   ],
   "source": [
    "'y' in fact"
   ]
  },
  {
   "cell_type": "markdown",
   "metadata": {},
   "source": [
    "23) How many `o`s does `fact` have?"
   ]
  },
  {
   "cell_type": "code",
   "execution_count": 26,
   "metadata": {},
   "outputs": [
    {
     "data": {
      "text/plain": [
       "2"
      ]
     },
     "execution_count": 26,
     "metadata": {},
     "output_type": "execute_result"
    }
   ],
   "source": [
    "fact.count('o')"
   ]
  },
  {
   "cell_type": "markdown",
   "metadata": {},
   "source": [
    "24) Replace all the `o`s in `fact` with an underscore (do not redefine `fact`)."
   ]
  },
  {
   "cell_type": "code",
   "execution_count": 27,
   "metadata": {},
   "outputs": [
    {
     "data": {
      "text/plain": [
       "'Pyth_n pr_gramming is fun.'"
      ]
     },
     "execution_count": 27,
     "metadata": {},
     "output_type": "execute_result"
    }
   ],
   "source": [
    "fact.replace('o', '_')"
   ]
  },
  {
   "cell_type": "markdown",
   "metadata": {},
   "source": [
    "# Part III: Lists"
   ]
  },
  {
   "cell_type": "markdown",
   "metadata": {},
   "source": [
    "25) Create a list `friends` of your three best friends, `\"Alice\"`, `\"Bob\"`, and `\"Charlie\"`."
   ]
  },
  {
   "cell_type": "code",
   "execution_count": 28,
   "metadata": {},
   "outputs": [],
   "source": [
    "friends = ['Alice', 'Bob', 'Charlie']"
   ]
  },
  {
   "cell_type": "markdown",
   "metadata": {},
   "source": [
    "26) Find the length of `friends`."
   ]
  },
  {
   "cell_type": "code",
   "execution_count": 29,
   "metadata": {},
   "outputs": [
    {
     "data": {
      "text/plain": [
       "3"
      ]
     },
     "execution_count": 29,
     "metadata": {},
     "output_type": "execute_result"
    }
   ],
   "source": [
    "len(friends)"
   ]
  },
  {
   "cell_type": "markdown",
   "metadata": {},
   "source": [
    "27) Add your new friend `\"Debbie\"` to your list of `friends`."
   ]
  },
  {
   "cell_type": "code",
   "execution_count": 30,
   "metadata": {},
   "outputs": [],
   "source": [
    "friends.append('Debbie')"
   ]
  },
  {
   "cell_type": "markdown",
   "metadata": {},
   "source": [
    "28) Charlie has no-showed to your piano recital. Remove him from your `friends`."
   ]
  },
  {
   "cell_type": "code",
   "execution_count": 31,
   "metadata": {},
   "outputs": [],
   "source": [
    "# Note if there were multiple `'Charlie'`s in the list, this would only remove the first.\n",
    "friends.remove('Charlie')"
   ]
  },
  {
   "cell_type": "markdown",
   "metadata": {},
   "source": [
    "29) Using the `.join()` method, join `friends` to look like this _exactly_: `\"Alice & Bob & Debbie\"`"
   ]
  },
  {
   "cell_type": "code",
   "execution_count": 32,
   "metadata": {},
   "outputs": [
    {
     "data": {
      "text/plain": [
       "'Alice & Bob & Debbie'"
      ]
     },
     "execution_count": 32,
     "metadata": {},
     "output_type": "execute_result"
    }
   ],
   "source": [
    "' & '.join(friends)"
   ]
  },
  {
   "cell_type": "markdown",
   "metadata": {},
   "source": [
    "30) What is the length of `[]`? What about `[[]]`? Why?"
   ]
  },
  {
   "cell_type": "code",
   "execution_count": 33,
   "metadata": {},
   "outputs": [
    {
     "data": {
      "text/plain": [
       "0"
      ]
     },
     "execution_count": 33,
     "metadata": {},
     "output_type": "execute_result"
    }
   ],
   "source": [
    "# We are asking for the length of an empty list (i.e. []).\n",
    "# - The empty list contains zero elements, and so its length is 0.\n",
    "len([])"
   ]
  },
  {
   "cell_type": "code",
   "execution_count": 34,
   "metadata": {},
   "outputs": [
    {
     "data": {
      "text/plain": [
       "1"
      ]
     },
     "execution_count": 34,
     "metadata": {},
     "output_type": "execute_result"
    }
   ],
   "source": [
    "# We are asking for the length of a list with one element -- an empty list (i.e. [[]]).\n",
    "# - Note that `[1]` is a list containing one element -- a 1.\n",
    "# - Similarly, `[[]]` is a list containing one element -- a [].\n",
    "# - The list contains one element -- an empty list -- and so its length is 1.\n",
    "len([[]])"
   ]
  },
  {
   "cell_type": "markdown",
   "metadata": {},
   "source": [
    "For the next few problems, we'll use this list:"
   ]
  },
  {
   "cell_type": "code",
   "execution_count": 35,
   "metadata": {},
   "outputs": [],
   "source": [
    "nested_deep = [1, [2, 3], 4, [5, [6, 7, [8]]]]"
   ]
  },
  {
   "cell_type": "markdown",
   "metadata": {},
   "source": [
    "31) What is the length of `nested_deep`?"
   ]
  },
  {
   "cell_type": "code",
   "execution_count": 36,
   "metadata": {},
   "outputs": [
    {
     "data": {
      "text/plain": [
       "4"
      ]
     },
     "execution_count": 36,
     "metadata": {},
     "output_type": "execute_result"
    }
   ],
   "source": [
    "# nested_deep = [1, [a list], 4, [another list]]\n",
    "# So, there are 4 elements -- 1, [a list], 4, and [another list].\n",
    "len(nested_deep)"
   ]
  },
  {
   "cell_type": "markdown",
   "metadata": {},
   "source": [
    "32) Index `nested_deep` to get the 5."
   ]
  },
  {
   "cell_type": "code",
   "execution_count": 37,
   "metadata": {},
   "outputs": [
    {
     "data": {
      "text/plain": [
       "5"
      ]
     },
     "execution_count": 37,
     "metadata": {},
     "output_type": "execute_result"
    }
   ],
   "source": [
    "#     index:     0      1     2     *3*\n",
    "# nested_deep = [1, [a list], 4, [5, [inner list]]]\n",
    "# We write the solution left-to-right:\n",
    "# - First, we notice `5` is inside the list at index 3.\n",
    "# - So, `nested_deep[3]` evaluates to `[5, [6, 7, [8]]]`.\n",
    "# - Then, from this the `5` is the first element, at index 0.\n",
    "nested_deep[3][0]"
   ]
  },
  {
   "cell_type": "markdown",
   "metadata": {},
   "source": [
    "33) Index `nested_deep` to get the 8.\n",
    "\n",
    "* _Hint:_ If your answer looks like `[8]`, that's not the correct answer!"
   ]
  },
  {
   "cell_type": "code",
   "execution_count": 38,
   "metadata": {},
   "outputs": [
    {
     "data": {
      "text/plain": [
       "8"
      ]
     },
     "execution_count": 38,
     "metadata": {},
     "output_type": "execute_result"
    }
   ],
   "source": [
    "#       index:   0     1      2        3\n",
    "# nested_deep = [1, [a list], 4, [5, [6, 7, [8]]]]\n",
    "# Again, we write the solution left-to-right:\n",
    "# - First, we notice `8` is inside the right-most list at index 3.\n",
    "#   - `nested_deep[3]` evaluates to `[5, [6, 7, [8]]]` which is a list containing two lists.\n",
    "# - Second, we notice `8` is in the second list at index 1.\n",
    "#   - `nested_deep[3][1]` evaluates to `[6, 7, [8]]`.\n",
    "# - We notice `8` is in the third element of this list at index 2.\n",
    "#   - `nested_deep[3][1][2]` evaluates to `[8]`.\n",
    "# - Finally, `8` is the first element of this list at index 0. \n",
    "#   - (Note that `[8]` is a list containing `8` -- it is not `8` itself.)\n",
    "nested_deep[3][1][2][0]"
   ]
  },
  {
   "cell_type": "markdown",
   "metadata": {},
   "source": [
    "# Section IV: Conditionals and Loops"
   ]
  },
  {
   "cell_type": "markdown",
   "metadata": {},
   "source": [
    "34) Print out the numbers 1 through 10."
   ]
  },
  {
   "cell_type": "code",
   "execution_count": 39,
   "metadata": {},
   "outputs": [
    {
     "name": "stdout",
     "output_type": "stream",
     "text": [
      "1\n",
      "2\n",
      "3\n",
      "4\n",
      "5\n",
      "6\n",
      "7\n",
      "8\n",
      "9\n",
      "10\n"
     ]
    }
   ],
   "source": [
    "# Method One\n",
    "# In English: \"For each number in the range 1 up to 11, print the number.\"\n",
    "# - `num` can be any variable name -- you get to name it.\n",
    "# - Note by convention do not use `i` here, since `i` stands for index and we are not indexing into anything.\n",
    "for num in range(1, 11):\n",
    "    print(num)"
   ]
  },
  {
   "cell_type": "code",
   "execution_count": 40,
   "metadata": {},
   "outputs": [
    {
     "name": "stdout",
     "output_type": "stream",
     "text": [
      "[1, 2, 3, 4, 5, 6, 7, 8, 9, 10]\n"
     ]
    }
   ],
   "source": [
    "# Method Two\n",
    "print(list(range(1, 11)))"
   ]
  },
  {
   "cell_type": "markdown",
   "metadata": {},
   "source": [
    "35) Print out the odd numbers between 1 and 20 by using the third paramter to the `range()` function."
   ]
  },
  {
   "cell_type": "code",
   "execution_count": 41,
   "metadata": {},
   "outputs": [
    {
     "name": "stdout",
     "output_type": "stream",
     "text": [
      "1\n",
      "3\n",
      "5\n",
      "7\n",
      "9\n",
      "11\n",
      "13\n",
      "15\n",
      "17\n",
      "19\n"
     ]
    }
   ],
   "source": [
    "# Method One\n",
    "for num in range(1, 21, 2):\n",
    "    print(num)"
   ]
  },
  {
   "cell_type": "code",
   "execution_count": 42,
   "metadata": {},
   "outputs": [
    {
     "name": "stdout",
     "output_type": "stream",
     "text": [
      "[1, 3, 5, 7, 9, 11, 13, 15, 17, 19]\n"
     ]
    }
   ],
   "source": [
    "# Method Two\n",
    "print(list(range(1, 21, 2)))"
   ]
  },
  {
   "cell_type": "markdown",
   "metadata": {},
   "source": [
    "36) Print out the odd numbers between 1 and 20 by checking if the number is even before printing."
   ]
  },
  {
   "cell_type": "code",
   "execution_count": 43,
   "metadata": {},
   "outputs": [
    {
     "name": "stdout",
     "output_type": "stream",
     "text": [
      "1\n",
      "3\n",
      "5\n",
      "7\n",
      "9\n",
      "11\n",
      "13\n",
      "15\n",
      "17\n",
      "19\n"
     ]
    }
   ],
   "source": [
    "# For positive integers, `num % 2` evaluates to the remainder of `num` when divided by 2.\n",
    "# - Even numbers have a remainder of 0 (they divide evenly), while odd numbers have a remainder of 1.\n",
    "# - Hence, `num % 2 == 1` evaluates to `True` if `num` is odd and `False` otherwise.\n",
    "\n",
    "# In English: \"For each number in the range 1 up to 21, if the number has a remainder of 1 when divided by two then print it.\"\n",
    "for num in range(1, 21):\n",
    "    if num % 2 == 1:\n",
    "        print(num)"
   ]
  },
  {
   "cell_type": "markdown",
   "metadata": {},
   "source": [
    "37) What is the sum of the first 100 integers? Hint: Create a variable `total` equal to zero, and increment `total` inside a loop."
   ]
  },
  {
   "cell_type": "code",
   "execution_count": 44,
   "metadata": {},
   "outputs": [
    {
     "data": {
      "text/plain": [
       "5050"
      ]
     },
     "execution_count": 44,
     "metadata": {},
     "output_type": "execute_result"
    }
   ],
   "source": [
    "# Method One\n",
    "total = 0\n",
    "for n in range(101):\n",
    "    total += n   # same as total = total + n\n",
    "\n",
    "total"
   ]
  },
  {
   "cell_type": "code",
   "execution_count": 45,
   "metadata": {},
   "outputs": [
    {
     "data": {
      "text/plain": [
       "5050"
      ]
     },
     "execution_count": 45,
     "metadata": {},
     "output_type": "execute_result"
    }
   ],
   "source": [
    "# Method Two (preferred in practice)\n",
    "sum(range(101))"
   ]
  },
  {
   "cell_type": "markdown",
   "metadata": {},
   "source": [
    "38) For each friend in your `friends` list, print `'PERSON IS AWESOME!'` in all caps, where `PERSON` is of course replaced with your friend's name."
   ]
  },
  {
   "cell_type": "code",
   "execution_count": 46,
   "metadata": {},
   "outputs": [],
   "source": [
    "friends = [\"Alice\", \"Bob\", \"Charlie\", \"Debbie\"]"
   ]
  },
  {
   "cell_type": "code",
   "execution_count": 47,
   "metadata": {},
   "outputs": [
    {
     "name": "stdout",
     "output_type": "stream",
     "text": [
      "ALICE IS AWESOME!\n",
      "BOB IS AWESOME!\n",
      "CHARLIE IS AWESOME!\n",
      "DEBBIE IS AWESOME!\n"
     ]
    }
   ],
   "source": [
    "# By convention, lists are plural.\n",
    "# - When looping through a pluralized list variable, we typically use the singular form as the looping variable\n",
    "for friend in friends:\n",
    "    print(f'{friend.upper()} IS AWESOME!')"
   ]
  },
  {
   "cell_type": "markdown",
   "metadata": {},
   "source": [
    "39) Similar to the last problem, print `'PERSON IS AWESOME!'` for each friend in your friends list _only if their name ends in a vowel_. Otherwise, print `\"person is ok...\"` (all lowercase). "
   ]
  },
  {
   "cell_type": "code",
   "execution_count": 48,
   "metadata": {},
   "outputs": [
    {
     "name": "stdout",
     "output_type": "stream",
     "text": [
      "ALICE IS AWESOME!\n",
      "CHARLIE IS AWESOME!\n",
      "DEBBIE IS AWESOME!\n"
     ]
    }
   ],
   "source": [
    "# 'aeiou' is a constant, so for readability we put it into a variable `VOWELS` which describes what it means.\n",
    "# Again for readability, we break the inner code into two steps using the intermediate variable `last_letter`.\n",
    "# - Note that `A in B` is valid for any B that can be iterated through, including lists/sets/dicts/strings.\n",
    "# - So, we are testing whether `last_letter` is one of the characters in the string `'aeiou'`.\n",
    "\n",
    "VOWELS = 'aeiou'\n",
    "for friend in friends:\n",
    "    last_letter = friend[-1].lower()\n",
    "    if last_letter in VOWELS:         # Instead of 'aeiou', we use a variable describing what it is\n",
    "        print(f'{friend.upper()} IS AWESOME!')"
   ]
  },
  {
   "cell_type": "markdown",
   "metadata": {},
   "source": [
    "40) For each number between 1 and 30 (inclusive), if a number is divisible by 3, print `'Fizz'`. Otherwise, just print the number."
   ]
  },
  {
   "cell_type": "code",
   "execution_count": 49,
   "metadata": {},
   "outputs": [
    {
     "name": "stdout",
     "output_type": "stream",
     "text": [
      "1\n",
      "2\n",
      "Fizz\n",
      "4\n",
      "5\n",
      "Fizz\n",
      "7\n",
      "8\n",
      "Fizz\n",
      "10\n",
      "11\n",
      "Fizz\n",
      "13\n",
      "14\n",
      "Fizz\n",
      "16\n",
      "17\n",
      "Fizz\n",
      "19\n",
      "20\n",
      "Fizz\n",
      "22\n",
      "23\n",
      "Fizz\n",
      "25\n",
      "26\n",
      "Fizz\n",
      "28\n",
      "29\n",
      "Fizz\n"
     ]
    }
   ],
   "source": [
    "# METHOD ONE\n",
    "for num in range(1, 31):\n",
    "    if num % 3 == 0:\n",
    "        print('Fizz')\n",
    "    else:\n",
    "        print(num)"
   ]
  },
  {
   "cell_type": "code",
   "execution_count": 50,
   "metadata": {},
   "outputs": [
    {
     "name": "stdout",
     "output_type": "stream",
     "text": [
      "1\n",
      "2\n",
      "Fizz\n",
      "4\n",
      "5\n",
      "Fizz\n",
      "7\n",
      "8\n",
      "Fizz\n",
      "10\n",
      "11\n",
      "Fizz\n",
      "13\n",
      "14\n",
      "Fizz\n",
      "16\n",
      "17\n",
      "Fizz\n",
      "19\n",
      "20\n",
      "Fizz\n",
      "22\n",
      "23\n",
      "Fizz\n",
      "25\n",
      "26\n",
      "Fizz\n",
      "28\n",
      "29\n",
      "Fizz\n"
     ]
    }
   ],
   "source": [
    "# METHOD TWO: This uses the ternaray operator `X if <condition> else Y`\n",
    "# - It is more compact, but it is not as easily extendable!\n",
    "for num in range(1, 31):\n",
    "    print('Fizz' if num % 3 == 0 else num)"
   ]
  },
  {
   "cell_type": "markdown",
   "metadata": {},
   "source": [
    "41) For each number between 1 and 30 (inclusive), if a number is divisible by 5, print `\"Buzz\"`. Otherwise, just print the number."
   ]
  },
  {
   "cell_type": "code",
   "execution_count": 51,
   "metadata": {},
   "outputs": [
    {
     "name": "stdout",
     "output_type": "stream",
     "text": [
      "1\n",
      "2\n",
      "3\n",
      "4\n",
      "Buzz\n",
      "6\n",
      "7\n",
      "8\n",
      "9\n",
      "Buzz\n",
      "11\n",
      "12\n",
      "13\n",
      "14\n",
      "Buzz\n",
      "16\n",
      "17\n",
      "18\n",
      "19\n",
      "Buzz\n",
      "21\n",
      "22\n",
      "23\n",
      "24\n",
      "Buzz\n",
      "26\n",
      "27\n",
      "28\n",
      "29\n",
      "Buzz\n"
     ]
    }
   ],
   "source": [
    "for n in range(1, 31):\n",
    "    if n % 5 == 0:\n",
    "        print('Buzz')\n",
    "    else:\n",
    "        print(n)"
   ]
  },
  {
   "cell_type": "markdown",
   "metadata": {},
   "source": [
    "42) **FIZZBUZZ!** For each number between 1 and 30 (inclusive),\n",
    "* if a number is divisible by 3, print `'Fizz'`\n",
    "* if a number is divisible by 5, print `'Buzz'`\n",
    "* if a number is divisible by both 3 and 5, instead print `'FizzBuzz'`,\n",
    "* otherwise, just print the number\n",
    "\n",
    "This problem is the famous \"FizzBuzz\" problem - and is a very common interview coding challenge! If you can do this without help, you're making awesome progress! Well done!"
   ]
  },
  {
   "cell_type": "code",
   "execution_count": 52,
   "metadata": {},
   "outputs": [
    {
     "name": "stdout",
     "output_type": "stream",
     "text": [
      "1\n",
      "2\n",
      "Fizz\n",
      "4\n",
      "Buzz\n",
      "Fizz\n",
      "7\n",
      "8\n",
      "Fizz\n",
      "Buzz\n",
      "11\n",
      "Fizz\n",
      "13\n",
      "14\n",
      "FizzBuzz\n",
      "16\n",
      "17\n",
      "Fizz\n",
      "19\n",
      "Buzz\n",
      "Fizz\n",
      "22\n",
      "23\n",
      "Fizz\n",
      "Buzz\n",
      "26\n",
      "Fizz\n",
      "28\n",
      "29\n",
      "FizzBuzz\n"
     ]
    }
   ],
   "source": [
    "# METHOD ONE\n",
    "for num in range(1, 31):\n",
    "    if num % 15 == 0:        # alternatively -- if n % 3 == 0 and n % 5 == 0:\n",
    "        print('FizzBuzz')\n",
    "    elif num % 3 == 0:\n",
    "        print('Fizz')\n",
    "    elif num % 5 == 0:\n",
    "        print('Buzz')\n",
    "    else:\n",
    "        print(num)"
   ]
  },
  {
   "cell_type": "code",
   "execution_count": 53,
   "metadata": {},
   "outputs": [
    {
     "name": "stdout",
     "output_type": "stream",
     "text": [
      "1\n",
      "2\n",
      "Fizz\n",
      "4\n",
      "Buzz\n",
      "Fizz\n",
      "7\n",
      "8\n",
      "Fizz\n",
      "Buzz\n",
      "11\n",
      "Fizz\n",
      "13\n",
      "14\n",
      "FizzBuzz\n",
      "16\n",
      "17\n",
      "Fizz\n",
      "19\n",
      "Buzz\n",
      "Fizz\n",
      "22\n",
      "23\n",
      "Fizz\n",
      "Buzz\n",
      "26\n",
      "Fizz\n",
      "28\n",
      "29\n",
      "FizzBuzz\n"
     ]
    }
   ],
   "source": [
    "# METHOD TWO - More compact\n",
    "for num in range(1, 31):\n",
    "    fizzbuzz = ''\n",
    "    if num % 3 == 0: fizzbuzz += 'Fizz'\n",
    "    if num % 5 == 0: fizzbuzz += 'Buzz'\n",
    "    \n",
    "    print(fizzbuzz if fizzbuzz else num)"
   ]
  },
  {
   "cell_type": "markdown",
   "metadata": {},
   "source": [
    "43) Define some string `sentence`. If you can't think of a good one, feel free to use `fact` from the previous notebook."
   ]
  },
  {
   "cell_type": "code",
   "execution_count": 54,
   "metadata": {},
   "outputs": [],
   "source": [
    "sentence = 'Once upon a time, there was a goose.'"
   ]
  },
  {
   "cell_type": "markdown",
   "metadata": {},
   "source": [
    "44) Count the number of vowels in `sentence` (no, y is not a vowel).\n",
    "* _Hint:_ What happens if you loop through a string?"
   ]
  },
  {
   "cell_type": "code",
   "execution_count": 55,
   "metadata": {},
   "outputs": [
    {
     "data": {
      "text/plain": [
       "14"
      ]
     },
     "execution_count": 55,
     "metadata": {},
     "output_type": "execute_result"
    }
   ],
   "source": [
    "# METHOD ONE\n",
    "VOWELS = 'aeiou'\n",
    "\n",
    "num_vowels = 0\n",
    "for char in sentence.lower():     # For each character in the string ...\n",
    "    if char in VOWELS: \n",
    "        num_vowels += 1\n",
    "\n",
    "num_vowels"
   ]
  },
  {
   "cell_type": "code",
   "execution_count": 56,
   "metadata": {},
   "outputs": [
    {
     "data": {
      "text/plain": [
       "14"
      ]
     },
     "execution_count": 56,
     "metadata": {},
     "output_type": "execute_result"
    }
   ],
   "source": [
    "# METHOD TWO\n",
    "# In Python, `True` is 1 and `False` is 0. For example, `True + True + False == 2`.\n",
    "# - We will use this fact often throughout the course.\n",
    "# - Below, `char in VOWELS` is `True` if the character is a vowel and `False` otherwise.\n",
    "# - This lets us avoid the `if` statement, so the result looks more compact.\n",
    "VOWELS = 'aeiou'\n",
    "\n",
    "num_vowels = 0\n",
    "for char in sentence.lower():     # For each character in the string ...\n",
    "    num_vowels += char in VOWELS  # char in VOWELS is either True (1)\n",
    "\n",
    "num_vowels"
   ]
  },
  {
   "cell_type": "markdown",
   "metadata": {},
   "source": [
    "45) Define a variable `sentence_rm` that is equal to `sentence` with all vowels removed. \n",
    "* _Hint:_ This is a tough one. Start out with an empty string and concatenate all of the consonants to it inside a loop."
   ]
  },
  {
   "cell_type": "code",
   "execution_count": 57,
   "metadata": {},
   "outputs": [
    {
     "data": {
      "text/plain": [
       "'Onc pn  tm, thr ws  gs.'"
      ]
     },
     "execution_count": 57,
     "metadata": {},
     "output_type": "execute_result"
    }
   ],
   "source": [
    "# METHOD ONE\n",
    "VOWELS = 'aeiou'\n",
    "\n",
    "sentence_rm = ''\n",
    "for char in sentence:\n",
    "    if char not in VOWELS:\n",
    "        sentence_rm += char\n",
    "\n",
    "sentence_rm"
   ]
  },
  {
   "cell_type": "code",
   "execution_count": 58,
   "metadata": {},
   "outputs": [
    {
     "data": {
      "text/plain": [
       "'Onc pn  tm, thr ws  gs.'"
      ]
     },
     "execution_count": 58,
     "metadata": {},
     "output_type": "execute_result"
    }
   ],
   "source": [
    "# METHOD TWO: More compact via the ternary operator `X if <condition> else Y`\n",
    "VOWELS = 'aeiou'\n",
    "\n",
    "sentence_rm = ''\n",
    "for char in sentence:\n",
    "    sentence_rm += '' if char in VOWELS else char\n",
    "\n",
    "sentence_rm"
   ]
  },
  {
   "cell_type": "code",
   "execution_count": 59,
   "metadata": {},
   "outputs": [
    {
     "data": {
      "text/plain": [
       "'Onc pn  tm, thr ws  gs.'"
      ]
     },
     "execution_count": 59,
     "metadata": {},
     "output_type": "execute_result"
    }
   ],
   "source": [
    "# METHOD THREE (preferred in practice)\n",
    "# The main flaw in the previous methods is that they will be very slow for long strings.\n",
    "# - Strings are immutable, so adding an extra character results in the entire string being copied to new memory every time.\n",
    "# - Here, our code was getting lengthy so we used `\\` to extend the line to the next line.\n",
    "sentence_rm = sentence.replace('a', '').replace('e', '').replace('i', '')\\\n",
    "                      .replace('o', '').replace('u', '')\n",
    "sentence_rm"
   ]
  },
  {
   "cell_type": "markdown",
   "metadata": {},
   "source": [
    "46) Create a variable `fav_number` equal to whatever is your favorite integer. Write a loop to determine if `fav_number` is prime. Recall that a prime number is any number whose only divisors are 1 and itself. For example, 6 is not prime since it's divisible by 1, 2, 3, and 6. But 7 _is_ prime since it's only divisible by 1 and 7."
   ]
  },
  {
   "cell_type": "code",
   "execution_count": 60,
   "metadata": {},
   "outputs": [
    {
     "data": {
      "text/plain": [
       "True"
      ]
     },
     "execution_count": 60,
     "metadata": {},
     "output_type": "execute_result"
    }
   ],
   "source": [
    "# Technical note: This is a very slow way of testing whether a number is prime!\n",
    "# - For example, there is no need to test for any divisors > sqrt(fav_number), since they will never divide evenly.\n",
    "\n",
    "fav_number = 37              # Prime\n",
    "is_prime = fav_number > 1    # Initially assume the number is prime if > 1 (this ensures <= 1 are not prime)\n",
    "\n",
    "# A number is prime if it has exactly two divisors -- 1 and itself.\n",
    "# We exclude 1 and fav_number from the loop.\n",
    "# - So, if there are *any* divisors inbetween, it is prime.\n",
    "for num in range(2, fav_number):\n",
    "    if fav_number % num == 0:   # Is `fav_number` evenly divisible by `num`?\n",
    "        is_prime = False\n",
    "        break                   # A single divisor indicates it is not prime. So, we leave the loop immediately to save time.\n",
    "\n",
    "is_prime"
   ]
  },
  {
   "cell_type": "markdown",
   "metadata": {},
   "source": [
    "47) A palindromic number reads the same both ways. For example, 1234321 is a palindrome. Write an `if` statement to test whether or not a number is palindromic."
   ]
  },
  {
   "cell_type": "code",
   "execution_count": 61,
   "metadata": {},
   "outputs": [
    {
     "name": "stdout",
     "output_type": "stream",
     "text": [
      "Is a palindrome!\n"
     ]
    }
   ],
   "source": [
    "# METHOD ONE\n",
    "num = 1234321\n",
    "digits = str(num)                   # To look at individual digits, must convert to a string first\n",
    "\n",
    "if digits == digits[::-1]:          # Is `digits` identical to the reverse of `digits`?\n",
    "    print('Is a palindrome!')\n",
    "else:\n",
    "    print('Is not a palindrome.')"
   ]
  },
  {
   "cell_type": "markdown",
   "metadata": {},
   "source": [
    "48) Find the largest palindrome made from the product of two two-digit numbers.\n",
    "* _Tip:_ Do not worry about the \"efficiency\" of your answer! The easiest answer is very inefficient."
   ]
  },
  {
   "cell_type": "code",
   "execution_count": 62,
   "metadata": {},
   "outputs": [
    {
     "data": {
      "text/plain": [
       "9009"
      ]
     },
     "execution_count": 62,
     "metadata": {},
     "output_type": "execute_result"
    }
   ],
   "source": [
    "# METHOD ONE\n",
    "TWO_DIGIT_NUMS = range(10, 100)         # Give the constant value a name to improve readability\n",
    "\n",
    "largest_palindrome = 11                 # Set to a low number (in this case, we know 11 is a valid palindrome)\n",
    "for a in TWO_DIGIT_NUMS:\n",
    "    for b in TWO_DIGIT_NUMS:\n",
    "        digits = str(a * b)             # For readability, pre-process digits into a variable first\n",
    "        if digits == digits[::-1]:      # Is a*b a palindrome?\n",
    "            largest_palindrome = max(a * b, largest_palindrome)   # if a*b > largest, let largest = a * b\n",
    "\n",
    "largest_palindrome"
   ]
  },
  {
   "cell_type": "code",
   "execution_count": 63,
   "metadata": {},
   "outputs": [
    {
     "data": {
      "text/plain": [
       "True"
      ]
     },
     "execution_count": 63,
     "metadata": {},
     "output_type": "execute_result"
    }
   ],
   "source": [
    "# METHOD TWO - It is much more readable to use a function -- especially if we will use `is_palindrome` more than once!\n",
    "TWO_DIGIT_NUMS = range(10, 100)         # Give the constant value a name to improve readability\n",
    "\n",
    "def is_palindrome(num):\n",
    "    \"\"\"Returns True if `num` is palindromic, else False.\"\"\"\n",
    "    digits = str(num)\n",
    "    return digits == digits[::-1]\n",
    "\n",
    "is_palindrome(1234321)  # Test"
   ]
  },
  {
   "cell_type": "code",
   "execution_count": 64,
   "metadata": {},
   "outputs": [
    {
     "data": {
      "text/plain": [
       "9009"
      ]
     },
     "execution_count": 64,
     "metadata": {},
     "output_type": "execute_result"
    }
   ],
   "source": [
    "largest_palindrome = 11\n",
    "for a in TWO_DIGIT_NUMS:\n",
    "    for b in TWO_DIGIT_NUMS:\n",
    "        if is_palindrome(a * b):      # Note how the code is now easy-to-read and self-commenting\n",
    "            largest_palindrome = max(a * b, largest_palindrome)   # if a*b > largest, let largest = a * b\n",
    "\n",
    "largest_palindrome"
   ]
  },
  {
   "cell_type": "code",
   "execution_count": 65,
   "metadata": {},
   "outputs": [
    {
     "data": {
      "text/plain": [
       "9009"
      ]
     },
     "execution_count": 65,
     "metadata": {},
     "output_type": "execute_result"
    }
   ],
   "source": [
    "# METHOD THREE\n",
    "# Amazingly, we can do this in one line using a list comprehension! (Preview for Section V :D)\n",
    "\n",
    "max(a * b for a in TWO_DIGIT_NUMS for b in TWO_DIGIT_NUMS if is_palindrome(a * b))"
   ]
  },
  {
   "cell_type": "markdown",
   "metadata": {},
   "source": [
    "# Section V: List Comprehensions\n",
    "\n",
    "**Disclaimer:** Many (maybe all) of these exercises can be done without a list comprehension. However, listcomps are often the easiest way to solve a problem like this. Listcomps are also optimized in Python, meaning they are also often the _fastest_ way to solve a problem. In fact, **every problem in this section can be solved in one line of code!**\n",
    "\n",
    "---\n",
    "**IMPORTANT NOTE: Consider all ranges in this section to be *inclusive*.**"
   ]
  },
  {
   "cell_type": "markdown",
   "metadata": {},
   "source": [
    "49) Create a list of the numbers 1 through 10."
   ]
  },
  {
   "cell_type": "code",
   "execution_count": 66,
   "metadata": {},
   "outputs": [
    {
     "data": {
      "text/plain": [
       "[1, 2, 3, 4, 5, 6, 7, 8, 9, 10]"
      ]
     },
     "execution_count": 66,
     "metadata": {},
     "output_type": "execute_result"
    }
   ],
   "source": [
    "# METHOD ONE (preferred)\n",
    "list(range(1, 11))"
   ]
  },
  {
   "cell_type": "code",
   "execution_count": 67,
   "metadata": {},
   "outputs": [
    {
     "data": {
      "text/plain": [
       "[1, 2, 3, 4, 5, 6, 7, 8, 9, 10]"
      ]
     },
     "execution_count": 67,
     "metadata": {},
     "output_type": "execute_result"
    }
   ],
   "source": [
    "# METHOD TWO: List comprehension\n",
    "\n",
    "# This code is the same as:\n",
    "#    new_list = []\n",
    "#    for n in range(1, 11):   # The loop is verbatim the final part of the list comprehension\n",
    "#        new_list.append(n)   # `n` -- what to append -- is the first part of the list comprehension\n",
    "\n",
    "[n for n in range(1, 11)]"
   ]
  },
  {
   "cell_type": "markdown",
   "metadata": {},
   "source": [
    "50) Create a list of the squares of the numbers between 1 and 10."
   ]
  },
  {
   "cell_type": "code",
   "execution_count": 68,
   "metadata": {},
   "outputs": [
    {
     "data": {
      "text/plain": [
       "[1, 4, 9, 16, 25, 36, 49, 64, 81, 100]"
      ]
     },
     "execution_count": 68,
     "metadata": {},
     "output_type": "execute_result"
    }
   ],
   "source": [
    "# Because list comprehensions are compact, it is more acceptable to use one-letter variables.\n",
    "# - So here, we use `n` instead of `num`.\n",
    "[n*n for n in range(1,11)]"
   ]
  },
  {
   "cell_type": "markdown",
   "metadata": {},
   "source": [
    "51) Create a list of all the even numbers between 18 and 47."
   ]
  },
  {
   "cell_type": "code",
   "execution_count": 69,
   "metadata": {},
   "outputs": [
    {
     "data": {
      "text/plain": [
       "[18, 20, 22, 24, 26, 28, 30, 32, 34, 36, 38, 40, 42, 44, 46]"
      ]
     },
     "execution_count": 69,
     "metadata": {},
     "output_type": "execute_result"
    }
   ],
   "source": [
    "# This is called a \"filter\"\n",
    "[n for n in range(18, 48) if n % 2 == 0]"
   ]
  },
  {
   "cell_type": "markdown",
   "metadata": {},
   "source": [
    "52) Create a list of the squares of the even numbers between 1 and 20."
   ]
  },
  {
   "cell_type": "code",
   "execution_count": 70,
   "metadata": {},
   "outputs": [
    {
     "data": {
      "text/plain": [
       "[4, 16, 36, 64, 100, 144, 196, 256, 324, 400]"
      ]
     },
     "execution_count": 70,
     "metadata": {},
     "output_type": "execute_result"
    }
   ],
   "source": [
    "[n*n for n in range(1, 21) if n % 2 == 0]"
   ]
  },
  {
   "cell_type": "markdown",
   "metadata": {},
   "source": [
    "53) What is the sum of the cubes of the numbers between 7 and 37?"
   ]
  },
  {
   "cell_type": "code",
   "execution_count": 71,
   "metadata": {},
   "outputs": [
    {
     "data": {
      "text/plain": [
       "443115"
      ]
     },
     "execution_count": 71,
     "metadata": {},
     "output_type": "execute_result"
    }
   ],
   "source": [
    "# METHOD ONE\n",
    "# First, the list is created via the list comprehension. Then, its elements are summed.\n",
    "sum([n*n*n for n in range(7, 37)])"
   ]
  },
  {
   "cell_type": "code",
   "execution_count": 72,
   "metadata": {},
   "outputs": [
    {
     "data": {
      "text/plain": [
       "443115"
      ]
     },
     "execution_count": 72,
     "metadata": {},
     "output_type": "execute_result"
    }
   ],
   "source": [
    "# METHOD TWO (preferred in practice)\n",
    "# Without the brackets, this is not a list comprehension but a _generator_.\n",
    "# - Instead of wasting time and memory creating a list first, \n",
    "#      each element is created on the fly when it is looped over in `sum`.\n",
    "sum(n*n*n for n in range(7, 37))"
   ]
  },
  {
   "cell_type": "markdown",
   "metadata": {},
   "source": [
    "54) Create a list of all of the numbers divisible by either 3 or 5 (or both) between 1 and 30."
   ]
  },
  {
   "cell_type": "code",
   "execution_count": 73,
   "metadata": {},
   "outputs": [
    {
     "data": {
      "text/plain": [
       "[3, 5, 6, 9, 10, 12, 15, 18, 20, 21, 24, 25, 27, 30]"
      ]
     },
     "execution_count": 73,
     "metadata": {},
     "output_type": "execute_result"
    }
   ],
   "source": [
    "# If a number is divisible by 3, it is also divisible by 3 or 5!\n",
    "[n for n in range(1, 31) if n % 3 == 0 or n % 5 == 0]"
   ]
  },
  {
   "cell_type": "markdown",
   "metadata": {},
   "source": [
    "55) Redefine this list to be all uppercase."
   ]
  },
  {
   "cell_type": "code",
   "execution_count": 74,
   "metadata": {},
   "outputs": [],
   "source": [
    "friends = [\"Alice\", \"Bob\", \"Charlie\", \"Derek\"]"
   ]
  },
  {
   "cell_type": "code",
   "execution_count": 75,
   "metadata": {},
   "outputs": [],
   "source": [
    "friends = [friend.upper() for friend in friends]"
   ]
  },
  {
   "cell_type": "markdown",
   "metadata": {},
   "source": [
    "56) Remove all elements from `friends` whose names do not end in a vowel."
   ]
  },
  {
   "cell_type": "code",
   "execution_count": 76,
   "metadata": {},
   "outputs": [
    {
     "data": {
      "text/plain": [
       "['ALICE', 'CHARLIE']"
      ]
     },
     "execution_count": 76,
     "metadata": {},
     "output_type": "execute_result"
    }
   ],
   "source": [
    "# METHOD ONE\n",
    "[f for f in friends if f[-1].lower() in 'aeiou']"
   ]
  },
  {
   "cell_type": "code",
   "execution_count": 77,
   "metadata": {},
   "outputs": [
    {
     "data": {
      "text/plain": [
       "['ALICE', 'CHARLIE']"
      ]
     },
     "execution_count": 77,
     "metadata": {},
     "output_type": "execute_result"
    }
   ],
   "source": [
    "# METHOD TWO (preferred) - Easier to read using a function!\n",
    "def ends_in_vowel(s):\n",
    "    return s[-1].lower() in 'aeiou'\n",
    "\n",
    "[f for f in friends if ends_in_vowel(f)]   # Much easier to understand"
   ]
  },
  {
   "cell_type": "markdown",
   "metadata": {},
   "source": [
    "57) Take the `sentence` you used earlier and remove the vowels again. This time, using a one-line list comprehension.\n",
    "\n",
    "* _Hint:_ You'll find the `.join()` method to be useful here."
   ]
  },
  {
   "cell_type": "code",
   "execution_count": 78,
   "metadata": {},
   "outputs": [
    {
     "data": {
      "text/plain": [
       "'Onc pn  tm, thr ws  gs.'"
      ]
     },
     "execution_count": 78,
     "metadata": {},
     "output_type": "execute_result"
    }
   ],
   "source": [
    "# `.join()` is strange at first, because it acts on the separator. \n",
    "# Examples: - ''.join(['a', 'b', 'c']) == 'abc'\n",
    "#           - '&&&'.join(['a', 'b', 'c']) == 'a&&&b&&&c'\n",
    "''.join([c for c in sentence if c not in 'aeiou'])"
   ]
  },
  {
   "cell_type": "markdown",
   "metadata": {},
   "source": [
    "58) You need to access Excel files that have names like `Jan 5.xlsx` or `Mar 15.xlsx`. Create a list of January 1 through January 31 like this. That is, create the list of: `['Jan 1.xlsx', 'Jan 2.xlsx', ... , 'Jan 31.xlsx']`."
   ]
  },
  {
   "cell_type": "code",
   "execution_count": 79,
   "metadata": {},
   "outputs": [
    {
     "data": {
      "text/plain": [
       "['Jan 1.xlsx',\n",
       " 'Jan 2.xlsx',\n",
       " 'Jan 3.xlsx',\n",
       " 'Jan 4.xlsx',\n",
       " 'Jan 5.xlsx',\n",
       " 'Jan 6.xlsx',\n",
       " 'Jan 7.xlsx',\n",
       " 'Jan 8.xlsx',\n",
       " 'Jan 9.xlsx',\n",
       " 'Jan 10.xlsx',\n",
       " 'Jan 11.xlsx',\n",
       " 'Jan 12.xlsx',\n",
       " 'Jan 13.xlsx',\n",
       " 'Jan 14.xlsx',\n",
       " 'Jan 15.xlsx',\n",
       " 'Jan 16.xlsx',\n",
       " 'Jan 17.xlsx',\n",
       " 'Jan 18.xlsx',\n",
       " 'Jan 19.xlsx',\n",
       " 'Jan 20.xlsx',\n",
       " 'Jan 21.xlsx',\n",
       " 'Jan 22.xlsx',\n",
       " 'Jan 23.xlsx',\n",
       " 'Jan 24.xlsx',\n",
       " 'Jan 25.xlsx',\n",
       " 'Jan 26.xlsx',\n",
       " 'Jan 27.xlsx',\n",
       " 'Jan 28.xlsx',\n",
       " 'Jan 29.xlsx',\n",
       " 'Jan 30.xlsx',\n",
       " 'Jan 31.xlsx']"
      ]
     },
     "execution_count": 79,
     "metadata": {},
     "output_type": "execute_result"
    }
   ],
   "source": [
    "[f'Jan {n}.xlsx' for n in range(1, 32)]"
   ]
  },
  {
   "cell_type": "markdown",
   "metadata": {},
   "source": [
    "59) Below is a list of amounts in euros. Create a new list, `dollars`, which is these amounts converted to U.S. dollars. There are 1.1 dollars per euro."
   ]
  },
  {
   "cell_type": "code",
   "execution_count": 80,
   "metadata": {},
   "outputs": [],
   "source": [
    "euros = [4.50, 6.70, 3.25, 9.99, 12.75, 0.35]"
   ]
  },
  {
   "cell_type": "code",
   "execution_count": 81,
   "metadata": {},
   "outputs": [],
   "source": [
    "# `euro` is not the singular of `euros`, so we'll use `amt` here instead (for amount)\n",
    "dollars = [1.1 * amt for amt in euros]"
   ]
  },
  {
   "cell_type": "markdown",
   "metadata": {},
   "source": [
    "60) Below is a list of heights in inches. In order to ride a roller coaster, you must be at least 5 feet tall (60 inches). Filter this list to be _only_ those heights tall enough to ride."
   ]
  },
  {
   "cell_type": "code",
   "execution_count": 82,
   "metadata": {},
   "outputs": [],
   "source": [
    "heights = [71, 48, 55, 65, 68, 60, 58, 53]"
   ]
  },
  {
   "cell_type": "code",
   "execution_count": 83,
   "metadata": {},
   "outputs": [
    {
     "data": {
      "text/plain": [
       "[71, 65, 68, 60]"
      ]
     },
     "execution_count": 83,
     "metadata": {},
     "output_type": "execute_result"
    }
   ],
   "source": [
    "[h for h in heights if h >= 60]"
   ]
  },
  {
   "cell_type": "markdown",
   "metadata": {},
   "source": [
    "61) Repeat the above exercise, except replace the lower heights with a `None` instead of dropping them.\n",
    "* _Hint:_ Python has an in-line `if` statement, sometimes called a _ternary operator_ that you might find useful here. For example:\n",
    "\n",
    "```\n",
    "print('Tall enough' if 72 > 60 else 'Too short')\n",
    "print('Tall enough' if 52 > 60 else 'Too short')\n",
    "```"
   ]
  },
  {
   "cell_type": "code",
   "execution_count": 84,
   "metadata": {},
   "outputs": [
    {
     "data": {
      "text/plain": [
       "[71, None, None, 65, 68, 60, None, None]"
      ]
     },
     "execution_count": 84,
     "metadata": {},
     "output_type": "execute_result"
    }
   ],
   "source": [
    "# Note the translation of this is:\n",
    "\n",
    "#    new_heights = []\n",
    "#    for h in heights:\n",
    "#        new_heights.append(h if h >= 60 else None)\n",
    "\n",
    "[h if h >= 60 else None for h in heights]"
   ]
  },
  {
   "cell_type": "markdown",
   "metadata": {},
   "source": [
    "62) Here are more heights below. However, this time, the information is contained in a dictionary. Create a list of the names _and ONLY the names_ of the people who are tall enough to ride the roller coaster.\n",
    "\n",
    "* _Hint:_ How can you loop through a dictionary?"
   ]
  },
  {
   "cell_type": "code",
   "execution_count": 85,
   "metadata": {},
   "outputs": [],
   "source": [
    "people = {\n",
    "    'Aaron': 58,\n",
    "    'Barbara': 66,\n",
    "    'Clarence': 62,\n",
    "    'Donovan': 55,\n",
    "    'Erika': 70,\n",
    "    'Fernando': 72\n",
    "}"
   ]
  },
  {
   "cell_type": "code",
   "execution_count": 86,
   "metadata": {},
   "outputs": [
    {
     "data": {
      "text/plain": [
       "['Barbara', 'Clarence', 'Erika', 'Fernando']"
      ]
     },
     "execution_count": 86,
     "metadata": {},
     "output_type": "execute_result"
    }
   ],
   "source": [
    "# `people.items()` loops through each key-value pair as a tuple:\n",
    "# - i.e. it generates the tuples: `[('Aaron', 58), ('Barbara', 66), ...]`\n",
    "# Then tuple unpacking is used to unpack each:\n",
    "# - i.e. `name,height = ('Aaron', 58)` sets `name = 'Aaron'` and `height = 58`\n",
    "\n",
    "# The translation is:\n",
    "\n",
    "# tall_people = []\n",
    "# for name,height in people.items():\n",
    "#     if height >= 60:\n",
    "#         tall_people.append(name)\n",
    "\n",
    "\n",
    "[name for name,height in people.items() if height >= 60]"
   ]
  },
  {
   "cell_type": "markdown",
   "metadata": {},
   "source": [
    "63) Below we have some more data on our classmates. This time, the dictionary values are test scores. A student's final grade is their _maximum_ score on these three tests. Create a list of the students' final grades."
   ]
  },
  {
   "cell_type": "code",
   "execution_count": 87,
   "metadata": {},
   "outputs": [],
   "source": [
    "people = {\n",
    "    'Aaron': [87, 52, 78],\n",
    "    'Barbara': [92, 79, 85],\n",
    "    'Clarence': [42, 68, 55],\n",
    "    'Donovan': [95, 100, 87],\n",
    "    'Erika': [62, 88, 47],\n",
    "    'Fernando': [84, 99, 0]\n",
    "}"
   ]
  },
  {
   "cell_type": "code",
   "execution_count": 88,
   "metadata": {},
   "outputs": [
    {
     "data": {
      "text/plain": [
       "[87, 92, 68, 100, 88, 99]"
      ]
     },
     "execution_count": 88,
     "metadata": {},
     "output_type": "execute_result"
    }
   ],
   "source": [
    "[max(scores) for scores in people.values()]"
   ]
  },
  {
   "cell_type": "markdown",
   "metadata": {},
   "source": [
    "64) Repeat the above problem, except create a _dictionary_ of the final scores, where the dictionary keys are the names, and the dictionary values are the final grade.\n",
    "\n",
    "* _Hint:_ You can do **dictionary comprehension** to solve this problem! Yes, it exists!"
   ]
  },
  {
   "cell_type": "code",
   "execution_count": 89,
   "metadata": {},
   "outputs": [
    {
     "data": {
      "text/plain": [
       "{'Aaron': 87,\n",
       " 'Barbara': 92,\n",
       " 'Clarence': 68,\n",
       " 'Donovan': 100,\n",
       " 'Erika': 88,\n",
       " 'Fernando': 99}"
      ]
     },
     "execution_count": 89,
     "metadata": {},
     "output_type": "execute_result"
    }
   ],
   "source": [
    "{name: max(scores) for name,scores in people.items()}"
   ]
  },
  {
   "cell_type": "markdown",
   "metadata": {},
   "source": [
    "65) Using the two lists defined below, create the following resulting list:\n",
    "\n",
    "`['AZ', 'BY', 'CX', 'DW', 'EV']`\n",
    "\n",
    "* _Hint:_ Check out the `zip()` function."
   ]
  },
  {
   "cell_type": "code",
   "execution_count": 90,
   "metadata": {},
   "outputs": [],
   "source": [
    "letters_a = ['A', 'B', 'C', 'D', 'E']\n",
    "letters_z = ['Z', 'Y', 'X', 'W', 'V']"
   ]
  },
  {
   "cell_type": "code",
   "execution_count": 91,
   "metadata": {},
   "outputs": [
    {
     "data": {
      "text/plain": [
       "['AZ', 'BY', 'CX', 'DW', 'EV']"
      ]
     },
     "execution_count": 91,
     "metadata": {},
     "output_type": "execute_result"
    }
   ],
   "source": [
    "# Similarly to `.items()`, `zip` puts together the elements at index 0, then index 1, etc.\n",
    "# - i.e. `zip(letters_a, letters_z)` generates the tuples: `('A', 'Z'), ('B', 'Y'), ('C', 'X'), ...`\n",
    "# Then, the loop performs tuple unpacking on each of the tuples:\n",
    "# - i.e. `a,z = ('A', 'Z')` sets `a = 'A'` and `z = 'Z'`.\n",
    "\n",
    "[a + z for a,z in zip(letters_a, letters_z)]   # `a` and `z` are strings, and so `a + z` is a string!"
   ]
  },
  {
   "cell_type": "markdown",
   "metadata": {},
   "source": [
    "66) Using `letters_a` defined in the previous problem, create the following list:\n",
    "\n",
    "```\n",
    "[\n",
    "    'A is letter 1 of the alphabet',\n",
    "    'B is letter 2 of the alphabet',\n",
    "    ...\n",
    "]\n",
    "```\n",
    "\n",
    "* _Hint:_ Checkout the `enumerate()` function."
   ]
  },
  {
   "cell_type": "code",
   "execution_count": 92,
   "metadata": {},
   "outputs": [
    {
     "data": {
      "text/plain": [
       "['A is letter 1 of the alphabet',\n",
       " 'B is letter 2 of the alphabet',\n",
       " 'C is letter 3 of the alphabet',\n",
       " 'D is letter 4 of the alphabet',\n",
       " 'E is letter 5 of the alphabet']"
      ]
     },
     "execution_count": 92,
     "metadata": {},
     "output_type": "execute_result"
    }
   ],
   "source": [
    "# `enumerate(letters_a)` works the same as `zip` and `.items()`!\n",
    "# It generates a tuple that pairs each index with its element.\n",
    "# - i.e. it generates: `(0, 'A'), (1, 'B'), (2, 'C'), (3, 'D'), (4, 'E')`.\n",
    "# Then, the loop performs tuple unpacking on each:\n",
    "# - i.e. `i,letter = (0, 'A')` sets `i = 0` and `letter = 'A'`.\n",
    "\n",
    "[f'{letter} is letter {i+1} of the alphabet' for i,letter in enumerate(letters_a)]"
   ]
  },
  {
   "cell_type": "markdown",
   "metadata": {},
   "source": [
    "# Section VI: Libraries, imports and some more math!"
   ]
  },
  {
   "cell_type": "markdown",
   "metadata": {},
   "source": [
    "67) Import the `math` library"
   ]
  },
  {
   "cell_type": "code",
   "execution_count": 93,
   "metadata": {},
   "outputs": [],
   "source": [
    "import math"
   ]
  },
  {
   "cell_type": "markdown",
   "metadata": {},
   "source": [
    "68) The `math` library has a lot of cool stuff in it. For this problem, evaluate the following math expressions:"
   ]
  },
  {
   "cell_type": "markdown",
   "metadata": {},
   "source": [
    "a) $\\sin{\\frac{\\pi}{2}}$"
   ]
  },
  {
   "cell_type": "code",
   "execution_count": 94,
   "metadata": {},
   "outputs": [
    {
     "data": {
      "text/plain": [
       "1.0"
      ]
     },
     "execution_count": 94,
     "metadata": {},
     "output_type": "execute_result"
    }
   ],
   "source": [
    "# Note that `2` evaluates to an int, while `2.` evaluates to a float.\n",
    "# - In this case, `math.pi` is a float so both will evaluate the same way.\n",
    "# - However, if you know the result should be a float, many coders will put a period after it.\n",
    "# - Doing so 1) informs the reader the result will be a float, and 2) forces the result to be a float (e.g. in Python 2)\n",
    "math.sin(math.pi / 2.)"
   ]
  },
  {
   "cell_type": "markdown",
   "metadata": {},
   "source": [
    "b) $\\ln{\\sqrt{e}}$\n",
    "* _Hint:_ A logarithm with base $e$ is represented by just `log` in `math`. In fact, throughout the course, $\\log$ with no subscript will always denote the natural log (ie, log base $e$)."
   ]
  },
  {
   "cell_type": "code",
   "execution_count": 95,
   "metadata": {},
   "outputs": [
    {
     "data": {
      "text/plain": [
       "0.5"
      ]
     },
     "execution_count": 95,
     "metadata": {},
     "output_type": "execute_result"
    }
   ],
   "source": [
    "# Natural log -- note ln(sqrt(e)) == ln(e^0.5) == 0.5 * ln(e) == 0.5 * 1 == 0.5.\n",
    "math.log(math.sqrt(math.e))"
   ]
  },
  {
   "cell_type": "markdown",
   "metadata": {},
   "source": [
    "c) $e^{3!}$"
   ]
  },
  {
   "cell_type": "code",
   "execution_count": 96,
   "metadata": {},
   "outputs": [
    {
     "data": {
      "text/plain": [
       "403.428793492735"
      ]
     },
     "execution_count": 96,
     "metadata": {},
     "output_type": "execute_result"
    }
   ],
   "source": [
    "# METHOD ONE\n",
    "math.pow(math.e, math.factorial(3))"
   ]
  },
  {
   "cell_type": "code",
   "execution_count": 97,
   "metadata": {},
   "outputs": [
    {
     "data": {
      "text/plain": [
       "403.428793492735"
      ]
     },
     "execution_count": 97,
     "metadata": {},
     "output_type": "execute_result"
    }
   ],
   "source": [
    "# METHOD TWO (should be identical)\n",
    "math.e ** math.factorial(3)"
   ]
  },
  {
   "cell_type": "markdown",
   "metadata": {},
   "source": [
    "69) Two popular math functions are the \"round up\" and \"round down\" functions. In computer science, we call them the \"ceiling\" and \"floor\" functions. They're used and denoted as follows:\n",
    "\n",
    "* `ceil(3.8)` $= \\lceil 3.8 \\rceil = 4$\n",
    "* `ceil(3.2)` $= \\lceil 3.2 \\rceil = 4$\n",
    "* `floor(3.8)` $= \\lfloor 3.8 \\rfloor = 3$\n",
    "* `floor(3.2)` $= \\lfloor 3.2 \\rfloor = 3$\n",
    "\n",
    "We _only_ need these two functions out of the `math` library. Use an `import` statement to import _only_ these two functions and verify the above examples are true."
   ]
  },
  {
   "cell_type": "code",
   "execution_count": 98,
   "metadata": {},
   "outputs": [],
   "source": [
    "from math import floor, ceil"
   ]
  },
  {
   "cell_type": "code",
   "execution_count": 99,
   "metadata": {},
   "outputs": [
    {
     "name": "stdout",
     "output_type": "stream",
     "text": [
      "4\n",
      "4\n",
      "3\n",
      "3\n"
     ]
    }
   ],
   "source": [
    "print(ceil(3.8))\n",
    "print(ceil(3.2))\n",
    "print(floor(3.8))\n",
    "print(floor(3.2))"
   ]
  },
  {
   "cell_type": "markdown",
   "metadata": {},
   "source": [
    "70) We can also _alias_ library names if they're too long and we will be using them often. As we will do many times in this course, import the following three libraries:\n",
    "\n",
    "* Import the `numpy` library, aliasing it as `np`\n",
    "* Import the `pandas` library, aliasing it as `pd`\n",
    "* Import the `matplotlib.pyplot` library and submodule, aliasing it as `plt`"
   ]
  },
  {
   "cell_type": "code",
   "execution_count": 100,
   "metadata": {},
   "outputs": [],
   "source": [
    "import numpy as np\n",
    "import pandas as pd\n",
    "import matplotlib.pyplot as plt"
   ]
  },
  {
   "cell_type": "markdown",
   "metadata": {},
   "source": [
    "71) You can also import everything from a library all at once without needing to prefix it:\n",
    "\n",
    "`from math import *`\n",
    "\n",
    "For this question your task is: _never, **ever**_ do this.\n",
    "\n",
    "Why?\n",
    "1. It \"pollutes\" the namespace with variable names that could easily be overwritten on accident.\n",
    "    - For example, after the import we could accidentally define `sin = 'without'` then be surprised when `sin(0.5)` no longer works!\n",
    "2. It does not show the reader which module a given function came from. \n",
    "    - For example, we see above that `ceil` came from the `math` library since it was noted in the import.\n",
    "    - If we use * is much more difficult to determine which module `ceil` is from."
   ]
  },
  {
   "cell_type": "markdown",
   "metadata": {},
   "source": [
    "# Section VII: Functions\n",
    "In this section, every question gives example(s). You can (but don't need to) name your function accordingly. You _should_ test out the example to make sure your function works properly. If the example doesn't work, your answer is likely incorrect."
   ]
  },
  {
   "cell_type": "markdown",
   "metadata": {},
   "source": [
    "72) Write a function to compute the area of a triangle. You only need the base and height of a triangle to compute its area.\n",
    "\n",
    "* _Example:_ `area_triangle(5, 4) == 10.0`"
   ]
  },
  {
   "cell_type": "code",
   "execution_count": 101,
   "metadata": {},
   "outputs": [
    {
     "data": {
      "text/plain": [
       "10.0"
      ]
     },
     "execution_count": 101,
     "metadata": {},
     "output_type": "execute_result"
    }
   ],
   "source": [
    "# It good to get in the habit of writing a docstring with every function.\n",
    "\n",
    "def area_triangle(base, height):\n",
    "    \"\"\"Returns the area of a triangle with given `base` and `height`.\"\"\"\n",
    "    return 0.5 * base * height\n",
    "\n",
    "area_triangle(5, 4)"
   ]
  },
  {
   "cell_type": "markdown",
   "metadata": {},
   "source": [
    "73) Import `pi` from `math` and write a function to compute the area of a circle. You only need the radius of a circle to compute its area.\n",
    "\n",
    "* _Example:_ `area_circle(10) == 314.159...`"
   ]
  },
  {
   "cell_type": "code",
   "execution_count": 102,
   "metadata": {},
   "outputs": [
    {
     "data": {
      "text/plain": [
       "314.1592653589793"
      ]
     },
     "execution_count": 102,
     "metadata": {},
     "output_type": "execute_result"
    }
   ],
   "source": [
    "from math import pi\n",
    "\n",
    "def area_circle(r):\n",
    "    \"\"\"Returns the area of the circle with radius `r`.\"\"\"\n",
    "    return pi * r * r\n",
    "\n",
    "area_circle(10)"
   ]
  },
  {
   "cell_type": "markdown",
   "metadata": {},
   "source": [
    "74) Write a function that takes in a number `max_num` and returns the sum of the numbers 1 through `max_num` (inclusive).\n",
    "* _Example:_ `sum_n(5) == 1 + 2 + 3 + 4 + 5 == 15`"
   ]
  },
  {
   "cell_type": "code",
   "execution_count": 103,
   "metadata": {},
   "outputs": [
    {
     "data": {
      "text/plain": [
       "15"
      ]
     },
     "execution_count": 103,
     "metadata": {},
     "output_type": "execute_result"
    }
   ],
   "source": [
    "def sum_n(max_num):\n",
    "    \"\"\"Returns the sum of the numbers 1 through `max_num` (inclusive).\"\"\"\n",
    "    return sum(range(max_num+1))\n",
    "\n",
    "sum_n(5)"
   ]
  },
  {
   "cell_type": "markdown",
   "metadata": {},
   "source": [
    "75) Write a function that takes in a number `max_num` and returns the sum of the square of the numbers 1 through `max_num` (inclusive).\n",
    "* `sum_squares(5) == 1 + 4 + 9 + 16 + 25 == 55`"
   ]
  },
  {
   "cell_type": "code",
   "execution_count": 104,
   "metadata": {},
   "outputs": [
    {
     "data": {
      "text/plain": [
       "55"
      ]
     },
     "execution_count": 104,
     "metadata": {},
     "output_type": "execute_result"
    }
   ],
   "source": [
    "def sum_squares(max_num):\n",
    "    \"\"\"Returns the sum of the first `max_num` square numbers.\"\"\"\n",
    "    return sum(n*n for n in range(max_num+1))\n",
    "\n",
    "sum_squares(5)"
   ]
  },
  {
   "cell_type": "markdown",
   "metadata": {},
   "source": [
    "76) Write a function that takes a number (an amount in euros) and convert it to U.S. dollars. There are 1.1 U.S. dollars per euro.\n",
    "* `to_dollar(10) == 11.0`"
   ]
  },
  {
   "cell_type": "code",
   "execution_count": 105,
   "metadata": {},
   "outputs": [
    {
     "data": {
      "text/plain": [
       "11.0"
      ]
     },
     "execution_count": 105,
     "metadata": {},
     "output_type": "execute_result"
    }
   ],
   "source": [
    "def to_dollar(num_euros):\n",
    "    \"\"\"Returns the dollar equivalent of `num_euros` euros.\"\"\"\n",
    "    return 1.1 * num_euros\n",
    "\n",
    "to_dollar(10)"
   ]
  },
  {
   "cell_type": "markdown",
   "metadata": {},
   "source": [
    "77) Write a function that takes a list of numbers (amounts in euros), and returns them converted to dollars. Use your answer to the previous question in your answer to this question.\n",
    "* _Example:_ `to_dollar_list([1, 10, 100]) == [1.1, 11.0, 110.0]`\n",
    "* _Note:_ You may get some decimal weirdness here."
   ]
  },
  {
   "cell_type": "code",
   "execution_count": 106,
   "metadata": {},
   "outputs": [
    {
     "data": {
      "text/plain": [
       "[1.1, 11.0, 110.00000000000001]"
      ]
     },
     "execution_count": 106,
     "metadata": {},
     "output_type": "execute_result"
    }
   ],
   "source": [
    "def to_dollar_list(euros_list):\n",
    "    \"\"\"Returns the dollar equivalent of each euro quantity in the list `euros_list`.\"\"\"\n",
    "    return [to_dollar(num_euros) for num_euros in euros_list]\n",
    "\n",
    "to_dollar_list([1, 10, 100])"
   ]
  },
  {
   "cell_type": "markdown",
   "metadata": {},
   "source": [
    "78) Write a function that takes a number (a person's height) and returns \"Tall enough\" if they are at least 5 feet (60 inches) or \"Too short\" if they are below 5 feet.\n",
    "* _Example:_ `is_tall(72) == 'Tall enough'`\n",
    "* _Example:_ `is_tall(52) == 'Too short'`"
   ]
  },
  {
   "cell_type": "code",
   "execution_count": 107,
   "metadata": {},
   "outputs": [
    {
     "name": "stdout",
     "output_type": "stream",
     "text": [
      "Tall enough\n",
      "Too short\n"
     ]
    }
   ],
   "source": [
    "def is_tall(height):\n",
    "    \"\"\"Returns 'Tall enough' or 'Too short' given `height`.\"\"\"\n",
    "    return 'Tall enough' if height >= 60 else 'Too short'\n",
    "\n",
    "print(is_tall(72))\n",
    "print(is_tall(52))"
   ]
  },
  {
   "cell_type": "markdown",
   "metadata": {},
   "source": [
    "79) Write a function that takes a list of numbers (peoples' heights) and returns a list of strings \"Tall enough\" or \"Too short\" as in the previous problem. Use your answer to the previous problem to help answer this problem.\n",
    "* _Example:_ `is_tall_list([58, 70, 60]) == ['Too short', 'Tall enough', 'Tall enough']`"
   ]
  },
  {
   "cell_type": "code",
   "execution_count": 108,
   "metadata": {},
   "outputs": [
    {
     "data": {
      "text/plain": [
       "['Too short', 'Tall enough', 'Tall enough']"
      ]
     },
     "execution_count": 108,
     "metadata": {},
     "output_type": "execute_result"
    }
   ],
   "source": [
    "def is_tall_list(heights):\n",
    "    \"\"\"Returns a list of strings expressing whether the respective height in `heights` is tall enough.\"\"\"\n",
    "    return [is_tall(h) for h in heights]\n",
    "\n",
    "is_tall_list([58, 70, 60])"
   ]
  },
  {
   "cell_type": "markdown",
   "metadata": {},
   "source": [
    "80) Write a function that takes in a numeric grade (0 to 100) and returns the letter grade (no pluses or minuses). In a traditional rubric, that would be as follows:\n",
    "\n",
    "* 90 or above = A\n",
    "* 80 - 89 = B\n",
    "* 70 - 79 = C\n",
    "* 60 - 69 = D\n",
    "* 59 or below = F\n",
    "    \n",
    "    \n",
    "* _Example:_ `letter_grade(85) == 'B'`"
   ]
  },
  {
   "cell_type": "code",
   "execution_count": 109,
   "metadata": {},
   "outputs": [
    {
     "data": {
      "text/plain": [
       "'B'"
      ]
     },
     "execution_count": 109,
     "metadata": {},
     "output_type": "execute_result"
    }
   ],
   "source": [
    "def letter_grade(score):\n",
    "    \"\"\"Returns the letter grade for `score`.\"\"\"\n",
    "    if score >= 90: return 'A'\n",
    "    elif score >= 80: return 'B'\n",
    "    elif score >= 70: return 'C'\n",
    "    elif score >= 60: return 'D'\n",
    "    else: return 'F'\n",
    "\n",
    "letter_grade(85)"
   ]
  },
  {
   "cell_type": "markdown",
   "metadata": {},
   "source": [
    "81) Write _another_ function that takes a list of numeric grades and returns their letter grades. Use the function written above in your answer.\n",
    "\n",
    "* _Example:_ `letter_grades([85, 62, 90]) == ['B', 'D', 'A']`"
   ]
  },
  {
   "cell_type": "code",
   "execution_count": 110,
   "metadata": {},
   "outputs": [
    {
     "data": {
      "text/plain": [
       "['B', 'D', 'A']"
      ]
     },
     "execution_count": 110,
     "metadata": {},
     "output_type": "execute_result"
    }
   ],
   "source": [
    "def letter_grades(scores):\n",
    "    \"\"\"Returns a list of letter grades for each respective score in `scores`.\"\"\"\n",
    "    return [letter_grade(score) for score in scores]\n",
    "\n",
    "letter_grades([85, 62, 90])"
   ]
  },
  {
   "cell_type": "markdown",
   "metadata": {},
   "source": [
    "82) Write a function that takes in a string and returns the number of vowels in that string. (No, y is not a vowel).\n",
    "* _Example:_ `vowel_count('General Assembly') == 5`"
   ]
  },
  {
   "cell_type": "code",
   "execution_count": 111,
   "metadata": {},
   "outputs": [
    {
     "data": {
      "text/plain": [
       "5"
      ]
     },
     "execution_count": 111,
     "metadata": {},
     "output_type": "execute_result"
    }
   ],
   "source": [
    "def vowel_count(s):\n",
    "    \"\"\"Returns the number of vowels in the string `s`.\"\"\"\n",
    "    return sum(c in 'aeiou' for c in s.lower())\n",
    "\n",
    "vowel_count('General Assembly')"
   ]
  },
  {
   "cell_type": "markdown",
   "metadata": {},
   "source": [
    "83) Write a function that takes in a string and returns that string with its consonants capitalized and vowels lowercased.\n",
    "\n",
    "* _Example:_ `toggle_case('General Assembly') == 'GeNeRaL aSSeMBLY'`"
   ]
  },
  {
   "cell_type": "code",
   "execution_count": 112,
   "metadata": {},
   "outputs": [
    {
     "data": {
      "text/plain": [
       "'GeNeRaL aSSeMBLY'"
      ]
     },
     "execution_count": 112,
     "metadata": {},
     "output_type": "execute_result"
    }
   ],
   "source": [
    "def toggle_case(s):\n",
    "    \"\"\"Returns a string with uppercase consonants and lowercase vowels in the string `s`.\"\"\"\n",
    "    return ''.join(c.lower() if c in 'aeiou' else c.upper() for c in s.lower())\n",
    "\n",
    "toggle_case('General Assembly')"
   ]
  },
  {
   "cell_type": "markdown",
   "metadata": {},
   "source": [
    "84) Write a function that takes in a string and returns that string with its vowels removed.\n",
    "* _Example:_ `disemvowel('Python is my favorite language') == 'Pythn s my fvrt lngg'`"
   ]
  },
  {
   "cell_type": "code",
   "execution_count": 113,
   "metadata": {},
   "outputs": [
    {
     "data": {
      "text/plain": [
       "'Pythn s my fvrt lngg'"
      ]
     },
     "execution_count": 113,
     "metadata": {},
     "output_type": "execute_result"
    }
   ],
   "source": [
    "def disemvowel(s):\n",
    "    \"\"\"Removes the vowels from the string `s`.\"\"\"\n",
    "    return ''.join(c for c in s if c not in 'aeiou')\n",
    "\n",
    "disemvowel('Python is my favorite language')"
   ]
  },
  {
   "cell_type": "markdown",
   "metadata": {},
   "source": [
    "85) Write a function that takes in a string and returns that string with its vowels removed _unless it's a one-letter word_, in which case leave the vowel intact. You should use your answer in the previous problem to answer this.\n",
    "* _Example:_ `smart_disemvowel('I love Python programming') == 'I lv Pythn prgrmmng'`"
   ]
  },
  {
   "cell_type": "code",
   "execution_count": 114,
   "metadata": {},
   "outputs": [
    {
     "name": "stdout",
     "output_type": "stream",
     "text": [
      "Pythn s my fvrt lngg\n"
     ]
    },
    {
     "data": {
      "text/plain": [
       "'a'"
      ]
     },
     "execution_count": 114,
     "metadata": {},
     "output_type": "execute_result"
    }
   ],
   "source": [
    "def smart_disemvowel(s):\n",
    "    \"\"\"Removes the vowels from the string `s`, unless `s` is a single character.\"\"\"\n",
    "    return s if len(s) == 1 else disemvowel(s)\n",
    "\n",
    "print(smart_disemvowel('Python is my favorite language'))\n",
    "smart_disemvowel('a')"
   ]
  },
  {
   "cell_type": "markdown",
   "metadata": {},
   "source": [
    "86) Write a function that takes in a string (likely multiple words long) and returns that string with the order of the words reversed.\n",
    "* _Example:_ `word_reverser('Data science is cool') == 'cool is science Data'`"
   ]
  },
  {
   "cell_type": "code",
   "execution_count": 115,
   "metadata": {},
   "outputs": [
    {
     "data": {
      "text/plain": [
       "'cool is science Data'"
      ]
     },
     "execution_count": 115,
     "metadata": {},
     "output_type": "execute_result"
    }
   ],
   "source": [
    "def word_reverser(s):\n",
    "    \"\"\"Reverses the order of words in the string `s`.\"\"\"\n",
    "    return ' '.join(reversed(s.split(' ')))\n",
    "\n",
    "word_reverser('Data science is cool')"
   ]
  },
  {
   "cell_type": "markdown",
   "metadata": {},
   "source": [
    "87) Write a function that takes in a string (likely multiple words long) and returns that string with each word reversed, but with the words in the same order.\n",
    "* _Example:_ `letter_reverser('Data science is cool') == 'ataD ecneics si looc'`"
   ]
  },
  {
   "cell_type": "code",
   "execution_count": 116,
   "metadata": {},
   "outputs": [
    {
     "data": {
      "text/plain": [
       "'ataD ecneics si looc'"
      ]
     },
     "execution_count": 116,
     "metadata": {},
     "output_type": "execute_result"
    }
   ],
   "source": [
    "# Could also use w[::-1]\n",
    "\n",
    "def letter_reverser(s):\n",
    "    \"\"\"Reverses the letters in the string `s`.\"\"\"\n",
    "    return ' '.join(''.join(reversed(w)) for w in s.split(' '))\n",
    "\n",
    "letter_reverser(\"Data science is cool\")"
   ]
  },
  {
   "cell_type": "markdown",
   "metadata": {},
   "source": [
    "88) Write a function that converts a string to \"leet speak\". Leet speak is a made-up internet language which you replace characters with symbols that look like those characters. For example:\n",
    "\n",
    "* _Example:_ `to_leet_speak('i am elite') == '! @M 31!73'`\n",
    "* _Hint:_ Recall what `.get()` does when called on a dictionary? Will this help you with spaces or other non-letter characters?\n",
    "\n",
    "_Note:_ This problem is borrowed from [this](https://www.codewars.com/kata/toleetspeak) wonderful Codewars challenge!\n",
    "\n",
    "Below is the English-to-leet dictionary:"
   ]
  },
  {
   "cell_type": "code",
   "execution_count": 117,
   "metadata": {},
   "outputs": [],
   "source": [
    "LEET_DICT = {'A' : '@', 'B' : '8', 'C' : '(', 'D' : 'D', 'E' : '3',\n",
    "             'F' : 'F', 'G' : '6', 'H' : '#', 'I' : '!', 'J' : 'J',\n",
    "             'K' : 'K', 'L' : '1', 'M' : 'M', 'N' : 'N', 'O' : '0',\n",
    "             'P' : 'P', 'Q' : 'Q', 'R' : 'R', 'S' : '$', 'T' : '7',\n",
    "             'U' : 'U', 'V' : 'V', 'W' : 'W', 'X' : 'X', 'Y' : 'Y',\n",
    "             'Z' : '2'}"
   ]
  },
  {
   "cell_type": "code",
   "execution_count": 118,
   "metadata": {},
   "outputs": [
    {
     "data": {
      "text/plain": [
       "'! @M 31!73'"
      ]
     },
     "execution_count": 118,
     "metadata": {},
     "output_type": "execute_result"
    }
   ],
   "source": [
    "def to_leet_speak(s):\n",
    "    \"\"\"Converts `s` to leet speak.\"\"\"\n",
    "    return ''.join(LEET_DICT.get(c, c) for c in s.upper())   # If `c` does not exist in LEET_DICT, just append `c` to the string.\n",
    "\n",
    "to_leet_speak(\"i am elite\")"
   ]
  },
  {
   "cell_type": "markdown",
   "metadata": {},
   "source": [
    "89) Write an `is_prime` function that takes in a number and returns a boolean of whether or not that number was prime. (_Hint:_ You already did this in a previous section.)\n",
    "\n",
    "* _Example:_ `is_prime(5) == True`\n",
    "* _Example:_ `is_prime(6) == False`"
   ]
  },
  {
   "cell_type": "code",
   "execution_count": 119,
   "metadata": {},
   "outputs": [],
   "source": [
    "def is_prime(num):\n",
    "    if num < 2: return False      # Numbers < 2 are not prime\n",
    "    \n",
    "    # A number is prime if it is divisible only by 1 and itself.\n",
    "    # - So, if any other number inbetween is a divisor, then the number is not prime\n",
    "    for test_num in range(2, num):\n",
    "        if num % test_num == 0:      # `test_num` divides evenly into `num`\n",
    "            return False\n",
    "    \n",
    "    return True\n",
    "\n",
    "# == TESTS ==\n",
    "# Assert that 5 is prime and 6 is not prime.\n",
    "# - Nothing will be displayed if the assertions are true.\n",
    "# - So, the tests pass if nothing is displayed.\n",
    "assert(is_prime(5) == True)\n",
    "assert(is_prime(6) == False)"
   ]
  },
  {
   "cell_type": "markdown",
   "metadata": {},
   "source": [
    "90) Write a function that takes in a number and returns the sum of all primes less than or equal to that number. You'll need your answer to the previous problem to answer this.\n",
    "* _Example:_ `sum_primes(11) == 2 + 3 + 5 + 7 + 11 == 28`\n",
    "* _Bonus:_ Can you do this in one line with a listcomp?"
   ]
  },
  {
   "cell_type": "code",
   "execution_count": 120,
   "metadata": {},
   "outputs": [
    {
     "data": {
      "text/plain": [
       "28"
      ]
     },
     "execution_count": 120,
     "metadata": {},
     "output_type": "execute_result"
    }
   ],
   "source": [
    "def sum_primes(max_n):\n",
    "    return sum(n for n in range(2, max_n+1) if is_prime(n))\n",
    "\n",
    "sum_primes(11)"
   ]
  },
  {
   "cell_type": "markdown",
   "metadata": {},
   "source": [
    "# Section VIII: What's next?"
   ]
  },
  {
   "cell_type": "markdown",
   "metadata": {},
   "source": [
    "## Section VIIIa: Virtual Practice\n",
    "\n",
    "Now that we've got a handle on the basics (and a few problems much more difficult than \"basic\"), what do we do next? If you'd like some more difficult challenges, sign up for [Codewars](https://www.codewars.com)! Codewars is a website in which you are repeatedly given coding challenges that get progressively more difficult. You earn XP and level up, giving you harder and harder problems. Below is an ever-updating list of coding challenges that we recommend. Some of them are Codewars challenges, some from other resources:"
   ]
  },
  {
   "cell_type": "markdown",
   "metadata": {},
   "source": [
    "* [Run-length Encoding](https://www.codewars.com/kata/run-length-encoding-1) (Codewars)\n",
    "* [Permutations](https://leetcode.com/problems/permutations/) (Leetcode)\n",
    "* [\"1-Dimensional Candy Crush\"](https://leetcode.com/discuss/interview-question/380650/bloomberg-phone-screen-candy-crush-1d) (Leetcode)"
   ]
  },
  {
   "cell_type": "markdown",
   "metadata": {},
   "source": [
    "## Section VIIIb: Real Interview Challenges\n",
    "Below are interesting challenges stolen directly from real interviews! These challenges have been reported from both GA students and GA instructors. If you find a good one in your future interviews, please come back and tell us! This section of the ladder is ever-updating."
   ]
  },
  {
   "cell_type": "markdown",
   "metadata": {},
   "source": [
    "### File Permissions\n",
    "In UNIX-like systems (eg, Mac and Linux), the permissions on certain files are given by short 9-character codes. These characters represent the read (**r**), write (**w**), and execute (**x**) permissions of the owner, assigned group, and all users, respectively. For example, the code\n",
    "\n",
    "`rwx------`\n",
    "\n",
    "means the file owner has all 3 kinds of permissions, but no one else can do anything. Another common code is \n",
    "\n",
    "`rwxr-xr-x`\n",
    "\n",
    "which means that everyone can read and execute the file, but only the owner has permission to write to it (that is, to change it). You can see these permissions yourself by typing `ls -l` from your command line!\n",
    "\n",
    "In order to further save space, these codes are often saved as a 3-digit number, where each digit corresponds to the sum of the values of `r`, `w`, and `x`. `r` is worth 4, `w` is worth 2, `x` is worth 1, and `-` is worth 0. For example, `rwx------` is shortened to the code `700`, and `rwxr-xr-x` is `755`.\n",
    "\n",
    "Your challenge is to write a function that shortens the \"permission string\" to its corresponding \"permission code\" (properly known as its \"octal notation\"). Please note that the output of your function should be an integer, not a string! You can assume the \"permission string\" is always valid.\n",
    "\n",
    "* _Example:_ `permissions_to_octa(\"rwxr-xr-x\") = 755`"
   ]
  },
  {
   "cell_type": "code",
   "execution_count": 121,
   "metadata": {},
   "outputs": [
    {
     "name": "stdout",
     "output_type": "stream",
     "text": [
      "755\n",
      "600\n"
     ]
    }
   ],
   "source": [
    "# METHOD ONE\n",
    "def permissions_to_octal(permissions):\n",
    "    permission_dict = {'r': 4, 'w': 2, 'x': 1, '-': 0}\n",
    "    \n",
    "    p_owner = sum([permission_dict[char] for char in permissions[:3]])\n",
    "    p_group = sum([permission_dict[char] for char in permissions[3:6]])\n",
    "    p_users = sum([permission_dict[char] for char in permissions[-3:]])\n",
    "    \n",
    "    return int(f\"{p_owner}{p_group}{p_users}\")\n",
    "\n",
    "# TEST\n",
    "print(permissions_to_octal('rwxr-xr-x'))   # 755\n",
    "print(permissions_to_octal('rw-------'))   # 600"
   ]
  },
  {
   "cell_type": "code",
   "execution_count": 122,
   "metadata": {},
   "outputs": [
    {
     "name": "stdout",
     "output_type": "stream",
     "text": [
      "755\n",
      "600\n"
     ]
    }
   ],
   "source": [
    "# METHOD TWO\n",
    "# A good strategy is to break down the problem into two simpler parts:\n",
    "#   1. First, compute the octal digit for a 3-char string, e.g. \"rwx\" is 7.     <-- Below, this is the function 'octal'\n",
    "#   2. Then, split the string into 3-char chunks and combine the resulting octal codes.\n",
    "\n",
    "def permissions_to_octal(p):\n",
    "    \"\"\"Returns the 3-digit octal code given permissions string `p`, e.g. 'rwxr-xr-x' is 755.\"\"\"\n",
    "    \n",
    "    def octal(p3):\n",
    "        \"\"\"Returns the octal digit for a 3-char permission string `p3`, e.g. 'rwx' is 7.\"\"\"\n",
    "        return 4*(p3[0]=='r') + 2*(p3[1]=='w') + 1*(p3[2]=='x')\n",
    "    \n",
    "    # Break the permissions into three 3-char strings. Multiply each score by its base-10 position.\n",
    "    return 100*octal(p[:3]) + 10*octal(p[3:6]) + 1*octal(p[6:])\n",
    "\n",
    "\n",
    "# TEST\n",
    "print(permissions_to_octal('rwxr-xr-x'))   # 755\n",
    "print(permissions_to_octal('rw-------'))   # 600"
   ]
  },
  {
   "cell_type": "code",
   "execution_count": null,
   "metadata": {},
   "outputs": [],
   "source": []
  },
  {
   "cell_type": "code",
   "execution_count": 123,
   "metadata": {},
   "outputs": [],
   "source": [
    "# A few notes:\n",
    "# 1. Having trouble approaching the problem? Start by solving examples by hand on paper.\n",
    "#    - If you can't solve some examples yourself, then you have a low chance of writing correct Python code!\n",
    "#    - Once you do this, it will become easier seeing the need for these two steps, since it is what you do naturally by hand.\n",
    "\n",
    "# 2. Note our function does not detect invalid strings -- if this was an interview, make sure you \"raise\" this with the interviewer!\n",
    "\n",
    "# 3. One exception to the \"spaces before and after each operator\" rule is if the operator is not outermost.\n",
    "#    Examples:\n",
    "#       - In `1 + 2*3 + 4*5*6 + 7`, there is no need for spaces around `*`, since `+` is outermost.\n",
    "#       - (See the function above for more examples, where `+` is again outermost and `*` and `==` are not.)\n",
    "#       - This is to enhance readability.\n",
    "\n",
    "# 4. Above, we define an \"inner function.\" Do not be scared by this! \n",
    "#    - We are just declaring a new local variable `octal` that only exists inside the function `permissions_to_octal`.\n",
    "#    - We do this because `octal` is ONLY used inside `permissions_to_octal`, \n",
    "#         so it doesn't make sense to declare it elsewhere. (This is a programming principle called \"encapsulation.\")\n",
    "\n",
    "# 5. Writing 1* above is unnecessary but written for clarity, to show how it is similar to the other multiples."
   ]
  },
  {
   "cell_type": "markdown",
   "metadata": {},
   "source": [
    "### Grocery Bags\n",
    "A large grocery bag can hold 5 items, while a small grocery bag can hold only 1. The numbers of each size bag available may be limited. All items must be placed in a bag and each bag must be filled completely. For example, if we have 16 items, 2 large bags, and 10 small bags, 8 total bags are needed. 2 large bags + 6 small bags = 16 items in 8 bags.\n",
    "\n",
    "Write a function to calculate the **minimum** number of bags needed. If it's not possible to meet these conditions, return `-1`.\n",
    "\n",
    "* `min_bags(16, 2, 10) = 8`\n",
    "* `min_bags(20, 2, 2) = -1`"
   ]
  },
  {
   "cell_type": "code",
   "execution_count": 124,
   "metadata": {},
   "outputs": [],
   "source": [
    "# Start by trying some by hand using pencil and paper.\n",
    "# - You will realize that we must first exhaust the 5-item bags,\n",
    "#      then put everything else into 1-item bags.\n",
    "def min_bags(num_items, avail_large, avail_small):\n",
    "    \"\"\"\n",
    "    Return the least number of bags needed to hold `items` items, \n",
    "        given there are only `avail_large` 5-item bags and `avail_small` 1-item bags.\n",
    "    \"\"\"\n",
    "    num_large = min(num_items // 5, avail_large)   # We need `num_large` 5-item bags (at MOST `avail_large`)\n",
    "    num_small = num_items - 5*num_large            # We need `num_small` 1-item bags for everything else\n",
    "    \n",
    "    # If we need more 1-item bags than are available, return -1\n",
    "    return -1 if avail_small < num_small else num_large + num_small\n",
    "\n",
    "\n",
    "# TESTS\n",
    "assert(min_bags(16, 2, 10) == 8)\n",
    "assert(min_bags(20, 2, 2) == -1)"
   ]
  },
  {
   "cell_type": "code",
   "execution_count": 125,
   "metadata": {},
   "outputs": [],
   "source": [
    "# Let's break this logic down more if it is still confusing:\n",
    "#   We will fill the large bags first, then put what's left into small bags.\n",
    "\n",
    "# == LARGE BAGS ==\n",
    "# How many large bags do we need?\n",
    "# - `num_items // 5` is a normal division where the decimal part is truncated. (It is the \"quotient.\")\n",
    "# - Let's say we have 21 items, 3 large bags, and 3 small bags. How many large bags will we use?\n",
    "#     - At most, we could fill `num_items // 5 == 4` large bags.\n",
    "#     - However, we only have 3 large bags.\n",
    "#     - So, we will use `min(num_items // 5, 3) == 3` large bags.\n",
    "\n",
    "# == SMALL BAGS ==\n",
    "# Now that we've filled our large bags, how many small bags do we need?\n",
    "# - Again, let's say we have 21 items, 3 large bags, and 3 small bags.\n",
    "#     - If we fill our 3 large bags, we are left with: 21 - 3 * 5 = 6 items.\n",
    "#     - Since we only have 3 small bags, we'll return -1. \n",
    "#     - If instead we had >= 6 small bags, we would have returned 3 large + 6 small = 9 bags."
   ]
  },
  {
   "cell_type": "code",
   "execution_count": 126,
   "metadata": {},
   "outputs": [],
   "source": [
    "# Note we did not replace the constant 5 within the code, as we've recommended earlier.\n",
    "#   - The best practice for adding a constant within a function is to add it as\n",
    "#        an optional named parameter. This allows the end-user to change the constant!\n",
    "#   - Also note that our solution code only holds when the small bags hold 1 item!\n",
    "#        So, we will not allow modification of the small-bag size.\n",
    "\n",
    "# Here is an example of moving the constant `5` into a default-value function parameter.\n",
    "# This would be the preferred solution.\n",
    "def min_bags(num_items, avail_large, avail_small, ITEMS_PER_LARGE=5):\n",
    "    \"\"\"\n",
    "    Return the least number of bags needed to hold `items` items, given there are only:\n",
    "        + `avail_large` ITEMS_PER_LARGE-item bags and \n",
    "        + `avail_small` 1-item bags.\n",
    "    \"\"\"\n",
    "    num_large = min(num_items // ITEMS_PER_LARGE, avail_large)  # The code is easier to understand, since\n",
    "    num_small = num_items - ITEMS_PER_LARGE*num_large           #   the '5' constant now has a readable name!\n",
    "    \n",
    "    # If we need more 1-item bags than are available, return -1\n",
    "    return -1 if avail_small < num_small else num_large + num_small\n",
    "\n",
    "\n",
    "# TESTS\n",
    "assert(min_bags(16, 2, 10) == 8)\n",
    "assert(min_bags(20, 2, 2) == -1)"
   ]
  }
 ],
 "metadata": {
  "kernelspec": {
   "display_name": "Python 3",
   "language": "python",
   "name": "python3"
  },
  "language_info": {
   "codemirror_mode": {
    "name": "ipython",
    "version": 3
   },
   "file_extension": ".py",
   "mimetype": "text/x-python",
   "name": "python",
   "nbconvert_exporter": "python",
   "pygments_lexer": "ipython3",
   "version": "3.8.5"
  }
 },
 "nbformat": 4,
 "nbformat_minor": 4
}
