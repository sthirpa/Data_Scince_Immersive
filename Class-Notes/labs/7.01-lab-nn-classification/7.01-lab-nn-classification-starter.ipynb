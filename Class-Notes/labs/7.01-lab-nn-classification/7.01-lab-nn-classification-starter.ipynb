{
 "cells": [
  {
   "cell_type": "markdown",
   "metadata": {
    "id": "zwBCE43Cv3PH"
   },
   "source": [
    "## Lab 7.01 Neural Network Binary Classification\n",
    "_By: Jeff Hale_"
   ]
  },
  {
   "cell_type": "markdown",
   "metadata": {
    "id": "UmyEaf4Awl2v"
   },
   "source": [
    "This lab uses a small [dataset](https://archive.ics.uci.edu/ml/datasets/heart+Disease) provided by the Cleveland Clinic Foundation for Heart Disease. The goal is to predict whether a patient has heart disease (the *target* column)."
   ]
  },
  {
   "cell_type": "markdown",
   "metadata": {
    "id": "uyVxPib57SeE"
   },
   "source": [
    "We suggest running this lab in [Google Colab](https://colab.research.google.com/). \n",
    "\n",
    "Go *File*->*Upload notebook* to upload this notebook to colab.\n",
    "\n",
    "If you are working in Colab and want to see if you can get a speed boost, set your runtime to *TPU* by going to *Runtime* -> *Change runtime type* in the menu above. \n",
    "\n",
    "The processor type won't make a big difference with this small dataset and small networks, but it's good to know how to change the processor."
   ]
  },
  {
   "cell_type": "markdown",
   "metadata": {
    "id": "iiyC7HkqxlUD"
   },
   "source": [
    "### Read data and load using pandas\n",
    "\n",
    "#### Imports"
   ]
  },
  {
   "cell_type": "code",
   "execution_count": null,
   "metadata": {
    "id": "5IoRbCA2n0_V"
   },
   "outputs": [],
   "source": [
    "import pandas as pd\n",
    "import numpy as np\n",
    "import matplotlib.pyplot as plt\n",
    "import tensorflow as tf\n",
    "from sklearn.model_selection import train_test_split"
   ]
  },
  {
   "cell_type": "markdown",
   "metadata": {
    "id": "-2kBGy_pxn47"
   },
   "source": [
    "Retrieve the csv file containing the heart dataset that ships with TensorFlow."
   ]
  },
  {
   "cell_type": "code",
   "execution_count": null,
   "metadata": {
    "colab": {
     "base_uri": "https://localhost:8080/",
     "height": 52
    },
    "id": "VS4w2LePn9g3",
    "outputId": "72198c8f-7e31-47a3-c44f-36bc16fab4be"
   },
   "outputs": [],
   "source": [
    "csv_file = tf.keras.utils.get_file('heart.csv', 'https://storage.googleapis.com/applied-dl/heart.csv')"
   ]
  },
  {
   "cell_type": "markdown",
   "metadata": {
    "id": "6BXRPD2-xtQ1"
   },
   "source": [
    "#### Load the csv file using pandas"
   ]
  },
  {
   "cell_type": "code",
   "execution_count": null,
   "metadata": {
    "id": "UEfJ8TcMpe-2"
   },
   "outputs": [],
   "source": []
  },
  {
   "cell_type": "markdown",
   "metadata": {},
   "source": [
    "#### Inspect"
   ]
  },
  {
   "cell_type": "code",
   "execution_count": null,
   "metadata": {
    "colab": {
     "base_uri": "https://localhost:8080/",
     "height": 137
    },
    "id": "8FkK6QIRpjd4",
    "outputId": "8cdcb9ba-6ff0-4ef1-c328-0d5f34351af3"
   },
   "outputs": [],
   "source": []
  },
  {
   "cell_type": "code",
   "execution_count": null,
   "metadata": {
    "colab": {
     "base_uri": "https://localhost:8080/",
     "height": 390
    },
    "id": "_MOAKz654CT5",
    "outputId": "f2efc25e-bee3-4be3-f42a-db8886d74832"
   },
   "outputs": [],
   "source": []
  },
  {
   "cell_type": "markdown",
   "metadata": {
    "id": "4iIvlwqwWoWc"
   },
   "source": [
    "#### Check the value counts of the columns that are objects"
   ]
  },
  {
   "cell_type": "code",
   "execution_count": null,
   "metadata": {
    "colab": {
     "base_uri": "https://localhost:8080/",
     "height": 123
    },
    "id": "dP3Z4KoDstlZ",
    "outputId": "64183a3b-cbdb-4065-a166-a1fab53dce37"
   },
   "outputs": [],
   "source": []
  },
  {
   "cell_type": "markdown",
   "metadata": {
    "id": "WWRhH6r4xxQu"
   },
   "source": [
    "You could load data into a format for TensorFlow using `tf.data.Dataset`, but these are unwieldly - it's a serious pain to create a validation dataset from a TF dataset. You used to have to make your data into NumPy arrays for TensorFlow. Now you can just keep them as pandas DataFrames!"
   ]
  },
  {
   "cell_type": "markdown",
   "metadata": {},
   "source": [
    "#### Set up X and y\n",
    "Convert `ChestPain`, `Thal`, and `AHD` (the target) columns to numeric.\n",
    "To convert features to numeric, feel free to give this friendlier OHE a try:\n",
    "```\n",
    "!pip install category_encoders \n",
    "import category_encoders as ce\n",
    "```"
   ]
  },
  {
   "cell_type": "code",
   "execution_count": null,
   "metadata": {
    "colab": {
     "base_uri": "https://localhost:8080/",
     "height": 107
    },
    "id": "2wwhILm1ycSp",
    "outputId": "4742d2bb-4cc7-4f18-b583-23f757c97d50"
   },
   "outputs": [],
   "source": []
  },
  {
   "cell_type": "code",
   "execution_count": null,
   "metadata": {
    "colab": {
     "base_uri": "https://localhost:8080/",
     "height": 70
    },
    "id": "p68OVEx7fLOt",
    "outputId": "74004248-6c80-42c4-c8f3-c36c226df7f7"
   },
   "outputs": [],
   "source": []
  },
  {
   "cell_type": "code",
   "execution_count": null,
   "metadata": {},
   "outputs": [],
   "source": []
  },
  {
   "cell_type": "code",
   "execution_count": null,
   "metadata": {},
   "outputs": [],
   "source": []
  },
  {
   "cell_type": "markdown",
   "metadata": {},
   "source": [
    "#### Train-test split"
   ]
  },
  {
   "cell_type": "code",
   "execution_count": null,
   "metadata": {
    "id": "LcP1WjczZUdo"
   },
   "outputs": [],
   "source": []
  },
  {
   "cell_type": "markdown",
   "metadata": {
    "id": "9CyGI5BA-faC"
   },
   "source": [
    "#### Set the TensorFlow random seed"
   ]
  },
  {
   "cell_type": "code",
   "execution_count": null,
   "metadata": {
    "id": "HEfRLI8j-ZQs"
   },
   "outputs": [],
   "source": []
  },
  {
   "cell_type": "markdown",
   "metadata": {
    "id": "bB9C0XJkyQEk"
   },
   "source": [
    "## Create and train a model\n",
    "\n",
    "#### Create model structure"
   ]
  },
  {
   "cell_type": "code",
   "execution_count": null,
   "metadata": {
    "colab": {
     "base_uri": "https://localhost:8080/",
     "height": 34
    },
    "id": "FQd9PcPRpkP4",
    "outputId": "71765ffd-02b8-4d64-d468-b2d2c47b453f"
   },
   "outputs": [],
   "source": []
  },
  {
   "cell_type": "markdown",
   "metadata": {},
   "source": [
    "#### Visualize the structure"
   ]
  },
  {
   "cell_type": "code",
   "execution_count": null,
   "metadata": {
    "colab": {
     "base_uri": "https://localhost:8080/",
     "height": 301
    },
    "id": "xpIoUWSxgUBb",
    "outputId": "41a1d588-d1ae-43ba-dc46-944f68e91427"
   },
   "outputs": [],
   "source": []
  },
  {
   "cell_type": "code",
   "execution_count": null,
   "metadata": {
    "colab": {
     "base_uri": "https://localhost:8080/",
     "height": 533
    },
    "id": "sjHkd6kGy_oR",
    "outputId": "57183cf4-7f14-430c-b4f3-0a0138b9aeab"
   },
   "outputs": [],
   "source": []
  },
  {
   "cell_type": "markdown",
   "metadata": {
    "id": "T12mvCrqpXOX"
   },
   "source": [
    "#### Compile"
   ]
  },
  {
   "cell_type": "code",
   "execution_count": null,
   "metadata": {
    "id": "fPzix0n5xPHc"
   },
   "outputs": [],
   "source": []
  },
  {
   "cell_type": "markdown",
   "metadata": {
    "id": "nlV0i6J4o-Yg"
   },
   "source": [
    "#### Make an EarlyStopping callback"
   ]
  },
  {
   "cell_type": "code",
   "execution_count": null,
   "metadata": {
    "id": "ybDzNUheqxJw"
   },
   "outputs": [],
   "source": []
  },
  {
   "cell_type": "markdown",
   "metadata": {
    "id": "gaEz3a5BpLxr"
   },
   "source": [
    "#### Fit the model"
   ]
  },
  {
   "cell_type": "code",
   "execution_count": null,
   "metadata": {
    "id": "GTxY6vPrpJkl"
   },
   "outputs": [],
   "source": []
  },
  {
   "cell_type": "markdown",
   "metadata": {
    "id": "8rOk1tBrkwOo"
   },
   "source": [
    "#### Plot model performance on the validation data (accuracy, recall, and precision)"
   ]
  },
  {
   "cell_type": "code",
   "execution_count": null,
   "metadata": {
    "colab": {
     "base_uri": "https://localhost:8080/",
     "height": 264
    },
    "id": "J0KM_xsoDW3P",
    "outputId": "5b83b18b-0e8b-427e-bda6-c3ebe14f7d89"
   },
   "outputs": [],
   "source": []
  },
  {
   "cell_type": "markdown",
   "metadata": {
    "id": "ltQkFibkzAMb"
   },
   "source": [
    "#### Save model"
   ]
  },
  {
   "cell_type": "code",
   "execution_count": null,
   "metadata": {
    "colab": {
     "base_uri": "https://localhost:8080/",
     "height": 34
    },
    "id": "b4477jxw71mZ",
    "outputId": "f69379ab-9849-42f4-9e03-79e18697c3b7"
   },
   "outputs": [],
   "source": []
  },
  {
   "cell_type": "code",
   "execution_count": null,
   "metadata": {
    "colab": {
     "base_uri": "https://localhost:8080/",
     "height": 34
    },
    "id": "-EPOGHaHdsZm",
    "outputId": "f0b2c26c-3ab1-4fa0-9eec-378bf3e6bbf4"
   },
   "outputs": [],
   "source": []
  },
  {
   "cell_type": "markdown",
   "metadata": {
    "id": "wgSH6wUwEDp2"
   },
   "source": [
    "#### Load model"
   ]
  },
  {
   "cell_type": "code",
   "execution_count": null,
   "metadata": {
    "id": "9DbjapJzd-ks"
   },
   "outputs": [],
   "source": []
  },
  {
   "cell_type": "code",
   "execution_count": null,
   "metadata": {
    "colab": {
     "base_uri": "https://localhost:8080/",
     "height": 301
    },
    "id": "nCUpyhGzeJWJ",
    "outputId": "ed94ac3b-d51b-49e6-96bb-4dae670adb01"
   },
   "outputs": [],
   "source": []
  },
  {
   "cell_type": "markdown",
   "metadata": {
    "id": "fs9fVkzQEGbN"
   },
   "source": [
    "#### Evaluate on test set "
   ]
  },
  {
   "cell_type": "code",
   "execution_count": null,
   "metadata": {
    "colab": {
     "base_uri": "https://localhost:8080/",
     "height": 125
    },
    "id": "aSaWeerYEDFX",
    "outputId": "686e55e8-dcf5-442c-9167-f0dbc6b4893c"
   },
   "outputs": [],
   "source": []
  },
  {
   "cell_type": "code",
   "execution_count": null,
   "metadata": {
    "colab": {
     "base_uri": "https://localhost:8080/",
     "height": 125
    },
    "id": "cfU8XMPfECiL",
    "outputId": "ef684e21-e20f-45dd-c9f8-d5ee3276c5ac"
   },
   "outputs": [],
   "source": []
  },
  {
   "cell_type": "markdown",
   "metadata": {
    "id": "5olEwyc7D_ti"
   },
   "source": [
    "#### X_test predictions"
   ]
  },
  {
   "cell_type": "code",
   "execution_count": null,
   "metadata": {
    "id": "w5hEzXcbefof"
   },
   "outputs": [],
   "source": []
  },
  {
   "cell_type": "markdown",
   "metadata": {
    "id": "S4B1DOQOlIpD"
   },
   "source": [
    "#### What do those numbers look like? Let's get rid of that exponential notation and just round the predictions."
   ]
  },
  {
   "cell_type": "code",
   "execution_count": null,
   "metadata": {
    "id": "WxVEisOYw4Jr"
   },
   "outputs": [],
   "source": []
  },
  {
   "cell_type": "markdown",
   "metadata": {
    "id": "vzrZM0MTxDl9"
   },
   "source": [
    "#### How is the model performing? \n",
    "Let's look at the confusion matrix using TF."
   ]
  },
  {
   "cell_type": "code",
   "execution_count": null,
   "metadata": {
    "colab": {
     "base_uri": "https://localhost:8080/",
     "height": 70
    },
    "id": "i-KcKPNNDBdE",
    "outputId": "3b559b90-eb67-4bfc-c929-1baeafe48b76"
   },
   "outputs": [],
   "source": []
  },
  {
   "cell_type": "markdown",
   "metadata": {
    "id": "_Yk_wAPHwSme"
   },
   "source": [
    "Or just use sklearn's confusion matrix. "
   ]
  },
  {
   "cell_type": "code",
   "execution_count": null,
   "metadata": {
    "id": "w6gZHqa3wQgS"
   },
   "outputs": [],
   "source": []
  },
  {
   "cell_type": "markdown",
   "metadata": {
    "id": "i88nl2fLmmPo"
   },
   "source": [
    "#### Evaluate with other sklearn metrics"
   ]
  },
  {
   "cell_type": "code",
   "execution_count": null,
   "metadata": {
    "id": "3HS5qvVEp7Dt"
   },
   "outputs": [],
   "source": []
  },
  {
   "cell_type": "code",
   "execution_count": null,
   "metadata": {
    "colab": {
     "base_uri": "https://localhost:8080/",
     "height": 34
    },
    "id": "tFNRQNR8z0qp",
    "outputId": "325c0ac8-620b-45e2-a253-eac63ae59205"
   },
   "outputs": [],
   "source": []
  },
  {
   "cell_type": "code",
   "execution_count": null,
   "metadata": {
    "colab": {
     "base_uri": "https://localhost:8080/",
     "height": 34
    },
    "id": "F_BvhOiLqLd7",
    "outputId": "89c4a50f-e460-420f-b206-25d517fb0d42"
   },
   "outputs": [],
   "source": []
  },
  {
   "cell_type": "code",
   "execution_count": null,
   "metadata": {
    "colab": {
     "base_uri": "https://localhost:8080/",
     "height": 34
    },
    "id": "4tzu786xqRkm",
    "outputId": "69106fd2-c47a-4e1a-96e3-44cab0f01c06"
   },
   "outputs": [],
   "source": []
  },
  {
   "cell_type": "markdown",
   "metadata": {
    "id": "WygQswjBwBb4"
   },
   "source": [
    "### Make a null model"
   ]
  },
  {
   "cell_type": "code",
   "execution_count": null,
   "metadata": {
    "colab": {
     "base_uri": "https://localhost:8080/",
     "height": 70
    },
    "id": "6-J5CSa-wAt-",
    "outputId": "34c32d3a-c98f-49f8-f6f7-9587a04cbd85"
   },
   "outputs": [],
   "source": []
  },
  {
   "cell_type": "markdown",
   "metadata": {
    "id": "aWNUxsZshX71"
   },
   "source": [
    "## Can you make a better model?\n",
    "\n",
    "Change the model architecture and see if you can make a better model. Add nodes, dense layers, and dropout layers."
   ]
  },
  {
   "cell_type": "code",
   "execution_count": null,
   "metadata": {
    "id": "-vuo0gPswEjU"
   },
   "outputs": [],
   "source": []
  },
  {
   "cell_type": "markdown",
   "metadata": {
    "id": "P2g8fNYPhe5t"
   },
   "source": [
    "#### Save your best model. \n"
   ]
  },
  {
   "cell_type": "code",
   "execution_count": null,
   "metadata": {},
   "outputs": [],
   "source": []
  },
  {
   "cell_type": "markdown",
   "metadata": {
    "id": "8Y2AqHwEh4A_"
   },
   "source": [
    "#### Compare with other algorithms\n",
    "Compare your best neural net model to a scikit-learn LogisticRegression model. Also try a GradientBoostingClassifier."
   ]
  },
  {
   "cell_type": "markdown",
   "metadata": {
    "id": "HtoS8JaYyWOM"
   },
   "source": [
    "#### Scale/Standardize for Logistic Regression\n"
   ]
  },
  {
   "cell_type": "code",
   "execution_count": null,
   "metadata": {
    "id": "A5_RtKAkuN4l"
   },
   "outputs": [],
   "source": []
  },
  {
   "cell_type": "markdown",
   "metadata": {
    "id": "sWIVhO5tyaEt"
   },
   "source": [
    "#### Logistic Regression"
   ]
  },
  {
   "cell_type": "code",
   "execution_count": null,
   "metadata": {
    "colab": {
     "base_uri": "https://localhost:8080/",
     "height": 34
    },
    "id": "jtSp1DXxusim",
    "outputId": "239139f6-71e3-4f92-84fa-f6021cf39c4b"
   },
   "outputs": [],
   "source": []
  },
  {
   "cell_type": "code",
   "execution_count": null,
   "metadata": {
    "colab": {
     "base_uri": "https://localhost:8080/",
     "height": 34
    },
    "id": "yj-0NL51xEU8",
    "outputId": "e5f15037-5728-4f3b-8af1-3ed0f179e27b"
   },
   "outputs": [],
   "source": []
  },
  {
   "cell_type": "code",
   "execution_count": null,
   "metadata": {
    "id": "jUz6DIErzVGU"
   },
   "outputs": [],
   "source": []
  },
  {
   "cell_type": "markdown",
   "metadata": {
    "id": "gp1fbbJXzDCC"
   },
   "source": [
    "#### Evaluate performance on metrics other than accuracy"
   ]
  },
  {
   "cell_type": "code",
   "execution_count": null,
   "metadata": {
    "colab": {
     "base_uri": "https://localhost:8080/",
     "height": 34
    },
    "id": "De4E9nPhzDW0",
    "outputId": "e717be52-8423-4840-fdc1-d81f692f6a77"
   },
   "outputs": [],
   "source": []
  },
  {
   "cell_type": "code",
   "execution_count": null,
   "metadata": {
    "colab": {
     "base_uri": "https://localhost:8080/",
     "height": 34
    },
    "id": "83EvEGrCzNPZ",
    "outputId": "7ba5901d-0815-4b10-e573-2c9ecc209896"
   },
   "outputs": [],
   "source": []
  },
  {
   "cell_type": "code",
   "execution_count": null,
   "metadata": {
    "colab": {
     "base_uri": "https://localhost:8080/",
     "height": 34
    },
    "id": "dY3UfHTJ03vs",
    "outputId": "7951b49a-e8a6-4508-f7aa-6189b4382465"
   },
   "outputs": [],
   "source": []
  },
  {
   "cell_type": "markdown",
   "metadata": {
    "id": "E04fXBHexQdX"
   },
   "source": [
    "### GradientBoosting"
   ]
  },
  {
   "cell_type": "code",
   "execution_count": null,
   "metadata": {
    "colab": {
     "base_uri": "https://localhost:8080/",
     "height": 34
    },
    "id": "gSZYH3XyuXRe",
    "outputId": "06394eb3-0489-4dc4-99b4-16ac5c5f3cec"
   },
   "outputs": [],
   "source": []
  },
  {
   "cell_type": "code",
   "execution_count": null,
   "metadata": {
    "colab": {
     "base_uri": "https://localhost:8080/",
     "height": 87
    },
    "id": "fO5py5Xvyqon",
    "outputId": "94d443d2-2e5b-4967-e5c1-91d1a984e483"
   },
   "outputs": [],
   "source": []
  },
  {
   "cell_type": "code",
   "execution_count": null,
   "metadata": {
    "colab": {
     "base_uri": "https://localhost:8080/",
     "height": 34
    },
    "id": "kHMYGfyDvMcM",
    "outputId": "5ec643c5-12b9-40aa-ba05-a12fe76c12c7"
   },
   "outputs": [],
   "source": []
  },
  {
   "cell_type": "markdown",
   "metadata": {
    "id": "nojEwxvjy4f-"
   },
   "source": [
    "#### Evaluate performance on metrics other than accuracy"
   ]
  },
  {
   "cell_type": "code",
   "execution_count": null,
   "metadata": {
    "colab": {
     "base_uri": "https://localhost:8080/",
     "height": 34
    },
    "id": "Gl-9aQxZxiKg",
    "outputId": "33cff554-2999-4d4d-92ac-c541fed07780"
   },
   "outputs": [],
   "source": []
  },
  {
   "cell_type": "code",
   "execution_count": null,
   "metadata": {
    "colab": {
     "base_uri": "https://localhost:8080/",
     "height": 34
    },
    "id": "eRNkAj6jy2cY",
    "outputId": "39c8de0e-ba3e-428d-f638-4a400cbe6ea7"
   },
   "outputs": [],
   "source": []
  },
  {
   "cell_type": "code",
   "execution_count": null,
   "metadata": {
    "colab": {
     "base_uri": "https://localhost:8080/",
     "height": 34
    },
    "id": "gikwEMzMy7eD",
    "outputId": "af8c0188-c23c-4e27-947e-f070ec9b807d"
   },
   "outputs": [],
   "source": []
  },
  {
   "cell_type": "code",
   "execution_count": null,
   "metadata": {
    "colab": {
     "base_uri": "https://localhost:8080/",
     "height": 34
    },
    "id": "BtXTZ9Zo0-xn",
    "outputId": "b5673f9d-0d22-44c6-bcd0-8eeb3ee50bdc"
   },
   "outputs": [],
   "source": []
  },
  {
   "cell_type": "markdown",
   "metadata": {
    "id": "i1m6ZZ5UiKBX"
   },
   "source": [
    "#### Which evaluation metric(s) are best to use in this problem?"
   ]
  },
  {
   "cell_type": "markdown",
   "metadata": {
    "id": "xEBF6anpz9ta"
   },
   "source": []
  },
  {
   "cell_type": "markdown",
   "metadata": {
    "id": "qx8eLEhC3fC9"
   },
   "source": [
    "#### Which model would you recommend for use? Why?"
   ]
  },
  {
   "cell_type": "markdown",
   "metadata": {
    "id": "DgDvq3lc3WCd"
   },
   "source": []
  },
  {
   "cell_type": "markdown",
   "metadata": {
    "id": "OB8r5k5j34l4"
   },
   "source": [
    "\n",
    "#### If you used Google Colab, download your notebook and put it in your Submissions repo. 🎉"
   ]
  }
 ],
 "metadata": {
  "accelerator": "TPU",
  "colab": {
   "collapsed_sections": [],
   "name": "7.01-lab-nn-classification-solution.ipynb",
   "provenance": []
  },
  "kernelspec": {
   "display_name": "Python 3",
   "language": "python",
   "name": "python3"
  },
  "language_info": {
   "codemirror_mode": {
    "name": "ipython",
    "version": 3
   },
   "file_extension": ".py",
   "mimetype": "text/x-python",
   "name": "python",
   "nbconvert_exporter": "python",
   "pygments_lexer": "ipython3",
   "version": "3.8.8"
  }
 },
 "nbformat": 4,
 "nbformat_minor": 4
}
