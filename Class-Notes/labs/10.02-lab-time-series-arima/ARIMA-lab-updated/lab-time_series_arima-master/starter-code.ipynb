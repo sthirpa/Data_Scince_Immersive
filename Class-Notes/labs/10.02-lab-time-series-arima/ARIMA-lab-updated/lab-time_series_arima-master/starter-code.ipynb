{
 "cells": [
  {
   "cell_type": "markdown",
   "id": "45df8c75-84d0-4e3e-be32-099ee826c5ca",
   "metadata": {},
   "source": [
    "# ARIMA Lab\n",
    "\n",
    "One of the most common applications for ARIMA models is inventory planning. In this lab, you will be analyzing weekly Walmart sales data over a two year period from 2010 to 2012."
   ]
  },
  {
   "cell_type": "code",
   "execution_count": null,
   "id": "5d7d98a4-659b-4976-a260-a4dce7941ff2",
   "metadata": {},
   "outputs": [],
   "source": [
    "import matplotlib.pyplot as plt\n",
    "import pandas as pd\n",
    "\n",
    "from sklearn.metrics import mean_squared_error\n",
    "from sklearn.model_selection import train_test_split\n",
    "\n",
    "from statsmodels.graphics.tsaplots import plot_acf, plot_pacf\n",
    "from statsmodels.tsa.arima.model import ARIMA\n",
    "from statsmodels.tsa.statespace.sarimax import SARIMAX\n",
    "from statsmodels.tsa.stattools import adfuller\n",
    "\n",
    "import warnings # necessary b/c pandas & statsmodels datetime issue\n",
    "warnings.simplefilter(action=\"ignore\")"
   ]
  },
  {
   "cell_type": "markdown",
   "id": "06f2eb2f-fd82-48bb-b26c-bfbbd3941161",
   "metadata": {},
   "source": [
    "## Importing the data\n",
    "\n",
    "### Data checks: \n",
    "After importing, check the following:\n",
    "- Is there any missing data?\n",
    "- What are the column datatypes?\n",
    "- How many observations are there?\n",
    "- How many unique stores are there?\n",
    "- How many unique departments are there?"
   ]
  },
  {
   "cell_type": "code",
   "execution_count": null,
   "id": "588ad2ee-a089-4f13-9d9f-8d4a88545cdd",
   "metadata": {},
   "outputs": [],
   "source": [
    "walmart = pd.read_csv('datasets/train.csv')\n",
    "walmart.head(3)"
   ]
  },
  {
   "cell_type": "code",
   "execution_count": null,
   "id": "8ba9ae1b-594f-4c64-8c1e-c87138ff9d9d",
   "metadata": {},
   "outputs": [],
   "source": []
  },
  {
   "cell_type": "markdown",
   "id": "e8fd2baf-bdb6-4056-8265-fa32b12557dd",
   "metadata": {},
   "source": [
    "### Creating a datetime index:\n",
    "\n",
    "Convert the `Date` column to datetime, and set it as the index for the dataframe."
   ]
  },
  {
   "cell_type": "code",
   "execution_count": null,
   "id": "a0f0f53a-d890-4594-b08e-b75e9d52f47a",
   "metadata": {},
   "outputs": [],
   "source": []
  },
  {
   "cell_type": "code",
   "execution_count": null,
   "id": "f68a18e2-66bc-4f0f-a5ad-c51fd97eb363",
   "metadata": {},
   "outputs": [],
   "source": []
  },
  {
   "cell_type": "markdown",
   "id": "65133938-3d87-46c4-8c81-9f0a9cd4ce98",
   "metadata": {},
   "source": [
    "### Getting weekly sales for store 1:\n",
    "\n",
    "To simplify our work somewhat, we'll consider **only** sales from store 1, and we'll aggregate sales from all departments in store 1.\n",
    "\n",
    "Create a new dataframe that contains weekly sales for store 1.\n",
    "\n",
    "> **Note**: You might break this up into multiple steps, or you might do this in one line.\n",
    ">\n",
    "> To aggregate, use **groupby**. We're tallying up all sales that have the same date, _not_ aggregating many dates based on year or month.\n",
    ">\n",
    "> The only column you'll need to keep is `Weekly_Sales`. You should get rid of the `Store`, `Dept`, and `IsHoliday` columns in your new dataframe."
   ]
  },
  {
   "cell_type": "code",
   "execution_count": null,
   "id": "161980e5-32d0-43a8-b61e-f97d125b9aa2",
   "metadata": {},
   "outputs": [],
   "source": []
  },
  {
   "cell_type": "code",
   "execution_count": null,
   "id": "647bf703-cd09-42da-a8f3-d98205f3c7c6",
   "metadata": {},
   "outputs": [],
   "source": []
  },
  {
   "cell_type": "markdown",
   "id": "be0cbd7e-c4b3-42ac-aacb-d10b5cd75ecd",
   "metadata": {},
   "source": [
    "---\n",
    "\n",
    "## Plotting and interpreting a time series\n",
    "\n",
    "### Generate a line plot:\n",
    "\n",
    "Generate a line plot for weekly sales, with time on the $x$-axis and sales on the $y$-axis. Make sure the plot has a title, and make sure axes are labeled where appropriate."
   ]
  },
  {
   "cell_type": "code",
   "execution_count": null,
   "id": "ec9eea78-eee7-442d-881f-ee37df0321cc",
   "metadata": {},
   "outputs": [],
   "source": []
  },
  {
   "cell_type": "markdown",
   "id": "8f3d3489-25ec-4142-8980-e593c960b1dd",
   "metadata": {},
   "source": [
    "### Plotting rolling means:\n",
    "\n",
    "Smoothing can help us see trends in the data. On one graph, plot the following:\n",
    "\n",
    "- Weekly sales\n",
    "- The 4-week rolling mean of weekly sales\n",
    "- The 13-week rolling mean of weekly sales\n",
    "    - (This is included because there are 13 weeks in a business quarter!)\n",
    "\n",
    "Make sure the plot has a title, axis labels where appropriate, and a legend.\n",
    "\n",
    "> **(BONUS)**: Add vertical lines on the plot to indicate January 2011 and January 2012."
   ]
  },
  {
   "cell_type": "code",
   "execution_count": null,
   "id": "9d9b2946-51f2-4181-98f4-5f2eef09bbcf",
   "metadata": {},
   "outputs": [],
   "source": []
  },
  {
   "cell_type": "markdown",
   "id": "4d585d07-801f-475c-a11a-a21b9802ae80",
   "metadata": {},
   "source": [
    "### (Short answer) Describe any trends that you notice:"
   ]
  },
  {
   "cell_type": "markdown",
   "id": "25d4c2b0-5200-4853-8846-71ae14e3687a",
   "metadata": {},
   "source": [
    "(Your answer here.)"
   ]
  },
  {
   "cell_type": "markdown",
   "id": "1b7633ab-4ddd-4b5e-8f59-334826b53d6c",
   "metadata": {},
   "source": [
    "---\n",
    "\n",
    "## Autocorrelation and partial autocorrelation\n",
    "\n",
    "Recall that autocorrelation and partial autocorrelation tell us about how a variable is related to itself at previous lags.\n",
    "\n",
    "### Plot and interpret the autocorrelation:\n",
    "\n",
    "Use statsmodels to plot the ACF and PACF. Look at up to **52 lags**. What do you notice? (Your answer can be given in bullet points; full sentences are not required.)"
   ]
  },
  {
   "cell_type": "code",
   "execution_count": null,
   "id": "439de861-109a-4dae-a03b-77208c04cc55",
   "metadata": {},
   "outputs": [],
   "source": []
  },
  {
   "cell_type": "code",
   "execution_count": null,
   "id": "17c14e5e-c78b-441d-b93a-34bc33edf33f",
   "metadata": {},
   "outputs": [],
   "source": []
  },
  {
   "cell_type": "markdown",
   "id": "197e6101-a432-48d7-9686-e674560490ae",
   "metadata": {},
   "source": [
    "(Your interpretation here.)"
   ]
  },
  {
   "cell_type": "markdown",
   "id": "8ef8efb5-4db9-4e12-9134-50f717d85421",
   "metadata": {},
   "source": [
    "---\n",
    "\n",
    "## Modeling\n",
    "\n",
    "### Train-test splitting:\n",
    "\n",
    "Before fitting a model, we should train-test split. Use the first 90% of observations as training data, and use the remaining 10% as testing data. Remember -- we **do not need to shuffle the data**!"
   ]
  },
  {
   "cell_type": "code",
   "execution_count": null,
   "id": "6f3526cb-da50-4776-9904-40c4cf6dbc9f",
   "metadata": {},
   "outputs": [],
   "source": []
  },
  {
   "cell_type": "markdown",
   "id": "171720d5-c546-4ad4-8724-90d59508d7fa",
   "metadata": {},
   "source": [
    "### Evaluating stationarity:\n",
    "\n",
    "Use the augmented Dickey-Fuller test to evaluate the weekly sales data, and interpret the result."
   ]
  },
  {
   "cell_type": "code",
   "execution_count": null,
   "id": "0bab1ca5-10ff-4463-be3b-75f3e52dc67a",
   "metadata": {},
   "outputs": [],
   "source": []
  },
  {
   "cell_type": "markdown",
   "id": "73c0593b-dcd3-4b83-ac36-3aa92ac2a007",
   "metadata": {},
   "source": [
    "---\n",
    "\n",
    "### Fit and evaluate an AR(1) model:\n",
    "\n",
    "We'll start with a simple autoregressive model with order 1. In statsmodels, an autoregressive model with order $p=1$ can be implemented by instantiating and fitting an ARIMA model with order $(1,0,0)$.\n",
    "\n",
    "Instantiate and fit your model on the training data:"
   ]
  },
  {
   "cell_type": "code",
   "execution_count": null,
   "id": "1cf45339-eb0d-43f4-8881-4cbc8c6a7548",
   "metadata": {},
   "outputs": [],
   "source": []
  },
  {
   "cell_type": "markdown",
   "id": "52386f70-77c9-4421-b4a9-3b7c66990f03",
   "metadata": {},
   "source": [
    "### Evaluating the model:\n",
    "\n",
    "#### Store predictions:\n",
    "\n",
    "Remember that statsmodels ARIMA models generate predictions off of `start` and `end` dates.\n",
    "\n",
    "Generate and store predictions for the training and testing data:"
   ]
  },
  {
   "cell_type": "code",
   "execution_count": null,
   "id": "59ec88ca-b02e-45b3-9017-8a7556da16ac",
   "metadata": {},
   "outputs": [],
   "source": []
  },
  {
   "cell_type": "markdown",
   "id": "a60aa57c-d0ee-4974-8129-7a86df873968",
   "metadata": {},
   "source": [
    "#### Mean squared error:\n",
    "\n",
    "Use the `mean_squared_error` function to identify the MSE on the testing data:"
   ]
  },
  {
   "cell_type": "code",
   "execution_count": null,
   "id": "239333f1-4dfb-4b93-a7b6-5e0bd1a75245",
   "metadata": {},
   "outputs": [],
   "source": []
  },
  {
   "cell_type": "markdown",
   "id": "8c783b3f-62d2-4780-b9cf-e6d6af704409",
   "metadata": {},
   "source": [
    "#### Generate a plot of the training data, testing data, train preds, and test preds:\n",
    "\n",
    "Create a plot showing the training data, testing data, train preds, and test preds. Make sure there are labels and legends.\n",
    "\n",
    "> **Note**: You'll be making more similar plots. You might consider writing a function to generate your plots!"
   ]
  },
  {
   "cell_type": "code",
   "execution_count": null,
   "id": "fdf78946-55a9-4301-ac30-e6db0da20060",
   "metadata": {},
   "outputs": [],
   "source": []
  },
  {
   "cell_type": "markdown",
   "id": "3e816061-bc5b-4733-8e42-4fd9a90520c1",
   "metadata": {},
   "source": [
    "#### Interpretation:\n",
    "\n",
    "How well or how poorly does the model seem to perform? Provide a brief interpretation."
   ]
  },
  {
   "cell_type": "markdown",
   "id": "0ff72c9f-dc37-4d30-a10b-5caaa92d4870",
   "metadata": {},
   "source": [
    "(Your answer here.)"
   ]
  },
  {
   "cell_type": "markdown",
   "id": "794a975f-751b-4f45-80e3-b9af111afcbc",
   "metadata": {},
   "source": [
    "---\n",
    "\n",
    "### Fit and evaluate an ARMA(2,2) model:\n",
    "\n",
    "In statsmodels, an autoregressive moving average model with order $p=2$, $q=2$ can be implemented by instantiating and fitting an ARIMA model with order $(2,0,2)$.\n",
    "\n",
    "Instantiate and fit your model on the training data:"
   ]
  },
  {
   "cell_type": "code",
   "execution_count": null,
   "id": "c8f1bb21-6b7c-4ce5-89bb-45bae0e89f4b",
   "metadata": {},
   "outputs": [],
   "source": []
  },
  {
   "cell_type": "markdown",
   "id": "8aa9d82f-138d-4267-b9fd-50af807c79dd",
   "metadata": {},
   "source": [
    "### Evaluating the model:\n",
    "\n",
    "#### Store predictions:\n",
    "\n",
    "Generate and store predictions for train and test:"
   ]
  },
  {
   "cell_type": "code",
   "execution_count": null,
   "id": "d3e9a0c1-6d3e-45f7-93e3-587d0e40c4bc",
   "metadata": {},
   "outputs": [],
   "source": []
  },
  {
   "cell_type": "markdown",
   "id": "96b91a32-fa9e-4e61-bf2d-93f08863e0b2",
   "metadata": {},
   "source": [
    "#### Mean squared error:\n",
    "\n",
    "Find the MSE of the testing data:"
   ]
  },
  {
   "cell_type": "code",
   "execution_count": null,
   "id": "672dece3-b2fb-4f73-ac13-99d22c23b366",
   "metadata": {},
   "outputs": [],
   "source": []
  },
  {
   "cell_type": "markdown",
   "id": "6041c14b-7bd7-4176-acf8-8cea365e88e2",
   "metadata": {},
   "source": [
    "#### Generate a plot of the training data, testing data, train preds, and test preds:\n",
    "\n",
    "As before, plot your data and predictions."
   ]
  },
  {
   "cell_type": "code",
   "execution_count": null,
   "id": "18105cc6-8922-41ec-bcbd-c7f50e71bf5d",
   "metadata": {},
   "outputs": [],
   "source": []
  },
  {
   "cell_type": "markdown",
   "id": "9cdfe074-39d9-4cb5-9840-8588d9f610c6",
   "metadata": {},
   "source": [
    "#### Intepretation:\n",
    "\n",
    "How well or how poorly does the model seem to perform? Provide a brief interpretation."
   ]
  },
  {
   "cell_type": "markdown",
   "id": "356485fa-4ad5-41ff-9d1f-b3ef6d942ed8",
   "metadata": {},
   "source": [
    "(Your answer here.) It is not a very good model."
   ]
  },
  {
   "cell_type": "markdown",
   "id": "b3d14770-ad2d-41bf-93c9-09bb493bacb1",
   "metadata": {},
   "source": [
    "---\n",
    "\n",
    "### Fit and evaluate an ARIMA(2,1,2) model:\n",
    "\n",
    "Instantiate and fit an ARIMA model with order $(2,1,2)$:"
   ]
  },
  {
   "cell_type": "code",
   "execution_count": null,
   "id": "d3e6bd24-1e3c-44fe-81d1-2c3deeb90d48",
   "metadata": {},
   "outputs": [],
   "source": []
  },
  {
   "cell_type": "markdown",
   "id": "00d6973d-1de3-4006-94df-83fe2cdc8d9b",
   "metadata": {},
   "source": [
    "### Evaluating the model:\n",
    "\n",
    "#### Store predictions:\n",
    "\n",
    "Generate and store predictions for train and test:"
   ]
  },
  {
   "cell_type": "code",
   "execution_count": null,
   "id": "efa57132-0ccb-4d37-8b30-fb354f45741a",
   "metadata": {},
   "outputs": [],
   "source": []
  },
  {
   "cell_type": "markdown",
   "id": "25359d5f-458e-463f-9ae3-6a1fe35a5c38",
   "metadata": {},
   "source": [
    "#### Mean squared error:\n",
    "\n",
    "Find the MSE on your testing data:"
   ]
  },
  {
   "cell_type": "code",
   "execution_count": null,
   "id": "9db8ce10-bb78-4b23-8278-d514609d0cdf",
   "metadata": {},
   "outputs": [],
   "source": []
  },
  {
   "cell_type": "markdown",
   "id": "3a053aef-8694-430c-ba1b-ad8b8e25ed77",
   "metadata": {},
   "source": [
    "#### Generate a plot of the training data, testing data, train preds and test preds:\n",
    "\n",
    "As before, plot your data and predictions."
   ]
  },
  {
   "cell_type": "code",
   "execution_count": null,
   "id": "c21ffe79-96bc-4bc3-adfd-548f534f21cf",
   "metadata": {},
   "outputs": [],
   "source": []
  },
  {
   "cell_type": "markdown",
   "id": "5d9a1939-049f-4593-88d5-27cc3ae7f5d4",
   "metadata": {},
   "source": [
    "#### Interpretation:\n",
    "\n",
    "How well or how poorly does the model seem to perform? Provide a brief interpretation."
   ]
  },
  {
   "cell_type": "markdown",
   "id": "abc865fa-deb5-4989-894f-72c986d0ac61",
   "metadata": {},
   "source": [
    "(Your answer here.)"
   ]
  },
  {
   "cell_type": "markdown",
   "id": "997ca0da-1ce0-42a5-96ab-22270b669599",
   "metadata": {},
   "source": [
    "---\n",
    "\n",
    "### Fit and evaluate an ARIMA(52,0,1) model:\n",
    "\n",
    "The models above use few autoregressive terms and don't do a good job of capturing the long-term trends that we know exist.\n",
    "\n",
    "Instantiate and fit an ARIMA of order $(52,0,1)$:"
   ]
  },
  {
   "cell_type": "code",
   "execution_count": null,
   "id": "df29148a-b062-43d5-b69e-316b3a280c9b",
   "metadata": {},
   "outputs": [],
   "source": []
  },
  {
   "cell_type": "markdown",
   "id": "50fd0ce5-0182-4442-a509-791a38642b27",
   "metadata": {},
   "source": [
    "### Evaluating the model:\n",
    "\n",
    "#### Store predictions:\n",
    "\n",
    "Generate and store predictions for train and test:"
   ]
  },
  {
   "cell_type": "code",
   "execution_count": null,
   "id": "943d8ab7-da77-48d8-96e0-62ea2f99bd24",
   "metadata": {},
   "outputs": [],
   "source": []
  },
  {
   "cell_type": "markdown",
   "id": "89fa896b-4668-431f-9a5f-aa784a3c6599",
   "metadata": {},
   "source": [
    "#### Mean squared error:\n",
    "\n",
    "Find the MSE on your testing data:"
   ]
  },
  {
   "cell_type": "code",
   "execution_count": null,
   "id": "95686e4d-3474-4817-9004-b4e5b50c049b",
   "metadata": {},
   "outputs": [],
   "source": []
  },
  {
   "cell_type": "markdown",
   "id": "5a71192c-a8be-40a3-91da-780677946131",
   "metadata": {},
   "source": [
    "#### Generate a plot of the training data, testing data, train preds and test preds:\n",
    "\n",
    "As before, plot your data and predictions."
   ]
  },
  {
   "cell_type": "code",
   "execution_count": null,
   "id": "c84422a5-d48c-438c-9bc7-f67357a491a0",
   "metadata": {},
   "outputs": [],
   "source": []
  },
  {
   "cell_type": "markdown",
   "id": "1913add5-b9a0-4943-b4a7-7d0e92fc2bef",
   "metadata": {},
   "source": [
    "#### Interpretation:\n",
    "\n",
    "How well or how poorly does the model seem to perform? Provide a brief interpretation."
   ]
  },
  {
   "cell_type": "markdown",
   "id": "df1040f0-bf0d-43e0-877a-9c3a2e9c0722",
   "metadata": {},
   "source": [
    "(Your answer here)"
   ]
  },
  {
   "cell_type": "markdown",
   "id": "f287b839-8710-4e3c-844e-3e1251a29283",
   "metadata": {},
   "source": [
    "---\n",
    "\n",
    "## (BONUS) SARIMA Modeling\n",
    "\n",
    "Because of the seasonality of this data, a **seasonal** ARIMA model will perform more strongly.\n",
    "\n",
    "A SARIMA model has an ARIMA portion which behaves as we expect it to. The S part of a SARIMA model allows us to use seasonal terms. The seasonal part of a SARIMA has order $(P, D, Q)_{m}$. $m$ is the **seasonal period** -- the number of observations per season. $P$, $D$, and $Q$ are somewhat similar to the $p$, $d$, and $q$ terms in an ARIMA model, but $P$, $D$, and $Q$ actually backshift by $m$. \n",
    "\n",
    "You can read more about SARIMA models here:\n",
    "- [PennState SARIMA notes](https://online.stat.psu.edu/stat510/lesson/4/4.1)\n",
    "- [Forecasting: Principles and Practice 3rd ed.](https://otexts.com/fpp3/seasonal-arima.html)\n",
    "\n",
    "Fit and evaluate a SARIMA model with order $(2,0,2)$ and seasonal order $(1,1,1,52)$. How well does it perform?\n",
    "\n",
    "> **Note**: SARIMA models are implemented in statsmodels as SARIMAX - the 'X' part allows exogenous data to be passed in as well, though we won't specify any.\n",
    ">\n",
    "> The seasonal order argument is `seasonal_order`."
   ]
  },
  {
   "cell_type": "code",
   "execution_count": null,
   "id": "7ebc35b5-62b5-42f9-be83-06faaf8d77ea",
   "metadata": {},
   "outputs": [],
   "source": []
  }
 ],
 "metadata": {
  "kernelspec": {
   "display_name": "Python 3",
   "language": "python",
   "name": "python3"
  },
  "language_info": {
   "codemirror_mode": {
    "name": "ipython",
    "version": 3
   },
   "file_extension": ".py",
   "mimetype": "text/x-python",
   "name": "python",
   "nbconvert_exporter": "python",
   "pygments_lexer": "ipython3",
   "version": "3.8.8"
  }
 },
 "nbformat": 4,
 "nbformat_minor": 5
}
