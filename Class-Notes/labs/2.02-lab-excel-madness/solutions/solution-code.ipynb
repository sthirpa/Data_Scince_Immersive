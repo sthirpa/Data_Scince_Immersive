{
 "cells": [
  {
   "cell_type": "markdown",
   "metadata": {},
   "source": [
    "<img src=\"http://imgur.com/1ZcRyrc.png\" style=\"float: left; margin: 20px; height: 55px\" />\n",
    "\n",
    "# Excel Madness Lab!\n",
    "\n",
    "_Author:_ Tim Book"
   ]
  },
  {
   "cell_type": "markdown",
   "metadata": {},
   "source": [
    "## Our Mission\n",
    "We work for a large supermarket chain, with stores in 10 major cities that happen to coincide with General Assembly campuses. However, this company's idea of a \"database\" is just a bunch of Excel spreadsheets! In order to analyze our data, we're going to need to process the existing data into a form we can use. **Our end goal is to have one csv per city.**\n",
    "\n",
    "## Cleanup Duty!\n",
    "It is a hard truth that data scientists spend a large majority of their time cleaning data. Data never arrives on our desks in exactly the format in which we want it, and it's up to us to transform it to a workable format.\n",
    "\n",
    "Being good cleaning, moving, and reshaping data is in itself a valuable and employable job skill. If you follow these directions exactly, we will walk through constructing an automated process for processing data from this supermarket chain."
   ]
  },
  {
   "cell_type": "markdown",
   "metadata": {},
   "source": [
    "# Part I: Processing\n",
    "\n",
    "### Step 1: Imports and the `os` library\n",
    "We're going to import three libraries: numpy, pandas, and `os`."
   ]
  },
  {
   "cell_type": "code",
   "execution_count": 1,
   "metadata": {},
   "outputs": [],
   "source": [
    "# Import libraries here.\n",
    "import os\n",
    "import numpy as np\n",
    "import pandas as pd"
   ]
  },
  {
   "cell_type": "markdown",
   "metadata": {},
   "source": [
    "The `os` library is extremely useful for performing system commands from within Python. Let's get two pieces of overhead out of the way now:\n",
    "\n",
    "1. Create an `output` folder using `os.mkdir()`\n",
    "2. Create a variable called `files` that is the list of files in the `data` folder using `os.listdir()`\n",
    "\n",
    "**WARNING:** The `os.mkdir()` function will give you an error if you try to make a folder that already exists!"
   ]
  },
  {
   "cell_type": "code",
   "execution_count": 2,
   "metadata": {},
   "outputs": [],
   "source": [
    "# Create an output folder.\n",
    "os.mkdir(\"output\")\n",
    "\n",
    "# Create a files variable that contains all of our data files.\n",
    "files = os.listdir(\"data\")"
   ]
  },
  {
   "cell_type": "code",
   "execution_count": 3,
   "metadata": {},
   "outputs": [
    {
     "data": {
      "text/plain": [
       "['Jan 29.xlsx', 'Jan 3.xlsx', 'Jan 31.xlsx', 'Jan 19.xlsx', 'Jan 11.xlsx']"
      ]
     },
     "execution_count": 3,
     "metadata": {},
     "output_type": "execute_result"
    }
   ],
   "source": [
    "files[:5]"
   ]
  },
  {
   "cell_type": "markdown",
   "metadata": {},
   "source": [
    "### Step 2: Process one data frame\n",
    "It looks like we have data for the month of January. 31 files of 10 sheets each! Luckily they are all in the same format. So let's read just one in and process that."
   ]
  },
  {
   "cell_type": "code",
   "execution_count": 4,
   "metadata": {},
   "outputs": [
    {
     "data": {
      "text/html": [
       "<div>\n",
       "<style scoped>\n",
       "    .dataframe tbody tr th:only-of-type {\n",
       "        vertical-align: middle;\n",
       "    }\n",
       "\n",
       "    .dataframe tbody tr th {\n",
       "        vertical-align: top;\n",
       "    }\n",
       "\n",
       "    .dataframe thead th {\n",
       "        text-align: right;\n",
       "    }\n",
       "</style>\n",
       "<table border=\"1\" class=\"dataframe\">\n",
       "  <thead>\n",
       "    <tr style=\"text-align: right;\">\n",
       "      <th></th>\n",
       "      <th>prodcode</th>\n",
       "      <th>price_eu</th>\n",
       "      <th>weight_kg</th>\n",
       "      <th>quantity</th>\n",
       "    </tr>\n",
       "  </thead>\n",
       "  <tbody>\n",
       "    <tr>\n",
       "      <td>0</td>\n",
       "      <td>4011</td>\n",
       "      <td>1.434955</td>\n",
       "      <td>1.125474</td>\n",
       "      <td>182</td>\n",
       "    </tr>\n",
       "    <tr>\n",
       "      <td>1</td>\n",
       "      <td>4404</td>\n",
       "      <td>2.882103</td>\n",
       "      <td>1.407820</td>\n",
       "      <td>363</td>\n",
       "    </tr>\n",
       "    <tr>\n",
       "      <td>2</td>\n",
       "      <td>4272</td>\n",
       "      <td>0.547080</td>\n",
       "      <td>4.765729</td>\n",
       "      <td>309</td>\n",
       "    </tr>\n",
       "    <tr>\n",
       "      <td>3</td>\n",
       "      <td>4131</td>\n",
       "      <td>2.030937</td>\n",
       "      <td>6.794560</td>\n",
       "      <td>354</td>\n",
       "    </tr>\n",
       "    <tr>\n",
       "      <td>4</td>\n",
       "      <td>4240</td>\n",
       "      <td>1.658934</td>\n",
       "      <td>2.978144</td>\n",
       "      <td>347</td>\n",
       "    </tr>\n",
       "  </tbody>\n",
       "</table>\n",
       "</div>"
      ],
      "text/plain": [
       "   prodcode  price_eu  weight_kg  quantity\n",
       "0      4011  1.434955   1.125474       182\n",
       "1      4404  2.882103   1.407820       363\n",
       "2      4272  0.547080   4.765729       309\n",
       "3      4131  2.030937   6.794560       354\n",
       "4      4240  1.658934   2.978144       347"
      ]
     },
     "execution_count": 4,
     "metadata": {},
     "output_type": "execute_result"
    }
   ],
   "source": [
    "# Read in data from your city from January 1st.\n",
    "jan1 = pd.read_excel(\"data/Jan 1.xlsx\", sheet_name=\"Washington, DC\")\n",
    "jan1.head()"
   ]
  },
  {
   "cell_type": "markdown",
   "metadata": {},
   "source": [
    "### Step 2a: Convert to 'Merican columns\n",
    "For whatever reason, our data are stored in euros and kilograms. Create `price_usd` and `weight_lb` columns. There are 2.2 pounds per kilogram, and 1.1 dollars per euro."
   ]
  },
  {
   "cell_type": "code",
   "execution_count": 5,
   "metadata": {},
   "outputs": [],
   "source": [
    "jan1[\"price_usd\"] = 1.1 * jan1[\"price_eu\"]\n",
    "jan1[\"weight_lb\"] = 2.2 * jan1[\"weight_kg\"]"
   ]
  },
  {
   "cell_type": "markdown",
   "metadata": {},
   "source": [
    "### Step 2b: Merge in product names\n",
    "You'll notice we also have a `plu-codes.csv` file containing actual product names matched up against their price lookup (PLU) codes. Let's merge these product names onto our Jan 1 data.\n",
    "* _Hint 1:_ What kind of merge is this? Right, left, inner, outer, etc.?\n",
    "* _Hint 2:_ Pay special attention to column names!"
   ]
  },
  {
   "cell_type": "code",
   "execution_count": 6,
   "metadata": {},
   "outputs": [],
   "source": [
    "plu = pd.read_csv(\"plu-codes.csv\")"
   ]
  },
  {
   "cell_type": "code",
   "execution_count": 7,
   "metadata": {
    "scrolled": true
   },
   "outputs": [
    {
     "data": {
      "text/html": [
       "<div>\n",
       "<style scoped>\n",
       "    .dataframe tbody tr th:only-of-type {\n",
       "        vertical-align: middle;\n",
       "    }\n",
       "\n",
       "    .dataframe tbody tr th {\n",
       "        vertical-align: top;\n",
       "    }\n",
       "\n",
       "    .dataframe thead th {\n",
       "        text-align: right;\n",
       "    }\n",
       "</style>\n",
       "<table border=\"1\" class=\"dataframe\">\n",
       "  <thead>\n",
       "    <tr style=\"text-align: right;\">\n",
       "      <th></th>\n",
       "      <th>prodcode</th>\n",
       "      <th>price_eu</th>\n",
       "      <th>weight_kg</th>\n",
       "      <th>quantity</th>\n",
       "      <th>price_usd</th>\n",
       "      <th>weight_lb</th>\n",
       "      <th>product</th>\n",
       "      <th>plu_code</th>\n",
       "    </tr>\n",
       "  </thead>\n",
       "  <tbody>\n",
       "    <tr>\n",
       "      <td>0</td>\n",
       "      <td>4011</td>\n",
       "      <td>1.434955</td>\n",
       "      <td>1.125474</td>\n",
       "      <td>182</td>\n",
       "      <td>1.578451</td>\n",
       "      <td>2.476043</td>\n",
       "      <td>Banana</td>\n",
       "      <td>4011</td>\n",
       "    </tr>\n",
       "    <tr>\n",
       "      <td>1</td>\n",
       "      <td>4404</td>\n",
       "      <td>2.882103</td>\n",
       "      <td>1.407820</td>\n",
       "      <td>363</td>\n",
       "      <td>3.170313</td>\n",
       "      <td>3.097204</td>\n",
       "      <td>Peach</td>\n",
       "      <td>4404</td>\n",
       "    </tr>\n",
       "    <tr>\n",
       "      <td>2</td>\n",
       "      <td>4272</td>\n",
       "      <td>0.547080</td>\n",
       "      <td>4.765729</td>\n",
       "      <td>309</td>\n",
       "      <td>0.601788</td>\n",
       "      <td>10.484605</td>\n",
       "      <td>Grapes</td>\n",
       "      <td>4272</td>\n",
       "    </tr>\n",
       "    <tr>\n",
       "      <td>3</td>\n",
       "      <td>4131</td>\n",
       "      <td>2.030937</td>\n",
       "      <td>6.794560</td>\n",
       "      <td>354</td>\n",
       "      <td>2.234031</td>\n",
       "      <td>14.948032</td>\n",
       "      <td>Apple (Fuji)</td>\n",
       "      <td>4131</td>\n",
       "    </tr>\n",
       "    <tr>\n",
       "      <td>4</td>\n",
       "      <td>4240</td>\n",
       "      <td>1.658934</td>\n",
       "      <td>2.978144</td>\n",
       "      <td>347</td>\n",
       "      <td>1.824828</td>\n",
       "      <td>6.551917</td>\n",
       "      <td>Blueberries</td>\n",
       "      <td>4240</td>\n",
       "    </tr>\n",
       "  </tbody>\n",
       "</table>\n",
       "</div>"
      ],
      "text/plain": [
       "   prodcode  price_eu  weight_kg  quantity  price_usd  weight_lb  \\\n",
       "0      4011  1.434955   1.125474       182   1.578451   2.476043   \n",
       "1      4404  2.882103   1.407820       363   3.170313   3.097204   \n",
       "2      4272  0.547080   4.765729       309   0.601788  10.484605   \n",
       "3      4131  2.030937   6.794560       354   2.234031  14.948032   \n",
       "4      4240  1.658934   2.978144       347   1.824828   6.551917   \n",
       "\n",
       "        product  plu_code  \n",
       "0        Banana      4011  \n",
       "1         Peach      4404  \n",
       "2        Grapes      4272  \n",
       "3  Apple (Fuji)      4131  \n",
       "4   Blueberries      4240  "
      ]
     },
     "execution_count": 7,
     "metadata": {},
     "output_type": "execute_result"
    }
   ],
   "source": [
    "jan1 = pd.merge(jan1, plu, how=\"left\", left_on=\"prodcode\", right_on=\"plu_code\")\n",
    "jan1.head()"
   ]
  },
  {
   "cell_type": "markdown",
   "metadata": {},
   "source": [
    "### Step 2c: Drop unnecessary columns\n",
    "We've created some extraneous columns. Drop the old price and weight columns, as well as any redundant columns."
   ]
  },
  {
   "cell_type": "code",
   "execution_count": 8,
   "metadata": {},
   "outputs": [],
   "source": [
    "jan1.drop([\"price_eu\", \"weight_kg\", \"plu_code\"], axis=1, inplace=True)"
   ]
  },
  {
   "cell_type": "code",
   "execution_count": 9,
   "metadata": {},
   "outputs": [
    {
     "data": {
      "text/html": [
       "<div>\n",
       "<style scoped>\n",
       "    .dataframe tbody tr th:only-of-type {\n",
       "        vertical-align: middle;\n",
       "    }\n",
       "\n",
       "    .dataframe tbody tr th {\n",
       "        vertical-align: top;\n",
       "    }\n",
       "\n",
       "    .dataframe thead th {\n",
       "        text-align: right;\n",
       "    }\n",
       "</style>\n",
       "<table border=\"1\" class=\"dataframe\">\n",
       "  <thead>\n",
       "    <tr style=\"text-align: right;\">\n",
       "      <th></th>\n",
       "      <th>prodcode</th>\n",
       "      <th>quantity</th>\n",
       "      <th>price_usd</th>\n",
       "      <th>weight_lb</th>\n",
       "      <th>product</th>\n",
       "    </tr>\n",
       "  </thead>\n",
       "  <tbody>\n",
       "    <tr>\n",
       "      <td>0</td>\n",
       "      <td>4011</td>\n",
       "      <td>182</td>\n",
       "      <td>1.578451</td>\n",
       "      <td>2.476043</td>\n",
       "      <td>Banana</td>\n",
       "    </tr>\n",
       "    <tr>\n",
       "      <td>1</td>\n",
       "      <td>4404</td>\n",
       "      <td>363</td>\n",
       "      <td>3.170313</td>\n",
       "      <td>3.097204</td>\n",
       "      <td>Peach</td>\n",
       "    </tr>\n",
       "    <tr>\n",
       "      <td>2</td>\n",
       "      <td>4272</td>\n",
       "      <td>309</td>\n",
       "      <td>0.601788</td>\n",
       "      <td>10.484605</td>\n",
       "      <td>Grapes</td>\n",
       "    </tr>\n",
       "    <tr>\n",
       "      <td>3</td>\n",
       "      <td>4131</td>\n",
       "      <td>354</td>\n",
       "      <td>2.234031</td>\n",
       "      <td>14.948032</td>\n",
       "      <td>Apple (Fuji)</td>\n",
       "    </tr>\n",
       "    <tr>\n",
       "      <td>4</td>\n",
       "      <td>4240</td>\n",
       "      <td>347</td>\n",
       "      <td>1.824828</td>\n",
       "      <td>6.551917</td>\n",
       "      <td>Blueberries</td>\n",
       "    </tr>\n",
       "  </tbody>\n",
       "</table>\n",
       "</div>"
      ],
      "text/plain": [
       "   prodcode  quantity  price_usd  weight_lb       product\n",
       "0      4011       182   1.578451   2.476043        Banana\n",
       "1      4404       363   3.170313   3.097204         Peach\n",
       "2      4272       309   0.601788  10.484605        Grapes\n",
       "3      4131       354   2.234031  14.948032  Apple (Fuji)\n",
       "4      4240       347   1.824828   6.551917   Blueberries"
      ]
     },
     "execution_count": 9,
     "metadata": {},
     "output_type": "execute_result"
    }
   ],
   "source": [
    "jan1.head()"
   ]
  },
  {
   "cell_type": "markdown",
   "metadata": {},
   "source": [
    "### Step 2d: Add the date\n",
    "Simply create a new `date` column that is the date this data was collected. For example, if this is from `Jan 1.xlsx`, this column should be full of `Jan 1`."
   ]
  },
  {
   "cell_type": "code",
   "execution_count": 10,
   "metadata": {},
   "outputs": [],
   "source": [
    "jan1[\"date\"] = \"Jan 1\""
   ]
  },
  {
   "cell_type": "markdown",
   "metadata": {},
   "source": [
    "### Step 3: Write a function that conducts all of Step 2\n",
    "This function should import a **filename and a city name** and return a fully processed DataFrame. That is, the function should:\n",
    "1. Read in the data from the given file and city.\n",
    "1. Create USD and pound columns.\n",
    "1. Merge in product names.\n",
    "1. Drop unnecessary columns.\n",
    "1. Add a date column"
   ]
  },
  {
   "cell_type": "code",
   "execution_count": 11,
   "metadata": {},
   "outputs": [],
   "source": [
    "def process_data(file, city):\n",
    "    df = pd.read_excel(\"data/\" + file, sheet_name=city)\n",
    "    df[\"price_usd\"] = 1.1 * df[\"price_eu\"]\n",
    "    df[\"weight_lb\"] = 2.2 * df[\"weight_kg\"]\n",
    "    df = pd.merge(df, plu, how=\"left\", left_on=\"prodcode\", right_on=\"plu_code\")\n",
    "    df.drop([\"price_eu\", \"weight_kg\", \"plu_code\"], axis=1, inplace=True)\n",
    "    df[\"date\"] = file.replace(\".xlsx\", \"\")\n",
    "    return df"
   ]
  },
  {
   "cell_type": "markdown",
   "metadata": {},
   "source": [
    "Test your function out on a new file and city!"
   ]
  },
  {
   "cell_type": "code",
   "execution_count": 12,
   "metadata": {},
   "outputs": [
    {
     "data": {
      "text/html": [
       "<div>\n",
       "<style scoped>\n",
       "    .dataframe tbody tr th:only-of-type {\n",
       "        vertical-align: middle;\n",
       "    }\n",
       "\n",
       "    .dataframe tbody tr th {\n",
       "        vertical-align: top;\n",
       "    }\n",
       "\n",
       "    .dataframe thead th {\n",
       "        text-align: right;\n",
       "    }\n",
       "</style>\n",
       "<table border=\"1\" class=\"dataframe\">\n",
       "  <thead>\n",
       "    <tr style=\"text-align: right;\">\n",
       "      <th></th>\n",
       "      <th>prodcode</th>\n",
       "      <th>quantity</th>\n",
       "      <th>price_usd</th>\n",
       "      <th>weight_lb</th>\n",
       "      <th>product</th>\n",
       "      <th>date</th>\n",
       "    </tr>\n",
       "  </thead>\n",
       "  <tbody>\n",
       "    <tr>\n",
       "      <td>0</td>\n",
       "      <td>4272</td>\n",
       "      <td>113</td>\n",
       "      <td>1.449998</td>\n",
       "      <td>7.331218</td>\n",
       "      <td>Grapes</td>\n",
       "      <td>Jan 14</td>\n",
       "    </tr>\n",
       "    <tr>\n",
       "      <td>1</td>\n",
       "      <td>4131</td>\n",
       "      <td>282</td>\n",
       "      <td>2.136065</td>\n",
       "      <td>7.877898</td>\n",
       "      <td>Apple (Fuji)</td>\n",
       "      <td>Jan 14</td>\n",
       "    </tr>\n",
       "    <tr>\n",
       "      <td>2</td>\n",
       "      <td>4159</td>\n",
       "      <td>151</td>\n",
       "      <td>3.213403</td>\n",
       "      <td>11.614127</td>\n",
       "      <td>Onion</td>\n",
       "      <td>Jan 14</td>\n",
       "    </tr>\n",
       "    <tr>\n",
       "      <td>3</td>\n",
       "      <td>4078</td>\n",
       "      <td>362</td>\n",
       "      <td>2.437546</td>\n",
       "      <td>20.027934</td>\n",
       "      <td>Corn</td>\n",
       "      <td>Jan 14</td>\n",
       "    </tr>\n",
       "    <tr>\n",
       "      <td>4</td>\n",
       "      <td>4958</td>\n",
       "      <td>117</td>\n",
       "      <td>1.829635</td>\n",
       "      <td>7.076061</td>\n",
       "      <td>Lemon</td>\n",
       "      <td>Jan 14</td>\n",
       "    </tr>\n",
       "  </tbody>\n",
       "</table>\n",
       "</div>"
      ],
      "text/plain": [
       "   prodcode  quantity  price_usd  weight_lb       product    date\n",
       "0      4272       113   1.449998   7.331218        Grapes  Jan 14\n",
       "1      4131       282   2.136065   7.877898  Apple (Fuji)  Jan 14\n",
       "2      4159       151   3.213403  11.614127         Onion  Jan 14\n",
       "3      4078       362   2.437546  20.027934          Corn  Jan 14\n",
       "4      4958       117   1.829635   7.076061         Lemon  Jan 14"
      ]
     },
     "execution_count": 12,
     "metadata": {},
     "output_type": "execute_result"
    }
   ],
   "source": [
    "process_data(\"Jan 14.xlsx\", \"Denver\").head()"
   ]
  },
  {
   "cell_type": "markdown",
   "metadata": {},
   "source": [
    "### Step 4: Process all of January's data\n",
    "For each spreadsheet, process the data and store the resulting DataFrame in one big list. **You only need to do this for your city!**\n",
    "\n",
    "* _Hint 1:_ A listcomp would make this whole step one line of code!\n",
    "* _Hint 2:_ You've already made that `files` variable to help you here."
   ]
  },
  {
   "cell_type": "code",
   "execution_count": 13,
   "metadata": {},
   "outputs": [],
   "source": [
    "jan_list = [process_data(file, \"Washington, DC\") for file in files]"
   ]
  },
  {
   "cell_type": "markdown",
   "metadata": {},
   "source": [
    "### Step 5: Concatenate all DataFrames from Step 4 into one large DataFrame\n",
    "* _Hint:_ Is there a function in `pandas` that can do something like this for us? This is also just one line of code!"
   ]
  },
  {
   "cell_type": "code",
   "execution_count": 14,
   "metadata": {},
   "outputs": [],
   "source": [
    "jan_full = pd.concat(jan_list, axis=0)"
   ]
  },
  {
   "cell_type": "markdown",
   "metadata": {},
   "source": [
    "### Step 6: Do this for all cities, write data\n",
    "Here's the big one. For each city, process and the data as in steps 3-5, and then write the data to our `output` folder. Below is a dictionary of city name to desired output file name.\n",
    "\n",
    "Before writing your DataFrame, do the following:\n",
    "* Add a `city` column\n",
    "* Reorder the columns into the following order:\n",
    "\n",
    "\n",
    "| city | date | product | prodcode | quantity | weight_lb | price_usd |\n",
    "|---|---|---|---|---|---|---|\n",
    "\n",
    "* _Hint:_ You can reorder DataFrame columns simply by writing over your DataFrame with itself, but specifying the specific column order with `.loc`. For example:\n",
    "\n",
    "`print(df)`\n",
    "\n",
    "| b | c | a |\n",
    "|---|---|---|\n",
    "| 1 | 2 | 3 |\n",
    "\n",
    "`df = df.loc[:, [\"a\", \"b\", \"c\"]]`\n",
    "\n",
    "`print(df)`\n",
    "\n",
    "| a | b | c |\n",
    "|---|---|---|\n",
    "| 3 | 1 | 2 |\n"
   ]
  },
  {
   "cell_type": "code",
   "execution_count": 15,
   "metadata": {},
   "outputs": [],
   "source": [
    "city_dict = {\n",
    "    \"Atlanta\": \"atl.csv\",\n",
    "    \"Austin\": \"atx.csv\",\n",
    "    \"Boston\": \"bos.csv\",\n",
    "    \"Chicago\": \"chi.csv\",\n",
    "    \"Denver\": \"den.csv\",\n",
    "    \"Los Angeles\": \"lax.csv\",\n",
    "    \"New York\": \"nyc.csv\",\n",
    "    \"San Francisco\": \"sf.csv\",\n",
    "    \"Seattle\": \"sea.csv\",\n",
    "    \"Washington, DC\": \"dc.csv\"\n",
    "}"
   ]
  },
  {
   "cell_type": "code",
   "execution_count": 16,
   "metadata": {},
   "outputs": [],
   "source": [
    "# Loop through city_dict and carry out Step 6 here.\n",
    "# The keys of city_dict can serve as the sheet name.\n",
    "# The values of city_dict are what you should name the output .csv files.\n",
    "# If done correctly, this cell could take almost a minute to run!\n",
    "for city, file_out in city_dict.items():\n",
    "    data_list = [process_data(file, city) for file in files]\n",
    "    data_full = pd.concat(data_list, axis=0)\n",
    "    data_full[\"city\"] = city\n",
    "    data_full = data_full.loc[:, \n",
    "        [\"city\", \"date\", \"product\", \"prodcode\", \"quantity\", \"weight_lb\", \"price_usd\"]\n",
    "    ]\n",
    "    data_full.to_csv(\"output/\" + file_out, index=False)"
   ]
  },
  {
   "cell_type": "markdown",
   "metadata": {},
   "source": [
    "# Part II: Checking our answers \n",
    "In steps very similar to the ones conducted above...\n",
    "1. Loop through the files we just wrote to `output`, and read them in, collecting them all in one list\n",
    "1. Combine all of those DataFrames into one large DataFrame\n",
    "1. For each city, find the mean `quantity`, `weight_lb`, and `price_usd`.\n",
    "\n",
    "If you've done everything correct, your answer should look exactly like this:\n",
    "\n",
    "![](imgs/correct-output.png)"
   ]
  },
  {
   "cell_type": "code",
   "execution_count": 17,
   "metadata": {},
   "outputs": [],
   "source": [
    "files_out = os.listdir(\"output\")\n",
    "results_list = [pd.read_csv(\"output/\" + file) for file in files_out]\n",
    "results = pd.concat(results_list, axis=0)"
   ]
  },
  {
   "cell_type": "code",
   "execution_count": 18,
   "metadata": {},
   "outputs": [
    {
     "data": {
      "text/html": [
       "<div>\n",
       "<style scoped>\n",
       "    .dataframe tbody tr th:only-of-type {\n",
       "        vertical-align: middle;\n",
       "    }\n",
       "\n",
       "    .dataframe tbody tr th {\n",
       "        vertical-align: top;\n",
       "    }\n",
       "\n",
       "    .dataframe thead th {\n",
       "        text-align: right;\n",
       "    }\n",
       "</style>\n",
       "<table border=\"1\" class=\"dataframe\">\n",
       "  <thead>\n",
       "    <tr style=\"text-align: right;\">\n",
       "      <th></th>\n",
       "      <th>quantity</th>\n",
       "      <th>weight_lb</th>\n",
       "      <th>price_usd</th>\n",
       "    </tr>\n",
       "    <tr>\n",
       "      <th>city</th>\n",
       "      <th></th>\n",
       "      <th></th>\n",
       "      <th></th>\n",
       "    </tr>\n",
       "  </thead>\n",
       "  <tbody>\n",
       "    <tr>\n",
       "      <td>Atlanta</td>\n",
       "      <td>302.485306</td>\n",
       "      <td>11.929027</td>\n",
       "      <td>1.937980</td>\n",
       "    </tr>\n",
       "    <tr>\n",
       "      <td>Austin</td>\n",
       "      <td>301.048298</td>\n",
       "      <td>12.092775</td>\n",
       "      <td>1.937456</td>\n",
       "    </tr>\n",
       "    <tr>\n",
       "      <td>Boston</td>\n",
       "      <td>298.806536</td>\n",
       "      <td>12.063057</td>\n",
       "      <td>1.900973</td>\n",
       "    </tr>\n",
       "    <tr>\n",
       "      <td>Chicago</td>\n",
       "      <td>301.686186</td>\n",
       "      <td>12.101555</td>\n",
       "      <td>1.930026</td>\n",
       "    </tr>\n",
       "    <tr>\n",
       "      <td>Denver</td>\n",
       "      <td>301.012745</td>\n",
       "      <td>12.129850</td>\n",
       "      <td>1.932088</td>\n",
       "    </tr>\n",
       "    <tr>\n",
       "      <td>Los Angeles</td>\n",
       "      <td>301.531276</td>\n",
       "      <td>12.167527</td>\n",
       "      <td>1.918331</td>\n",
       "    </tr>\n",
       "    <tr>\n",
       "      <td>New York</td>\n",
       "      <td>299.482863</td>\n",
       "      <td>12.090294</td>\n",
       "      <td>1.912662</td>\n",
       "    </tr>\n",
       "    <tr>\n",
       "      <td>San Francisco</td>\n",
       "      <td>298.979895</td>\n",
       "      <td>12.237399</td>\n",
       "      <td>1.925830</td>\n",
       "    </tr>\n",
       "    <tr>\n",
       "      <td>Seattle</td>\n",
       "      <td>300.333694</td>\n",
       "      <td>11.925486</td>\n",
       "      <td>1.903315</td>\n",
       "    </tr>\n",
       "    <tr>\n",
       "      <td>Washington, DC</td>\n",
       "      <td>300.576421</td>\n",
       "      <td>11.930747</td>\n",
       "      <td>1.943107</td>\n",
       "    </tr>\n",
       "  </tbody>\n",
       "</table>\n",
       "</div>"
      ],
      "text/plain": [
       "                  quantity  weight_lb  price_usd\n",
       "city                                            \n",
       "Atlanta         302.485306  11.929027   1.937980\n",
       "Austin          301.048298  12.092775   1.937456\n",
       "Boston          298.806536  12.063057   1.900973\n",
       "Chicago         301.686186  12.101555   1.930026\n",
       "Denver          301.012745  12.129850   1.932088\n",
       "Los Angeles     301.531276  12.167527   1.918331\n",
       "New York        299.482863  12.090294   1.912662\n",
       "San Francisco   298.979895  12.237399   1.925830\n",
       "Seattle         300.333694  11.925486   1.903315\n",
       "Washington, DC  300.576421  11.930747   1.943107"
      ]
     },
     "execution_count": 18,
     "metadata": {},
     "output_type": "execute_result"
    }
   ],
   "source": [
    "results.groupby(\"city\")[\"quantity\", \"weight_lb\", \"price_usd\"].mean()"
   ]
  },
  {
   "cell_type": "markdown",
   "metadata": {},
   "source": [
    "# Part III (BONUS): Get this process production-ready!\n",
    "_This part of the lab is optional, but very highly recommended, as the skills developed in this part are extremely common in industry._\n",
    "\n",
    "For this step, we're going to take this whole process and put it into a production-ready Python script. **ABSOLUTELY NONE OF THIS STEP SHOULD TAKE PLACE IN A JUPYTER NOTEBOOK! PRODUCTIONALIZED ETL (_\"Extract, Transform, Load\"_) CODE DOES NOT TAKE PLACE IN A JUPYTER NOTEBOOK!**\n",
    "\n",
    "The instructions are simple: As conducted in this lab, read, transform, and export the data in our Excel files into .csv files. The code should be in a `.py` file and executable from the command line. Here are some hints and tips to guide you:\n",
    "\n",
    "### Hints, tips, and tricks:\n",
    "* A good place to start is with the code you've already written. In this notebook, you can click `File > Download as > Python (.py)` to export as a `.py` file. Most of this exercise then comes down to you cleaning this file. (There will be a lot to clean).\n",
    "* Remember `os.mkdir()` will throw an error if the folder you're trying to make already exists. Maybe you should check to see if it already exists. If it already exists, what should you do? (Remember that `.csv` can be overwritten with no problem.) The functions that can help you with this are all in the `os` library.\n",
    "* Remember to follow all of the Python best practices we've already learned:\n",
    "    - All import statements should go at the top of your script.\n",
    "    - Comment your code. Comments shouldn't explain _what_ code does, but _why_ the code does this.\n",
    "    - Keep your code DRY (don't repeat yourself) as opposed to WET (write everything twice). All constants should be variables that only need to be changed once. All code should be bottled into functions so you only need to fix it once.\n",
    "* Make sure not to hardcode \"Jan\" anywhere. The point is that this code can be run throughout the lifetime of this supermarket's project, which is likely months or years. Keep your code so that if you get February data, you only need to change one tiny piece of the script (probably a file path)."
   ]
  }
 ],
 "metadata": {
  "kernelspec": {
   "display_name": "Python 3",
   "language": "python",
   "name": "python3"
  },
  "language_info": {
   "codemirror_mode": {
    "name": "ipython",
    "version": 3
   },
   "file_extension": ".py",
   "mimetype": "text/x-python",
   "name": "python",
   "nbconvert_exporter": "python",
   "pygments_lexer": "ipython3",
   "version": "3.6.8"
  }
 },
 "nbformat": 4,
 "nbformat_minor": 2
}
