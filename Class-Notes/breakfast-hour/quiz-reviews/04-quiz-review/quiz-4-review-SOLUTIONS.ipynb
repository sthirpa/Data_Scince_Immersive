{
 "cells": [
  {
   "cell_type": "markdown",
   "metadata": {},
   "source": [
    "<img src=\"http://imgur.com/1ZcRyrc.png\" style=\"float: left; margin: 15px; height: 80px\">\n",
    "\n",
    "# Week 7 Quiz Review - Python Challenges - Solutions\n",
    "\n",
    " _**Compiled by:** Kelly S. (DSIR) & Noah C. (DSIR)_\n",
    "\n",
    "---"
   ]
  },
  {
   "cell_type": "markdown",
   "metadata": {},
   "source": [
    "### Problem 1\n",
    "\n",
    "Write a function called int_frequency() that takes a list of positive integers as\n",
    "an argument and returns the integer that appears the most frequently in the list.\n",
    "If there are multiple integers that share the same high frequency, return any one\n",
    "of the integers. If the list is empty, return None.\n",
    "```\n",
    "int_frequency([])\n",
    "\n",
    "int_frequency([3, 3, 4, 4, 5, 5]) in [3, 4, 5] --> True\n",
    "\n",
    "int_frequency([1, 1, 3, 2, 1, 4, 3, 5]) --> 1\n",
    "```"
   ]
  },
  {
   "cell_type": "code",
   "execution_count": 1,
   "metadata": {},
   "outputs": [],
   "source": [
    "## Optional import for random selection\n",
    "import random"
   ]
  },
  {
   "cell_type": "code",
   "execution_count": 2,
   "metadata": {},
   "outputs": [],
   "source": [
    "def int_frequency(intlist):    \n",
    "\n",
    "    int_freq_dict = {}\n",
    "\n",
    "    # If inlist is not empty (ie: if it is True)\n",
    "    if intlist:\n",
    "\n",
    "        for i in range(len(intlist)):\n",
    "\n",
    "            if intlist[i] not in int_freq_dict:\n",
    "                int_freq_dict[intlist[i]] = 1\n",
    "\n",
    "            else:\n",
    "                int_freq_dict[intlist[i]] += 1\n",
    "\n",
    "        # .items() returns a list of tuples containg all (key, value) pairs\n",
    "        freq_data = int_freq_dict.items()\n",
    "        \n",
    "        temp_freq = 0\n",
    "        temp_num = 0\n",
    "\n",
    "        for pair in freq_data:\n",
    "\n",
    "            if pair[1] > temp_freq:\n",
    "                temp_freq = pair[1]\n",
    "                temp_num = pair[0]\n",
    "        \n",
    "        ## output first occurring most frequent number\n",
    "        ## return temp_num\n",
    "        \n",
    "        ## added step, if there are multiple integers that share the same high frequency\n",
    "        ## get a list of those numbers\n",
    "        most_freq = [pair[0] for pair in freq_data if pair[1] == temp_freq]\n",
    "        \n",
    "        ## output one at random from that list\n",
    "        return random.choice(most_freq)\n",
    "        \n",
    "        ## output the most frequent number, or a list if multiple\n",
    "        ## return most_freq[0] if len(most_freq) == 1 else most_freq\n",
    "\n",
    "    # If intlist is empty\n",
    "    else:\n",
    "        return None"
   ]
  },
  {
   "cell_type": "code",
   "execution_count": 3,
   "metadata": {},
   "outputs": [],
   "source": [
    "## Alternative Solution\n",
    "def int_frequency(intlist):\n",
    "    if not intlist:\n",
    "        return None\n",
    "        \n",
    "    nums = {n:0 for n in intlist}\n",
    "    for n in intlist:\n",
    "        nums[n] += 1\n",
    "    for n, count in nums.items():\n",
    "        if count == max(nums.values()):\n",
    "            return n"
   ]
  },
  {
   "cell_type": "code",
   "execution_count": 4,
   "metadata": {},
   "outputs": [],
   "source": [
    "## Short solution\n",
    "def int_frequency(intlist):\n",
    "    if not intlist:\n",
    "        return None\n",
    "        \n",
    "    nums = {n:intlist.count(n) for n in intlist}\n",
    "    return max(nums, key=lambda k: nums[k])"
   ]
  },
  {
   "cell_type": "code",
   "execution_count": 5,
   "metadata": {},
   "outputs": [],
   "source": [
    "int_frequency([])"
   ]
  },
  {
   "cell_type": "code",
   "execution_count": 6,
   "metadata": {},
   "outputs": [
    {
     "data": {
      "text/plain": [
       "True"
      ]
     },
     "execution_count": 6,
     "metadata": {},
     "output_type": "execute_result"
    }
   ],
   "source": [
    "int_frequency([3, 3, 4, 4, 5, 5]) in [3, 4, 5]"
   ]
  },
  {
   "cell_type": "code",
   "execution_count": 7,
   "metadata": {},
   "outputs": [
    {
     "data": {
      "text/plain": [
       "1"
      ]
     },
     "execution_count": 7,
     "metadata": {},
     "output_type": "execute_result"
    }
   ],
   "source": [
    "int_frequency([3, 2, 1, 4, 3, 1, 5, 1])"
   ]
  },
  {
   "cell_type": "markdown",
   "metadata": {},
   "source": [
    "### Problem 2\n",
    "\n",
    "Write a function called common_chars() that takes in two lowercase strings,\n",
    "text1 and text2, as arguments. Return a list of the common characters\n",
    "contained in the two strings.\n",
    "```\n",
    "common_chars(\"donuts\", \"tundra\") --> ['d', 'n', 'u', 't']\n",
    "\n",
    "common_chars(\"peaches\", \"door\") --> []\n",
    "```"
   ]
  },
  {
   "cell_type": "code",
   "execution_count": 8,
   "metadata": {},
   "outputs": [],
   "source": [
    "def common_chars(text1, text2):\n",
    "\n",
    "    common_chars = []\n",
    "\n",
    "    for i in range(len(text1)):\n",
    "\n",
    "        for j in range(len(text2)):\n",
    "\n",
    "            if text1[i] == text2[j] and text1[i] not in common_chars:    \n",
    "                common_chars.append(text1[i])\n",
    "        \n",
    "    return common_chars"
   ]
  },
  {
   "cell_type": "code",
   "execution_count": 9,
   "metadata": {},
   "outputs": [
    {
     "data": {
      "text/plain": [
       "['d', 'n', 'u', 't']"
      ]
     },
     "execution_count": 9,
     "metadata": {},
     "output_type": "execute_result"
    }
   ],
   "source": [
    "common_chars(\"donuts\", \"tundra\")"
   ]
  },
  {
   "cell_type": "code",
   "execution_count": 10,
   "metadata": {},
   "outputs": [
    {
     "data": {
      "text/plain": [
       "[]"
      ]
     },
     "execution_count": 10,
     "metadata": {},
     "output_type": "execute_result"
    }
   ],
   "source": [
    "common_chars(\"peaches\", \"door\")"
   ]
  },
  {
   "cell_type": "code",
   "execution_count": 11,
   "metadata": {},
   "outputs": [
    {
     "data": {
      "text/plain": [
       "['r', 'e', 'n']"
      ]
     },
     "execution_count": 11,
     "metadata": {},
     "output_type": "execute_result"
    }
   ],
   "source": [
    "common_chars(\"oregano\", \"peppermint\")"
   ]
  },
  {
   "cell_type": "markdown",
   "metadata": {},
   "source": [
    "### Problem 3\n",
    "Question from the Euler Project: https://projecteuler.net/problem=5\n",
    "\n",
    "2520 is the smallest number that can be divided by each of the numbers from 1 to 10 without any remainder.\n",
    "\n",
    "Define a function that takes in a number, n, and returns the smallest positive number that is evenly divisible by all of the numbers from 1 to n.\n",
    "\n",
    "You may define more than one function to solve this problem.\n",
    "```\n",
    "get_smallest_multiple(10) --> 2520\n",
    "\n",
    "get_smallest_multiple(20) --> 232792560\n",
    "\n",
    "get_smallest_multiple(1) --> 1\n",
    "\n",
    "get_smallest_multiple(0) --> 'Please input a positive number'\n",
    "```"
   ]
  },
  {
   "cell_type": "code",
   "execution_count": 12,
   "metadata": {},
   "outputs": [],
   "source": [
    "def get_smallest_multiple(n):\n",
    "    if n < 1:\n",
    "        return 'Please input a positive number'\n",
    "\n",
    "    if n <= 2:\n",
    "        return n\n",
    "\n",
    "    # From largest to smallest, add numbers that are greater than\n",
    "    # half of our highest divisor, n\n",
    "    factors = [number for number in range(n, 1, -1) if number * 2 > n]\n",
    "\n",
    "    # Define our base multiple, double our highest divisor\n",
    "    i = n * 2\n",
    "\n",
    "    while True:\n",
    "        for a in factors:\n",
    "            # If our multiple is not divisible by a already\n",
    "            # Add our highest multiple again\n",
    "            if i % a != 0:\n",
    "                i += n\n",
    "                break\n",
    "            if (a == factors[-1] and i % a == 0):\n",
    "                return i"
   ]
  },
  {
   "cell_type": "code",
   "execution_count": 13,
   "metadata": {},
   "outputs": [
    {
     "data": {
      "text/plain": [
       "2520"
      ]
     },
     "execution_count": 13,
     "metadata": {},
     "output_type": "execute_result"
    }
   ],
   "source": [
    "get_smallest_multiple(10)"
   ]
  },
  {
   "cell_type": "code",
   "execution_count": 14,
   "metadata": {},
   "outputs": [
    {
     "data": {
      "text/plain": [
       "232792560"
      ]
     },
     "execution_count": 14,
     "metadata": {},
     "output_type": "execute_result"
    }
   ],
   "source": [
    "get_smallest_multiple(20)"
   ]
  },
  {
   "cell_type": "code",
   "execution_count": 15,
   "metadata": {},
   "outputs": [
    {
     "data": {
      "text/plain": [
       "1"
      ]
     },
     "execution_count": 15,
     "metadata": {},
     "output_type": "execute_result"
    }
   ],
   "source": [
    "get_smallest_multiple(1)"
   ]
  },
  {
   "cell_type": "code",
   "execution_count": 16,
   "metadata": {},
   "outputs": [
    {
     "data": {
      "text/plain": [
       "'Please input a positive number'"
      ]
     },
     "execution_count": 16,
     "metadata": {},
     "output_type": "execute_result"
    }
   ],
   "source": [
    "get_smallest_multiple(0)"
   ]
  },
  {
   "cell_type": "markdown",
   "metadata": {},
   "source": [
    "### Problem 4\n",
    "Suppose you're given a portion of a phone number. Each digit corresponds to letters (as shown below). Using python, write a function to take in a phone number (as an integer) and return all possible combinations of letters the given number could represent. You can import any standard Python modules that might be useful.\n",
    "\n",
    "Telephone digits, for reference:\n",
    "```\n",
    "    1: nothing\n",
    "    2: a, b, c\n",
    "    3: d, e, f\n",
    "    4: g, h, i\n",
    "    5: j, k, l\n",
    "    6: m, n, o\n",
    "    7: p, q, r, s\n",
    "    8: t, u, v\n",
    "    9: w, x, y, z\n",
    "    0: nothing\n",
    "```\n",
    "\n",
    "Test Cases:\n",
    "```\n",
    "phone_digits(24)\n",
    "\n",
    "        [['a', 'g'],\n",
    "        ['a', 'h'],\n",
    "        ['a', 'i'],\n",
    "        ['b', 'g'],\n",
    "        ['b', 'h'],\n",
    "        ['b', 'i'],\n",
    "        ['c', 'g'],\n",
    "        ['c', 'h'],\n",
    "        ['c', 'i']]\n",
    "\n",
    "phone_digits(1)\n",
    "\n",
    "        [] or [[]]\n",
    "\n",
    "phone_digits(7)\n",
    "\n",
    "        [['p'], ['q'], ['r'], ['s']]\n",
    "```"
   ]
  },
  {
   "cell_type": "code",
   "execution_count": 17,
   "metadata": {},
   "outputs": [],
   "source": [
    "digit_char_map = {\n",
    "    1: [],\n",
    "    2: ['a', 'b', 'c'],\n",
    "    3: ['d', 'e', 'f'],\n",
    "    4: ['g', 'h', 'i'],\n",
    "    5: ['j', 'k', 'l'],\n",
    "    6: ['m', 'n', 'o'],\n",
    "    7: ['p', 'q', 'r', 's'],\n",
    "    8: ['t', 'u', 'v'],\n",
    "    9: ['w', 'x', 'y', 'z'],\n",
    "    0: []\n",
    "}\n"
   ]
  },
  {
   "cell_type": "code",
   "execution_count": 18,
   "metadata": {},
   "outputs": [],
   "source": [
    "import copy\n",
    "\n",
    "def phone_digits(phone_number):\n",
    "    combinations = [[char] for char in digit_char_map[int(str(phone_number)[0])]]\n",
    "    n_copies = len(combinations)\n",
    "\n",
    "    for digit in str(phone_number)[1:]:\n",
    "        digit = int(digit)\n",
    "        combinations_base = copy.deepcopy(combinations)\n",
    "\n",
    "        for _ in range(len(digit_char_map[digit])-1):\n",
    "            combinations+=copy.deepcopy(combinations_base)\n",
    "\n",
    "        for i, val in enumerate(digit_char_map[digit]):\n",
    "            i*=n_copies\n",
    "            for j in range(n_copies):\n",
    "                combinations[i+j].append(val)\n",
    "\n",
    "        n_copies *= len(digit_char_map[digit])\n",
    "\n",
    "    return combinations\n"
   ]
  },
  {
   "cell_type": "code",
   "execution_count": 19,
   "metadata": {},
   "outputs": [],
   "source": [
    "def phone_digits(num):\n",
    "    num = str(num)\n",
    "    output = ['']\n",
    "    for char in num:\n",
    "        letters = digit_char_map.get(int(char),'')\n",
    "        output = [prefix+letter for prefix in output for letter in letters]\n",
    "    return output"
   ]
  },
  {
   "cell_type": "markdown",
   "metadata": {},
   "source": [
    "### Problem 5\n",
    "\n",
    "Your task is to construct a building which will be a pile of $n$ cubes. The cube at the bottom will have a volume of $n^3$, the cube above will have volume of $(n-1)^3$ and so on until the top which will have a volume of $1^3$.\n",
    "\n",
    "You are given the total volume $m$ of the building. Being given $m$ can you find the number $n$ of cubes you will have to build?\n",
    "\n",
    "The parameter of the function `findNb` will be an integer $m$ and you have to return the integer $n$ such as $n^3 + (n-1)^3 + ... + 1^3 = m$ if such a `n` exists or -1 if there is no such `n`."
   ]
  },
  {
   "cell_type": "markdown",
   "metadata": {},
   "source": [
    "```\n",
    "findNb(36) --> 3\n",
    "findNb(1071225) --> 45\n",
    "findNb(91716553919377) --> -1\n",
    "```"
   ]
  },
  {
   "cell_type": "code",
   "execution_count": 20,
   "metadata": {},
   "outputs": [],
   "source": [
    "def findNb(m):\n",
    "    # Base case (n = 1)\n",
    "    if 1 ** 3 == m:\n",
    "        return 1\n",
    "    \n",
    "    # Subsequent cases\n",
    "    else:\n",
    "        n = 2\n",
    "        volume = 1\n",
    "        while volume < m:\n",
    "            volume += n**3\n",
    "            if volume == m:\n",
    "                return n\n",
    "            else:\n",
    "                n += 1\n",
    "        return -1"
   ]
  },
  {
   "cell_type": "code",
   "execution_count": 21,
   "metadata": {},
   "outputs": [],
   "source": [
    "## Alternative Solution\n",
    "def findNb(m):\n",
    "    current_n = 1\n",
    "    while m > 0:\n",
    "        m -= current_n**3\n",
    "        if m == 0:\n",
    "            return current_n\n",
    "        current_n +=1\n",
    "    return -1"
   ]
  },
  {
   "cell_type": "code",
   "execution_count": 22,
   "metadata": {},
   "outputs": [
    {
     "data": {
      "text/plain": [
       "3"
      ]
     },
     "execution_count": 22,
     "metadata": {},
     "output_type": "execute_result"
    }
   ],
   "source": [
    "findNb(36)"
   ]
  },
  {
   "cell_type": "code",
   "execution_count": 23,
   "metadata": {},
   "outputs": [
    {
     "data": {
      "text/plain": [
       "45"
      ]
     },
     "execution_count": 23,
     "metadata": {},
     "output_type": "execute_result"
    }
   ],
   "source": [
    "findNb(1071225)"
   ]
  },
  {
   "cell_type": "code",
   "execution_count": 24,
   "metadata": {},
   "outputs": [
    {
     "data": {
      "text/plain": [
       "-1"
      ]
     },
     "execution_count": 24,
     "metadata": {},
     "output_type": "execute_result"
    }
   ],
   "source": [
    "findNb(91716553919377)"
   ]
  }
 ],
 "metadata": {
  "kernelspec": {
   "display_name": "Python 3 (ipykernel)",
   "language": "python",
   "name": "python3"
  },
  "language_info": {
   "codemirror_mode": {
    "name": "ipython",
    "version": 3
   },
   "file_extension": ".py",
   "mimetype": "text/x-python",
   "name": "python",
   "nbconvert_exporter": "python",
   "pygments_lexer": "ipython3",
   "version": "3.8.12"
  }
 },
 "nbformat": 4,
 "nbformat_minor": 4
}
