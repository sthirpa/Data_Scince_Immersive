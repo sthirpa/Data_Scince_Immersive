{
 "cells": [
  {
   "cell_type": "markdown",
   "id": "b0f01471-5f74-43f2-91c6-6a8dbd48effe",
   "metadata": {},
   "source": [
    "# Numbers as Strings"
   ]
  },
  {
   "cell_type": "code",
   "execution_count": null,
   "id": "6ffc7a1e-5811-43df-8899-16ec2e8d88b9",
   "metadata": {},
   "outputs": [],
   "source": [
    "number_string = '123456789'"
   ]
  },
  {
   "cell_type": "markdown",
   "id": "04f01ca2-a32c-4a28-b334-d48a48e33a3a",
   "metadata": {},
   "source": [
    "#### Return the number 5"
   ]
  },
  {
   "cell_type": "code",
   "execution_count": null,
   "id": "bbbdf38c-faf9-4226-9bef-4ce34318e085",
   "metadata": {},
   "outputs": [],
   "source": []
  },
  {
   "cell_type": "markdown",
   "id": "96e7e057-4549-406b-91b7-3cfafd02501d",
   "metadata": {},
   "source": [
    "#### Return the number 456"
   ]
  },
  {
   "cell_type": "code",
   "execution_count": null,
   "id": "d6395154-8548-4632-8232-831523c86b38",
   "metadata": {},
   "outputs": [],
   "source": []
  },
  {
   "cell_type": "markdown",
   "id": "aa7e151c-b55e-434f-8e3d-d582bb04fee8",
   "metadata": {},
   "source": [
    "#### Return the number 159"
   ]
  },
  {
   "cell_type": "code",
   "execution_count": null,
   "id": "662de123-c5ad-449e-9a5b-896f9e76a93c",
   "metadata": {},
   "outputs": [],
   "source": []
  },
  {
   "cell_type": "markdown",
   "id": "3702dbd8-585a-43cd-aaf0-68b327860e17",
   "metadata": {},
   "source": [
    "#### What is the sum of the first and last character of the string?"
   ]
  },
  {
   "cell_type": "code",
   "execution_count": null,
   "id": "c2647c6e-7d3b-4006-ba58-203995d5fe6a",
   "metadata": {},
   "outputs": [],
   "source": []
  },
  {
   "cell_type": "markdown",
   "id": "ff897a03-08c5-404c-b242-fe49b636bb86",
   "metadata": {},
   "source": [
    "#### What is the sum of the whole string?"
   ]
  },
  {
   "cell_type": "code",
   "execution_count": null,
   "id": "f48f2ba5-53af-4304-93fc-783994161b37",
   "metadata": {},
   "outputs": [],
   "source": []
  },
  {
   "cell_type": "markdown",
   "id": "2179085e-31e1-4f95-a9cf-fde91524a780",
   "metadata": {},
   "source": [
    "#### What is the product of the whole string?"
   ]
  },
  {
   "cell_type": "code",
   "execution_count": null,
   "id": "f0792206-ee18-4d64-a52a-f2bfd1468c29",
   "metadata": {},
   "outputs": [],
   "source": []
  },
  {
   "cell_type": "markdown",
   "id": "22e8128b-e5da-42d1-83a4-b4f0ac9b8f01",
   "metadata": {},
   "source": [
    "# Enumerate Method\n",
    "\n",
    "https://docs.python.org/3/library/functions.html#enumerate\n",
    "\n",
    "https://realpython.com/python-enumerate/"
   ]
  },
  {
   "cell_type": "code",
   "execution_count": null,
   "id": "99035567-222a-4706-9be8-d1a5d943454e",
   "metadata": {},
   "outputs": [],
   "source": [
    "donut_list = ['chocolate frosted', 'maple bar', 'old fashioned', 'glazed twist', 'cinnamon twist', 'cruller', 'jelly', 'strawberry frosted', 'bear claw', 'hole']"
   ]
  },
  {
   "cell_type": "code",
   "execution_count": null,
   "id": "469db219-6809-42a1-9a8b-352444f79d7f",
   "metadata": {},
   "outputs": [],
   "source": [
    "for i, donut in enumerate(donut_list):\n",
    "    print(i)\n",
    "    print(donut)\n",
    "    print()"
   ]
  },
  {
   "cell_type": "markdown",
   "id": "5b01e6b0-514a-4eae-8dda-ce5845231a64",
   "metadata": {},
   "source": [
    "### Given the range of a number write a function that will return how many digits it take to find X odd numbers. If there are fewer than X odd numbers rerturn \"Fewer than X\"\n",
    "\n",
    "For example if given the number 100 and 5  how many numbers do you count through before you reach five odd numbers\n",
    "\n",
    "**1**, 2, **3**, 4, **5**, 6, **7**, 8, **9**\n",
    "\n",
    "You would go through 9 numbers"
   ]
  },
  {
   "cell_type": "code",
   "execution_count": null,
   "id": "dab65d04-bcaf-4765-801c-d7d3bcf6a891",
   "metadata": {},
   "outputs": [],
   "source": [
    "def odd_counter(number):\n",
    "    pass"
   ]
  },
  {
   "cell_type": "code",
   "execution_count": null,
   "id": "80aa9ab3-c16f-40a9-8776-d4bc90582d72",
   "metadata": {},
   "outputs": [],
   "source": [
    "assert(odd_counter(10, 5) == 9)"
   ]
  },
  {
   "cell_type": "code",
   "execution_count": null,
   "id": "a3e04896-ce3e-40c6-99fa-ebc5d234ad8d",
   "metadata": {},
   "outputs": [],
   "source": [
    "assert(odd_counter(30, 20) == \"Fewer than 20\")"
   ]
  },
  {
   "cell_type": "code",
   "execution_count": null,
   "id": "9b103f51-edf7-4e8c-b33f-7f9858411fc9",
   "metadata": {},
   "outputs": [],
   "source": [
    "assert(odd_counter(100, 30) == 59)"
   ]
  }
 ],
 "metadata": {
  "kernelspec": {
   "display_name": "Python 3",
   "language": "python",
   "name": "python3"
  },
  "language_info": {
   "codemirror_mode": {
    "name": "ipython",
    "version": 3
   },
   "file_extension": ".py",
   "mimetype": "text/x-python",
   "name": "python",
   "nbconvert_exporter": "python",
   "pygments_lexer": "ipython3",
   "version": "3.8.5"
  }
 },
 "nbformat": 4,
 "nbformat_minor": 5
}
