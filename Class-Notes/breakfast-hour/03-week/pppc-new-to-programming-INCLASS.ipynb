{
 "cells": [
  {
   "cell_type": "markdown",
   "metadata": {},
   "source": [
    "# Python Pair Programming Challenge - Week 1   \n",
    "**\"New to Programming\"**\n",
    "\n",
    "--------\n",
    "_Challenges taken from: https://edabit.com/challenges/python3_  \n",
    "_Compiled by: Kelly Slatery_"
   ]
  },
  {
   "cell_type": "markdown",
   "metadata": {},
   "source": [
    "### Challenge 1: Convert Minutes into Seconds"
   ]
  },
  {
   "cell_type": "markdown",
   "metadata": {},
   "source": [
    "Write a function that takes an integer minutes and converts it to seconds.\n",
    "\n",
    ">Examples:  \n",
    "convert(5) ➞ 300  \n",
    "convert(3) ➞ 180  \n",
    "convert(2) ➞ 120  \n",
    "\n",
    "_Note: Don't forget to return the result!_"
   ]
  },
  {
   "cell_type": "code",
   "execution_count": 1,
   "metadata": {},
   "outputs": [],
   "source": [
    "# Solution by Shuya, Annie\n",
    "def convert(mins):\n",
    "    return mins*60"
   ]
  },
  {
   "cell_type": "code",
   "execution_count": 2,
   "metadata": {},
   "outputs": [],
   "source": [
    "# Test cases - should get no output if you function returns the correct values!\n",
    "assert(convert(5) == 300)\n",
    "assert(convert(3) == 180)\n",
    "assert(convert(2) == 120)"
   ]
  },
  {
   "cell_type": "markdown",
   "metadata": {},
   "source": [
    "### Challenge 2: Difference of Max and Min Numbers in List"
   ]
  },
  {
   "cell_type": "markdown",
   "metadata": {},
   "source": [
    "Create a function that takes a list and returns the **difference** between the biggest number and the smallest number.\n",
    "\n",
    ">Examples:  \n",
    "difference_max_min([10, 4, 1, 4, -10, -50, 32, 21]) ➞ 82  \n",
    "`# Smallest number is -50, biggest is 32.`  \n",
    "difference_max_min([44, 32, 86, 19]) ➞ 67  \n",
    "`# Smallest number is 19, biggest is 86.`  \n",
    "difference_max_min([]) ➞ 0  \n",
    "`# Empty list should return 0 difference.`\n",
    "\n",
    "Notes:\n",
    "- Don't forget to **return** the result.\n",
    "- Input will always be a list, but could be empty."
   ]
  },
  {
   "cell_type": "code",
   "execution_count": 3,
   "metadata": {},
   "outputs": [],
   "source": [
    "def difference_max_min(nums):\n",
    "    if len(nums) == 0:\n",
    "        return 0\n",
    "    else:\n",
    "        return max(nums) - min(nums)"
   ]
  },
  {
   "cell_type": "code",
   "execution_count": 4,
   "metadata": {},
   "outputs": [],
   "source": [
    "# Test cases - should get no output if you function returns the correct values!\n",
    "assert(difference_max_min([10, 4, 1, 4, -10, -50, 32, 21]) == 82)\n",
    "assert(difference_max_min([44, 32, 86, 19]) == 67)\n",
    "assert(difference_max_min([]) == 0)"
   ]
  },
  {
   "cell_type": "markdown",
   "metadata": {},
   "source": [
    "### Challenge 3: Vowel Replacer"
   ]
  },
  {
   "cell_type": "markdown",
   "metadata": {},
   "source": [
    "Create a function that replaces all the vowels in a string with a specified character.\n",
    "\n",
    ">Examples:  \n",
    "replace_vowels(\"the aardvark\", \"#\") ➞ \"th# ##rdv#rk\"  \n",
    "replace_vowels(\"minnie mouse\", \"?\") ➞ \"m?nn?? m??s?\"  \n",
    "replace_vowels(\"shakespeare\", \"*\") ➞ \"sh\\*k\\*sp\\*\\*r\\*\"  \n",
    "\n",
    "_Note: All characters will be in lower case._"
   ]
  },
  {
   "cell_type": "code",
   "execution_count": 5,
   "metadata": {},
   "outputs": [],
   "source": [
    "# Solution by Mason, Julio, Shirley\n",
    "def replace_vowels(string, replacer):\n",
    "    for letter in \"aeiouAEIOU\":\n",
    "        string = string.replace(letter, replacer)\n",
    "    return string"
   ]
  },
  {
   "cell_type": "code",
   "execution_count": 6,
   "metadata": {},
   "outputs": [],
   "source": [
    "def replace_vowels(phrase, replacement):\n",
    "    phrase = phrase.lower()\n",
    "    for vowel in ['a', 'e', 'i', 'o', 'u']:\n",
    "        phrase = phrase.replace(vowel, replacement)\n",
    "    return phrase"
   ]
  },
  {
   "cell_type": "code",
   "execution_count": 7,
   "metadata": {},
   "outputs": [],
   "source": [
    "# Test cases - should get no output if you function returns the correct values!\n",
    "assert(replace_vowels(\"the aardvark\", \"#\") == \"th# ##rdv#rk\")\n",
    "assert(replace_vowels(\"minnie mouse\", \"?\") == \"m?nn?? m??s?\")\n",
    "assert(replace_vowels(\"shakespeare\", \"*\") == \"sh*k*sp**r*\")"
   ]
  }
 ],
 "metadata": {
  "kernelspec": {
   "display_name": "Python 3 (ipykernel)",
   "language": "python",
   "name": "python3"
  },
  "language_info": {
   "codemirror_mode": {
    "name": "ipython",
    "version": 3
   },
   "file_extension": ".py",
   "mimetype": "text/x-python",
   "name": "python",
   "nbconvert_exporter": "python",
   "pygments_lexer": "ipython3",
   "version": "3.8.12"
  }
 },
 "nbformat": 4,
 "nbformat_minor": 4
}
