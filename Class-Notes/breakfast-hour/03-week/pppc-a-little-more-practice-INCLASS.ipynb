{
 "cells": [
  {
   "cell_type": "markdown",
   "metadata": {},
   "source": [
    "# Python Pair Programming Challenge - Week 1\n",
    "**\"A Little More Practice\"**\n",
    "\n",
    "--------\n",
    "_Challenges taken from: GitHub user @allardbrain_  \n",
    "_Compiled by: Kelly Slatery_"
   ]
  },
  {
   "cell_type": "markdown",
   "metadata": {},
   "source": [
    "### Challenge 1: Digit Sum"
   ]
  },
  {
   "cell_type": "markdown",
   "metadata": {},
   "source": [
    "Write a function called digit_sum() that takes a positive integer $n$ as input \n",
    "and returns the sum of all that number's digits.\n",
    "\n",
    ">Examples:  \n",
    "digit_sum(1234) ➞ 10  \n",
    "digit_sum(10) ➞ 1   \n",
    "digit_sum(5) ➞ 5\n",
    "\n",
    "_Notes: Try this with a list comprehension!_"
   ]
  },
  {
   "cell_type": "code",
   "execution_count": 1,
   "metadata": {},
   "outputs": [],
   "source": [
    "# Solution by Chris, Son\n",
    "def digit_sum(number):\n",
    "    number_sum = 0\n",
    "    for num in str(number):\n",
    "        number_sum += int(num)\n",
    "    return number_sum"
   ]
  },
  {
   "cell_type": "code",
   "execution_count": 2,
   "metadata": {},
   "outputs": [],
   "source": [
    "def digit_sum(n):\n",
    "    return sum([int(i) for i in str(n)])"
   ]
  },
  {
   "cell_type": "code",
   "execution_count": 3,
   "metadata": {},
   "outputs": [],
   "source": [
    "# Test cases - should get no output if your function returns the correct values!\n",
    "assert(digit_sum(1234) == 10)\n",
    "assert(digit_sum(10) == 1)\n",
    "assert(digit_sum(5) == 5)"
   ]
  },
  {
   "cell_type": "markdown",
   "metadata": {},
   "source": [
    "### Challenge 2: Factorial"
   ]
  },
  {
   "cell_type": "markdown",
   "metadata": {},
   "source": [
    "Define a function factorial() that takes an integer x as input\n",
    "and returns the factorial of x. A factorial of a number is \n",
    "calculated as a number multiplied by all the numbers that are \n",
    "less than it. Example: 5! = 5 * 4 * 3 * 2 * 1\n",
    "\n",
    "**1! and 0! should both return 1.**\n",
    "\n",
    ">Examples:  \n",
    "factorial(5) ➞ 120  \n",
    "factorial(0) ➞ 1    \n",
    "factorial(1) ➞ 1"
   ]
  },
  {
   "cell_type": "code",
   "execution_count": 4,
   "metadata": {},
   "outputs": [],
   "source": [
    "import numpy as np\n",
    "\n",
    "def factorial(num):\n",
    "    return np.prod([i for i in range(1, num + 1)])"
   ]
  },
  {
   "cell_type": "code",
   "execution_count": 5,
   "metadata": {},
   "outputs": [],
   "source": [
    "def factorial(x):\n",
    "    fact = 1\n",
    "    if x == 0 or x == 1:\n",
    "        return 1\n",
    "    if x < 0:\n",
    "        return 'Please input a whole number.'\n",
    "    for i in range(x):\n",
    "        fact *= (i+1)\n",
    "    return fact"
   ]
  },
  {
   "cell_type": "code",
   "execution_count": 6,
   "metadata": {},
   "outputs": [],
   "source": [
    "# Test cases - should get no output if your function returns the correct values!\n",
    "assert(factorial(5) == 120)\n",
    "assert(factorial(0) == 1)\n",
    "assert(factorial(1) == 1)"
   ]
  }
 ],
 "metadata": {
  "kernelspec": {
   "display_name": "Python 3 (ipykernel)",
   "language": "python",
   "name": "python3"
  },
  "language_info": {
   "codemirror_mode": {
    "name": "ipython",
    "version": 3
   },
   "file_extension": ".py",
   "mimetype": "text/x-python",
   "name": "python",
   "nbconvert_exporter": "python",
   "pygments_lexer": "ipython3",
   "version": "3.8.12"
  }
 },
 "nbformat": 4,
 "nbformat_minor": 4
}
