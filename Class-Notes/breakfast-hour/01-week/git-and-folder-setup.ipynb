{
 "cells": [
  {
   "cell_type": "markdown",
   "metadata": {},
   "source": [
    "# Git and Repo Setup\n",
    "\n",
    "_Author: Sara Soueidan_\n",
    "_Edited by: Kelly Slatery_"
   ]
  },
  {
   "cell_type": "code",
   "execution_count": null,
   "metadata": {},
   "outputs": [],
   "source": [
    "# Question 1 (in slack)\n",
    "# Print \"Hello World\" using Python\n",
    "\n",
    "# Question 2 (Challenge)\n",
    "# Calculate 5 % 2 ???\n"
   ]
  },
  {
   "cell_type": "markdown",
   "metadata": {},
   "source": [
    "## **Learning Objectives**\n",
    "\n",
    "1. How to store course files on your local machine\n",
    "2. Setting up your Submissions repository [Deck](set-up-submissions.pdf)\n",
    "3. Setting up your breakfast-hour repository [Deck](set-up-breakfast-hour.pdf)\n",
    "4. Github Enterprise (GHE) Workflows\n"
   ]
  },
  {
   "cell_type": "markdown",
   "metadata": {},
   "source": [
    "## **1. Setting up your Course Files for Success**"
   ]
  },
  {
   "cell_type": "markdown",
   "metadata": {},
   "source": [
    "**Example File Structure for Course Materials (Local Machine)** <br>\n",
    "_Green Dot Indicates Git Repo_\n",
    "\n",
    "![](../assets/file-structure-collapsed.png)"
   ]
  },
  {
   "cell_type": "markdown",
   "metadata": {},
   "source": [
    "**Example File Structure for Course Materials - Expanded (Local Machine)** <br>\n",
    "_Green Dot Indicates Git Repo_\n",
    "\n",
    "![](../assets/file-structure-example.png)"
   ]
  },
  {
   "cell_type": "markdown",
   "metadata": {},
   "source": [
    "## **2. Setting up your Submissions Repo**"
   ]
  },
  {
   "cell_type": "markdown",
   "metadata": {},
   "source": [
    "**Submissions Setup**\n",
    "[Deck](set-up-submissions.pdf)"
   ]
  },
  {
   "cell_type": "markdown",
   "metadata": {},
   "source": [
    "## **3. Setting up your Breakfast-hour Repo**"
   ]
  },
  {
   "cell_type": "markdown",
   "metadata": {},
   "source": [
    "**Breakfast-hour Setup**\n",
    "[Deck](set-up-breakfast-hour.pdf)"
   ]
  },
  {
   "cell_type": "markdown",
   "metadata": {},
   "source": [
    "## 4. **Github Workflows**"
   ]
  },
  {
   "cell_type": "markdown",
   "metadata": {},
   "source": [
    "**breakfast-hour**<br>\n",
    "_breakfast-hour is updated by IAs whenever there is new material for the morning Breakfast Hour. You must pull the repo any time there are changes to maintain the current version._\n",
    "\n",
    "| Location | Action                                                   | When                  | Why    |\n",
    "|----------|----------------------------------------------------------|-----------------------|--------|\n",
    "| **CLI** <br>breakfast-hour   | ```git pull upstream master```                           | before breakfast hour | get most current version of repo (updated by IAs) |\n",
    "| * **CLI** <br>breakfast-hour      | ```cp [file-name] [your-new-file-name]```     | before breakfast hour |copy the file you will be working on and assign new name (e.g. starter-code-kelly.ipynb) to avoid merge errors |\n",
    "| **CLI** <br> breakfast-hour      | ```jupyter lab``` OR ```jupyter notebook```| during breakfast hour | opens jupyter lab/notebook|\n",
    "| **.ipynb**   | work in jupyter lab/notebook | during breakfast hour  | |\n",
    "| **.ipynb**   | save and close jupyter lab/notebook completely (```Running panel > SHUT DOWN``` OR ```File > Close and Halt```) | after breakfast hour  | saves your local work and shuts down the kernel|\n",
    "|** **CLI** <br> breakfast-hour      | ```git add . ``` <br> ```git commit -m \"message\"``` <br> ```git push origin master``` | after breakfast hour  | pushes your local changes to your remote origin repo on GHE|\n",
    "\n",
    "_* you can also do this step in jupyter lab/notebook by duplicating/making a copy of the notebook you will be working on_  \n",
    "_** always add, commit, push, and pull from the **root directory** i.e. breakfast-hour_\n"
   ]
  },
  {
   "cell_type": "markdown",
   "metadata": {},
   "source": [
    "------------\n",
    "\n",
    "**Lesson Git Workflow**<br>\n",
    "_Lessons are pushed daily. You must fork and clone each lesson before the start of class. If you do not see the link to the lesson on the [course-info page](https://git.generalassemb.ly/DSIR-1019/course-info), check Slack or the [list of organization repositories](https://git.generalassemb.ly/DSIR-1019)._\n",
    "\n",
    "| Location | Action                                                   | When                  | Why    |\n",
    "|----------|----------------------------------------------------------|-----------------------|--------|\n",
    "| **GHE** <br> DSIR-1019/lesson      | Fork ![](../assets/fork.png)                 | before class | create your own lesson repo by forking |\n",
    "| **GHE** <br> your-name/lesson      | Clone part 1 ![](../assets/clone.png) | before class |first step to putting your repo on your local machine|\n",
    "| **GHE** <br> your-name/lesson       | Clone part 2 ![](../assets/copy-clone-link.png) | before class| copies address to use in CLI to clone the repo|\n",
    "| **CLI** <br> dsi/lessons/week | Clone part 3 ```git clone [your-name/lesson address]``` | before class | clones your GHE repo to your local machine (adds new git repository to your machine) |\n",
    "| **CLI** <br> dsi/lessons/week | ```cd [lesson]``` | before class | move into your new repo |\n",
    "|* **CLI** <br> dsi/lessons/week/lesson | ```cp [starter-code.ipynb] [starter-code-your-name.ipynb] ``` | before class | copy starter-code.ipynb and assign new name |\n",
    "| **CLI** <br> dsi/lessons/week/lesson (or higher)      | ```jupyter lab``` OR ```jupyter notebook```| during class | opens jupyter lab/notebook|\n",
    "| **.ipynb**   | work in jupyter lab/notebook | during class  | |\n",
    "| **.ipynb**   | save and close jupyter lab/notebook completely (```Running panel > SHUT DOWN``` OR ```File > Close and Halt```) | after class  | saves your local work and shuts down the kernel|\n",
    "| **CLI** <br> dsi/lessons/week/lesson      | ```git add . ``` <br> ```git commit -m \"message\"``` <br> ```git push origin master``` | after class  | pushes your local changes to your remote origin repo on GHE|\n",
    "\n",
    "_* optional step if you do not plan to create an upstream for every lesson to pull the solution code; you can also do this step in jupyter lab/notebook by duplicating/making a copy of the notebook you will be working on_\n"
   ]
  },
  {
   "cell_type": "markdown",
   "metadata": {},
   "source": [
    "------------\n",
    "\n",
    "**Submissions Git Workflow**<br>\n",
    "_Submissions that require Github: Projects, Labs, and Quizzes. The workflow is the same for all, but the example below uses a lab as an example._\n",
    "\n",
    "\n",
    "| Location | Action                                                   | When                  | Why    |\n",
    "|----------|----------------------------------------------------------|-----------------------|--------|\n",
    "| **GHE** <br> DSIR-1019/lab      | Fork ![](../assets/fork-1.png)  |  | create your own lab repo by forking |\n",
    "| **GHE** <br> your-name/lab      |  Download part 1 ![](../assets/clone.png) |  |first step before you download the repo|\n",
    "| **GHE** <br> your-name/lab       | Download part 2 ![](../assets/download.png)| | **download a .zip file** to your Downloads folder|\n",
    "| **Finder OR CLI** <br> Downloads | unzip the lab.zip (if CLI: ```unzip zip-file-name```)|  | opens up the zipped folder |\n",
    "| **Finder OR CLI** <br> Downloads => dsi/Submissions/labs | move your unzipped lab folder to your dsi/Submissions/labs folder (if CLI: ```mv original-path destination-path```) |  |  |\n",
    "|* **CLI** <br> dsi/Submissions/labs | ```cp [starter-code.ipynb] [your-name-date.ipynb] ``` |  | copy starter-code.ipynb and assign new name |\n",
    "| **CLI** <br> dsi/Submissions/labs/lab (or higher)      | ```jupyter lab``` OR ```jupyter notebook```|  | opens jupyter lab/notebook|\n",
    "| **.ipynb**   | work in jupyter lab/notebook |   | |\n",
    "| **.ipynb**   | save and close jupyter lab/notebook completely (```Running panel > SHUT DOWN``` OR ```File > Close and Halt```) |  | saves your local work and shuts down the kernel|\n",
    "| ** **CLI** <br> dsi/Submissions      | ```git add . ``` <br> ```git commit -m \"message\"``` <br> ```git push origin master``` |   | pushes your local changes to your remote origin repo on GHE|\n",
    "| **Google Classroom** | submit your lab by adding the lab notebook url from GHE as a link on Google Classroom | before lab is due |for grading|\n",
    "\n",
    "_* optional step_  \n",
    "_** always add, commit, push from the **root directory** i.e. Submissions_\n"
   ]
  },
  {
   "cell_type": "code",
   "execution_count": null,
   "metadata": {},
   "outputs": [],
   "source": []
  }
 ],
 "metadata": {
  "kernelspec": {
   "display_name": "Python 3",
   "language": "python",
   "name": "python3"
  },
  "language_info": {
   "codemirror_mode": {
    "name": "ipython",
    "version": 3
   },
   "file_extension": ".py",
   "mimetype": "text/x-python",
   "name": "python",
   "nbconvert_exporter": "python",
   "pygments_lexer": "ipython3",
   "version": "3.7.9"
  }
 },
 "nbformat": 4,
 "nbformat_minor": 4
}
