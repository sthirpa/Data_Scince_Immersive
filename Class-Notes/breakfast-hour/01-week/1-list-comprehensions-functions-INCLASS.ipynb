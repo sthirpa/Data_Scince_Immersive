{
 "cells": [
  {
   "cell_type": "markdown",
   "metadata": {},
   "source": [
    "# Day 4: Python Review - List Comprehensions & Functions\n",
    "_Authors: Kelly Slatery, Sara Soueidan_"
   ]
  },
  {
   "cell_type": "markdown",
   "metadata": {},
   "source": [
    "## Warm-Ups (in Slack)"
   ]
  },
  {
   "cell_type": "markdown",
   "metadata": {},
   "source": [
    "#### 1. Why are functions useful?"
   ]
  },
  {
   "cell_type": "markdown",
   "metadata": {},
   "source": [
    "_**Answer:**_ \n",
    "\n",
    "Reusability"
   ]
  },
  {
   "cell_type": "markdown",
   "metadata": {},
   "source": [
    "#### 2. In relation to functions, what is the difference between a parameter and an argument?"
   ]
  },
  {
   "cell_type": "markdown",
   "metadata": {},
   "source": [
    "**_Answer:_**  \n",
    "Parameters are the variables you are saying will be passed into the function, the same names\n",
    "that you're using inside of the function definition  \n",
    "Ex: _\"number\"_ is the parameter here\n",
    "```\n",
    "def times_two(number):\n",
    "    return 2*number\n",
    "```\n",
    "\n",
    "Arguments are the actual objects that you pass into the function later \n",
    "when you are running the function  \n",
    "Ex. _\"my_number_four\"_ is the argument here, being passed in for the parameter _\"number\"_\n",
    "```\n",
    "my_number_four = 4\n",
    "times_two(my_number_four)\n",
    "```"
   ]
  },
  {
   "cell_type": "markdown",
   "metadata": {},
   "source": [
    "#### 3. Write a for loop or list comprehension that returns a list of only names that start with \"M\". \n",
    "_Hint: your code should ignore the letter case (case-agnostic)_\n",
    "\n",
    "* `class_roster = ['Will', 'Young', 'billy', 'mike', 'Bree', 'manny', 'Max']` → `['mike', 'manny', 'Max']`"
   ]
  },
  {
   "cell_type": "code",
   "execution_count": 1,
   "metadata": {},
   "outputs": [
    {
     "data": {
      "text/plain": [
       "['mike', 'manny', 'Max']"
      ]
     },
     "execution_count": 1,
     "metadata": {},
     "output_type": "execute_result"
    }
   ],
   "source": [
    "# Loop\n",
    "class_roster = ['Will', 'Young', 'billy', 'mike', 'Bree', 'manny', 'Max']\n",
    "m_names = []\n",
    "for person in class_roster:\n",
    "    if person[0].lower() == 'm':\n",
    "        m_names.append(person)\n",
    "    \n",
    "m_names"
   ]
  },
  {
   "cell_type": "code",
   "execution_count": 2,
   "metadata": {},
   "outputs": [
    {
     "data": {
      "text/plain": [
       "['mike', 'manny', 'Max']"
      ]
     },
     "execution_count": 2,
     "metadata": {},
     "output_type": "execute_result"
    }
   ],
   "source": [
    "# List comprehension\n",
    "[person for person in class_roster if person[0].lower() == 'm']"
   ]
  },
  {
   "cell_type": "markdown",
   "metadata": {},
   "source": [
    "## Slides"
   ]
  },
  {
   "cell_type": "markdown",
   "metadata": {},
   "source": [
    "[Loops & Comprehensions Review]()"
   ]
  },
  {
   "cell_type": "markdown",
   "metadata": {},
   "source": [
    "## Breakout Room Exercises"
   ]
  },
  {
   "cell_type": "markdown",
   "metadata": {},
   "source": [
    "**Functions**"
   ]
  },
  {
   "cell_type": "markdown",
   "metadata": {},
   "source": [
    "Create a function that takes a list of non-negative integers and strings and returns a new list with the strings filtered out.\n",
    "  * `[1,2,'a','b']` → `[1,2]`\n",
    "  * `[1,'a','b',0,15])` → `[1,0,15]`\n",
    "  * `[1,2,'aasf','1','123',123]` → `[1,2,123]`"
   ]
  },
  {
   "cell_type": "code",
   "execution_count": 3,
   "metadata": {},
   "outputs": [],
   "source": [
    "# Test lists\n",
    "test_list1 = [1,2,'a','b']\n",
    "test_list2 = [1, 2, 'a', 'b', 1.5, 3.0]\n",
    "test_list3 = [1,2,'a','3','five',6,8,10]"
   ]
  },
  {
   "cell_type": "code",
   "execution_count": 4,
   "metadata": {},
   "outputs": [],
   "source": [
    "# Answer\n",
    "def filter_list(input_list):\n",
    "    no_string_list = []\n",
    "    for item in input_list:\n",
    "        if type(item) != str: #type returns the data type of something\n",
    "            no_string_list.append(item)\n",
    "    return no_string_list"
   ]
  },
  {
   "cell_type": "code",
   "execution_count": 5,
   "metadata": {},
   "outputs": [
    {
     "name": "stdout",
     "output_type": "stream",
     "text": [
      "[1, 2]\n",
      "[1, 2, 1.5, 3.0]\n",
      "[1, 2, 6, 8, 10]\n"
     ]
    }
   ],
   "source": [
    "print(filter_list(test_list1))\n",
    "print(filter_list(test_list2))\n",
    "print(filter_list(test_list3))"
   ]
  },
  {
   "cell_type": "code",
   "execution_count": 6,
   "metadata": {},
   "outputs": [
    {
     "data": {
      "text/plain": [
       "[1, 2]"
      ]
     },
     "execution_count": 6,
     "metadata": {},
     "output_type": "execute_result"
    }
   ],
   "source": [
    "# Storing the oputput of the function to a variable\n",
    "no_string_list_result = filter_list(test_list1)\n",
    "no_string_list_result"
   ]
  },
  {
   "cell_type": "markdown",
   "metadata": {},
   "source": [
    "**For Loops**"
   ]
  },
  {
   "cell_type": "markdown",
   "metadata": {},
   "source": [
    "Given this list of numbers write a for loop that returns the list of numbers rounded to the neareset integer (0.5 and above rounds up).\n",
    "* `[1.618, 2.3, 3.14159, 24.5, 87, 100.25]` → `[2, 2, 3, 25, 87, 100]`"
   ]
  },
  {
   "cell_type": "code",
   "execution_count": 7,
   "metadata": {},
   "outputs": [],
   "source": [
    "# Test floats list\n",
    "test_floats = [1.618, 2.3, 3.14159, 24.5, 87, 100.25]"
   ]
  },
  {
   "cell_type": "code",
   "execution_count": 8,
   "metadata": {},
   "outputs": [
    {
     "data": {
      "text/plain": [
       "[2, 2, 3, 25, 87, 100]"
      ]
     },
     "execution_count": 8,
     "metadata": {},
     "output_type": "execute_result"
    }
   ],
   "source": [
    "# Answer\n",
    "rounded = []\n",
    "for n in test_floats:\n",
    "    if n - int(n) < .5:\n",
    "        rounded.append(int(n))\n",
    "    else:\n",
    "        rounded.append(int(n)+1)\n",
    "rounded"
   ]
  },
  {
   "cell_type": "markdown",
   "metadata": {},
   "source": [
    "**List Comprehensions**"
   ]
  },
  {
   "cell_type": "markdown",
   "metadata": {},
   "source": [
    "Given a list of words, return a list of the length of each word.\n",
    "\n",
    "  * `[Apple, Cow, Hat, Snake, Trombone]` → `[5, 3, 3, 5, 8]`"
   ]
  },
  {
   "cell_type": "code",
   "execution_count": 9,
   "metadata": {},
   "outputs": [],
   "source": [
    "# Test words list\n",
    "test_words = ['Apple', 'Cow', 'Hat', 'Snake', 'Trombone']"
   ]
  },
  {
   "cell_type": "code",
   "execution_count": 10,
   "metadata": {},
   "outputs": [
    {
     "data": {
      "text/plain": [
       "[5, 3, 3, 5, 8]"
      ]
     },
     "execution_count": 10,
     "metadata": {},
     "output_type": "execute_result"
    }
   ],
   "source": [
    "# Answer\n",
    "word_lens = [len(word) for word in test_words]\n",
    "word_lens"
   ]
  },
  {
   "cell_type": "markdown",
   "metadata": {},
   "source": [
    "**Dictionary Comphrensions**"
   ]
  },
  {
   "cell_type": "markdown",
   "metadata": {},
   "source": [
    "Given a range of numbers, build a dictionary of all the even numbers and their squares in the range.\n",
    "\n",
    "   * `range(11)` → `{0: 0, 2: 4, 4: 16, 6: 36, 8: 64, 10: 100}`"
   ]
  },
  {
   "cell_type": "code",
   "execution_count": 11,
   "metadata": {},
   "outputs": [],
   "source": [
    "# Use any range of numbers as your test range"
   ]
  },
  {
   "cell_type": "code",
   "execution_count": 12,
   "metadata": {},
   "outputs": [
    {
     "data": {
      "text/plain": [
       "{0: 0, 2: 4, 4: 16, 6: 36, 8: 64, 10: 100}"
      ]
     },
     "execution_count": 12,
     "metadata": {},
     "output_type": "execute_result"
    }
   ],
   "source": [
    "# Filtering evens with range\n",
    "even_squares = {n: n**2 for n in range(0,11,2)}\n",
    "even_squares"
   ]
  },
  {
   "cell_type": "code",
   "execution_count": 13,
   "metadata": {},
   "outputs": [
    {
     "data": {
      "text/plain": [
       "{0: 0, 2: 4, 4: 16, 6: 36, 8: 64, 10: 100}"
      ]
     },
     "execution_count": 13,
     "metadata": {},
     "output_type": "execute_result"
    }
   ],
   "source": [
    "# Filtering evens with conditional\n",
    "even_squares = {n: n**2 for n in range(11) if n % 2 == 0} \n",
    "even_squares"
   ]
  },
  {
   "cell_type": "markdown",
   "metadata": {},
   "source": [
    "## Extra Challenge Problem!!"
   ]
  },
  {
   "cell_type": "markdown",
   "metadata": {},
   "source": [
    "#### Write a dictionary comprehension that would swap all keys and values of your dictionary called *new_dict*."
   ]
  },
  {
   "cell_type": "code",
   "execution_count": 14,
   "metadata": {},
   "outputs": [
    {
     "data": {
      "text/plain": [
       "{'a': 1, 'b': 2, 'c': 3}"
      ]
     },
     "execution_count": 14,
     "metadata": {},
     "output_type": "execute_result"
    }
   ],
   "source": [
    "# Answer\n",
    "new_dict = {1:'a', 2:'b', 3:'c'}\n",
    "{v:k for k,v in new_dict.items()}"
   ]
  },
  {
   "cell_type": "markdown",
   "metadata": {},
   "source": [
    "#### _Thought question:_ When would this not work?"
   ]
  },
  {
   "cell_type": "markdown",
   "metadata": {},
   "source": [
    "**_Answer:_** "
   ]
  },
  {
   "cell_type": "code",
   "execution_count": 15,
   "metadata": {},
   "outputs": [
    {
     "data": {
      "text/plain": [
       "{'a': 3, 'b': 2}"
      ]
     },
     "execution_count": 15,
     "metadata": {},
     "output_type": "execute_result"
    }
   ],
   "source": [
    "new_dict = {1:'a', 2:'b', 3:'a'}\n",
    "{v:k for k,v in new_dict.items()}"
   ]
  }
 ],
 "metadata": {
  "kernelspec": {
   "display_name": "Python 3 (ipykernel)",
   "language": "python",
   "name": "python3"
  },
  "language_info": {
   "codemirror_mode": {
    "name": "ipython",
    "version": 3
   },
   "file_extension": ".py",
   "mimetype": "text/x-python",
   "name": "python",
   "nbconvert_exporter": "python",
   "pygments_lexer": "ipython3",
   "version": "3.8.12"
  }
 },
 "nbformat": 4,
 "nbformat_minor": 4
}
