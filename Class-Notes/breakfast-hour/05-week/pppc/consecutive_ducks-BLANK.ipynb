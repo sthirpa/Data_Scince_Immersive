{
 "cells": [
  {
   "cell_type": "markdown",
   "id": "4e0c3908-c646-411a-ba2a-cb83ee95378b",
   "metadata": {},
   "source": [
    "# Consecutive Ducks\n",
    "Problem from Codewars (https://www.codewars.com/kata/5dae2599a8f7d90025d2f15f)\n",
    "\n",
    "\n",
    "Positive integers have so many gorgeous features. Some of them could be expressed as a sum of two or more consecutive positive numbers.\n",
    "Consider some examples:\n",
    "\n",
    "    - 10, could be expressed as a sum of 1 + 2 + 3 + 4\n",
    "    - 9, could be expressed as a sum of (2 + 3 + 4) or (4 + 5)\n",
    "    - 42, could be expressed as a sum of 9 + 10 + 11 + 12\n",
    "    \n",
    "    \n",
    "Task\n",
    "Given Positive integer, n, Return true if it could be expressed as a sum of two or more consecutive positive numbers, otherwise return false .\n",
    "\n",
    "\n",
    "`consecutive_ducks(9) == True`\n",
    "\n",
    "`consecutive_ducks(42) == True`\n",
    "\n",
    "`consecutive_ducks(64) == False`\n",
    "\n",
    "`consecutive_ducks(239) == True`\n"
   ]
  },
  {
   "cell_type": "code",
   "execution_count": null,
   "id": "18110425-a6e7-40f6-a017-ccf855d493ca",
   "metadata": {},
   "outputs": [],
   "source": [
    "def consecutive_ducks(n):\n",
    "    # Replace the line below with all your code.\n",
    "    pass"
   ]
  },
  {
   "cell_type": "code",
   "execution_count": null,
   "id": "e4c1fe66-be95-4739-a9cb-7ccb5b5c271d",
   "metadata": {},
   "outputs": [],
   "source": [
    "assert(consecutive_ducks(9) == True)\n",
    "assert(consecutive_ducks(42) == True)\n",
    "assert(consecutive_ducks(64) == False)\n",
    "assert(consecutive_ducks(239) == True)"
   ]
  }
 ],
 "metadata": {
  "kernelspec": {
   "display_name": "Python 3 (ipykernel)",
   "language": "python",
   "name": "python3"
  },
  "language_info": {
   "codemirror_mode": {
    "name": "ipython",
    "version": 3
   },
   "file_extension": ".py",
   "mimetype": "text/x-python",
   "name": "python",
   "nbconvert_exporter": "python",
   "pygments_lexer": "ipython3",
   "version": "3.8.12"
  }
 },
 "nbformat": 4,
 "nbformat_minor": 5
}
