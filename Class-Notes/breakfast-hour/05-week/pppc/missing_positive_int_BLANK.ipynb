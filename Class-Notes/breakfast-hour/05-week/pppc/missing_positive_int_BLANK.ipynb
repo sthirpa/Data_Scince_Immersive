{
 "cells": [
  {
   "cell_type": "markdown",
   "id": "abc1b840-c282-4c07-b4a2-785e27a66708",
   "metadata": {},
   "source": [
    "# Missing Positive Integer\n",
    "\n",
    "Problem from GitHub user @vineetjohn\n",
    "This problem was asked by Stripe.\n",
    "\n",
    "Given an array of integers, find the first missing positive integer in linear time and constant space. In other words, find the lowest positive integer that does not exist in the array. The array can contain duplicates and negative numbers as well.\n",
    "\n",
    "For example, the input [3, 4, -1, 1] should give 2. The input [1, 2, 0] should give 3.\n",
    "\n",
    "`get_missing_number([3, 4, -1, 1]) == 2`\n",
    "\n",
    "\n",
    "`get_missing_number([1, 2, 0]) == 3`\n",
    "\n",
    "\n",
    "`get_missing_number([1, 2, 5]) == 3`\n",
    "\n",
    "\n",
    "`get_missing_number([1]) == 2`\n",
    "\n",
    "\n",
    "`get_missing_number([-1, -2]) == 1`\n",
    "\n",
    "\n",
    "`get_missing_number([]) == 1`\n"
   ]
  },
  {
   "cell_type": "code",
   "execution_count": null,
   "id": "272ebe42-e88f-4a5a-9964-b7070ea59dd1",
   "metadata": {},
   "outputs": [],
   "source": [
    "def get_missing_number(numbers):\n",
    "    # Replace the line below with all your code. Remember to return the requested data.\n",
    "    pass"
   ]
  },
  {
   "cell_type": "code",
   "execution_count": null,
   "id": "c9b1b75c-8a9e-447d-bc61-460d618b13ab",
   "metadata": {},
   "outputs": [],
   "source": [
    "assert(get_missing_number([3, 4, -1, 1]) == 2)\n",
    "assert(get_missing_number([1, 2, 0]) == 3)\n",
    "assert(get_missing_number([1, 2, 5]) == 3)\n",
    "assert(get_missing_number([1]) == 2)\n",
    "assert(get_missing_number([-1, -2]) == 1)\n",
    "assert(get_missing_number([]) == 1)"
   ]
  }
 ],
 "metadata": {
  "kernelspec": {
   "display_name": "Python 3",
   "language": "python",
   "name": "python3"
  },
  "language_info": {
   "codemirror_mode": {
    "name": "ipython",
    "version": 3
   },
   "file_extension": ".py",
   "mimetype": "text/x-python",
   "name": "python",
   "nbconvert_exporter": "python",
   "pygments_lexer": "ipython3",
   "version": "3.8.5"
  }
 },
 "nbformat": 4,
 "nbformat_minor": 5
}
