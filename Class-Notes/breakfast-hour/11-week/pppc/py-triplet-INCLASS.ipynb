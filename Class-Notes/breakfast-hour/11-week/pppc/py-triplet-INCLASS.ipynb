{
 "cells": [
  {
   "cell_type": "markdown",
   "id": "c3018b13-ec6a-4d88-bce8-ab4da1f775bc",
   "metadata": {},
   "source": [
    "A Pythagorean triplet is a set of three natural numbers, a < b < c, for which, a^2 + b^2 = c^2. So one example would be 3^2 +4^2 = 9 + 16 = 25 = 5^2. Write a function `py_triplet` that takes a number n and prints out all possible values  a, b, and c  for a Pythagorean triplet where a + b + c = n. (i.e. the previous example would be a solution to `py_triplet(12)`, since 3 + 4 + 5 = 12)\n",
    "\n",
    "\n",
    "Example Output:\n",
    "\n",
    "`py_triplet(12)\n",
    "a = 3, b = 4, c = 5\n",
    "Sum = 12`\n",
    "\n",
    "`py_triplet(1000)\n",
    "a = 200, b = 375, c = 425\n",
    "Sum = 1000`"
   ]
  },
  {
   "cell_type": "code",
   "execution_count": 1,
   "id": "8d9e06ea-b16a-4cd6-8d2d-22294b6ab2aa",
   "metadata": {},
   "outputs": [],
   "source": [
    "# Code by John\n",
    "\n",
    "## Pythagorean Triplet\n",
    "def py_triplet(n):\n",
    "    triplets = []\n",
    "    for i in range(1,n):\n",
    "        for j in range(i+1, n):\n",
    "            if ((i**2 + j**2)**.5).is_integer():\n",
    "                triplets.append([i,j,(i**2 + j**2)**.5])\n",
    "    res = []\n",
    "    for triplet in triplets:\n",
    "        if sum(triplet) == n:\n",
    "            res.append(triplet)\n",
    "    return res"
   ]
  },
  {
   "cell_type": "code",
   "execution_count": 2,
   "id": "63fe93b3-815c-4f3e-ad46-5014bdd306e1",
   "metadata": {},
   "outputs": [],
   "source": [
    "def py_triplet(n):\n",
    "    for a in range(1, round(n/2)):\n",
    "        for b in range(a, round(n/2)):\n",
    "            c = (a**2 + b**2)**.5\n",
    "            if a + b + c == n:\n",
    "                print(f\"a = {a}, b + {b}, c = {int(c)}\")"
   ]
  },
  {
   "cell_type": "code",
   "execution_count": 3,
   "id": "4fb62521-5699-4786-9d06-d4bc271928fa",
   "metadata": {},
   "outputs": [
    {
     "name": "stdout",
     "output_type": "stream",
     "text": [
      "a = 3, b + 4, c = 5\n"
     ]
    }
   ],
   "source": [
    "py_triplet(12)"
   ]
  },
  {
   "cell_type": "code",
   "execution_count": 4,
   "id": "e6e3157b-9da2-4380-b3ac-fbb4c7f3bb2c",
   "metadata": {},
   "outputs": [
    {
     "name": "stdout",
     "output_type": "stream",
     "text": [
      "a = 200, b + 375, c = 425\n"
     ]
    }
   ],
   "source": [
    "py_triplet(1000)"
   ]
  }
 ],
 "metadata": {
  "kernelspec": {
   "display_name": "Python [conda env:dsi-111]",
   "language": "python",
   "name": "conda-env-dsi-111-py"
  },
  "language_info": {
   "codemirror_mode": {
    "name": "ipython",
    "version": 3
   },
   "file_extension": ".py",
   "mimetype": "text/x-python",
   "name": "python",
   "nbconvert_exporter": "python",
   "pygments_lexer": "ipython3",
   "version": "3.8.12"
  }
 },
 "nbformat": 4,
 "nbformat_minor": 5
}
