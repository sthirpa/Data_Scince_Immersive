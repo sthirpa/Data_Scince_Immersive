{
 "cells": [
  {
   "cell_type": "markdown",
   "metadata": {},
   "source": [
    "<img src=\"http://imgur.com/1ZcRyrc.png\" style=\"float: left; margin: 20px; height: 55px\">\n",
    "\n",
    "# Introduction to Linear Regression\n",
    "\n",
    "_Authors:_ Tim Book, Jeff Hale\n",
    "\n",
    "### Learning Objectives \n",
    "- Describe modeling.\n",
    "- Calculate mean squared error.\n",
    "- State the assumptions of a linear regression model.\n",
    "- Be able to interpret the coefficients of a linear regression model.\n",
    "- Identify the difference between simple and multiple linear regression.\n",
    "- Fit, generate predictions from, and evaluate a linear regression model in `sklearn`, and maybe in `statsmodels`."
   ]
  },
  {
   "cell_type": "code",
   "execution_count": null,
   "metadata": {},
   "outputs": [],
   "source": [
    "# Imports\n"
   ]
  },
  {
   "cell_type": "markdown",
   "metadata": {},
   "source": [
    "# Part I: Simple Linear Regression\n",
    "\n",
    "When you have 1 predictor variable you are doing _simple linear regression_. "
   ]
  },
  {
   "cell_type": "markdown",
   "metadata": {},
   "source": [
    "## The Data\n",
    "Data source: [here](https://www.rdocumentation.org/packages/fpp2/versions/2.3/topics/elecdemand)\n",
    "\n",
    "The data consist of electricity demand for Victoria, Australia every half-hour in 2014. We have three columns:\n",
    "\n",
    "* Total electricity demand (in gigawatts)\n",
    "* Whether or not it is a workday (0/1)\n",
    "* Temperature (Celcius)"
   ]
  },
  {
   "cell_type": "code",
   "execution_count": null,
   "metadata": {},
   "outputs": [],
   "source": [
    "elec = pd.read_csv(\"./data/elecdemand.csv\")\n",
    "\n",
    "# We'll limit our focus to only days in which it was\n",
    "# at least 15 degrees Celcius (59 F)\n",
    "elec = elec[elec[\"temp\"] > 15]\n",
    "\n",
    "# view it\n"
   ]
  },
  {
   "cell_type": "code",
   "execution_count": null,
   "metadata": {
    "scrolled": true
   },
   "outputs": [],
   "source": [
    "# Plot temperature vs. demand\n"
   ]
  },
  {
   "cell_type": "markdown",
   "metadata": {},
   "source": [
    "## The Null model"
   ]
  },
  {
   "cell_type": "markdown",
   "metadata": {},
   "source": [
    "<details><summary>If we had to guess the demand for any new temperature what would you pick?</summary>\n",
    "We don't have much information yet, so probably just the mean demand!\n",
    "</details>"
   ]
  },
  {
   "cell_type": "code",
   "execution_count": null,
   "metadata": {},
   "outputs": [],
   "source": []
  },
  {
   "cell_type": "code",
   "execution_count": null,
   "metadata": {},
   "outputs": [],
   "source": []
  },
  {
   "cell_type": "markdown",
   "metadata": {},
   "source": [
    "## How could we improve our model?"
   ]
  },
  {
   "cell_type": "markdown",
   "metadata": {},
   "source": [
    "<details><summary>If we were to draw a straight line that fit the points the best, what would that look like?</summary>\n",
    "<img src=\"./images/ols.png\", style=\"height: 350px\">\n",
    "</details>"
   ]
  },
  {
   "cell_type": "code",
   "execution_count": null,
   "metadata": {
    "scrolled": true
   },
   "outputs": [],
   "source": [
    "plt.figure(figsize = (8, 5))\n",
    "sns.regplot('temp', 'demand', elec, ci=None, \n",
    "            scatter_kws = {'s': 1}, \n",
    "            line_kws = {'color': 'orange'})\n",
    "plt.axhline(elec['demand'].mean(), color = 'grey')\n",
    "plt.xlabel('Temperature')\n",
    "plt.ylabel('Demand')\n",
    "plt.title('Mean in grey, OLS regression in orange');"
   ]
  },
  {
   "cell_type": "markdown",
   "metadata": {},
   "source": [
    "**Is that line better fit to the data than our old line that was just the mean?**\n",
    "\n",
    "Looks like it. We'll discuss formal evaluation metrics in a bit."
   ]
  },
  {
   "cell_type": "markdown",
   "metadata": {},
   "source": [
    "## Lines\n",
    "\n",
    "This was the equation I learned for a line. Look familiar?\n",
    "$$ \\huge y = mx + b$$\n",
    "In data science it gets changed to \n",
    "\n",
    "$$ \\huge  y = \\beta_0 + \\beta_1 x_1 $$\n",
    "\n",
    "### Errors\n",
    "\n",
    "Our model isn't going to be perfect. The things our model doesn't capture are errors and denoted by $\\epsilon$ (epsilon).\n",
    "\n",
    "$$ \\huge y = \\beta_0 + \\beta_1 x_1 + \\epsilon $$\n",
    "\n",
    "### OLS Regression Modeling\n",
    "\n",
    "We have _x_ and we have _y_. That's our data. \n",
    "\n",
    "Our model is trying to figure out the best betas. \n",
    "\n",
    "$$ \\huge y = \\hat \\beta_0 + \\hat \\beta_1 x_1 $$\n",
    "\n",
    "\n",
    "$\\hat \\beta_0$ is the y-intercept that our model learns. The point where the line crosses the y-axis.\n",
    "\n",
    "$\\hat \\beta_1$ is the coefficient that we multiply by our $x_1$ variable. It's the slope. For every 1 unit it change in $x_1$, y increases by the value of $\\beta1$.\n",
    "\n",
    "$y$ is the ground truth of our target variable. \n",
    "\n",
    "\n",
    "$$ \\huge \\hat y =  \\beta_0 +  \\beta_1 x_1 $$\n",
    "\n",
    "When we have a model that has been fit with the data the betas have been computed. We can plug in a new x value and solve for $\\hat y$. \n",
    "\n",
    "#### $\\hat y$ is a prediction! 🎉"
   ]
  },
  {
   "cell_type": "markdown",
   "metadata": {},
   "source": [
    "---\n",
    "## OLS regression model in scikit-learn.\n",
    "\n",
    "### Step 1: Assemble our predictor variables (X) and our target (y) \n",
    "\n",
    " We need an X matrix that is n-by-p.\n",
    "- n = rows\n",
    "- p = features\n",
    "\n",
    "A feature just means a predictor column.\n",
    "\n",
    "In the simple linear regression case, p = 1. We have one feature ($x_1$). Usually you'll have more than 1 feature. "
   ]
  },
  {
   "cell_type": "code",
   "execution_count": null,
   "metadata": {},
   "outputs": [],
   "source": [
    "# Step 1: Assemble our X and y variables\n",
    "\n",
    "# We need an X matrix that is n-by-p (in this case, p = 1)\n",
    "X = "
   ]
  },
  {
   "cell_type": "markdown",
   "metadata": {},
   "source": [
    "#### Why did we make X a DataFrame?\n",
    "Scikit-learn expects a two dimensional object. Usually we have more than one predictor variable.\n",
    "\n",
    "y is the outcome variable"
   ]
  },
  {
   "cell_type": "code",
   "execution_count": null,
   "metadata": {},
   "outputs": [],
   "source": [
    "# We need a y vector that is length n\n",
    "y = "
   ]
  },
  {
   "cell_type": "code",
   "execution_count": null,
   "metadata": {},
   "outputs": [],
   "source": []
  },
  {
   "cell_type": "markdown",
   "metadata": {},
   "source": [
    "#### Why is the target a Series or 1D numpy array? \n",
    "\n",
    "Scikit-learn supervised learning estimators are expecting a single output column. They predict one value for each observation, generally."
   ]
  },
  {
   "cell_type": "markdown",
   "metadata": {},
   "source": [
    "### Step 2: Instantiate the model"
   ]
  },
  {
   "cell_type": "code",
   "execution_count": null,
   "metadata": {},
   "outputs": [],
   "source": [
    "# Step 2: Instantiate the model\n"
   ]
  },
  {
   "cell_type": "markdown",
   "metadata": {},
   "source": [
    "### Step 3: Fit the model"
   ]
  },
  {
   "cell_type": "code",
   "execution_count": null,
   "metadata": {},
   "outputs": [],
   "source": [
    "# Step 3: Fit the model\n"
   ]
  },
  {
   "cell_type": "markdown",
   "metadata": {},
   "source": [
    "### Step 4: Check out and interpret our model weights"
   ]
  },
  {
   "cell_type": "code",
   "execution_count": null,
   "metadata": {},
   "outputs": [],
   "source": [
    "# Take a peek at the model coefficient and intercept\n"
   ]
  },
  {
   "cell_type": "markdown",
   "metadata": {},
   "source": [
    "We now have the following model of reality:\n",
    "\n",
    "$$\\hat{d} = 2.32 + 0.11t$$\n",
    "\n",
    "#### Interpretation of coefficients\n",
    "\n",
    "In general, we can interpret our slope as having the following impact:\n",
    "> For every 1 unit increase in $x_i$, we expect $y$ to increase by $\\beta_i$."
   ]
  },
  {
   "cell_type": "markdown",
   "metadata": {},
   "source": [
    "<details><summary>How would we interpret the slope for our model?</summary>\n",
    "For every 1 degree increase in temperature, we would expect 0.11 more gigawatts of electricty to be demanded. \n",
    "</details>"
   ]
  },
  {
   "cell_type": "markdown",
   "metadata": {},
   "source": [
    "#### Interpretation of our y-intercept. Does it make sense?\n",
    "\n",
    "When it is zero degrees Celsius, we expect 2.32 gigawatts of electricity to be demanded. Ordinarily, this _would_ make sense, however, we have no data near this value and would want to avoid **extrapolation**."
   ]
  },
  {
   "cell_type": "markdown",
   "metadata": {},
   "source": [
    "### Step 5: Make predictions\n",
    "\n",
    "If we had new data points for temperature we could pass it to the predict method to generate price predictions.\n",
    "\n",
    "We don't have any new data, so let's just see what predictions our model would have made. This is the same as saying \"Find the x value for a prediction on the plot and go up to our line. That value for y is our prediction.\"\n",
    "\n",
    "We do this for all the x values."
   ]
  },
  {
   "cell_type": "code",
   "execution_count": null,
   "metadata": {},
   "outputs": [],
   "source": [
    "# Make predictions\n"
   ]
  },
  {
   "cell_type": "markdown",
   "metadata": {},
   "source": [
    "#### Why don't we pass `y`?\n",
    "\n",
    "We are predicting y."
   ]
  },
  {
   "cell_type": "code",
   "execution_count": null,
   "metadata": {
    "scrolled": true
   },
   "outputs": [],
   "source": [
    "# We can plot them, too!\n"
   ]
  },
  {
   "cell_type": "markdown",
   "metadata": {},
   "source": [
    "---\n",
    "\n",
    "To the slides!\n",
    "\n",
    "---"
   ]
  },
  {
   "cell_type": "markdown",
   "metadata": {},
   "source": [
    "### Step 6: Evaluation\n",
    "\n",
    "We now want to see how good a job our model does at predicting demand. **Mean squared error** is a popular scoring metric. \n",
    "\n",
    "Lower is better. That's the case whenever \"error\" is in the metric name.\n",
    "\n",
    "$$ MSE = \\frac{1}{n} \\sum (y_i - \\hat{y}_i)^2 = \\frac{1}{n} \\sum e_i^2 $$\n",
    "\n",
    "#### MSE by hand:"
   ]
  },
  {
   "cell_type": "code",
   "execution_count": null,
   "metadata": {},
   "outputs": [],
   "source": [
    "# Create residuals (aka errors): (y - y_hat)\n"
   ]
  },
  {
   "cell_type": "code",
   "execution_count": null,
   "metadata": {},
   "outputs": [],
   "source": [
    "# Compute the MSE\n"
   ]
  },
  {
   "cell_type": "markdown",
   "metadata": {},
   "source": [
    "#### How does that model compare to our null model?"
   ]
  },
  {
   "cell_type": "code",
   "execution_count": null,
   "metadata": {},
   "outputs": [],
   "source": [
    "# Create the predictions for the \"null model\"\n"
   ]
  },
  {
   "cell_type": "code",
   "execution_count": null,
   "metadata": {},
   "outputs": [],
   "source": [
    "# The null MSE\n"
   ]
  },
  {
   "cell_type": "markdown",
   "metadata": {},
   "source": [
    "<details><summary>Which model fits the data better?</summary>\n",
    "The OLS model has lower error.\n",
    "</details>"
   ]
  },
  {
   "cell_type": "markdown",
   "metadata": {},
   "source": [
    "Another popular regression metric is the $R^2$, which is defined as:\n",
    "\n",
    "$$R^2 = 1 - \\frac{\\text{MSE}}{\\text{Null MSE}} = 1 - \\frac{\\sum (y_i - \\hat{y}_i)}{\\sum (y_i - \\bar{y})}$$\n",
    "\n",
    "The $R^2$, or **coefficient of determination**, is the proportion of variability in $y$ we can explain with $x$."
   ]
  },
  {
   "cell_type": "code",
   "execution_count": null,
   "metadata": {},
   "outputs": [],
   "source": [
    "# The R2\n"
   ]
  },
  {
   "cell_type": "markdown",
   "metadata": {},
   "source": [
    "#### Interpret $R^2$\n",
    "\n",
    "35.2% of the variability in electricity demand can be explained by temperature.\n",
    "\n",
    "We don't have to calculate these metrics by hand. `sklearn` can do it for us!"
   ]
  },
  {
   "cell_type": "code",
   "execution_count": null,
   "metadata": {},
   "outputs": [],
   "source": [
    "# MSE\n"
   ]
  },
  {
   "cell_type": "code",
   "execution_count": null,
   "metadata": {},
   "outputs": [],
   "source": [
    "# Can compute R2 from metrics...\n"
   ]
  },
  {
   "cell_type": "code",
   "execution_count": null,
   "metadata": {},
   "outputs": [],
   "source": [
    "# ... or directly from the model...\n"
   ]
  },
  {
   "cell_type": "markdown",
   "metadata": {},
   "source": [
    "### You made your first Linear Regression Model 🎉"
   ]
  },
  {
   "cell_type": "markdown",
   "metadata": {},
   "source": [
    "---\n",
    "\n",
    "To the slides!\n",
    "\n",
    "---"
   ]
  },
  {
   "cell_type": "markdown",
   "metadata": {},
   "source": [
    "## LINE Assumptions\n",
    "Let's check em!"
   ]
  },
  {
   "cell_type": "code",
   "execution_count": null,
   "metadata": {},
   "outputs": [],
   "source": [
    "# L - Linearity\n",
    "plt.scatter(elec[\"temp\"], elec[\"demand\"], s=1);"
   ]
  },
  {
   "cell_type": "markdown",
   "metadata": {},
   "source": [
    "<details><summary>Does this pass our L assumption?</summary>\n",
    "It's definitely a little curved, but this looks okay.\n",
    "</details>"
   ]
  },
  {
   "cell_type": "code",
   "execution_count": null,
   "metadata": {},
   "outputs": [],
   "source": [
    "# I - Independence"
   ]
  },
  {
   "cell_type": "markdown",
   "metadata": {},
   "source": [
    "<details><summary>Does this pass our I assumption?</summary>\n",
    "Yes, by assumption.\n",
    "</details>"
   ]
  },
  {
   "cell_type": "code",
   "execution_count": null,
   "metadata": {
    "scrolled": true
   },
   "outputs": [],
   "source": [
    "# N - Normality of errors\n",
    "plt.hist(resids, bins=50);"
   ]
  },
  {
   "cell_type": "markdown",
   "metadata": {},
   "source": [
    "<details><summary>Does this pass our N assumption?</summary>\n",
    "Just like with the Linearity assumption, this isn't great, but we might be able to get away with it.\n",
    "</details>"
   ]
  },
  {
   "cell_type": "code",
   "execution_count": null,
   "metadata": {},
   "outputs": [],
   "source": [
    "# E - Equal variance of errors\n",
    "plt.scatter(y_pred, resids, s=1)\n",
    "plt.axhline(0, color=\"orange\");"
   ]
  },
  {
   "cell_type": "markdown",
   "metadata": {},
   "source": [
    "<details><summary>Does this pass our E assumption?</summary>\n",
    "I'm gonna go with no on this one...\n",
    "</details>"
   ]
  },
  {
   "cell_type": "markdown",
   "metadata": {},
   "source": [
    "---\n",
    "\n",
    "To the slides!\n",
    "\n",
    "---"
   ]
  },
  {
   "cell_type": "markdown",
   "metadata": {},
   "source": [
    "# Part II: Multiple Linear Regression\n",
    "\n",
    "When you have more than 1 predictor variable you are doing _multiple linear regression_. "
   ]
  },
  {
   "cell_type": "markdown",
   "metadata": {},
   "source": [
    "## Bikeshare Data 🚴‍♂️\n",
    "Data adapted from source: [here](https://archive.ics.uci.edu/ml/datasets/bike+sharing+dataset)\n",
    "\n",
    "\n",
    "Multiple Linear Regression (MLR) with Categorical Features\n",
    "\n",
    "#### Goal: predict the numer of riders (count), based on the features."
   ]
  },
  {
   "cell_type": "code",
   "execution_count": null,
   "metadata": {},
   "outputs": [],
   "source": [
    "bike = pd.read_csv(\"./data/bikeshare.csv\")\n"
   ]
  },
  {
   "cell_type": "markdown",
   "metadata": {},
   "source": [
    "### Some preprocessing to clean things up:\n",
    "1. Rename \"count\" to \"riders\"\n",
    "2. Drop \"casual\" and \"registered\"\n",
    "3. Cast \"datetime\" to actually be a datetime\n",
    "4. Drop rows where weather is 4"
   ]
  },
  {
   "cell_type": "code",
   "execution_count": null,
   "metadata": {},
   "outputs": [],
   "source": [
    "# Some preprocessing:\n",
    "# 1 - Rename \"count\" to \"riders\"\n",
    "# 2 - Drop \"casual\" and \"registered\"\n",
    "# 3 - Cast \"datetime\" to actually be a datetime\n",
    "# 4 - Drop only row where weather == 4\n"
   ]
  },
  {
   "cell_type": "code",
   "execution_count": null,
   "metadata": {},
   "outputs": [],
   "source": []
  },
  {
   "cell_type": "markdown",
   "metadata": {},
   "source": [
    "### Ridership model\n",
    "Let's try to predict the number of riders based on temperature and what season it is. We'll have to **one-hot encode** the season column!\n",
    "\n",
    "### Step 1: Assemble our predictor variables (X) and our target (y) "
   ]
  },
  {
   "cell_type": "code",
   "execution_count": null,
   "metadata": {},
   "outputs": [],
   "source": [
    "# Dummify \"season\"\n"
   ]
  },
  {
   "cell_type": "code",
   "execution_count": null,
   "metadata": {
    "scrolled": true
   },
   "outputs": [],
   "source": []
  },
  {
   "cell_type": "markdown",
   "metadata": {},
   "source": [
    "### Step 2: Instantiate the model"
   ]
  },
  {
   "cell_type": "code",
   "execution_count": null,
   "metadata": {},
   "outputs": [],
   "source": []
  },
  {
   "cell_type": "markdown",
   "metadata": {},
   "source": [
    "### Step 3: Fit the model"
   ]
  },
  {
   "cell_type": "code",
   "execution_count": null,
   "metadata": {
    "scrolled": true
   },
   "outputs": [],
   "source": [
    "# Fit model\n"
   ]
  },
  {
   "cell_type": "markdown",
   "metadata": {},
   "source": [
    "### Step 4: Check out and interpret our coefficients"
   ]
  },
  {
   "cell_type": "code",
   "execution_count": null,
   "metadata": {
    "scrolled": true
   },
   "outputs": [],
   "source": [
    "# Coefficients\n"
   ]
  },
  {
   "cell_type": "code",
   "execution_count": null,
   "metadata": {
    "scrolled": true
   },
   "outputs": [],
   "source": []
  },
  {
   "cell_type": "markdown",
   "metadata": {},
   "source": [
    "#### Interpretation of coefficients\n",
    "Now that we have multiple variables, our interpretation are **holding all other variables constant**. \n",
    "> For every 1 unit increase in $x_i$, we expect $y$ to increase by $\\beta_i$, holding all else constant.\n",
    "\n",
    "Furthermore, each interpretation of a dummy variable is **in relation to the baseline** (in this case, Winter).\n",
    "\n",
    "**Interpretation of $\\hat{\\beta}_3$ (`season_3` - Summer):**\n",
    "Holding the temperature constant, the effect of it being Summer contributes to 105 fewer riders per hour relative to Winter."
   ]
  },
  {
   "cell_type": "markdown",
   "metadata": {},
   "source": [
    "<details><summary>Interpret the coefficient for temp.</summary>\n",
    "Holding all else constant, for every one-degree increase in temperature, we expect about 14 more riders per hour.\n",
    "</details>"
   ]
  },
  {
   "cell_type": "markdown",
   "metadata": {},
   "source": [
    "<details><summary>Interpret the coefficient for season_4 (Fall).</summary>\n",
    "Holding the temperature constant, the effect of it being Fall contributes to 26 more riders per hour relative to Winter.\n",
    "</details>"
   ]
  },
  {
   "cell_type": "markdown",
   "metadata": {},
   "source": [
    "### Step 5: Make predictions"
   ]
  },
  {
   "cell_type": "code",
   "execution_count": null,
   "metadata": {},
   "outputs": [],
   "source": []
  },
  {
   "cell_type": "markdown",
   "metadata": {},
   "source": [
    "### Step 6: Evaluate the model"
   ]
  },
  {
   "cell_type": "code",
   "execution_count": null,
   "metadata": {},
   "outputs": [],
   "source": [
    "# R2:\n"
   ]
  },
  {
   "cell_type": "code",
   "execution_count": null,
   "metadata": {},
   "outputs": [],
   "source": [
    "# MSE:\n"
   ]
  },
  {
   "cell_type": "markdown",
   "metadata": {},
   "source": [
    "<details><summary>How is our model?</summary>\n",
    "Overall, this model isn't great. Only about 20% of the variation in ridership can be explained by the model.\n",
    "</details>"
   ]
  },
  {
   "cell_type": "markdown",
   "metadata": {},
   "source": [
    "So our model is pretty bad. How much should we trust our interpretation for the coefficients?\n",
    "> Do our LINE assumptions hold?\n",
    "\n",
    "When working with multiple linear regression, we add a secret 5th \"assumption\" to our LINE assumptions that is usually violated at least a little.\n",
    "\n",
    "### LINEM\n",
    "- L - Linear relationship\n",
    "- I - Independent errors\n",
    "- N - Normally distributed errors\n",
    "- E - Equal variance of errors (homoscedasticity)\n",
    "- M - No Multicollinearity/Independence of Predictors"
   ]
  },
  {
   "cell_type": "code",
   "execution_count": null,
   "metadata": {},
   "outputs": [],
   "source": [
    "# L:\n"
   ]
  },
  {
   "cell_type": "code",
   "execution_count": null,
   "metadata": {},
   "outputs": [],
   "source": [
    "# I:\n"
   ]
  },
  {
   "cell_type": "code",
   "execution_count": null,
   "metadata": {},
   "outputs": [],
   "source": [
    "# N:\n"
   ]
  },
  {
   "cell_type": "code",
   "execution_count": null,
   "metadata": {
    "scrolled": true
   },
   "outputs": [],
   "source": [
    "# E:\n"
   ]
  },
  {
   "cell_type": "code",
   "execution_count": null,
   "metadata": {
    "scrolled": true
   },
   "outputs": [],
   "source": [
    "# M/I:\n"
   ]
  },
  {
   "cell_type": "markdown",
   "metadata": {},
   "source": [
    "Yikes! We should probably not say anything very strong about the coefficients in our interpretation. "
   ]
  },
  {
   "cell_type": "markdown",
   "metadata": {},
   "source": [
    "## NOW YOU\n",
    "\n",
    "Let's make a better model.\n",
    "\n",
    "Now your turn: Fit a model that uses _all_ x-variables (excluding `atemp`) as well as the **the hour of day**. One-hot encode columns accordingly."
   ]
  },
  {
   "cell_type": "code",
   "execution_count": null,
   "metadata": {},
   "outputs": [],
   "source": [
    "bike.head()"
   ]
  },
  {
   "cell_type": "code",
   "execution_count": null,
   "metadata": {},
   "outputs": [],
   "source": [
    "bike[\"hour\"] = bike[\"datetime\"].dt.hour"
   ]
  },
  {
   "cell_type": "code",
   "execution_count": null,
   "metadata": {},
   "outputs": [],
   "source": []
  },
  {
   "cell_type": "code",
   "execution_count": null,
   "metadata": {},
   "outputs": [],
   "source": []
  },
  {
   "cell_type": "code",
   "execution_count": null,
   "metadata": {},
   "outputs": [],
   "source": []
  },
  {
   "cell_type": "code",
   "execution_count": null,
   "metadata": {},
   "outputs": [],
   "source": []
  },
  {
   "cell_type": "markdown",
   "metadata": {},
   "source": [
    "# Additional, not-really-BONUS topics"
   ]
  },
  {
   "cell_type": "markdown",
   "metadata": {},
   "source": [
    "## ANRBT #1: Multicollinearity\n",
    "Multicollinearity occurs when you have two or more $x$-variables that are correlated with eachother. This phenomenon doesn't affect the quality of the model fit, but it completely destroys model inference (ie, confidence intervals and hypothesis tests, more on this next week). In addition, it can also contribution to a **rank-deficient matrix**, meaning the model can't be fit at all!"
   ]
  },
  {
   "cell_type": "code",
   "execution_count": null,
   "metadata": {},
   "outputs": [],
   "source": [
    "np.corrcoef(bike.temp, bike.atemp)"
   ]
  },
  {
   "cell_type": "code",
   "execution_count": null,
   "metadata": {},
   "outputs": [],
   "source": [
    "bike[['temp', 'atemp']].corr()"
   ]
  },
  {
   "cell_type": "markdown",
   "metadata": {},
   "source": [
    "## ANRBT #2: The Curse of Dimensionality\n",
    "It turns out that the more variables we add to our model, the better it is. Actually, it doesn't even matter what this variable was, that will always be true. Even if it's completely irrelevant. That is, if we added the following variables to our model:\n",
    "\n",
    "* Is there a sunspot on this day?\n",
    "* The closing stock price of Apple that day.\n",
    "* Whether or not Guy Fieri had pancakes for breakfast that day.\n",
    "* A column of completely random standard normal variables\n",
    "\n",
    "Our model is **guaranteed** to get better. But it isn't _really_ a better model, right? It turns out, we're modeling **noise**, not **signal**. We'll talk more about this phenomenon later."
   ]
  },
  {
   "cell_type": "markdown",
   "metadata": {},
   "source": [
    "## ANRBT #3: Matrix Notation and Solution\n",
    "Recall our matrix notations:\n",
    "\n",
    "$$\n",
    "\\mathbf{y} = \\begin{bmatrix} y_1 & y_2 & \\cdots & y_n \\end{bmatrix}^T\n",
    "$$\n",
    "\n",
    "$$\n",
    "\\beta = \\begin{bmatrix} \\beta_0 & \\beta_1 & \\cdots & \\beta_p \\end{bmatrix}^T\n",
    "$$\n",
    "\n",
    "$$\n",
    "\\mathbf{X} = \\begin{bmatrix}\n",
    "1 & x_{11} & x_{12} & \\cdots & x_{1p} \\\\\n",
    "1 & x_{21} & x_{22} & \\cdots & x_{2p} \\\\\n",
    "\\vdots & \\vdots & \\vdots & \\vdots & \\vdots \\\\\n",
    "1 & x_{n1} & x_{n2} & \\cdots & x_{np} \\\\ \n",
    "\\end{bmatrix}\n",
    "$$\n",
    "\n",
    "It then works out we can write our model as:\n",
    "\n",
    "$$\\mathbf{y} = \\mathbf{X}\\beta + \\varepsilon$$\n",
    "\n",
    "Which makes our solution:\n",
    "\n",
    "$$\\mathbf{\\hat{y}} = \\mathbf{X}\\hat{\\beta}$$\n",
    "\n",
    "where\n",
    "\n",
    "$$\\hat{\\beta} = (\\mathbf{X}^T\\mathbf{X})^{-1}\\mathbf{X}^T\\mathbf{y}$$\n",
    "\n",
    "Look confusing? It is! It haunts the dreams of second-year grad students. But it's not _too_ mysterious. If you'd like to understand it better, check out the **numpy ladder challenge**. Really, the take away here is singular:\n",
    "\n",
    "### **The solution to our problem exists in closed form and can be computed by simple matrix multiplication.**"
   ]
  },
  {
   "cell_type": "markdown",
   "metadata": {},
   "source": [
    "## ANRBT #4: The `statsmodels` Library\n",
    "Scikit-Learn does not hold the monopoly in doing linear regression in Python. In fact, you may even like this better!"
   ]
  },
  {
   "cell_type": "code",
   "execution_count": null,
   "metadata": {},
   "outputs": [],
   "source": [
    "import statsmodels.api as sm\n",
    "\n",
    "X = elec[[\"temp\", \"workday\"]]\n",
    "X = sm.add_constant(X)\n",
    "y = elec[\"demand\"]\n",
    "ols = sm.OLS(y, X).fit()"
   ]
  },
  {
   "cell_type": "code",
   "execution_count": null,
   "metadata": {},
   "outputs": [],
   "source": [
    "ols.summary()"
   ]
  },
  {
   "cell_type": "markdown",
   "metadata": {},
   "source": [
    "# Conclusions and Takeaways:\n",
    "* Machine learning, aka statistical modeling, is an important and vast topic we'll spend much of our course exploring. It comes in many varieties for different situations.\n",
    "* Linear regression is a **supervised \"white-box\" regression model**.\n",
    "* As far as machine learning goes, OLS is very simple, yet still powerful.\n",
    "* One of its more enticing feature is that its **coefficients are interpretable!**\n",
    "* In the midst of all this, we learned how to handle dummy variables, something important for all of the models we'll learn about."
   ]
  }
 ],
 "metadata": {
  "kernelspec": {
   "display_name": "Python 3 (ipykernel)",
   "language": "python",
   "name": "python3"
  },
  "language_info": {
   "codemirror_mode": {
    "name": "ipython",
    "version": 3
   },
   "file_extension": ".py",
   "mimetype": "text/x-python",
   "name": "python",
   "nbconvert_exporter": "python",
   "pygments_lexer": "ipython3",
   "version": "3.8.12"
  }
 },
 "nbformat": 4,
 "nbformat_minor": 4
}
