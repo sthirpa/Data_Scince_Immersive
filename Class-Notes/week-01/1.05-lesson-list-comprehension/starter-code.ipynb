{
 "cells": [
  {
   "cell_type": "markdown",
   "metadata": {},
   "source": [
    "<img src=\"http://imgur.com/1ZcRyrc.png\" style=\"float: left; margin: 20px; height: 55px\">\n",
    "\n",
    "# Looping and List Comprehension\n",
    "\n",
    "_Authors: Riley Dallas (ATX), with edits by Adi Bronshtein (Live Online)_\n",
    "\n",
    "---"
   ]
  },
  {
   "cell_type": "markdown",
   "metadata": {},
   "source": [
    "## Lesson Objectives\n",
    "---\n",
    "1. Review of `for` loops\n",
    "2. Understand how to create list comprehensions\n",
    "3. Use list comprehension to map and filter enumerable objects"
   ]
  },
  {
   "cell_type": "markdown",
   "metadata": {},
   "source": [
    "## `for` Loops\n",
    "---\n",
    "\n",
    "The `for` statement is used to **iterate** over the elements of a sequence. It's \n",
    "used when you have a piece of code which you want to repeat n number of times. \n",
    "You can use any enumerable object (such as strings, lists, tuples, dict and so on) \n",
    "in a `for` loop.\n",
    "```python\n",
    "for number in [1, 2, 3]: \n",
    "    print(number) \n",
    "    print('Yes' * number) \n",
    "    print('') # Creates a line break after each iteration\n",
    "```\n",
    "\n",
    "The loop above has the following parts:\n",
    "1. The word `for`\n",
    "2. A variable that you create (`number`), which be be used for each item in the sequence\n",
    "3. The word `in`\n",
    "4. The sequence to iterate over\n",
    "\n",
    "Copy and paste the loop above to see what it does."
   ]
  },
  {
   "cell_type": "code",
   "execution_count": null,
   "metadata": {},
   "outputs": [],
   "source": []
  },
  {
   "cell_type": "markdown",
   "metadata": {},
   "source": [
    "## Repeat `for` loops\n",
    "---\n",
    "\n",
    "Let's try a simple repeat `for` loop. A repeat loop is for when you just want to repeat the exact same \n",
    "thing a specific number of times. In that case only the length of the sequence, \n",
    "not the individual elements are important. For this, we can use use the `range` function to create our sequence. \n",
    "\n",
    "In the block below, use `range` to create a for loop that prints **Hello** 10 times."
   ]
  },
  {
   "cell_type": "code",
   "execution_count": null,
   "metadata": {},
   "outputs": [],
   "source": []
  },
  {
   "cell_type": "markdown",
   "metadata": {},
   "source": [
    "## Looping over strings\n",
    "---\n",
    "\n",
    "We've mostly played it safe with list sequences.  Let's try looping through the letters in a word:\n",
    "\n",
    "```python\n",
    "word = \"computer\"\n",
    "```\n",
    "\n",
    "How do we do this?"
   ]
  },
  {
   "cell_type": "code",
   "execution_count": null,
   "metadata": {},
   "outputs": [],
   "source": []
  },
  {
   "cell_type": "markdown",
   "metadata": {},
   "source": [
    "## Looping over dictionaries\n",
    "---\n",
    "\n",
    "You can also loop through the key/value pairs in a dictionary. \n",
    "\n",
    "To see this in action, create a dictionary called `user` with the keys `'first_name'` and `'last_name'`"
   ]
  },
  {
   "cell_type": "code",
   "execution_count": null,
   "metadata": {},
   "outputs": [],
   "source": []
  },
  {
   "cell_type": "markdown",
   "metadata": {},
   "source": [
    "Dictionaries have a method called `items()` specifically for looping. We'll use that in conjunction with a for loop to iterate over the key/value pairs in our `user` dictionary."
   ]
  },
  {
   "cell_type": "code",
   "execution_count": null,
   "metadata": {},
   "outputs": [],
   "source": []
  },
  {
   "cell_type": "markdown",
   "metadata": {},
   "source": [
    "## Mapping\n",
    "---\n",
    "\n",
    "We can also use `for` loops to perform item-wise transformations on a list. Let's say we have a list of numbers, 1-10:\n",
    "\n",
    "```python\n",
    "numbers = [1, 2, 3, 4, 5, 6, 7, 8, 9, 10]\n",
    "```\n",
    "\n",
    "In the cell below, create a new list (`squared_numbers`) that loops through `numbers` and squares each one."
   ]
  },
  {
   "cell_type": "code",
   "execution_count": null,
   "metadata": {},
   "outputs": [],
   "source": []
  },
  {
   "cell_type": "code",
   "execution_count": null,
   "metadata": {},
   "outputs": [],
   "source": []
  },
  {
   "cell_type": "markdown",
   "metadata": {},
   "source": [
    "## List Comprehension\n",
    "---\n",
    "\n",
    "The above code works correctly, however in Python there's a way to do this more succinctly using list comprehension."
   ]
  },
  {
   "cell_type": "markdown",
   "metadata": {},
   "source": [
    "Syntax for create a list for a **'for' loop**:  \n",
    "```python\n",
    "new_things = []\n",
    "for ITEM in old_things:\n",
    "    if condition_based_on(ITEM):\n",
    "        new_things.append(\"something with \" + ITEM)\n",
    "```    \n",
    "\n",
    "Syntax for creating a list with **list comprehension**:  \n",
    "\n",
    "```python\n",
    "new_things = [\"something with \" + ITEM for ITEM in old_things if condition_based_on(ITEM)]\n",
    "```\n",
    "\n",
    "<details>\n",
    "    <summary><strong>Example:</strong></summary>  \n",
    "\n",
    "![](https://treyhunner.com/images/list-comprehension-condition.gif)\n",
    "</details>      \n",
    "\n",
    "Credit where credit is due - all of this examples above are taken from the (excellent!) post, [Python List Comprehensions: Explained Visually](https://treyhunner.com/2015/12/python-list-comprehensions-now-in-color/) by [Trey Hunter](https://treyhunner.com/)!"
   ]
  },
  {
   "cell_type": "code",
   "execution_count": null,
   "metadata": {},
   "outputs": [],
   "source": [
    "# Recreate squared_numbers using list comprehension"
   ]
  },
  {
   "cell_type": "markdown",
   "metadata": {},
   "source": [
    "## Mapping practice: lowercase names\n",
    "---\n",
    "\n",
    "Given the following list:\n",
    "```python\n",
    "names = ['Xlegic', 'John', 'Jasmine', 'Eva']\n",
    "```\n",
    "\n",
    "Use list comprehension to lowercase each name."
   ]
  },
  {
   "cell_type": "code",
   "execution_count": null,
   "metadata": {},
   "outputs": [],
   "source": []
  },
  {
   "cell_type": "markdown",
   "metadata": {},
   "source": [
    "## Practice: odds and evens\n",
    "---\n",
    "\n",
    "Sometimes your transformations are more complex, and might require a function. Let's walk through an example:\n",
    "\n",
    "1. Create a list of integers, 1 through 100\n",
    "2. Create a function that accepts a single integer as a parameter and returns `'odd'` or `'even'`, depending on the input.\n",
    "3. Use list comprehension to map through your list of integers and return a list of odd/even strings"
   ]
  },
  {
   "cell_type": "code",
   "execution_count": null,
   "metadata": {},
   "outputs": [],
   "source": [
    "# create an list of integers: 1-100"
   ]
  },
  {
   "cell_type": "code",
   "execution_count": null,
   "metadata": {},
   "outputs": [],
   "source": [
    "# create a function that accepts a single integer, \n",
    "# and returns the string 'odd' or 'even', depending on the integer"
   ]
  },
  {
   "cell_type": "code",
   "execution_count": null,
   "metadata": {},
   "outputs": [],
   "source": [
    "# use list comprehension to convert your list of integers \n",
    "# to an list of odd/even strings"
   ]
  },
  {
   "cell_type": "markdown",
   "metadata": {},
   "source": [
    "## Filtering\n",
    "---\n",
    "\n",
    "Filtering is when you return a subset of a given list that meets a certain condition. Like mapping, we can use list comprehension to filter. \n",
    "\n",
    "Given the following list of people:\n",
    "\n",
    "```python\n",
    "classroom = [\n",
    "    {'name': 'Teacher McTeacherson', 'role': 'teacher'},\n",
    "    {'name': 'Teacher McTeacherson', 'role': 'teacher'},\n",
    "    {'name': 'Teacher McTeacherson', 'role': 'teacher'},\n",
    "    {'name': 'Student McStudentson', 'role': 'student'},\n",
    "    {'name': 'Student McStudentson', 'role': 'student'},\n",
    "    {'name': 'Student McStudentson', 'role': 'student'},\n",
    "    {'name': 'Student McStudentson', 'role': 'student'},\n",
    "    {'name': 'Student McStudentson', 'role': 'student'},\n",
    "    {'name': 'Student McStudentson', 'role': 'student'},\n",
    "    {'name': 'Student McStudentson', 'role': 'student'}\n",
    "]\n",
    "```\n",
    "\n",
    "Use list comprehension to return only those individuals whose role is `'student'`."
   ]
  },
  {
   "cell_type": "code",
   "execution_count": null,
   "metadata": {},
   "outputs": [],
   "source": []
  },
  {
   "cell_type": "markdown",
   "metadata": {},
   "source": [
    "Now let's use list comprehension to filter our list to be teachers."
   ]
  },
  {
   "cell_type": "code",
   "execution_count": null,
   "metadata": {},
   "outputs": [],
   "source": []
  },
  {
   "cell_type": "markdown",
   "metadata": {},
   "source": [
    "## Practice: Finding primes\n",
    "---\n",
    "\n",
    "In the cells provided, do the following:\n",
    "\n",
    "Create a function (`is_prime`) that takes a given number and returns `True` if it's prime and `False` if it's not.\n",
    "\n",
    "Reminder: 1 is not a prime."
   ]
  },
  {
   "cell_type": "code",
   "execution_count": null,
   "metadata": {},
   "outputs": [],
   "source": [
    "# is_prime"
   ]
  },
  {
   "cell_type": "markdown",
   "metadata": {},
   "source": [
    "Now, create a list of numbers, 1-100"
   ]
  },
  {
   "cell_type": "code",
   "execution_count": null,
   "metadata": {},
   "outputs": [],
   "source": [
    "# numbers 1-100"
   ]
  },
  {
   "cell_type": "markdown",
   "metadata": {},
   "source": [
    "Filter your list of numbers to just the primes"
   ]
  },
  {
   "cell_type": "code",
   "execution_count": null,
   "metadata": {},
   "outputs": [],
   "source": [
    "# Filter the primes"
   ]
  },
  {
   "cell_type": "markdown",
   "metadata": {},
   "source": [
    "## List Comprehension: Dictionaries\n",
    "---\n",
    "\n",
    "Despite the name, list comprehension is not exclusive to lists. We can also map over dictionaries, but with a subtle difference: we'll wrap our list comprehension in `{}` instead of `[]` to retain the dictionary type.\n",
    "\n",
    "Let's say we have a dictionary of users with their corresponding emails:\n",
    "\n",
    "```python\n",
    "users = {\n",
    "    'user1': 'FOO@BAR.COM',\n",
    "    'user2': 'JOHN@DOE.COM',\n",
    "    'user3': '90SRULE@AOL.COM'\n",
    "}\n",
    "```\n",
    "\n",
    "We might want to lowercase all the email addresses before saving them to a database. In the block below, map through `users` and return the same dictionary, but with all the emails lowercased."
   ]
  },
  {
   "cell_type": "code",
   "execution_count": null,
   "metadata": {},
   "outputs": [],
   "source": []
  },
  {
   "cell_type": "markdown",
   "metadata": {},
   "source": [
    "# Filtering Dictionaries\n",
    "---\n",
    "\n",
    "If we can map dictionaries, we can also filter them. Using our `users` dictionary from above, let's filter only users who have an AOL account."
   ]
  },
  {
   "cell_type": "code",
   "execution_count": null,
   "metadata": {},
   "outputs": [],
   "source": []
  }
 ],
 "metadata": {
  "anaconda-cloud": {},
  "kernelspec": {
   "display_name": "Python 3",
   "language": "python",
   "name": "python3"
  },
  "language_info": {
   "codemirror_mode": {
    "name": "ipython",
    "version": 3
   },
   "file_extension": ".py",
   "mimetype": "text/x-python",
   "name": "python",
   "nbconvert_exporter": "python",
   "pygments_lexer": "ipython3",
   "version": "3.8.8"
  }
 },
 "nbformat": 4,
 "nbformat_minor": 4
}
