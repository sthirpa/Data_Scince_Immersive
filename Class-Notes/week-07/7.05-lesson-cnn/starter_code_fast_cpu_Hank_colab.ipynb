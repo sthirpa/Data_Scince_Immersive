{
  "cells": [
    {
      "cell_type": "markdown",
      "metadata": {
        "id": "v-n7mYR2Psu0"
      },
      "source": [
        "## ![](https://ga-dash.s3.amazonaws.com/production/assets/logo-9f88ae6c9c3871690e33280fcf557f33.png) Convolutional Neural Networks\n",
        "\n",
        "\n",
        "\n",
        "**By the end of the lesson, you should be able to:**\n",
        "- Identify use cases for convolutional neural networks and when they are superior to other neural networks.\n",
        "- Describe convolutional and pooling layers.\n",
        "- Define padding and filters.\n",
        "- Fit CNNs in Keras.\n",
        "- Understand how edge detection works in CNNs. _(optional)_"
      ]
    },
    {
      "cell_type": "markdown",
      "metadata": {
        "id": "6tZ8iDcuPsu3"
      },
      "source": [
        "Convolutional neural networks are generally used when we are dealing with image data.\n",
        "\n",
        "Their main advantage over densely connected neural networks is **efficiency**.\n",
        "\n",
        "In order to illustrate this, let's build out a feedforward neural network and tackle the MNIST Handwritten Digits Dataset."
      ]
    },
    {
      "cell_type": "code",
      "execution_count": 1,
      "metadata": {
        "colab": {
          "base_uri": "https://localhost:8080/"
        },
        "id": "nqUCjLXjPsu4",
        "outputId": "2f6825f6-91c4-425e-ba50-dfb8ceaae87b"
      },
      "outputs": [
        {
          "output_type": "stream",
          "name": "stdout",
          "text": [
            "Downloading data from https://storage.googleapis.com/tensorflow/tf-keras-datasets/mnist.npz\n",
            "11493376/11490434 [==============================] - 0s 0us/step\n",
            "11501568/11490434 [==============================] - 0s 0us/step\n"
          ]
        }
      ],
      "source": [
        "# Import libraries and modules\n",
        "import numpy as np\n",
        "import matplotlib.pyplot as plt\n",
        "\n",
        "# For reproducibility\n",
        "np.random.seed(42)\n",
        "\n",
        "from tensorflow.keras.models import Sequential\n",
        "from tensorflow.keras.layers import Dense, Dropout, Flatten, Conv2D, MaxPooling2D\n",
        "from tensorflow.keras import utils\n",
        "from tensorflow.keras.datasets import mnist\n",
        " \n",
        "# Load pre-shuffled MNIST data into train and test sets\n",
        "(X_train, y_train), (X_test, y_test) = mnist.load_data()"
      ]
    },
    {
      "cell_type": "code",
      "execution_count": 2,
      "metadata": {
        "scrolled": true,
        "colab": {
          "base_uri": "https://localhost:8080/"
        },
        "id": "x6T0XjSYPsu5",
        "outputId": "8a8313aa-1660-45d7-d5ce-0ae808f96e0f"
      },
      "outputs": [
        {
          "output_type": "execute_result",
          "data": {
            "text/plain": [
              "array([[  0,   0,   0,   0,   0,   0,   0,   0,   0,   0,   0,   0,   0,\n",
              "          0,   0,   0,   0,   0,   0,   0,   0,   0,   0,   0,   0,   0,\n",
              "          0,   0],\n",
              "       [  0,   0,   0,   0,   0,   0,   0,   0,   0,   0,   0,   0,   0,\n",
              "          0,   0,   0,   0,   0,   0,   0,   0,   0,   0,   0,   0,   0,\n",
              "          0,   0],\n",
              "       [  0,   0,   0,   0,   0,   0,   0,   0,   0,   0,   0,   0,   0,\n",
              "          0,   0,   0,   0,   0,   0,   0,   0,   0,   0,   0,   0,   0,\n",
              "          0,   0],\n",
              "       [  0,   0,   0,   0,   0,   0,   0,   0,   0,   0,   0,   0,   0,\n",
              "          0,   0,   0,   0,   0,   0,   0,   0,   0,   0,   0,   0,   0,\n",
              "          0,   0],\n",
              "       [  0,   0,   0,   0,   0,   0,   0,   0,   0,   0,   0,   0,   0,\n",
              "          0,   0,   0,   0,   0,   0,   0,   0,   0,   0,   0,   0,   0,\n",
              "          0,   0],\n",
              "       [  0,   0,   0,   0,   0,   0,   0,   0,   0,   0,   0,   0,   3,\n",
              "         18,  18,  18, 126, 136, 175,  26, 166, 255, 247, 127,   0,   0,\n",
              "          0,   0],\n",
              "       [  0,   0,   0,   0,   0,   0,   0,   0,  30,  36,  94, 154, 170,\n",
              "        253, 253, 253, 253, 253, 225, 172, 253, 242, 195,  64,   0,   0,\n",
              "          0,   0],\n",
              "       [  0,   0,   0,   0,   0,   0,   0,  49, 238, 253, 253, 253, 253,\n",
              "        253, 253, 253, 253, 251,  93,  82,  82,  56,  39,   0,   0,   0,\n",
              "          0,   0],\n",
              "       [  0,   0,   0,   0,   0,   0,   0,  18, 219, 253, 253, 253, 253,\n",
              "        253, 198, 182, 247, 241,   0,   0,   0,   0,   0,   0,   0,   0,\n",
              "          0,   0],\n",
              "       [  0,   0,   0,   0,   0,   0,   0,   0,  80, 156, 107, 253, 253,\n",
              "        205,  11,   0,  43, 154,   0,   0,   0,   0,   0,   0,   0,   0,\n",
              "          0,   0],\n",
              "       [  0,   0,   0,   0,   0,   0,   0,   0,   0,  14,   1, 154, 253,\n",
              "         90,   0,   0,   0,   0,   0,   0,   0,   0,   0,   0,   0,   0,\n",
              "          0,   0],\n",
              "       [  0,   0,   0,   0,   0,   0,   0,   0,   0,   0,   0, 139, 253,\n",
              "        190,   2,   0,   0,   0,   0,   0,   0,   0,   0,   0,   0,   0,\n",
              "          0,   0],\n",
              "       [  0,   0,   0,   0,   0,   0,   0,   0,   0,   0,   0,  11, 190,\n",
              "        253,  70,   0,   0,   0,   0,   0,   0,   0,   0,   0,   0,   0,\n",
              "          0,   0],\n",
              "       [  0,   0,   0,   0,   0,   0,   0,   0,   0,   0,   0,   0,  35,\n",
              "        241, 225, 160, 108,   1,   0,   0,   0,   0,   0,   0,   0,   0,\n",
              "          0,   0],\n",
              "       [  0,   0,   0,   0,   0,   0,   0,   0,   0,   0,   0,   0,   0,\n",
              "         81, 240, 253, 253, 119,  25,   0,   0,   0,   0,   0,   0,   0,\n",
              "          0,   0],\n",
              "       [  0,   0,   0,   0,   0,   0,   0,   0,   0,   0,   0,   0,   0,\n",
              "          0,  45, 186, 253, 253, 150,  27,   0,   0,   0,   0,   0,   0,\n",
              "          0,   0],\n",
              "       [  0,   0,   0,   0,   0,   0,   0,   0,   0,   0,   0,   0,   0,\n",
              "          0,   0,  16,  93, 252, 253, 187,   0,   0,   0,   0,   0,   0,\n",
              "          0,   0],\n",
              "       [  0,   0,   0,   0,   0,   0,   0,   0,   0,   0,   0,   0,   0,\n",
              "          0,   0,   0,   0, 249, 253, 249,  64,   0,   0,   0,   0,   0,\n",
              "          0,   0],\n",
              "       [  0,   0,   0,   0,   0,   0,   0,   0,   0,   0,   0,   0,   0,\n",
              "          0,  46, 130, 183, 253, 253, 207,   2,   0,   0,   0,   0,   0,\n",
              "          0,   0],\n",
              "       [  0,   0,   0,   0,   0,   0,   0,   0,   0,   0,   0,   0,  39,\n",
              "        148, 229, 253, 253, 253, 250, 182,   0,   0,   0,   0,   0,   0,\n",
              "          0,   0],\n",
              "       [  0,   0,   0,   0,   0,   0,   0,   0,   0,   0,  24, 114, 221,\n",
              "        253, 253, 253, 253, 201,  78,   0,   0,   0,   0,   0,   0,   0,\n",
              "          0,   0],\n",
              "       [  0,   0,   0,   0,   0,   0,   0,   0,  23,  66, 213, 253, 253,\n",
              "        253, 253, 198,  81,   2,   0,   0,   0,   0,   0,   0,   0,   0,\n",
              "          0,   0],\n",
              "       [  0,   0,   0,   0,   0,   0,  18, 171, 219, 253, 253, 253, 253,\n",
              "        195,  80,   9,   0,   0,   0,   0,   0,   0,   0,   0,   0,   0,\n",
              "          0,   0],\n",
              "       [  0,   0,   0,   0,  55, 172, 226, 253, 253, 253, 253, 244, 133,\n",
              "         11,   0,   0,   0,   0,   0,   0,   0,   0,   0,   0,   0,   0,\n",
              "          0,   0],\n",
              "       [  0,   0,   0,   0, 136, 253, 253, 253, 212, 135, 132,  16,   0,\n",
              "          0,   0,   0,   0,   0,   0,   0,   0,   0,   0,   0,   0,   0,\n",
              "          0,   0],\n",
              "       [  0,   0,   0,   0,   0,   0,   0,   0,   0,   0,   0,   0,   0,\n",
              "          0,   0,   0,   0,   0,   0,   0,   0,   0,   0,   0,   0,   0,\n",
              "          0,   0],\n",
              "       [  0,   0,   0,   0,   0,   0,   0,   0,   0,   0,   0,   0,   0,\n",
              "          0,   0,   0,   0,   0,   0,   0,   0,   0,   0,   0,   0,   0,\n",
              "          0,   0],\n",
              "       [  0,   0,   0,   0,   0,   0,   0,   0,   0,   0,   0,   0,   0,\n",
              "          0,   0,   0,   0,   0,   0,   0,   0,   0,   0,   0,   0,   0,\n",
              "          0,   0]], dtype=uint8)"
            ]
          },
          "metadata": {},
          "execution_count": 2
        }
      ],
      "source": [
        "# Check one value of X_train.\n",
        "X_train[0]"
      ]
    },
    {
      "cell_type": "code",
      "execution_count": 3,
      "metadata": {
        "colab": {
          "base_uri": "https://localhost:8080/"
        },
        "id": "MnY6K4RHPsu5",
        "outputId": "f50d4757-00db-4509-c54d-be1c9591e073"
      },
      "outputs": [
        {
          "output_type": "execute_result",
          "data": {
            "text/plain": [
              "(28, 28)"
            ]
          },
          "metadata": {},
          "execution_count": 3
        }
      ],
      "source": [
        "# Check shape of an image.\n",
        "X_train[0].shape"
      ]
    },
    {
      "cell_type": "markdown",
      "metadata": {
        "id": "I3YqJV8sPsu5"
      },
      "source": [
        "##### We want to scale our data to be betwen 0 and 1.\n",
        "\n",
        "When working with image data, we commonly scale it to be between 0 and 1. This is a common choice if we are pulling images from various sources that are on a different scale, and can improve speed by keeping values close to 0. Depending on the type of computation you want to do, having pixel values represented with `255` might not be ideal."
      ]
    },
    {
      "cell_type": "code",
      "execution_count": 4,
      "metadata": {
        "id": "jeuMgQn5Psu6"
      },
      "outputs": [],
      "source": [
        "# Make sure each value is a float. (Otherwise, we get an error.)\n",
        "X_train = X_train.astype('float32')\n",
        "X_test = X_test.astype('float32')\n",
        "\n",
        "# The current range of X_train and X_test is 0 to 255.\n",
        "# The code below is equivalent to X_train = X_train / 255.\n",
        "# This scales each value to be between 0 and 1.\n",
        "\n",
        "X_train /= 255.0\n",
        "\n",
        "X_test /= 255.0"
      ]
    },
    {
      "cell_type": "markdown",
      "metadata": {
        "id": "Qs6cX9jNPsu6"
      },
      "source": [
        "<img src=\"./images/picture.png\" alt=\"drawing\" width=\"400\"/>\n",
        "\n",
        "[Image by 3Blue1Brown](https://www.youtube.com/channel/UCYO_jab_esuFRV4b17AJtAw)"
      ]
    },
    {
      "cell_type": "code",
      "execution_count": 5,
      "metadata": {
        "colab": {
          "base_uri": "https://localhost:8080/"
        },
        "id": "ZzJcSZ5ePsu7",
        "outputId": "04a156a4-590b-4586-80e8-e4370b412655"
      },
      "outputs": [
        {
          "output_type": "execute_result",
          "data": {
            "text/plain": [
              "(60000, 28, 28)"
            ]
          },
          "metadata": {},
          "execution_count": 5
        }
      ],
      "source": [
        "# Check shape of full training data.\n",
        "X_train.shape"
      ]
    },
    {
      "cell_type": "markdown",
      "metadata": {
        "id": "Gr0nvQrYPsu7"
      },
      "source": [
        "##### We want to reshape each image to be 28 x 28 x 1.\n",
        "\n",
        "This allows our neural network to know that there's only one value (how dark the pixel is) instead of multiple values per pixel. For example, a color image stored in RGB (red/green/blue) might have shape 28 x 28 x 3, where one value is corresponds to how red the pixel is, one value corresponds to how blue the pixel is, and one value corresponds to how green the pixel is.\n",
        "- Reshaping your images can be a hard part of pre-processing."
      ]
    },
    {
      "cell_type": "code",
      "execution_count": 6,
      "metadata": {
        "id": "zTDZuNHTPsu8"
      },
      "outputs": [],
      "source": [
        "# Reshape each image to be 28 x 28 x 1.\n",
        "# The 1 corresponds to the one black/white value.\n",
        "# If we had a color image, we would likely use 3 for RGB.\n",
        "X_train = X_train.reshape(X_train.shape[0], 28, 28, 1)\n",
        "\n",
        "X_test = X_test.reshape(X_test.shape[0], 28, 28, 1)"
      ]
    },
    {
      "cell_type": "markdown",
      "metadata": {
        "id": "5AaKBnJOPsu8"
      },
      "source": [
        "Now let's check out `y_train`."
      ]
    },
    {
      "cell_type": "markdown",
      "metadata": {
        "id": "W3DJ_BC8Psu8"
      },
      "source": [
        "<details><summary>What change do I need to make to y_train? Why?</summary>\n",
        "\n",
        "- Right now, the values of `y_train` will be interpreted as a number. Our neural network would try to predict values that are numerically close to the true value. (i.e. If $Y = 5$, then $\\hat{Y} = 4$ would be way better than $\\hat{Y} = 1$. **This isn't actually what we want!**\n",
        "- I need to convert it to a categorical variable.\n",
        "</details>"
      ]
    },
    {
      "cell_type": "code",
      "source": [
        "y_train[:10]"
      ],
      "metadata": {
        "colab": {
          "base_uri": "https://localhost:8080/"
        },
        "id": "40nGZj5q_b5O",
        "outputId": "885ae3fe-9618-44c9-a69a-45b80ff393c7"
      },
      "execution_count": 9,
      "outputs": [
        {
          "output_type": "execute_result",
          "data": {
            "text/plain": [
              "array([5, 0, 4, 1, 9, 2, 1, 3, 1, 4], dtype=uint8)"
            ]
          },
          "metadata": {},
          "execution_count": 9
        }
      ]
    },
    {
      "cell_type": "code",
      "execution_count": 10,
      "metadata": {
        "id": "zZNjWpZdPsu9"
      },
      "outputs": [],
      "source": [
        "# Change y_train.\n",
        "y_train = utils.to_categorical(y_train, 10)\n",
        "y_test = utils.to_categorical(y_test, 10)"
      ]
    },
    {
      "cell_type": "code",
      "execution_count": 11,
      "metadata": {
        "colab": {
          "base_uri": "https://localhost:8080/"
        },
        "id": "w7lzq2L8Psu9",
        "outputId": "b89e4acd-c665-41a3-d167-43e3bb6483f6"
      },
      "outputs": [
        {
          "output_type": "execute_result",
          "data": {
            "text/plain": [
              "array([[0., 0., 0., 0., 0., 1., 0., 0., 0., 0.],\n",
              "       [1., 0., 0., 0., 0., 0., 0., 0., 0., 0.],\n",
              "       [0., 0., 0., 0., 1., 0., 0., 0., 0., 0.],\n",
              "       [0., 1., 0., 0., 0., 0., 0., 0., 0., 0.],\n",
              "       [0., 0., 0., 0., 0., 0., 0., 0., 0., 1.],\n",
              "       [0., 0., 1., 0., 0., 0., 0., 0., 0., 0.],\n",
              "       [0., 1., 0., 0., 0., 0., 0., 0., 0., 0.],\n",
              "       [0., 0., 0., 1., 0., 0., 0., 0., 0., 0.],\n",
              "       [0., 1., 0., 0., 0., 0., 0., 0., 0., 0.],\n",
              "       [0., 0., 0., 0., 1., 0., 0., 0., 0., 0.]], dtype=float32)"
            ]
          },
          "metadata": {},
          "execution_count": 11
        }
      ],
      "source": [
        "# Check y_train.\n",
        "y_train[0:10]"
      ]
    },
    {
      "cell_type": "markdown",
      "metadata": {
        "id": "kF2caWOEPsu9"
      },
      "source": [
        "### Let's fit a feedforward neural network to this data."
      ]
    },
    {
      "cell_type": "code",
      "execution_count": 12,
      "metadata": {
        "id": "XErbfS_bPsu9"
      },
      "outputs": [],
      "source": [
        "# When instantiating our model, what do we first write?\n",
        "\n",
        "model = Sequential()"
      ]
    },
    {
      "cell_type": "markdown",
      "metadata": {
        "id": "U_F9GVNGPsu9"
      },
      "source": [
        "<img src=\"./images/flattening_image.png\" alt=\"drawing\" width=\"500\"/>\n",
        "\n",
        "[Image source.](https://sds-platform-private.s3-us-east-2.amazonaws.com/uploads/73_blog_image_1.png)"
      ]
    },
    {
      "cell_type": "code",
      "execution_count": 13,
      "metadata": {
        "id": "uRGXSMnXPsu9"
      },
      "outputs": [],
      "source": [
        "# In order to \"align\" our neurons in a vertical array, we\n",
        "# add a \"Flatten\" layer. This will be required before adding\n",
        "# subsequent Dense layers. We need to specify the input shape.\n",
        "\n",
        "model.add(Flatten(input_shape = (28, 28, 1)))"
      ]
    },
    {
      "cell_type": "markdown",
      "metadata": {
        "id": "5mY4n7rEPsu-"
      },
      "source": [
        "<img src=\"./images/picture.png\" alt=\"drawing\" width=\"400\"/>\n",
        "\n",
        "<img src=\"./images/network.png\" alt=\"drawing\" width=\"400\"/>\n",
        "\n",
        "[Images by 3Blue1Brown](https://www.youtube.com/channel/UCYO_jab_esuFRV4b17AJtAw)"
      ]
    },
    {
      "cell_type": "code",
      "execution_count": 14,
      "metadata": {
        "id": "YUitK3JdPsu-"
      },
      "outputs": [],
      "source": [
        "# Let's create a fully-connected, feed-forward neural net with:\n",
        "# - A 128-node hidden layer.\n",
        "# - A 32-node hidden layer.\n",
        "# - The appropriate output layer.\n",
        "\n",
        "model.add(Dense(128, activation = 'relu'))\n",
        "model.add(Dense(32, activation = 'relu'))\n",
        "model.add(Dense(10, activation = 'softmax'))"
      ]
    },
    {
      "cell_type": "code",
      "source": [
        "model.summary()"
      ],
      "metadata": {
        "colab": {
          "base_uri": "https://localhost:8080/"
        },
        "id": "G6klNq_rAy4r",
        "outputId": "b59aa4d2-ec49-4033-d939-8fe2fc199de1"
      },
      "execution_count": 15,
      "outputs": [
        {
          "output_type": "stream",
          "name": "stdout",
          "text": [
            "Model: \"sequential\"\n",
            "_________________________________________________________________\n",
            " Layer (type)                Output Shape              Param #   \n",
            "=================================================================\n",
            " flatten (Flatten)           (None, 784)               0         \n",
            "                                                                 \n",
            " dense (Dense)               (None, 128)               100480    \n",
            "                                                                 \n",
            " dense_1 (Dense)             (None, 32)                4128      \n",
            "                                                                 \n",
            " dense_2 (Dense)             (None, 10)                330       \n",
            "                                                                 \n",
            "=================================================================\n",
            "Total params: 104,938\n",
            "Trainable params: 104,938\n",
            "Non-trainable params: 0\n",
            "_________________________________________________________________\n"
          ]
        }
      ]
    },
    {
      "cell_type": "code",
      "execution_count": 16,
      "metadata": {
        "id": "zy_5HvRRPsu-"
      },
      "outputs": [],
      "source": [
        "# Compile model.\n",
        "model.compile(loss='categorical_crossentropy',\n",
        "              optimizer='adam',\n",
        "              metrics=['accuracy'])"
      ]
    },
    {
      "cell_type": "code",
      "execution_count": 17,
      "metadata": {
        "colab": {
          "base_uri": "https://localhost:8080/"
        },
        "id": "vEhSXcZsPsu-",
        "outputId": "49d2cdd6-e158-4ce6-9136-f1f433724eff"
      },
      "outputs": [
        {
          "output_type": "stream",
          "name": "stdout",
          "text": [
            "Epoch 1/10\n",
            "235/235 [==============================] - 2s 6ms/step - loss: 0.4238 - accuracy: 0.8826 - val_loss: 0.1932 - val_accuracy: 0.9441\n",
            "Epoch 2/10\n",
            "235/235 [==============================] - 1s 5ms/step - loss: 0.1709 - accuracy: 0.9507 - val_loss: 0.1530 - val_accuracy: 0.9543\n",
            "Epoch 3/10\n",
            "235/235 [==============================] - 1s 5ms/step - loss: 0.1287 - accuracy: 0.9623 - val_loss: 0.1157 - val_accuracy: 0.9651\n",
            "Epoch 4/10\n",
            "235/235 [==============================] - 1s 5ms/step - loss: 0.1006 - accuracy: 0.9705 - val_loss: 0.1052 - val_accuracy: 0.9673\n",
            "Epoch 5/10\n",
            "235/235 [==============================] - 1s 5ms/step - loss: 0.0831 - accuracy: 0.9750 - val_loss: 0.0932 - val_accuracy: 0.9705\n",
            "Epoch 6/10\n",
            "235/235 [==============================] - 1s 5ms/step - loss: 0.0695 - accuracy: 0.9795 - val_loss: 0.0829 - val_accuracy: 0.9737\n",
            "Epoch 7/10\n",
            "235/235 [==============================] - 1s 5ms/step - loss: 0.0586 - accuracy: 0.9830 - val_loss: 0.0791 - val_accuracy: 0.9758\n",
            "Epoch 8/10\n",
            "235/235 [==============================] - 1s 5ms/step - loss: 0.0508 - accuracy: 0.9851 - val_loss: 0.0795 - val_accuracy: 0.9745\n",
            "Epoch 9/10\n",
            "235/235 [==============================] - 1s 5ms/step - loss: 0.0435 - accuracy: 0.9873 - val_loss: 0.0747 - val_accuracy: 0.9765\n",
            "Epoch 10/10\n",
            "235/235 [==============================] - 1s 5ms/step - loss: 0.0371 - accuracy: 0.9893 - val_loss: 0.0796 - val_accuracy: 0.9754\n"
          ]
        }
      ],
      "source": [
        "# Fit model on training data.\n",
        "history = model.fit(X_train,\n",
        "                    y_train, \n",
        "                    batch_size=256,\n",
        "                    validation_data=(X_test, y_test),\n",
        "                    epochs=10,\n",
        "                    verbose=1)"
      ]
    },
    {
      "cell_type": "code",
      "execution_count": 18,
      "metadata": {
        "colab": {
          "base_uri": "https://localhost:8080/",
          "height": 530
        },
        "id": "jF54n4RZPsu-",
        "outputId": "0e57bcc9-d490-44d4-ced1-59d4043d127e"
      },
      "outputs": [
        {
          "output_type": "display_data",
          "data": {
            "image/png": "[encoded data removed]",
            "text/plain": [
              "<Figure size 864x576 with 1 Axes>"
            ]
          },
          "metadata": {
            "needs_background": "light"
          }
        }
      ],
      "source": [
        "# Check out our train loss and test loss over epochs.\n",
        "train_loss = history.history['loss']\n",
        "test_loss = history.history['val_loss']\n",
        "epoch_labels = history.epoch\n",
        "\n",
        "# Set figure size.\n",
        "plt.figure(figsize=(12, 8))\n",
        "\n",
        "# Generate line plot of training, testing loss over epochs.\n",
        "plt.plot(train_loss, label='Training Loss', color='#185fad')\n",
        "plt.plot(test_loss, label='Testing Loss', color='orange')\n",
        "\n",
        "# Set title\n",
        "plt.title('Training and Testing Loss by Epoch', fontsize=25)\n",
        "plt.xlabel('Epoch', fontsize=18)\n",
        "plt.ylabel('Categorical Crossentropy', fontsize=18)\n",
        "plt.xticks(epoch_labels, epoch_labels)    # ticks, labels\n",
        "\n",
        "plt.legend(fontsize=18);"
      ]
    },
    {
      "cell_type": "markdown",
      "metadata": {
        "id": "3Ni04pO_Psu-"
      },
      "source": [
        "<details><summary>If my model were to be underfit, what might I do?</summary>\n",
        "\n",
        "- I could try decreasing the batch size.\n",
        "- I could try increasing the number of epochs.\n",
        "- I could try increasing the number of layers.\n",
        "- I could try increasing the number of nodes in each layer.\n",
        "</details>"
      ]
    },
    {
      "cell_type": "code",
      "execution_count": 19,
      "metadata": {
        "colab": {
          "base_uri": "https://localhost:8080/"
        },
        "id": "izA6jqQEPsu-",
        "outputId": "f03b0a65-3873-4675-a476-0e40ce6347a6"
      },
      "outputs": [
        {
          "output_type": "stream",
          "name": "stdout",
          "text": [
            "313/313 [==============================] - 0s 1ms/step - loss: 0.0796 - accuracy: 0.9754\n",
            "loss: 0.07958678901195526\n",
            "accuracy: 0.9753999710083008\n"
          ]
        }
      ],
      "source": [
        "# Evaluate model on test data.\n",
        "score = model.evaluate(X_test,\n",
        "                       y_test,\n",
        "                       verbose=1)\n",
        "\n",
        "labels = model.metrics_names\n",
        "\n",
        "# Show model performance.\n",
        "print(f'{labels[0]}: {score[0]}')\n",
        "print(f'{labels[1]}: {score[1]}')"
      ]
    },
    {
      "cell_type": "markdown",
      "metadata": {
        "id": "pnBjvLhPPsu-"
      },
      "source": [
        "<details><summary>How many parameters are being fit in this model?</summary>\n",
        "\n",
        "- In our input layer, we have $28 * 28 = 784$ neurons.\n",
        "- In our first hidden layer, we have $128$ neurons.\n",
        "- In our second hidden layer, we have $32$ neurons.\n",
        "- In our output layer, we have $10$ neurons.\n",
        "- There is one bias value for each neuron in every hidden layer and output layer, which is $128 + 32 + 10 = 170$ bias parameters.\n",
        "- There is one weight value connecting each node from the input to first hidden layer, which is $784 * 128 = 100,352$ weight parameters.\n",
        "- There is one weight value connecting each node from the first hidden layer to the second hidden layer, which is $128 * 32 = 4,096$ weight parameters.\n",
        "- There is one weight value connecting each node from the second hidden layer to the output layer, which is $32 * 10 = 320$ weight parameters.\n",
        "- Adding these up, we get $170 + 100,352 + 4,096 + 320 \\approx 105,000$ parameters.\n",
        "</details>"
      ]
    },
    {
      "cell_type": "code",
      "execution_count": 20,
      "metadata": {
        "colab": {
          "base_uri": "https://localhost:8080/"
        },
        "id": "rywqImPhPsu_",
        "outputId": "edcbb5f8-5e2b-4757-e743-d26656d95313"
      },
      "outputs": [
        {
          "output_type": "stream",
          "name": "stdout",
          "text": [
            "Model: \"sequential\"\n",
            "_________________________________________________________________\n",
            " Layer (type)                Output Shape              Param #   \n",
            "=================================================================\n",
            " flatten (Flatten)           (None, 784)               0         \n",
            "                                                                 \n",
            " dense (Dense)               (None, 128)               100480    \n",
            "                                                                 \n",
            " dense_1 (Dense)             (None, 32)                4128      \n",
            "                                                                 \n",
            " dense_2 (Dense)             (None, 10)                330       \n",
            "                                                                 \n",
            "=================================================================\n",
            "Total params: 104,938\n",
            "Trainable params: 104,938\n",
            "Non-trainable params: 0\n",
            "_________________________________________________________________\n"
          ]
        }
      ],
      "source": [
        "# Check out the model summary.\n",
        "model.summary()"
      ]
    },
    {
      "cell_type": "markdown",
      "metadata": {
        "id": "mYRWBDsYPsu_"
      },
      "source": [
        "<details><summary>What are some consequences of fitting a model with too many parameters?</summary>\n",
        "\n",
        "- Easy to overfit our model.\n",
        "- Learning is quite slow.\n",
        "- We need more data in order to meaningfully learn and fit a model!\n",
        "</details>"
      ]
    },
    {
      "cell_type": "markdown",
      "metadata": {
        "id": "QA5-ZpqKPsu_"
      },
      "source": [
        "## Convolutional Neural Networks\n",
        "Convolutional neural networks are a great way to get around this issue of too many parameters. CNNs do some complicated math up front to \"compress our images,\" allowing us to learn far fewer parameters in later layers.\n",
        "\n",
        "A CNN will generally consist of three types of layers:\n",
        "- Convolutional Layer\n",
        "- Pooling Layer\n",
        "- Densely Connected Layer\n",
        "\n",
        "<img src=\"./images/cnn.jpeg\" alt=\"drawing\" width=\"600\"/>\n",
        "\n",
        "[Image source.](https://towardsdatascience.com/a-comprehensive-guide-to-convolutional-neural-networks-the-eli5-way-3bd2b1164a53)\n",
        "\n",
        "This isn't overly helpful if we're trying to learn what CNNs are/do."
      ]
    },
    {
      "cell_type": "markdown",
      "metadata": {
        "id": "ARzHjYh_Psu_"
      },
      "source": [
        "### Let's fit a convolutional neural network to this data."
      ]
    },
    {
      "cell_type": "code",
      "execution_count": 21,
      "metadata": {
        "id": "CsCoLR5jPsu_"
      },
      "outputs": [],
      "source": [
        "# Instantiate a CNN.\n",
        "cnn_model = Sequential()"
      ]
    },
    {
      "cell_type": "code",
      "execution_count": 22,
      "metadata": {
        "id": "MlE3EpzGPsu_"
      },
      "outputs": [],
      "source": [
        "# Add a convolutional layer.\n",
        "\n",
        "cnn_model.add(Conv2D(filters = 6, # number of filters\n",
        "                     kernel_size = (3, 3), # height/width of filter\n",
        "                     activation = 'relu', # activation function\n",
        "                     input_shape = (28, 28, 1)# shape of input (image)\n",
        "                     ))  "
      ]
    },
    {
      "cell_type": "markdown",
      "metadata": {
        "id": "ZmAaIPxMPsu_"
      },
      "source": [
        "We have to specify the input shape in our first cell, just like we had to do earlier!"
      ]
    },
    {
      "cell_type": "code",
      "execution_count": 23,
      "metadata": {
        "id": "Sht7PBUbPsu_"
      },
      "outputs": [],
      "source": [
        "cnn_model.add(MaxPooling2D(pool_size = (2, 2))) # dimensions of region of pooling"
      ]
    },
    {
      "cell_type": "code",
      "execution_count": 24,
      "metadata": {
        "id": "9FtHswQ2Psu_"
      },
      "outputs": [],
      "source": [
        "cnn_model.add(Conv2D(16,\n",
        "                     kernel_size = (3, 3),\n",
        "                     activation = 'relu'))"
      ]
    },
    {
      "cell_type": "code",
      "execution_count": 26,
      "metadata": {
        "id": "ZvpR_hXnPsu_"
      },
      "outputs": [],
      "source": [
        "cnn_model.add(MaxPooling2D(pool_size=(2, 2)))"
      ]
    },
    {
      "cell_type": "code",
      "execution_count": 27,
      "metadata": {
        "id": "CX_5MyIAPsu_"
      },
      "outputs": [],
      "source": [
        "cnn_model.add(Flatten())"
      ]
    },
    {
      "cell_type": "markdown",
      "metadata": {
        "id": "nFYrSaFePsu_"
      },
      "source": [
        "<img src=\"./images/pic1.png\" alt=\"drawing\" width=\"400\"/>\n",
        "\n",
        "<img src=\"./images/pic2.png\" alt=\"drawing\" width=\"400\"/>\n",
        "\n",
        "<img src=\"./images/pic3.png\" alt=\"drawing\" width=\"400\"/>\n",
        "\n",
        "<img src=\"./images/pic4.png\" alt=\"drawing\" width=\"400\"/>\n",
        "\n",
        "[Image by 3Blue1Brown](https://www.youtube.com/channel/UCYO_jab_esuFRV4b17AJtAw)"
      ]
    },
    {
      "cell_type": "code",
      "source": [
        "cnn_model.summary()"
      ],
      "metadata": {
        "colab": {
          "base_uri": "https://localhost:8080/"
        },
        "id": "EWOc4AerIXDo",
        "outputId": "6b47e425-3f24-45ad-e682-1e60f1afcfab"
      },
      "execution_count": 28,
      "outputs": [
        {
          "output_type": "stream",
          "name": "stdout",
          "text": [
            "Model: \"sequential_1\"\n",
            "_________________________________________________________________\n",
            " Layer (type)                Output Shape              Param #   \n",
            "=================================================================\n",
            " conv2d (Conv2D)             (None, 26, 26, 6)         60        \n",
            "                                                                 \n",
            " max_pooling2d (MaxPooling2D  (None, 13, 13, 6)        0         \n",
            " )                                                               \n",
            "                                                                 \n",
            " conv2d_1 (Conv2D)           (None, 11, 11, 16)        880       \n",
            "                                                                 \n",
            " max_pooling2d_1 (MaxPooling  (None, 5, 5, 16)         0         \n",
            " 2D)                                                             \n",
            "                                                                 \n",
            " flatten_1 (Flatten)         (None, 400)               0         \n",
            "                                                                 \n",
            "=================================================================\n",
            "Total params: 940\n",
            "Trainable params: 940\n",
            "Non-trainable params: 0\n",
            "_________________________________________________________________\n"
          ]
        }
      ]
    },
    {
      "cell_type": "code",
      "execution_count": 29,
      "metadata": {
        "id": "bZVb5LtBPsu_"
      },
      "outputs": [],
      "source": [
        "# Add a densely-connected layer with 128 neurons.\n",
        "cnn_model.add(Dense(128, activation = 'relu'))"
      ]
    },
    {
      "cell_type": "code",
      "execution_count": 30,
      "metadata": {
        "id": "wfVzI_W-PsvA"
      },
      "outputs": [],
      "source": [
        "# Add a final layer with 10 neurons.\n",
        "cnn_model.add(Dense(10, activation = 'softmax'))"
      ]
    },
    {
      "cell_type": "code",
      "execution_count": 31,
      "metadata": {
        "id": "uSiDitkTPsvA"
      },
      "outputs": [],
      "source": [
        "# Compile model\n",
        "cnn_model.compile(loss = 'categorical_crossentropy',\n",
        "                  optimizer = 'adam',\n",
        "                  metrics = ['accuracy'])"
      ]
    },
    {
      "cell_type": "code",
      "source": [
        "cnn_model.summary()"
      ],
      "metadata": {
        "colab": {
          "base_uri": "https://localhost:8080/"
        },
        "id": "RSWvndsiI6Wm",
        "outputId": "9f9898aa-d8fb-47de-86e0-3ab948cc6363"
      },
      "execution_count": 32,
      "outputs": [
        {
          "output_type": "stream",
          "name": "stdout",
          "text": [
            "Model: \"sequential_1\"\n",
            "_________________________________________________________________\n",
            " Layer (type)                Output Shape              Param #   \n",
            "=================================================================\n",
            " conv2d (Conv2D)             (None, 26, 26, 6)         60        \n",
            "                                                                 \n",
            " max_pooling2d (MaxPooling2D  (None, 13, 13, 6)        0         \n",
            " )                                                               \n",
            "                                                                 \n",
            " conv2d_1 (Conv2D)           (None, 11, 11, 16)        880       \n",
            "                                                                 \n",
            " max_pooling2d_1 (MaxPooling  (None, 5, 5, 16)         0         \n",
            " 2D)                                                             \n",
            "                                                                 \n",
            " flatten_1 (Flatten)         (None, 400)               0         \n",
            "                                                                 \n",
            " dense_3 (Dense)             (None, 128)               51328     \n",
            "                                                                 \n",
            " dense_4 (Dense)             (None, 10)                1290      \n",
            "                                                                 \n",
            "=================================================================\n",
            "Total params: 53,558\n",
            "Trainable params: 53,558\n",
            "Non-trainable params: 0\n",
            "_________________________________________________________________\n"
          ]
        }
      ]
    },
    {
      "cell_type": "code",
      "execution_count": 33,
      "metadata": {
        "colab": {
          "base_uri": "https://localhost:8080/"
        },
        "id": "V4ua4gLFPsvA",
        "outputId": "ac8cd934-38f9-4d11-f089-30a1c17d958f"
      },
      "outputs": [
        {
          "output_type": "stream",
          "name": "stdout",
          "text": [
            "Epoch 1/10\n",
            "235/235 [==============================] - 29s 122ms/step - loss: 0.5682 - accuracy: 0.8474 - val_loss: 0.1626 - val_accuracy: 0.9533\n",
            "Epoch 2/10\n",
            "235/235 [==============================] - 27s 115ms/step - loss: 0.1353 - accuracy: 0.9595 - val_loss: 0.0966 - val_accuracy: 0.9715\n",
            "Epoch 3/10\n",
            "235/235 [==============================] - 27s 115ms/step - loss: 0.0923 - accuracy: 0.9720 - val_loss: 0.0699 - val_accuracy: 0.9783\n",
            "Epoch 4/10\n",
            "235/235 [==============================] - 27s 115ms/step - loss: 0.0730 - accuracy: 0.9776 - val_loss: 0.0627 - val_accuracy: 0.9798\n",
            "Epoch 5/10\n",
            "235/235 [==============================] - 29s 123ms/step - loss: 0.0611 - accuracy: 0.9815 - val_loss: 0.0574 - val_accuracy: 0.9810\n",
            "Epoch 6/10\n",
            "235/235 [==============================] - 26s 111ms/step - loss: 0.0532 - accuracy: 0.9844 - val_loss: 0.0483 - val_accuracy: 0.9839\n",
            "Epoch 7/10\n",
            "235/235 [==============================] - 27s 115ms/step - loss: 0.0467 - accuracy: 0.9860 - val_loss: 0.0461 - val_accuracy: 0.9846\n",
            "Epoch 8/10\n",
            "235/235 [==============================] - 26s 113ms/step - loss: 0.0417 - accuracy: 0.9870 - val_loss: 0.0446 - val_accuracy: 0.9853\n",
            "Epoch 9/10\n",
            "235/235 [==============================] - 27s 114ms/step - loss: 0.0370 - accuracy: 0.9886 - val_loss: 0.0423 - val_accuracy: 0.9860\n",
            "Epoch 10/10\n",
            "235/235 [==============================] - 27s 115ms/step - loss: 0.0336 - accuracy: 0.9895 - val_loss: 0.0389 - val_accuracy: 0.9867\n"
          ]
        }
      ],
      "source": [
        "# Fit model on training data\n",
        "history = cnn_model.fit(X_train,\n",
        "                        y_train,\n",
        "                        batch_size = 256,\n",
        "                        validation_data = (X_test, y_test),\n",
        "                        epochs = 10,\n",
        "                        verbose = 1)"
      ]
    },
    {
      "cell_type": "code",
      "execution_count": 34,
      "metadata": {
        "colab": {
          "base_uri": "https://localhost:8080/"
        },
        "id": "8z38Lf6kPsvA",
        "outputId": "443d6754-92fd-403a-9ae6-782cc32945fc"
      },
      "outputs": [
        {
          "output_type": "stream",
          "name": "stdout",
          "text": [
            "Model: \"sequential_1\"\n",
            "_________________________________________________________________\n",
            " Layer (type)                Output Shape              Param #   \n",
            "=================================================================\n",
            " conv2d (Conv2D)             (None, 26, 26, 6)         60        \n",
            "                                                                 \n",
            " max_pooling2d (MaxPooling2D  (None, 13, 13, 6)        0         \n",
            " )                                                               \n",
            "                                                                 \n",
            " conv2d_1 (Conv2D)           (None, 11, 11, 16)        880       \n",
            "                                                                 \n",
            " max_pooling2d_1 (MaxPooling  (None, 5, 5, 16)         0         \n",
            " 2D)                                                             \n",
            "                                                                 \n",
            " flatten_1 (Flatten)         (None, 400)               0         \n",
            "                                                                 \n",
            " dense_3 (Dense)             (None, 128)               51328     \n",
            "                                                                 \n",
            " dense_4 (Dense)             (None, 10)                1290      \n",
            "                                                                 \n",
            "=================================================================\n",
            "Total params: 53,558\n",
            "Trainable params: 53,558\n",
            "Non-trainable params: 0\n",
            "_________________________________________________________________\n"
          ]
        }
      ],
      "source": [
        "# Check out the model summary.\n",
        "cnn_model.summary()"
      ]
    },
    {
      "cell_type": "code",
      "execution_count": 35,
      "metadata": {
        "colab": {
          "base_uri": "https://localhost:8080/",
          "height": 530
        },
        "id": "ZW30DkESPsvA",
        "outputId": "f220b776-3de9-4018-9291-30962c6b22e0"
      },
      "outputs": [
        {
          "output_type": "display_data",
          "data": {
            "image/png": "[encoded data removed]",
            "text/plain": [
              "<Figure size 864x576 with 1 Axes>"
            ]
          },
          "metadata": {
            "needs_background": "light"
          }
        }
      ],
      "source": [
        "# Check out our train loss and test loss over epochs.\n",
        "train_loss = history.history['loss']\n",
        "test_loss = history.history['val_loss']\n",
        "\n",
        "# Set figure size.\n",
        "plt.figure(figsize=(12, 8))\n",
        "\n",
        "# Generate line plot of training, testing loss over epochs.\n",
        "plt.plot(train_loss, label='Training Loss', color='#185fad')\n",
        "plt.plot(test_loss, label='Testing Loss', color='orange')\n",
        "\n",
        "# Set title\n",
        "plt.title('Training and Testing Loss by Epoch', fontsize=25)\n",
        "plt.xlabel('Epoch', fontsize=18)\n",
        "plt.ylabel('Categorical Crossentropy', fontsize=18)\n",
        "plt.xticks(np.arange(10), np.arange(10))\n",
        "\n",
        "plt.legend(fontsize = 18);"
      ]
    },
    {
      "cell_type": "code",
      "execution_count": 36,
      "metadata": {
        "colab": {
          "base_uri": "https://localhost:8080/"
        },
        "id": "opGxQhcjPsvA",
        "outputId": "6eec8800-4527-4b08-ec5f-a290ef2b8b3e"
      },
      "outputs": [
        {
          "output_type": "stream",
          "name": "stdout",
          "text": [
            "313/313 [==============================] - 2s 6ms/step - loss: 0.0389 - accuracy: 0.9867\n",
            "CNN loss  : 0.03890065476298332\n",
            "CNN accuracy   : 0.9866999983787537\n",
            "\n",
            "FFNN loss : 0.07958678901195526\n",
            "FFNN accuracy  : 0.9753999710083008\n"
          ]
        }
      ],
      "source": [
        "# Evaluate model on test data.\n",
        "cnn_score = cnn_model.evaluate(X_test,\n",
        "                               y_test,\n",
        "                               verbose=1)\n",
        "\n",
        "cnn_labels = cnn_model.metrics_names\n",
        "\n",
        "# Compare CNN and FFNN models.\n",
        "print(f'CNN {cnn_labels[0]}  : {cnn_score[0]}')\n",
        "print(f'CNN {cnn_labels[1]}   : {cnn_score[1]}')\n",
        "print()\n",
        "print(f'FFNN {labels[0]} : {score[0]}')\n",
        "print(f'FFNN {labels[1]}  : {score[1]}')"
      ]
    },
    {
      "cell_type": "markdown",
      "metadata": {
        "id": "cjizwcy0PsvA"
      },
      "source": [
        "### Convolution Layer\n",
        "\n",
        "The convolution layer is where we pass a filter over an image and do some calculation at each step. Specifically, we take pixels that are close to one another, then summarize them with one number. The goal of the convolution layer is to identify important features in our images, like edges.\n",
        "\n",
        "<img src=\"./images/convolution.gif\" alt=\"drawing\" width=\"550\"/>\n",
        "\n",
        "[Image source.](https://ujjwalkarn.me/2016/08/11/intuitive-explanation-convnets/)\n",
        "\n",
        "Our hyperparameters here are:\n",
        "- the number of filters to use. This is given by `filters = 6` in our example: six filters.\n",
        "- the dimensions of the filter. This is given by `kernel_size = (3, 3)` in our example: a 3x3 filter.\n",
        "\n",
        "**How many filters should we use?** Well, this is a hyperparameter. There's not one great answer, but the idea is that each filter can detect one type of feature in an image (like vertical edges). This may depend on the complexity of your images (simpler images require fewer filters) and usually requires trial and error to identify an adequate value of `filters`. [Source](https://stats.stackexchange.com/questions/196646/what-is-the-significance-of-the-number-of-convolution-filters-in-a-convolutional)"
      ]
    },
    {
      "cell_type": "markdown",
      "metadata": {
        "id": "b2fE4pvePsvA"
      },
      "source": [
        "#### Padding\n",
        "\n",
        "When we pass a filter over an image, each of the \"inside\" pixels is counted pretty frequently and thus gets \"represented\" more in the final model output."
      ]
    },
    {
      "cell_type": "markdown",
      "metadata": {
        "id": "Bhe_ttnBPsvA"
      },
      "source": [
        "<details><summary>How many times does each corner get included in the \"output?\"</summary>\n",
        "\n",
        "- Right now, each corner gets included only once.\n",
        "</details>\n",
        "\n",
        "We can use **padding** to add a border of white cells around the edge of the image. This will allow pixels on the edge/in the corner to be included more frequently. (This might be good when doing computer vision for self-driving vehicles!)"
      ]
    },
    {
      "cell_type": "markdown",
      "metadata": {
        "id": "MBQUwETWPsvA"
      },
      "source": [
        "<details><summary>In this MNIST digits case, do you think padding is a good idea or a bad idea?</summary>\n",
        "\n",
        "- Padding is probably a bad idea here. We're increasing the number of parameters we need to learn, but it's unlikely that we're getting important data from the corners/edges of the image. \n",
        "</details>\n",
        "\n",
        "[Let's visualize what the convolution operation looks like](https://ezyang.github.io/convolution-visualizer/)."
      ]
    },
    {
      "cell_type": "markdown",
      "metadata": {
        "id": "QfGwIU0nPsvA"
      },
      "source": [
        "### Pooling Layer\n",
        "\n",
        "Remember that CNNs learn far fewer parameters than a regular feed-forward neural network. Most of the \"parameter reduction\" comes from the pooling layer.\n",
        "\n",
        "<img src=\"./images/maxpool.png\" alt=\"drawing\" width=\"400\"/>\n",
        "\n",
        "[Image source.](https://ujjwalkarn.me/2016/08/11/intuitive-explanation-convnets/)\n",
        "\n",
        "In Max Pooling, we pass a filter over an image. At each step, we take the maximum value and record it as part of the output.\n",
        "- Average Pooling exists, but is far less frequently used. [Andrew Ng](https://www.deeplearning.ai/deep-learning-specialization/) recommends using Max Pooling.\n",
        "- When pooling, we generally partition the result from the previous layer. That is, the filter does not usually overlap like it does in the convolutional layer.\n",
        "\n",
        "Our hyperparameters here are the **dimensions of the filter we use when pooling**. This is given by `pool_size = (2, 2)` in our example.\n",
        "\n",
        "##### Why use max pooling?\n",
        "1. Reduces the data dimensionality.\n",
        "2. Protects against overfitting by creating a more abstract representation.\n",
        "3. Provides some invariance by ignoring insignificant local changes in the image."
      ]
    },
    {
      "cell_type": "markdown",
      "metadata": {
        "id": "nTW_-iZCPsvA"
      },
      "source": [
        "### Densely-Connected Layer\n",
        "The densely-connected layer is the exact same as in a normal feed-forward neural network, so we won't spend any time talking about that, **except: remember to pass a `Flatten()` layer before a `Dense()` layer!**"
      ]
    },
    {
      "cell_type": "code",
      "execution_count": 38,
      "metadata": {
        "colab": {
          "base_uri": "https://localhost:8080/"
        },
        "id": "Vl7fAa-OPsvA",
        "outputId": "5a309b59-1ee1-4ee4-dfab-a375146f3b13"
      },
      "outputs": [
        {
          "output_type": "stream",
          "name": "stdout",
          "text": [
            "Epoch 1/10\n",
            "469/469 [==============================] - 48s 101ms/step - loss: 0.8211 - accuracy: 0.7206 - val_loss: 0.1169 - val_accuracy: 0.9679\n",
            "Epoch 2/10\n",
            "469/469 [==============================] - 45s 96ms/step - loss: 0.3517 - accuracy: 0.8902 - val_loss: 0.0848 - val_accuracy: 0.9784\n",
            "Epoch 3/10\n",
            "469/469 [==============================] - 46s 99ms/step - loss: 0.2820 - accuracy: 0.9148 - val_loss: 0.0678 - val_accuracy: 0.9808\n",
            "Epoch 4/10\n",
            "469/469 [==============================] - 46s 97ms/step - loss: 0.2422 - accuracy: 0.9276 - val_loss: 0.0575 - val_accuracy: 0.9838\n",
            "Epoch 5/10\n",
            "469/469 [==============================] - 46s 98ms/step - loss: 0.2142 - accuracy: 0.9368 - val_loss: 0.0604 - val_accuracy: 0.9849\n",
            "Epoch 6/10\n",
            "469/469 [==============================] - 45s 96ms/step - loss: 0.1971 - accuracy: 0.9413 - val_loss: 0.0548 - val_accuracy: 0.9864\n",
            "Epoch 7/10\n",
            "469/469 [==============================] - 30s 64ms/step - loss: 0.1861 - accuracy: 0.9458 - val_loss: 0.0444 - val_accuracy: 0.9877\n",
            "Epoch 8/10\n",
            "469/469 [==============================] - 30s 64ms/step - loss: 0.1783 - accuracy: 0.9471 - val_loss: 0.0470 - val_accuracy: 0.9877\n",
            "Epoch 9/10\n",
            "469/469 [==============================] - 30s 64ms/step - loss: 0.1655 - accuracy: 0.9497 - val_loss: 0.0433 - val_accuracy: 0.9884\n",
            "Epoch 10/10\n",
            "469/469 [==============================] - 30s 64ms/step - loss: 0.1572 - accuracy: 0.9528 - val_loss: 0.0465 - val_accuracy: 0.9880\n"
          ]
        }
      ],
      "source": [
        "# Instantiate a CNN.\n",
        "cnn_model_2 = Sequential()\n",
        "\n",
        "# Add a convolutional layer.\n",
        "cnn_model_2.add(Conv2D(filters = 16, # number of filters\n",
        "                       kernel_size = (3, 3), # height/width of filter\n",
        "                       activation = 'relu', # activation function \n",
        "                       input_shape = (28, 28, 1)))# shape of input (image)\n",
        "\n",
        "# Add a pooling layer.\n",
        "cnn_model_2.add(MaxPooling2D(pool_size = (2, 2))) # dimensions of region of pooling\n",
        "\n",
        "# Add another convolutional layer.\n",
        "cnn_model_2.add(Conv2D(64,\n",
        "                       kernel_size = (3, 3),\n",
        "                       activation = 'relu'))\n",
        "\n",
        "# Add another pooling layer.\n",
        "cnn_model_2.add(MaxPooling2D(pool_size = (2, 2)))\n",
        "# We have to remember to flatten to go from the \"box\" to the vertical line of nodes!\n",
        "cnn_model_2.add(Flatten())\n",
        "# Add a densely-connected layer with 64 neurons.\n",
        "cnn_model_2.add(Dense(64, activation = 'relu'))\n",
        "# Let's try to avoid overfitting!\n",
        "cnn_model_2.add(Dropout(0.5))\n",
        "# Add a densely-connected layer with 32 neurons.\n",
        "cnn_model_2.add(Dense(32, activation = 'relu'))\n",
        "# Let's try to avoid overfitting!\n",
        "cnn_model_2.add(Dropout(0.5))\n",
        "# Add a final layer with 10 neurons.\n",
        "cnn_model_2.add(Dense(10, activation = 'softmax'))\n",
        "# Compile model\n",
        "cnn_model_2.compile(loss = 'categorical_crossentropy',\n",
        "                    optimizer = 'adam',\n",
        "                    metrics = ['accuracy'])\n",
        "# Fit model on training data\n",
        "history = cnn_model_2.fit(X_train,\n",
        "                          y_train,\n",
        "                          batch_size = 128,\n",
        "                          validation_data = (X_test, y_test),\n",
        "                          epochs = 10,\n",
        "                          verbose = 1)"
      ]
    },
    {
      "cell_type": "code",
      "execution_count": 39,
      "metadata": {
        "colab": {
          "base_uri": "https://localhost:8080/",
          "height": 530
        },
        "id": "X5YahiWtPsvB",
        "outputId": "8a54a92b-ee9f-4ad4-97c7-2fb96f605fc7"
      },
      "outputs": [
        {
          "output_type": "display_data",
          "data": {
            "image/png": "[encoded data removed]",
            "text/plain": [
              "<Figure size 864x576 with 1 Axes>"
            ]
          },
          "metadata": {
            "needs_background": "light"
          }
        }
      ],
      "source": [
        "# Check out our train loss and test loss over epochs.\n",
        "train_loss = history.history['loss']\n",
        "test_loss = history.history['val_loss']\n",
        "epoch_labels = history.epoch\n",
        "\n",
        "# Set figure size.\n",
        "plt.figure(figsize=(12, 8))\n",
        "\n",
        "# Generate line plot of training, testing loss over epochs.\n",
        "plt.plot(train_loss, label='Training Loss', color='#185fad')\n",
        "plt.plot(test_loss, label='Testing Loss', color='orange')\n",
        "\n",
        "# Set title\n",
        "plt.title('Training and Testing Loss by Epoch', fontsize=25)\n",
        "plt.xlabel('Epoch', fontsize=18)\n",
        "plt.ylabel('Categorical Crossentropy', fontsize=18)\n",
        "plt.xticks(epoch_labels, epoch_labels)    # ticks, labels\n",
        "\n",
        "plt.legend(fontsize=18);"
      ]
    },
    {
      "cell_type": "code",
      "execution_count": 40,
      "metadata": {
        "colab": {
          "base_uri": "https://localhost:8080/"
        },
        "id": "72OFQcN7PsvB",
        "outputId": "d45daf7e-7df7-410d-fc26-9378ca2f0b9c"
      },
      "outputs": [
        {
          "output_type": "stream",
          "name": "stdout",
          "text": [
            "313/313 [==============================] - 2s 8ms/step - loss: 0.0465 - accuracy: 0.9880\n",
            "CNN 2 loss  : 0.046485740691423416\n",
            "CNN 2 accuracy   : 0.9879999756813049\n",
            "\n",
            "CNN 1 loss  : 0.03890065476298332\n",
            "CNN 1 accuracy   : 0.9866999983787537\n",
            "\n",
            "FFNN loss : 0.07958678901195526\n",
            "FFNN accuracy  : 0.9753999710083008\n",
            "Model: \"sequential_3\"\n",
            "_________________________________________________________________\n",
            " Layer (type)                Output Shape              Param #   \n",
            "=================================================================\n",
            " conv2d_4 (Conv2D)           (None, 26, 26, 16)        160       \n",
            "                                                                 \n",
            " max_pooling2d_4 (MaxPooling  (None, 13, 13, 16)       0         \n",
            " 2D)                                                             \n",
            "                                                                 \n",
            " conv2d_5 (Conv2D)           (None, 11, 11, 64)        9280      \n",
            "                                                                 \n",
            " max_pooling2d_5 (MaxPooling  (None, 5, 5, 64)         0         \n",
            " 2D)                                                             \n",
            "                                                                 \n",
            " flatten_3 (Flatten)         (None, 1600)              0         \n",
            "                                                                 \n",
            " dense_8 (Dense)             (None, 64)                102464    \n",
            "                                                                 \n",
            " dropout_2 (Dropout)         (None, 64)                0         \n",
            "                                                                 \n",
            " dense_9 (Dense)             (None, 32)                2080      \n",
            "                                                                 \n",
            " dropout_3 (Dropout)         (None, 32)                0         \n",
            "                                                                 \n",
            " dense_10 (Dense)            (None, 10)                330       \n",
            "                                                                 \n",
            "=================================================================\n",
            "Total params: 114,314\n",
            "Trainable params: 114,314\n",
            "Non-trainable params: 0\n",
            "_________________________________________________________________\n"
          ]
        }
      ],
      "source": [
        "# Evaluate model on test data.\n",
        "cnn_2_score = cnn_model_2.evaluate(X_test,\n",
        "                                   y_test,\n",
        "                                   verbose=1)\n",
        "\n",
        "cnn_2_labels = cnn_model_2.metrics_names\n",
        "\n",
        "# Compare models.\n",
        "print(f'CNN 2 {cnn_2_labels[0]}  : {cnn_2_score[0]}')\n",
        "print(f'CNN 2 {cnn_2_labels[1]}   : {cnn_2_score[1]}')\n",
        "print()\n",
        "print(f'CNN 1 {cnn_labels[0]}  : {cnn_score[0]}')\n",
        "print(f'CNN 1 {cnn_labels[1]}   : {cnn_score[1]}')\n",
        "print()\n",
        "print(f'FFNN {labels[0]} : {score[0]}')\n",
        "print(f'FFNN {labels[1]}  : {score[1]}')\n",
        "\n",
        "cnn_model_2.summary()"
      ]
    },
    {
      "cell_type": "markdown",
      "metadata": {
        "id": "CKfFsVQSPsvB"
      },
      "source": [
        "## Conclusion\n",
        "\n",
        "Convolutional neural networks are uniquely suited to tackle image data.\n",
        "- Dealing with images usually presents high-dimensional challenges. (A 28x28 image is a pretty low-resolution image.)"
      ]
    },
    {
      "cell_type": "markdown",
      "metadata": {
        "id": "US4hf6bZPsvB"
      },
      "source": [
        "<details><summary>Why are convolutional neural networks better equipped to handle image data than non-CNNs?\n",
        "</summary>\n",
        "\n",
        "- CNNs are naturally set up to consider interactions among \"close pixels\" only and can drastically cuts down the number of parameters needed to learn. (Or get better performance for a given number of parameters!)\n",
        "</details>"
      ]
    },
    {
      "cell_type": "markdown",
      "metadata": {
        "id": "Dtw1LmIvPsvB"
      },
      "source": [
        "<details><summary>Can you think of other situations (i.e. not images) in which we might apply a convolutional neural network?</summary>\n",
        "\n",
        "- **Videos**. A video is really just a sequence of pictures, so we might use a 3D convolutional neural network. (Length of the picture, width of the picture, and depth of the picture is time.)\n",
        "- **Time series data**. Rather than passing a filter over neighboring pixels in pictures, what if we passed a filter over neighboring time periods in time series data?\n",
        "- **Natural language data**. Rather than passing a filter over neighboring pixels in pictures, what if we passed a filter over neighboring words or tokens in natural language data?\n",
        "- Convolutional neural networks exploit the inherent structure in data we pass in.\n",
        "</details>"
      ]
    }
  ],
  "metadata": {
    "kernelspec": {
      "display_name": "Python 3",
      "language": "python",
      "name": "python3"
    },
    "language_info": {
      "codemirror_mode": {
        "name": "ipython",
        "version": 3
      },
      "file_extension": ".py",
      "mimetype": "text/x-python",
      "name": "python",
      "nbconvert_exporter": "python",
      "pygments_lexer": "ipython3",
      "version": "3.8.8"
    },
    "colab": {
      "name": "starter-code-fast-cpu-Hank-colab.ipynb",
      "provenance": []
    }
  },
  "nbformat": 4,
  "nbformat_minor": 0
}