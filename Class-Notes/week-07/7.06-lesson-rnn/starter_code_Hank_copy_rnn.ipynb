{
  "cells": [
    {
      "cell_type": "markdown",
      "metadata": {
        "id": "G4FILFJTAmjg"
      },
      "source": [
        "<img src=\"http://imgur.com/1ZcRyrc.png\" style=\"float: left; margin: 20px; height: 55px\">\n",
        "\n",
        "# Recurrent Neural Networks (RNNs)\n",
        "\n",
        "_Author: Riley Dallas (ATX)_\n",
        "\n",
        "---\n",
        "\n",
        "\n",
        "### Learning Objectives\n",
        "\n",
        "- Learn how to train/test split for sequence data\n",
        "- Use `TimeseriesGenerator` to prep our time series data for modeling\n",
        "- Create a basic RNN model using `keras`"
      ]
    },
    {
      "cell_type": "code",
      "execution_count": 1,
      "metadata": {
        "id": "2DjbkldnAmjj"
      },
      "outputs": [],
      "source": [
        "import pandas as pd\n",
        "\n",
        "from sklearn.preprocessing import StandardScaler\n",
        "from sklearn.model_selection import train_test_split\n",
        "from sklearn.metrics import accuracy_score\n",
        "\n",
        "from tensorflow.keras.models import Sequential\n",
        "from tensorflow.keras.layers import Dense, Dropout, GRU\n",
        "from tensorflow.keras.optimizers import Adam\n",
        "from tensorflow.keras.preprocessing.sequence import TimeseriesGenerator\n",
        "\n",
        "import matplotlib.pyplot as plt"
      ]
    },
    {
      "cell_type": "markdown",
      "metadata": {
        "id": "cTQXufqIAmjk"
      },
      "source": [
        "## Load data: AAPL stock prices and SEC filings\n",
        "---\n",
        "\n",
        "There are two datasets that we'll merge together:\n",
        "- Apple's historical stock prices (ticker: AAPL)\n",
        "- Their SEC filings:\n",
        "  - Annual earnings reports: 10-K\n",
        "  - Quarterly earnings reports: 10-Q\n",
        "  - Company news and updates: 8-K\n",
        "\n",
        "Load both in the cells below."
      ]
    },
    {
      "cell_type": "code",
      "execution_count": 12,
      "metadata": {
        "colab": {
          "base_uri": "https://localhost:8080/",
          "height": 206
        },
        "id": "QsTfXwG2Amjk",
        "outputId": "ec90f488-9392-44f4-fcb9-cca609687779"
      },
      "outputs": [
        {
          "output_type": "execute_result",
          "data": {
            "text/html": [
              "<div>\n",
              "<style scoped>\n",
              "    .dataframe tbody tr th:only-of-type {\n",
              "        vertical-align: middle;\n",
              "    }\n",
              "\n",
              "    .dataframe tbody tr th {\n",
              "        vertical-align: top;\n",
              "    }\n",
              "\n",
              "    .dataframe thead th {\n",
              "        text-align: right;\n",
              "    }\n",
              "</style>\n",
              "<table border=\"1\" class=\"dataframe\">\n",
              "  <thead>\n",
              "    <tr style=\"text-align: right;\">\n",
              "      <th></th>\n",
              "      <th>Date</th>\n",
              "      <th>Open</th>\n",
              "      <th>High</th>\n",
              "      <th>Low</th>\n",
              "      <th>Close</th>\n",
              "      <th>Adj Close</th>\n",
              "      <th>Volume</th>\n",
              "    </tr>\n",
              "  </thead>\n",
              "  <tbody>\n",
              "    <tr>\n",
              "      <th>0</th>\n",
              "      <td>2005-04-25</td>\n",
              "      <td>5.212857</td>\n",
              "      <td>5.288571</td>\n",
              "      <td>5.158571</td>\n",
              "      <td>5.282857</td>\n",
              "      <td>3.522625</td>\n",
              "      <td>186615100</td>\n",
              "    </tr>\n",
              "    <tr>\n",
              "      <th>1</th>\n",
              "      <td>2005-04-26</td>\n",
              "      <td>5.254286</td>\n",
              "      <td>5.358572</td>\n",
              "      <td>5.160000</td>\n",
              "      <td>5.170000</td>\n",
              "      <td>3.447372</td>\n",
              "      <td>202626900</td>\n",
              "    </tr>\n",
              "    <tr>\n",
              "      <th>2</th>\n",
              "      <td>2005-04-27</td>\n",
              "      <td>5.127143</td>\n",
              "      <td>5.194286</td>\n",
              "      <td>5.072857</td>\n",
              "      <td>5.135714</td>\n",
              "      <td>3.424510</td>\n",
              "      <td>153472200</td>\n",
              "    </tr>\n",
              "    <tr>\n",
              "      <th>3</th>\n",
              "      <td>2005-04-28</td>\n",
              "      <td>5.184286</td>\n",
              "      <td>5.191429</td>\n",
              "      <td>5.034286</td>\n",
              "      <td>5.077143</td>\n",
              "      <td>3.385454</td>\n",
              "      <td>143776500</td>\n",
              "    </tr>\n",
              "    <tr>\n",
              "      <th>4</th>\n",
              "      <td>2005-04-29</td>\n",
              "      <td>5.164286</td>\n",
              "      <td>5.175714</td>\n",
              "      <td>5.031428</td>\n",
              "      <td>5.151429</td>\n",
              "      <td>3.434988</td>\n",
              "      <td>167907600</td>\n",
              "    </tr>\n",
              "  </tbody>\n",
              "</table>\n",
              "</div>"
            ],
            "text/plain": [
              "         Date      Open      High       Low     Close  Adj Close     Volume\n",
              "0  2005-04-25  5.212857  5.288571  5.158571  5.282857   3.522625  186615100\n",
              "1  2005-04-26  5.254286  5.358572  5.160000  5.170000   3.447372  202626900\n",
              "2  2005-04-27  5.127143  5.194286  5.072857  5.135714   3.424510  153472200\n",
              "3  2005-04-28  5.184286  5.191429  5.034286  5.077143   3.385454  143776500\n",
              "4  2005-04-29  5.164286  5.175714  5.031428  5.151429   3.434988  167907600"
            ]
          },
          "metadata": {},
          "execution_count": 12
        }
      ],
      "source": [
        "# load prices\n",
        "prices = pd.read_csv('https://raw.git.generalassemb.ly/DSIR-111/dsir-111/master/week-07/7.06-lesson-rnn/datasets/AAPL.csv?token=AAAIYYA34WUY4E24T3DBFLLBYTAPQ')\n",
        "\n",
        "prices.head()"
      ]
    },
    {
      "cell_type": "code",
      "execution_count": 24,
      "metadata": {
        "scrolled": true,
        "colab": {
          "base_uri": "https://localhost:8080/",
          "height": 206
        },
        "id": "CDEhT-pEAmjl",
        "outputId": "3ade191c-e565-44c1-b123-9f27ad0c075d"
      },
      "outputs": [
        {
          "output_type": "execute_result",
          "data": {
            "text/html": [
              "<div>\n",
              "<style scoped>\n",
              "    .dataframe tbody tr th:only-of-type {\n",
              "        vertical-align: middle;\n",
              "    }\n",
              "\n",
              "    .dataframe tbody tr th {\n",
              "        vertical-align: top;\n",
              "    }\n",
              "\n",
              "    .dataframe thead th {\n",
              "        text-align: right;\n",
              "    }\n",
              "</style>\n",
              "<table border=\"1\" class=\"dataframe\">\n",
              "  <thead>\n",
              "    <tr style=\"text-align: right;\">\n",
              "      <th></th>\n",
              "      <th>Date</th>\n",
              "      <th>10-K</th>\n",
              "      <th>10-Q</th>\n",
              "      <th>8-K</th>\n",
              "    </tr>\n",
              "  </thead>\n",
              "  <tbody>\n",
              "    <tr>\n",
              "      <th>0</th>\n",
              "      <td>1994-12-13</td>\n",
              "      <td>1.0</td>\n",
              "      <td>0.0</td>\n",
              "      <td>0.0</td>\n",
              "    </tr>\n",
              "    <tr>\n",
              "      <th>1</th>\n",
              "      <td>1995-12-19</td>\n",
              "      <td>1.0</td>\n",
              "      <td>0.0</td>\n",
              "      <td>0.0</td>\n",
              "    </tr>\n",
              "    <tr>\n",
              "      <th>2</th>\n",
              "      <td>1996-12-19</td>\n",
              "      <td>1.0</td>\n",
              "      <td>0.0</td>\n",
              "      <td>0.0</td>\n",
              "    </tr>\n",
              "    <tr>\n",
              "      <th>3</th>\n",
              "      <td>1997-12-05</td>\n",
              "      <td>1.0</td>\n",
              "      <td>0.0</td>\n",
              "      <td>0.0</td>\n",
              "    </tr>\n",
              "    <tr>\n",
              "      <th>4</th>\n",
              "      <td>1999-12-22</td>\n",
              "      <td>1.0</td>\n",
              "      <td>0.0</td>\n",
              "      <td>0.0</td>\n",
              "    </tr>\n",
              "  </tbody>\n",
              "</table>\n",
              "</div>"
            ],
            "text/plain": [
              "         Date  10-K  10-Q  8-K\n",
              "0  1994-12-13   1.0   0.0  0.0\n",
              "1  1995-12-19   1.0   0.0  0.0\n",
              "2  1996-12-19   1.0   0.0  0.0\n",
              "3  1997-12-05   1.0   0.0  0.0\n",
              "4  1999-12-22   1.0   0.0  0.0"
            ]
          },
          "metadata": {},
          "execution_count": 24
        }
      ],
      "source": [
        "# load filings\n",
        "filings = pd.read_csv('https://raw.git.generalassemb.ly/DSIR-111/dsir-111/master/week-07/7.06-lesson-rnn/datasets/filings.csv?token=AAAIYYCVQBSTBIUAIDEEKL3BYTARE')\n",
        "\n",
        "filings.head()"
      ]
    },
    {
      "cell_type": "markdown",
      "metadata": {
        "id": "PVi2L9m4Amjl"
      },
      "source": [
        "## `Date` columns\n",
        "---\n",
        "\n",
        "For both datasets, we need to:\n",
        "1. Convert the `Date` column to be a `datetime` object\n",
        "2. Since these are time series datasets, we need the indices to be the `Date` columns"
      ]
    },
    {
      "cell_type": "code",
      "execution_count": 14,
      "metadata": {
        "id": "kdz3bFSaAmjl"
      },
      "outputs": [],
      "source": [
        "# set prices Date to datetime\n",
        "prices['Date'] = pd.to_datetime(prices['Date'])"
      ]
    },
    {
      "cell_type": "code",
      "source": [
        "prices.dtypes"
      ],
      "metadata": {
        "colab": {
          "base_uri": "https://localhost:8080/"
        },
        "id": "rwDkKpRAiKVl",
        "outputId": "f0cb3222-905a-4166-e7ab-375a5075f16f"
      },
      "execution_count": 15,
      "outputs": [
        {
          "output_type": "execute_result",
          "data": {
            "text/plain": [
              "Date         datetime64[ns]\n",
              "Open                float64\n",
              "High                float64\n",
              "Low                 float64\n",
              "Close               float64\n",
              "Adj Close           float64\n",
              "Volume                int64\n",
              "dtype: object"
            ]
          },
          "metadata": {},
          "execution_count": 15
        }
      ]
    },
    {
      "cell_type": "code",
      "source": [
        "prices.head()"
      ],
      "metadata": {
        "colab": {
          "base_uri": "https://localhost:8080/",
          "height": 206
        },
        "id": "Cz8DUUcdii5T",
        "outputId": "73f61b58-6f8d-4191-8b76-023e557098a5"
      },
      "execution_count": 16,
      "outputs": [
        {
          "output_type": "execute_result",
          "data": {
            "text/html": [
              "<div>\n",
              "<style scoped>\n",
              "    .dataframe tbody tr th:only-of-type {\n",
              "        vertical-align: middle;\n",
              "    }\n",
              "\n",
              "    .dataframe tbody tr th {\n",
              "        vertical-align: top;\n",
              "    }\n",
              "\n",
              "    .dataframe thead th {\n",
              "        text-align: right;\n",
              "    }\n",
              "</style>\n",
              "<table border=\"1\" class=\"dataframe\">\n",
              "  <thead>\n",
              "    <tr style=\"text-align: right;\">\n",
              "      <th></th>\n",
              "      <th>Date</th>\n",
              "      <th>Open</th>\n",
              "      <th>High</th>\n",
              "      <th>Low</th>\n",
              "      <th>Close</th>\n",
              "      <th>Adj Close</th>\n",
              "      <th>Volume</th>\n",
              "    </tr>\n",
              "  </thead>\n",
              "  <tbody>\n",
              "    <tr>\n",
              "      <th>0</th>\n",
              "      <td>2005-04-25</td>\n",
              "      <td>5.212857</td>\n",
              "      <td>5.288571</td>\n",
              "      <td>5.158571</td>\n",
              "      <td>5.282857</td>\n",
              "      <td>3.522625</td>\n",
              "      <td>186615100</td>\n",
              "    </tr>\n",
              "    <tr>\n",
              "      <th>1</th>\n",
              "      <td>2005-04-26</td>\n",
              "      <td>5.254286</td>\n",
              "      <td>5.358572</td>\n",
              "      <td>5.160000</td>\n",
              "      <td>5.170000</td>\n",
              "      <td>3.447372</td>\n",
              "      <td>202626900</td>\n",
              "    </tr>\n",
              "    <tr>\n",
              "      <th>2</th>\n",
              "      <td>2005-04-27</td>\n",
              "      <td>5.127143</td>\n",
              "      <td>5.194286</td>\n",
              "      <td>5.072857</td>\n",
              "      <td>5.135714</td>\n",
              "      <td>3.424510</td>\n",
              "      <td>153472200</td>\n",
              "    </tr>\n",
              "    <tr>\n",
              "      <th>3</th>\n",
              "      <td>2005-04-28</td>\n",
              "      <td>5.184286</td>\n",
              "      <td>5.191429</td>\n",
              "      <td>5.034286</td>\n",
              "      <td>5.077143</td>\n",
              "      <td>3.385454</td>\n",
              "      <td>143776500</td>\n",
              "    </tr>\n",
              "    <tr>\n",
              "      <th>4</th>\n",
              "      <td>2005-04-29</td>\n",
              "      <td>5.164286</td>\n",
              "      <td>5.175714</td>\n",
              "      <td>5.031428</td>\n",
              "      <td>5.151429</td>\n",
              "      <td>3.434988</td>\n",
              "      <td>167907600</td>\n",
              "    </tr>\n",
              "  </tbody>\n",
              "</table>\n",
              "</div>"
            ],
            "text/plain": [
              "        Date      Open      High       Low     Close  Adj Close     Volume\n",
              "0 2005-04-25  5.212857  5.288571  5.158571  5.282857   3.522625  186615100\n",
              "1 2005-04-26  5.254286  5.358572  5.160000  5.170000   3.447372  202626900\n",
              "2 2005-04-27  5.127143  5.194286  5.072857  5.135714   3.424510  153472200\n",
              "3 2005-04-28  5.184286  5.191429  5.034286  5.077143   3.385454  143776500\n",
              "4 2005-04-29  5.164286  5.175714  5.031428  5.151429   3.434988  167907600"
            ]
          },
          "metadata": {},
          "execution_count": 16
        }
      ]
    },
    {
      "cell_type": "code",
      "source": [
        "prices['Date'].dt.year"
      ],
      "metadata": {
        "colab": {
          "base_uri": "https://localhost:8080/"
        },
        "id": "UMHQXbDjjF5J",
        "outputId": "7790959f-05eb-417d-db88-183127e32660"
      },
      "execution_count": 17,
      "outputs": [
        {
          "output_type": "execute_result",
          "data": {
            "text/plain": [
              "0       2005\n",
              "1       2005\n",
              "2       2005\n",
              "3       2005\n",
              "4       2005\n",
              "        ... \n",
              "3518    2019\n",
              "3519    2019\n",
              "3520    2019\n",
              "3521    2019\n",
              "3522    2019\n",
              "Name: Date, Length: 3523, dtype: int64"
            ]
          },
          "metadata": {},
          "execution_count": 17
        }
      ]
    },
    {
      "cell_type": "code",
      "source": [
        "prices['Date'].dt.month"
      ],
      "metadata": {
        "colab": {
          "base_uri": "https://localhost:8080/"
        },
        "id": "ClYYJg8djJrI",
        "outputId": "ecf4e5d4-655b-4e22-f953-73bb8c01c674"
      },
      "execution_count": 18,
      "outputs": [
        {
          "output_type": "execute_result",
          "data": {
            "text/plain": [
              "0       4\n",
              "1       4\n",
              "2       4\n",
              "3       4\n",
              "4       4\n",
              "       ..\n",
              "3518    4\n",
              "3519    4\n",
              "3520    4\n",
              "3521    4\n",
              "3522    4\n",
              "Name: Date, Length: 3523, dtype: int64"
            ]
          },
          "metadata": {},
          "execution_count": 18
        }
      ]
    },
    {
      "cell_type": "code",
      "execution_count": 19,
      "metadata": {
        "colab": {
          "base_uri": "https://localhost:8080/",
          "height": 238
        },
        "id": "F847w1G_Amjm",
        "outputId": "47a1231e-16af-4107-fdb5-096db69c6687"
      },
      "outputs": [
        {
          "output_type": "execute_result",
          "data": {
            "text/html": [
              "<div>\n",
              "<style scoped>\n",
              "    .dataframe tbody tr th:only-of-type {\n",
              "        vertical-align: middle;\n",
              "    }\n",
              "\n",
              "    .dataframe tbody tr th {\n",
              "        vertical-align: top;\n",
              "    }\n",
              "\n",
              "    .dataframe thead th {\n",
              "        text-align: right;\n",
              "    }\n",
              "</style>\n",
              "<table border=\"1\" class=\"dataframe\">\n",
              "  <thead>\n",
              "    <tr style=\"text-align: right;\">\n",
              "      <th></th>\n",
              "      <th>Open</th>\n",
              "      <th>High</th>\n",
              "      <th>Low</th>\n",
              "      <th>Close</th>\n",
              "      <th>Adj Close</th>\n",
              "      <th>Volume</th>\n",
              "    </tr>\n",
              "    <tr>\n",
              "      <th>Date</th>\n",
              "      <th></th>\n",
              "      <th></th>\n",
              "      <th></th>\n",
              "      <th></th>\n",
              "      <th></th>\n",
              "      <th></th>\n",
              "    </tr>\n",
              "  </thead>\n",
              "  <tbody>\n",
              "    <tr>\n",
              "      <th>2005-04-25</th>\n",
              "      <td>5.212857</td>\n",
              "      <td>5.288571</td>\n",
              "      <td>5.158571</td>\n",
              "      <td>5.282857</td>\n",
              "      <td>3.522625</td>\n",
              "      <td>186615100</td>\n",
              "    </tr>\n",
              "    <tr>\n",
              "      <th>2005-04-26</th>\n",
              "      <td>5.254286</td>\n",
              "      <td>5.358572</td>\n",
              "      <td>5.160000</td>\n",
              "      <td>5.170000</td>\n",
              "      <td>3.447372</td>\n",
              "      <td>202626900</td>\n",
              "    </tr>\n",
              "    <tr>\n",
              "      <th>2005-04-27</th>\n",
              "      <td>5.127143</td>\n",
              "      <td>5.194286</td>\n",
              "      <td>5.072857</td>\n",
              "      <td>5.135714</td>\n",
              "      <td>3.424510</td>\n",
              "      <td>153472200</td>\n",
              "    </tr>\n",
              "    <tr>\n",
              "      <th>2005-04-28</th>\n",
              "      <td>5.184286</td>\n",
              "      <td>5.191429</td>\n",
              "      <td>5.034286</td>\n",
              "      <td>5.077143</td>\n",
              "      <td>3.385454</td>\n",
              "      <td>143776500</td>\n",
              "    </tr>\n",
              "    <tr>\n",
              "      <th>2005-04-29</th>\n",
              "      <td>5.164286</td>\n",
              "      <td>5.175714</td>\n",
              "      <td>5.031428</td>\n",
              "      <td>5.151429</td>\n",
              "      <td>3.434988</td>\n",
              "      <td>167907600</td>\n",
              "    </tr>\n",
              "  </tbody>\n",
              "</table>\n",
              "</div>"
            ],
            "text/plain": [
              "                Open      High       Low     Close  Adj Close     Volume\n",
              "Date                                                                    \n",
              "2005-04-25  5.212857  5.288571  5.158571  5.282857   3.522625  186615100\n",
              "2005-04-26  5.254286  5.358572  5.160000  5.170000   3.447372  202626900\n",
              "2005-04-27  5.127143  5.194286  5.072857  5.135714   3.424510  153472200\n",
              "2005-04-28  5.184286  5.191429  5.034286  5.077143   3.385454  143776500\n",
              "2005-04-29  5.164286  5.175714  5.031428  5.151429   3.434988  167907600"
            ]
          },
          "metadata": {},
          "execution_count": 19
        }
      ],
      "source": [
        "# set prices index to Date column\n",
        "prices = prices.set_index('Date')\n",
        "\n",
        "prices = prices.sort_index() # rearrange our df , so the index is in ascending order\n",
        "\n",
        "prices.head()\n",
        "\n",
        "# got an error because I ran this twice"
      ]
    },
    {
      "cell_type": "code",
      "source": [
        "prices.head()"
      ],
      "metadata": {
        "colab": {
          "base_uri": "https://localhost:8080/",
          "height": 238
        },
        "id": "HUPUr0N4il50",
        "outputId": "f48be3c8-3120-4c32-c088-5fadba63ece8"
      },
      "execution_count": 20,
      "outputs": [
        {
          "output_type": "execute_result",
          "data": {
            "text/html": [
              "<div>\n",
              "<style scoped>\n",
              "    .dataframe tbody tr th:only-of-type {\n",
              "        vertical-align: middle;\n",
              "    }\n",
              "\n",
              "    .dataframe tbody tr th {\n",
              "        vertical-align: top;\n",
              "    }\n",
              "\n",
              "    .dataframe thead th {\n",
              "        text-align: right;\n",
              "    }\n",
              "</style>\n",
              "<table border=\"1\" class=\"dataframe\">\n",
              "  <thead>\n",
              "    <tr style=\"text-align: right;\">\n",
              "      <th></th>\n",
              "      <th>Open</th>\n",
              "      <th>High</th>\n",
              "      <th>Low</th>\n",
              "      <th>Close</th>\n",
              "      <th>Adj Close</th>\n",
              "      <th>Volume</th>\n",
              "    </tr>\n",
              "    <tr>\n",
              "      <th>Date</th>\n",
              "      <th></th>\n",
              "      <th></th>\n",
              "      <th></th>\n",
              "      <th></th>\n",
              "      <th></th>\n",
              "      <th></th>\n",
              "    </tr>\n",
              "  </thead>\n",
              "  <tbody>\n",
              "    <tr>\n",
              "      <th>2005-04-25</th>\n",
              "      <td>5.212857</td>\n",
              "      <td>5.288571</td>\n",
              "      <td>5.158571</td>\n",
              "      <td>5.282857</td>\n",
              "      <td>3.522625</td>\n",
              "      <td>186615100</td>\n",
              "    </tr>\n",
              "    <tr>\n",
              "      <th>2005-04-26</th>\n",
              "      <td>5.254286</td>\n",
              "      <td>5.358572</td>\n",
              "      <td>5.160000</td>\n",
              "      <td>5.170000</td>\n",
              "      <td>3.447372</td>\n",
              "      <td>202626900</td>\n",
              "    </tr>\n",
              "    <tr>\n",
              "      <th>2005-04-27</th>\n",
              "      <td>5.127143</td>\n",
              "      <td>5.194286</td>\n",
              "      <td>5.072857</td>\n",
              "      <td>5.135714</td>\n",
              "      <td>3.424510</td>\n",
              "      <td>153472200</td>\n",
              "    </tr>\n",
              "    <tr>\n",
              "      <th>2005-04-28</th>\n",
              "      <td>5.184286</td>\n",
              "      <td>5.191429</td>\n",
              "      <td>5.034286</td>\n",
              "      <td>5.077143</td>\n",
              "      <td>3.385454</td>\n",
              "      <td>143776500</td>\n",
              "    </tr>\n",
              "    <tr>\n",
              "      <th>2005-04-29</th>\n",
              "      <td>5.164286</td>\n",
              "      <td>5.175714</td>\n",
              "      <td>5.031428</td>\n",
              "      <td>5.151429</td>\n",
              "      <td>3.434988</td>\n",
              "      <td>167907600</td>\n",
              "    </tr>\n",
              "  </tbody>\n",
              "</table>\n",
              "</div>"
            ],
            "text/plain": [
              "                Open      High       Low     Close  Adj Close     Volume\n",
              "Date                                                                    \n",
              "2005-04-25  5.212857  5.288571  5.158571  5.282857   3.522625  186615100\n",
              "2005-04-26  5.254286  5.358572  5.160000  5.170000   3.447372  202626900\n",
              "2005-04-27  5.127143  5.194286  5.072857  5.135714   3.424510  153472200\n",
              "2005-04-28  5.184286  5.191429  5.034286  5.077143   3.385454  143776500\n",
              "2005-04-29  5.164286  5.175714  5.031428  5.151429   3.434988  167907600"
            ]
          },
          "metadata": {},
          "execution_count": 20
        }
      ]
    },
    {
      "cell_type": "code",
      "execution_count": 25,
      "metadata": {
        "id": "8VXtTSMsAmjm"
      },
      "outputs": [],
      "source": [
        "# set filings Date to datetime\n",
        "filings['Date'] = pd.to_datetime(filings['Date'])"
      ]
    },
    {
      "cell_type": "code",
      "source": [
        "filings.dtypes"
      ],
      "metadata": {
        "colab": {
          "base_uri": "https://localhost:8080/"
        },
        "id": "Fn78fosajcxW",
        "outputId": "5895e063-fd03-4140-afec-fd98e837d6ac"
      },
      "execution_count": 26,
      "outputs": [
        {
          "output_type": "execute_result",
          "data": {
            "text/plain": [
              "Date    datetime64[ns]\n",
              "10-K           float64\n",
              "10-Q           float64\n",
              "8-K            float64\n",
              "dtype: object"
            ]
          },
          "metadata": {},
          "execution_count": 26
        }
      ]
    },
    {
      "cell_type": "code",
      "execution_count": 27,
      "metadata": {
        "colab": {
          "base_uri": "https://localhost:8080/",
          "height": 238
        },
        "id": "rraqLBo1Amjn",
        "outputId": "6e844556-2db3-4cef-ac7e-17f503b7691b"
      },
      "outputs": [
        {
          "output_type": "execute_result",
          "data": {
            "text/html": [
              "<div>\n",
              "<style scoped>\n",
              "    .dataframe tbody tr th:only-of-type {\n",
              "        vertical-align: middle;\n",
              "    }\n",
              "\n",
              "    .dataframe tbody tr th {\n",
              "        vertical-align: top;\n",
              "    }\n",
              "\n",
              "    .dataframe thead th {\n",
              "        text-align: right;\n",
              "    }\n",
              "</style>\n",
              "<table border=\"1\" class=\"dataframe\">\n",
              "  <thead>\n",
              "    <tr style=\"text-align: right;\">\n",
              "      <th></th>\n",
              "      <th>10-K</th>\n",
              "      <th>10-Q</th>\n",
              "      <th>8-K</th>\n",
              "    </tr>\n",
              "    <tr>\n",
              "      <th>Date</th>\n",
              "      <th></th>\n",
              "      <th></th>\n",
              "      <th></th>\n",
              "    </tr>\n",
              "  </thead>\n",
              "  <tbody>\n",
              "    <tr>\n",
              "      <th>1994-12-13</th>\n",
              "      <td>1.0</td>\n",
              "      <td>0.0</td>\n",
              "      <td>0.0</td>\n",
              "    </tr>\n",
              "    <tr>\n",
              "      <th>1995-12-19</th>\n",
              "      <td>1.0</td>\n",
              "      <td>0.0</td>\n",
              "      <td>0.0</td>\n",
              "    </tr>\n",
              "    <tr>\n",
              "      <th>1996-12-19</th>\n",
              "      <td>1.0</td>\n",
              "      <td>0.0</td>\n",
              "      <td>0.0</td>\n",
              "    </tr>\n",
              "    <tr>\n",
              "      <th>1997-12-05</th>\n",
              "      <td>1.0</td>\n",
              "      <td>0.0</td>\n",
              "      <td>0.0</td>\n",
              "    </tr>\n",
              "    <tr>\n",
              "      <th>1999-12-22</th>\n",
              "      <td>1.0</td>\n",
              "      <td>0.0</td>\n",
              "      <td>0.0</td>\n",
              "    </tr>\n",
              "  </tbody>\n",
              "</table>\n",
              "</div>"
            ],
            "text/plain": [
              "            10-K  10-Q  8-K\n",
              "Date                       \n",
              "1994-12-13   1.0   0.0  0.0\n",
              "1995-12-19   1.0   0.0  0.0\n",
              "1996-12-19   1.0   0.0  0.0\n",
              "1997-12-05   1.0   0.0  0.0\n",
              "1999-12-22   1.0   0.0  0.0"
            ]
          },
          "metadata": {},
          "execution_count": 27
        }
      ],
      "source": [
        "# set filings index to Date column\n",
        "\n",
        "filings = filings.set_index('Date')\n",
        "\n",
        "filings = filings.sort_index()\n",
        "\n",
        "filings.head()"
      ]
    },
    {
      "cell_type": "markdown",
      "metadata": {
        "id": "I8BDb-4hAmjn"
      },
      "source": [
        "## Data cleaning: Prices\n",
        "---\n",
        "\n",
        "For Apple's stock prices, we'll need to do a few things:\n",
        "1. Drop the `Adj Close` column since we already have a `Close` price\n",
        "2. De-trend the dataset using `.pct_change()`\n",
        "3. Drop any `NaN`s that were created from step 2"
      ]
    },
    {
      "cell_type": "code",
      "execution_count": 28,
      "metadata": {
        "id": "FMdyXk_OAmjn"
      },
      "outputs": [],
      "source": [
        "# Drop Adj Close column\n",
        "prices = prices.drop(columns = 'Adj Close')"
      ]
    },
    {
      "cell_type": "code",
      "execution_count": 29,
      "metadata": {
        "colab": {
          "base_uri": "https://localhost:8080/",
          "height": 384
        },
        "id": "iSu5U0LEAmjn",
        "outputId": "f0362a52-9394-4d64-c178-a08fac64b443"
      },
      "outputs": [
        {
          "output_type": "execute_result",
          "data": {
            "text/plain": [
              "<matplotlib.axes._subplots.AxesSubplot at 0x7f63bf1e5650>"
            ]
          },
          "metadata": {},
          "execution_count": 29
        },
        {
          "output_type": "display_data",
          "data": {
            "image/png": "[encoded data removed]",
            "text/plain": [
              "<Figure size 864x432 with 1 Axes>"
            ]
          },
          "metadata": {
            "needs_background": "light"
          }
        }
      ],
      "source": [
        "# Plot Close column\n",
        "prices['Close'].plot(figsize = (12, 6))"
      ]
    },
    {
      "cell_type": "code",
      "execution_count": 30,
      "metadata": {
        "id": "jBIBY4-lAmjo"
      },
      "outputs": [],
      "source": [
        "# Convert prices to be percent changes from prior row\n",
        "prices = prices.pct_change()"
      ]
    },
    {
      "cell_type": "code",
      "source": [
        "prices.head()"
      ],
      "metadata": {
        "colab": {
          "base_uri": "https://localhost:8080/",
          "height": 238
        },
        "id": "V-kyRm9alCEp",
        "outputId": "6198cb6d-36e5-4a6f-b755-04639c4850bf"
      },
      "execution_count": 31,
      "outputs": [
        {
          "output_type": "execute_result",
          "data": {
            "text/html": [
              "<div>\n",
              "<style scoped>\n",
              "    .dataframe tbody tr th:only-of-type {\n",
              "        vertical-align: middle;\n",
              "    }\n",
              "\n",
              "    .dataframe tbody tr th {\n",
              "        vertical-align: top;\n",
              "    }\n",
              "\n",
              "    .dataframe thead th {\n",
              "        text-align: right;\n",
              "    }\n",
              "</style>\n",
              "<table border=\"1\" class=\"dataframe\">\n",
              "  <thead>\n",
              "    <tr style=\"text-align: right;\">\n",
              "      <th></th>\n",
              "      <th>Open</th>\n",
              "      <th>High</th>\n",
              "      <th>Low</th>\n",
              "      <th>Close</th>\n",
              "      <th>Volume</th>\n",
              "    </tr>\n",
              "    <tr>\n",
              "      <th>Date</th>\n",
              "      <th></th>\n",
              "      <th></th>\n",
              "      <th></th>\n",
              "      <th></th>\n",
              "      <th></th>\n",
              "    </tr>\n",
              "  </thead>\n",
              "  <tbody>\n",
              "    <tr>\n",
              "      <th>2005-04-25</th>\n",
              "      <td>NaN</td>\n",
              "      <td>NaN</td>\n",
              "      <td>NaN</td>\n",
              "      <td>NaN</td>\n",
              "      <td>NaN</td>\n",
              "    </tr>\n",
              "    <tr>\n",
              "      <th>2005-04-26</th>\n",
              "      <td>0.007947</td>\n",
              "      <td>0.013236</td>\n",
              "      <td>0.000277</td>\n",
              "      <td>-0.021363</td>\n",
              "      <td>0.085801</td>\n",
              "    </tr>\n",
              "    <tr>\n",
              "      <th>2005-04-27</th>\n",
              "      <td>-0.024198</td>\n",
              "      <td>-0.030659</td>\n",
              "      <td>-0.016888</td>\n",
              "      <td>-0.006632</td>\n",
              "      <td>-0.242587</td>\n",
              "    </tr>\n",
              "    <tr>\n",
              "      <th>2005-04-28</th>\n",
              "      <td>0.011145</td>\n",
              "      <td>-0.000550</td>\n",
              "      <td>-0.007603</td>\n",
              "      <td>-0.011405</td>\n",
              "      <td>-0.063176</td>\n",
              "    </tr>\n",
              "    <tr>\n",
              "      <th>2005-04-29</th>\n",
              "      <td>-0.003858</td>\n",
              "      <td>-0.003027</td>\n",
              "      <td>-0.000568</td>\n",
              "      <td>0.014631</td>\n",
              "      <td>0.167838</td>\n",
              "    </tr>\n",
              "  </tbody>\n",
              "</table>\n",
              "</div>"
            ],
            "text/plain": [
              "                Open      High       Low     Close    Volume\n",
              "Date                                                        \n",
              "2005-04-25       NaN       NaN       NaN       NaN       NaN\n",
              "2005-04-26  0.007947  0.013236  0.000277 -0.021363  0.085801\n",
              "2005-04-27 -0.024198 -0.030659 -0.016888 -0.006632 -0.242587\n",
              "2005-04-28  0.011145 -0.000550 -0.007603 -0.011405 -0.063176\n",
              "2005-04-29 -0.003858 -0.003027 -0.000568  0.014631  0.167838"
            ]
          },
          "metadata": {},
          "execution_count": 31
        }
      ]
    },
    {
      "cell_type": "code",
      "execution_count": 32,
      "metadata": {
        "id": "eSLwrq9BAmjo"
      },
      "outputs": [],
      "source": [
        "# Drop nulls\n",
        "\n",
        "prices = prices.dropna()"
      ]
    },
    {
      "cell_type": "code",
      "source": [
        "prices.head()"
      ],
      "metadata": {
        "colab": {
          "base_uri": "https://localhost:8080/",
          "height": 238
        },
        "id": "9cgvQl5YllD7",
        "outputId": "da672d5a-9a3b-47c6-bf3d-4f32ac80e46b"
      },
      "execution_count": 33,
      "outputs": [
        {
          "output_type": "execute_result",
          "data": {
            "text/html": [
              "<div>\n",
              "<style scoped>\n",
              "    .dataframe tbody tr th:only-of-type {\n",
              "        vertical-align: middle;\n",
              "    }\n",
              "\n",
              "    .dataframe tbody tr th {\n",
              "        vertical-align: top;\n",
              "    }\n",
              "\n",
              "    .dataframe thead th {\n",
              "        text-align: right;\n",
              "    }\n",
              "</style>\n",
              "<table border=\"1\" class=\"dataframe\">\n",
              "  <thead>\n",
              "    <tr style=\"text-align: right;\">\n",
              "      <th></th>\n",
              "      <th>Open</th>\n",
              "      <th>High</th>\n",
              "      <th>Low</th>\n",
              "      <th>Close</th>\n",
              "      <th>Volume</th>\n",
              "    </tr>\n",
              "    <tr>\n",
              "      <th>Date</th>\n",
              "      <th></th>\n",
              "      <th></th>\n",
              "      <th></th>\n",
              "      <th></th>\n",
              "      <th></th>\n",
              "    </tr>\n",
              "  </thead>\n",
              "  <tbody>\n",
              "    <tr>\n",
              "      <th>2005-04-26</th>\n",
              "      <td>0.007947</td>\n",
              "      <td>0.013236</td>\n",
              "      <td>0.000277</td>\n",
              "      <td>-0.021363</td>\n",
              "      <td>0.085801</td>\n",
              "    </tr>\n",
              "    <tr>\n",
              "      <th>2005-04-27</th>\n",
              "      <td>-0.024198</td>\n",
              "      <td>-0.030659</td>\n",
              "      <td>-0.016888</td>\n",
              "      <td>-0.006632</td>\n",
              "      <td>-0.242587</td>\n",
              "    </tr>\n",
              "    <tr>\n",
              "      <th>2005-04-28</th>\n",
              "      <td>0.011145</td>\n",
              "      <td>-0.000550</td>\n",
              "      <td>-0.007603</td>\n",
              "      <td>-0.011405</td>\n",
              "      <td>-0.063176</td>\n",
              "    </tr>\n",
              "    <tr>\n",
              "      <th>2005-04-29</th>\n",
              "      <td>-0.003858</td>\n",
              "      <td>-0.003027</td>\n",
              "      <td>-0.000568</td>\n",
              "      <td>0.014631</td>\n",
              "      <td>0.167838</td>\n",
              "    </tr>\n",
              "    <tr>\n",
              "      <th>2005-05-02</th>\n",
              "      <td>0.001660</td>\n",
              "      <td>0.011593</td>\n",
              "      <td>0.022714</td>\n",
              "      <td>0.010261</td>\n",
              "      <td>-0.306285</td>\n",
              "    </tr>\n",
              "  </tbody>\n",
              "</table>\n",
              "</div>"
            ],
            "text/plain": [
              "                Open      High       Low     Close    Volume\n",
              "Date                                                        \n",
              "2005-04-26  0.007947  0.013236  0.000277 -0.021363  0.085801\n",
              "2005-04-27 -0.024198 -0.030659 -0.016888 -0.006632 -0.242587\n",
              "2005-04-28  0.011145 -0.000550 -0.007603 -0.011405 -0.063176\n",
              "2005-04-29 -0.003858 -0.003027 -0.000568  0.014631  0.167838\n",
              "2005-05-02  0.001660  0.011593  0.022714  0.010261 -0.306285"
            ]
          },
          "metadata": {},
          "execution_count": 33
        }
      ]
    },
    {
      "cell_type": "code",
      "execution_count": 34,
      "metadata": {
        "colab": {
          "base_uri": "https://localhost:8080/",
          "height": 367
        },
        "id": "zOSohZBhAmjo",
        "outputId": "8d7902b3-ade6-4a7d-d72b-d7c792b10c4b"
      },
      "outputs": [
        {
          "output_type": "display_data",
          "data": {
            "image/png": "[encoded data removed]",
            "text/plain": [
              "<Figure size 864x432 with 1 Axes>"
            ]
          },
          "metadata": {
            "needs_background": "light"
          }
        }
      ],
      "source": [
        "# Plot Close column again\n",
        "prices['Close'].plot(figsize = (12, 6));"
      ]
    },
    {
      "cell_type": "markdown",
      "metadata": {
        "id": "NNE8RO5AAmjo"
      },
      "source": [
        "## Create `Target` column\n",
        "---\n",
        "\n",
        "Our column of interest is the `Close` prices. We could build a regression model, where we predict the actual percentage change, or we could set this up as a binary classification problem:\n",
        "- 1: The `Close` price was greater than or equal to the previous day\n",
        "- 0: The `Close` price was lower than the previous day\n",
        "\n",
        "We'll go with the latter option. In the cell below, let's create our binary `Target` column."
      ]
    },
    {
      "cell_type": "code",
      "execution_count": 35,
      "metadata": {
        "id": "RgOeyJg6Amjo"
      },
      "outputs": [],
      "source": [
        "# Create Target column\n",
        "prices['Target'] = (prices['Close'] >= 0).astype(int)"
      ]
    },
    {
      "cell_type": "code",
      "source": [
        "prices.head()"
      ],
      "metadata": {
        "colab": {
          "base_uri": "https://localhost:8080/",
          "height": 238
        },
        "id": "JruHz5uppIiO",
        "outputId": "c02a47ee-9b7f-4a6c-b860-b587ba88cb3f"
      },
      "execution_count": 36,
      "outputs": [
        {
          "output_type": "execute_result",
          "data": {
            "text/html": [
              "<div>\n",
              "<style scoped>\n",
              "    .dataframe tbody tr th:only-of-type {\n",
              "        vertical-align: middle;\n",
              "    }\n",
              "\n",
              "    .dataframe tbody tr th {\n",
              "        vertical-align: top;\n",
              "    }\n",
              "\n",
              "    .dataframe thead th {\n",
              "        text-align: right;\n",
              "    }\n",
              "</style>\n",
              "<table border=\"1\" class=\"dataframe\">\n",
              "  <thead>\n",
              "    <tr style=\"text-align: right;\">\n",
              "      <th></th>\n",
              "      <th>Open</th>\n",
              "      <th>High</th>\n",
              "      <th>Low</th>\n",
              "      <th>Close</th>\n",
              "      <th>Volume</th>\n",
              "      <th>Target</th>\n",
              "    </tr>\n",
              "    <tr>\n",
              "      <th>Date</th>\n",
              "      <th></th>\n",
              "      <th></th>\n",
              "      <th></th>\n",
              "      <th></th>\n",
              "      <th></th>\n",
              "      <th></th>\n",
              "    </tr>\n",
              "  </thead>\n",
              "  <tbody>\n",
              "    <tr>\n",
              "      <th>2005-04-26</th>\n",
              "      <td>0.007947</td>\n",
              "      <td>0.013236</td>\n",
              "      <td>0.000277</td>\n",
              "      <td>-0.021363</td>\n",
              "      <td>0.085801</td>\n",
              "      <td>0</td>\n",
              "    </tr>\n",
              "    <tr>\n",
              "      <th>2005-04-27</th>\n",
              "      <td>-0.024198</td>\n",
              "      <td>-0.030659</td>\n",
              "      <td>-0.016888</td>\n",
              "      <td>-0.006632</td>\n",
              "      <td>-0.242587</td>\n",
              "      <td>0</td>\n",
              "    </tr>\n",
              "    <tr>\n",
              "      <th>2005-04-28</th>\n",
              "      <td>0.011145</td>\n",
              "      <td>-0.000550</td>\n",
              "      <td>-0.007603</td>\n",
              "      <td>-0.011405</td>\n",
              "      <td>-0.063176</td>\n",
              "      <td>0</td>\n",
              "    </tr>\n",
              "    <tr>\n",
              "      <th>2005-04-29</th>\n",
              "      <td>-0.003858</td>\n",
              "      <td>-0.003027</td>\n",
              "      <td>-0.000568</td>\n",
              "      <td>0.014631</td>\n",
              "      <td>0.167838</td>\n",
              "      <td>1</td>\n",
              "    </tr>\n",
              "    <tr>\n",
              "      <th>2005-05-02</th>\n",
              "      <td>0.001660</td>\n",
              "      <td>0.011593</td>\n",
              "      <td>0.022714</td>\n",
              "      <td>0.010261</td>\n",
              "      <td>-0.306285</td>\n",
              "      <td>1</td>\n",
              "    </tr>\n",
              "  </tbody>\n",
              "</table>\n",
              "</div>"
            ],
            "text/plain": [
              "                Open      High       Low     Close    Volume  Target\n",
              "Date                                                                \n",
              "2005-04-26  0.007947  0.013236  0.000277 -0.021363  0.085801       0\n",
              "2005-04-27 -0.024198 -0.030659 -0.016888 -0.006632 -0.242587       0\n",
              "2005-04-28  0.011145 -0.000550 -0.007603 -0.011405 -0.063176       0\n",
              "2005-04-29 -0.003858 -0.003027 -0.000568  0.014631  0.167838       1\n",
              "2005-05-02  0.001660  0.011593  0.022714  0.010261 -0.306285       1"
            ]
          },
          "metadata": {},
          "execution_count": 36
        }
      ]
    },
    {
      "cell_type": "markdown",
      "metadata": {
        "id": "uPg4tWIYAmjo"
      },
      "source": [
        "## Merge Prices with SEC filings\n",
        "---\n",
        "\n",
        "SEC filings tend to have a huge impact on stock prices. Because of this, we'll want to merge the prices and filings `DataFrames` together."
      ]
    },
    {
      "cell_type": "code",
      "source": [
        "prices.head()"
      ],
      "metadata": {
        "colab": {
          "base_uri": "https://localhost:8080/",
          "height": 238
        },
        "id": "OVonjAZCpwrS",
        "outputId": "c185e88d-dbde-446e-f637-6fdcef2a6090"
      },
      "execution_count": 37,
      "outputs": [
        {
          "output_type": "execute_result",
          "data": {
            "text/html": [
              "<div>\n",
              "<style scoped>\n",
              "    .dataframe tbody tr th:only-of-type {\n",
              "        vertical-align: middle;\n",
              "    }\n",
              "\n",
              "    .dataframe tbody tr th {\n",
              "        vertical-align: top;\n",
              "    }\n",
              "\n",
              "    .dataframe thead th {\n",
              "        text-align: right;\n",
              "    }\n",
              "</style>\n",
              "<table border=\"1\" class=\"dataframe\">\n",
              "  <thead>\n",
              "    <tr style=\"text-align: right;\">\n",
              "      <th></th>\n",
              "      <th>Open</th>\n",
              "      <th>High</th>\n",
              "      <th>Low</th>\n",
              "      <th>Close</th>\n",
              "      <th>Volume</th>\n",
              "      <th>Target</th>\n",
              "    </tr>\n",
              "    <tr>\n",
              "      <th>Date</th>\n",
              "      <th></th>\n",
              "      <th></th>\n",
              "      <th></th>\n",
              "      <th></th>\n",
              "      <th></th>\n",
              "      <th></th>\n",
              "    </tr>\n",
              "  </thead>\n",
              "  <tbody>\n",
              "    <tr>\n",
              "      <th>2005-04-26</th>\n",
              "      <td>0.007947</td>\n",
              "      <td>0.013236</td>\n",
              "      <td>0.000277</td>\n",
              "      <td>-0.021363</td>\n",
              "      <td>0.085801</td>\n",
              "      <td>0</td>\n",
              "    </tr>\n",
              "    <tr>\n",
              "      <th>2005-04-27</th>\n",
              "      <td>-0.024198</td>\n",
              "      <td>-0.030659</td>\n",
              "      <td>-0.016888</td>\n",
              "      <td>-0.006632</td>\n",
              "      <td>-0.242587</td>\n",
              "      <td>0</td>\n",
              "    </tr>\n",
              "    <tr>\n",
              "      <th>2005-04-28</th>\n",
              "      <td>0.011145</td>\n",
              "      <td>-0.000550</td>\n",
              "      <td>-0.007603</td>\n",
              "      <td>-0.011405</td>\n",
              "      <td>-0.063176</td>\n",
              "      <td>0</td>\n",
              "    </tr>\n",
              "    <tr>\n",
              "      <th>2005-04-29</th>\n",
              "      <td>-0.003858</td>\n",
              "      <td>-0.003027</td>\n",
              "      <td>-0.000568</td>\n",
              "      <td>0.014631</td>\n",
              "      <td>0.167838</td>\n",
              "      <td>1</td>\n",
              "    </tr>\n",
              "    <tr>\n",
              "      <th>2005-05-02</th>\n",
              "      <td>0.001660</td>\n",
              "      <td>0.011593</td>\n",
              "      <td>0.022714</td>\n",
              "      <td>0.010261</td>\n",
              "      <td>-0.306285</td>\n",
              "      <td>1</td>\n",
              "    </tr>\n",
              "  </tbody>\n",
              "</table>\n",
              "</div>"
            ],
            "text/plain": [
              "                Open      High       Low     Close    Volume  Target\n",
              "Date                                                                \n",
              "2005-04-26  0.007947  0.013236  0.000277 -0.021363  0.085801       0\n",
              "2005-04-27 -0.024198 -0.030659 -0.016888 -0.006632 -0.242587       0\n",
              "2005-04-28  0.011145 -0.000550 -0.007603 -0.011405 -0.063176       0\n",
              "2005-04-29 -0.003858 -0.003027 -0.000568  0.014631  0.167838       1\n",
              "2005-05-02  0.001660  0.011593  0.022714  0.010261 -0.306285       1"
            ]
          },
          "metadata": {},
          "execution_count": 37
        }
      ]
    },
    {
      "cell_type": "code",
      "source": [
        "filings.head()"
      ],
      "metadata": {
        "colab": {
          "base_uri": "https://localhost:8080/",
          "height": 238
        },
        "id": "iz7zplB9pwiz",
        "outputId": "ce7139d5-ed2b-41d4-c817-f979704e422c"
      },
      "execution_count": 38,
      "outputs": [
        {
          "output_type": "execute_result",
          "data": {
            "text/html": [
              "<div>\n",
              "<style scoped>\n",
              "    .dataframe tbody tr th:only-of-type {\n",
              "        vertical-align: middle;\n",
              "    }\n",
              "\n",
              "    .dataframe tbody tr th {\n",
              "        vertical-align: top;\n",
              "    }\n",
              "\n",
              "    .dataframe thead th {\n",
              "        text-align: right;\n",
              "    }\n",
              "</style>\n",
              "<table border=\"1\" class=\"dataframe\">\n",
              "  <thead>\n",
              "    <tr style=\"text-align: right;\">\n",
              "      <th></th>\n",
              "      <th>10-K</th>\n",
              "      <th>10-Q</th>\n",
              "      <th>8-K</th>\n",
              "    </tr>\n",
              "    <tr>\n",
              "      <th>Date</th>\n",
              "      <th></th>\n",
              "      <th></th>\n",
              "      <th></th>\n",
              "    </tr>\n",
              "  </thead>\n",
              "  <tbody>\n",
              "    <tr>\n",
              "      <th>1994-12-13</th>\n",
              "      <td>1.0</td>\n",
              "      <td>0.0</td>\n",
              "      <td>0.0</td>\n",
              "    </tr>\n",
              "    <tr>\n",
              "      <th>1995-12-19</th>\n",
              "      <td>1.0</td>\n",
              "      <td>0.0</td>\n",
              "      <td>0.0</td>\n",
              "    </tr>\n",
              "    <tr>\n",
              "      <th>1996-12-19</th>\n",
              "      <td>1.0</td>\n",
              "      <td>0.0</td>\n",
              "      <td>0.0</td>\n",
              "    </tr>\n",
              "    <tr>\n",
              "      <th>1997-12-05</th>\n",
              "      <td>1.0</td>\n",
              "      <td>0.0</td>\n",
              "      <td>0.0</td>\n",
              "    </tr>\n",
              "    <tr>\n",
              "      <th>1999-12-22</th>\n",
              "      <td>1.0</td>\n",
              "      <td>0.0</td>\n",
              "      <td>0.0</td>\n",
              "    </tr>\n",
              "  </tbody>\n",
              "</table>\n",
              "</div>"
            ],
            "text/plain": [
              "            10-K  10-Q  8-K\n",
              "Date                       \n",
              "1994-12-13   1.0   0.0  0.0\n",
              "1995-12-19   1.0   0.0  0.0\n",
              "1996-12-19   1.0   0.0  0.0\n",
              "1997-12-05   1.0   0.0  0.0\n",
              "1999-12-22   1.0   0.0  0.0"
            ]
          },
          "metadata": {},
          "execution_count": 38
        }
      ]
    },
    {
      "cell_type": "markdown",
      "metadata": {
        "id": "ydvVrsHMAmjp"
      },
      "source": [
        "<details><summary>What kind of join should we use here?</summary>\n",
        "\n",
        "We'll want to do a left join, so that we don't lose any rows that aren't associated with any SEC filings.\n",
        "</details>"
      ]
    },
    {
      "cell_type": "code",
      "execution_count": 40,
      "metadata": {
        "colab": {
          "base_uri": "https://localhost:8080/",
          "height": 238
        },
        "id": "Ht3VWTPxAmjp",
        "outputId": "4e058e3f-cc97-4354-f18a-fd4a6f05bfb9"
      },
      "outputs": [
        {
          "output_type": "execute_result",
          "data": {
            "text/html": [
              "<div>\n",
              "<style scoped>\n",
              "    .dataframe tbody tr th:only-of-type {\n",
              "        vertical-align: middle;\n",
              "    }\n",
              "\n",
              "    .dataframe tbody tr th {\n",
              "        vertical-align: top;\n",
              "    }\n",
              "\n",
              "    .dataframe thead th {\n",
              "        text-align: right;\n",
              "    }\n",
              "</style>\n",
              "<table border=\"1\" class=\"dataframe\">\n",
              "  <thead>\n",
              "    <tr style=\"text-align: right;\">\n",
              "      <th></th>\n",
              "      <th>Open</th>\n",
              "      <th>High</th>\n",
              "      <th>Low</th>\n",
              "      <th>Close</th>\n",
              "      <th>Volume</th>\n",
              "      <th>Target</th>\n",
              "      <th>10-K</th>\n",
              "      <th>10-Q</th>\n",
              "      <th>8-K</th>\n",
              "    </tr>\n",
              "    <tr>\n",
              "      <th>Date</th>\n",
              "      <th></th>\n",
              "      <th></th>\n",
              "      <th></th>\n",
              "      <th></th>\n",
              "      <th></th>\n",
              "      <th></th>\n",
              "      <th></th>\n",
              "      <th></th>\n",
              "      <th></th>\n",
              "    </tr>\n",
              "  </thead>\n",
              "  <tbody>\n",
              "    <tr>\n",
              "      <th>2005-04-26</th>\n",
              "      <td>0.007947</td>\n",
              "      <td>0.013236</td>\n",
              "      <td>0.000277</td>\n",
              "      <td>-0.021363</td>\n",
              "      <td>0.085801</td>\n",
              "      <td>0</td>\n",
              "      <td>NaN</td>\n",
              "      <td>NaN</td>\n",
              "      <td>NaN</td>\n",
              "    </tr>\n",
              "    <tr>\n",
              "      <th>2005-04-27</th>\n",
              "      <td>-0.024198</td>\n",
              "      <td>-0.030659</td>\n",
              "      <td>-0.016888</td>\n",
              "      <td>-0.006632</td>\n",
              "      <td>-0.242587</td>\n",
              "      <td>0</td>\n",
              "      <td>NaN</td>\n",
              "      <td>NaN</td>\n",
              "      <td>NaN</td>\n",
              "    </tr>\n",
              "    <tr>\n",
              "      <th>2005-04-28</th>\n",
              "      <td>0.011145</td>\n",
              "      <td>-0.000550</td>\n",
              "      <td>-0.007603</td>\n",
              "      <td>-0.011405</td>\n",
              "      <td>-0.063176</td>\n",
              "      <td>0</td>\n",
              "      <td>NaN</td>\n",
              "      <td>NaN</td>\n",
              "      <td>NaN</td>\n",
              "    </tr>\n",
              "    <tr>\n",
              "      <th>2005-04-29</th>\n",
              "      <td>-0.003858</td>\n",
              "      <td>-0.003027</td>\n",
              "      <td>-0.000568</td>\n",
              "      <td>0.014631</td>\n",
              "      <td>0.167838</td>\n",
              "      <td>1</td>\n",
              "      <td>NaN</td>\n",
              "      <td>NaN</td>\n",
              "      <td>NaN</td>\n",
              "    </tr>\n",
              "    <tr>\n",
              "      <th>2005-05-02</th>\n",
              "      <td>0.001660</td>\n",
              "      <td>0.011593</td>\n",
              "      <td>0.022714</td>\n",
              "      <td>0.010261</td>\n",
              "      <td>-0.306285</td>\n",
              "      <td>1</td>\n",
              "      <td>NaN</td>\n",
              "      <td>NaN</td>\n",
              "      <td>NaN</td>\n",
              "    </tr>\n",
              "  </tbody>\n",
              "</table>\n",
              "</div>"
            ],
            "text/plain": [
              "                Open      High       Low     Close  ...  Target  10-K  10-Q  8-K\n",
              "Date                                                ...                         \n",
              "2005-04-26  0.007947  0.013236  0.000277 -0.021363  ...       0   NaN   NaN  NaN\n",
              "2005-04-27 -0.024198 -0.030659 -0.016888 -0.006632  ...       0   NaN   NaN  NaN\n",
              "2005-04-28  0.011145 -0.000550 -0.007603 -0.011405  ...       0   NaN   NaN  NaN\n",
              "2005-04-29 -0.003858 -0.003027 -0.000568  0.014631  ...       1   NaN   NaN  NaN\n",
              "2005-05-02  0.001660  0.011593  0.022714  0.010261  ...       1   NaN   NaN  NaN\n",
              "\n",
              "[5 rows x 9 columns]"
            ]
          },
          "metadata": {},
          "execution_count": 40
        }
      ],
      "source": [
        "# Merge DataFrames\n",
        "df = pd.merge(left = prices, right = filings, left_index = True, right_index = True, how = 'left')\n",
        "\n",
        "df.head()"
      ]
    },
    {
      "cell_type": "markdown",
      "metadata": {
        "id": "2BIjJGhpAmjp"
      },
      "source": [
        "## Fill `NaN`s\n",
        "---\n",
        "\n",
        "After the merge, we now have a bunch of `NaN`s for rows that didn't have any SEC filings on that date. Let's fill those in with 0."
      ]
    },
    {
      "cell_type": "code",
      "source": [
        "df.shape"
      ],
      "metadata": {
        "colab": {
          "base_uri": "https://localhost:8080/"
        },
        "id": "Ji9TCX0yqmrw",
        "outputId": "681cd821-e655-412a-99d1-610a6e61a297"
      },
      "execution_count": 41,
      "outputs": [
        {
          "output_type": "execute_result",
          "data": {
            "text/plain": [
              "(3522, 9)"
            ]
          },
          "metadata": {},
          "execution_count": 41
        }
      ]
    },
    {
      "cell_type": "code",
      "source": [
        "df.isna().sum().sort_values(ascending = False)"
      ],
      "metadata": {
        "colab": {
          "base_uri": "https://localhost:8080/"
        },
        "id": "peRJ0mw5qmg6",
        "outputId": "0f32065b-22f4-4fe4-fe87-f3329e6282d6"
      },
      "execution_count": 42,
      "outputs": [
        {
          "output_type": "execute_result",
          "data": {
            "text/plain": [
              "8-K       3431\n",
              "10-Q      3431\n",
              "10-K      3431\n",
              "Target       0\n",
              "Volume       0\n",
              "Close        0\n",
              "Low          0\n",
              "High         0\n",
              "Open         0\n",
              "dtype: int64"
            ]
          },
          "metadata": {},
          "execution_count": 42
        }
      ]
    },
    {
      "cell_type": "code",
      "execution_count": 43,
      "metadata": {
        "id": "msSi6CbCAmjp"
      },
      "outputs": [],
      "source": [
        "# Fill Nans with 0\n",
        "df = df.fillna(0)"
      ]
    },
    {
      "cell_type": "code",
      "source": [
        "df.isna().sum().sort_values(ascending = False)"
      ],
      "metadata": {
        "colab": {
          "base_uri": "https://localhost:8080/"
        },
        "id": "yRRcYPUDrFq5",
        "outputId": "f8535173-c322-4d8a-e7f5-eaf834e0bd7f"
      },
      "execution_count": 44,
      "outputs": [
        {
          "output_type": "execute_result",
          "data": {
            "text/plain": [
              "8-K       0\n",
              "10-Q      0\n",
              "10-K      0\n",
              "Target    0\n",
              "Volume    0\n",
              "Close     0\n",
              "Low       0\n",
              "High      0\n",
              "Open      0\n",
              "dtype: int64"
            ]
          },
          "metadata": {},
          "execution_count": 44
        }
      ]
    },
    {
      "cell_type": "code",
      "source": [
        "df.head()"
      ],
      "metadata": {
        "colab": {
          "base_uri": "https://localhost:8080/",
          "height": 238
        },
        "id": "8VYM_jxHrIfe",
        "outputId": "7ea14473-50c5-448b-e5ed-c1b2685b493e"
      },
      "execution_count": 45,
      "outputs": [
        {
          "output_type": "execute_result",
          "data": {
            "text/html": [
              "<div>\n",
              "<style scoped>\n",
              "    .dataframe tbody tr th:only-of-type {\n",
              "        vertical-align: middle;\n",
              "    }\n",
              "\n",
              "    .dataframe tbody tr th {\n",
              "        vertical-align: top;\n",
              "    }\n",
              "\n",
              "    .dataframe thead th {\n",
              "        text-align: right;\n",
              "    }\n",
              "</style>\n",
              "<table border=\"1\" class=\"dataframe\">\n",
              "  <thead>\n",
              "    <tr style=\"text-align: right;\">\n",
              "      <th></th>\n",
              "      <th>Open</th>\n",
              "      <th>High</th>\n",
              "      <th>Low</th>\n",
              "      <th>Close</th>\n",
              "      <th>Volume</th>\n",
              "      <th>Target</th>\n",
              "      <th>10-K</th>\n",
              "      <th>10-Q</th>\n",
              "      <th>8-K</th>\n",
              "    </tr>\n",
              "    <tr>\n",
              "      <th>Date</th>\n",
              "      <th></th>\n",
              "      <th></th>\n",
              "      <th></th>\n",
              "      <th></th>\n",
              "      <th></th>\n",
              "      <th></th>\n",
              "      <th></th>\n",
              "      <th></th>\n",
              "      <th></th>\n",
              "    </tr>\n",
              "  </thead>\n",
              "  <tbody>\n",
              "    <tr>\n",
              "      <th>2005-04-26</th>\n",
              "      <td>0.007947</td>\n",
              "      <td>0.013236</td>\n",
              "      <td>0.000277</td>\n",
              "      <td>-0.021363</td>\n",
              "      <td>0.085801</td>\n",
              "      <td>0</td>\n",
              "      <td>0.0</td>\n",
              "      <td>0.0</td>\n",
              "      <td>0.0</td>\n",
              "    </tr>\n",
              "    <tr>\n",
              "      <th>2005-04-27</th>\n",
              "      <td>-0.024198</td>\n",
              "      <td>-0.030659</td>\n",
              "      <td>-0.016888</td>\n",
              "      <td>-0.006632</td>\n",
              "      <td>-0.242587</td>\n",
              "      <td>0</td>\n",
              "      <td>0.0</td>\n",
              "      <td>0.0</td>\n",
              "      <td>0.0</td>\n",
              "    </tr>\n",
              "    <tr>\n",
              "      <th>2005-04-28</th>\n",
              "      <td>0.011145</td>\n",
              "      <td>-0.000550</td>\n",
              "      <td>-0.007603</td>\n",
              "      <td>-0.011405</td>\n",
              "      <td>-0.063176</td>\n",
              "      <td>0</td>\n",
              "      <td>0.0</td>\n",
              "      <td>0.0</td>\n",
              "      <td>0.0</td>\n",
              "    </tr>\n",
              "    <tr>\n",
              "      <th>2005-04-29</th>\n",
              "      <td>-0.003858</td>\n",
              "      <td>-0.003027</td>\n",
              "      <td>-0.000568</td>\n",
              "      <td>0.014631</td>\n",
              "      <td>0.167838</td>\n",
              "      <td>1</td>\n",
              "      <td>0.0</td>\n",
              "      <td>0.0</td>\n",
              "      <td>0.0</td>\n",
              "    </tr>\n",
              "    <tr>\n",
              "      <th>2005-05-02</th>\n",
              "      <td>0.001660</td>\n",
              "      <td>0.011593</td>\n",
              "      <td>0.022714</td>\n",
              "      <td>0.010261</td>\n",
              "      <td>-0.306285</td>\n",
              "      <td>1</td>\n",
              "      <td>0.0</td>\n",
              "      <td>0.0</td>\n",
              "      <td>0.0</td>\n",
              "    </tr>\n",
              "  </tbody>\n",
              "</table>\n",
              "</div>"
            ],
            "text/plain": [
              "                Open      High       Low     Close  ...  Target  10-K  10-Q  8-K\n",
              "Date                                                ...                         \n",
              "2005-04-26  0.007947  0.013236  0.000277 -0.021363  ...       0   0.0   0.0  0.0\n",
              "2005-04-27 -0.024198 -0.030659 -0.016888 -0.006632  ...       0   0.0   0.0  0.0\n",
              "2005-04-28  0.011145 -0.000550 -0.007603 -0.011405  ...       0   0.0   0.0  0.0\n",
              "2005-04-29 -0.003858 -0.003027 -0.000568  0.014631  ...       1   0.0   0.0  0.0\n",
              "2005-05-02  0.001660  0.011593  0.022714  0.010261  ...       1   0.0   0.0  0.0\n",
              "\n",
              "[5 rows x 9 columns]"
            ]
          },
          "metadata": {},
          "execution_count": 45
        }
      ]
    },
    {
      "cell_type": "markdown",
      "metadata": {
        "id": "KUHTTiDfAmjq"
      },
      "source": [
        "## Train/Test Split\n",
        "---\n",
        "\n",
        "Since we're dealing with time series data, we don't want the model to be able to see the future. "
      ]
    },
    {
      "cell_type": "markdown",
      "metadata": {
        "id": "LeRKBzkWAmjq"
      },
      "source": [
        "<details><summary>What do we need to do in train_test_split?</summary>\n",
        "\n",
        "- set `shuffle=False` so that the order is maintained\n",
        "</details>"
      ]
    },
    {
      "cell_type": "code",
      "source": [
        "df['Target'].values"
      ],
      "metadata": {
        "colab": {
          "base_uri": "https://localhost:8080/"
        },
        "id": "1Vqqgd5Jrovl",
        "outputId": "177be640-768b-43cf-b901-ddb5f4572f5c"
      },
      "execution_count": 46,
      "outputs": [
        {
          "output_type": "execute_result",
          "data": {
            "text/plain": [
              "array([0, 0, 0, ..., 1, 1, 1])"
            ]
          },
          "metadata": {},
          "execution_count": 46
        }
      ]
    },
    {
      "cell_type": "code",
      "source": [
        "df[['Target']].values"
      ],
      "metadata": {
        "colab": {
          "base_uri": "https://localhost:8080/"
        },
        "id": "i9kH9twPrrm0",
        "outputId": "7e827b7e-beb9-452d-c67c-51b2f68f7095"
      },
      "execution_count": 47,
      "outputs": [
        {
          "output_type": "execute_result",
          "data": {
            "text/plain": [
              "array([[0],\n",
              "       [0],\n",
              "       [0],\n",
              "       ...,\n",
              "       [1],\n",
              "       [1],\n",
              "       [1]])"
            ]
          },
          "metadata": {},
          "execution_count": 47
        }
      ]
    },
    {
      "cell_type": "code",
      "execution_count": 48,
      "metadata": {
        "id": "qKFBWO7VAmjq"
      },
      "outputs": [],
      "source": [
        "# Create X and y\n",
        "\n",
        "features = [col for col in df.columns if not col == 'Target']\n",
        "\n",
        "X = df[features]\n",
        "\n",
        "y = df[['Target']].values"
      ]
    },
    {
      "cell_type": "code",
      "execution_count": 49,
      "metadata": {
        "colab": {
          "base_uri": "https://localhost:8080/",
          "height": 238
        },
        "id": "uCnhJuxAAmjq",
        "outputId": "0f82594d-dc80-4038-a2f9-2692e237ede3"
      },
      "outputs": [
        {
          "output_type": "execute_result",
          "data": {
            "text/html": [
              "<div>\n",
              "<style scoped>\n",
              "    .dataframe tbody tr th:only-of-type {\n",
              "        vertical-align: middle;\n",
              "    }\n",
              "\n",
              "    .dataframe tbody tr th {\n",
              "        vertical-align: top;\n",
              "    }\n",
              "\n",
              "    .dataframe thead th {\n",
              "        text-align: right;\n",
              "    }\n",
              "</style>\n",
              "<table border=\"1\" class=\"dataframe\">\n",
              "  <thead>\n",
              "    <tr style=\"text-align: right;\">\n",
              "      <th></th>\n",
              "      <th>Open</th>\n",
              "      <th>High</th>\n",
              "      <th>Low</th>\n",
              "      <th>Close</th>\n",
              "      <th>Volume</th>\n",
              "      <th>10-K</th>\n",
              "      <th>10-Q</th>\n",
              "      <th>8-K</th>\n",
              "    </tr>\n",
              "    <tr>\n",
              "      <th>Date</th>\n",
              "      <th></th>\n",
              "      <th></th>\n",
              "      <th></th>\n",
              "      <th></th>\n",
              "      <th></th>\n",
              "      <th></th>\n",
              "      <th></th>\n",
              "      <th></th>\n",
              "    </tr>\n",
              "  </thead>\n",
              "  <tbody>\n",
              "    <tr>\n",
              "      <th>2005-04-26</th>\n",
              "      <td>0.007947</td>\n",
              "      <td>0.013236</td>\n",
              "      <td>0.000277</td>\n",
              "      <td>-0.021363</td>\n",
              "      <td>0.085801</td>\n",
              "      <td>0.0</td>\n",
              "      <td>0.0</td>\n",
              "      <td>0.0</td>\n",
              "    </tr>\n",
              "    <tr>\n",
              "      <th>2005-04-27</th>\n",
              "      <td>-0.024198</td>\n",
              "      <td>-0.030659</td>\n",
              "      <td>-0.016888</td>\n",
              "      <td>-0.006632</td>\n",
              "      <td>-0.242587</td>\n",
              "      <td>0.0</td>\n",
              "      <td>0.0</td>\n",
              "      <td>0.0</td>\n",
              "    </tr>\n",
              "    <tr>\n",
              "      <th>2005-04-28</th>\n",
              "      <td>0.011145</td>\n",
              "      <td>-0.000550</td>\n",
              "      <td>-0.007603</td>\n",
              "      <td>-0.011405</td>\n",
              "      <td>-0.063176</td>\n",
              "      <td>0.0</td>\n",
              "      <td>0.0</td>\n",
              "      <td>0.0</td>\n",
              "    </tr>\n",
              "    <tr>\n",
              "      <th>2005-04-29</th>\n",
              "      <td>-0.003858</td>\n",
              "      <td>-0.003027</td>\n",
              "      <td>-0.000568</td>\n",
              "      <td>0.014631</td>\n",
              "      <td>0.167838</td>\n",
              "      <td>0.0</td>\n",
              "      <td>0.0</td>\n",
              "      <td>0.0</td>\n",
              "    </tr>\n",
              "    <tr>\n",
              "      <th>2005-05-02</th>\n",
              "      <td>0.001660</td>\n",
              "      <td>0.011593</td>\n",
              "      <td>0.022714</td>\n",
              "      <td>0.010261</td>\n",
              "      <td>-0.306285</td>\n",
              "      <td>0.0</td>\n",
              "      <td>0.0</td>\n",
              "      <td>0.0</td>\n",
              "    </tr>\n",
              "  </tbody>\n",
              "</table>\n",
              "</div>"
            ],
            "text/plain": [
              "                Open      High       Low     Close    Volume  10-K  10-Q  8-K\n",
              "Date                                                                         \n",
              "2005-04-26  0.007947  0.013236  0.000277 -0.021363  0.085801   0.0   0.0  0.0\n",
              "2005-04-27 -0.024198 -0.030659 -0.016888 -0.006632 -0.242587   0.0   0.0  0.0\n",
              "2005-04-28  0.011145 -0.000550 -0.007603 -0.011405 -0.063176   0.0   0.0  0.0\n",
              "2005-04-29 -0.003858 -0.003027 -0.000568  0.014631  0.167838   0.0   0.0  0.0\n",
              "2005-05-02  0.001660  0.011593  0.022714  0.010261 -0.306285   0.0   0.0  0.0"
            ]
          },
          "metadata": {},
          "execution_count": 49
        }
      ],
      "source": [
        "# Train/Test Split\n",
        "X_train, X_test, y_train, y_test = train_test_split(X, y, shuffle = False)\n",
        "\n",
        "X_train.head()"
      ]
    },
    {
      "cell_type": "code",
      "source": [
        "X_train.tail()"
      ],
      "metadata": {
        "colab": {
          "base_uri": "https://localhost:8080/",
          "height": 238
        },
        "id": "D1KbFnGvsIF6",
        "outputId": "b4c64a02-26d5-4042-fea5-df185b1693e3"
      },
      "execution_count": 50,
      "outputs": [
        {
          "output_type": "execute_result",
          "data": {
            "text/html": [
              "<div>\n",
              "<style scoped>\n",
              "    .dataframe tbody tr th:only-of-type {\n",
              "        vertical-align: middle;\n",
              "    }\n",
              "\n",
              "    .dataframe tbody tr th {\n",
              "        vertical-align: top;\n",
              "    }\n",
              "\n",
              "    .dataframe thead th {\n",
              "        text-align: right;\n",
              "    }\n",
              "</style>\n",
              "<table border=\"1\" class=\"dataframe\">\n",
              "  <thead>\n",
              "    <tr style=\"text-align: right;\">\n",
              "      <th></th>\n",
              "      <th>Open</th>\n",
              "      <th>High</th>\n",
              "      <th>Low</th>\n",
              "      <th>Close</th>\n",
              "      <th>Volume</th>\n",
              "      <th>10-K</th>\n",
              "      <th>10-Q</th>\n",
              "      <th>8-K</th>\n",
              "    </tr>\n",
              "    <tr>\n",
              "      <th>Date</th>\n",
              "      <th></th>\n",
              "      <th></th>\n",
              "      <th></th>\n",
              "      <th></th>\n",
              "      <th></th>\n",
              "      <th></th>\n",
              "      <th></th>\n",
              "      <th></th>\n",
              "    </tr>\n",
              "  </thead>\n",
              "  <tbody>\n",
              "    <tr>\n",
              "      <th>2015-10-14</th>\n",
              "      <td>0.004241</td>\n",
              "      <td>-0.008270</td>\n",
              "      <td>-0.010119</td>\n",
              "      <td>-0.014134</td>\n",
              "      <td>0.345336</td>\n",
              "      <td>0.0</td>\n",
              "      <td>0.0</td>\n",
              "      <td>0.0</td>\n",
              "    </tr>\n",
              "    <tr>\n",
              "      <th>2015-10-15</th>\n",
              "      <td>-0.003235</td>\n",
              "      <td>0.005201</td>\n",
              "      <td>0.008488</td>\n",
              "      <td>0.014971</td>\n",
              "      <td>-0.152689</td>\n",
              "      <td>0.0</td>\n",
              "      <td>0.0</td>\n",
              "      <td>0.0</td>\n",
              "    </tr>\n",
              "    <tr>\n",
              "      <th>2015-10-16</th>\n",
              "      <td>0.007662</td>\n",
              "      <td>-0.000892</td>\n",
              "      <td>0.000362</td>\n",
              "      <td>-0.007331</td>\n",
              "      <td>0.041385</td>\n",
              "      <td>0.0</td>\n",
              "      <td>0.0</td>\n",
              "      <td>0.0</td>\n",
              "    </tr>\n",
              "    <tr>\n",
              "      <th>2015-10-19</th>\n",
              "      <td>-0.008767</td>\n",
              "      <td>-0.002232</td>\n",
              "      <td>-0.003800</td>\n",
              "      <td>0.006214</td>\n",
              "      <td>-0.241468</td>\n",
              "      <td>0.0</td>\n",
              "      <td>0.0</td>\n",
              "      <td>0.0</td>\n",
              "    </tr>\n",
              "    <tr>\n",
              "      <th>2015-10-20</th>\n",
              "      <td>0.004874</td>\n",
              "      <td>0.021655</td>\n",
              "      <td>0.006448</td>\n",
              "      <td>0.018258</td>\n",
              "      <td>0.639117</td>\n",
              "      <td>0.0</td>\n",
              "      <td>0.0</td>\n",
              "      <td>0.0</td>\n",
              "    </tr>\n",
              "  </tbody>\n",
              "</table>\n",
              "</div>"
            ],
            "text/plain": [
              "                Open      High       Low     Close    Volume  10-K  10-Q  8-K\n",
              "Date                                                                         \n",
              "2015-10-14  0.004241 -0.008270 -0.010119 -0.014134  0.345336   0.0   0.0  0.0\n",
              "2015-10-15 -0.003235  0.005201  0.008488  0.014971 -0.152689   0.0   0.0  0.0\n",
              "2015-10-16  0.007662 -0.000892  0.000362 -0.007331  0.041385   0.0   0.0  0.0\n",
              "2015-10-19 -0.008767 -0.002232 -0.003800  0.006214 -0.241468   0.0   0.0  0.0\n",
              "2015-10-20  0.004874  0.021655  0.006448  0.018258  0.639117   0.0   0.0  0.0"
            ]
          },
          "metadata": {},
          "execution_count": 50
        }
      ]
    },
    {
      "cell_type": "code",
      "source": [
        "X_test.head()"
      ],
      "metadata": {
        "colab": {
          "base_uri": "https://localhost:8080/",
          "height": 238
        },
        "id": "uElh25FpsJzh",
        "outputId": "25949477-b6dc-43d1-d685-ee44bc0bfc3a"
      },
      "execution_count": 51,
      "outputs": [
        {
          "output_type": "execute_result",
          "data": {
            "text/html": [
              "<div>\n",
              "<style scoped>\n",
              "    .dataframe tbody tr th:only-of-type {\n",
              "        vertical-align: middle;\n",
              "    }\n",
              "\n",
              "    .dataframe tbody tr th {\n",
              "        vertical-align: top;\n",
              "    }\n",
              "\n",
              "    .dataframe thead th {\n",
              "        text-align: right;\n",
              "    }\n",
              "</style>\n",
              "<table border=\"1\" class=\"dataframe\">\n",
              "  <thead>\n",
              "    <tr style=\"text-align: right;\">\n",
              "      <th></th>\n",
              "      <th>Open</th>\n",
              "      <th>High</th>\n",
              "      <th>Low</th>\n",
              "      <th>Close</th>\n",
              "      <th>Volume</th>\n",
              "      <th>10-K</th>\n",
              "      <th>10-Q</th>\n",
              "      <th>8-K</th>\n",
              "    </tr>\n",
              "    <tr>\n",
              "      <th>Date</th>\n",
              "      <th></th>\n",
              "      <th></th>\n",
              "      <th></th>\n",
              "      <th></th>\n",
              "      <th></th>\n",
              "      <th></th>\n",
              "      <th></th>\n",
              "      <th></th>\n",
              "    </tr>\n",
              "  </thead>\n",
              "  <tbody>\n",
              "    <tr>\n",
              "      <th>2015-10-21</th>\n",
              "      <td>0.023891</td>\n",
              "      <td>0.012350</td>\n",
              "      <td>0.025988</td>\n",
              "      <td>-0.000088</td>\n",
              "      <td>-0.143169</td>\n",
              "      <td>0.0</td>\n",
              "      <td>0.0</td>\n",
              "      <td>0.0</td>\n",
              "    </tr>\n",
              "    <tr>\n",
              "      <th>2015-10-22</th>\n",
              "      <td>0.002895</td>\n",
              "      <td>-0.000692</td>\n",
              "      <td>0.003518</td>\n",
              "      <td>0.015295</td>\n",
              "      <td>-0.003376</td>\n",
              "      <td>0.0</td>\n",
              "      <td>0.0</td>\n",
              "      <td>0.0</td>\n",
              "    </tr>\n",
              "    <tr>\n",
              "      <th>2015-10-23</th>\n",
              "      <td>0.020729</td>\n",
              "      <td>0.032294</td>\n",
              "      <td>0.019544</td>\n",
              "      <td>0.030996</td>\n",
              "      <td>0.425235</td>\n",
              "      <td>0.0</td>\n",
              "      <td>0.0</td>\n",
              "      <td>0.0</td>\n",
              "    </tr>\n",
              "    <tr>\n",
              "      <th>2015-10-26</th>\n",
              "      <td>0.011825</td>\n",
              "      <td>-0.009226</td>\n",
              "      <td>-0.012121</td>\n",
              "      <td>-0.031911</td>\n",
              "      <td>0.117353</td>\n",
              "      <td>0.0</td>\n",
              "      <td>0.0</td>\n",
              "      <td>0.0</td>\n",
              "    </tr>\n",
              "    <tr>\n",
              "      <th>2015-10-27</th>\n",
              "      <td>-0.022696</td>\n",
              "      <td>-0.013460</td>\n",
              "      <td>-0.008093</td>\n",
              "      <td>-0.006332</td>\n",
              "      <td>0.053526</td>\n",
              "      <td>0.0</td>\n",
              "      <td>0.0</td>\n",
              "      <td>1.0</td>\n",
              "    </tr>\n",
              "  </tbody>\n",
              "</table>\n",
              "</div>"
            ],
            "text/plain": [
              "                Open      High       Low     Close    Volume  10-K  10-Q  8-K\n",
              "Date                                                                         \n",
              "2015-10-21  0.023891  0.012350  0.025988 -0.000088 -0.143169   0.0   0.0  0.0\n",
              "2015-10-22  0.002895 -0.000692  0.003518  0.015295 -0.003376   0.0   0.0  0.0\n",
              "2015-10-23  0.020729  0.032294  0.019544  0.030996  0.425235   0.0   0.0  0.0\n",
              "2015-10-26  0.011825 -0.009226 -0.012121 -0.031911  0.117353   0.0   0.0  0.0\n",
              "2015-10-27 -0.022696 -0.013460 -0.008093 -0.006332  0.053526   0.0   0.0  1.0"
            ]
          },
          "metadata": {},
          "execution_count": 51
        }
      ]
    },
    {
      "cell_type": "markdown",
      "metadata": {
        "id": "XG8khWUWAmjq"
      },
      "source": [
        "## Scaling\n",
        "---\n",
        "\n",
        "You want to scale your data for any model that uses gradient descent, which includes neural networks."
      ]
    },
    {
      "cell_type": "code",
      "execution_count": 52,
      "metadata": {
        "id": "E6Mgv5KRAmjq"
      },
      "outputs": [],
      "source": [
        "# Scale\n",
        "\n",
        "ss = StandardScaler()\n",
        "\n",
        "X_train_sc = ss.fit_transform(X_train)\n",
        "\n",
        "X_test_sc = ss.transform(X_test)"
      ]
    },
    {
      "cell_type": "markdown",
      "metadata": {
        "id": "m5p6y7AbAmjq"
      },
      "source": [
        "## `TimeseriesGenerator`\n",
        "---\n",
        "\n",
        "We'll now convert our data into series' using `TimeseriesGenerator`. The `length` parameter dictates how many rows will constitute a sample. The generator also creates our batches.\n",
        "\n",
        "```python\n",
        "train_sequences = TimeseriesGenerator(X_train_sc, y_train, length=3, batch_size=64)\n",
        "```\n",
        "\n",
        "In the cells below, convert your training and validation data into sequences."
      ]
    },
    {
      "cell_type": "code",
      "execution_count": 53,
      "metadata": {
        "id": "OOGKLMVuAmjq"
      },
      "outputs": [],
      "source": [
        "# Create training sequences\n",
        "train_sequences = TimeseriesGenerator(X_train_sc, y_train, length = 3, batch_size = 64)"
      ]
    },
    {
      "cell_type": "code",
      "source": [
        "batch_x, batch_y = train_sequences[0]"
      ],
      "metadata": {
        "id": "WqNYK7LttPp0"
      },
      "execution_count": 54,
      "outputs": []
    },
    {
      "cell_type": "code",
      "source": [
        "batch_x.shape"
      ],
      "metadata": {
        "colab": {
          "base_uri": "https://localhost:8080/"
        },
        "id": "vmr5wP6xtPeI",
        "outputId": "00814c94-5ffe-400b-fd74-4321634953c3"
      },
      "execution_count": 55,
      "outputs": [
        {
          "output_type": "execute_result",
          "data": {
            "text/plain": [
              "(64, 3, 8)"
            ]
          },
          "metadata": {},
          "execution_count": 55
        }
      ]
    },
    {
      "cell_type": "code",
      "source": [
        "batch_y.shape"
      ],
      "metadata": {
        "colab": {
          "base_uri": "https://localhost:8080/"
        },
        "id": "x3T9-AZptWtS",
        "outputId": "d505a281-4fb6-4506-9cf3-f3ba8188a348"
      },
      "execution_count": 56,
      "outputs": [
        {
          "output_type": "execute_result",
          "data": {
            "text/plain": [
              "(64, 1)"
            ]
          },
          "metadata": {},
          "execution_count": 56
        }
      ]
    },
    {
      "cell_type": "code",
      "execution_count": 58,
      "metadata": {
        "id": "z9nAt5k_Amjq"
      },
      "outputs": [],
      "source": [
        "# Create test sequences\n",
        "\n",
        "test_sequences = TimeseriesGenerator(X_test_sc, y_test, length = 3, batch_size = 64)"
      ]
    },
    {
      "cell_type": "markdown",
      "metadata": {
        "id": "S3pHN1xFAmjr"
      },
      "source": [
        "## Modeling time!\n",
        "---\n",
        "\n",
        "Now it's time to design our RNN model. We'll have:\n",
        "\n",
        "- 2 `GRU` layers\n",
        "- 1 `Dense` output layer\n",
        "\n",
        "We're doing a binary classification problem."
      ]
    },
    {
      "cell_type": "markdown",
      "metadata": {
        "id": "hbrVv1S8Amjr"
      },
      "source": [
        "<details><summary>What should our output layer look like?</summary>\n",
        "\n",
        "- 1 neuron\n",
        "- sigmoid activation function\n",
        "- this way, our model predicts a probability\n",
        "</details>"
      ]
    },
    {
      "cell_type": "code",
      "source": [
        "y[:5]"
      ],
      "metadata": {
        "colab": {
          "base_uri": "https://localhost:8080/"
        },
        "id": "4tYg1iBouMLi",
        "outputId": "fbf2e78a-b77c-4cdf-d876-fdc18272f0cd"
      },
      "execution_count": 59,
      "outputs": [
        {
          "output_type": "execute_result",
          "data": {
            "text/plain": [
              "array([[0],\n",
              "       [0],\n",
              "       [0],\n",
              "       [1],\n",
              "       [1]])"
            ]
          },
          "metadata": {},
          "execution_count": 59
        }
      ]
    },
    {
      "cell_type": "code",
      "execution_count": 60,
      "metadata": {
        "colab": {
          "base_uri": "https://localhost:8080/"
        },
        "id": "sJE4HhHnAmjr",
        "outputId": "4554e509-41fb-4c3b-8337-e44928b9512b"
      },
      "outputs": [
        {
          "output_type": "stream",
          "name": "stderr",
          "text": [
            "/usr/local/lib/python3.7/dist-packages/keras/optimizer_v2/adam.py:105: UserWarning: The `lr` argument is deprecated, use `learning_rate` instead.\n",
            "  super(Adam, self).__init__(name, **kwargs)\n"
          ]
        }
      ],
      "source": [
        "# Design RNN\n",
        "\n",
        "input_shape = batch_x.shape[1:]\n",
        "\n",
        "model = Sequential()\n",
        "model.add(GRU(8, input_shape = input_shape, return_sequences=True)) # True when your next layer is also an RNN layer\n",
        "model.add(GRU(8, return_sequences=False)) # False because next layer is NOT an RNN layer\n",
        "model.add(Dense(4, activation = 'relu'))\n",
        "model.add(Dense(4, activation = 'relu'))\n",
        "model.add(Dense(1, activation = 'sigmoid'))\n",
        "\n",
        "model.compile(\n",
        "    loss = 'bce',\n",
        "    optimizer = Adam(lr=0.0005),\n",
        "    metrics = ['acc']\n",
        ")"
      ]
    },
    {
      "cell_type": "code",
      "execution_count": 61,
      "metadata": {
        "colab": {
          "base_uri": "https://localhost:8080/"
        },
        "id": "S0cQ_mKYAmjr",
        "outputId": "28556722-4923-4410-d510-7672ff6943ed"
      },
      "outputs": [
        {
          "output_type": "stream",
          "name": "stdout",
          "text": [
            "Epoch 1/50\n",
            "42/42 [==============================] - 11s 54ms/step - loss: 0.6924 - acc: 0.5262 - val_loss: 0.6919 - val_acc: 0.5353\n",
            "Epoch 2/50\n",
            "42/42 [==============================] - 1s 13ms/step - loss: 0.6919 - acc: 0.5277 - val_loss: 0.6916 - val_acc: 0.5364\n",
            "Epoch 3/50\n",
            "42/42 [==============================] - 1s 13ms/step - loss: 0.6916 - acc: 0.5273 - val_loss: 0.6911 - val_acc: 0.5364\n",
            "Epoch 4/50\n",
            "42/42 [==============================] - 1s 13ms/step - loss: 0.6912 - acc: 0.5265 - val_loss: 0.6909 - val_acc: 0.5364\n",
            "Epoch 5/50\n",
            "42/42 [==============================] - 1s 15ms/step - loss: 0.6912 - acc: 0.5262 - val_loss: 0.6907 - val_acc: 0.5364\n",
            "Epoch 6/50\n",
            "42/42 [==============================] - 1s 15ms/step - loss: 0.6909 - acc: 0.5262 - val_loss: 0.6905 - val_acc: 0.5364\n",
            "Epoch 7/50\n",
            "42/42 [==============================] - 1s 18ms/step - loss: 0.6908 - acc: 0.5262 - val_loss: 0.6905 - val_acc: 0.5364\n",
            "Epoch 8/50\n",
            "42/42 [==============================] - 1s 15ms/step - loss: 0.6907 - acc: 0.5265 - val_loss: 0.6902 - val_acc: 0.5364\n",
            "Epoch 9/50\n",
            "42/42 [==============================] - 1s 17ms/step - loss: 0.6905 - acc: 0.5277 - val_loss: 0.6902 - val_acc: 0.5353\n",
            "Epoch 10/50\n",
            "42/42 [==============================] - 1s 15ms/step - loss: 0.6903 - acc: 0.5273 - val_loss: 0.6901 - val_acc: 0.5353\n",
            "Epoch 11/50\n",
            "42/42 [==============================] - 1s 15ms/step - loss: 0.6902 - acc: 0.5265 - val_loss: 0.6900 - val_acc: 0.5353\n",
            "Epoch 12/50\n",
            "42/42 [==============================] - 1s 13ms/step - loss: 0.6900 - acc: 0.5296 - val_loss: 0.6900 - val_acc: 0.5353\n",
            "Epoch 13/50\n",
            "42/42 [==============================] - 1s 13ms/step - loss: 0.6899 - acc: 0.5334 - val_loss: 0.6899 - val_acc: 0.5387\n",
            "Epoch 14/50\n",
            "42/42 [==============================] - 1s 15ms/step - loss: 0.6899 - acc: 0.5318 - val_loss: 0.6898 - val_acc: 0.5399\n",
            "Epoch 15/50\n",
            "42/42 [==============================] - 1s 16ms/step - loss: 0.6895 - acc: 0.5326 - val_loss: 0.6898 - val_acc: 0.5364\n",
            "Epoch 16/50\n",
            "42/42 [==============================] - 1s 12ms/step - loss: 0.6894 - acc: 0.5322 - val_loss: 0.6898 - val_acc: 0.5376\n",
            "Epoch 17/50\n",
            "42/42 [==============================] - 1s 14ms/step - loss: 0.6892 - acc: 0.5349 - val_loss: 0.6897 - val_acc: 0.5410\n",
            "Epoch 18/50\n",
            "42/42 [==============================] - 1s 16ms/step - loss: 0.6889 - acc: 0.5326 - val_loss: 0.6896 - val_acc: 0.5387\n",
            "Epoch 19/50\n",
            "42/42 [==============================] - 1s 15ms/step - loss: 0.6888 - acc: 0.5383 - val_loss: 0.6896 - val_acc: 0.5376\n",
            "Epoch 20/50\n",
            "42/42 [==============================] - 1s 15ms/step - loss: 0.6885 - acc: 0.5356 - val_loss: 0.6896 - val_acc: 0.5376\n",
            "Epoch 21/50\n",
            "42/42 [==============================] - 1s 14ms/step - loss: 0.6882 - acc: 0.5387 - val_loss: 0.6896 - val_acc: 0.5285\n",
            "Epoch 22/50\n",
            "42/42 [==============================] - 1s 12ms/step - loss: 0.6877 - acc: 0.5455 - val_loss: 0.6894 - val_acc: 0.5319\n",
            "Epoch 23/50\n",
            "42/42 [==============================] - 1s 13ms/step - loss: 0.6875 - acc: 0.5455 - val_loss: 0.6894 - val_acc: 0.5296\n",
            "Epoch 24/50\n",
            "42/42 [==============================] - 1s 14ms/step - loss: 0.6872 - acc: 0.5485 - val_loss: 0.6893 - val_acc: 0.5262\n",
            "Epoch 25/50\n",
            "42/42 [==============================] - 1s 12ms/step - loss: 0.6869 - acc: 0.5451 - val_loss: 0.6894 - val_acc: 0.5296\n",
            "Epoch 26/50\n",
            "42/42 [==============================] - 1s 13ms/step - loss: 0.6866 - acc: 0.5451 - val_loss: 0.6894 - val_acc: 0.5273\n",
            "Epoch 27/50\n",
            "42/42 [==============================] - 1s 13ms/step - loss: 0.6861 - acc: 0.5478 - val_loss: 0.6894 - val_acc: 0.5285\n",
            "Epoch 28/50\n",
            "42/42 [==============================] - 1s 15ms/step - loss: 0.6859 - acc: 0.5459 - val_loss: 0.6896 - val_acc: 0.5308\n",
            "Epoch 29/50\n",
            "42/42 [==============================] - 1s 14ms/step - loss: 0.6854 - acc: 0.5470 - val_loss: 0.6894 - val_acc: 0.5273\n",
            "Epoch 30/50\n",
            "42/42 [==============================] - 1s 16ms/step - loss: 0.6852 - acc: 0.5497 - val_loss: 0.6895 - val_acc: 0.5262\n",
            "Epoch 31/50\n",
            "42/42 [==============================] - 1s 15ms/step - loss: 0.6846 - acc: 0.5493 - val_loss: 0.6895 - val_acc: 0.5262\n",
            "Epoch 32/50\n",
            "42/42 [==============================] - 1s 14ms/step - loss: 0.6844 - acc: 0.5500 - val_loss: 0.6896 - val_acc: 0.5353\n",
            "Epoch 33/50\n",
            "42/42 [==============================] - 1s 15ms/step - loss: 0.6839 - acc: 0.5542 - val_loss: 0.6895 - val_acc: 0.5308\n",
            "Epoch 34/50\n",
            "42/42 [==============================] - 1s 15ms/step - loss: 0.6837 - acc: 0.5534 - val_loss: 0.6896 - val_acc: 0.5308\n",
            "Epoch 35/50\n",
            "42/42 [==============================] - 1s 13ms/step - loss: 0.6833 - acc: 0.5516 - val_loss: 0.6898 - val_acc: 0.5319\n",
            "Epoch 36/50\n",
            "42/42 [==============================] - 1s 15ms/step - loss: 0.6830 - acc: 0.5565 - val_loss: 0.6899 - val_acc: 0.5364\n",
            "Epoch 37/50\n",
            "42/42 [==============================] - 1s 14ms/step - loss: 0.6826 - acc: 0.5546 - val_loss: 0.6900 - val_acc: 0.5308\n",
            "Epoch 38/50\n",
            "42/42 [==============================] - 1s 14ms/step - loss: 0.6823 - acc: 0.5580 - val_loss: 0.6902 - val_acc: 0.5319\n",
            "Epoch 39/50\n",
            "42/42 [==============================] - 1s 13ms/step - loss: 0.6820 - acc: 0.5561 - val_loss: 0.6902 - val_acc: 0.5353\n",
            "Epoch 40/50\n",
            "42/42 [==============================] - 1s 15ms/step - loss: 0.6816 - acc: 0.5584 - val_loss: 0.6902 - val_acc: 0.5319\n",
            "Epoch 41/50\n",
            "42/42 [==============================] - 1s 15ms/step - loss: 0.6814 - acc: 0.5584 - val_loss: 0.6902 - val_acc: 0.5342\n",
            "Epoch 42/50\n",
            "42/42 [==============================] - 1s 14ms/step - loss: 0.6809 - acc: 0.5603 - val_loss: 0.6904 - val_acc: 0.5285\n",
            "Epoch 43/50\n",
            "42/42 [==============================] - 1s 15ms/step - loss: 0.6806 - acc: 0.5614 - val_loss: 0.6904 - val_acc: 0.5330\n",
            "Epoch 44/50\n",
            "42/42 [==============================] - 1s 15ms/step - loss: 0.6803 - acc: 0.5603 - val_loss: 0.6903 - val_acc: 0.5296\n",
            "Epoch 45/50\n",
            "42/42 [==============================] - 1s 13ms/step - loss: 0.6798 - acc: 0.5607 - val_loss: 0.6908 - val_acc: 0.5285\n",
            "Epoch 46/50\n",
            "42/42 [==============================] - 1s 15ms/step - loss: 0.6797 - acc: 0.5603 - val_loss: 0.6909 - val_acc: 0.5262\n",
            "Epoch 47/50\n",
            "42/42 [==============================] - 1s 15ms/step - loss: 0.6795 - acc: 0.5614 - val_loss: 0.6915 - val_acc: 0.5228\n",
            "Epoch 48/50\n",
            "42/42 [==============================] - 1s 13ms/step - loss: 0.6791 - acc: 0.5644 - val_loss: 0.6912 - val_acc: 0.5239\n",
            "Epoch 49/50\n",
            "42/42 [==============================] - 1s 12ms/step - loss: 0.6787 - acc: 0.5641 - val_loss: 0.6913 - val_acc: 0.5159\n",
            "Epoch 50/50\n",
            "42/42 [==============================] - 1s 16ms/step - loss: 0.6786 - acc: 0.5625 - val_loss: 0.6912 - val_acc: 0.5228\n"
          ]
        }
      ],
      "source": [
        "history = model.fit(train_sequences,\n",
        "                    validation_data = test_sequences,\n",
        "                    epochs = 50)"
      ]
    },
    {
      "cell_type": "code",
      "source": [
        "plt.plot(history.history['loss'], label = 'Training Loss')\n",
        "plt.plot(history.history['val_loss'], label = 'Test Loss')\n",
        "plt.legend();"
      ],
      "metadata": {
        "colab": {
          "base_uri": "https://localhost:8080/",
          "height": 265
        },
        "id": "iiLS1F3Uv5SR",
        "outputId": "396c7fca-c5f4-4412-f4c0-e122651db889"
      },
      "execution_count": 62,
      "outputs": [
        {
          "output_type": "display_data",
          "data": {
            "image/png": "[encoded data removed]",
            "text/plain": [
              "<Figure size 432x288 with 1 Axes>"
            ]
          },
          "metadata": {
            "needs_background": "light"
          }
        }
      ]
    },
    {
      "cell_type": "markdown",
      "metadata": {
        "id": "teOE8kCmAmjr"
      },
      "source": [
        "## Your turn!\n",
        "---\n",
        "\n",
        "Can you improve this model? Try to build a model that minimizes the testing loss even more!"
      ]
    },
    {
      "cell_type": "code",
      "execution_count": null,
      "metadata": {
        "id": "51i1gGTRAmjr"
      },
      "outputs": [],
      "source": [
        ""
      ]
    },
    {
      "cell_type": "code",
      "execution_count": null,
      "metadata": {
        "id": "pLp1lD4OAmjr"
      },
      "outputs": [],
      "source": [
        ""
      ]
    }
  ],
  "metadata": {
    "kernelspec": {
      "display_name": "Python 3",
      "language": "python",
      "name": "python3"
    },
    "language_info": {
      "codemirror_mode": {
        "name": "ipython",
        "version": 3
      },
      "file_extension": ".py",
      "mimetype": "text/x-python",
      "name": "python",
      "nbconvert_exporter": "python",
      "pygments_lexer": "ipython3",
      "version": "3.8.8"
    },
    "colab": {
      "name": "starter-code-Hank-copy-rnn.ipynb",
      "provenance": []
    }
  },
  "nbformat": 4,
  "nbformat_minor": 0
}