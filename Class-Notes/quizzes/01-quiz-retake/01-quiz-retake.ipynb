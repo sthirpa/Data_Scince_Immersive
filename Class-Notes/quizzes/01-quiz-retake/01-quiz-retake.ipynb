{
 "cells": [
  {
   "cell_type": "markdown",
   "metadata": {},
   "source": [
    "<img src=\"http://imgur.com/1ZcRyrc.png\" style=\"float: left; margin: 20px; height: 55px\" />\n",
    "\n",
    "# Quiz 1\n",
    "**Version 2 (retake)**\n",
    "\n",
    "This notebook contains 5 coding challenges. You are to download this repository and fill in the quiz with your answers, taking special care to follow the directions _exactly_. In many questions, we ask that you name variables in a specific way. Make sure to do this, as we use it for grading.\n",
    "\n",
    "To **submit** your quiz, add the quiz folder to your Submissions repo and turn it in via [Google Classroom](https://classroom.google.com/).\n",
    "\n",
    "### Quiz Information:\n",
    "- This is an \"open book\" quiz - you may use any resources! This includes (but is not limited to) Jupyter notebooks, Google, StackOverflow, and your notes. **ANY RESOURCE YOU USE MUST BE CITED** (comment your code with links, which lesson you got the inspiration from, etc.) and failure to cite resources you use will be considered plagiarism. \n",
    "- You may NOT work with anyone else on this quiz (your classmates, your instructor, etc.).\n",
    "- You will have **45 minutes** to take this quiz and submit it!"
   ]
  },
  {
   "cell_type": "markdown",
   "metadata": {},
   "source": [
    "# Your Info:\n",
    "**Please fill out the following questions:**\n",
    "\n",
    "### 1. What is your name?"
   ]
  },
  {
   "cell_type": "markdown",
   "metadata": {},
   "source": []
  },
  {
   "cell_type": "markdown",
   "metadata": {},
   "source": [
    "### 2. What is your email? \n",
    "**Please make sure this is the same email you will use in Google Classroom to submit your work.**"
   ]
  },
  {
   "cell_type": "markdown",
   "metadata": {},
   "source": []
  },
  {
   "cell_type": "markdown",
   "metadata": {},
   "source": [
    "## Problem 1: List Comprehension\n",
    "\n",
    "Here is some (simplified) sample data taken from the [SEC](https://www.sec.gov/files/company_tickers.json) website:\n",
    "```python\n",
    "sample = [\n",
    "    {\"cik_str\":1750,\"ticker\":\"AIR\",\"title\":\"AAR CORP\"},\n",
    "    {\"cik_str\":1800,\"ticker\":\"ABT\",\"title\":\"ABBOTT LABORATORIES\"},\n",
    "    {\"cik_str\":1961,\"ticker\":\"WDDD\",\"title\":\"WORLDS INC\"},\n",
    "    {\"cik_str\":2034,\"ticker\":\"ACET\",\"title\":\"ACETO CORP\"},\n",
    "    {\"cik_str\":2098,\"ticker\":\"ACU\",\"title\":\"ACME UNITED CORP\"},\n",
    "    {\"cik_str\":2178,\"ticker\":\"AE\",\"title\":\"ADAMS RESOURCES & ENERGY, INC.\"},\n",
    "    {\"cik_str\":2186,\"ticker\":\"BKTI\",\"title\":\"BK Technologies Corp\"},\n",
    "    {\"cik_str\":2488,\"ticker\":\"AMD\",\"title\":\"ADVANCED MICRO DEVICES INC\"},\n",
    "    {\"cik_str\":2809,\"ticker\":\"AEM\",\"title\":\"AGNICO EAGLE MINES LTD\"},\n",
    "    {\"cik_str\":2969,\"ticker\":\"APD\",\"title\":\"AIR PRODUCTS & CHEMICALS INC /DE/\"},\n",
    "    {\"cik_str\":3116,\"ticker\":\"AKRX\",\"title\":\"AKORN INC\"},\n",
    "    {\"cik_str\":3116,\"ticker\":\"AKRXQ\",\"title\":\"AKORN INC\"},\n",
    "    {\"cik_str\":3153,\"ticker\":\"ALP-PQ\",\"title\":\"ALABAMA POWER CO\"},\n",
    "    {\"cik_str\":3153,\"ticker\":\"ALPVN\",\"title\":\"ALABAMA POWER CO\"},\n",
    "    {\"cik_str\":3153,\"ticker\":\"APRCP\",\"title\":\"ALABAMA POWER CO\"},\n",
    "    {\"cik_str\":3153,\"ticker\":\"APRDM\",\"title\":\"ALABAMA POWER CO\"}\n",
    "]\n",
    "```\n",
    "Use list comprehension to create a list of all the `\"ticker\"`s. Your result should look like this:\n",
    "```python\n",
    "['AIR', 'ABT', 'WDDD', 'ACET', 'ACU', 'AE', 'BKTI', 'AMD', 'AEM', 'APD', 'AKRX', 'AKRXQ', 'ALP-PQ', 'ALPVN', 'APRCP', 'APRDM']\n",
    "```"
   ]
  },
  {
   "cell_type": "markdown",
   "metadata": {},
   "source": [
    "**4pts total**  \n",
    "*Partial credit will be given if substantial progress to the right answer is made.*"
   ]
  },
  {
   "cell_type": "code",
   "execution_count": null,
   "metadata": {},
   "outputs": [],
   "source": [
    "sample = [\n",
    "    {\"cik_str\":1750,\"ticker\":\"AIR\",\"title\":\"AAR CORP\"},\n",
    "    {\"cik_str\":1800,\"ticker\":\"ABT\",\"title\":\"ABBOTT LABORATORIES\"},\n",
    "    {\"cik_str\":1961,\"ticker\":\"WDDD\",\"title\":\"WORLDS INC\"},\n",
    "    {\"cik_str\":2034,\"ticker\":\"ACET\",\"title\":\"ACETO CORP\"},\n",
    "    {\"cik_str\":2098,\"ticker\":\"ACU\",\"title\":\"ACME UNITED CORP\"},\n",
    "    {\"cik_str\":2178,\"ticker\":\"AE\",\"title\":\"ADAMS RESOURCES & ENERGY, INC.\"},\n",
    "    {\"cik_str\":2186,\"ticker\":\"BKTI\",\"title\":\"BK Technologies Corp\"},\n",
    "    {\"cik_str\":2488,\"ticker\":\"AMD\",\"title\":\"ADVANCED MICRO DEVICES INC\"},\n",
    "    {\"cik_str\":2809,\"ticker\":\"AEM\",\"title\":\"AGNICO EAGLE MINES LTD\"},\n",
    "    {\"cik_str\":2969,\"ticker\":\"APD\",\"title\":\"AIR PRODUCTS & CHEMICALS INC /DE/\"},\n",
    "    {\"cik_str\":3116,\"ticker\":\"AKRX\",\"title\":\"AKORN INC\"},\n",
    "    {\"cik_str\":3116,\"ticker\":\"AKRXQ\",\"title\":\"AKORN INC\"},\n",
    "    {\"cik_str\":3153,\"ticker\":\"ALP-PQ\",\"title\":\"ALABAMA POWER CO\"},\n",
    "    {\"cik_str\":3153,\"ticker\":\"ALPVN\",\"title\":\"ALABAMA POWER CO\"},\n",
    "    {\"cik_str\":3153,\"ticker\":\"APRCP\",\"title\":\"ALABAMA POWER CO\"},\n",
    "    {\"cik_str\":3153,\"ticker\":\"APRDM\",\"title\":\"ALABAMA POWER CO\"}\n",
    "]"
   ]
  },
  {
   "cell_type": "code",
   "execution_count": null,
   "metadata": {},
   "outputs": [],
   "source": [
    "# your answer here:\n",
    "\n"
   ]
  },
  {
   "cell_type": "markdown",
   "metadata": {},
   "source": [
    "## Problem 2: Functions\n",
    "\n",
    "Write a function called `vowel_counter` that counts the vowels in a sentence (a, e, i, o, u) and returns the total number of vowels. For example, inputting the sentence \"The quick brown fox jumped over the lazy dog\" should return 12. Make sure your solution is case insensitive."
   ]
  },
  {
   "cell_type": "markdown",
   "metadata": {},
   "source": [
    "**4pts total**  \n",
    "*Partial credit will be given if substantial progress to the right answer is made.*"
   ]
  },
  {
   "cell_type": "code",
   "execution_count": null,
   "metadata": {},
   "outputs": [],
   "source": [
    "# Your answer here: edit this function\n",
    "# replace pass in the below function with your solution\n",
    "\n",
    "def vowel_counter():\n",
    "    pass"
   ]
  },
  {
   "cell_type": "code",
   "execution_count": null,
   "metadata": {},
   "outputs": [],
   "source": [
    "vowel_counter('The quick brown fox jumped over the lazy dog.')"
   ]
  },
  {
   "cell_type": "markdown",
   "metadata": {},
   "source": [
    "## Problem 3: Probability (BONUS)\n",
    "\n",
    "Assume you are flipping three un-fair, two-sided coins. Write a function called `prob_heads` that takes in three parameters: the probability of flipping heads for each coin and **returns the probability that all three coins will land on tails.** To check your answer, the following probabilities should return 4.8%:\n",
    "- Coin 1: $P(H) = 0.7$\n",
    "- Coin 2: $P(H) = 0.2$\n",
    "- Coin 3: $P(H) = 0.8$\n",
    "\n",
    "Your answer can be returned as a decimal (0.048) or as a probability (4.8%). Points will not be deducted for differences in rounding, as long as the rounding is correct."
   ]
  },
  {
   "cell_type": "markdown",
   "metadata": {},
   "source": [
    "**4pts total**  \n",
    "*Partial credit will be given if substantial progress to the right answer is made.*"
   ]
  },
  {
   "cell_type": "code",
   "execution_count": null,
   "metadata": {},
   "outputs": [],
   "source": [
    "# Your answer here: edit this function\n",
    "# replace pass in the below function with your solution\n",
    "\n",
    "def prob_heads():\n",
    "    pass"
   ]
  },
  {
   "cell_type": "code",
   "execution_count": null,
   "metadata": {},
   "outputs": [],
   "source": [
    "prob_heads(.7, .2, .8)"
   ]
  },
  {
   "cell_type": "markdown",
   "metadata": {},
   "source": [
    "## Problem 4: Debugging\n",
    "\n",
    "The function `divisible` takes in a number and returns whether 100 is evenly divisible by the number. There are **_four_** errors in the cell below. Find them. Fix them.\n",
    "\n",
    "```python\n",
    "# Contains errors!\n",
    "def divisible(num):\n",
    "    if to_compare % num = 0:\n",
    "        output = 'Yes'\n",
    "    else\n",
    "        output = 'No\n",
    "    to_compare = 100\n",
    "    return output\n",
    "```"
   ]
  },
  {
   "cell_type": "markdown",
   "metadata": {},
   "source": [
    "**4pts total**  \n",
    "*Partial credit will be given if substantial progress to the right answer is made.*"
   ]
  },
  {
   "cell_type": "code",
   "execution_count": null,
   "metadata": {},
   "outputs": [],
   "source": [
    "# Contains 4 errors!\n",
    "def divisible(num):\n",
    "    if to_compare % num = 0:\n",
    "        output = 'Yes'\n",
    "    else\n",
    "        output = 'No\n",
    "    to_compare = 100\n",
    "    return output\n",
    "\n",
    "divisible(5)"
   ]
  },
  {
   "cell_type": "markdown",
   "metadata": {},
   "source": [
    "## Problem 5: Math Problem!\n",
    "Let $a$ be the sum of the squares of the **odd** numbers between 1 and 100. That is:\n",
    "\n",
    "$$a = 1^2 + 3^2 + 5^2 + \\cdots + 99^2$$\n",
    "\n",
    "Let $b$ be the sum of the _cubes_ of the **even** numbers between 1 and 100. That is:\n",
    "\n",
    "$$b = 2^3 + 4^3 + 6^3 + \\cdots + 100^3$$\n",
    "\n",
    "What is $a + b$?"
   ]
  },
  {
   "cell_type": "markdown",
   "metadata": {},
   "source": [
    "**4pts total**  \n",
    "*Partial credit will be given if substantial progress to the right answer is made.*"
   ]
  },
  {
   "cell_type": "code",
   "execution_count": null,
   "metadata": {},
   "outputs": [],
   "source": [
    "# your answer here:\n",
    "\n"
   ]
  }
 ],
 "metadata": {
  "kernelspec": {
   "display_name": "Python 3",
   "language": "python",
   "name": "python3"
  },
  "language_info": {
   "codemirror_mode": {
    "name": "ipython",
    "version": 3
   },
   "file_extension": ".py",
   "mimetype": "text/x-python",
   "name": "python",
   "nbconvert_exporter": "python",
   "pygments_lexer": "ipython3",
   "version": "3.8.2"
  }
 },
 "nbformat": 4,
 "nbformat_minor": 4
}
