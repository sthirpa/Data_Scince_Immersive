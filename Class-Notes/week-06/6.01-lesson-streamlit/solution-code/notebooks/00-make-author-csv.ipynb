{
 "cells": [
  {
   "cell_type": "markdown",
   "id": "5f9351f8",
   "metadata": {},
   "source": [
    "# Code to make Author CSV file obtained from Streamlit Lesson master repo  \n",
    "https://git.generalassemb.ly/DSI-Flex/streamlit_lesson/blob/master/solution-code/notebooks/03-generate_model.ipynb\n",
    "---"
   ]
  },
  {
   "cell_type": "code",
   "execution_count": 2,
   "id": "db0675b5",
   "metadata": {},
   "outputs": [],
   "source": [
    "import pandas as pd"
   ]
  },
  {
   "cell_type": "code",
   "execution_count": 5,
   "id": "cef8025f",
   "metadata": {},
   "outputs": [],
   "source": [
    "def preprocess_gutenberg(file):\n",
    "    '''Accept a filepath and return a list of paragraphs.'''\n",
    "    with open(file) as f:\n",
    "        file_lines = f.read().split('\\n\\n')\n",
    "    file_lines = [each.replace('\\n', ' ') for each in file_lines]\n",
    "    return file_lines\n",
    "\n",
    "def make_author_df(file, author):\n",
    "    '''Accept a filepath and author name and return a dataframe.'''\n",
    "    lines = preprocess_gutenberg(file)\n",
    "    dataframe = pd.DataFrame(lines, columns=['text'])\n",
    "    dataframe['author'] = author\n",
    "    return dataframe"
   ]
  },
  {
   "cell_type": "code",
   "execution_count": 6,
   "id": "63d7b5c6",
   "metadata": {},
   "outputs": [
    {
     "data": {
      "text/html": [
       "<div>\n",
       "<style scoped>\n",
       "    .dataframe tbody tr th:only-of-type {\n",
       "        vertical-align: middle;\n",
       "    }\n",
       "\n",
       "    .dataframe tbody tr th {\n",
       "        vertical-align: top;\n",
       "    }\n",
       "\n",
       "    .dataframe thead th {\n",
       "        text-align: right;\n",
       "    }\n",
       "</style>\n",
       "<table border=\"1\" class=\"dataframe\">\n",
       "  <thead>\n",
       "    <tr style=\"text-align: right;\">\n",
       "      <th></th>\n",
       "      <th>text</th>\n",
       "      <th>author</th>\n",
       "    </tr>\n",
       "  </thead>\n",
       "  <tbody>\n",
       "    <tr>\n",
       "      <th>0</th>\n",
       "      <td>SENSE AND SENSIBILITY</td>\n",
       "      <td>Jane Austen</td>\n",
       "    </tr>\n",
       "    <tr>\n",
       "      <th>1</th>\n",
       "      <td>by Jane Austen</td>\n",
       "      <td>Jane Austen</td>\n",
       "    </tr>\n",
       "    <tr>\n",
       "      <th>2</th>\n",
       "      <td>(1811)</td>\n",
       "      <td>Jane Austen</td>\n",
       "    </tr>\n",
       "  </tbody>\n",
       "</table>\n",
       "</div>"
      ],
      "text/plain": [
       "                     text       author\n",
       "0   SENSE AND SENSIBILITY  Jane Austen\n",
       "1          by Jane Austen  Jane Austen\n",
       "2                  (1811)  Jane Austen"
      ]
     },
     "execution_count": 6,
     "metadata": {},
     "output_type": "execute_result"
    }
   ],
   "source": [
    "austen = make_author_df('../../data/austen.txt', 'Jane Austen')\n",
    "poe = make_author_df('../../data/poe.txt', 'Edgar Allan Poe')\n",
    "\n",
    "df = pd.concat([austen, poe])\n",
    "df = df.dropna()\n",
    "df.head(3)"
   ]
  },
  {
   "cell_type": "code",
   "execution_count": 7,
   "id": "2487d859",
   "metadata": {},
   "outputs": [],
   "source": [
    "df.to_csv('../../data/austen_poe.csv', index=False)"
   ]
  },
  {
   "cell_type": "code",
   "execution_count": null,
   "id": "ece74d25",
   "metadata": {},
   "outputs": [],
   "source": []
  }
 ],
 "metadata": {
  "kernelspec": {
   "display_name": "Python 3 (ipykernel)",
   "language": "python",
   "name": "python3"
  },
  "language_info": {
   "codemirror_mode": {
    "name": "ipython",
    "version": 3
   },
   "file_extension": ".py",
   "mimetype": "text/x-python",
   "name": "python",
   "nbconvert_exporter": "python",
   "pygments_lexer": "ipython3",
   "version": "3.8.2"
  }
 },
 "nbformat": 4,
 "nbformat_minor": 5
}
