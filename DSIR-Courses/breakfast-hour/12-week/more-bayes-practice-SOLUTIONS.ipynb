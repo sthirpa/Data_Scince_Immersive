{
 "cells": [
  {
   "cell_type": "markdown",
   "metadata": {},
   "source": [
    "<img src=\"http://imgur.com/1ZcRyrc.png\" style=\"float: left; margin: 20px; height: 55px\">\n",
    "\n",
    "# Intro to Bayes Theorem Practice\n",
    "_**Author**: Boom D. (DSI-NYC)_ \n",
    "***"
   ]
  },
  {
   "cell_type": "markdown",
   "metadata": {},
   "source": [
    "#### 1. Using your favorite example, explain what is Bayes Theorem?"
   ]
  },
  {
   "cell_type": "markdown",
   "metadata": {},
   "source": [
    "_**Answers may vary**_"
   ]
  },
  {
   "cell_type": "markdown",
   "metadata": {},
   "source": [
    "#### 2. Liver Disease\n",
    "\n",
    "You're a data scientist for NYU Langone. You're interested in finding out a patient's probability of having liver disease if they are an alcoholic.\n",
    "\n",
    "Based on past data, 10% of patients entering the clinic have liver disease. Approximately 5% of the clinic's patients are alcoholics. Among those patients diagnosed with liver disease, 7% are alcoholics.\n",
    "\n",
    "(a) If the patient is an alcoholic, what are their chances of having liver disease? 14% (see below) <br>\n",
    "(b) What piece is the prior probability? 10% <br>\n",
    "(c) What piece is the likelihood? 7% <br>\n",
    "(d) What piece is the marginal probability? 5% <br>\n",
    "(e) What piece is the posterior probability? 14% (see below) <br>"
   ]
  },
  {
   "cell_type": "markdown",
   "metadata": {},
   "source": [
    "**Answer:**\n",
    "$$P(L|A) = \\frac{P(L \\cap A)}{P(A)} = \\frac{P(A|L) \\cdot P(L)}{P(A)}$$\n",
    "\n",
    "From the info given,\n",
    "- $P(A|L) = 0.07$\n",
    "- $P(L) = 0.10$\n",
    "- $P(A) = 0.05$\n",
    "\n",
    "Therefore\n",
    "$$P(L|A) = \\frac{0.07 \\cdot 0.10}{0.05} = 0.14$$"
   ]
  },
  {
   "cell_type": "markdown",
   "metadata": {},
   "source": [
    "#### 3. Genetic Defects\n",
    "\n",
    "Suppose 1% of people have a certain genetic defect. 90% of tests for the gene actually detect the defect (true positives). 9.6% of the tests are false positives (false positive rate).\n",
    "\n",
    "If a person gets a positive test result, what is the probability that they actually have the genetic defect?"
   ]
  },
  {
   "cell_type": "markdown",
   "metadata": {},
   "source": [
    "**Answer:**\n",
    "\n",
    "$$P(D|Pos) = \\frac{P(Pos|D) \\cdot P(D)}{P(Pos)} = \\frac{P(Pos|D) \\cdot P(D)}{P(Pos|D) \\cdot P(D) + P(Pos|D') \\cdot P(D')}$$\n",
    "\n",
    "From the info given,\n",
    "- $P(D) = 0.01$ $\\Longrightarrow$ $P(D') = 1 - 0.01 = 0.99$\n",
    "- $P(Pos|D) = 0.9$\n",
    "- $P(Pos|D') = 0.096$\n",
    "\n",
    "Therefore\n",
    "$$P(D|Pos) = \\frac{0.9 \\cdot 0.01}{0.9 \\cdot 0.01 + 0.096 \\cdot 0.99} = 0.0865$$"
   ]
  },
  {
   "cell_type": "markdown",
   "metadata": {},
   "source": [
    "#### 4. Facebook Data Scientist Interview Question _(Challenge)_\n",
    "\n",
    "You're about to get on a plane to Seattle. You want to know  if you should bring an umbrella. You call 3 random friends of yours who live there and ask each independently if it's raining. Each of your friends has a $\\frac{2}{3}$ chance of telling you the truth and a $\\frac{1}{3}$ chance of messing with you by lying. All 3 friends tell you that \"Yes\" it is raining. Based on historical evidence, there is a 25% chance it is raining in any given time in Seattle. \n",
    "\n",
    "What is the probability that it's actually raining in Seattle right now (given that all 3 of your friends tell you 3 Yeses)?\n",
    "\n",
    "_You may assume that your friends are not colluding - some of them may be telling the truth, some of them could be lying, or all of them could be telling the truth, or all of them could be lying, etc._"
   ]
  },
  {
   "cell_type": "markdown",
   "metadata": {},
   "source": [
    "**Answer:**\n",
    "\n",
    "$$P(R|Y,Y,Y) = \\frac{P(Y,Y,Y|R) \\cdot P(R)}{P(Y,Y,Y)} = \\frac{P(Y,Y,Y|R) \\cdot P(R)}{P(Y,Y,Y|R) \\cdot P(R) + P(Y,Y,Y|R') \\cdot P(R')}$$\n",
    "\n",
    "From the info given,\n",
    "- $P(R) = \\frac{1}{4}$ $\\Longrightarrow$ $P(R') = 1 - \\frac{1}{4} = \\frac{3}{4}$\n",
    "- $P(Y,Y,Y|R) = P(Y|R) \\cdot P(Y|R) \\cdot P(Y|R) = (\\frac{2}{3})^3 = \\frac{8}{27}$\n",
    "- $P(Y,Y,Y|R') = P(Y|R') \\cdot P(Y|R') \\cdot P(Y|R') = (\\frac{1}{3})^3 = \\frac{1}{27}$\n",
    "\n",
    "Therefore\n",
    "$$P(R|Y,Y,Y) = \\frac{\\frac{8}{27} \\cdot \\frac{1}{4}}{\\frac{8}{27} \\cdot \\frac{1}{4} + \\frac{1}{27} \\cdot \\frac{3}{4}} = \\frac{8}{8+3} = \\frac{8}{11}$$"
   ]
  },
  {
   "cell_type": "markdown",
   "metadata": {},
   "source": [
    "_Source:_ Many of these problems are from [this website](https://www.statisticshowto.datasciencecentral.com/bayes-theorem-problems/) or GlassDoor"
   ]
  }
 ],
 "metadata": {
  "kernelspec": {
   "display_name": "Python 3",
   "language": "python",
   "name": "python3"
  },
  "language_info": {
   "codemirror_mode": {
    "name": "ipython",
    "version": 3
   },
   "file_extension": ".py",
   "mimetype": "text/x-python",
   "name": "python",
   "nbconvert_exporter": "python",
   "pygments_lexer": "ipython3",
   "version": "3.7.9"
  }
 },
 "nbformat": 4,
 "nbformat_minor": 4
}
