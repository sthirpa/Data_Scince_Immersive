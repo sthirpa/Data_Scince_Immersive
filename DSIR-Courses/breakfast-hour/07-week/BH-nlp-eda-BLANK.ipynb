{
 "cells": [
  {
   "cell_type": "markdown",
   "id": "766c4bae-bba5-49fb-9752-5a87106e089d",
   "metadata": {},
   "source": [
    "## Imports"
   ]
  },
  {
   "cell_type": "code",
   "execution_count": null,
   "id": "c8d8bbc0",
   "metadata": {},
   "outputs": [],
   "source": [
    "# Imports\n",
    "import pandas as pd\n",
    "import matplotlib.pyplot as plt\n",
    "import seaborn as sns\n",
    "\n",
    "from sklearn.feature_extraction.text import CountVectorizer"
   ]
  },
  {
   "cell_type": "markdown",
   "id": "4190c2fd-9d45-46ff-ab36-fb41799b53fc",
   "metadata": {},
   "source": [
    "## Read in the data"
   ]
  },
  {
   "cell_type": "code",
   "execution_count": null,
   "id": "dc31448f",
   "metadata": {},
   "outputs": [],
   "source": []
  },
  {
   "cell_type": "markdown",
   "id": "7af4e2fe-ebbf-4ac1-8b9e-3e7213fb66be",
   "metadata": {},
   "source": [
    "## Create a column with the length of each text"
   ]
  },
  {
   "cell_type": "code",
   "execution_count": null,
   "id": "854226e6",
   "metadata": {},
   "outputs": [],
   "source": []
  },
  {
   "cell_type": "markdown",
   "id": "339fccff-b7f9-4a94-ab3c-1937ecd30de8",
   "metadata": {},
   "source": [
    "## Create a column with word_count of each text"
   ]
  },
  {
   "cell_type": "code",
   "execution_count": null,
   "id": "2bc05ea6",
   "metadata": {},
   "outputs": [],
   "source": []
  },
  {
   "cell_type": "markdown",
   "id": "88a2c8b6-ef55-4e53-a4a9-6a90d11eddba",
   "metadata": {},
   "source": [
    "## Describe the data"
   ]
  },
  {
   "cell_type": "code",
   "execution_count": null,
   "id": "1c6bc485",
   "metadata": {},
   "outputs": [],
   "source": []
  },
  {
   "cell_type": "markdown",
   "id": "b72ad5b1-2688-4a58-9816-4b4cf0e02853",
   "metadata": {},
   "source": [
    "## Create a dataframe for each author"
   ]
  },
  {
   "cell_type": "code",
   "execution_count": null,
   "id": "2ce39ee2",
   "metadata": {},
   "outputs": [],
   "source": []
  },
  {
   "cell_type": "markdown",
   "id": "baab87ba-2638-45c6-b46c-36a4f5a733f7",
   "metadata": {},
   "source": [
    "## Plot the word counts of one author"
   ]
  },
  {
   "cell_type": "code",
   "execution_count": null,
   "id": "6dd5cb81",
   "metadata": {},
   "outputs": [],
   "source": []
  },
  {
   "cell_type": "markdown",
   "id": "0278fb10-e752-4fe6-afe5-08e9b0fb769c",
   "metadata": {},
   "source": [
    "## Vectorize the data"
   ]
  },
  {
   "cell_type": "code",
   "execution_count": null,
   "id": "5c1489d9-60b3-4e7b-8c98-22501e5fe2ae",
   "metadata": {},
   "outputs": [],
   "source": []
  },
  {
   "cell_type": "markdown",
   "id": "b1e6ba44-666f-4c87-b25c-c23afefbf888",
   "metadata": {},
   "source": [
    "## Plot the Most Frequently Occurring Words by Author"
   ]
  },
  {
   "cell_type": "code",
   "execution_count": null,
   "id": "6bbf6b39",
   "metadata": {},
   "outputs": [],
   "source": []
  },
  {
   "cell_type": "markdown",
   "id": "2bee8514-ba02-44b1-acf2-cd657529db12",
   "metadata": {},
   "source": [
    "## Vectorize and plot again but using 'english' stopwords"
   ]
  },
  {
   "cell_type": "code",
   "execution_count": null,
   "id": "dc682d58",
   "metadata": {},
   "outputs": [],
   "source": []
  },
  {
   "cell_type": "markdown",
   "id": "a465fa71-dee7-477c-9976-f9e4ba2d84e5",
   "metadata": {
    "tags": []
   },
   "source": [
    "## Vectorize and plot again but using 'english' stopwords and bigrams"
   ]
  },
  {
   "cell_type": "code",
   "execution_count": null,
   "id": "594b1d99",
   "metadata": {},
   "outputs": [],
   "source": []
  }
 ],
 "metadata": {
  "kernelspec": {
   "display_name": "Python 3 (ipykernel)",
   "language": "python",
   "name": "python3"
  },
  "language_info": {
   "codemirror_mode": {
    "name": "ipython",
    "version": 3
   },
   "file_extension": ".py",
   "mimetype": "text/x-python",
   "name": "python",
   "nbconvert_exporter": "python",
   "pygments_lexer": "ipython3",
   "version": "3.8.12"
  }
 },
 "nbformat": 4,
 "nbformat_minor": 5
}
