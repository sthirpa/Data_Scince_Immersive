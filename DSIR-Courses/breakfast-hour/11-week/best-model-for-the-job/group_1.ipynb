{
 "cells": [
  {
   "cell_type": "markdown",
   "metadata": {},
   "source": [
    "# Picking the Right Model for the Job\n",
    "\n",
    "*Author: Gwen Rathgeber*\n",
    "\n",
    "In this exercise, you will be presented with a business problem and asked to propose three models you feel would be well-suited to the task, and defend your answers. "
   ]
  },
  {
   "cell_type": "markdown",
   "metadata": {},
   "source": [
    "### Problem Statement\n",
    "\n",
    "Your team works at a small B2C EduTech startup looking to expand market share. The Marketing director has put together a database of existing customers as well as consumers who submitted information but did not convert to paying customers. They are looking to begin a paid advertising campaign to target new consumers, but want to understand the difference between successful and missed conversions. After your modeling is done you will be asked to present results to the marketing team that will help them pick the right new customers to target.\n",
    "\n",
    "What three models would you recommend to perform a binary classification task on this database, which consists of approximately 20,000 customers and 400,000 failed conversions?"
   ]
  },
  {
   "cell_type": "markdown",
   "metadata": {},
   "source": []
  },
  {
   "cell_type": "markdown",
   "metadata": {},
   "source": [
    "Please describe the strengths and weaknesses of each model with regard to this problem:"
   ]
  },
  {
   "cell_type": "markdown",
   "metadata": {},
   "source": []
  },
  {
   "cell_type": "markdown",
   "metadata": {},
   "source": [
    "If you have additional insights you feel would be important to highlight before initiating the project, elaborate here:"
   ]
  },
  {
   "cell_type": "markdown",
   "metadata": {},
   "source": []
  },
  {
   "cell_type": "markdown",
   "metadata": {},
   "source": [
    "### Problem Statement\n",
    "\n",
    "Your team works at a major casualty insurance company. You've been tasked by the director of the Underwriting division to create a model that will help underwriters triage fire insurance contracts by making a prediction, based on the insurance contract application, of the expected claim costs over the course of a contract. Due to extensive industry regulation and the fact that business may be rejected on the basis of your model, it must be possible to justify the model's predictions to regulators. The director would like a recommendation of three models and their relative pros and cons in the context of this business problem. \n",
    "\n",
    "What three models would you recommend to perform a supervised regression task on the available data, which includes approximately 80,000 historical contracts with 40 features and their total lifetime claims?"
   ]
  },
  {
   "cell_type": "markdown",
   "metadata": {},
   "source": []
  },
  {
   "cell_type": "markdown",
   "metadata": {},
   "source": [
    "Please describe the strengths and weaknesses of each model with regard to this problem:"
   ]
  },
  {
   "cell_type": "markdown",
   "metadata": {},
   "source": []
  },
  {
   "cell_type": "markdown",
   "metadata": {},
   "source": [
    "If you have additional insights you feel would be important to highlight before initiating the project, elaborate here:"
   ]
  },
  {
   "cell_type": "markdown",
   "metadata": {},
   "source": []
  }
 ],
 "metadata": {
  "kernelspec": {
   "display_name": "Python 3 (ipykernel)",
   "language": "python",
   "name": "python3"
  },
  "language_info": {
   "codemirror_mode": {
    "name": "ipython",
    "version": 3
   },
   "file_extension": ".py",
   "mimetype": "text/x-python",
   "name": "python",
   "nbconvert_exporter": "python",
   "pygments_lexer": "ipython3",
   "version": "3.8.12"
  }
 },
 "nbformat": 4,
 "nbformat_minor": 4
}
