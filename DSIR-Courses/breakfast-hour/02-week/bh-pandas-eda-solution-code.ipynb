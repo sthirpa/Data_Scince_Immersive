{
 "cells": [
  {
   "cell_type": "markdown",
   "metadata": {},
   "source": [
    "# Breakfast Hour: Pandas Review\n",
    "_Authors: Noah Christiansen & Kelly Slatery_"
   ]
  },
  {
   "cell_type": "markdown",
   "metadata": {},
   "source": [
    "#### 1. Explain the difference between a Series and a DataFrame."
   ]
  },
  {
   "cell_type": "raw",
   "metadata": {},
   "source": [
    "Answer: one column without column features (1D), multiple columns or one column but with df features (2D)"
   ]
  },
  {
   "cell_type": "markdown",
   "metadata": {},
   "source": [
    "#### 2.a. Read in the `penguins` dataset. Find out how many rows and columns there are, and look at the first 5 rows.\n",
    "_(**Hint**: what do you need to import?)_\n",
    "\n",
    "- PalmerPenguins dataset by Allison Horst: https://github.com/allisonhorst/palmerpenguins\n",
    "    - [Link to CSV](https://github.com/allisonhorst/palmerpenguins/blob/1a19e36ba583887a4630b1f821e3a53d5a4ffb76/data-raw/penguins_raw.csv)"
   ]
  },
  {
   "cell_type": "code",
   "execution_count": 130,
   "metadata": {},
   "outputs": [],
   "source": [
    "import numpy as np\n",
    "import pandas as pd\n",
    "import matplotlib.pyplot as plt\n",
    "import seaborn as sns"
   ]
  },
  {
   "cell_type": "code",
   "execution_count": 131,
   "metadata": {},
   "outputs": [
    {
     "data": {
      "text/plain": [
       "(344, 17)"
      ]
     },
     "execution_count": 131,
     "metadata": {},
     "output_type": "execute_result"
    }
   ],
   "source": [
    "df = pd.read_csv('penguins.csv')\n",
    "df.shape"
   ]
  },
  {
   "cell_type": "code",
   "execution_count": 132,
   "metadata": {},
   "outputs": [
    {
     "data": {
      "text/html": [
       "<div>\n",
       "<style scoped>\n",
       "    .dataframe tbody tr th:only-of-type {\n",
       "        vertical-align: middle;\n",
       "    }\n",
       "\n",
       "    .dataframe tbody tr th {\n",
       "        vertical-align: top;\n",
       "    }\n",
       "\n",
       "    .dataframe thead th {\n",
       "        text-align: right;\n",
       "    }\n",
       "</style>\n",
       "<table border=\"1\" class=\"dataframe\">\n",
       "  <thead>\n",
       "    <tr style=\"text-align: right;\">\n",
       "      <th></th>\n",
       "      <th>studyName</th>\n",
       "      <th>Sample Number</th>\n",
       "      <th>Species</th>\n",
       "      <th>Region</th>\n",
       "      <th>Island</th>\n",
       "      <th>Stage</th>\n",
       "      <th>Individual ID</th>\n",
       "      <th>Clutch Completion</th>\n",
       "      <th>Date Egg</th>\n",
       "      <th>Culmen Length (mm)</th>\n",
       "      <th>Culmen Depth (mm)</th>\n",
       "      <th>Flipper Length (mm)</th>\n",
       "      <th>Body Mass (g)</th>\n",
       "      <th>Sex</th>\n",
       "      <th>Delta 15 N (o/oo)</th>\n",
       "      <th>Delta 13 C (o/oo)</th>\n",
       "      <th>Comments</th>\n",
       "    </tr>\n",
       "  </thead>\n",
       "  <tbody>\n",
       "    <tr>\n",
       "      <th>0</th>\n",
       "      <td>PAL0708</td>\n",
       "      <td>1</td>\n",
       "      <td>Adelie Penguin (Pygoscelis adeliae)</td>\n",
       "      <td>Anvers</td>\n",
       "      <td>Torgersen</td>\n",
       "      <td>Adult, 1 Egg Stage</td>\n",
       "      <td>N1A1</td>\n",
       "      <td>Yes</td>\n",
       "      <td>2007-11-11</td>\n",
       "      <td>39.1</td>\n",
       "      <td>18.7</td>\n",
       "      <td>181.0</td>\n",
       "      <td>3750.0</td>\n",
       "      <td>MALE</td>\n",
       "      <td>NaN</td>\n",
       "      <td>NaN</td>\n",
       "      <td>Not enough blood for isotopes.</td>\n",
       "    </tr>\n",
       "    <tr>\n",
       "      <th>1</th>\n",
       "      <td>PAL0708</td>\n",
       "      <td>2</td>\n",
       "      <td>Adelie Penguin (Pygoscelis adeliae)</td>\n",
       "      <td>Anvers</td>\n",
       "      <td>Torgersen</td>\n",
       "      <td>Adult, 1 Egg Stage</td>\n",
       "      <td>N1A2</td>\n",
       "      <td>Yes</td>\n",
       "      <td>2007-11-11</td>\n",
       "      <td>39.5</td>\n",
       "      <td>17.4</td>\n",
       "      <td>186.0</td>\n",
       "      <td>3800.0</td>\n",
       "      <td>FEMALE</td>\n",
       "      <td>8.94956</td>\n",
       "      <td>-24.69454</td>\n",
       "      <td>NaN</td>\n",
       "    </tr>\n",
       "    <tr>\n",
       "      <th>2</th>\n",
       "      <td>PAL0708</td>\n",
       "      <td>3</td>\n",
       "      <td>Adelie Penguin (Pygoscelis adeliae)</td>\n",
       "      <td>Anvers</td>\n",
       "      <td>Torgersen</td>\n",
       "      <td>Adult, 1 Egg Stage</td>\n",
       "      <td>N2A1</td>\n",
       "      <td>Yes</td>\n",
       "      <td>2007-11-16</td>\n",
       "      <td>40.3</td>\n",
       "      <td>18.0</td>\n",
       "      <td>195.0</td>\n",
       "      <td>3250.0</td>\n",
       "      <td>FEMALE</td>\n",
       "      <td>8.36821</td>\n",
       "      <td>-25.33302</td>\n",
       "      <td>NaN</td>\n",
       "    </tr>\n",
       "    <tr>\n",
       "      <th>3</th>\n",
       "      <td>PAL0708</td>\n",
       "      <td>4</td>\n",
       "      <td>Adelie Penguin (Pygoscelis adeliae)</td>\n",
       "      <td>Anvers</td>\n",
       "      <td>Torgersen</td>\n",
       "      <td>Adult, 1 Egg Stage</td>\n",
       "      <td>N2A2</td>\n",
       "      <td>Yes</td>\n",
       "      <td>2007-11-16</td>\n",
       "      <td>NaN</td>\n",
       "      <td>NaN</td>\n",
       "      <td>NaN</td>\n",
       "      <td>NaN</td>\n",
       "      <td>NaN</td>\n",
       "      <td>NaN</td>\n",
       "      <td>NaN</td>\n",
       "      <td>Adult not sampled.</td>\n",
       "    </tr>\n",
       "    <tr>\n",
       "      <th>4</th>\n",
       "      <td>PAL0708</td>\n",
       "      <td>5</td>\n",
       "      <td>Adelie Penguin (Pygoscelis adeliae)</td>\n",
       "      <td>Anvers</td>\n",
       "      <td>Torgersen</td>\n",
       "      <td>Adult, 1 Egg Stage</td>\n",
       "      <td>N3A1</td>\n",
       "      <td>Yes</td>\n",
       "      <td>2007-11-16</td>\n",
       "      <td>36.7</td>\n",
       "      <td>19.3</td>\n",
       "      <td>193.0</td>\n",
       "      <td>3450.0</td>\n",
       "      <td>FEMALE</td>\n",
       "      <td>8.76651</td>\n",
       "      <td>-25.32426</td>\n",
       "      <td>NaN</td>\n",
       "    </tr>\n",
       "  </tbody>\n",
       "</table>\n",
       "</div>"
      ],
      "text/plain": [
       "  studyName  Sample Number                              Species  Region  \\\n",
       "0   PAL0708              1  Adelie Penguin (Pygoscelis adeliae)  Anvers   \n",
       "1   PAL0708              2  Adelie Penguin (Pygoscelis adeliae)  Anvers   \n",
       "2   PAL0708              3  Adelie Penguin (Pygoscelis adeliae)  Anvers   \n",
       "3   PAL0708              4  Adelie Penguin (Pygoscelis adeliae)  Anvers   \n",
       "4   PAL0708              5  Adelie Penguin (Pygoscelis adeliae)  Anvers   \n",
       "\n",
       "      Island               Stage Individual ID Clutch Completion    Date Egg  \\\n",
       "0  Torgersen  Adult, 1 Egg Stage          N1A1               Yes  2007-11-11   \n",
       "1  Torgersen  Adult, 1 Egg Stage          N1A2               Yes  2007-11-11   \n",
       "2  Torgersen  Adult, 1 Egg Stage          N2A1               Yes  2007-11-16   \n",
       "3  Torgersen  Adult, 1 Egg Stage          N2A2               Yes  2007-11-16   \n",
       "4  Torgersen  Adult, 1 Egg Stage          N3A1               Yes  2007-11-16   \n",
       "\n",
       "   Culmen Length (mm)  Culmen Depth (mm)  Flipper Length (mm)  Body Mass (g)  \\\n",
       "0                39.1               18.7                181.0         3750.0   \n",
       "1                39.5               17.4                186.0         3800.0   \n",
       "2                40.3               18.0                195.0         3250.0   \n",
       "3                 NaN                NaN                  NaN            NaN   \n",
       "4                36.7               19.3                193.0         3450.0   \n",
       "\n",
       "      Sex  Delta 15 N (o/oo)  Delta 13 C (o/oo)  \\\n",
       "0    MALE                NaN                NaN   \n",
       "1  FEMALE            8.94956          -24.69454   \n",
       "2  FEMALE            8.36821          -25.33302   \n",
       "3     NaN                NaN                NaN   \n",
       "4  FEMALE            8.76651          -25.32426   \n",
       "\n",
       "                         Comments  \n",
       "0  Not enough blood for isotopes.  \n",
       "1                             NaN  \n",
       "2                             NaN  \n",
       "3              Adult not sampled.  \n",
       "4                             NaN  "
      ]
     },
     "execution_count": 132,
     "metadata": {},
     "output_type": "execute_result"
    }
   ],
   "source": [
    "df.head()"
   ]
  },
  {
   "cell_type": "markdown",
   "metadata": {},
   "source": [
    "#### 2.b. Rename the columns to be all lowercase, and replace all spaces in column names with underscores (`_`)"
   ]
  },
  {
   "cell_type": "code",
   "execution_count": 133,
   "metadata": {},
   "outputs": [],
   "source": [
    "### Three Ways to Rename Columns (There may certainly be more)\n",
    "\n",
    "# df.columns = [col.replace(' ','_').lower() for col in df.columns]\n",
    "\n",
    "# df.columns = df.columns.str.replace(' ','_').str.lower()\n",
    "\n",
    "df.rename(columns = lambda x: x.replace(' ','_').lower(), inplace = True)"
   ]
  },
  {
   "cell_type": "markdown",
   "metadata": {},
   "source": [
    "#### 3.a. Find out how many null values are in each column of the dataset."
   ]
  },
  {
   "cell_type": "code",
   "execution_count": 134,
   "metadata": {},
   "outputs": [
    {
     "name": "stdout",
     "output_type": "stream",
     "text": [
      "<class 'pandas.core.frame.DataFrame'>\n",
      "RangeIndex: 344 entries, 0 to 343\n",
      "Data columns (total 17 columns):\n",
      " #   Column               Non-Null Count  Dtype  \n",
      "---  ------               --------------  -----  \n",
      " 0   studyname            344 non-null    object \n",
      " 1   sample_number        344 non-null    int64  \n",
      " 2   species              344 non-null    object \n",
      " 3   region               344 non-null    object \n",
      " 4   island               344 non-null    object \n",
      " 5   stage                344 non-null    object \n",
      " 6   individual_id        344 non-null    object \n",
      " 7   clutch_completion    344 non-null    object \n",
      " 8   date_egg             344 non-null    object \n",
      " 9   culmen_length_(mm)   342 non-null    float64\n",
      " 10  culmen_depth_(mm)    342 non-null    float64\n",
      " 11  flipper_length_(mm)  342 non-null    float64\n",
      " 12  body_mass_(g)        342 non-null    float64\n",
      " 13  sex                  334 non-null    object \n",
      " 14  delta_15_n_(o/oo)    330 non-null    float64\n",
      " 15  delta_13_c_(o/oo)    331 non-null    float64\n",
      " 16  comments             54 non-null     object \n",
      "dtypes: float64(6), int64(1), object(10)\n",
      "memory usage: 45.8+ KB\n"
     ]
    }
   ],
   "source": [
    "df.info()"
   ]
  },
  {
   "cell_type": "code",
   "execution_count": 135,
   "metadata": {},
   "outputs": [
    {
     "data": {
      "text/plain": [
       "studyname                0\n",
       "sample_number            0\n",
       "species                  0\n",
       "region                   0\n",
       "island                   0\n",
       "stage                    0\n",
       "individual_id            0\n",
       "clutch_completion        0\n",
       "date_egg                 0\n",
       "culmen_length_(mm)       2\n",
       "culmen_depth_(mm)        2\n",
       "flipper_length_(mm)      2\n",
       "body_mass_(g)            2\n",
       "sex                     10\n",
       "delta_15_n_(o/oo)       14\n",
       "delta_13_c_(o/oo)       13\n",
       "comments               290\n",
       "dtype: int64"
      ]
     },
     "execution_count": 135,
     "metadata": {},
     "output_type": "execute_result"
    }
   ],
   "source": [
    "df.isna().sum()"
   ]
  },
  {
   "cell_type": "markdown",
   "metadata": {},
   "source": [
    "#### 3.b.  Make a plot to visualize how many missing values are in each column."
   ]
  },
  {
   "cell_type": "code",
   "execution_count": 136,
   "metadata": {},
   "outputs": [
    {
     "data": {
      "image/png": "[encoded data removed]",
      "text/plain": [
       "<Figure size 720x432 with 1 Axes>"
      ]
     },
     "metadata": {},
     "output_type": "display_data"
    }
   ],
   "source": [
    "# Method 1: Using Pandas plotting methods with some matplotlib design\n",
    "\n",
    "plt.figure(figsize = (10,6), facecolor = 'lightsteelblue')\n",
    "df.isna().sum().plot(kind = 'barh', color = 'teal')\n",
    "\n",
    "plt.title('Number of Missing Values by Column', size = 16)\n",
    "plt.xlabel('Count', size = 12);"
   ]
  },
  {
   "cell_type": "markdown",
   "metadata": {},
   "source": [
    "#### 3.c. Drop the **column** with the most null values, then drop all remaining **rows** containing null values. How many rows are left in the dataset?"
   ]
  },
  {
   "cell_type": "code",
   "execution_count": 99,
   "metadata": {},
   "outputs": [],
   "source": [
    "df.drop(columns = ['comments'], inplace = True)"
   ]
  },
  {
   "cell_type": "code",
   "execution_count": 100,
   "metadata": {},
   "outputs": [],
   "source": [
    "df.dropna(inplace = True)"
   ]
  },
  {
   "cell_type": "code",
   "execution_count": 101,
   "metadata": {},
   "outputs": [
    {
     "data": {
      "text/plain": [
       "(325, 16)"
      ]
     },
     "execution_count": 101,
     "metadata": {},
     "output_type": "execute_result"
    }
   ],
   "source": [
    "df.shape"
   ]
  },
  {
   "cell_type": "markdown",
   "metadata": {},
   "source": [
    "#### 4.a How many species of penguins are in the dataset? How many of each are there?"
   ]
  },
  {
   "cell_type": "code",
   "execution_count": 137,
   "metadata": {},
   "outputs": [
    {
     "data": {
      "text/plain": [
       "Adelie Penguin (Pygoscelis adeliae)          152\n",
       "Gentoo penguin (Pygoscelis papua)            124\n",
       "Chinstrap penguin (Pygoscelis antarctica)     68\n",
       "Name: species, dtype: int64"
      ]
     },
     "execution_count": 137,
     "metadata": {},
     "output_type": "execute_result"
    }
   ],
   "source": [
    "df['species'].value_counts()"
   ]
  },
  {
   "cell_type": "markdown",
   "metadata": {},
   "source": [
    "#### 4.b. Plot `body mass` against `flipper length` for one species of penguin.\n",
    "*(Consider what type of plot would be best suited for this)*"
   ]
  },
  {
   "cell_type": "code",
   "execution_count": 150,
   "metadata": {},
   "outputs": [
    {
     "data": {
      "image/png": "[encoded data removed]",
      "text/plain": [
       "<Figure size 720x432 with 1 Axes>"
      ]
     },
     "metadata": {},
     "output_type": "display_data"
    }
   ],
   "source": [
    "adelie = df[df['species'] == 'Adelie Penguin (Pygoscelis adeliae)']\n",
    "\n",
    "plt.figure(figsize = (10,6), facecolor = 'beige')\n",
    "plt.scatter(adelie['flipper_length_(mm)'], adelie['body_mass_(g)'], color = 'crimson')\n",
    "plt.title('Adelie Flipper Length vs Body Mass', size = 16)\n",
    "plt.ylabel('Body Mass (g)')\n",
    "plt.xlabel('Flipper Length (mm)', size=12);"
   ]
  },
  {
   "cell_type": "code",
   "execution_count": 151,
   "metadata": {},
   "outputs": [
    {
     "data": {
      "image/png": "[encoded data removed]",
      "text/plain": [
       "<Figure size 720x432 with 1 Axes>"
      ]
     },
     "metadata": {},
     "output_type": "display_data"
    }
   ],
   "source": [
    "# Method 3: Object Oriented - Unpacking `.subplots()`\n",
    "\n",
    "## `plt.subplots()` returns a tuple that we can unpack as `fig` and `ax`\n",
    "## `fig` refers to the figure upon which we are plotting\n",
    "## `ax` refers to the plots themselves (axes)\n",
    "fig, ax = plt.subplots(figsize = (10, 6))\n",
    "\n",
    "## Here we can set the figure facecolor, this is the border of the plot\n",
    "fig.set_facecolor('lightsteelblue')\n",
    "\n",
    "ax.scatter(adelie['flipper_length_(mm)'], adelie['body_mass_(g)'], color = 'teal')\n",
    "\n",
    "## By using the `.set_facecolor()` method we can set the plot background color\n",
    "ax.set_facecolor('lightcyan')\n",
    "\n",
    "## Don't forget to label your plots!\n",
    "ax.set_title('Adelie Flipper Length vs Body Mass', size = 16)\n",
    "ax.set_ylabel('Body Mass (g)')\n",
    "ax.set_xlabel('Flipper Length (mm)', size=12);"
   ]
  },
  {
   "cell_type": "markdown",
   "metadata": {},
   "source": [
    "#### 4.c. Use Seaborn to make a scatter plot of `flipper length` against `body mass` colored by `island` (hint: check out the `hue` parameter)"
   ]
  },
  {
   "cell_type": "code",
   "execution_count": 153,
   "metadata": {},
   "outputs": [
    {
     "data": {
      "image/png": "[encoded data removed]",
      "text/plain": [
       "<Figure size 720x432 with 1 Axes>"
      ]
     },
     "metadata": {
      "needs_background": "light"
     },
     "output_type": "display_data"
    }
   ],
   "source": [
    "plt.figure(figsize = (10,6))\n",
    "sns.scatterplot(adelie['flipper_length_(mm)'], adelie['body_mass_(g)'], hue = adelie['island']);"
   ]
  },
  {
   "cell_type": "markdown",
   "metadata": {},
   "source": [
    "#### 5.a. Use groupby to find the **average and median** values **by species** for the following:\n",
    "- body mass\n",
    "- flipper length\n",
    "- culmen depth\n",
    "- culmen length"
   ]
  },
  {
   "cell_type": "code",
   "execution_count": 104,
   "metadata": {},
   "outputs": [
    {
     "data": {
      "text/html": [
       "<div>\n",
       "<style scoped>\n",
       "    .dataframe tbody tr th:only-of-type {\n",
       "        vertical-align: middle;\n",
       "    }\n",
       "\n",
       "    .dataframe tbody tr th {\n",
       "        vertical-align: top;\n",
       "    }\n",
       "\n",
       "    .dataframe thead tr th {\n",
       "        text-align: left;\n",
       "    }\n",
       "\n",
       "    .dataframe thead tr:last-of-type th {\n",
       "        text-align: right;\n",
       "    }\n",
       "</style>\n",
       "<table border=\"1\" class=\"dataframe\">\n",
       "  <thead>\n",
       "    <tr>\n",
       "      <th></th>\n",
       "      <th colspan=\"2\" halign=\"left\">body_mass_(g)</th>\n",
       "      <th colspan=\"2\" halign=\"left\">flipper_length_(mm)</th>\n",
       "      <th colspan=\"2\" halign=\"left\">culmen_depth_(mm)</th>\n",
       "      <th colspan=\"2\" halign=\"left\">culmen_length_(mm)</th>\n",
       "    </tr>\n",
       "    <tr>\n",
       "      <th></th>\n",
       "      <th>mean</th>\n",
       "      <th>median</th>\n",
       "      <th>mean</th>\n",
       "      <th>median</th>\n",
       "      <th>mean</th>\n",
       "      <th>median</th>\n",
       "      <th>mean</th>\n",
       "      <th>median</th>\n",
       "    </tr>\n",
       "    <tr>\n",
       "      <th>species</th>\n",
       "      <th></th>\n",
       "      <th></th>\n",
       "      <th></th>\n",
       "      <th></th>\n",
       "      <th></th>\n",
       "      <th></th>\n",
       "      <th></th>\n",
       "      <th></th>\n",
       "    </tr>\n",
       "  </thead>\n",
       "  <tbody>\n",
       "    <tr>\n",
       "      <th>Adelie Penguin (Pygoscelis adeliae)</th>\n",
       "      <td>3702.697842</td>\n",
       "      <td>3700.0</td>\n",
       "      <td>190.323741</td>\n",
       "      <td>190.0</td>\n",
       "      <td>18.323022</td>\n",
       "      <td>18.4</td>\n",
       "      <td>38.785612</td>\n",
       "      <td>38.8</td>\n",
       "    </tr>\n",
       "    <tr>\n",
       "      <th>Chinstrap penguin (Pygoscelis antarctica)</th>\n",
       "      <td>3729.850746</td>\n",
       "      <td>3700.0</td>\n",
       "      <td>195.671642</td>\n",
       "      <td>196.0</td>\n",
       "      <td>18.404478</td>\n",
       "      <td>18.4</td>\n",
       "      <td>48.788060</td>\n",
       "      <td>49.5</td>\n",
       "    </tr>\n",
       "    <tr>\n",
       "      <th>Gentoo penguin (Pygoscelis papua)</th>\n",
       "      <td>5089.285714</td>\n",
       "      <td>5050.0</td>\n",
       "      <td>217.193277</td>\n",
       "      <td>216.0</td>\n",
       "      <td>15.000000</td>\n",
       "      <td>15.0</td>\n",
       "      <td>47.544538</td>\n",
       "      <td>47.4</td>\n",
       "    </tr>\n",
       "  </tbody>\n",
       "</table>\n",
       "</div>"
      ],
      "text/plain": [
       "                                          body_mass_(g)          \\\n",
       "                                                   mean  median   \n",
       "species                                                           \n",
       "Adelie Penguin (Pygoscelis adeliae)         3702.697842  3700.0   \n",
       "Chinstrap penguin (Pygoscelis antarctica)   3729.850746  3700.0   \n",
       "Gentoo penguin (Pygoscelis papua)           5089.285714  5050.0   \n",
       "\n",
       "                                          flipper_length_(mm)         \\\n",
       "                                                         mean median   \n",
       "species                                                                \n",
       "Adelie Penguin (Pygoscelis adeliae)                190.323741  190.0   \n",
       "Chinstrap penguin (Pygoscelis antarctica)          195.671642  196.0   \n",
       "Gentoo penguin (Pygoscelis papua)                  217.193277  216.0   \n",
       "\n",
       "                                          culmen_depth_(mm)         \\\n",
       "                                                       mean median   \n",
       "species                                                              \n",
       "Adelie Penguin (Pygoscelis adeliae)               18.323022   18.4   \n",
       "Chinstrap penguin (Pygoscelis antarctica)         18.404478   18.4   \n",
       "Gentoo penguin (Pygoscelis papua)                 15.000000   15.0   \n",
       "\n",
       "                                          culmen_length_(mm)         \n",
       "                                                        mean median  \n",
       "species                                                              \n",
       "Adelie Penguin (Pygoscelis adeliae)                38.785612   38.8  \n",
       "Chinstrap penguin (Pygoscelis antarctica)          48.788060   49.5  \n",
       "Gentoo penguin (Pygoscelis papua)                  47.544538   47.4  "
      ]
     },
     "execution_count": 104,
     "metadata": {},
     "output_type": "execute_result"
    }
   ],
   "source": [
    "df.groupby(by = 'species')[['body_mass_(g)','flipper_length_(mm)',\n",
    "                            'culmen_depth_(mm)', 'culmen_length_(mm)']].agg(['mean','median'])"
   ]
  },
  {
   "cell_type": "markdown",
   "metadata": {},
   "source": [
    "#### 5.b. Use groupby to find the **average** values **by species and island** for the following:\n",
    "- body mass\n",
    "- flipper length\n",
    "- culmen depth\n",
    "- culmen length"
   ]
  },
  {
   "cell_type": "code",
   "execution_count": 103,
   "metadata": {},
   "outputs": [
    {
     "data": {
      "text/html": [
       "<div>\n",
       "<style scoped>\n",
       "    .dataframe tbody tr th:only-of-type {\n",
       "        vertical-align: middle;\n",
       "    }\n",
       "\n",
       "    .dataframe tbody tr th {\n",
       "        vertical-align: top;\n",
       "    }\n",
       "\n",
       "    .dataframe thead th {\n",
       "        text-align: right;\n",
       "    }\n",
       "</style>\n",
       "<table border=\"1\" class=\"dataframe\">\n",
       "  <thead>\n",
       "    <tr style=\"text-align: right;\">\n",
       "      <th></th>\n",
       "      <th></th>\n",
       "      <th>body_mass_(g)</th>\n",
       "      <th>flipper_length_(mm)</th>\n",
       "      <th>culmen_depth_(mm)</th>\n",
       "      <th>culmen_length_(mm)</th>\n",
       "    </tr>\n",
       "    <tr>\n",
       "      <th>island</th>\n",
       "      <th>species</th>\n",
       "      <th></th>\n",
       "      <th></th>\n",
       "      <th></th>\n",
       "      <th></th>\n",
       "    </tr>\n",
       "  </thead>\n",
       "  <tbody>\n",
       "    <tr>\n",
       "      <th rowspan=\"2\" valign=\"top\">Biscoe</th>\n",
       "      <th>Adelie Penguin (Pygoscelis adeliae)</th>\n",
       "      <td>3709.659091</td>\n",
       "      <td>188.795455</td>\n",
       "      <td>18.370455</td>\n",
       "      <td>38.975000</td>\n",
       "    </tr>\n",
       "    <tr>\n",
       "      <th>Gentoo penguin (Pygoscelis papua)</th>\n",
       "      <td>5089.285714</td>\n",
       "      <td>217.193277</td>\n",
       "      <td>15.000000</td>\n",
       "      <td>47.544538</td>\n",
       "    </tr>\n",
       "    <tr>\n",
       "      <th rowspan=\"2\" valign=\"top\">Dream</th>\n",
       "      <th>Adelie Penguin (Pygoscelis adeliae)</th>\n",
       "      <td>3684.615385</td>\n",
       "      <td>190.096154</td>\n",
       "      <td>18.205769</td>\n",
       "      <td>38.401923</td>\n",
       "    </tr>\n",
       "    <tr>\n",
       "      <th>Chinstrap penguin (Pygoscelis antarctica)</th>\n",
       "      <td>3729.850746</td>\n",
       "      <td>195.671642</td>\n",
       "      <td>18.404478</td>\n",
       "      <td>48.788060</td>\n",
       "    </tr>\n",
       "    <tr>\n",
       "      <th>Torgersen</th>\n",
       "      <th>Adelie Penguin (Pygoscelis adeliae)</th>\n",
       "      <td>3717.441860</td>\n",
       "      <td>192.162791</td>\n",
       "      <td>18.416279</td>\n",
       "      <td>39.055814</td>\n",
       "    </tr>\n",
       "  </tbody>\n",
       "</table>\n",
       "</div>"
      ],
      "text/plain": [
       "                                                     body_mass_(g)  \\\n",
       "island    species                                                    \n",
       "Biscoe    Adelie Penguin (Pygoscelis adeliae)          3709.659091   \n",
       "          Gentoo penguin (Pygoscelis papua)            5089.285714   \n",
       "Dream     Adelie Penguin (Pygoscelis adeliae)          3684.615385   \n",
       "          Chinstrap penguin (Pygoscelis antarctica)    3729.850746   \n",
       "Torgersen Adelie Penguin (Pygoscelis adeliae)          3717.441860   \n",
       "\n",
       "                                                     flipper_length_(mm)  \\\n",
       "island    species                                                          \n",
       "Biscoe    Adelie Penguin (Pygoscelis adeliae)                 188.795455   \n",
       "          Gentoo penguin (Pygoscelis papua)                   217.193277   \n",
       "Dream     Adelie Penguin (Pygoscelis adeliae)                 190.096154   \n",
       "          Chinstrap penguin (Pygoscelis antarctica)           195.671642   \n",
       "Torgersen Adelie Penguin (Pygoscelis adeliae)                 192.162791   \n",
       "\n",
       "                                                     culmen_depth_(mm)  \\\n",
       "island    species                                                        \n",
       "Biscoe    Adelie Penguin (Pygoscelis adeliae)                18.370455   \n",
       "          Gentoo penguin (Pygoscelis papua)                  15.000000   \n",
       "Dream     Adelie Penguin (Pygoscelis adeliae)                18.205769   \n",
       "          Chinstrap penguin (Pygoscelis antarctica)          18.404478   \n",
       "Torgersen Adelie Penguin (Pygoscelis adeliae)                18.416279   \n",
       "\n",
       "                                                     culmen_length_(mm)  \n",
       "island    species                                                        \n",
       "Biscoe    Adelie Penguin (Pygoscelis adeliae)                 38.975000  \n",
       "          Gentoo penguin (Pygoscelis papua)                   47.544538  \n",
       "Dream     Adelie Penguin (Pygoscelis adeliae)                 38.401923  \n",
       "          Chinstrap penguin (Pygoscelis antarctica)           48.788060  \n",
       "Torgersen Adelie Penguin (Pygoscelis adeliae)                 39.055814  "
      ]
     },
     "execution_count": 103,
     "metadata": {},
     "output_type": "execute_result"
    }
   ],
   "source": [
    "df.groupby(by = ['island','species'])[['body_mass_(g)','flipper_length_(mm)',\n",
    "                            'culmen_depth_(mm)', 'culmen_length_(mm)']].mean()"
   ]
  },
  {
   "cell_type": "code",
   "execution_count": 106,
   "metadata": {},
   "outputs": [],
   "source": [
    "def split_apply_combine(df, grouping_columns, analysis_columns, functions):\n",
    "    return df.groupby(grouping_columns)[analysis_columns].agg(functions)"
   ]
  },
  {
   "cell_type": "code",
   "execution_count": 108,
   "metadata": {},
   "outputs": [
    {
     "data": {
      "text/html": [
       "<div>\n",
       "<style scoped>\n",
       "    .dataframe tbody tr th:only-of-type {\n",
       "        vertical-align: middle;\n",
       "    }\n",
       "\n",
       "    .dataframe tbody tr th {\n",
       "        vertical-align: top;\n",
       "    }\n",
       "\n",
       "    .dataframe thead tr th {\n",
       "        text-align: left;\n",
       "    }\n",
       "\n",
       "    .dataframe thead tr:last-of-type th {\n",
       "        text-align: right;\n",
       "    }\n",
       "</style>\n",
       "<table border=\"1\" class=\"dataframe\">\n",
       "  <thead>\n",
       "    <tr>\n",
       "      <th></th>\n",
       "      <th></th>\n",
       "      <th colspan=\"3\" halign=\"left\">body_mass_(g)</th>\n",
       "      <th colspan=\"3\" halign=\"left\">flipper_length_(mm)</th>\n",
       "    </tr>\n",
       "    <tr>\n",
       "      <th></th>\n",
       "      <th></th>\n",
       "      <th>mean</th>\n",
       "      <th>median</th>\n",
       "      <th>count</th>\n",
       "      <th>mean</th>\n",
       "      <th>median</th>\n",
       "      <th>count</th>\n",
       "    </tr>\n",
       "    <tr>\n",
       "      <th>species</th>\n",
       "      <th>sex</th>\n",
       "      <th></th>\n",
       "      <th></th>\n",
       "      <th></th>\n",
       "      <th></th>\n",
       "      <th></th>\n",
       "      <th></th>\n",
       "    </tr>\n",
       "  </thead>\n",
       "  <tbody>\n",
       "    <tr>\n",
       "      <th rowspan=\"2\" valign=\"top\">Adelie Penguin (Pygoscelis adeliae)</th>\n",
       "      <th>FEMALE</th>\n",
       "      <td>3366.549296</td>\n",
       "      <td>3400.0</td>\n",
       "      <td>71</td>\n",
       "      <td>187.915493</td>\n",
       "      <td>188.0</td>\n",
       "      <td>71</td>\n",
       "    </tr>\n",
       "    <tr>\n",
       "      <th>MALE</th>\n",
       "      <td>4053.676471</td>\n",
       "      <td>4000.0</td>\n",
       "      <td>68</td>\n",
       "      <td>192.838235</td>\n",
       "      <td>193.0</td>\n",
       "      <td>68</td>\n",
       "    </tr>\n",
       "    <tr>\n",
       "      <th rowspan=\"2\" valign=\"top\">Chinstrap penguin (Pygoscelis antarctica)</th>\n",
       "      <th>FEMALE</th>\n",
       "      <td>3527.205882</td>\n",
       "      <td>3550.0</td>\n",
       "      <td>34</td>\n",
       "      <td>191.735294</td>\n",
       "      <td>192.0</td>\n",
       "      <td>34</td>\n",
       "    </tr>\n",
       "    <tr>\n",
       "      <th>MALE</th>\n",
       "      <td>3938.636364</td>\n",
       "      <td>3950.0</td>\n",
       "      <td>33</td>\n",
       "      <td>199.727273</td>\n",
       "      <td>200.0</td>\n",
       "      <td>33</td>\n",
       "    </tr>\n",
       "    <tr>\n",
       "      <th rowspan=\"3\" valign=\"top\">Gentoo penguin (Pygoscelis papua)</th>\n",
       "      <th>.</th>\n",
       "      <td>4875.000000</td>\n",
       "      <td>4875.0</td>\n",
       "      <td>1</td>\n",
       "      <td>217.000000</td>\n",
       "      <td>217.0</td>\n",
       "      <td>1</td>\n",
       "    </tr>\n",
       "    <tr>\n",
       "      <th>FEMALE</th>\n",
       "      <td>4679.741379</td>\n",
       "      <td>4700.0</td>\n",
       "      <td>58</td>\n",
       "      <td>212.706897</td>\n",
       "      <td>212.0</td>\n",
       "      <td>58</td>\n",
       "    </tr>\n",
       "    <tr>\n",
       "      <th>MALE</th>\n",
       "      <td>5488.750000</td>\n",
       "      <td>5500.0</td>\n",
       "      <td>60</td>\n",
       "      <td>221.533333</td>\n",
       "      <td>221.0</td>\n",
       "      <td>60</td>\n",
       "    </tr>\n",
       "  </tbody>\n",
       "</table>\n",
       "</div>"
      ],
      "text/plain": [
       "                                                 body_mass_(g)                \\\n",
       "                                                          mean  median count   \n",
       "species                                   sex                                  \n",
       "Adelie Penguin (Pygoscelis adeliae)       FEMALE   3366.549296  3400.0    71   \n",
       "                                          MALE     4053.676471  4000.0    68   \n",
       "Chinstrap penguin (Pygoscelis antarctica) FEMALE   3527.205882  3550.0    34   \n",
       "                                          MALE     3938.636364  3950.0    33   \n",
       "Gentoo penguin (Pygoscelis papua)         .        4875.000000  4875.0     1   \n",
       "                                          FEMALE   4679.741379  4700.0    58   \n",
       "                                          MALE     5488.750000  5500.0    60   \n",
       "\n",
       "                                                 flipper_length_(mm)         \\\n",
       "                                                                mean median   \n",
       "species                                   sex                                 \n",
       "Adelie Penguin (Pygoscelis adeliae)       FEMALE          187.915493  188.0   \n",
       "                                          MALE            192.838235  193.0   \n",
       "Chinstrap penguin (Pygoscelis antarctica) FEMALE          191.735294  192.0   \n",
       "                                          MALE            199.727273  200.0   \n",
       "Gentoo penguin (Pygoscelis papua)         .               217.000000  217.0   \n",
       "                                          FEMALE          212.706897  212.0   \n",
       "                                          MALE            221.533333  221.0   \n",
       "\n",
       "                                                        \n",
       "                                                 count  \n",
       "species                                   sex           \n",
       "Adelie Penguin (Pygoscelis adeliae)       FEMALE    71  \n",
       "                                          MALE      68  \n",
       "Chinstrap penguin (Pygoscelis antarctica) FEMALE    34  \n",
       "                                          MALE      33  \n",
       "Gentoo penguin (Pygoscelis papua)         .          1  \n",
       "                                          FEMALE    58  \n",
       "                                          MALE      60  "
      ]
     },
     "execution_count": 108,
     "metadata": {},
     "output_type": "execute_result"
    }
   ],
   "source": [
    "split_apply_combine(df = df,\n",
    "                    grouping_columns = ['species','sex'],\n",
    "                    analysis_columns = ['body_mass_(g)','flipper_length_(mm)'],\n",
    "                    functions = ['mean', 'median','count'])"
   ]
  }
 ],
 "metadata": {
  "kernelspec": {
   "display_name": "Python 3 (ipykernel)",
   "language": "python",
   "name": "python3"
  },
  "language_info": {
   "codemirror_mode": {
    "name": "ipython",
    "version": 3
   },
   "file_extension": ".py",
   "mimetype": "text/x-python",
   "name": "python",
   "nbconvert_exporter": "python",
   "pygments_lexer": "ipython3",
   "version": "3.8.12"
  }
 },
 "nbformat": 4,
 "nbformat_minor": 4
}
