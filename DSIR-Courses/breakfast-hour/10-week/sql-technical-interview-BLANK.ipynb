{
 "cells": [
  {
   "cell_type": "markdown",
   "metadata": {},
   "source": [
    "# DSIR SQL Technical Interview Practice\n",
    "-----\n",
    "Questions from an undisclosed company’s technical interview for “Business Intelligence Manager”, courtesy of a DSI alumn  \n",
    "Solutions by: Kelly Slatery"
   ]
  },
  {
   "cell_type": "code",
   "execution_count": 2,
   "metadata": {},
   "outputs": [],
   "source": [
    "import pandas as pd\n",
    "from pandasql import sqldf"
   ]
  },
  {
   "cell_type": "markdown",
   "metadata": {},
   "source": [
    "## Tables"
   ]
  },
  {
   "cell_type": "code",
   "execution_count": 3,
   "metadata": {},
   "outputs": [],
   "source": [
    "EMPLOYEE = pd.DataFrame({\n",
    "    'EMPLOYEE_ID': [601, 602, 603, 604, 605, 606],\n",
    "    'FIRSTNAME': ['John', 'Bill', 'Mark', 'Lynda', 'Abby', 'Alex'],\n",
    "    'LASTNAME': ['Smith', 'Wright', 'Jones', 'Rossi', 'Azuelo', 'Garcia'],\n",
    "    'LOCATION' : ['Atlanta', 'Houston', 'Boston', 'Atlanta', 'Dallas', 'Dallas'],\n",
    "    'TITLE' : ['Executive', 'Lead', 'Executive', 'Manager', 'Associate', 'Associate']    \n",
    "})"
   ]
  },
  {
   "cell_type": "code",
   "execution_count": 4,
   "metadata": {},
   "outputs": [],
   "source": [
    "COMPENSATION = pd.DataFrame({\n",
    "    'EMPLOYEE_ID': [601, 602, 603, 604, 605, 606],\n",
    "    'SALARY' : [50000, 30000, 45000, 40000, 25000, 25000],\n",
    "    'BONUS' : [5000, 3000, 4000, 4000, 0, 0],\n",
    "    'ANNUAL_PTO_DAYS' : [20, 14, 20, 16, 10, 10],\n",
    "    'RETIRE_MATCHING' : ['Y', 'N', 'Y', 'Y', 'N', 'N']    \n",
    "})"
   ]
  },
  {
   "cell_type": "code",
   "execution_count": 5,
   "metadata": {},
   "outputs": [
    {
     "data": {
      "text/html": [
       "<div>\n",
       "<style scoped>\n",
       "    .dataframe tbody tr th:only-of-type {\n",
       "        vertical-align: middle;\n",
       "    }\n",
       "\n",
       "    .dataframe tbody tr th {\n",
       "        vertical-align: top;\n",
       "    }\n",
       "\n",
       "    .dataframe thead th {\n",
       "        text-align: right;\n",
       "    }\n",
       "</style>\n",
       "<table border=\"1\" class=\"dataframe\">\n",
       "  <thead>\n",
       "    <tr style=\"text-align: right;\">\n",
       "      <th></th>\n",
       "      <th>EMPLOYEE_ID</th>\n",
       "      <th>FIRSTNAME</th>\n",
       "      <th>LASTNAME</th>\n",
       "      <th>LOCATION</th>\n",
       "      <th>TITLE</th>\n",
       "    </tr>\n",
       "  </thead>\n",
       "  <tbody>\n",
       "    <tr>\n",
       "      <th>0</th>\n",
       "      <td>601</td>\n",
       "      <td>John</td>\n",
       "      <td>Smith</td>\n",
       "      <td>Atlanta</td>\n",
       "      <td>Executive</td>\n",
       "    </tr>\n",
       "    <tr>\n",
       "      <th>1</th>\n",
       "      <td>602</td>\n",
       "      <td>Bill</td>\n",
       "      <td>Wright</td>\n",
       "      <td>Houston</td>\n",
       "      <td>Lead</td>\n",
       "    </tr>\n",
       "    <tr>\n",
       "      <th>2</th>\n",
       "      <td>603</td>\n",
       "      <td>Mark</td>\n",
       "      <td>Jones</td>\n",
       "      <td>Boston</td>\n",
       "      <td>Executive</td>\n",
       "    </tr>\n",
       "    <tr>\n",
       "      <th>3</th>\n",
       "      <td>604</td>\n",
       "      <td>Lynda</td>\n",
       "      <td>Rossi</td>\n",
       "      <td>Atlanta</td>\n",
       "      <td>Manager</td>\n",
       "    </tr>\n",
       "    <tr>\n",
       "      <th>4</th>\n",
       "      <td>605</td>\n",
       "      <td>Abby</td>\n",
       "      <td>Azuelo</td>\n",
       "      <td>Dallas</td>\n",
       "      <td>Associate</td>\n",
       "    </tr>\n",
       "    <tr>\n",
       "      <th>5</th>\n",
       "      <td>606</td>\n",
       "      <td>Alex</td>\n",
       "      <td>Garcia</td>\n",
       "      <td>Dallas</td>\n",
       "      <td>Associate</td>\n",
       "    </tr>\n",
       "  </tbody>\n",
       "</table>\n",
       "</div>"
      ],
      "text/plain": [
       "   EMPLOYEE_ID FIRSTNAME LASTNAME LOCATION      TITLE\n",
       "0          601      John    Smith  Atlanta  Executive\n",
       "1          602      Bill   Wright  Houston       Lead\n",
       "2          603      Mark    Jones   Boston  Executive\n",
       "3          604     Lynda    Rossi  Atlanta    Manager\n",
       "4          605      Abby   Azuelo   Dallas  Associate\n",
       "5          606      Alex   Garcia   Dallas  Associate"
      ]
     },
     "execution_count": 5,
     "metadata": {},
     "output_type": "execute_result"
    }
   ],
   "source": [
    "EMPLOYEE"
   ]
  },
  {
   "cell_type": "code",
   "execution_count": 6,
   "metadata": {},
   "outputs": [
    {
     "data": {
      "text/html": [
       "<div>\n",
       "<style scoped>\n",
       "    .dataframe tbody tr th:only-of-type {\n",
       "        vertical-align: middle;\n",
       "    }\n",
       "\n",
       "    .dataframe tbody tr th {\n",
       "        vertical-align: top;\n",
       "    }\n",
       "\n",
       "    .dataframe thead th {\n",
       "        text-align: right;\n",
       "    }\n",
       "</style>\n",
       "<table border=\"1\" class=\"dataframe\">\n",
       "  <thead>\n",
       "    <tr style=\"text-align: right;\">\n",
       "      <th></th>\n",
       "      <th>EMPLOYEE_ID</th>\n",
       "      <th>SALARY</th>\n",
       "      <th>BONUS</th>\n",
       "      <th>ANNUAL_PTO_DAYS</th>\n",
       "      <th>RETIRE_MATCHING</th>\n",
       "    </tr>\n",
       "  </thead>\n",
       "  <tbody>\n",
       "    <tr>\n",
       "      <th>0</th>\n",
       "      <td>601</td>\n",
       "      <td>50000</td>\n",
       "      <td>5000</td>\n",
       "      <td>20</td>\n",
       "      <td>Y</td>\n",
       "    </tr>\n",
       "    <tr>\n",
       "      <th>1</th>\n",
       "      <td>602</td>\n",
       "      <td>30000</td>\n",
       "      <td>3000</td>\n",
       "      <td>14</td>\n",
       "      <td>N</td>\n",
       "    </tr>\n",
       "    <tr>\n",
       "      <th>2</th>\n",
       "      <td>603</td>\n",
       "      <td>45000</td>\n",
       "      <td>4000</td>\n",
       "      <td>20</td>\n",
       "      <td>Y</td>\n",
       "    </tr>\n",
       "    <tr>\n",
       "      <th>3</th>\n",
       "      <td>604</td>\n",
       "      <td>40000</td>\n",
       "      <td>4000</td>\n",
       "      <td>16</td>\n",
       "      <td>Y</td>\n",
       "    </tr>\n",
       "    <tr>\n",
       "      <th>4</th>\n",
       "      <td>605</td>\n",
       "      <td>25000</td>\n",
       "      <td>0</td>\n",
       "      <td>10</td>\n",
       "      <td>N</td>\n",
       "    </tr>\n",
       "    <tr>\n",
       "      <th>5</th>\n",
       "      <td>606</td>\n",
       "      <td>25000</td>\n",
       "      <td>0</td>\n",
       "      <td>10</td>\n",
       "      <td>N</td>\n",
       "    </tr>\n",
       "  </tbody>\n",
       "</table>\n",
       "</div>"
      ],
      "text/plain": [
       "   EMPLOYEE_ID  SALARY  BONUS  ANNUAL_PTO_DAYS RETIRE_MATCHING\n",
       "0          601   50000   5000               20               Y\n",
       "1          602   30000   3000               14               N\n",
       "2          603   45000   4000               20               Y\n",
       "3          604   40000   4000               16               Y\n",
       "4          605   25000      0               10               N\n",
       "5          606   25000      0               10               N"
      ]
     },
     "execution_count": 6,
     "metadata": {},
     "output_type": "execute_result"
    }
   ],
   "source": [
    "COMPENSATION"
   ]
  },
  {
   "cell_type": "markdown",
   "metadata": {},
   "source": [
    "## Queries"
   ]
  },
  {
   "cell_type": "markdown",
   "metadata": {},
   "source": [
    "#### 1. Using the employee and the compensation tables above – write a query that will provide a count of non-executive employees by the RETIRE_MATCHING column."
   ]
  },
  {
   "cell_type": "code",
   "execution_count": null,
   "metadata": {},
   "outputs": [],
   "source": [
    "sql = \"\"\"\n",
    "\n",
    "\"\"\"\n",
    "\n",
    "df = sqldf(sql)\n",
    "df.head()"
   ]
  },
  {
   "cell_type": "markdown",
   "metadata": {},
   "source": [
    "#### 2. Write a SQL Query To Fetch Unique Values Of TITLE From EMPLOYEE Table.  "
   ]
  },
  {
   "cell_type": "code",
   "execution_count": null,
   "metadata": {},
   "outputs": [],
   "source": [
    "sql = \"\"\"\n",
    "\n",
    "\"\"\"\n",
    "\n",
    "df = sqldf(sql)\n",
    "df.head()"
   ]
  },
  {
   "cell_type": "markdown",
   "metadata": {},
   "source": [
    "#### 3. List the 4 types of joins and basic description of each."
   ]
  },
  {
   "cell_type": "markdown",
   "metadata": {},
   "source": []
  },
  {
   "cell_type": "markdown",
   "metadata": {},
   "source": [
    "#### 4.  Using the query below answer the following questions about the result set:\n",
    "```\n",
    "SELECT E.LOCATION, SUM(C.SALARY) AS SALARY\n",
    "FROM EMPLOYEE E\n",
    ",COMPENSATION C\n",
    "WHERE E.EMPLOYEE_ID = C.EMPLOYEE_ID\n",
    "AND E.TITLE <> ‘EXECUTIVE’\n",
    "GROUP BY E.LOCATION\n",
    "```\n",
    " \n",
    "- What is the resulting sum of Salary for Atlanta?\n",
    "- How many total columns are returned?\n"
   ]
  },
  {
   "cell_type": "markdown",
   "metadata": {},
   "source": []
  },
  {
   "cell_type": "markdown",
   "metadata": {},
   "source": [
    "#### 5. Write a SQL query to return the employee first and lastname with the same salary (without hard coding the salary amount).  "
   ]
  },
  {
   "cell_type": "code",
   "execution_count": null,
   "metadata": {},
   "outputs": [],
   "source": [
    "sql = \"\"\"\n",
    "\n",
    "\"\"\"\n",
    "\n",
    "df = sqldf(sql)\n",
    "df.head()"
   ]
  },
  {
   "cell_type": "markdown",
   "metadata": {},
   "source": [
    "#### 6. Write a SQL query to return employees firstname, title, and location - whose SALARY lies between (inclusive) 30000 and 45000.\n"
   ]
  },
  {
   "cell_type": "code",
   "execution_count": null,
   "metadata": {},
   "outputs": [],
   "source": [
    "sql = \"\"\"\n",
    "\n",
    "\"\"\"\n",
    "\n",
    "df = sqldf(sql)\n",
    "df.head()"
   ]
  },
  {
   "cell_type": "code",
   "execution_count": null,
   "metadata": {},
   "outputs": [],
   "source": []
  }
 ],
 "metadata": {
  "kernelspec": {
   "display_name": "Python 3 (ipykernel)",
   "language": "python",
   "name": "python3"
  },
  "language_info": {
   "codemirror_mode": {
    "name": "ipython",
    "version": 3
   },
   "file_extension": ".py",
   "mimetype": "text/x-python",
   "name": "python",
   "nbconvert_exporter": "python",
   "pygments_lexer": "ipython3",
   "version": "3.8.2"
  }
 },
 "nbformat": 4,
 "nbformat_minor": 4
}
