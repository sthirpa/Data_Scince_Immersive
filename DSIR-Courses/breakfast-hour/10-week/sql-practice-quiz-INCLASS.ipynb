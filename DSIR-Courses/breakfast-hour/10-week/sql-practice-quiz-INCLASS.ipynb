{
 "cells": [
  {
   "cell_type": "markdown",
   "id": "ac5f64c3-9e8a-4e27-aee0-3724eb459863",
   "metadata": {},
   "source": [
    "# Practice SQL Quiz\n",
    "\n",
    "The database is maintained to keep track of local farmers who sell their produce at farmers' markets. There are several farms that sell to different farmers' markets and grow various fruits and vegetables.\n",
    "\n",
    "An ERD for this database is given below. Primary keys of the tables are labeled with PK and foreign keys are labeled with FK.\n",
    "\n",
    "![](./assets/erd-2.png)\n",
    "\n",
    "## Questions"
   ]
  },
  {
   "cell_type": "markdown",
   "id": "d5592d15-f995-4e8e-a40d-e5a4121cb4ff",
   "metadata": {
    "tags": []
   },
   "source": [
    "### 1. Get the first 20 rows of the `farm_name` column in the `farms` table."
   ]
  },
  {
   "cell_type": "markdown",
   "id": "ec00d85a-39c6-43e1-943e-f86c95186d8a",
   "metadata": {
    "tags": []
   },
   "source": [
    "Answer\n",
    "\n",
    "```MySQL\n",
    " SELECT *\n",
    " FROM farms\n",
    " LIMIT 20\n",
    "```"
   ]
  },
  {
   "cell_type": "markdown",
   "id": "cd47d4c8-38e9-4517-b3a2-c5788d02e867",
   "metadata": {
    "tags": []
   },
   "source": [
    "### 2. Get a list of the types and colors of fruits that are organic (`organic` is `yes`)."
   ]
  },
  {
   "cell_type": "markdown",
   "id": "17e513bf-766a-44d5-a93c-ecaa6cdfc94d",
   "metadata": {
    "tags": []
   },
   "source": [
    "Answer\n",
    "\n",
    "```MySQL\n",
    " SELECT type, color\n",
    " FROM produce\n",
    " WHERE organic = 'yes'\n",
    "```"
   ]
  },
  {
   "cell_type": "markdown",
   "id": "e39276da-4712-4c11-a688-70698fe9f9fa",
   "metadata": {
    "tags": []
   },
   "source": [
    "### 3. Get all of the names and types of organic produce (`organic` is `yes`) that cost more than $2.00 per unit."
   ]
  },
  {
   "cell_type": "markdown",
   "id": "acb75cc4-6bb8-494b-8f92-dc9e91072eec",
   "metadata": {
    "tags": []
   },
   "source": [
    "Answer\n",
    "\n",
    "```MySQL\n",
    "SELECT name, type\n",
    "FROM produce\n",
    "WHERE organic = 'yes' AND price_per_unit > $2\n",
    "```"
   ]
  },
  {
   "cell_type": "markdown",
   "id": "a12a9392-2324-4704-8eec-02c209496b39",
   "metadata": {
    "tags": []
   },
   "source": [
    "### 4. Get all of the columns from farms where the farm name starts with the letter 'M'."
   ]
  },
  {
   "cell_type": "markdown",
   "id": "91484848-9fc3-4e3a-9848-4b5f7fd12452",
   "metadata": {
    "tags": []
   },
   "source": [
    "Answer\n",
    "\n",
    "```MySQL\n",
    " SELECT *\n",
    " FROM farms\n",
    " WHERE farm_name LIKE \"M%\"\n",
    "```"
   ]
  },
  {
   "cell_type": "markdown",
   "id": "86975efe-1856-4515-88cd-afb5c564e2f3",
   "metadata": {
    "tags": []
   },
   "source": [
    "### 5. Get a list of all of the unique locations of farms."
   ]
  },
  {
   "cell_type": "markdown",
   "id": "ac28d2e4-2b26-4de0-b52d-6166c8234b74",
   "metadata": {
    "tags": []
   },
   "source": [
    "Answer\n",
    "\n",
    "```MySQL\n",
    " SELECT DISTINCT(location)\n",
    " FROM farms\n",
    "```"
   ]
  },
  {
   "cell_type": "markdown",
   "id": "3d889e96-28df-4cfc-b69f-815ca7be37d7",
   "metadata": {
    "tags": []
   },
   "source": [
    "### 6. Get the average price per unit of produce (group by `name`) that averages less than $1.00."
   ]
  },
  {
   "cell_type": "markdown",
   "id": "8da654e2-bd1d-48bc-b6f2-87f34ae72443",
   "metadata": {
    "tags": []
   },
   "source": [
    "Answer\n",
    "\n",
    "```MySQL\n",
    " SELECT name, AVG(price_per_unit)\n",
    " FROM produce\n",
    " GROUP BY name\n",
    " HAVING AVG(price_per_unit) < 1\n",
    "```"
   ]
  },
  {
   "cell_type": "markdown",
   "id": "27ba8368-a171-4275-8abb-9efad95f4042",
   "metadata": {
    "tags": []
   },
   "source": [
    "### 7. Get the farm name, contact number, and market hours as `market_hours` of all farms that sell at the `downtown` market location."
   ]
  },
  {
   "cell_type": "markdown",
   "id": "85b6bce5-b49f-4241-a244-f4a0b658b6d3",
   "metadata": {
    "tags": []
   },
   "source": [
    "Answer\n",
    "\n",
    "```MySQL\n",
    "SELECT f.farm_name, f.contact_number, m.hours AS market_hours\n",
    "FROM farms AS f\n",
    "INNER JOIN markets AS m ON f.market_id = m.market_id\n",
    "WHERE f.location = 'downtown'\n",
    "```"
   ]
  },
  {
   "cell_type": "markdown",
   "id": "56e81a54-8266-4ffe-b932-9aacced46800",
   "metadata": {
    "tags": []
   },
   "source": [
    "### 8. What is the maximum amount (`quantity`) of produce? Name this column `max_quant`."
   ]
  },
  {
   "cell_type": "markdown",
   "id": "a0c48dce-7395-4cc7-b643-5133aabd39a7",
   "metadata": {
    "tags": []
   },
   "source": [
    "Answer\n",
    "\n",
    "```MySQL\n",
    " SELECT MAX(quantity) AS max_quant\n",
    " FROM produce\n",
    "```"
   ]
  },
  {
   "cell_type": "markdown",
   "id": "781384fa-4b4e-436a-9342-13ea115a1e08",
   "metadata": {
    "tags": []
   },
   "source": [
    "### 9. Get the farm name and produce name of all farms that sell green apples (produce `name` is `apple` and `color` is `green`)."
   ]
  },
  {
   "cell_type": "markdown",
   "id": "cf48b1ec-bcdc-40c3-b569-26a292002c61",
   "metadata": {
    "tags": []
   },
   "source": [
    "Answer\n",
    "\n",
    "```MySQL\n",
    " SELECT f.farm_name, p.name\n",
    " FROM farms AS f\n",
    " INNER JOIN produce AS p ON f.id = p.farm_id\n",
    " WHERE p.name = 'apple' AND p.color = 'green'\n",
    "```"
   ]
  },
  {
   "cell_type": "markdown",
   "id": "e7a3d3ff-ffe3-4062-8932-e08d47fe7829",
   "metadata": {
    "tags": []
   },
   "source": [
    "### 10. Get the market location, farm name, produce name, and produce quantity of organic vegetables (`type` is `vegetable` and `organic` is `yes`). Order the results in reverse alphabetical order by farm name."
   ]
  },
  {
   "cell_type": "markdown",
   "id": "72ddc92a-cb95-4a80-a3fb-29e69a39e6cc",
   "metadata": {
    "tags": []
   },
   "source": [
    "Answer\n",
    "\n",
    "```MySQL\n",
    " SELECT m.location, f.farm_name, p.name, p.quantity\n",
    " FROM farms AS f\n",
    " INNER JOIN produce AS p ON f.id = p.farmer_id\n",
    " INNER JOIN markets AS m ON jf.market_id = m.market_id\n",
    " WHERE p.type = 'vegetable' AND p.organic = 'yes'\n",
    " ORDER BY f.farm_name DESC\n",
    "```"
   ]
  }
 ],
 "metadata": {
  "kernelspec": {
   "display_name": "Python [conda env:dsi-111]",
   "language": "python",
   "name": "conda-env-dsi-111-py"
  },
  "language_info": {
   "codemirror_mode": {
    "name": "ipython",
    "version": 3
   },
   "file_extension": ".py",
   "mimetype": "text/x-python",
   "name": "python",
   "nbconvert_exporter": "python",
   "pygments_lexer": "ipython3",
   "version": "3.8.12"
  }
 },
 "nbformat": 4,
 "nbformat_minor": 5
}
