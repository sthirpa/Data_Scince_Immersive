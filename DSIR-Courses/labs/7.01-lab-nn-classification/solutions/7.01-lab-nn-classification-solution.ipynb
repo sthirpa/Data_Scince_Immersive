{
 "cells": [
  {
   "cell_type": "markdown",
   "metadata": {
    "id": "zwBCE43Cv3PH"
   },
   "source": [
    "## Lab 7.01 TensorFlow Keras pandas DataFrame classification \n",
    "Adapted from the TensorFlow tutorials by Jeff Hale"
   ]
  },
  {
   "cell_type": "markdown",
   "metadata": {
    "id": "UmyEaf4Awl2v"
   },
   "source": [
    "This lab uses a small [dataset](https://archive.ics.uci.edu/ml/datasets/heart+Disease) provided by the Cleveland Clinic Foundation for Heart Disease. There are several hundred rows in the CSV. Each row describes a patient, and each column describes a feature. We will use this information to predict whether a patient has heart disease (the target column)."
   ]
  },
  {
   "cell_type": "markdown",
   "metadata": {
    "id": "uyVxPib57SeE"
   },
   "source": [
    "We suggest running this lab in [Google Colab](https://colab.research.google.com/). \n",
    "\n",
    "Go *File*->*Upload notebook* to upload this notebook to colab.\n",
    "\n",
    "If you are working in Colab and want to see if you can get a speed boost, set your runtime to *TPU* by going to *Runtime*->*Change runtime type* in the menu above. \n",
    "\n",
    "The processor type won't make a big difference with this small dataset and small networks, but it's good to know how to change the processor."
   ]
  },
  {
   "cell_type": "markdown",
   "metadata": {
    "id": "iiyC7HkqxlUD"
   },
   "source": [
    "## Read data using pandas\n",
    "\n",
    "#### Imports"
   ]
  },
  {
   "cell_type": "code",
   "execution_count": 1,
   "metadata": {
    "id": "5IoRbCA2n0_V"
   },
   "outputs": [],
   "source": [
    "import pandas as pd\n",
    "import numpy as np\n",
    "import tensorflow as tf\n",
    "import matplotlib.pyplot as plt\n",
    "from sklearn.model_selection import train_test_split"
   ]
  },
  {
   "cell_type": "markdown",
   "metadata": {
    "id": "-2kBGy_pxn47"
   },
   "source": [
    "Retrieve the csv file containing the heart dataset that ships with TensorFlow."
   ]
  },
  {
   "cell_type": "code",
   "execution_count": 2,
   "metadata": {
    "colab": {
     "base_uri": "https://localhost:8080/",
     "height": 52
    },
    "id": "VS4w2LePn9g3",
    "outputId": "72198c8f-7e31-47a3-c44f-36bc16fab4be"
   },
   "outputs": [],
   "source": [
    "csv_file = tf.keras.utils.get_file('heart.csv', 'https://storage.googleapis.com/applied-dl/heart.csv')"
   ]
  },
  {
   "cell_type": "markdown",
   "metadata": {
    "id": "6BXRPD2-xtQ1"
   },
   "source": [
    "Load the csv file using pandas."
   ]
  },
  {
   "cell_type": "code",
   "execution_count": 3,
   "metadata": {
    "id": "UEfJ8TcMpe-2"
   },
   "outputs": [],
   "source": [
    "df = pd.read_csv(csv_file)"
   ]
  },
  {
   "cell_type": "code",
   "execution_count": 4,
   "metadata": {
    "colab": {
     "base_uri": "https://localhost:8080/",
     "height": 137
    },
    "id": "8FkK6QIRpjd4",
    "outputId": "8cdcb9ba-6ff0-4ef1-c328-0d5f34351af3"
   },
   "outputs": [
    {
     "data": {
      "text/html": [
       "<div>\n",
       "<style scoped>\n",
       "    .dataframe tbody tr th:only-of-type {\n",
       "        vertical-align: middle;\n",
       "    }\n",
       "\n",
       "    .dataframe tbody tr th {\n",
       "        vertical-align: top;\n",
       "    }\n",
       "\n",
       "    .dataframe thead th {\n",
       "        text-align: right;\n",
       "    }\n",
       "</style>\n",
       "<table border=\"1\" class=\"dataframe\">\n",
       "  <thead>\n",
       "    <tr style=\"text-align: right;\">\n",
       "      <th></th>\n",
       "      <th>age</th>\n",
       "      <th>sex</th>\n",
       "      <th>cp</th>\n",
       "      <th>trestbps</th>\n",
       "      <th>chol</th>\n",
       "      <th>fbs</th>\n",
       "      <th>restecg</th>\n",
       "      <th>thalach</th>\n",
       "      <th>exang</th>\n",
       "      <th>oldpeak</th>\n",
       "      <th>slope</th>\n",
       "      <th>ca</th>\n",
       "      <th>thal</th>\n",
       "      <th>target</th>\n",
       "    </tr>\n",
       "  </thead>\n",
       "  <tbody>\n",
       "    <tr>\n",
       "      <th>0</th>\n",
       "      <td>63</td>\n",
       "      <td>1</td>\n",
       "      <td>1</td>\n",
       "      <td>145</td>\n",
       "      <td>233</td>\n",
       "      <td>1</td>\n",
       "      <td>2</td>\n",
       "      <td>150</td>\n",
       "      <td>0</td>\n",
       "      <td>2.3</td>\n",
       "      <td>3</td>\n",
       "      <td>0</td>\n",
       "      <td>fixed</td>\n",
       "      <td>0</td>\n",
       "    </tr>\n",
       "    <tr>\n",
       "      <th>1</th>\n",
       "      <td>67</td>\n",
       "      <td>1</td>\n",
       "      <td>4</td>\n",
       "      <td>160</td>\n",
       "      <td>286</td>\n",
       "      <td>0</td>\n",
       "      <td>2</td>\n",
       "      <td>108</td>\n",
       "      <td>1</td>\n",
       "      <td>1.5</td>\n",
       "      <td>2</td>\n",
       "      <td>3</td>\n",
       "      <td>normal</td>\n",
       "      <td>1</td>\n",
       "    </tr>\n",
       "    <tr>\n",
       "      <th>2</th>\n",
       "      <td>67</td>\n",
       "      <td>1</td>\n",
       "      <td>4</td>\n",
       "      <td>120</td>\n",
       "      <td>229</td>\n",
       "      <td>0</td>\n",
       "      <td>2</td>\n",
       "      <td>129</td>\n",
       "      <td>1</td>\n",
       "      <td>2.6</td>\n",
       "      <td>2</td>\n",
       "      <td>2</td>\n",
       "      <td>reversible</td>\n",
       "      <td>0</td>\n",
       "    </tr>\n",
       "  </tbody>\n",
       "</table>\n",
       "</div>"
      ],
      "text/plain": [
       "   age  sex  cp  trestbps  chol  fbs  restecg  thalach  exang  oldpeak  slope  \\\n",
       "0   63    1   1       145   233    1        2      150      0      2.3      3   \n",
       "1   67    1   4       160   286    0        2      108      1      1.5      2   \n",
       "2   67    1   4       120   229    0        2      129      1      2.6      2   \n",
       "\n",
       "   ca        thal  target  \n",
       "0   0       fixed       0  \n",
       "1   3      normal       1  \n",
       "2   2  reversible       0  "
      ]
     },
     "execution_count": 4,
     "metadata": {},
     "output_type": "execute_result"
    }
   ],
   "source": [
    "df.head(3)"
   ]
  },
  {
   "cell_type": "code",
   "execution_count": 5,
   "metadata": {
    "colab": {
     "base_uri": "https://localhost:8080/",
     "height": 390
    },
    "id": "_MOAKz654CT5",
    "outputId": "f2efc25e-bee3-4be3-f42a-db8886d74832"
   },
   "outputs": [
    {
     "name": "stdout",
     "output_type": "stream",
     "text": [
      "<class 'pandas.core.frame.DataFrame'>\n",
      "RangeIndex: 303 entries, 0 to 302\n",
      "Data columns (total 14 columns):\n",
      " #   Column    Non-Null Count  Dtype  \n",
      "---  ------    --------------  -----  \n",
      " 0   age       303 non-null    int64  \n",
      " 1   sex       303 non-null    int64  \n",
      " 2   cp        303 non-null    int64  \n",
      " 3   trestbps  303 non-null    int64  \n",
      " 4   chol      303 non-null    int64  \n",
      " 5   fbs       303 non-null    int64  \n",
      " 6   restecg   303 non-null    int64  \n",
      " 7   thalach   303 non-null    int64  \n",
      " 8   exang     303 non-null    int64  \n",
      " 9   oldpeak   303 non-null    float64\n",
      " 10  slope     303 non-null    int64  \n",
      " 11  ca        303 non-null    int64  \n",
      " 12  thal      303 non-null    object \n",
      " 13  target    303 non-null    int64  \n",
      "dtypes: float64(1), int64(12), object(1)\n",
      "memory usage: 33.3+ KB\n"
     ]
    }
   ],
   "source": [
    "df.info()"
   ]
  },
  {
   "cell_type": "markdown",
   "metadata": {
    "id": "4iIvlwqwWoWc"
   },
   "source": [
    "Check the value counts"
   ]
  },
  {
   "cell_type": "code",
   "execution_count": 6,
   "metadata": {
    "colab": {
     "base_uri": "https://localhost:8080/",
     "height": 123
    },
    "id": "dP3Z4KoDstlZ",
    "outputId": "64183a3b-cbdb-4065-a166-a1fab53dce37"
   },
   "outputs": [
    {
     "data": {
      "text/plain": [
       "normal        168\n",
       "reversible    115\n",
       "fixed          18\n",
       "2               1\n",
       "1               1\n",
       "Name: thal, dtype: int64"
      ]
     },
     "execution_count": 6,
     "metadata": {},
     "output_type": "execute_result"
    }
   ],
   "source": [
    "df['thal'].value_counts()"
   ]
  },
  {
   "cell_type": "markdown",
   "metadata": {
    "id": "WWRhH6r4xxQu"
   },
   "source": [
    "# Load data\n",
    " You could load data using `tf.data.Dataset`, but these are unwieldly - it's a serious pain to create a validation dataset from a TF dataset.. Your best bet is to make your data into a numpy array when needed."
   ]
  },
  {
   "cell_type": "code",
   "execution_count": 7,
   "metadata": {
    "colab": {
     "base_uri": "https://localhost:8080/",
     "height": 107
    },
    "id": "2wwhILm1ycSp",
    "outputId": "4742d2bb-4cc7-4f18-b583-23f757c97d50"
   },
   "outputs": [
    {
     "data": {
      "text/html": [
       "<div>\n",
       "<style scoped>\n",
       "    .dataframe tbody tr th:only-of-type {\n",
       "        vertical-align: middle;\n",
       "    }\n",
       "\n",
       "    .dataframe tbody tr th {\n",
       "        vertical-align: top;\n",
       "    }\n",
       "\n",
       "    .dataframe thead th {\n",
       "        text-align: right;\n",
       "    }\n",
       "</style>\n",
       "<table border=\"1\" class=\"dataframe\">\n",
       "  <thead>\n",
       "    <tr style=\"text-align: right;\">\n",
       "      <th></th>\n",
       "      <th>age</th>\n",
       "      <th>sex</th>\n",
       "      <th>cp</th>\n",
       "      <th>trestbps</th>\n",
       "      <th>chol</th>\n",
       "      <th>fbs</th>\n",
       "      <th>restecg</th>\n",
       "      <th>thalach</th>\n",
       "      <th>exang</th>\n",
       "      <th>oldpeak</th>\n",
       "      <th>slope</th>\n",
       "      <th>ca</th>\n",
       "      <th>thal</th>\n",
       "    </tr>\n",
       "  </thead>\n",
       "  <tbody>\n",
       "    <tr>\n",
       "      <th>0</th>\n",
       "      <td>63</td>\n",
       "      <td>1</td>\n",
       "      <td>1</td>\n",
       "      <td>145</td>\n",
       "      <td>233</td>\n",
       "      <td>1</td>\n",
       "      <td>2</td>\n",
       "      <td>150</td>\n",
       "      <td>0</td>\n",
       "      <td>2.3</td>\n",
       "      <td>3</td>\n",
       "      <td>0</td>\n",
       "      <td>fixed</td>\n",
       "    </tr>\n",
       "    <tr>\n",
       "      <th>1</th>\n",
       "      <td>67</td>\n",
       "      <td>1</td>\n",
       "      <td>4</td>\n",
       "      <td>160</td>\n",
       "      <td>286</td>\n",
       "      <td>0</td>\n",
       "      <td>2</td>\n",
       "      <td>108</td>\n",
       "      <td>1</td>\n",
       "      <td>1.5</td>\n",
       "      <td>2</td>\n",
       "      <td>3</td>\n",
       "      <td>normal</td>\n",
       "    </tr>\n",
       "  </tbody>\n",
       "</table>\n",
       "</div>"
      ],
      "text/plain": [
       "   age  sex  cp  trestbps  chol  fbs  restecg  thalach  exang  oldpeak  slope  \\\n",
       "0   63    1   1       145   233    1        2      150      0      2.3      3   \n",
       "1   67    1   4       160   286    0        2      108      1      1.5      2   \n",
       "\n",
       "   ca    thal  \n",
       "0   0   fixed  \n",
       "1   3  normal  "
      ]
     },
     "execution_count": 7,
     "metadata": {},
     "output_type": "execute_result"
    }
   ],
   "source": [
    "y = df['target']\n",
    "X = df.drop(columns=['target'])\n",
    "X.head(2)"
   ]
  },
  {
   "cell_type": "code",
   "execution_count": 8,
   "metadata": {
    "colab": {
     "base_uri": "https://localhost:8080/",
     "height": 70
    },
    "id": "p68OVEx7fLOt",
    "outputId": "74004248-6c80-42c4-c8f3-c36c226df7f7"
   },
   "outputs": [
    {
     "data": {
      "text/plain": [
       "0    0\n",
       "1    1\n",
       "Name: target, dtype: int64"
      ]
     },
     "execution_count": 8,
     "metadata": {},
     "output_type": "execute_result"
    }
   ],
   "source": [
    "y.head(2)"
   ]
  },
  {
   "cell_type": "code",
   "execution_count": 9,
   "metadata": {
    "id": "LcP1WjczZUdo"
   },
   "outputs": [],
   "source": [
    "X_train, X_test, y_train, y_test = train_test_split(X, y, stratify=y, random_state=123)"
   ]
  },
  {
   "cell_type": "markdown",
   "metadata": {
    "id": "ww4lRDCS3qPh"
   },
   "source": [
    "Convert `thal` column to numeric"
   ]
  },
  {
   "cell_type": "markdown",
   "metadata": {
    "id": "xa7KCi_GXHmW"
   },
   "source": [
    "### Let's use a friendlier OHE! 🎉"
   ]
  },
  {
   "cell_type": "code",
   "execution_count": 10,
   "metadata": {
    "colab": {
     "base_uri": "https://localhost:8080/",
     "height": 232
    },
    "id": "Hr6lqMnFXMxH",
    "outputId": "22002b56-7fac-4aa7-e648-3780f7d4c049"
   },
   "outputs": [
    {
     "name": "stdout",
     "output_type": "stream",
     "text": [
      "Requirement already satisfied: category_encoders in /Users/kelly/anaconda3/envs/dsir/lib/python3.7/site-packages (2.2.2)\n",
      "Requirement already satisfied: patsy>=0.5.1 in /Users/kelly/anaconda3/envs/dsir/lib/python3.7/site-packages (from category_encoders) (0.5.1)\n",
      "Requirement already satisfied: pandas>=0.21.1 in /Users/kelly/anaconda3/envs/dsir/lib/python3.7/site-packages (from category_encoders) (1.1.3)\n",
      "Requirement already satisfied: statsmodels>=0.9.0 in /Users/kelly/anaconda3/envs/dsir/lib/python3.7/site-packages (from category_encoders) (0.11.1)\n",
      "Requirement already satisfied: scikit-learn>=0.20.0 in /Users/kelly/anaconda3/envs/dsir/lib/python3.7/site-packages (from category_encoders) (0.23.2)\n",
      "Requirement already satisfied: numpy>=1.14.0 in /Users/kelly/anaconda3/envs/dsir/lib/python3.7/site-packages (from category_encoders) (1.19.2)\n",
      "Requirement already satisfied: scipy>=1.0.0 in /Users/kelly/anaconda3/envs/dsir/lib/python3.7/site-packages (from category_encoders) (1.5.2)\n",
      "\u001b[31mERROR: Could not install packages due to an EnvironmentError: [Errno 2] No such file or directory: '/Users/kelly/anaconda3/envs/dsir/lib/python3.7/site-packages/numpy-1.19.2.dist-info/METADATA'\n",
      "\u001b[0m\n"
     ]
    }
   ],
   "source": [
    "!pip install category_encoders \n",
    "import category_encoders as ce"
   ]
  },
  {
   "cell_type": "code",
   "execution_count": 11,
   "metadata": {
    "colab": {
     "base_uri": "https://localhost:8080/",
     "height": 462
    },
    "id": "8cnNgBOZXk-6",
    "outputId": "c8417e31-23a3-4179-98e0-bacdb0193c36"
   },
   "outputs": [
    {
     "name": "stderr",
     "output_type": "stream",
     "text": [
      "/Users/kelly/anaconda3/envs/dsir/lib/python3.7/site-packages/category_encoders/utils.py:21: FutureWarning: is_categorical is deprecated and will be removed in a future version.  Use is_categorical_dtype instead\n",
      "  elif pd.api.types.is_categorical(cols):\n"
     ]
    },
    {
     "data": {
      "text/html": [
       "<div>\n",
       "<style scoped>\n",
       "    .dataframe tbody tr th:only-of-type {\n",
       "        vertical-align: middle;\n",
       "    }\n",
       "\n",
       "    .dataframe tbody tr th {\n",
       "        vertical-align: top;\n",
       "    }\n",
       "\n",
       "    .dataframe thead th {\n",
       "        text-align: right;\n",
       "    }\n",
       "</style>\n",
       "<table border=\"1\" class=\"dataframe\">\n",
       "  <thead>\n",
       "    <tr style=\"text-align: right;\">\n",
       "      <th></th>\n",
       "      <th>age</th>\n",
       "      <th>sex</th>\n",
       "      <th>cp</th>\n",
       "      <th>trestbps</th>\n",
       "      <th>chol</th>\n",
       "      <th>fbs</th>\n",
       "      <th>restecg</th>\n",
       "      <th>thalach</th>\n",
       "      <th>exang</th>\n",
       "      <th>oldpeak</th>\n",
       "      <th>slope</th>\n",
       "      <th>ca</th>\n",
       "      <th>thal_1</th>\n",
       "      <th>thal_2</th>\n",
       "      <th>thal_3</th>\n",
       "      <th>thal_4</th>\n",
       "      <th>thal_5</th>\n",
       "    </tr>\n",
       "  </thead>\n",
       "  <tbody>\n",
       "    <tr>\n",
       "      <th>7</th>\n",
       "      <td>57</td>\n",
       "      <td>0</td>\n",
       "      <td>4</td>\n",
       "      <td>120</td>\n",
       "      <td>354</td>\n",
       "      <td>0</td>\n",
       "      <td>0</td>\n",
       "      <td>163</td>\n",
       "      <td>1</td>\n",
       "      <td>0.6</td>\n",
       "      <td>1</td>\n",
       "      <td>0</td>\n",
       "      <td>1</td>\n",
       "      <td>0</td>\n",
       "      <td>0</td>\n",
       "      <td>0</td>\n",
       "      <td>0</td>\n",
       "    </tr>\n",
       "    <tr>\n",
       "      <th>2</th>\n",
       "      <td>67</td>\n",
       "      <td>1</td>\n",
       "      <td>4</td>\n",
       "      <td>120</td>\n",
       "      <td>229</td>\n",
       "      <td>0</td>\n",
       "      <td>2</td>\n",
       "      <td>129</td>\n",
       "      <td>1</td>\n",
       "      <td>2.6</td>\n",
       "      <td>2</td>\n",
       "      <td>2</td>\n",
       "      <td>0</td>\n",
       "      <td>1</td>\n",
       "      <td>0</td>\n",
       "      <td>0</td>\n",
       "      <td>0</td>\n",
       "    </tr>\n",
       "    <tr>\n",
       "      <th>55</th>\n",
       "      <td>52</td>\n",
       "      <td>1</td>\n",
       "      <td>2</td>\n",
       "      <td>120</td>\n",
       "      <td>325</td>\n",
       "      <td>0</td>\n",
       "      <td>0</td>\n",
       "      <td>172</td>\n",
       "      <td>0</td>\n",
       "      <td>0.2</td>\n",
       "      <td>1</td>\n",
       "      <td>0</td>\n",
       "      <td>1</td>\n",
       "      <td>0</td>\n",
       "      <td>0</td>\n",
       "      <td>0</td>\n",
       "      <td>0</td>\n",
       "    </tr>\n",
       "    <tr>\n",
       "      <th>56</th>\n",
       "      <td>44</td>\n",
       "      <td>1</td>\n",
       "      <td>3</td>\n",
       "      <td>140</td>\n",
       "      <td>235</td>\n",
       "      <td>0</td>\n",
       "      <td>2</td>\n",
       "      <td>180</td>\n",
       "      <td>0</td>\n",
       "      <td>0.0</td>\n",
       "      <td>1</td>\n",
       "      <td>0</td>\n",
       "      <td>1</td>\n",
       "      <td>0</td>\n",
       "      <td>0</td>\n",
       "      <td>0</td>\n",
       "      <td>0</td>\n",
       "    </tr>\n",
       "    <tr>\n",
       "      <th>82</th>\n",
       "      <td>51</td>\n",
       "      <td>1</td>\n",
       "      <td>4</td>\n",
       "      <td>140</td>\n",
       "      <td>261</td>\n",
       "      <td>0</td>\n",
       "      <td>2</td>\n",
       "      <td>186</td>\n",
       "      <td>1</td>\n",
       "      <td>0.0</td>\n",
       "      <td>1</td>\n",
       "      <td>0</td>\n",
       "      <td>1</td>\n",
       "      <td>0</td>\n",
       "      <td>0</td>\n",
       "      <td>0</td>\n",
       "      <td>0</td>\n",
       "    </tr>\n",
       "    <tr>\n",
       "      <th>...</th>\n",
       "      <td>...</td>\n",
       "      <td>...</td>\n",
       "      <td>...</td>\n",
       "      <td>...</td>\n",
       "      <td>...</td>\n",
       "      <td>...</td>\n",
       "      <td>...</td>\n",
       "      <td>...</td>\n",
       "      <td>...</td>\n",
       "      <td>...</td>\n",
       "      <td>...</td>\n",
       "      <td>...</td>\n",
       "      <td>...</td>\n",
       "      <td>...</td>\n",
       "      <td>...</td>\n",
       "      <td>...</td>\n",
       "      <td>...</td>\n",
       "    </tr>\n",
       "    <tr>\n",
       "      <th>301</th>\n",
       "      <td>48</td>\n",
       "      <td>1</td>\n",
       "      <td>4</td>\n",
       "      <td>130</td>\n",
       "      <td>256</td>\n",
       "      <td>1</td>\n",
       "      <td>2</td>\n",
       "      <td>150</td>\n",
       "      <td>1</td>\n",
       "      <td>0.0</td>\n",
       "      <td>1</td>\n",
       "      <td>2</td>\n",
       "      <td>0</td>\n",
       "      <td>1</td>\n",
       "      <td>0</td>\n",
       "      <td>0</td>\n",
       "      <td>0</td>\n",
       "    </tr>\n",
       "    <tr>\n",
       "      <th>59</th>\n",
       "      <td>51</td>\n",
       "      <td>0</td>\n",
       "      <td>3</td>\n",
       "      <td>130</td>\n",
       "      <td>256</td>\n",
       "      <td>0</td>\n",
       "      <td>2</td>\n",
       "      <td>149</td>\n",
       "      <td>0</td>\n",
       "      <td>0.5</td>\n",
       "      <td>1</td>\n",
       "      <td>0</td>\n",
       "      <td>1</td>\n",
       "      <td>0</td>\n",
       "      <td>0</td>\n",
       "      <td>0</td>\n",
       "      <td>0</td>\n",
       "    </tr>\n",
       "    <tr>\n",
       "      <th>221</th>\n",
       "      <td>64</td>\n",
       "      <td>1</td>\n",
       "      <td>1</td>\n",
       "      <td>170</td>\n",
       "      <td>227</td>\n",
       "      <td>0</td>\n",
       "      <td>2</td>\n",
       "      <td>155</td>\n",
       "      <td>0</td>\n",
       "      <td>0.6</td>\n",
       "      <td>2</td>\n",
       "      <td>0</td>\n",
       "      <td>0</td>\n",
       "      <td>1</td>\n",
       "      <td>0</td>\n",
       "      <td>0</td>\n",
       "      <td>0</td>\n",
       "    </tr>\n",
       "    <tr>\n",
       "      <th>41</th>\n",
       "      <td>65</td>\n",
       "      <td>0</td>\n",
       "      <td>3</td>\n",
       "      <td>155</td>\n",
       "      <td>269</td>\n",
       "      <td>0</td>\n",
       "      <td>0</td>\n",
       "      <td>148</td>\n",
       "      <td>0</td>\n",
       "      <td>0.8</td>\n",
       "      <td>1</td>\n",
       "      <td>0</td>\n",
       "      <td>1</td>\n",
       "      <td>0</td>\n",
       "      <td>0</td>\n",
       "      <td>0</td>\n",
       "      <td>0</td>\n",
       "    </tr>\n",
       "    <tr>\n",
       "      <th>278</th>\n",
       "      <td>60</td>\n",
       "      <td>1</td>\n",
       "      <td>3</td>\n",
       "      <td>140</td>\n",
       "      <td>185</td>\n",
       "      <td>0</td>\n",
       "      <td>2</td>\n",
       "      <td>155</td>\n",
       "      <td>0</td>\n",
       "      <td>3.0</td>\n",
       "      <td>2</td>\n",
       "      <td>0</td>\n",
       "      <td>1</td>\n",
       "      <td>0</td>\n",
       "      <td>0</td>\n",
       "      <td>0</td>\n",
       "      <td>0</td>\n",
       "    </tr>\n",
       "  </tbody>\n",
       "</table>\n",
       "<p>227 rows × 17 columns</p>\n",
       "</div>"
      ],
      "text/plain": [
       "     age  sex  cp  trestbps  chol  fbs  restecg  thalach  exang  oldpeak  \\\n",
       "7     57    0   4       120   354    0        0      163      1      0.6   \n",
       "2     67    1   4       120   229    0        2      129      1      2.6   \n",
       "55    52    1   2       120   325    0        0      172      0      0.2   \n",
       "56    44    1   3       140   235    0        2      180      0      0.0   \n",
       "82    51    1   4       140   261    0        2      186      1      0.0   \n",
       "..   ...  ...  ..       ...   ...  ...      ...      ...    ...      ...   \n",
       "301   48    1   4       130   256    1        2      150      1      0.0   \n",
       "59    51    0   3       130   256    0        2      149      0      0.5   \n",
       "221   64    1   1       170   227    0        2      155      0      0.6   \n",
       "41    65    0   3       155   269    0        0      148      0      0.8   \n",
       "278   60    1   3       140   185    0        2      155      0      3.0   \n",
       "\n",
       "     slope  ca  thal_1  thal_2  thal_3  thal_4  thal_5  \n",
       "7        1   0       1       0       0       0       0  \n",
       "2        2   2       0       1       0       0       0  \n",
       "55       1   0       1       0       0       0       0  \n",
       "56       1   0       1       0       0       0       0  \n",
       "82       1   0       1       0       0       0       0  \n",
       "..     ...  ..     ...     ...     ...     ...     ...  \n",
       "301      1   2       0       1       0       0       0  \n",
       "59       1   0       1       0       0       0       0  \n",
       "221      2   0       0       1       0       0       0  \n",
       "41       1   0       1       0       0       0       0  \n",
       "278      2   0       1       0       0       0       0  \n",
       "\n",
       "[227 rows x 17 columns]"
      ]
     },
     "execution_count": 11,
     "metadata": {},
     "output_type": "execute_result"
    }
   ],
   "source": [
    "ohe = ce.OneHotEncoder()\n",
    "X_train = ohe.fit_transform(X_train)\n",
    "X_test = ohe.transform(X_test)\n",
    "X_train"
   ]
  },
  {
   "cell_type": "markdown",
   "metadata": {
    "id": "9CyGI5BA-faC"
   },
   "source": [
    "#### Set the random seed"
   ]
  },
  {
   "cell_type": "code",
   "execution_count": 12,
   "metadata": {
    "id": "HEfRLI8j-ZQs"
   },
   "outputs": [],
   "source": [
    "tf.random.set_seed(123)"
   ]
  },
  {
   "cell_type": "markdown",
   "metadata": {
    "id": "bB9C0XJkyQEk"
   },
   "source": [
    "## Create and train a model\n",
    "\n",
    "#### Create model structure"
   ]
  },
  {
   "cell_type": "code",
   "execution_count": 13,
   "metadata": {
    "colab": {
     "base_uri": "https://localhost:8080/",
     "height": 34
    },
    "id": "FQd9PcPRpkP4",
    "outputId": "71765ffd-02b8-4d64-d468-b2d2c47b453f"
   },
   "outputs": [
    {
     "data": {
      "text/plain": [
       "<tensorflow.python.keras.engine.sequential.Sequential at 0x7fe45277d350>"
      ]
     },
     "execution_count": 13,
     "metadata": {},
     "output_type": "execute_result"
    }
   ],
   "source": [
    "model = tf.keras.Sequential([\n",
    "  tf.keras.layers.Input(shape=(17,)),\n",
    "  tf.keras.layers.BatchNormalization(),\n",
    "  tf.keras.layers.Dense(20, activation='relu'),\n",
    "  tf.keras.layers.Dense(10, activation='relu'),\n",
    "  tf.keras.layers.Dense(1, activation='sigmoid')\n",
    "])\n",
    "model"
   ]
  },
  {
   "cell_type": "code",
   "execution_count": 14,
   "metadata": {
    "colab": {
     "base_uri": "https://localhost:8080/",
     "height": 301
    },
    "id": "xpIoUWSxgUBb",
    "outputId": "41a1d588-d1ae-43ba-dc46-944f68e91427"
   },
   "outputs": [
    {
     "name": "stdout",
     "output_type": "stream",
     "text": [
      "Model: \"sequential\"\n",
      "_________________________________________________________________\n",
      "Layer (type)                 Output Shape              Param #   \n",
      "=================================================================\n",
      "batch_normalization (BatchNo (None, 17)                68        \n",
      "_________________________________________________________________\n",
      "dense (Dense)                (None, 20)                360       \n",
      "_________________________________________________________________\n",
      "dense_1 (Dense)              (None, 10)                210       \n",
      "_________________________________________________________________\n",
      "dense_2 (Dense)              (None, 1)                 11        \n",
      "=================================================================\n",
      "Total params: 649\n",
      "Trainable params: 615\n",
      "Non-trainable params: 34\n",
      "_________________________________________________________________\n"
     ]
    }
   ],
   "source": [
    "model.summary()"
   ]
  },
  {
   "cell_type": "code",
   "execution_count": 15,
   "metadata": {
    "colab": {
     "base_uri": "https://localhost:8080/",
     "height": 533
    },
    "id": "sjHkd6kGy_oR",
    "outputId": "57183cf4-7f14-430c-b4f3-0a0138b9aeab"
   },
   "outputs": [
    {
     "data": {
      "image/png": "[encoded data removed]",
      "text/plain": [
       "<IPython.core.display.Image object>"
      ]
     },
     "execution_count": 15,
     "metadata": {},
     "output_type": "execute_result"
    }
   ],
   "source": [
    "tf.keras.utils.plot_model(\n",
    "    model,\n",
    "    show_shapes=True,\n",
    ")"
   ]
  },
  {
   "cell_type": "markdown",
   "metadata": {
    "id": "T12mvCrqpXOX"
   },
   "source": [
    "#### Compile"
   ]
  },
  {
   "cell_type": "code",
   "execution_count": 16,
   "metadata": {
    "id": "fPzix0n5xPHc"
   },
   "outputs": [],
   "source": [
    " model.compile(\n",
    "    optimizer='adam',\n",
    "    loss=tf.keras.losses.BinaryCrossentropy(),\n",
    "    metrics=['accuracy', 'Recall', 'Precision'],\n",
    "    )"
   ]
  },
  {
   "cell_type": "markdown",
   "metadata": {
    "id": "nlV0i6J4o-Yg"
   },
   "source": [
    "#### Make an EarlyStopping callback"
   ]
  },
  {
   "cell_type": "code",
   "execution_count": 17,
   "metadata": {
    "id": "ybDzNUheqxJw"
   },
   "outputs": [],
   "source": [
    "callback = tf.keras.callbacks.EarlyStopping(monitor='val_loss', patience=3)"
   ]
  },
  {
   "cell_type": "markdown",
   "metadata": {
    "id": "gaEz3a5BpLxr"
   },
   "source": [
    "#### Fit the model"
   ]
  },
  {
   "cell_type": "code",
   "execution_count": 18,
   "metadata": {
    "id": "GTxY6vPrpJkl"
   },
   "outputs": [
    {
     "name": "stdout",
     "output_type": "stream",
     "text": [
      "WARNING:tensorflow:Falling back from v2 loop because of error: Failed to find data adapter that can handle input: <class 'pandas.core.frame.DataFrame'>, <class 'NoneType'>\n",
      "Train on 181 samples, validate on 46 samples\n",
      "Epoch 1/50\n",
      "181/181 [==============================] - 1s 7ms/sample - loss: 0.8059 - accuracy: 0.3370 - Recall: 0.3333 - Precision: 0.1538 - val_loss: 0.8118 - val_accuracy: 0.6957 - val_Recall: 0.0000e+00 - val_Precision: 0.0000e+00\n",
      "Epoch 2/50\n",
      "181/181 [==============================] - 0s 232us/sample - loss: 0.7461 - accuracy: 0.4088 - Recall: 0.2083 - Precision: 0.1266 - val_loss: 0.7014 - val_accuracy: 0.6957 - val_Recall: 0.0000e+00 - val_Precision: 0.0000e+00\n",
      "Epoch 3/50\n",
      "181/181 [==============================] - 0s 168us/sample - loss: 0.6936 - accuracy: 0.5746 - Recall: 0.1667 - Precision: 0.1778 - val_loss: 0.6527 - val_accuracy: 0.6957 - val_Recall: 0.0000e+00 - val_Precision: 0.0000e+00\n",
      "Epoch 4/50\n",
      "181/181 [==============================] - 0s 188us/sample - loss: 0.6572 - accuracy: 0.6519 - Recall: 0.1250 - Precision: 0.2222 - val_loss: 0.6294 - val_accuracy: 0.6957 - val_Recall: 0.0000e+00 - val_Precision: 0.0000e+00\n",
      "Epoch 5/50\n",
      "181/181 [==============================] - 0s 202us/sample - loss: 0.6247 - accuracy: 0.7017 - Recall: 0.0833 - Precision: 0.2857 - val_loss: 0.6115 - val_accuracy: 0.6957 - val_Recall: 0.0000e+00 - val_Precision: 0.0000e+00\n",
      "Epoch 6/50\n",
      "181/181 [==============================] - 0s 176us/sample - loss: 0.5945 - accuracy: 0.7293 - Recall: 0.0833 - Precision: 0.4444 - val_loss: 0.5965 - val_accuracy: 0.6957 - val_Recall: 0.0000e+00 - val_Precision: 0.0000e+00\n",
      "Epoch 7/50\n",
      "181/181 [==============================] - 0s 195us/sample - loss: 0.5621 - accuracy: 0.7403 - Recall: 0.1042 - Precision: 0.5556 - val_loss: 0.5842 - val_accuracy: 0.6957 - val_Recall: 0.0000e+00 - val_Precision: 0.0000e+00\n",
      "Epoch 8/50\n",
      "181/181 [==============================] - 0s 161us/sample - loss: 0.5361 - accuracy: 0.7735 - Recall: 0.1875 - Precision: 0.8182 - val_loss: 0.5699 - val_accuracy: 0.6957 - val_Recall: 0.0000e+00 - val_Precision: 0.0000e+00\n",
      "Epoch 9/50\n",
      "181/181 [==============================] - 0s 159us/sample - loss: 0.5027 - accuracy: 0.7680 - Recall: 0.1667 - Precision: 0.8000 - val_loss: 0.5567 - val_accuracy: 0.6957 - val_Recall: 0.0000e+00 - val_Precision: 0.0000e+00\n",
      "Epoch 10/50\n",
      "181/181 [==============================] - 0s 166us/sample - loss: 0.4742 - accuracy: 0.8011 - Recall: 0.3125 - Precision: 0.8333 - val_loss: 0.5426 - val_accuracy: 0.6957 - val_Recall: 0.0714 - val_Precision: 0.5000\n",
      "Epoch 11/50\n",
      "181/181 [==============================] - 0s 170us/sample - loss: 0.4432 - accuracy: 0.8177 - Recall: 0.4167 - Precision: 0.8000 - val_loss: 0.5265 - val_accuracy: 0.7609 - val_Recall: 0.2857 - val_Precision: 0.8000\n",
      "Epoch 12/50\n",
      "181/181 [==============================] - 0s 240us/sample - loss: 0.4169 - accuracy: 0.8177 - Recall: 0.4167 - Precision: 0.8000 - val_loss: 0.5093 - val_accuracy: 0.7826 - val_Recall: 0.3571 - val_Precision: 0.8333\n",
      "Epoch 13/50\n",
      "181/181 [==============================] - 0s 197us/sample - loss: 0.4028 - accuracy: 0.8177 - Recall: 0.4583 - Precision: 0.7586 - val_loss: 0.4901 - val_accuracy: 0.8043 - val_Recall: 0.4286 - val_Precision: 0.8571\n",
      "Epoch 14/50\n",
      "181/181 [==============================] - 0s 173us/sample - loss: 0.3786 - accuracy: 0.8564 - Recall: 0.5625 - Precision: 0.8438 - val_loss: 0.4716 - val_accuracy: 0.8043 - val_Recall: 0.4286 - val_Precision: 0.8571\n",
      "Epoch 15/50\n",
      "181/181 [==============================] - 0s 157us/sample - loss: 0.3772 - accuracy: 0.8453 - Recall: 0.6042 - Precision: 0.7632 - val_loss: 0.4556 - val_accuracy: 0.8043 - val_Recall: 0.5000 - val_Precision: 0.7778\n",
      "Epoch 16/50\n",
      "181/181 [==============================] - 0s 155us/sample - loss: 0.3497 - accuracy: 0.8398 - Recall: 0.6250 - Precision: 0.7317 - val_loss: 0.4398 - val_accuracy: 0.8043 - val_Recall: 0.5714 - val_Precision: 0.7273\n",
      "Epoch 17/50\n",
      "181/181 [==============================] - 0s 157us/sample - loss: 0.3385 - accuracy: 0.8564 - Recall: 0.6667 - Precision: 0.7619 - val_loss: 0.4266 - val_accuracy: 0.8043 - val_Recall: 0.5714 - val_Precision: 0.7273\n",
      "Epoch 18/50\n",
      "181/181 [==============================] - 0s 203us/sample - loss: 0.3428 - accuracy: 0.8508 - Recall: 0.6667 - Precision: 0.7442 - val_loss: 0.4148 - val_accuracy: 0.8261 - val_Recall: 0.6429 - val_Precision: 0.7500\n",
      "Epoch 19/50\n",
      "181/181 [==============================] - 0s 180us/sample - loss: 0.3092 - accuracy: 0.8785 - Recall: 0.7292 - Precision: 0.7955 - val_loss: 0.4023 - val_accuracy: 0.8261 - val_Recall: 0.6429 - val_Precision: 0.7500\n",
      "Epoch 20/50\n",
      "181/181 [==============================] - 0s 171us/sample - loss: 0.3230 - accuracy: 0.8619 - Recall: 0.7292 - Precision: 0.7447 - val_loss: 0.3923 - val_accuracy: 0.8478 - val_Recall: 0.7143 - val_Precision: 0.7692\n",
      "Epoch 21/50\n",
      "181/181 [==============================] - 0s 161us/sample - loss: 0.3041 - accuracy: 0.8619 - Recall: 0.7292 - Precision: 0.7447 - val_loss: 0.3857 - val_accuracy: 0.8478 - val_Recall: 0.7143 - val_Precision: 0.7692\n",
      "Epoch 22/50\n",
      "181/181 [==============================] - 0s 159us/sample - loss: 0.2953 - accuracy: 0.8785 - Recall: 0.7917 - Precision: 0.7600 - val_loss: 0.3791 - val_accuracy: 0.8478 - val_Recall: 0.7143 - val_Precision: 0.7692\n",
      "Epoch 23/50\n",
      "181/181 [==============================] - 0s 160us/sample - loss: 0.2953 - accuracy: 0.8950 - Recall: 0.8333 - Precision: 0.7843 - val_loss: 0.3727 - val_accuracy: 0.8478 - val_Recall: 0.7143 - val_Precision: 0.7692\n",
      "Epoch 24/50\n",
      "181/181 [==============================] - 0s 156us/sample - loss: 0.2959 - accuracy: 0.8619 - Recall: 0.7500 - Precision: 0.7347 - val_loss: 0.3673 - val_accuracy: 0.8478 - val_Recall: 0.7143 - val_Precision: 0.7692\n",
      "Epoch 25/50\n",
      "181/181 [==============================] - 0s 157us/sample - loss: 0.2782 - accuracy: 0.8785 - Recall: 0.7500 - Precision: 0.7826 - val_loss: 0.3635 - val_accuracy: 0.8478 - val_Recall: 0.7143 - val_Precision: 0.7692\n",
      "Epoch 26/50\n",
      "181/181 [==============================] - 0s 158us/sample - loss: 0.2779 - accuracy: 0.8840 - Recall: 0.7917 - Precision: 0.7755 - val_loss: 0.3624 - val_accuracy: 0.8478 - val_Recall: 0.7143 - val_Precision: 0.7692\n",
      "Epoch 27/50\n",
      "181/181 [==============================] - 0s 156us/sample - loss: 0.2732 - accuracy: 0.8785 - Recall: 0.7917 - Precision: 0.7600 - val_loss: 0.3612 - val_accuracy: 0.8478 - val_Recall: 0.7143 - val_Precision: 0.7692\n",
      "Epoch 28/50\n",
      "181/181 [==============================] - 0s 160us/sample - loss: 0.2665 - accuracy: 0.9006 - Recall: 0.8333 - Precision: 0.8000 - val_loss: 0.3604 - val_accuracy: 0.8478 - val_Recall: 0.7143 - val_Precision: 0.7692\n",
      "Epoch 29/50\n",
      "181/181 [==============================] - 0s 163us/sample - loss: 0.2892 - accuracy: 0.8950 - Recall: 0.8125 - Precision: 0.7959 - val_loss: 0.3574 - val_accuracy: 0.8478 - val_Recall: 0.7143 - val_Precision: 0.7692\n",
      "Epoch 30/50\n",
      "181/181 [==============================] - 0s 170us/sample - loss: 0.2631 - accuracy: 0.8840 - Recall: 0.8333 - Precision: 0.7547 - val_loss: 0.3625 - val_accuracy: 0.8478 - val_Recall: 0.7143 - val_Precision: 0.7692\n",
      "Epoch 31/50\n",
      "181/181 [==============================] - 0s 177us/sample - loss: 0.2803 - accuracy: 0.8508 - Recall: 0.7292 - Precision: 0.7143 - val_loss: 0.3649 - val_accuracy: 0.8478 - val_Recall: 0.7143 - val_Precision: 0.7692\n",
      "Epoch 32/50\n",
      "181/181 [==============================] - 0s 167us/sample - loss: 0.2804 - accuracy: 0.8895 - Recall: 0.8125 - Precision: 0.7800 - val_loss: 0.3601 - val_accuracy: 0.8478 - val_Recall: 0.7143 - val_Precision: 0.7692\n"
     ]
    },
    {
     "data": {
      "text/plain": [
       "<tensorflow.python.keras.callbacks.History at 0x7fe4336b2a50>"
      ]
     },
     "execution_count": 18,
     "metadata": {},
     "output_type": "execute_result"
    }
   ],
   "source": [
    "history = model.fit(X_train, y_train, batch_size=16, epochs=50, validation_split=0.2, callbacks=[callback])  \n",
    "history"
   ]
  },
  {
   "cell_type": "markdown",
   "metadata": {
    "id": "8rOk1tBrkwOo"
   },
   "source": [
    "#### Plot model performance on the training data"
   ]
  },
  {
   "cell_type": "code",
   "execution_count": 19,
   "metadata": {
    "colab": {
     "base_uri": "https://localhost:8080/",
     "height": 264
    },
    "id": "J0KM_xsoDW3P",
    "outputId": "5b83b18b-0e8b-427e-bda6-c3ebe14f7d89"
   },
   "outputs": [
    {
     "data": {
      "image/png": "[encoded data removed]",
      "text/plain": [
       "<Figure size 432x288 with 1 Axes>"
      ]
     },
     "metadata": {
      "needs_background": "light"
     },
     "output_type": "display_data"
    }
   ],
   "source": [
    "plt.plot(history.history['val_accuracy'], label='val_accuracy')\n",
    "plt.plot(history.history['val_Recall'], label='val_Recall')\n",
    "plt.plot(history.history['val_Precision'], label='val_Precision')\n",
    "plt.legend();"
   ]
  },
  {
   "cell_type": "markdown",
   "metadata": {
    "id": "ltQkFibkzAMb"
   },
   "source": [
    "#### Save model"
   ]
  },
  {
   "cell_type": "code",
   "execution_count": 20,
   "metadata": {
    "colab": {
     "base_uri": "https://localhost:8080/",
     "height": 34
    },
    "id": "b4477jxw71mZ",
    "outputId": "f69379ab-9849-42f4-9e03-79e18697c3b7"
   },
   "outputs": [
    {
     "name": "stdout",
     "output_type": "stream",
     "text": [
      "WARNING:tensorflow:From /Users/kelly/anaconda3/envs/dsir/lib/python3.7/site-packages/tensorflow_core/python/ops/resource_variable_ops.py:1781: calling BaseResourceVariable.__init__ (from tensorflow.python.ops.resource_variable_ops) with constraint is deprecated and will be removed in a future version.\n",
      "Instructions for updating:\n",
      "If using Keras pass *_constraint arguments to layers.\n",
      "INFO:tensorflow:Assets written to: heart_1/assets\n"
     ]
    }
   ],
   "source": [
    "model.save('heart_1')"
   ]
  },
  {
   "cell_type": "code",
   "execution_count": 21,
   "metadata": {
    "colab": {
     "base_uri": "https://localhost:8080/",
     "height": 34
    },
    "id": "-EPOGHaHdsZm",
    "outputId": "f0b2c26c-3ab1-4fa0-9eec-378bf3e6bbf4"
   },
   "outputs": [
    {
     "name": "stdout",
     "output_type": "stream",
     "text": [
      "7.01-lab-nn-classification-solution.ipynb\r\n",
      "\u001b[34mheart_1\u001b[m\u001b[m\r\n",
      "model.png\r\n"
     ]
    }
   ],
   "source": [
    "!ls"
   ]
  },
  {
   "cell_type": "markdown",
   "metadata": {
    "id": "wgSH6wUwEDp2"
   },
   "source": [
    "#### Load model"
   ]
  },
  {
   "cell_type": "code",
   "execution_count": 22,
   "metadata": {
    "id": "9DbjapJzd-ks"
   },
   "outputs": [],
   "source": [
    "reloaded_model = tf.keras.models.load_model('heart_1')"
   ]
  },
  {
   "cell_type": "code",
   "execution_count": 23,
   "metadata": {
    "colab": {
     "base_uri": "https://localhost:8080/",
     "height": 301
    },
    "id": "nCUpyhGzeJWJ",
    "outputId": "ed94ac3b-d51b-49e6-96bb-4dae670adb01"
   },
   "outputs": [
    {
     "name": "stdout",
     "output_type": "stream",
     "text": [
      "Model: \"sequential\"\n",
      "_________________________________________________________________\n",
      "Layer (type)                 Output Shape              Param #   \n",
      "=================================================================\n",
      "batch_normalization (BatchNo multiple                  68        \n",
      "_________________________________________________________________\n",
      "dense (Dense)                multiple                  360       \n",
      "_________________________________________________________________\n",
      "dense_1 (Dense)              multiple                  210       \n",
      "_________________________________________________________________\n",
      "dense_2 (Dense)              multiple                  11        \n",
      "=================================================================\n",
      "Total params: 649\n",
      "Trainable params: 615\n",
      "Non-trainable params: 34\n",
      "_________________________________________________________________\n"
     ]
    }
   ],
   "source": [
    "reloaded_model.summary()"
   ]
  },
  {
   "cell_type": "markdown",
   "metadata": {
    "id": "fs9fVkzQEGbN"
   },
   "source": [
    "#### Evaluate on test set "
   ]
  },
  {
   "cell_type": "code",
   "execution_count": 24,
   "metadata": {
    "colab": {
     "base_uri": "https://localhost:8080/",
     "height": 125
    },
    "id": "aSaWeerYEDFX",
    "outputId": "686e55e8-dcf5-442c-9167-f0dbc6b4893c"
   },
   "outputs": [
    {
     "name": "stdout",
     "output_type": "stream",
     "text": [
      "WARNING:tensorflow:Falling back from v2 loop because of error: Failed to find data adapter that can handle input: <class 'pandas.core.frame.DataFrame'>, <class 'NoneType'>\n",
      "76/76 [==============================] - 0s 5ms/sample - loss: 0.3479 - accuracy: 0.8421 - Recall: 0.7619 - Precision: 0.6957\n"
     ]
    },
    {
     "data": {
      "text/plain": [
       "[0.34785928381116765, 0.84210527, 0.7619048, 0.6956522]"
      ]
     },
     "execution_count": 24,
     "metadata": {},
     "output_type": "execute_result"
    }
   ],
   "source": [
    "reloaded_model.evaluate(X_test, y_test)"
   ]
  },
  {
   "cell_type": "code",
   "execution_count": 25,
   "metadata": {
    "colab": {
     "base_uri": "https://localhost:8080/",
     "height": 125
    },
    "id": "cfU8XMPfECiL",
    "outputId": "ef684e21-e20f-45dd-c9f8-d5ee3276c5ac"
   },
   "outputs": [
    {
     "name": "stdout",
     "output_type": "stream",
     "text": [
      "WARNING:tensorflow:Falling back from v2 loop because of error: Failed to find data adapter that can handle input: <class 'pandas.core.frame.DataFrame'>, <class 'NoneType'>\n",
      "76/76 [==============================] - 0s 63us/sample - loss: 0.3479 - accuracy: 0.8421 - Recall: 0.7619 - Precision: 0.6957\n"
     ]
    },
    {
     "data": {
      "text/plain": [
       "[0.34785928381116765, 0.84210527, 0.7619048, 0.6956522]"
      ]
     },
     "execution_count": 25,
     "metadata": {},
     "output_type": "execute_result"
    }
   ],
   "source": [
    "model.evaluate(X_test, y_test) "
   ]
  },
  {
   "cell_type": "markdown",
   "metadata": {
    "id": "5olEwyc7D_ti"
   },
   "source": [
    "**X_test predictions**"
   ]
  },
  {
   "cell_type": "code",
   "execution_count": 26,
   "metadata": {
    "id": "w5hEzXcbefof"
   },
   "outputs": [
    {
     "name": "stdout",
     "output_type": "stream",
     "text": [
      "WARNING:tensorflow:Falling back from v2 loop because of error: Failed to find data adapter that can handle input: <class 'pandas.core.frame.DataFrame'>, <class 'NoneType'>\n"
     ]
    },
    {
     "data": {
      "text/plain": [
       "array([[0.01498905],\n",
       "       [0.01932371],\n",
       "       [0.5773739 ],\n",
       "       [0.00174993],\n",
       "       [0.02302352],\n",
       "       [0.8277743 ],\n",
       "       [0.0348275 ],\n",
       "       [0.20786172],\n",
       "       [0.08289191],\n",
       "       [0.02255499],\n",
       "       [0.71953046],\n",
       "       [0.00109449],\n",
       "       [0.5950312 ],\n",
       "       [0.01461941],\n",
       "       [0.02161494],\n",
       "       [0.00171506],\n",
       "       [0.09273902],\n",
       "       [0.0141376 ],\n",
       "       [0.06542042],\n",
       "       [0.34346253],\n",
       "       [0.23443022],\n",
       "       [0.5643003 ],\n",
       "       [0.01964921],\n",
       "       [0.7575983 ],\n",
       "       [0.06917933],\n",
       "       [0.02905887],\n",
       "       [0.614987  ],\n",
       "       [0.00208586],\n",
       "       [0.51606935],\n",
       "       [0.5851793 ],\n",
       "       [0.23726055],\n",
       "       [0.0713205 ],\n",
       "       [0.07359684],\n",
       "       [0.07179752],\n",
       "       [0.7436948 ],\n",
       "       [0.7459712 ],\n",
       "       [0.01137313],\n",
       "       [0.45831865],\n",
       "       [0.79311436],\n",
       "       [0.1775499 ],\n",
       "       [0.1587829 ],\n",
       "       [0.78527236],\n",
       "       [0.79116374],\n",
       "       [0.05859289],\n",
       "       [0.00552154],\n",
       "       [0.06935269],\n",
       "       [0.24209258],\n",
       "       [0.88239014],\n",
       "       [0.01458278],\n",
       "       [0.018076  ],\n",
       "       [0.7184502 ],\n",
       "       [0.00920039],\n",
       "       [0.16145903],\n",
       "       [0.00305912],\n",
       "       [0.00470075],\n",
       "       [0.800961  ],\n",
       "       [0.02189478],\n",
       "       [0.00765255],\n",
       "       [0.08665541],\n",
       "       [0.51345354],\n",
       "       [0.25079829],\n",
       "       [0.06934944],\n",
       "       [0.01781103],\n",
       "       [0.00958294],\n",
       "       [0.6123508 ],\n",
       "       [0.14097226],\n",
       "       [0.02377898],\n",
       "       [0.62011635],\n",
       "       [0.01978695],\n",
       "       [0.6801377 ],\n",
       "       [0.10245845],\n",
       "       [0.01369962],\n",
       "       [0.76648915],\n",
       "       [0.6133714 ],\n",
       "       [0.01862922],\n",
       "       [0.4243589 ]], dtype=float32)"
      ]
     },
     "execution_count": 26,
     "metadata": {},
     "output_type": "execute_result"
    }
   ],
   "source": [
    "preds = model.predict(X_test)\n",
    "preds"
   ]
  },
  {
   "cell_type": "markdown",
   "metadata": {
    "id": "S4B1DOQOlIpD"
   },
   "source": [
    "#### What do those look like?"
   ]
  },
  {
   "cell_type": "code",
   "execution_count": 27,
   "metadata": {
    "id": "WxVEisOYw4Jr"
   },
   "outputs": [
    {
     "data": {
      "text/plain": [
       "array([[0.],\n",
       "       [0.],\n",
       "       [1.],\n",
       "       [0.],\n",
       "       [0.],\n",
       "       [1.],\n",
       "       [0.],\n",
       "       [0.],\n",
       "       [0.],\n",
       "       [0.],\n",
       "       [1.],\n",
       "       [0.],\n",
       "       [1.],\n",
       "       [0.],\n",
       "       [0.],\n",
       "       [0.],\n",
       "       [0.],\n",
       "       [0.],\n",
       "       [0.],\n",
       "       [0.],\n",
       "       [0.],\n",
       "       [1.],\n",
       "       [0.],\n",
       "       [1.],\n",
       "       [0.],\n",
       "       [0.],\n",
       "       [1.],\n",
       "       [0.],\n",
       "       [1.],\n",
       "       [1.],\n",
       "       [0.],\n",
       "       [0.],\n",
       "       [0.],\n",
       "       [0.],\n",
       "       [1.],\n",
       "       [1.],\n",
       "       [0.],\n",
       "       [0.],\n",
       "       [1.],\n",
       "       [0.],\n",
       "       [0.],\n",
       "       [1.],\n",
       "       [1.],\n",
       "       [0.],\n",
       "       [0.],\n",
       "       [0.],\n",
       "       [0.],\n",
       "       [1.],\n",
       "       [0.],\n",
       "       [0.],\n",
       "       [1.],\n",
       "       [0.],\n",
       "       [0.],\n",
       "       [0.],\n",
       "       [0.],\n",
       "       [1.],\n",
       "       [0.],\n",
       "       [0.],\n",
       "       [0.],\n",
       "       [1.],\n",
       "       [0.],\n",
       "       [0.],\n",
       "       [0.],\n",
       "       [0.],\n",
       "       [1.],\n",
       "       [0.],\n",
       "       [0.],\n",
       "       [1.],\n",
       "       [0.],\n",
       "       [1.],\n",
       "       [0.],\n",
       "       [0.],\n",
       "       [1.],\n",
       "       [1.],\n",
       "       [0.],\n",
       "       [0.]], dtype=float32)"
      ]
     },
     "execution_count": 27,
     "metadata": {},
     "output_type": "execute_result"
    }
   ],
   "source": [
    "preds.round()"
   ]
  },
  {
   "cell_type": "markdown",
   "metadata": {
    "id": "vzrZM0MTxDl9"
   },
   "source": [
    "#### How is the model performing? \n",
    "Let's look at the confusion matrix."
   ]
  },
  {
   "cell_type": "code",
   "execution_count": 28,
   "metadata": {
    "colab": {
     "base_uri": "https://localhost:8080/",
     "height": 70
    },
    "id": "i-KcKPNNDBdE",
    "outputId": "3b559b90-eb67-4bfc-c929-1baeafe48b76"
   },
   "outputs": [
    {
     "data": {
      "text/plain": [
       "<tf.Tensor: id=8274, shape=(2, 2), dtype=int32, numpy=\n",
       "array([[48,  7],\n",
       "       [ 5, 16]], dtype=int32)>"
      ]
     },
     "execution_count": 28,
     "metadata": {},
     "output_type": "execute_result"
    }
   ],
   "source": [
    "tf.math.confusion_matrix(labels=y_test, predictions=preds.round())"
   ]
  },
  {
   "cell_type": "markdown",
   "metadata": {
    "id": "_Yk_wAPHwSme"
   },
   "source": [
    "Or just use sklearn's confusion matrix. "
   ]
  },
  {
   "cell_type": "code",
   "execution_count": 29,
   "metadata": {
    "id": "w6gZHqa3wQgS"
   },
   "outputs": [],
   "source": [
    "from sklearn.metrics import confusion_matrix"
   ]
  },
  {
   "cell_type": "code",
   "execution_count": 30,
   "metadata": {
    "colab": {
     "base_uri": "https://localhost:8080/",
     "height": 52
    },
    "id": "WIyMfhaGwc3K",
    "outputId": "22bf3e04-6641-4f29-b82e-6c0725d3f3d3"
   },
   "outputs": [
    {
     "data": {
      "text/plain": [
       "array([[48,  7],\n",
       "       [ 5, 16]])"
      ]
     },
     "execution_count": 30,
     "metadata": {},
     "output_type": "execute_result"
    }
   ],
   "source": [
    "confusion_matrix(y_test, preds.round())"
   ]
  },
  {
   "cell_type": "code",
   "execution_count": 31,
   "metadata": {
    "colab": {
     "base_uri": "https://localhost:8080/",
     "height": 34
    },
    "id": "z5Moa5kmwy28",
    "outputId": "41882a99-5b7a-41a1-8038-9a707fdd200c"
   },
   "outputs": [
    {
     "data": {
      "text/plain": [
       "48"
      ]
     },
     "execution_count": 31,
     "metadata": {},
     "output_type": "execute_result"
    }
   ],
   "source": [
    "tn, fp, fn, tp = confusion_matrix(y_test, preds.round()).ravel()\n",
    "tn"
   ]
  },
  {
   "cell_type": "markdown",
   "metadata": {
    "id": "i88nl2fLmmPo"
   },
   "source": [
    "#### Evaluate with other metrics"
   ]
  },
  {
   "cell_type": "code",
   "execution_count": 32,
   "metadata": {
    "id": "3HS5qvVEp7Dt"
   },
   "outputs": [],
   "source": [
    "from sklearn.metrics import recall_score, precision_score, f1_score, balanced_accuracy_score"
   ]
  },
  {
   "cell_type": "code",
   "execution_count": 33,
   "metadata": {
    "colab": {
     "base_uri": "https://localhost:8080/",
     "height": 34
    },
    "id": "tFNRQNR8z0qp",
    "outputId": "325c0ac8-620b-45e2-a253-eac63ae59205"
   },
   "outputs": [
    {
     "data": {
      "text/plain": [
       "0.7619047619047619"
      ]
     },
     "execution_count": 33,
     "metadata": {},
     "output_type": "execute_result"
    }
   ],
   "source": [
    "recall_score(y_test, preds.round())"
   ]
  },
  {
   "cell_type": "code",
   "execution_count": 34,
   "metadata": {
    "colab": {
     "base_uri": "https://localhost:8080/",
     "height": 34
    },
    "id": "F_BvhOiLqLd7",
    "outputId": "89c4a50f-e460-420f-b206-25d517fb0d42"
   },
   "outputs": [
    {
     "data": {
      "text/plain": [
       "0.7272727272727272"
      ]
     },
     "execution_count": 34,
     "metadata": {},
     "output_type": "execute_result"
    }
   ],
   "source": [
    "f1_score(y_test, preds.round())"
   ]
  },
  {
   "cell_type": "code",
   "execution_count": 35,
   "metadata": {
    "colab": {
     "base_uri": "https://localhost:8080/",
     "height": 34
    },
    "id": "4tzu786xqRkm",
    "outputId": "69106fd2-c47a-4e1a-96e3-44cab0f01c06"
   },
   "outputs": [
    {
     "data": {
      "text/plain": [
       "0.8173160173160172"
      ]
     },
     "execution_count": 35,
     "metadata": {},
     "output_type": "execute_result"
    }
   ],
   "source": [
    "balanced_accuracy_score(y_test, preds.round())"
   ]
  },
  {
   "cell_type": "markdown",
   "metadata": {
    "id": "WygQswjBwBb4"
   },
   "source": [
    "### Make a null model"
   ]
  },
  {
   "cell_type": "code",
   "execution_count": 36,
   "metadata": {
    "colab": {
     "base_uri": "https://localhost:8080/",
     "height": 70
    },
    "id": "6-J5CSa-wAt-",
    "outputId": "34c32d3a-c98f-49f8-f6f7-9587a04cbd85"
   },
   "outputs": [
    {
     "data": {
      "text/plain": [
       "0    0.723684\n",
       "1    0.276316\n",
       "Name: target, dtype: float64"
      ]
     },
     "execution_count": 36,
     "metadata": {},
     "output_type": "execute_result"
    }
   ],
   "source": [
    "y_test.value_counts(normalize=True)"
   ]
  },
  {
   "cell_type": "markdown",
   "metadata": {
    "id": "aWNUxsZshX71"
   },
   "source": [
    "## Can you make a better model?\n",
    "\n",
    "Change the model architecture and see if you can make a better model. Add nodes, dense layers, and dropout layers."
   ]
  },
  {
   "cell_type": "code",
   "execution_count": null,
   "metadata": {
    "id": "-vuo0gPswEjU"
   },
   "outputs": [],
   "source": []
  },
  {
   "cell_type": "markdown",
   "metadata": {
    "id": "P2g8fNYPhe5t"
   },
   "source": [
    "#### Save your best model. \n"
   ]
  },
  {
   "cell_type": "markdown",
   "metadata": {
    "id": "8Y2AqHwEh4A_"
   },
   "source": [
    "#### Compare your best neural net model to a  scikit-learn Logistic Regression model. Also try a GradientBoostingClassifier."
   ]
  },
  {
   "cell_type": "code",
   "execution_count": 37,
   "metadata": {
    "id": "50mvw0us9FdB"
   },
   "outputs": [],
   "source": [
    "from sklearn.linear_model import LogisticRegressionCV\n",
    "from sklearn.ensemble import GradientBoostingClassifier\n",
    "from sklearn.preprocessing import StandardScaler\n",
    "from sklearn.model_selection import GridSearchCV"
   ]
  },
  {
   "cell_type": "markdown",
   "metadata": {
    "id": "HtoS8JaYyWOM"
   },
   "source": [
    "#### Scale and Standardize for Logistic Regression\n"
   ]
  },
  {
   "cell_type": "code",
   "execution_count": 38,
   "metadata": {
    "id": "hHJpGiqJuK4m"
   },
   "outputs": [],
   "source": [
    "ss = StandardScaler()"
   ]
  },
  {
   "cell_type": "code",
   "execution_count": 39,
   "metadata": {
    "id": "A5_RtKAkuN4l"
   },
   "outputs": [],
   "source": [
    "X_train_sc = ss.fit_transform(X_train)\n",
    "X_test_sc = ss.transform(X_test)"
   ]
  },
  {
   "cell_type": "markdown",
   "metadata": {
    "id": "sWIVhO5tyaEt"
   },
   "source": [
    "#### Logistic Regression"
   ]
  },
  {
   "cell_type": "code",
   "execution_count": 40,
   "metadata": {
    "colab": {
     "base_uri": "https://localhost:8080/",
     "height": 34
    },
    "id": "jtSp1DXxusim",
    "outputId": "239139f6-71e3-4f92-84fa-f6021cf39c4b"
   },
   "outputs": [
    {
     "data": {
      "text/plain": [
       "0.8421052631578947"
      ]
     },
     "execution_count": 40,
     "metadata": {},
     "output_type": "execute_result"
    }
   ],
   "source": [
    "log_reg = LogisticRegressionCV(Cs=[.1, 1, 10, 100], random_state=123)\n",
    "log_reg.fit(X_train_sc, y_train)\n",
    "log_reg.score(X_test_sc, y_test)"
   ]
  },
  {
   "cell_type": "code",
   "execution_count": 41,
   "metadata": {
    "colab": {
     "base_uri": "https://localhost:8080/",
     "height": 34
    },
    "id": "yj-0NL51xEU8",
    "outputId": "e5f15037-5728-4f3b-8af1-3ed0f179e27b"
   },
   "outputs": [
    {
     "data": {
      "text/plain": [
       "array([10.])"
      ]
     },
     "execution_count": 41,
     "metadata": {},
     "output_type": "execute_result"
    }
   ],
   "source": [
    "log_reg.C_ # best value for C"
   ]
  },
  {
   "cell_type": "code",
   "execution_count": 42,
   "metadata": {
    "id": "jUz6DIErzVGU"
   },
   "outputs": [],
   "source": [
    "lr_preds = log_reg.predict(X_test_sc)"
   ]
  },
  {
   "cell_type": "markdown",
   "metadata": {
    "id": "gp1fbbJXzDCC"
   },
   "source": [
    "Evaluate performance on metrics other than accuracy"
   ]
  },
  {
   "cell_type": "code",
   "execution_count": 43,
   "metadata": {
    "colab": {
     "base_uri": "https://localhost:8080/",
     "height": 34
    },
    "id": "De4E9nPhzDW0",
    "outputId": "e717be52-8423-4840-fdc1-d81f692f6a77"
   },
   "outputs": [
    {
     "data": {
      "text/plain": [
       "0.7"
      ]
     },
     "execution_count": 43,
     "metadata": {},
     "output_type": "execute_result"
    }
   ],
   "source": [
    "f1_score(y_test, lr_preds)"
   ]
  },
  {
   "cell_type": "code",
   "execution_count": 44,
   "metadata": {
    "colab": {
     "base_uri": "https://localhost:8080/",
     "height": 34
    },
    "id": "83EvEGrCzNPZ",
    "outputId": "7ba5901d-0815-4b10-e573-2c9ecc209896"
   },
   "outputs": [
    {
     "data": {
      "text/plain": [
       "0.7368421052631579"
      ]
     },
     "execution_count": 44,
     "metadata": {},
     "output_type": "execute_result"
    }
   ],
   "source": [
    "precision_score(y_test, lr_preds)"
   ]
  },
  {
   "cell_type": "code",
   "execution_count": 45,
   "metadata": {
    "colab": {
     "base_uri": "https://localhost:8080/",
     "height": 34
    },
    "id": "dY3UfHTJ03vs",
    "outputId": "7951b49a-e8a6-4508-f7aa-6189b4382465"
   },
   "outputs": [
    {
     "data": {
      "text/plain": [
       "0.7878787878787878"
      ]
     },
     "execution_count": 45,
     "metadata": {},
     "output_type": "execute_result"
    }
   ],
   "source": [
    "balanced_accuracy_score(y_test, lr_preds)"
   ]
  },
  {
   "cell_type": "markdown",
   "metadata": {
    "id": "E04fXBHexQdX"
   },
   "source": [
    "### GradientBoosting"
   ]
  },
  {
   "cell_type": "code",
   "execution_count": 46,
   "metadata": {
    "colab": {
     "base_uri": "https://localhost:8080/",
     "height": 34
    },
    "id": "gSZYH3XyuXRe",
    "outputId": "06394eb3-0489-4dc4-99b4-16ac5c5f3cec"
   },
   "outputs": [
    {
     "data": {
      "text/plain": [
       "0.8157894736842105"
      ]
     },
     "execution_count": 46,
     "metadata": {},
     "output_type": "execute_result"
    }
   ],
   "source": [
    "pg = dict(\n",
    "    max_depth=[2, 3], \n",
    "    n_estimators=[100, 1000]\n",
    "    )\n",
    "gs = GridSearchCV(GradientBoostingClassifier(random_state=123), param_grid=pg, n_jobs=-1)\n",
    "gs.fit(X_train, y_train)\n",
    "gs.score(X_test, y_test)"
   ]
  },
  {
   "cell_type": "code",
   "execution_count": 47,
   "metadata": {
    "colab": {
     "base_uri": "https://localhost:8080/",
     "height": 87
    },
    "id": "fO5py5Xvyqon",
    "outputId": "94d443d2-2e5b-4967-e5c1-91d1a984e483"
   },
   "outputs": [
    {
     "data": {
      "text/plain": [
       "array([0, 0, 0, 0, 0, 1, 0, 0, 0, 0, 1, 0, 0, 0, 0, 0, 0, 0, 0, 0, 0, 0,\n",
       "       0, 1, 0, 0, 0, 0, 0, 0, 0, 0, 0, 0, 1, 1, 0, 0, 1, 0, 0, 1, 1, 0,\n",
       "       0, 0, 0, 1, 0, 0, 1, 0, 0, 0, 0, 1, 0, 0, 0, 1, 0, 0, 0, 0, 1, 0,\n",
       "       0, 0, 0, 0, 0, 0, 1, 1, 0, 0])"
      ]
     },
     "execution_count": 47,
     "metadata": {},
     "output_type": "execute_result"
    }
   ],
   "source": [
    "boost_preds = gs.predict(X_test)\n",
    "boost_preds"
   ]
  },
  {
   "cell_type": "code",
   "execution_count": 48,
   "metadata": {
    "colab": {
     "base_uri": "https://localhost:8080/",
     "height": 34
    },
    "id": "kHMYGfyDvMcM",
    "outputId": "5ec643c5-12b9-40aa-ba05-a12fe76c12c7"
   },
   "outputs": [
    {
     "data": {
      "text/plain": [
       "{'max_depth': 2, 'n_estimators': 100}"
      ]
     },
     "execution_count": 48,
     "metadata": {},
     "output_type": "execute_result"
    }
   ],
   "source": [
    "gs.best_params_"
   ]
  },
  {
   "cell_type": "markdown",
   "metadata": {
    "id": "nojEwxvjy4f-"
   },
   "source": [
    "Evaluate on metrics other than accuracy."
   ]
  },
  {
   "cell_type": "code",
   "execution_count": 49,
   "metadata": {
    "colab": {
     "base_uri": "https://localhost:8080/",
     "height": 34
    },
    "id": "Gl-9aQxZxiKg",
    "outputId": "33cff554-2999-4d4d-92ac-c541fed07780"
   },
   "outputs": [
    {
     "data": {
      "text/plain": [
       "0.5238095238095238"
      ]
     },
     "execution_count": 49,
     "metadata": {},
     "output_type": "execute_result"
    }
   ],
   "source": [
    "recall_score(y_test, boost_preds)"
   ]
  },
  {
   "cell_type": "code",
   "execution_count": 50,
   "metadata": {
    "colab": {
     "base_uri": "https://localhost:8080/",
     "height": 34
    },
    "id": "eRNkAj6jy2cY",
    "outputId": "39c8de0e-ba3e-428d-f638-4a400cbe6ea7"
   },
   "outputs": [
    {
     "data": {
      "text/plain": [
       "0.7333333333333333"
      ]
     },
     "execution_count": 50,
     "metadata": {},
     "output_type": "execute_result"
    }
   ],
   "source": [
    "precision_score(y_test, boost_preds)"
   ]
  },
  {
   "cell_type": "code",
   "execution_count": 51,
   "metadata": {
    "colab": {
     "base_uri": "https://localhost:8080/",
     "height": 34
    },
    "id": "gikwEMzMy7eD",
    "outputId": "af8c0188-c23c-4e27-947e-f070ec9b807d"
   },
   "outputs": [
    {
     "data": {
      "text/plain": [
       "0.611111111111111"
      ]
     },
     "execution_count": 51,
     "metadata": {},
     "output_type": "execute_result"
    }
   ],
   "source": [
    "f1_score(y_test, boost_preds )"
   ]
  },
  {
   "cell_type": "code",
   "execution_count": 52,
   "metadata": {
    "colab": {
     "base_uri": "https://localhost:8080/",
     "height": 34
    },
    "id": "BtXTZ9Zo0-xn",
    "outputId": "b5673f9d-0d22-44c6-bcd0-8eeb3ee50bdc"
   },
   "outputs": [
    {
     "data": {
      "text/plain": [
       "0.7255411255411255"
      ]
     },
     "execution_count": 52,
     "metadata": {},
     "output_type": "execute_result"
    }
   ],
   "source": [
    "balanced_accuracy_score(y_test, boost_preds)"
   ]
  },
  {
   "cell_type": "markdown",
   "metadata": {
    "id": "i1m6ZZ5UiKBX"
   },
   "source": [
    "#### Which evaluation metric(s) are best to use in this problem?"
   ]
  },
  {
   "cell_type": "markdown",
   "metadata": {
    "id": "xEBF6anpz9ta"
   },
   "source": [
    "I would argue the F1 score is the best metric in this case. It encompasses both the precision and the recall. The model's ability to discriminate true positives from false positives and false negatives is important for heart disease detection. \n",
    "\n",
    "\n"
   ]
  },
  {
   "cell_type": "markdown",
   "metadata": {
    "id": "qx8eLEhC3fC9"
   },
   "source": [
    "#### Which model would you recommend a medical service provider use?"
   ]
  },
  {
   "cell_type": "markdown",
   "metadata": {
    "id": "DgDvq3lc3WCd"
   },
   "source": [
    "The neural net model performed slightly better than the LogisticRegression model and a good bit better than the GradientBoostingClassifier on the test set. Althought the dataset was small and I would like more data, with the data available, if prediction is most important, I would choose to use the neural net model."
   ]
  },
  {
   "cell_type": "markdown",
   "metadata": {
    "id": "OB8r5k5j34l4"
   },
   "source": [
    "\n",
    "#### Download your notebook and put it in your submission folder. 🎉"
   ]
  },
  {
   "cell_type": "code",
   "execution_count": null,
   "metadata": {
    "id": "eiz0IO064IZX"
   },
   "outputs": [],
   "source": []
  }
 ],
 "metadata": {
  "accelerator": "TPU",
  "colab": {
   "collapsed_sections": [],
   "name": "7.01-lab-nn-classification-solution.ipynb",
   "provenance": []
  },
  "kernelspec": {
   "display_name": "Python 3",
   "language": "python",
   "name": "python3"
  },
  "language_info": {
   "codemirror_mode": {
    "name": "ipython",
    "version": 3
   },
   "file_extension": ".py",
   "mimetype": "text/x-python",
   "name": "python",
   "nbconvert_exporter": "python",
   "pygments_lexer": "ipython3",
   "version": "3.7.9"
  }
 },
 "nbformat": 4,
 "nbformat_minor": 1
}
