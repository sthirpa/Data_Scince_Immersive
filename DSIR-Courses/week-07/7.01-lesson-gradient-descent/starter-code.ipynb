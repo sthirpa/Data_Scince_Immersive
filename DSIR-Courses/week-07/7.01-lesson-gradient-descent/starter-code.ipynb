{
 "cells": [
  {
   "cell_type": "markdown",
   "metadata": {},
   "source": [
    "<img src=\"http://imgur.com/1ZcRyrc.png\" style=\"float: left; margin: 20px; height: 55px\">\n",
    "\n",
    "## Gradient Descent Code-Along"
   ]
  },
  {
   "cell_type": "markdown",
   "metadata": {},
   "source": [
    "Let's walk through how gradient descent works using code."
   ]
  },
  {
   "cell_type": "code",
   "execution_count": 1,
   "metadata": {},
   "outputs": [],
   "source": [
    "import pandas as pd\n",
    "import numpy as np\n",
    "import matplotlib.pyplot as plt"
   ]
  },
  {
   "cell_type": "code",
   "execution_count": 2,
   "metadata": {},
   "outputs": [],
   "source": [
    "# The objective function\n",
    "def f(x):\n",
    "    return -np.log(x) / (1 + x)"
   ]
  },
  {
   "cell_type": "code",
   "execution_count": 3,
   "metadata": {},
   "outputs": [],
   "source": [
    "# Derivative of the objective function\n",
    "def f_deriv(x):\n",
    "    return -(1 / x + 1 - np.log(x)) / (1 + x)**2"
   ]
  },
  {
   "cell_type": "code",
   "execution_count": 5,
   "metadata": {},
   "outputs": [
    {
     "data": {
      "image/png": "[encoded data removed]",
      "text/plain": [
       "<Figure size 432x288 with 1 Axes>"
      ]
     },
     "metadata": {
      "needs_background": "light"
     },
     "output_type": "display_data"
    }
   ],
   "source": [
    "# Let's see what it looks like\n",
    "xs = np.linspace(1, 7, 100)\n",
    "plt.plot(xs, f(xs));"
   ]
  },
  {
   "cell_type": "code",
   "execution_count": 11,
   "metadata": {},
   "outputs": [
    {
     "name": "stdout",
     "output_type": "stream",
     "text": [
      "Step0: x = 1.5\n",
      "Step1: x = 1.7017922493693605\n",
      "Step2: x = 1.8464470335715468\n",
      "Step3: x = 1.9610221405517203\n",
      "Step4: x = 2.0564265087916813\n",
      "Step5: x = 2.1383502647523693\n",
      "Step6: x = 2.210194938504022\n",
      "Step7: x = 2.2741780114298074\n",
      "Step8: x = 2.331835353759208\n",
      "Step9: x = 2.3842796768132155\n",
      "Step10: x = 2.4323456906041288\n",
      "Step11: x = 2.4766772253818217\n",
      "Step12: x = 2.5177823181051524\n",
      "Step13: x = 2.5560695414655683\n",
      "Step14: x = 2.5918728109273808\n",
      "Step15: x = 2.625468827233227\n",
      "Step16: x = 2.657089651028602\n",
      "Step17: x = 2.686931966038015\n",
      "Step18: x = 2.7151640327562623\n",
      "Step19: x = 2.7419309959321643\n",
      "Step20: x = 2.7673589958070934\n",
      "Step21: x = 2.791558395049376\n",
      "Step22: x = 2.8146263418622817\n",
      "Step23: x = 2.836648827825167\n",
      "Step24: x = 2.85770235629841\n",
      "Step25: x = 2.877855307220008\n",
      "Step26: x = 2.897169062720038\n",
      "Step27: x = 2.9156989424915425\n",
      "Step28: x = 2.9334949864996505\n",
      "Step29: x = 2.9506026141813595\n",
      "Step30: x = 2.967063182961276\n",
      "Step31: x = 2.982914464109841\n",
      "Step32: x = 2.998191050295703\n",
      "Step33: x = 3.0129247063443003\n",
      "Step34: x = 3.0271446725020166\n",
      "Step35: x = 3.0408779277675135\n",
      "Step36: x = 3.054149419476936\n",
      "Step37: x = 3.066982264234341\n",
      "Step38: x = 3.079397924400332\n",
      "Step39: x = 3.0914163636431904\n",
      "Step40: x = 3.103056184481621\n",
      "Step41: x = 3.114334750278895\n",
      "Step42: x = 3.1252682937631473\n",
      "Step43: x = 3.135872013831195\n",
      "Step44: x = 3.14616016213033\n",
      "Step45: x = 3.156146120693826\n",
      "Step46: x = 3.165842471723105\n",
      "Step47: x = 3.1752610604562004\n",
      "Step48: x = 3.184413051932974\n",
      "Step49: x = 3.1933089823583787\n",
      "Step50: x = 3.201958805672409\n",
      "Step51: x = 3.210371935856531\n",
      "Step52: x = 3.218557285439012\n",
      "Step53: x = 3.226523300603872\n",
      "Step54: x = 3.234277993258563\n",
      "Step55: x = 3.2418289703727514\n",
      "Step56: x = 3.2491834608636156\n",
      "Step57: x = 3.256348340271062\n",
      "Step58: x = 3.263330153438432\n",
      "Step59: x = 3.2701351353900447\n",
      "Step60: x = 3.2767692305757543\n",
      "Step61: x = 3.2832381106341897\n",
      "Step62: x = 3.2895471908100893\n",
      "Step63: x = 3.2957016451468713\n",
      "Step64: x = 3.3017064205630033\n",
      "Step65: x = 3.30756624990962\n",
      "Step66: x = 3.31328566409703\n",
      "Step67: x = 3.318869003369041\n",
      "Step68: x = 3.324320427796316\n",
      "Step69: x = 3.32964392705309\n",
      "Step70: x = 3.3348433295354707\n",
      "Step71: x = 3.3399223108740657\n",
      "Step72: x = 3.3448844018888186\n",
      "Step73: x = 3.349732996029542\n",
      "Step74: x = 3.354471356341728\n",
      "Step75: x = 3.3591026219936984\n",
      "Step76: x = 3.3636298143979797\n",
      "Step77: x = 3.368055842956949\n",
      "Step78: x = 3.372383510460215\n",
      "Step79: x = 3.376615518158886\n",
      "Step80: x = 3.380754470539767\n",
      "Step81: x = 3.3848028798206324\n",
      "Step82: x = 3.388763170185997\n",
      "Step83: x = 3.392637681781242\n",
      "Step84: x = 3.3964286744815286\n",
      "Step85: x = 3.4001383314506435\n",
      "Step86: x = 3.403768762503737\n",
      "Step87: x = 3.407322007286846\n",
      "Step88: x = 3.4108000382851067\n",
      "Step89: x = 3.414204763670671\n",
      "Step90: x = 3.417538030000519\n",
      "Step91: x = 3.4208016247736097\n",
      "Step92: x = 3.423997278856125\n",
      "Step93: x = 3.427126668782925\n",
      "Step94: x = 3.4301914189427687\n",
      "Step95: x = 3.4331931036542995\n",
      "Step96: x = 3.436133249139325\n",
      "Step97: x = 3.439013335399459\n",
      "Step98: x = 3.4418347980017763\n",
      "Step99: x = 3.4445990297787583\n",
      "Step100: x = 3.4473073824474403\n",
      "Step101: x = 3.449961168152353\n",
      "Step102: x = 3.4525616609365466\n",
      "Step103: x = 3.4551100981447047\n",
      "Step104: x = 3.457607681762096\n",
      "Step105: x = 3.4600555796928756\n",
      "Step106: x = 3.4624549269810205\n",
      "Step107: x = 3.464806826976978\n",
      "Step108: x = 3.4671123524529186\n",
      "Step109: x = 3.4693725466693013\n",
      "Step110: x = 3.4715884243952937\n",
      "Step111: x = 3.4737609728854393\n",
      "Step112: x = 3.4758911528148184\n",
      "Step113: x = 3.477979899174813\n",
      "Step114: x = 3.480028122131465\n",
      "Step115: x = 3.482036707848296\n",
      "Step116: x = 3.4840065192753573\n",
      "Step117: x = 3.4859383969061635\n",
      "Step118: x = 3.487833159504081\n",
      "Step119: x = 3.489691604799647\n",
      "Step120: x = 3.4915145101602163\n",
      "Step121: x = 3.4933026332332453\n",
      "Step122: x = 3.4950567125644665\n",
      "Step123: x = 3.4967774681921218\n",
      "Step124: x = 3.498465602218372\n",
      "Step125: x = 3.5001217993589284\n",
      "Step126: x = 3.501746727471908\n",
      "Step127: x = 3.5033410380668495\n",
      "Step128: x = 3.504905366794787\n",
      "Step129: x = 3.506440333920224\n",
      "Step130: x = 3.5079465447758147\n",
      "Step131: x = 3.5094245902005063\n",
      "Step132: x = 3.5108750469618704\n",
      "Step133: x = 3.512298478163306\n",
      "Step134: x = 3.513695433636766\n",
      "Step135: x = 3.5150664503216205\n",
      "Step136: x = 3.5164120526302547\n",
      "Step137: x = 3.5177327528009457\n",
      "Step138: x = 3.519029051238562\n",
      "Step139: x = 3.5203014368435834\n",
      "Step140: x = 3.521550387329923\n",
      "Step141: x = 3.5227763695320133\n",
      "Step142: x = 3.523979839701585\n",
      "Step143: x = 3.5251612437945616\n",
      "Step144: x = 3.5263210177484607\n",
      "Step145: x = 3.5274595877506787\n",
      "Step146: x = 3.5285773704980223\n",
      "Step147: x = 3.5296747734478284\n",
      "Step148: x = 3.5307521950609977\n",
      "Step149: x = 3.531810025037259\n",
      "Step150: x = 3.53284864454296\n",
      "Step151: x = 3.5338684264316673\n",
      "Step152: x = 3.534869735457856\n",
      "Step153: x = 3.5358529284839397\n",
      "Step154: x = 3.5368183546808973\n",
      "Step155: x = 3.5377663557227303\n",
      "Step156: x = 3.5386972659749794\n",
      "Step157: x = 3.53961141267752\n",
      "Step158: x = 3.5405091161218443\n",
      "Step159: x = 3.541390689823026\n",
      "Step160: x = 3.5422564406865664\n",
      "Step161: x = 3.5431066691702964\n",
      "Step162: x = 3.5439416694415176\n",
      "Step163: x = 3.5447617295295464\n",
      "Step164: x = 3.5455671314738213\n",
      "Step165: x = 3.546358151467733\n",
      "Step166: x = 3.547135059998322\n",
      "Step167: x = 3.5478981219819823\n",
      "Step168: x = 3.5486475968963203\n",
      "Step169: x = 3.549383738908284\n",
      "Step170: x = 3.5501067969987012\n",
      "Step171: x = 3.5508170150833402\n",
      "Step172: x = 3.5515146321306124\n",
      "Step173: x = 3.552199882276026\n",
      "Step174: x = 3.552872994933501\n",
      "Step175: x = 3.5535341949036487\n",
      "Step176: x = 3.5541837024791074\n",
      "Step177: x = 3.5548217335470413\n",
      "Step178: x = 3.5554484996888855\n",
      "Step179: x = 3.5560642082774283\n",
      "Step180: x = 3.5566690625713155\n",
      "Step181: x = 3.5572632618070594\n",
      "Step182: x = 3.5578470012886294\n",
      "Step183: x = 3.5584204724746997\n",
      "Step184: x = 3.5589838630636312\n",
      "Step185: x = 3.5595373570762514\n",
      "Step186: x = 3.5600811349365054\n",
      "Step187: x = 3.560615373550041\n",
      "Step188: x = 3.5611402463807913\n",
      "Step189: x = 3.561655923525615\n",
      "Step190: x = 3.562162571787054\n",
      "Step191: x = 3.562660354744262\n",
      "Step192: x = 3.5631494328221653\n",
      "Step193: x = 3.5636299633588973\n",
      "Step194: x = 3.5641021006715685\n",
      "Step195: x = 3.564565996120416\n",
      "Step196: x = 3.5650217981713768\n",
      "Step197: x = 3.5654696524571374\n",
      "Step198: x = 3.5659097018366976\n",
      "Step199: x = 3.5663420864534956\n",
      "Step200: x = 3.566766943792132\n",
      "Step201: x = 3.5671844087337345\n",
      "Step202: x = 3.5675946136100034\n",
      "Step203: x = 3.5679976882559696\n",
      "Step204: x = 3.5683937600615065\n",
      "Step205: x = 3.5687829540216285\n",
      "Step206: x = 3.569165392785609\n",
      "Step207: x = 3.5695411967049515\n",
      "Step208: x = 3.569910483880246\n",
      "Step209: x = 3.570273370206936\n",
      "Step210: x = 3.570629969420036\n",
      "Step211: x = 3.570980393137816\n",
      "Step212: x = 3.57132475090449\n",
      "Step213: x = 3.571663150231928\n",
      "Step214: x = 3.5719956966404247\n",
      "Step215: x = 3.5723224936985445\n",
      "Step216: x = 3.5726436430620683\n",
      "Step217: x = 3.5729592445120666\n",
      "Step218: x = 3.5732693959921225\n",
      "Step219: x = 3.5735741936447245\n",
      "Step220: x = 3.5738737318468514\n",
      "Step221: x = 3.574168103244771\n",
      "Step222: x = 3.5744573987880734\n",
      "Step223: x = 3.574741707762954\n",
      "Step224: x = 3.5750211178247717\n",
      "Step225: x = 3.575295715029896\n",
      "Step226: x = 3.575565583866861\n",
      "Step227: x = 3.575830807286849\n",
      "Step228: x = 3.5760914667335117\n",
      "Step229: x = 3.5763476421721534\n",
      "Step230: x = 3.5765994121182874\n",
      "Step231: x = 3.5768468536655837\n",
      "Step232: x = 3.5770900425132197\n",
      "Step233: x = 3.577329052992652\n",
      "Step234: x = 3.5775639580938217\n",
      "Step235: x = 3.5777948294908075\n",
      "Step236: x = 3.5780217375669374\n",
      "Step237: x = 3.578244751439376\n",
      "Step238: x = 3.578463938983198\n",
      "Step239: x = 3.5786793668549604\n",
      "Step240: x = 3.578891100515783\n",
      "Step241: x = 3.5790992042539527\n",
      "Step242: x = 3.5793037412070623\n",
      "Step243: x = 3.579504773383689\n",
      "Step244: x = 3.579702361684634\n",
      "Step245: x = 3.579896565923721\n",
      "Step246: x = 3.580087444848174\n",
      "Step247: x = 3.58027505615858\n",
      "Step248: x = 3.5804594565284424\n",
      "Step249: x = 3.5806407016233455\n",
      "Step250: x = 3.580818846119723\n",
      "Step251: x = 3.5809939437232563\n",
      "Step252: x = 3.5811660471868985\n",
      "Step253: x = 3.5813352083285377\n",
      "Step254: x = 3.5815014780483083\n",
      "Step255: x = 3.5816649063455563\n",
      "Step256: x = 3.581825542335467\n",
      "Step257: x = 3.5819834342653625\n",
      "Step258: x = 3.5821386295306765\n",
      "Step259: x = 3.5822911746906145\n",
      "Step260: x = 3.582441115483503\n",
      "Step261: x = 3.5825884968418387\n",
      "Step262: x = 3.5827333629070433\n",
      "Step263: x = 3.5828757570439262\n",
      "Step264: x = 3.583015721854868\n",
      "Step265: x = 3.5831532991937247\n",
      "Step266: x = 3.5832885301794644\n",
      "Step267: x = 3.5834214552095363\n",
      "Step268: x = 3.5835521139729827\n",
      "Step269: x = 3.5836805454632974\n",
      "Step270: x = 3.583806787991035\n",
      "Step271: x = 3.583930879196179\n",
      "Step272: x = 3.58405285606027\n",
      "Step273: x = 3.584172754918304\n",
      "Step274: x = 3.5842906114704016\n",
      "Step275: x = 3.5844064607932533\n",
      "Step276: x = 3.5845203373513486\n",
      "Step277: x = 3.5846322750079898\n",
      "Step278: x = 3.5847423070360973\n",
      "Step279: x = 3.58485046612881\n",
      "Step280: x = 3.5849567844098855\n",
      "Step281: x = 3.5850612934439012\n",
      "Step282: x = 3.5851640242462675\n",
      "Step283: x = 3.585265007293047\n",
      "Step284: x = 3.585364272530595\n",
      "Step285: x = 3.5854618493850134\n",
      "Step286: x = 3.5855577667714313\n",
      "Step287: x = 3.58565205310311\n",
      "Step288: x = 3.585744736300379\n",
      "Step289: x = 3.5858358437994053\n",
      "Step290: x = 3.5859254025607985\n",
      "Step291: x = 3.5860134390780565\n",
      "Step292: x = 3.586099979385854\n",
      "Step293: x = 3.5861850490681784\n",
      "Step294: x = 3.586268673266314\n",
      "Step295: x = 3.5863508766866783\n",
      "Step296: x = 3.586431683608516\n",
      "Step297: x = 3.586511117891449\n",
      "Step298: x = 3.5865892029828847\n",
      "Step299: x = 3.586665961925297\n"
     ]
    }
   ],
   "source": [
    "# Compute Gradient Descent by hand --> by Python :)\n",
    "\n",
    "# Initial value and learning rate\n",
    "\n",
    "\n",
    "# Iterate and apply gradient descent\n",
    "\n",
    "for i in range(300):\n",
    "    x =  # This is gradient descent\n",
    "    \n",
    "    print(f'Step{i}: x = {x}')"
   ]
  },
  {
   "cell_type": "code",
   "execution_count": 13,
   "metadata": {},
   "outputs": [
    {
     "data": {
      "image/png": "[encoded data removed]",
      "text/plain": [
       "<Figure size 432x288 with 1 Axes>"
      ]
     },
     "metadata": {
      "needs_background": "light"
     },
     "output_type": "display_data"
    }
   ],
   "source": [
    "# Plot iterations\n",
    "plt.plot(x_steps);"
   ]
  },
  {
   "cell_type": "markdown",
   "metadata": {},
   "source": [
    "## Let's see if we can do OLS by Gradient Descent!"
   ]
  },
  {
   "cell_type": "code",
   "execution_count": 14,
   "metadata": {},
   "outputs": [],
   "source": [
    "# Set a random seed.\n",
    "np.random.seed(42)"
   ]
  },
  {
   "cell_type": "code",
   "execution_count": 15,
   "metadata": {},
   "outputs": [],
   "source": [
    "# Randomly generate data from a Poisson(45) distribution.\n",
    "temp = np.random.poisson(45, 100)"
   ]
  },
  {
   "cell_type": "code",
   "execution_count": 16,
   "metadata": {},
   "outputs": [
    {
     "data": {
      "text/plain": [
       "array([42, 50, 37, 47, 52, 38, 41, 44, 47, 41, 44, 38, 47, 47, 41, 49, 36,\n",
       "       40, 41, 46, 58, 47, 34, 29, 43, 52, 40, 37, 51, 49, 51, 42, 53, 42,\n",
       "       41, 50, 55, 36, 50, 51, 45, 41, 56, 43, 39, 41, 57, 48, 52, 55, 41,\n",
       "       39, 43, 36, 59, 45, 63, 45, 40, 47, 30, 56, 37, 48, 39, 42, 48, 34,\n",
       "       41, 49, 45, 48, 49, 58, 42, 40, 52, 46, 55, 42, 48, 47, 35, 46, 48,\n",
       "       49, 41, 48, 48, 34, 40, 55, 51, 46, 38, 40, 48, 56, 44, 41])"
      ]
     },
     "execution_count": 16,
     "metadata": {},
     "output_type": "execute_result"
    }
   ],
   "source": [
    "# View array.\n",
    "temp"
   ]
  },
  {
   "cell_type": "code",
   "execution_count": 17,
   "metadata": {},
   "outputs": [
    {
     "name": "stdout",
     "output_type": "stream",
     "text": [
      "45.18\n"
     ]
    }
   ],
   "source": [
    "# Calculate mean of array.\n",
    "print(np.mean(temp))"
   ]
  },
  {
   "cell_type": "markdown",
   "metadata": {},
   "source": [
    "**Ohio State Fun Facts:**\n",
    "1. Ohio Stadium can seat 104,944 people. (Source: [Wikipedia](https://en.wikipedia.org/wiki/Ohio_Stadium).)\n",
    "2. Ohio Stadium's record attendance is 110,045 people. (Source: [Wikipedia](https://en.wikipedia.org/wiki/Ohio_Stadium).)\n",
    "3. Ohio State is better than Michigan. (Source: It's just a fact.)\n",
    "4. Ohio State students enjoy soda. (Source: first-hand knowledge.)"
   ]
  },
  {
   "cell_type": "code",
   "execution_count": 18,
   "metadata": {},
   "outputs": [],
   "source": [
    "# sodas ~ N(200000 + 1000 * temp, 20000)\n",
    "sodas_sold = 200_000 + 1000 * temp + np.round(np.random.normal(0, 20_000, 100))"
   ]
  },
  {
   "cell_type": "code",
   "execution_count": 19,
   "metadata": {},
   "outputs": [
    {
     "data": {
      "text/plain": [
       "array([233070., 267128., 241282., 222085., 255464., 245706., 223323.,\n",
       "       247075., 248164., 218141., 251156., 249216., 268661., 268076.,\n",
       "       213447., 230243., 246301., 250276., 251301., 323055., 269418.,\n",
       "       269711., 253080., 242028., 236695., 267179., 224543., 232264.,\n",
       "       241293., 250637., 297293., 204655., 266725., 209746., 231561.,\n",
       "       271779., 256286., 214445., 235694., 264592., 230393., 245329.,\n",
       "       256911., 229968., 281879., 253678., 216497., 251729., 238764.,\n",
       "       272049., 225150., 236705., 253100., 253315., 234994., 238310.,\n",
       "       253501., 231933., 275309., 255100., 204782., 274357., 279443.,\n",
       "       268649., 208613., 232315., 273338., 219847., 249876., 264493.,\n",
       "       226461., 246809., 184175., 237512., 236949., 215044., 284648.,\n",
       "       217397., 246199., 244615., 276825., 218283., 258263., 246205.,\n",
       "       228370., 258242., 244981., 235996., 249396., 226294., 242270.,\n",
       "       268243., 282720., 221244., 280661., 200958., 244964., 267766.,\n",
       "       249620., 228546.])"
      ]
     },
     "execution_count": 19,
     "metadata": {},
     "output_type": "execute_result"
    }
   ],
   "source": [
    "sodas_sold"
   ]
  },
  {
   "cell_type": "markdown",
   "metadata": {},
   "source": [
    "$$ \\text{sodas_sold}_i = 200000 + 1000 * \\text{temp}_i + \\varepsilon_i $$"
   ]
  },
  {
   "cell_type": "code",
   "execution_count": 20,
   "metadata": {},
   "outputs": [],
   "source": [
    "# Create dataframe with temp and sodas_sold.\n"
   ]
  },
  {
   "cell_type": "code",
   "execution_count": 21,
   "metadata": {},
   "outputs": [
    {
     "data": {
      "text/html": [
       "<div>\n",
       "<style scoped>\n",
       "    .dataframe tbody tr th:only-of-type {\n",
       "        vertical-align: middle;\n",
       "    }\n",
       "\n",
       "    .dataframe tbody tr th {\n",
       "        vertical-align: top;\n",
       "    }\n",
       "\n",
       "    .dataframe thead th {\n",
       "        text-align: right;\n",
       "    }\n",
       "</style>\n",
       "<table border=\"1\" class=\"dataframe\">\n",
       "  <thead>\n",
       "    <tr style=\"text-align: right;\">\n",
       "      <th></th>\n",
       "      <th>temp</th>\n",
       "      <th>drinks</th>\n",
       "    </tr>\n",
       "  </thead>\n",
       "  <tbody>\n",
       "    <tr>\n",
       "      <th>0</th>\n",
       "      <td>42</td>\n",
       "      <td>233070.0</td>\n",
       "    </tr>\n",
       "    <tr>\n",
       "      <th>1</th>\n",
       "      <td>50</td>\n",
       "      <td>267128.0</td>\n",
       "    </tr>\n",
       "    <tr>\n",
       "      <th>2</th>\n",
       "      <td>37</td>\n",
       "      <td>241282.0</td>\n",
       "    </tr>\n",
       "    <tr>\n",
       "      <th>3</th>\n",
       "      <td>47</td>\n",
       "      <td>222085.0</td>\n",
       "    </tr>\n",
       "    <tr>\n",
       "      <th>4</th>\n",
       "      <td>52</td>\n",
       "      <td>255464.0</td>\n",
       "    </tr>\n",
       "  </tbody>\n",
       "</table>\n",
       "</div>"
      ],
      "text/plain": [
       "   temp    drinks\n",
       "0    42  233070.0\n",
       "1    50  267128.0\n",
       "2    37  241282.0\n",
       "3    47  222085.0\n",
       "4    52  255464.0"
      ]
     },
     "execution_count": 21,
     "metadata": {},
     "output_type": "execute_result"
    }
   ],
   "source": [
    "# Check the first five rows.\n"
   ]
  },
  {
   "cell_type": "markdown",
   "metadata": {},
   "source": [
    "#### Our goal is to fit a model here.\n",
    "- You and I know that our $y$-intercept $\\beta_0$ is 200,000.\n",
    "- You and I know that our slope $\\beta_1$ is 1,000.\n",
    "- However, our computer does not know that. Our computer has to estimate $\\hat{\\beta}_0$ and $\\hat{\\beta}_1$ from the data.\n",
    "    - We might say that our **machine** has to... **learn**."
   ]
  },
  {
   "cell_type": "markdown",
   "metadata": {},
   "source": [
    "#### Our workflow:\n",
    "1. Instantiate model.\n",
    "2. Select a learning rate $\\alpha$.\n",
    "3. Select a starting point $\\hat{\\beta}_{1,0}$.\n",
    "4. Calculate the gradient of the loss function.\n",
    "5. Calculate $\\hat{\\beta}_{1,i+1} = \\hat{\\beta}_{1,i} - \\alpha * \\frac{\\partial L}{\\partial \\beta_1}$.\n",
    "6. Check value of $\\left|\\hat{\\beta}_{1,i+1} - \\hat{\\beta}_{1,i}\\right|$.\n",
    "7. Repeat steps 4 through 6 until \"stopping condition\" is met."
   ]
  },
  {
   "cell_type": "markdown",
   "metadata": {},
   "source": [
    "#### Step 1. Instantiate model.\n",
    "\n",
    "Our model takes on the form:\n",
    "$$ Y = \\beta_0 + \\beta_1 X + \\varepsilon$$"
   ]
  },
  {
   "cell_type": "markdown",
   "metadata": {},
   "source": [
    "#### Step 2. Select a learning rate $\\alpha$.\n",
    "\n",
    "$$\\alpha = 0.1$$"
   ]
  },
  {
   "cell_type": "code",
   "execution_count": 22,
   "metadata": {},
   "outputs": [],
   "source": []
  },
  {
   "cell_type": "markdown",
   "metadata": {},
   "source": [
    "#### Step 3. Select a starting point.\n",
    "The zero-th iteration of $\\hat{\\beta}_1$ is going to start at, say, 20.\n",
    "$$\\hat{\\beta}_{1,0} = 20$$\n",
    "\n",
    "Two points:\n",
    "- You and I know that the true value of $\\beta_1$ is 1000. We need the computer to figure (machine to learn) that part out!\n",
    "- We're going to pretend like the computer already knows the value for $\\beta_0$. In reality, we'd have to do this for $\\beta_0$ and for $\\beta_1$ at the same time."
   ]
  },
  {
   "cell_type": "code",
   "execution_count": 23,
   "metadata": {},
   "outputs": [],
   "source": [
    "# This actually matters least"
   ]
  },
  {
   "cell_type": "markdown",
   "metadata": {},
   "source": [
    "#### Step 4. Calculate the gradient of the loss function with respect to parameter $\\beta_1$.\n",
    "\n",
    "The loss function, $L$, is our mean square error.\n",
    "\n",
    "$$L = \\frac{1}{n}\\sum_{i = 1} ^ n (y_i - \\hat{y}_i)^2 $$\n",
    "\n",
    "$$\\Rightarrow L = \\frac{1}{n}\\sum_{i = 1} ^ n \\left(y_i - \\left(\\hat{\\beta}_0 + \\hat{\\beta}_1x_i\\right)\\right)^2 $$\n",
    "\n",
    "The gradient of this loss function with respect to $\\beta_1$ is:\n",
    "\n",
    "$$\\frac{\\partial L}{\\partial \\beta_1} = \\frac{2}{n} \\sum_{i=1}^n -x_i\\left(y_i - \\left(\\hat{\\beta}_1x_i + \\hat{\\beta}_0\\right)\\right) $$"
   ]
  },
  {
   "cell_type": "code",
   "execution_count": 24,
   "metadata": {},
   "outputs": [],
   "source": [
    "# Calculate gradient of beta_1.\n"
   ]
  },
  {
   "cell_type": "markdown",
   "metadata": {},
   "source": [
    "#### Step 5. Calculate $\\hat{\\beta}_{1,i+1} = \\hat{\\beta}_{1,i} - \\alpha * \\frac{\\partial L}{\\partial \\beta_1}$."
   ]
  },
  {
   "cell_type": "code",
   "execution_count": 25,
   "metadata": {},
   "outputs": [],
   "source": [
    "# Define function to calculate new value of beta_1.\n",
    "# This is my updated Beta_1 value"
   ]
  },
  {
   "cell_type": "markdown",
   "metadata": {},
   "source": [
    "#### Step 6. Check value of $\\left|\\hat{\\beta}_{1,i+1} - \\hat{\\beta}_{1,i}\\right|$."
   ]
  },
  {
   "cell_type": "code",
   "execution_count": 40,
   "metadata": {},
   "outputs": [],
   "source": []
  },
  {
   "cell_type": "markdown",
   "metadata": {},
   "source": [
    "#### Step 7: Save final value of $\\hat{\\beta}_1$."
   ]
  },
  {
   "cell_type": "markdown",
   "metadata": {},
   "source": [
    "#### Putting it all together..."
   ]
  },
  {
   "cell_type": "code",
   "execution_count": 41,
   "metadata": {},
   "outputs": [],
   "source": [
    "def gradient_descent(x, y, beta_1 = 0, alpha = 0.01, max_iter = 100):\n",
    "    # Set converged = False.\n",
    "    converged = False\n",
    "    \n",
    "    # Iterate through our observations.\n",
    "    step = 0\n",
    "    while not converged:\n",
    "        \n",
    "        # Calculate gradient.\n",
    "        gradient = beta_1_gradient(x, y, beta_1=beta_1, beta_0=200_000)\n",
    "        \n",
    "        # Update beta_1.\n",
    "        beta_1_new = update_beta_1(beta_1, alpha, gradient)\n",
    "        \n",
    "        # Check for convergence.\n",
    "        converged = check_update(beta_1, beta_1_new)\n",
    "        \n",
    "        # Overwrite beta_1.\n",
    "        beta_1 = beta_1_new\n",
    "        \n",
    "        # Print out current step findings.\n",
    "        print(f'Step: {step}: b1 = {beta_1}')\n",
    "        \n",
    "        # If we've converged, let us know!\n",
    "        if converged:\n",
    "            print(f'We have finished Gradient Descent; our function has converged at step{step} 😄👌✌️!')\n",
    "        else:\n",
    "            step += 1\n",
    "            \n",
    "        # If we exceed our step limit, break!\n",
    "        if step > max_iter:\n",
    "            break\n",
    "        \n",
    "    # If we didn't converge by the end of our loop, let us know!\n",
    "    if not converged:\n",
    "        print('WE DID NOT CONVERGE 😒😒😒😭😭!!')\n",
    "    \n",
    "    # Return beta_1.\n",
    "    return beta_1"
   ]
  },
  {
   "cell_type": "code",
   "execution_count": 43,
   "metadata": {},
   "outputs": [
    {
     "name": "stdout",
     "output_type": "stream",
     "text": [
      "Step: 0: b1 = 418337.08400000003\n",
      "Step: 1: b1 = -173677682.11844802\n",
      "Step: 2: b1 = 72280210821.4027\n",
      "Step: 3: b1 = -30080999475465.992\n",
      "Step: 4: b1 = 1.2518869714126134e+16\n",
      "Step: 5: b1 = -5.210003046666881e+18\n",
      "Step: 6: b1 = 2.1682573879374483e+21\n",
      "Step: 7: b1 = -9.02368013652704e+23\n",
      "Step: 8: b1 = 3.755403009778731e+26\n",
      "Step: 9: b1 = -1.5628935813856334e+29\n",
      "Step: 10: b1 = 6.504325475524219e+31\n",
      "Step: 11: b1 = -2.7069181417998656e+34\n",
      "Step: 12: b1 = 1.126543536909133e+37\n",
      "Step: 13: b1 = -4.688358768425477e+39\n",
      "Step: 14: b1 = 1.9511636453731667e+42\n",
      "Step: 15: b1 = -8.120196766222417e+44\n",
      "Step: 16: b1 = 3.3793985285923166e+47\n",
      "Step: 17: b1 = -1.4064110444413218e+50\n",
      "Step: 18: b1 = 5.853088971872336e+52\n",
      "Step: 19: b1 = -2.4358917436020533e+55\n",
      "Step: 20: b1 = 1.0137499387183533e+58\n",
      "Step: 21: b1 = -4.218943394962947e+60\n",
      "Step: 22: b1 = 1.7558061105685205e+63\n",
      "Step: 23: b1 = -7.307173406475224e+65\n",
      "Step: 24: b1 = 3.041040970919606e+68\n",
      "Step: 25: b1 = -1.2655961029495547e+71\n",
      "Step: 26: b1 = 5.267056613567219e+73\n",
      "Step: 27: b1 = -2.192001484981497e+76\n",
      "Step: 28: b1 = 9.122496420077202e+78\n",
      "Step: 29: b1 = -3.79652758013637e+81\n",
      "Step: 30: b1 = 1.5800084760805128e+84\n",
      "Step: 31: b1 = -6.575552875073795e+86\n",
      "Step: 32: b1 = 2.736560991125212e+89\n",
      "Step: 33: b1 = -1.1388800607985618e+92\n",
      "Step: 34: b1 = 4.739699926626591e+94\n",
      "Step: 35: b1 = -1.9725303978640415e+97\n",
      "Step: 36: b1 = 8.209119207398742e+99\n",
      "Step: 37: b1 = -3.416405558781551e+102\n",
      "Step: 38: b1 = 1.4218123342092365e+105\n",
      "Step: 39: b1 = -5.91718482752526e+107\n",
      "Step: 40: b1 = 2.462566644040842e+110\n",
      "Step: 41: b1 = -1.0248512853837658e+113\n",
      "Step: 42: b1 = 4.265144091407323e+115\n",
      "Step: 43: b1 = -1.7750335468091682e+118\n",
      "Step: 44: b1 = 7.387192612426653e+120\n",
      "Step: 45: b1 = -3.0743427238988254e+123\n",
      "Step: 46: b1 = 1.2794553600904222e+126\n",
      "Step: 47: b1 = -5.324734961195513e+128\n",
      "Step: 48: b1 = 2.216005598270659e+131\n",
      "Step: 49: b1 = -9.222394818434967e+133\n",
      "Step: 50: b1 = 3.8381024963777166e+136\n",
      "WE DID NOT CONVERGE 😒😒😒😭😭!!\n"
     ]
    },
    {
     "data": {
      "text/plain": [
       "3.8381024963777166e+136"
      ]
     },
     "execution_count": 43,
     "metadata": {},
     "output_type": "execute_result"
    }
   ],
   "source": [
    "# Call gradient_descent with an initial beta_1 of 20, alpha of 0.01, and 100 iterations.\n",
    "gradient_descent(df['temp'], df['drinks'], beta_1=10, alpha=0.1, max_iter=50)"
   ]
  },
  {
   "cell_type": "markdown",
   "metadata": {},
   "source": [
    "<details><summary>What should we do?</summary>\n",
    "\n",
    "- We **should not** adjust our maximum iterations. It doesn't look like we'll converge.\n",
    "- We should adjust our alpha!\n",
    "</details>"
   ]
  },
  {
   "cell_type": "code",
   "execution_count": null,
   "metadata": {},
   "outputs": [],
   "source": []
  }
 ],
 "metadata": {
  "kernelspec": {
   "display_name": "Python 3",
   "language": "python",
   "name": "python3"
  },
  "language_info": {
   "codemirror_mode": {
    "name": "ipython",
    "version": 3
   },
   "file_extension": ".py",
   "mimetype": "text/x-python",
   "name": "python",
   "nbconvert_exporter": "python",
   "pygments_lexer": "ipython3",
   "version": "3.8.8"
  },
  "toc": {
   "base_numbering": 1,
   "nav_menu": {},
   "number_sections": true,
   "sideBar": true,
   "skip_h1_title": false,
   "title_cell": "Table of Contents",
   "title_sidebar": "Contents",
   "toc_cell": false,
   "toc_position": {},
   "toc_section_display": true,
   "toc_window_display": false
  }
 },
 "nbformat": 4,
 "nbformat_minor": 4
}
