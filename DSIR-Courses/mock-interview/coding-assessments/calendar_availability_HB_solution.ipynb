{
 "cells": [
  {
   "cell_type": "markdown",
   "id": "65f67ed2-a715-40b7-84ee-a377d2d848df",
   "metadata": {},
   "source": [
    "## Calendar availability problem\n",
    "\n",
    "### Assumption:\n",
    "1. 30 Day Calendar: [0, ... 29]\n",
    "2. We have single tournament each day\n",
    "\n",
    "### Input:\n",
    "1. busy days: ex: [[2, 5], [8, 12], [15, 18]]\n",
    "\n",
    "- [2,5] means player is busy on days 2-5 **INCLUSIVE**\n",
    "\n",
    "\n",
    "\n",
    "### Output:\n",
    "Available tournaments:\n",
    "[0, 1, 6, 7,...]\n"
   ]
  },
  {
   "cell_type": "code",
   "execution_count": 3,
   "id": "c3cb819a-3ff3-4bf4-aee8-d5db4b4b24e8",
   "metadata": {},
   "outputs": [
    {
     "data": {
      "text/plain": [
       "[[2, 5], [8, 12], [15, 18]]"
      ]
     },
     "execution_count": 3,
     "metadata": {},
     "output_type": "execute_result"
    }
   ],
   "source": [
    "busy_days = [[2, 5], [8, 12], [15, 18]]\n",
    "\n",
    "busy_days"
   ]
  },
  {
   "cell_type": "code",
   "execution_count": 4,
   "id": "aebb9186-adad-4524-92f1-e9dbc2e72322",
   "metadata": {},
   "outputs": [
    {
     "name": "stdout",
     "output_type": "stream",
     "text": [
      "[2, 5]\n",
      "[2, 3, 4, 5]\n",
      "[8, 12]\n",
      "[8, 9, 10, 11, 12]\n",
      "[15, 18]\n",
      "[15, 16, 17, 18]\n",
      "Busy Block: [[2, 3, 4, 5], [8, 9, 10, 11, 12], [15, 16, 17, 18]]\n"
     ]
    }
   ],
   "source": [
    "busy_block = []\n",
    "\n",
    "for i in busy_days:\n",
    "    print(i)\n",
    "    block = list(range(i[0], i[1]+1))\n",
    "    print(block)\n",
    "    busy_block.append(block)\n",
    "    \n",
    "print(f'Busy Block: {busy_block}')"
   ]
  },
  {
   "cell_type": "code",
   "execution_count": 5,
   "id": "43665aaf-2a40-40a2-b536-8e7f75c93dfb",
   "metadata": {},
   "outputs": [],
   "source": [
    "availability = []\n",
    "\n",
    "for day in calendar:\n",
    "    is_available = True\n",
    "    for block in busy_block:\n",
    "        if day in block:\n",
    "            is_available = False\n",
    "    if is_available == True:\n",
    "        availability.append(day)"
   ]
  },
  {
   "cell_type": "code",
   "execution_count": 6,
   "id": "a78263c6-6842-43e2-9e53-61f8a2166f36",
   "metadata": {},
   "outputs": [
    {
     "name": "stdout",
     "output_type": "stream",
     "text": [
      "Days player is available: [0, 1, 6, 7, 13, 14, 19, 20, 21, 22, 23, 24, 25, 26, 27, 28, 29]\n"
     ]
    }
   ],
   "source": [
    "print(f\"Days player is available: {availability}\")"
   ]
  },
  {
   "cell_type": "code",
   "execution_count": 2,
   "id": "5f28c78c-b624-47fb-b691-720665de62b9",
   "metadata": {},
   "outputs": [
    {
     "data": {
      "text/plain": [
       "[0,\n",
       " 1,\n",
       " 2,\n",
       " 3,\n",
       " 4,\n",
       " 5,\n",
       " 6,\n",
       " 7,\n",
       " 8,\n",
       " 9,\n",
       " 10,\n",
       " 11,\n",
       " 12,\n",
       " 13,\n",
       " 14,\n",
       " 15,\n",
       " 16,\n",
       " 17,\n",
       " 18,\n",
       " 19,\n",
       " 20,\n",
       " 21,\n",
       " 22,\n",
       " 23,\n",
       " 24,\n",
       " 25,\n",
       " 26,\n",
       " 27,\n",
       " 28,\n",
       " 29]"
      ]
     },
     "execution_count": 2,
     "metadata": {},
     "output_type": "execute_result"
    }
   ],
   "source": [
    "calendar = list(range(0, 30))\n",
    "\n",
    "calendar"
   ]
  },
  {
   "cell_type": "code",
   "execution_count": null,
   "id": "d595d1d6-415f-45c5-8ed1-64ffbae5a716",
   "metadata": {},
   "outputs": [],
   "source": []
  }
 ],
 "metadata": {
  "kernelspec": {
   "display_name": "Python 3 (ipykernel)",
   "language": "python",
   "name": "python3"
  },
  "language_info": {
   "codemirror_mode": {
    "name": "ipython",
    "version": 3
   },
   "file_extension": ".py",
   "mimetype": "text/x-python",
   "name": "python",
   "nbconvert_exporter": "python",
   "pygments_lexer": "ipython3",
   "version": "3.8.12"
  }
 },
 "nbformat": 4,
 "nbformat_minor": 5
}
