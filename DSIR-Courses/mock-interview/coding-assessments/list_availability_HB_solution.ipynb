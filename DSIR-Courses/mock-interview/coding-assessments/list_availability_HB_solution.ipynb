{
 "cells": [
  {
   "cell_type": "markdown",
   "id": "990a6474-f0f0-4539-b515-71d6245a852e",
   "metadata": {},
   "source": [
    "## List Assignments"
   ]
  },
  {
   "cell_type": "code",
   "execution_count": 1,
   "id": "a4a8ec0a-23ce-4b3f-bdb2-b220b386ddfa",
   "metadata": {},
   "outputs": [],
   "source": [
    "'''\n",
    "data = [\n",
    "  [4.9, 3.1, 1.5, 0.1],\n",
    "  [5.0, 3.2, 1.2, 0.2],\n",
    "  [5.5, -3.5, 1.3, 0.2],\n",
    "  [4.9, 3.1, -1.5, 0.1],\n",
    "  [4.4, 3.0, 1.3, 0.2],\n",
    "  [5.1, -1, 1.5, 0.2],\n",
    "  [5.0, 3.5, -1.3, 0.3],\n",
    "]\n",
    "# 1. Write a method that returns true if the input dataset has any negative values.\n",
    "# 2. Write a method to find the most frequent value of the 2nd column in the dataset.\n",
    "# 3. Write a method that returns all rows of dataset that do not have any negative values.\n",
    "'''\n",
    "\n",
    "data = [\n",
    "  [4.9, 3.1, 1.5, 0.1],\n",
    "  [5.0, 3.2, 1.2, 0.2],\n",
    "  [5.5, -3.5, 1.3, 0.2],\n",
    "  [4.9, 3.1, -1.5, 0.1],\n",
    "  [4.4, 3.0, 1.3, 0.2],\n",
    "  [5.1, -1, 1.5, 0.2],\n",
    "  [5.0, 3.5, -1.3, 0.3],\n",
    "]"
   ]
  },
  {
   "cell_type": "code",
   "execution_count": 24,
   "id": "f72b2078-3c6e-41c8-b46f-3a7ffd408c5c",
   "metadata": {},
   "outputs": [
    {
     "data": {
      "text/html": [
       "<div>\n",
       "<style scoped>\n",
       "    .dataframe tbody tr th:only-of-type {\n",
       "        vertical-align: middle;\n",
       "    }\n",
       "\n",
       "    .dataframe tbody tr th {\n",
       "        vertical-align: top;\n",
       "    }\n",
       "\n",
       "    .dataframe thead th {\n",
       "        text-align: right;\n",
       "    }\n",
       "</style>\n",
       "<table border=\"1\" class=\"dataframe\">\n",
       "  <thead>\n",
       "    <tr style=\"text-align: right;\">\n",
       "      <th></th>\n",
       "      <th>0</th>\n",
       "      <th>1</th>\n",
       "      <th>2</th>\n",
       "      <th>3</th>\n",
       "    </tr>\n",
       "  </thead>\n",
       "  <tbody>\n",
       "    <tr>\n",
       "      <th>0</th>\n",
       "      <td>4.9</td>\n",
       "      <td>3.1</td>\n",
       "      <td>1.5</td>\n",
       "      <td>0.1</td>\n",
       "    </tr>\n",
       "    <tr>\n",
       "      <th>1</th>\n",
       "      <td>5.0</td>\n",
       "      <td>3.2</td>\n",
       "      <td>1.2</td>\n",
       "      <td>0.2</td>\n",
       "    </tr>\n",
       "    <tr>\n",
       "      <th>2</th>\n",
       "      <td>5.5</td>\n",
       "      <td>-3.5</td>\n",
       "      <td>1.3</td>\n",
       "      <td>0.2</td>\n",
       "    </tr>\n",
       "    <tr>\n",
       "      <th>3</th>\n",
       "      <td>4.9</td>\n",
       "      <td>3.1</td>\n",
       "      <td>-1.5</td>\n",
       "      <td>0.1</td>\n",
       "    </tr>\n",
       "    <tr>\n",
       "      <th>4</th>\n",
       "      <td>4.4</td>\n",
       "      <td>3.0</td>\n",
       "      <td>1.3</td>\n",
       "      <td>0.2</td>\n",
       "    </tr>\n",
       "    <tr>\n",
       "      <th>5</th>\n",
       "      <td>5.1</td>\n",
       "      <td>-1.0</td>\n",
       "      <td>1.5</td>\n",
       "      <td>0.2</td>\n",
       "    </tr>\n",
       "    <tr>\n",
       "      <th>6</th>\n",
       "      <td>5.0</td>\n",
       "      <td>3.5</td>\n",
       "      <td>-1.3</td>\n",
       "      <td>0.3</td>\n",
       "    </tr>\n",
       "  </tbody>\n",
       "</table>\n",
       "</div>"
      ],
      "text/plain": [
       "     0    1    2    3\n",
       "0  4.9  3.1  1.5  0.1\n",
       "1  5.0  3.2  1.2  0.2\n",
       "2  5.5 -3.5  1.3  0.2\n",
       "3  4.9  3.1 -1.5  0.1\n",
       "4  4.4  3.0  1.3  0.2\n",
       "5  5.1 -1.0  1.5  0.2\n",
       "6  5.0  3.5 -1.3  0.3"
      ]
     },
     "execution_count": 24,
     "metadata": {},
     "output_type": "execute_result"
    }
   ],
   "source": [
    "import pandas as pd\n",
    "\n",
    "df = pd.DataFrame(data)\n",
    "\n",
    "df"
   ]
  },
  {
   "cell_type": "markdown",
   "id": "e2d7c5ab-45b1-44c5-ba04-eb9fb9863a6c",
   "metadata": {},
   "source": [
    "1. Write a method that returns true if the input dataset has any negative values."
   ]
  },
  {
   "cell_type": "code",
   "execution_count": 25,
   "id": "7f13a348-4119-4215-9bef-c7265b5f09f0",
   "metadata": {},
   "outputs": [
    {
     "data": {
      "text/plain": [
       "True"
      ]
     },
     "execution_count": 25,
     "metadata": {},
     "output_type": "execute_result"
    }
   ],
   "source": [
    "(df.values < 0).any()"
   ]
  },
  {
   "cell_type": "code",
   "execution_count": 28,
   "id": "05c4f2ea-349e-4056-8d72-9ee300af4b4a",
   "metadata": {},
   "outputs": [
    {
     "data": {
      "text/plain": [
       "[[4.9, 3.1, 1.5, 0.1],\n",
       " [5.0, 3.2, 1.2, 0.2],\n",
       " [5.5, -3.5, 1.3, 0.2],\n",
       " [4.9, 3.1, -1.5, 0.1],\n",
       " [4.4, 3.0, 1.3, 0.2],\n",
       " [5.1, -1, 1.5, 0.2],\n",
       " [5.0, 3.5, -1.3, 0.3]]"
      ]
     },
     "execution_count": 28,
     "metadata": {},
     "output_type": "execute_result"
    }
   ],
   "source": [
    "data"
   ]
  },
  {
   "cell_type": "code",
   "execution_count": 26,
   "id": "d51b5716-eedc-40ac-a963-e200e1c0997f",
   "metadata": {},
   "outputs": [],
   "source": [
    "def any_negs(data):\n",
    "    below_zero = False\n",
    "    for i in data:\n",
    "        for j in i:\n",
    "            if j < 0:\n",
    "                below_zero = True\n",
    "                break\n",
    "    return below_zero\n"
   ]
  },
  {
   "cell_type": "code",
   "execution_count": 27,
   "id": "cad8ee2c-859c-44ad-a119-b87e81c3d8fc",
   "metadata": {},
   "outputs": [],
   "source": [
    "assert any_negs(data) == True"
   ]
  },
  {
   "cell_type": "markdown",
   "id": "b66576a2-9246-4672-9892-e50b2b215f73",
   "metadata": {},
   "source": [
    "2. Write a method to find the most frequent value of the 2nd column in the dataset."
   ]
  },
  {
   "cell_type": "code",
   "execution_count": 29,
   "id": "8958a1f6-b534-4177-8525-79708116b4cf",
   "metadata": {},
   "outputs": [
    {
     "data": {
      "text/plain": [
       "[[4.9, 3.1, 1.5, 0.1],\n",
       " [5.0, 3.2, 1.2, 0.2],\n",
       " [5.5, -3.5, 1.3, 0.2],\n",
       " [4.9, 3.1, -1.5, 0.1],\n",
       " [4.4, 3.0, 1.3, 0.2],\n",
       " [5.1, -1, 1.5, 0.2],\n",
       " [5.0, 3.5, -1.3, 0.3]]"
      ]
     },
     "execution_count": 29,
     "metadata": {},
     "output_type": "execute_result"
    }
   ],
   "source": [
    "data"
   ]
  },
  {
   "cell_type": "code",
   "execution_count": 30,
   "id": "965d283a-fa61-4a2a-ac04-263b7388a862",
   "metadata": {},
   "outputs": [
    {
     "data": {
      "text/html": [
       "<div>\n",
       "<style scoped>\n",
       "    .dataframe tbody tr th:only-of-type {\n",
       "        vertical-align: middle;\n",
       "    }\n",
       "\n",
       "    .dataframe tbody tr th {\n",
       "        vertical-align: top;\n",
       "    }\n",
       "\n",
       "    .dataframe thead th {\n",
       "        text-align: right;\n",
       "    }\n",
       "</style>\n",
       "<table border=\"1\" class=\"dataframe\">\n",
       "  <thead>\n",
       "    <tr style=\"text-align: right;\">\n",
       "      <th></th>\n",
       "      <th>0</th>\n",
       "      <th>1</th>\n",
       "      <th>2</th>\n",
       "      <th>3</th>\n",
       "    </tr>\n",
       "  </thead>\n",
       "  <tbody>\n",
       "    <tr>\n",
       "      <th>0</th>\n",
       "      <td>4.9</td>\n",
       "      <td>3.1</td>\n",
       "      <td>1.5</td>\n",
       "      <td>0.1</td>\n",
       "    </tr>\n",
       "    <tr>\n",
       "      <th>1</th>\n",
       "      <td>5.0</td>\n",
       "      <td>3.2</td>\n",
       "      <td>1.2</td>\n",
       "      <td>0.2</td>\n",
       "    </tr>\n",
       "    <tr>\n",
       "      <th>2</th>\n",
       "      <td>5.5</td>\n",
       "      <td>-3.5</td>\n",
       "      <td>1.3</td>\n",
       "      <td>0.2</td>\n",
       "    </tr>\n",
       "    <tr>\n",
       "      <th>3</th>\n",
       "      <td>4.9</td>\n",
       "      <td>3.1</td>\n",
       "      <td>-1.5</td>\n",
       "      <td>0.1</td>\n",
       "    </tr>\n",
       "    <tr>\n",
       "      <th>4</th>\n",
       "      <td>4.4</td>\n",
       "      <td>3.0</td>\n",
       "      <td>1.3</td>\n",
       "      <td>0.2</td>\n",
       "    </tr>\n",
       "    <tr>\n",
       "      <th>5</th>\n",
       "      <td>5.1</td>\n",
       "      <td>-1.0</td>\n",
       "      <td>1.5</td>\n",
       "      <td>0.2</td>\n",
       "    </tr>\n",
       "    <tr>\n",
       "      <th>6</th>\n",
       "      <td>5.0</td>\n",
       "      <td>3.5</td>\n",
       "      <td>-1.3</td>\n",
       "      <td>0.3</td>\n",
       "    </tr>\n",
       "  </tbody>\n",
       "</table>\n",
       "</div>"
      ],
      "text/plain": [
       "     0    1    2    3\n",
       "0  4.9  3.1  1.5  0.1\n",
       "1  5.0  3.2  1.2  0.2\n",
       "2  5.5 -3.5  1.3  0.2\n",
       "3  4.9  3.1 -1.5  0.1\n",
       "4  4.4  3.0  1.3  0.2\n",
       "5  5.1 -1.0  1.5  0.2\n",
       "6  5.0  3.5 -1.3  0.3"
      ]
     },
     "execution_count": 30,
     "metadata": {},
     "output_type": "execute_result"
    }
   ],
   "source": [
    "df"
   ]
  },
  {
   "cell_type": "code",
   "execution_count": 32,
   "id": "36d4593a-0809-4026-87a7-d10d31d79589",
   "metadata": {},
   "outputs": [
    {
     "data": {
      "text/plain": [
       "0    3.1\n",
       "dtype: float64"
      ]
     },
     "execution_count": 32,
     "metadata": {},
     "output_type": "execute_result"
    }
   ],
   "source": [
    "df.loc[:, 1].mode()\n",
    "\n"
   ]
  },
  {
   "cell_type": "code",
   "execution_count": 33,
   "id": "54ff7494-58af-420c-a77d-27867b12b760",
   "metadata": {},
   "outputs": [],
   "source": [
    "# 2\n",
    "import statistics\n",
    "\n",
    "def sec_col_mode(data):\n",
    "    second_col = []\n",
    "    for i in data:\n",
    "        second_col.append(i[1])\n",
    "    return statistics.mode(second_col)"
   ]
  },
  {
   "cell_type": "code",
   "execution_count": 35,
   "id": "8fe520b8-57d1-4e59-98bd-62a833dd25a5",
   "metadata": {},
   "outputs": [],
   "source": [
    "assert sec_col_mode(data) == 3.1"
   ]
  },
  {
   "cell_type": "markdown",
   "id": "bb0730b6-ba35-454f-a7ba-1e83c62be74d",
   "metadata": {},
   "source": [
    "3. Write a method that returns all rows of dataset that do not have any negative values."
   ]
  },
  {
   "cell_type": "code",
   "execution_count": 36,
   "id": "6b0e0ac7-e08a-4bde-8f0e-a8c684b58989",
   "metadata": {},
   "outputs": [
    {
     "data": {
      "text/plain": [
       "[[4.9, 3.1, 1.5, 0.1],\n",
       " [5.0, 3.2, 1.2, 0.2],\n",
       " [5.5, -3.5, 1.3, 0.2],\n",
       " [4.9, 3.1, -1.5, 0.1],\n",
       " [4.4, 3.0, 1.3, 0.2],\n",
       " [5.1, -1, 1.5, 0.2],\n",
       " [5.0, 3.5, -1.3, 0.3]]"
      ]
     },
     "execution_count": 36,
     "metadata": {},
     "output_type": "execute_result"
    }
   ],
   "source": [
    "data"
   ]
  },
  {
   "cell_type": "code",
   "execution_count": 37,
   "id": "249d9f69-7941-44ab-a44f-39d37e04839b",
   "metadata": {},
   "outputs": [
    {
     "data": {
      "text/html": [
       "<div>\n",
       "<style scoped>\n",
       "    .dataframe tbody tr th:only-of-type {\n",
       "        vertical-align: middle;\n",
       "    }\n",
       "\n",
       "    .dataframe tbody tr th {\n",
       "        vertical-align: top;\n",
       "    }\n",
       "\n",
       "    .dataframe thead th {\n",
       "        text-align: right;\n",
       "    }\n",
       "</style>\n",
       "<table border=\"1\" class=\"dataframe\">\n",
       "  <thead>\n",
       "    <tr style=\"text-align: right;\">\n",
       "      <th></th>\n",
       "      <th>0</th>\n",
       "      <th>1</th>\n",
       "      <th>2</th>\n",
       "      <th>3</th>\n",
       "    </tr>\n",
       "  </thead>\n",
       "  <tbody>\n",
       "    <tr>\n",
       "      <th>0</th>\n",
       "      <td>4.9</td>\n",
       "      <td>3.1</td>\n",
       "      <td>1.5</td>\n",
       "      <td>0.1</td>\n",
       "    </tr>\n",
       "    <tr>\n",
       "      <th>1</th>\n",
       "      <td>5.0</td>\n",
       "      <td>3.2</td>\n",
       "      <td>1.2</td>\n",
       "      <td>0.2</td>\n",
       "    </tr>\n",
       "    <tr>\n",
       "      <th>2</th>\n",
       "      <td>5.5</td>\n",
       "      <td>-3.5</td>\n",
       "      <td>1.3</td>\n",
       "      <td>0.2</td>\n",
       "    </tr>\n",
       "    <tr>\n",
       "      <th>3</th>\n",
       "      <td>4.9</td>\n",
       "      <td>3.1</td>\n",
       "      <td>-1.5</td>\n",
       "      <td>0.1</td>\n",
       "    </tr>\n",
       "    <tr>\n",
       "      <th>4</th>\n",
       "      <td>4.4</td>\n",
       "      <td>3.0</td>\n",
       "      <td>1.3</td>\n",
       "      <td>0.2</td>\n",
       "    </tr>\n",
       "    <tr>\n",
       "      <th>5</th>\n",
       "      <td>5.1</td>\n",
       "      <td>-1.0</td>\n",
       "      <td>1.5</td>\n",
       "      <td>0.2</td>\n",
       "    </tr>\n",
       "    <tr>\n",
       "      <th>6</th>\n",
       "      <td>5.0</td>\n",
       "      <td>3.5</td>\n",
       "      <td>-1.3</td>\n",
       "      <td>0.3</td>\n",
       "    </tr>\n",
       "  </tbody>\n",
       "</table>\n",
       "</div>"
      ],
      "text/plain": [
       "     0    1    2    3\n",
       "0  4.9  3.1  1.5  0.1\n",
       "1  5.0  3.2  1.2  0.2\n",
       "2  5.5 -3.5  1.3  0.2\n",
       "3  4.9  3.1 -1.5  0.1\n",
       "4  4.4  3.0  1.3  0.2\n",
       "5  5.1 -1.0  1.5  0.2\n",
       "6  5.0  3.5 -1.3  0.3"
      ]
     },
     "execution_count": 37,
     "metadata": {},
     "output_type": "execute_result"
    }
   ],
   "source": [
    "df"
   ]
  },
  {
   "cell_type": "code",
   "execution_count": 38,
   "id": "af646409-d7f8-44c8-9bf0-0e161ca7029f",
   "metadata": {},
   "outputs": [
    {
     "data": {
      "text/plain": [
       "[[4.9, 3.1, 1.5, 0.1], [5.0, 3.2, 1.2, 0.2], [4.4, 3.0, 1.3, 0.2]]"
      ]
     },
     "execution_count": 38,
     "metadata": {},
     "output_type": "execute_result"
    }
   ],
   "source": [
    "def no_negs(data):\n",
    "    pos_rows = []\n",
    "    for i in data:\n",
    "        if all(x > 0 for x in i) == True:\n",
    "            pos_rows.append(i)\n",
    "    return pos_rows\n",
    "\n",
    "no_negs(data)"
   ]
  },
  {
   "cell_type": "code",
   "execution_count": null,
   "id": "9dbf7f34-bda7-4cd8-928c-274a84ae2df7",
   "metadata": {},
   "outputs": [],
   "source": []
  },
  {
   "cell_type": "code",
   "execution_count": null,
   "id": "b58fc231-b0e7-4ee4-8b6c-3b23aaac0b09",
   "metadata": {},
   "outputs": [],
   "source": []
  },
  {
   "cell_type": "code",
   "execution_count": null,
   "id": "da87db5d-1e9f-4c4e-a4f4-b9205a7491c5",
   "metadata": {},
   "outputs": [],
   "source": []
  },
  {
   "cell_type": "code",
   "execution_count": null,
   "id": "33d7a7d0-6c58-445f-a0e1-08c3a71c6dde",
   "metadata": {},
   "outputs": [],
   "source": []
  },
  {
   "cell_type": "code",
   "execution_count": null,
   "id": "9553ef52-bed9-4abf-a2d6-bbb255ac0856",
   "metadata": {},
   "outputs": [],
   "source": []
  },
  {
   "cell_type": "code",
   "execution_count": null,
   "id": "c0ee4c1c-e347-4364-9833-b7a977eb4ce2",
   "metadata": {},
   "outputs": [],
   "source": []
  },
  {
   "cell_type": "code",
   "execution_count": null,
   "id": "6e50b664-4d9a-4d57-b00c-d9cb605876c7",
   "metadata": {},
   "outputs": [],
   "source": []
  },
  {
   "cell_type": "code",
   "execution_count": null,
   "id": "d6608e5d-b79e-4690-b6f2-98eb4b0fb4c4",
   "metadata": {},
   "outputs": [],
   "source": []
  },
  {
   "cell_type": "code",
   "execution_count": null,
   "id": "0c73af67-fea8-4dd3-b28e-60138794cab2",
   "metadata": {},
   "outputs": [],
   "source": []
  },
  {
   "cell_type": "code",
   "execution_count": null,
   "id": "9f0a2207-34b3-4234-af33-24b3a4f33ae7",
   "metadata": {},
   "outputs": [],
   "source": []
  },
  {
   "cell_type": "code",
   "execution_count": 15,
   "id": "8e7cd541-fa50-458e-8109-c1d6a69869d7",
   "metadata": {},
   "outputs": [
    {
     "data": {
      "text/html": [
       "<div>\n",
       "<style scoped>\n",
       "    .dataframe tbody tr th:only-of-type {\n",
       "        vertical-align: middle;\n",
       "    }\n",
       "\n",
       "    .dataframe tbody tr th {\n",
       "        vertical-align: top;\n",
       "    }\n",
       "\n",
       "    .dataframe thead th {\n",
       "        text-align: right;\n",
       "    }\n",
       "</style>\n",
       "<table border=\"1\" class=\"dataframe\">\n",
       "  <thead>\n",
       "    <tr style=\"text-align: right;\">\n",
       "      <th></th>\n",
       "      <th>0</th>\n",
       "      <th>1</th>\n",
       "      <th>2</th>\n",
       "      <th>3</th>\n",
       "    </tr>\n",
       "  </thead>\n",
       "  <tbody>\n",
       "    <tr>\n",
       "      <th>0</th>\n",
       "      <td>4.9</td>\n",
       "      <td>3.1</td>\n",
       "      <td>1.5</td>\n",
       "      <td>0.1</td>\n",
       "    </tr>\n",
       "    <tr>\n",
       "      <th>1</th>\n",
       "      <td>5.0</td>\n",
       "      <td>3.2</td>\n",
       "      <td>1.2</td>\n",
       "      <td>0.2</td>\n",
       "    </tr>\n",
       "    <tr>\n",
       "      <th>4</th>\n",
       "      <td>4.4</td>\n",
       "      <td>3.0</td>\n",
       "      <td>1.3</td>\n",
       "      <td>0.2</td>\n",
       "    </tr>\n",
       "  </tbody>\n",
       "</table>\n",
       "</div>"
      ],
      "text/plain": [
       "     0    1    2    3\n",
       "0  4.9  3.1  1.5  0.1\n",
       "1  5.0  3.2  1.2  0.2\n",
       "4  4.4  3.0  1.3  0.2"
      ]
     },
     "execution_count": 15,
     "metadata": {},
     "output_type": "execute_result"
    }
   ],
   "source": [
    "# John's code # 3\n",
    "\n",
    "import pandas as pd\n",
    "\n",
    "df = pd.DataFrame(data)\n",
    "\n",
    "# John's code\n",
    "\n",
    "def all_row_no_negative(df):\n",
    "    \"\"\"\n",
    "    A method that returns all rows of dataset that do not have any negative values\n",
    "    \"\"\"\n",
    "    df = pd.DataFrame(df)\n",
    "    return df[df.mask(df>0).isnull().values.all(axis=1)]\n",
    "\n",
    "all_row_no_negative(df)"
   ]
  },
  {
   "cell_type": "code",
   "execution_count": 16,
   "id": "0e68de24-2c75-428b-b799-d5ce1558a29b",
   "metadata": {},
   "outputs": [
    {
     "data": {
      "text/plain": [
       "3.1"
      ]
     },
     "execution_count": 16,
     "metadata": {},
     "output_type": "execute_result"
    }
   ],
   "source": [
    "# son's code # 2\n",
    "\n",
    "df = pd.DataFrame(data)\n",
    "df[1].value_counts().idxmax()"
   ]
  },
  {
   "cell_type": "code",
   "execution_count": 17,
   "id": "1ef7c00a-3012-4d2e-8603-ca994402f31d",
   "metadata": {},
   "outputs": [
    {
     "name": "stdout",
     "output_type": "stream",
     "text": [
      "True\n",
      "3.1\n",
      "[[4.9, 3.1, 1.5, 0.1], [5.0, 3.2, 1.2, 0.2], [4.4, 3.0, 1.3, 0.2]]\n"
     ]
    }
   ],
   "source": [
    "# Sam's Code\n",
    "\n",
    "#1\n",
    "def is_neg(n):\n",
    "    for i in n:\n",
    "        for j in i:\n",
    "            if j < 0:\n",
    "                return True\n",
    "    return False\n",
    "\n",
    "print(is_neg(data))\n",
    "\n",
    "from statistics import mode\n",
    "#2\n",
    "def most_freq_second(n):\n",
    "    column=[]\n",
    "    for i in n:\n",
    "        for j in i:\n",
    "            if j is i[1]:\n",
    "                column.append(j)\n",
    "    return mode(column)\n",
    "\n",
    "print(most_freq_second(data))\n",
    "\n",
    "# 3\n",
    "\n",
    "#3\n",
    "def no_neg(n):\n",
    "    new_data=[]\n",
    "    for i in n:\n",
    "        counter= 0\n",
    "        for j in i:\n",
    "            if j > 0:\n",
    "                counter +=1\n",
    "                if counter == 4:\n",
    "                    new_data.append(i)\n",
    "    return new_data\n",
    "\n",
    "print(no_neg(data))"
   ]
  },
  {
   "cell_type": "code",
   "execution_count": 20,
   "id": "786769c3-aec4-490b-8957-615d3ccefbdf",
   "metadata": {},
   "outputs": [
    {
     "name": "stdout",
     "output_type": "stream",
     "text": [
      "True\n",
      "3.1\n",
      "[[4.9, 3.1, 1.5, 0.1], [5.0, 3.2, 1.2, 0.2]]\n"
     ]
    }
   ],
   "source": [
    "# Chris' code\n",
    "\n",
    "def neg_num(dataset):\n",
    "    for row in data:\n",
    "        for num in row:\n",
    "            if num < 0:\n",
    "                return True\n",
    "            \n",
    "print(neg_num(data))\n",
    "\n",
    "def freq_two(dataset):\n",
    "    nums = []\n",
    "    for row in data:\n",
    "        for num in row:\n",
    "            if num is row[1]:\n",
    "                nums.append(num)\n",
    "    return max(set(nums), key=nums.count)\n",
    "\n",
    "print(freq_two(data))\n",
    "\n",
    "def pos_rows(dataset):\n",
    "    rows = []\n",
    "    for row in data:\n",
    "        for num in row:\n",
    "            if num < 0:\n",
    "                break\n",
    "        if num < 0:\n",
    "            break\n",
    "        rows.append(row)\n",
    "    return rows\n",
    "\n",
    "print(pos_rows(data))"
   ]
  },
  {
   "cell_type": "code",
   "execution_count": 19,
   "id": "1434f926-d48f-46cb-a773-7b6a552afff8",
   "metadata": {},
   "outputs": [
    {
     "data": {
      "text/plain": [
       "True"
      ]
     },
     "execution_count": 19,
     "metadata": {},
     "output_type": "execute_result"
    }
   ],
   "source": [
    "# Sileshi's code\n",
    "\n",
    "#1)\n",
    "import numpy as np\n",
    "import pandas as pd\n",
    "\n",
    "my_array = np.array(data)\n",
    "\n",
    "df = pd.DataFrame(my_array, columns = ['Column_A','Column_B','Column_C', 'Column_D'])\n",
    "\n",
    "(df.values < 0).any()"
   ]
  },
  {
   "cell_type": "code",
   "execution_count": 21,
   "id": "38ef3a09-d568-4667-a99f-5295d6416560",
   "metadata": {},
   "outputs": [
    {
     "name": "stdout",
     "output_type": "stream",
     "text": [
      "True\n",
      "number 3.1 frequency 2\n",
      "None\n",
      "[[4.9, 3.1, 1.5, 0.1], [5.0, 3.2, 1.2, 0.2], [4.4, 3.0, 1.3, 0.2]]\n"
     ]
    }
   ],
   "source": [
    "# Shirley's code\n",
    "\n",
    "def negatives(data):\n",
    "    negative_list = []\n",
    "    for l in data:\n",
    "        for num in l:\n",
    "            if num < 0:\n",
    "                negative_list.append(num)\n",
    "    if len(negative_list) > 0:\n",
    "        return True\n",
    "    else:\n",
    "        return False           \n",
    "def frequent(data):\n",
    "    second_column_values = []\n",
    "    count = 1\n",
    "    for l in data:\n",
    "        second_column_values.append(l[1])\n",
    "    for n in second_column_values:\n",
    "        while second_column_values.count(n) > count:\n",
    "            count = second_column_values.count(n)\n",
    "        return print(f'number {n} frequency {count}')             \n",
    "def positives(data):\n",
    "    data_list = data.copy()\n",
    "    for l in data:\n",
    "        for num in l:\n",
    "            if num < 0:\n",
    "                data_list.remove(l)\n",
    "    return data_list\n",
    "\n",
    "print(negatives(data))\n",
    "print(frequent(data))\n",
    "print(positives(data))"
   ]
  },
  {
   "cell_type": "code",
   "execution_count": 22,
   "id": "8a8efb89-5103-4c9b-b0c7-96b1730762a1",
   "metadata": {},
   "outputs": [
    {
     "name": "stdout",
     "output_type": "stream",
     "text": [
      "True\n",
      "3.1\n",
      "[[4.9, 3.1, 1.5, 0.1], [5.0, 3.2, 1.2, 0.2], [4.4, 3.0, 1.3, 0.2]]\n"
     ]
    }
   ],
   "source": [
    "# Jamie's Code\n",
    "\n",
    "def is_negative(data):\n",
    "    new_list=[]\n",
    "    for i in data:\n",
    "        if min(i)<0:\n",
    "            new_list.append(\"True\")\n",
    "    for i in new_list:\n",
    "        if i=='True':\n",
    "            result='True'\n",
    "    return result\n",
    "\n",
    "from collections import Counter\n",
    "import numpy as np\n",
    "def most_common_second(data):\n",
    "    list_a=[]\n",
    "    for i in data:\n",
    "        second_col=i[1]\n",
    "        list_a.append(second_col)\n",
    "    c=Counter(list_a)\n",
    "    mc=c.most_common(1)\n",
    "   # print(second_col)\n",
    "    return mc[0][0]\n",
    "\n",
    "def non_negative(data):\n",
    "    new_list=[]\n",
    "    for i in data:\n",
    "        if min(i)>=0:\n",
    "            new_list.append(i)\n",
    "    return new_list\n",
    "\n",
    "print(is_negative(data))\n",
    "print(most_common_second(data))\n",
    "print(non_negative(data))"
   ]
  },
  {
   "cell_type": "code",
   "execution_count": null,
   "id": "389edc08-788c-496b-9f80-50c25e6f323a",
   "metadata": {},
   "outputs": [],
   "source": []
  },
  {
   "cell_type": "code",
   "execution_count": null,
   "id": "b58bfb29-87b8-48eb-8d5e-e63cfeda95d8",
   "metadata": {},
   "outputs": [],
   "source": []
  },
  {
   "cell_type": "code",
   "execution_count": null,
   "id": "ca7756d6-eaa9-414b-9477-2953421a3fc2",
   "metadata": {},
   "outputs": [],
   "source": []
  },
  {
   "cell_type": "code",
   "execution_count": null,
   "id": "dcd7c39b-39c5-464c-a03e-30ad5aa82b58",
   "metadata": {},
   "outputs": [],
   "source": []
  },
  {
   "cell_type": "code",
   "execution_count": null,
   "id": "f68831a1-e043-4a14-8420-758beb86b50c",
   "metadata": {},
   "outputs": [],
   "source": []
  },
  {
   "cell_type": "code",
   "execution_count": null,
   "id": "395b6ddc-c5ea-4f4a-b297-db2879679e2d",
   "metadata": {},
   "outputs": [],
   "source": []
  },
  {
   "cell_type": "code",
   "execution_count": 4,
   "id": "dd6a51b0-25f3-4879-9fe4-d00e5cf8e24c",
   "metadata": {},
   "outputs": [],
   "source": [
    "# 1 without Pandas\n",
    "def any_neg(data):\n",
    "    below_zero = False\n",
    "    for i in data:\n",
    "        for j in i:\n",
    "            if j < 0:\n",
    "                below_zero = True\n",
    "                break\n",
    "    return below_zero"
   ]
  },
  {
   "cell_type": "code",
   "execution_count": 5,
   "id": "0a429487-1a78-43a9-9eca-084697244eb0",
   "metadata": {},
   "outputs": [
    {
     "data": {
      "text/plain": [
       "True"
      ]
     },
     "execution_count": 5,
     "metadata": {},
     "output_type": "execute_result"
    }
   ],
   "source": [
    "any_neg(data)"
   ]
  },
  {
   "cell_type": "code",
   "execution_count": 6,
   "id": "d9e375c5-889a-409a-bc29-165b2de922de",
   "metadata": {},
   "outputs": [
    {
     "data": {
      "text/plain": [
       "False"
      ]
     },
     "execution_count": 6,
     "metadata": {},
     "output_type": "execute_result"
    }
   ],
   "source": [
    "any_neg([[1, 2, 3,]])"
   ]
  },
  {
   "cell_type": "code",
   "execution_count": 11,
   "id": "6ca4e7aa-403f-4fb7-bfe1-3bc50442143e",
   "metadata": {},
   "outputs": [],
   "source": [
    "# 2\n",
    "import statistics\n",
    "\n",
    "def sec_col_mode(data):\n",
    "    second_col = []\n",
    "    for i in data:\n",
    "        second_col.append(i[1])\n",
    "    return statistics.mode(second_col)"
   ]
  },
  {
   "cell_type": "code",
   "execution_count": 12,
   "id": "fd9f5206-4cf6-4b7b-b0ac-7f3cd5515c07",
   "metadata": {},
   "outputs": [
    {
     "data": {
      "text/plain": [
       "3.1"
      ]
     },
     "execution_count": 12,
     "metadata": {},
     "output_type": "execute_result"
    }
   ],
   "source": [
    "sec_col_mode(data)"
   ]
  },
  {
   "cell_type": "code",
   "execution_count": 13,
   "id": "aad30bf7-85a4-42fc-8a95-0fc0509c40c5",
   "metadata": {},
   "outputs": [],
   "source": [
    "# 3\n",
    "\n",
    "def no_negs(data):\n",
    "    pos_rows = []\n",
    "    \n",
    "    for i in data:\n",
    "        if all(x > 0 for x in i) == True:\n",
    "            pos_rows.append(i)\n",
    "            \n",
    "    return pos_rows"
   ]
  },
  {
   "cell_type": "code",
   "execution_count": 14,
   "id": "593bb912-5c8d-42df-8374-ad1ba82dab38",
   "metadata": {},
   "outputs": [
    {
     "data": {
      "text/plain": [
       "[[4.9, 3.1, 1.5, 0.1], [5.0, 3.2, 1.2, 0.2], [4.4, 3.0, 1.3, 0.2]]"
      ]
     },
     "execution_count": 14,
     "metadata": {},
     "output_type": "execute_result"
    }
   ],
   "source": [
    "no_negs(data)"
   ]
  },
  {
   "cell_type": "code",
   "execution_count": null,
   "id": "0df30fc0-3f9f-4106-b67f-201ff8b4eb53",
   "metadata": {},
   "outputs": [],
   "source": []
  }
 ],
 "metadata": {
  "kernelspec": {
   "display_name": "Python [conda env:dsir-111] *",
   "language": "python",
   "name": "conda-env-dsir-111-py"
  },
  "language_info": {
   "codemirror_mode": {
    "name": "ipython",
    "version": 3
   },
   "file_extension": ".py",
   "mimetype": "text/x-python",
   "name": "python",
   "nbconvert_exporter": "python",
   "pygments_lexer": "ipython3",
   "version": "3.8.12"
  }
 },
 "nbformat": 4,
 "nbformat_minor": 5
}
