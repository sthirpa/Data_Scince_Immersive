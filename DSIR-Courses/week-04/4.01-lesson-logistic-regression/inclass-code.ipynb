{
 "cells": [
  {
   "cell_type": "markdown",
   "metadata": {},
   "source": [
    "<img src=\"http://imgur.com/1ZcRyrc.png\" style=\"float: left; margin: 20px; height: 55px\">\n",
    "\n",
    "# Introduction to Logistic Regression\n",
    "\n",
    "_Authors: Kiefer Katovich, Matt Brems, Noelle Brown_\n",
    "\n",
    "---\n",
    "\n",
    "### Learning Objectives\n",
    "- Distinguish between regression and classification problems.\n",
    "- Understand how logistic regression is similar to and different from linear regression.\n",
    "- Fit, generate predictions from, and evaluate a logistic regression model in `sklearn`.\n",
    "- Understand how to interpret the coefficients of logistic regression.\n",
    "- Know the benefits of logistic regression as a classifier."
   ]
  },
  {
   "cell_type": "markdown",
   "metadata": {},
   "source": [
    "<a id='introduction'></a>\n",
    "\n",
    "## Introduction\n",
    "\n",
    "---\n",
    "\n",
    "Logistic regression is a natural bridge to connect regression and classification.\n",
    "- Logistic regression is the most common binary classification algorithm.\n",
    "- Because it is a regression model, logistic regression will predict continuous values.\n",
    "    - Logistic regression will predict continuous probabilities between 0 and 1.\n",
    "    - Example: What is the probability that someone shows up to vote?\n",
    "- However, logistic regression almost always operates as a classification model.\n",
    "    - Logistic regression will use these continuous predictions to classify something as 0 or 1.\n",
    "    - Example: Based on the predicted probability, do we predict that someone votes?\n",
    "\n",
    "In this lecture, we'll only be reviewing the binary outcome case with two classes, but logistic regression can be generalized to predicting outcomes with 3 or more classes.\n",
    "\n",
    "**Some examples of when logistic regression could be used:**\n",
    "- Will a user will purchase a product, given characteristics like income, age, and number of family members?\n",
    "- Does this patient have a specific disease based on their symptoms?\n",
    "- Will a person default on their loan?\n",
    "- Is the iris flower in front of me an \"_Iris versicolor_?\"\n",
    "- Given one's GPA and the prestige of a college, will a student be admitted to a specific graduate program?\n",
    "\n",
    "And many more."
   ]
  },
  {
   "cell_type": "code",
   "execution_count": 1,
   "metadata": {},
   "outputs": [],
   "source": [
    "# imports\n",
    "import matplotlib.pyplot as plt\n",
    "import numpy as np\n",
    "import pandas as pd\n",
    "import seaborn as sns\n",
    "\n",
    "# Import train_test_split.\n",
    "from sklearn.model_selection import train_test_split\n",
    "# Import logistic regression\n",
    "from sklearn.linear_model import LinearRegression, LogisticRegression\n",
    "\n",
    "plt.style.use('fivethirtyeight')\n",
    "\n",
    "%matplotlib inline\n",
    "%config InlineBackend.figure_format = 'retina'"
   ]
  },
  {
   "cell_type": "markdown",
   "metadata": {},
   "source": [
    "## Graduate School Admissions\n",
    "\n",
    "---\n",
    "\n",
    "Today, we'll be applying logistic regression to solve the following problem: \"Given one's GPA, will a student be admitted to a specific graduate program?\""
   ]
  },
  {
   "cell_type": "code",
   "execution_count": 2,
   "metadata": {},
   "outputs": [],
   "source": [
    "# Read in the data.\n",
    "admissions = pd.read_csv('../data/grad_admissions.csv')"
   ]
  },
  {
   "cell_type": "code",
   "execution_count": 3,
   "metadata": {},
   "outputs": [
    {
     "data": {
      "text/html": [
       "<div>\n",
       "<style scoped>\n",
       "    .dataframe tbody tr th:only-of-type {\n",
       "        vertical-align: middle;\n",
       "    }\n",
       "\n",
       "    .dataframe tbody tr th {\n",
       "        vertical-align: top;\n",
       "    }\n",
       "\n",
       "    .dataframe thead th {\n",
       "        text-align: right;\n",
       "    }\n",
       "</style>\n",
       "<table border=\"1\" class=\"dataframe\">\n",
       "  <thead>\n",
       "    <tr style=\"text-align: right;\">\n",
       "      <th></th>\n",
       "      <th>admit</th>\n",
       "      <th>gre</th>\n",
       "      <th>gpa</th>\n",
       "    </tr>\n",
       "  </thead>\n",
       "  <tbody>\n",
       "    <tr>\n",
       "      <th>0</th>\n",
       "      <td>0</td>\n",
       "      <td>380.0</td>\n",
       "      <td>2.915018</td>\n",
       "    </tr>\n",
       "    <tr>\n",
       "      <th>1</th>\n",
       "      <td>1</td>\n",
       "      <td>660.0</td>\n",
       "      <td>4.044540</td>\n",
       "    </tr>\n",
       "    <tr>\n",
       "      <th>2</th>\n",
       "      <td>1</td>\n",
       "      <td>800.0</td>\n",
       "      <td>4.950714</td>\n",
       "    </tr>\n",
       "    <tr>\n",
       "      <th>3</th>\n",
       "      <td>1</td>\n",
       "      <td>640.0</td>\n",
       "      <td>3.921994</td>\n",
       "    </tr>\n",
       "    <tr>\n",
       "      <th>4</th>\n",
       "      <td>0</td>\n",
       "      <td>520.0</td>\n",
       "      <td>2.069878</td>\n",
       "    </tr>\n",
       "  </tbody>\n",
       "</table>\n",
       "</div>"
      ],
      "text/plain": [
       "   admit    gre       gpa\n",
       "0      0  380.0  2.915018\n",
       "1      1  660.0  4.044540\n",
       "2      1  800.0  4.950714\n",
       "3      1  640.0  3.921994\n",
       "4      0  520.0  2.069878"
      ]
     },
     "execution_count": 3,
     "metadata": {},
     "output_type": "execute_result"
    }
   ],
   "source": [
    "# Check first five rows.\n",
    "admissions.head()"
   ]
  },
  {
   "cell_type": "markdown",
   "metadata": {},
   "source": [
    "The columns are:\n",
    "- `admit`: A binary 0/1 variable indicating whether or not a student was admitted, where 1 means admitted and 0 means not admitted.\n",
    "- `gre`: The student's [GRE (Graduate Record Exam)](https://en.wikipedia.org/wiki/Graduate_Record_Examinations) score.\n",
    "- `gpa`: The student's GPA."
   ]
  },
  {
   "cell_type": "code",
   "execution_count": 4,
   "metadata": {},
   "outputs": [
    {
     "data": {
      "text/plain": [
       "admit     0\n",
       "gre      20\n",
       "gpa      20\n",
       "dtype: int64"
      ]
     },
     "execution_count": 4,
     "metadata": {},
     "output_type": "execute_result"
    }
   ],
   "source": [
    "# How many missing values do we have in each column?\n",
    "admissions.isnull().sum()"
   ]
  },
  {
   "cell_type": "code",
   "execution_count": 5,
   "metadata": {},
   "outputs": [],
   "source": [
    "# Drop every row that has an NA.\n",
    "admissions.dropna(inplace=True)"
   ]
  },
  {
   "cell_type": "markdown",
   "metadata": {},
   "source": [
    "<details><summary>What assumption are we making when we drop rows that have at least one NA in it?</summary>\n",
    "    \n",
    "- We assume that what we drop looks like what we have observed. That is, there's nothing special about the rows we happened to drop.\n",
    "- We might say that what we dropped is a random sample of our whole data.\n",
    "- It's not important to know this now, but the formal term is that our data is missing completely at random.\n",
    "</details>"
   ]
  },
  {
   "cell_type": "markdown",
   "metadata": {},
   "source": [
    "<details><summary>Suppose I want to check if a value of 1 for prestige means \"most prestigious\" or \"least prestigious.\" How might I find this out?</summary>\n",
    "    \n",
    "- Check a data dictionary to see if the answer exists.\n",
    "- If a data dictionary doesn't exist, compare prestige to admit. You could use [groupby](https://pandas.pydata.org/pandas-docs/version/0.22/generated/pandas.DataFrame.groupby.html) to make a table or you could use a plot.\n",
    "</details>"
   ]
  },
  {
   "cell_type": "code",
   "execution_count": 6,
   "metadata": {},
   "outputs": [
    {
     "data": {
      "text/html": [
       "<div>\n",
       "<style scoped>\n",
       "    .dataframe tbody tr th:only-of-type {\n",
       "        vertical-align: middle;\n",
       "    }\n",
       "\n",
       "    .dataframe tbody tr th {\n",
       "        vertical-align: top;\n",
       "    }\n",
       "\n",
       "    .dataframe thead th {\n",
       "        text-align: right;\n",
       "    }\n",
       "</style>\n",
       "<table border=\"1\" class=\"dataframe\">\n",
       "  <thead>\n",
       "    <tr style=\"text-align: right;\">\n",
       "      <th></th>\n",
       "      <th>admit</th>\n",
       "      <th>gre</th>\n",
       "      <th>gpa</th>\n",
       "    </tr>\n",
       "    <tr>\n",
       "      <th>prestige</th>\n",
       "      <th></th>\n",
       "      <th></th>\n",
       "      <th></th>\n",
       "    </tr>\n",
       "  </thead>\n",
       "  <tbody>\n",
       "    <tr>\n",
       "      <th>1.0</th>\n",
       "      <td>0.540984</td>\n",
       "      <td>611.803279</td>\n",
       "      <td>3.453115</td>\n",
       "    </tr>\n",
       "    <tr>\n",
       "      <th>2.0</th>\n",
       "      <td>0.358108</td>\n",
       "      <td>596.621622</td>\n",
       "      <td>3.367365</td>\n",
       "    </tr>\n",
       "    <tr>\n",
       "      <th>3.0</th>\n",
       "      <td>0.231405</td>\n",
       "      <td>574.876033</td>\n",
       "      <td>3.432893</td>\n",
       "    </tr>\n",
       "    <tr>\n",
       "      <th>4.0</th>\n",
       "      <td>0.179104</td>\n",
       "      <td>570.149254</td>\n",
       "      <td>3.318358</td>\n",
       "    </tr>\n",
       "  </tbody>\n",
       "</table>\n",
       "</div>"
      ],
      "text/plain": [
       "             admit         gre       gpa\n",
       "prestige                                \n",
       "1.0       0.540984  611.803279  3.453115\n",
       "2.0       0.358108  596.621622  3.367365\n",
       "3.0       0.231405  574.876033  3.432893\n",
       "4.0       0.179104  570.149254  3.318358"
      ]
     },
     "execution_count": 6,
     "metadata": {},
     "output_type": "execute_result"
    }
   ],
   "source": [
    "# admissions.groupby(by = 'prestige').mean()"
   ]
  },
  {
   "cell_type": "code",
   "execution_count": 6,
   "metadata": {},
   "outputs": [
    {
     "data": {
      "text/plain": [
       "0.6826196473551638"
      ]
     },
     "execution_count": 6,
     "metadata": {},
     "output_type": "execute_result"
    }
   ],
   "source": [
    "# Calculate the baseline accuracy\n",
    "1 - admissions['admit'].mean()"
   ]
  },
  {
   "cell_type": "markdown",
   "metadata": {},
   "source": [
    "### Artificially increase the signal in the data.\n",
    "\n",
    "The signal for detecting admission in the college data is fairly weak — too weak for the purposes of our demonstration. (There are lots of factors associated with getting admitted to grad school other than GPA, test score, and prestige.)\n",
    "\n",
    "**Obviously you would never do this to your real data**... but in order to make the relationship between our predictors and whether or not someone is admitted a lot clearer, we are making 10 copies of the data set and adding an artificial signal for detecting `admit` to the `gpa` column."
   ]
  },
  {
   "cell_type": "code",
   "execution_count": 7,
   "metadata": {},
   "outputs": [],
   "source": [
    "# Grab all rows\n",
    "admit = admissions\n",
    "\n",
    "# Concatenate ten copies of admit.\n",
    "admit = pd.concat([admit] * 10, axis=0)\n",
    "\n",
    "# Set a random seed.\n",
    "np.random.seed(42)\n",
    "\n",
    "# Add random noise to inflate GPA for people who were admitted.\n",
    "# Subtract random noise to deflate GPA for people who were not admitted.\n",
    "# Again: DO NOT DO THIS IN GENERAL.\n",
    "admit.loc[admit['admit'] == 1, 'gpa'] += np.random.random(size=admit[admit.admit == 1].shape[0])\n",
    "admit.loc[admit['admit'] == 0, 'gpa'] -= np.random.random(size=admit[admit.admit == 0].shape[0])"
   ]
  },
  {
   "cell_type": "markdown",
   "metadata": {},
   "source": [
    "## Recap of Notation\n",
    "\n",
    "You're quite familiar with **linear** regression:\n",
    "\n",
    "$$\n",
    "\\begin{eqnarray*}\n",
    "\\hat{\\mathbf{y}} &=& \\hat{\\beta}_0 + \\hat{\\beta}_1x_1 + \\hat{\\beta}_2x_2 + \\cdots + \\hat{\\beta}_px_p \\\\\n",
    "&=& \\hat{\\beta}_0 + \\sum_{j=1}^p\\hat{\\beta}_jX_j\n",
    "\\end{eqnarray*}\n",
    "$$\n",
    "\n",
    "Where:\n",
    "- $\\hat{\\mathbf{y}}$ is the predicted values of $\\mathbf{y}$ based on all of the inputs $x_j$.\n",
    "- $x_1$, $x_2$, $\\ldots$, $x_p$ are the predictors.\n",
    "- $\\hat{\\beta}_0$ is the estimated intercept.\n",
    "- $\\hat{\\beta}_j$ is the estimated coefficient for the predictor $x_j$, the $j$th column in variable matrix $X$.\n"
   ]
  },
  {
   "cell_type": "markdown",
   "metadata": {},
   "source": [
    "<a id='plot-reg'></a>\n",
    "### What if we predicted `admit` with `gpa` using Linear Regression?\n",
    "\n",
    "Looking at the plot below, what are problems with using a regression?"
   ]
  },
  {
   "cell_type": "code",
   "execution_count": 8,
   "metadata": {},
   "outputs": [
    {
     "name": "stdout",
     "output_type": "stream",
     "text": [
      "Intercept: -0.7702069507144604\n",
      "Coefficient: [0.35934052]\n"
     ]
    }
   ],
   "source": [
    "# Define y and X.\n",
    "y = admit['admit']\n",
    "X = admit[['gpa']] # Because X is usually a matrix, we'll get a \n",
    "                   # reshape request if we don't use double brackets.\n",
    "\n",
    "\n",
    "# Import train_test_split.\n",
    "from sklearn.model_selection import train_test_split\n",
    "\n",
    "# Create training and testing sets.\n",
    "X_train, X_test, y_train, y_test = train_test_split(X, y, test_size = 0.33, random_state=42)\n",
    "\n",
    "# Instantiate a linear regression model.\n",
    "linmod = LinearRegression()\n",
    "\n",
    "# Fit our linear regression model to the training data.\n",
    "linmod.fit(X_train, y_train)\n",
    "\n",
    "# Print out intercept and coefficients.\n",
    "print(f'Intercept: {linmod.intercept_}')\n",
    "print(f'Coefficient: {linmod.coef_}')"
   ]
  },
  {
   "cell_type": "markdown",
   "metadata": {},
   "source": [
    "<a id='plot-reg'></a>\n",
    "### What do those coefficients mean?  Plot `admit` (our $Y$) against `gpa` (our $X$).\n",
    "\n",
    "Looking at the plot below, what are problems with using a regression?"
   ]
  },
  {
   "cell_type": "code",
   "execution_count": 36,
   "metadata": {},
   "outputs": [
    {
     "data": {
      "image/png": "[encoded data removed]",
      "text/plain": [
       "<Figure size 720x432 with 1 Axes>"
      ]
     },
     "metadata": {
      "needs_background": "light"
     },
     "output_type": "display_data"
    }
   ],
   "source": [
    "# Create figure.\n",
    "plt.figure(figsize=(10,6))\n",
    "\n",
    "# Plot the regression line where gpa predicts admit.\n",
    "x_vals = np.linspace(1, 5, 300)\n",
    "\n",
    "# Plot line of best fit\n",
    "plt.plot(x_vals,\n",
    "         linmod.predict(x_vals.reshape(-1,1)),\n",
    "         color='black', alpha=0.7, lw=4)\n",
    "\n",
    "# Create scatterplot with orange dots for those rejected.\n",
    "plt.scatter(admit['gpa'][admit['admit'] == 0],\n",
    "            admit['admit'][admit['admit'] == 0],\n",
    "            c='orange',\n",
    "            s=100,\n",
    "            alpha=0.7,\n",
    "            label='rejected')\n",
    "\n",
    "# Create scatterplot with blue dots for those admitted.\n",
    "plt.scatter(admit['gpa'][admit['admit'] == 1],\n",
    "            admit['admit'][admit['admit'] == 1],\n",
    "            c='blue',\n",
    "            s=100,\n",
    "            alpha=0.7,\n",
    "            label='admitted')\n",
    "\n",
    "# Set labels of axes and title.\n",
    "plt.ylabel('P(Admitted)', fontsize=16, rotation = 'horizontal', ha = 'right')\n",
    "plt.yticks(fontsize = 14)\n",
    "plt.xlabel('GPA', fontsize=16)\n",
    "plt.xticks(fontsize = 14)\n",
    "plt.title('Predicting Admission from GPA (Prestige = 1)', fontsize=20)\n",
    "plt.xlim(1.5, 5)\n",
    "plt.ylim(-0.25, 1.25)\n",
    "plt.legend(loc='upper left');"
   ]
  },
  {
   "cell_type": "code",
   "execution_count": 37,
   "metadata": {
    "scrolled": false
   },
   "outputs": [
    {
     "name": "stderr",
     "output_type": "stream",
     "text": [
      "/Users/c3po/miniconda3/envs/sector16/lib/python3.8/site-packages/seaborn/_decorators.py:36: FutureWarning: Pass the following variables as keyword args: x, y, data. From version 0.12, the only valid positional argument will be `data`, and passing other arguments without an explicit keyword will result in an error or misinterpretation.\n",
      "  warnings.warn(\n"
     ]
    },
    {
     "data": {
      "image/png": "[encoded data removed]",
      "text/plain": [
       "<Figure size 864x360 with 1 Axes>"
      ]
     },
     "metadata": {
      "needs_background": "light"
     },
     "output_type": "display_data"
    }
   ],
   "source": [
    "plt.figure(figsize = (12, 5))\n",
    "sns.regplot(admissions['gpa'], admissions['admit'], admissions,\n",
    "            ci = False, scatter_kws = {'s': 2},\n",
    "            line_kws = {'color': 'orange'})\n",
    "plt.ylim(-0.1, 1.1);"
   ]
  },
  {
   "cell_type": "markdown",
   "metadata": {},
   "source": [
    "#### **Note:** Unless we predict exactly one value, linear regression will always predict values from $-\\infty$ to $+\\infty$. This isn't always appropriate in real-world cases!"
   ]
  },
  {
   "cell_type": "markdown",
   "metadata": {},
   "source": [
    "<a id='pred-binary'></a>\n",
    "\n",
    "## Predicting a Binary Class\n",
    "\n",
    "---\n",
    "\n",
    "In our case we have two classes: `1=admitted` and `0=rejected`.\n",
    "\n",
    "The logistic regression is still solving for $\\hat{y}$. However, in our binary classification case, $\\hat{y}$ will be the probability of $y$ being one of the classes.\n",
    "\n",
    "$$\n",
    "\\hat{y} = P(y = 1)\n",
    "$$\n",
    "\n",
    "We'll still try to fit a \"line\" of best fit to this... except it won't be perfectly linear. We need to *guarantee* that the right-hand side of the regression equation will evaluate to a probability. (That is, some number between 0 and 1!)"
   ]
  },
  {
   "cell_type": "markdown",
   "metadata": {},
   "source": [
    "## The Logit Link Function (advanced)\n",
    "\n",
    "---\n",
    "\n",
    "We will use something called a **link function** to effectively \"bend\" our line of best fit so that it is a curve of best fit that matches the range or set of values in which we're interested.\n",
    "\n",
    "For logistic regression, that specific link function that transforms (\"bends\") our line is known as the **logit** link.\n",
    "\n",
    "$$\n",
    "\\text{logit}\\left(P(y = 1)\\right) = \\beta_0 + \\beta_1x_1 + \\beta_2x_2 + \\cdots + \\beta_px_p\n",
    "$$\n",
    "\n",
    "$$\n",
    "\\log\\left(\\frac{P(y = 1)}{1 - P(y = 1)}\\right) = \\beta_0 + \\beta_1x_1 + \\beta_2x_2 + \\cdots + \\beta_px_p\n",
    "$$\n",
    "\n",
    "Equivalently, we assume that each independent variable $x_i$ is linearly related to the **log of the odds of success**.\n",
    "\n",
    "Remember, the purpose of the link function is to bend our line of best fit.\n",
    "- This is convenient because we can have any values of $X$ inputs that we want, and we'll only ever predict between 0 and 1!\n",
    "- However, interpreting a one-unit change gets a little harder. (More on this later.)"
   ]
  },
  {
   "cell_type": "markdown",
   "metadata": {},
   "source": [
    "<img src=\"../images/logregmeme.png\" style=\"height: 400px\">\n",
    "\n",
    "[*image source*](https://twitter.com/ChelseaParlett/status/1279111984433127425?s=20)"
   ]
  },
  {
   "cell_type": "markdown",
   "metadata": {},
   "source": [
    "## Fitting and making predictions with the logistic regression model.\n",
    "\n",
    "We can follow the same steps to build a logistic regression model that we follow to build a linear regression model.\n",
    "\n",
    "1. Define X & y\n",
    "2. Instantiate the model.\n",
    "3. Fit the model.\n",
    "4. Generate predictions.\n",
    "5. Evaluate model."
   ]
  },
  {
   "cell_type": "code",
   "execution_count": 38,
   "metadata": {},
   "outputs": [],
   "source": [
    "# Step 1: Split into training & testing sets\n",
    "X = admissions[['gpa']]\n",
    "y = admissions['admit']\n",
    "\n",
    "X_train, X_test, y_train, y_test = train_test_split(X, y,\n",
    "                                                    random_state = 42)"
   ]
  },
  {
   "cell_type": "code",
   "execution_count": 39,
   "metadata": {},
   "outputs": [
    {
     "data": {
      "text/plain": [
       "660     0\n",
       "2146    0\n",
       "889     1\n",
       "3612    1\n",
       "67      0\n",
       "385     0\n",
       "2482    0\n",
       "3365    0\n",
       "1322    0\n",
       "2437    0\n",
       "Name: admit, dtype: int64"
      ]
     },
     "execution_count": 39,
     "metadata": {},
     "output_type": "execute_result"
    }
   ],
   "source": [
    "y_train.head(10)"
   ]
  },
  {
   "cell_type": "code",
   "execution_count": 40,
   "metadata": {
    "scrolled": true
   },
   "outputs": [
    {
     "name": "stdout",
     "output_type": "stream",
     "text": [
      "Logistic Regression Intercept: [-17.83664032]\n",
      "Logistic Regression Coefficient: [[5.00449924]]\n"
     ]
    }
   ],
   "source": [
    "# Step 2: Instantiate our model.\n",
    "logreg = LogisticRegression()\n",
    "\n",
    "# Step 3: Fit our model.\n",
    "logreg.fit(X_train, y_train)\n",
    "\n",
    "print(f'Logistic Regression Intercept: {logreg.intercept_}')\n",
    "print(f'Logistic Regression Coefficient: {logreg.coef_}')"
   ]
  },
  {
   "cell_type": "markdown",
   "metadata": {},
   "source": [
    "There are two methods in `sklearn` to be aware of when using logistic regression:\n",
    "- `.predict()`\n",
    "- `.predict_proba()`"
   ]
  },
  {
   "cell_type": "code",
   "execution_count": 41,
   "metadata": {},
   "outputs": [
    {
     "data": {
      "text/plain": [
       "array([0, 1, 0, 0, 1, 1, 0, 0, 0, 0])"
      ]
     },
     "execution_count": 41,
     "metadata": {},
     "output_type": "execute_result"
    }
   ],
   "source": [
    "# Step 4 (part 1): Generate predicted values.\n",
    "logreg.predict(X_test)[:10]\n",
    "# print(f'Logistic Regression predicted values: {logreg.predict(X_train.head(10))}')"
   ]
  },
  {
   "cell_type": "code",
   "execution_count": 42,
   "metadata": {},
   "outputs": [
    {
     "data": {
      "text/plain": [
       "array([[0.991, 0.009],\n",
       "       [0.06 , 0.94 ],\n",
       "       [0.793, 0.207],\n",
       "       ...,\n",
       "       [0.992, 0.008],\n",
       "       [1.   , 0.   ],\n",
       "       [0.843, 0.157]])"
      ]
     },
     "execution_count": 42,
     "metadata": {},
     "output_type": "execute_result"
    }
   ],
   "source": [
    "# Step 4 (part 2): Generate predicted probabilities.\n",
    "np.round(logreg.predict_proba(X_test), 3)\n",
    "# print(f'Logistic Regression predicted probabilities: \\n{logreg.predict_proba(X_train.head(10))}')"
   ]
  },
  {
   "cell_type": "markdown",
   "metadata": {},
   "source": [
    "<details><summary>How would you interpret the predict_proba() output?</summary>\n",
    "    \n",
    "- This shows the probability of being rejected ($P(Y=0)$) and the probability of being admitted ($P(Y=1)$) for each observation in the testing dataset.\n",
    "- The first array, corresponds to the first testing observation.\n",
    "    - The `.predict()` value for this observation is 0. This is because $P(Y=0) > P(Y=1)$.\n",
    "- The second array, corresponds to the second testing observation.\n",
    "    - The `.predict()` value for this observation is 0. This is because $P(Y=0) > P(Y=1)$.\n",
    "</details>"
   ]
  },
  {
   "cell_type": "code",
   "execution_count": 43,
   "metadata": {},
   "outputs": [
    {
     "data": {
      "image/png": "[encoded data removed]",
      "text/plain": [
       "<Figure size 720x432 with 1 Axes>"
      ]
     },
     "metadata": {
      "needs_background": "light"
     },
     "output_type": "display_data"
    }
   ],
   "source": [
    "# Visualizing logistic regression probabilities.\n",
    "\n",
    "# Create figure.\n",
    "plt.figure(figsize=(10,6))\n",
    "\n",
    "# Plot the regression line where gpa predicts admit.\n",
    "x_vals = np.linspace(1, 5, 3000)\n",
    "\n",
    "# Nicholas Jin - BOS\n",
    "# Plot line of best fit\n",
    "plt.plot(x_vals,\n",
    "         logreg.predict_proba(x_vals.reshape(-1,1))[:,1],\n",
    "         color='red', alpha=0.7, lw=4)\n",
    "\n",
    "# Create scatterplot with orange dots for those rejected.\n",
    "plt.scatter(admit['gpa'][admit['admit'] == 0],\n",
    "            admit['admit'][admit['admit'] == 0],\n",
    "            c='orange',\n",
    "            s=100,\n",
    "            alpha=0.7,\n",
    "            label='rejected')\n",
    "\n",
    "# Create scatterplot with blue dots for those admitted.\n",
    "plt.scatter(admit['gpa'][admit['admit'] == 1],\n",
    "            admit['admit'][admit['admit'] == 1],\n",
    "            c='blue',\n",
    "            s=100,\n",
    "            alpha=0.7,\n",
    "            label='admitted')\n",
    "\n",
    "# Set labels of axes and title.\n",
    "plt.ylabel('P(Admitted)', fontsize=16, rotation = 'horizontal', ha = 'right')\n",
    "plt.yticks(fontsize = 14)\n",
    "plt.xlabel('GPA', fontsize=16)\n",
    "plt.xticks(fontsize = 14)\n",
    "plt.title('Predicting Admission from GPA (Prestige = 1)', fontsize=20)\n",
    "plt.xlim(1.5, 5)\n",
    "plt.ylim(-0.25, 1.25)\n",
    "plt.legend(loc='upper left');"
   ]
  },
  {
   "cell_type": "code",
   "execution_count": 44,
   "metadata": {},
   "outputs": [
    {
     "data": {
      "image/png": "[encoded data removed]",
      "text/plain": [
       "<Figure size 720x360 with 1 Axes>"
      ]
     },
     "metadata": {
      "needs_background": "light"
     },
     "output_type": "display_data"
    }
   ],
   "source": [
    "# Visualizing logistic regression probabilities.\n",
    "\n",
    "plt.figure(figsize = (10, 5))\n",
    "\n",
    "plt.scatter(X_test, y_test, s = 10);\n",
    "\n",
    "plt.plot(X_test.sort_values('gpa'),\n",
    "         logreg.predict_proba(X_test.sort_values('gpa'))[:,1],\n",
    "         color = 'grey', alpha = 0.8, lw = 3)\n",
    "\n",
    "plt.xlabel('GPA')\n",
    "plt.ylabel('Admit')\n",
    "plt.title('Predicting Admission from GPA');"
   ]
  },
  {
   "cell_type": "code",
   "execution_count": 45,
   "metadata": {},
   "outputs": [
    {
     "data": {
      "text/plain": [
       "0.6826196473551638"
      ]
     },
     "execution_count": 45,
     "metadata": {},
     "output_type": "execute_result"
    }
   ],
   "source": [
    "# Calculate the baseline accuracy\n",
    "1 - admissions['admit'].mean()"
   ]
  },
  {
   "cell_type": "code",
   "execution_count": 46,
   "metadata": {},
   "outputs": [
    {
     "data": {
      "text/plain": [
       "0.8968760497144777"
      ]
     },
     "execution_count": 46,
     "metadata": {},
     "output_type": "execute_result"
    }
   ],
   "source": [
    "# Step 5: Evaluate model.\n",
    "logreg.score(X_train, y_train)\n",
    "# print(f'Logistic Regression Accuracy Score for Training Equals: {logreg.score(X_train, y_train)}')"
   ]
  },
  {
   "cell_type": "code",
   "execution_count": 47,
   "metadata": {},
   "outputs": [
    {
     "data": {
      "text/plain": [
       "0.8952668680765358"
      ]
     },
     "execution_count": 47,
     "metadata": {},
     "output_type": "execute_result"
    }
   ],
   "source": [
    "logreg.score(X_test, y_test)\n",
    "# print(f'Logistic Regression Accuracy Score for Testing Equals: {logreg.score(X_test, y_test)}')"
   ]
  },
  {
   "cell_type": "markdown",
   "metadata": {},
   "source": [
    "By default, the `.score()` method for classification models gives us the accuracy score.\n",
    "\n",
    "$$\n",
    "\\begin{eqnarray*}\n",
    "\\text{Accuracy} = \\frac{\\text{number of correct predictions}}{\\text{number of total predictions}}\n",
    "\\end{eqnarray*}\n",
    "$$"
   ]
  },
  {
   "cell_type": "markdown",
   "metadata": {},
   "source": [
    "<details><summary>Remind me: what does .score() tell me for a regression model?</summary>\n",
    "    \n",
    "- The $R^2$ score.\n",
    "- Remember that $R^2$ is the proportion of variance in our $Y$ values that are explained by our model.\n",
    "</details>"
   ]
  },
  {
   "cell_type": "markdown",
   "metadata": {},
   "source": [
    "### Using the log-odds —the natural logarithm of the odds.\n",
    "\n",
    "The combination of converting the \"probability of success\" to \"odds of success,\" then taking the logarithm of that is called the **logit link function**.\n",
    "\n",
    "$$\n",
    "\\text{logit}\\big(P(y=1)\\big) = \\log\\bigg(\\frac{P(y=1)}{1-P(y=1)}\\bigg) = \\beta_0 + \\beta_1x_1 + \\beta_2x_2 + \\cdots + \\beta_px_p\n",
    "$$\n",
    "\n",
    "We've bent our line how we want... but how do we interpret our coefficients?"
   ]
  },
  {
   "cell_type": "markdown",
   "metadata": {},
   "source": [
    "### Odds\n",
    "\n",
    "Probabilities and odds represent the same thing in different ways. The odds for probability **p** is defined as:\n",
    "\n",
    "$$\n",
    "\\text{odds}(p) = \\frac{p}{1-p}\n",
    "$$\n",
    "\n",
    "The odds of a probability is a measure of how many times as likely an event is to happen than it is to not happen.\n",
    "\n",
    "**Example**: Suppose I'm looking at the probability and odds of a specific horse, \"Secretariat,\" winning a race.\n",
    "\n",
    "- When **`p = 0.5`**: **`odds = 1`**\n",
    "    - The horse Secretariat is as likely to win as it is to lose.\n",
    "- When **`p = 0.75`**: **`odds = 3`**\n",
    "    - The horse Secretariat is three times as likely to win as it is to lose.\n",
    "- When **`p = 0.40`**: **`odds = 0.666..`**\n",
    "   - The horse Secretariat is two-thirds as likely to win as it is to lose."
   ]
  },
  {
   "cell_type": "code",
   "execution_count": 48,
   "metadata": {},
   "outputs": [],
   "source": [
    "# Define a function called odds to calculate the odds of success.\n",
    "def odds(p):\n",
    "    return (p / (1-p))"
   ]
  },
  {
   "cell_type": "code",
   "execution_count": 49,
   "metadata": {},
   "outputs": [
    {
     "data": {
      "image/png": "[encoded data removed]",
      "text/plain": [
       "<Figure size 792x432 with 1 Axes>"
      ]
     },
     "metadata": {
      "needs_background": "light"
     },
     "output_type": "display_data"
    }
   ],
   "source": [
    "# Plot a range of probabilities.\n",
    "probabilities = np.linspace(0.005, .99, 200)\n",
    "\n",
    "# Generate list of odds.\n",
    "odds_list = [odds(proba) for proba in probabilities]\n",
    "\n",
    "# Create figure.\n",
    "plt.figure(figsize=(11,6))\n",
    "\n",
    "# Plot blue line for odds as probability goes from 0.5% to 99%.\n",
    "plt.plot(probabilities,\n",
    "         odds_list)\n",
    "\n",
    "# Plot red dashed line to visualize odds when probability is 50%.\n",
    "plt.vlines(.5, 0, 100, linestyles=\"dashed\", color='red')\n",
    "plt.text(.33, 50, \"odds(.5) = 1\", fontsize=15, color = 'red')\n",
    "\n",
    "# Plot orange dotted line to visualize odds when probability is 66.67%.\n",
    "plt.vlines(.6667, 0, 100, linestyles=\"dotted\", color='orange')\n",
    "plt.text(.68, 50, \"odds(2/3) = 2\", fontsize=15, color='orange')\n",
    "\n",
    "# Annotate blue line when probability is 100%.\n",
    "plt.text(1, 100, \"odds(1) = $\\infty$\", fontsize=15, color='blue')\n",
    "\n",
    "# Add axis labels.\n",
    "plt.xlabel('Probability of Success', fontsize = 20)\n",
    "plt.ylabel('Odds',\n",
    "           fontsize = 20,\n",
    "           rotation = 'horizontal',\n",
    "           ha = 'right')\n",
    "\n",
    "# Make title.\n",
    "plt.title(\"If the probability of success is 50%, then the odds of success are 1.\\nIf the probability of success is 100%, then the odds of success are $\\infty$.\",\n",
    "          ha = 'left',\n",
    "          position = (0,1),\n",
    "          fontsize=20);"
   ]
  },
  {
   "cell_type": "markdown",
   "metadata": {},
   "source": [
    "## Interpreting a one-unit change in $x_i$.\n",
    "\n",
    "$$\\log\\bigg(\\frac{P(y=1)}{1-P(y=1)}\\bigg) = \\beta_0 + \\beta_1x_1 + \\beta_2x_2 + \\cdots + \\beta_px_p$$\n",
    "\n",
    "Given this model, a one-unit change in $x_i$ implies a $\\beta_i$ unit change in the log odds of success.\n",
    "\n",
    "**This is annoying**.\n",
    "\n",
    "We often convert log-odds back to \"regular odds\" when interpreting our coefficient... our mind understands odds better than the log of odds.\n",
    "\n",
    "**(BONUS)** So, let's get rid of the log on the left-hand side. Mathematically, we do this by \"exponentiating\" each side.\n",
    "$$\n",
    "\\begin{eqnarray*}\n",
    "\\log\\bigg(\\frac{P(y=1)}{1-P(y=1)}\\bigg) &=& \\beta_0 + \\beta_1x_1 + \\beta_2x_2 + \\cdots + \\beta_px_p \\\\\n",
    "\\Rightarrow e^{\\Bigg(\\log\\bigg(\\frac{P(y=1)}{1-P(y=1)}\\bigg)\\Bigg)} &=& e^{\\Bigg(\\beta_0 + \\beta_1x_1 + \\beta_2x_2 + \\cdots + \\beta_px_p\\Bigg)} \\\\\n",
    "\\Rightarrow \\frac{P(y=1)}{1-P(y=1)} &=& e^{\\Bigg(\\beta_0 + \\beta_1x_1 + \\beta_2x_2 + \\cdots + \\beta_px_p\\Bigg)} \\\\\n",
    "\\end{eqnarray*}\n",
    "$$\n",
    "\n",
    "**Interpretation**: A one-unit change in $x_i$ means that success is $e^{\\beta_i}$ times as likely."
   ]
  },
  {
   "cell_type": "code",
   "execution_count": 14,
   "metadata": {
    "scrolled": true
   },
   "outputs": [
    {
     "data": {
      "text/plain": [
       "array([[4.92045156]])"
      ]
     },
     "execution_count": 14,
     "metadata": {},
     "output_type": "execute_result"
    }
   ],
   "source": [
    "print(f'Logistic Regression Coefficient: {logreg.coef_}')"
   ]
  },
  {
   "cell_type": "markdown",
   "metadata": {},
   "source": [
    "<details><summary> I want to interpret the coefficient $\\hat{\\beta}_1$ for my logistic regression model. How would I interpret this coefficient?</summary>\n",
    "    \n",
    "- Our model is that $\\log\\bigg(\\frac{P(admit=1)}{1-P(admit=1)}\\bigg) = \\beta_0 + \\beta_1\\text{GPA}$.\n",
    "- As GPA increases by 1, the log-odds of someone being admitted increases by 4.92.\n",
    "- As GPA increases by 1, someone is $e^{4.92}$ times as likely to be admitted.\n",
    "- As GPA increases by 1, someone is about 137.06 times as likely to be admitted to grad school.\n",
    "</details>\n",
    "\n",
    "> Hint: Use the [np.exp](https://docs.scipy.org/doc/numpy/reference/generated/numpy.exp.html) function."
   ]
  },
  {
   "cell_type": "code",
   "execution_count": 15,
   "metadata": {
    "scrolled": true
   },
   "outputs": [
    {
     "data": {
      "text/plain": [
       "array([[137.06449198]])"
      ]
     },
     "execution_count": 15,
     "metadata": {},
     "output_type": "execute_result"
    }
   ],
   "source": [
    "# Use np.exp() to exponentiate the coefficient.\n",
    "np.exp(logreg.coef_)"
   ]
  },
  {
   "cell_type": "markdown",
   "metadata": {},
   "source": [
    "## Conclusion\n",
    "\n",
    "The goal of logistic regression is to find the best-fitting model to describe the relationship between a binary outcome and a set of independent variables.\n",
    "\n",
    "Logistic regression generates the coefficients of a formula to predict a logit transformation of the probability that the characteristic of interest is present.\n",
    "\n",
    "## Beyond binary classification problems.\n",
    "\n",
    "Today, we looked at a binary classification problem: was somebody admitted, or not? Many of our classification problems will be binary. Even if the problem isn't binary, we can always force it to be binary. (i.e. Did the stock price increase or decrease?)\n",
    "\n",
    "However, some of our classification problems won't be binary. You'll see an example of this in a later lesson!"
   ]
  },
  {
   "cell_type": "markdown",
   "metadata": {},
   "source": [
    "## Interview Questions"
   ]
  },
  {
   "cell_type": "markdown",
   "metadata": {},
   "source": [
    "<details><summary>What is the difference between a classification and a regression problem?</summary>\n",
    "    \n",
    "- A classification problem has a categorical $Y$ variable. A regression problem has a numeric $Y$ variable.\n",
    "</details>"
   ]
  },
  {
   "cell_type": "markdown",
   "metadata": {},
   "source": [
    "<details><summary>What are some of the benefits of logistic regression as a classifier?</summary>\n",
    "\n",
    "(Answers may vary; this is not an exhaustive list!)\n",
    "- Logistic regression is a classification algorithm that shares similar properties to linear regression.\n",
    "- The coefficients in a logistic regression model are interpretable. (They represent the change in log-odds caused by the input variables.)\n",
    "- Logistic regression is a very fast model to fit and generate predictions from.\n",
    "- It is by far the most common classification algorithm.\n",
    "\n",
    "**Note**: The original interview question was \"If you're comparing decision trees and logistic regression, what are the pros and cons of each?\"\n",
    "</details>"
   ]
  },
  {
   "cell_type": "markdown",
   "metadata": {},
   "source": [
    "## (BONUS) Solving for the Beta Coefficients\n",
    "\n",
    "Logistic regression minimizes the \"deviance,\" which is similar to the residual sum of squares in linear regression, but is a more general form. \n",
    "\n",
    "**There's no closed-form solution to the beta coefficients like in linear regression, and the betas are found through optimization procedures.**\n",
    "- We can't just do $\\hat{\\beta} = (X^TX)^{-1}X^Ty$ like we can in linear regression!\n",
    "\n",
    "The `solver` hyperparameter in sklearn's LogisticRegression class specifies which method should be used to solve for the optimal beta coefficients (the coefficients that minimize our cost function). A former DC DSI instructor Jeff Hale has a great blog post about which solver to choose [here](https://towardsdatascience.com/dont-sweat-the-solver-stuff-aea7cddc3451) and [this](https://www.linkedin.com/posts/justmarkham_sklearntips-machinelearning-python-activity-6654000730321534976-Um6C/) is a good post by Kevin Markham that compares the solvers.\n",
    "\n",
    "If you're particularly interested in the math, here are two helpful resources:\n",
    "- [A good blog post](http://www.win-vector.com/blog/2011/09/the-simpler-derivation-of-logistic-regression/) on the logistic regression beta coefficient derivation.\n",
    "- [This paper](https://www.stat.cmu.edu/~cshalizi/402/lectures/14-logistic-regression/lecture-14.pdf) is also a good reference."
   ]
  },
  {
   "cell_type": "markdown",
   "metadata": {},
   "source": [
    "## (BONUS) The Logistic Function\n",
    "\n",
    "The inverse function of the logit is called the **logistic function**. \n",
    "\n",
    "By inverting the logit, we can have the right side of our regression equation solve explicitly for $P(y = 1)$:\n",
    "\n",
    "$$\n",
    "P(y=1) = logit^{-1}\\left(\\beta_0 + \\sum_{j}^p\\beta_jx_j\\right)\n",
    "$$\n",
    "\n",
    "Where:\n",
    "\n",
    "$$\n",
    "logit^{-1}(a) = logistic(a) = \\frac{e^{a}}{e^{a} + 1}\n",
    "$$ \n",
    "\n",
    "Giving us:\n",
    "\n",
    "$$\n",
    "P(y=1) = \\frac{e^{\\left(\\beta_0 + \\beta_1x_1 + \\beta_2x_2 + \\cdots + \\beta_px_p\\right)}}{e^{\\left(\\beta_0 + \\beta_1x_1 + \\beta_2x_2 + \\cdots + \\beta_px_p\\right)}+1}\n",
    "$$"
   ]
  }
 ],
 "metadata": {
  "kernelspec": {
   "display_name": "Python 3",
   "language": "python",
   "name": "python3"
  },
  "language_info": {
   "codemirror_mode": {
    "name": "ipython",
    "version": 3
   },
   "file_extension": ".py",
   "mimetype": "text/x-python",
   "name": "python",
   "nbconvert_exporter": "python",
   "pygments_lexer": "ipython3",
   "version": "3.8.5"
  }
 },
 "nbformat": 4,
 "nbformat_minor": 1
}
