{
 "cells": [
  {
   "cell_type": "markdown",
   "metadata": {},
   "source": [
    "<img src=\"http://imgur.com/1ZcRyrc.png\" style=\"float: left; margin: 20px; height: 55px\" />\n",
    "\n",
    "# Quiz 4- Solutions\n",
    "\n",
    "This notebook contains 5 coding challenges. You are to clone this repository and fill in the quiz with your answers, taking special care to follow the directions _exactly_. In many questions, we ask that you name variables in a specific way. Make sure to do this, as we use it for grading.\n",
    "\n",
    "To **submit** your quiz, drop your completed notebook in the file uploader in the provided Google Form.\n",
    "\n",
    "### Quiz Information:\n",
    "- TThis is a \"closed book\" quiz - you may **NOT** use any resources! This includes other code files, Google, StackOverflow, your notes, your classmates, your instructor, or anyone else. Use of any outside resources on this quiz will be considered plagiarism.\n",
    "- You will have 1 hour to take this quiz."
   ]
  },
  {
   "cell_type": "markdown",
   "metadata": {},
   "source": [
    "## Problem 1: The Classic FizzBuzz\n",
    "\n",
    "Write a function called `fizzbuzz` that takes in a number $n$ and returns a **list** of each number from 1 to $n$, but: \n",
    "- For each multiple of 3, the item in the list should be \"Fizz\" instead of the number. \n",
    "- For each multiple of 5, the item in the list should be \"Buzz\" instead of the number. \n",
    "- For numbers which are multiples of both 3 and 5, the item in the list should be \"FizzBuzz\" instead of the number.\n",
    "\n",
    "Try to make your function as efficient & concise as possible.\n",
    "\n",
    "> For example:\n",
    "```python\n",
    "fizzbuzz(5)\n",
    "```\n",
    "> should return:\n",
    "```python\n",
    "[1, 2, 'Fizz', 4, 'Buzz']\n",
    "```"
   ]
  },
  {
   "cell_type": "markdown",
   "metadata": {},
   "source": [
    "### Rubric (4pts total):\n",
    "\n",
    "* +1 : Correct structure of function (def, params)\n",
    "* +1 : Correct structure of output (list, return, _not_ a print)\n",
    "* +1 : Substantial progress towards correct answer (partial credit to grader's discretion)\n",
    "* +1 : Answer is correct"
   ]
  },
  {
   "cell_type": "code",
   "execution_count": 1,
   "metadata": {},
   "outputs": [],
   "source": [
    "def fizzbuzz(n):\n",
    "    num_list = []\n",
    "    \n",
    "    for i in range(1, n + 1): # O(n)\n",
    "        if i % 15 == 0: # multiples of 3 and 5\n",
    "            num_list.append('FizzBuzz')\n",
    "        elif i % 3 == 0: # multiples of 3\n",
    "            num_list.append(\"Fizz\")\n",
    "        elif i % 5 == 0: # multiples of 5\n",
    "            num_list.append(\"Buzz\")\n",
    "        else:\n",
    "            num_list.append(i)\n",
    "            \n",
    "    return num_list # Total Time Complexity depends only on how large the given n is = O(n)"
   ]
  },
  {
   "cell_type": "code",
   "execution_count": 2,
   "metadata": {
    "scrolled": true
   },
   "outputs": [
    {
     "data": {
      "text/plain": [
       "[1,\n",
       " 2,\n",
       " 'Fizz',\n",
       " 4,\n",
       " 'Buzz',\n",
       " 'Fizz',\n",
       " 7,\n",
       " 8,\n",
       " 'Fizz',\n",
       " 'Buzz',\n",
       " 11,\n",
       " 'Fizz',\n",
       " 13,\n",
       " 14,\n",
       " 'FizzBuzz']"
      ]
     },
     "execution_count": 2,
     "metadata": {},
     "output_type": "execute_result"
    }
   ],
   "source": [
    "fizzbuzz(15)"
   ]
  },
  {
   "cell_type": "markdown",
   "metadata": {},
   "source": [
    "## Problem 2: Factorials!\n",
    "\n",
    "Write a function called `smallest_int` that takes in a digit $m$ and returns the smallest non-negative integer $n$ for which $n!$ starts with the given digit $m$.\n",
    "\n",
    "> For example:\n",
    "```python\n",
    "smallest_int(5)\n",
    "```\n",
    "> should return:\n",
    "```python\n",
    "7\n",
    "```\n",
    "> because: $7! = 5040$, and $7$ is the smallest non-negative integer $n$ where $n!$ starts with $5$.\n",
    "\n",
    "Use this function to find the smallest non-negative integer $n$ for which $n!$ starts with $9$."
   ]
  },
  {
   "cell_type": "markdown",
   "metadata": {},
   "source": [
    "### Rubric (4pts total)\n",
    "* +1 : Correct structure of function and return (def, params, return instead of print)\n",
    "* +2 : Substantial progress made towards correct answer (partial credit to grader's discretion)\n",
    "* +1 : Answer is correct"
   ]
  },
  {
   "cell_type": "code",
   "execution_count": 3,
   "metadata": {},
   "outputs": [],
   "source": [
    "# Method 1: using math library\n",
    "import math\n",
    "\n",
    "def smallest_int(digit):\n",
    "    found = False\n",
    "    i = 0\n",
    "\n",
    "    while not found:\n",
    "        if str(math.factorial(i)).startswith(str(digit)): # check if number starts with given digit\n",
    "            found = True\n",
    "            return i\n",
    "        else:\n",
    "            i += 1"
   ]
  },
  {
   "cell_type": "code",
   "execution_count": 4,
   "metadata": {},
   "outputs": [],
   "source": [
    "# Method 2: loop with running total\n",
    "def smallest_int(digit):\n",
    "    total = 1\n",
    "    i = 1\n",
    "    while True: # keeps going until done\n",
    "        first_digit = int(str(total)[0])\n",
    "        if first_digit == digit:\n",
    "            return i\n",
    "        i += 1\n",
    "        total *= i"
   ]
  },
  {
   "cell_type": "code",
   "execution_count": 5,
   "metadata": {},
   "outputs": [
    {
     "data": {
      "text/plain": [
       "7"
      ]
     },
     "execution_count": 5,
     "metadata": {},
     "output_type": "execute_result"
    }
   ],
   "source": [
    "smallest_int(5)"
   ]
  },
  {
   "cell_type": "code",
   "execution_count": 6,
   "metadata": {},
   "outputs": [
    {
     "data": {
      "text/plain": [
       "96"
      ]
     },
     "execution_count": 6,
     "metadata": {},
     "output_type": "execute_result"
    }
   ],
   "source": [
    "smallest_int(9)"
   ]
  },
  {
   "cell_type": "markdown",
   "metadata": {},
   "source": [
    "## Problem 3: Quiz Scores\n",
    "\n",
    "You are given a dictionary containing your scores on various past quizzes (the keys are the quiz names and the values are your scores on the quizzes). Write a function called `quiz_scores` that takes in that dictionary and returns a **list** of just quiz names (i.e. 'Quiz 1', 'Quiz 2', etc.) where your score was **at least 15 points**, in descending order of the scores (highest scoring quiz to lowest scoring quiz).\n",
    "\n",
    "Note: you can assume the scores will always be unique (so no duplicate values).\n",
    "\n",
    "> For example:\n",
    "```python\n",
    "quiz_scores({'Quiz 1': 10, 'Quiz 2': 17, 'Quiz 3': 20, 'Quiz 4': 15})\n",
    "```\n",
    "> should return:\n",
    "```python\n",
    "['Quiz 3', 'Quiz 2', 'Quiz 4']\n",
    "```"
   ]
  },
  {
   "cell_type": "markdown",
   "metadata": {},
   "source": [
    "### Rubric (4pts total):\n",
    "\n",
    "* +1 : Correct structure of function and return (def, params, return instead of print)\n",
    "* +2 : Substantial progress made towards correct answer (partial credit to grader's discretion)\n",
    "* +1 : Answer is correct"
   ]
  },
  {
   "cell_type": "code",
   "execution_count": 7,
   "metadata": {},
   "outputs": [],
   "source": [
    "# method 1: succinct list comprehension\n",
    "def quiz_scores(qscores):\n",
    "    return [q for q,s in sorted(qscores.items(), \n",
    "                                key=lambda x: -x[1]) if s >= 15]\n",
    "    # Total Time Complexity: sorting is O(nlogn) and looping takes O(n) = O(nlogn + n) => O(nlogn)"
   ]
  },
  {
   "cell_type": "code",
   "execution_count": 8,
   "metadata": {},
   "outputs": [
    {
     "data": {
      "text/plain": [
       "['Quiz 3', 'Quiz 2', 'Quiz 4']"
      ]
     },
     "execution_count": 8,
     "metadata": {},
     "output_type": "execute_result"
    }
   ],
   "source": [
    "quiz_scores({'Quiz 1': 10, 'Quiz 2': 17, 'Quiz 3': 20, 'Quiz 4': 15})"
   ]
  },
  {
   "cell_type": "code",
   "execution_count": 9,
   "metadata": {},
   "outputs": [],
   "source": [
    "# method 2: longer form \n",
    "def quiz_scores(score_dictionary):\n",
    "    score_dict = {}\n",
    "    score_list = []\n",
    "    \n",
    "    for key, value in score_dictionary.items(): # O(n)\n",
    "        if value >= 15: # only include quizzes where score is at least 15\n",
    "            score_dict[key] = value\n",
    "            \n",
    "    for key, value in sorted(score_dict.items(), key=lambda kv: kv[1]): # sort the values by score (# O(nlogn + n))\n",
    "        score_list.append(key) # append quiz names to the list\n",
    "        \n",
    "    return (score_list[::-1]) # return list in descending order\n",
    "    # Total Time Complexity: sorting is O(nlogn) and loops takes O(2n) = O(nlogn + 2n) => O(nlogn)"
   ]
  },
  {
   "cell_type": "code",
   "execution_count": 10,
   "metadata": {},
   "outputs": [
    {
     "data": {
      "text/plain": [
       "['Quiz 3', 'Quiz 2', 'Quiz 4']"
      ]
     },
     "execution_count": 10,
     "metadata": {},
     "output_type": "execute_result"
    }
   ],
   "source": [
    "quiz_scores({'Quiz 1': 10, 'Quiz 2': 17, 'Quiz 3': 20, 'Quiz 4': 15})"
   ]
  },
  {
   "cell_type": "markdown",
   "metadata": {},
   "source": [
    "## Problem 4: Camels and Snakes\n",
    "\n",
    "Your coworker gives you some Python code but used camelCase instead of snake_case for all of their variable names! Write a function called `camel_to_snake` that takes in a variable name in camelCase and returns that variable name in snake_case. \n",
    "\n",
    "You can assume that there will only be one or two words in each variable (i.e. `variable` or `myVariable`), but you can get 1 bonus point if you extend this to work with any number of words in the variable name (i.e. `myFirstVariable` would become `my_first_variable`).\n",
    "\n",
    "> For example:\n",
    "```python\n",
    "camel_to_snake('myVariable')\n",
    "```\n",
    "> should return:\n",
    "```python\n",
    "'my_variable'\n",
    "```"
   ]
  },
  {
   "cell_type": "markdown",
   "metadata": {},
   "source": [
    "### Rubric (4pts total):\n",
    "\n",
    "* +1 : Correct structure of function and return (def, params, return instead of print)\n",
    "* +2 : Substantial progress made towards correct answer (partial credit to grader's discretion)\n",
    "* +1 : Answer is correct\n",
    "* Bonus +1 : Code works for any number of words in the variable name"
   ]
  },
  {
   "cell_type": "code",
   "execution_count": 11,
   "metadata": {},
   "outputs": [],
   "source": [
    "# Method 1: succinct list comprehension\n",
    "# Works for any number of words in variable name\n",
    "def camel_to_snake(name):\n",
    "    word_idxs = [0] + [i for i,c in enumerate(name) if c.isupper()] + [len(name)] # O(n)\n",
    "    words = [name[start:end] for start,end in zip(word_idxs, word_idxs[1:])] # O(n * m) = O(n * 2) = O(n)\n",
    "    # zipping takes O(n*m) where n is the length of shortest list (the number of uppercase letters) \n",
    "    # and m is number of lists (2 in this case)\n",
    "    # https://stackoverflow.com/questions/36877715/what-is-the-time-complexity-of-zip-in-python\n",
    "    return '_'.join(words).lower() # O(n)\n",
    "    # Total Time Complexity: O(n) + O(n) + O(n) => O(3n) => O(n)"
   ]
  },
  {
   "cell_type": "code",
   "execution_count": 12,
   "metadata": {},
   "outputs": [
    {
     "data": {
      "text/plain": [
       "'my_variable'"
      ]
     },
     "execution_count": 12,
     "metadata": {},
     "output_type": "execute_result"
    }
   ],
   "source": [
    "camel_to_snake('myVariable')"
   ]
  },
  {
   "cell_type": "code",
   "execution_count": 13,
   "metadata": {},
   "outputs": [
    {
     "data": {
      "text/plain": [
       "'my_first_variable'"
      ]
     },
     "execution_count": 13,
     "metadata": {},
     "output_type": "execute_result"
    }
   ],
   "source": [
    "camel_to_snake('myFirstVariable')"
   ]
  },
  {
   "cell_type": "code",
   "execution_count": 14,
   "metadata": {},
   "outputs": [],
   "source": [
    "# Method 2: long form, keeping lase index of uppercase letter\n",
    "# Only works for just 2 words in variable name\n",
    "def camel_to_snake(var_name):\n",
    "    for idx, letter in enumerate(var_name): # O(n), where n is number of characters\n",
    "        if letter.upper() == letter:\n",
    "            underscore_idx = idx # get indices of uppercase letters\n",
    "    \n",
    "    # using the last value of underscore_idx...\n",
    "    new_var = var_name[:underscore_idx] + '_' + var_name[underscore_idx:] \n",
    "    # O(k) + O(n-k) = O(n), where k is length of slice\n",
    "    \n",
    "    return new_var.lower()\n",
    "    # Total Time Complexity: O(n) + O(n) => O(2n) => O(n)"
   ]
  },
  {
   "cell_type": "code",
   "execution_count": 15,
   "metadata": {},
   "outputs": [
    {
     "data": {
      "text/plain": [
       "'my_variable'"
      ]
     },
     "execution_count": 15,
     "metadata": {},
     "output_type": "execute_result"
    }
   ],
   "source": [
    "camel_to_snake('myVariable')"
   ]
  },
  {
   "cell_type": "code",
   "execution_count": 16,
   "metadata": {},
   "outputs": [],
   "source": [
    "# Method 3: long form, keeping all indeces of uppercase letters\n",
    "# Works for any number of words in variable name\n",
    "def camel_to_snake(var_name):\n",
    "    idx_list = [0]\n",
    "    \n",
    "    for idx, letter in enumerate(var_name): # O(n)\n",
    "        if letter.upper() == letter:\n",
    "            idx_list.append(idx) # get indices of uppercase letters\n",
    "            \n",
    "    # source: https://stackoverflow.com/questions/10851445/splitting-a-string-by-list-of-indices\n",
    "    new_var = [var_name[i:j] for i,j in zip(idx_list, idx_list[1:]+[None])] # O(n)\n",
    "    return str('_'.join(new_var)).lower() # O(n)\n",
    "    # Total Time Complexity: O(n) + O(n) + O(n) => O(3n) => O(n)"
   ]
  },
  {
   "cell_type": "code",
   "execution_count": 17,
   "metadata": {},
   "outputs": [
    {
     "data": {
      "text/plain": [
       "'my_variable'"
      ]
     },
     "execution_count": 17,
     "metadata": {},
     "output_type": "execute_result"
    }
   ],
   "source": [
    "camel_to_snake('myVariable')"
   ]
  },
  {
   "cell_type": "code",
   "execution_count": 18,
   "metadata": {},
   "outputs": [
    {
     "data": {
      "text/plain": [
       "'my_first_variable'"
      ]
     },
     "execution_count": 18,
     "metadata": {},
     "output_type": "execute_result"
    }
   ],
   "source": [
    "camel_to_snake('myFirstVariable')"
   ]
  },
  {
   "cell_type": "markdown",
   "metadata": {},
   "source": [
    "## Problem 5: Pythagorean Theorem\n",
    "\n",
    "The [Pythagorean theorem](https://en.wikipedia.org/wiki/Pythagorean_theorem) describes the relationship between side lengths of right triangles, where the square of the hypotenuse is equal to the sum of the squared lengths of the other two sides. More commonly, this formula is written as $a^2 + b^2 = c^2$, for triangle side lengths $a$, $b$, and hypotenuse $c$. Any three positive integers that satisfy this property is known as a [Pythagorean triple](https://en.wikipedia.org/wiki/Pythagorean_triple).\n",
    "\n",
    "Write a function called `right_triangle` that takes in a list of positive integers and returns a list of Pythagorean triples that exist within the given list of integers.\n",
    "\n",
    "Some examples of Pythagorean triples:\n",
    "- [3, 4, 5], since $3^2 + 4^2 = 5^2$\n",
    "- [5, 12, 13], since $5^2 + 12^2 = 13^2$\n",
    "- [6, 8, 10], since $6^2 + 8^2 = 10^2$\n",
    "\n",
    "> For example:\n",
    "```python\n",
    "right_triangle([1, 2, 3, 4, 5, 6, 7, 8, 9, 10, 11, 12, 13, 14])\n",
    "```\n",
    "> should return:\n",
    "```python\n",
    "[[3, 4, 5], [5, 12, 13], [6, 8, 10]]\n",
    "```"
   ]
  },
  {
   "cell_type": "markdown",
   "metadata": {},
   "source": [
    "### Rubric (4pts total):\n",
    "\n",
    "+1 : Correct structure of function (def, params, return instead of print)   \n",
    "+2 : Substantial progress towards correct answer (partial credit to grader's discretion)  \n",
    "+1 : Answer is correct"
   ]
  },
  {
   "cell_type": "code",
   "execution_count": 19,
   "metadata": {},
   "outputs": [],
   "source": [
    "# Method 1: using math library and nested for loop\n",
    "import math\n",
    "\n",
    "def right_triangle(side_lengths):\n",
    "    rt_list = []\n",
    "    square_lengths = [side**2 for side in side_lengths] # O(n)\n",
    "    squares = set(square_lengths) \n",
    "    \n",
    "    for i,a2 in enumerate(square_lengths): # O(n)\n",
    "        for j,b2 in enumerate(square_lengths[i:]): #O(n / 2) => O(n), since shrinking in size as outer loop runs\n",
    "            c2 = a2 + b2\n",
    "            if c2 in squares:                       # O(1) for set membership!\n",
    "                rt_list.append([side_lengths[i], \n",
    "                                side_lengths[i+j], \n",
    "                                math.isqrt(c2)])    # new in Python 3.8\n",
    "                                                    # could also use numpy: int(np.sqrt(c2))\n",
    "                                                    # if you don't have Python 3.8 yet!\n",
    "    return rt_list\n",
    "    # Total Time Complexity: O(n) + O(n) * O(n) => O(n + n^2) => O(n^2)"
   ]
  },
  {
   "cell_type": "code",
   "execution_count": 20,
   "metadata": {},
   "outputs": [
    {
     "data": {
      "text/plain": [
       "[[3, 4, 5]]"
      ]
     },
     "execution_count": 20,
     "metadata": {},
     "output_type": "execute_result"
    }
   ],
   "source": [
    "right_triangle([1, 2, 3, 4, 5, 6]) # [[3, 4, 5]]"
   ]
  },
  {
   "cell_type": "code",
   "execution_count": 21,
   "metadata": {},
   "outputs": [
    {
     "data": {
      "text/plain": [
       "[[3, 4, 5], [5, 12, 13], [6, 8, 10]]"
      ]
     },
     "execution_count": 21,
     "metadata": {},
     "output_type": "execute_result"
    }
   ],
   "source": [
    "right_triangle([1, 2, 3, 4, 5, 6, 7, 8, 9, 10, 11, 12, 13, 14]) # [[3, 4, 5], [5, 12, 13], [6, 8, 10]]"
   ]
  },
  {
   "cell_type": "markdown",
   "metadata": {},
   "source": [
    "## Bonus: Quotes\n",
    "\n",
    "Get up to 2 bonus points for writing a famous/movie quote in code (Python, SQL, Unix commands, etc.). Your code does not have to actually run but it should make sense.\n",
    "\n",
    "> Example 1 (credit: Riley Dallas):\n",
    "```python\n",
    "if not success:\n",
    "    for i in range(2):\n",
    "        tries += 1\n",
    "```\n",
    "> \"If at first you don't succeed, try try again.\"\n",
    "\n",
    "> Example 2 (credit: Noah Christiansen):\n",
    "```shell\n",
    "C:\\Users\\nobody> mv baby.txt corner\n",
    "```\n",
    "> \"Nobody puts Baby in a corner.\" (from the movie [*Dirty Dancing*](https://writingexplained.org/idiom-dictionary/nobody-puts-baby-in-the-corner))"
   ]
  },
  {
   "cell_type": "code",
   "execution_count": null,
   "metadata": {},
   "outputs": [],
   "source": []
  }
 ],
 "metadata": {
  "kernelspec": {
   "display_name": "Python 3",
   "language": "python",
   "name": "python3"
  },
  "language_info": {
   "codemirror_mode": {
    "name": "ipython",
    "version": 3
   },
   "file_extension": ".py",
   "mimetype": "text/x-python",
   "name": "python",
   "nbconvert_exporter": "python",
   "pygments_lexer": "ipython3",
   "version": "3.7.6"
  }
 },
 "nbformat": 4,
 "nbformat_minor": 4
}
