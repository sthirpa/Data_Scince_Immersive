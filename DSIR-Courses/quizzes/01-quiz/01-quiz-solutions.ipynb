{
 "cells": [
  {
   "cell_type": "markdown",
   "metadata": {},
   "source": [
    "<img src=\"http://imgur.com/1ZcRyrc.png\" style=\"float: left; margin: 20px; height: 55px\" />\n",
    "\n",
    "# Quiz 1 - Solutions\n",
    "\n",
    "This notebook contains 5 coding challenges. You are to clone this repository and fill in the quiz with your answers, taking special care to follow the directions _exactly_. In many questions, we ask that you name variables in a specific way. Make sure to do this, as we use it for grading.\n",
    "\n",
    "To **submit** your quiz, add the quiz folder to your Submissions repo and turn it in via [Google Classroom](https://classroom.google.com/).\n",
    "\n",
    "### Quiz Information:\n",
    "- This is an \"open book\" quiz - you may use any resources! This includes Jupyter notebooks, Google, StackOverflow, and your notes. ANY RESOURCE YOU USE MUST BE CITED (comment your code with links, which lesson you got the inspiration from, etc.) and failure to cite resources you use will be considered plagiarism. \n",
    "- You may NOT work with anyone else on this quiz (your classmates, your instructor, etc.).\n",
    "- You will have **60 minutes** to submit this quiz."
   ]
  },
  {
   "cell_type": "markdown",
   "metadata": {},
   "source": [
    "## Problem 1: Customer Demographics\n",
    "We provide a data structure consisting of a list of dictionaries. Each dictionary corresponds to a customer and contains some demographic information about them. While we provide you _one_ example of a list of customers, this company receives many such lists per day. Write a function that takes an object like this and **returns the average age of all the customers**. Call this function `average_age()`.\n",
    "\n",
    "Notes:\n",
    "* You may assume every customer will have an age listed (ie, no missing values)\n",
    "* There is no built-in average or mean function in Python. You may _not_ import any additional libraries."
   ]
  },
  {
   "cell_type": "markdown",
   "metadata": {},
   "source": [
    "### Rubric (4pts total):\n",
    "\n",
    "* +1 : Correct structure of function (def, params, return instead of print)\n",
    "* +2 : Substantial progress towards correct answer (partial credit to grader's discretion)\n",
    "* +1 : Answer is correct"
   ]
  },
  {
   "cell_type": "code",
   "execution_count": 1,
   "metadata": {},
   "outputs": [],
   "source": [
    "customers = [\n",
    "    {\"name\": \"Grace Hopper\", \"age\": 47, \"rank\": \"Rear Admiral\"},\n",
    "    {\"name\": \"Linus Torvalds\", \"age\": 50, \"nationality\": \"Finland\"},\n",
    "    {\"name\": \"Alan Turing\", \"age\": 35, \"nationality\": \"United Kingdom\"},\n",
    "    {\"name\": \"Tim Book\", \"age\": 29, \"organization\": \"General Assembly\"},\n",
    "    {\"name\": \"Katherine Johnson\", \"age\": 101, \"organization\": \"NASA\"},\n",
    "    {\"name\": \"Guido van Rossum\", \"age\": 64, \"rank\": \"BDFL\"},\n",
    "    {\"name\": \"Hadley Wickham\", \"age\": 40, \"nationality\": \"New Zealand\"}\n",
    "]"
   ]
  },
  {
   "cell_type": "code",
   "execution_count": 2,
   "metadata": {},
   "outputs": [],
   "source": [
    "def average_age(data):\n",
    "    ages = [customer[\"age\"] for customer in data]\n",
    "    return sum(ages) / len(ages)"
   ]
  },
  {
   "cell_type": "code",
   "execution_count": 3,
   "metadata": {},
   "outputs": [
    {
     "data": {
      "text/plain": [
       "52.285714285714285"
      ]
     },
     "execution_count": 3,
     "metadata": {},
     "output_type": "execute_result"
    }
   ],
   "source": [
    "average_age(customers)"
   ]
  },
  {
   "cell_type": "markdown",
   "metadata": {},
   "source": [
    "## Problem 2: Latin Squares\n",
    "A **latin square** is a square grid of values in which each value only appears once in each column and once in each row (think like a Sudoku).\n",
    "\n",
    "Write a function called `latin_square` that inputs a list and outputs a latin square of that list. Specifically, one in which each row is the one above it shifted by one item. **Your answer should be in the form of a list of lists, where each sub-list is a row of the square**. For example:\n",
    "\n",
    "`latin_square([1, 2, 3, 4]) -> [[1, 2, 3, 4], [4, 1, 2, 3], [3, 4, 1, 2], [2, 3, 4, 1]]`\n",
    "\n",
    "which corresponds to:\n",
    "\n",
    "```\n",
    "1234\n",
    "4123\n",
    "3412\n",
    "2341\n",
    "```"
   ]
  },
  {
   "cell_type": "markdown",
   "metadata": {},
   "source": [
    "### Rubric (4pts total)\n",
    "* +1 : Correct structure of function (def, params)\n",
    "* +1 : Correct structure instead of output (list of lists, return, _not_ a print)\n",
    "* +1 : Substantial progress towards correct answer\n",
    "* +1 : Answer is correct"
   ]
  },
  {
   "cell_type": "code",
   "execution_count": 11,
   "metadata": {},
   "outputs": [],
   "source": [
    "def latin_square(items):\n",
    "    output = []\n",
    "    item_len = len(items)\n",
    "    for i in range(item_len):\n",
    "        output.append(items)\n",
    "        items = items[-1:] + items[:-1]\n",
    "    return output"
   ]
  },
  {
   "cell_type": "code",
   "execution_count": 12,
   "metadata": {},
   "outputs": [
    {
     "data": {
      "text/plain": [
       "[[1, 2, 3, 4], [4, 1, 2, 3], [3, 4, 1, 2], [2, 3, 4, 1]]"
      ]
     },
     "execution_count": 12,
     "metadata": {},
     "output_type": "execute_result"
    }
   ],
   "source": [
    "latin_square([1, 2, 3, 4])"
   ]
  },
  {
   "cell_type": "markdown",
   "metadata": {},
   "source": [
    "## Problem 3: Probability\n",
    "\n",
    "Assume you are flipping an unfair, two-sided coin. Write a function called `one_heads` that takes in the probability of **heads** for this unfair coin as input and **returns the probability that you will get all 5 _tails_ in 5 flips.** To check your answer, we will tell you that if $P(H) = 0.4$, the result of this function should be about 7.8%. Your answer can be returned as a decimal (0.078) or as a probability (7.8%). Points will not be deducted for differences in rounding, as long as the rounding is correct."
   ]
  },
  {
   "cell_type": "markdown",
   "metadata": {},
   "source": [
    "### Rubric (4pts total):\n",
    "\n",
    "* +1 : Correct structure of function and return (def, params, return instead of print)\n",
    "* +2 : Substantial progress made towards correct answer (partial credit to grader's discretion)\n",
    "* -1 : The value 0.4 is hard coded in the function rather than using a parameter\n",
    "* +1 : Answer is correct"
   ]
  },
  {
   "cell_type": "code",
   "execution_count": 1,
   "metadata": {},
   "outputs": [],
   "source": [
    "def one_heads(prob_head):\n",
    "    prob_tails = 1 - prob_head\n",
    "    # prob(all tails) = tails * tails * tails * tails * tails\n",
    "    return prob_tails**5"
   ]
  },
  {
   "cell_type": "code",
   "execution_count": 2,
   "metadata": {},
   "outputs": [
    {
     "data": {
      "text/plain": [
       "0.07775999999999998"
      ]
     },
     "execution_count": 2,
     "metadata": {},
     "output_type": "execute_result"
    }
   ],
   "source": [
    "one_heads(.4)"
   ]
  },
  {
   "cell_type": "markdown",
   "metadata": {},
   "source": [
    "## Problem 4: Debugging\n",
    "\n",
    "The function `tax_amount` finds the sales tax percentage based on the state the customer lives in. This value is used in the next function, `total`, which should return the total price the customer will have to pay. There are **_three_** errors in the cell below. Two are syntax errors, the other is a semantic error. Find them. Fix them."
   ]
  },
  {
   "cell_type": "markdown",
   "metadata": {},
   "source": [
    "### Rubric (4pts total):\n",
    "\n",
    "* +1 : For changing the print statement to a return statement\n",
    "* +1 : For adding the colon back in\n",
    "* +1 : For turning the multiplication in the find return into addition\n",
    "* +1 : For returning correct final answer"
   ]
  },
  {
   "cell_type": "code",
   "execution_count": 3,
   "metadata": {},
   "outputs": [
    {
     "ename": "SyntaxError",
     "evalue": "invalid syntax (<ipython-input-3-a4c94d034588>, line 9)",
     "output_type": "error",
     "traceback": [
      "\u001b[0;36m  File \u001b[0;32m\"<ipython-input-3-a4c94d034588>\"\u001b[0;36m, line \u001b[0;32m9\u001b[0m\n\u001b[0;31m    def total(tax_pct, price_before_taxes)\u001b[0m\n\u001b[0m                                          ^\u001b[0m\n\u001b[0;31mSyntaxError\u001b[0m\u001b[0;31m:\u001b[0m invalid syntax\n"
     ]
    }
   ],
   "source": [
    "def tax_amount(state_abbrev):\n",
    "    taxes = {'CA': .065,\n",
    "             'CO': .029,\n",
    "             'NY': .04}\n",
    "    print(taxes[state_abbrev])\n",
    "\n",
    "tax = tax_amount('CO')\n",
    "\n",
    "def total(tax_pct, price_before_taxes)\n",
    "    tax_amt = tax_pct * price_before_taxes\n",
    "    return round(price_before_taxes * tax_amt, 2)\n",
    "\n",
    "total(tax, 39.99)"
   ]
  },
  {
   "cell_type": "code",
   "execution_count": 9,
   "metadata": {},
   "outputs": [
    {
     "data": {
      "text/plain": [
       "41.15"
      ]
     },
     "execution_count": 9,
     "metadata": {},
     "output_type": "execute_result"
    }
   ],
   "source": [
    "# fixed:\n",
    "def tax_amount(state_abbrev):\n",
    "    taxes = {'CA': .065,\n",
    "             'CO': .029,\n",
    "             'NY': .04}\n",
    "    return taxes[state_abbrev]\n",
    "\n",
    "tax = tax_amount('CO')\n",
    "\n",
    "def total(tax_pct, price_before_taxes):\n",
    "    tax_amt = tax_pct * price_before_taxes\n",
    "    return round(price_before_taxes + tax_amt, 2)\n",
    "\n",
    "total(tax, 39.99)"
   ]
  },
  {
   "cell_type": "markdown",
   "metadata": {},
   "source": [
    "## Problem 5: List Comprehension\n",
    "\n",
    "Given the following list of people:\n",
    "```python\n",
    "people = [\n",
    "    {'name': 'Xlegic', 'age': 37, 'role': 'student'},\n",
    "    {'name': 'John', 'age': 45, 'role': 'student'},\n",
    "    {'name': 'Jasmine', 'age': 20, 'role': 'student'},\n",
    "    {'name': 'Eva', 'age': 33, 'role': 'instructor'},\n",
    "]\n",
    "```\n",
    "Use list comprehension to return the names of students who are younger than 37."
   ]
  },
  {
   "cell_type": "markdown",
   "metadata": {},
   "source": [
    "### Rubric (4pts total):\n",
    "\n",
    "* +1 : If they used list comprehension instead of a `for` loop\n",
    "* +1 : For returning just the names\n",
    "* +1 : If Eva is excluded (students only)\n",
    "* +1 : If Xlegic is excluded (must be younger than 37)"
   ]
  },
  {
   "cell_type": "code",
   "execution_count": 2,
   "metadata": {},
   "outputs": [
    {
     "data": {
      "text/plain": [
       "['Jasmine']"
      ]
     },
     "execution_count": 2,
     "metadata": {},
     "output_type": "execute_result"
    }
   ],
   "source": [
    "people = [\n",
    "    {'name': 'Xlegic', 'age': 37, 'role': 'student'},\n",
    "    {'name': 'John', 'age': 45, 'role': 'student'},\n",
    "    {'name': 'Jasmine', 'age': 20, 'role': 'student'},\n",
    "    {'name': 'Eva', 'age': 33, 'role': 'instructor'},\n",
    "]\n",
    "[p['name'] for p in people if p['age'] < 37 and p['role'] == 'student']"
   ]
  }
 ],
 "metadata": {
  "kernelspec": {
   "display_name": "Python 3",
   "language": "python",
   "name": "python3"
  },
  "language_info": {
   "codemirror_mode": {
    "name": "ipython",
    "version": 3
   },
   "file_extension": ".py",
   "mimetype": "text/x-python",
   "name": "python",
   "nbconvert_exporter": "python",
   "pygments_lexer": "ipython3",
   "version": "3.7.7"
  }
 },
 "nbformat": 4,
 "nbformat_minor": 4
}
