{
 "cells": [
  {
   "cell_type": "markdown",
   "metadata": {},
   "source": [
    "<img src=\"http://imgur.com/1ZcRyrc.png\" style=\"float: left; margin: 20px; height: 55px\" />\n",
    "\n",
    "# Quiz 4 - Retake\n",
    "\n",
    "This notebook contains 5 coding challenges. You are to clone this repository and fill in the quiz with your answers, taking special care to follow the directions _exactly_. In many questions, we ask that you name variables in a specific way. Make sure to do this, as we use it for grading.\n",
    "\n",
    "To **submit** your quiz, drop your completed notebook in the file uploader in the provided Google Form.\n",
    "\n",
    "### Quiz Information:\n",
    "- This is a \"closed book\" quiz - you may **NOT** use any resources! This includes other code files, Google, StackOverflow, your notes, your classmates, your instructor, or anyone else. Use of any outside resources on this quiz will be considered plagiarism.\n",
    "- You will have 1 hour to take this quiz."
   ]
  },
  {
   "cell_type": "markdown",
   "metadata": {},
   "source": [
    "# Your Info:\n",
    "**Please fill out the following questions:**\n",
    "\n",
    "### 1. What is your name?"
   ]
  },
  {
   "cell_type": "markdown",
   "metadata": {},
   "source": []
  },
  {
   "cell_type": "markdown",
   "metadata": {},
   "source": [
    "### 2. What is your email? \n",
    "**Please make sure this is the same email you will use in the Google form to submit your work.**"
   ]
  },
  {
   "cell_type": "markdown",
   "metadata": {},
   "source": []
  },
  {
   "cell_type": "markdown",
   "metadata": {},
   "source": [
    "### 3. Which section are you in?"
   ]
  },
  {
   "cell_type": "markdown",
   "metadata": {},
   "source": []
  },
  {
   "cell_type": "markdown",
   "metadata": {},
   "source": [
    "## Problem 1: Prime Numbers\n",
    "\n",
    "A prime number is defined as a whole number greater than 1 that is only divisible by 1 and itself. The smallest prime number is 2.\n",
    "\n",
    "Write a function called `is_prime` that takes in a number $n$ and returns 'yes' if the number is prime and 'no' if the number is not a prime number.\n",
    "\n",
    "Make sure to think about the cases when $n$ is negative or $n = 1$ (1 is not a prime number).\n",
    "\n",
    "> For example:\n",
    "```python\n",
    "is_prime(17)\n",
    "```\n",
    "> should return:\n",
    "```python\n",
    "'yes'\n",
    "```"
   ]
  },
  {
   "cell_type": "markdown",
   "metadata": {},
   "source": [
    "**4pts total**  \n",
    "*Partial credit will be given if substantial progress to the right answer is made.*"
   ]
  },
  {
   "cell_type": "code",
   "execution_count": null,
   "metadata": {},
   "outputs": [],
   "source": [
    "# your answer here:\n",
    "\n"
   ]
  },
  {
   "cell_type": "code",
   "execution_count": null,
   "metadata": {},
   "outputs": [],
   "source": [
    "is_prime(17)"
   ]
  },
  {
   "cell_type": "code",
   "execution_count": null,
   "metadata": {},
   "outputs": [],
   "source": [
    "is_prime(2)"
   ]
  },
  {
   "cell_type": "code",
   "execution_count": null,
   "metadata": {},
   "outputs": [],
   "source": [
    "is_prime(1)"
   ]
  },
  {
   "cell_type": "markdown",
   "metadata": {},
   "source": [
    "## Problem 2: Exponents\n",
    "\n",
    "Write code to find the largest integer $n < 1000$ such that $2^n$ does not contain 0 as a digit."
   ]
  },
  {
   "cell_type": "markdown",
   "metadata": {},
   "source": [
    "**4pts total**  \n",
    "*Partial credit will be given if substantial progress to the right answer is made.*"
   ]
  },
  {
   "cell_type": "code",
   "execution_count": null,
   "metadata": {},
   "outputs": [],
   "source": [
    "# your answer here:\n",
    "\n"
   ]
  },
  {
   "cell_type": "markdown",
   "metadata": {},
   "source": [
    "## Problem 3: Gaps\n",
    "\n",
    "Given any list of sorted numbers and an integer $k$, write a function called `gap_k` that finds the $k^{th}$ largest gap between adjacent numbers in the list. \n",
    "\n",
    "> For example:\n",
    "```python\n",
    "gap_k([1, 2, 4, 8, 16, 19], k=2)\n",
    "```\n",
    "> should return:\n",
    "```python\n",
    "4\n",
    "```\n",
    "> Because, if you take the difference between each number in the list and its adjacent number you get the following results:  \n",
    "$2 - 1 = 1$     \n",
    "$4 - 2 = 2$    \n",
    "$8 - 4 = 4$    \n",
    "$16 - 8 = 8$    \n",
    "$19 - 16 = 3$    \n",
    "If you sort these results from largest to smallest, the $2^{nd}$ (since $k=2$) largest value is 4."
   ]
  },
  {
   "cell_type": "markdown",
   "metadata": {},
   "source": [
    "### 4pts total\n",
    "*Partial credit will be given if substantial progress to the right answer is made*"
   ]
  },
  {
   "cell_type": "code",
   "execution_count": null,
   "metadata": {},
   "outputs": [],
   "source": [
    "# your answer here:\n",
    "\n"
   ]
  },
  {
   "cell_type": "code",
   "execution_count": null,
   "metadata": {},
   "outputs": [],
   "source": [
    "gap_k([1, 2, 4, 8, 16, 19], k=2)"
   ]
  },
  {
   "cell_type": "code",
   "execution_count": null,
   "metadata": {},
   "outputs": [],
   "source": [
    "gap_k([10, 25, 26, 28, 40, 43], k=3)"
   ]
  },
  {
   "cell_type": "markdown",
   "metadata": {},
   "source": [
    "## Problem 4: Binary Cross-Entropy\n",
    "\n",
    "The loss function used for binary classification is Binary Cross-Entropy or Log-Loss. The formula to calculate this can be written as:\n",
    "\n",
    "$$\n",
    "-\\frac{1}{N}\\sum_{i=1}^{N}y_i\\cdot log(p(y_i)) + (1-y_i)\\cdot log(1-p(y_i))\n",
    "$$\n",
    "\n",
    "Where $y_i$ is the actual class label (positive ($y_i = 1$) or negative class ($y_i = 0$)) and $p(y_i)$ is the predicted probability.\n",
    "\n",
    "Write a function called `bce` that takes in an array of predicted probabilities and their actual class and returns the binary cross-entropy loss. You may **not** use `sklearn` or any other Python library that already has created this loss function. The only additional Python library you may use is `numpy`.\n",
    "\n",
    "As an example, we will use this simple data of 3 observations:  \n",
    "\n",
    "| Predicted Probability | Actual Class |\n",
    "| --- | --- |\n",
    "| 0.5 | 0 |\n",
    "| 0.6 | 1 |\n",
    "| 0.7 | 1 |\n",
    "\n",
    "> For example:  \n",
    "```python\n",
    "data = np.array([[0.5, 0],\n",
    "                 [0.6, 1],\n",
    "                 [0.7, 1]])\n",
    "bce(data)\n",
    "```\n",
    "> should return:\n",
    "```python\n",
    "0.5202159160882228\n",
    "```\n",
    "> (differences in rounding may occur)"
   ]
  },
  {
   "cell_type": "markdown",
   "metadata": {},
   "source": [
    "**4pts total**  \n",
    "*Partial credit will be given if substantial progress to the right answer is made.*"
   ]
  },
  {
   "cell_type": "code",
   "execution_count": null,
   "metadata": {},
   "outputs": [],
   "source": [
    "import numpy as np\n",
    "\n",
    "data = np.array([[0.5, 0],\n",
    "                 [0.6, 1],\n",
    "                 [0.7, 1]])"
   ]
  },
  {
   "cell_type": "code",
   "execution_count": null,
   "metadata": {},
   "outputs": [],
   "source": [
    "# your answer here:\n",
    "\n"
   ]
  },
  {
   "cell_type": "code",
   "execution_count": null,
   "metadata": {},
   "outputs": [],
   "source": [
    "bce(data)"
   ]
  },
  {
   "cell_type": "markdown",
   "metadata": {},
   "source": [
    "## Problem 5: Palindrome Numbers\n",
    "\n",
    "Palindromes are words, numbers, or phrases that can be read the same forwards as backwards. For example, 'taco cat', '12321' and 'Hannah' are examples of Palindromes since they are the same forwards as backwards.\n",
    "\n",
    "Write a function called `palindrome_num` that takes in a positive integer and returns `True` if that number is a Palindrome and `False` if it is not. \n",
    "\n",
    "**IMPORTANT:** You are **not** allowed to convert the integer to a string or a list to solve this problem.\n",
    "\n",
    "> For example:\n",
    "```python\n",
    "palindrome_num(34543)\n",
    "```\n",
    "> should return:\n",
    "```python\n",
    "True\n",
    "```"
   ]
  },
  {
   "cell_type": "markdown",
   "metadata": {},
   "source": [
    "**4pts total**  \n",
    "*Partial credit will be given if substantial progress to the right answer is made.*"
   ]
  },
  {
   "cell_type": "code",
   "execution_count": null,
   "metadata": {},
   "outputs": [],
   "source": [
    "# your answer here:\n",
    "\n"
   ]
  },
  {
   "cell_type": "code",
   "execution_count": null,
   "metadata": {},
   "outputs": [],
   "source": [
    "palindrome_num(34543)"
   ]
  },
  {
   "cell_type": "code",
   "execution_count": null,
   "metadata": {},
   "outputs": [],
   "source": [
    "palindrome_num(123)"
   ]
  },
  {
   "cell_type": "markdown",
   "metadata": {},
   "source": [
    "## Bonus: Quotes\n",
    "\n",
    "Get up to 2 bonus points for writing a famous/movie quote in code (Python, SQL, Unix commands, etc.). Your code does not have to actually run but it should make sense.\n",
    "\n",
    "> Example 1 (credit: Riley Dallas):\n",
    "```python\n",
    "if not success:\n",
    "    for i in range(2):\n",
    "        tries += 1\n",
    "```\n",
    "> \"If at first you don't succeed, try try again.\"\n",
    "\n",
    "> Example 2 (credit: Noah Christiansen):\n",
    "```shell\n",
    "C:\\Users\\nobody> mv baby.txt corner\n",
    "```\n",
    "> \"Nobody puts Baby in a corner.\" (from the movie [*Dirty Dancing*](https://writingexplained.org/idiom-dictionary/nobody-puts-baby-in-the-corner))"
   ]
  },
  {
   "cell_type": "code",
   "execution_count": null,
   "metadata": {},
   "outputs": [],
   "source": []
  }
 ],
 "metadata": {
  "kernelspec": {
   "display_name": "Python 3",
   "language": "python",
   "name": "python3"
  },
  "language_info": {
   "codemirror_mode": {
    "name": "ipython",
    "version": 3
   },
   "file_extension": ".py",
   "mimetype": "text/x-python",
   "name": "python",
   "nbconvert_exporter": "python",
   "pygments_lexer": "ipython3",
   "version": "3.7.6"
  }
 },
 "nbformat": 4,
 "nbformat_minor": 4
}
