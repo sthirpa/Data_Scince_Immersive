{
 "cells": [
  {
   "cell_type": "markdown",
   "id": "posted-research",
   "metadata": {},
   "source": [
    "# Warm-up: NLP and pipelines\n",
    "\n",
    "Below is code to import the Jane Austen & Edgar Allan Poe dataset.\n",
    "\n",
    "As a warm-up, try evaluating the performance of a random forest classifier and an extra trees classifier on this dataset. You'll need to import all the libraries you need, and definitely train-test split!\n",
    "\n",
    "You're not required to turn anything in, and you're not required to gridsearch for optimal hyperparameters - but, if you're able to finish quickly, try gridsearching!"
   ]
  },
  {
   "cell_type": "code",
   "execution_count": 2,
   "id": "ambient-ensemble",
   "metadata": {},
   "outputs": [],
   "source": [
    "import pandas as pd\n",
    "\n",
    "df = pd.read_csv('/Users/dsi/datasets/austen_poe.csv').dropna()\n",
    "df.head(3)"
   ]
  },
  {
   "cell_type": "code",
   "execution_count": null,
   "id": "municipal-bhutan",
   "metadata": {},
   "outputs": [],
   "source": []
  }
 ],
 "metadata": {
  "kernelspec": {
   "display_name": "Python 3",
   "language": "python",
   "name": "python3"
  },
  "language_info": {
   "codemirror_mode": {
    "name": "ipython",
    "version": 3
   },
   "file_extension": ".py",
   "mimetype": "text/x-python",
   "name": "python",
   "nbconvert_exporter": "python",
   "pygments_lexer": "ipython3",
   "version": "3.8.3"
  }
 },
 "nbformat": 4,
 "nbformat_minor": 5
}
