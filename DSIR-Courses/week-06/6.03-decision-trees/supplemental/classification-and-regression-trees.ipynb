{
 "cells": [
  {
   "cell_type": "markdown",
   "metadata": {
    "slideshow": {
     "slide_type": "notes"
    }
   },
   "source": [
    "> **Jupyter slideshow:** This notebook can be displayed as slides. To view it as a slideshow in your browser type in the console:\n",
    "\n",
    "\n",
    "> `> ipython nbconvert [this_notebook.ipynb] --to slides --post serve`\n",
    "\n",
    "\n",
    "> To toggle off the slideshow cell formatting, click the `CellToolbar` button, then `View --> Cell Toolbar --> None`"
   ]
  },
  {
   "cell_type": "markdown",
   "metadata": {
    "slideshow": {
     "slide_type": "slide"
    }
   },
   "source": [
    "<img src=\"http://imgur.com/1ZcRyrc.png\" style=\"float: left; margin: 20px; height: 55px\">\n",
    "\n",
    "# Classification and regression trees (CARTs)\n",
    "\n",
    "_Authors: Kiefer Katovich (SF), Matt Brems (DC)_\n",
    "\n",
    "---\n",
    "\n",
    "### Learning Objectives\n",
    "- Gain intuition for what decision trees do through example.\n",
    "- Learn the properties of decision tree models.\n",
    "- Learn how decision trees are fit via pseudocode.\n",
    "- Understand the concept of purity.\n",
    "- Learn the equations for entropy, gini impurity, and how they relate to the misclassification error.\n",
    "- See how decision trees fit on examples where regressions fail.\n",
    "- Learn how to visualize the nodes of a decision tree with python.\n",
    "- Learn some basic strategies to prevent overfitting when using decision trees.\n",
    "- Understand the advantages and disadvantages of using CARTs."
   ]
  },
  {
   "cell_type": "markdown",
   "metadata": {
    "slideshow": {
     "slide_type": "slide"
    }
   },
   "source": [
    "### Lesson Guide\n",
    "- [20 Questions](#20q)\n",
    "- [Introduction to CARTs](#intro)\n",
    "- [Properties of decision trees](#properties)\n",
    "- [Example: should I play golf?](#example)\n",
    "- [Directed Acyclic Graphs (DAG)](#dag)\n",
    "- [Building a decision tree](#building)\n",
    "    - [Pseudocode of decision tree algorithm](#pseudo)\n",
    "    - [Multi-way splits](#multi)\n",
    "    - [Continuous measure decisions](#continuous)\n",
    "- [Optimization and purity](#purity)\n",
    "    - [Purity objective function](#obj)\n",
    "    - [Common purity functions](#ent-gini)\n",
    "    - [Impurity and gain](#impurity-gain)\n",
    "- [Examples of where regression fails](#reg-fail)\n",
    "- [Explore decision tree fits interactively](#explore-tree)\n",
    "- [Graph the branches of a decision tree using python](#visualize-tree)\n",
    "- [Addressing overfitting](#overfit)\n",
    "- [CART advantages](#advantages)\n",
    "- [CART disadvantages](#disadvantages)"
   ]
  },
  {
   "cell_type": "markdown",
   "metadata": {
    "slideshow": {
     "slide_type": "slide"
    }
   },
   "source": [
    "<a id='20q'></a>\n",
    "\n",
    "## Hierarchical decisions: 20 Questions\n",
    "\n",
    "---\n",
    "\n",
    "In the game \"20 Questions,\" an individual or group has the opportunity to identify an unknown object by asking a series of up to twenty \"yes\" or \"no\" questions.\n",
    "\n",
    "For example, suppose that I am trying to guess the item \"marker.\" I might ask a series of questions like:\n",
    "- Is the object in this room? (Yes.)\n",
    "- Is the object within five feet of me? (Yes.)\n",
    "- Is the object larger than a loaf of bread? (No.)\n",
    "- Is there only one of these objects in the room? (No.)\n",
    "- Do you hold this object when you use it? (Yes.)\n",
    "- Is the object a pen? (No.)\n",
    "- Is the object a book? (No.)\n",
    "- Is the object a marker? (Yes!)\n",
    "\n",
    "We can think about all possible \"target objects\" and then ask questions that help us to quickly pare down the number of objects so that we can identify the true target in twenty of fewer questions.\n",
    "\n",
    "**When playing this game, what are some good strategies? What about poor strategies?**"
   ]
  },
  {
   "cell_type": "markdown",
   "metadata": {
    "slideshow": {
     "slide_type": "slide"
    }
   },
   "source": [
    "<a id='intro'></a>\n",
    "\n",
    "## Introduction to CARTs\n",
    "\n",
    "---\n",
    "\n",
    "Decision trees are a widely popular and powerful machine learning technique for both classification and regression problems.\n",
    "\n",
    "To perform classification or regression, decision trees make sequential, hierarchical decisions about the outcome variable based on the predictor data.\n",
    "\n",
    "---\n",
    "\n",
    "[Classification CART documentation](http://scikit-learn.org/stable/modules/generated/sklearn.tree.DecisionTreeClassifier.html#sklearn.tree.DecisionTreeClassifier)\n",
    "\n",
    "[Regression CART documentation](http://scikit-learn.org/stable/modules/generated/sklearn.tree.DecisionTreeRegressor.html#sklearn.tree.DecisionTreeRegressor)\n",
    "\n",
    "[Decision tree user guide](http://scikit-learn.org/stable/modules/tree.html)\n",
    "\n"
   ]
  },
  {
   "cell_type": "code",
   "execution_count": 1,
   "metadata": {
    "slideshow": {
     "slide_type": "slide"
    }
   },
   "outputs": [],
   "source": [
    "from sklearn.tree import DecisionTreeClassifier, DecisionTreeRegressor\n",
    "import sklearn.datasets as datasets\n",
    "\n",
    "b = datasets.load_boston()\n",
    "X, Y = b['data'], b['target']\n",
    "\n",
    "# criterion: splitting decision function (discussed later), can be 'gini' or 'entropy'\n",
    "# max_depth: the maximum number of hierarchical decision nodes (how \"deep\" the tree is built)\n",
    "#\n",
    "classifier = DecisionTreeClassifier(criterion='gini',\n",
    "                                    max_depth=None)\n",
    "\n",
    "regressor = DecisionTreeRegressor(criterion='mse',\n",
    "                                  max_depth=5)\n",
    "\n",
    "regressor.fit(X, Y)\n",
    "\n",
    "Y_pred = regressor.predict(X)\n",
    "\n",
    "# decision trees can give us feature importances. the higher the number the more important\n",
    "# the predictor was to deciding splits at nodes.\n",
    "# \"The importance of a feature is computed as the (normalized) total reduction of the \n",
    "# criterion brought by that feature.\"\n",
    "#\n",
    "feature_importances = regressor.feature_importances_"
   ]
  },
  {
   "cell_type": "markdown",
   "metadata": {
    "slideshow": {
     "slide_type": "slide"
    }
   },
   "source": [
    "<a id='properties'></a>\n",
    "## Properties of decision trees\n",
    "\n",
    "---\n",
    "\n",
    "Decision tree models are **hierarchical** and **non-parametric**.\n",
    "\n",
    "**Hierarchical** means that the model is definied by a sequence of questions which yield a class label or value when applied to any observation. Once trained, the model behaves like a recipe, a series of \"if this then that\" conditions that yields a specific result for our input data.\n",
    "\n",
    "[**Non-parametric** methods](http://www.statisticshowto.com/parametric-and-non-parametric-data/) stand in contrast to models like logistic regression or ordinary least squares regression. There are no underlying assumptions about the distribution of the data or the errors. Non-parametric models essentially start with no _assumed_ parameters about the data and construct them based on the observed data."
   ]
  },
  {
   "cell_type": "markdown",
   "metadata": {
    "slideshow": {
     "slide_type": "slide"
    }
   },
   "source": [
    "<a id='example'></a>\n",
    "## Example decision tree: should I play golf?\n",
    "\n",
    "---\n",
    "\n",
    "![deciding to play golf](./images/golf-tree.png)"
   ]
  },
  {
   "cell_type": "markdown",
   "metadata": {
    "slideshow": {
     "slide_type": "slide"
    }
   },
   "source": [
    "<a id='dag'></a>\n",
    "## Directed Acyclic Graphs (DAG)\n",
    "\n",
    "---\n",
    "\n",
    "CART models are in fact a special case of [Directed Acyclic Graphs (DAG).](http://www.statisticshowto.com/directed-acyclic-graph/) \n",
    "\n",
    "DAGs have **nodes** and **edges**. In the golf example above, the nodes represent the decision points about the output variable given the predictors, and the edges are the \"paths\" between nodes that represent answers to the questions.\n",
    "\n",
    "The **acyclic** part of DAGs means that the edges do not cycle back on themselves.\n",
    "\n",
    "- The top node is called the **root node**. It has 0 incoming edges, and 2+ outgoing edges. \n",
    "- Internal nodes test a condition on a specific feature. They have 1 incoming edge, and 2+ outgoing edges. \n",
    "- A **leaf node** contains a class label (or regression value). It has 1 incoming edge and 0 outgoing edges."
   ]
  },
  {
   "cell_type": "markdown",
   "metadata": {
    "slideshow": {
     "slide_type": "slide"
    }
   },
   "source": [
    "### General DAG example\n",
    "\n",
    "---\n",
    "\n",
    "![DAG example](https://upload.wikimedia.org/wikipedia/commons/0/08/Directed_acyclic_graph.png)"
   ]
  },
  {
   "cell_type": "markdown",
   "metadata": {
    "slideshow": {
     "slide_type": "slide"
    }
   },
   "source": [
    "<a id='building'></a>\n",
    "## Building a decision tree\n",
    "\n",
    "---\n",
    "\n",
    "Building decision trees requires algorithms capable of determining an optimal choice at each node. \n",
    "\n",
    "One such algorithm is [**Hunt's algorithm**](http://mines.humanoriented.com/classes/2010/fall/csci568/portfolio_exports/lguo/decisionTree.html). This is a greedy, recursive algorithm that leads to a local optimum:\n",
    "\n",
    "- [**Greedy:**](https://en.wikipedia.org/wiki/Greedy_algorithm) the algorithm makes the most optimal decision it can at each step.\n",
    "- [**Recursive:**](https://en.wikipedia.org/wiki/Recursion) the algorithm splits task into subtasks and solves each the same way.\n",
    "- [**Local optimum:**](https://en.wikipedia.org/wiki/Local_optimum) the algorithm finds a solution just for the given neighborhood of points.\n",
    "\n",
    "The algorithm works by recursively partitioning records into smaller and smaller subsets. The partitioning decision is made at each node according to a metric called **purity.** A node is said to be 100% pure when all of its records belong to a single class (or have the same value)."
   ]
  },
  {
   "cell_type": "markdown",
   "metadata": {
    "slideshow": {
     "slide_type": "slide"
    }
   },
   "source": [
    "<a id='pseudo'></a>\n",
    "### Pseudocode classification decision tree algorithm\n",
    "\n",
    "---\n",
    "\n",
    "    Given a set of records Dt at node t:\n",
    "        If all records in Dt belong to class A: \n",
    "            t is a leaf node corresponding to class (Base case)\n",
    "        Else if Dt contains records from both A and B:\n",
    "            Create test condition to partition the observations\n",
    "            Define t as an internal node, with outgoing edges to child nodes\n",
    "            partition records in Dt with conditional test logic to child nodes\n",
    "            Recursively apply steps at each child node.\n",
    "\n",
    "- Splits can be binary way or multi-way. \n",
    "- Features can be categorical or continuous."
   ]
  },
  {
   "cell_type": "markdown",
   "metadata": {
    "slideshow": {
     "slide_type": "slide"
    }
   },
   "source": [
    "<a id='multi'></a>\n",
    "### Multi-way splits\n",
    "\n",
    "---\n",
    "\n",
    "![multi-way](./images/multi-way.png)"
   ]
  },
  {
   "cell_type": "markdown",
   "metadata": {
    "slideshow": {
     "slide_type": "slide"
    }
   },
   "source": [
    "<a id='continuous'></a>\n",
    "### Continuous measure decisions (regression trees)\n",
    "\n",
    "---\n",
    "\n",
    "![continuous trees](./images/Continuous-features.png)"
   ]
  },
  {
   "cell_type": "markdown",
   "metadata": {
    "slideshow": {
     "slide_type": "slide"
    }
   },
   "source": [
    "<a id='purity'></a>\n",
    "## Optimization and \"purity\"\n",
    "\n",
    "---\n",
    "\n",
    "Recall from the algorithm above we iteratively create test conditions to split the data. \n",
    "\n",
    "In a binary classification task, a maximum impurity partition is given by the distribution (classification):\n",
    "\n",
    "### $$ p(0|t) = p(1|t) = 0.5 $$\n",
    "\n",
    "where both classes are equally present in the partition distribution $t$.\n",
    "\n",
    "Maximum purity, on the other hand, is when only one class is present, i.e: \n",
    "\n",
    "### $$ p(0|t) = 1 – p(1|t) = 1 $$"
   ]
  },
  {
   "cell_type": "markdown",
   "metadata": {
    "slideshow": {
     "slide_type": "slide"
    }
   },
   "source": [
    "<a id='obj'></a>\n",
    "### Purity objective function\n",
    "\n",
    "To achieve maximum purity we need an **objective function** to optimize. \n",
    "\n",
    "We want our objective function to measure the **gain in purity** from a particular split. Therefore it depends on the class distribution over the nodes (before and after the split). \n",
    "\n",
    "For example, let \n",
    "\n",
    "### $$p(i|t)$$ \n",
    "\n",
    "be the probability of **`class i`** in the data at **`node t`** (e.g., the fraction of records labeled **`i`** at node **`t`**) \n",
    "\n",
    "We then define an impurity function that will smoothly vary between the two extreme cases of minimum impurity (one class or the other only) and the maximum impurity case cas as an equal mix."
   ]
  },
  {
   "cell_type": "markdown",
   "metadata": {
    "slideshow": {
     "slide_type": "slide"
    }
   },
   "source": [
    "<a id='ent-gini'></a>\n",
    "## Common purity functions (classification)\n",
    "\n",
    "---\n",
    "\n",
    "### $$ \\text{Entropy} = - \\sum_{i=1}^{classes} p(i\\;|\\;t) \\;log_2 \\; p(i\\;|\\;t) $$\n",
    "\n",
    "### $$ \\text{Gini} = \\sum_{i=1}^{classes} p(i\\;|\\;t)(1 -p(i\\;|\\;t)) = 1 - \\sum_{i=1}^{classes} p(i\\;|\\;t)^2 $$\n",
    "\n",
    "The Gini inpurity is primarily used in the CART algorithm, but both Gini and Entropy are available in sklearn's classification and decision tree models."
   ]
  },
  {
   "cell_type": "markdown",
   "metadata": {
    "slideshow": {
     "slide_type": "slide"
    }
   },
   "source": [
    "<a id='impurity-gain'></a>\n",
    "![purity functions](./images/measures.png)\n",
    "\n",
    "---\n",
    "\n",
    "Impurity measures on their own they are not enough to tell us how a split will do. We need to look at impurity **before & after** the split. We can make this comparison using what is called the **gain**: \n",
    "\n",
    "## $$ \\Delta = I(\\text{parent}) - \\sum_{\\text{children}}\\frac{N_j}{N}I(\\text{child}_j) $$\n",
    "\n",
    "Where $I$ is the impurity measure, $N_j$ denotes the number of records at child node $j$, and $N$ denotes the number of records at the parent node. When $I$ is the [**entropy function**](https://en.wikipedia.org/wiki/Binary_entropy_function), this quantity is called the [**information gain**](https://en.wikipedia.org/wiki/Information_gain_in_decision_trees).\n",
    "\n",
    "**[Nice example of how misclassification error can break branching.](http://sebastianraschka.com/faq/docs/decisiontree-error-vs-entropy.html)**"
   ]
  },
  {
   "cell_type": "markdown",
   "metadata": {
    "slideshow": {
     "slide_type": "slide"
    }
   },
   "source": [
    "**Library Note**\n",
    "\n",
    "In order to run the below on your machine you may have to install or update a few new packages.\n",
    "\n",
    "**Pydotplus**\n",
    "```\n",
    "pip install pydotplus\n",
    "```\n",
    "\n",
    "_and its dependency_\n",
    "\n",
    "**Graphviz**\n",
    "```\n",
    "brew install graphviz\n",
    "```"
   ]
  },
  {
   "cell_type": "code",
   "execution_count": 2,
   "metadata": {
    "slideshow": {
     "slide_type": "slide"
    }
   },
   "outputs": [],
   "source": [
    "import numpy as np\n",
    "import scipy.stats as stats\n",
    "from sklearn.tree import DecisionTreeRegressor\n",
    "\n",
    "from ipywidgets import *\n",
    "from IPython.display import display\n",
    "\n",
    "import seaborn as sns\n",
    "import matplotlib.pyplot as plt\n",
    "\n",
    "plt.rc(\"figure\", figsize=(9, 7))\n",
    "sns.set_style('whitegrid')\n",
    "\n",
    "%matplotlib inline"
   ]
  },
  {
   "cell_type": "code",
   "execution_count": 3,
   "metadata": {
    "slideshow": {
     "slide_type": "slide"
    }
   },
   "outputs": [],
   "source": [
    "# We will make some data for these functions of 100 points of x from 0.1 to 10:\n",
    "# \n",
    "# 1. The general log function for x\n",
    "# 2. The sin function\n",
    "# 3. The exponential function\n",
    "# 4. The x**2 function\n",
    "#\n",
    "def make_data(points=100):\n",
    "    x = np.linspace(0.1, 10, points)\n",
    "    \n",
    "    data = {\n",
    "        'x':x,\n",
    "        'ygenlog':stats.genlogistic.pdf(x, 20)*500 + np.random.normal(0, 2, size=points),\n",
    "        'ysin':np.sin(x)*20 + np.random.normal(0, 2, size=points),\n",
    "        'yexp':np.exp(x/1.3) + np.random.normal(0, 2, size=points),\n",
    "        'ysq':(x-5)**2 + np.random.normal(0, 1, size=points)\n",
    "    }\n",
    "\n",
    "    return data\n",
    "\n",
    "# The data is put into a dictionary for convenience:\n",
    "d = make_data()\n",
    "x = d['x']"
   ]
  },
  {
   "cell_type": "code",
   "execution_count": 4,
   "metadata": {
    "slideshow": {
     "slide_type": "slide"
    }
   },
   "outputs": [
    {
     "data": {
      "text/plain": [
       "<AxesSubplot:>"
      ]
     },
     "execution_count": 4,
     "metadata": {},
     "output_type": "execute_result"
    },
    {
     "data": {
      "image/png": "[encoded data removed]",
      "text/plain": [
       "<Figure size 648x504 with 1 Axes>"
      ]
     },
     "metadata": {
      "needs_background": "light"
     },
     "output_type": "display_data"
    }
   ],
   "source": [
    "fig = plt.figure(figsize=(9, 7))\n",
    "sns.regplot(x=x, y=d['ygenlog'], scatter_kws={'s':70})"
   ]
  },
  {
   "cell_type": "code",
   "execution_count": 5,
   "metadata": {
    "slideshow": {
     "slide_type": "slide"
    }
   },
   "outputs": [
    {
     "data": {
      "text/plain": [
       "<AxesSubplot:>"
      ]
     },
     "execution_count": 5,
     "metadata": {},
     "output_type": "execute_result"
    },
    {
     "data": {
      "image/png": "[encoded data removed]",
      "text/plain": [
       "<Figure size 648x504 with 1 Axes>"
      ]
     },
     "metadata": {
      "needs_background": "light"
     },
     "output_type": "display_data"
    }
   ],
   "source": [
    "fig = plt.figure(figsize=(9, 7))\n",
    "sns.regplot(x=x, y=d['ysin'], scatter_kws={'s':70})"
   ]
  },
  {
   "cell_type": "code",
   "execution_count": 6,
   "metadata": {
    "slideshow": {
     "slide_type": "slide"
    }
   },
   "outputs": [
    {
     "data": {
      "text/plain": [
       "<AxesSubplot:>"
      ]
     },
     "execution_count": 6,
     "metadata": {},
     "output_type": "execute_result"
    },
    {
     "data": {
      "image/png": "[encoded data removed]",
      "text/plain": [
       "<Figure size 648x504 with 1 Axes>"
      ]
     },
     "metadata": {
      "needs_background": "light"
     },
     "output_type": "display_data"
    }
   ],
   "source": [
    "fig = plt.figure(figsize=(9, 7))\n",
    "sns.regplot(x=x, y=d['yexp'], scatter_kws={'s':70})"
   ]
  },
  {
   "cell_type": "code",
   "execution_count": 7,
   "metadata": {
    "slideshow": {
     "slide_type": "slide"
    }
   },
   "outputs": [
    {
     "data": {
      "text/plain": [
       "<AxesSubplot:>"
      ]
     },
     "execution_count": 7,
     "metadata": {},
     "output_type": "execute_result"
    },
    {
     "data": {
      "image/png": "[encoded data removed]",
      "text/plain": [
       "<Figure size 648x504 with 1 Axes>"
      ]
     },
     "metadata": {
      "needs_background": "light"
     },
     "output_type": "display_data"
    }
   ],
   "source": [
    "fig = plt.figure(figsize=(9, 7))\n",
    "sns.regplot(x=x, y=d['ysq'], scatter_kws={'s':70})"
   ]
  },
  {
   "cell_type": "code",
   "execution_count": 8,
   "metadata": {
    "slideshow": {
     "slide_type": "skip"
    }
   },
   "outputs": [],
   "source": [
    "# This function builds trees for an x and y predictor and dependent variable from depth 1 to 10.\n",
    "# (Regression trees)\n",
    "# Tree predictions are put into a dictionary:\n",
    "# \n",
    "def build_tree_models(x, y, tree_depth_range=range(1,11)):\n",
    "    tree_model_ypreds = {}\n",
    "    \n",
    "    for i in tree_depth_range:\n",
    "        model = DecisionTreeRegressor(max_depth=i)\n",
    "        model.fit(x[:, np.newaxis], y)\n",
    "        tree_model_ypreds[i] = model.predict(x[:, np.newaxis])\n",
    "        \n",
    "    return tree_model_ypreds\n",
    "\n",
    "# A function to iterate through our data dictionary of different functions and build the tree models:\n",
    "#\n",
    "def fit_trees(data_dict):\n",
    "    trees_dict = {}\n",
    "    x = data_dict['x']\n",
    "    for label, ys in data_dict.items():\n",
    "        if not label == 'x':\n",
    "            tree_ys = build_tree_models(x, ys)\n",
    "            trees_dict[label] = tree_ys\n",
    "    \n",
    "    return trees_dict\n",
    "\n",
    "tr = fit_trees(d)\n",
    "    "
   ]
  },
  {
   "cell_type": "code",
   "execution_count": 9,
   "metadata": {
    "slideshow": {
     "slide_type": "skip"
    }
   },
   "outputs": [],
   "source": [
    "# This function plots the x and y data as well as the decision tree decisions for the predicted y:\n",
    "#\n",
    "def tree_plotter(d, tr, label, treenum):\n",
    "    fig = plt.figure(figsize=(9, 7))\n",
    "        \n",
    "    x = d['x']\n",
    "    y_true = d[label]\n",
    "    y_pred = tr[label][treenum]\n",
    "    \n",
    "    ax = sns.regplot(x=x, y=y_true, scatter_kws={'s':70}, fit_reg=False, x_ci=None, ci=None)\n",
    "    \n",
    "    ax.plot(x, y_pred, c=\"#D7B734\", linewidth=5)\n",
    "    \n",
    "    ax.set_title('Tree depth: '+str(treenum)+'\\n', fontsize=20)\n",
    "    \n",
    "    plt.show()\n",
    "    \n",
    "\n",
    "# Widget inputs code:\n",
    "#\n",
    "def tree_plot_vars(function='ysq', treenum=1):\n",
    "    tree_plotter(d, tr, function, treenum)\n",
    "    "
   ]
  },
  {
   "cell_type": "code",
   "execution_count": 10,
   "metadata": {},
   "outputs": [
    {
     "data": {
      "application/vnd.jupyter.widget-view+json": {
       "model_id": "a664b076cfe441988a1bfe5ac84644fa",
       "version_major": 2,
       "version_minor": 0
      },
      "text/plain": [
       "interactive(children=(Dropdown(description='function', options=('ysq', 'yexp', 'ysin', 'ygenlog'), value='ysq'…"
      ]
     },
     "metadata": {},
     "output_type": "display_data"
    },
    {
     "data": {
      "text/plain": [
       "<function __main__.tree_plot_vars(function='ysq', treenum=1)>"
      ]
     },
     "execution_count": 10,
     "metadata": {},
     "output_type": "execute_result"
    }
   ],
   "source": [
    "widgets.interact(tree_plot_vars,\n",
    "                 function=['ysq','yexp','ysin','ygenlog'],\n",
    "                 treenum=widgets.IntSlider(min=1, max=10, step=1, value=1))"
   ]
  },
  {
   "cell_type": "code",
   "execution_count": 11,
   "metadata": {
    "slideshow": {
     "slide_type": "slide"
    }
   },
   "outputs": [
    {
     "data": {
      "text/plain": [
       "DecisionTreeRegressor(max_depth=5)"
      ]
     },
     "execution_count": 11,
     "metadata": {},
     "output_type": "execute_result"
    }
   ],
   "source": [
    "# Make a single regression tree model with depth 3 for x**2 function:\n",
    "# \n",
    "x = d['x']\n",
    "y = d['ysq']\n",
    "\n",
    "dtree = DecisionTreeRegressor(max_depth=5)\n",
    "dtree.fit(x[:, np.newaxis], y)\n"
   ]
  },
  {
   "cell_type": "code",
   "execution_count": 12,
   "metadata": {
    "slideshow": {
     "slide_type": "slide"
    }
   },
   "outputs": [
    {
     "ename": "ModuleNotFoundError",
     "evalue": "No module named 'sklearn.externals.six'",
     "output_type": "error",
     "traceback": [
      "\u001b[0;31m---------------------------------------------------------------------------\u001b[0m",
      "\u001b[0;31mModuleNotFoundError\u001b[0m                       Traceback (most recent call last)",
      "\u001b[0;32m<ipython-input-12-515eefc3b559>\u001b[0m in \u001b[0;36m<module>\u001b[0;34m\u001b[0m\n\u001b[1;32m      4\u001b[0m \u001b[0;34m\u001b[0m\u001b[0m\n\u001b[1;32m      5\u001b[0m \u001b[0;31m# Use graphviz to make a chart of the regression tree decision points:\u001b[0m\u001b[0;34m\u001b[0m\u001b[0;34m\u001b[0m\u001b[0;34m\u001b[0m\u001b[0m\n\u001b[0;32m----> 6\u001b[0;31m \u001b[0;32mfrom\u001b[0m \u001b[0msklearn\u001b[0m\u001b[0;34m.\u001b[0m\u001b[0mexternals\u001b[0m\u001b[0;34m.\u001b[0m\u001b[0msix\u001b[0m \u001b[0;32mimport\u001b[0m \u001b[0mStringIO\u001b[0m\u001b[0;34m\u001b[0m\u001b[0;34m\u001b[0m\u001b[0m\n\u001b[0m\u001b[1;32m      7\u001b[0m \u001b[0;32mfrom\u001b[0m \u001b[0mIPython\u001b[0m\u001b[0;34m.\u001b[0m\u001b[0mdisplay\u001b[0m \u001b[0;32mimport\u001b[0m \u001b[0mImage\u001b[0m\u001b[0;34m\u001b[0m\u001b[0;34m\u001b[0m\u001b[0m\n\u001b[1;32m      8\u001b[0m \u001b[0;32mfrom\u001b[0m \u001b[0msklearn\u001b[0m\u001b[0;34m.\u001b[0m\u001b[0mtree\u001b[0m \u001b[0;32mimport\u001b[0m \u001b[0mexport_graphviz\u001b[0m\u001b[0;34m\u001b[0m\u001b[0;34m\u001b[0m\u001b[0m\n",
      "\u001b[0;31mModuleNotFoundError\u001b[0m: No module named 'sklearn.externals.six'"
     ]
    }
   ],
   "source": [
    "# REQUIREMENTS:\n",
    "# pip install pydot2\n",
    "# brew install graphviz\n",
    "\n",
    "# Use graphviz to make a chart of the regression tree decision points:\n",
    "from sklearn.externals.six import StringIO  \n",
    "from IPython.display import Image  \n",
    "from sklearn.tree import export_graphviz\n",
    "import pydotplus\n",
    "\n",
    "dot_data = StringIO()  \n",
    "\n",
    "export_graphviz(dtree, out_file=dot_data,  \n",
    "                filled=True, rounded=True,\n",
    "                special_characters=True)  \n",
    "\n",
    "graph = pydotplus.graph_from_dot_data(dot_data.getvalue())  \n",
    "Image(graph.create_png())  "
   ]
  },
  {
   "cell_type": "code",
   "execution_count": 13,
   "metadata": {
    "scrolled": true,
    "slideshow": {
     "slide_type": "slide"
    }
   },
   "outputs": [
    {
     "data": {
      "image/png": "[encoded data removed]",
      "text/plain": [
       "<Figure size 648x504 with 1 Axes>"
      ]
     },
     "metadata": {
      "needs_background": "light"
     },
     "output_type": "display_data"
    }
   ],
   "source": [
    "# Plot the decisions for y based on the decision tree DAG above\n",
    "tree_plotter(d, tr, 'ysq', 3)"
   ]
  },
  {
   "cell_type": "markdown",
   "metadata": {
    "slideshow": {
     "slide_type": "slide"
    }
   },
   "source": [
    "<a id='overfit'></a>\n",
    "## Addressing overfitting\n",
    "\n",
    "---\n",
    "\n",
    "A stopping criterion determines when to no longer construct further nodes. \n",
    "\n",
    "We can stop when all records belong to the same class, or when all records have the same attributes. This *maximizes variance at the expense of bias*, leading to overfitting. \n",
    "\n",
    "**Setting a maximum depth:**\n",
    "\n",
    "A simple way to prevent overfitting is to set a hard limit on the \"depth\" of the decision tree.\n",
    "\n",
    "**Minimum observations to make a split:**\n",
    "\n",
    "An alternative to maximum depth (and can be used at the same time), is to specify the minimum number of datapoints reqired to make a split at a node.\n"
   ]
  },
  {
   "cell_type": "markdown",
   "metadata": {
    "slideshow": {
     "slide_type": "slide"
    }
   },
   "source": [
    "<a id='advantages'></a>\n",
    "## CART advantages\n",
    "---\n",
    "\n",
    "- Simple to understand and interpret. People are able to understand decision tree models after a brief explanation.\n",
    "    - Useful to work with non technical departments (marketing/sales).\n",
    "- Requires little data preparation. \n",
    "    - Other techniques often require data normalization, dummy variables need to be created and blank values to be removed.\n",
    "- Able to handle both numerical and categorical data. \n",
    "    - Other techniques are usually specialized in analyzing datasets that have only one type of variable.\n",
    "- Uses a **white box** model.\n",
    "    - If a given situation is observable in a model the explanation for the condition is easily explained by boolean logic.\n",
    "    - By contrast, in a **black box** model, the explanation for the results is typically difficult to understand, for example in neural networks.\n",
    "- Possible to validate a model using statistical tests. That makes it possible to account for the reliability of the model.\n",
    "- Robust. Performs well even if its assumptions are somewhat violated by the true model from which the data were generated.\n",
    "- Performs well with large datasets. Large amounts of data can be analyzed using standard computing resources in reasonable time.\n",
    "- Once trained can be implemented on hardware and has extremely fast execution.\n",
    "    - Real-time applications like trading, for example."
   ]
  },
  {
   "cell_type": "markdown",
   "metadata": {
    "slideshow": {
     "slide_type": "slide"
    }
   },
   "source": [
    "<a id='disadvantages'></a>\n",
    "## CART disadvantages\n",
    "---\n",
    "\n",
    "- Locally-optimal.\n",
    "    - Practical decision-tree learning algorithms are based on heuristics such as the greedy algorithm where locally-optimal decisions are made at each node. \n",
    "    - Such algorithms cannot guarantee to return the globally-optimal decision tree.\n",
    "- Overfitting.\n",
    "    - Decision-tree learners can create over-complex trees that do not generalize well from the training data.\n",
    "- There are concepts that are hard to learn because decision trees do not express them easily, such as XOR, parity or multiplexer problems. In such cases, the decision tree becomes prohibitively large.\n",
    "    - Neural networks, for example, are superior for these problems.\n",
    "- Decision tree learners create biased trees if some classes dominate. It is therefore recommended to balance the dataset prior to fitting with the decision tree."
   ]
  }
 ],
 "metadata": {
  "anaconda-cloud": {},
  "kernelspec": {
   "display_name": "Python 3",
   "language": "python",
   "name": "python3"
  },
  "language_info": {
   "codemirror_mode": {
    "name": "ipython",
    "version": 3
   },
   "file_extension": ".py",
   "mimetype": "text/x-python",
   "name": "python",
   "nbconvert_exporter": "python",
   "pygments_lexer": "ipython3",
   "version": "3.8.5"
  },
  "toc": {
   "base_numbering": 1,
   "nav_menu": {},
   "number_sections": true,
   "sideBar": true,
   "skip_h1_title": false,
   "title_cell": "Table of Contents",
   "title_sidebar": "Contents",
   "toc_cell": false,
   "toc_position": {},
   "toc_section_display": true,
   "toc_window_display": false
  },
  "widgets": {
   "state": {
    "215f9df61be245abb68ac4e4e3b2a8e8": {
     "views": [
      {
       "cell_index": 27
      }
     ]
    },
    "ea0ad7f7395b4f818edb97c1b726dc07": {
     "views": [
      {
       "cell_index": 27
      }
     ]
    }
   },
   "version": "1.2.0"
  }
 },
 "nbformat": 4,
 "nbformat_minor": 1
}
