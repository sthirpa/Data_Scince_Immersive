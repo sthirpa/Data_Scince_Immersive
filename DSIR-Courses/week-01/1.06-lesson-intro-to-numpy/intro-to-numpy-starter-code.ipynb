{
 "cells": [
  {
   "cell_type": "markdown",
   "id": "f26afa2f",
   "metadata": {},
   "source": [
    "<img src=\"http://imgur.com/1ZcRyrc.png\" style=\"float: left; margin: 20px; height: 55px\">\n",
    "\n",
    "# Introduction to NumPy\n",
    "\n",
    "_Authors: Hank Butler (ATX), James Hampton (SEA)_\n"
   ]
  },
  {
   "cell_type": "code",
   "execution_count": null,
   "id": "caf45fed",
   "metadata": {},
   "outputs": [],
   "source": [
    "import numpy as np"
   ]
  },
  {
   "cell_type": "markdown",
   "id": "37617b32",
   "metadata": {},
   "source": [
    "____\n",
    "\n",
    "## Address Students: Initial check for understanding\n",
    "\n",
    "Students should be able to explain what the first line of code did.\n",
    "\n",
    "Import does what? Telling Python to load an external module/library\n",
    "\n",
    "What is NumPY? Numerical Python, used for arrays/array aggregations and calculations, etc.\n",
    "\n",
    "What is the \"as np\" doing? Importing numpy under the alias np. Flesh out why we do this!\n",
    "\n",
    "We imported the library NumPy (short for 'Numerical Python') and gave it the alias 'np'\n",
    "\n",
    "____"
   ]
  },
  {
   "cell_type": "markdown",
   "id": "da4e791c",
   "metadata": {
    "tags": []
   },
   "source": [
    "# Learning Objectives\n",
    "\n",
    "## By the end of this lesson you should be able to:\n",
    "\n",
    "- Understand what an array is and why it's important\n",
    "- Create an array in NumPy\n",
    "- Perform operations and aggregations on arrays:\n",
    "    - Loops\n",
    "    - Slicing\n",
    "    - Aggregations\n",
    "    - Array Arithmetic (MATH)\n",
    "\n",
    "\n",
    "# Table of Contents\n",
    "\n",
    "#### 0. Definition + Purpose of an ndarray\n",
    "    - rectangular array of numbers (rows + columns, tabular data)\n",
    "    - slowness of loops\n",
    "    - built on C which is faster than python\n",
    "    - data types\n",
    "    \n",
    "#### 1. Creating arrays\n",
    "    - from lists (and nested lists)\n",
    "    - np.ones, np.zeros, np.linspace\n",
    "    - np.random\n",
    "\n",
    "#### 2. Array attributes\n",
    "    - dtype\n",
    "    - size\n",
    "    - shape\n",
    "    \n",
    "#### 3. Array Computations\n",
    "    - arithmetic operations (+, -, x, /)\n",
    "    - numpy operations (np.square, np.sin, np.cos)\n",
    "    - aggregating functions (.mean, .median, .unique + np. versions)\n",
    "\n",
    "#### 4. Array Slicing and Ordering\n",
    "    - slicing\n",
    "    - boolean arrays / conditions\n",
    "    - sorting arrays\n",
    "    "
   ]
  },
  {
   "cell_type": "markdown",
   "id": "f4145cfa",
   "metadata": {},
   "source": [
    "___\n",
    "\n",
    "## 0. Definition + Purpose of Arrays\n",
    "\n",
    "    - rectangular array of numbers\n",
    "    - Slowness of Loops, Speed\n",
    "    - Built on C, faster than Python\n",
    "    - Data Types\n",
    "    \n",
    "___"
   ]
  },
  {
   "cell_type": "markdown",
   "id": "e5adbf5c",
   "metadata": {},
   "source": [
    "### Rectangular Array of Numbers\n",
    "\n",
    "- Helps to think of all data fundamentally as an array of numbers\n",
    "- What do I mean by an array?\n",
    "    - A matrix in two-dimensions (rows x columns)\n",
    "- Slowness:\n",
    "    - Efficient storage and manipulation of data is a fundamental part of data science\n",
    "    - Python is built on-top of C. What do I mean by this?\n",
    "- Data Types:\n",
    "    - NumPy Arrays are similar to Python Lists, but provide more efficient storage.\n",
    "\n",
    "\n"
   ]
  },
  {
   "cell_type": "code",
   "execution_count": null,
   "id": "280b073d",
   "metadata": {},
   "outputs": [],
   "source": [
    "# Display built-in documentation (pop up window)\n",
    "\n",
    "np?"
   ]
  },
  {
   "cell_type": "markdown",
   "id": "971bca0d",
   "metadata": {},
   "source": [
    "# Arrays in NumPy\n",
    "\n",
    "NumPy arrays can be built in lots of ways (more on this later), but the most basic arrays can be built from simple lists"
   ]
  },
  {
   "cell_type": "code",
   "execution_count": null,
   "id": "df9c65d0",
   "metadata": {},
   "outputs": [],
   "source": [
    "# One-dimensional arrays are written with lowercase variables\n"
   ]
  },
  {
   "cell_type": "code",
   "execution_count": null,
   "id": "f8abf808",
   "metadata": {},
   "outputs": [],
   "source": [
    "# Arrays have some important attributes\n"
   ]
  },
  {
   "cell_type": "code",
   "execution_count": null,
   "id": "d142a255",
   "metadata": {},
   "outputs": [],
   "source": [
    "# Multidimensional arrays are lists of lists and are written with capital variables\n"
   ]
  },
  {
   "cell_type": "code",
   "execution_count": null,
   "id": "21cc2842",
   "metadata": {},
   "outputs": [],
   "source": []
  },
  {
   "cell_type": "markdown",
   "id": "f234246f",
   "metadata": {},
   "source": [
    "Notice that our shape `(2, 3)` is now a tuple of length **2**. This is because our array `X` has **2** rows and **3** columns, and so has two dimensions (rows and columns)."
   ]
  },
  {
   "cell_type": "code",
   "execution_count": null,
   "id": "366ed4c6",
   "metadata": {},
   "outputs": [],
   "source": [
    "# A complicated example\n",
    "# ALL sublists must be the same length (in this case, length 3)\n"
   ]
  },
  {
   "cell_type": "code",
   "execution_count": null,
   "id": "0535629a",
   "metadata": {},
   "outputs": [],
   "source": []
  },
  {
   "cell_type": "markdown",
   "id": "9247d6ea",
   "metadata": {},
   "source": [
    "Our array now has **3** dimensions--our shape tuple `(2,2,3)` is length **3**.\n",
    "\n",
    "**Nearly all** of the arrays we will use will be **two dimensional** (rows and columns, i.e. \"tabular data\"). So don't worry too much about 3dim or higher-dim arrays for now."
   ]
  },
  {
   "cell_type": "markdown",
   "id": "477adf20",
   "metadata": {},
   "source": [
    "----\n",
    "### PRACTICE\n",
    "\n",
    "Create a one-dimensional array with your own values\n",
    "\n",
    "Create a two-dimensional array with your own values\n",
    "\n",
    "- Note: you can start with a list then convert it to an array\n",
    "----"
   ]
  },
  {
   "cell_type": "markdown",
   "id": "9b6934ad",
   "metadata": {
    "tags": []
   },
   "source": [
    "# Array Computation\n",
    "\n",
    "This is the **bread and butter** of NumPy. The entire reason NumPy exists is because it can perform these mathematical operations **with X-TREME efficiency**."
   ]
  },
  {
   "cell_type": "markdown",
   "id": "d70880d8",
   "metadata": {},
   "source": [
    "## Arrays And Single Values"
   ]
  },
  {
   "cell_type": "code",
   "execution_count": null,
   "id": "f0eab545",
   "metadata": {},
   "outputs": [],
   "source": [
    "# We can use standard Python arithmetic operations on numpy arrays\n",
    "\n"
   ]
  },
  {
   "cell_type": "code",
   "execution_count": null,
   "id": "b19c7746",
   "metadata": {},
   "outputs": [],
   "source": [
    "# Using a math operation with a single value \"broadcasts\" the operation to EACH ELEMENT in the array\n"
   ]
  },
  {
   "cell_type": "code",
   "execution_count": null,
   "id": "79d0180d",
   "metadata": {},
   "outputs": [],
   "source": []
  },
  {
   "cell_type": "code",
   "execution_count": null,
   "id": "9217606e",
   "metadata": {},
   "outputs": [],
   "source": [
    "# Can also do modulo\n"
   ]
  },
  {
   "cell_type": "code",
   "execution_count": null,
   "id": "f6c3b628",
   "metadata": {},
   "outputs": [],
   "source": []
  },
  {
   "cell_type": "markdown",
   "id": "7c0f3689",
   "metadata": {},
   "source": [
    "----\n",
    "### PRACTICE\n",
    "\n",
    "1. Create an array from 1 to 10 (INCLUSIVE!) with `np.arange`\n",
    "\n",
    "2. Add 2 to each element in your array\n",
    "\n",
    "3. Multiply each element by 4\n",
    "\n",
    "4. Subtract 5 from each element\n",
    "\n",
    "5. Divide each element by 3\n",
    "\n",
    "6. Divide each element by 2 using floor division\n",
    "\n",
    "----"
   ]
  },
  {
   "cell_type": "code",
   "execution_count": null,
   "id": "99c1c1a0",
   "metadata": {},
   "outputs": [],
   "source": [
    "###---SOLUTION---###\n",
    "\n"
   ]
  },
  {
   "cell_type": "markdown",
   "id": "bb0c951f",
   "metadata": {},
   "source": [
    "## Arrays of Equal Size\n",
    "Operations between arrays of equal size are done component-wise"
   ]
  },
  {
   "cell_type": "code",
   "execution_count": null,
   "id": "54ef0117",
   "metadata": {},
   "outputs": [],
   "source": []
  },
  {
   "cell_type": "markdown",
   "id": "22106b91",
   "metadata": {},
   "source": [
    "----\n",
    "### PRACTICE\n",
    "\n",
    "With `X = np.array([[1,1], [2, 2]])` and `Y = np.array([[1, 2], [1, 2]])`, \n",
    "\n",
    "compute:\n",
    "\n",
    "- `X + Y`\n",
    "- `X / Y`\n",
    "----"
   ]
  },
  {
   "cell_type": "markdown",
   "id": "a1e3a167",
   "metadata": {},
   "source": [
    "## Summary Statistics and Aggregate functions\n",
    "\n",
    "NumPy will calculate means and standard deviations for us!"
   ]
  },
  {
   "cell_type": "code",
   "execution_count": null,
   "id": "cd5608d0",
   "metadata": {},
   "outputs": [],
   "source": []
  },
  {
   "cell_type": "code",
   "execution_count": null,
   "id": "7c6b381a",
   "metadata": {},
   "outputs": [],
   "source": [
    "# Two dimensions\n"
   ]
  },
  {
   "cell_type": "markdown",
   "id": "1375c120",
   "metadata": {},
   "source": [
    "NumPy can also compute sums:"
   ]
  },
  {
   "cell_type": "code",
   "execution_count": null,
   "id": "9fd85702",
   "metadata": {},
   "outputs": [],
   "source": []
  },
  {
   "cell_type": "markdown",
   "id": "2633e02b",
   "metadata": {},
   "source": [
    "# Slicing Arrays\n",
    "\n",
    "Each dimension of an array behaves a lot like a Python list"
   ]
  },
  {
   "cell_type": "code",
   "execution_count": null,
   "id": "932b98de",
   "metadata": {},
   "outputs": [],
   "source": []
  },
  {
   "cell_type": "markdown",
   "id": "45c890ed",
   "metadata": {},
   "source": [
    "----\n",
    "### PRACTICE\n",
    "\n",
    "Use indexing on `X = np.array([[1,2,3,4,5], [6,7,8,9,10], [11,12, 13, 14, 15], [16, 17, 18, 19, 20]])` to:\n",
    "\n",
    "- Get `10` from X\n",
    "- Get only the 2nd column of X\n",
    "- Get the second and third rows, along with the first and second columns, of X\n",
    "----"
   ]
  },
  {
   "cell_type": "code",
   "execution_count": null,
   "id": "e5c63669",
   "metadata": {},
   "outputs": [],
   "source": [
    "# Solutions\n"
   ]
  },
  {
   "cell_type": "markdown",
   "id": "98a0a3f4",
   "metadata": {},
   "source": [
    "# Intermediate NumPy"
   ]
  },
  {
   "cell_type": "markdown",
   "id": "ea40f5ba",
   "metadata": {},
   "source": [
    "## Creating Arrays Automatically"
   ]
  },
  {
   "cell_type": "code",
   "execution_count": null,
   "id": "f114b8de",
   "metadata": {},
   "outputs": [],
   "source": [
    "# An array of all 0s\n"
   ]
  },
  {
   "cell_type": "code",
   "execution_count": null,
   "id": "7ba8a640",
   "metadata": {},
   "outputs": [],
   "source": [
    "# An array of all 1s\n"
   ]
  },
  {
   "cell_type": "code",
   "execution_count": null,
   "id": "c78f474e",
   "metadata": {},
   "outputs": [],
   "source": [
    "# An array of all the same value\n"
   ]
  },
  {
   "cell_type": "markdown",
   "id": "b056306d",
   "metadata": {},
   "source": [
    "One particular kind of array-creation is especially important: **ranges**.  Creating ranges in NumPy is similar to how we've seen ranges in Python."
   ]
  },
  {
   "cell_type": "code",
   "execution_count": null,
   "id": "27ac21d6",
   "metadata": {},
   "outputs": [],
   "source": [
    "# From start to stop - 1\n"
   ]
  },
  {
   "cell_type": "code",
   "execution_count": null,
   "id": "e7b6eadb",
   "metadata": {},
   "outputs": [],
   "source": [
    "# Step through by 2s\n"
   ]
  },
  {
   "cell_type": "code",
   "execution_count": null,
   "id": "f3537370",
   "metadata": {},
   "outputs": [],
   "source": [
    "# Create a range of evenly-spaced values from START to STOP\n"
   ]
  },
  {
   "cell_type": "code",
   "execution_count": null,
   "id": "042416eb",
   "metadata": {},
   "outputs": [],
   "source": []
  },
  {
   "cell_type": "markdown",
   "id": "81e4189a",
   "metadata": {},
   "source": [
    "`np.linspace` is going to be very helpful later in the course when we begin performing Gridsearch on model hyperparameters. \n",
    "\n",
    "**You will understand all of these terms in a few weeks!**"
   ]
  },
  {
   "cell_type": "markdown",
   "id": "aba7eae1",
   "metadata": {},
   "source": [
    "----\n",
    "### PRACTICE\n",
    "\n",
    "1. Create an array of 10 values, evenly spaced between 0 and 100\n",
    "- Hint: Use np.linspace()\n",
    "\n",
    "2. Create a 3x3 array of all zeros\n",
    "\n",
    "3. Create an 2x4 array of your favorite number\n",
    "----"
   ]
  },
  {
   "cell_type": "code",
   "execution_count": null,
   "id": "b66d7a9e",
   "metadata": {},
   "outputs": [],
   "source": [
    "### --- SOLUTION --- ###\n",
    "\n"
   ]
  },
  {
   "cell_type": "markdown",
   "id": "783a5060",
   "metadata": {},
   "source": [
    "## Random number generation with NumPy\n",
    "\n",
    "We can use NumPy to generate **arrays filled with random values**."
   ]
  },
  {
   "cell_type": "code",
   "execution_count": null,
   "id": "6900419e",
   "metadata": {},
   "outputs": [],
   "source": [
    "# Create a 3x3 array of evenly distributed random values b/w 0 and 1\n",
    "\n"
   ]
  },
  {
   "cell_type": "code",
   "execution_count": null,
   "id": "bd247911",
   "metadata": {},
   "outputs": [],
   "source": [
    "# Create a 3x3 array of normally distributed (bell-curve) random values\n",
    "# with mean 0 and std dev 1\n",
    "\n"
   ]
  },
  {
   "cell_type": "code",
   "execution_count": null,
   "id": "4699a26f",
   "metadata": {},
   "outputs": [],
   "source": [
    "#3x3 array of random integers from the interval [0, 10]\n",
    "\n"
   ]
  },
  {
   "cell_type": "markdown",
   "id": "80990da9",
   "metadata": {},
   "source": [
    "## Special Values in NumPY"
   ]
  },
  {
   "cell_type": "markdown",
   "id": "73df10ee",
   "metadata": {},
   "source": [
    "### np.nan\n",
    "\n",
    "Stands for **\"not a number\"**\n",
    "\n",
    "Commonly used to represent **missing values.**\n",
    "\n",
    "This will appear later in Pandas (as NaN)"
   ]
  },
  {
   "cell_type": "code",
   "execution_count": null,
   "id": "74bd34d2",
   "metadata": {},
   "outputs": [],
   "source": []
  },
  {
   "cell_type": "code",
   "execution_count": null,
   "id": "e37bda54",
   "metadata": {},
   "outputs": [],
   "source": [
    "# NaN doesn't like to cooperate with numbers\n"
   ]
  },
  {
   "cell_type": "code",
   "execution_count": null,
   "id": "6ed5eb25",
   "metadata": {},
   "outputs": [],
   "source": []
  },
  {
   "cell_type": "markdown",
   "id": "64b35b52",
   "metadata": {},
   "source": [
    "### np.inf\n",
    "\n",
    "'infinity'\n",
    "\n",
    "Good for when you want to do a comparison that you want to fail or succeed.\n",
    "\n",
    "EG. set your max value to np.inf and any number will be less than your max value."
   ]
  },
  {
   "cell_type": "code",
   "execution_count": null,
   "id": "43c8110c",
   "metadata": {},
   "outputs": [],
   "source": []
  },
  {
   "cell_type": "code",
   "execution_count": null,
   "id": "68c9ca50",
   "metadata": {},
   "outputs": [],
   "source": []
  },
  {
   "cell_type": "code",
   "execution_count": null,
   "id": "6d3783b0",
   "metadata": {},
   "outputs": [],
   "source": []
  },
  {
   "cell_type": "code",
   "execution_count": null,
   "id": "ce201ec4",
   "metadata": {},
   "outputs": [],
   "source": [
    "# Check if element in array is pos or neg inf\n",
    "\n"
   ]
  },
  {
   "cell_type": "markdown",
   "id": "3a475ac8",
   "metadata": {},
   "source": [
    "## Intermediate Numpy Slicing\n",
    "\n",
    "You can slice NumPy arrays using _boolean masks_. We'll go through some simple examples here."
   ]
  },
  {
   "cell_type": "code",
   "execution_count": null,
   "id": "45f0899c",
   "metadata": {},
   "outputs": [],
   "source": []
  },
  {
   "cell_type": "code",
   "execution_count": null,
   "id": "db23d6d2",
   "metadata": {},
   "outputs": [],
   "source": []
  },
  {
   "cell_type": "code",
   "execution_count": null,
   "id": "c15615da",
   "metadata": {},
   "outputs": [],
   "source": [
    "# For one-liners, conditions must be separated by parentheses\n"
   ]
  },
  {
   "cell_type": "markdown",
   "id": "c1e5d2a6",
   "metadata": {},
   "source": [
    "## Intermediate NumPy functions\n",
    "\n",
    "NumPy has efficient implementations of standard arithmetic operations (multiplication, addition, epxonentation, division). It also gives us access to some useful math functions"
   ]
  },
  {
   "cell_type": "code",
   "execution_count": null,
   "id": "2b7ed2eb",
   "metadata": {},
   "outputs": [],
   "source": [
    "# Absolute value\n"
   ]
  },
  {
   "cell_type": "code",
   "execution_count": null,
   "id": "b5a9e13f",
   "metadata": {},
   "outputs": [],
   "source": [
    "# Trigonometric Functions\n",
    "# Also cos and tan\n"
   ]
  },
  {
   "cell_type": "code",
   "execution_count": null,
   "id": "d093204c",
   "metadata": {},
   "outputs": [],
   "source": [
    "# Logs\n",
    "\n",
    " # Values must be strictly positive (greater than 0)"
   ]
  },
  {
   "cell_type": "code",
   "execution_count": null,
   "id": "a46ccb80",
   "metadata": {},
   "outputs": [],
   "source": [
    "# exponents -- 2 ** x, 3 ** x\n"
   ]
  },
  {
   "cell_type": "markdown",
   "id": "2af533fd",
   "metadata": {},
   "source": [
    "### Exponents and Logs"
   ]
  },
  {
   "cell_type": "code",
   "execution_count": null,
   "id": "3242d8c8",
   "metadata": {},
   "outputs": [],
   "source": [
    "#Inverse of exponentials are called logarithms, np.log gives you basic natural log\n",
    "\n"
   ]
  },
  {
   "cell_type": "markdown",
   "id": "d79e16b0",
   "metadata": {},
   "source": [
    "### Aggregate Functions"
   ]
  },
  {
   "cell_type": "code",
   "execution_count": null,
   "id": "86c3963d",
   "metadata": {},
   "outputs": [],
   "source": [
    "#Calling .reduce on .add returns the sum of all elements\n",
    "\n",
    "\n",
    "\n",
    "# Not sure if we need to show these two, they were the first that popped up on my tutorial"
   ]
  },
  {
   "cell_type": "code",
   "execution_count": null,
   "id": "bcad851f",
   "metadata": {},
   "outputs": [],
   "source": [
    "#Callling .reduce on .multiply results in product of all elements\n"
   ]
  },
  {
   "cell_type": "code",
   "execution_count": null,
   "id": "2d85ebb7",
   "metadata": {},
   "outputs": [],
   "source": []
  },
  {
   "cell_type": "code",
   "execution_count": null,
   "id": "e0844132",
   "metadata": {},
   "outputs": [],
   "source": [
    "# Show you how much faster arrays are\n",
    "\n"
   ]
  },
  {
   "cell_type": "markdown",
   "id": "28ce807f",
   "metadata": {},
   "source": [
    "### Other useful agg functions\n",
    "\n",
    "- np.std => std deviation\n",
    "- np.mean => mean of elements\n",
    "- np.var => compute variance\n",
    "- np.median => compute median\n",
    "- np.percentile => compute rank-based stats of elements\n",
    "- np.any => evaluate whether any elements are true\n",
    "- np.all => evaluate whether all elements are true"
   ]
  },
  {
   "cell_type": "markdown",
   "id": "f3089a5d",
   "metadata": {},
   "source": [
    "---\n",
    "\n",
    "## 4. Slicing, Ordering, Comparison Operators\n",
    "\n",
    "---"
   ]
  },
  {
   "cell_type": "markdown",
   "id": "2aab1853",
   "metadata": {},
   "source": [
    "### Slicing"
   ]
  },
  {
   "cell_type": "code",
   "execution_count": null,
   "id": "645a8b69",
   "metadata": {},
   "outputs": [],
   "source": []
  },
  {
   "cell_type": "markdown",
   "id": "c1806bb1",
   "metadata": {},
   "source": [
    "Basically same as slicing we did with lists"
   ]
  },
  {
   "cell_type": "code",
   "execution_count": null,
   "id": "fef3c7f9",
   "metadata": {},
   "outputs": [],
   "source": []
  },
  {
   "cell_type": "code",
   "execution_count": null,
   "id": "a3487ec0",
   "metadata": {},
   "outputs": [],
   "source": [
    "# 2-dimensional array\n"
   ]
  },
  {
   "cell_type": "markdown",
   "id": "6f3a5d5f",
   "metadata": {},
   "source": [
    "### comparison operators / boolean arrays"
   ]
  },
  {
   "cell_type": "code",
   "execution_count": null,
   "id": "f6149465",
   "metadata": {},
   "outputs": [],
   "source": []
  },
  {
   "cell_type": "code",
   "execution_count": null,
   "id": "3dd497e9",
   "metadata": {},
   "outputs": [],
   "source": [
    "# Two dimensional example\n",
    "\n"
   ]
  },
  {
   "cell_type": "code",
   "execution_count": null,
   "id": "001e7422",
   "metadata": {},
   "outputs": [],
   "source": []
  },
  {
   "cell_type": "code",
   "execution_count": null,
   "id": "f834365c",
   "metadata": {},
   "outputs": [],
   "source": []
  },
  {
   "cell_type": "code",
   "execution_count": null,
   "id": "ed28e588",
   "metadata": {},
   "outputs": [],
   "source": [
    "# Counting entries\n"
   ]
  },
  {
   "cell_type": "code",
   "execution_count": null,
   "id": "389d10cd",
   "metadata": {},
   "outputs": [],
   "source": [
    "#Boolean arrays and masks\n",
    "\n"
   ]
  },
  {
   "cell_type": "code",
   "execution_count": null,
   "id": "6e6985cc",
   "metadata": {},
   "outputs": [],
   "source": []
  },
  {
   "cell_type": "code",
   "execution_count": null,
   "id": "4d1a7c6d",
   "metadata": {},
   "outputs": [],
   "source": []
  },
  {
   "cell_type": "markdown",
   "id": "5418557c",
   "metadata": {},
   "source": [
    "### Sorting Arrays"
   ]
  },
  {
   "cell_type": "code",
   "execution_count": null,
   "id": "61290bdd",
   "metadata": {},
   "outputs": [],
   "source": []
  },
  {
   "cell_type": "code",
   "execution_count": null,
   "id": "1ce0376e",
   "metadata": {},
   "outputs": [],
   "source": [
    "# Sorting rows / columns\n",
    "\n"
   ]
  },
  {
   "cell_type": "code",
   "execution_count": null,
   "id": "277926b1",
   "metadata": {},
   "outputs": [],
   "source": [
    "# Sort Each Column of X\n"
   ]
  },
  {
   "cell_type": "code",
   "execution_count": null,
   "id": "d10e6b95",
   "metadata": {},
   "outputs": [],
   "source": [
    "#sort each row of X\n"
   ]
  },
  {
   "cell_type": "markdown",
   "id": "543d85e4",
   "metadata": {},
   "source": [
    "### Reshaping Arrays"
   ]
  },
  {
   "cell_type": "code",
   "execution_count": null,
   "id": "f7de8e52",
   "metadata": {},
   "outputs": [],
   "source": []
  },
  {
   "cell_type": "code",
   "execution_count": null,
   "id": "086d00e0",
   "metadata": {},
   "outputs": [],
   "source": [
    "#-1 automatically decides the number of cols"
   ]
  },
  {
   "cell_type": "code",
   "execution_count": null,
   "id": "a367f8bd",
   "metadata": {},
   "outputs": [],
   "source": []
  },
  {
   "cell_type": "markdown",
   "id": "e14323f8",
   "metadata": {},
   "source": [
    "---"
   ]
  },
  {
   "cell_type": "code",
   "execution_count": null,
   "id": "fc8f9522",
   "metadata": {},
   "outputs": [],
   "source": []
  }
 ],
 "metadata": {
  "kernelspec": {
   "display_name": "Python 3",
   "language": "python",
   "name": "python3"
  },
  "language_info": {
   "codemirror_mode": {
    "name": "ipython",
    "version": 3
   },
   "file_extension": ".py",
   "mimetype": "text/x-python",
   "name": "python",
   "nbconvert_exporter": "python",
   "pygments_lexer": "ipython3",
   "version": "3.8.2"
  }
 },
 "nbformat": 4,
 "nbformat_minor": 5
}
