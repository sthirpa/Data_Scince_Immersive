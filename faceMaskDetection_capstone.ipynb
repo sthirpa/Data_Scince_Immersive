{
 "cells": [
  {
   "cell_type": "code",
   "execution_count": 2,
   "id": "764bbba6-8b00-43ac-9053-839663de3dee",
   "metadata": {},
   "outputs": [],
   "source": [
    "# import the necessary packages\n",
    "import os\n",
    "import cv2\n",
    "import numpy as np\n",
    "import pandas as pd\n",
    "import matplotlib.pyplot as plt\n",
    "from sklearn.model_selection import train_test_split\n",
    "from sklearn.metrics import classification_report, confusion_matrix\n",
    "from tensorflow.keras.applications.vgg16 import VGG16\n",
    "from tensorflow.keras.layers import Input, Dense, Flatten\n",
    "from tensorflow.keras.models import Model, load_model\n",
    "from tensorflow.keras.preprocessing.image import ImageDataGenerator\n",
    "from tensorflow.keras.utils import to_categorical"
   ]
  },
  {
   "cell_type": "markdown",
   "id": "301922cd-6617-4329-9357-adc8278d3c8b",
   "metadata": {},
   "source": [
    "The dataset has subfolders:\n",
    "\n",
    "```   \n",
    "MaskDataset\n",
    "    |-- Test\n",
    "    |    . mask\n",
    "    |    . noMask\n",
    "    |-- Train\n",
    "    |    . mask\n",
    "    |    . noMask\n",
    "    |-- Validation\n",
    "         . mask\n",
    "         . noMask\n",
    "    \n",
    "```"
   ]
  },
  {
   "cell_type": "markdown",
   "id": "2df5eac0-0b7f-4cc2-9fe8-bf128d763e1f",
   "metadata": {},
   "source": [
    "###  Fetching images from subfolder for visualization of sample images"
   ]
  },
  {
   "cell_type": "code",
   "execution_count": null,
   "id": "c1d7f9cf-4b46-4e29-849c-80a92747f411",
   "metadata": {},
   "outputs": [],
   "source": []
  },
  {
   "cell_type": "code",
   "execution_count": null,
   "id": "d8df7131-4a8e-4bd7-8911-bba19a53943f",
   "metadata": {},
   "outputs": [],
   "source": []
  },
  {
   "cell_type": "code",
   "execution_count": null,
   "id": "6c6fe153-98bf-4f31-9fe5-17dd8881aa2d",
   "metadata": {},
   "outputs": [],
   "source": []
  },
  {
   "cell_type": "code",
   "execution_count": null,
   "id": "8bea02c3-ec26-43fa-ae27-d79391552b1a",
   "metadata": {},
   "outputs": [],
   "source": []
  },
  {
   "cell_type": "markdown",
   "id": "3eb62d00-20ea-4ed3-9d33-3395be644ad4",
   "metadata": {},
   "source": [
    "### Preprocessing and Modeling\n",
    "\n",
    "   * For face detection\n",
    "   * For mask classification"
   ]
  },
  {
   "cell_type": "code",
   "execution_count": null,
   "id": "1c0fffae-fe35-4707-98f7-45e0d37a43bb",
   "metadata": {},
   "outputs": [],
   "source": []
  },
  {
   "cell_type": "code",
   "execution_count": null,
   "id": "c1c78833-fcac-444d-bbfa-54eab04b5a08",
   "metadata": {},
   "outputs": [],
   "source": []
  },
  {
   "cell_type": "code",
   "execution_count": null,
   "id": "cf2b97b5-9861-4e1a-b6da-c972db64ba21",
   "metadata": {},
   "outputs": [],
   "source": []
  },
  {
   "cell_type": "code",
   "execution_count": null,
   "id": "8280e56c-46d5-4a50-a8aa-a0a1929634da",
   "metadata": {},
   "outputs": [],
   "source": []
  },
  {
   "cell_type": "code",
   "execution_count": null,
   "id": "07ff375b-50a5-4b53-a4e0-e54254351b80",
   "metadata": {},
   "outputs": [],
   "source": []
  }
 ],
 "metadata": {
  "kernelspec": {
   "display_name": "Python 3",
   "language": "python",
   "name": "python3"
  },
  "language_info": {
   "codemirror_mode": {
    "name": "ipython",
    "version": 3
   },
   "file_extension": ".py",
   "mimetype": "text/x-python",
   "name": "python",
   "nbconvert_exporter": "python",
   "pygments_lexer": "ipython3",
   "version": "3.8.8"
  }
 },
 "nbformat": 4,
 "nbformat_minor": 5
}
